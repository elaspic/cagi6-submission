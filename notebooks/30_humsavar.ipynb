{
 "cells": [
  {
   "cell_type": "markdown",
   "id": "26c81e96-6b41-41fa-80a6-6360c482eb58",
   "metadata": {},
   "source": [
    "## Summary\n",
    "\n",
    "---"
   ]
  },
  {
   "cell_type": "markdown",
   "id": "ec276dec-6afa-4b57-bbfc-a11e04a8767e",
   "metadata": {},
   "source": [
    "## Imports"
   ]
  },
  {
   "cell_type": "code",
   "execution_count": 1,
   "id": "539f4edf-ca04-4bef-b5c9-a6d402f7570b",
   "metadata": {},
   "outputs": [
    {
     "name": "stderr",
     "output_type": "stream",
     "text": [
      "Warning: importing 'simtk.openmm' is deprecated.  Import 'openmm' instead.\n"
     ]
    }
   ],
   "source": [
    "import concurrent.futures\n",
    "import contextlib\n",
    "import gzip\n",
    "import itertools\n",
    "import logging\n",
    "import os\n",
    "import pickle\n",
    "import re\n",
    "import socket\n",
    "import subprocess\n",
    "import tempfile\n",
    "import time\n",
    "import urllib.request\n",
    "from pathlib import Path\n",
    "\n",
    "import dotenv\n",
    "import more_itertools\n",
    "import numpy as np\n",
    "import pandas as pd\n",
    "import pyarrow as pa\n",
    "import pyarrow.parquet as pq\n",
    "import synapseclient\n",
    "import synapseutils\n",
    "from kmbio import PDB\n",
    "from kmtools import structure_tools\n",
    "from tqdm.auto import tqdm"
   ]
  },
  {
   "cell_type": "markdown",
   "id": "5be0ca05-c038-414f-ba84-b2ae8013088b",
   "metadata": {},
   "source": [
    "## Parameters"
   ]
  },
  {
   "cell_type": "code",
   "execution_count": 2,
   "id": "10e1faee-9f6a-40d8-8819-272b1c9837bb",
   "metadata": {},
   "outputs": [
    {
     "data": {
      "text/plain": [
       "PosixPath('/home/kimlab5/strokach/workspace/elaspic/elaspic2-cagi6/notebooks/30_humsavar')"
      ]
     },
     "execution_count": 2,
     "metadata": {},
     "output_type": "execute_result"
    }
   ],
   "source": [
    "NOTEBOOK_DIR = Path(\"30_humsavar\").resolve()\n",
    "NOTEBOOK_DIR.mkdir(exist_ok=True)\n",
    "\n",
    "NOTEBOOK_DIR"
   ]
  },
  {
   "cell_type": "code",
   "execution_count": 3,
   "id": "58e2d58e-50a5-46cb-b9f2-64394d98d4c7",
   "metadata": {},
   "outputs": [
    {
     "data": {
      "text/plain": [
       "32"
      ]
     },
     "execution_count": 3,
     "metadata": {},
     "output_type": "execute_result"
    }
   ],
   "source": [
    "if \"scinet\" in socket.gethostname():\n",
    "    CPU_COUNT = 40\n",
    "else:\n",
    "    CPU_COUNT = max(1, len(os.sched_getaffinity(0)))\n",
    "\n",
    "CPU_COUNT"
   ]
  },
  {
   "cell_type": "markdown",
   "id": "f0467c00-009a-4ee6-b5db-0a5f22c25137",
   "metadata": {},
   "source": [
    "## Download data"
   ]
  },
  {
   "cell_type": "code",
   "execution_count": 4,
   "id": "bc15ad8e-cc4a-4874-a05b-e98ffb050f51",
   "metadata": {},
   "outputs": [],
   "source": [
    "if not NOTEBOOK_DIR.joinpath(\"humsavar.txt\").is_file():\n",
    "    urllib.request.urlretrieve(\n",
    "        \"https://www.uniprot.org/docs/humsavar.txt\", NOTEBOOK_DIR.joinpath(\"humsavar.txt\")\n",
    "    )"
   ]
  },
  {
   "cell_type": "code",
   "execution_count": 5,
   "id": "e4a67600-b45e-47e2-9e73-4779a834785b",
   "metadata": {},
   "outputs": [],
   "source": [
    "# !head {NOTEBOOK_DIR.joinpath(\"humsavar.txt\")} -n 100"
   ]
  },
  {
   "cell_type": "code",
   "execution_count": 6,
   "id": "4e4e1e1b-95c8-4767-b6b7-1b5334eff3ad",
   "metadata": {},
   "outputs": [],
   "source": [
    "# !grep 'p.Ile34306As' {NOTEBOOK_DIR.joinpath(\"humsavar.txt\")}"
   ]
  },
  {
   "cell_type": "markdown",
   "id": "4d36d995-7bea-48cc-971b-cf926cbb17f8",
   "metadata": {},
   "source": [
    "## Load data"
   ]
  },
  {
   "cell_type": "code",
   "execution_count": 7,
   "id": "7ca734fd-b1c5-478a-baed-7a9ff7e11675",
   "metadata": {},
   "outputs": [],
   "source": [
    "@contextlib.contextmanager\n",
    "def tracker(df):\n",
    "    num_rows = len(df)\n",
    "\n",
    "    def wrapped(df):\n",
    "        if len(df) != num_rows:\n",
    "            print(f\"Lost {num_rows - len(df)} rows!\")\n",
    "        return df\n",
    "\n",
    "    yield wrapped"
   ]
  },
  {
   "cell_type": "markdown",
   "id": "bc5ae04a-cd06-453e-a083-03d01728cdd2",
   "metadata": {},
   "source": [
    "### `humsavar_df`"
   ]
  },
  {
   "cell_type": "code",
   "execution_count": 8,
   "id": "850d980f-ba30-4bdd-9f98-6c0fdfa4acb1",
   "metadata": {},
   "outputs": [
    {
     "data": {
      "text/plain": [
       "79745"
      ]
     },
     "execution_count": 8,
     "metadata": {},
     "output_type": "execute_result"
    }
   ],
   "source": [
    "rows = []\n",
    "with NOTEBOOK_DIR.joinpath(\"humsavar.txt\").open(\"rt\") as fin:\n",
    "    for line in itertools.islice(fin, 44, None):\n",
    "        line = \" \".join(line.split())\n",
    "        row = line.split(\" \", 6)\n",
    "        if len(row[0]) > 10:\n",
    "            row = (row[0][:10], row[0][10:], *row[1:-2], \" \".join(row[-2:]))\n",
    "        rows.append(row)\n",
    "\n",
    "humsavar_df = pd.DataFrame(\n",
    "    rows[:-5],\n",
    "    columns=[\"gene_name\", \"uniprot_id\", \"ft_id\", \"aa_change\", \"effect\", \"dbSNP\", \"disease\"],\n",
    ").replace(\"-\", np.nan)\n",
    "\n",
    "len(humsavar_df)"
   ]
  },
  {
   "cell_type": "code",
   "execution_count": 9,
   "id": "0691a847-f57f-437d-9b17-14dd9bebbc0e",
   "metadata": {},
   "outputs": [
    {
     "data": {
      "text/plain": [
       "78711"
      ]
     },
     "execution_count": 9,
     "metadata": {},
     "output_type": "execute_result"
    }
   ],
   "source": [
    "humsavar_df = (\n",
    "    #\n",
    "    humsavar_df\n",
    "    # Keep only one row per mutation (ignore multiple diseases)\n",
    "    .drop(\"disease\", axis=1).drop_duplicates()\n",
    "    # Remove rows with conflicting effects\n",
    "    .drop_duplicates([\"uniprot_id\", \"aa_change\"], keep=False)\n",
    ")\n",
    "\n",
    "len(humsavar_df)"
   ]
  },
  {
   "cell_type": "code",
   "execution_count": 10,
   "id": "21367b30-2bdf-4ede-b007-27ca454ae093",
   "metadata": {},
   "outputs": [
    {
     "data": {
      "text/html": [
       "<div>\n",
       "<style scoped>\n",
       "    .dataframe tbody tr th:only-of-type {\n",
       "        vertical-align: middle;\n",
       "    }\n",
       "\n",
       "    .dataframe tbody tr th {\n",
       "        vertical-align: top;\n",
       "    }\n",
       "\n",
       "    .dataframe thead th {\n",
       "        text-align: right;\n",
       "    }\n",
       "</style>\n",
       "<table border=\"1\" class=\"dataframe\">\n",
       "  <thead>\n",
       "    <tr style=\"text-align: right;\">\n",
       "      <th></th>\n",
       "      <th>gene_name</th>\n",
       "      <th>uniprot_id</th>\n",
       "      <th>ft_id</th>\n",
       "      <th>aa_change</th>\n",
       "      <th>effect</th>\n",
       "      <th>dbSNP</th>\n",
       "    </tr>\n",
       "  </thead>\n",
       "  <tbody>\n",
       "    <tr>\n",
       "      <th>0</th>\n",
       "      <td>A1BG</td>\n",
       "      <td>P04217</td>\n",
       "      <td>VAR_018369</td>\n",
       "      <td>p.His52Arg</td>\n",
       "      <td>LB/B</td>\n",
       "      <td>rs893184</td>\n",
       "    </tr>\n",
       "    <tr>\n",
       "      <th>1</th>\n",
       "      <td>A1BG</td>\n",
       "      <td>P04217</td>\n",
       "      <td>VAR_018370</td>\n",
       "      <td>p.His395Arg</td>\n",
       "      <td>LB/B</td>\n",
       "      <td>rs2241788</td>\n",
       "    </tr>\n",
       "    <tr>\n",
       "      <th>2</th>\n",
       "      <td>A1CF</td>\n",
       "      <td>Q9NQ94</td>\n",
       "      <td>VAR_052201</td>\n",
       "      <td>p.Val555Met</td>\n",
       "      <td>LB/B</td>\n",
       "      <td>rs9073</td>\n",
       "    </tr>\n",
       "    <tr>\n",
       "      <th>3</th>\n",
       "      <td>A1CF</td>\n",
       "      <td>Q9NQ94</td>\n",
       "      <td>VAR_059821</td>\n",
       "      <td>p.Ala558Ser</td>\n",
       "      <td>LB/B</td>\n",
       "      <td>rs11817448</td>\n",
       "    </tr>\n",
       "  </tbody>\n",
       "</table>\n",
       "</div>"
      ],
      "text/plain": [
       "  gene_name uniprot_id       ft_id    aa_change effect       dbSNP\n",
       "0      A1BG     P04217  VAR_018369   p.His52Arg   LB/B    rs893184\n",
       "1      A1BG     P04217  VAR_018370  p.His395Arg   LB/B   rs2241788\n",
       "2      A1CF     Q9NQ94  VAR_052201  p.Val555Met   LB/B      rs9073\n",
       "3      A1CF     Q9NQ94  VAR_059821  p.Ala558Ser   LB/B  rs11817448"
      ]
     },
     "metadata": {},
     "output_type": "display_data"
    },
    {
     "data": {
      "text/html": [
       "<div>\n",
       "<style scoped>\n",
       "    .dataframe tbody tr th:only-of-type {\n",
       "        vertical-align: middle;\n",
       "    }\n",
       "\n",
       "    .dataframe tbody tr th {\n",
       "        vertical-align: top;\n",
       "    }\n",
       "\n",
       "    .dataframe thead th {\n",
       "        text-align: right;\n",
       "    }\n",
       "</style>\n",
       "<table border=\"1\" class=\"dataframe\">\n",
       "  <thead>\n",
       "    <tr style=\"text-align: right;\">\n",
       "      <th></th>\n",
       "      <th>gene_name</th>\n",
       "      <th>uniprot_id</th>\n",
       "      <th>ft_id</th>\n",
       "      <th>aa_change</th>\n",
       "      <th>effect</th>\n",
       "      <th>dbSNP</th>\n",
       "    </tr>\n",
       "  </thead>\n",
       "  <tbody>\n",
       "    <tr>\n",
       "      <th>79741</th>\n",
       "      <td>NaN</td>\n",
       "      <td>Q96M66</td>\n",
       "      <td>VAR_039178</td>\n",
       "      <td>p.Arg37His</td>\n",
       "      <td>LB/B</td>\n",
       "      <td>rs350229</td>\n",
       "    </tr>\n",
       "    <tr>\n",
       "      <th>79742</th>\n",
       "      <td>NaN</td>\n",
       "      <td>Q96M66</td>\n",
       "      <td>VAR_039179</td>\n",
       "      <td>p.Arg171Ser</td>\n",
       "      <td>LB/B</td>\n",
       "      <td>rs11648228</td>\n",
       "    </tr>\n",
       "    <tr>\n",
       "      <th>79743</th>\n",
       "      <td>NaN</td>\n",
       "      <td>Q9N2K0</td>\n",
       "      <td>VAR_017799</td>\n",
       "      <td>p.Val81Leu</td>\n",
       "      <td>LB/B</td>\n",
       "      <td>NaN</td>\n",
       "    </tr>\n",
       "    <tr>\n",
       "      <th>79744</th>\n",
       "      <td>NaN</td>\n",
       "      <td>Q9N2K0</td>\n",
       "      <td>VAR_017800</td>\n",
       "      <td>p.Phe150Leu</td>\n",
       "      <td>LB/B</td>\n",
       "      <td>NaN</td>\n",
       "    </tr>\n",
       "  </tbody>\n",
       "</table>\n",
       "</div>"
      ],
      "text/plain": [
       "      gene_name uniprot_id       ft_id    aa_change effect       dbSNP\n",
       "79741       NaN     Q96M66  VAR_039178   p.Arg37His   LB/B    rs350229\n",
       "79742       NaN     Q96M66  VAR_039179  p.Arg171Ser   LB/B  rs11648228\n",
       "79743       NaN     Q9N2K0  VAR_017799   p.Val81Leu   LB/B         NaN\n",
       "79744       NaN     Q9N2K0  VAR_017800  p.Phe150Leu   LB/B         NaN"
      ]
     },
     "metadata": {},
     "output_type": "display_data"
    }
   ],
   "source": [
    "display(humsavar_df.head(4))\n",
    "display(humsavar_df.tail(4))"
   ]
  },
  {
   "cell_type": "code",
   "execution_count": 11,
   "id": "8e2e07c1-eb15-4cdc-af12-5254182ccd76",
   "metadata": {},
   "outputs": [],
   "source": [
    "def format_mutation(aa_change):\n",
    "    match = re.match(\"P\\.([A-Z]+)([0-9]+)([A-Z]+)\", aa_change.upper())\n",
    "    try:\n",
    "        return f\"{structure_tools.AAA_DICT[match[1]]}{match[2]}{structure_tools.AAA_DICT[match[3]]}\"\n",
    "    except Exception as error:\n",
    "        print(aa_change)\n",
    "        return"
   ]
  },
  {
   "cell_type": "code",
   "execution_count": 12,
   "id": "fcf95d50-65a8-4573-af88-fcfeee574a13",
   "metadata": {},
   "outputs": [
    {
     "name": "stdout",
     "output_type": "stream",
     "text": [
      "p.Sec462Gly\n"
     ]
    }
   ],
   "source": [
    "humsavar_df[\"mutation\"] = humsavar_df[\"aa_change\"].apply(format_mutation)"
   ]
  },
  {
   "cell_type": "code",
   "execution_count": 13,
   "id": "8f38c998-dbdc-4fe5-8f86-3fe0d373e0d1",
   "metadata": {},
   "outputs": [
    {
     "name": "stdout",
     "output_type": "stream",
     "text": [
      "Lost 1 rows!\n"
     ]
    }
   ],
   "source": [
    "with tracker(humsavar_df) as t:\n",
    "    humsavar_df = t(humsavar_df[humsavar_df[\"mutation\"].notnull()])"
   ]
  },
  {
   "cell_type": "code",
   "execution_count": 14,
   "id": "f7b91149-d3d9-4f30-8db4-fc0465d4b404",
   "metadata": {},
   "outputs": [
    {
     "data": {
      "text/html": [
       "<div>\n",
       "<style scoped>\n",
       "    .dataframe tbody tr th:only-of-type {\n",
       "        vertical-align: middle;\n",
       "    }\n",
       "\n",
       "    .dataframe tbody tr th {\n",
       "        vertical-align: top;\n",
       "    }\n",
       "\n",
       "    .dataframe thead th {\n",
       "        text-align: right;\n",
       "    }\n",
       "</style>\n",
       "<table border=\"1\" class=\"dataframe\">\n",
       "  <thead>\n",
       "    <tr style=\"text-align: right;\">\n",
       "      <th></th>\n",
       "      <th>gene_name</th>\n",
       "      <th>uniprot_id</th>\n",
       "      <th>ft_id</th>\n",
       "      <th>aa_change</th>\n",
       "      <th>effect</th>\n",
       "      <th>dbSNP</th>\n",
       "      <th>mutation</th>\n",
       "    </tr>\n",
       "  </thead>\n",
       "  <tbody>\n",
       "    <tr>\n",
       "      <th>0</th>\n",
       "      <td>A1BG</td>\n",
       "      <td>P04217</td>\n",
       "      <td>VAR_018369</td>\n",
       "      <td>p.His52Arg</td>\n",
       "      <td>LB/B</td>\n",
       "      <td>rs893184</td>\n",
       "      <td>H52R</td>\n",
       "    </tr>\n",
       "    <tr>\n",
       "      <th>1</th>\n",
       "      <td>A1BG</td>\n",
       "      <td>P04217</td>\n",
       "      <td>VAR_018370</td>\n",
       "      <td>p.His395Arg</td>\n",
       "      <td>LB/B</td>\n",
       "      <td>rs2241788</td>\n",
       "      <td>H395R</td>\n",
       "    </tr>\n",
       "  </tbody>\n",
       "</table>\n",
       "</div>"
      ],
      "text/plain": [
       "  gene_name uniprot_id       ft_id    aa_change effect      dbSNP mutation\n",
       "0      A1BG     P04217  VAR_018369   p.His52Arg   LB/B   rs893184     H52R\n",
       "1      A1BG     P04217  VAR_018370  p.His395Arg   LB/B  rs2241788    H395R"
      ]
     },
     "execution_count": 14,
     "metadata": {},
     "output_type": "execute_result"
    }
   ],
   "source": [
    "humsavar_df.head(2)"
   ]
  },
  {
   "cell_type": "markdown",
   "id": "d60a39c5-4da6-425a-b8d1-2180ab010373",
   "metadata": {},
   "source": [
    "### Already calculated"
   ]
  },
  {
   "cell_type": "code",
   "execution_count": 15,
   "id": "549d2fbc-9fe6-4ee2-be4b-a42884e2257e",
   "metadata": {},
   "outputs": [],
   "source": [
    "pfile = pq.ParquetFile(\n",
    "    NOTEBOOK_DIR.parent.joinpath(\"30_cagi6_sherloc\", \"input-data-gby-protein.parquet\")\n",
    ")"
   ]
  },
  {
   "cell_type": "code",
   "execution_count": 16,
   "id": "9a279404-ea06-454e-932e-af2a9255d4c0",
   "metadata": {},
   "outputs": [
    {
     "data": {
      "application/vnd.jupyter.widget-view+json": {
       "model_id": "eb7e6c0d03d54712bf90316f0c83f802",
       "version_major": 2,
       "version_minor": 0
      },
      "text/plain": [
       "  0%|          | 0/4182 [00:00<?, ?it/s]"
      ]
     },
     "metadata": {},
     "output_type": "display_data"
    },
    {
     "data": {
      "text/plain": [
       "216267"
      ]
     },
     "execution_count": 16,
     "metadata": {},
     "output_type": "execute_result"
    }
   ],
   "source": [
    "already_calculated = set()\n",
    "for row_group_idx in tqdm(range(pfile.num_row_groups)):\n",
    "    input_df = pfile.read_row_group(row_group_idx, columns=[\"protein_id\", \"mutation\"]).to_pandas(\n",
    "        integer_object_nulls=True\n",
    "    )\n",
    "    assert len(input_df) == 1\n",
    "    row = input_df.iloc[0]\n",
    "    for mutation in row[\"mutation\"]:\n",
    "        already_calculated.add((row[\"protein_id\"], mutation))\n",
    "\n",
    "len(already_calculated)"
   ]
  },
  {
   "cell_type": "code",
   "execution_count": 17,
   "id": "41a333ba-b8eb-4f69-8e17-9aa536530a50",
   "metadata": {},
   "outputs": [
    {
     "name": "stdout",
     "output_type": "stream",
     "text": [
      "Lost 12236 rows!\n"
     ]
    }
   ],
   "source": [
    "with tracker(humsavar_df) as t:\n",
    "    humsavar_df = t(\n",
    "        humsavar_df[\n",
    "            ~humsavar_df[[\"uniprot_id\", \"mutation\"]].apply(tuple, axis=1).isin(already_calculated)\n",
    "        ]\n",
    "    )"
   ]
  },
  {
   "cell_type": "markdown",
   "id": "d75fbe58-1c58-4842-9760-0e2125f3b3a2",
   "metadata": {},
   "source": [
    "## Download sequences (`uniprot_sequences_df`)"
   ]
  },
  {
   "cell_type": "code",
   "execution_count": 18,
   "id": "fd5639a7-de7c-4643-aa04-6cedbf922565",
   "metadata": {},
   "outputs": [
    {
     "data": {
      "text/plain": [
       "'MSKGILQVHPPICDCPGCRISSPVNRGRLADKRTVALPAARNLKKERTPSFSASDGDSDGSGPTCGRRPGLKQEDGPHIRIMKRRVHTHWDVNISFREASCSQDGNLPTLISSVHRSRHLVMPEHQSRCEFQRGSLEIGLRPAGDLLGKRLGRSPRISSDCFSEKRARSESPQEALLLPRELGPSMAPEDHYRRLVSALSEASTFEDPQRLYHLGLPSHGEDPPWHDPPHHLPSHDLLRVRQEVAAAALRGPSGLEAHLPSSTAGQRRKQGLAQHREGAAPAAAPSFSERELPQPPPLLSPQNAPHVALGPHLRPPFLGVPSALCQTPGYGFLPPAQAEMFAWQQELLRKQNLARLELPADLLRQKELESARPQLLAPETALRPNDGAEELQRRGALLVLNHGAAPLLALPPQGPPGSGPPTPSRDSARRAPRKGGPGPASARPSESKEMTGARLWAQDGSEDEPPKDSDGEDPETAAVGCRGPTPGQAPAGGAGAEGKGLFPGSTLPLGFPYAVSPYFHTGAVGGLSMDGEEAPAPEDVTKWTVDDVCSFVGGLSGCGEYTRVFREQGIDGETLPLLTEEHLLTNMGLKLGPALKIRAQVARRLGRVFYVASFPVALPLQPPTLRAPERELGTGEQPLSPTTATSPYGGGHALAGQTSPKQENGTLALLPGAPDPSQPLC'"
      ]
     },
     "execution_count": 18,
     "metadata": {},
     "output_type": "execute_result"
    }
   ],
   "source": [
    "def download_sequence(uniprot_id):\n",
    "    if uniprot_id in [\"Q9Y2G2\"]:\n",
    "        uniprot_id = f\"{uniprot_id}-1\"\n",
    "\n",
    "    with urllib.request.urlopen(f\"https://www.uniprot.org/uniprot/{uniprot_id}.fasta\") as f:\n",
    "        data = f.read().decode(\"utf-8\")\n",
    "    chunks = []\n",
    "    for line in data.split(\"\\n\"):\n",
    "        if line.startswith(\">\"):\n",
    "            continue\n",
    "        chunks.append(line.strip())\n",
    "    sequence = \"\".join(chunks)\n",
    "\n",
    "    if uniprot_id == \"P11586\":\n",
    "        sequence_lst = list(sequence)\n",
    "        assert sequence_lst[133] == \"K\"\n",
    "        sequence_lst[133] = \"R\"\n",
    "        sequence = \"\".join(sequence_lst)\n",
    "\n",
    "    return sequence\n",
    "\n",
    "\n",
    "download_sequence(\"Q96NU1\")"
   ]
  },
  {
   "cell_type": "code",
   "execution_count": 19,
   "id": "9ed47eaf-5319-4515-995c-ffc8b483595e",
   "metadata": {},
   "outputs": [],
   "source": [
    "uniprot_sequences_file = NOTEBOOK_DIR.joinpath(\"uniprot-sequences.parquet\")\n",
    "\n",
    "if uniprot_sequences_file.is_file():\n",
    "    uniprot_sequences_df = pq.read_table(uniprot_sequences_file).to_pandas()\n",
    "else:\n",
    "    with concurrent.futures.ThreadPoolExecutor(20) as pool:\n",
    "        uniprot_ids = humsavar_df[\"uniprot_id\"].unique()\n",
    "        sequences = list(tqdm(pool.map(download_sequence, uniprot_ids), total=len(uniprot_ids)))\n",
    "        uniprot_sequences_df = pd.DataFrame({\"uniprot_id\": uniprot_ids, \"sequence\": sequences})\n",
    "    pq.write_table(\n",
    "        pa.Table.from_pandas(uniprot_sequences_df, preserve_index=False), uniprot_sequences_file\n",
    "    )"
   ]
  },
  {
   "cell_type": "code",
   "execution_count": 20,
   "id": "f359cba7-424a-41c5-8640-9d8f7945d860",
   "metadata": {},
   "outputs": [],
   "source": [
    "assert uniprot_sequences_df[\"sequence\"].notnull().all()\n",
    "assert (uniprot_sequences_df[\"sequence\"] != \"\").all()"
   ]
  },
  {
   "cell_type": "code",
   "execution_count": 21,
   "id": "b3cc6aa7-49af-48cf-bb1f-508a022d7e4a",
   "metadata": {},
   "outputs": [
    {
     "data": {
      "text/plain": [
       "['P04217', 'Q9NQ94', 'P01023']"
      ]
     },
     "execution_count": 21,
     "metadata": {},
     "output_type": "execute_result"
    }
   ],
   "source": [
    "uniprot_sequence_lookup = (\n",
    "    uniprot_sequences_df[[\"uniprot_id\", \"sequence\"]]\n",
    "    .drop_duplicates()\n",
    "    .set_index(\"uniprot_id\")[\"sequence\"]\n",
    "    .to_dict()\n",
    ")\n",
    "\n",
    "list(uniprot_sequence_lookup)[:3]"
   ]
  },
  {
   "cell_type": "markdown",
   "id": "33337996-997a-403b-9f15-bd472a3fee12",
   "metadata": {},
   "source": [
    "## Download structures (`uniprot_structures_df`)"
   ]
  },
  {
   "cell_type": "code",
   "execution_count": 22,
   "id": "d489e64d-e8d7-4005-9af1-5e018231f594",
   "metadata": {},
   "outputs": [
    {
     "data": {
      "text/plain": [
       "'HEADER              '"
      ]
     },
     "execution_count": 22,
     "metadata": {},
     "output_type": "execute_result"
    }
   ],
   "source": [
    "def download_structure(uniprot_id):\n",
    "    try:\n",
    "        with urllib.request.urlopen(\n",
    "            f\"https://alphafold.ebi.ac.uk/files/AF-{uniprot_id}-F1-model_v1.pdb\"\n",
    "        ) as f:\n",
    "            data = f.read().decode(\"utf-8\")\n",
    "    except urllib.error.HTTPError as error:\n",
    "        if error.code == 404:\n",
    "            return None\n",
    "        raise\n",
    "    return data\n",
    "\n",
    "\n",
    "download_structure(\"Q96NU1\")[:20]"
   ]
  },
  {
   "cell_type": "code",
   "execution_count": 23,
   "id": "d3eb3aad-ad90-4991-8c6b-ed5f6f3960d9",
   "metadata": {},
   "outputs": [],
   "source": [
    "download_structure(\"asdf\")"
   ]
  },
  {
   "cell_type": "code",
   "execution_count": 24,
   "id": "9caa18f0-0bab-49d4-b9d8-58b0fff5c42f",
   "metadata": {},
   "outputs": [],
   "source": [
    "uniprot_structures_file = NOTEBOOK_DIR.joinpath(\"uniprot-structures.parquet\")\n",
    "\n",
    "if uniprot_structures_file.is_file():\n",
    "    uniprot_structures_df = pq.read_table(uniprot_structures_file).to_pandas()\n",
    "else:\n",
    "    with concurrent.futures.ThreadPoolExecutor(20) as pool:\n",
    "        uniprot_ids = humsavar_df[\"uniprot_id\"].unique()\n",
    "        structures = list(tqdm(pool.map(download_structure, uniprot_ids), total=len(uniprot_ids)))\n",
    "        uniprot_structures_df = pd.DataFrame({\"uniprot_id\": uniprot_ids, \"structure\": structures})\n",
    "    pq.write_table(\n",
    "        pa.Table.from_pandas(uniprot_structures_df, preserve_index=False), uniprot_structures_file\n",
    "    )"
   ]
  },
  {
   "cell_type": "code",
   "execution_count": 25,
   "id": "7b96705d-5a5c-4ff8-8430-90ad12e74ba3",
   "metadata": {},
   "outputs": [
    {
     "name": "stdout",
     "output_type": "stream",
     "text": [
      "Lost 237 rows!\n"
     ]
    }
   ],
   "source": [
    "with tracker(uniprot_structures_df) as t:\n",
    "    uniprot_structures_df = t(uniprot_structures_df[uniprot_structures_df[\"structure\"].notnull()])"
   ]
  },
  {
   "cell_type": "code",
   "execution_count": 26,
   "id": "26e4a7ed-a4bb-4c0a-81d9-c2da84b9b310",
   "metadata": {},
   "outputs": [
    {
     "data": {
      "text/plain": [
       "['P04217', 'Q9NQ94', 'P01023']"
      ]
     },
     "execution_count": 26,
     "metadata": {},
     "output_type": "execute_result"
    }
   ],
   "source": [
    "uniprot_structure_lookup = (\n",
    "    uniprot_structures_df[[\"uniprot_id\", \"structure\"]]\n",
    "    .drop_duplicates()\n",
    "    .set_index(\"uniprot_id\")[\"structure\"]\n",
    "    .to_dict()\n",
    ")\n",
    "\n",
    "list(uniprot_structure_lookup)[:3]"
   ]
  },
  {
   "cell_type": "markdown",
   "id": "a300bff2-d55b-48c0-9f2b-93ddde61bc83",
   "metadata": {},
   "source": [
    "## Download alignments (`uniprot_alignments_df`)"
   ]
  },
  {
   "cell_type": "code",
   "execution_count": 27,
   "id": "444c8efe-8ce2-4374-a71a-c8cea4615e78",
   "metadata": {},
   "outputs": [
    {
     "data": {
      "text/plain": [
       "PosixPath('/home/kimlab5/strokach/workspace/elaspic/elaspic2-cagi6/notebooks/30_humsavar/mmseqs2')"
      ]
     },
     "execution_count": 27,
     "metadata": {},
     "output_type": "execute_result"
    }
   ],
   "source": [
    "mmseqs2_output_path = NOTEBOOK_DIR.joinpath(\"mmseqs2\")\n",
    "mmseqs2_output_path.mkdir(exist_ok=True)\n",
    "\n",
    "mmseqs2_output_path"
   ]
  },
  {
   "cell_type": "code",
   "execution_count": 28,
   "id": "d78e0767-5db8-4540-ad51-5255c5552875",
   "metadata": {},
   "outputs": [],
   "source": [
    "def get_alignment(uniprot_id, sequence, gateway):\n",
    "    while True:\n",
    "        try:\n",
    "            alignment = mmseqs2.run_mmseqs2(\n",
    "                [sequence],\n",
    "                gateway=gateway,\n",
    "                proxies={\n",
    "                    \"http\": \"http://20.47.108.204:8888\",\n",
    "                    \"https\": \"https://152.26.229.86:9443\",\n",
    "                },\n",
    "            )[0]\n",
    "            break\n",
    "        except Exception as e:\n",
    "            print(e)\n",
    "            time.sleep(10)\n",
    "            continue\n",
    "    if alignment[1] != f\"{sequence}\\n\":\n",
    "        print(\"Alignment does not match!\")\n",
    "    result = {\"uniprot_id\": uniprot_id, \"alignment\": alignment}\n",
    "\n",
    "    with gzip.open(mmseqs2_output_path.joinpath(f\"{uniprot_id}.pickle.gz\"), \"wb\") as fout:\n",
    "        pickle.dump(result, fout, pickle.HIGHEST_PROTOCOL)\n",
    "\n",
    "    return result"
   ]
  },
  {
   "cell_type": "code",
   "execution_count": 29,
   "id": "d7df4d4b-2cac-43c9-b3c9-9b91907e2f3e",
   "metadata": {},
   "outputs": [],
   "source": [
    "def iter_alignments(mmseqs2_output_path):\n",
    "    for file in tqdm(os.listdir(mmseqs2_output_path)):\n",
    "        uniprot_id = file.split(\".\")[0]\n",
    "        with gzip.open(mmseqs2_output_path.joinpath(file)) as fin:\n",
    "            try:\n",
    "                data = pickle.load(fin)\n",
    "            except Exception as e:\n",
    "                print(e)\n",
    "                continue\n",
    "        assert data[\"uniprot_id\"] == uniprot_id\n",
    "        assert len(data[\"alignment\"]) > 2\n",
    "        yield data"
   ]
  },
  {
   "cell_type": "code",
   "execution_count": 30,
   "id": "fe88e5a3-ceec-4129-91c6-19740032823f",
   "metadata": {},
   "outputs": [],
   "source": [
    "uniprot_alignments_file = NOTEBOOK_DIR.joinpath(\"uniprot-alignments.parquet\")\n",
    "\n",
    "if uniprot_alignments_file.is_file():\n",
    "    uniprot_alignments_df = pq.read_table(\n",
    "        uniprot_alignments_file, columns=[\"uniprot_id\"]\n",
    "    ).to_pandas()\n",
    "else:\n",
    "    writer = None\n",
    "    batch_size = 100\n",
    "    for alignment_batch in more_itertools.chunked(iter_alignments(mmseqs2_output_path), batch_size):\n",
    "        alignment_batch_df = pd.DataFrame(alignment_batch)\n",
    "        table = pa.Table.from_pandas(alignment_batch_df, preserve_index=False)\n",
    "        if writer is None:\n",
    "            writer = pq.ParquetWriter(uniprot_alignments_file, table.schema, compression=\"zstd\")\n",
    "        writer.write_table(table)\n",
    "    writer.close()\n",
    "    uniprot_alignments_df = pq.read_table(\n",
    "        uniprot_alignments_file, columns=[\"uniprot_id\"]\n",
    "    ).to_pandas()\n",
    "\n",
    "uniprot_alignments_df[\"have_alignment\"] = True"
   ]
  },
  {
   "cell_type": "code",
   "execution_count": 31,
   "id": "32127044-e0a0-4922-84ef-7868374dd13e",
   "metadata": {},
   "outputs": [
    {
     "name": "stdout",
     "output_type": "stream",
     "text": [
      "11634\n",
      "['Q96M63', 'Q8NFU5', 'Q5F1R6']\n"
     ]
    }
   ],
   "source": [
    "uniprot_alignment_lookup = (\n",
    "    uniprot_alignments_df[[\"uniprot_id\", \"have_alignment\"]]\n",
    "    .drop_duplicates()\n",
    "    .set_index(\"uniprot_id\")[\"have_alignment\"]\n",
    "    .to_dict()\n",
    ")\n",
    "\n",
    "print(len(uniprot_alignment_lookup))\n",
    "print(list(uniprot_alignment_lookup)[:3])"
   ]
  },
  {
   "cell_type": "code",
   "execution_count": 32,
   "id": "a2bfa534-33a7-46b3-b892-22613d2a7863",
   "metadata": {},
   "outputs": [
    {
     "data": {
      "text/html": [
       "<div>\n",
       "<style scoped>\n",
       "    .dataframe tbody tr th:only-of-type {\n",
       "        vertical-align: middle;\n",
       "    }\n",
       "\n",
       "    .dataframe tbody tr th {\n",
       "        vertical-align: top;\n",
       "    }\n",
       "\n",
       "    .dataframe thead th {\n",
       "        text-align: right;\n",
       "    }\n",
       "</style>\n",
       "<table border=\"1\" class=\"dataframe\">\n",
       "  <thead>\n",
       "    <tr style=\"text-align: right;\">\n",
       "      <th></th>\n",
       "      <th>uniprot_id</th>\n",
       "      <th>sequence</th>\n",
       "      <th>sequence_length</th>\n",
       "    </tr>\n",
       "  </thead>\n",
       "  <tbody>\n",
       "    <tr>\n",
       "      <th>11726</th>\n",
       "      <td>Q8WZ42</td>\n",
       "      <td>MTTQAPTFTQPLQSVVVLEGSTATFEAHISGFPVPEVSWFRDGQVI...</td>\n",
       "      <td>34350</td>\n",
       "    </tr>\n",
       "    <tr>\n",
       "      <th>6803</th>\n",
       "      <td>Q8WXI7</td>\n",
       "      <td>MLKPSGLPGSSSPTRSLMTGSRSTKATPEMDSGLTGATLSPKTSTG...</td>\n",
       "      <td>14507</td>\n",
       "    </tr>\n",
       "    <tr>\n",
       "      <th>10786</th>\n",
       "      <td>Q8NF91</td>\n",
       "      <td>MATSRGASRCPRDIANVMQRLQDEQEIVQKRTFTKWINSHLAKRKP...</td>\n",
       "      <td>8797</td>\n",
       "    </tr>\n",
       "    <tr>\n",
       "      <th>6805</th>\n",
       "      <td>Q7Z5P9</td>\n",
       "      <td>MKLILWYLVVALWCFFKDVEALLYRQKSDGKIAASRSGGFSYGSSS...</td>\n",
       "      <td>8384</td>\n",
       "    </tr>\n",
       "    <tr>\n",
       "      <th>7449</th>\n",
       "      <td>Q5VST9</td>\n",
       "      <td>MDQPQFSGAPRFLTRPKAFVVSVGKDATLSCQIVGNPTPQVSWEKD...</td>\n",
       "      <td>7968</td>\n",
       "    </tr>\n",
       "    <tr>\n",
       "      <th>...</th>\n",
       "      <td>...</td>\n",
       "      <td>...</td>\n",
       "      <td>...</td>\n",
       "    </tr>\n",
       "    <tr>\n",
       "      <th>7305</th>\n",
       "      <td>Q14995</td>\n",
       "      <td>MEVNAGGVIAYISSSSSASSPASCHSEGSENSFQSSSSSVPSSPNS...</td>\n",
       "      <td>579</td>\n",
       "    </tr>\n",
       "    <tr>\n",
       "      <th>155</th>\n",
       "      <td>Q6NUN0</td>\n",
       "      <td>MRPWLRHLVLQALRNSRAFCGSHGKPAPLPVPQKIVATWEAISLGR...</td>\n",
       "      <td>579</td>\n",
       "    </tr>\n",
       "    <tr>\n",
       "      <th>9231</th>\n",
       "      <td>Q14699</td>\n",
       "      <td>MGCGLNKLEKRDEKRPGNIYSTLKRPQVETKIDVSYEYRFLEFTTL...</td>\n",
       "      <td>578</td>\n",
       "    </tr>\n",
       "    <tr>\n",
       "      <th>2527</th>\n",
       "      <td>P50461</td>\n",
       "      <td>MPNWGGGAKCGACEKTVYHAEEIQCNGRSFHKTCFHCMACRKALDS...</td>\n",
       "      <td>194</td>\n",
       "    </tr>\n",
       "    <tr>\n",
       "      <th>6958</th>\n",
       "      <td>Q96NT1</td>\n",
       "      <td>MADSENQGPAEPSQAAAAAEAAAEEVMAEGGAQGGDCDSAAGDPDS...</td>\n",
       "      <td>182</td>\n",
       "    </tr>\n",
       "  </tbody>\n",
       "</table>\n",
       "<p>1164 rows × 3 columns</p>\n",
       "</div>"
      ],
      "text/plain": [
       "      uniprot_id                                           sequence  \\\n",
       "11726     Q8WZ42  MTTQAPTFTQPLQSVVVLEGSTATFEAHISGFPVPEVSWFRDGQVI...   \n",
       "6803      Q8WXI7  MLKPSGLPGSSSPTRSLMTGSRSTKATPEMDSGLTGATLSPKTSTG...   \n",
       "10786     Q8NF91  MATSRGASRCPRDIANVMQRLQDEQEIVQKRTFTKWINSHLAKRKP...   \n",
       "6805      Q7Z5P9  MKLILWYLVVALWCFFKDVEALLYRQKSDGKIAASRSGGFSYGSSS...   \n",
       "7449      Q5VST9  MDQPQFSGAPRFLTRPKAFVVSVGKDATLSCQIVGNPTPQVSWEKD...   \n",
       "...          ...                                                ...   \n",
       "7305      Q14995  MEVNAGGVIAYISSSSSASSPASCHSEGSENSFQSSSSSVPSSPNS...   \n",
       "155       Q6NUN0  MRPWLRHLVLQALRNSRAFCGSHGKPAPLPVPQKIVATWEAISLGR...   \n",
       "9231      Q14699  MGCGLNKLEKRDEKRPGNIYSTLKRPQVETKIDVSYEYRFLEFTTL...   \n",
       "2527      P50461  MPNWGGGAKCGACEKTVYHAEEIQCNGRSFHKTCFHCMACRKALDS...   \n",
       "6958      Q96NT1  MADSENQGPAEPSQAAAAAEAAAEEVMAEGGAQGGDCDSAAGDPDS...   \n",
       "\n",
       "       sequence_length  \n",
       "11726            34350  \n",
       "6803             14507  \n",
       "10786             8797  \n",
       "6805              8384  \n",
       "7449              7968  \n",
       "...                ...  \n",
       "7305               579  \n",
       "155                579  \n",
       "9231               578  \n",
       "2527               194  \n",
       "6958               182  \n",
       "\n",
       "[1164 rows x 3 columns]"
      ]
     },
     "metadata": {},
     "output_type": "display_data"
    },
    {
     "name": "stdout",
     "output_type": "stream",
     "text": [
      "1164\n"
     ]
    }
   ],
   "source": [
    "uniprot_sequences_for_aln_df = uniprot_sequences_df[\n",
    "    ~uniprot_sequences_df[\"uniprot_id\"].isin(uniprot_alignments_df[\"uniprot_id\"].values)\n",
    "]\n",
    "\n",
    "uniprot_sequences_for_aln_df[\"sequence_length\"] = uniprot_sequences_for_aln_df[\"sequence\"].str.len()\n",
    "uniprot_sequences_for_aln_df = uniprot_sequences_for_aln_df.sort_values(\n",
    "    \"sequence_length\", ascending=False  # Was True\n",
    ")\n",
    "\n",
    "display(uniprot_sequences_for_aln_df)\n",
    "print(len(uniprot_sequences_for_aln_df))"
   ]
  },
  {
   "cell_type": "code",
   "execution_count": 33,
   "id": "fb0d142a-2897-4091-a993-ba8efbab83b0",
   "metadata": {},
   "outputs": [],
   "source": [
    "# if len(uniprot_sequences_for_aln_df) > 2:\n",
    "#     from elaspic2.plugins.alphafold import mmseqs2\n",
    "\n",
    "#     dotenv.load_dotenv(\"../.env\")\n",
    "#     with mmseqs2.api_gateway(mmseqs2.MMSEQS2_HOST_URL) as gateway:\n",
    "#         concurrency = 64\n",
    "#         with concurrent.futures.ThreadPoolExecutor(concurrency) as pool:\n",
    "#             alignments = list(\n",
    "#                 tqdm(\n",
    "#                     pool.map(\n",
    "#                         get_alignment,\n",
    "#                         uniprot_sequences_for_aln_df[\"uniprot_id\"],\n",
    "#                         uniprot_sequences_for_aln_df[\"sequence\"],\n",
    "#                         itertools.repeat(gateway),\n",
    "#                     ),\n",
    "#                     total=len(uniprot_sequences_for_aln_df),\n",
    "#                 )\n",
    "#             )"
   ]
  },
  {
   "cell_type": "markdown",
   "id": "437f8528-4469-4255-82c3-3e09f80c1c8e",
   "metadata": {},
   "source": [
    "## Validations"
   ]
  },
  {
   "cell_type": "markdown",
   "id": "a8aa77de-7771-4713-b64c-8676b9d91be3",
   "metadata": {},
   "source": [
    "### Sanity checks"
   ]
  },
  {
   "cell_type": "code",
   "execution_count": 34,
   "id": "1ed2196a-1d8e-4d75-8d5d-4e5c5af7c050",
   "metadata": {},
   "outputs": [],
   "source": [
    "assert len(humsavar_df) == len(humsavar_df.drop_duplicates([\"uniprot_id\", \"mutation\"]))"
   ]
  },
  {
   "cell_type": "markdown",
   "id": "2dedb3be-d12e-4042-8551-a9c852f54405",
   "metadata": {},
   "source": [
    "### Mutation matches sequence"
   ]
  },
  {
   "cell_type": "code",
   "execution_count": 35,
   "id": "1a27ce3b-d79d-4c25-9e1a-674babd4a416",
   "metadata": {},
   "outputs": [
    {
     "data": {
      "text/plain": [
       "True"
      ]
     },
     "execution_count": 35,
     "metadata": {},
     "output_type": "execute_result"
    }
   ],
   "source": [
    "def mutation_matches_sequence(mutation, sequence):\n",
    "    wt, pos, mut = mutation[0], mutation[1:-1], mutation[-1]\n",
    "    try:\n",
    "        pos = int(pos)\n",
    "    except Exception as e:\n",
    "        return False\n",
    "    if pos > len(sequence):\n",
    "        return False\n",
    "    return sequence[pos - 1] == wt\n",
    "\n",
    "\n",
    "mutation_matches_sequence(\"A5C\", \"XXXXA\")"
   ]
  },
  {
   "cell_type": "code",
   "execution_count": 36,
   "id": "56ddb858-7a55-40d2-adcd-98a8f7c26be7",
   "metadata": {},
   "outputs": [],
   "source": [
    "assert not set(uniprot_structure_lookup) - set(uniprot_sequence_lookup)"
   ]
  },
  {
   "cell_type": "code",
   "execution_count": 37,
   "id": "ce5bb79d-e11e-402c-a5ea-b73bdb54b53c",
   "metadata": {},
   "outputs": [
    {
     "data": {
      "text/html": [
       "<div>\n",
       "<style scoped>\n",
       "    .dataframe tbody tr th:only-of-type {\n",
       "        vertical-align: middle;\n",
       "    }\n",
       "\n",
       "    .dataframe tbody tr th {\n",
       "        vertical-align: top;\n",
       "    }\n",
       "\n",
       "    .dataframe thead th {\n",
       "        text-align: right;\n",
       "    }\n",
       "</style>\n",
       "<table border=\"1\" class=\"dataframe\">\n",
       "  <thead>\n",
       "    <tr style=\"text-align: right;\">\n",
       "      <th></th>\n",
       "      <th>gene_name</th>\n",
       "      <th>uniprot_id</th>\n",
       "      <th>ft_id</th>\n",
       "      <th>aa_change</th>\n",
       "      <th>effect</th>\n",
       "      <th>dbSNP</th>\n",
       "      <th>mutation</th>\n",
       "    </tr>\n",
       "  </thead>\n",
       "  <tbody>\n",
       "    <tr>\n",
       "      <th>10466</th>\n",
       "      <td>CARD8</td>\n",
       "      <td>Q9Y2G2</td>\n",
       "      <td>VAR_048606</td>\n",
       "      <td>p.Ile173Val</td>\n",
       "      <td>LB/B</td>\n",
       "      <td>rs11881179</td>\n",
       "      <td>I173V</td>\n",
       "    </tr>\n",
       "    <tr>\n",
       "      <th>10467</th>\n",
       "      <td>CARD8</td>\n",
       "      <td>Q9Y2G2</td>\n",
       "      <td>VAR_061079</td>\n",
       "      <td>p.Glu204Ala</td>\n",
       "      <td>LB/B</td>\n",
       "      <td>rs59878320</td>\n",
       "      <td>E204A</td>\n",
       "    </tr>\n",
       "    <tr>\n",
       "      <th>10468</th>\n",
       "      <td>CARD8</td>\n",
       "      <td>Q9Y2G2</td>\n",
       "      <td>VAR_084560</td>\n",
       "      <td>p.Val44Ile</td>\n",
       "      <td>US</td>\n",
       "      <td>NaN</td>\n",
       "      <td>V44I</td>\n",
       "    </tr>\n",
       "    <tr>\n",
       "      <th>10469</th>\n",
       "      <td>CARD8</td>\n",
       "      <td>Q9Y2G2</td>\n",
       "      <td>VAR_084561</td>\n",
       "      <td>p.Phe102Ile</td>\n",
       "      <td>LP/P</td>\n",
       "      <td>rs2043211</td>\n",
       "      <td>F102I</td>\n",
       "    </tr>\n",
       "    <tr>\n",
       "      <th>44891</th>\n",
       "      <td>MTHFD1</td>\n",
       "      <td>P11586</td>\n",
       "      <td>VAR_016232</td>\n",
       "      <td>p.Lys134Arg</td>\n",
       "      <td>LB/B</td>\n",
       "      <td>rs1950902</td>\n",
       "      <td>K134R</td>\n",
       "    </tr>\n",
       "  </tbody>\n",
       "</table>\n",
       "</div>"
      ],
      "text/plain": [
       "      gene_name uniprot_id       ft_id    aa_change effect       dbSNP  \\\n",
       "10466     CARD8     Q9Y2G2  VAR_048606  p.Ile173Val   LB/B  rs11881179   \n",
       "10467     CARD8     Q9Y2G2  VAR_061079  p.Glu204Ala   LB/B  rs59878320   \n",
       "10468     CARD8     Q9Y2G2  VAR_084560   p.Val44Ile     US         NaN   \n",
       "10469     CARD8     Q9Y2G2  VAR_084561  p.Phe102Ile   LP/P   rs2043211   \n",
       "44891    MTHFD1     P11586  VAR_016232  p.Lys134Arg   LB/B   rs1950902   \n",
       "\n",
       "      mutation  \n",
       "10466    I173V  \n",
       "10467    E204A  \n",
       "10468     V44I  \n",
       "10469    F102I  \n",
       "44891    K134R  "
      ]
     },
     "execution_count": 37,
     "metadata": {},
     "output_type": "execute_result"
    }
   ],
   "source": [
    "matches = np.array(\n",
    "    [\n",
    "        mutation_matches_sequence(mutation, uniprot_sequence_lookup[uniprot_id])\n",
    "        for uniprot_id, mutation in humsavar_df[[\"uniprot_id\", \"mutation\"]].values\n",
    "    ]\n",
    ")\n",
    "\n",
    "humsavar_df[~matches]"
   ]
  },
  {
   "cell_type": "code",
   "execution_count": 38,
   "id": "fd38ea41-fdc6-4407-a743-3481e84925a4",
   "metadata": {},
   "outputs": [
    {
     "name": "stdout",
     "output_type": "stream",
     "text": [
      "Lost 5 rows!\n"
     ]
    }
   ],
   "source": [
    "with tracker(humsavar_df) as t:\n",
    "    humsavar_df = t(humsavar_df[matches])"
   ]
  },
  {
   "cell_type": "markdown",
   "id": "61934ece-e019-4118-b8be-411d73b87ecc",
   "metadata": {},
   "source": [
    "### Sequence matches structure"
   ]
  },
  {
   "cell_type": "code",
   "execution_count": 39,
   "id": "b4339f09-d0c0-4127-bbae-d9ad782b2591",
   "metadata": {},
   "outputs": [
    {
     "data": {
      "text/plain": [
       "False"
      ]
     },
     "execution_count": 39,
     "metadata": {},
     "output_type": "execute_result"
    }
   ],
   "source": [
    "def load_structure_blob(structure_blob):\n",
    "    with tempfile.NamedTemporaryFile(suffix=\".pdb\") as tmp_file:\n",
    "        with open(tmp_file.name, \"wt\") as fout:\n",
    "            fout.write(structure_blob)\n",
    "        structure = PDB.load(tmp_file.name)\n",
    "    return structure\n",
    "\n",
    "\n",
    "def sequence_matches_structure(sequence, structure_blob):\n",
    "    structure = load_structure_blob(structure_blob)\n",
    "    sequence_from_structure = structure_tools.get_chain_sequence(structure[0][\"A\"])\n",
    "    return sequence == sequence_from_structure\n",
    "\n",
    "\n",
    "sequence_matches_structure(\"\", uniprot_structure_lookup[\"P04217\"])"
   ]
  },
  {
   "cell_type": "code",
   "execution_count": 40,
   "id": "75b039d8-beed-464d-a069-1a4a972ef57c",
   "metadata": {},
   "outputs": [],
   "source": [
    "assert not set(uniprot_structure_lookup) - set(uniprot_sequence_lookup)"
   ]
  },
  {
   "cell_type": "code",
   "execution_count": 41,
   "id": "8a489a14-8dd0-4b22-9946-373683b5bfc4",
   "metadata": {},
   "outputs": [
    {
     "data": {
      "application/vnd.jupyter.widget-view+json": {
       "model_id": "95c930ec56bc464386a4bc44d15ad74d",
       "version_major": 2,
       "version_minor": 0
      },
      "text/plain": [
       "  0%|          | 0/12561 [00:00<?, ?it/s]"
      ]
     },
     "metadata": {},
     "output_type": "display_data"
    },
    {
     "name": "stdout",
     "output_type": "stream",
     "text": [
      "Error: sequence does not match structure for uniprot_id='Q8WYJ6'!\n"
     ]
    },
    {
     "data": {
      "text/plain": [
       "['Q8WYJ6']"
      ]
     },
     "execution_count": 41,
     "metadata": {},
     "output_type": "execute_result"
    }
   ],
   "source": [
    "def worker(row):\n",
    "    uniprot_id, sequence, structure_blob = row\n",
    "    if not sequence_matches_structure(sequence, structure_blob):\n",
    "        print(f\"Error: sequence does not match structure for {uniprot_id=}!\")\n",
    "        return uniprot_id\n",
    "    else:\n",
    "        return None\n",
    "\n",
    "\n",
    "with concurrent.futures.ProcessPoolExecutor() as pool:\n",
    "    mismatches = list(\n",
    "        tqdm(\n",
    "            pool.map(\n",
    "                worker,\n",
    "                (\n",
    "                    (up, uniprot_sequence_lookup[up], uniprot_structure_lookup[up])\n",
    "                    for up in uniprot_structure_lookup\n",
    "                ),\n",
    "                chunksize=100,\n",
    "            ),\n",
    "            total=len(uniprot_structure_lookup),\n",
    "        )\n",
    "    )\n",
    "\n",
    "mismatches = [m for m in mismatches if m is not None]\n",
    "mismatches"
   ]
  },
  {
   "cell_type": "code",
   "execution_count": 42,
   "id": "e086447b-9757-42ab-b8d8-4073d4ef9d65",
   "metadata": {},
   "outputs": [
    {
     "name": "stdout",
     "output_type": "stream",
     "text": [
      "Lost 1 rows!\n"
     ]
    }
   ],
   "source": [
    "with tracker(humsavar_df) as t:\n",
    "    humsavar_df = t(humsavar_df[~humsavar_df[\"uniprot_id\"].isin(mismatches)])"
   ]
  },
  {
   "cell_type": "markdown",
   "id": "118f8af8-745c-4325-add4-8b134b8805e3",
   "metadata": {},
   "source": [
    "### Have sequence, structure, and alignment"
   ]
  },
  {
   "cell_type": "code",
   "execution_count": 43,
   "id": "c4329a6f-8113-496f-ad32-5a9b46a66504",
   "metadata": {},
   "outputs": [],
   "source": [
    "with tracker(humsavar_df) as t:\n",
    "    humsavar_df = t(humsavar_df[humsavar_df[\"uniprot_id\"].isin(uniprot_sequence_lookup)])"
   ]
  },
  {
   "cell_type": "code",
   "execution_count": 44,
   "id": "3684973b-f18c-4962-b69d-fc6552f9e50f",
   "metadata": {},
   "outputs": [
    {
     "name": "stdout",
     "output_type": "stream",
     "text": [
      "Lost 5289 rows!\n"
     ]
    }
   ],
   "source": [
    "with tracker(humsavar_df) as t:\n",
    "    humsavar_df = t(humsavar_df[humsavar_df[\"uniprot_id\"].isin(uniprot_structure_lookup)])  # 5289"
   ]
  },
  {
   "cell_type": "code",
   "execution_count": 45,
   "id": "f7f30606-78fe-466f-906e-2805cf06db93",
   "metadata": {},
   "outputs": [],
   "source": [
    "# with tracker(humsavar_df) as t:\n",
    "#     humsavar_df = t(humsavar_df[humsavar_df[\"uniprot_id\"].isin(uniprot_alignment_lookup)])  # 9524"
   ]
  },
  {
   "cell_type": "markdown",
   "id": "cb01dec3-76c1-432b-802e-b750c27f62a3",
   "metadata": {},
   "source": [
    "### Sequence matches alignment"
   ]
  },
  {
   "cell_type": "code",
   "execution_count": 46,
   "id": "2916633e-99ac-4e12-ab6a-f21019909cb3",
   "metadata": {},
   "outputs": [],
   "source": [
    "# for uniprot_id, sequence, alignment in tqdm(\n",
    "#     final_df[[\"uniprot_id\", \"sequence\", \"alignment\"]].values\n",
    "# ):\n",
    "#     assert sequence == alignment[1].strip()"
   ]
  },
  {
   "cell_type": "markdown",
   "id": "0dcce20e-b8c3-4f21-a462-f875dd5ee7e0",
   "metadata": {},
   "source": [
    "## Write results"
   ]
  },
  {
   "cell_type": "code",
   "execution_count": 47,
   "id": "a9923751-cb43-4324-bdfd-4f7b99bec74d",
   "metadata": {},
   "outputs": [
    {
     "data": {
      "text/html": [
       "<div>\n",
       "<style scoped>\n",
       "    .dataframe tbody tr th:only-of-type {\n",
       "        vertical-align: middle;\n",
       "    }\n",
       "\n",
       "    .dataframe tbody tr th {\n",
       "        vertical-align: top;\n",
       "    }\n",
       "\n",
       "    .dataframe thead th {\n",
       "        text-align: right;\n",
       "    }\n",
       "</style>\n",
       "<table border=\"1\" class=\"dataframe\">\n",
       "  <thead>\n",
       "    <tr style=\"text-align: right;\">\n",
       "      <th></th>\n",
       "      <th>gene_name</th>\n",
       "      <th>uniprot_id</th>\n",
       "      <th>ft_id</th>\n",
       "      <th>aa_change</th>\n",
       "      <th>effect</th>\n",
       "      <th>dbSNP</th>\n",
       "      <th>mutation</th>\n",
       "      <th>mutation_pos</th>\n",
       "    </tr>\n",
       "  </thead>\n",
       "  <tbody>\n",
       "    <tr>\n",
       "      <th>18104</th>\n",
       "      <td>CYP2D7</td>\n",
       "      <td>A0A087X1C5</td>\n",
       "      <td>VAR_072632</td>\n",
       "      <td>p.Ser70Asn</td>\n",
       "      <td>LB/B</td>\n",
       "      <td>rs11090077</td>\n",
       "      <td>S70N</td>\n",
       "      <td>70</td>\n",
       "    </tr>\n",
       "    <tr>\n",
       "      <th>18105</th>\n",
       "      <td>CYP2D7</td>\n",
       "      <td>A0A087X1C5</td>\n",
       "      <td>VAR_072633</td>\n",
       "      <td>p.Ser311Leu</td>\n",
       "      <td>LB/B</td>\n",
       "      <td>rs1800754</td>\n",
       "      <td>S311L</td>\n",
       "      <td>311</td>\n",
       "    </tr>\n",
       "  </tbody>\n",
       "</table>\n",
       "</div>"
      ],
      "text/plain": [
       "      gene_name  uniprot_id       ft_id    aa_change effect       dbSNP  \\\n",
       "18104    CYP2D7  A0A087X1C5  VAR_072632   p.Ser70Asn   LB/B  rs11090077   \n",
       "18105    CYP2D7  A0A087X1C5  VAR_072633  p.Ser311Leu   LB/B   rs1800754   \n",
       "\n",
       "      mutation  mutation_pos  \n",
       "18104     S70N            70  \n",
       "18105    S311L           311  "
      ]
     },
     "execution_count": 47,
     "metadata": {},
     "output_type": "execute_result"
    }
   ],
   "source": [
    "humsavar_df[\"mutation_pos\"] = humsavar_df[\"mutation\"].str[1:-1].astype(int)\n",
    "\n",
    "humsavar_df = humsavar_df.sort_values([\"uniprot_id\", \"mutation_pos\"])\n",
    "\n",
    "humsavar_df.head(2)"
   ]
  },
  {
   "cell_type": "code",
   "execution_count": 48,
   "id": "312a432e-4338-468e-ae93-d7b5af45afec",
   "metadata": {},
   "outputs": [],
   "source": [
    "def load_alignments(uniprot_ids_and_sequences):\n",
    "    alignments = {}\n",
    "    for uniprot_id, sequence in uniprot_ids_and_sequences:\n",
    "        mmseqs2_file = mmseqs2_output_path.joinpath(f\"{uniprot_id}.pickle.gz\")\n",
    "        if not mmseqs2_file.is_file():\n",
    "            continue\n",
    "        with gzip.open(mmseqs2_file) as fin:\n",
    "            data = pickle.load(fin)\n",
    "        assert data[\"uniprot_id\"] == uniprot_id\n",
    "        assert len(data[\"alignment\"]) > 2\n",
    "        assert sequence == data[\"alignment\"][1].strip()\n",
    "        alignments[uniprot_id] = data[\"alignment\"]\n",
    "    return alignments"
   ]
  },
  {
   "cell_type": "code",
   "execution_count": 49,
   "id": "879046bd-c9db-40f9-892f-5664f09420bd",
   "metadata": {},
   "outputs": [],
   "source": [
    "def write_table(df, output_file, schema, writer):\n",
    "    if schema is None:\n",
    "        table = pa.Table.from_pandas(df, preserve_index=False)\n",
    "        schema = table.schema\n",
    "    else:\n",
    "        table = pa.Table.from_pandas(df, schema=schema, preserve_index=False)\n",
    "    if writer is None:\n",
    "        writer = pq.ParquetWriter(output_file, schema)\n",
    "    writer.write_table(table)\n",
    "    return schema, writer"
   ]
  },
  {
   "cell_type": "code",
   "execution_count": 50,
   "id": "4a286579-d821-4fa4-a752-efe2d9c4861b",
   "metadata": {},
   "outputs": [
    {
     "data": {
      "application/vnd.jupyter.widget-view+json": {
       "model_id": "4a2e67c3f70d4896870de1ef2c9737cc",
       "version_major": 2,
       "version_minor": 0
      },
      "text/plain": [
       "  0%|          | 0/612 [00:00<?, ?it/s]"
      ]
     },
     "metadata": {},
     "output_type": "display_data"
    },
    {
     "data": {
      "text/plain": [
       "(PosixPath('/home/kimlab5/strokach/workspace/elaspic/elaspic2-cagi6/notebooks/30_humsavar/humsavar-gby-protein.parquet'),\n",
       " PosixPath('/home/kimlab5/strokach/workspace/elaspic/elaspic2-cagi6/notebooks/30_humsavar/humsavar-gby-protein-waln.parquet'))"
      ]
     },
     "execution_count": 50,
     "metadata": {},
     "output_type": "execute_result"
    }
   ],
   "source": [
    "output_file_1 = NOTEBOOK_DIR.joinpath(\"humsavar-gby-protein.parquet\")\n",
    "output_file_2 = NOTEBOOK_DIR.joinpath(\"humsavar-gby-protein-waln.parquet\")\n",
    "\n",
    "group_size = 100\n",
    "\n",
    "schema_1 = None\n",
    "schema_2 = None\n",
    "writer_1 = None\n",
    "writer_2 = None\n",
    "for start in tqdm(range(0, len(humsavar_df), group_size)):\n",
    "    df = (\n",
    "        humsavar_df.iloc[start : start + group_size]\n",
    "        .groupby([\"uniprot_id\"], dropna=False)\n",
    "        .agg({\"mutation\": list, \"effect\": list})\n",
    "        .reset_index()\n",
    "        .merge(\n",
    "            uniprot_sequences_df,\n",
    "            on=[\"uniprot_id\"],\n",
    "        )\n",
    "        .merge(\n",
    "            uniprot_structures_df,\n",
    "            on=[\"uniprot_id\"],\n",
    "        )\n",
    "    )\n",
    "    schema_1, writer_1 = write_table(df, output_file_1, schema_1, writer_1)\n",
    "\n",
    "    alignments = load_alignments(df[[\"uniprot_id\", \"sequence\"]].drop_duplicates().values)\n",
    "    df[\"alignment\"] = df[\"uniprot_id\"].map(alignments)\n",
    "    df = df[df[\"alignment\"].notnull()]\n",
    "\n",
    "    if df.empty:\n",
    "        continue\n",
    "\n",
    "    schema_2, writer_2 = write_table(df, output_file_2, schema_2, writer_2)\n",
    "\n",
    "writer_1.close()\n",
    "writer_2.close()\n",
    "\n",
    "output_file_1, output_file_2"
   ]
  },
  {
   "cell_type": "code",
   "execution_count": 51,
   "id": "6303b2cc-8d56-40ea-a53d-7ba095425d26",
   "metadata": {},
   "outputs": [
    {
     "data": {
      "text/plain": [
       "(612, 599)"
      ]
     },
     "execution_count": 51,
     "metadata": {},
     "output_type": "execute_result"
    }
   ],
   "source": [
    "pfile_1 = pq.ParquetFile(output_file_1)\n",
    "pfile_2 = pq.ParquetFile(output_file_2)\n",
    "\n",
    "pfile_1.num_row_groups, pfile_2.num_row_groups"
   ]
  },
  {
   "cell_type": "code",
   "execution_count": 52,
   "id": "8be948fd-9259-4cc2-b004-71d0477c64ee",
   "metadata": {},
   "outputs": [
    {
     "data": {
      "text/plain": [
       "<pyarrow._parquet.FileMetaData object at 0x7f20c4153cc0>\n",
       "  created_by: parquet-cpp-arrow version 5.0.0\n",
       "  num_columns: 5\n",
       "  num_rows: 13050\n",
       "  num_row_groups: 612\n",
       "  format_version: 1.0\n",
       "  serialized_size: 1065992"
      ]
     },
     "execution_count": 52,
     "metadata": {},
     "output_type": "execute_result"
    }
   ],
   "source": [
    "pfile_1.metadata"
   ]
  },
  {
   "cell_type": "code",
   "execution_count": 53,
   "id": "a9e21f30-b0b9-4a25-8c05-09b5b3d15f06",
   "metadata": {},
   "outputs": [
    {
     "data": {
      "text/plain": [
       "<pyarrow._parquet.FileMetaData object at 0x7f210c2eaea0>\n",
       "  created_by: parquet-cpp-arrow version 5.0.0\n",
       "  num_columns: 6\n",
       "  num_rows: 12097\n",
       "  num_row_groups: 599\n",
       "  format_version: 1.0\n",
       "  serialized_size: 1279208"
      ]
     },
     "execution_count": 53,
     "metadata": {},
     "output_type": "execute_result"
    }
   ],
   "source": [
    "pfile_2.metadata"
   ]
  },
  {
   "cell_type": "code",
   "execution_count": null,
   "id": "13ef9829-356f-4d25-93b1-59cbffd7f2b0",
   "metadata": {},
   "outputs": [],
   "source": []
  }
 ],
 "metadata": {
  "kernelspec": {
   "display_name": "Python 3 (ipykernel)",
   "language": "python",
   "name": "python3"
  },
  "language_info": {
   "codemirror_mode": {
    "name": "ipython",
    "version": 3
   },
   "file_extension": ".py",
   "mimetype": "text/x-python",
   "name": "python",
   "nbconvert_exporter": "python",
   "pygments_lexer": "ipython3",
   "version": "3.9.6"
  }
 },
 "nbformat": 4,
 "nbformat_minor": 5
}
