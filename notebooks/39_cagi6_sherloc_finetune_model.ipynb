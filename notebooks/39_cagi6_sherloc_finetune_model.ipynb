{
 "cells": [
  {
   "cell_type": "markdown",
   "id": "e8b62db5-9b6c-4e76-b799-938217f14de3",
   "metadata": {
    "jp-MarkdownHeadingCollapsed": true,
    "tags": []
   },
   "source": [
    "## Summary\n",
    "\n",
    "---"
   ]
  },
  {
   "cell_type": "markdown",
   "id": "68d42c62-c3ed-4516-ad26-9bdeec5e490a",
   "metadata": {},
   "source": [
    "## Imports"
   ]
  },
  {
   "cell_type": "code",
   "execution_count": null,
   "id": "ec59fed5-93b9-40a9-8f7d-574564c99c61",
   "metadata": {},
   "outputs": [],
   "source": [
    "import json\n",
    "import pickle\n",
    "from pathlib import Path\n",
    "\n",
    "import lightgbm as lgb\n",
    "import matplotlib.pyplot as plt\n",
    "import numpy as np\n",
    "import optuna\n",
    "import pandas as pd\n",
    "import pyarrow as pa\n",
    "import pyarrow.parquet as pq\n",
    "from scipy import stats\n",
    "from sklearn import metrics\n",
    "from sklearn.model_selection import GroupKFold\n",
    "from tqdm.auto import tqdm"
   ]
  },
  {
   "cell_type": "code",
   "execution_count": null,
   "id": "2411f4ab-5bcb-440c-9971-acde93e7b688",
   "metadata": {},
   "outputs": [],
   "source": [
    "pd.set_option(\"max_columns\", 1000)\n",
    "pd.set_option(\"max_rows\", 1000)"
   ]
  },
  {
   "cell_type": "markdown",
   "id": "57c9dcf8-ece2-40e8-b168-42dd509ef3cf",
   "metadata": {},
   "source": [
    "## Parameters"
   ]
  },
  {
   "cell_type": "code",
   "execution_count": null,
   "id": "16812a0d-fa30-478a-9032-25da1703c0f7",
   "metadata": {},
   "outputs": [],
   "source": [
    "UNIQUE_ID = \"7f9826be\"\n",
    "\n",
    "UNIQUE_ID"
   ]
  },
  {
   "cell_type": "code",
   "execution_count": null,
   "id": "ae494658-60ab-4912-b09e-f9609c1d94e0",
   "metadata": {},
   "outputs": [],
   "source": [
    "NOTEBOOK_DIR = Path(\"39_cagi6_sherloc_finetune_model\").resolve()\n",
    "NOTEBOOK_DIR.joinpath(UNIQUE_ID).mkdir(parents=True, exist_ok=True)\n",
    "\n",
    "NOTEBOOK_DIR"
   ]
  },
  {
   "cell_type": "code",
   "execution_count": null,
   "id": "fcafea1e-1109-4824-b751-aabf12ad9a81",
   "metadata": {},
   "outputs": [],
   "source": [
    "DATASET_NAME = \"cagi6-sherloc\"\n",
    "\n",
    "DATASET_NAME"
   ]
  },
  {
   "cell_type": "markdown",
   "id": "f9c3c414-1e6b-4db7-8db0-ea91db106185",
   "metadata": {},
   "source": [
    "## Load data"
   ]
  },
  {
   "cell_type": "markdown",
   "id": "7925b4de-7ee5-48e6-b2db-a62c4be2f1a2",
   "metadata": {},
   "source": [
    "### Results"
   ]
  },
  {
   "cell_type": "code",
   "execution_count": null,
   "id": "3d01d35a-bf69-41f8-9816-e16b633736df",
   "metadata": {},
   "outputs": [],
   "source": [
    "input_file = NOTEBOOK_DIR.parent.joinpath(\n",
    "    \"37_cagi6_sherloc_combine_results\", \"combined-results.parquet\"\n",
    ")\n",
    "\n",
    "input_file"
   ]
  },
  {
   "cell_type": "code",
   "execution_count": null,
   "id": "40ad273f-dee6-474d-bc50-414fbbbaddb4",
   "metadata": {},
   "outputs": [],
   "source": [
    "result_df = pq.read_table(input_file).to_pandas()\n",
    "\n",
    "display(result_df.head(2))\n",
    "print(len(result_df))"
   ]
  },
  {
   "cell_type": "code",
   "execution_count": null,
   "id": "e43d2868-915b-4e26-9e21-7238b8a3b26f",
   "metadata": {},
   "outputs": [],
   "source": [
    "effect_map = {\n",
    "    \"Uncertain significance\": 0,\n",
    "    \"Likely benign\": -1,\n",
    "    \"Benign\": -2,\n",
    "    \"Likely pathogenic\": 1,\n",
    "    \"Pathogenic\": 2,\n",
    "}\n",
    "\n",
    "result_df[\"effect_score\"] = result_df[\"effect\"].map(effect_map)"
   ]
  },
  {
   "cell_type": "markdown",
   "id": "803439ee-bcfc-46fb-9df6-2d02926b7c50",
   "metadata": {},
   "source": [
    "### Features"
   ]
  },
  {
   "cell_type": "code",
   "execution_count": null,
   "id": "b78e96b1-7fd9-4a24-baed-265b333d177a",
   "metadata": {},
   "outputs": [],
   "source": [
    "with NOTEBOOK_DIR.parent.joinpath(\n",
    "    \"38_cagi6_sherloc_train_model\", UNIQUE_ID, \"scalar-features.json\"\n",
    ").open(\"rb\") as fin:\n",
    "    scalar_features = json.load(fin)\n",
    "\n",
    "with NOTEBOOK_DIR.parent.joinpath(\n",
    "    \"38_cagi6_sherloc_train_model\", UNIQUE_ID, \"vector-features.json\"\n",
    ").open(\"rb\") as fin:\n",
    "    vector_features = json.load(fin)\n",
    "\n",
    "len(scalar_features), len(vector_features)"
   ]
  },
  {
   "cell_type": "markdown",
   "id": "10086527-0c31-4c6e-9901-eee4a41cc787",
   "metadata": {},
   "source": [
    "### Stats"
   ]
  },
  {
   "cell_type": "code",
   "execution_count": null,
   "id": "8826d4d4-311e-4c07-8d11-96fb495eb998",
   "metadata": {},
   "outputs": [],
   "source": [
    "with NOTEBOOK_DIR.parent.joinpath(\n",
    "    \"38_cagi6_sherloc_train_model\", UNIQUE_ID, \"feature-elimination-stats.pickle\"\n",
    ").open(\"rb\") as fin:\n",
    "    data = pickle.load(fin)"
   ]
  },
  {
   "cell_type": "markdown",
   "id": "cfbc11a7-7a1a-4c2b-9b98-6a6c693a8252",
   "metadata": {},
   "source": [
    "### Training dataframe"
   ]
  },
  {
   "cell_type": "code",
   "execution_count": null,
   "id": "729029c4-eb56-432c-9b82-fb3b4f1c4052",
   "metadata": {},
   "outputs": [],
   "source": [
    "training_df = (\n",
    "    result_df.dropna(\n",
    "        subset=scalar_features\n",
    "        + vector_features\n",
    "        + [\n",
    "            \"effect_score\",\n",
    "        ]\n",
    "    )\n",
    "    .drop_duplicates(subset=[\"protein_id\", \"mutation\"])\n",
    "    .sort_values(\"protein_id\")\n",
    "    .reset_index(drop=True)\n",
    ")\n",
    "training_df = training_df[training_df[\"effect_score\"] != 0]\n",
    "\n",
    "# protein_map = {k: i for i, k in enumerate(training_df[\"protein_id\"].unique())}\n",
    "# groups = training_df[\"protein_id\"].map(protein_map).values\n",
    "\n",
    "value_counts = training_df[\"protein_id\"].value_counts()\n",
    "groups = training_df[\"protein_id\"].drop_duplicates().map(value_counts)\n",
    "\n",
    "X_ref = np.c_[\n",
    "    training_df[scalar_features].values,\n",
    "    np.hstack([np.vstack(training_df[col].values) for col in vector_features]),\n",
    "]\n",
    "X = X_ref\n",
    "# X = X[:, important_features]\n",
    "\n",
    "low_confidence_mask = training_df[\"effect_score\"] == 0\n",
    "\n",
    "y = (training_df[\"effect_score\"] > 0).values.astype(int)\n",
    "y[low_confidence_mask] = (\n",
    "    training_df[low_confidence_mask][\"el2_score\"] > 2\n",
    ").values.astype(int)\n",
    "# y = training_df[\"effect_score\"].values\n",
    "\n",
    "weights = np.ones(len(training_df), dtype=np.float64)\n",
    "weights[training_df[\"effect_score\"] == 1] = 0.5\n",
    "weights[training_df[\"effect_score\"] == -1] = 0.5\n",
    "weights[low_confidence_mask] = 0.05"
   ]
  },
  {
   "cell_type": "markdown",
   "id": "815407ee-298d-409d-a43d-e72e1ad2afea",
   "metadata": {},
   "source": [
    "## Find best row"
   ]
  },
  {
   "cell_type": "code",
   "execution_count": null,
   "id": "6a63f88e-4881-4fc4-9333-184ec1922826",
   "metadata": {},
   "outputs": [],
   "source": [
    "feature_elimination_df = pd.DataFrame(\n",
    "    data,\n",
    "    columns=[\n",
    "        \"round\",\n",
    "        \"spearman_r\",\n",
    "        \"auc\",\n",
    "        \"precision\",\n",
    "        \"num_excluded_features\",\n",
    "        \"num_present_features\",\n",
    "        \"features_to_exclude\",\n",
    "    ],\n",
    ")"
   ]
  },
  {
   "cell_type": "code",
   "execution_count": null,
   "id": "fbd99987-7987-4a68-852b-6291d4420d1a",
   "metadata": {},
   "outputs": [],
   "source": [
    "df = feature_elimination_df.iloc[:-24]\n",
    "\n",
    "plt.plot(df[\"round\"], df[\"precision\"])"
   ]
  },
  {
   "cell_type": "code",
   "execution_count": null,
   "id": "81bc823c-316b-42af-af0f-e1f8192cc7bd",
   "metadata": {},
   "outputs": [],
   "source": [
    "plt.plot(df[\"num_present_features\"], df[\"precision\"])"
   ]
  },
  {
   "cell_type": "code",
   "execution_count": null,
   "id": "89b7c35d-89af-4ee6-bc8a-bc44133f19f1",
   "metadata": {},
   "outputs": [],
   "source": [
    "best_row_idx = np.argmax(feature_elimination_df[\"precision\"])\n",
    "\n",
    "best_row = feature_elimination_df.iloc[best_row_idx]\n",
    "\n",
    "best_row"
   ]
  },
  {
   "cell_type": "markdown",
   "id": "1d730199-bbd4-42fb-9df7-08ed3e66ff77",
   "metadata": {},
   "source": [
    "## Load best models"
   ]
  },
  {
   "cell_type": "code",
   "execution_count": null,
   "id": "3d22aca9-b4b3-4a6c-94ab-517f6ab32399",
   "metadata": {},
   "outputs": [],
   "source": [
    "feature_mask = np.ones(X_ref.shape[1], dtype=bool)\n",
    "feature_mask[np.array(best_row[\"features_to_exclude\"], dtype=int)] = False\n",
    "X = X_ref[:, feature_mask]\n",
    "assert len(best_row[\"features_to_exclude\"]) == X_ref.shape[1] - X.shape[1]"
   ]
  },
  {
   "cell_type": "code",
   "execution_count": null,
   "id": "82b07e7f-8ccf-4a25-aeb1-fd88a639f102",
   "metadata": {},
   "outputs": [],
   "source": [
    "with NOTEBOOK_DIR.parent.joinpath(\n",
    "    \"38_cagi6_sherloc_train_model\", UNIQUE_ID, \"best-parameters-500.json\"\n",
    ").open(\"rb\") as fin:\n",
    "    best_parameters = json.load(fin)\n",
    "    \n",
    "best_parameters"
   ]
  },
  {
   "cell_type": "code",
   "execution_count": null,
   "id": "959d7f42-a8a8-4ab7-bb27-720e359699b3",
   "metadata": {},
   "outputs": [],
   "source": [
    "if best_parameters[\"lambda_l1\"] < 1e-8:\n",
    "    best_parameters[\"lambda_l1\"] = 1e-8\n",
    "\n",
    "if best_parameters[\"lambda_l2\"] < 1e-8:\n",
    "    best_parameters[\"lambda_l2\"] = 1e-8"
   ]
  },
  {
   "cell_type": "markdown",
   "id": "fbee31b3-d212-40b3-a145-3dedbed1d58a",
   "metadata": {},
   "source": [
    "## Tune hyperparameters"
   ]
  },
  {
   "cell_type": "code",
   "execution_count": null,
   "id": "edbc983a-41c8-49d5-b5ca-6b42152373c6",
   "metadata": {},
   "outputs": [],
   "source": [
    "CONST_PARAM = {\"objective\": \"binary\", \"metric\": \"average_precision\", \"verbose\": -1}"
   ]
  },
  {
   "cell_type": "code",
   "execution_count": null,
   "id": "1c28ad02-b635-4b96-8883-21cd5f476642",
   "metadata": {},
   "outputs": [],
   "source": [
    "def training_loop(X, y, weights, param, n_splits=6, progressbar=False):\n",
    "    models = []\n",
    "    preds = np.ones(len(y), dtype=np.float64) * np.nan\n",
    "    gkf = GroupKFold(n_splits=n_splits)\n",
    "    for train_index, test_index in tqdm(\n",
    "        gkf.split(X, y, groups=training_df[\"protein_id\"]),\n",
    "        total=n_splits,\n",
    "        disable=not progressbar,\n",
    "    ):\n",
    "        X_training, X_testing = X[train_index], X[test_index]\n",
    "        y_training, y_testing = y[train_index], y[test_index]\n",
    "        weights_training, weights_testing = weights[train_index], weights[test_index]\n",
    "\n",
    "        dtrain = lgb.Dataset(X_training, label=y_training, weight=weights_training)\n",
    "        model = lgb.train(param, dtrain, num_boost_round=1000)\n",
    "        preds[test_index] = model.predict(X_testing)\n",
    "        models.append(model)\n",
    "    return models, preds"
   ]
  },
  {
   "cell_type": "code",
   "execution_count": null,
   "id": "03573378-042c-4b6d-83aa-850c73829a1b",
   "metadata": {},
   "outputs": [],
   "source": [
    "def objective(trial, X, y, weights, low_confidence_mask):\n",
    "    param = CONST_PARAM | {\n",
    "        \"lambda_l1\": trial.suggest_loguniform(\"lambda_l1\", 1e-8, 10.0),\n",
    "        \"lambda_l2\": trial.suggest_loguniform(\"lambda_l2\", 1e-8, 10.0),\n",
    "        \"num_leaves\": trial.suggest_int(\"num_leaves\", 2, 300),\n",
    "        \"feature_fraction\": trial.suggest_uniform(\"feature_fraction\", 0.0, 1.0),\n",
    "        \"bagging_fraction\": trial.suggest_uniform(\"bagging_fraction\", 0.0, 1.0),\n",
    "        \"bagging_freq\": trial.suggest_int(\"bagging_freq\", 0, 7),\n",
    "        \"min_data_in_leaf\": trial.suggest_int(\"min_data_in_leaf\", 5, 200),\n",
    "    }\n",
    "    models, preds = training_loop(X, y, weights, param)\n",
    "    pred_labels = np.rint(preds)\n",
    "    accuracy = metrics.accuracy_score(y[~low_confidence_mask], pred_labels[~low_confidence_mask])\n",
    "    auc = metrics.roc_auc_score(y[~low_confidence_mask], preds[~low_confidence_mask])\n",
    "    precision = metrics.average_precision_score(\n",
    "        y[~low_confidence_mask], preds[~low_confidence_mask]\n",
    "    )\n",
    "    return precision"
   ]
  },
  {
   "cell_type": "code",
   "execution_count": null,
   "id": "c08a17c4-00ea-4d95-9d4d-6093e5e4d543",
   "metadata": {
    "tags": []
   },
   "outputs": [],
   "source": [
    "study = optuna.create_study(direction=\"maximize\")\n",
    "study.enqueue_trial(best_parameters)\n",
    "study.optimize(lambda trial: objective(trial, X, y, weights, low_confidence_mask), n_trials=200)\n",
    "\n",
    "print(\"Number of finished trials:\", len(study.trials))\n",
    "print(\"Best trial:\", study.best_trial.params)"
   ]
  },
  {
   "cell_type": "code",
   "execution_count": null,
   "id": "58241381-5e0e-4f30-9a22-e2b025d08a7d",
   "metadata": {},
   "outputs": [],
   "source": [
    "final_best_parameters = study.best_trial.params\n",
    "\n",
    "print(\"Number of finished trials:\", len(study.trials))\n",
    "print(\"Best trial:\", study.best_trial.params)"
   ]
  },
  {
   "cell_type": "markdown",
   "id": "a605b04c-2a87-4473-99ec-1393f51e14e7",
   "metadata": {},
   "source": [
    "## Validation "
   ]
  },
  {
   "cell_type": "code",
   "execution_count": null,
   "id": "8ed6679a-bfb4-40c0-8ca0-8bcd964eaa1d",
   "metadata": {
    "tags": []
   },
   "outputs": [],
   "source": [
    "models, preds = training_loop(X, y, weights, CONST_PARAM | final_best_parameters, progressbar=True)\n",
    "\n",
    "corr = stats.spearmanr(y[~low_confidence_mask], preds[~low_confidence_mask])\n",
    "auc = metrics.roc_auc_score(y[~low_confidence_mask], preds[~low_confidence_mask])\n",
    "precision = metrics.average_precision_score(y[~low_confidence_mask], preds[~low_confidence_mask])\n",
    "print(corr[0], auc, precision)"
   ]
  },
  {
   "cell_type": "markdown",
   "id": "65670cdc-f032-4b9d-a63b-c55eca0627b7",
   "metadata": {},
   "source": [
    "## Save best parameters and model"
   ]
  },
  {
   "cell_type": "code",
   "execution_count": null,
   "id": "150c36d0-a781-40d1-ac83-e6cb7b27d6db",
   "metadata": {},
   "outputs": [],
   "source": [
    "with NOTEBOOK_DIR.joinpath(UNIQUE_ID, \"best-parameters.json\").open(\"wt\") as fout:\n",
    "    json.dump(best_parameters, fout)\n",
    "\n",
    "with NOTEBOOK_DIR.joinpath(UNIQUE_ID, \"best-features-to-exclude.json\").open(\n",
    "    \"wt\"\n",
    ") as fout:\n",
    "    json.dump(best_row[\"features_to_exclude\"], fout)\n",
    "\n",
    "for model_idx, model in enumerate(models):\n",
    "    model.save_model(\n",
    "        str(NOTEBOOK_DIR.joinpath(UNIQUE_ID, f\"best-model-{model_idx}.txt\"))\n",
    "    )"
   ]
  },
  {
   "cell_type": "code",
   "execution_count": null,
   "id": "4e16fdc2-f6bf-45e5-8b98-64ffa69d0349",
   "metadata": {},
   "outputs": [],
   "source": []
  }
 ],
 "metadata": {
  "kernelspec": {
   "display_name": "Python 3 (ipykernel)",
   "language": "python",
   "name": "python3"
  },
  "language_info": {
   "codemirror_mode": {
    "name": "ipython",
    "version": 3
   },
   "file_extension": ".py",
   "mimetype": "text/x-python",
   "name": "python",
   "nbconvert_exporter": "python",
   "pygments_lexer": "ipython3",
   "version": "3.9.6"
  }
 },
 "nbformat": 4,
 "nbformat_minor": 5
}
