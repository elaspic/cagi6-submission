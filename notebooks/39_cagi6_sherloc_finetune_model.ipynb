{
 "cells": [
  {
   "cell_type": "markdown",
   "id": "e8b62db5-9b6c-4e76-b799-938217f14de3",
   "metadata": {
    "jp-MarkdownHeadingCollapsed": true,
    "tags": []
   },
   "source": [
    "## Summary\n",
    "\n",
    "```bash\n",
    "export NOTEBOOK_PATH=\"$(realpath 39_cagi6_sherloc_finetune_model.ipynb)\"\n",
    "\n",
    "export UNIQUE_ID=\"7f2ea4f1\"\n",
    "sbatch --export NOTEBOOK_PATH,UNIQUE_ID --job-name=\"finetune-${UNIQUE_ID}\" --time 24:00:00 --ntasks-per-node 40 --mem=32G --array=1-1 ../scripts/run_notebook_cpu.sh\n",
    "```\n",
    "\n",
    "---"
   ]
  },
  {
   "cell_type": "markdown",
   "id": "68d42c62-c3ed-4516-ad26-9bdeec5e490a",
   "metadata": {},
   "source": [
    "## Imports"
   ]
  },
  {
   "cell_type": "code",
   "execution_count": null,
   "id": "ec59fed5-93b9-40a9-8f7d-574564c99c61",
   "metadata": {},
   "outputs": [],
   "source": [
    "import json\n",
    "import os\n",
    "import pickle\n",
    "import sys\n",
    "from pathlib import Path\n",
    "\n",
    "import lightgbm as lgb\n",
    "import matplotlib.pyplot as plt\n",
    "import numpy as np\n",
    "import optuna\n",
    "import pandas as pd\n",
    "import pyarrow as pa\n",
    "import pyarrow.parquet as pq\n",
    "from scipy import stats\n",
    "from sklearn import metrics, model_selection\n",
    "from tqdm.auto import tqdm"
   ]
  },
  {
   "cell_type": "code",
   "execution_count": null,
   "id": "2411f4ab-5bcb-440c-9971-acde93e7b688",
   "metadata": {},
   "outputs": [],
   "source": [
    "pd.set_option(\"max_columns\", 1000)\n",
    "pd.set_option(\"max_rows\", 1000)"
   ]
  },
  {
   "cell_type": "markdown",
   "id": "57c9dcf8-ece2-40e8-b168-42dd509ef3cf",
   "metadata": {},
   "source": [
    "## Parameters"
   ]
  },
  {
   "cell_type": "code",
   "execution_count": null,
   "id": "ae494658-60ab-4912-b09e-f9609c1d94e0",
   "metadata": {},
   "outputs": [],
   "source": [
    "NOTEBOOK_DIR = Path(\"39_cagi6_sherloc_finetune_model\").resolve()\n",
    "NOTEBOOK_DIR.mkdir(exist_ok=True)\n",
    "\n",
    "NOTEBOOK_DIR"
   ]
  },
  {
   "cell_type": "code",
   "execution_count": null,
   "id": "023dde43-1675-4337-a0e3-28d96c27ca00",
   "metadata": {},
   "outputs": [],
   "source": [
    "src_dir = str(NOTEBOOK_DIR.parents[1].joinpath(\"src\"))\n",
    "if src_dir not in sys.path:\n",
    "    sys.path.insert(0, src_dir)\n",
    "\n",
    "import helpers"
   ]
  },
  {
   "cell_type": "code",
   "execution_count": null,
   "id": "31429378-06e1-4fe4-bc67-1a00ab5dc8ba",
   "metadata": {},
   "outputs": [],
   "source": [
    "N_TRIALS = 100\n",
    "\n",
    "N_TRIALS"
   ]
  },
  {
   "cell_type": "code",
   "execution_count": null,
   "id": "8df5fd9c-3eda-480e-b862-928521b0e646",
   "metadata": {},
   "outputs": [],
   "source": [
    "UNIQUE_ID = os.getenv(\"UNIQUE_ID\")\n",
    "TASK_ID = os.getenv(\"SLURM_ARRAY_TASK_ID\")\n",
    "\n",
    "UNIQUE_ID, TASK_ID"
   ]
  },
  {
   "cell_type": "code",
   "execution_count": null,
   "id": "cca0b825-9be1-411e-81e2-1a3b505b666c",
   "metadata": {},
   "outputs": [],
   "source": [
    "DEBUG = TASK_ID is None\n",
    "\n",
    "if DEBUG:\n",
    "    UNIQUE_ID = \"40bd478e\"\n",
    "    N_TRIALS = 2\n",
    "else:\n",
    "    assert UNIQUE_ID is not None\n",
    "\n",
    "UNIQUE_ID, N_TRIALS, DEBUG"
   ]
  },
  {
   "cell_type": "code",
   "execution_count": null,
   "id": "b2e536a2-f4ee-47cf-8768-68a3127acded",
   "metadata": {},
   "outputs": [],
   "source": [
    "NOTEBOOK_DIR.joinpath(UNIQUE_ID).mkdir(parents=True, exist_ok=True)"
   ]
  },
  {
   "cell_type": "code",
   "execution_count": null,
   "id": "85a7314a-27ee-4ee2-af19-804f2011ed57",
   "metadata": {},
   "outputs": [],
   "source": [
    "optuna_db_file = NOTEBOOK_DIR.joinpath(UNIQUE_ID, \"optuna.db\").resolve()\n",
    "\n",
    "optuna_db_file"
   ]
  },
  {
   "cell_type": "markdown",
   "id": "f9c3c414-1e6b-4db7-8db0-ea91db106185",
   "metadata": {},
   "source": [
    "## Load data"
   ]
  },
  {
   "cell_type": "markdown",
   "id": "7925b4de-7ee5-48e6-b2db-a62c4be2f1a2",
   "metadata": {},
   "source": [
    "### Results"
   ]
  },
  {
   "cell_type": "code",
   "execution_count": null,
   "id": "ad4ec47a-0490-4fbc-bccf-8ccbc4a6e559",
   "metadata": {},
   "outputs": [],
   "source": [
    "input_file_1 = NOTEBOOK_DIR.parent.joinpath(\n",
    "    \"37_cagi6_sherloc_combine_results\", \"combined-results.parquet\"\n",
    ")\n",
    "\n",
    "input_file_2 = NOTEBOOK_DIR.parent.joinpath(\n",
    "    \"37_humsavar_combine_results\", \"combined-results.parquet\"\n",
    ")\n",
    "\n",
    "input_file_1, input_file_2"
   ]
  },
  {
   "cell_type": "code",
   "execution_count": null,
   "id": "90bbaead-f3d2-4fb4-bd6f-abbd798051f9",
   "metadata": {},
   "outputs": [],
   "source": [
    "result_1_df = pq.read_table(input_file_1).to_pandas()\n",
    "result_2_df = pq.read_table(input_file_2).to_pandas()"
   ]
  },
  {
   "cell_type": "code",
   "execution_count": null,
   "id": "72b1556a-c7be-408d-b60d-970e26bf9c35",
   "metadata": {},
   "outputs": [],
   "source": [
    "result_1_df[\"protein_id\"].isnull().sum()"
   ]
  },
  {
   "cell_type": "code",
   "execution_count": null,
   "id": "a4e6d63a-673c-40ba-b662-061aa96508e0",
   "metadata": {},
   "outputs": [],
   "source": [
    "result_1_df = result_1_df.dropna(subset=[\"protein_id\"])"
   ]
  },
  {
   "cell_type": "code",
   "execution_count": null,
   "id": "a00272f6-9e52-4990-b3b6-d34e6f23c301",
   "metadata": {},
   "outputs": [],
   "source": [
    "common_columns = set(result_1_df) & set(result_2_df)\n",
    "mismatched_columns = set(result_1_df) ^ set(result_2_df)\n",
    "\n",
    "len(common_columns), len(mismatched_columns)"
   ]
  },
  {
   "cell_type": "code",
   "execution_count": null,
   "id": "0d730ad3-3fb2-431b-a68b-66e5578e143f",
   "metadata": {},
   "outputs": [],
   "source": [
    "mismatched_columns"
   ]
  },
  {
   "cell_type": "code",
   "execution_count": null,
   "id": "524d2714-477d-4419-b336-507aa5a22608",
   "metadata": {},
   "outputs": [],
   "source": [
    "result_df = pd.concat(\n",
    "    [result_1_df[common_columns], result_2_df[common_columns]],\n",
    "    ignore_index=True,\n",
    ")\n",
    "del result_1_df, result_2_df\n",
    "\n",
    "display(result_df.head(2))\n",
    "print(len(result_df))"
   ]
  },
  {
   "cell_type": "code",
   "execution_count": null,
   "id": "8d8999d8-93a4-4122-ba04-500c31be3e5f",
   "metadata": {},
   "outputs": [],
   "source": [
    "effect_map = {\n",
    "    \"Uncertain significance\": 0,\n",
    "    \"US\": 0,\n",
    "    \"Likely benign\": -1,\n",
    "    \"Benign\": -1,\n",
    "    \"LB/B\": -1,\n",
    "    \"Likely pathogenic\": 1,\n",
    "    \"Pathogenic\": 1,\n",
    "    \"LP/P\": 1,\n",
    "}\n",
    "\n",
    "result_df[\"effect_score\"] = result_df[\"effect\"].map(effect_map)"
   ]
  },
  {
   "cell_type": "code",
   "execution_count": null,
   "id": "df7fdb62-7e7d-4f36-a8f7-d5ca5e825098",
   "metadata": {},
   "outputs": [],
   "source": [
    "result_df[\"effect_score\"].value_counts()"
   ]
  },
  {
   "cell_type": "markdown",
   "id": "803439ee-bcfc-46fb-9df6-2d02926b7c50",
   "metadata": {},
   "source": [
    "### Features"
   ]
  },
  {
   "cell_type": "code",
   "execution_count": null,
   "id": "b78e96b1-7fd9-4a24-baed-265b333d177a",
   "metadata": {},
   "outputs": [],
   "source": [
    "with NOTEBOOK_DIR.parent.joinpath(\n",
    "    \"38_cagi6_sherloc_train_model\", UNIQUE_ID, \"scalar-features.json\"\n",
    ").open(\"rb\") as fin:\n",
    "    scalar_features = json.load(fin)\n",
    "\n",
    "with NOTEBOOK_DIR.parent.joinpath(\n",
    "    \"38_cagi6_sherloc_train_model\", UNIQUE_ID, \"vector-features.json\"\n",
    ").open(\"rb\") as fin:\n",
    "    vector_features = json.load(fin)\n",
    "\n",
    "with NOTEBOOK_DIR.parent.joinpath(\n",
    "    \"38_cagi6_sherloc_train_model\", UNIQUE_ID, \"column-group-map.json\"\n",
    ").open(\"rb\") as fin:\n",
    "    column_group_map = json.load(fin)\n",
    "\n",
    "len(scalar_features), len(vector_features), len(column_group_map)"
   ]
  },
  {
   "cell_type": "markdown",
   "id": "ce1a03d9-778c-4c83-9bff-f142110968a8",
   "metadata": {},
   "source": [
    "### Stats"
   ]
  },
  {
   "cell_type": "code",
   "execution_count": null,
   "id": "8826d4d4-311e-4c07-8d11-96fb495eb998",
   "metadata": {},
   "outputs": [],
   "source": [
    "with NOTEBOOK_DIR.parent.joinpath(\n",
    "    \"38_cagi6_sherloc_train_model\", UNIQUE_ID, \"feature-elimination-stats.pickle\"\n",
    ").open(\"rb\") as fin:\n",
    "    feature_elimination_stats = pickle.load(fin)"
   ]
  },
  {
   "cell_type": "markdown",
   "id": "cfbc11a7-7a1a-4c2b-9b98-6a6c693a8252",
   "metadata": {},
   "source": [
    "### Training dataframe"
   ]
  },
  {
   "cell_type": "code",
   "execution_count": null,
   "id": "92c9edc3-12f6-480e-a228-e66e4d372f8b",
   "metadata": {
    "papermill": {
     "duration": 1.910946,
     "end_time": "2021-11-27T05:13:45.298212",
     "exception": false,
     "start_time": "2021-11-27T05:13:43.387266",
     "status": "completed"
    },
    "tags": []
   },
   "outputs": [],
   "source": [
    "training_df = (\n",
    "    result_df.dropna(\n",
    "        subset=scalar_features\n",
    "        + vector_features\n",
    "        + [\n",
    "            \"effect_score\",\n",
    "        ]\n",
    "    )\n",
    "    .drop_duplicates(subset=[\"protein_id\", \"mutation\"])\n",
    "    .sort_values(\"protein_id\")\n",
    "    .reset_index(drop=True)\n",
    ")\n",
    "training_df = training_df[training_df[\"effect_score\"] != 0]"
   ]
  },
  {
   "cell_type": "code",
   "execution_count": null,
   "id": "219ef755-6135-4837-b292-d144ab339000",
   "metadata": {},
   "outputs": [],
   "source": [
    "training_df, column_group_map, expanded_vector_features = helpers.expand_arrays(\n",
    "    training_df, vector_features\n",
    ")"
   ]
  },
  {
   "cell_type": "code",
   "execution_count": null,
   "id": "cfa0e41b-cc84-41ee-b0ce-a7fb02d1001d",
   "metadata": {
    "papermill": {
     "duration": 9.110698,
     "end_time": "2021-11-27T05:13:54.489369",
     "exception": false,
     "start_time": "2021-11-27T05:13:45.378671",
     "status": "completed"
    },
    "tags": []
   },
   "outputs": [],
   "source": [
    "# row = next(training_df[vector_features].itertuples(index=False))._asdict()\n",
    "\n",
    "# column_group_map = {}\n",
    "# expanded_vector_features = []\n",
    "# for column, data in row.items():\n",
    "#     new_columns = [f\"{column}_{i}\" for i in range(len(data))]\n",
    "#     training_df[new_columns] = np.vstack(training_df[column].values)\n",
    "#     del training_df[column]\n",
    "#     column_group_map |= {nc: column for nc in new_columns}\n",
    "#     expanded_vector_features += new_columns"
   ]
  },
  {
   "cell_type": "code",
   "execution_count": null,
   "id": "c5543c22-7634-4a49-89df-5b380d28941d",
   "metadata": {
    "papermill": {
     "duration": 2.523958,
     "end_time": "2021-11-27T05:13:57.275332",
     "exception": false,
     "start_time": "2021-11-27T05:13:54.751374",
     "status": "completed"
    },
    "tags": []
   },
   "outputs": [],
   "source": [
    "# training_df = training_df.copy()"
   ]
  },
  {
   "cell_type": "code",
   "execution_count": null,
   "id": "22317183-022d-4746-b6b8-5b7e86b109bb",
   "metadata": {
    "papermill": {
     "duration": 1.340452,
     "end_time": "2021-11-27T05:13:58.699543",
     "exception": false,
     "start_time": "2021-11-27T05:13:57.359091",
     "status": "completed"
    },
    "tags": []
   },
   "outputs": [],
   "source": [
    "value_counts = training_df[\"protein_id\"].value_counts()\n",
    "groups = training_df[\"protein_id\"].drop_duplicates().map(value_counts).values\n",
    "\n",
    "protein_ids = training_df[\"protein_id\"]"
   ]
  },
  {
   "cell_type": "code",
   "execution_count": null,
   "id": "51b77163-922e-47ba-a202-8ae14be55f65",
   "metadata": {
    "papermill": {
     "duration": 0.091723,
     "end_time": "2021-11-27T05:13:58.876513",
     "exception": false,
     "start_time": "2021-11-27T05:13:58.784790",
     "status": "completed"
    },
    "tags": []
   },
   "outputs": [],
   "source": [
    "training_df[\"effect_score\"].value_counts()"
   ]
  },
  {
   "cell_type": "code",
   "execution_count": null,
   "id": "9de0e4a0-7cd8-4941-96a6-fc34b31abdc5",
   "metadata": {
    "papermill": {
     "duration": 0.088612,
     "end_time": "2021-11-27T05:13:59.050021",
     "exception": false,
     "start_time": "2021-11-27T05:13:58.961409",
     "status": "completed"
    },
    "tags": []
   },
   "outputs": [],
   "source": [
    "len(training_df)"
   ]
  },
  {
   "cell_type": "markdown",
   "id": "815407ee-298d-409d-a43d-e72e1ad2afea",
   "metadata": {},
   "source": [
    "## Find best row"
   ]
  },
  {
   "cell_type": "code",
   "execution_count": null,
   "id": "6a63f88e-4881-4fc4-9333-184ec1922826",
   "metadata": {},
   "outputs": [],
   "source": [
    "feature_elimination_df = pd.DataFrame(\n",
    "    feature_elimination_stats,\n",
    "    columns=[\n",
    "        \"round\",\n",
    "        \"spearman_r\",\n",
    "        \"auc\",\n",
    "        \"precision\",\n",
    "        \"num_present_features\",\n",
    "        \"present_features\",\n",
    "    ],\n",
    ")"
   ]
  },
  {
   "cell_type": "code",
   "execution_count": null,
   "id": "fbd99987-7987-4a68-852b-6291d4420d1a",
   "metadata": {},
   "outputs": [],
   "source": [
    "df = feature_elimination_df.iloc[:-24]\n",
    "\n",
    "plt.plot(df[\"round\"], df[\"precision\"])"
   ]
  },
  {
   "cell_type": "code",
   "execution_count": null,
   "id": "81bc823c-316b-42af-af0f-e1f8192cc7bd",
   "metadata": {},
   "outputs": [],
   "source": [
    "plt.plot(df[\"num_present_features\"], df[\"precision\"])"
   ]
  },
  {
   "cell_type": "code",
   "execution_count": null,
   "id": "89b7c35d-89af-4ee6-bc8a-bc44133f19f1",
   "metadata": {},
   "outputs": [],
   "source": [
    "best_row_idx = np.argmax(feature_elimination_df[\"precision\"])\n",
    "\n",
    "best_row = feature_elimination_df.iloc[best_row_idx]\n",
    "\n",
    "best_row"
   ]
  },
  {
   "cell_type": "code",
   "execution_count": null,
   "id": "0a53a070-1959-4db5-9ce0-4548199a3d9e",
   "metadata": {},
   "outputs": [],
   "source": [
    "# sorted(best_row[\"present_features\"])"
   ]
  },
  {
   "cell_type": "markdown",
   "id": "1d730199-bbd4-42fb-9df7-08ed3e66ff77",
   "metadata": {},
   "source": [
    "## Load best models"
   ]
  },
  {
   "cell_type": "code",
   "execution_count": null,
   "id": "ec8669a0-3a09-4859-b59a-e1f891e12f01",
   "metadata": {},
   "outputs": [],
   "source": [
    "X = training_df[best_row[\"present_features\"]].values\n",
    "y = (training_df[\"effect_score\"] > 0).values.astype(int)"
   ]
  },
  {
   "cell_type": "code",
   "execution_count": null,
   "id": "1af378e6-8fa0-40c6-a8a6-155fa896b12d",
   "metadata": {},
   "outputs": [],
   "source": [
    "checkpoint_intervals = np.array([3500, 2000, 1000, 500])\n",
    "\n",
    "checkpoint_to_load = checkpoint_intervals[(checkpoint_intervals - best_row[\"num_present_features\"]) >= 0][-1]\n",
    "\n",
    "checkpoint_to_load, best_row[\"num_present_features\"], checkpoint_intervals"
   ]
  },
  {
   "cell_type": "code",
   "execution_count": null,
   "id": "82b07e7f-8ccf-4a25-aeb1-fd88a639f102",
   "metadata": {},
   "outputs": [],
   "source": [
    "try:\n",
    "    with NOTEBOOK_DIR.parent.joinpath(\n",
    "        \"38_cagi6_sherloc_train_model\", UNIQUE_ID, f\"best-parameters-{checkpoint_to_load}.json\"\n",
    "    ).open(\"rb\") as fin:\n",
    "        best_parameters = json.load(fin)\n",
    "except FileNotFoundError as e:\n",
    "    print(e)\n",
    "    with NOTEBOOK_DIR.parent.joinpath(\n",
    "        \"38_cagi6_sherloc_train_model\", UNIQUE_ID, \"best-parameters-starting.json\"\n",
    "    ).open(\"rb\") as fin:\n",
    "        best_parameters = json.load(fin)\n",
    "\n",
    "best_parameters"
   ]
  },
  {
   "cell_type": "code",
   "execution_count": null,
   "id": "959d7f42-a8a8-4ab7-bb27-720e359699b3",
   "metadata": {},
   "outputs": [],
   "source": [
    "if best_parameters[\"lambda_l1\"] < 1e-8:\n",
    "    best_parameters[\"lambda_l1\"] = 1e-8\n",
    "\n",
    "if best_parameters[\"lambda_l2\"] < 1e-8:\n",
    "    best_parameters[\"lambda_l2\"] = 1e-8"
   ]
  },
  {
   "cell_type": "markdown",
   "id": "fbee31b3-d212-40b3-a145-3dedbed1d58a",
   "metadata": {},
   "source": [
    "## Tune hyperparameters"
   ]
  },
  {
   "cell_type": "code",
   "execution_count": null,
   "id": "edbc983a-41c8-49d5-b5ca-6b42152373c6",
   "metadata": {},
   "outputs": [],
   "source": [
    "CONST_PARAM = {\n",
    "    \"objective\": \"binary\",\n",
    "    #     \"metric\": \"binary_logloss\",\n",
    "    \"metric\": \"average_precision\",\n",
    "    # \"is_unbalance\": True,\n",
    "}"
   ]
  },
  {
   "cell_type": "code",
   "execution_count": null,
   "id": "1c28ad02-b635-4b96-8883-21cd5f476642",
   "metadata": {},
   "outputs": [],
   "source": [
    "def training_loop(X, y, groups, param, n_splits=6, progressbar=False):\n",
    "    models = []\n",
    "    preds = np.ones(len(y), dtype=np.float64) * np.nan\n",
    "    gkf = model_selection.GroupKFold(n_splits=n_splits)\n",
    "    for train_index, test_index in tqdm(\n",
    "        gkf.split(X, y, groups=groups),\n",
    "        total=n_splits,\n",
    "        disable=not progressbar,\n",
    "    ):\n",
    "        X_training, X_testing = X[train_index], X[test_index]\n",
    "        y_training, y_testing = y[train_index], y[test_index]\n",
    "        # weights_training, weights_testing = weights[train_index], weights[test_index]\n",
    "\n",
    "        dtrain = lgb.Dataset(\n",
    "            X_training,\n",
    "            label=y_training,\n",
    "            # weight=weights_training,\n",
    "        )\n",
    "        model = lgb.train(param, dtrain, num_boost_round=1000)\n",
    "        preds[test_index] = model.predict(X_testing)\n",
    "        models.append(model)\n",
    "    return models, preds"
   ]
  },
  {
   "cell_type": "code",
   "execution_count": null,
   "id": "03573378-042c-4b6d-83aa-850c73829a1b",
   "metadata": {},
   "outputs": [],
   "source": [
    "def objective(trial, X, y):\n",
    "    param = CONST_PARAM | {\n",
    "        \"verbosity\": -1,\n",
    "        \"lambda_l1\": trial.suggest_loguniform(\"lambda_l1\", 1e-8, 10.0),\n",
    "        \"lambda_l2\": trial.suggest_loguniform(\"lambda_l2\", 1e-8, 10.0),\n",
    "        \"num_leaves\": trial.suggest_int(\"num_leaves\", 2, 300),\n",
    "        \"feature_fraction\": trial.suggest_uniform(\"feature_fraction\", 0.0, 1.0),\n",
    "        \"bagging_fraction\": trial.suggest_uniform(\"bagging_fraction\", 0.0, 1.0),\n",
    "        \"bagging_freq\": trial.suggest_int(\"bagging_freq\", 0, 7),\n",
    "        \"min_data_in_leaf\": trial.suggest_int(\n",
    "            \"min_data_in_leaf\", 5, 200\n",
    "        ),  # aka: min_child_samples\n",
    "    }\n",
    "    models, preds = training_loop(X, y, protein_ids, param)\n",
    "    pred_labels = np.rint(preds)\n",
    "    accuracy = metrics.accuracy_score(y, pred_labels)\n",
    "    auc = metrics.roc_auc_score(y, preds)\n",
    "    precision = metrics.average_precision_score(y, preds)\n",
    "    return precision"
   ]
  },
  {
   "cell_type": "code",
   "execution_count": null,
   "id": "c08a17c4-00ea-4d95-9d4d-6093e5e4d543",
   "metadata": {
    "tags": []
   },
   "outputs": [],
   "source": [
    "study = optuna.create_study(\n",
    "    storage=f\"sqlite:///{optuna_db_file}\",\n",
    "    study_name=UNIQUE_ID,\n",
    "    direction=\"maximize\",\n",
    "    load_if_exists=True,\n",
    ")\n",
    "study.enqueue_trial(best_parameters)\n",
    "study.enqueue_trial(\n",
    "    {\n",
    "        \"lambda_l1\": 0.004151913200216491,\n",
    "        \"lambda_l2\": 2.5281035276022037e-05,\n",
    "        \"num_leaves\": 227,\n",
    "        \"feature_fraction\": 0.46198848429912065,\n",
    "        \"bagging_fraction\": 0.899175197391076,\n",
    "        \"bagging_freq\": 1,\n",
    "        \"min_data_in_leaf\": 161,\n",
    "    }\n",
    ")\n",
    "study.optimize(lambda trial: objective(trial, X, y), n_trials=N_TRIALS)\n",
    "\n",
    "print(\"Number of finished trials:\", len(study.trials))\n",
    "print(\"Best trial:\", study.best_trial.params)"
   ]
  },
  {
   "cell_type": "code",
   "execution_count": null,
   "id": "58241381-5e0e-4f30-9a22-e2b025d08a7d",
   "metadata": {},
   "outputs": [],
   "source": [
    "final_best_parameters = study.best_trial.params\n",
    "\n",
    "print(\"Number of finished trials:\", len(study.trials))\n",
    "print(\"Best trial:\", study.best_trial.params)"
   ]
  },
  {
   "cell_type": "markdown",
   "id": "a605b04c-2a87-4473-99ec-1393f51e14e7",
   "metadata": {},
   "source": [
    "## Validation "
   ]
  },
  {
   "cell_type": "code",
   "execution_count": null,
   "id": "8ed6679a-bfb4-40c0-8ca0-8bcd964eaa1d",
   "metadata": {
    "tags": []
   },
   "outputs": [],
   "source": [
    "models, preds = training_loop(\n",
    "    X, y, protein_ids, CONST_PARAM | final_best_parameters, progressbar=True\n",
    ")\n",
    "\n",
    "corr = stats.spearmanr(y, preds)\n",
    "auc = metrics.roc_auc_score(y, preds)\n",
    "precision = metrics.average_precision_score(y, preds)\n",
    "print(corr[0], auc, precision)"
   ]
  },
  {
   "cell_type": "markdown",
   "id": "65670cdc-f032-4b9d-a63b-c55eca0627b7",
   "metadata": {},
   "source": [
    "## Save best parameters and model"
   ]
  },
  {
   "cell_type": "code",
   "execution_count": null,
   "id": "150c36d0-a781-40d1-ac83-e6cb7b27d6db",
   "metadata": {},
   "outputs": [],
   "source": [
    "if not DEBUG:\n",
    "    with NOTEBOOK_DIR.joinpath(UNIQUE_ID, \"best-parameters.json\").open(\"wt\") as fout:\n",
    "        json.dump(final_best_parameters, fout)\n",
    "\n",
    "    with NOTEBOOK_DIR.joinpath(UNIQUE_ID, \"best-features.json\").open(\"wt\") as fout:\n",
    "        json.dump(best_row[\"present_features\"], fout)\n",
    "\n",
    "    for model_idx, model in enumerate(models):\n",
    "        model.save_model(\n",
    "            str(NOTEBOOK_DIR.joinpath(UNIQUE_ID, f\"best-model-{model_idx}.txt\"))\n",
    "        )"
   ]
  },
  {
   "cell_type": "code",
   "execution_count": null,
   "id": "4e16fdc2-f6bf-45e5-8b98-64ffa69d0349",
   "metadata": {},
   "outputs": [],
   "source": []
  }
 ],
 "metadata": {
  "kernelspec": {
   "display_name": "Python 3 (ipykernel)",
   "language": "python",
   "name": "python3"
  },
  "language_info": {
   "codemirror_mode": {
    "name": "ipython",
    "version": 3
   },
   "file_extension": ".py",
   "mimetype": "text/x-python",
   "name": "python",
   "nbconvert_exporter": "python",
   "pygments_lexer": "ipython3",
   "version": "3.9.7"
  }
 },
 "nbformat": 4,
 "nbformat_minor": 5
}
