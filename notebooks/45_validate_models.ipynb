{
 "cells": [
  {
   "cell_type": "markdown",
   "id": "a553a3d0-ff72-4348-8d34-f988c226601a",
   "metadata": {},
   "source": [
    "## Summary\n",
    "\n",
    "---"
   ]
  },
  {
   "cell_type": "markdown",
   "id": "9062422f-170c-46b1-abf1-07a7b6349332",
   "metadata": {},
   "source": [
    "## Imports"
   ]
  },
  {
   "cell_type": "code",
   "execution_count": null,
   "id": "4341c142-7f64-4544-9991-f1cafa0ae395",
   "metadata": {},
   "outputs": [],
   "source": [
    "import sys\n",
    "from pathlib import Path\n",
    "\n",
    "import lightgbm as lgb\n",
    "import matplotlib.pyplot as plt\n",
    "import numpy as np\n",
    "import pandas as pd\n",
    "import pyarrow as pa\n",
    "import pyarrow.parquet as pq\n",
    "from scipy import stats\n",
    "from sklearn import metrics, model_selection\n",
    "from tqdm.auto import tqdm"
   ]
  },
  {
   "cell_type": "code",
   "execution_count": null,
   "id": "eb478c26-0145-4441-a871-418f5ec30691",
   "metadata": {},
   "outputs": [],
   "source": [
    "pd.set_option(\"max_rows\", 1000)\n",
    "pd.set_option(\"max_columns\", 1000)"
   ]
  },
  {
   "cell_type": "markdown",
   "id": "616a7c46-d542-4a89-937d-999d3e5d6041",
   "metadata": {},
   "source": [
    "## Parameters"
   ]
  },
  {
   "cell_type": "code",
   "execution_count": null,
   "id": "8ea542f6-2304-4997-a978-6517a5694a01",
   "metadata": {},
   "outputs": [],
   "source": [
    "NOTEBOOK_DIR = Path(\"45_validate_models\").resolve()\n",
    "NOTEBOOK_DIR.mkdir(exist_ok=True)\n",
    "\n",
    "NOTEBOOK_DIR"
   ]
  },
  {
   "cell_type": "code",
   "execution_count": null,
   "id": "ab7306b1-1a5e-4258-83ee-2522ffa713c1",
   "metadata": {},
   "outputs": [],
   "source": [
    "src_dir = str(NOTEBOOK_DIR.parents[1].joinpath(\"src\"))\n",
    "if src_dir not in sys.path:\n",
    "    sys.path.insert(0, src_dir)\n",
    "\n",
    "import helpers"
   ]
  },
  {
   "cell_type": "markdown",
   "id": "6a287705-1de3-4acf-9425-ece87170ce7b",
   "metadata": {},
   "source": [
    "## Load results"
   ]
  },
  {
   "cell_type": "code",
   "execution_count": null,
   "id": "e57f741e-f937-4f7e-a337-2d4139db2e8c",
   "metadata": {},
   "outputs": [],
   "source": [
    "input_file = NOTEBOOK_DIR.parent.joinpath(\n",
    "    \"37_cagi6_sherloc_combine_results\", \"combined-results.parquet\"\n",
    ")\n",
    "\n",
    "input_file"
   ]
  },
  {
   "cell_type": "code",
   "execution_count": null,
   "id": "871a4435-e16b-4311-95f3-b176c1f8edc6",
   "metadata": {},
   "outputs": [],
   "source": [
    "result_df = pq.read_table(input_file).to_pandas()\n",
    "\n",
    "display(result_df.head(2))\n",
    "print(len(result_df))"
   ]
  },
  {
   "cell_type": "code",
   "execution_count": null,
   "id": "d093309b-e850-478c-9d0d-1f9068d21232",
   "metadata": {},
   "outputs": [],
   "source": [
    "effect_map = {\n",
    "    \"Uncertain significance\": 0,\n",
    "    \"Likely benign\": -1,\n",
    "    \"Benign\": -2,\n",
    "    \"Likely pathogenic\": 1,\n",
    "    \"Pathogenic\": 2,\n",
    "}\n",
    "\n",
    "result_df[\"effect_score\"] = result_df[\"effect\"].map(effect_map)"
   ]
  },
  {
   "cell_type": "markdown",
   "id": "ecb0786f-fa0d-4ff1-b18c-d62a461ded99",
   "metadata": {},
   "source": [
    "## Exploratory data analysis"
   ]
  },
  {
   "cell_type": "code",
   "execution_count": null,
   "id": "5add8675-38c0-46d9-a4b6-a724c60a9fe6",
   "metadata": {},
   "outputs": [],
   "source": [
    "result_df[\"effect\"].value_counts()"
   ]
  },
  {
   "cell_type": "code",
   "execution_count": null,
   "id": "3850d9c9-9780-4e72-8012-deb9d4d4ee42",
   "metadata": {},
   "outputs": [],
   "source": [
    "effect_map = {\n",
    "    \"Uncertain significance\": 0,\n",
    "    \"Likely benign\": -1,\n",
    "    \"Benign\": -2,\n",
    "    \"Likely pathogenic\": 1,\n",
    "    \"Pathogenic\": 2,\n",
    "}\n",
    "\n",
    "result_df[\"effect_score\"] = result_df[\"effect\"].map(effect_map)"
   ]
  },
  {
   "cell_type": "code",
   "execution_count": null,
   "id": "222713d2-9267-480e-bdfe-001d24acdb0f",
   "metadata": {},
   "outputs": [],
   "source": [
    "score_columns = [\n",
    "    \"el2_score\",\n",
    "    \"proteinsolver_core_score_change\",\n",
    "    \"protbert_core_score_change\",\n",
    "    \"rosetta_dg_change\",\n",
    "    #     \"alphafold_core_scores_residue_plddt_wt\",\n",
    "    #     \"alphafold_core_scores_protein_plddt_wt\",\n",
    "    #     \"alphafold_core_scores_protein_max_predicted_aligned_error_wt\",\n",
    "    #     \"alphafold_core_scores_proten_ptm_wt\",\n",
    "]\n",
    "\n",
    "df = result_df.dropna(subset=score_columns + [\"effect_score\"])\n",
    "# df = df[df[\"effect_score\"].isin([-1, 1])].reset_index(drop=True)\n",
    "\n",
    "for col in score_columns:\n",
    "    corr = stats.spearmanr(df[\"effect_score\"], df[col])\n",
    "    auc = metrics.roc_auc_score(df[\"effect_score\"] > 0, df[col])\n",
    "    print(col, corr[0], auc)"
   ]
  },
  {
   "cell_type": "markdown",
   "id": "c336d0c9-260d-473c-8a12-e18c61bf5a49",
   "metadata": {},
   "source": [
    "## Combine"
   ]
  },
  {
   "cell_type": "code",
   "execution_count": null,
   "id": "d9eab633-70f9-491c-8af8-400c1086cf2c",
   "metadata": {},
   "outputs": [],
   "source": [
    "result_df.head(2)"
   ]
  },
  {
   "cell_type": "markdown",
   "id": "67bf71f1-ecbc-496e-bcd7-8389d134534c",
   "metadata": {},
   "source": [
    "## Load ML models and make predictions"
   ]
  },
  {
   "cell_type": "code",
   "execution_count": null,
   "id": "96942136-e06a-4845-806d-404fa41ac8af",
   "metadata": {},
   "outputs": [],
   "source": [
    "def training_loop(X, y, *, weights, groups, param, n_splits=6, progressbar=False):\n",
    "    models = []\n",
    "    preds = np.ones(len(y), dtype=np.float64) * np.nan\n",
    "    gkf = model_selection.GroupKFold(n_splits=n_splits)\n",
    "    for train_index, test_index in tqdm(\n",
    "        gkf.split(X, y, groups=groups),\n",
    "        total=n_splits,\n",
    "        disable=not progressbar,\n",
    "    ):\n",
    "        X_training, X_testing = X[train_index], X[test_index]\n",
    "        y_training, y_testing = y[train_index], y[test_index]\n",
    "        weights_training, weights_testing = weights[train_index], weights[test_index]\n",
    "\n",
    "        groups_training = groups.iloc[train_index]\n",
    "        value_counts = groups_training.value_counts()\n",
    "        group_adj = groups_training.drop_duplicates().map(value_counts)\n",
    "\n",
    "        dtrain = lgb.Dataset(\n",
    "            X_training, label=y_training, weight=weights_training, group=group_adj\n",
    "        )\n",
    "        model = lgb.train(param, dtrain, num_boost_round=1000)\n",
    "        preds[test_index] = model.predict(X_testing)\n",
    "        models.append(model)\n",
    "    return models, preds"
   ]
  },
  {
   "cell_type": "code",
   "execution_count": null,
   "id": "32256298-4e8a-414c-9cf6-2f420bb98cf9",
   "metadata": {
    "tags": []
   },
   "outputs": [],
   "source": [
    "model_infos = [\n",
    "    # `base` + `AFwt`\n",
    "    #     (\"7f9826be\", \"initial\"),\n",
    "    (\"7f9826be\", \"optimized\"),\n",
    "    # `base` + `AFwt`\n",
    "    #     (\"fd28687b\", \"initial\"),\n",
    "    (\"fd28687b\", \"optimized\"),\n",
    "    # `base` + `AFwt` + `AFmut`\n",
    "    #     (\"900500fe\", \"initial\"),\n",
    "    #     (\"900500fe\", \"optimized\"),\n",
    "    # `base` + `AFwt` + `AFmut`\n",
    "    #     (\"be3bdad5\", \"initial\"),\n",
    "    #     (\"be3bdad5\", \"optimized\"),\n",
    "    # `base` + `EL2` + `AFwt`\n",
    "    #     (\"6999e5aa\", \"initial\"),\n",
    "    (\"6999e5aa\", \"optimized\"),\n",
    "    # `base` + `EL2` + `AFwt` + `AFmut` [no opt]\n",
    "    #     (\"4df6fd79\", \"initial\"),\n",
    "    # `base`\n",
    "    #     (\"0d59c727\", \"initial\"),\n",
    "    (\"0d59c727\", \"optimized\"),\n",
    "    # `base - rosetta`\n",
    "    #     (\"eabf01fe\", \"initial\"),\n",
    "    (\"eabf01fe\", \"optimized\"),\n",
    "    # `base - rosetta - ps`\n",
    "    (\"a7b1c747\", \"optimized\"),\n",
    "]"
   ]
  },
  {
   "cell_type": "code",
   "execution_count": null,
   "id": "516608e5-83c2-4052-a26d-79f1115dd917",
   "metadata": {},
   "outputs": [],
   "source": [
    "features = []\n",
    "for unique_id, model_type in tqdm(model_infos):\n",
    "    scalar_features, vector_features = helpers.load_features(\n",
    "        NOTEBOOK_DIR.parent, unique_id\n",
    "    )\n",
    "    features += scalar_features + vector_features\n",
    "\n",
    "\n",
    "prediction_ref_df = result_df[\n",
    "    result_df[\"effect_score\"].notnull() & (result_df[\"effect_score\"] != 0)\n",
    "]\n",
    "prediction_df = (\n",
    "    prediction_ref_df[prediction_ref_df[list(set(features))].notnull().all(axis=1)]\n",
    "    .sort_values(\"protein_id\")\n",
    "    .copy()\n",
    ")\n",
    "print(\n",
    "    f\"Lost {len(prediction_ref_df) - len(prediction_df)} rows due to missing features.\"\n",
    ")"
   ]
  },
  {
   "cell_type": "code",
   "execution_count": null,
   "id": "6dcb1701-8beb-45ef-a223-fca9c9d2b5cd",
   "metadata": {
    "tags": []
   },
   "outputs": [],
   "source": [
    "for unique_id, model_type in tqdm(model_infos):\n",
    "    scalar_features, vector_features = helpers.load_features(\n",
    "        NOTEBOOK_DIR.parent, unique_id\n",
    "    )\n",
    "    features_to_exclude = helpers.load_features_to_exclude(\n",
    "        NOTEBOOK_DIR.parent, unique_id, model_type\n",
    "    )\n",
    "    best_parameters = helpers.load_best_parameters(\n",
    "        NOTEBOOK_DIR.parent, unique_id, model_type\n",
    "    )\n",
    "\n",
    "    X_ref = np.c_[\n",
    "        prediction_df[scalar_features].values,\n",
    "        np.hstack([np.vstack(prediction_df[col].values) for col in vector_features]),\n",
    "    ]\n",
    "\n",
    "    if features_to_exclude is not None:\n",
    "        feature_mask = np.ones(X_ref.shape[1], dtype=bool)\n",
    "        feature_mask[np.array(features_to_exclude, dtype=int)] = False\n",
    "        X = X_ref[:, feature_mask]\n",
    "        assert len(features_to_exclude) == X_ref.shape[1] - X.shape[1]\n",
    "    else:\n",
    "        X = X_ref\n",
    "\n",
    "    low_confidence_mask = (prediction_df[\"effect_score\"] == 0).values\n",
    "\n",
    "    y = (prediction_df[\"effect_score\"] > 0).values.astype(int)\n",
    "    y[low_confidence_mask] = (\n",
    "        prediction_df[low_confidence_mask][\"el2_score\"] > 2\n",
    "    ).values.astype(int)\n",
    "    #     y = prediction_df[\"effect_score\"].values\n",
    "\n",
    "    weights = np.ones(len(prediction_df), dtype=np.float64)\n",
    "    weights[prediction_df[\"effect_score\"] == 1] = 0.5\n",
    "    weights[prediction_df[\"effect_score\"] == -1] = 0.5\n",
    "    weights[low_confidence_mask] = 0.05\n",
    "\n",
    "    protein_ids = prediction_df[\"protein_id\"]\n",
    "\n",
    "    models, preds = training_loop(\n",
    "        X,\n",
    "        y,\n",
    "        weights=weights,\n",
    "        groups=protein_ids,\n",
    "        param=best_parameters | {\"objective\": \"binary\"},\n",
    "    )\n",
    "\n",
    "    pred_column = f\"pred_{unique_id}_{model_type}\"\n",
    "    prediction_df[pred_column] = preds\n",
    "\n",
    "#     for model_idx, model in enumerate(models):\n",
    "#         prediction_df[f\"pred_{unique_id}_{model_type}_{model_idx}\"] = model.predict(X)\n",
    "\n",
    "#     prediction_df[pred_column] = prediction_df[\n",
    "#         [\n",
    "#             f\"pred_{unique_id}_{model_type}_{model_idx}\"\n",
    "#             for model_idx in range(len(models))\n",
    "#         ]\n",
    "#     ].mean(axis=1)"
   ]
  },
  {
   "cell_type": "code",
   "execution_count": null,
   "id": "4eeebb00-4299-4375-99d9-15176c325f01",
   "metadata": {},
   "outputs": [],
   "source": [
    "cols = [f\"pred_{unique_id}_{model_type}\" for unique_id, model_type in model_infos]\n",
    "\n",
    "df = prediction_df[prediction_df[\"effect_score\"] != 0]\n",
    "\n",
    "model_stats = []\n",
    "for col in cols:\n",
    "    corr = stats.spearmanr(df[\"effect_score\"], df[col])\n",
    "    auc = metrics.roc_auc_score(df[\"effect_score\"] > 0, df[col])\n",
    "    precision = metrics.average_precision_score(df[\"effect_score\"] > 0, df[col])\n",
    "    model_stats.append((col, len(df), corr[0], auc, precision))\n",
    "\n",
    "model_stats_df = pd.DataFrame(\n",
    "    model_stats, columns=[\"col\", \"num_rows\", \"spearman_rho\", \"auc\", \"precision\"]\n",
    ")"
   ]
  },
  {
   "cell_type": "code",
   "execution_count": null,
   "id": "a7498f53-8323-4dff-a266-04200ab56b72",
   "metadata": {},
   "outputs": [],
   "source": [
    "plt.hist(prediction_df[cols[0]], bins=100)\n",
    "None"
   ]
  },
  {
   "cell_type": "markdown",
   "id": "d7092f95-24d4-458a-9929-ba6a82dd51a4",
   "metadata": {},
   "source": [
    "---\n",
    "\n",
    "```csv\n",
    "col\tnum_rows\tspearman_rho\tauc\tprecision\n",
    "7\tpred_be3bdad5_optimized\t17253\t0.660275\t0.948133\t0.905960\n",
    "5\tpred_900500fe_optimized\t17253\t0.661431\t0.948289\t0.905941\n",
    "1\tpred_7f9826be_optimized\t17253\t0.658835\t0.946360\t0.903161\n",
    "3\tpred_fd28687b_optimized\t17253\t0.660638\t0.946663\t0.902854\n",
    "9\tpred_6999e5aa_optimized\t17253\t0.656857\t0.944983\t0.900826\n",
    "12\tpred_0d59c727_optimized\t17253\t0.637160\t0.935759\t0.888277\n",
    "14\tpred_eabf01fe_optimized\t17253\t0.629048\t0.930742\t0.880559\n",
    "```\n",
    "\n",
    "regression_l1\n",
    "\n",
    "```csv\n",
    "col\tnum_rows\tspearman_rho\tauc\tprecision\n",
    "3\tpred_be3bdad5_optimized\t17253\t0.637726\t0.934685\t0.881122\n",
    "2\tpred_900500fe_optimized\t17253\t0.634744\t0.932937\t0.879540\n",
    "4\tpred_6999e5aa_optimized\t17253\t0.634151\t0.932642\t0.878677\n",
    "0\tpred_7f9826be_optimized\t17253\t0.632483\t0.930091\t0.873714\n",
    "1\tpred_fd28687b_optimized\t17253\t0.629686\t0.928276\t0.872713\n",
    "5\tpred_0d59c727_optimized\t17253\t0.603354\t0.914350\t0.855177\n",
    "6\tpred_eabf01fe_optimized\t17253\t0.608284\t0.914428\t0.853633\n",
    "```\n",
    "\n",
    "regression_l1 on full dataset\n",
    "\n",
    "```csv\n",
    "col\tnum_rows\tspearman_rho\tauc\tprecision\n",
    "2\tpred_900500fe_optimized\t17253\t0.630979\t0.928408\t0.876794\n",
    "3\tpred_be3bdad5_optimized\t17253\t0.624719\t0.925131\t0.869726\n",
    "4\tpred_6999e5aa_optimized\t17253\t0.625411\t0.923101\t0.868643\n",
    "1\tpred_fd28687b_optimized\t17253\t0.623880\t0.923605\t0.866927\n",
    "0\tpred_7f9826be_optimized\t17253\t0.619522\t0.919911\t0.860476\n",
    "5\tpred_0d59c727_optimized\t17253\t0.582443\t0.899871\t0.836196\n",
    "6\tpred_eabf01fe_optimized\t17253\t0.584318\t0.900190\t0.835659\n",
    "```\n",
    "\n",
    "---"
   ]
  },
  {
   "cell_type": "code",
   "execution_count": null,
   "id": "cd90cb6b-6362-4d28-a781-262094932e5b",
   "metadata": {},
   "outputs": [],
   "source": [
    "model_stats_df[model_stats_df[\"col\"].str.endswith(\"_optimized\")].sort_values(\n",
    "    \"precision\", ascending=False\n",
    ")"
   ]
  },
  {
   "cell_type": "code",
   "execution_count": null,
   "id": "45c1d80c-2e9a-422d-a837-d724d0f65f06",
   "metadata": {},
   "outputs": [],
   "source": [
    "# pq.write_table(pa.Table.from_pandas(model_stats_df, preserve_index=False), NOTEBOOK_DIR.joinpath(\"model-stats.parquet\"))"
   ]
  },
  {
   "cell_type": "code",
   "execution_count": null,
   "id": "5424dc11-8745-4e2d-b7b0-728ddb0d3831",
   "metadata": {},
   "outputs": [],
   "source": []
  }
 ],
 "metadata": {
  "kernelspec": {
   "display_name": "Python 3 (ipykernel)",
   "language": "python",
   "name": "python3"
  },
  "language_info": {
   "codemirror_mode": {
    "name": "ipython",
    "version": 3
   },
   "file_extension": ".py",
   "mimetype": "text/x-python",
   "name": "python",
   "nbconvert_exporter": "python",
   "pygments_lexer": "ipython3",
   "version": "3.9.6"
  }
 },
 "nbformat": 4,
 "nbformat_minor": 5
}
