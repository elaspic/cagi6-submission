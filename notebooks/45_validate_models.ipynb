{
 "cells": [
  {
   "cell_type": "markdown",
   "id": "a553a3d0-ff72-4348-8d34-f988c226601a",
   "metadata": {},
   "source": [
    "## Summary\n",
    "\n",
    "---"
   ]
  },
  {
   "cell_type": "markdown",
   "id": "9062422f-170c-46b1-abf1-07a7b6349332",
   "metadata": {},
   "source": [
    "## Imports"
   ]
  },
  {
   "cell_type": "code",
   "execution_count": 1,
   "id": "4341c142-7f64-4544-9991-f1cafa0ae395",
   "metadata": {},
   "outputs": [],
   "source": [
    "import sys\n",
    "from pathlib import Path\n",
    "\n",
    "import matplotlib.pyplot as plt\n",
    "import numpy as np\n",
    "import pandas as pd\n",
    "import pyarrow as pa\n",
    "import pyarrow.parquet as pq\n",
    "from scipy import stats\n",
    "from sklearn import metrics\n",
    "from tqdm.auto import tqdm"
   ]
  },
  {
   "cell_type": "markdown",
   "id": "616a7c46-d542-4a89-937d-999d3e5d6041",
   "metadata": {},
   "source": [
    "## Parameters"
   ]
  },
  {
   "cell_type": "code",
   "execution_count": 2,
   "id": "8ea542f6-2304-4997-a978-6517a5694a01",
   "metadata": {},
   "outputs": [
    {
     "data": {
      "text/plain": [
       "PosixPath('/home/kimlab5/strokach/workspace/elaspic/elaspic2-cagi6/notebooks/45_validate_models')"
      ]
     },
     "execution_count": 2,
     "metadata": {},
     "output_type": "execute_result"
    }
   ],
   "source": [
    "NOTEBOOK_DIR = Path(\"45_validate_models\").resolve()\n",
    "NOTEBOOK_DIR.mkdir(exist_ok=True)\n",
    "\n",
    "NOTEBOOK_DIR"
   ]
  },
  {
   "cell_type": "code",
   "execution_count": 3,
   "id": "ab7306b1-1a5e-4258-83ee-2522ffa713c1",
   "metadata": {},
   "outputs": [],
   "source": [
    "src_dir = str(NOTEBOOK_DIR.parents[1].joinpath(\"src\"))\n",
    "if src_dir not in sys.path:\n",
    "    sys.path.insert(0, src_dir)\n",
    "\n",
    "import helpers"
   ]
  },
  {
   "cell_type": "markdown",
   "id": "6a287705-1de3-4acf-9425-ece87170ce7b",
   "metadata": {},
   "source": [
    "## Load results"
   ]
  },
  {
   "cell_type": "code",
   "execution_count": 4,
   "id": "e57f741e-f937-4f7e-a337-2d4139db2e8c",
   "metadata": {},
   "outputs": [
    {
     "data": {
      "text/plain": [
       "PosixPath('/home/kimlab5/strokach/workspace/elaspic/elaspic2-cagi6/notebooks/37_cagi6_sherloc_combine_results/combined-results.parquet')"
      ]
     },
     "execution_count": 4,
     "metadata": {},
     "output_type": "execute_result"
    }
   ],
   "source": [
    "input_file = NOTEBOOK_DIR.parent.joinpath(\n",
    "    \"37_cagi6_sherloc_combine_results\", \"combined-results.parquet\"\n",
    ")\n",
    "\n",
    "input_file"
   ]
  },
  {
   "cell_type": "code",
   "execution_count": 5,
   "id": "871a4435-e16b-4311-95f3-b176c1f8edc6",
   "metadata": {},
   "outputs": [
    {
     "data": {
      "text/html": [
       "<div>\n",
       "<style scoped>\n",
       "    .dataframe tbody tr th:only-of-type {\n",
       "        vertical-align: middle;\n",
       "    }\n",
       "\n",
       "    .dataframe tbody tr th {\n",
       "        vertical-align: top;\n",
       "    }\n",
       "\n",
       "    .dataframe thead th {\n",
       "        text-align: right;\n",
       "    }\n",
       "</style>\n",
       "<table border=\"1\" class=\"dataframe\">\n",
       "  <thead>\n",
       "    <tr style=\"text-align: right;\">\n",
       "      <th></th>\n",
       "      <th>protein_id</th>\n",
       "      <th>mutation</th>\n",
       "      <th>mutation_id</th>\n",
       "      <th>effect</th>\n",
       "      <th>proteinsolver_core_score_wt</th>\n",
       "      <th>proteinsolver_core_features_residue_wt</th>\n",
       "      <th>proteinsolver_core_features_protein_wt</th>\n",
       "      <th>protbert_core_score_wt</th>\n",
       "      <th>protbert_core_features_residue_wt</th>\n",
       "      <th>protbert_core_features_protein_wt</th>\n",
       "      <th>...</th>\n",
       "      <th>alphafold_core_features_residue_msa_first_row_change</th>\n",
       "      <th>alphafold_core_features_residue_single_change</th>\n",
       "      <th>alphafold_core_features_residue_structure_module_change</th>\n",
       "      <th>alphafold_core_features_protein_experimentally_resolved_change</th>\n",
       "      <th>alphafold_core_features_protein_predicted_lddt_change</th>\n",
       "      <th>alphafold_core_features_protein_msa_first_row_change</th>\n",
       "      <th>alphafold_core_features_protein_single_change</th>\n",
       "      <th>alphafold_core_features_protein_structure_module_change</th>\n",
       "      <th>aa_wt_onehot</th>\n",
       "      <th>aa_mut_onehot</th>\n",
       "    </tr>\n",
       "  </thead>\n",
       "  <tbody>\n",
       "    <tr>\n",
       "      <th>0</th>\n",
       "      <td>P26678</td>\n",
       "      <td>R9C</td>\n",
       "      <td>NM_002667.3:c.25C&gt;T</td>\n",
       "      <td>Pathogenic</td>\n",
       "      <td>0.091593</td>\n",
       "      <td>[0.48249053955078125, 0.24484702944755554, -0....</td>\n",
       "      <td>[-2.27313494682312, 0.6932704448699951, -0.195...</td>\n",
       "      <td>0.068529</td>\n",
       "      <td>[0.15305250883102417, -0.11011786758899689, 0....</td>\n",
       "      <td>[0.05504663661122322, -0.04564127326011658, 0....</td>\n",
       "      <td>...</td>\n",
       "      <td>[-0.24461997, 0.91860914, -1.4374704, 1.841849...</td>\n",
       "      <td>[7.351156, 8.393639, 3.1830235, 3.0640717, 4.0...</td>\n",
       "      <td>[9.148568e-05, -2.7619302e-05, 3.2782555e-07, ...</td>\n",
       "      <td>[0.0022777617, 0.0021982193, 0.0029729605, 0.0...</td>\n",
       "      <td>[-0.004014015, -0.0029330254, -0.003218174, -0...</td>\n",
       "      <td>[-0.019475102, -0.0052657127, -0.04385376, -0....</td>\n",
       "      <td>[0.09133339, 0.074448586, -0.10094261, 0.12374...</td>\n",
       "      <td>[2.8892653e-05, -2.5316142e-05, -7.459894e-07,...</td>\n",
       "      <td>[0, 0, 0, 0, 0, 0, 0, 0, 0, 0, 0, 0, 0, 0, 1, ...</td>\n",
       "      <td>[0, 1, 0, 0, 0, 0, 0, 0, 0, 0, 0, 0, 0, 0, 0, ...</td>\n",
       "    </tr>\n",
       "    <tr>\n",
       "      <th>1</th>\n",
       "      <td>P26678</td>\n",
       "      <td>T8P</td>\n",
       "      <td>NM_002667.3:c.22A&gt;C</td>\n",
       "      <td>Uncertain significance</td>\n",
       "      <td>0.041601</td>\n",
       "      <td>[2.043767213821411, 0.9361261129379272, -0.415...</td>\n",
       "      <td>[-2.27313494682312, 0.6932705044746399, -0.195...</td>\n",
       "      <td>0.062104</td>\n",
       "      <td>[0.056363195180892944, -0.020384633913636208, ...</td>\n",
       "      <td>[0.05504663661122322, -0.04564127326011658, 0....</td>\n",
       "      <td>...</td>\n",
       "      <td>[-0.4901538, 1.5533419, -1.5304286, -0.1852448...</td>\n",
       "      <td>[1.8987266, -0.4226532, 0.6206093, 0.038326263...</td>\n",
       "      <td>[6.455183e-05, -0.00016468763, 7.186085e-06, 4...</td>\n",
       "      <td>[-0.006253898, -0.0062743723, -0.006733477, -0...</td>\n",
       "      <td>[-0.012162209, -0.018994808, -0.011818409, -0....</td>\n",
       "      <td>[-0.03768146, -0.016304016, -0.041838408, 0.01...</td>\n",
       "      <td>[0.08028793, -0.019423485, -0.1275692, -0.0226...</td>\n",
       "      <td>[-2.5912654e-05, 3.2503158e-05, 5.8985315e-06,...</td>\n",
       "      <td>[0, 0, 0, 0, 0, 0, 0, 0, 0, 0, 0, 0, 0, 0, 0, ...</td>\n",
       "      <td>[0, 0, 0, 0, 0, 0, 0, 0, 0, 0, 0, 0, 1, 0, 0, ...</td>\n",
       "    </tr>\n",
       "  </tbody>\n",
       "</table>\n",
       "<p>2 rows × 111 columns</p>\n",
       "</div>"
      ],
      "text/plain": [
       "  protein_id mutation          mutation_id                  effect  \\\n",
       "0     P26678      R9C  NM_002667.3:c.25C>T              Pathogenic   \n",
       "1     P26678      T8P  NM_002667.3:c.22A>C  Uncertain significance   \n",
       "\n",
       "   proteinsolver_core_score_wt  \\\n",
       "0                     0.091593   \n",
       "1                     0.041601   \n",
       "\n",
       "              proteinsolver_core_features_residue_wt  \\\n",
       "0  [0.48249053955078125, 0.24484702944755554, -0....   \n",
       "1  [2.043767213821411, 0.9361261129379272, -0.415...   \n",
       "\n",
       "              proteinsolver_core_features_protein_wt  protbert_core_score_wt  \\\n",
       "0  [-2.27313494682312, 0.6932704448699951, -0.195...                0.068529   \n",
       "1  [-2.27313494682312, 0.6932705044746399, -0.195...                0.062104   \n",
       "\n",
       "                   protbert_core_features_residue_wt  \\\n",
       "0  [0.15305250883102417, -0.11011786758899689, 0....   \n",
       "1  [0.056363195180892944, -0.020384633913636208, ...   \n",
       "\n",
       "                   protbert_core_features_protein_wt  ...  \\\n",
       "0  [0.05504663661122322, -0.04564127326011658, 0....  ...   \n",
       "1  [0.05504663661122322, -0.04564127326011658, 0....  ...   \n",
       "\n",
       "   alphafold_core_features_residue_msa_first_row_change  \\\n",
       "0  [-0.24461997, 0.91860914, -1.4374704, 1.841849...      \n",
       "1  [-0.4901538, 1.5533419, -1.5304286, -0.1852448...      \n",
       "\n",
       "       alphafold_core_features_residue_single_change  \\\n",
       "0  [7.351156, 8.393639, 3.1830235, 3.0640717, 4.0...   \n",
       "1  [1.8987266, -0.4226532, 0.6206093, 0.038326263...   \n",
       "\n",
       "   alphafold_core_features_residue_structure_module_change  \\\n",
       "0  [9.148568e-05, -2.7619302e-05, 3.2782555e-07, ...         \n",
       "1  [6.455183e-05, -0.00016468763, 7.186085e-06, 4...         \n",
       "\n",
       "   alphafold_core_features_protein_experimentally_resolved_change  \\\n",
       "0  [0.0022777617, 0.0021982193, 0.0029729605, 0.0...                \n",
       "1  [-0.006253898, -0.0062743723, -0.006733477, -0...                \n",
       "\n",
       "   alphafold_core_features_protein_predicted_lddt_change  \\\n",
       "0  [-0.004014015, -0.0029330254, -0.003218174, -0...       \n",
       "1  [-0.012162209, -0.018994808, -0.011818409, -0....       \n",
       "\n",
       "   alphafold_core_features_protein_msa_first_row_change  \\\n",
       "0  [-0.019475102, -0.0052657127, -0.04385376, -0....      \n",
       "1  [-0.03768146, -0.016304016, -0.041838408, 0.01...      \n",
       "\n",
       "       alphafold_core_features_protein_single_change  \\\n",
       "0  [0.09133339, 0.074448586, -0.10094261, 0.12374...   \n",
       "1  [0.08028793, -0.019423485, -0.1275692, -0.0226...   \n",
       "\n",
       "   alphafold_core_features_protein_structure_module_change  \\\n",
       "0  [2.8892653e-05, -2.5316142e-05, -7.459894e-07,...         \n",
       "1  [-2.5912654e-05, 3.2503158e-05, 5.8985315e-06,...         \n",
       "\n",
       "                                        aa_wt_onehot  \\\n",
       "0  [0, 0, 0, 0, 0, 0, 0, 0, 0, 0, 0, 0, 0, 0, 1, ...   \n",
       "1  [0, 0, 0, 0, 0, 0, 0, 0, 0, 0, 0, 0, 0, 0, 0, ...   \n",
       "\n",
       "                                       aa_mut_onehot  \n",
       "0  [0, 1, 0, 0, 0, 0, 0, 0, 0, 0, 0, 0, 0, 0, 0, ...  \n",
       "1  [0, 0, 0, 0, 0, 0, 0, 0, 0, 0, 0, 0, 1, 0, 0, ...  \n",
       "\n",
       "[2 rows x 111 columns]"
      ]
     },
     "metadata": {},
     "output_type": "display_data"
    },
    {
     "name": "stdout",
     "output_type": "stream",
     "text": [
      "221816\n"
     ]
    }
   ],
   "source": [
    "result_df = pq.read_table(input_file).to_pandas()\n",
    "\n",
    "display(result_df.head(2))\n",
    "print(len(result_df))"
   ]
  },
  {
   "cell_type": "code",
   "execution_count": 6,
   "id": "d093309b-e850-478c-9d0d-1f9068d21232",
   "metadata": {},
   "outputs": [],
   "source": [
    "effect_map = {\n",
    "    \"Uncertain significance\": 0,\n",
    "    \"Likely benign\": -1,\n",
    "    \"Benign\": -2,\n",
    "    \"Likely pathogenic\": 1,\n",
    "    \"Pathogenic\": 2,\n",
    "}\n",
    "\n",
    "result_df[\"effect_score\"] = result_df[\"effect\"].map(effect_map)"
   ]
  },
  {
   "cell_type": "markdown",
   "id": "ecb0786f-fa0d-4ff1-b18c-d62a461ded99",
   "metadata": {},
   "source": [
    "## Exploratory data analysis"
   ]
  },
  {
   "cell_type": "code",
   "execution_count": 7,
   "id": "5add8675-38c0-46d9-a4b6-a724c60a9fe6",
   "metadata": {},
   "outputs": [
    {
     "data": {
      "text/plain": [
       "Uncertain significance    147067\n",
       "Likely benign              11398\n",
       "Benign                      9730\n",
       "Pathogenic                  5834\n",
       "Likely pathogenic           2506\n",
       "Name: effect, dtype: int64"
      ]
     },
     "execution_count": 7,
     "metadata": {},
     "output_type": "execute_result"
    }
   ],
   "source": [
    "result_df[\"effect\"].value_counts()"
   ]
  },
  {
   "cell_type": "code",
   "execution_count": 8,
   "id": "3850d9c9-9780-4e72-8012-deb9d4d4ee42",
   "metadata": {},
   "outputs": [],
   "source": [
    "effect_map = {\n",
    "    \"Uncertain significance\": 0,\n",
    "    \"Likely benign\": -1,\n",
    "    \"Benign\": -2,\n",
    "    \"Likely pathogenic\": 1,\n",
    "    \"Pathogenic\": 2,\n",
    "}\n",
    "\n",
    "result_df[\"effect_score\"] = result_df[\"effect\"].map(effect_map)"
   ]
  },
  {
   "cell_type": "code",
   "execution_count": 9,
   "id": "222713d2-9267-480e-bdfe-001d24acdb0f",
   "metadata": {},
   "outputs": [
    {
     "name": "stdout",
     "output_type": "stream",
     "text": [
      "el2_score 0.19271749853401182 0.819760687160709\n",
      "proteinsolver_core_score_change 0.11067870025313856 0.6783941301907526\n",
      "protbert_core_score_change 0.1620701018909018 0.7812989848001559\n",
      "rosetta_dg_change 0.10357751324165007 0.6450253131239799\n"
     ]
    }
   ],
   "source": [
    "score_columns = [\n",
    "    \"el2_score\",\n",
    "    \"proteinsolver_core_score_change\",\n",
    "    \"protbert_core_score_change\",\n",
    "    \"rosetta_dg_change\",\n",
    "    #     \"alphafold_core_scores_residue_plddt_wt\",\n",
    "    #     \"alphafold_core_scores_protein_plddt_wt\",\n",
    "    #     \"alphafold_core_scores_protein_max_predicted_aligned_error_wt\",\n",
    "    #     \"alphafold_core_scores_proten_ptm_wt\",\n",
    "]\n",
    "\n",
    "df = result_df.dropna(subset=score_columns + [\"effect_score\"])\n",
    "# df = df[df[\"effect_score\"].isin([-1, 1])].reset_index(drop=True)\n",
    "\n",
    "for col in score_columns:\n",
    "    corr = stats.spearmanr(df[\"effect_score\"], df[col])\n",
    "    auc = metrics.roc_auc_score(df[\"effect_score\"] > 0, df[col])\n",
    "    print(col, corr[0], auc)"
   ]
  },
  {
   "cell_type": "markdown",
   "id": "c336d0c9-260d-473c-8a12-e18c61bf5a49",
   "metadata": {},
   "source": [
    "## Combine"
   ]
  },
  {
   "cell_type": "code",
   "execution_count": 10,
   "id": "d9eab633-70f9-491c-8af8-400c1086cf2c",
   "metadata": {},
   "outputs": [
    {
     "data": {
      "text/html": [
       "<div>\n",
       "<style scoped>\n",
       "    .dataframe tbody tr th:only-of-type {\n",
       "        vertical-align: middle;\n",
       "    }\n",
       "\n",
       "    .dataframe tbody tr th {\n",
       "        vertical-align: top;\n",
       "    }\n",
       "\n",
       "    .dataframe thead th {\n",
       "        text-align: right;\n",
       "    }\n",
       "</style>\n",
       "<table border=\"1\" class=\"dataframe\">\n",
       "  <thead>\n",
       "    <tr style=\"text-align: right;\">\n",
       "      <th></th>\n",
       "      <th>protein_id</th>\n",
       "      <th>mutation</th>\n",
       "      <th>mutation_id</th>\n",
       "      <th>effect</th>\n",
       "      <th>proteinsolver_core_score_wt</th>\n",
       "      <th>proteinsolver_core_features_residue_wt</th>\n",
       "      <th>proteinsolver_core_features_protein_wt</th>\n",
       "      <th>protbert_core_score_wt</th>\n",
       "      <th>protbert_core_features_residue_wt</th>\n",
       "      <th>protbert_core_features_protein_wt</th>\n",
       "      <th>...</th>\n",
       "      <th>alphafold_core_features_residue_single_change</th>\n",
       "      <th>alphafold_core_features_residue_structure_module_change</th>\n",
       "      <th>alphafold_core_features_protein_experimentally_resolved_change</th>\n",
       "      <th>alphafold_core_features_protein_predicted_lddt_change</th>\n",
       "      <th>alphafold_core_features_protein_msa_first_row_change</th>\n",
       "      <th>alphafold_core_features_protein_single_change</th>\n",
       "      <th>alphafold_core_features_protein_structure_module_change</th>\n",
       "      <th>aa_wt_onehot</th>\n",
       "      <th>aa_mut_onehot</th>\n",
       "      <th>effect_score</th>\n",
       "    </tr>\n",
       "  </thead>\n",
       "  <tbody>\n",
       "    <tr>\n",
       "      <th>0</th>\n",
       "      <td>P26678</td>\n",
       "      <td>R9C</td>\n",
       "      <td>NM_002667.3:c.25C&gt;T</td>\n",
       "      <td>Pathogenic</td>\n",
       "      <td>0.091593</td>\n",
       "      <td>[0.48249053955078125, 0.24484702944755554, -0....</td>\n",
       "      <td>[-2.27313494682312, 0.6932704448699951, -0.195...</td>\n",
       "      <td>0.068529</td>\n",
       "      <td>[0.15305250883102417, -0.11011786758899689, 0....</td>\n",
       "      <td>[0.05504663661122322, -0.04564127326011658, 0....</td>\n",
       "      <td>...</td>\n",
       "      <td>[7.351156, 8.393639, 3.1830235, 3.0640717, 4.0...</td>\n",
       "      <td>[9.148568e-05, -2.7619302e-05, 3.2782555e-07, ...</td>\n",
       "      <td>[0.0022777617, 0.0021982193, 0.0029729605, 0.0...</td>\n",
       "      <td>[-0.004014015, -0.0029330254, -0.003218174, -0...</td>\n",
       "      <td>[-0.019475102, -0.0052657127, -0.04385376, -0....</td>\n",
       "      <td>[0.09133339, 0.074448586, -0.10094261, 0.12374...</td>\n",
       "      <td>[2.8892653e-05, -2.5316142e-05, -7.459894e-07,...</td>\n",
       "      <td>[0, 0, 0, 0, 0, 0, 0, 0, 0, 0, 0, 0, 0, 0, 1, ...</td>\n",
       "      <td>[0, 1, 0, 0, 0, 0, 0, 0, 0, 0, 0, 0, 0, 0, 0, ...</td>\n",
       "      <td>2.0</td>\n",
       "    </tr>\n",
       "    <tr>\n",
       "      <th>1</th>\n",
       "      <td>P26678</td>\n",
       "      <td>T8P</td>\n",
       "      <td>NM_002667.3:c.22A&gt;C</td>\n",
       "      <td>Uncertain significance</td>\n",
       "      <td>0.041601</td>\n",
       "      <td>[2.043767213821411, 0.9361261129379272, -0.415...</td>\n",
       "      <td>[-2.27313494682312, 0.6932705044746399, -0.195...</td>\n",
       "      <td>0.062104</td>\n",
       "      <td>[0.056363195180892944, -0.020384633913636208, ...</td>\n",
       "      <td>[0.05504663661122322, -0.04564127326011658, 0....</td>\n",
       "      <td>...</td>\n",
       "      <td>[1.8987266, -0.4226532, 0.6206093, 0.038326263...</td>\n",
       "      <td>[6.455183e-05, -0.00016468763, 7.186085e-06, 4...</td>\n",
       "      <td>[-0.006253898, -0.0062743723, -0.006733477, -0...</td>\n",
       "      <td>[-0.012162209, -0.018994808, -0.011818409, -0....</td>\n",
       "      <td>[-0.03768146, -0.016304016, -0.041838408, 0.01...</td>\n",
       "      <td>[0.08028793, -0.019423485, -0.1275692, -0.0226...</td>\n",
       "      <td>[-2.5912654e-05, 3.2503158e-05, 5.8985315e-06,...</td>\n",
       "      <td>[0, 0, 0, 0, 0, 0, 0, 0, 0, 0, 0, 0, 0, 0, 0, ...</td>\n",
       "      <td>[0, 0, 0, 0, 0, 0, 0, 0, 0, 0, 0, 0, 1, 0, 0, ...</td>\n",
       "      <td>0.0</td>\n",
       "    </tr>\n",
       "  </tbody>\n",
       "</table>\n",
       "<p>2 rows × 112 columns</p>\n",
       "</div>"
      ],
      "text/plain": [
       "  protein_id mutation          mutation_id                  effect  \\\n",
       "0     P26678      R9C  NM_002667.3:c.25C>T              Pathogenic   \n",
       "1     P26678      T8P  NM_002667.3:c.22A>C  Uncertain significance   \n",
       "\n",
       "   proteinsolver_core_score_wt  \\\n",
       "0                     0.091593   \n",
       "1                     0.041601   \n",
       "\n",
       "              proteinsolver_core_features_residue_wt  \\\n",
       "0  [0.48249053955078125, 0.24484702944755554, -0....   \n",
       "1  [2.043767213821411, 0.9361261129379272, -0.415...   \n",
       "\n",
       "              proteinsolver_core_features_protein_wt  protbert_core_score_wt  \\\n",
       "0  [-2.27313494682312, 0.6932704448699951, -0.195...                0.068529   \n",
       "1  [-2.27313494682312, 0.6932705044746399, -0.195...                0.062104   \n",
       "\n",
       "                   protbert_core_features_residue_wt  \\\n",
       "0  [0.15305250883102417, -0.11011786758899689, 0....   \n",
       "1  [0.056363195180892944, -0.020384633913636208, ...   \n",
       "\n",
       "                   protbert_core_features_protein_wt  ...  \\\n",
       "0  [0.05504663661122322, -0.04564127326011658, 0....  ...   \n",
       "1  [0.05504663661122322, -0.04564127326011658, 0....  ...   \n",
       "\n",
       "       alphafold_core_features_residue_single_change  \\\n",
       "0  [7.351156, 8.393639, 3.1830235, 3.0640717, 4.0...   \n",
       "1  [1.8987266, -0.4226532, 0.6206093, 0.038326263...   \n",
       "\n",
       "   alphafold_core_features_residue_structure_module_change  \\\n",
       "0  [9.148568e-05, -2.7619302e-05, 3.2782555e-07, ...         \n",
       "1  [6.455183e-05, -0.00016468763, 7.186085e-06, 4...         \n",
       "\n",
       "   alphafold_core_features_protein_experimentally_resolved_change  \\\n",
       "0  [0.0022777617, 0.0021982193, 0.0029729605, 0.0...                \n",
       "1  [-0.006253898, -0.0062743723, -0.006733477, -0...                \n",
       "\n",
       "   alphafold_core_features_protein_predicted_lddt_change  \\\n",
       "0  [-0.004014015, -0.0029330254, -0.003218174, -0...       \n",
       "1  [-0.012162209, -0.018994808, -0.011818409, -0....       \n",
       "\n",
       "   alphafold_core_features_protein_msa_first_row_change  \\\n",
       "0  [-0.019475102, -0.0052657127, -0.04385376, -0....      \n",
       "1  [-0.03768146, -0.016304016, -0.041838408, 0.01...      \n",
       "\n",
       "       alphafold_core_features_protein_single_change  \\\n",
       "0  [0.09133339, 0.074448586, -0.10094261, 0.12374...   \n",
       "1  [0.08028793, -0.019423485, -0.1275692, -0.0226...   \n",
       "\n",
       "   alphafold_core_features_protein_structure_module_change  \\\n",
       "0  [2.8892653e-05, -2.5316142e-05, -7.459894e-07,...         \n",
       "1  [-2.5912654e-05, 3.2503158e-05, 5.8985315e-06,...         \n",
       "\n",
       "                                        aa_wt_onehot  \\\n",
       "0  [0, 0, 0, 0, 0, 0, 0, 0, 0, 0, 0, 0, 0, 0, 1, ...   \n",
       "1  [0, 0, 0, 0, 0, 0, 0, 0, 0, 0, 0, 0, 0, 0, 0, ...   \n",
       "\n",
       "                                       aa_mut_onehot  effect_score  \n",
       "0  [0, 1, 0, 0, 0, 0, 0, 0, 0, 0, 0, 0, 0, 0, 0, ...           2.0  \n",
       "1  [0, 0, 0, 0, 0, 0, 0, 0, 0, 0, 0, 0, 1, 0, 0, ...           0.0  \n",
       "\n",
       "[2 rows x 112 columns]"
      ]
     },
     "execution_count": 10,
     "metadata": {},
     "output_type": "execute_result"
    }
   ],
   "source": [
    "result_df.head(2)"
   ]
  },
  {
   "cell_type": "markdown",
   "id": "67bf71f1-ecbc-496e-bcd7-8389d134534c",
   "metadata": {},
   "source": [
    "## Load ML models and make predictions"
   ]
  },
  {
   "cell_type": "code",
   "execution_count": 11,
   "id": "f3988e16-3dc6-430f-8cdb-05054dd5b69a",
   "metadata": {},
   "outputs": [],
   "source": [
    "prediction_df = result_df.copy()"
   ]
  },
  {
   "cell_type": "code",
   "execution_count": 12,
   "id": "b90bb7d4-c30b-4d28-ad20-cd980780be7d",
   "metadata": {
    "tags": []
   },
   "outputs": [],
   "source": [
    "model_infos = [\n",
    "    # `base` + `AFwt`\n",
    "    (\"7f9826be\", \"initial\"),\n",
    "    (\"7f9826be\", \"optimized\"),\n",
    "    # `base` + `AFwt`\n",
    "    (\"fd28687b\", \"initial\"),\n",
    "    (\"fd28687b\", \"optimized\"),\n",
    "    # `base` + `AFwt` + `AFmut`\n",
    "    (\"900500fe\", \"initial\"),\n",
    "    (\"900500fe\", \"optimized\"),\n",
    "    # `base` + `AFwt` + `AFmut`\n",
    "    (\"be3bdad5\", \"initial\"),\n",
    "    (\"be3bdad5\", \"optimized\"),\n",
    "    # `base` + `EL2` + `AFwt`\n",
    "    (\"6999e5aa\", \"initial\"),\n",
    "    (\"6999e5aa\", \"optimized\"),\n",
    "    # `base` + `EL2` + `AFwt` + `AFmut` [no opt]\n",
    "    (\"4df6fd79\", \"initial\"),\n",
    "    # `base`\n",
    "    (\"0d59c727\", \"initial\"),\n",
    "    (\"0d59c727\", \"optimized\"),\n",
    "    # `base - rosetta`\n",
    "    (\"eabf01fe\", \"initial\"),\n",
    "    (\"eabf01fe\", \"optimized\"),\n",
    "]\n",
    "\n",
    "\n",
    "for unique_id, model_type in tqdm(model_infos):\n",
    "    scalar_features, vector_features = helpers.load_features(NOTEBOOK_DIR.parent, unique_id)\n",
    "    features_to_exclude = helpers.load_features_to_exclude(\n",
    "        NOTEBOOK_DIR.parent, unique_id, model_type\n",
    "    )\n",
    "    best_parameters = helpers.load_best_parameters(NOTEBOOK_DIR.parent, unique_id, model_type)\n",
    "    models = helpers.load_best_models(NOTEBOOK_DIR.parent, unique_id, model_type)\n",
    "\n",
    "    result_df.dropna(subset=scalar_features + vector_features).copy()\n",
    "    mask = ~prediction_df[scalar_features + vector_features].isnull().any(axis=1)\n",
    "\n",
    "    X_ref = np.c_[\n",
    "        prediction_df.loc[mask, scalar_features].values,\n",
    "        np.hstack([np.vstack(prediction_df.loc[mask, col].values) for col in vector_features]),\n",
    "    ]\n",
    "\n",
    "    if features_to_exclude is not None:\n",
    "        feature_mask = np.ones(X_ref.shape[1], dtype=bool)\n",
    "        feature_mask[np.array(features_to_exclude, dtype=int)] = False\n",
    "        X = X_ref[:, feature_mask]\n",
    "        assert len(features_to_exclude) == X_ref.shape[1] - X.shape[1]\n",
    "    else:\n",
    "        X = X_ref\n",
    "\n",
    "    for model_idx, model in enumerate(models):\n",
    "        prediction_df.loc[mask, f\"pred_{unique_id}_{model_type}_{model_idx}\"] = model.predict(X)\n",
    "\n",
    "    pred_column = f\"pred_{unique_id}_{model_type}\"\n",
    "    prediction_df[pred_column] = prediction_df.loc[\n",
    "        mask, [f\"pred_{unique_id}_{model_type}_{model_idx}\" for model_idx in range(len(models))]\n",
    "    ].mean(axis=1)"
   ]
  },
  {
   "cell_type": "code",
   "execution_count": null,
   "id": "4eeebb00-4299-4375-99d9-15176c325f01",
   "metadata": {},
   "outputs": [],
   "source": []
  },
  {
   "cell_type": "code",
   "execution_count": null,
   "id": "cd90cb6b-6362-4d28-a781-262094932e5b",
   "metadata": {},
   "outputs": [],
   "source": []
  }
 ],
 "metadata": {
  "kernelspec": {
   "display_name": "Python 3 (ipykernel)",
   "language": "python",
   "name": "python3"
  },
  "language_info": {
   "codemirror_mode": {
    "name": "ipython",
    "version": 3
   },
   "file_extension": ".py",
   "mimetype": "text/x-python",
   "name": "python",
   "nbconvert_exporter": "python",
   "pygments_lexer": "ipython3",
   "version": "3.9.6"
  }
 },
 "nbformat": 4,
 "nbformat_minor": 5
}
