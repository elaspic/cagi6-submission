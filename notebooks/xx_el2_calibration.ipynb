{
 "cells": [
  {
   "cell_type": "markdown",
   "id": "c76355f4-8e38-4646-aab3-995133dda835",
   "metadata": {},
   "source": [
    "## Summary\n",
    "\n",
    "---"
   ]
  },
  {
   "cell_type": "markdown",
   "id": "6c40af1f-5cc3-4a90-b542-b6d1db50c057",
   "metadata": {},
   "source": [
    "## Imports"
   ]
  },
  {
   "cell_type": "code",
   "execution_count": 1,
   "id": "5b4f6cc9-4e32-46c2-ab92-89ee7e9129e4",
   "metadata": {},
   "outputs": [],
   "source": [
    "from pathlib import Path\n",
    "\n",
    "import matplotlib.pyplot as plt\n",
    "import numpy as np\n",
    "import pandas as pd\n",
    "from scipy import stats"
   ]
  },
  {
   "cell_type": "markdown",
   "id": "df3ab0f6-656f-43a6-a294-416e37c226b4",
   "metadata": {},
   "source": [
    "## Load data"
   ]
  },
  {
   "cell_type": "code",
   "execution_count": 2,
   "id": "e9bb0151-7a78-40b7-bed8-1b59647b6c7c",
   "metadata": {},
   "outputs": [
    {
     "data": {
      "text/plain": [
       "PosixPath('/home/kimlab5/strokach/workspace/elaspic/elaspic2-cagi6/notebooks/xx_el2_calibration')"
      ]
     },
     "execution_count": 2,
     "metadata": {},
     "output_type": "execute_result"
    }
   ],
   "source": [
    "NOTEBOOK_DIR = Path(\"xx_el2_calibration\").resolve()\n",
    "NOTEBOOK_DIR.mkdir(exist_ok=True)\n",
    "\n",
    "NOTEBOOK_DIR"
   ]
  },
  {
   "cell_type": "code",
   "execution_count": 3,
   "id": "70187b72-871c-4d2e-a138-419c89266246",
   "metadata": {},
   "outputs": [],
   "source": [
    "with NOTEBOOK_DIR.joinpath(\"sars-spike-co.html\").open(\"rt\") as fin:\n",
    "    data = fin.read()"
   ]
  },
  {
   "cell_type": "code",
   "execution_count": 4,
   "id": "cd6bda76-c014-4857-8642-4bba06c9b195",
   "metadata": {},
   "outputs": [
    {
     "data": {
      "text/html": [
       "<div>\n",
       "<style scoped>\n",
       "    .dataframe tbody tr th:only-of-type {\n",
       "        vertical-align: middle;\n",
       "    }\n",
       "\n",
       "    .dataframe tbody tr th {\n",
       "        vertical-align: top;\n",
       "    }\n",
       "\n",
       "    .dataframe thead th {\n",
       "        text-align: right;\n",
       "    }\n",
       "</style>\n",
       "<table border=\"1\" class=\"dataframe\">\n",
       "  <thead>\n",
       "    <tr style=\"text-align: right;\">\n",
       "      <th></th>\n",
       "      <th>Unnamed: 0</th>\n",
       "      <th>Protein</th>\n",
       "      <th>Mutation</th>\n",
       "      <th>Type</th>\n",
       "      <th>Template</th>\n",
       "      <th>Seq iden</th>\n",
       "      <th>Align score</th>\n",
       "      <th>Model</th>\n",
       "      <th>Provean</th>\n",
       "      <th>ΔΔG</th>\n",
       "      <th>EL2</th>\n",
       "    </tr>\n",
       "  </thead>\n",
       "  <tbody>\n",
       "    <tr>\n",
       "      <th>0</th>\n",
       "      <td>1</td>\n",
       "      <td>6zoy-rbd.pdb</td>\n",
       "      <td>A24C</td>\n",
       "      <td>Core</td>\n",
       "      <td>INPUTA</td>\n",
       "      <td>1.0</td>\n",
       "      <td>1.0</td>\n",
       "      <td>-0.483</td>\n",
       "      <td>-2.137</td>\n",
       "      <td>0.240</td>\n",
       "      <td>1.659</td>\n",
       "    </tr>\n",
       "    <tr>\n",
       "      <th>1</th>\n",
       "      <td>1</td>\n",
       "      <td>6zoy-rbd.pdb</td>\n",
       "      <td>A24D</td>\n",
       "      <td>Core</td>\n",
       "      <td>INPUTA</td>\n",
       "      <td>1.0</td>\n",
       "      <td>1.0</td>\n",
       "      <td>-0.483</td>\n",
       "      <td>-1.223</td>\n",
       "      <td>0.270</td>\n",
       "      <td>0.818</td>\n",
       "    </tr>\n",
       "    <tr>\n",
       "      <th>2</th>\n",
       "      <td>1</td>\n",
       "      <td>6zoy-rbd.pdb</td>\n",
       "      <td>A24E</td>\n",
       "      <td>Core</td>\n",
       "      <td>INPUTA</td>\n",
       "      <td>1.0</td>\n",
       "      <td>1.0</td>\n",
       "      <td>-0.483</td>\n",
       "      <td>-1.360</td>\n",
       "      <td>0.183</td>\n",
       "      <td>1.420</td>\n",
       "    </tr>\n",
       "    <tr>\n",
       "      <th>3</th>\n",
       "      <td>1</td>\n",
       "      <td>6zoy-rbd.pdb</td>\n",
       "      <td>A24F</td>\n",
       "      <td>Core</td>\n",
       "      <td>INPUTA</td>\n",
       "      <td>1.0</td>\n",
       "      <td>1.0</td>\n",
       "      <td>-0.483</td>\n",
       "      <td>-2.775</td>\n",
       "      <td>0.276</td>\n",
       "      <td>2.384</td>\n",
       "    </tr>\n",
       "    <tr>\n",
       "      <th>4</th>\n",
       "      <td>1</td>\n",
       "      <td>6zoy-rbd.pdb</td>\n",
       "      <td>A24G</td>\n",
       "      <td>Core</td>\n",
       "      <td>INPUTA</td>\n",
       "      <td>1.0</td>\n",
       "      <td>1.0</td>\n",
       "      <td>-0.483</td>\n",
       "      <td>-0.858</td>\n",
       "      <td>0.499</td>\n",
       "      <td>0.261</td>\n",
       "    </tr>\n",
       "  </tbody>\n",
       "</table>\n",
       "</div>"
      ],
      "text/plain": [
       "   Unnamed: 0       Protein Mutation  Type Template  Seq iden  Align score  \\\n",
       "0           1  6zoy-rbd.pdb     A24C  Core   INPUTA       1.0          1.0   \n",
       "1           1  6zoy-rbd.pdb     A24D  Core   INPUTA       1.0          1.0   \n",
       "2           1  6zoy-rbd.pdb     A24E  Core   INPUTA       1.0          1.0   \n",
       "3           1  6zoy-rbd.pdb     A24F  Core   INPUTA       1.0          1.0   \n",
       "4           1  6zoy-rbd.pdb     A24G  Core   INPUTA       1.0          1.0   \n",
       "\n",
       "   Model  Provean    ΔΔG    EL2  \n",
       "0 -0.483   -2.137  0.240  1.659  \n",
       "1 -0.483   -1.223  0.270  0.818  \n",
       "2 -0.483   -1.360  0.183  1.420  \n",
       "3 -0.483   -2.775  0.276  2.384  \n",
       "4 -0.483   -0.858  0.499  0.261  "
      ]
     },
     "execution_count": 4,
     "metadata": {},
     "output_type": "execute_result"
    }
   ],
   "source": [
    "data_df = pd.read_html(data)[0]\n",
    "\n",
    "data_df.head()"
   ]
  },
  {
   "cell_type": "code",
   "execution_count": 5,
   "id": "779a7b84-3347-4f97-a477-daa250bb0c5f",
   "metadata": {},
   "outputs": [
    {
     "data": {
      "text/html": [
       "<div>\n",
       "<style scoped>\n",
       "    .dataframe tbody tr th:only-of-type {\n",
       "        vertical-align: middle;\n",
       "    }\n",
       "\n",
       "    .dataframe tbody tr th {\n",
       "        vertical-align: top;\n",
       "    }\n",
       "\n",
       "    .dataframe thead th {\n",
       "        text-align: right;\n",
       "    }\n",
       "</style>\n",
       "<table border=\"1\" class=\"dataframe\">\n",
       "  <thead>\n",
       "    <tr style=\"text-align: right;\">\n",
       "      <th></th>\n",
       "      <th>Input_identifier</th>\n",
       "      <th>UniProt_ID</th>\n",
       "      <th>Mutation</th>\n",
       "      <th>Status</th>\n",
       "      <th>Type</th>\n",
       "      <th>COSMIC_mut_ID</th>\n",
       "      <th>ClinVar_mut_ID</th>\n",
       "      <th>UniProt_mut_ID</th>\n",
       "      <th>Interactor_UniProt_ID</th>\n",
       "      <th>Final_ddG</th>\n",
       "      <th>ProtBert_score</th>\n",
       "      <th>ProteinSolver_score</th>\n",
       "      <th>EL2_score</th>\n",
       "    </tr>\n",
       "  </thead>\n",
       "  <tbody>\n",
       "    <tr>\n",
       "      <th>0</th>\n",
       "      <td>6zoy-rbd.pdb</td>\n",
       "      <td>spike-sars2-co</td>\n",
       "      <td>A115C</td>\n",
       "      <td>done</td>\n",
       "      <td>core</td>\n",
       "      <td>-</td>\n",
       "      <td>-</td>\n",
       "      <td>-</td>\n",
       "      <td>-</td>\n",
       "      <td>0.557757</td>\n",
       "      <td>0.050039</td>\n",
       "      <td>0.493000</td>\n",
       "      <td>1.684530</td>\n",
       "    </tr>\n",
       "    <tr>\n",
       "      <th>1</th>\n",
       "      <td>6zoy-rbd.pdb</td>\n",
       "      <td>spike-sars2-co</td>\n",
       "      <td>A115D</td>\n",
       "      <td>done</td>\n",
       "      <td>core</td>\n",
       "      <td>-</td>\n",
       "      <td>-</td>\n",
       "      <td>-</td>\n",
       "      <td>-</td>\n",
       "      <td>1.839001</td>\n",
       "      <td>-0.002905</td>\n",
       "      <td>0.490849</td>\n",
       "      <td>2.342834</td>\n",
       "    </tr>\n",
       "    <tr>\n",
       "      <th>2</th>\n",
       "      <td>6zoy-rbd.pdb</td>\n",
       "      <td>spike-sars2-co</td>\n",
       "      <td>A115E</td>\n",
       "      <td>done</td>\n",
       "      <td>core</td>\n",
       "      <td>-</td>\n",
       "      <td>-</td>\n",
       "      <td>-</td>\n",
       "      <td>-</td>\n",
       "      <td>2.431744</td>\n",
       "      <td>-0.007556</td>\n",
       "      <td>0.489893</td>\n",
       "      <td>2.011936</td>\n",
       "    </tr>\n",
       "    <tr>\n",
       "      <th>3</th>\n",
       "      <td>6zoy-rbd.pdb</td>\n",
       "      <td>spike-sars2-co</td>\n",
       "      <td>A115F</td>\n",
       "      <td>done</td>\n",
       "      <td>core</td>\n",
       "      <td>-</td>\n",
       "      <td>-</td>\n",
       "      <td>-</td>\n",
       "      <td>-</td>\n",
       "      <td>0.249638</td>\n",
       "      <td>0.018772</td>\n",
       "      <td>0.504858</td>\n",
       "      <td>2.675086</td>\n",
       "    </tr>\n",
       "    <tr>\n",
       "      <th>4</th>\n",
       "      <td>6zoy-rbd.pdb</td>\n",
       "      <td>spike-sars2-co</td>\n",
       "      <td>A115G</td>\n",
       "      <td>done</td>\n",
       "      <td>core</td>\n",
       "      <td>-</td>\n",
       "      <td>-</td>\n",
       "      <td>-</td>\n",
       "      <td>-</td>\n",
       "      <td>0.849054</td>\n",
       "      <td>-0.011412</td>\n",
       "      <td>0.452892</td>\n",
       "      <td>1.261279</td>\n",
       "    </tr>\n",
       "  </tbody>\n",
       "</table>\n",
       "</div>"
      ],
      "text/plain": [
       "  Input_identifier      UniProt_ID Mutation Status  Type COSMIC_mut_ID  \\\n",
       "0     6zoy-rbd.pdb  spike-sars2-co    A115C   done  core             -   \n",
       "1     6zoy-rbd.pdb  spike-sars2-co    A115D   done  core             -   \n",
       "2     6zoy-rbd.pdb  spike-sars2-co    A115E   done  core             -   \n",
       "3     6zoy-rbd.pdb  spike-sars2-co    A115F   done  core             -   \n",
       "4     6zoy-rbd.pdb  spike-sars2-co    A115G   done  core             -   \n",
       "\n",
       "  ClinVar_mut_ID UniProt_mut_ID Interactor_UniProt_ID  Final_ddG  \\\n",
       "0              -              -                     -   0.557757   \n",
       "1              -              -                     -   1.839001   \n",
       "2              -              -                     -   2.431744   \n",
       "3              -              -                     -   0.249638   \n",
       "4              -              -                     -   0.849054   \n",
       "\n",
       "   ProtBert_score  ProteinSolver_score  EL2_score  \n",
       "0        0.050039             0.493000   1.684530  \n",
       "1       -0.002905             0.490849   2.342834  \n",
       "2       -0.007556             0.489893   2.011936  \n",
       "3        0.018772             0.504858   2.675086  \n",
       "4       -0.011412             0.452892   1.261279  "
      ]
     },
     "execution_count": 5,
     "metadata": {},
     "output_type": "execute_result"
    }
   ],
   "source": [
    "data2_df = pd.read_csv(\n",
    "    NOTEBOOK_DIR.joinpath(\"sars-spike-co-simpleresults.txt\"), sep=\"\\t\", na_values=\"None\"\n",
    ")\n",
    "data2_df = data2_df.dropna(subset=[\"ProtBert_score\", \"ProteinSolver_score\", \"EL2_score\"])\n",
    "\n",
    "data2_df.head()"
   ]
  },
  {
   "cell_type": "markdown",
   "id": "083d9aee-c67d-41ac-9802-b42dd2c499ad",
   "metadata": {},
   "source": [
    "## Visualize"
   ]
  },
  {
   "cell_type": "code",
   "execution_count": 6,
   "id": "4e455cdc-ef12-498c-a07a-c2ac748cd7ad",
   "metadata": {},
   "outputs": [
    {
     "data": {
      "text/plain": [
       "SpearmanrResult(correlation=0.5062427416284822, pvalue=3.6603529136619595e-245)"
      ]
     },
     "execution_count": 6,
     "metadata": {},
     "output_type": "execute_result"
    }
   ],
   "source": [
    "stats.spearmanr(data_df[\"ΔΔG\"], data_df[\"EL2\"])"
   ]
  },
  {
   "cell_type": "code",
   "execution_count": 7,
   "id": "d87da2c6-ef59-4ba8-b0d3-9fd921ec9b78",
   "metadata": {},
   "outputs": [
    {
     "data": {
      "text/plain": [
       "[<matplotlib.lines.Line2D at 0x7f52ee124340>]"
      ]
     },
     "execution_count": 7,
     "metadata": {},
     "output_type": "execute_result"
    },
    {
     "data": {
      "image/png": "[encoded data removed]",
      "text/plain": [
       "<Figure size 432x288 with 1 Axes>"
      ]
     },
     "metadata": {
      "needs_background": "light"
     },
     "output_type": "display_data"
    }
   ],
   "source": [
    "fig, ax = plt.subplots()\n",
    "\n",
    "ax.plot(data_df[\"ΔΔG\"], data_df[\"EL2\"], \"r.\")"
   ]
  },
  {
   "cell_type": "code",
   "execution_count": null,
   "id": "57f481ac-0541-4d24-98d6-a5a6464988cf",
   "metadata": {},
   "outputs": [],
   "source": []
  },
  {
   "cell_type": "code",
   "execution_count": 8,
   "id": "ad3188dd-4302-4788-9f30-93fa17a0e346",
   "metadata": {},
   "outputs": [
    {
     "data": {
      "text/plain": [
       "SpearmanrResult(correlation=0.5063089508754804, pvalue=3.5801756805046194e-245)"
      ]
     },
     "execution_count": 8,
     "metadata": {},
     "output_type": "execute_result"
    }
   ],
   "source": [
    "stats.spearmanr(data2_df[\"Final_ddG\"], data2_df[\"EL2_score\"])"
   ]
  },
  {
   "cell_type": "code",
   "execution_count": 9,
   "id": "cbe5a12f-6a0a-4bcb-a123-4e802a3cad89",
   "metadata": {},
   "outputs": [
    {
     "data": {
      "text/plain": [
       "[<matplotlib.lines.Line2D at 0x7f52eebd3670>]"
      ]
     },
     "execution_count": 9,
     "metadata": {},
     "output_type": "execute_result"
    },
    {
     "data": {
      "image/png": "[encoded data removed]",
      "text/plain": [
       "<Figure size 432x288 with 1 Axes>"
      ]
     },
     "metadata": {
      "needs_background": "light"
     },
     "output_type": "display_data"
    }
   ],
   "source": [
    "fig, ax = plt.subplots()\n",
    "\n",
    "ax.plot(data2_df[\"Final_ddG\"], data2_df[\"EL2_score\"], \"r.\")"
   ]
  },
  {
   "cell_type": "code",
   "execution_count": null,
   "id": "9a75a839-2a73-4c6f-8514-32e4b33ab6ee",
   "metadata": {},
   "outputs": [],
   "source": []
  },
  {
   "cell_type": "code",
   "execution_count": 10,
   "id": "c0c5a2ef-27f1-4fc7-880e-e7f7c6ea894f",
   "metadata": {},
   "outputs": [
    {
     "data": {
      "text/plain": [
       "SpearmanrResult(correlation=0.42850869850523493, pvalue=1.3614197362850844e-168)"
      ]
     },
     "execution_count": 10,
     "metadata": {},
     "output_type": "execute_result"
    }
   ],
   "source": [
    "stats.spearmanr(data2_df[\"Final_ddG\"], data2_df[\"ProteinSolver_score\"])"
   ]
  },
  {
   "cell_type": "code",
   "execution_count": 11,
   "id": "0a163b08-1b1c-4bdb-b922-c59b0f15a7f0",
   "metadata": {},
   "outputs": [
    {
     "data": {
      "text/plain": [
       "[<matplotlib.lines.Line2D at 0x7f52eec1c820>]"
      ]
     },
     "execution_count": 11,
     "metadata": {},
     "output_type": "execute_result"
    },
    {
     "data": {
      "image/png": "[encoded data removed]",
      "text/plain": [
       "<Figure size 432x288 with 1 Axes>"
      ]
     },
     "metadata": {
      "needs_background": "light"
     },
     "output_type": "display_data"
    }
   ],
   "source": [
    "fig, ax = plt.subplots()\n",
    "\n",
    "ax.plot(data2_df[\"Final_ddG\"], data2_df[\"ProteinSolver_score\"], \"r.\")"
   ]
  },
  {
   "cell_type": "code",
   "execution_count": null,
   "id": "35bf11c9-39fc-4cf3-9823-5c828b278c80",
   "metadata": {},
   "outputs": [],
   "source": []
  },
  {
   "cell_type": "code",
   "execution_count": 12,
   "id": "9b9db281-0f56-46a1-9773-12cfe2ad91f3",
   "metadata": {},
   "outputs": [
    {
     "data": {
      "text/plain": [
       "SpearmanrResult(correlation=-0.19335056189613636, pvalue=3.829759863293595e-33)"
      ]
     },
     "execution_count": 12,
     "metadata": {},
     "output_type": "execute_result"
    }
   ],
   "source": [
    "stats.spearmanr(data2_df[\"Final_ddG\"], data2_df[\"ProtBert_score\"])"
   ]
  },
  {
   "cell_type": "code",
   "execution_count": 13,
   "id": "51891ad4-80b3-4772-86fd-839719968065",
   "metadata": {},
   "outputs": [
    {
     "data": {
      "text/plain": [
       "[<matplotlib.lines.Line2D at 0x7f52ee089670>]"
      ]
     },
     "execution_count": 13,
     "metadata": {},
     "output_type": "execute_result"
    },
    {
     "data": {
      "image/png": "[encoded data removed]",
      "text/plain": [
       "<Figure size 432x288 with 1 Axes>"
      ]
     },
     "metadata": {
      "needs_background": "light"
     },
     "output_type": "display_data"
    }
   ],
   "source": [
    "fig, ax = plt.subplots()\n",
    "\n",
    "ax.plot(data2_df[\"Final_ddG\"].values, data2_df[\"ProtBert_score\"].values, \"r.\")"
   ]
  },
  {
   "cell_type": "code",
   "execution_count": null,
   "id": "72a9c399-dcfe-4f83-9cd7-ec0dba61dbe9",
   "metadata": {},
   "outputs": [],
   "source": []
  }
 ],
 "metadata": {
  "kernelspec": {
   "display_name": "Python 3 (ipykernel)",
   "language": "python",
   "name": "python3"
  },
  "language_info": {
   "codemirror_mode": {
    "name": "ipython",
    "version": 3
   },
   "file_extension": ".py",
   "mimetype": "text/x-python",
   "name": "python",
   "nbconvert_exporter": "python",
   "pygments_lexer": "ipython3",
   "version": "3.9.6"
  }
 },
 "nbformat": 4,
 "nbformat_minor": 5
}
