{
 "cells": [
  {
   "cell_type": "markdown",
   "id": "26c81e96-6b41-41fa-80a6-6360c482eb58",
   "metadata": {},
   "source": [
    "## Summary\n",
    "\n",
    "---"
   ]
  },
  {
   "cell_type": "markdown",
   "id": "ec276dec-6afa-4b57-bbfc-a11e04a8767e",
   "metadata": {},
   "source": [
    "## Imports"
   ]
  },
  {
   "cell_type": "code",
   "execution_count": null,
   "id": "539f4edf-ca04-4bef-b5c9-a6d402f7570b",
   "metadata": {},
   "outputs": [],
   "source": [
    "from pathlib import Path\n",
    "\n",
    "import elaspic2 as el2\n",
    "import numpy as np\n",
    "import pandas as pd\n",
    "import pyarrow as pa\n",
    "import pyarrow.parquet as pq\n",
    "from scipy import stats\n",
    "from sklearn import metrics\n",
    "from tqdm.auto import tqdm"
   ]
  },
  {
   "cell_type": "code",
   "execution_count": null,
   "id": "d08b0792-00b7-44be-9257-a554f95bd602",
   "metadata": {},
   "outputs": [],
   "source": [
    "pd.set_option(\"max_columns\", 1000)\n",
    "pd.set_option(\"max_rows\", 1000)"
   ]
  },
  {
   "cell_type": "markdown",
   "id": "5be0ca05-c038-414f-ba84-b2ae8013088b",
   "metadata": {},
   "source": [
    "## Parameters"
   ]
  },
  {
   "cell_type": "code",
   "execution_count": null,
   "id": "10e1faee-9f6a-40d8-8819-272b1c9837bb",
   "metadata": {},
   "outputs": [],
   "source": [
    "NOTEBOOK_DIR = Path(\"39_cagi6_sherloc_submission\").resolve()\n",
    "NOTEBOOK_DIR.mkdir(exist_ok=True)\n",
    "\n",
    "NOTEBOOK_DIR"
   ]
  },
  {
   "cell_type": "markdown",
   "id": "4d36d995-7bea-48cc-971b-cf926cbb17f8",
   "metadata": {},
   "source": [
    "## Load data"
   ]
  },
  {
   "cell_type": "code",
   "execution_count": null,
   "id": "4de96fa1-7815-48cb-a8ed-035d5ddd8a8c",
   "metadata": {},
   "outputs": [],
   "source": [
    "submission_template_file = NOTEBOOK_DIR.parent.joinpath(\n",
    "    \"30_cagi6_sherloc\", \"submission_template.tsv\"\n",
    ")\n",
    "\n",
    "submission_template_df = pd.read_csv(submission_template_file, sep=\"\\t\")\n",
    "\n",
    "display(submission_template_df.head(2))\n",
    "len(submission_template_df)"
   ]
  },
  {
   "cell_type": "markdown",
   "id": "8349f2e2-9d7d-43ab-a5e2-27935dd72dae",
   "metadata": {},
   "source": [
    "### `training_df`"
   ]
  },
  {
   "cell_type": "code",
   "execution_count": null,
   "id": "fd60b9b3-b6c0-4c6a-8769-70414425df6e",
   "metadata": {},
   "outputs": [],
   "source": [
    "training_file = NOTEBOOK_DIR.parent.joinpath(\n",
    "    \"30_cagi6_sherloc\",\n",
    "    \"CAGI6-Sherloc-clinical-classification\",\n",
    "    \"final_train_070821.txt\",\n",
    ")"
   ]
  },
  {
   "cell_type": "code",
   "execution_count": null,
   "id": "3c067902-63e5-425d-aa59-9183106a750b",
   "metadata": {},
   "outputs": [],
   "source": [
    "training_all_df = pd.read_csv(training_file, sep=\"\\t\")\n",
    "\n",
    "display(training_all_df.head(2))\n",
    "len(training_all_df)"
   ]
  },
  {
   "cell_type": "code",
   "execution_count": null,
   "id": "19cd38c9-1569-4c3e-9920-492604dc0ddd",
   "metadata": {},
   "outputs": [],
   "source": [
    "assert not set(submission_template_df[\"hgvs\"]) & set(training_all_df[\"hgvs\"])"
   ]
  },
  {
   "cell_type": "code",
   "execution_count": null,
   "id": "7d852835-27fc-4be4-a9a2-f011ee68f6e1",
   "metadata": {},
   "outputs": [],
   "source": [
    "training_df = training_all_df[training_all_df[\"Subcategory Missense\"]]\n",
    "\n",
    "display(training_df.head(2))\n",
    "len(training_df)"
   ]
  },
  {
   "cell_type": "markdown",
   "id": "dc4d933d-a5de-48da-b2f5-8c1bfb2d4b0f",
   "metadata": {},
   "source": [
    "### `testing_df`"
   ]
  },
  {
   "cell_type": "code",
   "execution_count": null,
   "id": "57d4ef71-ec3e-4152-8dfa-de4584e2aad4",
   "metadata": {},
   "outputs": [],
   "source": [
    "testing_file = NOTEBOOK_DIR.parent.joinpath(\n",
    "    \"30_cagi6_sherloc\", \"CAGI6-Sherloc-clinical-classification\", \"final_test_070821.txt\"\n",
    ")"
   ]
  },
  {
   "cell_type": "code",
   "execution_count": null,
   "id": "55dc0f3e-34bf-415d-8c6a-67356700dc38",
   "metadata": {},
   "outputs": [],
   "source": [
    "testing_all_df = pd.read_csv(testing_file, sep=\"\\t\")\n",
    "\n",
    "display(testing_all_df.head(2))\n",
    "len(testing_all_df)"
   ]
  },
  {
   "cell_type": "code",
   "execution_count": null,
   "id": "52d4ed61-3ddd-4cac-a934-a2cc07349392",
   "metadata": {},
   "outputs": [],
   "source": [
    "assert not set(submission_template_df[\"hgvs\"]) ^ set(testing_all_df[\"hgvs\"])"
   ]
  },
  {
   "cell_type": "code",
   "execution_count": null,
   "id": "f5b2db23-6aa7-4892-968b-1169b59057a4",
   "metadata": {},
   "outputs": [],
   "source": [
    "testing_df = testing_all_df[testing_all_df[\"Subcategory Missense\"]]\n",
    "\n",
    "display(testing_df.head(2))\n",
    "len(testing_df)"
   ]
  },
  {
   "cell_type": "markdown",
   "id": "c76d3637-20f1-4ab1-8222-f857c4631325",
   "metadata": {},
   "source": [
    "### `validation_df`"
   ]
  },
  {
   "cell_type": "code",
   "execution_count": null,
   "id": "72f5dfd8-d33f-4228-9632-194cb74b7424",
   "metadata": {},
   "outputs": [],
   "source": [
    "validation_file = NOTEBOOK_DIR.parent.joinpath(\n",
    "    \"30_cagi6_sherloc\", \"validation_variants.tsv\"\n",
    ")"
   ]
  },
  {
   "cell_type": "code",
   "execution_count": null,
   "id": "7d7355ec-350b-4cd7-a836-505b9176502b",
   "metadata": {},
   "outputs": [],
   "source": [
    "validation_all_df = pd.read_csv(validation_file, sep=\"\\t\").rename(\n",
    "    columns={\"HGVS.c\": \"hgvs_g\"}\n",
    ")\n",
    "\n",
    "display(validation_all_df.tail(2))\n",
    "len(validation_all_df)"
   ]
  },
  {
   "cell_type": "code",
   "execution_count": null,
   "id": "1b4246f2-f166-4735-a4ee-40345b607043",
   "metadata": {},
   "outputs": [],
   "source": [
    "def map_g_to_c(str_g, mapper):\n",
    "    from hgvs.exceptions import HGVSInvalidIntervalError, HGVSUsageError\n",
    "\n",
    "    var_g = hp.parse_hgvs_variant(str_g)\n",
    "    for tx_ac in mapper.relevant_transcripts(var_g):\n",
    "        try:\n",
    "            var_c = mapper.g_to_c(var_g, tx_ac)\n",
    "        except (HGVSUsageError, HGVSInvalidIntervalError):\n",
    "            continue\n",
    "        yield var_c"
   ]
  },
  {
   "cell_type": "code",
   "execution_count": null,
   "id": "74e25dc7-f9c2-42de-a104-c8946d1233f1",
   "metadata": {},
   "outputs": [],
   "source": [
    "validation_mapping_file = NOTEBOOK_DIR.parent.joinpath(\n",
    "    \"30_cagi6_sherloc\", \"validation-mapping-grch37.parquet\"\n",
    ")\n",
    "\n",
    "if validation_mapping_file.is_file():\n",
    "    validation_mapping_df = pq.read_table(validation_mapping_file).to_pandas()\n",
    "else:\n",
    "    import hgvs.assemblymapper\n",
    "    import hgvs.dataproviders.uta\n",
    "    import hgvs.parser\n",
    "\n",
    "    hp = hgvs.parser.Parser()\n",
    "    hdp = hgvs.dataproviders.uta.connect()\n",
    "    mapper = hgvs.assemblymapper.AssemblyMapper(\n",
    "        hdp, assembly_name=\"GRCh37\", normalize=False\n",
    "    )\n",
    "\n",
    "    results = []\n",
    "    for tup in tqdm(validation_all_df.itertuples(), total=len(validation_all_df)):\n",
    "        for var_c in map_g_to_c(tup.hgvs_g, mapper):\n",
    "            results.append((tup.str_g, str(var_c)))\n",
    "    validation_mapping_df = pd.DataFrame(results, columns=[\"hgvs_g\", \"hgvs\"])\n",
    "    pq.write_table(\n",
    "        pa.Table.from_pandas(validation_mapping_df, preserve_index=False),\n",
    "        validation_mapping_file,\n",
    "    )"
   ]
  },
  {
   "cell_type": "code",
   "execution_count": null,
   "id": "73e87f59-55e5-4d95-8c0d-1d70dfe58a32",
   "metadata": {},
   "outputs": [],
   "source": [
    "display(validation_mapping_df.head(2))\n",
    "print(len(validation_mapping_df))"
   ]
  },
  {
   "cell_type": "code",
   "execution_count": null,
   "id": "f5e1fba7-657e-40d2-bd17-25103d8ad28c",
   "metadata": {},
   "outputs": [],
   "source": [
    "validation_df = (\n",
    "    validation_all_df\n",
    "    #\n",
    "    .merge(validation_mapping_df, on=[\"hgvs_g\"], how=\"left\")\n",
    ")"
   ]
  },
  {
   "cell_type": "code",
   "execution_count": null,
   "id": "57fea139-d74e-41a5-bf70-0f6faa20123f",
   "metadata": {},
   "outputs": [],
   "source": [
    "display(validation_df.tail(2))\n",
    "print(len(validation_df))\n",
    "print(len(validation_df[\"hgvs_g\"].unique()))"
   ]
  },
  {
   "cell_type": "markdown",
   "id": "fd00941b-a3df-48d4-864c-bef984a8cd3b",
   "metadata": {},
   "source": [
    "## Load results"
   ]
  },
  {
   "cell_type": "code",
   "execution_count": null,
   "id": "0754bcaa-1b8d-49cd-9e98-a3d7c9b345b1",
   "metadata": {},
   "outputs": [],
   "source": [
    "DATASET_NAME = \"cagi6-sherloc\"\n",
    "TASK_COUNT = 4182\n",
    "\n",
    "DATASET_NAME, TASK_COUNT"
   ]
  },
  {
   "cell_type": "code",
   "execution_count": null,
   "id": "545bb337-c239-4cfd-8449-5bd25f817ed2",
   "metadata": {},
   "outputs": [],
   "source": [
    "def get_result_files(result_dir):\n",
    "    present_files = []\n",
    "    missing_files = []\n",
    "    for i in tqdm(range(1, TASK_COUNT + 1)):\n",
    "        path = result_dir.joinpath(f\"shard-{i}-of-{TASK_COUNT}.parquet\")\n",
    "        if path.is_file():\n",
    "            present_files.append(path)\n",
    "        else:\n",
    "            missing_files.append(path)\n",
    "    return present_files, missing_files"
   ]
  },
  {
   "cell_type": "code",
   "execution_count": null,
   "id": "d0dd8cea-7960-451e-8d48-7317169a0927",
   "metadata": {},
   "outputs": [],
   "source": [
    "def read_files(files):\n",
    "    dfs = []\n",
    "    for file in tqdm(files):\n",
    "        df = pq.read_table(file).to_pandas(integer_object_nulls=True)\n",
    "        dfs.append(df)\n",
    "    return pd.concat(dfs, ignore_index=True)"
   ]
  },
  {
   "cell_type": "markdown",
   "id": "f1da2f21-5ac6-4625-b105-f7c8c18e972d",
   "metadata": {},
   "source": [
    "### ProteinSolver"
   ]
  },
  {
   "cell_type": "code",
   "execution_count": null,
   "id": "a9e0b109-1a03-41e7-ae1c-180b0e4a8519",
   "metadata": {},
   "outputs": [],
   "source": [
    "ps_result_dir = NOTEBOOK_DIR.parent.joinpath(\"31_run_proteinsolver\", DATASET_NAME)"
   ]
  },
  {
   "cell_type": "code",
   "execution_count": null,
   "id": "d7df3505-9e49-44d4-87fc-96389528bf28",
   "metadata": {},
   "outputs": [],
   "source": [
    "present_files, missing_files = get_result_files(ps_result_dir)\n",
    "\n",
    "len(present_files), len(missing_files)"
   ]
  },
  {
   "cell_type": "code",
   "execution_count": null,
   "id": "517c88ae-9dbf-41b5-8d34-7c5c55193370",
   "metadata": {},
   "outputs": [],
   "source": [
    "result_ps_df = read_files(present_files)"
   ]
  },
  {
   "cell_type": "code",
   "execution_count": null,
   "id": "5a4cc566-dfaf-4ca9-a810-339d0736cf2c",
   "metadata": {},
   "outputs": [],
   "source": [
    "display(result_ps_df.head(2))\n",
    "print(len(result_ps_df))"
   ]
  },
  {
   "cell_type": "markdown",
   "id": "1f8e85e3-ffaf-4b61-be5a-9c800d3bbe24",
   "metadata": {},
   "source": [
    "### ProtBert"
   ]
  },
  {
   "cell_type": "code",
   "execution_count": null,
   "id": "3a8363be-9bb2-4918-8682-2101b54e590d",
   "metadata": {},
   "outputs": [],
   "source": [
    "pb_result_dir = NOTEBOOK_DIR.parent.joinpath(\"31_run_protbert\", DATASET_NAME)"
   ]
  },
  {
   "cell_type": "code",
   "execution_count": null,
   "id": "1bda80f9-16e6-4957-87ce-6ec33a83479e",
   "metadata": {},
   "outputs": [],
   "source": [
    "present_files, missing_files = get_result_files(pb_result_dir)\n",
    "\n",
    "len(present_files), len(missing_files)"
   ]
  },
  {
   "cell_type": "code",
   "execution_count": null,
   "id": "9b7ce3d1-68da-4dfb-a3ca-1422f81de4c8",
   "metadata": {},
   "outputs": [],
   "source": [
    "result_pb_df = read_files(present_files)"
   ]
  },
  {
   "cell_type": "code",
   "execution_count": null,
   "id": "adf074f9-a8c0-4b60-b045-1b7563178898",
   "metadata": {},
   "outputs": [],
   "source": [
    "display(result_pb_df.head(2))\n",
    "print(len(result_pb_df))"
   ]
  },
  {
   "cell_type": "markdown",
   "id": "deb93d6e-709e-4626-94c2-0682761dc9ad",
   "metadata": {},
   "source": [
    "### AlphaFold"
   ]
  },
  {
   "cell_type": "code",
   "execution_count": null,
   "id": "9cc3de71-10ee-4d03-9b33-651bf61dceb1",
   "metadata": {},
   "outputs": [],
   "source": [
    "af_result_dir = NOTEBOOK_DIR.parent.joinpath(\"31_run_alphafold\", DATASET_NAME)"
   ]
  },
  {
   "cell_type": "code",
   "execution_count": null,
   "id": "09bbe191-115b-49cc-a385-6dac64415ebf",
   "metadata": {},
   "outputs": [],
   "source": [
    "present_files, missing_files = get_result_files(af_result_dir)\n",
    "\n",
    "len(present_files), len(missing_files)"
   ]
  },
  {
   "cell_type": "code",
   "execution_count": null,
   "id": "a8a9b964-b13c-4c52-b063-c26c8ac70efe",
   "metadata": {},
   "outputs": [],
   "source": [
    "result_af_df = read_files(present_files)"
   ]
  },
  {
   "cell_type": "code",
   "execution_count": null,
   "id": "d18e5dc8-5513-4aea-8346-0d8782289e32",
   "metadata": {},
   "outputs": [],
   "source": [
    "display(result_af_df.head(2))\n",
    "print(len(result_af_df))"
   ]
  },
  {
   "cell_type": "markdown",
   "id": "e23428f2-6618-40be-9d82-d5cf11520e4f",
   "metadata": {},
   "source": [
    "### Rosetta"
   ]
  },
  {
   "cell_type": "code",
   "execution_count": null,
   "id": "8ca4a5bd-2f73-41f1-b050-78b46b402c0f",
   "metadata": {},
   "outputs": [],
   "source": [
    "ra_result_dir = NOTEBOOK_DIR.parent.joinpath(\"31_run_rosetta_ddg\", DATASET_NAME)"
   ]
  },
  {
   "cell_type": "code",
   "execution_count": null,
   "id": "5210606a-63cc-4e69-939d-0d253a17cfb8",
   "metadata": {},
   "outputs": [],
   "source": [
    "present_files, missing_files = get_result_files(ra_result_dir)\n",
    "\n",
    "len(present_files), len(missing_files)"
   ]
  },
  {
   "cell_type": "code",
   "execution_count": null,
   "id": "e2fc27fe-3169-410e-a583-e881bf9a72cb",
   "metadata": {},
   "outputs": [],
   "source": [
    "result_ra_df = read_files(present_files)"
   ]
  },
  {
   "cell_type": "code",
   "execution_count": null,
   "id": "344e8af0-2420-4b77-ad26-c4a2cbf65972",
   "metadata": {},
   "outputs": [],
   "source": [
    "display(result_ra_df.head(2))\n",
    "print(len(result_ra_df))"
   ]
  },
  {
   "cell_type": "markdown",
   "id": "0465229e-f586-4efd-bb19-f2d07ca10906",
   "metadata": {},
   "source": [
    "## Combine results"
   ]
  },
  {
   "cell_type": "code",
   "execution_count": null,
   "id": "59bac9ef-c7e0-4fff-b599-61dbb8362de5",
   "metadata": {},
   "outputs": [],
   "source": [
    "len(result_ps_df) == len(result_ps_df[\"mutation_id\"].unique())"
   ]
  },
  {
   "cell_type": "code",
   "execution_count": null,
   "id": "7cbdb513-664c-4221-8d2d-b606a2d76975",
   "metadata": {},
   "outputs": [],
   "source": [
    "result_df = (\n",
    "    result_ps_df.merge(\n",
    "        result_pb_df, on=[\"protein_id\", \"mutation\", \"mutation_id\", \"effect\"], how=\"left\"\n",
    "    )\n",
    "    .merge(\n",
    "        result_ra_df, on=[\"protein_id\", \"mutation\", \"mutation_id\", \"effect\"], how=\"left\"\n",
    "    )\n",
    "    .merge(\n",
    "        result_af_df, on=[\"protein_id\", \"mutation\", \"mutation_id\", \"effect\"], how=\"left\"\n",
    "    )\n",
    ")\n",
    "\n",
    "len(result_df) == len(result_df[\"mutation_id\"].unique())"
   ]
  },
  {
   "cell_type": "code",
   "execution_count": null,
   "id": "dea8c722-b788-4c4e-a6b6-765a292c2b54",
   "metadata": {},
   "outputs": [],
   "source": [
    "display(result_df.head(2))\n",
    "print(len(result_df))"
   ]
  },
  {
   "cell_type": "markdown",
   "id": "cddb7066-98b9-43a5-a0a1-892e634114bd",
   "metadata": {},
   "source": [
    "## Calculate EL2 score"
   ]
  },
  {
   "cell_type": "code",
   "execution_count": null,
   "id": "cd369701-3d1f-4b28-9f15-4b27cd07f1a0",
   "metadata": {},
   "outputs": [],
   "source": [
    "model = el2.ELASPIC2()"
   ]
  },
  {
   "cell_type": "code",
   "execution_count": null,
   "id": "d90324e8-5fbe-43ca-8d78-275ff3b7dee3",
   "metadata": {},
   "outputs": [],
   "source": [
    "proteinsolver_columnms = [\n",
    "    c for c in result_df if c.startswith(\"proteinsolver_core_score\")\n",
    "]\n",
    "protbert_columns = [c for c in result_df if c.startswith(\"protbert_core_\")]\n",
    "\n",
    "el2_missing = result_df[proteinsolver_columnms + protbert_columns].isnull().any(axis=1)\n",
    "result_df[\"el2_score\"] = np.nan\n",
    "result_df.loc[~el2_missing, \"el2_score\"] = model.predict_mutation_effect(\n",
    "    [\n",
    "        t._asdict()\n",
    "        for t in result_df.loc[\n",
    "            ~el2_missing, proteinsolver_columnms + protbert_columns\n",
    "        ].itertuples(index=False)\n",
    "    ]\n",
    ")"
   ]
  },
  {
   "cell_type": "markdown",
   "id": "f316f627-d657-430a-a432-ddd93fb2bc11",
   "metadata": {},
   "source": [
    "## Calculate deltas"
   ]
  },
  {
   "cell_type": "code",
   "execution_count": null,
   "id": "5c95c4d7-caf7-476e-81ed-f15b8a9f54a8",
   "metadata": {},
   "outputs": [],
   "source": [
    "for column in list(result_df):\n",
    "    if not column.endswith(\"_mut\"):\n",
    "        continue\n",
    "\n",
    "    column_wt = column.removesuffix(\"_mut\") + \"_wt\"\n",
    "    if column_wt not in result_df:\n",
    "        print(column_wt)\n",
    "        continue\n",
    "\n",
    "    column_change = column.removesuffix(\"_mut\") + \"_change\"\n",
    "    result_df[column_change] = result_df[column_wt] - result_df[column]\n",
    "    del result_df[column]"
   ]
  },
  {
   "cell_type": "markdown",
   "id": "ae87c286-d491-42d4-941d-606cde544d48",
   "metadata": {},
   "source": [
    "## Correlations"
   ]
  },
  {
   "cell_type": "code",
   "execution_count": null,
   "id": "e1374e04-eae5-47bb-b1b0-9aafc45782a0",
   "metadata": {},
   "outputs": [],
   "source": [
    "proteinsolver_columnms = [c for c in result_df if c.startswith(\"proteinsolver_\")]\n",
    "protbert_columns = [c for c in result_df if c.startswith(\"protbert_\")]\n",
    "rosetta_columns = [c for c in result_df if c.startswith(\"rosetta_\")]\n",
    "alphafold_columns = [c for c in result_df if c.startswith(\"alphafold_\")]"
   ]
  },
  {
   "cell_type": "code",
   "execution_count": null,
   "id": "1448fdf8-4949-4e91-b6c2-0db0711b8ea4",
   "metadata": {},
   "outputs": [],
   "source": [
    "result_df[\"effect\"].value_counts()"
   ]
  },
  {
   "cell_type": "code",
   "execution_count": null,
   "id": "4ea8e99e-ccd9-4c28-8613-c3bde79aefbe",
   "metadata": {},
   "outputs": [],
   "source": [
    "effect_map = {\n",
    "    \"Uncertain significance\": 0,\n",
    "    \"Likely benign\": -1,\n",
    "    \"Benign\": -1,\n",
    "    \"Likely pathogenic\": 1,\n",
    "    \"Pathogenic\": 1,\n",
    "}\n",
    "\n",
    "result_df[\"effect_score\"] = result_df[\"effect\"].map(effect_map)"
   ]
  },
  {
   "cell_type": "code",
   "execution_count": null,
   "id": "eb146d6b-4dac-451b-8ed2-951a07d51a9c",
   "metadata": {},
   "outputs": [],
   "source": [
    "score_columns = [\n",
    "    \"el2_score\",\n",
    "    \"proteinsolver_core_score_change\",\n",
    "    \"protbert_core_score_change\",\n",
    "    \"rosetta_dg_change\",\n",
    "    \"alphafold_core_scores_residue_plddt_wt\",\n",
    "    \"alphafold_core_scores_protein_plddt_wt\",\n",
    "    \"alphafold_core_scores_protein_max_predicted_aligned_error_wt\",\n",
    "    \"alphafold_core_scores_proten_ptm_wt\",\n",
    "]\n",
    "\n",
    "df = result_df.dropna(subset=score_columns + [\"effect_score\"])\n",
    "\n",
    "for col in score_columns:\n",
    "    corr = stats.spearmanr(df[\"effect_score\"], df[col])\n",
    "    auc = metrics.roc_auc_score(df[\"effect_score\"] > 0, df[col])\n",
    "    print(col, corr[0], auc)"
   ]
  },
  {
   "cell_type": "code",
   "execution_count": null,
   "id": "03d9567b-b78a-4467-866e-15a0e64e8dd1",
   "metadata": {},
   "outputs": [],
   "source": [
    "i = 6\n",
    "\n",
    "x1 = df[col].str[i]\n",
    "x2 = df[col].str[i] - df[col.removesuffix(\"_wt\") + \"_mut\"].str[i]"
   ]
  },
  {
   "cell_type": "code",
   "execution_count": null,
   "id": "ef033ec5-5408-4427-a063-33365f0a0e89",
   "metadata": {},
   "outputs": [],
   "source": [
    "import matplotlib.pyplot as plt\n",
    "\n",
    "plt.hist(x1, bins=100)\n",
    "plt.hist(x2, bins=100)\n",
    "\n",
    "None"
   ]
  },
  {
   "cell_type": "code",
   "execution_count": null,
   "id": "0aa0064c-3f40-4127-89fe-7042a0f72e8b",
   "metadata": {},
   "outputs": [],
   "source": [
    "x = df[\"alphafold_core_features_residue_experimentally_resolved_wt\"].apply(np.mean)\n",
    "\n",
    "corr = stats.spearmanr(df[\"effect_score\"], x)\n",
    "auc = metrics.roc_auc_score(df[\"effect_score\"] > 0, x)\n",
    "\n",
    "corr, auc"
   ]
  },
  {
   "cell_type": "code",
   "execution_count": null,
   "id": "8d39a77d-421f-4119-9296-d5defeb2fd5d",
   "metadata": {},
   "outputs": [],
   "source": [
    "from sklearn.decomposition import PCA\n",
    "from sklearn.preprocessing import StandardScaler\n",
    "\n",
    "col = \"alphafold_core_features_residue_msa_first_row_change\"\n",
    "\n",
    "x = np.vstack(df[col].values)\n",
    "x = StandardScaler().fit_transform(x)\n",
    "x = PCA(0.9, svd_solver=\"full\").fit_transform(x)\n",
    "\n",
    "evals = []\n",
    "for i in tqdm(range(x.shape[1])):\n",
    "    x1 = x[:, i]\n",
    "\n",
    "    corr = stats.spearmanr(df[\"effect_score\"], x1)\n",
    "    auc = metrics.roc_auc_score(df[\"effect_score\"] > 0, x1)\n",
    "    evals.append((i, *corr, auc))\n",
    "\n",
    "evals_df = pd.DataFrame(evals, columns=[\"i\", \"corr\", \"pvalue\", \"auc\"])\n",
    "evals_df[\"corr_abs\"] = evals_df[\"corr\"].abs()\n",
    "evals_df = evals_df.sort_values(\"corr_abs\", ascending=False)\n",
    "del evals_df[\"corr_abs\"]\n",
    "\n",
    "display(evals_df.head(10))"
   ]
  },
  {
   "cell_type": "code",
   "execution_count": null,
   "id": "78cd23de-4462-46d9-b563-efd6e7bc0d89",
   "metadata": {},
   "outputs": [],
   "source": [
    "x.shape"
   ]
  },
  {
   "cell_type": "code",
   "execution_count": null,
   "id": "9e4d40d7-5c93-4562-8eb5-3f4642f3f86b",
   "metadata": {},
   "outputs": [],
   "source": [
    "# col = \"alphafold_core_features_residue_experimentally_resolved_wt\"  # 0.19 [37]\n",
    "# col = \"alphafold_core_features_residue_experimentally_resolved_change\"  # 0.11 [37]\n",
    "# col = \"alphafold_core_features_residue_predicted_lddt_wt\"  # 0.17 [50]\n",
    "# col = \"alphafold_core_features_residue_predicted_lddt_change\"  # 0.04 [50]\n",
    "# col = \"alphafold_core_features_residue_msa_first_row_wt\"  # 0.17 [256]\n",
    "# col = \"alphafold_core_features_residue_msa_first_row_change\"  # 0.21 [256]\n",
    "# col = \"alphafold_core_features_residue_single_wt\"  # 0.20 [384]\n",
    "# col = \"alphafold_core_features_residue_single_change\"  # 0.15 [384]\n",
    "# col = \"alphafold_core_features_residue_structure_module_wt\"  # 0.18 [384]\n",
    "col = \"alphafold_core_features_residue_structure_module_change\"  # 0.05 [384]\n",
    "\n",
    "# col = \"alphafold_core_features_protein_experimentally_resolved_wt\"  #\n",
    "# col = \"alphafold_core_features_protein_predicted_lddt_wt\"  # \n",
    "# col = \"alphafold_core_features_protein_msa_first_row_wt\"  # \n",
    "# col = \"alphafold_core_features_protein_single_wt\"  # \n",
    "# col = \"alphafold_core_features_protein_structure_module_wt\"  #\n",
    "\n",
    "num_features = len(result_df[col][0])\n",
    "\n",
    "evals = []\n",
    "for i in tqdm(range(num_features)):\n",
    "    x1 = df[col].str[i]\n",
    "\n",
    "    corr = stats.spearmanr(df[\"effect_score\"], x1)\n",
    "    auc = metrics.roc_auc_score(df[\"effect_score\"] > 0, x1)\n",
    "    evals.append((i, *corr, auc))\n",
    "\n",
    "evals_df = pd.DataFrame(evals, columns=[\"i\", \"corr\", \"pvalue\", \"auc\"])\n",
    "evals_df[\"corr_abs\"] = evals_df[\"corr\"].abs()\n",
    "evals_df = evals_df.sort_values(\"corr_abs\", ascending=False)\n",
    "del evals_df[\"corr_abs\"]\n",
    "\n",
    "display(evals_df.head(10))"
   ]
  },
  {
   "cell_type": "code",
   "execution_count": null,
   "id": "71c4dc24-5c95-4273-98f2-97cc35918916",
   "metadata": {},
   "outputs": [],
   "source": [
    "scores_proten_ptm"
   ]
  },
  {
   "cell_type": "code",
   "execution_count": null,
   "id": "29f4a401-8a56-41db-89be-eb652f0b8c6a",
   "metadata": {},
   "outputs": [],
   "source": [
    "validation_df.head()"
   ]
  },
  {
   "cell_type": "code",
   "execution_count": null,
   "id": "e937bf9c-bd56-4939-9f75-d5911a1e8353",
   "metadata": {},
   "outputs": [],
   "source": [
    "validation_submission_df = validation_df.assign(\n",
    "    is_missense=lambda df: df[\"hgvs\"].notnull()\n",
    ").merge(result_df, left_on=[\"hgvs\"], right_on=[\"mutation_id\"], how=\"left\")\n",
    "\n",
    "assert len(validation_submission_df) == len(validation_df)"
   ]
  },
  {
   "cell_type": "code",
   "execution_count": null,
   "id": "af02f712-20ae-4800-b154-a8d2e3269dcc",
   "metadata": {},
   "outputs": [],
   "source": [
    "out = (\n",
    "    validation_submission_df.groupby(\"hgvs_g\")\n",
    "    .agg({\"el2_score\": np.nanmean, \"is_missense\": \"max\"})\n",
    "    .fillna(0.0)\n",
    "    .reset_index()\n",
    ")\n",
    "\n",
    "out.head()"
   ]
  },
  {
   "cell_type": "code",
   "execution_count": null,
   "id": "c922d494-08fc-4fa6-b465-7346d6a1d29e",
   "metadata": {},
   "outputs": [],
   "source": [
    "out[[\"hgvs_g\", \"el2_score\"]].to_csv(\n",
    "    NOTEBOOK_DIR.joinpath(\"submission-valid.tsv\"), index=False, sep=\"\\t\"\n",
    ")"
   ]
  },
  {
   "cell_type": "code",
   "execution_count": null,
   "id": "9fad9d1a-013b-4d38-9ce4-4c8d89500b78",
   "metadata": {},
   "outputs": [],
   "source": [
    "validation_submission_df.head()"
   ]
  },
  {
   "cell_type": "code",
   "execution_count": null,
   "id": "db4062aa-1d66-4efe-9931-8c71cfca24ea",
   "metadata": {},
   "outputs": [],
   "source": []
  },
  {
   "cell_type": "code",
   "execution_count": null,
   "id": "f6f2b4d5-d510-4e11-b71f-0e18e81a80cf",
   "metadata": {},
   "outputs": [],
   "source": [
    "df.columns"
   ]
  }
 ],
 "metadata": {
  "kernelspec": {
   "display_name": "Python 3 (ipykernel)",
   "language": "python",
   "name": "python3"
  },
  "language_info": {
   "codemirror_mode": {
    "name": "ipython",
    "version": 3
   },
   "file_extension": ".py",
   "mimetype": "text/x-python",
   "name": "python",
   "nbconvert_exporter": "python",
   "pygments_lexer": "ipython3",
   "version": "3.9.6"
  }
 },
 "nbformat": 4,
 "nbformat_minor": 5
}
