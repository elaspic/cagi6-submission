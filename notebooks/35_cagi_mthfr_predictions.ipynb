{
 "cells": [
  {
   "cell_type": "markdown",
   "metadata": {
    "id": "XDxppXuGHD1O"
   },
   "source": [
    "# Predicting the simultaneous effect of multiple mutations\n",
    "\n",
    "## Summary\n",
    "\n",
    "<https://genomeinterpretation.org/cagi6-mthfr.html>"
   ]
  },
  {
   "cell_type": "markdown",
   "metadata": {
    "id": "PJFvkN8EHD1V"
   },
   "source": [
    "## Google colab"
   ]
  },
  {
   "cell_type": "code",
   "execution_count": null,
   "metadata": {
    "colab": {
     "base_uri": "https://localhost:8080/"
    },
    "id": "CshJ33W1jdXc",
    "outputId": "0b1f7b95-c708-49b1-c2c6-ea1a8724c0ea"
   },
   "outputs": [
    {
     "name": "stdout",
     "output_type": "stream",
     "text": [
      "Sat Jun 19 19:29:50 2021       \n",
      "+-----------------------------------------------------------------------------+\n",
      "| NVIDIA-SMI 465.27       Driver Version: 460.32.03    CUDA Version: 11.2     |\n",
      "|-------------------------------+----------------------+----------------------+\n",
      "| GPU  Name        Persistence-M| Bus-Id        Disp.A | Volatile Uncorr. ECC |\n",
      "| Fan  Temp  Perf  Pwr:Usage/Cap|         Memory-Usage | GPU-Util  Compute M. |\n",
      "|                               |                      |               MIG M. |\n",
      "|===============================+======================+======================|\n",
      "|   0  Tesla T4            Off  | 00000000:00:04.0 Off |                    0 |\n",
      "| N/A   69C    P8    11W /  70W |      0MiB / 15109MiB |      0%      Default |\n",
      "|                               |                      |                  N/A |\n",
      "+-------------------------------+----------------------+----------------------+\n",
      "                                                                               \n",
      "+-----------------------------------------------------------------------------+\n",
      "| Processes:                                                                  |\n",
      "|  GPU   GI   CI        PID   Type   Process name                  GPU Memory |\n",
      "|        ID   ID                                                   Usage      |\n",
      "|=============================================================================|\n",
      "|  No running processes found                                                 |\n",
      "+-----------------------------------------------------------------------------+\n"
     ]
    }
   ],
   "source": [
    "!nvidia-smi"
   ]
  },
  {
   "cell_type": "code",
   "execution_count": null,
   "metadata": {
    "colab": {
     "base_uri": "https://localhost:8080/"
    },
    "id": "OeQckESKHD1W",
    "outputId": "cf81cc41-9579-435d-8d6d-f677d2ebc527"
   },
   "outputs": [
    {
     "data": {
      "text/plain": [
       "True"
      ]
     },
     "execution_count": 2,
     "metadata": {
      "tags": []
     },
     "output_type": "execute_result"
    }
   ],
   "source": [
    "try:\n",
    "    import google.colab\n",
    "    GOOGLE_COLAB = True\n",
    "except ImportError:\n",
    "    GOOGLE_COLAB = False\n",
    "    \n",
    "GOOGLE_COLAB"
   ]
  },
  {
   "cell_type": "code",
   "execution_count": null,
   "metadata": {
    "colab": {
     "base_uri": "https://localhost:8080/"
    },
    "id": "x8sLbFyqN0bT",
    "outputId": "aa489d78-df58-4bc0-cc32-3f606f4a2d6e"
   },
   "outputs": [
    {
     "name": "stdout",
     "output_type": "stream",
     "text": [
      "Drive already mounted at /gdrive; to attempt to forcibly remount, call drive.mount(\"/gdrive\", force_remount=True).\n"
     ]
    }
   ],
   "source": [
    "if GOOGLE_COLAB:\n",
    "    from google.colab import drive\n",
    "    drive.mount('/gdrive')"
   ]
  },
  {
   "cell_type": "code",
   "execution_count": null,
   "metadata": {
    "colab": {
     "base_uri": "https://localhost:8080/"
    },
    "id": "2iapvABvHD1b",
    "outputId": "d88f76b3-0e97-4340-f2e9-d51100184c70"
   },
   "outputs": [
    {
     "name": "stdout",
     "output_type": "stream",
     "text": [
      "Looking in links: https://download.pytorch.org/whl/torch_stable.html\n",
      "Requirement already satisfied: torch==1.8.0+cu111 in /usr/local/lib/python3.7/dist-packages (1.8.0+cu111)\n",
      "Requirement already satisfied: torchvision==0.9.0+cu111 in /usr/local/lib/python3.7/dist-packages (0.9.0+cu111)\n",
      "Requirement already satisfied: torchaudio==0.8.0 in /usr/local/lib/python3.7/dist-packages (0.8.0)\n",
      "Requirement already satisfied: typing-extensions in /usr/local/lib/python3.7/dist-packages (from torch==1.8.0+cu111) (3.7.4.3)\n",
      "Requirement already satisfied: numpy in /usr/local/lib/python3.7/dist-packages (from torch==1.8.0+cu111) (1.19.5)\n",
      "Requirement already satisfied: pillow>=4.1.1 in /usr/local/lib/python3.7/dist-packages (from torchvision==0.9.0+cu111) (7.1.2)\n",
      "Looking in links: https://pytorch-geometric.com/whl/torch-1.8.0+cu111.html\n",
      "Collecting https://gitlab.com/kimlab/kmbio/-/archive/v2.1.0/kmbio-v2.1.0.zip\n",
      "  Using cached https://gitlab.com/kimlab/kmbio/-/archive/v2.1.0/kmbio-v2.1.0.zip\n",
      "  Installing build dependencies ... \u001b[?25l\u001b[?25hdone\n",
      "  Getting requirements to build wheel ... \u001b[?25l\u001b[?25hdone\n",
      "    Preparing wheel metadata ... \u001b[?25l\u001b[?25hdone\n",
      "Requirement already satisfied (use --upgrade to upgrade): kmbio==2.1.0 from https://gitlab.com/kimlab/kmbio/-/archive/v2.1.0/kmbio-v2.1.0.zip in /usr/local/lib/python3.7/dist-packages\n",
      "Collecting https://gitlab.com/kimlab/kmtools/-/archive/v0.2.8/kmtools-v0.2.8.zip\n",
      "  Using cached https://gitlab.com/kimlab/kmtools/-/archive/v0.2.8/kmtools-v0.2.8.zip\n",
      "  Installing build dependencies ... \u001b[?25l\u001b[?25hdone\n",
      "  Getting requirements to build wheel ... \u001b[?25l\u001b[?25hdone\n",
      "    Preparing wheel metadata ... \u001b[?25l\u001b[?25hdone\n",
      "Requirement already satisfied (use --upgrade to upgrade): kmtools==0.2.8 from https://gitlab.com/kimlab/kmtools/-/archive/v0.2.8/kmtools-v0.2.8.zip in /usr/local/lib/python3.7/dist-packages\n",
      "Collecting https://gitlab.com/ostrokach/proteinsolver/-/archive/v0.1.25/proteinsolver-v0.1.25.zip\n",
      "  Using cached https://gitlab.com/ostrokach/proteinsolver/-/archive/v0.1.25/proteinsolver-v0.1.25.zip\n",
      "  Installing build dependencies ... \u001b[?25l\u001b[?25hdone\n",
      "  Getting requirements to build wheel ... \u001b[?25l\u001b[?25hdone\n",
      "    Preparing wheel metadata ... \u001b[?25l\u001b[?25hdone\n",
      "Requirement already satisfied (use --upgrade to upgrade): proteinsolver==0.1.25 from https://gitlab.com/ostrokach/proteinsolver/-/archive/v0.1.25/proteinsolver-v0.1.25.zip in /usr/local/lib/python3.7/dist-packages\n",
      "Collecting git+https://gitlab.com/elaspic/elaspic2.git\n",
      "  Cloning https://gitlab.com/elaspic/elaspic2.git to /tmp/pip-req-build-j0l6mypi\n",
      "  Running command git clone -q https://gitlab.com/elaspic/elaspic2.git /tmp/pip-req-build-j0l6mypi\n",
      "  Installing build dependencies ... \u001b[?25l\u001b[?25hdone\n",
      "  Getting requirements to build wheel ... \u001b[?25l\u001b[?25hdone\n",
      "    Preparing wheel metadata ... \u001b[?25l\u001b[?25hdone\n",
      "Requirement already satisfied (use --upgrade to upgrade): elaspic2==0.1.7 from git+https://gitlab.com/elaspic/elaspic2.git in /usr/local/lib/python3.7/dist-packages\n",
      "Requirement already satisfied: transformers==3.3.1 in /usr/local/lib/python3.7/dist-packages (3.3.1)\n",
      "Requirement already satisfied: torch-scatter==2.0.6 in /usr/local/lib/python3.7/dist-packages (2.0.6)\n",
      "Requirement already satisfied: torch-sparse==0.6.9 in /usr/local/lib/python3.7/dist-packages (0.6.9)\n",
      "Requirement already satisfied: torch-cluster==1.5.9 in /usr/local/lib/python3.7/dist-packages (1.5.9)\n",
      "Requirement already satisfied: torch-spline-conv==1.2.1 in /usr/local/lib/python3.7/dist-packages (1.2.1)\n",
      "Requirement already satisfied: torch-geometric==1.6.1 in /usr/local/lib/python3.7/dist-packages (1.6.1)\n",
      "Requirement already satisfied: pyarrow in /usr/local/lib/python3.7/dist-packages (from elaspic2==0.1.7) (3.0.0)\n",
      "Requirement already satisfied: retrying in /usr/local/lib/python3.7/dist-packages (from elaspic2==0.1.7) (1.3.3)\n",
      "Requirement already satisfied: tables in /usr/local/lib/python3.7/dist-packages (from elaspic2==0.1.7) (3.4.4)\n",
      "Requirement already satisfied: paramiko<2.8,>=2.7 in /usr/local/lib/python3.7/dist-packages (from elaspic2==0.1.7) (2.7.2)\n",
      "Requirement already satisfied: cloudpickle in /usr/local/lib/python3.7/dist-packages (from elaspic2==0.1.7) (1.3.0)\n",
      "Requirement already satisfied: nglview<2.8,>=2.7 in /usr/local/lib/python3.7/dist-packages (from elaspic2==0.1.7) (2.7.7)\n",
      "Requirement already satisfied: psutil in /usr/local/lib/python3.7/dist-packages (from elaspic2==0.1.7) (5.4.8)\n",
      "Requirement already satisfied: biopython<2.0,>=1.78 in /usr/local/lib/python3.7/dist-packages (from elaspic2==0.1.7) (1.79)\n",
      "Requirement already satisfied: mdtraj<1.10,>=1.9 in /usr/local/lib/python3.7/dist-packages (from elaspic2==0.1.7) (1.9.6)\n",
      "Requirement already satisfied: tqdm<4.55,>=4.50 in /usr/local/lib/python3.7/dist-packages (from elaspic2==0.1.7) (4.54.1)\n",
      "Requirement already satisfied: sqlalchemy in /usr/local/lib/python3.7/dist-packages (from elaspic2==0.1.7) (1.4.18)\n",
      "Requirement already satisfied: mmtf-python<1.2,>=1.1 in /usr/local/lib/python3.7/dist-packages (from elaspic2==0.1.7) (1.1.2)\n",
      "Requirement already satisfied: tenacity<6.3,>=6.2 in /usr/local/lib/python3.7/dist-packages (from elaspic2==0.1.7) (6.2.0)\n",
      "Requirement already satisfied: lightgbm<4.0,>=3.2.0 in /usr/local/lib/python3.7/dist-packages (from elaspic2==0.1.7) (3.2.1)\n",
      "Requirement already satisfied: pytest in /usr/local/lib/python3.7/dist-packages (from elaspic2==0.1.7) (3.6.4)\n",
      "Requirement already satisfied: fire<0.4,>=0.3 in /usr/local/lib/python3.7/dist-packages (from elaspic2==0.1.7) (0.3.1)\n",
      "Requirement already satisfied: brotlipy<0.8,>=0.7 in /usr/local/lib/python3.7/dist-packages (from elaspic2==0.1.7) (0.7.0)\n",
      "Requirement already satisfied: numpy in /usr/local/lib/python3.7/dist-packages (from transformers==3.3.1) (1.19.5)\n",
      "Requirement already satisfied: requests in /usr/local/lib/python3.7/dist-packages (from transformers==3.3.1) (2.23.0)\n",
      "Requirement already satisfied: tokenizers==0.8.1.rc2 in /usr/local/lib/python3.7/dist-packages (from transformers==3.3.1) (0.8.1rc2)\n",
      "Requirement already satisfied: sacremoses in /usr/local/lib/python3.7/dist-packages (from transformers==3.3.1) (0.0.45)\n",
      "Requirement already satisfied: sentencepiece!=0.1.92 in /usr/local/lib/python3.7/dist-packages (from transformers==3.3.1) (0.1.96)\n",
      "Requirement already satisfied: regex!=2019.12.17 in /usr/local/lib/python3.7/dist-packages (from transformers==3.3.1) (2019.12.20)\n",
      "Requirement already satisfied: filelock in /usr/local/lib/python3.7/dist-packages (from transformers==3.3.1) (3.0.12)\n",
      "Requirement already satisfied: packaging in /usr/local/lib/python3.7/dist-packages (from transformers==3.3.1) (20.9)\n",
      "Requirement already satisfied: scipy in /usr/local/lib/python3.7/dist-packages (from torch-sparse==0.6.9) (1.4.1)\n",
      "Requirement already satisfied: h5py in /usr/local/lib/python3.7/dist-packages (from torch-geometric==1.6.1) (3.1.0)\n",
      "Requirement already satisfied: googledrivedownloader in /usr/local/lib/python3.7/dist-packages (from torch-geometric==1.6.1) (0.4)\n",
      "Requirement already satisfied: scikit-learn in /usr/local/lib/python3.7/dist-packages (from torch-geometric==1.6.1) (0.22.2.post1)\n",
      "Requirement already satisfied: jinja2 in /usr/local/lib/python3.7/dist-packages (from torch-geometric==1.6.1) (2.11.3)\n",
      "Requirement already satisfied: pandas in /usr/local/lib/python3.7/dist-packages (from torch-geometric==1.6.1) (1.1.5)\n",
      "Requirement already satisfied: ase in /usr/local/lib/python3.7/dist-packages (from torch-geometric==1.6.1) (3.21.1)\n",
      "Requirement already satisfied: networkx in /usr/local/lib/python3.7/dist-packages (from torch-geometric==1.6.1) (2.5.1)\n",
      "Requirement already satisfied: rdflib in /usr/local/lib/python3.7/dist-packages (from torch-geometric==1.6.1) (5.0.0)\n",
      "Requirement already satisfied: torch in /usr/local/lib/python3.7/dist-packages (from torch-geometric==1.6.1) (1.8.0+cu111)\n",
      "Requirement already satisfied: numba in /usr/local/lib/python3.7/dist-packages (from torch-geometric==1.6.1) (0.51.2)\n",
      "Requirement already satisfied: six>=1.7.0 in /usr/local/lib/python3.7/dist-packages (from retrying->elaspic2==0.1.7) (1.15.0)\n",
      "Requirement already satisfied: numexpr>=2.5.2 in /usr/local/lib/python3.7/dist-packages (from tables->elaspic2==0.1.7) (2.7.3)\n",
      "Requirement already satisfied: cryptography>=2.5 in /usr/local/lib/python3.7/dist-packages (from paramiko<2.8,>=2.7->elaspic2==0.1.7) (3.4.7)\n",
      "Requirement already satisfied: pynacl>=1.0.1 in /usr/local/lib/python3.7/dist-packages (from paramiko<2.8,>=2.7->elaspic2==0.1.7) (1.4.0)\n",
      "Requirement already satisfied: bcrypt>=3.1.3 in /usr/local/lib/python3.7/dist-packages (from paramiko<2.8,>=2.7->elaspic2==0.1.7) (3.2.0)\n",
      "Requirement already satisfied: ipywidgets>=7 in /usr/local/lib/python3.7/dist-packages (from nglview<2.8,>=2.7->elaspic2==0.1.7) (7.6.3)\n",
      "Requirement already satisfied: pyparsing in /usr/local/lib/python3.7/dist-packages (from mdtraj<1.10,>=1.9->elaspic2==0.1.7) (2.4.7)\n",
      "Requirement already satisfied: astunparse in /usr/local/lib/python3.7/dist-packages (from mdtraj<1.10,>=1.9->elaspic2==0.1.7) (1.6.3)\n",
      "Requirement already satisfied: greenlet!=0.4.17; python_version >= \"3\" in /usr/local/lib/python3.7/dist-packages (from sqlalchemy->elaspic2==0.1.7) (1.1.0)\n",
      "Requirement already satisfied: importlib-metadata; python_version < \"3.8\" in /usr/local/lib/python3.7/dist-packages (from sqlalchemy->elaspic2==0.1.7) (4.5.0)\n",
      "Requirement already satisfied: msgpack>=0.5.6 in /usr/local/lib/python3.7/dist-packages (from mmtf-python<1.2,>=1.1->elaspic2==0.1.7) (1.0.2)\n",
      "Requirement already satisfied: wheel in /usr/local/lib/python3.7/dist-packages (from lightgbm<4.0,>=3.2.0->elaspic2==0.1.7) (0.36.2)\n",
      "Requirement already satisfied: more-itertools>=4.0.0 in /usr/local/lib/python3.7/dist-packages (from pytest->elaspic2==0.1.7) (8.8.0)\n",
      "Requirement already satisfied: pluggy<0.8,>=0.5 in /usr/local/lib/python3.7/dist-packages (from pytest->elaspic2==0.1.7) (0.7.1)\n",
      "Requirement already satisfied: setuptools in /usr/local/lib/python3.7/dist-packages (from pytest->elaspic2==0.1.7) (57.0.0)\n",
      "Requirement already satisfied: attrs>=17.4.0 in /usr/local/lib/python3.7/dist-packages (from pytest->elaspic2==0.1.7) (21.2.0)\n",
      "Requirement already satisfied: py>=1.5.0 in /usr/local/lib/python3.7/dist-packages (from pytest->elaspic2==0.1.7) (1.10.0)\n",
      "Requirement already satisfied: atomicwrites>=1.0 in /usr/local/lib/python3.7/dist-packages (from pytest->elaspic2==0.1.7) (1.4.0)\n",
      "Requirement already satisfied: termcolor in /usr/local/lib/python3.7/dist-packages (from fire<0.4,>=0.3->elaspic2==0.1.7) (1.1.0)\n",
      "Requirement already satisfied: cffi>=1.0.0 in /usr/local/lib/python3.7/dist-packages (from brotlipy<0.8,>=0.7->elaspic2==0.1.7) (1.14.5)\n",
      "Requirement already satisfied: idna<3,>=2.5 in /usr/local/lib/python3.7/dist-packages (from requests->transformers==3.3.1) (2.10)\n",
      "Requirement already satisfied: certifi>=2017.4.17 in /usr/local/lib/python3.7/dist-packages (from requests->transformers==3.3.1) (2021.5.30)\n",
      "Requirement already satisfied: chardet<4,>=3.0.2 in /usr/local/lib/python3.7/dist-packages (from requests->transformers==3.3.1) (3.0.4)\n",
      "Requirement already satisfied: urllib3!=1.25.0,!=1.25.1,<1.26,>=1.21.1 in /usr/local/lib/python3.7/dist-packages (from requests->transformers==3.3.1) (1.24.3)\n",
      "Requirement already satisfied: click in /usr/local/lib/python3.7/dist-packages (from sacremoses->transformers==3.3.1) (7.1.2)\n",
      "Requirement already satisfied: joblib in /usr/local/lib/python3.7/dist-packages (from sacremoses->transformers==3.3.1) (1.0.1)\n",
      "Requirement already satisfied: cached-property; python_version < \"3.8\" in /usr/local/lib/python3.7/dist-packages (from h5py->torch-geometric==1.6.1) (1.5.2)\n",
      "Requirement already satisfied: MarkupSafe>=0.23 in /usr/local/lib/python3.7/dist-packages (from jinja2->torch-geometric==1.6.1) (2.0.1)\n",
      "Requirement already satisfied: pytz>=2017.2 in /usr/local/lib/python3.7/dist-packages (from pandas->torch-geometric==1.6.1) (2018.9)\n",
      "Requirement already satisfied: python-dateutil>=2.7.3 in /usr/local/lib/python3.7/dist-packages (from pandas->torch-geometric==1.6.1) (2.8.1)\n",
      "Requirement already satisfied: matplotlib>=2.0.0 in /usr/local/lib/python3.7/dist-packages (from ase->torch-geometric==1.6.1) (3.2.2)\n",
      "Requirement already satisfied: decorator<5,>=4.3 in /usr/local/lib/python3.7/dist-packages (from networkx->torch-geometric==1.6.1) (4.4.2)\n",
      "Requirement already satisfied: isodate in /usr/local/lib/python3.7/dist-packages (from rdflib->torch-geometric==1.6.1) (0.6.0)\n",
      "Requirement already satisfied: typing-extensions in /usr/local/lib/python3.7/dist-packages (from torch->torch-geometric==1.6.1) (3.7.4.3)\n",
      "Requirement already satisfied: llvmlite<0.35,>=0.34.0.dev0 in /usr/local/lib/python3.7/dist-packages (from numba->torch-geometric==1.6.1) (0.34.0)\n",
      "Requirement already satisfied: widgetsnbextension~=3.5.0 in /usr/local/lib/python3.7/dist-packages (from ipywidgets>=7->nglview<2.8,>=2.7->elaspic2==0.1.7) (3.5.1)\n",
      "Requirement already satisfied: traitlets>=4.3.1 in /usr/local/lib/python3.7/dist-packages (from ipywidgets>=7->nglview<2.8,>=2.7->elaspic2==0.1.7) (5.0.5)\n",
      "Requirement already satisfied: ipykernel>=4.5.1 in /usr/local/lib/python3.7/dist-packages (from ipywidgets>=7->nglview<2.8,>=2.7->elaspic2==0.1.7) (4.10.1)\n",
      "Requirement already satisfied: jupyterlab-widgets>=1.0.0; python_version >= \"3.6\" in /usr/local/lib/python3.7/dist-packages (from ipywidgets>=7->nglview<2.8,>=2.7->elaspic2==0.1.7) (1.0.0)\n",
      "Requirement already satisfied: ipython>=4.0.0; python_version >= \"3.3\" in /usr/local/lib/python3.7/dist-packages (from ipywidgets>=7->nglview<2.8,>=2.7->elaspic2==0.1.7) (5.5.0)\n",
      "Requirement already satisfied: nbformat>=4.2.0 in /usr/local/lib/python3.7/dist-packages (from ipywidgets>=7->nglview<2.8,>=2.7->elaspic2==0.1.7) (5.1.3)\n",
      "Requirement already satisfied: zipp>=0.5 in /usr/local/lib/python3.7/dist-packages (from importlib-metadata; python_version < \"3.8\"->sqlalchemy->elaspic2==0.1.7) (3.4.1)\n",
      "Requirement already satisfied: pycparser in /usr/local/lib/python3.7/dist-packages (from cffi>=1.0.0->brotlipy<0.8,>=0.7->elaspic2==0.1.7) (2.20)\n",
      "Requirement already satisfied: cycler>=0.10 in /usr/local/lib/python3.7/dist-packages (from matplotlib>=2.0.0->ase->torch-geometric==1.6.1) (0.10.0)\n",
      "Requirement already satisfied: kiwisolver>=1.0.1 in /usr/local/lib/python3.7/dist-packages (from matplotlib>=2.0.0->ase->torch-geometric==1.6.1) (1.3.1)\n",
      "Requirement already satisfied: notebook>=4.4.1 in /usr/local/lib/python3.7/dist-packages (from widgetsnbextension~=3.5.0->ipywidgets>=7->nglview<2.8,>=2.7->elaspic2==0.1.7) (5.3.1)\n",
      "Requirement already satisfied: ipython-genutils in /usr/local/lib/python3.7/dist-packages (from traitlets>=4.3.1->ipywidgets>=7->nglview<2.8,>=2.7->elaspic2==0.1.7) (0.2.0)\n",
      "Requirement already satisfied: jupyter-client in /usr/local/lib/python3.7/dist-packages (from ipykernel>=4.5.1->ipywidgets>=7->nglview<2.8,>=2.7->elaspic2==0.1.7) (5.3.5)\n",
      "Requirement already satisfied: tornado>=4.0 in /usr/local/lib/python3.7/dist-packages (from ipykernel>=4.5.1->ipywidgets>=7->nglview<2.8,>=2.7->elaspic2==0.1.7) (5.1.1)\n",
      "Requirement already satisfied: prompt-toolkit<2.0.0,>=1.0.4 in /usr/local/lib/python3.7/dist-packages (from ipython>=4.0.0; python_version >= \"3.3\"->ipywidgets>=7->nglview<2.8,>=2.7->elaspic2==0.1.7) (1.0.18)\n",
      "Requirement already satisfied: pexpect; sys_platform != \"win32\" in /usr/local/lib/python3.7/dist-packages (from ipython>=4.0.0; python_version >= \"3.3\"->ipywidgets>=7->nglview<2.8,>=2.7->elaspic2==0.1.7) (4.8.0)\n",
      "Requirement already satisfied: pickleshare in /usr/local/lib/python3.7/dist-packages (from ipython>=4.0.0; python_version >= \"3.3\"->ipywidgets>=7->nglview<2.8,>=2.7->elaspic2==0.1.7) (0.7.5)\n",
      "Requirement already satisfied: simplegeneric>0.8 in /usr/local/lib/python3.7/dist-packages (from ipython>=4.0.0; python_version >= \"3.3\"->ipywidgets>=7->nglview<2.8,>=2.7->elaspic2==0.1.7) (0.8.1)\n",
      "Requirement already satisfied: pygments in /usr/local/lib/python3.7/dist-packages (from ipython>=4.0.0; python_version >= \"3.3\"->ipywidgets>=7->nglview<2.8,>=2.7->elaspic2==0.1.7) (2.6.1)\n",
      "Requirement already satisfied: jupyter-core in /usr/local/lib/python3.7/dist-packages (from nbformat>=4.2.0->ipywidgets>=7->nglview<2.8,>=2.7->elaspic2==0.1.7) (4.7.1)\n",
      "Requirement already satisfied: jsonschema!=2.5.0,>=2.4 in /usr/local/lib/python3.7/dist-packages (from nbformat>=4.2.0->ipywidgets>=7->nglview<2.8,>=2.7->elaspic2==0.1.7) (2.6.0)\n",
      "Requirement already satisfied: nbconvert in /usr/local/lib/python3.7/dist-packages (from notebook>=4.4.1->widgetsnbextension~=3.5.0->ipywidgets>=7->nglview<2.8,>=2.7->elaspic2==0.1.7) (5.6.1)\n",
      "Requirement already satisfied: terminado>=0.8.1 in /usr/local/lib/python3.7/dist-packages (from notebook>=4.4.1->widgetsnbextension~=3.5.0->ipywidgets>=7->nglview<2.8,>=2.7->elaspic2==0.1.7) (0.10.1)\n",
      "Requirement already satisfied: Send2Trash in /usr/local/lib/python3.7/dist-packages (from notebook>=4.4.1->widgetsnbextension~=3.5.0->ipywidgets>=7->nglview<2.8,>=2.7->elaspic2==0.1.7) (1.5.0)\n",
      "Requirement already satisfied: pyzmq>=13 in /usr/local/lib/python3.7/dist-packages (from jupyter-client->ipykernel>=4.5.1->ipywidgets>=7->nglview<2.8,>=2.7->elaspic2==0.1.7) (22.1.0)\n",
      "Requirement already satisfied: wcwidth in /usr/local/lib/python3.7/dist-packages (from prompt-toolkit<2.0.0,>=1.0.4->ipython>=4.0.0; python_version >= \"3.3\"->ipywidgets>=7->nglview<2.8,>=2.7->elaspic2==0.1.7) (0.2.5)\n",
      "Requirement already satisfied: ptyprocess>=0.5 in /usr/local/lib/python3.7/dist-packages (from pexpect; sys_platform != \"win32\"->ipython>=4.0.0; python_version >= \"3.3\"->ipywidgets>=7->nglview<2.8,>=2.7->elaspic2==0.1.7) (0.7.0)\n",
      "Requirement already satisfied: pandocfilters>=1.4.1 in /usr/local/lib/python3.7/dist-packages (from nbconvert->notebook>=4.4.1->widgetsnbextension~=3.5.0->ipywidgets>=7->nglview<2.8,>=2.7->elaspic2==0.1.7) (1.4.3)\n",
      "Requirement already satisfied: entrypoints>=0.2.2 in /usr/local/lib/python3.7/dist-packages (from nbconvert->notebook>=4.4.1->widgetsnbextension~=3.5.0->ipywidgets>=7->nglview<2.8,>=2.7->elaspic2==0.1.7) (0.3)\n",
      "Requirement already satisfied: testpath in /usr/local/lib/python3.7/dist-packages (from nbconvert->notebook>=4.4.1->widgetsnbextension~=3.5.0->ipywidgets>=7->nglview<2.8,>=2.7->elaspic2==0.1.7) (0.5.0)\n",
      "Requirement already satisfied: mistune<2,>=0.8.1 in /usr/local/lib/python3.7/dist-packages (from nbconvert->notebook>=4.4.1->widgetsnbextension~=3.5.0->ipywidgets>=7->nglview<2.8,>=2.7->elaspic2==0.1.7) (0.8.4)\n",
      "Requirement already satisfied: defusedxml in /usr/local/lib/python3.7/dist-packages (from nbconvert->notebook>=4.4.1->widgetsnbextension~=3.5.0->ipywidgets>=7->nglview<2.8,>=2.7->elaspic2==0.1.7) (0.7.1)\n",
      "Requirement already satisfied: bleach in /usr/local/lib/python3.7/dist-packages (from nbconvert->notebook>=4.4.1->widgetsnbextension~=3.5.0->ipywidgets>=7->nglview<2.8,>=2.7->elaspic2==0.1.7) (3.3.0)\n",
      "Requirement already satisfied: webencodings in /usr/local/lib/python3.7/dist-packages (from bleach->nbconvert->notebook>=4.4.1->widgetsnbextension~=3.5.0->ipywidgets>=7->nglview<2.8,>=2.7->elaspic2==0.1.7) (0.5.1)\n",
      "Building wheels for collected packages: kmbio, kmtools, proteinsolver, elaspic2\n",
      "  Building wheel for kmbio (PEP 517) ... \u001b[?25l\u001b[?25hdone\n",
      "  Created wheel for kmbio: filename=kmbio-2.1.0-cp37-cp37m-linux_x86_64.whl size=431919 sha256=609f981d9793fe02ca52a9f8364f7d6ea42dc5796ed693cf7bf8770868f08382\n",
      "  Stored in directory: /root/.cache/pip/wheels/a0/a1/00/5f3283e9bf4071389ca6869ecf13d5524411e7a8d2bfd0608a\n",
      "  Building wheel for kmtools (PEP 517) ... \u001b[?25l\u001b[?25hdone\n",
      "  Created wheel for kmtools: filename=kmtools-0.2.8-cp37-cp37m-linux_x86_64.whl size=206901 sha256=24aa865502b0dbb4d0b01531bec893c05e3259f95b2120340775894ca4518ac6\n",
      "  Stored in directory: /root/.cache/pip/wheels/83/01/b2/4b98e3502357356f9a22934c7d234f9441760dfc703308822b\n",
      "  Building wheel for proteinsolver (PEP 517) ... \u001b[?25l\u001b[?25hdone\n",
      "  Created wheel for proteinsolver: filename=proteinsolver-0.1.25-cp37-none-any.whl size=174597 sha256=9ccd5becf2af04e01b9c90639e5394d292787ea48fe9ba70ee9c923e00c22c4b\n",
      "  Stored in directory: /root/.cache/pip/wheels/18/23/ca/f29b952430a4c183c1510de6df5c5c8625168071866fc692a2\n",
      "  Building wheel for elaspic2 (PEP 517) ... \u001b[?25l\u001b[?25hdone\n",
      "  Created wheel for elaspic2: filename=elaspic2-0.1.7-cp37-none-any.whl size=6510613 sha256=c69fbd34aa746b863d4727373e9e8e1ff98aaf28ba807aa64e8c5a41a37ca4c7\n",
      "  Stored in directory: /tmp/pip-ephem-wheel-cache-dk4viyex/wheels/a6/f0/1d/1c27276255819adfa33fb18667466c2a8101c846d7dfade917\n",
      "Successfully built kmbio kmtools proteinsolver elaspic2\n"
     ]
    }
   ],
   "source": [
    "if GOOGLE_COLAB:\n",
    "    !pip install torch==1.8.0+cu111 torchvision==0.9.0+cu111 torchaudio==0.8.0 -f https://download.pytorch.org/whl/torch_stable.html\n",
    "    !pip install -f https://pytorch-geometric.com/whl/torch-1.8.0+cu111.html --default-timeout=600 \\\n",
    "        \"transformers==3.3.1\" \\\n",
    "        \"torch-scatter==2.0.6\" \\\n",
    "        \"torch-sparse==0.6.9\" \\\n",
    "        \"torch-cluster==1.5.9\" \\\n",
    "        \"torch-spline-conv==1.2.1\" \\\n",
    "        \"torch-geometric==1.6.1\" \\\n",
    "        \"https://gitlab.com/kimlab/kmbio/-/archive/v2.1.0/kmbio-v2.1.0.zip\" \\\n",
    "        \"https://gitlab.com/kimlab/kmtools/-/archive/v0.2.8/kmtools-v0.2.8.zip\" \\\n",
    "        \"https://gitlab.com/ostrokach/proteinsolver/-/archive/v0.1.25/proteinsolver-v0.1.25.zip\" \\\n",
    "        \"git+https://gitlab.com/elaspic/elaspic2.git\""
   ]
  },
  {
   "cell_type": "markdown",
   "metadata": {
    "id": "-BGlm_WUHD1f"
   },
   "source": [
    "## Imports"
   ]
  },
  {
   "cell_type": "code",
   "execution_count": null,
   "metadata": {
    "id": "9s4kTpLNHD1g"
   },
   "outputs": [],
   "source": [
    "import io\n",
    "import tempfile\n",
    "import shutil\n",
    "import urllib\n",
    "import zipfile\n",
    "from copy import deepcopy\n",
    "from datetime import datetime\n",
    "from pathlib import Path\n",
    "\n",
    "import elaspic2 as el2\n",
    "import matplotlib.pyplot as plt\n",
    "import numpy as np\n",
    "import pandas as pd\n",
    "import proteinsolver\n",
    "import requests\n",
    "import torch\n",
    "from kmbio import PDB\n",
    "from kmtools import structure_tools\n",
    "from scipy import stats\n",
    "from tqdm.notebook import tqdm"
   ]
  },
  {
   "cell_type": "markdown",
   "metadata": {
    "id": "KlNEfrAkHD1o"
   },
   "source": [
    "## Parameters"
   ]
  },
  {
   "cell_type": "code",
   "execution_count": null,
   "metadata": {
    "id": "mvlDm9loT_oB"
   },
   "outputs": [],
   "source": [
    "TASK_ID = 6\n",
    "TASK_COUNT = 6"
   ]
  },
  {
   "cell_type": "code",
   "execution_count": null,
   "metadata": {
    "colab": {
     "base_uri": "https://localhost:8080/"
    },
    "id": "a9JcOI9eHD1p",
    "outputId": "f55f6f73-89a8-45db-960e-18638c26e154"
   },
   "outputs": [
    {
     "data": {
      "text/plain": [
       "PosixPath('/content/20_cagi6_mthfr')"
      ]
     },
     "execution_count": 7,
     "metadata": {
      "tags": []
     },
     "output_type": "execute_result"
    }
   ],
   "source": [
    "NOTEBOOK_DIR = Path(\"40_cagi6_mthfr_submission\").resolve()\n",
    "NOTEBOOK_DIR.mkdir(exist_ok=True)\n",
    "\n",
    "NOTEBOOK_DIR"
   ]
  },
  {
   "cell_type": "code",
   "execution_count": null,
   "metadata": {
    "colab": {
     "base_uri": "https://localhost:8080/"
    },
    "id": "HCyTzII-HD1t",
    "outputId": "92f63199-1727-48d3-cb4b-6ff798fa75b6"
   },
   "outputs": [
    {
     "data": {
      "text/plain": [
       "device(type='cuda')"
      ]
     },
     "execution_count": 8,
     "metadata": {
      "tags": []
     },
     "output_type": "execute_result"
    }
   ],
   "source": [
    "device = torch.device(\"cuda\" if torch.cuda.is_available() else \"cpu\")\n",
    "\n",
    "device"
   ]
  },
  {
   "cell_type": "code",
   "execution_count": null,
   "metadata": {
    "colab": {
     "base_uri": "https://localhost:8080/",
     "height": 35
    },
    "id": "i3LyUBcjSUzb",
    "outputId": "054b8acc-0717-48cf-83d9-ca0b886f7b10"
   },
   "outputs": [
    {
     "data": {
      "application/vnd.google.colaboratory.intrinsic+json": {
       "type": "string"
      },
      "text/plain": [
       "'2021-06-19T19'"
      ]
     },
     "execution_count": 9,
     "metadata": {
      "tags": []
     },
     "output_type": "execute_result"
    }
   ],
   "source": [
    "version = datetime.now().isoformat(timespec=\"hours\")\n",
    "\n",
    "version"
   ]
  },
  {
   "cell_type": "markdown",
   "metadata": {
    "id": "P6wtDw1EHD1x"
   },
   "source": [
    "## Helper functions"
   ]
  },
  {
   "cell_type": "code",
   "execution_count": null,
   "metadata": {
    "id": "HJunuKLkSIcu"
   },
   "outputs": [],
   "source": [
    "def download(url, filename):\n",
    "    urllib.request.urlretrieve(url, filename)\n",
    "\n",
    "\n",
    "def download_and_unzip(url, output_dir):\n",
    "    zip_path, _ = urllib.request.urlretrieve(url)\n",
    "    with zipfile.ZipFile(zip_path, \"r\") as f:\n",
    "        f.extractall(output_dir)\n",
    "\n",
    "\n",
    "def download_sequence(uniparc_id):\n",
    "    with urllib.request.urlopen(f'https://www.uniprot.org/uniprot/{uniparc_id}.fasta') as f:\n",
    "        data = f.read().decode(\"utf-8\")\n",
    "    chunks = []\n",
    "    for line in data.split(\"\\n\"):\n",
    "        if line.startswith(\">\"):\n",
    "            continue\n",
    "        chunks.append(line.strip())\n",
    "    return \"\".join(chunks)"
   ]
  },
  {
   "cell_type": "code",
   "execution_count": null,
   "metadata": {
    "id": "Gwp_DxJxHD12"
   },
   "outputs": [],
   "source": [
    "def structure_to_blob(structure):\n",
    "    with tempfile.NamedTemporaryFile(suffix=\".pdb\") as out:\n",
    "        PDB.save(structure, out.name)\n",
    "        with open(out.name, \"rt\") as fin:\n",
    "            data = fin.read()\n",
    "    return data"
   ]
  },
  {
   "cell_type": "code",
   "execution_count": null,
   "metadata": {
    "id": "gJG9gYqPHD15"
   },
   "outputs": [],
   "source": [
    "def sequence_matches_structure(sequence, structure_blob):\n",
    "    with tempfile.NamedTemporaryFile(suffix=\".pdb\") as tmp_file:\n",
    "        with open(tmp_file.name, \"wt\") as fout:\n",
    "            fout.write(structure_blob)\n",
    "        structure = PDB.load(tmp_file.name)\n",
    "\n",
    "    chain_sequence = structure_tools.get_chain_sequence(\n",
    "        structure[0][\"A\"], if_unknown=\"replace\", unknown_residue_marker=\"\"\n",
    "    )\n",
    "    return sequence == chain_sequence"
   ]
  },
  {
   "cell_type": "code",
   "execution_count": null,
   "metadata": {
    "id": "4R60Nao9bN4w"
   },
   "outputs": [],
   "source": [
    "def apply_mutations(protein_features, mutation):\n",
    "    protein_features = deepcopy(protein_features)\n",
    "\n",
    "    for mutation in mutations:\n",
    "        protein_features = apply_mutation(protein_features, mutation)\n",
    "\n",
    "    return protein_features\n",
    "\n",
    "\n",
    "def apply_mutation(protein_features, mutation):\n",
    "    \"\"\"\n",
    "\n",
    "    Warning: This function mutates `protein_features`!\n",
    "    \"\"\"\n",
    "    aa_wt = mutation[0]\n",
    "    pos = int(mutation[1:-1])\n",
    "    aa_mut = mutation[-1]\n",
    "\n",
    "    # Mutate ProtBert features\n",
    "    aa_list = list(protein_features.protbert_data.sequence)\n",
    "    assert aa_list[pos - 1] == aa_wt\n",
    "    aa_list[pos - 1] = aa_mut\n",
    "\n",
    "    protein_features = protein_features._replace(\n",
    "        protbert_data = protein_features.protbert_data._replace(sequence=\"\".join(aa_list))\n",
    "    )\n",
    "    \n",
    "    # Mutate ProteinSolver features\n",
    "    assert (protein_features.proteinsolver_data.x[pos - 1] == proteinsolver.utils.AMINO_ACIDS.index(aa_wt)).item()\n",
    "    protein_features.proteinsolver_data.x[pos - 1] = proteinsolver.utils.AMINO_ACIDS.index(aa_mut)\n",
    "\n",
    "    return protein_features"
   ]
  },
  {
   "cell_type": "markdown",
   "metadata": {
    "id": "C41oFi3yHD2A"
   },
   "source": [
    "## Workspace"
   ]
  },
  {
   "cell_type": "markdown",
   "metadata": {
    "id": "Z8B_bttLT7zo"
   },
   "source": [
    "### Download data"
   ]
  },
  {
   "cell_type": "code",
   "execution_count": null,
   "metadata": {
    "id": "2zFPfPbgT9F2"
   },
   "outputs": [],
   "source": [
    "# Challenge data\n",
    "download_and_unzip(\"https://genomeinterpretation.org/download/mthfrvariants.zip\", NOTEBOOK_DIR)\n",
    "download_and_unzip(\"https://genomeinterpretation.org/download/distributions.zip\", NOTEBOOK_DIR)\n",
    "download_and_unzip(\"https://genomeinterpretation.org/download/mthfrtemplate.zip\", NOTEBOOK_DIR)\n",
    "download(\"https://genomeinterpretation.org/download/mthfrvalidation.py\", NOTEBOOK_DIR.joinpath(\"mthfrvalidation.py\"))\n",
    "\n",
    "# I-Tasser model for WT\n",
    "download(\"http://cagi6.data.proteinsolver.org/mthfr/structure-wt-relaxed.pdb\", NOTEBOOK_DIR.joinpath(\"structure-wt.pdb\"))\n",
    "# https://zhanglab.dcmb.med.umich.edu/I-TASSER/output/S624008/\n",
    "download(\"http://cagi6.data.proteinsolver.org/mthfr/structure-a222v-relaxed.pdb\", NOTEBOOK_DIR.joinpath(\"structure-a222v.pdb\"))"
   ]
  },
  {
   "cell_type": "code",
   "execution_count": null,
   "metadata": {
    "colab": {
     "base_uri": "https://localhost:8080/"
    },
    "id": "jG8s9AKeT9Ul",
    "outputId": "0fce270f-1799-4e64-fe0a-87a8ae7edd16"
   },
   "outputs": [
    {
     "name": "stdout",
     "output_type": "stream",
     "text": [
      "cataAV_variants.txt  reguAV_variants.txt\n",
      "cataWT_variants.txt  reguWT_variants.txt\n",
      "distributions.csv    structure-a222v.pdb\n",
      "__MACOSX\t     structure-wt.pdb\n",
      "mthfrtemplate\t     variants-a222v-2021-06-19T18-0001-of-0006.csv\n",
      "mthfrvalidation.py   variants-wt-2021-06-19T18-0001-of-0006.csv\n"
     ]
    }
   ],
   "source": [
    "!ls {NOTEBOOK_DIR}"
   ]
  },
  {
   "cell_type": "markdown",
   "metadata": {
    "id": "pUTy5SCYHD2B"
   },
   "source": [
    "### Load protein sequence"
   ]
  },
  {
   "cell_type": "code",
   "execution_count": null,
   "metadata": {
    "colab": {
     "base_uri": "https://localhost:8080/",
     "height": 86
    },
    "id": "a9xydRYRWfDp",
    "outputId": "eda81d39-4dfa-4237-faad-2d87c80f9d1c"
   },
   "outputs": [
    {
     "data": {
      "application/vnd.google.colaboratory.intrinsic+json": {
       "type": "string"
      },
      "text/plain": [
       "'MVNEARGNSSLNPCLEGSASSGSESSKDSSRCSTPGLDPERHERLREKMRRRLESGDKWFSLEFFPPRTAEGAVNLISRFDRMAAGGPLYIDVTWHPAGDPGSDKETSSMMIASTAVNYCGLETILHMTCCRQRLEEITGHLHKAKQLGLKNIMALRGDPIGDQWEEEEGGFNYAVDLVKHIRSEFGDYFDICVAGYPKGHPEAGSFEADLKHLKEKVSAGADFIITQLFFEADTFFRFVKACTDMGITCPIVPGIFPIQGYHSLRQLVKLSKLEVPQEIKDVIEPIKDNDAAIRNYGIELAVSLCQELLASGLVPGLHFYTLNREMATTEVLKRLGMWTEDPRRPLPWALSAHPKRREEDVRPIFWASRPKSYIYRTQEWDEFPNGRWGNSSSPAFGELKDYYLFYLKSKSPKEELLKMWGEELTSEESVFEVFVLYLSGEPNRNGHKVTCLPWNDEPLAAETSLLKEELLRVNRQGILTINSQPNINGKPSSDPIVGWGPSGGYVFQKAYLEFFTSRETAEALLQVLKKYELRVNYHLVNVKGENITNAPELQPNAVTWGIFPGREIIQPTVVDPVSFMFWKDEAFALWIERWGKLYEEESPSRTIIQYIHDNYFLVNLVDNDFPLDNCLWQVVEDTLELLNRPTQNARETEAP'"
      ]
     },
     "execution_count": 16,
     "metadata": {
      "tags": []
     },
     "output_type": "execute_result"
    }
   ],
   "source": [
    "sequence_wt = download_sequence(\"P42898\")\n",
    "\n",
    "sequence_wt"
   ]
  },
  {
   "cell_type": "code",
   "execution_count": null,
   "metadata": {
    "colab": {
     "base_uri": "https://localhost:8080/",
     "height": 86
    },
    "id": "4zIVcUiOUQV-",
    "outputId": "068cd5e5-5d3e-4d86-f0ae-02f57606a9d4"
   },
   "outputs": [
    {
     "data": {
      "application/vnd.google.colaboratory.intrinsic+json": {
       "type": "string"
      },
      "text/plain": [
       "'MVNEARGNSSLNPCLEGSASSGSESSKDSSRCSTPGLDPERHERLREKMRRRLESGDKWFSLEFFPPRTAEGAVNLISRFDRMAAGGPLYIDVTWHPAGDPGSDKETSSMMIASTAVNYCGLETILHMTCCRQRLEEITGHLHKAKQLGLKNIMALRGDPIGDQWEEEEGGFNYAVDLVKHIRSEFGDYFDICVAGYPKGHPEAGSFEADLKHLKEKVSAGVDFIITQLFFEADTFFRFVKACTDMGITCPIVPGIFPIQGYHSLRQLVKLSKLEVPQEIKDVIEPIKDNDAAIRNYGIELAVSLCQELLASGLVPGLHFYTLNREMATTEVLKRLGMWTEDPRRPLPWALSAHPKRREEDVRPIFWASRPKSYIYRTQEWDEFPNGRWGNSSSPAFGELKDYYLFYLKSKSPKEELLKMWGEELTSEESVFEVFVLYLSGEPNRNGHKVTCLPWNDEPLAAETSLLKEELLRVNRQGILTINSQPNINGKPSSDPIVGWGPSGGYVFQKAYLEFFTSRETAEALLQVLKKYELRVNYHLVNVKGENITNAPELQPNAVTWGIFPGREIIQPTVVDPVSFMFWKDEAFALWIERWGKLYEEESPSRTIIQYIHDNYFLVNLVDNDFPLDNCLWQVVEDTLELLNRPTQNARETEAP'"
      ]
     },
     "execution_count": 17,
     "metadata": {
      "tags": []
     },
     "output_type": "execute_result"
    }
   ],
   "source": [
    "lst = list(sequence_wt)\n",
    "assert lst[222 - 1] == \"A\"\n",
    "lst[222 - 1] = \"V\"\n",
    "\n",
    "sequence_a222v = \"\".join(lst)\n",
    "\n",
    "sequence_a222v"
   ]
  },
  {
   "cell_type": "markdown",
   "metadata": {
    "id": "3rEBjKE-bhiz"
   },
   "source": [
    "### Load protein structure"
   ]
  },
  {
   "cell_type": "code",
   "execution_count": null,
   "metadata": {
    "id": "PFQTyqDsUjTc"
   },
   "outputs": [],
   "source": [
    "structure_start_idx = 39\n",
    "structure_end_idx = 644"
   ]
  },
  {
   "cell_type": "code",
   "execution_count": null,
   "metadata": {
    "id": "CV68T9U6HD2C"
   },
   "outputs": [],
   "source": [
    "structure_wt_ref = PDB.load(NOTEBOOK_DIR.joinpath(\"structure-wt.pdb\"))"
   ]
  },
  {
   "cell_type": "code",
   "execution_count": null,
   "metadata": {
    "id": "lZQKAoFPXMwz"
   },
   "outputs": [],
   "source": [
    "df = structure_wt_ref.to_dataframe()\n",
    "df = df[(df[\"model_idx\"] == 0) & (df[\"chain_idx\"] == 0)]\n",
    "structure_wt = PDB.Structure.from_dataframe(df)"
   ]
  },
  {
   "cell_type": "code",
   "execution_count": null,
   "metadata": {
    "id": "K7LYBMvaUk-G"
   },
   "outputs": [],
   "source": [
    "assert sequence_wt == structure_tools.get_chain_sequence(\n",
    "    structure_wt[0][\"A\"], if_unknown=\"replace\", unknown_residue_marker=\"\"\n",
    ")"
   ]
  },
  {
   "cell_type": "code",
   "execution_count": null,
   "metadata": {
    "id": "jja1Go4lXuIT"
   },
   "outputs": [],
   "source": [
    "structure_a222v_ref = PDB.load(NOTEBOOK_DIR.joinpath(\"structure-a222v.pdb\"))"
   ]
  },
  {
   "cell_type": "code",
   "execution_count": null,
   "metadata": {
    "id": "dnveDWodUMAt"
   },
   "outputs": [],
   "source": [
    "df = structure_a222v_ref.to_dataframe()\n",
    "df = df[(df[\"model_idx\"] == 0) & (df[\"chain_idx\"] == 0)]\n",
    "structure_a222v = PDB.Structure.from_dataframe(df)"
   ]
  },
  {
   "cell_type": "code",
   "execution_count": null,
   "metadata": {
    "id": "tq3IQY6iX4eQ"
   },
   "outputs": [],
   "source": [
    "assert sequence_a222v == structure_tools.get_chain_sequence(\n",
    "    structure_a222v[0][\"A\"], if_unknown=\"replace\", unknown_residue_marker=\"\"\n",
    ")"
   ]
  },
  {
   "cell_type": "markdown",
   "metadata": {
    "id": "Ym4UyxEoblbb"
   },
   "source": [
    "### Load challenge data"
   ]
  },
  {
   "cell_type": "code",
   "execution_count": null,
   "metadata": {
    "id": "BnxAXGBfZMuN"
   },
   "outputs": [],
   "source": [
    "dfs = []\n",
    "for filename in [\"cataWT_variants.txt\", \"reguWT_variants.txt\"]:\n",
    "    df = pd.read_csv(NOTEBOOK_DIR.joinpath(filename), names=[\"mut_ref\"])\n",
    "    dfs.append(df)\n",
    "variants_wt_df = pd.concat(dfs, ignore_index=True)"
   ]
  },
  {
   "cell_type": "code",
   "execution_count": null,
   "metadata": {
    "colab": {
     "base_uri": "https://localhost:8080/",
     "height": 204
    },
    "id": "nFtBJh-SxuN9",
    "outputId": "33316054-d344-4b1b-fb33-69df5868452e"
   },
   "outputs": [
    {
     "data": {
      "text/html": [
       "<div>\n",
       "<style scoped>\n",
       "    .dataframe tbody tr th:only-of-type {\n",
       "        vertical-align: middle;\n",
       "    }\n",
       "\n",
       "    .dataframe tbody tr th {\n",
       "        vertical-align: top;\n",
       "    }\n",
       "\n",
       "    .dataframe thead th {\n",
       "        text-align: right;\n",
       "    }\n",
       "</style>\n",
       "<table border=\"1\" class=\"dataframe\">\n",
       "  <thead>\n",
       "    <tr style=\"text-align: right;\">\n",
       "      <th></th>\n",
       "      <th>mut_ref</th>\n",
       "      <th>aa_wt</th>\n",
       "      <th>aa_pos</th>\n",
       "      <th>aa_mut</th>\n",
       "      <th>mut_3char</th>\n",
       "      <th>mut</th>\n",
       "    </tr>\n",
       "  </thead>\n",
       "  <tbody>\n",
       "    <tr>\n",
       "      <th>2131</th>\n",
       "      <td>p.Val2Asp</td>\n",
       "      <td>Val</td>\n",
       "      <td>2</td>\n",
       "      <td>Asp</td>\n",
       "      <td>Val2Asp</td>\n",
       "      <td>V2D</td>\n",
       "    </tr>\n",
       "    <tr>\n",
       "      <th>2137</th>\n",
       "      <td>p.Val2Phe</td>\n",
       "      <td>Val</td>\n",
       "      <td>2</td>\n",
       "      <td>Phe</td>\n",
       "      <td>Val2Phe</td>\n",
       "      <td>V2F</td>\n",
       "    </tr>\n",
       "    <tr>\n",
       "      <th>2132</th>\n",
       "      <td>p.Val2His</td>\n",
       "      <td>Val</td>\n",
       "      <td>2</td>\n",
       "      <td>His</td>\n",
       "      <td>Val2His</td>\n",
       "      <td>V2H</td>\n",
       "    </tr>\n",
       "    <tr>\n",
       "      <th>2133</th>\n",
       "      <td>p.Val2Ile</td>\n",
       "      <td>Val</td>\n",
       "      <td>2</td>\n",
       "      <td>Ile</td>\n",
       "      <td>Val2Ile</td>\n",
       "      <td>V2I</td>\n",
       "    </tr>\n",
       "    <tr>\n",
       "      <th>2135</th>\n",
       "      <td>p.Val2Lys</td>\n",
       "      <td>Val</td>\n",
       "      <td>2</td>\n",
       "      <td>Lys</td>\n",
       "      <td>Val2Lys</td>\n",
       "      <td>V2K</td>\n",
       "    </tr>\n",
       "  </tbody>\n",
       "</table>\n",
       "</div>"
      ],
      "text/plain": [
       "        mut_ref aa_wt  aa_pos aa_mut mut_3char  mut\n",
       "2131  p.Val2Asp   Val       2    Asp   Val2Asp  V2D\n",
       "2137  p.Val2Phe   Val       2    Phe   Val2Phe  V2F\n",
       "2132  p.Val2His   Val       2    His   Val2His  V2H\n",
       "2133  p.Val2Ile   Val       2    Ile   Val2Ile  V2I\n",
       "2135  p.Val2Lys   Val       2    Lys   Val2Lys  V2K"
      ]
     },
     "execution_count": 26,
     "metadata": {
      "tags": []
     },
     "output_type": "execute_result"
    }
   ],
   "source": [
    "variants_wt_df[\"aa_wt\"], variants_wt_df[\"aa_pos\"], variants_wt_df[\"aa_mut\"] = (\n",
    "    list(zip(*variants_wt_df[\"mut_ref\"].str.findall(\"^p\\.([a-zA-Z]+)([0-9]+)([a-zA-Z]+)\").str[0]))\n",
    ")\n",
    "variants_wt_df[\"aa_pos\"] = variants_wt_df[\"aa_pos\"].astype(int)\n",
    "\n",
    "variants_wt_df[\"mut_3char\"] = (\n",
    "    variants_wt_df[\"aa_wt\"] + \n",
    "    (variants_wt_df[\"aa_pos\"]).astype(str) + \n",
    "    variants_wt_df[\"aa_mut\"] \n",
    ")\n",
    "\n",
    "variants_wt_df[\"mut\"] = (\n",
    "    variants_wt_df[\"aa_wt\"].str.upper().map(structure_tools.AAA_DICT) + \n",
    "    (variants_wt_df[\"aa_pos\"]).astype(str) + \n",
    "    variants_wt_df[\"aa_mut\"].str.upper().map(structure_tools.AAA_DICT) \n",
    ")\n",
    "\n",
    "variants_wt_df = variants_wt_df.sort_values([\"aa_pos\", \"mut\"])\n",
    "variants_wt_df.head()"
   ]
  },
  {
   "cell_type": "code",
   "execution_count": null,
   "metadata": {
    "id": "00abxXNAxtIg"
   },
   "outputs": [],
   "source": [
    "dfs = []\n",
    "for filename in [\"cataAV_variants.txt\", \"reguAV_variants.txt\"]:\n",
    "    df = pd.read_csv(NOTEBOOK_DIR.joinpath(filename), names=[\"mut_ref\"])\n",
    "    dfs.append(df)\n",
    "variants_a222v_df = pd.concat(dfs, ignore_index=True)"
   ]
  },
  {
   "cell_type": "code",
   "execution_count": null,
   "metadata": {
    "colab": {
     "base_uri": "https://localhost:8080/",
     "height": 204
    },
    "id": "7FixmTNecNwR",
    "outputId": "547c0c8d-e641-43af-d948-d42d90c8e784"
   },
   "outputs": [
    {
     "data": {
      "text/html": [
       "<div>\n",
       "<style scoped>\n",
       "    .dataframe tbody tr th:only-of-type {\n",
       "        vertical-align: middle;\n",
       "    }\n",
       "\n",
       "    .dataframe tbody tr th {\n",
       "        vertical-align: top;\n",
       "    }\n",
       "\n",
       "    .dataframe thead th {\n",
       "        text-align: right;\n",
       "    }\n",
       "</style>\n",
       "<table border=\"1\" class=\"dataframe\">\n",
       "  <thead>\n",
       "    <tr style=\"text-align: right;\">\n",
       "      <th></th>\n",
       "      <th>mut_ref</th>\n",
       "      <th>aa_wt</th>\n",
       "      <th>aa_pos</th>\n",
       "      <th>aa_mut</th>\n",
       "      <th>mut_3char</th>\n",
       "      <th>mut</th>\n",
       "    </tr>\n",
       "  </thead>\n",
       "  <tbody>\n",
       "    <tr>\n",
       "      <th>2131</th>\n",
       "      <td>p.[Val2Asp;Ala222Val]</td>\n",
       "      <td>Val</td>\n",
       "      <td>2</td>\n",
       "      <td>Asp</td>\n",
       "      <td>Val2Asp</td>\n",
       "      <td>V2D</td>\n",
       "    </tr>\n",
       "    <tr>\n",
       "      <th>2137</th>\n",
       "      <td>p.[Val2Phe;Ala222Val]</td>\n",
       "      <td>Val</td>\n",
       "      <td>2</td>\n",
       "      <td>Phe</td>\n",
       "      <td>Val2Phe</td>\n",
       "      <td>V2F</td>\n",
       "    </tr>\n",
       "    <tr>\n",
       "      <th>2132</th>\n",
       "      <td>p.[Val2His;Ala222Val]</td>\n",
       "      <td>Val</td>\n",
       "      <td>2</td>\n",
       "      <td>His</td>\n",
       "      <td>Val2His</td>\n",
       "      <td>V2H</td>\n",
       "    </tr>\n",
       "    <tr>\n",
       "      <th>2133</th>\n",
       "      <td>p.[Val2Ile;Ala222Val]</td>\n",
       "      <td>Val</td>\n",
       "      <td>2</td>\n",
       "      <td>Ile</td>\n",
       "      <td>Val2Ile</td>\n",
       "      <td>V2I</td>\n",
       "    </tr>\n",
       "    <tr>\n",
       "      <th>2135</th>\n",
       "      <td>p.[Val2Lys;Ala222Val]</td>\n",
       "      <td>Val</td>\n",
       "      <td>2</td>\n",
       "      <td>Lys</td>\n",
       "      <td>Val2Lys</td>\n",
       "      <td>V2K</td>\n",
       "    </tr>\n",
       "  </tbody>\n",
       "</table>\n",
       "</div>"
      ],
      "text/plain": [
       "                    mut_ref aa_wt  aa_pos aa_mut mut_3char  mut\n",
       "2131  p.[Val2Asp;Ala222Val]   Val       2    Asp   Val2Asp  V2D\n",
       "2137  p.[Val2Phe;Ala222Val]   Val       2    Phe   Val2Phe  V2F\n",
       "2132  p.[Val2His;Ala222Val]   Val       2    His   Val2His  V2H\n",
       "2133  p.[Val2Ile;Ala222Val]   Val       2    Ile   Val2Ile  V2I\n",
       "2135  p.[Val2Lys;Ala222Val]   Val       2    Lys   Val2Lys  V2K"
      ]
     },
     "execution_count": 28,
     "metadata": {
      "tags": []
     },
     "output_type": "execute_result"
    }
   ],
   "source": [
    "variants_a222v_df[\"aa_wt\"], variants_a222v_df[\"aa_pos\"], variants_a222v_df[\"aa_mut\"] = (\n",
    "    list(zip(*variants_a222v_df[\"mut_ref\"].str.findall(\"^p\\.\\[([a-zA-Z]+)([0-9]+)([a-zA-Z]+)\").str[0]))\n",
    ")\n",
    "variants_a222v_df[\"aa_pos\"] = variants_a222v_df[\"aa_pos\"].astype(int)\n",
    "\n",
    "variants_a222v_df[\"mut_3char\"] = (\n",
    "    variants_a222v_df[\"aa_wt\"] + \n",
    "    (variants_a222v_df[\"aa_pos\"]).astype(str) + \n",
    "    variants_a222v_df[\"aa_mut\"] \n",
    ")\n",
    "\n",
    "variants_a222v_df[\"mut\"] = (\n",
    "    variants_a222v_df[\"aa_wt\"].str.upper().map(structure_tools.AAA_DICT) + \n",
    "    (variants_a222v_df[\"aa_pos\"]).astype(str) + \n",
    "    variants_a222v_df[\"aa_mut\"].str.upper().map(structure_tools.AAA_DICT) \n",
    ")\n",
    "\n",
    "variants_a222v_df = variants_a222v_df.sort_values([\"aa_pos\", \"mut\"])\n",
    "variants_a222v_df.head()"
   ]
  },
  {
   "cell_type": "markdown",
   "metadata": {
    "id": "w5g48DoAWWnI"
   },
   "source": [
    "### Select variants for a particular chunk"
   ]
  },
  {
   "cell_type": "code",
   "execution_count": null,
   "metadata": {
    "colab": {
     "base_uri": "https://localhost:8080/"
    },
    "id": "R-lBbp-ZWYzr",
    "outputId": "28e84994-6ffc-4dad-c83a-9a400224c806"
   },
   "outputs": [
    {
     "data": {
      "text/plain": [
       "1445"
      ]
     },
     "execution_count": 29,
     "metadata": {
      "tags": []
     },
     "output_type": "execute_result"
    }
   ],
   "source": [
    "if len(variants_wt_df) > 2000:\n",
    "    chunk_size = len(variants_wt_df) // TASK_COUNT + 1\n",
    "    variants_wt_df = variants_wt_df.iloc[chunk_size * (TASK_ID - 1):chunk_size * TASK_ID]\n",
    "\n",
    "len(variants_wt_df)"
   ]
  },
  {
   "cell_type": "code",
   "execution_count": null,
   "metadata": {
    "colab": {
     "base_uri": "https://localhost:8080/"
    },
    "id": "1jrRCsV4WY6b",
    "outputId": "adca51f0-647f-4d8a-e3e8-ae2fd373bcdd"
   },
   "outputs": [
    {
     "data": {
      "text/plain": [
       "1445"
      ]
     },
     "execution_count": 30,
     "metadata": {
      "tags": []
     },
     "output_type": "execute_result"
    }
   ],
   "source": [
    "if len(variants_a222v_df) > 2000:\n",
    "    chunk_size = len(variants_a222v_df) // TASK_COUNT + 1\n",
    "    variants_a222v_df = variants_a222v_df.iloc[chunk_size * (TASK_ID - 1):chunk_size * TASK_ID]\n",
    "\n",
    "len(variants_a222v_df)"
   ]
  },
  {
   "cell_type": "markdown",
   "metadata": {
    "id": "4jTx3zGeHD2e"
   },
   "source": [
    "### Instantiate the `ELASPIC2` model and featurize protein\n",
    "\n"
   ]
  },
  {
   "cell_type": "code",
   "execution_count": null,
   "metadata": {
    "colab": {
     "base_uri": "https://localhost:8080/"
    },
    "id": "HAJ2IpvMHD2f",
    "outputId": "c8964db0-e36a-41bf-a36a-73022da48e3e"
   },
   "outputs": [
    {
     "name": "stderr",
     "output_type": "stream",
     "text": [
      "/usr/local/lib/python3.7/dist-packages/sklearn/base.py:318: UserWarning: Trying to unpickle estimator PCA from version 0.23.2 when using version 0.22.2.post1. This might lead to breaking code or invalid results. Use at your own risk.\n",
      "  UserWarning)\n"
     ]
    }
   ],
   "source": [
    "model = el2.ELASPIC2(device=device)"
   ]
  },
  {
   "cell_type": "markdown",
   "metadata": {
    "id": "i8OkFJbj8sYO"
   },
   "source": [
    "### Make predictions for WT protein"
   ]
  },
  {
   "cell_type": "code",
   "execution_count": null,
   "metadata": {
    "id": "-yc4qR55OprG"
   },
   "outputs": [],
   "source": [
    "structure_file_obj = tempfile.NamedTemporaryFile(suffix=\".pdb\")\n",
    "PDB.save(structure_wt, structure_file_obj.name)"
   ]
  },
  {
   "cell_type": "code",
   "execution_count": null,
   "metadata": {
    "colab": {
     "base_uri": "https://localhost:8080/"
    },
    "id": "ac6mTuNYHD2i",
    "outputId": "b2427457-6fb6-4e2c-dac0-d037fafc8282"
   },
   "outputs": [
    {
     "data": {
      "text/plain": [
       "ELASPIC2Data(is_interface=False, protbert_data=ProtBertData(sequence='MVNEARGNSSLNPCLEGSASSGSESSKDSSRCSTPGLDPERHERLREKMRRRLESGDKWFSLEFFPPRTAEGAVNLISRFDRMAAGGPLYIDVTWHPAGDPGSDKETSSMMIASTAVNYCGLETILHMTCCRQRLEEITGHLHKAKQLGLKNIMALRGDPIGDQWEEEEGGFNYAVDLVKHIRSEFGDYFDICVAGYPKGHPEAGSFEADLKHLKEKVSAGADFIITQLFFEADTFFRFVKACTDMGITCPIVPGIFPIQGYHSLRQLVKLSKLEVPQEIKDVIEPIKDNDAAIRNYGIELAVSLCQELLASGLVPGLHFYTLNREMATTEVLKRLGMWTEDPRRPLPWALSAHPKRREEDVRPIFWASRPKSYIYRTQEWDEFPNGRWGNSSSPAFGELKDYYLFYLKSKSPKEELLKMWGEELTSEESVFEVFVLYLSGEPNRNGHKVTCLPWNDEPLAAETSLLKEELLRVNRQGILTINSQPNINGKPSSDPIVGWGPSGGYVFQKAYLEFFTSRETAEALLQVLKKYELRVNYHLVNVKGENITNAPELQPNAVTWGIFPGREIIQPTVVDPVSFMFWKDEAFALWIERWGKLYEEESPSRTIIQYIHDNYFLVNLVDNDFPLDNCLWQVVEDTLELLNRPTQNARETEAP'), proteinsolver_data=Data(edge_attr=[36616, 2], edge_index=[2, 36616], x=[656]))"
      ]
     },
     "execution_count": 33,
     "metadata": {
      "tags": []
     },
     "output_type": "execute_result"
    }
   ],
   "source": [
    "protein_features_wt = model.build(\n",
    "    structure_file=structure_file_obj.name,\n",
    "    protein_sequence=sequence_wt,\n",
    "    ligand_sequence=None,\n",
    "    remove_hetatms=True,\n",
    ")\n",
    "\n",
    "protein_features_wt"
   ]
  },
  {
   "cell_type": "code",
   "execution_count": null,
   "metadata": {
    "colab": {
     "base_uri": "https://localhost:8080/",
     "height": 66,
     "referenced_widgets": [
      "9023a65edac64fcdbd739b2e9377952a",
      "3c5bcf409dce4c15b31d65f0a83bd464",
      "dc1920496db441ad81fce67e11ca350e",
      "303d346e638348a5a5e0d57e50062dce",
      "31c736345a334955bd36c29a1af55eea",
      "67ac01318e1a4045b3188f8cb8d88519",
      "1a23ad1e2a4c47e691d936f67992cb58",
      "d4bac64f7d294842a38b84fcd6b8ea0a",
      "9c3c4a3ee35f46ff8b7ddc4af3110c0a",
      "18b0a5feb40249ec8c7d36b41c7477b3",
      "3b90ce0e3219481ea169e0dbc23e42bd"
     ]
    },
    "id": "2uRiEi_P2c0I",
    "outputId": "3b996ed6-7f79-4225-a4cd-ce649f68d7ee"
   },
   "outputs": [
    {
     "data": {
      "application/vnd.jupyter.widget-view+json": {
       "model_id": "9023a65edac64fcdbd739b2e9377952a",
       "version_major": 2,
       "version_minor": 0
      },
      "text/plain": [
       "HBox(children=(HTML(value=''), FloatProgress(value=0.0, max=1445.0), HTML(value='')))"
      ]
     },
     "metadata": {
      "tags": []
     },
     "output_type": "display_data"
    },
    {
     "name": "stdout",
     "output_type": "stream",
     "text": [
      "\n"
     ]
    }
   ],
   "source": [
    "mutation_features_wt = list(\n",
    "    tqdm(\n",
    "        (\n",
    "            model.analyze_mutation(mut, protein_features_wt)\n",
    "            for mut in variants_wt_df[\"mut\"]\n",
    "        ),\n",
    "        total=len(variants_wt_df),\n",
    "    )\n",
    ")"
   ]
  },
  {
   "cell_type": "code",
   "execution_count": null,
   "metadata": {
    "id": "XJPiK7eVRBqi"
   },
   "outputs": [],
   "source": [
    "variants_wt_df[\"protbert_score\"] = [d[\"protbert_core_score_mut\"] - d[\"protbert_core_score_wt\"] for d in mutation_features_wt]\n",
    "variants_wt_df[\"proteinsolver_score\"] = [d[\"proteinsolver_core_score_mut\"] - d[\"proteinsolver_core_score_wt\"] for d in mutation_features_wt]\n",
    "# Higher values mean more stable (opposite of ΔΔG)\n",
    "variants_wt_df[\"el2_score\"] = model.predict_mutation_effect(mutation_features_wt).tolist()"
   ]
  },
  {
   "cell_type": "code",
   "execution_count": null,
   "metadata": {
    "id": "9ZB6xjW3RDrZ"
   },
   "outputs": [],
   "source": [
    "output_file = NOTEBOOK_DIR.joinpath(f\"variants-wt-{version}-{TASK_ID:04d}-of-{TASK_COUNT:04d}.csv\")\n",
    "variants_wt_df.to_csv(output_file, sep=\"\\t\", index=False)\n",
    "\n",
    "if GOOGLE_COLAB:\n",
    "    output_gdrive_file = Path(f\"/gdrive/MyDrive/CAGI6/MTHFR/{output_file.name}\")\n",
    "    output_gdrive_file.parent.mkdir(exist_ok=True, parents=True)\n",
    "    shutil.copy(output_file, output_gdrive_file)"
   ]
  },
  {
   "cell_type": "markdown",
   "metadata": {
    "id": "Ix1Qg6Ra82Ic"
   },
   "source": [
    "### Make predictions for A222V protein"
   ]
  },
  {
   "cell_type": "code",
   "execution_count": null,
   "metadata": {
    "id": "wwKXT3FEWxi8"
   },
   "outputs": [],
   "source": [
    "structure_file_obj = tempfile.NamedTemporaryFile(suffix=\".pdb\")\n",
    "PDB.save(structure_a222v, structure_file_obj.name)"
   ]
  },
  {
   "cell_type": "code",
   "execution_count": null,
   "metadata": {
    "colab": {
     "base_uri": "https://localhost:8080/"
    },
    "id": "rra0MC3mTFBG",
    "outputId": "71a15c30-8694-490f-f1c1-5fddfc545a84"
   },
   "outputs": [
    {
     "data": {
      "text/plain": [
       "ELASPIC2Data(is_interface=False, protbert_data=ProtBertData(sequence='MVNEARGNSSLNPCLEGSASSGSESSKDSSRCSTPGLDPERHERLREKMRRRLESGDKWFSLEFFPPRTAEGAVNLISRFDRMAAGGPLYIDVTWHPAGDPGSDKETSSMMIASTAVNYCGLETILHMTCCRQRLEEITGHLHKAKQLGLKNIMALRGDPIGDQWEEEEGGFNYAVDLVKHIRSEFGDYFDICVAGYPKGHPEAGSFEADLKHLKEKVSAGVDFIITQLFFEADTFFRFVKACTDMGITCPIVPGIFPIQGYHSLRQLVKLSKLEVPQEIKDVIEPIKDNDAAIRNYGIELAVSLCQELLASGLVPGLHFYTLNREMATTEVLKRLGMWTEDPRRPLPWALSAHPKRREEDVRPIFWASRPKSYIYRTQEWDEFPNGRWGNSSSPAFGELKDYYLFYLKSKSPKEELLKMWGEELTSEESVFEVFVLYLSGEPNRNGHKVTCLPWNDEPLAAETSLLKEELLRVNRQGILTINSQPNINGKPSSDPIVGWGPSGGYVFQKAYLEFFTSRETAEALLQVLKKYELRVNYHLVNVKGENITNAPELQPNAVTWGIFPGREIIQPTVVDPVSFMFWKDEAFALWIERWGKLYEEESPSRTIIQYIHDNYFLVNLVDNDFPLDNCLWQVVEDTLELLNRPTQNARETEAP'), proteinsolver_data=Data(edge_attr=[36620, 2], edge_index=[2, 36620], x=[656]))"
      ]
     },
     "execution_count": 38,
     "metadata": {
      "tags": []
     },
     "output_type": "execute_result"
    }
   ],
   "source": [
    "protein_features_a222v = model.build(\n",
    "    structure_file=structure_file_obj.name,\n",
    "    protein_sequence=sequence_a222v,\n",
    "    ligand_sequence=None,\n",
    "    remove_hetatms=True,\n",
    ")\n",
    "\n",
    "protein_features_a222v"
   ]
  },
  {
   "cell_type": "code",
   "execution_count": null,
   "metadata": {
    "colab": {
     "base_uri": "https://localhost:8080/",
     "height": 66,
     "referenced_widgets": [
      "8240332188f34a428d43489e7359813f",
      "119b2feadc7c4f39a6dbaa77100cfaf0",
      "2d3d295d09f547639a9f00510444b8d9",
      "8d7da62a1db94598a216d723d7f72b87",
      "006b468381b24fd5a8ffe2d7d49dbcbc",
      "0ce1808c9a964f6594d083b7390c3a1c",
      "9bf403a684ed47d9996b45d1f26f8797",
      "51ffe4294ac4450a8ce02107fb25a501",
      "a721c0145b664713827428f7c088ffec",
      "4cca064529ec4c7981db8d1130919a6b",
      "b596c08a5df444c59330329c87711a8b"
     ]
    },
    "id": "5AnsVWTVVEe0",
    "outputId": "9c0fa33a-cf24-42c8-e315-2cb1a40152b4"
   },
   "outputs": [
    {
     "data": {
      "application/vnd.jupyter.widget-view+json": {
       "model_id": "8240332188f34a428d43489e7359813f",
       "version_major": 2,
       "version_minor": 0
      },
      "text/plain": [
       "HBox(children=(HTML(value=''), FloatProgress(value=0.0, max=1445.0), HTML(value='')))"
      ]
     },
     "metadata": {
      "tags": []
     },
     "output_type": "display_data"
    },
    {
     "name": "stdout",
     "output_type": "stream",
     "text": [
      "\n"
     ]
    }
   ],
   "source": [
    "mutation_features_a222v = list(\n",
    "    tqdm(\n",
    "        (\n",
    "            model.analyze_mutation(mut, protein_features_a222v)\n",
    "            for mut in variants_a222v_df[\"mut\"]\n",
    "        ),\n",
    "        total=len(variants_a222v_df),\n",
    "    )\n",
    ")"
   ]
  },
  {
   "cell_type": "code",
   "execution_count": null,
   "metadata": {
    "id": "RnXcmZPmeuBB"
   },
   "outputs": [],
   "source": [
    "variants_a222v_df[\"protbert_score\"] = [d[\"protbert_core_score_mut\"] - d[\"protbert_core_score_wt\"] for d in mutation_features_a222v]\n",
    "variants_a222v_df[\"proteinsolver_score\"] = [d[\"proteinsolver_core_score_mut\"] - d[\"proteinsolver_core_score_wt\"] for d in mutation_features_a222v]\n",
    "# Higher values mean more stable (opposite of ΔΔG)\n",
    "variants_a222v_df[\"el2_score\"] = model.predict_mutation_effect(mutation_features_a222v).tolist()"
   ]
  },
  {
   "cell_type": "code",
   "execution_count": null,
   "metadata": {
    "id": "OFVnOEdVU99h"
   },
   "outputs": [],
   "source": [
    "output_file = NOTEBOOK_DIR.joinpath(f\"variants-a222v-{version}-{TASK_ID:04d}-of-{TASK_COUNT:04d}.csv\")\n",
    "variants_a222v_df.to_csv(output_file, sep=\"\\t\", index=False)\n",
    "\n",
    "if GOOGLE_COLAB:\n",
    "    output_gdrive_file = Path(f\"/gdrive/MyDrive/CAGI6/MTHFR/{output_file.name}\")\n",
    "    output_gdrive_file.parent.mkdir(exist_ok=True, parents=True)\n",
    "    shutil.copy(output_file, output_gdrive_file)"
   ]
  }
 ],
 "metadata": {
  "accelerator": "GPU",
  "colab": {
   "collapsed_sections": [],
   "name": "CAGI6 MTHFR",
   "provenance": [],
   "toc_visible": true
  },
  "kernelspec": {
   "display_name": "Python 3 (ipykernel)",
   "language": "python",
   "name": "python3"
  },
  "language_info": {
   "codemirror_mode": {
    "name": "ipython",
    "version": 3
   },
   "file_extension": ".py",
   "mimetype": "text/x-python",
   "name": "python",
   "nbconvert_exporter": "python",
   "pygments_lexer": "ipython3",
   "version": "3.9.6"
  },
  "widgets": {
   "application/vnd.jupyter.widget-state+json": {
    "006b468381b24fd5a8ffe2d7d49dbcbc": {
     "model_module": "@jupyter-widgets/controls",
     "model_module_version": "1.5.0",
     "model_name": "HTMLModel",
     "state": {
      "_dom_classes": [],
      "_model_module": "@jupyter-widgets/controls",
      "_model_module_version": "1.5.0",
      "_model_name": "HTMLModel",
      "_view_count": null,
      "_view_module": "@jupyter-widgets/controls",
      "_view_module_version": "1.5.0",
      "_view_name": "HTMLView",
      "description": "",
      "description_tooltip": null,
      "layout": "IPY_MODEL_b596c08a5df444c59330329c87711a8b",
      "placeholder": "​",
      "style": "IPY_MODEL_4cca064529ec4c7981db8d1130919a6b",
      "value": " 1445/1445 [17:57&lt;00:00,  1.34it/s]"
     }
    },
    "0ce1808c9a964f6594d083b7390c3a1c": {
     "model_module": "@jupyter-widgets/controls",
     "model_module_version": "1.5.0",
     "model_name": "DescriptionStyleModel",
     "state": {
      "_model_module": "@jupyter-widgets/controls",
      "_model_module_version": "1.5.0",
      "_model_name": "DescriptionStyleModel",
      "_view_count": null,
      "_view_module": "@jupyter-widgets/base",
      "_view_module_version": "1.2.0",
      "_view_name": "StyleView",
      "description_width": ""
     }
    },
    "119b2feadc7c4f39a6dbaa77100cfaf0": {
     "model_module": "@jupyter-widgets/base",
     "model_module_version": "1.2.0",
     "model_name": "LayoutModel",
     "state": {
      "_model_module": "@jupyter-widgets/base",
      "_model_module_version": "1.2.0",
      "_model_name": "LayoutModel",
      "_view_count": null,
      "_view_module": "@jupyter-widgets/base",
      "_view_module_version": "1.2.0",
      "_view_name": "LayoutView",
      "align_content": null,
      "align_items": null,
      "align_self": null,
      "border": null,
      "bottom": null,
      "display": null,
      "flex": null,
      "flex_flow": null,
      "grid_area": null,
      "grid_auto_columns": null,
      "grid_auto_flow": null,
      "grid_auto_rows": null,
      "grid_column": null,
      "grid_gap": null,
      "grid_row": null,
      "grid_template_areas": null,
      "grid_template_columns": null,
      "grid_template_rows": null,
      "height": null,
      "justify_content": null,
      "justify_items": null,
      "left": null,
      "margin": null,
      "max_height": null,
      "max_width": null,
      "min_height": null,
      "min_width": null,
      "object_fit": null,
      "object_position": null,
      "order": null,
      "overflow": null,
      "overflow_x": null,
      "overflow_y": null,
      "padding": null,
      "right": null,
      "top": null,
      "visibility": null,
      "width": null
     }
    },
    "18b0a5feb40249ec8c7d36b41c7477b3": {
     "model_module": "@jupyter-widgets/controls",
     "model_module_version": "1.5.0",
     "model_name": "DescriptionStyleModel",
     "state": {
      "_model_module": "@jupyter-widgets/controls",
      "_model_module_version": "1.5.0",
      "_model_name": "DescriptionStyleModel",
      "_view_count": null,
      "_view_module": "@jupyter-widgets/base",
      "_view_module_version": "1.2.0",
      "_view_name": "StyleView",
      "description_width": ""
     }
    },
    "1a23ad1e2a4c47e691d936f67992cb58": {
     "model_module": "@jupyter-widgets/base",
     "model_module_version": "1.2.0",
     "model_name": "LayoutModel",
     "state": {
      "_model_module": "@jupyter-widgets/base",
      "_model_module_version": "1.2.0",
      "_model_name": "LayoutModel",
      "_view_count": null,
      "_view_module": "@jupyter-widgets/base",
      "_view_module_version": "1.2.0",
      "_view_name": "LayoutView",
      "align_content": null,
      "align_items": null,
      "align_self": null,
      "border": null,
      "bottom": null,
      "display": null,
      "flex": null,
      "flex_flow": null,
      "grid_area": null,
      "grid_auto_columns": null,
      "grid_auto_flow": null,
      "grid_auto_rows": null,
      "grid_column": null,
      "grid_gap": null,
      "grid_row": null,
      "grid_template_areas": null,
      "grid_template_columns": null,
      "grid_template_rows": null,
      "height": null,
      "justify_content": null,
      "justify_items": null,
      "left": null,
      "margin": null,
      "max_height": null,
      "max_width": null,
      "min_height": null,
      "min_width": null,
      "object_fit": null,
      "object_position": null,
      "order": null,
      "overflow": null,
      "overflow_x": null,
      "overflow_y": null,
      "padding": null,
      "right": null,
      "top": null,
      "visibility": null,
      "width": null
     }
    },
    "2d3d295d09f547639a9f00510444b8d9": {
     "model_module": "@jupyter-widgets/controls",
     "model_module_version": "1.5.0",
     "model_name": "HTMLModel",
     "state": {
      "_dom_classes": [],
      "_model_module": "@jupyter-widgets/controls",
      "_model_module_version": "1.5.0",
      "_model_name": "HTMLModel",
      "_view_count": null,
      "_view_module": "@jupyter-widgets/controls",
      "_view_module_version": "1.5.0",
      "_view_name": "HTMLView",
      "description": "",
      "description_tooltip": null,
      "layout": "IPY_MODEL_9bf403a684ed47d9996b45d1f26f8797",
      "placeholder": "​",
      "style": "IPY_MODEL_0ce1808c9a964f6594d083b7390c3a1c",
      "value": "100%"
     }
    },
    "303d346e638348a5a5e0d57e50062dce": {
     "model_module": "@jupyter-widgets/controls",
     "model_module_version": "1.5.0",
     "model_name": "FloatProgressModel",
     "state": {
      "_dom_classes": [],
      "_model_module": "@jupyter-widgets/controls",
      "_model_module_version": "1.5.0",
      "_model_name": "FloatProgressModel",
      "_view_count": null,
      "_view_module": "@jupyter-widgets/controls",
      "_view_module_version": "1.5.0",
      "_view_name": "ProgressView",
      "bar_style": "success",
      "description": "",
      "description_tooltip": null,
      "layout": "IPY_MODEL_9c3c4a3ee35f46ff8b7ddc4af3110c0a",
      "max": 1445,
      "min": 0,
      "orientation": "horizontal",
      "style": "IPY_MODEL_d4bac64f7d294842a38b84fcd6b8ea0a",
      "value": 1445
     }
    },
    "31c736345a334955bd36c29a1af55eea": {
     "model_module": "@jupyter-widgets/controls",
     "model_module_version": "1.5.0",
     "model_name": "HTMLModel",
     "state": {
      "_dom_classes": [],
      "_model_module": "@jupyter-widgets/controls",
      "_model_module_version": "1.5.0",
      "_model_name": "HTMLModel",
      "_view_count": null,
      "_view_module": "@jupyter-widgets/controls",
      "_view_module_version": "1.5.0",
      "_view_name": "HTMLView",
      "description": "",
      "description_tooltip": null,
      "layout": "IPY_MODEL_3b90ce0e3219481ea169e0dbc23e42bd",
      "placeholder": "​",
      "style": "IPY_MODEL_18b0a5feb40249ec8c7d36b41c7477b3",
      "value": " 1445/1445 [17:56&lt;00:00,  1.34it/s]"
     }
    },
    "3b90ce0e3219481ea169e0dbc23e42bd": {
     "model_module": "@jupyter-widgets/base",
     "model_module_version": "1.2.0",
     "model_name": "LayoutModel",
     "state": {
      "_model_module": "@jupyter-widgets/base",
      "_model_module_version": "1.2.0",
      "_model_name": "LayoutModel",
      "_view_count": null,
      "_view_module": "@jupyter-widgets/base",
      "_view_module_version": "1.2.0",
      "_view_name": "LayoutView",
      "align_content": null,
      "align_items": null,
      "align_self": null,
      "border": null,
      "bottom": null,
      "display": null,
      "flex": null,
      "flex_flow": null,
      "grid_area": null,
      "grid_auto_columns": null,
      "grid_auto_flow": null,
      "grid_auto_rows": null,
      "grid_column": null,
      "grid_gap": null,
      "grid_row": null,
      "grid_template_areas": null,
      "grid_template_columns": null,
      "grid_template_rows": null,
      "height": null,
      "justify_content": null,
      "justify_items": null,
      "left": null,
      "margin": null,
      "max_height": null,
      "max_width": null,
      "min_height": null,
      "min_width": null,
      "object_fit": null,
      "object_position": null,
      "order": null,
      "overflow": null,
      "overflow_x": null,
      "overflow_y": null,
      "padding": null,
      "right": null,
      "top": null,
      "visibility": null,
      "width": null
     }
    },
    "3c5bcf409dce4c15b31d65f0a83bd464": {
     "model_module": "@jupyter-widgets/base",
     "model_module_version": "1.2.0",
     "model_name": "LayoutModel",
     "state": {
      "_model_module": "@jupyter-widgets/base",
      "_model_module_version": "1.2.0",
      "_model_name": "LayoutModel",
      "_view_count": null,
      "_view_module": "@jupyter-widgets/base",
      "_view_module_version": "1.2.0",
      "_view_name": "LayoutView",
      "align_content": null,
      "align_items": null,
      "align_self": null,
      "border": null,
      "bottom": null,
      "display": null,
      "flex": null,
      "flex_flow": null,
      "grid_area": null,
      "grid_auto_columns": null,
      "grid_auto_flow": null,
      "grid_auto_rows": null,
      "grid_column": null,
      "grid_gap": null,
      "grid_row": null,
      "grid_template_areas": null,
      "grid_template_columns": null,
      "grid_template_rows": null,
      "height": null,
      "justify_content": null,
      "justify_items": null,
      "left": null,
      "margin": null,
      "max_height": null,
      "max_width": null,
      "min_height": null,
      "min_width": null,
      "object_fit": null,
      "object_position": null,
      "order": null,
      "overflow": null,
      "overflow_x": null,
      "overflow_y": null,
      "padding": null,
      "right": null,
      "top": null,
      "visibility": null,
      "width": null
     }
    },
    "4cca064529ec4c7981db8d1130919a6b": {
     "model_module": "@jupyter-widgets/controls",
     "model_module_version": "1.5.0",
     "model_name": "DescriptionStyleModel",
     "state": {
      "_model_module": "@jupyter-widgets/controls",
      "_model_module_version": "1.5.0",
      "_model_name": "DescriptionStyleModel",
      "_view_count": null,
      "_view_module": "@jupyter-widgets/base",
      "_view_module_version": "1.2.0",
      "_view_name": "StyleView",
      "description_width": ""
     }
    },
    "51ffe4294ac4450a8ce02107fb25a501": {
     "model_module": "@jupyter-widgets/controls",
     "model_module_version": "1.5.0",
     "model_name": "ProgressStyleModel",
     "state": {
      "_model_module": "@jupyter-widgets/controls",
      "_model_module_version": "1.5.0",
      "_model_name": "ProgressStyleModel",
      "_view_count": null,
      "_view_module": "@jupyter-widgets/base",
      "_view_module_version": "1.2.0",
      "_view_name": "StyleView",
      "bar_color": null,
      "description_width": ""
     }
    },
    "67ac01318e1a4045b3188f8cb8d88519": {
     "model_module": "@jupyter-widgets/controls",
     "model_module_version": "1.5.0",
     "model_name": "DescriptionStyleModel",
     "state": {
      "_model_module": "@jupyter-widgets/controls",
      "_model_module_version": "1.5.0",
      "_model_name": "DescriptionStyleModel",
      "_view_count": null,
      "_view_module": "@jupyter-widgets/base",
      "_view_module_version": "1.2.0",
      "_view_name": "StyleView",
      "description_width": ""
     }
    },
    "8240332188f34a428d43489e7359813f": {
     "model_module": "@jupyter-widgets/controls",
     "model_module_version": "1.5.0",
     "model_name": "HBoxModel",
     "state": {
      "_dom_classes": [],
      "_model_module": "@jupyter-widgets/controls",
      "_model_module_version": "1.5.0",
      "_model_name": "HBoxModel",
      "_view_count": null,
      "_view_module": "@jupyter-widgets/controls",
      "_view_module_version": "1.5.0",
      "_view_name": "HBoxView",
      "box_style": "",
      "children": [
       "IPY_MODEL_2d3d295d09f547639a9f00510444b8d9",
       "IPY_MODEL_8d7da62a1db94598a216d723d7f72b87",
       "IPY_MODEL_006b468381b24fd5a8ffe2d7d49dbcbc"
      ],
      "layout": "IPY_MODEL_119b2feadc7c4f39a6dbaa77100cfaf0"
     }
    },
    "8d7da62a1db94598a216d723d7f72b87": {
     "model_module": "@jupyter-widgets/controls",
     "model_module_version": "1.5.0",
     "model_name": "FloatProgressModel",
     "state": {
      "_dom_classes": [],
      "_model_module": "@jupyter-widgets/controls",
      "_model_module_version": "1.5.0",
      "_model_name": "FloatProgressModel",
      "_view_count": null,
      "_view_module": "@jupyter-widgets/controls",
      "_view_module_version": "1.5.0",
      "_view_name": "ProgressView",
      "bar_style": "success",
      "description": "",
      "description_tooltip": null,
      "layout": "IPY_MODEL_a721c0145b664713827428f7c088ffec",
      "max": 1445,
      "min": 0,
      "orientation": "horizontal",
      "style": "IPY_MODEL_51ffe4294ac4450a8ce02107fb25a501",
      "value": 1445
     }
    },
    "9023a65edac64fcdbd739b2e9377952a": {
     "model_module": "@jupyter-widgets/controls",
     "model_module_version": "1.5.0",
     "model_name": "HBoxModel",
     "state": {
      "_dom_classes": [],
      "_model_module": "@jupyter-widgets/controls",
      "_model_module_version": "1.5.0",
      "_model_name": "HBoxModel",
      "_view_count": null,
      "_view_module": "@jupyter-widgets/controls",
      "_view_module_version": "1.5.0",
      "_view_name": "HBoxView",
      "box_style": "",
      "children": [
       "IPY_MODEL_dc1920496db441ad81fce67e11ca350e",
       "IPY_MODEL_303d346e638348a5a5e0d57e50062dce",
       "IPY_MODEL_31c736345a334955bd36c29a1af55eea"
      ],
      "layout": "IPY_MODEL_3c5bcf409dce4c15b31d65f0a83bd464"
     }
    },
    "9bf403a684ed47d9996b45d1f26f8797": {
     "model_module": "@jupyter-widgets/base",
     "model_module_version": "1.2.0",
     "model_name": "LayoutModel",
     "state": {
      "_model_module": "@jupyter-widgets/base",
      "_model_module_version": "1.2.0",
      "_model_name": "LayoutModel",
      "_view_count": null,
      "_view_module": "@jupyter-widgets/base",
      "_view_module_version": "1.2.0",
      "_view_name": "LayoutView",
      "align_content": null,
      "align_items": null,
      "align_self": null,
      "border": null,
      "bottom": null,
      "display": null,
      "flex": null,
      "flex_flow": null,
      "grid_area": null,
      "grid_auto_columns": null,
      "grid_auto_flow": null,
      "grid_auto_rows": null,
      "grid_column": null,
      "grid_gap": null,
      "grid_row": null,
      "grid_template_areas": null,
      "grid_template_columns": null,
      "grid_template_rows": null,
      "height": null,
      "justify_content": null,
      "justify_items": null,
      "left": null,
      "margin": null,
      "max_height": null,
      "max_width": null,
      "min_height": null,
      "min_width": null,
      "object_fit": null,
      "object_position": null,
      "order": null,
      "overflow": null,
      "overflow_x": null,
      "overflow_y": null,
      "padding": null,
      "right": null,
      "top": null,
      "visibility": null,
      "width": null
     }
    },
    "9c3c4a3ee35f46ff8b7ddc4af3110c0a": {
     "model_module": "@jupyter-widgets/base",
     "model_module_version": "1.2.0",
     "model_name": "LayoutModel",
     "state": {
      "_model_module": "@jupyter-widgets/base",
      "_model_module_version": "1.2.0",
      "_model_name": "LayoutModel",
      "_view_count": null,
      "_view_module": "@jupyter-widgets/base",
      "_view_module_version": "1.2.0",
      "_view_name": "LayoutView",
      "align_content": null,
      "align_items": null,
      "align_self": null,
      "border": null,
      "bottom": null,
      "display": null,
      "flex": null,
      "flex_flow": null,
      "grid_area": null,
      "grid_auto_columns": null,
      "grid_auto_flow": null,
      "grid_auto_rows": null,
      "grid_column": null,
      "grid_gap": null,
      "grid_row": null,
      "grid_template_areas": null,
      "grid_template_columns": null,
      "grid_template_rows": null,
      "height": null,
      "justify_content": null,
      "justify_items": null,
      "left": null,
      "margin": null,
      "max_height": null,
      "max_width": null,
      "min_height": null,
      "min_width": null,
      "object_fit": null,
      "object_position": null,
      "order": null,
      "overflow": null,
      "overflow_x": null,
      "overflow_y": null,
      "padding": null,
      "right": null,
      "top": null,
      "visibility": null,
      "width": null
     }
    },
    "a721c0145b664713827428f7c088ffec": {
     "model_module": "@jupyter-widgets/base",
     "model_module_version": "1.2.0",
     "model_name": "LayoutModel",
     "state": {
      "_model_module": "@jupyter-widgets/base",
      "_model_module_version": "1.2.0",
      "_model_name": "LayoutModel",
      "_view_count": null,
      "_view_module": "@jupyter-widgets/base",
      "_view_module_version": "1.2.0",
      "_view_name": "LayoutView",
      "align_content": null,
      "align_items": null,
      "align_self": null,
      "border": null,
      "bottom": null,
      "display": null,
      "flex": null,
      "flex_flow": null,
      "grid_area": null,
      "grid_auto_columns": null,
      "grid_auto_flow": null,
      "grid_auto_rows": null,
      "grid_column": null,
      "grid_gap": null,
      "grid_row": null,
      "grid_template_areas": null,
      "grid_template_columns": null,
      "grid_template_rows": null,
      "height": null,
      "justify_content": null,
      "justify_items": null,
      "left": null,
      "margin": null,
      "max_height": null,
      "max_width": null,
      "min_height": null,
      "min_width": null,
      "object_fit": null,
      "object_position": null,
      "order": null,
      "overflow": null,
      "overflow_x": null,
      "overflow_y": null,
      "padding": null,
      "right": null,
      "top": null,
      "visibility": null,
      "width": null
     }
    },
    "b596c08a5df444c59330329c87711a8b": {
     "model_module": "@jupyter-widgets/base",
     "model_module_version": "1.2.0",
     "model_name": "LayoutModel",
     "state": {
      "_model_module": "@jupyter-widgets/base",
      "_model_module_version": "1.2.0",
      "_model_name": "LayoutModel",
      "_view_count": null,
      "_view_module": "@jupyter-widgets/base",
      "_view_module_version": "1.2.0",
      "_view_name": "LayoutView",
      "align_content": null,
      "align_items": null,
      "align_self": null,
      "border": null,
      "bottom": null,
      "display": null,
      "flex": null,
      "flex_flow": null,
      "grid_area": null,
      "grid_auto_columns": null,
      "grid_auto_flow": null,
      "grid_auto_rows": null,
      "grid_column": null,
      "grid_gap": null,
      "grid_row": null,
      "grid_template_areas": null,
      "grid_template_columns": null,
      "grid_template_rows": null,
      "height": null,
      "justify_content": null,
      "justify_items": null,
      "left": null,
      "margin": null,
      "max_height": null,
      "max_width": null,
      "min_height": null,
      "min_width": null,
      "object_fit": null,
      "object_position": null,
      "order": null,
      "overflow": null,
      "overflow_x": null,
      "overflow_y": null,
      "padding": null,
      "right": null,
      "top": null,
      "visibility": null,
      "width": null
     }
    },
    "d4bac64f7d294842a38b84fcd6b8ea0a": {
     "model_module": "@jupyter-widgets/controls",
     "model_module_version": "1.5.0",
     "model_name": "ProgressStyleModel",
     "state": {
      "_model_module": "@jupyter-widgets/controls",
      "_model_module_version": "1.5.0",
      "_model_name": "ProgressStyleModel",
      "_view_count": null,
      "_view_module": "@jupyter-widgets/base",
      "_view_module_version": "1.2.0",
      "_view_name": "StyleView",
      "bar_color": null,
      "description_width": ""
     }
    },
    "dc1920496db441ad81fce67e11ca350e": {
     "model_module": "@jupyter-widgets/controls",
     "model_module_version": "1.5.0",
     "model_name": "HTMLModel",
     "state": {
      "_dom_classes": [],
      "_model_module": "@jupyter-widgets/controls",
      "_model_module_version": "1.5.0",
      "_model_name": "HTMLModel",
      "_view_count": null,
      "_view_module": "@jupyter-widgets/controls",
      "_view_module_version": "1.5.0",
      "_view_name": "HTMLView",
      "description": "",
      "description_tooltip": null,
      "layout": "IPY_MODEL_1a23ad1e2a4c47e691d936f67992cb58",
      "placeholder": "​",
      "style": "IPY_MODEL_67ac01318e1a4045b3188f8cb8d88519",
      "value": "100%"
     }
    }
   }
  }
 },
 "nbformat": 4,
 "nbformat_minor": 4
}
