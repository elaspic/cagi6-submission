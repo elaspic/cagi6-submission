{
 "cells": [
  {
   "cell_type": "markdown",
   "id": "26c81e96-6b41-41fa-80a6-6360c482eb58",
   "metadata": {},
   "source": [
    "## Summary\n",
    "\n",
    "---"
   ]
  },
  {
   "cell_type": "markdown",
   "id": "ec276dec-6afa-4b57-bbfc-a11e04a8767e",
   "metadata": {},
   "source": [
    "## Imports"
   ]
  },
  {
   "cell_type": "code",
   "execution_count": null,
   "id": "539f4edf-ca04-4bef-b5c9-a6d402f7570b",
   "metadata": {},
   "outputs": [],
   "source": [
    "import contextlib\n",
    "import itertools\n",
    "from pathlib import Path\n",
    "\n",
    "import matplotlib.pyplot as plt\n",
    "import numpy as np\n",
    "import pandas as pd\n",
    "import pyarrow as pa\n",
    "import pyarrow.parquet as pq\n",
    "from IPython.display import SVG, Image\n",
    "from scipy import stats\n",
    "from sklearn import metrics, model_selection\n",
    "from tqdm.auto import tqdm"
   ]
  },
  {
   "cell_type": "code",
   "execution_count": null,
   "id": "d08b0792-00b7-44be-9257-a554f95bd602",
   "metadata": {},
   "outputs": [],
   "source": [
    "pd.set_option(\"max_columns\", 1000)\n",
    "pd.set_option(\"max_rows\", 1000)"
   ]
  },
  {
   "cell_type": "markdown",
   "id": "5be0ca05-c038-414f-ba84-b2ae8013088b",
   "metadata": {},
   "source": [
    "## Parameters"
   ]
  },
  {
   "cell_type": "code",
   "execution_count": null,
   "id": "10e1faee-9f6a-40d8-8819-272b1c9837bb",
   "metadata": {},
   "outputs": [],
   "source": [
    "NOTEBOOK_DIR = Path(\"33_analyze_alphafold\").resolve()\n",
    "NOTEBOOK_DIR.mkdir(exist_ok=True)\n",
    "\n",
    "NOTEBOOK_DIR"
   ]
  },
  {
   "cell_type": "code",
   "execution_count": null,
   "id": "0b883691-6f51-4d06-b457-bf579ae682ae",
   "metadata": {},
   "outputs": [],
   "source": [
    "DATASET_NAME = \"humsavar\"\n",
    "DATASET_PATH = str(\n",
    "    NOTEBOOK_DIR.parent.joinpath(\"30_humsavar\", \"humsavar-gby-protein.parquet\")\n",
    ")\n",
    "DATASET_ALN_PATH = str(\n",
    "    NOTEBOOK_DIR.parent.joinpath(\"30_humsavar\", \"humsavar-gby-protein-waln.parquet\")\n",
    ")"
   ]
  },
  {
   "cell_type": "code",
   "execution_count": null,
   "id": "9736dea3-f296-440b-800e-1efae1818ab3",
   "metadata": {},
   "outputs": [],
   "source": [
    "ALPHAFOLD_FEATURES_DIR = NOTEBOOK_DIR.parent.joinpath(\n",
    "    \"32_process_alphafold\", DATASET_NAME, \"run-alphafold-wt\"\n",
    ")\n",
    "\n",
    "ALPHAFOLD_FEATURES_DIR"
   ]
  },
  {
   "cell_type": "code",
   "execution_count": null,
   "id": "33a6c324-a0e0-48f3-80f8-0353b215d4b3",
   "metadata": {},
   "outputs": [],
   "source": [
    "# ALPHAFOLD_FEATURES_DIR = NOTEBOOK_DIR.parent.joinpath(\"32_process_alphafold\", DATASET_NAME, \"run-alphafold-wt-template\")\n",
    "\n",
    "# ALPHAFOLD_FEATURES_DIR"
   ]
  },
  {
   "cell_type": "markdown",
   "id": "27f1c206-de6b-4a6d-aaf7-f7740b7f8f80",
   "metadata": {},
   "source": [
    "## Load data"
   ]
  },
  {
   "cell_type": "markdown",
   "id": "fa009bd6-909e-4425-8fe0-f3d5220b62a6",
   "metadata": {},
   "source": [
    "### AlphaFold featuers"
   ]
  },
  {
   "cell_type": "code",
   "execution_count": null,
   "id": "89d50f5e-b10a-41f7-bb1d-ff8eeb366fb3",
   "metadata": {},
   "outputs": [],
   "source": [
    "# dfs = []\n",
    "# for filepath in tqdm(list(ALPHAFOLD_FEATURES_DIR.glob(\"**/features-shard-*.parquet\"))):\n",
    "#     try:\n",
    "#         df = pq.read_table(filepath).to_pandas()\n",
    "#     except pa.ArrowInvalid as error:\n",
    "#         print(f\"Encountered error for file {filepath}.\")\n",
    "#         continue\n",
    "#     dfs.append(df)\n",
    "\n",
    "# result_df = pd.concat(dfs, ignore_index=True)\n",
    "# del dfs"
   ]
  },
  {
   "cell_type": "code",
   "execution_count": null,
   "id": "3e4fa60d-999e-45ae-ba06-d270248f7441",
   "metadata": {},
   "outputs": [],
   "source": [
    "total = 26\n",
    "\n",
    "dfs = []\n",
    "for i in tqdm(range(1, total + 1)):\n",
    "    filepath = ALPHAFOLD_FEATURES_DIR.joinpath(\n",
    "        f\"features-shard-{i:04d}-of-{total:04d}.parquet\"\n",
    "    )\n",
    "    try:\n",
    "        df = pq.read_table(filepath).to_pandas()\n",
    "    except pa.ArrowInvalid:\n",
    "        print(filepath)\n",
    "        continue\n",
    "    dfs.append(df)\n",
    "\n",
    "af_results_df = pd.concat(dfs, ignore_index=True)\n",
    "del dfs"
   ]
  },
  {
   "cell_type": "code",
   "execution_count": null,
   "id": "703aee0c-e72d-4432-80f7-2810cc10bfad",
   "metadata": {},
   "outputs": [],
   "source": [
    "af_results_df.head()"
   ]
  },
  {
   "cell_type": "markdown",
   "id": "90ac5975-791b-44ce-b4a3-75ee68bd2310",
   "metadata": {},
   "source": [
    "### Mutation effects"
   ]
  },
  {
   "cell_type": "code",
   "execution_count": null,
   "id": "4f220904-0fe9-4f2b-bd26-bf421f501159",
   "metadata": {},
   "outputs": [],
   "source": [
    "protein_mutations_df = pq.read_table(\n",
    "    DATASET_ALN_PATH, columns=[\"protein_id\", \"mutation\", \"effect\"]\n",
    ").to_pandas()"
   ]
  },
  {
   "cell_type": "code",
   "execution_count": null,
   "id": "457147a6-0def-433c-947f-64add0ac4ec5",
   "metadata": {},
   "outputs": [],
   "source": [
    "protein_mutations_df.head()"
   ]
  },
  {
   "cell_type": "code",
   "execution_count": null,
   "id": "b50a299e-815f-4ff6-bd89-b0bb25a7fa02",
   "metadata": {},
   "outputs": [],
   "source": [
    "dfs = []\n",
    "for tup in tqdm(protein_mutations_df.itertuples(), total=len(protein_mutations_df)):\n",
    "    assert len(tup.mutation) == len(tup.effect)\n",
    "    rows = []\n",
    "    for mutation, effect in zip(tup.mutation, tup.effect):\n",
    "        rows.append((tup.protein_id, mutation, effect))\n",
    "    df = pd.DataFrame(rows, columns=[\"protein_id\", \"mutation\", \"effect\"])\n",
    "    dfs.append(df)\n",
    "\n",
    "protein_mutation_effects_df = pd.concat(dfs, ignore_index=True)\n",
    "del dfs"
   ]
  },
  {
   "cell_type": "code",
   "execution_count": null,
   "id": "6576401e-ad4e-45e4-9b62-c6ef95aed232",
   "metadata": {},
   "outputs": [],
   "source": [
    "protein_mutation_effects_df"
   ]
  },
  {
   "cell_type": "markdown",
   "id": "5c483f9f-5d09-418d-b193-a4311f954188",
   "metadata": {},
   "source": [
    "## Process data"
   ]
  },
  {
   "cell_type": "markdown",
   "id": "36f713a7-1ac1-427c-b358-68ddb4a170c0",
   "metadata": {},
   "source": [
    "### Combine datasets"
   ]
  },
  {
   "cell_type": "code",
   "execution_count": null,
   "id": "68381db3-eef2-4a05-ab34-5852e9be4440",
   "metadata": {},
   "outputs": [],
   "source": [
    "@contextlib.contextmanager\n",
    "def tracker(original_df):\n",
    "    def wrapped(df):\n",
    "        assert len(original_df) == len(df), (len(original_df), len(df))\n",
    "        return df\n",
    "\n",
    "    yield wrapped"
   ]
  },
  {
   "cell_type": "code",
   "execution_count": null,
   "id": "4465c08b-b9f9-4044-a35c-cf0d508c48e2",
   "metadata": {},
   "outputs": [],
   "source": [
    "with tracker(af_results_df) as track:\n",
    "    result_df = track(\n",
    "        af_results_df.merge(protein_mutation_effects_df, on=[\"protein_id\", \"mutation\"])\n",
    "    )"
   ]
  },
  {
   "cell_type": "code",
   "execution_count": null,
   "id": "4ea8e99e-ccd9-4c28-8613-c3bde79aefbe",
   "metadata": {},
   "outputs": [],
   "source": [
    "effect_map = {\n",
    "    \"LB/B\": -1,\n",
    "    \"US\": 0,\n",
    "    \"LP/P\": 1,\n",
    "}\n",
    "\n",
    "result_df[\"effect_score\"] = result_df[\"effect\"].map(effect_map)"
   ]
  },
  {
   "cell_type": "code",
   "execution_count": null,
   "id": "0a5084ba-5634-45bf-af0e-b9ee7967388c",
   "metadata": {},
   "outputs": [],
   "source": [
    "result_df.head()"
   ]
  },
  {
   "cell_type": "markdown",
   "id": "8cf001ce-8714-4b47-b775-5ab91362bcf5",
   "metadata": {},
   "source": [
    "### Calculate deltas"
   ]
  },
  {
   "cell_type": "code",
   "execution_count": null,
   "id": "a3481e07-a286-4c59-b7e0-125129740657",
   "metadata": {},
   "outputs": [],
   "source": [
    "for column in list(result_df):\n",
    "    if not column.endswith(\"_mut\"):\n",
    "        continue\n",
    "\n",
    "    column_wt = column.removesuffix(\"_mut\") + \"_wt\"\n",
    "    if column_wt not in result_df:\n",
    "        print(column_wt)\n",
    "        continue\n",
    "\n",
    "    column_change = column.removesuffix(\"_mut\") + \"_change\"\n",
    "    result_df[column_change] = result_df[column_wt] - result_df[column]\n",
    "    del result_df[column]"
   ]
  },
  {
   "cell_type": "code",
   "execution_count": null,
   "id": "11fb416b-ac8a-46fb-b328-415d929298b0",
   "metadata": {},
   "outputs": [],
   "source": [
    "result_df.head()"
   ]
  },
  {
   "cell_type": "markdown",
   "id": "ae87c286-d491-42d4-941d-606cde544d48",
   "metadata": {},
   "source": [
    "## Exploratory data analysis"
   ]
  },
  {
   "cell_type": "code",
   "execution_count": null,
   "id": "1448fdf8-4949-4e91-b6c2-0db0711b8ea4",
   "metadata": {},
   "outputs": [],
   "source": [
    "result_df[\"effect\"].value_counts()"
   ]
  },
  {
   "cell_type": "code",
   "execution_count": null,
   "id": "d8d3b51a-476d-472d-82c8-7c572810f1ff",
   "metadata": {},
   "outputs": [],
   "source": [
    "result_df[\"effect_score\"].value_counts()"
   ]
  },
  {
   "cell_type": "code",
   "execution_count": null,
   "id": "a54711e8-d718-4659-969c-b5a08e762ca6",
   "metadata": {},
   "outputs": [],
   "source": [
    "row = next(result_df.itertuples(index=False))._asdict()\n",
    "\n",
    "column_group_map = {}\n",
    "for column, data in row.items():\n",
    "    if isinstance(data, (list, tuple, np.ndarray)):\n",
    "        new_columns = [f\"{column}_{i}\" for i in range(len(data))]\n",
    "        result_df[new_columns] = np.vstack(result_df[column].values)\n",
    "        del result_df[column]\n",
    "        column_group_map |= {nc: column for nc in new_columns}"
   ]
  },
  {
   "cell_type": "code",
   "execution_count": null,
   "id": "e1c7bea0-f7e5-4278-987f-b918f8ce6bc5",
   "metadata": {},
   "outputs": [],
   "source": [
    "result_df = result_df.copy()"
   ]
  },
  {
   "cell_type": "code",
   "execution_count": null,
   "id": "4d7a7659-b29f-4390-82bb-266808e581cc",
   "metadata": {},
   "outputs": [],
   "source": []
  },
  {
   "cell_type": "code",
   "execution_count": null,
   "id": "2b05e5f4-d979-43b0-81c4-68a1b9d7ec86",
   "metadata": {},
   "outputs": [],
   "source": []
  },
  {
   "cell_type": "code",
   "execution_count": null,
   "id": "eb146d6b-4dac-451b-8ed2-951a07d51a9c",
   "metadata": {},
   "outputs": [],
   "source": [
    "score_columns = list(result_df.select_dtypes(exclude=[\"object\"]))\n",
    "score_columns.remove(\"effect_score\")\n",
    "\n",
    "df = result_df.dropna(subset=score_columns + [\"effect_score\"])\n",
    "df = df[df[\"effect_score\"] != 0].reset_index(drop=True)\n",
    "\n",
    "scores = []\n",
    "for col in tqdm(score_columns):\n",
    "    corr = stats.spearmanr(df[\"effect_score\"], df[col])\n",
    "    auc = metrics.roc_auc_score(df[\"effect_score\"] > 0, df[col])\n",
    "    precision = metrics.average_precision_score(df[\"effect_score\"] > 0, df[col])\n",
    "    scores.append(\n",
    "        {\n",
    "            \"column\": col,\n",
    "            \"spearman_rho\": corr[0],\n",
    "            \"auc\": auc,\n",
    "            \"average_precision\": precision,\n",
    "        }\n",
    "    )\n",
    "score_df = pd.DataFrame(scores)\n",
    "\n",
    "score_df"
   ]
  },
  {
   "cell_type": "code",
   "execution_count": null,
   "id": "74cf0efe-d78e-4582-bc73-d4cd964be18d",
   "metadata": {},
   "outputs": [],
   "source": [
    "score_df[\"spearman_rho_adj\"] = score_df[\"spearman_rho\"].abs()\n",
    "score_df[\"auc_adj\"] = np.where(\n",
    "    score_df[\"auc\"] > 0.5,\n",
    "    score_df[\"auc\"],\n",
    "    1 - score_df[\"auc\"],\n",
    ")\n",
    "score_df[\"average_precision_adj\"] = np.where(\n",
    "    score_df[\"average_precision\"] > 0.5,\n",
    "    score_df[\"average_precision\"],\n",
    "    1 - score_df[\"average_precision\"],\n",
    ")"
   ]
  },
  {
   "cell_type": "code",
   "execution_count": null,
   "id": "75b6d89f-0493-485c-a0db-06a6b80ea7b9",
   "metadata": {},
   "outputs": [],
   "source": [
    "score_df[\"column_class\"] = score_df[\"column\"].map(column_group_map)\n",
    "score_df[\"column_class\"] = np.where(\n",
    "    score_df[\"column_class\"].isnull(), score_df[\"column\"], score_df[\"column_class\"]\n",
    ")\n",
    "assert score_df[\"column_class\"].notnull().all()"
   ]
  },
  {
   "cell_type": "code",
   "execution_count": null,
   "id": "3841cccd-85d9-4a47-8521-9c344fbd6d36",
   "metadata": {},
   "outputs": [],
   "source": [
    "score_agg_df = (\n",
    "    score_df.groupby(\"column_class\")\n",
    "    .agg(\"max\")\n",
    "    .sort_values(\"auc_adj\", ascending=False)\n",
    "    .reset_index()\n",
    ")\n",
    "\n",
    "score_agg_df"
   ]
  },
  {
   "cell_type": "code",
   "execution_count": null,
   "id": "feca021d-01d1-4b0a-be04-1b93e08ee20b",
   "metadata": {},
   "outputs": [],
   "source": [
    "output_file = NOTEBOOK_DIR.joinpath(\n",
    "    DATASET_NAME, f\"{ALPHAFOLD_FEATURES_DIR.name}.parquet\"\n",
    ")\n",
    "output_file.parent.mkdir(exist_ok=True)\n",
    "\n",
    "output_file"
   ]
  },
  {
   "cell_type": "code",
   "execution_count": null,
   "id": "f4464108-3f76-4235-ab4a-ab9d96c45d15",
   "metadata": {},
   "outputs": [],
   "source": [
    "pq.write_table(pa.Table.from_pandas(score_agg_df, preserve_index=False), output_file)"
   ]
  },
  {
   "cell_type": "code",
   "execution_count": null,
   "id": "8d3d2d71-0d7d-4f8b-9744-9582e89b3ee1",
   "metadata": {},
   "outputs": [],
   "source": []
  },
  {
   "cell_type": "code",
   "execution_count": null,
   "id": "aa74ac16-6d95-4de9-aa1b-410b5cfc44fc",
   "metadata": {},
   "outputs": [],
   "source": []
  },
  {
   "cell_type": "markdown",
   "id": "2faf71c7-e52e-4472-91df-801257033d9b",
   "metadata": {},
   "source": [
    "## Compare with and without templates"
   ]
  },
  {
   "cell_type": "code",
   "execution_count": null,
   "id": "8d617e9d-9640-475a-95a5-1babc2687f7d",
   "metadata": {},
   "outputs": [],
   "source": [
    "score_agg_otemplates_df = (\n",
    "    pq.read_table(NOTEBOOK_DIR.joinpath(DATASET_NAME, \"run-alphafold-wt.parquet\"))\n",
    "    .to_pandas()\n",
    "    .set_index(\"column_class\")\n",
    ")"
   ]
  },
  {
   "cell_type": "code",
   "execution_count": null,
   "id": "b597abfe-00b4-4c51-923f-c909712918ae",
   "metadata": {},
   "outputs": [],
   "source": [
    "score_agg_xtemplates_df = (\n",
    "    pq.read_table(\n",
    "        NOTEBOOK_DIR.joinpath(DATASET_NAME, \"run-alphafold-wt-template.parquet\")\n",
    "    )\n",
    "    .to_pandas()\n",
    "    .set_index(\"column_class\")\n",
    ")"
   ]
  },
  {
   "cell_type": "code",
   "execution_count": null,
   "id": "56a8ff61-258c-4e81-b505-70ecfccca130",
   "metadata": {},
   "outputs": [],
   "source": []
  },
  {
   "cell_type": "code",
   "execution_count": null,
   "id": "4c5e2107-a323-4854-a5cf-d67d0c591c71",
   "metadata": {},
   "outputs": [],
   "source": [
    "score_agg_otemplates_df.head()"
   ]
  },
  {
   "cell_type": "code",
   "execution_count": null,
   "id": "4bf05122-b4c9-49ed-bf7b-69853c538bd4",
   "metadata": {},
   "outputs": [],
   "source": [
    "score_agg_xtemplates_df.head()"
   ]
  },
  {
   "cell_type": "code",
   "execution_count": null,
   "id": "a91bb3fd-925d-43c4-af07-13633c2f2437",
   "metadata": {},
   "outputs": [],
   "source": []
  },
  {
   "cell_type": "markdown",
   "id": "26709032-874d-4072-8350-621d685879bd",
   "metadata": {},
   "source": [
    "### Make plots"
   ]
  },
  {
   "cell_type": "code",
   "execution_count": null,
   "id": "d0ba2e98-58d3-4df1-8b70-fcbdbf2cf684",
   "metadata": {},
   "outputs": [],
   "source": [
    "column = \"spearman_rho_adj\""
   ]
  },
  {
   "cell_type": "code",
   "execution_count": null,
   "id": "7b45a0d8-c403-4de6-88ed-9521f4ad4e98",
   "metadata": {},
   "outputs": [],
   "source": [
    "name_dict = {\n",
    "    \"spearman_rho_adj\": \"Spearman ρ\",\n",
    "    \"auc_adj\": \"ROC AUC\",\n",
    "    \"average_precision_adj\": \"Average precision\",\n",
    "}"
   ]
  },
  {
   "cell_type": "code",
   "execution_count": null,
   "id": "761735c7-31d9-4f40-9aa7-dbb95e861412",
   "metadata": {},
   "outputs": [],
   "source": [
    "xlim_dict = {\n",
    "    \"spearman_rho_adj\": (0, 0.62),\n",
    "    \"auc_adj\": (0.4, 0.86),\n",
    "    \"average_precision_adj\": (0.4, 0.86),\n",
    "}"
   ]
  },
  {
   "cell_type": "code",
   "execution_count": null,
   "id": "3695f899-ec28-451d-a8eb-f9143247dbad",
   "metadata": {},
   "outputs": [],
   "source": [
    "df = (\n",
    "    score_agg_otemplates_df[\n",
    "        score_agg_otemplates_df.index == score_agg_otemplates_df[\"column\"]\n",
    "    ]\n",
    "    .sort_values(column, ascending=True)\n",
    "    .dropna()\n",
    ")\n",
    "\n",
    "ind = np.arange(len(df))\n",
    "width = 0.35\n",
    "\n",
    "fig, ax = plt.subplots(figsize=(12, 1 + len(df) * 0.3))\n",
    "rects1 = ax.barh(\n",
    "    ind + width / 2,\n",
    "    df[column],\n",
    "    width,\n",
    "    label=\"No structure\",\n",
    ")\n",
    "rects2 = ax.barh(\n",
    "    ind - width / 2,\n",
    "    score_agg_xtemplates_df[column].loc[df.index],\n",
    "    width,\n",
    "    label=\"Structure\",\n",
    ")\n",
    "\n",
    "ax.set_xlabel(name_dict[column])\n",
    "ax.set_yticks(ind)\n",
    "ax.set_yticklabels(df.index)\n",
    "ax.set_ylim(-0.7, len(df) - 0.3)\n",
    "ax.set_xlim(*xlim_dict[column])\n",
    "ax.legend(loc=\"lower right\")\n",
    "\n",
    "fig.subplots_adjust(left=0.38, bottom=0.06, right=0.99, top=0.99)\n",
    "\n",
    "output_file_stem = NOTEBOOK_DIR.joinpath(\n",
    "    f\"{column.replace('_adj', '').replace('_', '-')}-scores-ox-template.png\"\n",
    ")\n",
    "fig.savefig(output_file_stem.with_suffix(\".svg\"), dpi=300)\n",
    "fig.savefig(output_file_stem.with_suffix(\".pdf\"), dpi=300)\n",
    "fig.savefig(output_file_stem.with_suffix(\".png\"), dpi=300)"
   ]
  },
  {
   "cell_type": "code",
   "execution_count": null,
   "id": "0a0050ee-c3c9-4630-9e0a-c2a68622b333",
   "metadata": {},
   "outputs": [],
   "source": [
    "SVG(output_file_stem.with_suffix(\".svg\"))"
   ]
  },
  {
   "cell_type": "code",
   "execution_count": null,
   "id": "51df8075-d1b7-4ea3-8526-6b617e0a9bf5",
   "metadata": {},
   "outputs": [],
   "source": [
    "df = (\n",
    "    score_agg_otemplates_df[\n",
    "        score_agg_otemplates_df.index != score_agg_otemplates_df[\"column\"]\n",
    "    ]\n",
    "    .sort_values(column, ascending=True)\n",
    "    .dropna()\n",
    ")\n",
    "\n",
    "ind = np.arange(len(df))\n",
    "width = 0.35\n",
    "\n",
    "fig, ax = plt.subplots(figsize=(12, 1 + len(df) * 0.3))\n",
    "rects1 = ax.barh(\n",
    "    ind + width / 2,\n",
    "    df[column],\n",
    "    width,\n",
    "    label=\"No structure\",\n",
    ")\n",
    "rects2 = ax.barh(\n",
    "    ind - width / 2,\n",
    "    score_agg_xtemplates_df[column].loc[df.index],\n",
    "    width,\n",
    "    label=\"Structure\",\n",
    ")\n",
    "\n",
    "ax.set_xlabel(name_dict[column])\n",
    "ax.set_yticks(ind)\n",
    "ax.set_yticklabels(df.index)\n",
    "ax.set_ylim(-0.7, len(df) - 0.3)\n",
    "ax.set_xlim(*xlim_dict[column])\n",
    "ax.legend(loc=\"lower right\")\n",
    "\n",
    "fig.subplots_adjust(left=0.38, bottom=0.06, right=0.99, top=0.99)\n",
    "\n",
    "output_file_stem = NOTEBOOK_DIR.joinpath(\n",
    "    f\"{column.replace('_adj', '').replace('_', '-')}-features-ox-template.png\"\n",
    ")\n",
    "fig.savefig(output_file_stem.with_suffix(\".svg\"), dpi=300)\n",
    "fig.savefig(output_file_stem.with_suffix(\".pdf\"), dpi=300)\n",
    "fig.savefig(output_file_stem.with_suffix(\".png\"), dpi=300)"
   ]
  },
  {
   "cell_type": "code",
   "execution_count": null,
   "id": "9dfe9702-c534-4efa-8f6e-28cafeed386a",
   "metadata": {},
   "outputs": [],
   "source": [
    "SVG(output_file_stem.with_suffix(\".svg\"))"
   ]
  },
  {
   "cell_type": "code",
   "execution_count": null,
   "id": "d0b9b543-242b-4c20-bec4-8b7612d52f64",
   "metadata": {},
   "outputs": [],
   "source": []
  }
 ],
 "metadata": {
  "kernelspec": {
   "display_name": "Python 3 (ipykernel)",
   "language": "python",
   "name": "python3"
  },
  "language_info": {
   "codemirror_mode": {
    "name": "ipython",
    "version": 3
   },
   "file_extension": ".py",
   "mimetype": "text/x-python",
   "name": "python",
   "nbconvert_exporter": "python",
   "pygments_lexer": "ipython3",
   "version": "3.9.7"
  }
 },
 "nbformat": 4,
 "nbformat_minor": 5
}
