{
  "nbformat": 4,
  "nbformat_minor": 0,
  "metadata": {
    "colab": {
      "name": "CAGI6 MTHFR results",
      "provenance": [],
      "collapsed_sections": []
    },
    "kernelspec": {
      "name": "python3",
      "display_name": "Python 3"
    },
    "language_info": {
      "name": "python"
    }
  },
  "cells": [
    {
      "cell_type": "markdown",
      "metadata": {
        "id": "8dTjOQqGR9EH"
      },
      "source": [
        "## Summary\n",
        "\n",
        "<https://genomeinterpretation.org/cagi6-mthfr.html>"
      ]
    },
    {
      "cell_type": "markdown",
      "metadata": {
        "id": "7k_uEBFMWmqz"
      },
      "source": [
        "## Google colab"
      ]
    },
    {
      "cell_type": "code",
      "metadata": {
        "colab": {
          "base_uri": "https://localhost:8080/"
        },
        "id": "zMw-RJwvWno7",
        "outputId": "9a4c2426-bab7-4cf1-c378-c818aacf4ceb"
      },
      "source": [
        "try:\n",
        "    import google.colab\n",
        "    GOOGLE_COLAB = True\n",
        "except ImportError:\n",
        "    GOOGLE_COLAB = False\n",
        "    \n",
        "GOOGLE_COLAB"
      ],
      "execution_count": null,
      "outputs": [
        {
          "output_type": "execute_result",
          "data": {
            "text/plain": [
              "True"
            ]
          },
          "metadata": {
            "tags": []
          },
          "execution_count": 1
        }
      ]
    },
    {
      "cell_type": "code",
      "metadata": {
        "colab": {
          "base_uri": "https://localhost:8080/"
        },
        "id": "eh8PFgXUWpsi",
        "outputId": "e6a8288a-e548-41aa-bc4a-158db07ec874"
      },
      "source": [
        "if GOOGLE_COLAB:\n",
        "    from google.colab import drive\n",
        "    drive.mount('/gdrive')"
      ],
      "execution_count": null,
      "outputs": [
        {
          "output_type": "stream",
          "text": [
            "Drive already mounted at /gdrive; to attempt to forcibly remount, call drive.mount(\"/gdrive\", force_remount=True).\n"
          ],
          "name": "stdout"
        }
      ]
    },
    {
      "cell_type": "markdown",
      "metadata": {
        "id": "fH0uhra2WUeD"
      },
      "source": [
        "## Imports"
      ]
    },
    {
      "cell_type": "code",
      "metadata": {
        "id": "Smjs2dndWuHf"
      },
      "source": [
        "import glob\n",
        "import matplotlib.pyplot as plt\n",
        "import urllib.request\n",
        "import zipfile\n",
        "from pathlib import Path\n",
        "\n",
        "import numpy as np\n",
        "import pandas as pd"
      ],
      "execution_count": null,
      "outputs": []
    },
    {
      "cell_type": "markdown",
      "metadata": {
        "id": "9Z8Nw9fYXvbq"
      },
      "source": [
        "## Parameters"
      ]
    },
    {
      "cell_type": "code",
      "metadata": {
        "colab": {
          "base_uri": "https://localhost:8080/"
        },
        "id": "EpbPgrb8Xwbh",
        "outputId": "53836483-ae4c-4925-cfeb-00cb1c0d9bc5"
      },
      "source": [
        "NOTEBOOK_DIR = Path(\"20_cagi6_mthfr\").resolve()\n",
        "NOTEBOOK_DIR.mkdir(exist_ok=True)\n",
        "\n",
        "NOTEBOOK_DIR"
      ],
      "execution_count": null,
      "outputs": [
        {
          "output_type": "execute_result",
          "data": {
            "text/plain": [
              "PosixPath('/content/20_cagi6_mthfr')"
            ]
          },
          "metadata": {
            "tags": []
          },
          "execution_count": 4
        }
      ]
    },
    {
      "cell_type": "markdown",
      "metadata": {
        "id": "AmZo7cQMWypH"
      },
      "source": [
        "## Helper functions"
      ]
    },
    {
      "cell_type": "code",
      "metadata": {
        "id": "_IdVoVvnW0ce"
      },
      "source": [
        "def download(url, filename):\n",
        "    urllib.request.urlretrieve(url, filename)\n",
        "\n",
        "\n",
        "def download_and_unzip(url, output_dir):\n",
        "    zip_path, _ = urllib.request.urlretrieve(url)\n",
        "    with zipfile.ZipFile(zip_path, \"r\") as f:\n",
        "        f.extractall(output_dir)"
      ],
      "execution_count": null,
      "outputs": []
    },
    {
      "cell_type": "code",
      "metadata": {
        "id": "VveG5YEhb22L"
      },
      "source": [
        "def get_min_max(filename):\n",
        "    df = pd.read_csv(NOTEBOOK_DIR.joinpath(filename), names=[\"mut_ref\"])\n",
        "    if \"WT\" in filename:\n",
        "        df[\"aa_wt\"], df[\"aa_pos\"], df[\"aa_mut\"] = (\n",
        "            list(zip(*df[\"mut_ref\"].str.findall(\"^p\\.([a-zA-Z]+)([0-9]+)([a-zA-Z]+)\").str[0]))\n",
        "        )\n",
        "    else:\n",
        "        df[\"aa_wt\"], df[\"aa_pos\"], df[\"aa_mut\"] = (\n",
        "            list(zip(*df[\"mut_ref\"].str.findall(\"^p\\.\\[([a-zA-Z]+)([0-9]+)([a-zA-Z]+)\").str[0]))\n",
        "        )\n",
        "    df[\"aa_pos\"] = df[\"aa_pos\"].astype(int)\n",
        "    return df[\"aa_pos\"].min(), df[\"aa_pos\"].max()"
      ],
      "execution_count": null,
      "outputs": []
    },
    {
      "cell_type": "code",
      "metadata": {
        "id": "nDuUsGrqZ0tC"
      },
      "source": [
        "def distribution_to_score(distribution, seed):\n",
        "    rng = np.random.default_rng(42)\n",
        "\n",
        "    results = []\n",
        "    for bin, count in distribution.items():\n",
        "        low, high = [float(f) for f in bin.strip(\"[]\").split(\";\")]\n",
        "        scores = rng.uniform(low, high, count).tolist()\n",
        "        results.append(scores)\n",
        "    result = np.hstack(results)\n",
        "    result.sort()\n",
        "    return pd.Series(result)"
      ],
      "execution_count": null,
      "outputs": []
    },
    {
      "cell_type": "code",
      "metadata": {
        "id": "jAAQbQcmgsAz"
      },
      "source": [
        "def add_dist_columns(df, columns, scores):\n",
        "    for column in columns:\n",
        "        df = df.sort_values(column).reset_index(drop=True)\n",
        "        df = df.join(scores.rename(f\"{column}_dist\"))\n",
        "    df = df.sort_values([\"aa_pos\", \"mut\"])\n",
        "    return df"
      ],
      "execution_count": null,
      "outputs": []
    },
    {
      "cell_type": "markdown",
      "metadata": {
        "id": "VJ0El-6jWVm5"
      },
      "source": [
        "## Workspace"
      ]
    },
    {
      "cell_type": "markdown",
      "metadata": {
        "id": "QnbyxiqHWW-4"
      },
      "source": [
        "### Download data"
      ]
    },
    {
      "cell_type": "code",
      "metadata": {
        "id": "44yxzJuVSEmm"
      },
      "source": [
        "# Challenge data\n",
        "download_and_unzip(\"https://genomeinterpretation.org/download/mthfrvariants.zip\", NOTEBOOK_DIR)\n",
        "download_and_unzip(\"https://genomeinterpretation.org/download/distributions.zip\", NOTEBOOK_DIR)\n",
        "download_and_unzip(\"https://genomeinterpretation.org/download/mthfrtemplate.zip\", NOTEBOOK_DIR)\n",
        "download(\"https://genomeinterpretation.org/download/mthfrvalidation.py\", NOTEBOOK_DIR.joinpath(\"mthfrvalidation.py\"))"
      ],
      "execution_count": null,
      "outputs": []
    },
    {
      "cell_type": "code",
      "metadata": {
        "colab": {
          "base_uri": "https://localhost:8080/"
        },
        "id": "0Jl54Dmxlcym",
        "outputId": "84e23448-3232-477f-f550-41e33f068e12"
      },
      "source": [
        "!ls {NOTEBOOK_DIR}"
      ],
      "execution_count": null,
      "outputs": [
        {
          "output_type": "stream",
          "text": [
            "cataAV_variants.txt  distributions.csv\tmthfrtemplate\t    reguAV_variants.txt\n",
            "cataWT_variants.txt  __MACOSX\t\tmthfrvalidation.py  reguWT_variants.txt\n"
          ],
          "name": "stdout"
        }
      ]
    },
    {
      "cell_type": "code",
      "metadata": {
        "colab": {
          "base_uri": "https://localhost:8080/"
        },
        "id": "ED0DuFK6kZ0J",
        "outputId": "bfec497b-4beb-4585-85b3-1bb6793d9a24"
      },
      "source": [
        "!ls {NOTEBOOK_DIR}/mthfrtemplate"
      ],
      "execution_count": null,
      "outputs": [
        {
          "output_type": "stream",
          "text": [
            "cataAV_template.tsv  reguAV_template.tsv\n",
            "cataWT_template.tsv  reguWT_template.tsv\n"
          ],
          "name": "stdout"
        }
      ]
    },
    {
      "cell_type": "code",
      "metadata": {
        "colab": {
          "base_uri": "https://localhost:8080/",
          "height": 204
        },
        "id": "qczQ2ZVmkb4f",
        "outputId": "5b9d3187-eb88-4db2-9536-0e24ac408bb2"
      },
      "source": [
        "df = pd.read_csv(NOTEBOOK_DIR / \"mthfrtemplate\" / \"cataWT_template.tsv\", sep=\"\\t\")\n",
        "\n",
        "df.head()"
      ],
      "execution_count": null,
      "outputs": [
        {
          "output_type": "execute_result",
          "data": {
            "text/html": [
              "<div>\n",
              "<style scoped>\n",
              "    .dataframe tbody tr th:only-of-type {\n",
              "        vertical-align: middle;\n",
              "    }\n",
              "\n",
              "    .dataframe tbody tr th {\n",
              "        vertical-align: top;\n",
              "    }\n",
              "\n",
              "    .dataframe thead th {\n",
              "        text-align: right;\n",
              "    }\n",
              "</style>\n",
              "<table border=\"1\" class=\"dataframe\">\n",
              "  <thead>\n",
              "    <tr style=\"text-align: right;\">\n",
              "      <th></th>\n",
              "      <th>AA_substitution</th>\n",
              "      <th>Score</th>\n",
              "      <th>Std</th>\n",
              "      <th>Comment</th>\n",
              "    </tr>\n",
              "  </thead>\n",
              "  <tbody>\n",
              "    <tr>\n",
              "      <th>0</th>\n",
              "      <td>Ala113Arg</td>\n",
              "      <td>*</td>\n",
              "      <td>*</td>\n",
              "      <td>*</td>\n",
              "    </tr>\n",
              "    <tr>\n",
              "      <th>1</th>\n",
              "      <td>Ala113Asn</td>\n",
              "      <td>*</td>\n",
              "      <td>*</td>\n",
              "      <td>*</td>\n",
              "    </tr>\n",
              "    <tr>\n",
              "      <th>2</th>\n",
              "      <td>Ala113Cys</td>\n",
              "      <td>*</td>\n",
              "      <td>*</td>\n",
              "      <td>*</td>\n",
              "    </tr>\n",
              "    <tr>\n",
              "      <th>3</th>\n",
              "      <td>Ala113Glu</td>\n",
              "      <td>*</td>\n",
              "      <td>*</td>\n",
              "      <td>*</td>\n",
              "    </tr>\n",
              "    <tr>\n",
              "      <th>4</th>\n",
              "      <td>Ala113Gly</td>\n",
              "      <td>*</td>\n",
              "      <td>*</td>\n",
              "      <td>*</td>\n",
              "    </tr>\n",
              "  </tbody>\n",
              "</table>\n",
              "</div>"
            ],
            "text/plain": [
              "  AA_substitution Score Std Comment\n",
              "0       Ala113Arg     *   *       *\n",
              "1       Ala113Asn     *   *       *\n",
              "2       Ala113Cys     *   *       *\n",
              "3       Ala113Glu     *   *       *\n",
              "4       Ala113Gly     *   *       *"
            ]
          },
          "metadata": {
            "tags": []
          },
          "execution_count": 12
        }
      ]
    },
    {
      "cell_type": "markdown",
      "metadata": {
        "id": "JW9_KX05bsTk"
      },
      "source": [
        "### Load data"
      ]
    },
    {
      "cell_type": "code",
      "metadata": {
        "colab": {
          "base_uri": "https://localhost:8080/"
        },
        "id": "VO9H9RhQcLhp",
        "outputId": "ca023fcf-722c-4bc4-b8ed-bb979aa41309"
      },
      "source": [
        "get_min_max(\"cataWT_variants.txt\")"
      ],
      "execution_count": null,
      "outputs": [
        {
          "output_type": "execute_result",
          "data": {
            "text/plain": [
              "(2, 336)"
            ]
          },
          "metadata": {
            "tags": []
          },
          "execution_count": 13
        }
      ]
    },
    {
      "cell_type": "code",
      "metadata": {
        "colab": {
          "base_uri": "https://localhost:8080/"
        },
        "id": "xioFAeb0cN_o",
        "outputId": "f4dd316e-ac8b-42fa-986f-214ee55494b0"
      },
      "source": [
        "get_min_max(\"reguWT_variants.txt\")"
      ],
      "execution_count": null,
      "outputs": [
        {
          "output_type": "execute_result",
          "data": {
            "text/plain": [
              "(337, 656)"
            ]
          },
          "metadata": {
            "tags": []
          },
          "execution_count": 14
        }
      ]
    },
    {
      "cell_type": "code",
      "metadata": {
        "colab": {
          "base_uri": "https://localhost:8080/"
        },
        "id": "9C4BJdJEcN2w",
        "outputId": "a32113ec-8194-483d-9995-0afa5db36577"
      },
      "source": [
        "get_min_max(\"cataAV_variants.txt\")"
      ],
      "execution_count": null,
      "outputs": [
        {
          "output_type": "execute_result",
          "data": {
            "text/plain": [
              "(2, 336)"
            ]
          },
          "metadata": {
            "tags": []
          },
          "execution_count": 15
        }
      ]
    },
    {
      "cell_type": "code",
      "metadata": {
        "colab": {
          "base_uri": "https://localhost:8080/"
        },
        "id": "NH-gS1sNcNvZ",
        "outputId": "84cb9930-d998-4c68-e73c-e7d807bde163"
      },
      "source": [
        "get_min_max(\"reguAV_variants.txt\")"
      ],
      "execution_count": null,
      "outputs": [
        {
          "output_type": "execute_result",
          "data": {
            "text/plain": [
              "(337, 656)"
            ]
          },
          "metadata": {
            "tags": []
          },
          "execution_count": 16
        }
      ]
    },
    {
      "cell_type": "code",
      "metadata": {
        "colab": {
          "base_uri": "https://localhost:8080/",
          "height": 111
        },
        "id": "nrxGHW6VgdC4",
        "outputId": "8eaa5cf0-beb8-4627-b006-baf2ad751555"
      },
      "source": [
        "distributions_df = pd.read_csv(NOTEBOOK_DIR / \"distributions.csv\")\n",
        "\n",
        "distributions_df.head(2)"
      ],
      "execution_count": null,
      "outputs": [
        {
          "output_type": "execute_result",
          "data": {
            "text/html": [
              "<div>\n",
              "<style scoped>\n",
              "    .dataframe tbody tr th:only-of-type {\n",
              "        vertical-align: middle;\n",
              "    }\n",
              "\n",
              "    .dataframe tbody tr th {\n",
              "        vertical-align: top;\n",
              "    }\n",
              "\n",
              "    .dataframe thead th {\n",
              "        text-align: right;\n",
              "    }\n",
              "</style>\n",
              "<table border=\"1\" class=\"dataframe\">\n",
              "  <thead>\n",
              "    <tr style=\"text-align: right;\">\n",
              "      <th></th>\n",
              "      <th>bin</th>\n",
              "      <th>catalytic.WT</th>\n",
              "      <th>catalytic.A222V</th>\n",
              "      <th>regulatory.WT</th>\n",
              "      <th>regulatory.A222V</th>\n",
              "    </tr>\n",
              "  </thead>\n",
              "  <tbody>\n",
              "    <tr>\n",
              "      <th>0</th>\n",
              "      <td>[0.00;0.05]</td>\n",
              "      <td>925</td>\n",
              "      <td>1168</td>\n",
              "      <td>127</td>\n",
              "      <td>225</td>\n",
              "    </tr>\n",
              "    <tr>\n",
              "      <th>1</th>\n",
              "      <td>[0.05;0.10]</td>\n",
              "      <td>129</td>\n",
              "      <td>297</td>\n",
              "      <td>12</td>\n",
              "      <td>53</td>\n",
              "    </tr>\n",
              "  </tbody>\n",
              "</table>\n",
              "</div>"
            ],
            "text/plain": [
              "           bin  catalytic.WT  catalytic.A222V  regulatory.WT  regulatory.A222V\n",
              "0  [0.00;0.05]           925             1168            127               225\n",
              "1  [0.05;0.10]           129              297             12                53"
            ]
          },
          "metadata": {
            "tags": []
          },
          "execution_count": 17
        }
      ]
    },
    {
      "cell_type": "markdown",
      "metadata": {
        "id": "3v77UFRuYDxa"
      },
      "source": [
        "### Load results"
      ]
    },
    {
      "cell_type": "code",
      "metadata": {
        "colab": {
          "base_uri": "https://localhost:8080/"
        },
        "id": "J2MEBmFTYX0n",
        "outputId": "121cd98a-b099-4f95-d9bd-cf80e528dcb9"
      },
      "source": [
        "DATA_DIR = Path(\"/gdrive/MyDrive/CAGI6/MTHFR/\").resolve(strict=True)\n",
        "\n",
        "!ls {DATA_DIR}"
      ],
      "execution_count": null,
      "outputs": [
        {
          "output_type": "stream",
          "text": [
            "ostrokach_cataAV_model_1.tsv  variants-a222v-2021-06-19T18-0001-of-0006.csv\n",
            "ostrokach_cataAV_model_2.tsv  variants-a222v-2021-06-19T19-0002-of-0006.csv\n",
            "ostrokach_cataAV_model_3.tsv  variants-a222v-2021-06-19T19-0003-of-0006.csv\n",
            "ostrokach_cataWT_model_1.tsv  variants-a222v-2021-06-19T19-0004-of-0006.csv\n",
            "ostrokach_cataWT_model_2.tsv  variants-a222v-2021-06-19T19-0005-of-0006.csv\n",
            "ostrokach_cataWT_model_3.tsv  variants-a222v-2021-06-19T19-0006-of-0006.csv\n",
            "ostrokach_desc.txt\t      variants-wt-2021-06-19T18-0001-of-0006.csv\n",
            "ostrokach_reguAV_model_1.tsv  variants-wt-2021-06-19T19-0002-of-0006.csv\n",
            "ostrokach_reguAV_model_2.tsv  variants-wt-2021-06-19T19-0003-of-0006.csv\n",
            "ostrokach_reguAV_model_3.tsv  variants-wt-2021-06-19T19-0004-of-0006.csv\n",
            "ostrokach_reguWT_model_1.tsv  variants-wt-2021-06-19T19-0005-of-0006.csv\n",
            "ostrokach_reguWT_model_2.tsv  variants-wt-2021-06-19T19-0006-of-0006.csv\n",
            "ostrokach_reguWT_model_3.tsv\n"
          ],
          "name": "stdout"
        }
      ]
    },
    {
      "cell_type": "code",
      "metadata": {
        "id": "5nDloBnMg-7G"
      },
      "source": [
        "feature_columns = [\"protbert_score\", \"proteinsolver_score\", \"el2_score\"]"
      ],
      "execution_count": null,
      "outputs": []
    },
    {
      "cell_type": "code",
      "metadata": {
        "id": "ikzGcX6AYQD3"
      },
      "source": [
        "files = sorted(DATA_DIR.glob(\"variants-wt-*-of-0006.csv\"))\n",
        "assert len(files) == 6\n",
        "\n",
        "dfs = []\n",
        "for file in files:\n",
        "    df = pd.read_csv(file, sep=\"\\t\")\n",
        "    dfs.append(df)\n",
        "df = pd.concat(dfs, ignore_index=True)\n",
        "df[\"el2_score\"] = -df[\"el2_score\"].values\n",
        "\n",
        "variants_cata_wt_df = add_dist_columns(\n",
        "    df[df[\"aa_pos\"] <= 336],\n",
        "    feature_columns,\n",
        "    distribution_to_score(distributions_df.set_index(\"bin\")[\"catalytic.WT\"], 0)\n",
        ")\n",
        "\n",
        "variants_regu_wt_df = add_dist_columns(\n",
        "    df[df[\"aa_pos\"] >= 337],\n",
        "    feature_columns,\n",
        "    distribution_to_score(distributions_df.set_index(\"bin\")[\"regulatory.WT\"], 1)\n",
        ")"
      ],
      "execution_count": null,
      "outputs": []
    },
    {
      "cell_type": "code",
      "metadata": {
        "id": "f89ToTIBYjdf"
      },
      "source": [
        "files = sorted(DATA_DIR.glob(\"variants-a222v-*-of-0006.csv\"))\n",
        "assert len(files) == 6\n",
        "\n",
        "dfs = []\n",
        "for file in files:\n",
        "    df = pd.read_csv(file, sep=\"\\t\")\n",
        "    dfs.append(df)\n",
        "df = pd.concat(dfs, ignore_index=True)\n",
        "df[\"el2_score\"] = -df[\"el2_score\"].values\n",
        "\n",
        "variants_cata_av_df = add_dist_columns(\n",
        "    df[df[\"aa_pos\"] <= 336],\n",
        "    feature_columns,\n",
        "    distribution_to_score(distributions_df.set_index(\"bin\")[\"catalytic.A222V\"], 2)\n",
        ")\n",
        "\n",
        "variants_regu_av_df = add_dist_columns(\n",
        "    df[df[\"aa_pos\"] >= 337],\n",
        "    feature_columns,\n",
        "    distribution_to_score(distributions_df.set_index(\"bin\")[\"regulatory.A222V\"], 3)\n",
        ")"
      ],
      "execution_count": null,
      "outputs": []
    },
    {
      "cell_type": "markdown",
      "metadata": {
        "id": "f7bIF2ktk6Mh"
      },
      "source": [
        "### Save results"
      ]
    },
    {
      "cell_type": "code",
      "metadata": {
        "id": "Q_LW928OlHCX"
      },
      "source": [
        "def create_result_df(df, column):\n",
        "    df = df.copy()\n",
        "    df[\"Std\"] = 0.25 + 0.75 * (df[\"aa_pos\"] < 39)\n",
        "    df = df[[\"mut_3char\", column, \"Std\"]].rename(columns={\"mut_3char\": \"AA_substitution\", column: \"Score\"}).copy()\n",
        "    df[\"Comment\"] = \"*\"\n",
        "    return df"
      ],
      "execution_count": null,
      "outputs": []
    },
    {
      "cell_type": "code",
      "metadata": {
        "id": "cDIGBU7xk7b9"
      },
      "source": [
        "final_score_columns = [\n",
        "    \"el2_score_dist\", \"proteinsolver_score_dist\", \"protbert_score_dist\",\n",
        "    \"el2_score\", \"proteinsolver_score\", \"protbert_score\",\n",
        "]\n",
        "\n",
        "for idx, column in enumerate(final_score_columns):\n",
        "    _ = (\n",
        "        create_result_df(variants_cata_wt_df, column)\n",
        "        .to_csv(DATA_DIR / f\"ostrokach_cataWT_model_{idx + 1}.tsv\", sep=\"\\t\", index=False)\n",
        "    )\n",
        "    _ = (\n",
        "        create_result_df(variants_cata_av_df, column)\n",
        "        .to_csv(DATA_DIR / f\"ostrokach_cataAV_model_{idx + 1}.tsv\", sep=\"\\t\", index=False)\n",
        "    )\n",
        "    _ = (\n",
        "        create_result_df(variants_regu_wt_df, column)\n",
        "        .to_csv(DATA_DIR / f\"ostrokach_reguWT_model_{idx + 1}.tsv\", sep=\"\\t\", index=False)\n",
        "    )\n",
        "    _ = (\n",
        "        create_result_df(variants_regu_av_df, column)\n",
        "        .to_csv(DATA_DIR / f\"ostrokach_reguAV_model_{idx + 1}.tsv\", sep=\"\\t\", index=False)\n",
        "    )"
      ],
      "execution_count": null,
      "outputs": []
    },
    {
      "cell_type": "code",
      "metadata": {
        "colab": {
          "base_uri": "https://localhost:8080/"
        },
        "id": "bpc8tvPPoL3o",
        "outputId": "19b268d3-15f4-4777-c45c-2fa9dc892563"
      },
      "source": [
        "%%file {DATA_DIR}/ostrokach_desc.txt\n",
        "Predictions were generated using ELASPIC2 (https://gitlab.com/elaspic/elaspic2).\n",
        "\n",
        "They can be reproduced using the following Colab notebook: https://colab.research.google.com/drive/14y0ugw34dD6OwT9Fh6hAKcT2FLUkIPUj?usp=sharing."
      ],
      "execution_count": null,
      "outputs": [
        {
          "output_type": "stream",
          "text": [
            "Overwriting /gdrive/MyDrive/CAGI6/MTHFR/ostrokach_desc.txt\n"
          ],
          "name": "stdout"
        }
      ]
    },
    {
      "cell_type": "markdown",
      "metadata": {
        "id": "hSc54TtKdHXz"
      },
      "source": [
        "### Sanity checks"
      ]
    },
    {
      "cell_type": "code",
      "metadata": {
        "colab": {
          "base_uri": "https://localhost:8080/"
        },
        "id": "ZmWIDfyRpUfl",
        "outputId": "16e5f8ed-3daa-405c-c2c6-c9da2c57ea93"
      },
      "source": [
        "!ls {NOTEBOOK_DIR}"
      ],
      "execution_count": null,
      "outputs": [
        {
          "output_type": "stream",
          "text": [
            "cataAV_variants.txt  distributions.csv\tmthfrtemplate\t    reguAV_variants.txt\n",
            "cataWT_variants.txt  __MACOSX\t\tmthfrvalidation.py  reguWT_variants.txt\n"
          ],
          "name": "stdout"
        }
      ]
    },
    {
      "cell_type": "code",
      "metadata": {
        "colab": {
          "base_uri": "https://localhost:8080/"
        },
        "id": "ZKeSvPmQpW1S",
        "outputId": "2f329f39-861e-4c2a-b7fa-00d12bb079b1"
      },
      "source": [
        "!python {NOTEBOOK_DIR}/mthfrvalidation.py {DATA_DIR}/\"ostrokach_cataWT_model_1.tsv\"\n",
        "!python {NOTEBOOK_DIR}/mthfrvalidation.py {DATA_DIR}/\"ostrokach_cataAV_model_1.tsv\"\n",
        "!python {NOTEBOOK_DIR}/mthfrvalidation.py {DATA_DIR}/\"ostrokach_reguWT_model_1.tsv\"\n",
        "!python {NOTEBOOK_DIR}/mthfrvalidation.py {DATA_DIR}/\"ostrokach_reguAV_model_1.tsv\"\n",
        "\n",
        "!python {NOTEBOOK_DIR}/mthfrvalidation.py {DATA_DIR}/\"ostrokach_cataWT_model_2.tsv\"\n",
        "!python {NOTEBOOK_DIR}/mthfrvalidation.py {DATA_DIR}/\"ostrokach_cataAV_model_2.tsv\"\n",
        "!python {NOTEBOOK_DIR}/mthfrvalidation.py {DATA_DIR}/\"ostrokach_reguWT_model_2.tsv\"\n",
        "!python {NOTEBOOK_DIR}/mthfrvalidation.py {DATA_DIR}/\"ostrokach_reguAV_model_2.tsv\"\n",
        "\n",
        "!python {NOTEBOOK_DIR}/mthfrvalidation.py {DATA_DIR}/\"ostrokach_cataWT_model_3.tsv\"\n",
        "!python {NOTEBOOK_DIR}/mthfrvalidation.py {DATA_DIR}/\"ostrokach_cataAV_model_3.tsv\"\n",
        "!python {NOTEBOOK_DIR}/mthfrvalidation.py {DATA_DIR}/\"ostrokach_reguWT_model_3.tsv\"\n",
        "!python {NOTEBOOK_DIR}/mthfrvalidation.py {DATA_DIR}/\"ostrokach_reguAV_model_3.tsv\""
      ],
      "execution_count": null,
      "outputs": [
        {
          "output_type": "stream",
          "text": [
            "The file's format is valid! You are good to submit now!\n",
            "The file's format is valid! You are good to submit now!\n",
            "The file's format is valid! You are good to submit now!\n",
            "The file's format is valid! You are good to submit now!\n",
            "The file's format is valid! You are good to submit now!\n",
            "The file's format is valid! You are good to submit now!\n",
            "The file's format is valid! You are good to submit now!\n",
            "The file's format is valid! You are good to submit now!\n",
            "The file's format is valid! You are good to submit now!\n",
            "The file's format is valid! You are good to submit now!\n",
            "The file's format is valid! You are good to submit now!\n",
            "The file's format is valid! You are good to submit now!\n"
          ],
          "name": "stdout"
        }
      ]
    },
    {
      "cell_type": "code",
      "metadata": {
        "colab": {
          "base_uri": "https://localhost:8080/",
          "height": 282
        },
        "id": "T5pd7Fn-trY8",
        "outputId": "7a5d55ae-38e8-48ef-e0ea-016b2cf9f66b"
      },
      "source": [
        "plt.plot(variants_cata_wt_df[\"el2_score\"], variants_cata_wt_df[\"el2_score_dist\"], 'r.')"
      ],
      "execution_count": null,
      "outputs": [
        {
          "output_type": "execute_result",
          "data": {
            "text/plain": [
              "[<matplotlib.lines.Line2D at 0x7f1aef5c2290>]"
            ]
          },
          "metadata": {
            "tags": []
          },
          "execution_count": 40
        },
        {
          "output_type": "display_data",
          "data": {
            "image/png": "[encoded data removed]",
            "text/plain": [
              "<Figure size 432x288 with 1 Axes>"
            ]
          },
          "metadata": {
            "tags": [],
            "needs_background": "light"
          }
        }
      ]
    },
    {
      "cell_type": "code",
      "metadata": {
        "colab": {
          "base_uri": "https://localhost:8080/",
          "height": 1000
        },
        "id": "IlPI2uGodKWy",
        "outputId": "440a25a7-8478-4bf6-912d-406690615b52"
      },
      "source": [
        "for column_ref in feature_columns:\n",
        "    for column in [column_ref, f\"{column_ref}_dist\"]:\n",
        "        fig, axs = plt.subplots(1, 2, figsize=(12, 4))\n",
        "\n",
        "        ax = axs[0]\n",
        "        ax.plot(variants_cata_wt_df[column], variants_cata_av_df[column], 'r.')\n",
        "        ax.set_xlabel(\"WT\")\n",
        "        ax.set_ylabel(\"AV\")\n",
        "        ax.set_title(f\"{column} cata\")\n",
        "\n",
        "        ax = axs[1]\n",
        "        ax.plot(variants_regu_wt_df[column], variants_regu_av_df[column], 'r.')\n",
        "        ax.set_xlabel(\"WT\")\n",
        "        ax.set_ylabel(\"AV\")\n",
        "        ax.set_title(f\"{column} regu\")"
      ],
      "execution_count": null,
      "outputs": [
        {
          "output_type": "display_data",
          "data": {
            "image/png": "[encoded data removed]",
            "text/plain": [
              "<Figure size 864x288 with 2 Axes>"
            ]
          },
          "metadata": {
            "tags": [],
            "needs_background": "light"
          }
        },
        {
          "output_type": "display_data",
          "data": {
            "image/png": "[encoded data removed]",
            "text/plain": [
              "<Figure size 864x288 with 2 Axes>"
            ]
          },
          "metadata": {
            "tags": [],
            "needs_background": "light"
          }
        },
        {
          "output_type": "display_data",
          "data": {
            "image/png": "[encoded data removed]",
            "text/plain": [
              "<Figure size 864x288 with 2 Axes>"
            ]
          },
          "metadata": {
            "tags": [],
            "needs_background": "light"
          }
        },
        {
          "output_type": "display_data",
          "data": {
            "image/png": "[encoded data removed]",
            "text/plain": [
              "<Figure size 864x288 with 2 Axes>"
            ]
          },
          "metadata": {
            "tags": [],
            "needs_background": "light"
          }
        },
        {
          "output_type": "display_data",
          "data": {
            "image/png": "[encoded data removed]",
            "text/plain": [
              "<Figure size 864x288 with 2 Axes>"
            ]
          },
          "metadata": {
            "tags": [],
            "needs_background": "light"
          }
        },
        {
          "output_type": "display_data",
          "data": {
            "image/png": "[encoded data removed]",
            "text/plain": [
              "<Figure size 864x288 with 2 Axes>"
            ]
          },
          "metadata": {
            "tags": [],
            "needs_background": "light"
          }
        }
      ]
    },
    {
      "cell_type": "code",
      "metadata": {
        "id": "ms4PqO66nyga"
      },
      "source": [
        ""
      ],
      "execution_count": null,
      "outputs": []
    }
  ]
}