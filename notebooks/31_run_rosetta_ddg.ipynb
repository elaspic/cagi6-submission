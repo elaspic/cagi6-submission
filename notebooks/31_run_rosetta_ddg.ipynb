{
 "cells": [
  {
   "cell_type": "markdown",
   "metadata": {},
   "source": [
    "## Summary\n",
    "\n",
    "Calculate features using [ProtBert](https://github.com/agemagician/ProtTrans).\n",
    "\n",
    "```bash\n",
    "export NOTEBOOK_PATH=\"$(realpath 31_run_rosetta_ddg.ipynb)\"\n",
    "\n",
    "export DATASET_NAME=\"cagi6-sherloc\"\n",
    "export DATASET_PATH=\"30_cagi6_sherloc/input-data-gby-protein.parquet\"\n",
    "export ORIGINAL_ARRAY_TASK_COUNT=4182\n",
    "\n",
    "sbatch --export DATASET_NAME,DATASET_PATH,NOTEBOOK_PATH,ORIGINAL_ARRAY_TASK_COUNT --array=1-3500 --gres=gpu:t4:1 ../scripts/run_notebook_gpu.sh\n",
    "\n",
    "sbatch --export DATASET_NAME,DATASET_PATH,NOTEBOOK_PATH,ORIGINAL_ARRAY_TASK_COUNT --array=181-200 --gres=gpu:v100:1 ../scripts/run_notebook_gpu.sh\n",
    "\n",
    "sbatch --export DATASET_NAME,DATASET_PATH,NOTEBOOK_PATH,ORIGINAL_ARRAY_TASK_COUNT --array=201-306 ../scripts/run_notebook_cpu.sh\n",
    "```\n",
    "\n",
    "---"
   ]
  },
  {
   "cell_type": "markdown",
   "metadata": {},
   "source": [
    "## Imports"
   ]
  },
  {
   "cell_type": "code",
   "execution_count": 1,
   "metadata": {},
   "outputs": [
    {
     "name": "stderr",
     "output_type": "stream",
     "text": [
      "Warning: importing 'simtk.openmm' is deprecated.  Import 'openmm' instead.\n"
     ]
    }
   ],
   "source": [
    "import concurrent.futures\n",
    "import itertools\n",
    "import os\n",
    "import re\n",
    "import socket\n",
    "import subprocess\n",
    "import sys\n",
    "import tempfile\n",
    "from pathlib import Path\n",
    "\n",
    "import kmbio\n",
    "import numpy as np\n",
    "import pandas as pd\n",
    "import pyarrow as pa\n",
    "import pyarrow.parquet as pq\n",
    "from elaspic2.plugins.rosetta_ddg import RosettaDDG\n",
    "from kmbio import PDB\n",
    "from tqdm.notebook import tqdm"
   ]
  },
  {
   "cell_type": "markdown",
   "metadata": {},
   "source": [
    "## Parameters"
   ]
  },
  {
   "cell_type": "code",
   "execution_count": 2,
   "metadata": {},
   "outputs": [
    {
     "data": {
      "text/plain": [
       "PosixPath('/scratch/strokach/workspace/elaspic2-cagi6/notebooks/31_run_rosetta_ddg')"
      ]
     },
     "execution_count": 2,
     "metadata": {},
     "output_type": "execute_result"
    }
   ],
   "source": [
    "NOTEBOOK_DIR = Path(\"31_run_rosetta_ddg\").resolve()\n",
    "NOTEBOOK_DIR.mkdir(exist_ok=True)\n",
    "\n",
    "NOTEBOOK_DIR"
   ]
  },
  {
   "cell_type": "code",
   "execution_count": 3,
   "metadata": {},
   "outputs": [
    {
     "name": "stdout",
     "output_type": "stream",
     "text": [
      "/tmp\n"
     ]
    }
   ],
   "source": [
    "if (slurm_tmpdir := os.getenv(\"SLURM_TMPDIR\")) is not None:\n",
    "    os.environ[\"TMPDIR\"] = slurm_tmpdir\n",
    "    \n",
    "print(tempfile.gettempdir())"
   ]
  },
  {
   "cell_type": "code",
   "execution_count": 4,
   "metadata": {},
   "outputs": [
    {
     "data": {
      "text/plain": [
       "4"
      ]
     },
     "execution_count": 4,
     "metadata": {},
     "output_type": "execute_result"
    }
   ],
   "source": [
    "if \"scinet\" in socket.gethostname():\n",
    "    CPU_COUNT = 40\n",
    "else:\n",
    "    CPU_COUNT = max(1, len(os.sched_getaffinity(0)))\n",
    "\n",
    "# CPU_COUNT = max(1, CPU_COUNT // 2)\n",
    "\n",
    "CPU_COUNT"
   ]
  },
  {
   "cell_type": "code",
   "execution_count": 5,
   "metadata": {},
   "outputs": [
    {
     "data": {
      "text/plain": [
       "(None, None, None, None)"
      ]
     },
     "execution_count": 5,
     "metadata": {},
     "output_type": "execute_result"
    }
   ],
   "source": [
    "DATASET_NAME = os.getenv(\"DATASET_NAME\")\n",
    "DATASET_PATH = os.getenv(\"DATASET_PATH\")\n",
    "TASK_ID = os.getenv(\"SLURM_ARRAY_TASK_ID\")\n",
    "TASK_COUNT = os.getenv(\"ORIGINAL_ARRAY_TASK_COUNT\") or os.getenv(\"SLURM_ARRAY_TASK_COUNT\")\n",
    "\n",
    "TASK_ID = int(TASK_ID) if TASK_ID is not None else None\n",
    "TASK_COUNT = int(TASK_COUNT) if TASK_COUNT is not None else None\n",
    "\n",
    "DATASET_NAME, DATASET_PATH, TASK_ID, TASK_COUNT"
   ]
  },
  {
   "cell_type": "code",
   "execution_count": 6,
   "metadata": {},
   "outputs": [
    {
     "data": {
      "text/plain": [
       "('cagi6-sherloc',\n",
       " '/scratch/strokach/workspace/elaspic2-cagi6/notebooks/30_cagi6_sherloc/input-data-gby-protein.parquet',\n",
       " 1,\n",
       " 4182)"
      ]
     },
     "execution_count": 6,
     "metadata": {},
     "output_type": "execute_result"
    }
   ],
   "source": [
    "DEBUG = TASK_ID is None\n",
    "\n",
    "if DEBUG:\n",
    "    DATASET_NAME = \"cagi6-sherloc\"\n",
    "    DATASET_PATH = str(\n",
    "        NOTEBOOK_DIR.parent.joinpath(\"30_cagi6_sherloc\", \"input-data-gby-protein.parquet\")\n",
    "    )\n",
    "    TASK_ID = 1\n",
    "    TASK_COUNT = 4182\n",
    "else:\n",
    "    assert DATASET_NAME is not None\n",
    "    assert DATASET_PATH is not None\n",
    "    assert TASK_ID is not None\n",
    "    assert TASK_COUNT is not None\n",
    "    DATASET_PATH = Path(DATASET_PATH).expanduser().resolve()\n",
    "\n",
    "DATASET_NAME, DATASET_PATH, TASK_ID, TASK_COUNT"
   ]
  },
  {
   "cell_type": "markdown",
   "metadata": {},
   "source": [
    "## Workspace"
   ]
  },
  {
   "cell_type": "markdown",
   "metadata": {},
   "source": [
    "### Load data"
   ]
  },
  {
   "cell_type": "code",
   "execution_count": 8,
   "metadata": {},
   "outputs": [
    {
     "data": {
      "text/plain": [
       "4182"
      ]
     },
     "execution_count": 8,
     "metadata": {},
     "output_type": "execute_result"
    }
   ],
   "source": [
    "pfile = pq.ParquetFile(DATASET_PATH)\n",
    "\n",
    "pfile.num_row_groups"
   ]
  },
  {
   "cell_type": "code",
   "execution_count": 9,
   "metadata": {},
   "outputs": [],
   "source": [
    "assert TASK_COUNT == pfile.num_row_groups"
   ]
  },
  {
   "cell_type": "code",
   "execution_count": 10,
   "metadata": {},
   "outputs": [],
   "source": [
    "input_df = pfile.read_row_group(TASK_ID - 1).to_pandas(integer_object_nulls=True)"
   ]
  },
  {
   "cell_type": "code",
   "execution_count": 11,
   "metadata": {},
   "outputs": [
    {
     "data": {
      "text/html": [
       "<div>\n",
       "<style scoped>\n",
       "    .dataframe tbody tr th:only-of-type {\n",
       "        vertical-align: middle;\n",
       "    }\n",
       "\n",
       "    .dataframe tbody tr th {\n",
       "        vertical-align: top;\n",
       "    }\n",
       "\n",
       "    .dataframe thead th {\n",
       "        text-align: right;\n",
       "    }\n",
       "</style>\n",
       "<table border=\"1\" class=\"dataframe\">\n",
       "  <thead>\n",
       "    <tr style=\"text-align: right;\">\n",
       "      <th></th>\n",
       "      <th>protein_id</th>\n",
       "      <th>mutation_id</th>\n",
       "      <th>mutation</th>\n",
       "      <th>effect</th>\n",
       "      <th>sequence</th>\n",
       "      <th>structure</th>\n",
       "      <th>alignment</th>\n",
       "    </tr>\n",
       "  </thead>\n",
       "  <tbody>\n",
       "    <tr>\n",
       "      <th>0</th>\n",
       "      <td>P26678</td>\n",
       "      <td>[NM_002667.3:c.25C&gt;T, NM_002667.3:c.22A&gt;C, NM_...</td>\n",
       "      <td>[R9C, T8P, F32S, P21T, R25C, R25H, I38T, F32S,...</td>\n",
       "      <td>[Pathogenic, Uncertain significance, None, Unc...</td>\n",
       "      <td>MEKVQYLTRSAIRRASTIEMPQQARQKLQNLFINFCLILICLLLIC...</td>\n",
       "      <td>HEADER                                        ...</td>\n",
       "      <td>[&gt;101\\n, MEKVQYLTRSAIRRASTIEMPQQARQKLQNLFINFCL...</td>\n",
       "    </tr>\n",
       "  </tbody>\n",
       "</table>\n",
       "</div>"
      ],
      "text/plain": [
       "  protein_id                                        mutation_id  \\\n",
       "0     P26678  [NM_002667.3:c.25C>T, NM_002667.3:c.22A>C, NM_...   \n",
       "\n",
       "                                            mutation  \\\n",
       "0  [R9C, T8P, F32S, P21T, R25C, R25H, I38T, F32S,...   \n",
       "\n",
       "                                              effect  \\\n",
       "0  [Pathogenic, Uncertain significance, None, Unc...   \n",
       "\n",
       "                                            sequence  \\\n",
       "0  MEKVQYLTRSAIRRASTIEMPQQARQKLQNLFINFCLILICLLLIC...   \n",
       "\n",
       "                                           structure  \\\n",
       "0  HEADER                                        ...   \n",
       "\n",
       "                                           alignment  \n",
       "0  [>101\\n, MEKVQYLTRSAIRRASTIEMPQQARQKLQNLFINFCL...  "
      ]
     },
     "metadata": {},
     "output_type": "display_data"
    },
    {
     "name": "stdout",
     "output_type": "stream",
     "text": [
      "1\n"
     ]
    }
   ],
   "source": [
    "display(input_df.head(2))\n",
    "print(len(input_df))"
   ]
  },
  {
   "cell_type": "code",
   "execution_count": 12,
   "metadata": {},
   "outputs": [
    {
     "data": {
      "text/plain": [
       "['mutation_id', 'mutation', 'effect']"
      ]
     },
     "execution_count": 12,
     "metadata": {},
     "output_type": "execute_result"
    }
   ],
   "source": [
    "tup = next(input_df.itertuples(index=False))\n",
    "\n",
    "iterable_fields = []\n",
    "for field in tup._fields:\n",
    "    try:\n",
    "        if len(getattr(tup, field)) == len(tup.mutation):\n",
    "            iterable_fields.append(field)\n",
    "    except TypeError:\n",
    "        pass\n",
    "\n",
    "iterable_fields"
   ]
  },
  {
   "cell_type": "code",
   "execution_count": 13,
   "metadata": {},
   "outputs": [],
   "source": [
    "if DEBUG:\n",
    "    for field in iterable_fields:\n",
    "        input_df[field] = input_df[field].str[:3]"
   ]
  },
  {
   "cell_type": "markdown",
   "metadata": {},
   "source": [
    "### Score mutations"
   ]
  },
  {
   "cell_type": "code",
   "execution_count": 14,
   "metadata": {},
   "outputs": [],
   "source": [
    "def validate_mutation(mutation):\n",
    "    aa = \"GVALICMFWPDESTYQNKRH\"\n",
    "    if re.search(f\"^[{aa}][1-9]+[0-9]*[{aa}]$\", mutation) is None:\n",
    "        print(f\"Skipping mutation {mutation} because it appears to be malformed.\")\n",
    "        return False\n",
    "\n",
    "    if mutation[0] == mutation[-1]:\n",
    "        print(\n",
    "            f\"Skipping mutation {mutation} because the wildtype and mutant residues are the same.\"\n",
    "        )\n",
    "        return False\n",
    "\n",
    "    return True"
   ]
  },
  {
   "cell_type": "code",
   "execution_count": 15,
   "metadata": {},
   "outputs": [],
   "source": [
    "def worker(mutation, data):\n",
    "    if not validate_mutation(mutation):\n",
    "        return None\n",
    "\n",
    "    try:\n",
    "        results = RosettaDDG.analyze_mutation(f\"A_{mutation}\", data)\n",
    "    except ProtBertAnalyzeError as error:\n",
    "        print(f\"{error!r}\")\n",
    "        return None\n",
    "    else:\n",
    "        results = {f\"rosetta_{key}\": value for key, value in results.items()}\n",
    "        return results"
   ]
  },
  {
   "cell_type": "code",
   "execution_count": 16,
   "metadata": {},
   "outputs": [
    {
     "data": {
      "application/vnd.jupyter.widget-view+json": {
       "model_id": "f3842c9ef48e442cbc190aa9737bbdc9",
       "version_major": 2,
       "version_minor": 0
      },
      "text/plain": [
       "HBox(children=(HTML(value=''), FloatProgress(value=0.0, max=1.0), HTML(value='')))"
      ]
     },
     "metadata": {},
     "output_type": "display_data"
    },
    {
     "data": {
      "application/vnd.jupyter.widget-view+json": {
       "model_id": "",
       "version_major": 2,
       "version_minor": 0
      },
      "text/plain": [
       "HBox(children=(HTML(value=''), FloatProgress(value=0.0, max=3.0), HTML(value='')))"
      ]
     },
     "metadata": {},
     "output_type": "display_data"
    },
    {
     "name": "stdout",
     "output_type": "stream",
     "text": [
      "\n"
     ]
    }
   ],
   "source": [
    "results = []\n",
    "for tup in tqdm(input_df.itertuples(index=False), total=len(input_df)):\n",
    "    assert all([(len(getattr(tup, field)) == len(tup.mutation)) for field in iterable_fields])\n",
    "\n",
    "    with tempfile.NamedTemporaryFile(suffix=\".pdb\") as tmp_file:\n",
    "        with open(tmp_file.name, \"wt\") as fout:\n",
    "            fout.write(tup.structure)\n",
    "        data = RosettaDDG.build(\n",
    "            tmp_file.name, protocol=\"cartesian_ddg\", energy_function=\"beta_nov16_cart\", interface=0\n",
    "        )\n",
    "\n",
    "    with concurrent.futures.ProcessPoolExecutor(CPU_COUNT) as pool:\n",
    "        result_list = list(\n",
    "            tqdm(\n",
    "                pool.map(worker, tup.mutation, itertools.repeat(data)),\n",
    "                total=len(tup.mutation),\n",
    "                leave=False,\n",
    "            )\n",
    "        )\n",
    "\n",
    "    for mutation_idx, (mutation, result) in enumerate(zip(tup.mutation, result_list)):\n",
    "        if result is None:\n",
    "            continue\n",
    "\n",
    "        results.append(\n",
    "            {\n",
    "                \"protein_id\": tup.protein_id,\n",
    "                \"mutation\": mutation,\n",
    "            }\n",
    "            | {field: getattr(tup, field)[mutation_idx] for field in iterable_fields}\n",
    "            | result\n",
    "        )\n",
    "\n",
    "results_df = pd.DataFrame(results)"
   ]
  },
  {
   "cell_type": "code",
   "execution_count": 17,
   "metadata": {},
   "outputs": [
    {
     "data": {
      "text/html": [
       "<div>\n",
       "<style scoped>\n",
       "    .dataframe tbody tr th:only-of-type {\n",
       "        vertical-align: middle;\n",
       "    }\n",
       "\n",
       "    .dataframe tbody tr th {\n",
       "        vertical-align: top;\n",
       "    }\n",
       "\n",
       "    .dataframe thead th {\n",
       "        text-align: right;\n",
       "    }\n",
       "</style>\n",
       "<table border=\"1\" class=\"dataframe\">\n",
       "  <thead>\n",
       "    <tr style=\"text-align: right;\">\n",
       "      <th></th>\n",
       "      <th>protein_id</th>\n",
       "      <th>mutation</th>\n",
       "      <th>mutation_id</th>\n",
       "      <th>effect</th>\n",
       "      <th>rosetta_cart_bonded_wt</th>\n",
       "      <th>rosetta_rama_prepro_wt</th>\n",
       "      <th>rosetta_ref_wt</th>\n",
       "      <th>rosetta_hxl_tors_wt</th>\n",
       "      <th>rosetta_p_aa_pp_wt</th>\n",
       "      <th>rosetta_fa_dun_semi_wt</th>\n",
       "      <th>...</th>\n",
       "      <th>rosetta_lk_ball_bridge_change</th>\n",
       "      <th>rosetta_lk_ball_iso_change</th>\n",
       "      <th>rosetta_lk_ball_change</th>\n",
       "      <th>rosetta_fa_intra_sol_xover4_change</th>\n",
       "      <th>rosetta_fa_intra_rep_xover4_change</th>\n",
       "      <th>rosetta_fa_intra_atr_xover4_change</th>\n",
       "      <th>rosetta_fa_sol_change</th>\n",
       "      <th>rosetta_fa_rep_change</th>\n",
       "      <th>rosetta_fa_atr_change</th>\n",
       "      <th>rosetta_dg_change</th>\n",
       "    </tr>\n",
       "  </thead>\n",
       "  <tbody>\n",
       "    <tr>\n",
       "      <th>0</th>\n",
       "      <td>P26678</td>\n",
       "      <td>R9C</td>\n",
       "      <td>NM_002667.3:c.25C&gt;T</td>\n",
       "      <td>Pathogenic</td>\n",
       "      <td>34.792333</td>\n",
       "      <td>18.084333</td>\n",
       "      <td>13.08</td>\n",
       "      <td>5.893000</td>\n",
       "      <td>-4.872667</td>\n",
       "      <td>33.822667</td>\n",
       "      <td>...</td>\n",
       "      <td>0.033</td>\n",
       "      <td>1.416333</td>\n",
       "      <td>0.055667</td>\n",
       "      <td>-0.028333</td>\n",
       "      <td>-0.145000</td>\n",
       "      <td>0.244333</td>\n",
       "      <td>-4.022000</td>\n",
       "      <td>0.069333</td>\n",
       "      <td>2.079667</td>\n",
       "      <td>3.580</td>\n",
       "    </tr>\n",
       "    <tr>\n",
       "      <th>1</th>\n",
       "      <td>P26678</td>\n",
       "      <td>T8P</td>\n",
       "      <td>NM_002667.3:c.22A&gt;C</td>\n",
       "      <td>Uncertain significance</td>\n",
       "      <td>35.520333</td>\n",
       "      <td>17.848667</td>\n",
       "      <td>13.08</td>\n",
       "      <td>9.370333</td>\n",
       "      <td>-5.058000</td>\n",
       "      <td>33.547333</td>\n",
       "      <td>...</td>\n",
       "      <td>0.042</td>\n",
       "      <td>2.059667</td>\n",
       "      <td>-0.775000</td>\n",
       "      <td>-0.533667</td>\n",
       "      <td>-0.242333</td>\n",
       "      <td>0.831000</td>\n",
       "      <td>-3.637667</td>\n",
       "      <td>6.683667</td>\n",
       "      <td>-0.612667</td>\n",
       "      <td>20.531</td>\n",
       "    </tr>\n",
       "  </tbody>\n",
       "</table>\n",
       "<p>2 rows × 58 columns</p>\n",
       "</div>"
      ],
      "text/plain": [
       "  protein_id mutation          mutation_id                  effect  \\\n",
       "0     P26678      R9C  NM_002667.3:c.25C>T              Pathogenic   \n",
       "1     P26678      T8P  NM_002667.3:c.22A>C  Uncertain significance   \n",
       "\n",
       "   rosetta_cart_bonded_wt  rosetta_rama_prepro_wt  rosetta_ref_wt  \\\n",
       "0               34.792333               18.084333           13.08   \n",
       "1               35.520333               17.848667           13.08   \n",
       "\n",
       "   rosetta_hxl_tors_wt  rosetta_p_aa_pp_wt  rosetta_fa_dun_semi_wt  ...  \\\n",
       "0             5.893000           -4.872667               33.822667  ...   \n",
       "1             9.370333           -5.058000               33.547333  ...   \n",
       "\n",
       "   rosetta_lk_ball_bridge_change  rosetta_lk_ball_iso_change  \\\n",
       "0                          0.033                    1.416333   \n",
       "1                          0.042                    2.059667   \n",
       "\n",
       "   rosetta_lk_ball_change  rosetta_fa_intra_sol_xover4_change  \\\n",
       "0                0.055667                           -0.028333   \n",
       "1               -0.775000                           -0.533667   \n",
       "\n",
       "   rosetta_fa_intra_rep_xover4_change  rosetta_fa_intra_atr_xover4_change  \\\n",
       "0                           -0.145000                            0.244333   \n",
       "1                           -0.242333                            0.831000   \n",
       "\n",
       "   rosetta_fa_sol_change  rosetta_fa_rep_change  rosetta_fa_atr_change  \\\n",
       "0              -4.022000               0.069333               2.079667   \n",
       "1              -3.637667               6.683667              -0.612667   \n",
       "\n",
       "   rosetta_dg_change  \n",
       "0              3.580  \n",
       "1             20.531  \n",
       "\n",
       "[2 rows x 58 columns]"
      ]
     },
     "metadata": {},
     "output_type": "display_data"
    },
    {
     "name": "stdout",
     "output_type": "stream",
     "text": [
      "3\n"
     ]
    }
   ],
   "source": [
    "display(results_df.head(2))\n",
    "print(len(results_df))"
   ]
  },
  {
   "cell_type": "markdown",
   "metadata": {},
   "source": [
    "### Save results"
   ]
  },
  {
   "cell_type": "code",
   "execution_count": 18,
   "metadata": {},
   "outputs": [
    {
     "data": {
      "text/plain": [
       "PosixPath('/scratch/strokach/workspace/elaspic2-cagi6/notebooks/31_run_rosetta_ddg/cagi6-sherloc/shard-1-of-4182.parquet')"
      ]
     },
     "execution_count": 18,
     "metadata": {},
     "output_type": "execute_result"
    }
   ],
   "source": [
    "output_file = NOTEBOOK_DIR.joinpath(DATASET_NAME, f\"shard-{TASK_ID}-of-{TASK_COUNT}.parquet\")\n",
    "output_file.parent.mkdir(exist_ok=True)\n",
    "\n",
    "output_file"
   ]
  },
  {
   "cell_type": "code",
   "execution_count": 19,
   "metadata": {},
   "outputs": [],
   "source": [
    "if not DEBUG:\n",
    "    pq.write_table(pa.Table.from_pandas(results_df, preserve_index=False), output_file)"
   ]
  },
  {
   "cell_type": "code",
   "execution_count": null,
   "metadata": {},
   "outputs": [],
   "source": []
  }
 ],
 "metadata": {
  "kernelspec": {
   "display_name": "Python 3 (ipykernel)",
   "language": "python",
   "name": "python3"
  },
  "language_info": {
   "codemirror_mode": {
    "name": "ipython",
    "version": 3
   },
   "file_extension": ".py",
   "mimetype": "text/x-python",
   "name": "python",
   "nbconvert_exporter": "python",
   "pygments_lexer": "ipython3",
   "version": "3.9.6"
  }
 },
 "nbformat": 4,
 "nbformat_minor": 4
}
