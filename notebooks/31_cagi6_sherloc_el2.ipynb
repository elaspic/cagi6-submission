{
 "cells": [
  {
   "cell_type": "markdown",
   "id": "8a9e65f1-c0c2-4643-ae2b-9229c3bea04b",
   "metadata": {},
   "source": [
    "## Summary\n",
    "\n",
    "```bash\n",
    "NOTEBOOK_PATH=\"$(realpath 31_cagi6_sherloc_el2.ipynb)\" ORIGINAL_ARRAY_TASK_COUNT=421 sbatch --array=1-180 --gres=gpu:t4:1 ../scripts/run_notebook_gpu.sh\n",
    "\n",
    "NOTEBOOK_PATH=\"$(realpath 31_cagi6_sherloc_el2.ipynb)\" ORIGINAL_ARRAY_TASK_COUNT=421 sbatch --array=181-200 --gres=gpu:v100:1 ../scripts/run_notebook_gpu.sh\n",
    "\n",
    "NOTEBOOK_PATH=\"$(realpath 31_cagi6_sherloc_el2.ipynb)\" ORIGINAL_ARRAY_TASK_COUNT=421 sbatch --array=201-306 ../scripts/run_notebook_cpu.sh\n",
    "```\n",
    "\n",
    "---"
   ]
  },
  {
   "cell_type": "markdown",
   "id": "31db3e3c-d128-4a9c-8d7f-f5d2efe512c6",
   "metadata": {},
   "source": [
    "## Imports"
   ]
  },
  {
   "cell_type": "code",
   "execution_count": 1,
   "id": "a9e27a67-aee0-49af-8f3e-bc6c8dc8eb7d",
   "metadata": {},
   "outputs": [
    {
     "name": "stderr",
     "output_type": "stream",
     "text": [
      "Warning: importing 'simtk.openmm' is deprecated.  Import 'openmm' instead.\n"
     ]
    }
   ],
   "source": [
    "import os\n",
    "import socket\n",
    "import tempfile\n",
    "from pathlib import Path\n",
    "\n",
    "import elaspic2 as el2\n",
    "import pandas as pd\n",
    "import pyarrow as pa\n",
    "import pyarrow.parquet as pq\n",
    "import torch\n",
    "from tqdm.auto import tqdm"
   ]
  },
  {
   "cell_type": "markdown",
   "id": "3ec781be-93c9-495f-b0ff-55fad58e6ff3",
   "metadata": {},
   "source": [
    "## Parameters"
   ]
  },
  {
   "cell_type": "code",
   "execution_count": 2,
   "id": "719e834c-5368-4402-9aab-2ebcb894efc7",
   "metadata": {},
   "outputs": [
    {
     "data": {
      "text/plain": [
       "PosixPath('/project/6008029/strokach/workspace/elaspic2-cagi6/notebooks/31_cagi6_sherloc_el2')"
      ]
     },
     "execution_count": 2,
     "metadata": {},
     "output_type": "execute_result"
    }
   ],
   "source": [
    "NOTEBOOK_DIR = Path(\"31_cagi6_sherloc_el2\").resolve()\n",
    "NOTEBOOK_DIR.mkdir(exist_ok=True)\n",
    "\n",
    "NOTEBOOK_DIR"
   ]
  },
  {
   "cell_type": "code",
   "execution_count": 3,
   "id": "c28ae158-4351-41b6-a9d9-7b5e77009687",
   "metadata": {},
   "outputs": [
    {
     "data": {
      "text/plain": [
       "device(type='cuda')"
      ]
     },
     "execution_count": 3,
     "metadata": {},
     "output_type": "execute_result"
    }
   ],
   "source": [
    "device = torch.device(\"cuda\" if torch.cuda.is_available() else \"cpu\")\n",
    "\n",
    "device"
   ]
  },
  {
   "cell_type": "code",
   "execution_count": 4,
   "id": "cbd3327e-3885-4434-b742-81096af57336",
   "metadata": {},
   "outputs": [
    {
     "data": {
      "text/plain": [
       "PosixPath('/project/6008029/strokach/workspace/elaspic2-cagi6/notebooks')"
      ]
     },
     "execution_count": 4,
     "metadata": {},
     "output_type": "execute_result"
    }
   ],
   "source": [
    "# if \"DATAPKG_OUTPUT_DIR\" in os.environ:\n",
    "#     OUTPUT_DIR = Path(os.getenv(\"DATAPKG_OUTPUT_DIR\")).joinpath(\"elaspic2\").resolve()\n",
    "# else:\n",
    "OUTPUT_DIR = NOTEBOOK_DIR.parent\n",
    "OUTPUT_DIR.mkdir(exist_ok=True)\n",
    "\n",
    "OUTPUT_DIR"
   ]
  },
  {
   "cell_type": "code",
   "execution_count": 5,
   "id": "b78c5372-148f-4eb3-8931-bb876e3198a0",
   "metadata": {},
   "outputs": [
    {
     "name": "stdout",
     "output_type": "stream",
     "text": [
      "/tmp\n"
     ]
    }
   ],
   "source": [
    "if (slurm_tmpdir := os.getenv(\"SLURM_TMPDIR\")) is not None:\n",
    "    os.environ[\"TMPDIR\"] = slurm_tmpdir\n",
    "    \n",
    "print(tempfile.gettempdir())"
   ]
  },
  {
   "cell_type": "code",
   "execution_count": 6,
   "id": "a3106107-d40b-4ac1-8749-bd124e5d0ea9",
   "metadata": {},
   "outputs": [
    {
     "data": {
      "text/plain": [
       "8"
      ]
     },
     "execution_count": 6,
     "metadata": {},
     "output_type": "execute_result"
    }
   ],
   "source": [
    "if \"scinet\" in socket.gethostname():\n",
    "    CPU_COUNT = 40\n",
    "else:\n",
    "    CPU_COUNT = max(1, len(os.sched_getaffinity(0)))\n",
    "\n",
    "# CPU_COUNT = max(1, CPU_COUNT // 2)\n",
    "\n",
    "CPU_COUNT"
   ]
  },
  {
   "cell_type": "code",
   "execution_count": 7,
   "id": "b016409a-12b8-41dd-a134-b9db953d0949",
   "metadata": {},
   "outputs": [
    {
     "data": {
      "text/plain": [
       "(None, None)"
      ]
     },
     "execution_count": 7,
     "metadata": {},
     "output_type": "execute_result"
    }
   ],
   "source": [
    "TASK_ID = os.getenv(\"SLURM_ARRAY_TASK_ID\")\n",
    "TASK_COUNT = os.getenv(\"ORIGINAL_ARRAY_TASK_COUNT\") or os.getenv(\"SLURM_ARRAY_TASK_COUNT\")\n",
    "SUBTASK_ID = os.getenv(\"SUBTASK_ID\")\n",
    "SUBTASK_COUNT = os.getenv(\"SUBTASK_COUNT\")\n",
    "\n",
    "TASK_ID = int(TASK_ID) if TASK_ID is not None else None\n",
    "TASK_COUNT = int(TASK_COUNT) if TASK_COUNT is not None else None\n",
    "SUBTASK_ID = int(SUBTASK_ID) if SUBTASK_ID is not None else None\n",
    "SUBTASK_COUNT = int(SUBTASK_COUNT) if SUBTASK_COUNT is not None else None\n",
    "\n",
    "TASK_ID, TASK_COUNT"
   ]
  },
  {
   "cell_type": "code",
   "execution_count": 8,
   "id": "fbd3b73b-d70f-492d-b6de-c07fad61cb9b",
   "metadata": {},
   "outputs": [
    {
     "data": {
      "text/plain": [
       "(201, 421)"
      ]
     },
     "execution_count": 8,
     "metadata": {},
     "output_type": "execute_result"
    }
   ],
   "source": [
    "DEBUG = TASK_ID is None\n",
    "\n",
    "if DEBUG:\n",
    "    TASK_ID = 201\n",
    "    TASK_COUNT = 421\n",
    "else:\n",
    "    assert TASK_ID is not None\n",
    "    assert TASK_COUNT is not None\n",
    "\n",
    "TASK_ID, TASK_COUNT"
   ]
  },
  {
   "cell_type": "markdown",
   "id": "8f024c8a-3fc4-4dcd-bb0b-b44fd0e3282b",
   "metadata": {},
   "source": [
    "## Load input data"
   ]
  },
  {
   "cell_type": "code",
   "execution_count": 9,
   "id": "aca48c68-6540-48fd-91ac-35629040d405",
   "metadata": {},
   "outputs": [],
   "source": [
    "input_file = NOTEBOOK_DIR.parent.joinpath(\"30_cagi6_sherloc\", \"processed-input-data.parquet\")\n",
    "\n",
    "full_input_df = pq.read_table(input_file).to_pandas()"
   ]
  },
  {
   "cell_type": "code",
   "execution_count": 10,
   "id": "686fadef-dc94-467b-bae4-a2cc33fc742f",
   "metadata": {},
   "outputs": [],
   "source": [
    "full_input_df[\"sequence_length\"] = full_input_df[\"sequence\"].str.len().values\n",
    "full_input_df = full_input_df.sort_values(\"sequence_length\", ascending=True)\n",
    "del full_input_df[\"sequence_length\"]"
   ]
  },
  {
   "cell_type": "code",
   "execution_count": 11,
   "id": "2b1f2abf-f918-49dd-9457-4ed2f2ac94f6",
   "metadata": {},
   "outputs": [
    {
     "data": {
      "text/html": [
       "<div>\n",
       "<style scoped>\n",
       "    .dataframe tbody tr th:only-of-type {\n",
       "        vertical-align: middle;\n",
       "    }\n",
       "\n",
       "    .dataframe tbody tr th {\n",
       "        vertical-align: top;\n",
       "    }\n",
       "\n",
       "    .dataframe thead th {\n",
       "        text-align: right;\n",
       "    }\n",
       "</style>\n",
       "<table border=\"1\" class=\"dataframe\">\n",
       "  <thead>\n",
       "    <tr style=\"text-align: right;\">\n",
       "      <th></th>\n",
       "      <th>uniprot_id</th>\n",
       "      <th>hgvs</th>\n",
       "      <th>mut</th>\n",
       "      <th>interpretation</th>\n",
       "      <th>sequence</th>\n",
       "      <th>structure</th>\n",
       "    </tr>\n",
       "  </thead>\n",
       "  <tbody>\n",
       "    <tr>\n",
       "      <th>755</th>\n",
       "      <td>P26678</td>\n",
       "      <td>[NM_002667.3:c.22A&gt;C, NM_002667.3:c.25C&gt;T, NM_...</td>\n",
       "      <td>[T8P, R9C, R9H, S10L, I12V, I12M, R14I, I18T, ...</td>\n",
       "      <td>[Uncertain significance, Pathogenic, Likely pa...</td>\n",
       "      <td>MEKVQYLTRSAIRRASTIEMPQQARQKLQNLFINFCLILICLLLIC...</td>\n",
       "      <td>HEADER                                        ...</td>\n",
       "    </tr>\n",
       "    <tr>\n",
       "      <th>1239</th>\n",
       "      <td>Q00LT1</td>\n",
       "      <td>[NM_001077620.2:c.13C&gt;G, NM_001077620.2:c.50G&gt;...</td>\n",
       "      <td>[L5V, R17H, R18Q, F19I, R22Q, P25L, D29N, D29H...</td>\n",
       "      <td>[Uncertain significance, Uncertain significanc...</td>\n",
       "      <td>MCTTLFLLSTLAMLWRRRFANRVQPEPSDVDGAARGSSLDADPQSS...</td>\n",
       "      <td>HEADER                                        ...</td>\n",
       "    </tr>\n",
       "  </tbody>\n",
       "</table>\n",
       "</div>"
      ],
      "text/plain": [
       "     uniprot_id                                               hgvs  \\\n",
       "755      P26678  [NM_002667.3:c.22A>C, NM_002667.3:c.25C>T, NM_...   \n",
       "1239     Q00LT1  [NM_001077620.2:c.13C>G, NM_001077620.2:c.50G>...   \n",
       "\n",
       "                                                    mut  \\\n",
       "755   [T8P, R9C, R9H, S10L, I12V, I12M, R14I, I18T, ...   \n",
       "1239  [L5V, R17H, R18Q, F19I, R22Q, P25L, D29N, D29H...   \n",
       "\n",
       "                                         interpretation  \\\n",
       "755   [Uncertain significance, Pathogenic, Likely pa...   \n",
       "1239  [Uncertain significance, Uncertain significanc...   \n",
       "\n",
       "                                               sequence  \\\n",
       "755   MEKVQYLTRSAIRRASTIEMPQQARQKLQNLFINFCLILICLLLIC...   \n",
       "1239  MCTTLFLLSTLAMLWRRRFANRVQPEPSDVDGAARGSSLDADPQSS...   \n",
       "\n",
       "                                              structure  \n",
       "755   HEADER                                        ...  \n",
       "1239  HEADER                                        ...  "
      ]
     },
     "execution_count": 11,
     "metadata": {},
     "output_type": "execute_result"
    }
   ],
   "source": [
    "full_input_df.head(2)"
   ]
  },
  {
   "cell_type": "markdown",
   "id": "6064d795-7ab2-455b-9cb4-7c273058194f",
   "metadata": {},
   "source": [
    "## Select chunk in question"
   ]
  },
  {
   "cell_type": "code",
   "execution_count": 12,
   "id": "9681f715-185a-4a77-9e21-ebdb159a83d4",
   "metadata": {},
   "outputs": [
    {
     "data": {
      "text/plain": [
       "194514"
      ]
     },
     "execution_count": 12,
     "metadata": {},
     "output_type": "execute_result"
    }
   ],
   "source": [
    "num_mutations = full_input_df[\"hgvs\"].apply(len).sum()\n",
    "\n",
    "num_mutations"
   ]
  },
  {
   "cell_type": "code",
   "execution_count": 13,
   "id": "88833c64-2459-4f85-b565-1fe0700d26cb",
   "metadata": {},
   "outputs": [
    {
     "data": {
      "text/plain": [
       "463"
      ]
     },
     "execution_count": 13,
     "metadata": {},
     "output_type": "execute_result"
    }
   ],
   "source": [
    "chunk_size = num_mutations // TASK_COUNT + 1\n",
    "\n",
    "chunk_size"
   ]
  },
  {
   "cell_type": "code",
   "execution_count": 14,
   "id": "27f300e4-480a-4793-be71-a96e200e9eee",
   "metadata": {},
   "outputs": [
    {
     "data": {
      "text/plain": [
       "200"
      ]
     },
     "execution_count": 14,
     "metadata": {},
     "output_type": "execute_result"
    }
   ],
   "source": [
    "chunk_idx = TASK_ID - 1\n",
    "\n",
    "chunk_idx"
   ]
  },
  {
   "cell_type": "code",
   "execution_count": 15,
   "id": "cfa9d92f-f56a-432b-9f76-da3a42f8d15e",
   "metadata": {},
   "outputs": [],
   "source": [
    "def select_chunk(full_input_df, chunk_size, chunk_idx):\n",
    "    chunk_sizes = []\n",
    "    chunk_uniprot_ids = []\n",
    "\n",
    "    is_finished = False\n",
    "    iterator = full_input_df.itertuples()\n",
    "    while not is_finished:\n",
    "        current_size = 0\n",
    "        while current_size < chunk_size:\n",
    "            try:\n",
    "                tup = next(iterator)\n",
    "            except StopIteration:\n",
    "                is_finished = True\n",
    "                break\n",
    "            current_size += len(tup.hgvs)\n",
    "            if len(chunk_sizes) == chunk_idx:\n",
    "                chunk_uniprot_ids.append(tup.uniprot_id)\n",
    "        chunk_sizes.append(current_size)\n",
    "    return chunk_uniprot_ids, chunk_sizes"
   ]
  },
  {
   "cell_type": "code",
   "execution_count": 16,
   "id": "a2663596-ff38-45b5-87dc-524b0925b38d",
   "metadata": {},
   "outputs": [],
   "source": [
    "chunk_uniprot_ids, chunk_sizes = select_chunk(full_input_df, chunk_size, chunk_idx)"
   ]
  },
  {
   "cell_type": "code",
   "execution_count": 17,
   "id": "2a58d7a8-22ad-4ca8-8af3-b661dba21358",
   "metadata": {},
   "outputs": [
    {
     "data": {
      "text/plain": [
       "306"
      ]
     },
     "execution_count": 17,
     "metadata": {},
     "output_type": "execute_result"
    }
   ],
   "source": [
    "actual_task_count = len(chunk_sizes)\n",
    "\n",
    "actual_task_count"
   ]
  },
  {
   "cell_type": "code",
   "execution_count": 18,
   "id": "31e6a2ea-fcb0-4d95-bca5-edb15e64f2ed",
   "metadata": {},
   "outputs": [
    {
     "name": "stdout",
     "output_type": "stream",
     "text": [
      "306\n"
     ]
    },
    {
     "data": {
      "image/png": "[encoded data removed]",
      "text/plain": [
       "<Figure size 432x288 with 1 Axes>"
      ]
     },
     "metadata": {
      "needs_background": "light"
     },
     "output_type": "display_data"
    }
   ],
   "source": [
    "if DEBUG:\n",
    "    import matplotlib.pyplot as plt\n",
    "    plt.hist(chunk_sizes, bins=100)\n",
    "    print(len(chunk_sizes))"
   ]
  },
  {
   "cell_type": "code",
   "execution_count": 19,
   "id": "10d776f4-65ba-4d10-a566-609608003857",
   "metadata": {},
   "outputs": [],
   "source": [
    "input_df = full_input_df[full_input_df[\"uniprot_id\"].isin(chunk_uniprot_ids)]"
   ]
  },
  {
   "cell_type": "code",
   "execution_count": 20,
   "id": "b6027a48-7bd3-4f09-8de7-b9c740cb4f15",
   "metadata": {},
   "outputs": [
    {
     "data": {
      "text/html": [
       "<div>\n",
       "<style scoped>\n",
       "    .dataframe tbody tr th:only-of-type {\n",
       "        vertical-align: middle;\n",
       "    }\n",
       "\n",
       "    .dataframe tbody tr th {\n",
       "        vertical-align: top;\n",
       "    }\n",
       "\n",
       "    .dataframe thead th {\n",
       "        text-align: right;\n",
       "    }\n",
       "</style>\n",
       "<table border=\"1\" class=\"dataframe\">\n",
       "  <thead>\n",
       "    <tr style=\"text-align: right;\">\n",
       "      <th></th>\n",
       "      <th>uniprot_id</th>\n",
       "      <th>hgvs</th>\n",
       "      <th>mut</th>\n",
       "      <th>interpretation</th>\n",
       "      <th>sequence</th>\n",
       "      <th>structure</th>\n",
       "    </tr>\n",
       "  </thead>\n",
       "  <tbody>\n",
       "    <tr>\n",
       "      <th>2364</th>\n",
       "      <td>Q9NSE4</td>\n",
       "      <td>[NM_018060.3:c.137C&gt;T, NM_018060.3:c.1564A&gt;G, ...</td>\n",
       "      <td>[S46F, I522V, Y648C, E1007Q, A136T, Q431R, G62...</td>\n",
       "      <td>[Likely benign, Benign, Benign, Likely benign,...</td>\n",
       "      <td>MRWGLRPRGPGAAALATARSLWGTPRLPCSPGWQGATKRLLVRSVS...</td>\n",
       "      <td>HEADER                                        ...</td>\n",
       "    </tr>\n",
       "    <tr>\n",
       "      <th>582</th>\n",
       "      <td>P13637</td>\n",
       "      <td>[NM_152296.4:c.3014G&gt;A, NM_152296.4:c.3011G&gt;T,...</td>\n",
       "      <td>[G1005D, G1004V, G1004A, P1003L, R1000C, D992H...</td>\n",
       "      <td>[Uncertain significance, Uncertain significanc...</td>\n",
       "      <td>MGDKKDDKDSPKKNKGKERRDLDDLKKEVAMTEHKMSVEEVCRKYN...</td>\n",
       "      <td>HEADER                                        ...</td>\n",
       "    </tr>\n",
       "  </tbody>\n",
       "</table>\n",
       "</div>"
      ],
      "text/plain": [
       "     uniprot_id                                               hgvs  \\\n",
       "2364     Q9NSE4  [NM_018060.3:c.137C>T, NM_018060.3:c.1564A>G, ...   \n",
       "582      P13637  [NM_152296.4:c.3014G>A, NM_152296.4:c.3011G>T,...   \n",
       "\n",
       "                                                    mut  \\\n",
       "2364  [S46F, I522V, Y648C, E1007Q, A136T, Q431R, G62...   \n",
       "582   [G1005D, G1004V, G1004A, P1003L, R1000C, D992H...   \n",
       "\n",
       "                                         interpretation  \\\n",
       "2364  [Likely benign, Benign, Benign, Likely benign,...   \n",
       "582   [Uncertain significance, Uncertain significanc...   \n",
       "\n",
       "                                               sequence  \\\n",
       "2364  MRWGLRPRGPGAAALATARSLWGTPRLPCSPGWQGATKRLLVRSVS...   \n",
       "582   MGDKKDDKDSPKKNKGKERRDLDDLKKEVAMTEHKMSVEEVCRKYN...   \n",
       "\n",
       "                                              structure  \n",
       "2364  HEADER                                        ...  \n",
       "582   HEADER                                        ...  "
      ]
     },
     "metadata": {},
     "output_type": "display_data"
    },
    {
     "name": "stdout",
     "output_type": "stream",
     "text": [
      "5\n",
      "850\n"
     ]
    }
   ],
   "source": [
    "display(input_df.head(2))\n",
    "print(len(input_df))\n",
    "print(sum(input_df[\"hgvs\"].apply(len)))"
   ]
  },
  {
   "cell_type": "markdown",
   "id": "dfa5c9eb-9ecb-4ed5-86b0-ce54daffcff2",
   "metadata": {
    "tags": []
   },
   "source": [
    "## Run `ELASPIC2`"
   ]
  },
  {
   "cell_type": "markdown",
   "id": "9a57e7af-6433-4972-ab2c-a8c2222c2dbb",
   "metadata": {
    "id": "4jTx3zGeHD2e"
   },
   "source": [
    "### Initialize the `ELASPIC2` model\n",
    "\n"
   ]
  },
  {
   "cell_type": "code",
   "execution_count": 21,
   "id": "3e0cf5bf-c9fe-4075-8a97-100c42bb5649",
   "metadata": {},
   "outputs": [
    {
     "name": "stderr",
     "output_type": "stream",
     "text": [
      "/opt/conda/lib/python3.9/site-packages/sklearn/base.py:310: UserWarning: Trying to unpickle estimator PCA from version 0.23.2 when using version 0.24.2. This might lead to breaking code or invalid results. Use at your own risk.\n",
      "  warnings.warn(\n",
      "Some weights of the model checkpoint at /project/6008029/strokach/workspace/elaspic2/src/elaspic2/plugins/protbert/data/prot_bert_bfd were not used when initializing BertModel: ['cls.predictions.bias', 'cls.predictions.transform.dense.bias', 'cls.seq_relationship.weight', 'cls.predictions.transform.dense.weight', 'cls.predictions.transform.LayerNorm.weight', 'cls.seq_relationship.bias', 'cls.predictions.transform.LayerNorm.bias', 'cls.predictions.decoder.bias', 'cls.predictions.decoder.weight']\n",
      "- This IS expected if you are initializing BertModel from the checkpoint of a model trained on another task or with another architecture (e.g. initializing a BertForSequenceClassification model from a BertForPreTraining model).\n",
      "- This IS NOT expected if you are initializing BertModel from the checkpoint of a model that you expect to be exactly identical (initializing a BertForSequenceClassification model from a BertForSequenceClassification model).\n"
     ]
    }
   ],
   "source": [
    "model = el2.ELASPIC2(device=device)"
   ]
  },
  {
   "cell_type": "markdown",
   "id": "3674f404-d266-4fb5-bb29-41a0dcc1054b",
   "metadata": {
    "id": "i8OkFJbj8sYO"
   },
   "source": [
    "### Make predictions"
   ]
  },
  {
   "cell_type": "code",
   "execution_count": 22,
   "id": "5c7dde96-e760-4f8a-82a6-adca3d0b31cd",
   "metadata": {},
   "outputs": [],
   "source": [
    "if DEBUG:\n",
    "    input_df = input_df.iloc[:2]"
   ]
  },
  {
   "cell_type": "code",
   "execution_count": 23,
   "id": "990480fe-e52a-42d7-8517-e902c3bf3720",
   "metadata": {
    "colab": {
     "base_uri": "https://localhost:8080/"
    },
    "id": "ac6mTuNYHD2i",
    "outputId": "b2427457-6fb6-4e2c-dac0-d037fafc8282"
   },
   "outputs": [
    {
     "data": {
      "application/vnd.jupyter.widget-view+json": {
       "model_id": "3943623449c94f4c88418ca9276d37a3",
       "version_major": 2,
       "version_minor": 0
      },
      "text/plain": [
       "HBox(children=(HTML(value=''), FloatProgress(value=0.0, max=9.0), HTML(value='')))"
      ]
     },
     "metadata": {},
     "output_type": "display_data"
    },
    {
     "name": "stdout",
     "output_type": "stream",
     "text": [
      "\n"
     ]
    },
    {
     "data": {
      "application/vnd.jupyter.widget-view+json": {
       "model_id": "57f561f61cdf4ee8b5b0aa4dcf8a13ae",
       "version_major": 2,
       "version_minor": 0
      },
      "text/plain": [
       "HBox(children=(HTML(value=''), FloatProgress(value=0.0, max=145.0), HTML(value='')))"
      ]
     },
     "metadata": {},
     "output_type": "display_data"
    },
    {
     "name": "stdout",
     "output_type": "stream",
     "text": [
      "\n"
     ]
    }
   ],
   "source": [
    "results = []\n",
    "for tup in input_df.itertuples():\n",
    "    with tempfile.NamedTemporaryFile(suffix=\".pdb\") as tmp_file:\n",
    "        with open(tmp_file.name, \"wt\") as fout:\n",
    "            fout.write(tup.structure)\n",
    "        protein_features = model.build(\n",
    "            structure_file=tmp_file.name,\n",
    "            protein_sequence=tup.sequence,\n",
    "            ligand_sequence=None,\n",
    "            remove_hetatms=True,\n",
    "        )\n",
    "\n",
    "    mutation_features = list(\n",
    "        tqdm(\n",
    "            (model.analyze_mutation(mut, protein_features) for mut in tup.mut),\n",
    "            total=len(tup.mut),\n",
    "        )\n",
    "    )\n",
    "\n",
    "    row = {\n",
    "        \"uniprot_id\": tup.uniprot_id,\n",
    "        \"protbert_score\": [\n",
    "            f[\"protbert_core_score_wt\"] - f[\"protbert_core_score_mut\"] for f in mutation_features\n",
    "        ],\n",
    "        \"proteinsolver_score\": [\n",
    "            f[\"proteinsolver_core_score_wt\"] - f[\"proteinsolver_core_score_mut\"]\n",
    "            for f in mutation_features\n",
    "        ],\n",
    "        \"el2_score\": model.predict_mutation_effect(mutation_features).tolist(),\n",
    "        **{name: [f[name] for f in mutation_features] for name in mutation_features[0]},\n",
    "    }\n",
    "    results.append(row)"
   ]
  },
  {
   "cell_type": "code",
   "execution_count": 24,
   "id": "e0b0db8f-ff15-48f5-aa4c-7b75ef7d5864",
   "metadata": {},
   "outputs": [
    {
     "data": {
      "text/html": [
       "<div>\n",
       "<style scoped>\n",
       "    .dataframe tbody tr th:only-of-type {\n",
       "        vertical-align: middle;\n",
       "    }\n",
       "\n",
       "    .dataframe tbody tr th {\n",
       "        vertical-align: top;\n",
       "    }\n",
       "\n",
       "    .dataframe thead th {\n",
       "        text-align: right;\n",
       "    }\n",
       "</style>\n",
       "<table border=\"1\" class=\"dataframe\">\n",
       "  <thead>\n",
       "    <tr style=\"text-align: right;\">\n",
       "      <th></th>\n",
       "      <th>uniprot_id</th>\n",
       "      <th>protbert_score</th>\n",
       "      <th>proteinsolver_score</th>\n",
       "      <th>el2_score</th>\n",
       "      <th>protbert_core_score_wt</th>\n",
       "      <th>protbert_core_score_mut</th>\n",
       "      <th>protbert_core_features_residue_wt</th>\n",
       "      <th>protbert_core_features_protein_wt</th>\n",
       "      <th>protbert_core_features_residue_mut</th>\n",
       "      <th>protbert_core_features_protein_mut</th>\n",
       "      <th>proteinsolver_core_score_wt</th>\n",
       "      <th>proteinsolver_core_score_mut</th>\n",
       "    </tr>\n",
       "  </thead>\n",
       "  <tbody>\n",
       "    <tr>\n",
       "      <th>0</th>\n",
       "      <td>Q9NSE4</td>\n",
       "      <td>[0.2429826445877552, 0.6601177379488945, 0.860...</td>\n",
       "      <td>[0.12946259044110775, 0.4209132716059685, 0.07...</td>\n",
       "      <td>[1.16909026168563, 1.0394838876264054, 3.10654...</td>\n",
       "      <td>[0.2738088071346283, 0.7801834344863892, 0.860...</td>\n",
       "      <td>[0.030826162546873093, 0.12006569653749466, 3....</td>\n",
       "      <td>[[0.01616564206779003, 0.02875034511089325, -0...</td>\n",
       "      <td>[[0.00690156314522028, 0.009724152274429798, -...</td>\n",
       "      <td>[[0.09152738004922867, 0.048300810158252716, -...</td>\n",
       "      <td>[[0.007011280860751867, 0.011212294921278954, ...</td>\n",
       "      <td>[0.13998274505138397, 0.48017174005508423, 0.0...</td>\n",
       "      <td>[0.010520154610276222, 0.05925846844911575, 0....</td>\n",
       "    </tr>\n",
       "    <tr>\n",
       "      <th>1</th>\n",
       "      <td>P13637</td>\n",
       "      <td>[0.7124136320780963, 0.2215306640136987, 0.156...</td>\n",
       "      <td>[0.6868957187980413, 0.32814047392457724, 0.31...</td>\n",
       "      <td>[1.45919294372345, 1.0694967924618553, 0.16923...</td>\n",
       "      <td>[0.7161187529563904, 0.22379623353481293, 0.22...</td>\n",
       "      <td>[0.0037051208782941103, 0.00226556952111423, 0...</td>\n",
       "      <td>[[0.0465807244181633, -0.08027972280979156, -0...</td>\n",
       "      <td>[[0.027783889323472977, -0.029638268053531647,...</td>\n",
       "      <td>[[0.028527941554784775, -0.018569590523838997,...</td>\n",
       "      <td>[[0.027689816430211067, -0.029414359480142593,...</td>\n",
       "      <td>[0.7100364565849304, 0.3435646593570709, 0.343...</td>\n",
       "      <td>[0.023140737786889076, 0.015424185432493687, 0...</td>\n",
       "    </tr>\n",
       "  </tbody>\n",
       "</table>\n",
       "</div>"
      ],
      "text/plain": [
       "  uniprot_id                                     protbert_score  \\\n",
       "0     Q9NSE4  [0.2429826445877552, 0.6601177379488945, 0.860...   \n",
       "1     P13637  [0.7124136320780963, 0.2215306640136987, 0.156...   \n",
       "\n",
       "                                 proteinsolver_score  \\\n",
       "0  [0.12946259044110775, 0.4209132716059685, 0.07...   \n",
       "1  [0.6868957187980413, 0.32814047392457724, 0.31...   \n",
       "\n",
       "                                           el2_score  \\\n",
       "0  [1.16909026168563, 1.0394838876264054, 3.10654...   \n",
       "1  [1.45919294372345, 1.0694967924618553, 0.16923...   \n",
       "\n",
       "                              protbert_core_score_wt  \\\n",
       "0  [0.2738088071346283, 0.7801834344863892, 0.860...   \n",
       "1  [0.7161187529563904, 0.22379623353481293, 0.22...   \n",
       "\n",
       "                             protbert_core_score_mut  \\\n",
       "0  [0.030826162546873093, 0.12006569653749466, 3....   \n",
       "1  [0.0037051208782941103, 0.00226556952111423, 0...   \n",
       "\n",
       "                   protbert_core_features_residue_wt  \\\n",
       "0  [[0.01616564206779003, 0.02875034511089325, -0...   \n",
       "1  [[0.0465807244181633, -0.08027972280979156, -0...   \n",
       "\n",
       "                   protbert_core_features_protein_wt  \\\n",
       "0  [[0.00690156314522028, 0.009724152274429798, -...   \n",
       "1  [[0.027783889323472977, -0.029638268053531647,...   \n",
       "\n",
       "                  protbert_core_features_residue_mut  \\\n",
       "0  [[0.09152738004922867, 0.048300810158252716, -...   \n",
       "1  [[0.028527941554784775, -0.018569590523838997,...   \n",
       "\n",
       "                  protbert_core_features_protein_mut  \\\n",
       "0  [[0.007011280860751867, 0.011212294921278954, ...   \n",
       "1  [[0.027689816430211067, -0.029414359480142593,...   \n",
       "\n",
       "                         proteinsolver_core_score_wt  \\\n",
       "0  [0.13998274505138397, 0.48017174005508423, 0.0...   \n",
       "1  [0.7100364565849304, 0.3435646593570709, 0.343...   \n",
       "\n",
       "                        proteinsolver_core_score_mut  \n",
       "0  [0.010520154610276222, 0.05925846844911575, 0....  \n",
       "1  [0.023140737786889076, 0.015424185432493687, 0...  "
      ]
     },
     "execution_count": 24,
     "metadata": {},
     "output_type": "execute_result"
    }
   ],
   "source": [
    "results_df = pd.DataFrame(results)\n",
    "\n",
    "results_df.head()"
   ]
  },
  {
   "cell_type": "markdown",
   "id": "f1b303f8-6dc1-41b3-ac2e-42fa960474b0",
   "metadata": {},
   "source": [
    "## Write results"
   ]
  },
  {
   "cell_type": "code",
   "execution_count": 31,
   "id": "c7dd760b-cf23-4dad-826f-7cb4e4620277",
   "metadata": {},
   "outputs": [
    {
     "data": {
      "text/html": [
       "<div>\n",
       "<style scoped>\n",
       "    .dataframe tbody tr th:only-of-type {\n",
       "        vertical-align: middle;\n",
       "    }\n",
       "\n",
       "    .dataframe tbody tr th {\n",
       "        vertical-align: top;\n",
       "    }\n",
       "\n",
       "    .dataframe thead th {\n",
       "        text-align: right;\n",
       "    }\n",
       "</style>\n",
       "<table border=\"1\" class=\"dataframe\">\n",
       "  <thead>\n",
       "    <tr style=\"text-align: right;\">\n",
       "      <th></th>\n",
       "      <th>uniprot_id</th>\n",
       "      <th>hgvs</th>\n",
       "      <th>mut</th>\n",
       "      <th>protbert_score</th>\n",
       "      <th>proteinsolver_score</th>\n",
       "      <th>el2_score</th>\n",
       "      <th>protbert_core_score_wt</th>\n",
       "      <th>protbert_core_score_mut</th>\n",
       "      <th>protbert_core_features_residue_wt</th>\n",
       "      <th>protbert_core_features_protein_wt</th>\n",
       "      <th>protbert_core_features_residue_mut</th>\n",
       "      <th>protbert_core_features_protein_mut</th>\n",
       "      <th>proteinsolver_core_score_wt</th>\n",
       "      <th>proteinsolver_core_score_mut</th>\n",
       "    </tr>\n",
       "  </thead>\n",
       "  <tbody>\n",
       "    <tr>\n",
       "      <th>0</th>\n",
       "      <td>Q9NSE4</td>\n",
       "      <td>[NM_018060.3:c.137C&gt;T, NM_018060.3:c.1564A&gt;G, ...</td>\n",
       "      <td>[S46F, I522V, Y648C, E1007Q, A136T, Q431R, G62...</td>\n",
       "      <td>[0.2429826445877552, 0.6601177379488945, 0.860...</td>\n",
       "      <td>[0.12946259044110775, 0.4209132716059685, 0.07...</td>\n",
       "      <td>[1.16909026168563, 1.0394838876264054, 3.10654...</td>\n",
       "      <td>[0.2738088071346283, 0.7801834344863892, 0.860...</td>\n",
       "      <td>[0.030826162546873093, 0.12006569653749466, 3....</td>\n",
       "      <td>[[0.01616564206779003, 0.02875034511089325, -0...</td>\n",
       "      <td>[[0.00690156314522028, 0.009724152274429798, -...</td>\n",
       "      <td>[[0.09152738004922867, 0.048300810158252716, -...</td>\n",
       "      <td>[[0.007011280860751867, 0.011212294921278954, ...</td>\n",
       "      <td>[0.13998274505138397, 0.48017174005508423, 0.0...</td>\n",
       "      <td>[0.010520154610276222, 0.05925846844911575, 0....</td>\n",
       "    </tr>\n",
       "    <tr>\n",
       "      <th>1</th>\n",
       "      <td>P13637</td>\n",
       "      <td>[NM_152296.4:c.3014G&gt;A, NM_152296.4:c.3011G&gt;T,...</td>\n",
       "      <td>[G1005D, G1004V, G1004A, P1003L, R1000C, D992H...</td>\n",
       "      <td>[0.7124136320780963, 0.2215306640136987, 0.156...</td>\n",
       "      <td>[0.6868957187980413, 0.32814047392457724, 0.31...</td>\n",
       "      <td>[1.45919294372345, 1.0694967924618553, 0.16923...</td>\n",
       "      <td>[0.7161187529563904, 0.22379623353481293, 0.22...</td>\n",
       "      <td>[0.0037051208782941103, 0.00226556952111423, 0...</td>\n",
       "      <td>[[0.0465807244181633, -0.08027972280979156, -0...</td>\n",
       "      <td>[[0.027783889323472977, -0.029638268053531647,...</td>\n",
       "      <td>[[0.028527941554784775, -0.018569590523838997,...</td>\n",
       "      <td>[[0.027689816430211067, -0.029414359480142593,...</td>\n",
       "      <td>[0.7100364565849304, 0.3435646593570709, 0.343...</td>\n",
       "      <td>[0.023140737786889076, 0.015424185432493687, 0...</td>\n",
       "    </tr>\n",
       "  </tbody>\n",
       "</table>\n",
       "</div>"
      ],
      "text/plain": [
       "  uniprot_id                                               hgvs  \\\n",
       "0     Q9NSE4  [NM_018060.3:c.137C>T, NM_018060.3:c.1564A>G, ...   \n",
       "1     P13637  [NM_152296.4:c.3014G>A, NM_152296.4:c.3011G>T,...   \n",
       "\n",
       "                                                 mut  \\\n",
       "0  [S46F, I522V, Y648C, E1007Q, A136T, Q431R, G62...   \n",
       "1  [G1005D, G1004V, G1004A, P1003L, R1000C, D992H...   \n",
       "\n",
       "                                      protbert_score  \\\n",
       "0  [0.2429826445877552, 0.6601177379488945, 0.860...   \n",
       "1  [0.7124136320780963, 0.2215306640136987, 0.156...   \n",
       "\n",
       "                                 proteinsolver_score  \\\n",
       "0  [0.12946259044110775, 0.4209132716059685, 0.07...   \n",
       "1  [0.6868957187980413, 0.32814047392457724, 0.31...   \n",
       "\n",
       "                                           el2_score  \\\n",
       "0  [1.16909026168563, 1.0394838876264054, 3.10654...   \n",
       "1  [1.45919294372345, 1.0694967924618553, 0.16923...   \n",
       "\n",
       "                              protbert_core_score_wt  \\\n",
       "0  [0.2738088071346283, 0.7801834344863892, 0.860...   \n",
       "1  [0.7161187529563904, 0.22379623353481293, 0.22...   \n",
       "\n",
       "                             protbert_core_score_mut  \\\n",
       "0  [0.030826162546873093, 0.12006569653749466, 3....   \n",
       "1  [0.0037051208782941103, 0.00226556952111423, 0...   \n",
       "\n",
       "                   protbert_core_features_residue_wt  \\\n",
       "0  [[0.01616564206779003, 0.02875034511089325, -0...   \n",
       "1  [[0.0465807244181633, -0.08027972280979156, -0...   \n",
       "\n",
       "                   protbert_core_features_protein_wt  \\\n",
       "0  [[0.00690156314522028, 0.009724152274429798, -...   \n",
       "1  [[0.027783889323472977, -0.029638268053531647,...   \n",
       "\n",
       "                  protbert_core_features_residue_mut  \\\n",
       "0  [[0.09152738004922867, 0.048300810158252716, -...   \n",
       "1  [[0.028527941554784775, -0.018569590523838997,...   \n",
       "\n",
       "                  protbert_core_features_protein_mut  \\\n",
       "0  [[0.007011280860751867, 0.011212294921278954, ...   \n",
       "1  [[0.027689816430211067, -0.029414359480142593,...   \n",
       "\n",
       "                         proteinsolver_core_score_wt  \\\n",
       "0  [0.13998274505138397, 0.48017174005508423, 0.0...   \n",
       "1  [0.7100364565849304, 0.3435646593570709, 0.343...   \n",
       "\n",
       "                        proteinsolver_core_score_mut  \n",
       "0  [0.010520154610276222, 0.05925846844911575, 0....  \n",
       "1  [0.023140737786889076, 0.015424185432493687, 0...  "
      ]
     },
     "execution_count": 31,
     "metadata": {},
     "output_type": "execute_result"
    }
   ],
   "source": [
    "output_df = input_df[[\"uniprot_id\", \"hgvs\", \"mut\"]].merge(results_df, on=[\"uniprot_id\"], how=\"left\")\n",
    "\n",
    "output_df.head(2)"
   ]
  },
  {
   "cell_type": "code",
   "execution_count": 32,
   "id": "016b4a82-61aa-4053-83d7-383552badd37",
   "metadata": {},
   "outputs": [
    {
     "data": {
      "text/plain": [
       "PosixPath('/project/6008029/strokach/workspace/elaspic2-cagi6/notebooks/31_cagi6_sherloc_el2/output-201-of-306.parquet')"
      ]
     },
     "execution_count": 32,
     "metadata": {},
     "output_type": "execute_result"
    }
   ],
   "source": [
    "output_file = NOTEBOOK_DIR.joinpath(f\"output-{TASK_ID}-of-{actual_task_count}.parquet\")\n",
    "\n",
    "output_file"
   ]
  },
  {
   "cell_type": "code",
   "execution_count": 33,
   "id": "d596eca9-5e4b-481c-9186-5fce264bdb45",
   "metadata": {},
   "outputs": [],
   "source": [
    "if not DEBUG:\n",
    "    pq.write_table(pa.Table.from_pandas(output_df, preserve_index=False), output_file)"
   ]
  },
  {
   "cell_type": "code",
   "execution_count": 35,
   "id": "7dc42ccc-95f0-4875-9c44-f47422b4d274",
   "metadata": {},
   "outputs": [
    {
     "name": "stdout",
     "output_type": "stream",
     "text": [
      "Done!\n"
     ]
    }
   ],
   "source": [
    "print(\"Done!\")"
   ]
  },
  {
   "cell_type": "code",
   "execution_count": null,
   "id": "a9a6dac0-6364-4db0-8d87-f51e78115f6f",
   "metadata": {},
   "outputs": [],
   "source": []
  }
 ],
 "metadata": {
  "kernelspec": {
   "display_name": "Python 3 (ipykernel)",
   "language": "python",
   "name": "python3"
  },
  "language_info": {
   "codemirror_mode": {
    "name": "ipython",
    "version": 3
   },
   "file_extension": ".py",
   "mimetype": "text/x-python",
   "name": "python",
   "nbconvert_exporter": "python",
   "pygments_lexer": "ipython3",
   "version": "3.9.6"
  }
 },
 "nbformat": 4,
 "nbformat_minor": 5
}
