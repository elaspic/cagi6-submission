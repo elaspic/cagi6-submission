{
 "cells": [
  {
   "cell_type": "markdown",
   "id": "cb6c40ff-71c3-4c7c-b7ee-d50719918f51",
   "metadata": {},
   "source": [
    "## Summary\n",
    "\n",
    "Calculate features using [AlphaFold](https://github.com/deepmind/alphafold) (for the wildtype protein only).\n",
    "\n",
    "```bash\n",
    "export NOTEBOOK_PATH=\"$(realpath 31_run_alphafold_wt_template.ipynb)\"\n",
    "export DATASET_NAME=\"humsavar\"\n",
    "export DATASET_PATH=\"30_humsavar/humsavar-gby-protein-waln.parquet\"\n",
    "export ORIGINAL_ARRAY_TASK_COUNT=12557\n",
    "\n",
    "--gres=gpu:a100:1 --mem=124G\n",
    "--gres=gpu:a100:1\n",
    "\n",
    "sbatch --export NOTEBOOK_PATH,DATASET_NAME,DATASET_PATH,ORIGINAL_ARRAY_TASK_COUNT --array=1-9999 --time 3:00:00 --gres=gpu:p100:1 --mem=18G ../scripts/run_notebook_gpu.sh\n",
    "\n",
    "export ARRAY_TASK_OFFSET=10000\n",
    "sbatch --export NOTEBOOK_PATH,DATASET_NAME,DATASET_PATH,ORIGINAL_ARRAY_TASK_COUNT,ARRAY_TASK_OFFSET --array=0-1000 --time 3:00:00 --gres=gpu:v100l:1 --mem=32G ../scripts/run_notebook_gpu.sh\n",
    "\n",
    "export ARRAY_TASK_OFFSET=10000\n",
    "sbatch --export NOTEBOOK_PATH,DATASET_NAME,DATASET_PATH,ORIGINAL_ARRAY_TASK_COUNT,ARRAY_TASK_OFFSET --array=1000-2557 --time 24:00:00 --gres=gpu:v100l:1 --mem=46G ../scripts/run_notebook_gpu.sh\n",
    "```\n",
    "\n",
    "---"
   ]
  },
  {
   "cell_type": "code",
   "execution_count": 1,
   "id": "fa7cb6f9-97a1-452e-9169-d5cfdcdef804",
   "metadata": {},
   "outputs": [
    {
     "name": "stderr",
     "output_type": "stream",
     "text": [
      "Warning: importing 'simtk.openmm' is deprecated.  Import 'openmm' instead.\n"
     ]
    }
   ],
   "source": [
    "import concurrent.futures\n",
    "import os\n",
    "import re\n",
    "import subprocess\n",
    "import sys\n",
    "import tempfile\n",
    "from pathlib import Path\n",
    "\n",
    "import jax\n",
    "import kmbio\n",
    "import numpy as np\n",
    "import pandas as pd\n",
    "import pyarrow as pa\n",
    "import pyarrow.parquet as pq\n",
    "from elaspic2.plugins.alphafold import AlphaFold, AlphaFoldAnalyzeError, AlphaFoldBuildError\n",
    "from jax.lib import xla_bridge\n",
    "from kmbio import PDB\n",
    "from tqdm.notebook import tqdm"
   ]
  },
  {
   "cell_type": "code",
   "execution_count": 2,
   "id": "46a0891b-f9db-44a0-b69b-d2d78757651c",
   "metadata": {},
   "outputs": [
    {
     "data": {
      "text/plain": [
       "PosixPath('/lustre07/scratch/sunyun/workspace/elaspic2-cagi6/notebooks/31_run_alphafold_wt')"
      ]
     },
     "execution_count": 2,
     "metadata": {},
     "output_type": "execute_result"
    }
   ],
   "source": [
    "NOTEBOOK_DIR = Path(\"31_run_alphafold_wt\").resolve()\n",
    "NOTEBOOK_DIR.mkdir(exist_ok=True)\n",
    "\n",
    "NOTEBOOK_DIR"
   ]
  },
  {
   "cell_type": "code",
   "execution_count": 3,
   "id": "73e0c538-363e-4129-a9f7-05b158f6af4d",
   "metadata": {},
   "outputs": [
    {
     "name": "stdout",
     "output_type": "stream",
     "text": [
      "/tmp\n"
     ]
    }
   ],
   "source": [
    "if (slurm_tmpdir := os.getenv(\"SLURM_TMPDIR\")) is not None:\n",
    "    os.environ[\"TMPDIR\"] = slurm_tmpdir\n",
    "\n",
    "print(tempfile.gettempdir())"
   ]
  },
  {
   "cell_type": "code",
   "execution_count": 4,
   "id": "e835fd11-3240-4a05-b37b-9ca93345f218",
   "metadata": {},
   "outputs": [
    {
     "data": {
      "text/plain": [
       "(None, None, None, None, 0)"
      ]
     },
     "execution_count": 4,
     "metadata": {},
     "output_type": "execute_result"
    }
   ],
   "source": [
    "DATASET_NAME = os.getenv(\"DATASET_NAME\")\n",
    "DATASET_PATH = os.getenv(\"DATASET_PATH\")\n",
    "TASK_ID = os.getenv(\"SLURM_ARRAY_TASK_ID\")\n",
    "TASK_COUNT = os.getenv(\"ORIGINAL_ARRAY_TASK_COUNT\") or os.getenv(\"SLURM_ARRAY_TASK_COUNT\")\n",
    "ARRAY_TASK_OFFSET = int(os.getenv(\"ARRAY_TASK_OFFSET\", \"0\"))\n",
    "\n",
    "TASK_ID = (int(TASK_ID) + ARRAY_TASK_OFFSET) if TASK_ID is not None else None\n",
    "TASK_COUNT = int(TASK_COUNT) if TASK_COUNT is not None else None \n",
    "\n",
    "DATASET_NAME, DATASET_PATH, TASK_ID, TASK_COUNT, ARRAY_TASK_OFFSET"
   ]
  },
  {
   "cell_type": "code",
   "execution_count": 5,
   "id": "1a2d71f8-3913-4393-a953-a6e497c95cbc",
   "metadata": {},
   "outputs": [
    {
     "data": {
      "text/plain": [
       "('humsavar',\n",
       " '/lustre07/scratch/strokach/workspace/elaspic2-cagi6/notebooks/30_humsavar/humsavar-gby-protein-waln.parquet',\n",
       " 1,\n",
       " 12557)"
      ]
     },
     "execution_count": 5,
     "metadata": {},
     "output_type": "execute_result"
    }
   ],
   "source": [
    "DEBUG = TASK_ID is None\n",
    "\n",
    "if DEBUG:\n",
    "    DATASET_NAME = \"humsavar\"\n",
    "    # DATASET_PATH = str(\n",
    "    #     NOTEBOOK_DIR.parent.joinpath(\"30_humsavar\", \"humsavar-gby-protein-waln.parquet\")\n",
    "    # )\n",
    "    DATASET_PATH = \"/lustre07/scratch/strokach/workspace/elaspic2-cagi6/notebooks/30_humsavar/humsavar-gby-protein-waln.parquet\"\n",
    "    TASK_ID = 1\n",
    "    TASK_COUNT = 12557\n",
    "else:\n",
    "    assert DATASET_NAME is not None\n",
    "    assert DATASET_PATH is not None \n",
    "    DATASET_PATH = Path(DATASET_PATH).expanduser().resolve()\n",
    "    assert TASK_ID is not None\n",
    "    assert TASK_COUNT is not None\n",
    "\n",
    "DATASET_NAME, DATASET_PATH, TASK_ID, TASK_COUNT"
   ]
  },
  {
   "cell_type": "code",
   "execution_count": 6,
   "id": "b3310d36-fc32-4788-9c66-cdbf2f3ba10b",
   "metadata": {},
   "outputs": [
    {
     "data": {
      "text/plain": [
       "'gpu'"
      ]
     },
     "execution_count": 6,
     "metadata": {},
     "output_type": "execute_result"
    }
   ],
   "source": [
    "device = xla_bridge.get_backend().platform\n",
    "\n",
    "device"
   ]
  },
  {
   "cell_type": "code",
   "execution_count": 7,
   "id": "221cc50b-cfb3-4df7-9abf-990fa4ef559a",
   "metadata": {},
   "outputs": [
    {
     "data": {
      "text/plain": [
       "PosixPath('/lustre07/scratch/sunyun/workspace/elaspic2-cagi6/notebooks/31_run_alphafold_wt/humsavar/shard-1-of-12557.parquet')"
      ]
     },
     "execution_count": 7,
     "metadata": {},
     "output_type": "execute_result"
    }
   ],
   "source": [
    "output_file = NOTEBOOK_DIR.joinpath(DATASET_NAME, f\"shard-{TASK_ID}-of-{TASK_COUNT}.parquet\")\n",
    "output_file.parent.mkdir(exist_ok=True)\n",
    "\n",
    "output_file"
   ]
  },
  {
   "cell_type": "code",
   "execution_count": 8,
   "id": "8a02fa49-c14d-4652-840a-5c4b8bd17364",
   "metadata": {},
   "outputs": [],
   "source": [
    "if output_file.is_file():\n",
    "    raise Exception(\"Already finished!\")"
   ]
  },
  {
   "cell_type": "markdown",
   "id": "f71941c0-0161-4b8c-b184-0b5f3cb34d47",
   "metadata": {},
   "source": [
    "## Workspace"
   ]
  },
  {
   "cell_type": "markdown",
   "id": "c500de0a-9ef8-44c3-ad5e-a7e05d3582f2",
   "metadata": {},
   "source": [
    "### Initialize model"
   ]
  },
  {
   "cell_type": "code",
   "execution_count": 9,
   "id": "b7feb1e2-5bf2-412e-9525-96b6df28f093",
   "metadata": {},
   "outputs": [],
   "source": [
    "AlphaFold.load_model(device=device)"
   ]
  },
  {
   "cell_type": "markdown",
   "id": "0ffaada5-29c7-491d-b2af-1f3a70712394",
   "metadata": {},
   "source": [
    "## Load data"
   ]
  },
  {
   "cell_type": "code",
   "execution_count": 10,
   "id": "fa4908c2-0a21-45ab-b657-6e15dea54332",
   "metadata": {},
   "outputs": [
    {
     "data": {
      "text/plain": [
       "12557"
      ]
     },
     "execution_count": 10,
     "metadata": {},
     "output_type": "execute_result"
    }
   ],
   "source": [
    "pfile = pq.ParquetFile(DATASET_PATH)\n",
    "\n",
    "pfile.num_row_groups"
   ]
  },
  {
   "cell_type": "code",
   "execution_count": 11,
   "id": "9f291437-e0d7-44da-a31a-9a17783604e4",
   "metadata": {},
   "outputs": [],
   "source": [
    "assert TASK_COUNT == pfile.num_row_groups"
   ]
  },
  {
   "cell_type": "code",
   "execution_count": 12,
   "id": "d7ff3bb0-2ff8-41d9-b62e-418ab62350d8",
   "metadata": {},
   "outputs": [],
   "source": [
    "input_df = pfile.read_row_group(TASK_ID - 1).to_pandas(integer_object_nulls=True)"
   ]
  },
  {
   "cell_type": "code",
   "execution_count": 13,
   "id": "2f6bf534-46cb-45af-a1b2-0485ea263854",
   "metadata": {},
   "outputs": [
    {
     "data": {
      "text/html": [
       "<div>\n",
       "<style scoped>\n",
       "    .dataframe tbody tr th:only-of-type {\n",
       "        vertical-align: middle;\n",
       "    }\n",
       "\n",
       "    .dataframe tbody tr th {\n",
       "        vertical-align: top;\n",
       "    }\n",
       "\n",
       "    .dataframe thead th {\n",
       "        text-align: right;\n",
       "    }\n",
       "</style>\n",
       "<table border=\"1\" class=\"dataframe\">\n",
       "  <thead>\n",
       "    <tr style=\"text-align: right;\">\n",
       "      <th></th>\n",
       "      <th>protein_id</th>\n",
       "      <th>mutation</th>\n",
       "      <th>effect</th>\n",
       "      <th>sequence</th>\n",
       "      <th>structure</th>\n",
       "      <th>alignment</th>\n",
       "    </tr>\n",
       "  </thead>\n",
       "  <tbody>\n",
       "    <tr>\n",
       "      <th>0</th>\n",
       "      <td>A0A0C5B5G6</td>\n",
       "      <td>[K14Q]</td>\n",
       "      <td>[US]</td>\n",
       "      <td>MRWQEMGYIFYPRKLR</td>\n",
       "      <td>HEADER                                        ...</td>\n",
       "      <td>[&gt;101\\n, MRWQEMGYIFYPRKLR\\n, &gt;UniRef100_A0A0C5...</td>\n",
       "    </tr>\n",
       "  </tbody>\n",
       "</table>\n",
       "</div>"
      ],
      "text/plain": [
       "   protein_id mutation effect          sequence  \\\n",
       "0  A0A0C5B5G6   [K14Q]   [US]  MRWQEMGYIFYPRKLR   \n",
       "\n",
       "                                           structure  \\\n",
       "0  HEADER                                        ...   \n",
       "\n",
       "                                           alignment  \n",
       "0  [>101\\n, MRWQEMGYIFYPRKLR\\n, >UniRef100_A0A0C5...  "
      ]
     },
     "metadata": {},
     "output_type": "display_data"
    },
    {
     "name": "stdout",
     "output_type": "stream",
     "text": [
      "1\n"
     ]
    }
   ],
   "source": [
    "display(input_df.head(1))\n",
    "print(len(input_df))"
   ]
  },
  {
   "cell_type": "code",
   "execution_count": 14,
   "id": "e9ae1092-d63e-4829-9590-e4ed708009df",
   "metadata": {},
   "outputs": [
    {
     "data": {
      "text/plain": [
       "'protein_id'"
      ]
     },
     "execution_count": 14,
     "metadata": {},
     "output_type": "execute_result"
    }
   ],
   "source": [
    "protein_id_column = None\n",
    "\n",
    "for col in [\"protein_id\", \"uniprot_id\"]:\n",
    "    if col in input_df: \n",
    "        protein_id_column = col\n",
    "\n",
    "assert protein_id_column is not None\n",
    "protein_id_column"
   ]
  },
  {
   "cell_type": "code",
   "execution_count": 15,
   "id": "6cec73ce-ce44-49ff-a62c-ae301e5bf865",
   "metadata": {},
   "outputs": [
    {
     "data": {
      "text/plain": [
       "['mutation', 'effect']"
      ]
     },
     "execution_count": 15,
     "metadata": {},
     "output_type": "execute_result"
    }
   ],
   "source": [
    "# Get \"mutation\", \"effect\" \n",
    "tup = next(input_df.itertuples(index=False))\n",
    "iterable_fields = []\n",
    "for field in tup._fields: \n",
    "    if field in [protein_id_column]:\n",
    "        continue\n",
    "    try: \n",
    "        \n",
    "        if len(getattr(tup, field)) == len(tup.mutation):\n",
    "            iterable_fields.append(field)\n",
    "    except TypeError: \n",
    "        pass\n",
    "\n",
    "iterable_fields"
   ]
  },
  {
   "cell_type": "code",
   "execution_count": 16,
   "id": "45bd02b8-f188-4ee5-9bf9-e1d38d7bfb9e",
   "metadata": {},
   "outputs": [
    {
     "data": {
      "text/html": [
       "<div>\n",
       "<style scoped>\n",
       "    .dataframe tbody tr th:only-of-type {\n",
       "        vertical-align: middle;\n",
       "    }\n",
       "\n",
       "    .dataframe tbody tr th {\n",
       "        vertical-align: top;\n",
       "    }\n",
       "\n",
       "    .dataframe thead th {\n",
       "        text-align: right;\n",
       "    }\n",
       "</style>\n",
       "<table border=\"1\" class=\"dataframe\">\n",
       "  <thead>\n",
       "    <tr style=\"text-align: right;\">\n",
       "      <th></th>\n",
       "      <th>protein_id</th>\n",
       "      <th>mutation</th>\n",
       "      <th>effect</th>\n",
       "      <th>sequence</th>\n",
       "      <th>structure</th>\n",
       "      <th>alignment</th>\n",
       "    </tr>\n",
       "  </thead>\n",
       "  <tbody>\n",
       "    <tr>\n",
       "      <th>0</th>\n",
       "      <td>A0A0C5B5G6</td>\n",
       "      <td>[K14Q]</td>\n",
       "      <td>[US]</td>\n",
       "      <td>MRWQEMGYIFYPRKLR</td>\n",
       "      <td>HEADER                                        ...</td>\n",
       "      <td>[&gt;101\\n, MRWQEMGYIFYPRKLR\\n, &gt;UniRef100_A0A0C5...</td>\n",
       "    </tr>\n",
       "  </tbody>\n",
       "</table>\n",
       "</div>"
      ],
      "text/plain": [
       "   protein_id mutation effect          sequence  \\\n",
       "0  A0A0C5B5G6   [K14Q]   [US]  MRWQEMGYIFYPRKLR   \n",
       "\n",
       "                                           structure  \\\n",
       "0  HEADER                                        ...   \n",
       "\n",
       "                                           alignment  \n",
       "0  [>101\\n, MRWQEMGYIFYPRKLR\\n, >UniRef100_A0A0C5...  "
      ]
     },
     "execution_count": 16,
     "metadata": {},
     "output_type": "execute_result"
    }
   ],
   "source": [
    "pfile.read_row_group(0).to_pandas(integer_object_nulls=True)"
   ]
  },
  {
   "cell_type": "code",
   "execution_count": 17,
   "id": "f1fa9b19-3bcf-41ce-a6ae-28a220bd2a25",
   "metadata": {},
   "outputs": [],
   "source": [
    "# Only get the first three mutations \n",
    "if DEBUG:\n",
    "    for field in iterable_fields: \n",
    "        input_df[field] = input_df[field].str[:3]\n",
    "    input_df"
   ]
  },
  {
   "cell_type": "markdown",
   "id": "ecb397dc-7a3c-4094-9f84-fccbebf93e96",
   "metadata": {},
   "source": [
    "### Score mutations"
   ]
  },
  {
   "cell_type": "code",
   "execution_count": 18,
   "id": "515c7387-f33b-4a02-b434-743411d23bdb",
   "metadata": {},
   "outputs": [],
   "source": [
    "def validate_mutation(mutation):\n",
    "    aa = \"GVALICMFWPDESTYQNKRH\"\n",
    "    if re.search(f\"^[{aa}][1-9]+[0-9]*[{aa}]$\", mutation) is None: \n",
    "        print(f\"Skipping mutation {mutation} because it appears to be malformed.\")\n",
    "        return False\n",
    "    \n",
    "    if mutation[0] == mutation[-1]:\n",
    "        print(\n",
    "            f\"Skipping mutation {mutation} because the wildtype and mutant residues are the same.\"\n",
    "        )\n",
    "        return False\n",
    "    \n",
    "    return True"
   ]
  },
  {
   "cell_type": "code",
   "execution_count": 19,
   "id": "b99b28c3-6d0f-4114-9172-66e8410c0f70",
   "metadata": {},
   "outputs": [],
   "source": [
    "def predictions_to_embeddings(predictions):\n",
    "    return {\n",
    "        \"plddt\": pa.array([predictions[\"plddt\"]]),\n",
    "        \"max_predicted_aligned_error\": pa.array(\n",
    "            [predictions[\"max_predicted_aligned_error\"].item()]\n",
    "        ),\n",
    "        \"ptm\": pa.array([predictions[\"ptm\"].item()]),\n",
    "        #\n",
    "        \"experimentally_resolved\": pa.array(\n",
    "            [predictions[\"experimentally_resolved\"][\"logits\"].to_py().tolist()]\n",
    "        ),\n",
    "        \"predicted_lddt\": pa.array([predictions[\"predicted_lddt\"][\"logits\"].to_py().tolist()]),\n",
    "        #\n",
    "        \"msa_first_row\": pa.array(\n",
    "            [predictions[\"representations\"][\"msa_first_row\"].to_py().tolist()]\n",
    "        ),\n",
    "        \"single\": pa.array([predictions[\"representations\"][\"single\"].to_py().tolist()]),\n",
    "        \"structure_module\": pa.array(\n",
    "            [predictions[\"representations\"][\"structure_module\"].to_py().tolist()]\n",
    "        ),\n",
    "        # Pairwise metrics\n",
    "        \"distogram\": pa.array([data.predictions[\"distogram\"][\"logits\"].to_py().tolist()]),\n",
    "        \"distogram_bin_edges\": pa.array(\n",
    "            [data.predictions[\"distogram\"][\"bin_edges\"].to_py().tolist()]\n",
    "        ),\n",
    "        \"masked_msa\": pa.array([data.predictions[\"masked_msa\"][\"logits\"].to_py().tolist()]),\n",
    "        \"predicted_aligned_error\": pa.array([data.predictions[\"predicted_aligned_error\"].tolist()]),\n",
    "        \"aligned_confidence_probs\": pa.array(\n",
    "            [data.predictions[\"aligned_confidence_probs\"].tolist()]\n",
    "        ),\n",
    "        \"msa\": pa.array([data.predictions[\"representations\"][\"msa\"].to_py().tolist()]),\n",
    "        \"pair\": pa.array([data.predictions[\"representations\"][\"pair\"].to_py().tolist()]),\n",
    "    }"
   ]
  },
  {
   "cell_type": "code",
   "execution_count": 20,
   "id": "c2d9a8ad-8bba-4a16-8335-90be345f3dfe",
   "metadata": {},
   "outputs": [
    {
     "data": {
      "application/vnd.jupyter.widget-view+json": {
       "model_id": "b0ff52718bcf4cc19d3f9c12a3593273",
       "version_major": 2,
       "version_minor": 0
      },
      "text/plain": [
       "HBox(children=(HTML(value=''), FloatProgress(value=0.0, max=1.0), HTML(value='')))"
      ]
     },
     "metadata": {},
     "output_type": "display_data"
    },
    {
     "name": "stderr",
     "output_type": "stream",
     "text": [
      "WARNING:tensorflow:AutoGraph could not transform <function process_tensors_from_config.<locals>.wrap_ensemble_fn at 0x1543200aaee0> and will run it as-is.\n",
      "Please report this to the TensorFlow team. When filing the bug, set the verbosity to 10 (on Linux, `export AUTOGRAPH_VERBOSITY=10`) and attach the full output.\n",
      "Cause: module 'gast' has no attribute 'Index'\n",
      "To silence this warning, decorate the function with @tf.autograph.experimental.do_not_convert\n"
     ]
    },
    {
     "name": "stdout",
     "output_type": "stream",
     "text": [
      "WARNING: AutoGraph could not transform <function process_tensors_from_config.<locals>.wrap_ensemble_fn at 0x1543200aaee0> and will run it as-is.\n",
      "Please report this to the TensorFlow team. When filing the bug, set the verbosity to 10 (on Linux, `export AUTOGRAPH_VERBOSITY=10`) and attach the full output.\n",
      "Cause: module 'gast' has no attribute 'Index'\n",
      "To silence this warning, decorate the function with @tf.autograph.experimental.do_not_convert\n",
      "\n"
     ]
    }
   ],
   "source": [
    "assert len(input_df) == 1\n",
    "\n",
    "for tup in tqdm(input_df.itertuples(index=False), total=len(input_df)):\n",
    "    assert all([(len(getattr(tup, field)) == len(tup.mutation)) for field in iterable_fields])\n",
    "\n",
    "    with tempfile.NamedTemporaryFile(suffix=\".pdb\") as tmp_file:\n",
    "        with open(tmp_file.name, \"wt\") as fout:\n",
    "            fout.write(tup.structure)\n",
    "        data = AlphaFold.build(\n",
    "            tup.sequence, ligand_sequence=None, msa=tup.alignment, structure_file=tmp_file.name\n",
    "        )\n",
    "\n",
    "    results = {\"protein_id\": pa.array([tup.protein_id])} | predictions_to_embeddings(\n",
    "        data.predictions\n",
    "    )\n",
    "\n",
    "    del data"
   ]
  },
  {
   "cell_type": "code",
   "execution_count": 21,
   "id": "1f97e99e-e418-4517-b602-f67d857be80e",
   "metadata": {},
   "outputs": [],
   "source": [
    "table = pa.Table.from_pydict(results)\n",
    "del results"
   ]
  },
  {
   "cell_type": "code",
   "execution_count": 28,
   "id": "7b772e2c-30ea-4ad9-99ae-9ab8a373bbae",
   "metadata": {},
   "outputs": [
    {
     "data": {
      "text/plain": [
       "pyarrow.Table\n",
       "protein_id: string\n",
       "plddt: list<item: double>\n",
       "  child 0, item: double\n",
       "max_predicted_aligned_error: double\n",
       "ptm: double\n",
       "experimentally_resolved: list<item: list<item: double>>\n",
       "  child 0, item: list<item: double>\n",
       "      child 0, item: double\n",
       "predicted_lddt: list<item: list<item: double>>\n",
       "  child 0, item: list<item: double>\n",
       "      child 0, item: double\n",
       "msa_first_row: list<item: list<item: double>>\n",
       "  child 0, item: list<item: double>\n",
       "      child 0, item: double\n",
       "single: list<item: list<item: double>>\n",
       "  child 0, item: list<item: double>\n",
       "      child 0, item: double\n",
       "structure_module: list<item: list<item: double>>\n",
       "  child 0, item: list<item: double>\n",
       "      child 0, item: double\n",
       "distogram: list<item: list<item: list<item: double>>>\n",
       "  child 0, item: list<item: list<item: double>>\n",
       "      child 0, item: list<item: double>\n",
       "          child 0, item: double\n",
       "distogram_bin_edges: list<item: double>\n",
       "  child 0, item: double\n",
       "masked_msa: list<item: list<item: list<item: double>>>\n",
       "  child 0, item: list<item: list<item: double>>\n",
       "      child 0, item: list<item: double>\n",
       "          child 0, item: double\n",
       "predicted_aligned_error: list<item: list<item: double>>\n",
       "  child 0, item: list<item: double>\n",
       "      child 0, item: double\n",
       "aligned_confidence_probs: list<item: list<item: list<item: double>>>\n",
       "  child 0, item: list<item: list<item: double>>\n",
       "      child 0, item: list<item: double>\n",
       "          child 0, item: double\n",
       "msa: list<item: list<item: list<item: double>>>\n",
       "  child 0, item: list<item: list<item: double>>\n",
       "      child 0, item: list<item: double>\n",
       "          child 0, item: double\n",
       "pair: list<item: list<item: list<item: double>>>\n",
       "  child 0, item: list<item: list<item: double>>\n",
       "      child 0, item: list<item: double>\n",
       "          child 0, item: double"
      ]
     },
     "execution_count": 28,
     "metadata": {},
     "output_type": "execute_result"
    }
   ],
   "source": [
    "# table"
   ]
  },
  {
   "cell_type": "markdown",
   "id": "c81763f9-39ee-4769-a667-8c924fa19d0d",
   "metadata": {},
   "source": [
    "### Save results"
   ]
  },
  {
   "cell_type": "code",
   "execution_count": 26,
   "id": "83850f09-1aff-4daf-8c34-312540ab1e23",
   "metadata": {},
   "outputs": [
    {
     "name": "stdout",
     "output_type": "stream",
     "text": [
      "/tmp/shard-1-of-12557.parquet\n"
     ]
    }
   ],
   "source": [
    "if not DEBUG:\n",
    "    print(output_file)\n",
    "    pq.write_table(table, output_file)\n",
    "else: \n",
    "    print(Path(tempfile.gettempdir(), output_file.name))\n",
    "    # pq.write_table(table, Path(os.getcwd(), output_file.name))\n",
    "    pq.write_table(table, Path(tempfile.gettempdir(), output_file.name))"
   ]
  },
  {
   "cell_type": "code",
   "execution_count": 25,
   "id": "f152f550-8f74-407f-86e9-b34d52c9ff19",
   "metadata": {},
   "outputs": [
    {
     "data": {
      "text/html": [
       "<div>\n",
       "<style scoped>\n",
       "    .dataframe tbody tr th:only-of-type {\n",
       "        vertical-align: middle;\n",
       "    }\n",
       "\n",
       "    .dataframe tbody tr th {\n",
       "        vertical-align: top;\n",
       "    }\n",
       "\n",
       "    .dataframe thead th {\n",
       "        text-align: right;\n",
       "    }\n",
       "</style>\n",
       "<table border=\"1\" class=\"dataframe\">\n",
       "  <thead>\n",
       "    <tr style=\"text-align: right;\">\n",
       "      <th></th>\n",
       "      <th>protein_id</th>\n",
       "      <th>plddt</th>\n",
       "      <th>max_predicted_aligned_error</th>\n",
       "      <th>ptm</th>\n",
       "      <th>experimentally_resolved</th>\n",
       "      <th>predicted_lddt</th>\n",
       "      <th>msa_first_row</th>\n",
       "      <th>single</th>\n",
       "      <th>structure_module</th>\n",
       "      <th>distogram</th>\n",
       "      <th>distogram_bin_edges</th>\n",
       "      <th>masked_msa</th>\n",
       "      <th>predicted_aligned_error</th>\n",
       "      <th>aligned_confidence_probs</th>\n",
       "      <th>msa</th>\n",
       "      <th>pair</th>\n",
       "    </tr>\n",
       "  </thead>\n",
       "  <tbody>\n",
       "    <tr>\n",
       "      <th>0</th>\n",
       "      <td>A0A0C5B5G6</td>\n",
       "      <td>[53.57455223554278, 54.611194094643004, 58.862...</td>\n",
       "      <td>31.75</td>\n",
       "      <td>0.025813</td>\n",
       "      <td>[[-0.1137048676609993, -0.12213704735040665, -...</td>\n",
       "      <td>[[-3.507904529571533, -3.943702220916748, -3.4...</td>\n",
       "      <td>[[-4.545503616333008, -6.012115478515625, -3.3...</td>\n",
       "      <td>[[-13.525714874267578, 30.033740997314453, 18....</td>\n",
       "      <td>[[0.005022294819355011, 0.02520020306110382, -...</td>\n",
       "      <td>[[[111.78009033203125, -0.6297945976257324, -1...</td>\n",
       "      <td>[2.3125, 2.625, 2.9375, 3.25, 3.5625, 3.875, 4...</td>\n",
       "      <td>[[[-2.121242046356201, 1.3061237335205078, -2....</td>\n",
       "      <td>[[0.25013262033462524, 1.3057842254638672, 4.5...</td>\n",
       "      <td>[[[0.999992311000824, 0.0, 0.0, 0.0, 0.0, 2.80...</td>\n",
       "      <td>[[[-4.194990158081055, -5.960346221923828, -2....</td>\n",
       "      <td>[[[30.437519073486328, 549.00439453125, 1.0255...</td>\n",
       "    </tr>\n",
       "  </tbody>\n",
       "</table>\n",
       "</div>"
      ],
      "text/plain": [
       "   protein_id                                              plddt  \\\n",
       "0  A0A0C5B5G6  [53.57455223554278, 54.611194094643004, 58.862...   \n",
       "\n",
       "   max_predicted_aligned_error       ptm  \\\n",
       "0                        31.75  0.025813   \n",
       "\n",
       "                             experimentally_resolved  \\\n",
       "0  [[-0.1137048676609993, -0.12213704735040665, -...   \n",
       "\n",
       "                                      predicted_lddt  \\\n",
       "0  [[-3.507904529571533, -3.943702220916748, -3.4...   \n",
       "\n",
       "                                       msa_first_row  \\\n",
       "0  [[-4.545503616333008, -6.012115478515625, -3.3...   \n",
       "\n",
       "                                              single  \\\n",
       "0  [[-13.525714874267578, 30.033740997314453, 18....   \n",
       "\n",
       "                                    structure_module  \\\n",
       "0  [[0.005022294819355011, 0.02520020306110382, -...   \n",
       "\n",
       "                                           distogram  \\\n",
       "0  [[[111.78009033203125, -0.6297945976257324, -1...   \n",
       "\n",
       "                                 distogram_bin_edges  \\\n",
       "0  [2.3125, 2.625, 2.9375, 3.25, 3.5625, 3.875, 4...   \n",
       "\n",
       "                                          masked_msa  \\\n",
       "0  [[[-2.121242046356201, 1.3061237335205078, -2....   \n",
       "\n",
       "                             predicted_aligned_error  \\\n",
       "0  [[0.25013262033462524, 1.3057842254638672, 4.5...   \n",
       "\n",
       "                            aligned_confidence_probs  \\\n",
       "0  [[[0.999992311000824, 0.0, 0.0, 0.0, 0.0, 2.80...   \n",
       "\n",
       "                                                 msa  \\\n",
       "0  [[[-4.194990158081055, -5.960346221923828, -2....   \n",
       "\n",
       "                                                pair  \n",
       "0  [[[30.437519073486328, 549.00439453125, 1.0255...  "
      ]
     },
     "execution_count": 25,
     "metadata": {},
     "output_type": "execute_result"
    }
   ],
   "source": [
    "# table.to_pandas()"
   ]
  }
 ],
 "metadata": {
  "kernelspec": {
   "display_name": "Python 3 (ipykernel)",
   "language": "python",
   "name": "python3"
  },
  "language_info": {
   "codemirror_mode": {
    "name": "ipython",
    "version": 3
   },
   "file_extension": ".py",
   "mimetype": "text/x-python",
   "name": "python",
   "nbconvert_exporter": "python",
   "pygments_lexer": "ipython3",
   "version": "3.9.7"
  }
 },
 "nbformat": 4,
 "nbformat_minor": 5
}
