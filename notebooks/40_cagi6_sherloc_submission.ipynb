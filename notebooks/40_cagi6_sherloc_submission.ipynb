{
 "cells": [
  {
   "cell_type": "markdown",
   "id": "26c81e96-6b41-41fa-80a6-6360c482eb58",
   "metadata": {},
   "source": [
    "## Summary\n",
    "\n",
    "---"
   ]
  },
  {
   "cell_type": "markdown",
   "id": "ec276dec-6afa-4b57-bbfc-a11e04a8767e",
   "metadata": {},
   "source": [
    "## Imports"
   ]
  },
  {
   "cell_type": "code",
   "execution_count": 1,
   "id": "539f4edf-ca04-4bef-b5c9-a6d402f7570b",
   "metadata": {},
   "outputs": [
    {
     "name": "stderr",
     "output_type": "stream",
     "text": [
      "Matplotlib created a temporary config/cache directory at /tmp/matplotlib-4yhy2_w8 because the default path (/home/p/pmkim/strokach/.config/matplotlib) is not a writable directory; it is highly recommended to set the MPLCONFIGDIR environment variable to a writable directory, in particular to speed up the import of Matplotlib and to better support multiprocessing.\n"
     ]
    }
   ],
   "source": [
    "import functools\n",
    "import json\n",
    "from pathlib import Path\n",
    "\n",
    "import lightgbm as lgb\n",
    "import matplotlib.pyplot as plt\n",
    "import numpy as np\n",
    "import pandas as pd\n",
    "import pyarrow as pa\n",
    "import pyarrow.parquet as pq\n",
    "from scipy import stats\n",
    "from sklearn import metrics, model_selection\n",
    "from sklearn.decomposition import PCA\n",
    "from sklearn.model_selection import GroupKFold\n",
    "from sklearn.preprocessing import StandardScaler\n",
    "from tqdm.auto import tqdm"
   ]
  },
  {
   "cell_type": "code",
   "execution_count": 2,
   "id": "d08b0792-00b7-44be-9257-a554f95bd602",
   "metadata": {},
   "outputs": [],
   "source": [
    "pd.set_option(\"max_columns\", 1000)\n",
    "pd.set_option(\"max_rows\", 1000)"
   ]
  },
  {
   "cell_type": "markdown",
   "id": "5be0ca05-c038-414f-ba84-b2ae8013088b",
   "metadata": {},
   "source": [
    "## Parameters"
   ]
  },
  {
   "cell_type": "code",
   "execution_count": 3,
   "id": "10e1faee-9f6a-40d8-8819-272b1c9837bb",
   "metadata": {},
   "outputs": [
    {
     "data": {
      "text/plain": [
       "PosixPath('/gpfs/fs0/scratch/p/pmkim/strokach/workspace/elaspic2-cagi6/notebooks/40_cagi6_sherloc_submission')"
      ]
     },
     "execution_count": 3,
     "metadata": {},
     "output_type": "execute_result"
    }
   ],
   "source": [
    "NOTEBOOK_DIR = Path(\"40_cagi6_sherloc_submission\").resolve()\n",
    "NOTEBOOK_DIR.mkdir(exist_ok=True)\n",
    "\n",
    "NOTEBOOK_DIR"
   ]
  },
  {
   "cell_type": "markdown",
   "id": "4d36d995-7bea-48cc-971b-cf926cbb17f8",
   "metadata": {},
   "source": [
    "## Load data"
   ]
  },
  {
   "cell_type": "code",
   "execution_count": 4,
   "id": "4de96fa1-7815-48cb-a8ed-035d5ddd8a8c",
   "metadata": {},
   "outputs": [
    {
     "data": {
      "text/html": [
       "<div>\n",
       "<style scoped>\n",
       "    .dataframe tbody tr th:only-of-type {\n",
       "        vertical-align: middle;\n",
       "    }\n",
       "\n",
       "    .dataframe tbody tr th {\n",
       "        vertical-align: top;\n",
       "    }\n",
       "\n",
       "    .dataframe thead th {\n",
       "        text-align: right;\n",
       "    }\n",
       "</style>\n",
       "<table border=\"1\" class=\"dataframe\">\n",
       "  <thead>\n",
       "    <tr style=\"text-align: right;\">\n",
       "      <th></th>\n",
       "      <th>hgvs</th>\n",
       "      <th>score</th>\n",
       "      <th>class</th>\n",
       "      <th>comment</th>\n",
       "    </tr>\n",
       "  </thead>\n",
       "  <tbody>\n",
       "    <tr>\n",
       "      <th>0</th>\n",
       "      <td>NM_152486.2:c.39C&gt;T</td>\n",
       "      <td>*</td>\n",
       "      <td>*</td>\n",
       "      <td>*</td>\n",
       "    </tr>\n",
       "    <tr>\n",
       "      <th>1</th>\n",
       "      <td>NM_152486.2:c.62C&gt;T</td>\n",
       "      <td>*</td>\n",
       "      <td>*</td>\n",
       "      <td>*</td>\n",
       "    </tr>\n",
       "  </tbody>\n",
       "</table>\n",
       "</div>"
      ],
      "text/plain": [
       "                  hgvs score class comment\n",
       "0  NM_152486.2:c.39C>T     *     *       *\n",
       "1  NM_152486.2:c.62C>T     *     *       *"
      ]
     },
     "metadata": {},
     "output_type": "display_data"
    },
    {
     "data": {
      "text/plain": [
       "122124"
      ]
     },
     "execution_count": 4,
     "metadata": {},
     "output_type": "execute_result"
    }
   ],
   "source": [
    "submission_template_file = NOTEBOOK_DIR.parent.joinpath(\n",
    "    \"30_cagi6_sherloc\", \"submission_template.tsv\"\n",
    ")\n",
    "\n",
    "submission_template_df = pd.read_csv(submission_template_file, sep=\"\\t\")\n",
    "\n",
    "display(submission_template_df.head(2))\n",
    "len(submission_template_df)"
   ]
  },
  {
   "cell_type": "markdown",
   "id": "8349f2e2-9d7d-43ab-a5e2-27935dd72dae",
   "metadata": {},
   "source": [
    "### `training_df`"
   ]
  },
  {
   "cell_type": "code",
   "execution_count": 5,
   "id": "fd60b9b3-b6c0-4c6a-8769-70414425df6e",
   "metadata": {},
   "outputs": [],
   "source": [
    "training_file = NOTEBOOK_DIR.parent.joinpath(\n",
    "    \"30_cagi6_sherloc\",\n",
    "    \"CAGI6-Sherloc-clinical-classification\",\n",
    "    \"final_train_070821.txt\",\n",
    ")"
   ]
  },
  {
   "cell_type": "code",
   "execution_count": 6,
   "id": "3c067902-63e5-425d-aa59-9183106a750b",
   "metadata": {},
   "outputs": [
    {
     "name": "stderr",
     "output_type": "stream",
     "text": [
      "/opt/conda/lib/python3.9/site-packages/IPython/core/interactiveshell.py:3441: DtypeWarning: Columns (0) have mixed types.Specify dtype option on import or set low_memory=False.\n",
      "  exec(code_obj, self.user_global_ns, self.user_ns)\n"
     ]
    },
    {
     "data": {
      "text/html": [
       "<div>\n",
       "<style scoped>\n",
       "    .dataframe tbody tr th:only-of-type {\n",
       "        vertical-align: middle;\n",
       "    }\n",
       "\n",
       "    .dataframe tbody tr th {\n",
       "        vertical-align: top;\n",
       "    }\n",
       "\n",
       "    .dataframe thead th {\n",
       "        text-align: right;\n",
       "    }\n",
       "</style>\n",
       "<table border=\"1\" class=\"dataframe\">\n",
       "  <thead>\n",
       "    <tr style=\"text-align: right;\">\n",
       "      <th></th>\n",
       "      <th>chr</th>\n",
       "      <th>pos</th>\n",
       "      <th>ref</th>\n",
       "      <th>alt</th>\n",
       "      <th>hgvs</th>\n",
       "      <th>interpretation</th>\n",
       "      <th>Subcategory Missense</th>\n",
       "      <th>Subcategory Small intronic deletion or insertion</th>\n",
       "      <th>Subcategory Small exonic in-frame deletion or insertion</th>\n",
       "    </tr>\n",
       "  </thead>\n",
       "  <tbody>\n",
       "    <tr>\n",
       "      <th>0</th>\n",
       "      <td>1</td>\n",
       "      <td>861332</td>\n",
       "      <td>G</td>\n",
       "      <td>A</td>\n",
       "      <td>NM_152486.2:c.11G&gt;A</td>\n",
       "      <td>Uncertain significance</td>\n",
       "      <td>True</td>\n",
       "      <td>False</td>\n",
       "      <td>False</td>\n",
       "    </tr>\n",
       "    <tr>\n",
       "      <th>1</th>\n",
       "      <td>1</td>\n",
       "      <td>865568</td>\n",
       "      <td>G</td>\n",
       "      <td>A</td>\n",
       "      <td>NM_152486.2:c.106G&gt;A</td>\n",
       "      <td>Uncertain significance</td>\n",
       "      <td>True</td>\n",
       "      <td>False</td>\n",
       "      <td>False</td>\n",
       "    </tr>\n",
       "  </tbody>\n",
       "</table>\n",
       "</div>"
      ],
      "text/plain": [
       "  chr     pos ref alt                  hgvs          interpretation  \\\n",
       "0   1  861332   G   A   NM_152486.2:c.11G>A  Uncertain significance   \n",
       "1   1  865568   G   A  NM_152486.2:c.106G>A  Uncertain significance   \n",
       "\n",
       "   Subcategory Missense  Subcategory Small intronic deletion or insertion  \\\n",
       "0                  True                                             False   \n",
       "1                  True                                             False   \n",
       "\n",
       "   Subcategory Small exonic in-frame deletion or insertion  \n",
       "0                                              False        \n",
       "1                                              False        "
      ]
     },
     "metadata": {},
     "output_type": "display_data"
    },
    {
     "data": {
      "text/plain": [
       "418354"
      ]
     },
     "execution_count": 6,
     "metadata": {},
     "output_type": "execute_result"
    }
   ],
   "source": [
    "training_all_df = pd.read_csv(training_file, sep=\"\\t\")\n",
    "\n",
    "display(training_all_df.head(2))\n",
    "len(training_all_df)"
   ]
  },
  {
   "cell_type": "code",
   "execution_count": 7,
   "id": "19cd38c9-1569-4c3e-9920-492604dc0ddd",
   "metadata": {},
   "outputs": [],
   "source": [
    "assert not set(submission_template_df[\"hgvs\"]) & set(training_all_df[\"hgvs\"])"
   ]
  },
  {
   "cell_type": "code",
   "execution_count": 8,
   "id": "7d852835-27fc-4be4-a9a2-f011ee68f6e1",
   "metadata": {},
   "outputs": [
    {
     "data": {
      "text/html": [
       "<div>\n",
       "<style scoped>\n",
       "    .dataframe tbody tr th:only-of-type {\n",
       "        vertical-align: middle;\n",
       "    }\n",
       "\n",
       "    .dataframe tbody tr th {\n",
       "        vertical-align: top;\n",
       "    }\n",
       "\n",
       "    .dataframe thead th {\n",
       "        text-align: right;\n",
       "    }\n",
       "</style>\n",
       "<table border=\"1\" class=\"dataframe\">\n",
       "  <thead>\n",
       "    <tr style=\"text-align: right;\">\n",
       "      <th></th>\n",
       "      <th>chr</th>\n",
       "      <th>pos</th>\n",
       "      <th>ref</th>\n",
       "      <th>alt</th>\n",
       "      <th>hgvs</th>\n",
       "      <th>interpretation</th>\n",
       "      <th>Subcategory Missense</th>\n",
       "      <th>Subcategory Small intronic deletion or insertion</th>\n",
       "      <th>Subcategory Small exonic in-frame deletion or insertion</th>\n",
       "    </tr>\n",
       "  </thead>\n",
       "  <tbody>\n",
       "    <tr>\n",
       "      <th>0</th>\n",
       "      <td>1</td>\n",
       "      <td>861332</td>\n",
       "      <td>G</td>\n",
       "      <td>A</td>\n",
       "      <td>NM_152486.2:c.11G&gt;A</td>\n",
       "      <td>Uncertain significance</td>\n",
       "      <td>True</td>\n",
       "      <td>False</td>\n",
       "      <td>False</td>\n",
       "    </tr>\n",
       "    <tr>\n",
       "      <th>1</th>\n",
       "      <td>1</td>\n",
       "      <td>865568</td>\n",
       "      <td>G</td>\n",
       "      <td>A</td>\n",
       "      <td>NM_152486.2:c.106G&gt;A</td>\n",
       "      <td>Uncertain significance</td>\n",
       "      <td>True</td>\n",
       "      <td>False</td>\n",
       "      <td>False</td>\n",
       "    </tr>\n",
       "  </tbody>\n",
       "</table>\n",
       "</div>"
      ],
      "text/plain": [
       "  chr     pos ref alt                  hgvs          interpretation  \\\n",
       "0   1  861332   G   A   NM_152486.2:c.11G>A  Uncertain significance   \n",
       "1   1  865568   G   A  NM_152486.2:c.106G>A  Uncertain significance   \n",
       "\n",
       "   Subcategory Missense  Subcategory Small intronic deletion or insertion  \\\n",
       "0                  True                                             False   \n",
       "1                  True                                             False   \n",
       "\n",
       "   Subcategory Small exonic in-frame deletion or insertion  \n",
       "0                                              False        \n",
       "1                                              False        "
      ]
     },
     "metadata": {},
     "output_type": "display_data"
    },
    {
     "data": {
      "text/plain": [
       "217153"
      ]
     },
     "execution_count": 8,
     "metadata": {},
     "output_type": "execute_result"
    }
   ],
   "source": [
    "training_df = training_all_df[training_all_df[\"Subcategory Missense\"]]\n",
    "\n",
    "display(training_df.head(2))\n",
    "len(training_df)"
   ]
  },
  {
   "cell_type": "markdown",
   "id": "dc4d933d-a5de-48da-b2f5-8c1bfb2d4b0f",
   "metadata": {},
   "source": [
    "### `testing_df`"
   ]
  },
  {
   "cell_type": "code",
   "execution_count": 9,
   "id": "57d4ef71-ec3e-4152-8dfa-de4584e2aad4",
   "metadata": {},
   "outputs": [],
   "source": [
    "testing_file = NOTEBOOK_DIR.parent.joinpath(\n",
    "    \"30_cagi6_sherloc\", \"CAGI6-Sherloc-clinical-classification\", \"final_test_070821.txt\"\n",
    ")"
   ]
  },
  {
   "cell_type": "code",
   "execution_count": 10,
   "id": "55dc0f3e-34bf-415d-8c6a-67356700dc38",
   "metadata": {},
   "outputs": [
    {
     "name": "stderr",
     "output_type": "stream",
     "text": [
      "/opt/conda/lib/python3.9/site-packages/IPython/core/interactiveshell.py:3441: DtypeWarning: Columns (0) have mixed types.Specify dtype option on import or set low_memory=False.\n",
      "  exec(code_obj, self.user_global_ns, self.user_ns)\n"
     ]
    },
    {
     "data": {
      "text/html": [
       "<div>\n",
       "<style scoped>\n",
       "    .dataframe tbody tr th:only-of-type {\n",
       "        vertical-align: middle;\n",
       "    }\n",
       "\n",
       "    .dataframe tbody tr th {\n",
       "        vertical-align: top;\n",
       "    }\n",
       "\n",
       "    .dataframe thead th {\n",
       "        text-align: right;\n",
       "    }\n",
       "</style>\n",
       "<table border=\"1\" class=\"dataframe\">\n",
       "  <thead>\n",
       "    <tr style=\"text-align: right;\">\n",
       "      <th></th>\n",
       "      <th>chr</th>\n",
       "      <th>pos</th>\n",
       "      <th>ref</th>\n",
       "      <th>alt</th>\n",
       "      <th>hgvs</th>\n",
       "      <th>Subcategory Missense</th>\n",
       "      <th>Subcategory Small intronic deletion or insertion</th>\n",
       "      <th>Subcategory Small exonic in-frame deletion or insertion</th>\n",
       "    </tr>\n",
       "  </thead>\n",
       "  <tbody>\n",
       "    <tr>\n",
       "      <th>0</th>\n",
       "      <td>1</td>\n",
       "      <td>861360</td>\n",
       "      <td>C</td>\n",
       "      <td>T</td>\n",
       "      <td>NM_152486.2:c.39C&gt;T</td>\n",
       "      <td>False</td>\n",
       "      <td>False</td>\n",
       "      <td>False</td>\n",
       "    </tr>\n",
       "    <tr>\n",
       "      <th>1</th>\n",
       "      <td>1</td>\n",
       "      <td>861383</td>\n",
       "      <td>C</td>\n",
       "      <td>T</td>\n",
       "      <td>NM_152486.2:c.62C&gt;T</td>\n",
       "      <td>True</td>\n",
       "      <td>False</td>\n",
       "      <td>False</td>\n",
       "    </tr>\n",
       "  </tbody>\n",
       "</table>\n",
       "</div>"
      ],
      "text/plain": [
       "  chr     pos ref alt                 hgvs  Subcategory Missense  \\\n",
       "0   1  861360   C   T  NM_152486.2:c.39C>T                 False   \n",
       "1   1  861383   C   T  NM_152486.2:c.62C>T                  True   \n",
       "\n",
       "   Subcategory Small intronic deletion or insertion  \\\n",
       "0                                             False   \n",
       "1                                             False   \n",
       "\n",
       "   Subcategory Small exonic in-frame deletion or insertion  \n",
       "0                                              False        \n",
       "1                                              False        "
      ]
     },
     "metadata": {},
     "output_type": "display_data"
    },
    {
     "data": {
      "text/plain": [
       "122124"
      ]
     },
     "execution_count": 10,
     "metadata": {},
     "output_type": "execute_result"
    }
   ],
   "source": [
    "testing_all_df = pd.read_csv(testing_file, sep=\"\\t\")\n",
    "\n",
    "display(testing_all_df.head(2))\n",
    "len(testing_all_df)"
   ]
  },
  {
   "cell_type": "code",
   "execution_count": 11,
   "id": "52d4ed61-3ddd-4cac-a934-a2cc07349392",
   "metadata": {},
   "outputs": [],
   "source": [
    "assert not set(submission_template_df[\"hgvs\"]) ^ set(testing_all_df[\"hgvs\"])"
   ]
  },
  {
   "cell_type": "code",
   "execution_count": 12,
   "id": "f5b2db23-6aa7-4892-968b-1169b59057a4",
   "metadata": {},
   "outputs": [
    {
     "data": {
      "text/html": [
       "<div>\n",
       "<style scoped>\n",
       "    .dataframe tbody tr th:only-of-type {\n",
       "        vertical-align: middle;\n",
       "    }\n",
       "\n",
       "    .dataframe tbody tr th {\n",
       "        vertical-align: top;\n",
       "    }\n",
       "\n",
       "    .dataframe thead th {\n",
       "        text-align: right;\n",
       "    }\n",
       "</style>\n",
       "<table border=\"1\" class=\"dataframe\">\n",
       "  <thead>\n",
       "    <tr style=\"text-align: right;\">\n",
       "      <th></th>\n",
       "      <th>chr</th>\n",
       "      <th>pos</th>\n",
       "      <th>ref</th>\n",
       "      <th>alt</th>\n",
       "      <th>hgvs</th>\n",
       "      <th>Subcategory Missense</th>\n",
       "      <th>Subcategory Small intronic deletion or insertion</th>\n",
       "      <th>Subcategory Small exonic in-frame deletion or insertion</th>\n",
       "    </tr>\n",
       "  </thead>\n",
       "  <tbody>\n",
       "    <tr>\n",
       "      <th>1</th>\n",
       "      <td>1</td>\n",
       "      <td>861383</td>\n",
       "      <td>C</td>\n",
       "      <td>T</td>\n",
       "      <td>NM_152486.2:c.62C&gt;T</td>\n",
       "      <td>True</td>\n",
       "      <td>False</td>\n",
       "      <td>False</td>\n",
       "    </tr>\n",
       "    <tr>\n",
       "      <th>7</th>\n",
       "      <td>1</td>\n",
       "      <td>865640</td>\n",
       "      <td>G</td>\n",
       "      <td>A</td>\n",
       "      <td>NM_152486.2:c.178G&gt;A</td>\n",
       "      <td>True</td>\n",
       "      <td>False</td>\n",
       "      <td>False</td>\n",
       "    </tr>\n",
       "  </tbody>\n",
       "</table>\n",
       "</div>"
      ],
      "text/plain": [
       "  chr     pos ref alt                  hgvs  Subcategory Missense  \\\n",
       "1   1  861383   C   T   NM_152486.2:c.62C>T                  True   \n",
       "7   1  865640   G   A  NM_152486.2:c.178G>A                  True   \n",
       "\n",
       "   Subcategory Small intronic deletion or insertion  \\\n",
       "1                                             False   \n",
       "7                                             False   \n",
       "\n",
       "   Subcategory Small exonic in-frame deletion or insertion  \n",
       "1                                              False        \n",
       "7                                              False        "
      ]
     },
     "metadata": {},
     "output_type": "display_data"
    },
    {
     "data": {
      "text/plain": [
       "47103"
      ]
     },
     "execution_count": 12,
     "metadata": {},
     "output_type": "execute_result"
    }
   ],
   "source": [
    "testing_df = testing_all_df[testing_all_df[\"Subcategory Missense\"]]\n",
    "\n",
    "display(testing_df.head(2))\n",
    "len(testing_df)"
   ]
  },
  {
   "cell_type": "markdown",
   "id": "8a53fd2b-3f78-4eee-8618-0a3bd7b30724",
   "metadata": {},
   "source": [
    "### `submission_template_df`"
   ]
  },
  {
   "cell_type": "code",
   "execution_count": 13,
   "id": "ef56a107-69bd-4aa1-8be5-5157f5a6146b",
   "metadata": {},
   "outputs": [],
   "source": [
    "submission_template_file = NOTEBOOK_DIR.parent.joinpath(\n",
    "    \"30_cagi6_sherloc\", \"submission_template.tsv\"\n",
    ")"
   ]
  },
  {
   "cell_type": "code",
   "execution_count": 14,
   "id": "fed36237-196d-44fb-98ff-04b8b1eed635",
   "metadata": {},
   "outputs": [
    {
     "data": {
      "text/html": [
       "<div>\n",
       "<style scoped>\n",
       "    .dataframe tbody tr th:only-of-type {\n",
       "        vertical-align: middle;\n",
       "    }\n",
       "\n",
       "    .dataframe tbody tr th {\n",
       "        vertical-align: top;\n",
       "    }\n",
       "\n",
       "    .dataframe thead th {\n",
       "        text-align: right;\n",
       "    }\n",
       "</style>\n",
       "<table border=\"1\" class=\"dataframe\">\n",
       "  <thead>\n",
       "    <tr style=\"text-align: right;\">\n",
       "      <th></th>\n",
       "      <th>hgvs</th>\n",
       "      <th>score</th>\n",
       "      <th>class</th>\n",
       "      <th>comment</th>\n",
       "    </tr>\n",
       "  </thead>\n",
       "  <tbody>\n",
       "    <tr>\n",
       "      <th>0</th>\n",
       "      <td>NM_152486.2:c.39C&gt;T</td>\n",
       "      <td>*</td>\n",
       "      <td>*</td>\n",
       "      <td>*</td>\n",
       "    </tr>\n",
       "    <tr>\n",
       "      <th>1</th>\n",
       "      <td>NM_152486.2:c.62C&gt;T</td>\n",
       "      <td>*</td>\n",
       "      <td>*</td>\n",
       "      <td>*</td>\n",
       "    </tr>\n",
       "  </tbody>\n",
       "</table>\n",
       "</div>"
      ],
      "text/plain": [
       "                  hgvs score class comment\n",
       "0  NM_152486.2:c.39C>T     *     *       *\n",
       "1  NM_152486.2:c.62C>T     *     *       *"
      ]
     },
     "metadata": {},
     "output_type": "display_data"
    },
    {
     "data": {
      "text/plain": [
       "122124"
      ]
     },
     "execution_count": 14,
     "metadata": {},
     "output_type": "execute_result"
    }
   ],
   "source": [
    "submission_template_df = pd.read_csv(submission_template_file, sep=\"\\t\")\n",
    "\n",
    "display(submission_template_df.head(2))\n",
    "len(submission_template_df)"
   ]
  },
  {
   "cell_type": "markdown",
   "id": "c76d3637-20f1-4ab1-8222-f857c4631325",
   "metadata": {},
   "source": [
    "### `validation_df`"
   ]
  },
  {
   "cell_type": "code",
   "execution_count": 15,
   "id": "72f5dfd8-d33f-4228-9632-194cb74b7424",
   "metadata": {},
   "outputs": [],
   "source": [
    "validation_file = NOTEBOOK_DIR.parent.joinpath(\n",
    "    \"30_cagi6_sherloc\", \"validation_variants.tsv\"\n",
    ")"
   ]
  },
  {
   "cell_type": "code",
   "execution_count": 16,
   "id": "7d7355ec-350b-4cd7-a836-505b9176502b",
   "metadata": {},
   "outputs": [
    {
     "data": {
      "text/html": [
       "<div>\n",
       "<style scoped>\n",
       "    .dataframe tbody tr th:only-of-type {\n",
       "        vertical-align: middle;\n",
       "    }\n",
       "\n",
       "    .dataframe tbody tr th {\n",
       "        vertical-align: top;\n",
       "    }\n",
       "\n",
       "    .dataframe thead th {\n",
       "        text-align: right;\n",
       "    }\n",
       "</style>\n",
       "<table border=\"1\" class=\"dataframe\">\n",
       "  <thead>\n",
       "    <tr style=\"text-align: right;\">\n",
       "      <th></th>\n",
       "      <th>hgvs_g</th>\n",
       "    </tr>\n",
       "  </thead>\n",
       "  <tbody>\n",
       "    <tr>\n",
       "      <th>17812</th>\n",
       "      <td>NC_000023.10:g.32519861C&gt;T</td>\n",
       "    </tr>\n",
       "    <tr>\n",
       "      <th>17813</th>\n",
       "      <td>NC_000015.9:g.85406864_85406865insT</td>\n",
       "    </tr>\n",
       "  </tbody>\n",
       "</table>\n",
       "</div>"
      ],
      "text/plain": [
       "                                    hgvs_g\n",
       "17812           NC_000023.10:g.32519861C>T\n",
       "17813  NC_000015.9:g.85406864_85406865insT"
      ]
     },
     "metadata": {},
     "output_type": "display_data"
    },
    {
     "data": {
      "text/plain": [
       "17814"
      ]
     },
     "execution_count": 16,
     "metadata": {},
     "output_type": "execute_result"
    }
   ],
   "source": [
    "validation_all_df = pd.read_csv(validation_file, sep=\"\\t\").rename(\n",
    "    columns={\"HGVS.c\": \"hgvs_g\"}\n",
    ")\n",
    "\n",
    "display(validation_all_df.tail(2))\n",
    "len(validation_all_df)"
   ]
  },
  {
   "cell_type": "code",
   "execution_count": 17,
   "id": "1b4246f2-f166-4735-a4ee-40345b607043",
   "metadata": {},
   "outputs": [],
   "source": [
    "def map_g_to_c(str_g, mapper):\n",
    "    from hgvs.exceptions import HGVSInvalidIntervalError, HGVSUsageError\n",
    "\n",
    "    var_g = hp.parse_hgvs_variant(str_g)\n",
    "    for tx_ac in mapper.relevant_transcripts(var_g):\n",
    "        try:\n",
    "            var_c = mapper.g_to_c(var_g, tx_ac)\n",
    "        except (HGVSUsageError, HGVSInvalidIntervalError):\n",
    "            continue\n",
    "        yield var_c"
   ]
  },
  {
   "cell_type": "code",
   "execution_count": 18,
   "id": "74e25dc7-f9c2-42de-a104-c8946d1233f1",
   "metadata": {},
   "outputs": [],
   "source": [
    "validation_mapping_file = NOTEBOOK_DIR.parent.joinpath(\n",
    "    \"30_cagi6_sherloc\", \"validation-mapping-grch37.parquet\"\n",
    ")\n",
    "\n",
    "if validation_mapping_file.is_file():\n",
    "    validation_mapping_df = pq.read_table(validation_mapping_file).to_pandas()\n",
    "else:\n",
    "    import hgvs.assemblymapper\n",
    "    import hgvs.dataproviders.uta\n",
    "    import hgvs.parser\n",
    "\n",
    "    hp = hgvs.parser.Parser()\n",
    "    hdp = hgvs.dataproviders.uta.connect()\n",
    "    mapper = hgvs.assemblymapper.AssemblyMapper(\n",
    "        hdp, assembly_name=\"GRCh37\", normalize=False\n",
    "    )\n",
    "\n",
    "    results = []\n",
    "    for tup in tqdm(validation_all_df.itertuples(), total=len(validation_all_df)):\n",
    "        for var_c in map_g_to_c(tup.hgvs_g, mapper):\n",
    "            results.append((tup.str_g, str(var_c)))\n",
    "    validation_mapping_df = pd.DataFrame(results, columns=[\"hgvs_g\", \"hgvs\"])\n",
    "    pq.write_table(\n",
    "        pa.Table.from_pandas(validation_mapping_df, preserve_index=False),\n",
    "        validation_mapping_file,\n",
    "    )"
   ]
  },
  {
   "cell_type": "code",
   "execution_count": 19,
   "id": "73e87f59-55e5-4d95-8c0d-1d70dfe58a32",
   "metadata": {},
   "outputs": [
    {
     "data": {
      "text/html": [
       "<div>\n",
       "<style scoped>\n",
       "    .dataframe tbody tr th:only-of-type {\n",
       "        vertical-align: middle;\n",
       "    }\n",
       "\n",
       "    .dataframe tbody tr th {\n",
       "        vertical-align: top;\n",
       "    }\n",
       "\n",
       "    .dataframe thead th {\n",
       "        text-align: right;\n",
       "    }\n",
       "</style>\n",
       "<table border=\"1\" class=\"dataframe\">\n",
       "  <thead>\n",
       "    <tr style=\"text-align: right;\">\n",
       "      <th></th>\n",
       "      <th>hgvs_g</th>\n",
       "      <th>hgvs</th>\n",
       "    </tr>\n",
       "  </thead>\n",
       "  <tbody>\n",
       "    <tr>\n",
       "      <th>0</th>\n",
       "      <td>NC_000002.11:g.152537358A&gt;G</td>\n",
       "      <td>NM_001164508.1:c.2944-16T&gt;C</td>\n",
       "    </tr>\n",
       "    <tr>\n",
       "      <th>1</th>\n",
       "      <td>NC_000002.11:g.152537358A&gt;G</td>\n",
       "      <td>NM_004543.4:c.2944-16T&gt;C</td>\n",
       "    </tr>\n",
       "  </tbody>\n",
       "</table>\n",
       "</div>"
      ],
      "text/plain": [
       "                        hgvs_g                         hgvs\n",
       "0  NC_000002.11:g.152537358A>G  NM_001164508.1:c.2944-16T>C\n",
       "1  NC_000002.11:g.152537358A>G     NM_004543.4:c.2944-16T>C"
      ]
     },
     "metadata": {},
     "output_type": "display_data"
    },
    {
     "name": "stdout",
     "output_type": "stream",
     "text": [
      "67819\n"
     ]
    }
   ],
   "source": [
    "display(validation_mapping_df.head(2))\n",
    "print(len(validation_mapping_df))"
   ]
  },
  {
   "cell_type": "code",
   "execution_count": 20,
   "id": "f5e1fba7-657e-40d2-bd17-25103d8ad28c",
   "metadata": {},
   "outputs": [],
   "source": [
    "validation_df = (\n",
    "    validation_all_df\n",
    "    #\n",
    "    .merge(validation_mapping_df, on=[\"hgvs_g\"], how=\"left\")\n",
    ")"
   ]
  },
  {
   "cell_type": "code",
   "execution_count": 21,
   "id": "57fea139-d74e-41a5-bf70-0f6faa20123f",
   "metadata": {},
   "outputs": [
    {
     "data": {
      "text/html": [
       "<div>\n",
       "<style scoped>\n",
       "    .dataframe tbody tr th:only-of-type {\n",
       "        vertical-align: middle;\n",
       "    }\n",
       "\n",
       "    .dataframe tbody tr th {\n",
       "        vertical-align: top;\n",
       "    }\n",
       "\n",
       "    .dataframe thead th {\n",
       "        text-align: right;\n",
       "    }\n",
       "</style>\n",
       "<table border=\"1\" class=\"dataframe\">\n",
       "  <thead>\n",
       "    <tr style=\"text-align: right;\">\n",
       "      <th></th>\n",
       "      <th>hgvs_g</th>\n",
       "      <th>hgvs</th>\n",
       "    </tr>\n",
       "  </thead>\n",
       "  <tbody>\n",
       "    <tr>\n",
       "      <th>67830</th>\n",
       "      <td>NC_000023.10:g.32519861C&gt;T</td>\n",
       "      <td>NM_004010.3:c.2011+11G&gt;A</td>\n",
       "    </tr>\n",
       "    <tr>\n",
       "      <th>67831</th>\n",
       "      <td>NC_000015.9:g.85406864_85406865insT</td>\n",
       "      <td>NM_020778.4:c.5098_5099insT</td>\n",
       "    </tr>\n",
       "  </tbody>\n",
       "</table>\n",
       "</div>"
      ],
      "text/plain": [
       "                                    hgvs_g                         hgvs\n",
       "67830           NC_000023.10:g.32519861C>T     NM_004010.3:c.2011+11G>A\n",
       "67831  NC_000015.9:g.85406864_85406865insT  NM_020778.4:c.5098_5099insT"
      ]
     },
     "metadata": {},
     "output_type": "display_data"
    },
    {
     "name": "stdout",
     "output_type": "stream",
     "text": [
      "67832\n",
      "17814\n"
     ]
    }
   ],
   "source": [
    "display(validation_df.tail(2))\n",
    "print(len(validation_df))\n",
    "print(len(validation_df[\"hgvs_g\"].unique()))"
   ]
  },
  {
   "cell_type": "markdown",
   "id": "fd00941b-a3df-48d4-864c-bef984a8cd3b",
   "metadata": {},
   "source": [
    "## Load results"
   ]
  },
  {
   "cell_type": "code",
   "execution_count": 22,
   "id": "177c1240-dd58-4086-ba47-d100e6d813ca",
   "metadata": {},
   "outputs": [
    {
     "data": {
      "text/plain": [
       "PosixPath('/gpfs/fs0/scratch/p/pmkim/strokach/workspace/elaspic2-cagi6/notebooks/37_cagi6_sherloc_combine_results/combined-results.parquet')"
      ]
     },
     "execution_count": 22,
     "metadata": {},
     "output_type": "execute_result"
    }
   ],
   "source": [
    "input_file = NOTEBOOK_DIR.parent.joinpath(\n",
    "    \"37_cagi6_sherloc_combine_results\", \"combined-results.parquet\"\n",
    ")\n",
    "\n",
    "input_file"
   ]
  },
  {
   "cell_type": "code",
   "execution_count": 23,
   "id": "5444ee54-44fa-4c3d-9059-91147d960726",
   "metadata": {},
   "outputs": [
    {
     "data": {
      "text/html": [
       "<div>\n",
       "<style scoped>\n",
       "    .dataframe tbody tr th:only-of-type {\n",
       "        vertical-align: middle;\n",
       "    }\n",
       "\n",
       "    .dataframe tbody tr th {\n",
       "        vertical-align: top;\n",
       "    }\n",
       "\n",
       "    .dataframe thead th {\n",
       "        text-align: right;\n",
       "    }\n",
       "</style>\n",
       "<table border=\"1\" class=\"dataframe\">\n",
       "  <thead>\n",
       "    <tr style=\"text-align: right;\">\n",
       "      <th></th>\n",
       "      <th>protein_id</th>\n",
       "      <th>mutation</th>\n",
       "      <th>mutation_id</th>\n",
       "      <th>effect</th>\n",
       "      <th>proteinsolver_core_score_wt</th>\n",
       "      <th>proteinsolver_core_features_residue_wt</th>\n",
       "      <th>proteinsolver_core_features_protein_wt</th>\n",
       "      <th>protbert_core_score_wt</th>\n",
       "      <th>protbert_core_features_residue_wt</th>\n",
       "      <th>protbert_core_features_protein_wt</th>\n",
       "      <th>msa_count_wt</th>\n",
       "      <th>msa_count_total</th>\n",
       "      <th>msa_proba_wt</th>\n",
       "      <th>msa_proba_total</th>\n",
       "      <th>msa_length</th>\n",
       "      <th>msa_proba</th>\n",
       "      <th>msa_H</th>\n",
       "      <th>msa_KL</th>\n",
       "      <th>rosetta_cart_bonded_wt</th>\n",
       "      <th>rosetta_rama_prepro_wt</th>\n",
       "      <th>rosetta_ref_wt</th>\n",
       "      <th>rosetta_hxl_tors_wt</th>\n",
       "      <th>rosetta_p_aa_pp_wt</th>\n",
       "      <th>rosetta_fa_dun_semi_wt</th>\n",
       "      <th>rosetta_fa_dun_rot_wt</th>\n",
       "      <th>rosetta_fa_dun_dev_wt</th>\n",
       "      <th>rosetta_omega_wt</th>\n",
       "      <th>rosetta_dslf_fa13_wt</th>\n",
       "      <th>rosetta_hbond_sc_wt</th>\n",
       "      <th>rosetta_hbond_bb_sc_wt</th>\n",
       "      <th>rosetta_hbond_lr_bb_wt</th>\n",
       "      <th>rosetta_hbond_sr_bb_wt</th>\n",
       "      <th>rosetta_fa_intra_elec_wt</th>\n",
       "      <th>rosetta_fa_elec_wt</th>\n",
       "      <th>rosetta_lk_ball_bridge_uncpl_wt</th>\n",
       "      <th>rosetta_lk_ball_bridge_wt</th>\n",
       "      <th>rosetta_lk_ball_iso_wt</th>\n",
       "      <th>rosetta_lk_ball_wt</th>\n",
       "      <th>rosetta_fa_intra_sol_xover4_wt</th>\n",
       "      <th>rosetta_fa_intra_rep_xover4_wt</th>\n",
       "      <th>rosetta_fa_intra_atr_xover4_wt</th>\n",
       "      <th>rosetta_fa_sol_wt</th>\n",
       "      <th>rosetta_fa_rep_wt</th>\n",
       "      <th>rosetta_fa_atr_wt</th>\n",
       "      <th>rosetta_dg_wt</th>\n",
       "      <th>rosetta_cart_bonded_change</th>\n",
       "      <th>rosetta_rama_prepro_change</th>\n",
       "      <th>rosetta_ref_change</th>\n",
       "      <th>rosetta_hxl_tors_change</th>\n",
       "      <th>rosetta_p_aa_pp_change</th>\n",
       "      <th>rosetta_fa_dun_semi_change</th>\n",
       "      <th>rosetta_fa_dun_rot_change</th>\n",
       "      <th>rosetta_fa_dun_dev_change</th>\n",
       "      <th>rosetta_omega_change</th>\n",
       "      <th>rosetta_dslf_fa13_change</th>\n",
       "      <th>rosetta_hbond_sc_change</th>\n",
       "      <th>rosetta_hbond_bb_sc_change</th>\n",
       "      <th>rosetta_hbond_lr_bb_change</th>\n",
       "      <th>rosetta_hbond_sr_bb_change</th>\n",
       "      <th>rosetta_fa_intra_elec_change</th>\n",
       "      <th>rosetta_fa_elec_change</th>\n",
       "      <th>rosetta_lk_ball_bridge_uncpl_change</th>\n",
       "      <th>rosetta_lk_ball_bridge_change</th>\n",
       "      <th>rosetta_lk_ball_iso_change</th>\n",
       "      <th>rosetta_lk_ball_change</th>\n",
       "      <th>rosetta_fa_intra_sol_xover4_change</th>\n",
       "      <th>rosetta_fa_intra_rep_xover4_change</th>\n",
       "      <th>rosetta_fa_intra_atr_xover4_change</th>\n",
       "      <th>rosetta_fa_sol_change</th>\n",
       "      <th>rosetta_fa_rep_change</th>\n",
       "      <th>rosetta_fa_atr_change</th>\n",
       "      <th>rosetta_dg_change</th>\n",
       "      <th>alphafold_core_scores_residue_plddt_wt</th>\n",
       "      <th>alphafold_core_scores_protein_plddt_wt</th>\n",
       "      <th>alphafold_core_scores_protein_max_predicted_aligned_error_wt</th>\n",
       "      <th>alphafold_core_scores_proten_ptm_wt</th>\n",
       "      <th>alphafold_core_features_residue_experimentally_resolved_wt</th>\n",
       "      <th>alphafold_core_features_residue_predicted_lddt_wt</th>\n",
       "      <th>alphafold_core_features_residue_msa_first_row_wt</th>\n",
       "      <th>alphafold_core_features_residue_single_wt</th>\n",
       "      <th>alphafold_core_features_residue_structure_module_wt</th>\n",
       "      <th>alphafold_core_features_protein_experimentally_resolved_wt</th>\n",
       "      <th>alphafold_core_features_protein_predicted_lddt_wt</th>\n",
       "      <th>alphafold_core_features_protein_msa_first_row_wt</th>\n",
       "      <th>alphafold_core_features_protein_single_wt</th>\n",
       "      <th>alphafold_core_features_protein_structure_module_wt</th>\n",
       "      <th>el2_score</th>\n",
       "      <th>proteinsolver_core_score_change</th>\n",
       "      <th>proteinsolver_core_features_residue_change</th>\n",
       "      <th>proteinsolver_core_features_protein_change</th>\n",
       "      <th>protbert_core_score_change</th>\n",
       "      <th>protbert_core_features_residue_change</th>\n",
       "      <th>protbert_core_features_protein_change</th>\n",
       "      <th>msa_count_change</th>\n",
       "      <th>msa_proba_change</th>\n",
       "      <th>alphafold_core_scores_residue_plddt_change</th>\n",
       "      <th>alphafold_core_scores_protein_plddt_change</th>\n",
       "      <th>alphafold_core_scores_protein_max_predicted_aligned_error_change</th>\n",
       "      <th>alphafold_core_scores_proten_ptm_change</th>\n",
       "      <th>alphafold_core_features_residue_experimentally_resolved_change</th>\n",
       "      <th>alphafold_core_features_residue_predicted_lddt_change</th>\n",
       "      <th>alphafold_core_features_residue_msa_first_row_change</th>\n",
       "      <th>alphafold_core_features_residue_single_change</th>\n",
       "      <th>alphafold_core_features_residue_structure_module_change</th>\n",
       "      <th>alphafold_core_features_protein_experimentally_resolved_change</th>\n",
       "      <th>alphafold_core_features_protein_predicted_lddt_change</th>\n",
       "      <th>alphafold_core_features_protein_msa_first_row_change</th>\n",
       "      <th>alphafold_core_features_protein_single_change</th>\n",
       "      <th>alphafold_core_features_protein_structure_module_change</th>\n",
       "      <th>aa_wt_onehot</th>\n",
       "      <th>aa_mut_onehot</th>\n",
       "    </tr>\n",
       "  </thead>\n",
       "  <tbody>\n",
       "    <tr>\n",
       "      <th>0</th>\n",
       "      <td>P26678</td>\n",
       "      <td>R9C</td>\n",
       "      <td>NM_002667.3:c.25C&gt;T</td>\n",
       "      <td>Pathogenic</td>\n",
       "      <td>0.091593</td>\n",
       "      <td>[0.48249053955078125, 0.24484702944755554, -0....</td>\n",
       "      <td>[-2.27313494682312, 0.6932704448699951, -0.195...</td>\n",
       "      <td>0.068529</td>\n",
       "      <td>[0.15305250883102417, -0.11011786758899689, 0....</td>\n",
       "      <td>[0.05504663661122322, -0.04564127326011658, 0....</td>\n",
       "      <td>87.0</td>\n",
       "      <td>100.0</td>\n",
       "      <td>-0.310155</td>\n",
       "      <td>-88.633441</td>\n",
       "      <td>101.0</td>\n",
       "      <td>-0.536553</td>\n",
       "      <td>0.326639</td>\n",
       "      <td>2.625994</td>\n",
       "      <td>34.796667</td>\n",
       "      <td>18.080333</td>\n",
       "      <td>13.08</td>\n",
       "      <td>5.875333</td>\n",
       "      <td>-4.878333</td>\n",
       "      <td>33.826333</td>\n",
       "      <td>30.420</td>\n",
       "      <td>37.201667</td>\n",
       "      <td>16.900333</td>\n",
       "      <td>0.0</td>\n",
       "      <td>0.0</td>\n",
       "      <td>-0.495</td>\n",
       "      <td>0.0</td>\n",
       "      <td>-46.239</td>\n",
       "      <td>-5.748</td>\n",
       "      <td>-96.294333</td>\n",
       "      <td>-1.515667</td>\n",
       "      <td>-0.220333</td>\n",
       "      <td>-145.437333</td>\n",
       "      <td>123.757667</td>\n",
       "      <td>12.501667</td>\n",
       "      <td>9.146667</td>\n",
       "      <td>-22.659333</td>\n",
       "      <td>279.312667</td>\n",
       "      <td>18.309</td>\n",
       "      <td>-311.028667</td>\n",
       "      <td>-1.308</td>\n",
       "      <td>-0.577667</td>\n",
       "      <td>0.614667</td>\n",
       "      <td>4.553</td>\n",
       "      <td>0.021333</td>\n",
       "      <td>0.376000</td>\n",
       "      <td>0.173000</td>\n",
       "      <td>-1.592000</td>\n",
       "      <td>-0.074667</td>\n",
       "      <td>-0.012667</td>\n",
       "      <td>0.0</td>\n",
       "      <td>0.000</td>\n",
       "      <td>0.495000</td>\n",
       "      <td>0.0</td>\n",
       "      <td>-0.011</td>\n",
       "      <td>-0.510333</td>\n",
       "      <td>0.204667</td>\n",
       "      <td>0.508667</td>\n",
       "      <td>0.040</td>\n",
       "      <td>1.679</td>\n",
       "      <td>-0.050333</td>\n",
       "      <td>-0.104333</td>\n",
       "      <td>-0.147</td>\n",
       "      <td>0.325000</td>\n",
       "      <td>-4.542667</td>\n",
       "      <td>0.084667</td>\n",
       "      <td>2.215667</td>\n",
       "      <td>3.669</td>\n",
       "      <td>60.585841</td>\n",
       "      <td>76.416854</td>\n",
       "      <td>31.75</td>\n",
       "      <td>0.427586</td>\n",
       "      <td>[1.1943495, 1.2143694, 1.4703865, 1.009636, 1....</td>\n",
       "      <td>[-6.1107526, -7.1425943, -6.2013907, -5.484081...</td>\n",
       "      <td>[-1.8559321, 4.2250576, -12.1879635, 5.93118, ...</td>\n",
       "      <td>[19.911064, -7.9082317, 24.44313, -24.324299, ...</td>\n",
       "      <td>[0.0069303215, 0.010208584, -0.0057431404, 0.0...</td>\n",
       "      <td>[0.47212097, 0.49641332, 0.6147766, 0.47432983...</td>\n",
       "      <td>[-6.029762, -7.716437, -6.686019, -5.9195952, ...</td>\n",
       "      <td>[1.6403109, 2.4395254, -3.7391555, 2.6988323, ...</td>\n",
       "      <td>[8.636584, 8.638843, 21.079756, -9.497276, -2....</td>\n",
       "      <td>[0.0024530103, 0.010949803, -0.00598975, 0.002...</td>\n",
       "      <td>1.484475</td>\n",
       "      <td>0.087628</td>\n",
       "      <td>[2.386656880378723, -0.8056838810443878, -0.32...</td>\n",
       "      <td>[0.046662330627441406, -0.10836398601531982, 0...</td>\n",
       "      <td>0.060680</td>\n",
       "      <td>[0.06232793629169464, 0.014490947127342224, 0....</td>\n",
       "      <td>[0.02708190120756626, 0.009473510086536407, 0....</td>\n",
       "      <td>87.0</td>\n",
       "      <td>4.477337</td>\n",
       "      <td>0.003242</td>\n",
       "      <td>0.013131</td>\n",
       "      <td>0.0</td>\n",
       "      <td>-0.000281</td>\n",
       "      <td>[0.13021708, 0.13196647, 0.21231675, 0.0928846...</td>\n",
       "      <td>[-0.0067915916, 0.012249947, 0.006855011, 0.00...</td>\n",
       "      <td>[-0.24461997, 0.91860914, -1.4374704, 1.841849...</td>\n",
       "      <td>[7.351156, 8.393639, 3.1830235, 3.0640717, 4.0...</td>\n",
       "      <td>[9.148568e-05, -2.7619302e-05, 3.2782555e-07, ...</td>\n",
       "      <td>[0.0022777617, 0.0021982193, 0.0029729605, 0.0...</td>\n",
       "      <td>[-0.004014015, -0.0029330254, -0.003218174, -0...</td>\n",
       "      <td>[-0.019475102, -0.0052657127, -0.04385376, -0....</td>\n",
       "      <td>[0.09133339, 0.074448586, -0.10094261, 0.12374...</td>\n",
       "      <td>[2.8892653e-05, -2.5316142e-05, -7.459894e-07,...</td>\n",
       "      <td>[0, 0, 0, 0, 0, 0, 0, 0, 0, 0, 0, 0, 0, 0, 1, ...</td>\n",
       "      <td>[0, 1, 0, 0, 0, 0, 0, 0, 0, 0, 0, 0, 0, 0, 0, ...</td>\n",
       "    </tr>\n",
       "    <tr>\n",
       "      <th>1</th>\n",
       "      <td>P26678</td>\n",
       "      <td>T8P</td>\n",
       "      <td>NM_002667.3:c.22A&gt;C</td>\n",
       "      <td>Uncertain significance</td>\n",
       "      <td>0.041601</td>\n",
       "      <td>[2.043767213821411, 0.9361261129379272, -0.415...</td>\n",
       "      <td>[-2.27313494682312, 0.6932705044746399, -0.195...</td>\n",
       "      <td>0.062104</td>\n",
       "      <td>[0.056363195180892944, -0.020384633913636208, ...</td>\n",
       "      <td>[0.05504663661122322, -0.04564127326011658, 0....</td>\n",
       "      <td>95.0</td>\n",
       "      <td>100.0</td>\n",
       "      <td>-0.223144</td>\n",
       "      <td>-89.393727</td>\n",
       "      <td>101.0</td>\n",
       "      <td>-0.536553</td>\n",
       "      <td>0.074447</td>\n",
       "      <td>2.917469</td>\n",
       "      <td>35.531000</td>\n",
       "      <td>17.849000</td>\n",
       "      <td>13.08</td>\n",
       "      <td>9.764000</td>\n",
       "      <td>-5.052000</td>\n",
       "      <td>33.549000</td>\n",
       "      <td>30.357</td>\n",
       "      <td>43.524000</td>\n",
       "      <td>16.889000</td>\n",
       "      <td>0.0</td>\n",
       "      <td>0.0</td>\n",
       "      <td>-0.743</td>\n",
       "      <td>0.0</td>\n",
       "      <td>-45.885</td>\n",
       "      <td>-4.684</td>\n",
       "      <td>-97.176000</td>\n",
       "      <td>-1.163000</td>\n",
       "      <td>-0.196000</td>\n",
       "      <td>-144.679000</td>\n",
       "      <td>123.189000</td>\n",
       "      <td>12.223000</td>\n",
       "      <td>9.169000</td>\n",
       "      <td>-22.419000</td>\n",
       "      <td>278.164000</td>\n",
       "      <td>18.065</td>\n",
       "      <td>-310.411000</td>\n",
       "      <td>8.945</td>\n",
       "      <td>12.124333</td>\n",
       "      <td>2.623000</td>\n",
       "      <td>-3.697</td>\n",
       "      <td>-2.731667</td>\n",
       "      <td>0.545667</td>\n",
       "      <td>1.057667</td>\n",
       "      <td>0.810667</td>\n",
       "      <td>0.199333</td>\n",
       "      <td>1.852333</td>\n",
       "      <td>0.0</td>\n",
       "      <td>-1.577</td>\n",
       "      <td>0.007667</td>\n",
       "      <td>0.0</td>\n",
       "      <td>1.358</td>\n",
       "      <td>0.671000</td>\n",
       "      <td>1.583667</td>\n",
       "      <td>0.171667</td>\n",
       "      <td>0.014</td>\n",
       "      <td>0.872</td>\n",
       "      <td>0.017000</td>\n",
       "      <td>-0.134000</td>\n",
       "      <td>-0.100</td>\n",
       "      <td>0.435333</td>\n",
       "      <td>-1.319333</td>\n",
       "      <td>6.835000</td>\n",
       "      <td>-1.977333</td>\n",
       "      <td>19.644</td>\n",
       "      <td>60.939363</td>\n",
       "      <td>76.416854</td>\n",
       "      <td>31.75</td>\n",
       "      <td>0.427586</td>\n",
       "      <td>[-0.9143661, -0.9311734, -1.0163504, -1.110276...</td>\n",
       "      <td>[-5.8135767, -7.5865355, -6.377211, -5.5560055...</td>\n",
       "      <td>[5.013483, 6.58278, -4.2263947, 2.135174, -4.0...</td>\n",
       "      <td>[3.3193378, 13.778628, 40.745605, -40.561554, ...</td>\n",
       "      <td>[0.005573705, 0.0062753484, -0.005795421, 0.00...</td>\n",
       "      <td>[0.47212097, 0.49641332, 0.6147766, 0.47432983...</td>\n",
       "      <td>[-6.029762, -7.716437, -6.686019, -5.9195952, ...</td>\n",
       "      <td>[1.6403109, 2.4395254, -3.7391555, 2.6988323, ...</td>\n",
       "      <td>[8.636584, 8.638843, 21.079756, -9.497276, -2....</td>\n",
       "      <td>[0.0024530103, 0.010949803, -0.00598975, 0.002...</td>\n",
       "      <td>1.899883</td>\n",
       "      <td>0.041007</td>\n",
       "      <td>[1.9151165634393692, 0.24879562854766846, -2.6...</td>\n",
       "      <td>[0.010374307632446289, 0.014673292636871338, -...</td>\n",
       "      <td>0.034884</td>\n",
       "      <td>[0.023371338844299316, -0.012821524869650602, ...</td>\n",
       "      <td>[0.009958148002624512, 0.007057119160890579, 0...</td>\n",
       "      <td>95.0</td>\n",
       "      <td>4.564348</td>\n",
       "      <td>0.061314</td>\n",
       "      <td>-0.060597</td>\n",
       "      <td>0.0</td>\n",
       "      <td>-0.000497</td>\n",
       "      <td>[-0.08734667, -0.0875411, -0.06534517, -0.0733...</td>\n",
       "      <td>[-0.0131139755, -0.033089638, -0.019153595, -0...</td>\n",
       "      <td>[-0.4901538, 1.5533419, -1.5304286, -0.1852448...</td>\n",
       "      <td>[1.8987266, -0.4226532, 0.6206093, 0.038326263...</td>\n",
       "      <td>[6.455183e-05, -0.00016468763, 7.186085e-06, 4...</td>\n",
       "      <td>[-0.006253898, -0.0062743723, -0.006733477, -0...</td>\n",
       "      <td>[-0.012162209, -0.018994808, -0.011818409, -0....</td>\n",
       "      <td>[-0.03768146, -0.016304016, -0.041838408, 0.01...</td>\n",
       "      <td>[0.08028793, -0.019423485, -0.1275692, -0.0226...</td>\n",
       "      <td>[-2.5912654e-05, 3.2503158e-05, 5.8985315e-06,...</td>\n",
       "      <td>[0, 0, 0, 0, 0, 0, 0, 0, 0, 0, 0, 0, 0, 0, 0, ...</td>\n",
       "      <td>[0, 0, 0, 0, 0, 0, 0, 0, 0, 0, 0, 0, 1, 0, 0, ...</td>\n",
       "    </tr>\n",
       "  </tbody>\n",
       "</table>\n",
       "</div>"
      ],
      "text/plain": [
       "  protein_id mutation          mutation_id                  effect  \\\n",
       "0     P26678      R9C  NM_002667.3:c.25C>T              Pathogenic   \n",
       "1     P26678      T8P  NM_002667.3:c.22A>C  Uncertain significance   \n",
       "\n",
       "   proteinsolver_core_score_wt  \\\n",
       "0                     0.091593   \n",
       "1                     0.041601   \n",
       "\n",
       "              proteinsolver_core_features_residue_wt  \\\n",
       "0  [0.48249053955078125, 0.24484702944755554, -0....   \n",
       "1  [2.043767213821411, 0.9361261129379272, -0.415...   \n",
       "\n",
       "              proteinsolver_core_features_protein_wt  protbert_core_score_wt  \\\n",
       "0  [-2.27313494682312, 0.6932704448699951, -0.195...                0.068529   \n",
       "1  [-2.27313494682312, 0.6932705044746399, -0.195...                0.062104   \n",
       "\n",
       "                   protbert_core_features_residue_wt  \\\n",
       "0  [0.15305250883102417, -0.11011786758899689, 0....   \n",
       "1  [0.056363195180892944, -0.020384633913636208, ...   \n",
       "\n",
       "                   protbert_core_features_protein_wt  msa_count_wt  \\\n",
       "0  [0.05504663661122322, -0.04564127326011658, 0....          87.0   \n",
       "1  [0.05504663661122322, -0.04564127326011658, 0....          95.0   \n",
       "\n",
       "   msa_count_total  msa_proba_wt  msa_proba_total  msa_length  msa_proba  \\\n",
       "0            100.0     -0.310155       -88.633441       101.0  -0.536553   \n",
       "1            100.0     -0.223144       -89.393727       101.0  -0.536553   \n",
       "\n",
       "      msa_H    msa_KL  rosetta_cart_bonded_wt  rosetta_rama_prepro_wt  \\\n",
       "0  0.326639  2.625994               34.796667               18.080333   \n",
       "1  0.074447  2.917469               35.531000               17.849000   \n",
       "\n",
       "   rosetta_ref_wt  rosetta_hxl_tors_wt  rosetta_p_aa_pp_wt  \\\n",
       "0           13.08             5.875333           -4.878333   \n",
       "1           13.08             9.764000           -5.052000   \n",
       "\n",
       "   rosetta_fa_dun_semi_wt  rosetta_fa_dun_rot_wt  rosetta_fa_dun_dev_wt  \\\n",
       "0               33.826333                 30.420              37.201667   \n",
       "1               33.549000                 30.357              43.524000   \n",
       "\n",
       "   rosetta_omega_wt  rosetta_dslf_fa13_wt  rosetta_hbond_sc_wt  \\\n",
       "0         16.900333                   0.0                  0.0   \n",
       "1         16.889000                   0.0                  0.0   \n",
       "\n",
       "   rosetta_hbond_bb_sc_wt  rosetta_hbond_lr_bb_wt  rosetta_hbond_sr_bb_wt  \\\n",
       "0                  -0.495                     0.0                 -46.239   \n",
       "1                  -0.743                     0.0                 -45.885   \n",
       "\n",
       "   rosetta_fa_intra_elec_wt  rosetta_fa_elec_wt  \\\n",
       "0                    -5.748          -96.294333   \n",
       "1                    -4.684          -97.176000   \n",
       "\n",
       "   rosetta_lk_ball_bridge_uncpl_wt  rosetta_lk_ball_bridge_wt  \\\n",
       "0                        -1.515667                  -0.220333   \n",
       "1                        -1.163000                  -0.196000   \n",
       "\n",
       "   rosetta_lk_ball_iso_wt  rosetta_lk_ball_wt  rosetta_fa_intra_sol_xover4_wt  \\\n",
       "0             -145.437333          123.757667                       12.501667   \n",
       "1             -144.679000          123.189000                       12.223000   \n",
       "\n",
       "   rosetta_fa_intra_rep_xover4_wt  rosetta_fa_intra_atr_xover4_wt  \\\n",
       "0                        9.146667                      -22.659333   \n",
       "1                        9.169000                      -22.419000   \n",
       "\n",
       "   rosetta_fa_sol_wt  rosetta_fa_rep_wt  rosetta_fa_atr_wt  rosetta_dg_wt  \\\n",
       "0         279.312667             18.309        -311.028667         -1.308   \n",
       "1         278.164000             18.065        -310.411000          8.945   \n",
       "\n",
       "   rosetta_cart_bonded_change  rosetta_rama_prepro_change  rosetta_ref_change  \\\n",
       "0                   -0.577667                    0.614667               4.553   \n",
       "1                   12.124333                    2.623000              -3.697   \n",
       "\n",
       "   rosetta_hxl_tors_change  rosetta_p_aa_pp_change  \\\n",
       "0                 0.021333                0.376000   \n",
       "1                -2.731667                0.545667   \n",
       "\n",
       "   rosetta_fa_dun_semi_change  rosetta_fa_dun_rot_change  \\\n",
       "0                    0.173000                  -1.592000   \n",
       "1                    1.057667                   0.810667   \n",
       "\n",
       "   rosetta_fa_dun_dev_change  rosetta_omega_change  rosetta_dslf_fa13_change  \\\n",
       "0                  -0.074667             -0.012667                       0.0   \n",
       "1                   0.199333              1.852333                       0.0   \n",
       "\n",
       "   rosetta_hbond_sc_change  rosetta_hbond_bb_sc_change  \\\n",
       "0                    0.000                    0.495000   \n",
       "1                   -1.577                    0.007667   \n",
       "\n",
       "   rosetta_hbond_lr_bb_change  rosetta_hbond_sr_bb_change  \\\n",
       "0                         0.0                      -0.011   \n",
       "1                         0.0                       1.358   \n",
       "\n",
       "   rosetta_fa_intra_elec_change  rosetta_fa_elec_change  \\\n",
       "0                     -0.510333                0.204667   \n",
       "1                      0.671000                1.583667   \n",
       "\n",
       "   rosetta_lk_ball_bridge_uncpl_change  rosetta_lk_ball_bridge_change  \\\n",
       "0                             0.508667                          0.040   \n",
       "1                             0.171667                          0.014   \n",
       "\n",
       "   rosetta_lk_ball_iso_change  rosetta_lk_ball_change  \\\n",
       "0                       1.679               -0.050333   \n",
       "1                       0.872                0.017000   \n",
       "\n",
       "   rosetta_fa_intra_sol_xover4_change  rosetta_fa_intra_rep_xover4_change  \\\n",
       "0                           -0.104333                              -0.147   \n",
       "1                           -0.134000                              -0.100   \n",
       "\n",
       "   rosetta_fa_intra_atr_xover4_change  rosetta_fa_sol_change  \\\n",
       "0                            0.325000              -4.542667   \n",
       "1                            0.435333              -1.319333   \n",
       "\n",
       "   rosetta_fa_rep_change  rosetta_fa_atr_change  rosetta_dg_change  \\\n",
       "0               0.084667               2.215667              3.669   \n",
       "1               6.835000              -1.977333             19.644   \n",
       "\n",
       "   alphafold_core_scores_residue_plddt_wt  \\\n",
       "0                               60.585841   \n",
       "1                               60.939363   \n",
       "\n",
       "   alphafold_core_scores_protein_plddt_wt  \\\n",
       "0                               76.416854   \n",
       "1                               76.416854   \n",
       "\n",
       "   alphafold_core_scores_protein_max_predicted_aligned_error_wt  \\\n",
       "0                                              31.75              \n",
       "1                                              31.75              \n",
       "\n",
       "   alphafold_core_scores_proten_ptm_wt  \\\n",
       "0                             0.427586   \n",
       "1                             0.427586   \n",
       "\n",
       "  alphafold_core_features_residue_experimentally_resolved_wt  \\\n",
       "0  [1.1943495, 1.2143694, 1.4703865, 1.009636, 1....           \n",
       "1  [-0.9143661, -0.9311734, -1.0163504, -1.110276...           \n",
       "\n",
       "   alphafold_core_features_residue_predicted_lddt_wt  \\\n",
       "0  [-6.1107526, -7.1425943, -6.2013907, -5.484081...   \n",
       "1  [-5.8135767, -7.5865355, -6.377211, -5.5560055...   \n",
       "\n",
       "    alphafold_core_features_residue_msa_first_row_wt  \\\n",
       "0  [-1.8559321, 4.2250576, -12.1879635, 5.93118, ...   \n",
       "1  [5.013483, 6.58278, -4.2263947, 2.135174, -4.0...   \n",
       "\n",
       "           alphafold_core_features_residue_single_wt  \\\n",
       "0  [19.911064, -7.9082317, 24.44313, -24.324299, ...   \n",
       "1  [3.3193378, 13.778628, 40.745605, -40.561554, ...   \n",
       "\n",
       "  alphafold_core_features_residue_structure_module_wt  \\\n",
       "0  [0.0069303215, 0.010208584, -0.0057431404, 0.0...    \n",
       "1  [0.005573705, 0.0062753484, -0.005795421, 0.00...    \n",
       "\n",
       "  alphafold_core_features_protein_experimentally_resolved_wt  \\\n",
       "0  [0.47212097, 0.49641332, 0.6147766, 0.47432983...           \n",
       "1  [0.47212097, 0.49641332, 0.6147766, 0.47432983...           \n",
       "\n",
       "   alphafold_core_features_protein_predicted_lddt_wt  \\\n",
       "0  [-6.029762, -7.716437, -6.686019, -5.9195952, ...   \n",
       "1  [-6.029762, -7.716437, -6.686019, -5.9195952, ...   \n",
       "\n",
       "    alphafold_core_features_protein_msa_first_row_wt  \\\n",
       "0  [1.6403109, 2.4395254, -3.7391555, 2.6988323, ...   \n",
       "1  [1.6403109, 2.4395254, -3.7391555, 2.6988323, ...   \n",
       "\n",
       "           alphafold_core_features_protein_single_wt  \\\n",
       "0  [8.636584, 8.638843, 21.079756, -9.497276, -2....   \n",
       "1  [8.636584, 8.638843, 21.079756, -9.497276, -2....   \n",
       "\n",
       "  alphafold_core_features_protein_structure_module_wt  el2_score  \\\n",
       "0  [0.0024530103, 0.010949803, -0.00598975, 0.002...    1.484475   \n",
       "1  [0.0024530103, 0.010949803, -0.00598975, 0.002...    1.899883   \n",
       "\n",
       "   proteinsolver_core_score_change  \\\n",
       "0                         0.087628   \n",
       "1                         0.041007   \n",
       "\n",
       "          proteinsolver_core_features_residue_change  \\\n",
       "0  [2.386656880378723, -0.8056838810443878, -0.32...   \n",
       "1  [1.9151165634393692, 0.24879562854766846, -2.6...   \n",
       "\n",
       "          proteinsolver_core_features_protein_change  \\\n",
       "0  [0.046662330627441406, -0.10836398601531982, 0...   \n",
       "1  [0.010374307632446289, 0.014673292636871338, -...   \n",
       "\n",
       "   protbert_core_score_change  \\\n",
       "0                    0.060680   \n",
       "1                    0.034884   \n",
       "\n",
       "               protbert_core_features_residue_change  \\\n",
       "0  [0.06232793629169464, 0.014490947127342224, 0....   \n",
       "1  [0.023371338844299316, -0.012821524869650602, ...   \n",
       "\n",
       "               protbert_core_features_protein_change  msa_count_change  \\\n",
       "0  [0.02708190120756626, 0.009473510086536407, 0....              87.0   \n",
       "1  [0.009958148002624512, 0.007057119160890579, 0...              95.0   \n",
       "\n",
       "   msa_proba_change  alphafold_core_scores_residue_plddt_change  \\\n",
       "0          4.477337                                    0.003242   \n",
       "1          4.564348                                    0.061314   \n",
       "\n",
       "   alphafold_core_scores_protein_plddt_change  \\\n",
       "0                                    0.013131   \n",
       "1                                   -0.060597   \n",
       "\n",
       "   alphafold_core_scores_protein_max_predicted_aligned_error_change  \\\n",
       "0                                                0.0                  \n",
       "1                                                0.0                  \n",
       "\n",
       "   alphafold_core_scores_proten_ptm_change  \\\n",
       "0                                -0.000281   \n",
       "1                                -0.000497   \n",
       "\n",
       "  alphafold_core_features_residue_experimentally_resolved_change  \\\n",
       "0  [0.13021708, 0.13196647, 0.21231675, 0.0928846...               \n",
       "1  [-0.08734667, -0.0875411, -0.06534517, -0.0733...               \n",
       "\n",
       "  alphafold_core_features_residue_predicted_lddt_change  \\\n",
       "0  [-0.0067915916, 0.012249947, 0.006855011, 0.00...      \n",
       "1  [-0.0131139755, -0.033089638, -0.019153595, -0...      \n",
       "\n",
       "  alphafold_core_features_residue_msa_first_row_change  \\\n",
       "0  [-0.24461997, 0.91860914, -1.4374704, 1.841849...     \n",
       "1  [-0.4901538, 1.5533419, -1.5304286, -0.1852448...     \n",
       "\n",
       "       alphafold_core_features_residue_single_change  \\\n",
       "0  [7.351156, 8.393639, 3.1830235, 3.0640717, 4.0...   \n",
       "1  [1.8987266, -0.4226532, 0.6206093, 0.038326263...   \n",
       "\n",
       "  alphafold_core_features_residue_structure_module_change  \\\n",
       "0  [9.148568e-05, -2.7619302e-05, 3.2782555e-07, ...        \n",
       "1  [6.455183e-05, -0.00016468763, 7.186085e-06, 4...        \n",
       "\n",
       "  alphafold_core_features_protein_experimentally_resolved_change  \\\n",
       "0  [0.0022777617, 0.0021982193, 0.0029729605, 0.0...               \n",
       "1  [-0.006253898, -0.0062743723, -0.006733477, -0...               \n",
       "\n",
       "  alphafold_core_features_protein_predicted_lddt_change  \\\n",
       "0  [-0.004014015, -0.0029330254, -0.003218174, -0...      \n",
       "1  [-0.012162209, -0.018994808, -0.011818409, -0....      \n",
       "\n",
       "  alphafold_core_features_protein_msa_first_row_change  \\\n",
       "0  [-0.019475102, -0.0052657127, -0.04385376, -0....     \n",
       "1  [-0.03768146, -0.016304016, -0.041838408, 0.01...     \n",
       "\n",
       "       alphafold_core_features_protein_single_change  \\\n",
       "0  [0.09133339, 0.074448586, -0.10094261, 0.12374...   \n",
       "1  [0.08028793, -0.019423485, -0.1275692, -0.0226...   \n",
       "\n",
       "  alphafold_core_features_protein_structure_module_change  \\\n",
       "0  [2.8892653e-05, -2.5316142e-05, -7.459894e-07,...        \n",
       "1  [-2.5912654e-05, 3.2503158e-05, 5.8985315e-06,...        \n",
       "\n",
       "                                        aa_wt_onehot  \\\n",
       "0  [0, 0, 0, 0, 0, 0, 0, 0, 0, 0, 0, 0, 0, 0, 1, ...   \n",
       "1  [0, 0, 0, 0, 0, 0, 0, 0, 0, 0, 0, 0, 0, 0, 0, ...   \n",
       "\n",
       "                                       aa_mut_onehot  \n",
       "0  [0, 1, 0, 0, 0, 0, 0, 0, 0, 0, 0, 0, 0, 0, 0, ...  \n",
       "1  [0, 0, 0, 0, 0, 0, 0, 0, 0, 0, 0, 0, 1, 0, 0, ...  "
      ]
     },
     "metadata": {},
     "output_type": "display_data"
    },
    {
     "name": "stdout",
     "output_type": "stream",
     "text": [
      "221816\n"
     ]
    }
   ],
   "source": [
    "result_df = pq.read_table(input_file).to_pandas()\n",
    "\n",
    "display(result_df.head(2))\n",
    "print(len(result_df))"
   ]
  },
  {
   "cell_type": "code",
   "execution_count": 24,
   "id": "be5dc561-7eb1-45b1-a3b3-a3a4ed5a9d0d",
   "metadata": {},
   "outputs": [],
   "source": [
    "effect_map = {\n",
    "    \"Uncertain significance\": 0,\n",
    "    \"Likely benign\": -1,\n",
    "    \"Benign\": -2,\n",
    "    \"Likely pathogenic\": 1,\n",
    "    \"Pathogenic\": 2,\n",
    "}\n",
    "\n",
    "result_df[\"effect_score\"] = result_df[\"effect\"].map(effect_map)"
   ]
  },
  {
   "cell_type": "markdown",
   "id": "ae87c286-d491-42d4-941d-606cde544d48",
   "metadata": {},
   "source": [
    "## Exploratory data analysis"
   ]
  },
  {
   "cell_type": "code",
   "execution_count": 25,
   "id": "e1374e04-eae5-47bb-b1b0-9aafc45782a0",
   "metadata": {},
   "outputs": [],
   "source": [
    "proteinsolver_columnms = [c for c in result_df if c.startswith(\"proteinsolver_\")]\n",
    "protbert_columns = [c for c in result_df if c.startswith(\"protbert_\")]\n",
    "rosetta_columns = [c for c in result_df if c.startswith(\"rosetta_\")]\n",
    "alphafold_columns = [c for c in result_df if c.startswith(\"alphafold_\")]"
   ]
  },
  {
   "cell_type": "code",
   "execution_count": 26,
   "id": "1448fdf8-4949-4e91-b6c2-0db0711b8ea4",
   "metadata": {},
   "outputs": [
    {
     "data": {
      "text/plain": [
       "Uncertain significance    147067\n",
       "Likely benign              11398\n",
       "Benign                      9730\n",
       "Pathogenic                  5834\n",
       "Likely pathogenic           2506\n",
       "Name: effect, dtype: int64"
      ]
     },
     "execution_count": 26,
     "metadata": {},
     "output_type": "execute_result"
    }
   ],
   "source": [
    "result_df[\"effect\"].value_counts()"
   ]
  },
  {
   "cell_type": "code",
   "execution_count": 27,
   "id": "4ea8e99e-ccd9-4c28-8613-c3bde79aefbe",
   "metadata": {},
   "outputs": [],
   "source": [
    "effect_map = {\n",
    "    \"Uncertain significance\": 0,\n",
    "    \"Likely benign\": -1,\n",
    "    \"Benign\": -2,\n",
    "    \"Likely pathogenic\": 1,\n",
    "    \"Pathogenic\": 2,\n",
    "}\n",
    "\n",
    "result_df[\"effect_score\"] = result_df[\"effect\"].map(effect_map)"
   ]
  },
  {
   "cell_type": "code",
   "execution_count": 28,
   "id": "eb146d6b-4dac-451b-8ed2-951a07d51a9c",
   "metadata": {},
   "outputs": [
    {
     "name": "stdout",
     "output_type": "stream",
     "text": [
      "el2_score 0.19271749853401182 0.819760687160709\n",
      "proteinsolver_core_score_change 0.11067870025313856 0.6783941301907526\n",
      "protbert_core_score_change 0.1620701018909018 0.7812989848001559\n",
      "rosetta_dg_change 0.10357751324165007 0.6450253131239799\n"
     ]
    }
   ],
   "source": [
    "score_columns = [\n",
    "    \"el2_score\",\n",
    "    \"proteinsolver_core_score_change\",\n",
    "    \"protbert_core_score_change\",\n",
    "    \"rosetta_dg_change\",\n",
    "    #     \"alphafold_core_scores_residue_plddt_wt\",\n",
    "    #     \"alphafold_core_scores_protein_plddt_wt\",\n",
    "    #     \"alphafold_core_scores_protein_max_predicted_aligned_error_wt\",\n",
    "    #     \"alphafold_core_scores_proten_ptm_wt\",\n",
    "]\n",
    "\n",
    "df = result_df.dropna(subset=score_columns + [\"effect_score\"])\n",
    "# df = df[df[\"effect_score\"].isin([-1, 1])].reset_index(drop=True)\n",
    "\n",
    "for col in score_columns:\n",
    "    corr = stats.spearmanr(df[\"effect_score\"], df[col])\n",
    "    auc = metrics.roc_auc_score(df[\"effect_score\"] > 0, df[col])\n",
    "    print(col, corr[0], auc)"
   ]
  },
  {
   "cell_type": "markdown",
   "id": "a5a022f7-5f44-4505-9d5b-7f2086b984aa",
   "metadata": {},
   "source": [
    "## Load ML models"
   ]
  },
  {
   "cell_type": "code",
   "execution_count": 29,
   "id": "e1312001-506f-4163-90d6-e46204b38dfb",
   "metadata": {},
   "outputs": [
    {
     "data": {
      "text/plain": [
       "'6999e5aa'"
      ]
     },
     "execution_count": 29,
     "metadata": {},
     "output_type": "execute_result"
    }
   ],
   "source": [
    "UNIQUE_ID = \"6999e5aa\"\n",
    "\n",
    "UNIQUE_ID"
   ]
  },
  {
   "cell_type": "code",
   "execution_count": 30,
   "id": "c801f98e-c112-436e-9c19-895016c7a3da",
   "metadata": {},
   "outputs": [
    {
     "data": {
      "text/plain": [
       "'optimized'"
      ]
     },
     "execution_count": 30,
     "metadata": {},
     "output_type": "execute_result"
    }
   ],
   "source": [
    "# MODEL_TYPE = \"initial\"\n",
    "MODEL_TYPE = \"optimized\"\n",
    "\n",
    "MODEL_TYPE"
   ]
  },
  {
   "cell_type": "markdown",
   "id": "b8e5fac1-f35a-4049-8792-1c366cb4e73a",
   "metadata": {},
   "source": [
    "### Features"
   ]
  },
  {
   "cell_type": "code",
   "execution_count": 31,
   "id": "fd9000a2-e3b0-4b1a-93eb-36035316280a",
   "metadata": {},
   "outputs": [
    {
     "data": {
      "text/plain": [
       "(71, 11)"
      ]
     },
     "execution_count": 31,
     "metadata": {},
     "output_type": "execute_result"
    }
   ],
   "source": [
    "with NOTEBOOK_DIR.parent.joinpath(\n",
    "    \"38_cagi6_sherloc_train_model\", UNIQUE_ID, \"scalar-features.json\"\n",
    ").open(\"rb\") as fin:\n",
    "    scalar_features = json.load(fin)\n",
    "\n",
    "with NOTEBOOK_DIR.parent.joinpath(\n",
    "    \"38_cagi6_sherloc_train_model\", UNIQUE_ID, \"vector-features.json\"\n",
    ").open(\"rb\") as fin:\n",
    "    vector_features = json.load(fin)\n",
    "\n",
    "len(scalar_features), len(vector_features)"
   ]
  },
  {
   "cell_type": "markdown",
   "id": "44f1a128-06e8-40d0-867e-9b022e5e3921",
   "metadata": {},
   "source": [
    "### Features to exclude"
   ]
  },
  {
   "cell_type": "code",
   "execution_count": 32,
   "id": "09b0ac6d-2c6a-49e6-96ff-a99736134ee1",
   "metadata": {},
   "outputs": [
    {
     "data": {
      "text/plain": [
       "[71, 72, 73]"
      ]
     },
     "execution_count": 32,
     "metadata": {},
     "output_type": "execute_result"
    }
   ],
   "source": [
    "if MODEL_TYPE == \"initial\":\n",
    "    features_to_exclude = None\n",
    "elif MODEL_TYPE == \"optimized\":\n",
    "    with NOTEBOOK_DIR.parent.joinpath(\n",
    "        \"39_cagi6_sherloc_finetune_model\", UNIQUE_ID, \"best-features-to-exclude.json\"\n",
    "    ).open(\"rt\") as fin:\n",
    "        features_to_exclude = json.load(fin)\n",
    "\n",
    "features_to_exclude[:3]"
   ]
  },
  {
   "cell_type": "markdown",
   "id": "84da1f0d-1504-42aa-9f95-1d2213c4d217",
   "metadata": {},
   "source": [
    "### Parameters"
   ]
  },
  {
   "cell_type": "code",
   "execution_count": 33,
   "id": "7c10cd6a-d314-4cb7-a864-000c846a5f3f",
   "metadata": {},
   "outputs": [
    {
     "data": {
      "text/plain": [
       "{'objective': 'binary',\n",
       " 'metric': 'average_precision',\n",
       " 'verbosity': -1,\n",
       " 'feature_pre_filter': False,\n",
       " 'lambda_l1': 0.0,\n",
       " 'lambda_l2': 0.0,\n",
       " 'num_leaves': 142,\n",
       " 'feature_fraction': 0.7,\n",
       " 'bagging_fraction': 0.7890900321866278,\n",
       " 'bagging_freq': 7,\n",
       " 'min_child_samples': 100}"
      ]
     },
     "execution_count": 33,
     "metadata": {},
     "output_type": "execute_result"
    }
   ],
   "source": [
    "if MODEL_TYPE == \"initial\":\n",
    "    with NOTEBOOK_DIR.parent.joinpath(\n",
    "        \"38_cagi6_sherloc_train_model\", UNIQUE_ID, \"best-parameters-starting.json\"\n",
    "    ).open(\"rb\") as fin:\n",
    "        best_parameters = json.load(fin)\n",
    "elif MODEL_TYPE == \"optimized\":\n",
    "    with NOTEBOOK_DIR.parent.joinpath(\n",
    "        \"39_cagi6_sherloc_finetune_model\", UNIQUE_ID, \"best-parameters.json\"\n",
    "    ).open(\"rt\") as fin:\n",
    "        best_parameters = json.load(fin)\n",
    "\n",
    "best_parameters"
   ]
  },
  {
   "cell_type": "markdown",
   "id": "42d67b49-9811-4c16-b502-a1c2d4d1f0a1",
   "metadata": {},
   "source": [
    "### Models"
   ]
  },
  {
   "cell_type": "code",
   "execution_count": 34,
   "id": "e1c86528-43bf-4cd9-a7df-99b294a1ae35",
   "metadata": {},
   "outputs": [
    {
     "data": {
      "text/plain": [
       "6"
      ]
     },
     "execution_count": 34,
     "metadata": {},
     "output_type": "execute_result"
    }
   ],
   "source": [
    "if MODEL_TYPE == \"initial\":\n",
    "    model_filename_template = str(\n",
    "        NOTEBOOK_DIR.parent.joinpath(\n",
    "            \"38_cagi6_sherloc_train_model\", UNIQUE_ID, \"model_starting_{model_idx}.json\"\n",
    "        )\n",
    "    )\n",
    "elif MODEL_TYPE == \"optimized\":\n",
    "    model_filename_template = str(\n",
    "        NOTEBOOK_DIR.parent.joinpath(\n",
    "            \"39_cagi6_sherloc_finetune_model\",\n",
    "            UNIQUE_ID,\n",
    "            \"best-model-{model_idx}.txt\",\n",
    "        )\n",
    "    )\n",
    "\n",
    "models = []\n",
    "for model_idx in range(6):\n",
    "    model = lgb.Booster(model_file=model_filename_template.format(model_idx=model_idx))\n",
    "    models.append(model)\n",
    "\n",
    "len(models)"
   ]
  },
  {
   "cell_type": "markdown",
   "id": "f22d39d4-f0ab-4dec-93cb-fdc3792922e2",
   "metadata": {},
   "source": [
    "## Make predictions"
   ]
  },
  {
   "cell_type": "code",
   "execution_count": 35,
   "id": "0e14f671-3f97-40e6-8ddc-ed14a7bc0bcc",
   "metadata": {
    "tags": []
   },
   "outputs": [
    {
     "data": {
      "text/plain": [
       "'pred_6999e5aa_optimized'"
      ]
     },
     "execution_count": 35,
     "metadata": {},
     "output_type": "execute_result"
    }
   ],
   "source": [
    "try:\n",
    "    prediction_df\n",
    "except NameError:\n",
    "    prediction_df = result_df.dropna(subset=scalar_features + vector_features).copy()\n",
    "\n",
    "X_ref = np.c_[\n",
    "    prediction_df[scalar_features].values,\n",
    "    np.hstack([np.vstack(prediction_df[col].values) for col in vector_features]),\n",
    "]\n",
    "\n",
    "if features_to_exclude is not None:\n",
    "    feature_mask = np.ones(X_ref.shape[1], dtype=bool)\n",
    "    feature_mask[np.array(features_to_exclude, dtype=int)] = False\n",
    "    X = X_ref[:, feature_mask]\n",
    "    assert len(features_to_exclude) == X_ref.shape[1] - X.shape[1]\n",
    "else:\n",
    "    X = X_ref\n",
    "\n",
    "for model_idx, model in enumerate(models):\n",
    "    prediction_df[f\"pred_{model_idx}\"] = model.predict(X)\n",
    "\n",
    "pred_column = f\"pred_{UNIQUE_ID}_{MODEL_TYPE}\"\n",
    "prediction_df[pred_column] = prediction_df[\n",
    "    [f\"pred_{model_idx}\" for model_idx in range(len(models))]\n",
    "].mean(axis=1)\n",
    "\n",
    "pred_column"
   ]
  },
  {
   "cell_type": "markdown",
   "id": "d9bed077-0a7e-49d4-abb6-ee2d78e5ac14",
   "metadata": {},
   "source": [
    "## Evaluate predictions"
   ]
  },
  {
   "cell_type": "markdown",
   "id": "56f6638f-bc2d-4cab-953c-4f4b861f8788",
   "metadata": {},
   "source": [
    "### See validation score"
   ]
  },
  {
   "cell_type": "markdown",
   "id": "11ec802a-0b6e-4e7c-a4ff-75acdc59c7bf",
   "metadata": {},
   "source": [
    "### Submit predictions to leaderboard"
   ]
  },
  {
   "cell_type": "code",
   "execution_count": 36,
   "id": "f07eff22-856c-4818-994e-a883f74f35cf",
   "metadata": {},
   "outputs": [
    {
     "name": "stdout",
     "output_type": "stream",
     "text": [
      "median=0.09933652166776265\n"
     ]
    },
    {
     "data": {
      "text/html": [
       "<div>\n",
       "<style scoped>\n",
       "    .dataframe tbody tr th:only-of-type {\n",
       "        vertical-align: middle;\n",
       "    }\n",
       "\n",
       "    .dataframe tbody tr th {\n",
       "        vertical-align: top;\n",
       "    }\n",
       "\n",
       "    .dataframe thead th {\n",
       "        text-align: right;\n",
       "    }\n",
       "</style>\n",
       "<table border=\"1\" class=\"dataframe\">\n",
       "  <thead>\n",
       "    <tr style=\"text-align: right;\">\n",
       "      <th></th>\n",
       "      <th>hgvs_g</th>\n",
       "      <th>pred</th>\n",
       "      <th>is_missense</th>\n",
       "    </tr>\n",
       "  </thead>\n",
       "  <tbody>\n",
       "    <tr>\n",
       "      <th>0</th>\n",
       "      <td>NC_000001.10:g.10032239T&gt;C</td>\n",
       "      <td>0.099891</td>\n",
       "      <td>True</td>\n",
       "    </tr>\n",
       "    <tr>\n",
       "      <th>1</th>\n",
       "      <td>NC_000001.10:g.100327066_100327067delinsAT</td>\n",
       "      <td>0.099891</td>\n",
       "      <td>True</td>\n",
       "    </tr>\n",
       "    <tr>\n",
       "      <th>2</th>\n",
       "      <td>NC_000001.10:g.100329994A&gt;G</td>\n",
       "      <td>0.099891</td>\n",
       "      <td>True</td>\n",
       "    </tr>\n",
       "    <tr>\n",
       "      <th>3</th>\n",
       "      <td>NC_000001.10:g.100340374A&gt;G</td>\n",
       "      <td>0.099891</td>\n",
       "      <td>True</td>\n",
       "    </tr>\n",
       "    <tr>\n",
       "      <th>4</th>\n",
       "      <td>NC_000001.10:g.100340991A&gt;G</td>\n",
       "      <td>0.099891</td>\n",
       "      <td>True</td>\n",
       "    </tr>\n",
       "  </tbody>\n",
       "</table>\n",
       "</div>"
      ],
      "text/plain": [
       "                                       hgvs_g      pred  is_missense\n",
       "0                  NC_000001.10:g.10032239T>C  0.099891         True\n",
       "1  NC_000001.10:g.100327066_100327067delinsAT  0.099891         True\n",
       "2                 NC_000001.10:g.100329994A>G  0.099891         True\n",
       "3                 NC_000001.10:g.100340374A>G  0.099891         True\n",
       "4                 NC_000001.10:g.100340991A>G  0.099891         True"
      ]
     },
     "execution_count": 36,
     "metadata": {},
     "output_type": "execute_result"
    }
   ],
   "source": [
    "pred_column = \"pred_6999e5aa_optimized\"\n",
    "\n",
    "validation_submission_df = validation_df.assign(\n",
    "    is_missense=lambda df: df[\"hgvs\"].notnull()\n",
    ").merge(\n",
    "    prediction_df.rename(columns={pred_column: \"pred\"}),\n",
    "    left_on=[\"hgvs\"],\n",
    "    right_on=[\"mutation_id\"],\n",
    "    how=\"left\",\n",
    ")\n",
    "\n",
    "assert len(validation_submission_df) == len(validation_df)\n",
    "\n",
    "median = np.nanmedian(validation_submission_df[\"pred\"])\n",
    "print(f\"{median=}\")\n",
    "\n",
    "out = (\n",
    "    validation_submission_df.groupby(\"hgvs_g\")\n",
    "    .agg({\"pred\": np.nanmean, \"is_missense\": \"max\"})\n",
    "    .fillna(median)\n",
    "    .reset_index()\n",
    ")\n",
    "\n",
    "median_adj = median / out[\"pred\"].max()\n",
    "out[\"pred\"] = out[\"pred\"] / out[\"pred\"].max()\n",
    "\n",
    "out.head()"
   ]
  },
  {
   "cell_type": "code",
   "execution_count": 37,
   "id": "d21d21ac-e02c-4432-90b9-e4413e7a1e79",
   "metadata": {},
   "outputs": [
    {
     "data": {
      "image/png": "[encoded data removed]",
      "text/plain": [
       "<Figure size 432x288 with 1 Axes>"
      ]
     },
     "metadata": {
      "needs_background": "light"
     },
     "output_type": "display_data"
    }
   ],
   "source": [
    "plt.hist(out[out[\"pred\"] != median_adj][\"pred\"], bins=100)\n",
    "None"
   ]
  },
  {
   "cell_type": "code",
   "execution_count": 38,
   "id": "df81142c-ec33-425a-920a-2dfed9292951",
   "metadata": {},
   "outputs": [],
   "source": [
    "out[[\"hgvs_g\", \"pred\"]].to_csv(\n",
    "    NOTEBOOK_DIR.joinpath(\"submission-valid-7.tsv\"), index=False, sep=\"\\t\"\n",
    ")"
   ]
  },
  {
   "cell_type": "markdown",
   "id": "c1cff946-fb03-4771-97b2-51410c1d0a3b",
   "metadata": {},
   "source": [
    "### Final submission"
   ]
  },
  {
   "cell_type": "code",
   "execution_count": 39,
   "id": "ed09e913-1480-4e0b-8a12-a47d5b422d57",
   "metadata": {},
   "outputs": [],
   "source": [
    "submission_score_columns = [\n",
    "    \"pred_6999e5aa_optimized\",\n",
    "    \"el2_score\",\n",
    "    \"protbert_core_score_change\",\n",
    "    \"proteinsolver_core_score_change\",\n",
    "    \"rosetta_dg_change\",\n",
    "]"
   ]
  },
  {
   "cell_type": "code",
   "execution_count": 40,
   "id": "c496336f-5ffc-4450-9900-a0cb559d5e7b",
   "metadata": {},
   "outputs": [],
   "source": [
    "assert len(prediction_df) == len(prediction_df[\"mutation_id\"].unique())"
   ]
  },
  {
   "cell_type": "code",
   "execution_count": 41,
   "id": "a0089556-bbc6-4b7c-b5ff-86ce4d805297",
   "metadata": {},
   "outputs": [],
   "source": [
    "final_submission_df = submission_template_df.merge(\n",
    "    prediction_df[[\"mutation_id\"] + submission_score_columns],\n",
    "    left_on=[\"hgvs\"],\n",
    "    right_on=[\"mutation_id\"],\n",
    "    how=\"left\",\n",
    ")\n",
    "\n",
    "assert len(final_submission_df) == len(submission_template_df)"
   ]
  },
  {
   "cell_type": "code",
   "execution_count": 42,
   "id": "42d83771-fdd4-4c88-bbb4-2c7527ca8663",
   "metadata": {},
   "outputs": [
    {
     "data": {
      "text/plain": [
       "PosixPath('/gpfs/fs0/scratch/p/pmkim/strokach/workspace/elaspic2-cagi6/notebooks/40_cagi6_sherloc_submission/submission')"
      ]
     },
     "execution_count": 42,
     "metadata": {},
     "output_type": "execute_result"
    }
   ],
   "source": [
    "output_dir = NOTEBOOK_DIR.joinpath(\"submission\")\n",
    "output_dir.mkdir(exist_ok=True)\n",
    "\n",
    "output_dir"
   ]
  },
  {
   "cell_type": "code",
   "execution_count": 43,
   "id": "62a8d7f1-ff3f-486f-8e0a-03f5a373370a",
   "metadata": {},
   "outputs": [
    {
     "name": "stdout",
     "output_type": "stream",
     "text": [
      "Writing /gpfs/fs0/scratch/p/pmkim/strokach/workspace/elaspic2-cagi6/notebooks/40_cagi6_sherloc_submission/submission/strokach_desc.md\n"
     ]
    }
   ],
   "source": [
    "%%file {output_dir}/strokach_desc.md\n",
    "# Submission for CAGI6—MAPK3 challenge\n",
    "\n",
    "## Overview\n",
    "\n",
    "- `strokach_modelnumber_1.tsv` → Predictions made using ELASPIC2 with AlphaFold features for wildtype protein.\n",
    "- `strokach_modelnumber_2.tsv` → Predictions made using ELASPIC2 with AlphaFold features for wildtype and mutant proteins.\n",
    "- `strokach_modelnumber_3.tsv` → Predictions made using ELASPIC2 [1].\n",
    "- `strokach_modelnumber_4.tsv` → Predictions made using ProteinSolver [2].\n",
    "- `strokach_modelnumber_5.tsv` → Predictions made using ProtBert [3].\n",
    "- `strokach_modelnumber_6.tsv` → Predictions made using Rosetta's cartesian_ddg protocol.\n",
    "\n",
    "## References\n",
    "\n",
    "- [1] Strokach, A., Lu, T.Y., Kim, P.M., 2021. ELASPIC2 (EL2): Combining Contextualized Language Models and Graph Neural Networks to Predict Effects of Mutations. Journal of Molecular Biology, Computation Resources for Molecular Biology 433, 166810. https://doi.org/10.1016/j.jmb.2021.166810\n",
    "- [2] Strokach, A., Becerra, D., Corbi-Verge, C., Perez-Riba, A., Kim, P.M., 2020. Fast and Flexible Protein Design Using Deep Graph Neural Networks. Cell Systems. https://doi.org/10.1016/j.cels.2020.08.016\n",
    "- [3] Elnaggar, A., Heinzinger, M., Dallago, C., Rehawi, G., Wang, Y., Jones, L., Gibbs, T., Feher, T., Angerer, C., Steinegger, M., Bhowmik, D., Rost, B., 2020. ProtTrans: Towards Cracking the Language of Life’s Code Through Self-Supervised Deep Learning and High Performance Computing. bioRxiv 2020.07.12.199554. https://doi.org/10.1101/2020.07.12.199554"
   ]
  },
  {
   "cell_type": "code",
   "execution_count": 44,
   "id": "98bf2cf7-9f1d-497c-acd9-4b0ff2573357",
   "metadata": {},
   "outputs": [
    {
     "name": "stdout",
     "output_type": "stream",
     "text": [
      "pred_6999e5aa_optimized\n"
     ]
    },
    {
     "data": {
      "text/html": [
       "<div>\n",
       "<style scoped>\n",
       "    .dataframe tbody tr th:only-of-type {\n",
       "        vertical-align: middle;\n",
       "    }\n",
       "\n",
       "    .dataframe tbody tr th {\n",
       "        vertical-align: top;\n",
       "    }\n",
       "\n",
       "    .dataframe thead th {\n",
       "        text-align: right;\n",
       "    }\n",
       "</style>\n",
       "<table border=\"1\" class=\"dataframe\">\n",
       "  <thead>\n",
       "    <tr style=\"text-align: right;\">\n",
       "      <th></th>\n",
       "      <th>hgvs</th>\n",
       "      <th>score</th>\n",
       "      <th>class</th>\n",
       "      <th>comment</th>\n",
       "      <th>mutation_id</th>\n",
       "      <th>pred_6999e5aa_optimized</th>\n",
       "      <th>el2_score</th>\n",
       "      <th>protbert_core_score_change</th>\n",
       "      <th>proteinsolver_core_score_change</th>\n",
       "      <th>rosetta_dg_change</th>\n",
       "    </tr>\n",
       "  </thead>\n",
       "  <tbody>\n",
       "    <tr>\n",
       "      <th>0</th>\n",
       "      <td>NM_152486.2:c.39C&gt;T</td>\n",
       "      <td>0.038875</td>\n",
       "      <td>False</td>\n",
       "      <td>No prediction (dummy score)</td>\n",
       "      <td>NaN</td>\n",
       "      <td>NaN</td>\n",
       "      <td>NaN</td>\n",
       "      <td>NaN</td>\n",
       "      <td>NaN</td>\n",
       "      <td>NaN</td>\n",
       "    </tr>\n",
       "    <tr>\n",
       "      <th>1</th>\n",
       "      <td>NM_152486.2:c.62C&gt;T</td>\n",
       "      <td>0.730842</td>\n",
       "      <td>True</td>\n",
       "      <td>*</td>\n",
       "      <td>NM_152486.2:c.62C&gt;T</td>\n",
       "      <td>0.730842</td>\n",
       "      <td>1.404916</td>\n",
       "      <td>0.090474</td>\n",
       "      <td>0.342438</td>\n",
       "      <td>-1.407</td>\n",
       "    </tr>\n",
       "  </tbody>\n",
       "</table>\n",
       "</div>"
      ],
      "text/plain": [
       "                  hgvs     score  class                      comment  \\\n",
       "0  NM_152486.2:c.39C>T  0.038875  False  No prediction (dummy score)   \n",
       "1  NM_152486.2:c.62C>T  0.730842   True                            *   \n",
       "\n",
       "           mutation_id  pred_6999e5aa_optimized  el2_score  \\\n",
       "0                  NaN                      NaN        NaN   \n",
       "1  NM_152486.2:c.62C>T                 0.730842   1.404916   \n",
       "\n",
       "   protbert_core_score_change  proteinsolver_core_score_change  \\\n",
       "0                         NaN                              NaN   \n",
       "1                    0.090474                         0.342438   \n",
       "\n",
       "   rosetta_dg_change  \n",
       "0                NaN  \n",
       "1             -1.407  "
      ]
     },
     "metadata": {},
     "output_type": "display_data"
    },
    {
     "name": "stdout",
     "output_type": "stream",
     "text": [
      "el2_score\n",
      "Reweighting submission for el2_score.\n"
     ]
    },
    {
     "data": {
      "text/html": [
       "<div>\n",
       "<style scoped>\n",
       "    .dataframe tbody tr th:only-of-type {\n",
       "        vertical-align: middle;\n",
       "    }\n",
       "\n",
       "    .dataframe tbody tr th {\n",
       "        vertical-align: top;\n",
       "    }\n",
       "\n",
       "    .dataframe thead th {\n",
       "        text-align: right;\n",
       "    }\n",
       "</style>\n",
       "<table border=\"1\" class=\"dataframe\">\n",
       "  <thead>\n",
       "    <tr style=\"text-align: right;\">\n",
       "      <th></th>\n",
       "      <th>hgvs</th>\n",
       "      <th>score</th>\n",
       "      <th>class</th>\n",
       "      <th>comment</th>\n",
       "      <th>mutation_id</th>\n",
       "      <th>pred_6999e5aa_optimized</th>\n",
       "      <th>el2_score</th>\n",
       "      <th>protbert_core_score_change</th>\n",
       "      <th>proteinsolver_core_score_change</th>\n",
       "      <th>rosetta_dg_change</th>\n",
       "    </tr>\n",
       "  </thead>\n",
       "  <tbody>\n",
       "    <tr>\n",
       "      <th>0</th>\n",
       "      <td>NM_152486.2:c.39C&gt;T</td>\n",
       "      <td>0.513479</td>\n",
       "      <td>False</td>\n",
       "      <td>No prediction (dummy score)</td>\n",
       "      <td>NaN</td>\n",
       "      <td>NaN</td>\n",
       "      <td>NaN</td>\n",
       "      <td>NaN</td>\n",
       "      <td>NaN</td>\n",
       "      <td>NaN</td>\n",
       "    </tr>\n",
       "    <tr>\n",
       "      <th>1</th>\n",
       "      <td>NM_152486.2:c.62C&gt;T</td>\n",
       "      <td>0.629643</td>\n",
       "      <td>True</td>\n",
       "      <td>*</td>\n",
       "      <td>NM_152486.2:c.62C&gt;T</td>\n",
       "      <td>0.730842</td>\n",
       "      <td>1.404916</td>\n",
       "      <td>0.090474</td>\n",
       "      <td>0.342438</td>\n",
       "      <td>-1.407</td>\n",
       "    </tr>\n",
       "  </tbody>\n",
       "</table>\n",
       "</div>"
      ],
      "text/plain": [
       "                  hgvs     score  class                      comment  \\\n",
       "0  NM_152486.2:c.39C>T  0.513479  False  No prediction (dummy score)   \n",
       "1  NM_152486.2:c.62C>T  0.629643   True                            *   \n",
       "\n",
       "           mutation_id  pred_6999e5aa_optimized  el2_score  \\\n",
       "0                  NaN                      NaN        NaN   \n",
       "1  NM_152486.2:c.62C>T                 0.730842   1.404916   \n",
       "\n",
       "   protbert_core_score_change  proteinsolver_core_score_change  \\\n",
       "0                         NaN                              NaN   \n",
       "1                    0.090474                         0.342438   \n",
       "\n",
       "   rosetta_dg_change  \n",
       "0                NaN  \n",
       "1             -1.407  "
      ]
     },
     "metadata": {},
     "output_type": "display_data"
    },
    {
     "name": "stdout",
     "output_type": "stream",
     "text": [
      "protbert_core_score_change\n",
      "Reweighting submission for protbert_core_score_change.\n"
     ]
    },
    {
     "data": {
      "text/html": [
       "<div>\n",
       "<style scoped>\n",
       "    .dataframe tbody tr th:only-of-type {\n",
       "        vertical-align: middle;\n",
       "    }\n",
       "\n",
       "    .dataframe tbody tr th {\n",
       "        vertical-align: top;\n",
       "    }\n",
       "\n",
       "    .dataframe thead th {\n",
       "        text-align: right;\n",
       "    }\n",
       "</style>\n",
       "<table border=\"1\" class=\"dataframe\">\n",
       "  <thead>\n",
       "    <tr style=\"text-align: right;\">\n",
       "      <th></th>\n",
       "      <th>hgvs</th>\n",
       "      <th>score</th>\n",
       "      <th>class</th>\n",
       "      <th>comment</th>\n",
       "      <th>mutation_id</th>\n",
       "      <th>pred_6999e5aa_optimized</th>\n",
       "      <th>el2_score</th>\n",
       "      <th>protbert_core_score_change</th>\n",
       "      <th>proteinsolver_core_score_change</th>\n",
       "      <th>rosetta_dg_change</th>\n",
       "    </tr>\n",
       "  </thead>\n",
       "  <tbody>\n",
       "    <tr>\n",
       "      <th>0</th>\n",
       "      <td>NM_152486.2:c.39C&gt;T</td>\n",
       "      <td>0.519566</td>\n",
       "      <td>False</td>\n",
       "      <td>No prediction (dummy score)</td>\n",
       "      <td>NaN</td>\n",
       "      <td>NaN</td>\n",
       "      <td>NaN</td>\n",
       "      <td>NaN</td>\n",
       "      <td>NaN</td>\n",
       "      <td>NaN</td>\n",
       "    </tr>\n",
       "    <tr>\n",
       "      <th>1</th>\n",
       "      <td>NM_152486.2:c.62C&gt;T</td>\n",
       "      <td>0.541569</td>\n",
       "      <td>False</td>\n",
       "      <td>*</td>\n",
       "      <td>NM_152486.2:c.62C&gt;T</td>\n",
       "      <td>0.730842</td>\n",
       "      <td>1.404916</td>\n",
       "      <td>0.090474</td>\n",
       "      <td>0.342438</td>\n",
       "      <td>-1.407</td>\n",
       "    </tr>\n",
       "  </tbody>\n",
       "</table>\n",
       "</div>"
      ],
      "text/plain": [
       "                  hgvs     score  class                      comment  \\\n",
       "0  NM_152486.2:c.39C>T  0.519566  False  No prediction (dummy score)   \n",
       "1  NM_152486.2:c.62C>T  0.541569  False                            *   \n",
       "\n",
       "           mutation_id  pred_6999e5aa_optimized  el2_score  \\\n",
       "0                  NaN                      NaN        NaN   \n",
       "1  NM_152486.2:c.62C>T                 0.730842   1.404916   \n",
       "\n",
       "   protbert_core_score_change  proteinsolver_core_score_change  \\\n",
       "0                         NaN                              NaN   \n",
       "1                    0.090474                         0.342438   \n",
       "\n",
       "   rosetta_dg_change  \n",
       "0                NaN  \n",
       "1             -1.407  "
      ]
     },
     "metadata": {},
     "output_type": "display_data"
    },
    {
     "name": "stdout",
     "output_type": "stream",
     "text": [
      "proteinsolver_core_score_change\n",
      "Reweighting submission for proteinsolver_core_score_change.\n"
     ]
    },
    {
     "data": {
      "text/html": [
       "<div>\n",
       "<style scoped>\n",
       "    .dataframe tbody tr th:only-of-type {\n",
       "        vertical-align: middle;\n",
       "    }\n",
       "\n",
       "    .dataframe tbody tr th {\n",
       "        vertical-align: top;\n",
       "    }\n",
       "\n",
       "    .dataframe thead th {\n",
       "        text-align: right;\n",
       "    }\n",
       "</style>\n",
       "<table border=\"1\" class=\"dataframe\">\n",
       "  <thead>\n",
       "    <tr style=\"text-align: right;\">\n",
       "      <th></th>\n",
       "      <th>hgvs</th>\n",
       "      <th>score</th>\n",
       "      <th>class</th>\n",
       "      <th>comment</th>\n",
       "      <th>mutation_id</th>\n",
       "      <th>pred_6999e5aa_optimized</th>\n",
       "      <th>el2_score</th>\n",
       "      <th>protbert_core_score_change</th>\n",
       "      <th>proteinsolver_core_score_change</th>\n",
       "      <th>rosetta_dg_change</th>\n",
       "    </tr>\n",
       "  </thead>\n",
       "  <tbody>\n",
       "    <tr>\n",
       "      <th>0</th>\n",
       "      <td>NM_152486.2:c.39C&gt;T</td>\n",
       "      <td>0.524886</td>\n",
       "      <td>False</td>\n",
       "      <td>No prediction (dummy score)</td>\n",
       "      <td>NaN</td>\n",
       "      <td>NaN</td>\n",
       "      <td>NaN</td>\n",
       "      <td>NaN</td>\n",
       "      <td>NaN</td>\n",
       "      <td>NaN</td>\n",
       "    </tr>\n",
       "    <tr>\n",
       "      <th>1</th>\n",
       "      <td>NM_152486.2:c.62C&gt;T</td>\n",
       "      <td>0.663747</td>\n",
       "      <td>False</td>\n",
       "      <td>*</td>\n",
       "      <td>NM_152486.2:c.62C&gt;T</td>\n",
       "      <td>0.730842</td>\n",
       "      <td>1.404916</td>\n",
       "      <td>0.090474</td>\n",
       "      <td>0.342438</td>\n",
       "      <td>-1.407</td>\n",
       "    </tr>\n",
       "  </tbody>\n",
       "</table>\n",
       "</div>"
      ],
      "text/plain": [
       "                  hgvs     score  class                      comment  \\\n",
       "0  NM_152486.2:c.39C>T  0.524886  False  No prediction (dummy score)   \n",
       "1  NM_152486.2:c.62C>T  0.663747  False                            *   \n",
       "\n",
       "           mutation_id  pred_6999e5aa_optimized  el2_score  \\\n",
       "0                  NaN                      NaN        NaN   \n",
       "1  NM_152486.2:c.62C>T                 0.730842   1.404916   \n",
       "\n",
       "   protbert_core_score_change  proteinsolver_core_score_change  \\\n",
       "0                         NaN                              NaN   \n",
       "1                    0.090474                         0.342438   \n",
       "\n",
       "   rosetta_dg_change  \n",
       "0                NaN  \n",
       "1             -1.407  "
      ]
     },
     "metadata": {},
     "output_type": "display_data"
    },
    {
     "name": "stdout",
     "output_type": "stream",
     "text": [
      "rosetta_dg_change\n",
      "Reweighting submission for rosetta_dg_change.\n"
     ]
    },
    {
     "data": {
      "text/html": [
       "<div>\n",
       "<style scoped>\n",
       "    .dataframe tbody tr th:only-of-type {\n",
       "        vertical-align: middle;\n",
       "    }\n",
       "\n",
       "    .dataframe tbody tr th {\n",
       "        vertical-align: top;\n",
       "    }\n",
       "\n",
       "    .dataframe thead th {\n",
       "        text-align: right;\n",
       "    }\n",
       "</style>\n",
       "<table border=\"1\" class=\"dataframe\">\n",
       "  <thead>\n",
       "    <tr style=\"text-align: right;\">\n",
       "      <th></th>\n",
       "      <th>hgvs</th>\n",
       "      <th>score</th>\n",
       "      <th>class</th>\n",
       "      <th>comment</th>\n",
       "      <th>mutation_id</th>\n",
       "      <th>pred_6999e5aa_optimized</th>\n",
       "      <th>el2_score</th>\n",
       "      <th>protbert_core_score_change</th>\n",
       "      <th>proteinsolver_core_score_change</th>\n",
       "      <th>rosetta_dg_change</th>\n",
       "    </tr>\n",
       "  </thead>\n",
       "  <tbody>\n",
       "    <tr>\n",
       "      <th>0</th>\n",
       "      <td>NM_152486.2:c.39C&gt;T</td>\n",
       "      <td>0.302384</td>\n",
       "      <td>False</td>\n",
       "      <td>No prediction (dummy score)</td>\n",
       "      <td>NaN</td>\n",
       "      <td>NaN</td>\n",
       "      <td>NaN</td>\n",
       "      <td>NaN</td>\n",
       "      <td>NaN</td>\n",
       "      <td>NaN</td>\n",
       "    </tr>\n",
       "    <tr>\n",
       "      <th>1</th>\n",
       "      <td>NM_152486.2:c.62C&gt;T</td>\n",
       "      <td>0.290025</td>\n",
       "      <td>False</td>\n",
       "      <td>*</td>\n",
       "      <td>NM_152486.2:c.62C&gt;T</td>\n",
       "      <td>0.730842</td>\n",
       "      <td>1.404916</td>\n",
       "      <td>0.090474</td>\n",
       "      <td>0.342438</td>\n",
       "      <td>-1.407</td>\n",
       "    </tr>\n",
       "  </tbody>\n",
       "</table>\n",
       "</div>"
      ],
      "text/plain": [
       "                  hgvs     score  class                      comment  \\\n",
       "0  NM_152486.2:c.39C>T  0.302384  False  No prediction (dummy score)   \n",
       "1  NM_152486.2:c.62C>T  0.290025  False                            *   \n",
       "\n",
       "           mutation_id  pred_6999e5aa_optimized  el2_score  \\\n",
       "0                  NaN                      NaN        NaN   \n",
       "1  NM_152486.2:c.62C>T                 0.730842   1.404916   \n",
       "\n",
       "   protbert_core_score_change  proteinsolver_core_score_change  \\\n",
       "0                         NaN                              NaN   \n",
       "1                    0.090474                         0.342438   \n",
       "\n",
       "   rosetta_dg_change  \n",
       "0                NaN  \n",
       "1             -1.407  "
      ]
     },
     "metadata": {},
     "output_type": "display_data"
    }
   ],
   "source": [
    "for submission_idx, score_column in enumerate(submission_score_columns):\n",
    "    print(score_column)\n",
    "    submission_df = final_submission_df.copy()\n",
    "    submission_df[\"score\"] = submission_df[score_column]\n",
    "    submission_df[\"score\"] = submission_df[\"score\"].fillna(\n",
    "        np.nanmedian(submission_df[\"score\"])\n",
    "    )\n",
    "\n",
    "    if submission_df[\"score\"].min() < 0 or submission_df[\"score\"].max() > 1:\n",
    "        print(f\"Reweighting submission for {score_column}.\")\n",
    "        submission_df[\"score\"] = submission_df[\"score\"] - submission_df[\"score\"].min()\n",
    "        submission_df[\"score\"] = submission_df[\"score\"] / submission_df[\"score\"].max()\n",
    "    assert submission_df[\"score\"].min() >= 0 and submission_df[\"score\"].max() <= 1\n",
    "\n",
    "    submission_df[\"class\"] = submission_df[score_column] > 0.5\n",
    "\n",
    "    comment_mask = submission_df[\"mutation_id\"].isnull()\n",
    "    submission_df.loc[comment_mask, \"comment\"] = \"No prediction (dummy score)\"\n",
    "\n",
    "    display(submission_df.head(2))\n",
    "\n",
    "    output_file = output_dir.joinpath(f\"strokach_modelnumber_{submission_idx + 1}.tsv\")\n",
    "    submission_df[[\"hgvs\", \"score\", \"class\", \"comment\"]].to_csv(\n",
    "        output_file, sep=\"\\t\", index=False\n",
    "    )"
   ]
  },
  {
   "cell_type": "code",
   "execution_count": null,
   "id": "0aad3d4b-7b6a-482a-97c2-4beabaad5dfa",
   "metadata": {},
   "outputs": [],
   "source": []
  }
 ],
 "metadata": {
  "kernelspec": {
   "display_name": "Python 3 (ipykernel)",
   "language": "python",
   "name": "python3"
  },
  "language_info": {
   "codemirror_mode": {
    "name": "ipython",
    "version": 3
   },
   "file_extension": ".py",
   "mimetype": "text/x-python",
   "name": "python",
   "nbconvert_exporter": "python",
   "pygments_lexer": "ipython3",
   "version": "3.9.6"
  }
 },
 "nbformat": 4,
 "nbformat_minor": 5
}
