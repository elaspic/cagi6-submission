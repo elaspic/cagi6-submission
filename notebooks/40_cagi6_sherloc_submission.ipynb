{
 "cells": [
  {
   "cell_type": "markdown",
   "id": "26c81e96-6b41-41fa-80a6-6360c482eb58",
   "metadata": {},
   "source": [
    "## Summary\n",
    "\n",
    "---"
   ]
  },
  {
   "cell_type": "markdown",
   "id": "ec276dec-6afa-4b57-bbfc-a11e04a8767e",
   "metadata": {},
   "source": [
    "## Imports"
   ]
  },
  {
   "cell_type": "code",
   "execution_count": null,
   "id": "539f4edf-ca04-4bef-b5c9-a6d402f7570b",
   "metadata": {},
   "outputs": [],
   "source": [
    "import functools\n",
    "import json\n",
    "import sys\n",
    "from pathlib import Path\n",
    "\n",
    "import lightgbm as lgb\n",
    "import matplotlib.pyplot as plt\n",
    "import numpy as np\n",
    "import pandas as pd\n",
    "import pyarrow as pa\n",
    "import pyarrow.parquet as pq\n",
    "from elaspic2.plugins.msa_analysis import analyze_msa\n",
    "from scipy import stats\n",
    "from sklearn import metrics, model_selection\n",
    "from sklearn.decomposition import PCA\n",
    "from sklearn.model_selection import GroupKFold\n",
    "from sklearn.preprocessing import StandardScaler\n",
    "from tqdm.auto import tqdm"
   ]
  },
  {
   "cell_type": "code",
   "execution_count": null,
   "id": "d08b0792-00b7-44be-9257-a554f95bd602",
   "metadata": {},
   "outputs": [],
   "source": [
    "pd.set_option(\"max_columns\", 1000)\n",
    "pd.set_option(\"max_rows\", 1000)"
   ]
  },
  {
   "cell_type": "markdown",
   "id": "5be0ca05-c038-414f-ba84-b2ae8013088b",
   "metadata": {},
   "source": [
    "## Parameters"
   ]
  },
  {
   "cell_type": "code",
   "execution_count": null,
   "id": "10e1faee-9f6a-40d8-8819-272b1c9837bb",
   "metadata": {},
   "outputs": [],
   "source": [
    "NOTEBOOK_DIR = Path(\"40_cagi6_sherloc_submission\").resolve()\n",
    "NOTEBOOK_DIR.mkdir(exist_ok=True)\n",
    "\n",
    "NOTEBOOK_DIR"
   ]
  },
  {
   "cell_type": "code",
   "execution_count": null,
   "id": "415d61c1-daa6-4ab8-93db-f4e64cf5555d",
   "metadata": {},
   "outputs": [],
   "source": [
    "src_dir = str(NOTEBOOK_DIR.parents[1].joinpath(\"src\"))\n",
    "if src_dir not in sys.path:\n",
    "    sys.path.insert(0, src_dir)\n",
    "\n",
    "import helpers"
   ]
  },
  {
   "cell_type": "markdown",
   "id": "4d36d995-7bea-48cc-971b-cf926cbb17f8",
   "metadata": {},
   "source": [
    "## Load data"
   ]
  },
  {
   "cell_type": "code",
   "execution_count": null,
   "id": "4de96fa1-7815-48cb-a8ed-035d5ddd8a8c",
   "metadata": {},
   "outputs": [],
   "source": [
    "submission_template_file = NOTEBOOK_DIR.parent.joinpath(\n",
    "    \"30_cagi6_sherloc\", \"submission_template.tsv\"\n",
    ")\n",
    "\n",
    "submission_template_df = pd.read_csv(submission_template_file, sep=\"\\t\")\n",
    "\n",
    "display(submission_template_df.head(2))\n",
    "len(submission_template_df)"
   ]
  },
  {
   "cell_type": "markdown",
   "id": "8349f2e2-9d7d-43ab-a5e2-27935dd72dae",
   "metadata": {},
   "source": [
    "### `training_df`"
   ]
  },
  {
   "cell_type": "code",
   "execution_count": null,
   "id": "fd60b9b3-b6c0-4c6a-8769-70414425df6e",
   "metadata": {},
   "outputs": [],
   "source": [
    "training_file = NOTEBOOK_DIR.parent.joinpath(\n",
    "    \"30_cagi6_sherloc\",\n",
    "    \"CAGI6-Sherloc-clinical-classification\",\n",
    "    \"final_train_070821.txt\",\n",
    ")"
   ]
  },
  {
   "cell_type": "code",
   "execution_count": null,
   "id": "3c067902-63e5-425d-aa59-9183106a750b",
   "metadata": {},
   "outputs": [],
   "source": [
    "training_all_df = pd.read_csv(training_file, sep=\"\\t\")\n",
    "\n",
    "display(training_all_df.head(2))\n",
    "len(training_all_df)"
   ]
  },
  {
   "cell_type": "code",
   "execution_count": null,
   "id": "19cd38c9-1569-4c3e-9920-492604dc0ddd",
   "metadata": {},
   "outputs": [],
   "source": [
    "assert not set(submission_template_df[\"hgvs\"]) & set(training_all_df[\"hgvs\"])"
   ]
  },
  {
   "cell_type": "code",
   "execution_count": null,
   "id": "7d852835-27fc-4be4-a9a2-f011ee68f6e1",
   "metadata": {},
   "outputs": [],
   "source": [
    "training_df = training_all_df[training_all_df[\"Subcategory Missense\"]]\n",
    "\n",
    "display(training_df.head(2))\n",
    "len(training_df)"
   ]
  },
  {
   "cell_type": "markdown",
   "id": "dc4d933d-a5de-48da-b2f5-8c1bfb2d4b0f",
   "metadata": {},
   "source": [
    "### `testing_df`"
   ]
  },
  {
   "cell_type": "code",
   "execution_count": null,
   "id": "57d4ef71-ec3e-4152-8dfa-de4584e2aad4",
   "metadata": {},
   "outputs": [],
   "source": [
    "testing_file = NOTEBOOK_DIR.parent.joinpath(\n",
    "    \"30_cagi6_sherloc\", \"CAGI6-Sherloc-clinical-classification\", \"final_test_070821.txt\"\n",
    ")"
   ]
  },
  {
   "cell_type": "code",
   "execution_count": null,
   "id": "55dc0f3e-34bf-415d-8c6a-67356700dc38",
   "metadata": {},
   "outputs": [],
   "source": [
    "testing_all_df = pd.read_csv(testing_file, sep=\"\\t\")\n",
    "\n",
    "display(testing_all_df.head(2))\n",
    "len(testing_all_df)"
   ]
  },
  {
   "cell_type": "code",
   "execution_count": null,
   "id": "52d4ed61-3ddd-4cac-a934-a2cc07349392",
   "metadata": {},
   "outputs": [],
   "source": [
    "assert not set(submission_template_df[\"hgvs\"]) ^ set(testing_all_df[\"hgvs\"])"
   ]
  },
  {
   "cell_type": "code",
   "execution_count": null,
   "id": "f5b2db23-6aa7-4892-968b-1169b59057a4",
   "metadata": {},
   "outputs": [],
   "source": [
    "testing_df = testing_all_df[testing_all_df[\"Subcategory Missense\"]]\n",
    "\n",
    "display(testing_df.head(2))\n",
    "len(testing_df)"
   ]
  },
  {
   "cell_type": "markdown",
   "id": "8a53fd2b-3f78-4eee-8618-0a3bd7b30724",
   "metadata": {},
   "source": [
    "### `submission_template_df`"
   ]
  },
  {
   "cell_type": "code",
   "execution_count": null,
   "id": "ef56a107-69bd-4aa1-8be5-5157f5a6146b",
   "metadata": {},
   "outputs": [],
   "source": [
    "submission_template_file = NOTEBOOK_DIR.parent.joinpath(\n",
    "    \"30_cagi6_sherloc\", \"submission_template.tsv\"\n",
    ")"
   ]
  },
  {
   "cell_type": "code",
   "execution_count": null,
   "id": "fed36237-196d-44fb-98ff-04b8b1eed635",
   "metadata": {},
   "outputs": [],
   "source": [
    "submission_template_df = pd.read_csv(submission_template_file, sep=\"\\t\")\n",
    "\n",
    "display(submission_template_df.head(2))\n",
    "len(submission_template_df)"
   ]
  },
  {
   "cell_type": "markdown",
   "id": "c76d3637-20f1-4ab1-8222-f857c4631325",
   "metadata": {},
   "source": [
    "### `validation_df`"
   ]
  },
  {
   "cell_type": "code",
   "execution_count": null,
   "id": "72f5dfd8-d33f-4228-9632-194cb74b7424",
   "metadata": {},
   "outputs": [],
   "source": [
    "validation_file = NOTEBOOK_DIR.parent.joinpath(\n",
    "    \"30_cagi6_sherloc\", \"validation_variants.tsv\"\n",
    ")"
   ]
  },
  {
   "cell_type": "code",
   "execution_count": null,
   "id": "7d7355ec-350b-4cd7-a836-505b9176502b",
   "metadata": {},
   "outputs": [],
   "source": [
    "validation_all_df = pd.read_csv(validation_file, sep=\"\\t\").rename(\n",
    "    columns={\"HGVS.c\": \"hgvs_g\"}\n",
    ")\n",
    "\n",
    "display(validation_all_df.tail(2))\n",
    "len(validation_all_df)"
   ]
  },
  {
   "cell_type": "code",
   "execution_count": null,
   "id": "1b4246f2-f166-4735-a4ee-40345b607043",
   "metadata": {},
   "outputs": [],
   "source": [
    "def map_g_to_c(str_g, mapper):\n",
    "    from hgvs.exceptions import HGVSInvalidIntervalError, HGVSUsageError\n",
    "\n",
    "    var_g = hp.parse_hgvs_variant(str_g)\n",
    "    for tx_ac in mapper.relevant_transcripts(var_g):\n",
    "        try:\n",
    "            var_c = mapper.g_to_c(var_g, tx_ac)\n",
    "        except (HGVSUsageError, HGVSInvalidIntervalError):\n",
    "            continue\n",
    "        yield var_c"
   ]
  },
  {
   "cell_type": "code",
   "execution_count": null,
   "id": "74e25dc7-f9c2-42de-a104-c8946d1233f1",
   "metadata": {},
   "outputs": [],
   "source": [
    "validation_mapping_file = NOTEBOOK_DIR.parent.joinpath(\n",
    "    \"30_cagi6_sherloc\", \"validation-mapping-grch37.parquet\"\n",
    ")\n",
    "\n",
    "if validation_mapping_file.is_file():\n",
    "    validation_mapping_df = pq.read_table(validation_mapping_file).to_pandas()\n",
    "else:\n",
    "    import hgvs.assemblymapper\n",
    "    import hgvs.dataproviders.uta\n",
    "    import hgvs.parser\n",
    "\n",
    "    hp = hgvs.parser.Parser()\n",
    "    hdp = hgvs.dataproviders.uta.connect()\n",
    "    mapper = hgvs.assemblymapper.AssemblyMapper(\n",
    "        hdp, assembly_name=\"GRCh37\", normalize=False\n",
    "    )\n",
    "\n",
    "    results = []\n",
    "    for tup in tqdm(validation_all_df.itertuples(), total=len(validation_all_df)):\n",
    "        for var_c in map_g_to_c(tup.hgvs_g, mapper):\n",
    "            results.append((tup.str_g, str(var_c)))\n",
    "    validation_mapping_df = pd.DataFrame(results, columns=[\"hgvs_g\", \"hgvs\"])\n",
    "    pq.write_table(\n",
    "        pa.Table.from_pandas(validation_mapping_df, preserve_index=False),\n",
    "        validation_mapping_file,\n",
    "    )"
   ]
  },
  {
   "cell_type": "code",
   "execution_count": null,
   "id": "73e87f59-55e5-4d95-8c0d-1d70dfe58a32",
   "metadata": {},
   "outputs": [],
   "source": [
    "display(validation_mapping_df.head(2))\n",
    "print(len(validation_mapping_df))"
   ]
  },
  {
   "cell_type": "code",
   "execution_count": null,
   "id": "f5e1fba7-657e-40d2-bd17-25103d8ad28c",
   "metadata": {},
   "outputs": [],
   "source": [
    "validation_df = (\n",
    "    validation_all_df\n",
    "    #\n",
    "    .merge(validation_mapping_df, on=[\"hgvs_g\"], how=\"left\")\n",
    ")"
   ]
  },
  {
   "cell_type": "code",
   "execution_count": null,
   "id": "57fea139-d74e-41a5-bf70-0f6faa20123f",
   "metadata": {},
   "outputs": [],
   "source": [
    "display(validation_df.tail(2))\n",
    "print(len(validation_df))\n",
    "print(len(validation_df[\"hgvs_g\"].unique()))"
   ]
  },
  {
   "cell_type": "markdown",
   "id": "fd00941b-a3df-48d4-864c-bef984a8cd3b",
   "metadata": {},
   "source": [
    "## Load results"
   ]
  },
  {
   "cell_type": "code",
   "execution_count": null,
   "id": "177c1240-dd58-4086-ba47-d100e6d813ca",
   "metadata": {},
   "outputs": [],
   "source": [
    "input_file = NOTEBOOK_DIR.parent.joinpath(\n",
    "    \"37_cagi6_sherloc_combine_results\", \"combined-results.parquet\"\n",
    ")\n",
    "\n",
    "input_file"
   ]
  },
  {
   "cell_type": "code",
   "execution_count": null,
   "id": "5444ee54-44fa-4c3d-9059-91147d960726",
   "metadata": {},
   "outputs": [],
   "source": [
    "result_df = pq.read_table(input_file).to_pandas()\n",
    "\n",
    "display(result_df.head(2))\n",
    "print(len(result_df))"
   ]
  },
  {
   "cell_type": "code",
   "execution_count": null,
   "id": "be5dc561-7eb1-45b1-a3b3-a3a4ed5a9d0d",
   "metadata": {},
   "outputs": [],
   "source": [
    "effect_map = {\n",
    "    \"Uncertain significance\": 0,\n",
    "    \"Likely benign\": -1,\n",
    "    \"Benign\": -2,\n",
    "    \"Likely pathogenic\": 1,\n",
    "    \"Pathogenic\": 2,\n",
    "}\n",
    "\n",
    "result_df[\"effect_score\"] = result_df[\"effect\"].map(effect_map)"
   ]
  },
  {
   "cell_type": "markdown",
   "id": "ae87c286-d491-42d4-941d-606cde544d48",
   "metadata": {},
   "source": [
    "## Exploratory data analysis"
   ]
  },
  {
   "cell_type": "code",
   "execution_count": null,
   "id": "e1374e04-eae5-47bb-b1b0-9aafc45782a0",
   "metadata": {},
   "outputs": [],
   "source": [
    "proteinsolver_columnms = [c for c in result_df if c.startswith(\"proteinsolver_\")]\n",
    "protbert_columns = [c for c in result_df if c.startswith(\"protbert_\")]\n",
    "rosetta_columns = [c for c in result_df if c.startswith(\"rosetta_\")]\n",
    "alphafold_columns = [c for c in result_df if c.startswith(\"alphafold_\")]"
   ]
  },
  {
   "cell_type": "code",
   "execution_count": null,
   "id": "1448fdf8-4949-4e91-b6c2-0db0711b8ea4",
   "metadata": {},
   "outputs": [],
   "source": [
    "result_df[\"effect\"].value_counts()"
   ]
  },
  {
   "cell_type": "code",
   "execution_count": null,
   "id": "4ea8e99e-ccd9-4c28-8613-c3bde79aefbe",
   "metadata": {},
   "outputs": [],
   "source": [
    "effect_map = {\n",
    "    \"Uncertain significance\": 0,\n",
    "    \"Likely benign\": -1,\n",
    "    \"Benign\": -2,\n",
    "    \"Likely pathogenic\": 1,\n",
    "    \"Pathogenic\": 2,\n",
    "}\n",
    "\n",
    "result_df[\"effect_score\"] = result_df[\"effect\"].map(effect_map)"
   ]
  },
  {
   "cell_type": "code",
   "execution_count": null,
   "id": "eb146d6b-4dac-451b-8ed2-951a07d51a9c",
   "metadata": {},
   "outputs": [],
   "source": [
    "score_columns = [\n",
    "    \"el2_score\",\n",
    "    \"proteinsolver_core_score_change\",\n",
    "    \"protbert_core_score_change\",\n",
    "    \"rosetta_dg_change\",\n",
    "    #     \"alphafold_core_scores_residue_plddt_wt\",\n",
    "    #     \"alphafold_core_scores_protein_plddt_wt\",\n",
    "    #     \"alphafold_core_scores_protein_max_predicted_aligned_error_wt\",\n",
    "    #     \"alphafold_core_scores_proten_ptm_wt\",\n",
    "]\n",
    "\n",
    "df = result_df.dropna(subset=score_columns + [\"effect_score\"])\n",
    "# df = df[df[\"effect_score\"].isin([-1, 1])].reset_index(drop=True)\n",
    "\n",
    "for col in score_columns:\n",
    "    corr = stats.spearmanr(df[\"effect_score\"], df[col])\n",
    "    auc = metrics.roc_auc_score(df[\"effect_score\"] > 0, df[col])\n",
    "    print(col, corr[0], auc)"
   ]
  },
  {
   "cell_type": "markdown",
   "id": "a5a022f7-5f44-4505-9d5b-7f2086b984aa",
   "metadata": {},
   "source": [
    "## Load ML models and make predictions"
   ]
  },
  {
   "cell_type": "code",
   "execution_count": null,
   "id": "139450d7-a161-4f05-8d49-367cf25314f2",
   "metadata": {},
   "outputs": [],
   "source": [
    "prediction_df = result_df.copy()"
   ]
  },
  {
   "cell_type": "code",
   "execution_count": null,
   "id": "fab33909-38e6-4032-ae77-b5337ebf61d2",
   "metadata": {
    "tags": []
   },
   "outputs": [],
   "source": [
    "model_infos = [\n",
    "    (\"f6be01c3\", \"optimized\"),\n",
    "    (\"7f9826be\", \"optimized\"),\n",
    "    (\"900500fe\", \"optimized\"),\n",
    "]\n",
    "\n",
    "for unique_id, model_type in tqdm(model_infos):\n",
    "    scalar_features, vector_features = helpers.load_features(\n",
    "        NOTEBOOK_DIR.parent, unique_id\n",
    "    )\n",
    "    features_to_exclude = helpers.load_features_to_exclude(\n",
    "        NOTEBOOK_DIR.parent, unique_id, model_type\n",
    "    )\n",
    "    best_parameters = helpers.load_best_parameters(\n",
    "        NOTEBOOK_DIR.parent, unique_id, model_type\n",
    "    )\n",
    "    models = helpers.load_best_models(NOTEBOOK_DIR.parent, unique_id, model_type)\n",
    "\n",
    "    mask = ~prediction_df[scalar_features + vector_features].isnull().any(axis=1)\n",
    "\n",
    "    X_ref = np.c_[\n",
    "        prediction_df.loc[mask, scalar_features].values,\n",
    "        np.hstack(\n",
    "            [np.vstack(prediction_df.loc[mask, col].values) for col in vector_features]\n",
    "        ),\n",
    "    ]\n",
    "\n",
    "    if features_to_exclude is not None:\n",
    "        feature_mask = np.ones(X_ref.shape[1], dtype=bool)\n",
    "        feature_mask[np.array(features_to_exclude, dtype=int)] = False\n",
    "        X = X_ref[:, feature_mask]\n",
    "        assert len(features_to_exclude) == X_ref.shape[1] - X.shape[1]\n",
    "    else:\n",
    "        X = X_ref\n",
    "\n",
    "    for model_idx, model in enumerate(models):\n",
    "        prediction_df.loc[\n",
    "            mask, f\"pred_{unique_id}_{model_type}_{model_idx}\"\n",
    "        ] = model.predict(X)\n",
    "\n",
    "    pred_column = f\"pred_{unique_id}_{model_type}\"\n",
    "    prediction_df[pred_column] = prediction_df.loc[\n",
    "        mask,\n",
    "        [\n",
    "            f\"pred_{unique_id}_{model_type}_{model_idx}\"\n",
    "            for model_idx in range(len(models))\n",
    "        ],\n",
    "    ].mean(axis=1)"
   ]
  },
  {
   "cell_type": "markdown",
   "id": "d9bed077-0a7e-49d4-abb6-ee2d78e5ac14",
   "metadata": {},
   "source": [
    "## Evaluate predictions"
   ]
  },
  {
   "cell_type": "markdown",
   "id": "56f6638f-bc2d-4cab-953c-4f4b861f8788",
   "metadata": {},
   "source": [
    "### See validation score"
   ]
  },
  {
   "cell_type": "markdown",
   "id": "11ec802a-0b6e-4e7c-a4ff-75acdc59c7bf",
   "metadata": {},
   "source": [
    "### Submit predictions to leaderboard"
   ]
  },
  {
   "cell_type": "code",
   "execution_count": null,
   "id": "f07eff22-856c-4818-994e-a883f74f35cf",
   "metadata": {},
   "outputs": [],
   "source": [
    "pred_column = \"pred_f6be01c3_optimized\"\n",
    "\n",
    "validation_submission_df = validation_df.assign(\n",
    "    is_missense=lambda df: df[\"hgvs\"].notnull()\n",
    ").merge(\n",
    "    prediction_df.rename(columns={pred_column: \"pred\"}),\n",
    "    left_on=[\"hgvs\"],\n",
    "    right_on=[\"mutation_id\"],\n",
    "    how=\"left\",\n",
    ")\n",
    "\n",
    "assert len(validation_submission_df) == len(validation_df)\n",
    "\n",
    "median = np.nanmedian(validation_submission_df[\"pred\"])\n",
    "print(f\"{median=}\")\n",
    "\n",
    "out = (\n",
    "    validation_submission_df.groupby(\"hgvs_g\")\n",
    "    .agg({\"pred\": np.nanmean, \"is_missense\": \"max\"})\n",
    "    .fillna(median)\n",
    "    .reset_index()\n",
    ")\n",
    "\n",
    "median_adj = median / out[\"pred\"].max()\n",
    "out[\"pred\"] = out[\"pred\"] / out[\"pred\"].max()\n",
    "\n",
    "out.head()"
   ]
  },
  {
   "cell_type": "code",
   "execution_count": null,
   "id": "d21d21ac-e02c-4432-90b9-e4413e7a1e79",
   "metadata": {},
   "outputs": [],
   "source": [
    "plt.hist(out[out[\"pred\"] != median_adj][\"pred\"], bins=100)\n",
    "None"
   ]
  },
  {
   "cell_type": "code",
   "execution_count": null,
   "id": "df81142c-ec33-425a-920a-2dfed9292951",
   "metadata": {},
   "outputs": [],
   "source": [
    "out[[\"hgvs_g\", \"pred\"]].to_csv(\n",
    "    NOTEBOOK_DIR.joinpath(\"submission-valid-9.tsv\"), index=False, sep=\"\\t\"\n",
    ")"
   ]
  },
  {
   "cell_type": "markdown",
   "id": "c1cff946-fb03-4771-97b2-51410c1d0a3b",
   "metadata": {},
   "source": [
    "### Final submission"
   ]
  },
  {
   "cell_type": "code",
   "execution_count": null,
   "id": "ed09e913-1480-4e0b-8a12-a47d5b422d57",
   "metadata": {},
   "outputs": [],
   "source": [
    "submission_score_columns = [\n",
    "    \"pred_f6be01c3_optimized\",\n",
    "    \"pred_7f9826be_optimized\",\n",
    "    \"pred_900500fe_optimized\",\n",
    "    \"el2_score\",\n",
    "    \"protbert_core_score_change\",\n",
    "    \"proteinsolver_core_score_change\",\n",
    "    #     \"rosetta_dg_change\",\n",
    "]"
   ]
  },
  {
   "cell_type": "code",
   "execution_count": null,
   "id": "aed8b93a-df0a-4d7e-88b2-7b888957bf64",
   "metadata": {},
   "outputs": [],
   "source": [
    "prediction_df[submission_score_columns].corr()"
   ]
  },
  {
   "cell_type": "code",
   "execution_count": null,
   "id": "c496336f-5ffc-4450-9900-a0cb559d5e7b",
   "metadata": {},
   "outputs": [],
   "source": [
    "assert len(prediction_df) == len(prediction_df[\"mutation_id\"].unique())"
   ]
  },
  {
   "cell_type": "code",
   "execution_count": null,
   "id": "a0089556-bbc6-4b7c-b5ff-86ce4d805297",
   "metadata": {},
   "outputs": [],
   "source": [
    "final_submission_df = submission_template_df.merge(\n",
    "    prediction_df[[\"mutation_id\"] + submission_score_columns],\n",
    "    left_on=[\"hgvs\"],\n",
    "    right_on=[\"mutation_id\"],\n",
    "    how=\"left\",\n",
    ")\n",
    "\n",
    "assert len(final_submission_df) == len(submission_template_df)"
   ]
  },
  {
   "cell_type": "code",
   "execution_count": null,
   "id": "42d83771-fdd4-4c88-bbb4-2c7527ca8663",
   "metadata": {},
   "outputs": [],
   "source": [
    "output_dir = NOTEBOOK_DIR.joinpath(\"submission\")\n",
    "output_dir.mkdir(exist_ok=True)\n",
    "\n",
    "output_dir"
   ]
  },
  {
   "cell_type": "code",
   "execution_count": null,
   "id": "62a8d7f1-ff3f-486f-8e0a-03f5a373370a",
   "metadata": {},
   "outputs": [],
   "source": [
    "%%file {output_dir}/strokach_desc.md\n",
    "# Submission for CAGI6—Sherloc challenge\n",
    "\n",
    "**Please note:**\n",
    "\n",
    "Due to technical limitations and time constraints, we did not make predictions for all missense mutations.\n",
    "It would be great if you could also try evaluating our submission using solely those mutations for which we made predictions (mutations without a prediction have a comment: \"No prediction (dummy score)\").\n",
    "\n",
    "## Overview\n",
    "\n",
    "- `strokach_modelnumber_1.tsv` → Predictions made using ELASPIC2 with AlphaFold [4] features for wildtype protein (trained using both Sherloc and humsavar data).\n",
    "- `strokach_modelnumber_2.tsv` → Predictions made using ELASPIC2 with AlphaFold [4] features for wildtype protein (trained only using Sherloc data).\n",
    "- `strokach_modelnumber_3.tsv` → Predictions made using ELASPIC2 with AlphaFold [4] features for wildtype and mutant proteins (trained only using Sherloc data).\n",
    "- `strokach_modelnumber_4.tsv` → Predictions made using ELASPIC2 [1].\n",
    "- `strokach_modelnumber_5.tsv` → Predictions made using ProteinSolver [2].\n",
    "- `strokach_modelnumber_6.tsv` → Predictions made using ProtBert [3].\n",
    "<!-- - `strokach_modelnumber_6.tsv` → Predictions made using Rosetta's cartesian_ddg protocol [5]. -->\n",
    "\n",
    "## References\n",
    "\n",
    "- [1] Strokach et al. (2021). _ELASPIC2 (EL2): Combining Contextualized Language Models and Graph Neural Networks to Predict Effects of Mutations._ https://doi.org/10.1016/j.jmb.2021.166810\n",
    "- [2] Strokach et al. (2020). _Fast and Flexible Protein Design Using Deep Graph Neural Networks._ https://doi.org/10.1016/j.cels.2020.08.016\n",
    "- [3] Elnaggar et al. (2020). _ProtTrans: Towards Cracking the Language of Life’s Code Through Self-Supervised Deep Learning and High Performance Computing._ https://doi.org/10.1101/2020.07.12.199554\n",
    "- [4] Jumper et al. (2021). _Highly accurate protein structure prediction with AlphaFold._ https://doi.org/10.1038/s41586-021-03819-2\n",
    "- [5] Park et al. (2016). _Simultaneous Optimization of Biomolecular Energy Functions on Features from Small Molecules and Macromolecules._ https://doi.org/10.1021/acs.jctc.6b00819"
   ]
  },
  {
   "cell_type": "code",
   "execution_count": null,
   "id": "58276340-cfb8-4c00-8924-be2ee45ea947",
   "metadata": {},
   "outputs": [],
   "source": [
    "# fpr, tpr, thresholds = metrics.roc_curve(y, pred, pos_label=2)"
   ]
  },
  {
   "cell_type": "code",
   "execution_count": null,
   "id": "98bf2cf7-9f1d-497c-acd9-4b0ff2573357",
   "metadata": {},
   "outputs": [],
   "source": [
    "for submission_idx, score_column in enumerate(submission_score_columns):\n",
    "    print(score_column)\n",
    "    submission_df = final_submission_df.copy()\n",
    "    submission_df[\"score\"] = submission_df[score_column]\n",
    "\n",
    "    comment_mask = submission_df[\"score\"].isnull()\n",
    "    print(score_column, comment_mask.sum())\n",
    "\n",
    "    if submission_df[\"score\"].min() < 0 or submission_df[\"score\"].max() > 1:\n",
    "        print(f\"Reweighting submission for {score_column}.\")\n",
    "        submission_df[\"score\"] = submission_df[\"score\"] - submission_df[\"score\"].min()\n",
    "        submission_df[\"score\"] = submission_df[\"score\"] / submission_df[\"score\"].max()\n",
    "    assert submission_df[\"score\"].min() >= 0 and submission_df[\"score\"].max() <= 1\n",
    "\n",
    "    if score_column.startswith(\"pred_\"):\n",
    "        if \"f6be01c3\" in score_column:\n",
    "            cutoff = 0.3570548221184613\n",
    "        elif any((x in score_column for x in [\"7f9826be\", \"900500fe\"])):\n",
    "            cutoff = 0.2830188679245283\n",
    "        else:\n",
    "            raise Exception\n",
    "    else:\n",
    "        cutoff = 0.5\n",
    "\n",
    "    submission_df[\"score\"] = submission_df[\"score\"].fillna(cutoff)\n",
    "    submission_df[\"class\"] = (submission_df[\"score\"] > cutoff).astype(int)\n",
    "\n",
    "    submission_df.loc[comment_mask, \"comment\"] = \"No prediction (dummy score)\"\n",
    "\n",
    "    display(submission_df.head(2))\n",
    "\n",
    "    output_file = output_dir.joinpath(f\"strokach_modelnumber_{submission_idx + 1}.tsv\")\n",
    "    submission_df[[\"hgvs\", \"score\", \"class\", \"comment\"]].to_csv(\n",
    "        output_file, sep=\"\\t\", index=False\n",
    "    )"
   ]
  },
  {
   "cell_type": "code",
   "execution_count": null,
   "id": "0aad3d4b-7b6a-482a-97c2-4beabaad5dfa",
   "metadata": {},
   "outputs": [],
   "source": [
    "!cd {output_dir.parent} && tar -czf {output_dir.name}.tar.gz {output_dir.name}"
   ]
  },
  {
   "cell_type": "code",
   "execution_count": null,
   "id": "1408d21f-3c35-427d-ab18-333700fb4dcf",
   "metadata": {},
   "outputs": [],
   "source": []
  }
 ],
 "metadata": {
  "kernelspec": {
   "display_name": "Python 3 (ipykernel)",
   "language": "python",
   "name": "python3"
  },
  "language_info": {
   "codemirror_mode": {
    "name": "ipython",
    "version": 3
   },
   "file_extension": ".py",
   "mimetype": "text/x-python",
   "name": "python",
   "nbconvert_exporter": "python",
   "pygments_lexer": "ipython3",
   "version": "3.9.7"
  }
 },
 "nbformat": 4,
 "nbformat_minor": 5
}
