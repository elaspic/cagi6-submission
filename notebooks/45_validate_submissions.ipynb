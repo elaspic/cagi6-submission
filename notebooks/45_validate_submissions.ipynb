{
 "cells": [
  {
   "cell_type": "markdown",
   "id": "4a99f8b6-1a79-4ca4-82df-ad4082ee6650",
   "metadata": {},
   "source": [
    "## Imports"
   ]
  },
  {
   "cell_type": "code",
   "execution_count": null,
   "id": "0b530bd5-e090-44df-abcf-dafc1fa93c54",
   "metadata": {},
   "outputs": [],
   "source": [
    "from pathlib import Path\n",
    "\n",
    "import matplotlib.pyplot as plt\n",
    "import pandas as pd\n",
    "import seaborn as sns"
   ]
  },
  {
   "cell_type": "markdown",
   "id": "030e7c6d-aff2-4a65-8a28-2086c983da7c",
   "metadata": {},
   "source": [
    "## Evaluate submissions"
   ]
  },
  {
   "cell_type": "markdown",
   "id": "e8a8f081-3c77-415b-94f6-82618030aeb5",
   "metadata": {},
   "source": [
    "### `40_cagi6_sherloc_submission`"
   ]
  },
  {
   "cell_type": "code",
   "execution_count": null,
   "id": "31961f22-42c7-4458-98b7-c592ff463749",
   "metadata": {},
   "outputs": [],
   "source": [
    "folder = \"40_cagi6_sherloc_submission\"\n",
    "\n",
    "dfs = []\n",
    "for file in sorted(Path(folder, \"submission\").glob(\"strokach_modelnumber_*.tsv\")):\n",
    "    df = pd.read_csv(file, sep=\"\\t\")\n",
    "    dfs.append(df)\n",
    "    num_missing = (df[\"comment\"] == \"No prediction (dummy score)\").sum()\n",
    "    print(file.name, num_missing)\n",
    "display(dfs[0].head(2))\n",
    "\n",
    "combined_df = None\n",
    "for i, df in enumerate(dfs):\n",
    "    if combined_df is None:\n",
    "        combined_df = df\n",
    "    else:\n",
    "        combined_df = combined_df.merge(df, on=[\"hgvs\"], suffixes=(\"\", f\"{i}\"))\n",
    "\n",
    "corr_columns = [c for c in combined_df if c.startswith(\"score\")]\n",
    "corrs = combined_df[corr_columns].corr(method=\"spearman\")\n",
    "display(corrs)\n",
    "\n",
    "g = sns.pairplot(combined_df[corr_columns])"
   ]
  },
  {
   "cell_type": "markdown",
   "id": "eeaece42-8ab2-46f4-a092-15a8f5bec2c8",
   "metadata": {},
   "source": [
    "### `40_cagi6_hmbs_submission`"
   ]
  },
  {
   "cell_type": "code",
   "execution_count": null,
   "id": "5632614e-ae17-4ed9-8a85-2819f3772df8",
   "metadata": {},
   "outputs": [],
   "source": [
    "folder = \"40_cagi6_hmbs_submission\"\n",
    "\n",
    "dfs = []\n",
    "for file in sorted(Path(folder, \"submission\").glob(\"strokach_modelnumber_*.tsv\")):\n",
    "    df = pd.read_csv(file, sep=\"\\t\")\n",
    "    dfs.append(df)\n",
    "display(dfs[0].head(2))\n",
    "\n",
    "combined_df = None\n",
    "for i, df in enumerate(dfs):\n",
    "    if combined_df is None:\n",
    "        combined_df = df\n",
    "    else:\n",
    "        combined_df = combined_df.merge(df, on=[\"aa_substitution\"], suffixes=(\"\", f\"{i}\"))\n",
    "\n",
    "corr_columns = [c for c in combined_df if c.startswith(\"score\")]\n",
    "corrs = combined_df[corr_columns].corr(method=\"spearman\")\n",
    "display(corrs)\n",
    "\n",
    "g = sns.pairplot(combined_df[corr_columns])"
   ]
  },
  {
   "cell_type": "markdown",
   "id": "d7507529-2c44-48df-a4aa-00ebd73024f3",
   "metadata": {},
   "source": [
    "### `40_cagi6_cam_submission`"
   ]
  },
  {
   "cell_type": "code",
   "execution_count": null,
   "id": "b811be03-f584-4f16-8b7d-251dad241f04",
   "metadata": {},
   "outputs": [],
   "source": [
    "folder = \"40_cagi6_cam_submission\"\n",
    "\n",
    "dfs = []\n",
    "for file in sorted(Path(folder, \"submission\").glob(\"strokach_modelnumber_*.tsv\")):\n",
    "    df = pd.read_csv(file, sep=\"\\t\")\n",
    "    dfs.append(df)\n",
    "display(dfs[0].head(2))\n",
    "\n",
    "combined_df = None\n",
    "for i, df in enumerate(dfs):\n",
    "    if combined_df is None:\n",
    "        combined_df = df\n",
    "    else:\n",
    "        combined_df = combined_df.merge(df, on=[\"CaM-variant\"], suffixes=(\"\", f\"{i}\"))\n",
    "\n",
    "corr_columns = [c for c in combined_df if c.startswith(\"Tm\")]\n",
    "corrs = combined_df[corr_columns].corr(method=\"spearman\")\n",
    "display(corrs)\n",
    "\n",
    "g = sns.pairplot(combined_df[corr_columns])"
   ]
  },
  {
   "cell_type": "markdown",
   "id": "78240a86-4f42-4506-be5c-f383202ebbce",
   "metadata": {},
   "source": [
    "### `40_cagi6_mapk1_submission`"
   ]
  },
  {
   "cell_type": "code",
   "execution_count": null,
   "id": "644becbc-e065-475d-8058-a6d3b88ed705",
   "metadata": {},
   "outputs": [],
   "source": [
    "folder = \"40_cagi6_mapk1_submission\"\n",
    "\n",
    "dfs = []\n",
    "for file in sorted(Path(folder, \"submission\").glob(\"strokach_modelnumber_*.tsv\")):\n",
    "    df = pd.read_csv(file, sep=\"\\t\")\n",
    "    dfs.append(df)\n",
    "display(dfs[0].head(2))\n",
    "    \n",
    "combined_df = None\n",
    "for i, df in enumerate(dfs):\n",
    "    if combined_df is None:\n",
    "        combined_df = df\n",
    "    else:\n",
    "        combined_df = combined_df.merge(df, on=[\"MAPK1-variant\"], suffixes=(\"\", f\"{i}\"))\n",
    "\n",
    "corr_columns = [c for c in combined_df if c.startswith(\"DDG-NotPO4\")]\n",
    "corrs = combined_df[corr_columns].corr(method=\"spearman\")\n",
    "display(corrs)\n",
    "\n",
    "g = sns.pairplot(combined_df[corr_columns])"
   ]
  },
  {
   "cell_type": "markdown",
   "id": "1ce95784-6b10-436f-ad2c-3fb3e03a75a7",
   "metadata": {},
   "source": [
    "### `40_cagi6_mapk3_submission`"
   ]
  },
  {
   "cell_type": "code",
   "execution_count": null,
   "id": "d8b9cfcc-719b-40c9-bbf1-1c7c913fd7a9",
   "metadata": {},
   "outputs": [],
   "source": [
    "folder = \"40_cagi6_mapk3_submission\"\n",
    "\n",
    "dfs = []\n",
    "for file in sorted(Path(folder, \"submission\").glob(\"strokach_modelnumber_*.tsv\")):\n",
    "    df = pd.read_csv(file, sep=\"\\t\")\n",
    "    dfs.append(df)\n",
    "display(dfs[0].head(2))\n",
    "    \n",
    "combined_df = None\n",
    "for i, df in enumerate(dfs):\n",
    "    if combined_df is None:\n",
    "        combined_df = df\n",
    "    else:\n",
    "        combined_df = combined_df.merge(df, on=[\"MAPK3-variant\"], suffixes=(\"\", f\"{i}\"))\n",
    "\n",
    "corr_columns = [c for c in combined_df if c.startswith(\"DDG-NotPO4\")]\n",
    "corrs = combined_df[corr_columns].corr(method=\"spearman\")\n",
    "display(corrs)\n",
    "\n",
    "g = sns.pairplot(combined_df[corr_columns])"
   ]
  },
  {
   "cell_type": "code",
   "execution_count": null,
   "id": "09fa2cd4-53ef-40c4-ad1b-5c31c91cb187",
   "metadata": {},
   "outputs": [],
   "source": []
  }
 ],
 "metadata": {
  "kernelspec": {
   "display_name": "Python 3 (ipykernel)",
   "language": "python",
   "name": "python3"
  },
  "language_info": {
   "codemirror_mode": {
    "name": "ipython",
    "version": 3
   },
   "file_extension": ".py",
   "mimetype": "text/x-python",
   "name": "python",
   "nbconvert_exporter": "python",
   "pygments_lexer": "ipython3",
   "version": "3.9.6"
  }
 },
 "nbformat": 4,
 "nbformat_minor": 5
}
