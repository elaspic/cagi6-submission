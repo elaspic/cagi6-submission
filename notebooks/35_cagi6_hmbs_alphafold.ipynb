{
 "cells": [
  {
   "cell_type": "markdown",
   "id": "26c81e96-6b41-41fa-80a6-6360c482eb58",
   "metadata": {},
   "source": [
    "## Summary\n",
    "\n",
    "---"
   ]
  },
  {
   "cell_type": "markdown",
   "id": "ec276dec-6afa-4b57-bbfc-a11e04a8767e",
   "metadata": {},
   "source": [
    "## Imports"
   ]
  },
  {
   "cell_type": "code",
   "execution_count": 1,
   "id": "1a47729e-ccd8-4472-b57c-8e908de970d2",
   "metadata": {},
   "outputs": [
    {
     "name": "stdout",
     "output_type": "stream",
     "text": [
      "env: TF_FORCE_UNIFIED_MEMORY=1\n",
      "env: XLA_PYTHON_CLIENT_MEM_FRACTION=4.0\n"
     ]
    }
   ],
   "source": [
    "%env TF_FORCE_UNIFIED_MEMORY=1\n",
    "%env XLA_PYTHON_CLIENT_MEM_FRACTION=4.0"
   ]
  },
  {
   "cell_type": "code",
   "execution_count": 2,
   "id": "539f4edf-ca04-4bef-b5c9-a6d402f7570b",
   "metadata": {},
   "outputs": [
    {
     "name": "stderr",
     "output_type": "stream",
     "text": [
      "Warning: importing 'simtk.openmm' is deprecated.  Import 'openmm' instead.\n"
     ]
    }
   ],
   "source": [
    "import os\n",
    "import tempfile\n",
    "import urllib.request\n",
    "from datetime import datetime\n",
    "from pathlib import Path\n",
    "\n",
    "import dotenv\n",
    "import elaspic2 as el2\n",
    "import matplotlib.pyplot as plt\n",
    "import numpy as np\n",
    "import pandas as pd\n",
    "import pyarrow as pa\n",
    "import pyarrow.parquet as pq\n",
    "import seaborn as sns\n",
    "import torch\n",
    "from kmbio import PDB\n",
    "from kmtools import structure_tools\n",
    "from tqdm.auto import tqdm"
   ]
  },
  {
   "cell_type": "markdown",
   "id": "5be0ca05-c038-414f-ba84-b2ae8013088b",
   "metadata": {},
   "source": [
    "## Parameters"
   ]
  },
  {
   "cell_type": "code",
   "execution_count": 3,
   "id": "10e1faee-9f6a-40d8-8819-272b1c9837bb",
   "metadata": {},
   "outputs": [
    {
     "data": {
      "text/plain": [
       "PosixPath('/scratch/strokach/workspace/elaspic2-cagi6/notebooks/35_cagi6_hmbs_alphafold')"
      ]
     },
     "execution_count": 3,
     "metadata": {},
     "output_type": "execute_result"
    }
   ],
   "source": [
    "NOTEBOOK_DIR = Path(\"35_cagi6_hmbs_alphafold\").resolve()\n",
    "NOTEBOOK_DIR.mkdir(exist_ok=True)\n",
    "\n",
    "NOTEBOOK_DIR"
   ]
  },
  {
   "cell_type": "code",
   "execution_count": 4,
   "id": "a0f4ceaf-034c-48cd-b502-276d3669e3c7",
   "metadata": {},
   "outputs": [
    {
     "data": {
      "text/plain": [
       "'P08397'"
      ]
     },
     "execution_count": 4,
     "metadata": {},
     "output_type": "execute_result"
    }
   ],
   "source": [
    "UNIPROT_ID = \"P08397\"\n",
    "\n",
    "UNIPROT_ID"
   ]
  },
  {
   "cell_type": "code",
   "execution_count": 5,
   "id": "fb61793b-7826-48b9-9166-f40954f8ddb0",
   "metadata": {
    "colab": {
     "base_uri": "https://localhost:8080/"
    },
    "id": "HCyTzII-HD1t",
    "outputId": "92f63199-1727-48d3-cb4b-6ff798fa75b6"
   },
   "outputs": [
    {
     "data": {
      "text/plain": [
       "device(type='cuda')"
      ]
     },
     "execution_count": 5,
     "metadata": {},
     "output_type": "execute_result"
    }
   ],
   "source": [
    "device = torch.device(\"cuda\" if torch.cuda.is_available() else \"cpu\")\n",
    "\n",
    "device"
   ]
  },
  {
   "cell_type": "code",
   "execution_count": 6,
   "id": "fb8521b3-3e92-4681-8ee6-a05dbd45c8ed",
   "metadata": {
    "colab": {
     "base_uri": "https://localhost:8080/",
     "height": 35
    },
    "id": "i3LyUBcjSUzb",
    "outputId": "054b8acc-0717-48cf-83d9-ca0b886f7b10"
   },
   "outputs": [
    {
     "data": {
      "text/plain": [
       "'2021-09-28T19'"
      ]
     },
     "execution_count": 6,
     "metadata": {},
     "output_type": "execute_result"
    }
   ],
   "source": [
    "version = datetime.now().isoformat(timespec=\"hours\")\n",
    "\n",
    "version"
   ]
  },
  {
   "cell_type": "markdown",
   "id": "7b880de8-3082-4311-8cea-b6f90c32b7c0",
   "metadata": {},
   "source": [
    "## Load data"
   ]
  },
  {
   "cell_type": "code",
   "execution_count": 7,
   "id": "1718fe29-8b1e-44b0-bc5d-db15e5546be8",
   "metadata": {},
   "outputs": [],
   "source": [
    "def load_sequence(sequence_file):\n",
    "    with sequence_file.open(\"rt\") as fin:\n",
    "        data = fin.read()\n",
    "    chunks = []\n",
    "    for line in data.split(\"\\n\"):\n",
    "        if line.startswith(\">\"):\n",
    "            continue\n",
    "        chunks.append(line.strip())\n",
    "    return \"\".join(chunks)"
   ]
  },
  {
   "cell_type": "code",
   "execution_count": 8,
   "id": "9c551016-b6c3-4835-b285-35acf4a6f720",
   "metadata": {},
   "outputs": [],
   "source": [
    "sequence_file = NOTEBOOK_DIR.parent.joinpath(\"30_cagi6_hmbs\", f\"{UNIPROT_ID}.fasta\")\n",
    "\n",
    "assert sequence_file.is_file()"
   ]
  },
  {
   "cell_type": "code",
   "execution_count": 9,
   "id": "fe741769-a3f9-4078-8e16-4ff4574c5739",
   "metadata": {},
   "outputs": [
    {
     "data": {
      "text/plain": [
       "'MSGNG'"
      ]
     },
     "execution_count": 9,
     "metadata": {},
     "output_type": "execute_result"
    }
   ],
   "source": [
    "sequence = load_sequence(sequence_file)\n",
    "\n",
    "sequence[:5]"
   ]
  },
  {
   "cell_type": "code",
   "execution_count": 10,
   "id": "7a890bed-11da-4175-9d5e-e472dcc38354",
   "metadata": {},
   "outputs": [],
   "source": [
    "structure_file = NOTEBOOK_DIR.parent.joinpath(\"30_cagi6_hmbs\", f\"{UNIPROT_ID}.pdb\")\n",
    "\n",
    "assert structure_file.is_file()"
   ]
  },
  {
   "cell_type": "code",
   "execution_count": 11,
   "id": "85603488-9aa0-480e-9a98-4f7019d5a01c",
   "metadata": {},
   "outputs": [],
   "source": [
    "alignment_file = NOTEBOOK_DIR.parent.joinpath(\"30_cagi6_hmbs\", f\"{UNIPROT_ID}.a3m.gz\")\n",
    "\n",
    "alignment = pq.read_table(alignment_file).to_pandas()[\"alignment\"].values.tolist()"
   ]
  },
  {
   "cell_type": "code",
   "execution_count": 12,
   "id": "03d7abce-b3fd-4150-9514-9f77c7350f97",
   "metadata": {},
   "outputs": [],
   "source": [
    "results_to_fill_file = NOTEBOOK_DIR.parent.joinpath(\"30_cagi6_hmbs\", \"results-to-fill.parquet\")\n",
    "\n",
    "results_to_fill_df = pq.read_table(results_to_fill_file).to_pandas()"
   ]
  },
  {
   "cell_type": "code",
   "execution_count": 13,
   "id": "197d555f-6c86-446b-a987-ef9c62dad618",
   "metadata": {
    "tags": []
   },
   "outputs": [
    {
     "data": {
      "text/html": [
       "<div>\n",
       "<style scoped>\n",
       "    .dataframe tbody tr th:only-of-type {\n",
       "        vertical-align: middle;\n",
       "    }\n",
       "\n",
       "    .dataframe tbody tr th {\n",
       "        vertical-align: top;\n",
       "    }\n",
       "\n",
       "    .dataframe thead th {\n",
       "        text-align: right;\n",
       "    }\n",
       "</style>\n",
       "<table border=\"1\" class=\"dataframe\">\n",
       "  <thead>\n",
       "    <tr style=\"text-align: right;\">\n",
       "      <th></th>\n",
       "      <th>aa_substitution</th>\n",
       "      <th>score</th>\n",
       "      <th>sd</th>\n",
       "      <th>comments</th>\n",
       "      <th>mut</th>\n",
       "    </tr>\n",
       "  </thead>\n",
       "  <tbody>\n",
       "    <tr>\n",
       "      <th>0</th>\n",
       "      <td>p.Ala112Arg</td>\n",
       "      <td>*</td>\n",
       "      <td>*</td>\n",
       "      <td>*</td>\n",
       "      <td>A112R</td>\n",
       "    </tr>\n",
       "    <tr>\n",
       "      <th>1</th>\n",
       "      <td>p.Ala112Asn</td>\n",
       "      <td>*</td>\n",
       "      <td>*</td>\n",
       "      <td>*</td>\n",
       "      <td>A112N</td>\n",
       "    </tr>\n",
       "  </tbody>\n",
       "</table>\n",
       "</div>"
      ],
      "text/plain": [
       "  aa_substitution score sd comments    mut\n",
       "0     p.Ala112Arg     *  *        *  A112R\n",
       "1     p.Ala112Asn     *  *        *  A112N"
      ]
     },
     "execution_count": 13,
     "metadata": {},
     "output_type": "execute_result"
    }
   ],
   "source": [
    "results_to_fill_df.head(2)"
   ]
  },
  {
   "cell_type": "markdown",
   "id": "b55f5999-8940-4cac-baca-9918ffeca899",
   "metadata": {
    "tags": []
   },
   "source": [
    "## Run AlphaFold WT"
   ]
  },
  {
   "cell_type": "code",
   "execution_count": 14,
   "id": "1dd49b96-feea-4fe8-be93-df9e0738c51e",
   "metadata": {},
   "outputs": [],
   "source": [
    "def predictions_to_embeddings(predictions):\n",
    "    return {\n",
    "        \"plddt\": predictions[\"plddt\"],\n",
    "        \"max_predicted_aligned_error\": predictions[\"max_predicted_aligned_error\"].item(),\n",
    "        \"ptm\": predictions[\"ptm\"].item(),\n",
    "        #\n",
    "        \"experimentally_resolved\": predictions[\"experimentally_resolved\"][\"logits\"]\n",
    "        .to_py()\n",
    "        .tolist(),\n",
    "        \"predicted_lddt\": predictions[\"predicted_lddt\"][\"logits\"].to_py().tolist(),\n",
    "        #\n",
    "        \"msa_first_row\": predictions[\"representations\"][\"msa_first_row\"].to_py().tolist(),\n",
    "        \"single\": predictions[\"representations\"][\"single\"].to_py().tolist(),\n",
    "        \"structure_module\": predictions[\"representations\"][\"structure_module\"].to_py().tolist(),\n",
    "    }"
   ]
  },
  {
   "cell_type": "code",
   "execution_count": 15,
   "id": "151ec445-a28c-4924-b166-6a0d8ec121d0",
   "metadata": {},
   "outputs": [],
   "source": [
    "def get_mutation_embeddings(idx, predictions):\n",
    "    assert idx >= 0\n",
    "\n",
    "    def as_residue(x):\n",
    "        x = np.asarray(x)\n",
    "        return x[idx].astype(np.float32)\n",
    "\n",
    "    def as_protein(x):\n",
    "        x = np.asarray(x)\n",
    "        return x.mean(axis=0).astype(np.float32)\n",
    "\n",
    "    embeddings = {\n",
    "        \"experimentally_resolved\": predictions[\"experimentally_resolved\"],\n",
    "        \"predicted_lddt\": predictions[\"predicted_lddt\"],\n",
    "        \"msa_first_row\": predictions[\"msa_first_row\"],\n",
    "        \"single\": predictions[\"single\"],\n",
    "        \"structure_module\": predictions[\"structure_module\"],\n",
    "    }\n",
    "\n",
    "    output = {\n",
    "        \"scores_residue_plddt\": predictions[\"plddt\"][idx],\n",
    "        \"scores_protein_plddt\": np.mean(predictions[\"plddt\"]),\n",
    "        \"scores_protein_max_predicted_aligned_error\": predictions[\"max_predicted_aligned_error\"],\n",
    "        \"scores_proten_ptm\": predictions[\"ptm\"],\n",
    "        **{f\"features_residue_{key}\": as_residue(value) for key, value in embeddings.items()},\n",
    "        **{f\"features_protein_{key}\": as_protein(value) for key, value in embeddings.items()},\n",
    "    }\n",
    "\n",
    "    return output"
   ]
  },
  {
   "cell_type": "code",
   "execution_count": 16,
   "id": "9c5c9f3d-e584-4154-91b0-abd7f46f5562",
   "metadata": {},
   "outputs": [],
   "source": [
    "alphafold_wt_results_file = NOTEBOOK_DIR.joinpath(\"alphafold-wt-results.parquet\")\n",
    "\n",
    "if alphafold_wt_results_file.is_file():\n",
    "    alphafold_wt_results_df = pq.read_table(alphafold_wt_results_file).to_pandas()\n",
    "else:\n",
    "    from elaspic2.plugins.alphafold import AlphaFold, AlphaFoldAnalyzeError, AlphaFoldBuildError\n",
    "    from jax.lib import xla_bridge\n",
    "\n",
    "    jax_device = xla_bridge.get_backend().platform\n",
    "    print(f\"Device: {jax_device}\")\n",
    "\n",
    "    AlphaFold.load_model(device=jax_device)\n",
    "    data = AlphaFold.build(sequence, ligand_sequence=None, msa=alignment)\n",
    "    predictions = predictions_to_embeddings(data.predictions)\n",
    "    features_list = [\n",
    "        (\n",
    "            {\"mut\": mut}\n",
    "            | {\n",
    "                f\"alphafold_core_{key}_wt\": value\n",
    "                for key, value in get_mutation_embeddings(int(mut[1:-1]) - 1, predictions).items()\n",
    "            }\n",
    "        )\n",
    "        for mut in results_to_fill_df[\"mut\"]\n",
    "    ]\n",
    "    alphafold_wt_results_df = pd.DataFrame(features_list)\n",
    "    pq.write_table(\n",
    "        pa.Table.from_pandas(alphafold_wt_results_df, preserve_index=False),\n",
    "        alphafold_wt_results_file,\n",
    "    )"
   ]
  },
  {
   "cell_type": "code",
   "execution_count": 17,
   "id": "3a31ccab-6941-4169-9109-629b990d9481",
   "metadata": {},
   "outputs": [
    {
     "data": {
      "text/html": [
       "<div>\n",
       "<style scoped>\n",
       "    .dataframe tbody tr th:only-of-type {\n",
       "        vertical-align: middle;\n",
       "    }\n",
       "\n",
       "    .dataframe tbody tr th {\n",
       "        vertical-align: top;\n",
       "    }\n",
       "\n",
       "    .dataframe thead th {\n",
       "        text-align: right;\n",
       "    }\n",
       "</style>\n",
       "<table border=\"1\" class=\"dataframe\">\n",
       "  <thead>\n",
       "    <tr style=\"text-align: right;\">\n",
       "      <th></th>\n",
       "      <th>mut</th>\n",
       "      <th>alphafold_core_scores_residue_plddt_wt</th>\n",
       "      <th>alphafold_core_scores_protein_plddt_wt</th>\n",
       "      <th>alphafold_core_scores_protein_max_predicted_aligned_error_wt</th>\n",
       "      <th>alphafold_core_scores_proten_ptm_wt</th>\n",
       "      <th>alphafold_core_features_residue_experimentally_resolved_wt</th>\n",
       "      <th>alphafold_core_features_residue_predicted_lddt_wt</th>\n",
       "      <th>alphafold_core_features_residue_msa_first_row_wt</th>\n",
       "      <th>alphafold_core_features_residue_single_wt</th>\n",
       "      <th>alphafold_core_features_residue_structure_module_wt</th>\n",
       "      <th>alphafold_core_features_protein_experimentally_resolved_wt</th>\n",
       "      <th>alphafold_core_features_protein_predicted_lddt_wt</th>\n",
       "      <th>alphafold_core_features_protein_msa_first_row_wt</th>\n",
       "      <th>alphafold_core_features_protein_single_wt</th>\n",
       "      <th>alphafold_core_features_protein_structure_module_wt</th>\n",
       "    </tr>\n",
       "  </thead>\n",
       "  <tbody>\n",
       "    <tr>\n",
       "      <th>0</th>\n",
       "      <td>A112R</td>\n",
       "      <td>96.101048</td>\n",
       "      <td>87.854437</td>\n",
       "      <td>31.75</td>\n",
       "      <td>0.869775</td>\n",
       "      <td>[2.765605, 2.885155, 3.4066327, 2.7455544, 3.4...</td>\n",
       "      <td>[-11.647073, -12.94594, -11.152253, -9.916887,...</td>\n",
       "      <td>[0.5386157, 8.812037, -3.058997, 4.732732, -4....</td>\n",
       "      <td>[29.820736, 49.839714, 53.33713, -28.858473, 2...</td>\n",
       "      <td>[-0.00066452473, 0.011935189, -0.005865535, 0....</td>\n",
       "      <td>[2.5443485, 2.652794, 3.0835412, 2.5492835, 3....</td>\n",
       "      <td>[-8.669228, -9.790952, -8.569939, -7.6671114, ...</td>\n",
       "      <td>[4.0051045, 6.9503894, 0.70320404, 0.7040772, ...</td>\n",
       "      <td>[17.930984, 18.186771, 6.970354, 3.3894393, 8....</td>\n",
       "      <td>[0.00042588258, 0.010626375, -0.0059233517, 0....</td>\n",
       "    </tr>\n",
       "    <tr>\n",
       "      <th>1</th>\n",
       "      <td>A112N</td>\n",
       "      <td>96.101048</td>\n",
       "      <td>87.854437</td>\n",
       "      <td>31.75</td>\n",
       "      <td>0.869775</td>\n",
       "      <td>[2.765605, 2.885155, 3.4066327, 2.7455544, 3.4...</td>\n",
       "      <td>[-11.647073, -12.94594, -11.152253, -9.916887,...</td>\n",
       "      <td>[0.5386157, 8.812037, -3.058997, 4.732732, -4....</td>\n",
       "      <td>[29.820736, 49.839714, 53.33713, -28.858473, 2...</td>\n",
       "      <td>[-0.00066452473, 0.011935189, -0.005865535, 0....</td>\n",
       "      <td>[2.5443485, 2.652794, 3.0835412, 2.5492835, 3....</td>\n",
       "      <td>[-8.669228, -9.790952, -8.569939, -7.6671114, ...</td>\n",
       "      <td>[4.0051045, 6.9503894, 0.70320404, 0.7040772, ...</td>\n",
       "      <td>[17.930984, 18.186771, 6.970354, 3.3894393, 8....</td>\n",
       "      <td>[0.00042588258, 0.010626375, -0.0059233517, 0....</td>\n",
       "    </tr>\n",
       "  </tbody>\n",
       "</table>\n",
       "</div>"
      ],
      "text/plain": [
       "     mut  alphafold_core_scores_residue_plddt_wt  \\\n",
       "0  A112R                               96.101048   \n",
       "1  A112N                               96.101048   \n",
       "\n",
       "   alphafold_core_scores_protein_plddt_wt  \\\n",
       "0                               87.854437   \n",
       "1                               87.854437   \n",
       "\n",
       "   alphafold_core_scores_protein_max_predicted_aligned_error_wt  \\\n",
       "0                                              31.75              \n",
       "1                                              31.75              \n",
       "\n",
       "   alphafold_core_scores_proten_ptm_wt  \\\n",
       "0                             0.869775   \n",
       "1                             0.869775   \n",
       "\n",
       "  alphafold_core_features_residue_experimentally_resolved_wt  \\\n",
       "0  [2.765605, 2.885155, 3.4066327, 2.7455544, 3.4...           \n",
       "1  [2.765605, 2.885155, 3.4066327, 2.7455544, 3.4...           \n",
       "\n",
       "   alphafold_core_features_residue_predicted_lddt_wt  \\\n",
       "0  [-11.647073, -12.94594, -11.152253, -9.916887,...   \n",
       "1  [-11.647073, -12.94594, -11.152253, -9.916887,...   \n",
       "\n",
       "    alphafold_core_features_residue_msa_first_row_wt  \\\n",
       "0  [0.5386157, 8.812037, -3.058997, 4.732732, -4....   \n",
       "1  [0.5386157, 8.812037, -3.058997, 4.732732, -4....   \n",
       "\n",
       "           alphafold_core_features_residue_single_wt  \\\n",
       "0  [29.820736, 49.839714, 53.33713, -28.858473, 2...   \n",
       "1  [29.820736, 49.839714, 53.33713, -28.858473, 2...   \n",
       "\n",
       "  alphafold_core_features_residue_structure_module_wt  \\\n",
       "0  [-0.00066452473, 0.011935189, -0.005865535, 0....    \n",
       "1  [-0.00066452473, 0.011935189, -0.005865535, 0....    \n",
       "\n",
       "  alphafold_core_features_protein_experimentally_resolved_wt  \\\n",
       "0  [2.5443485, 2.652794, 3.0835412, 2.5492835, 3....           \n",
       "1  [2.5443485, 2.652794, 3.0835412, 2.5492835, 3....           \n",
       "\n",
       "   alphafold_core_features_protein_predicted_lddt_wt  \\\n",
       "0  [-8.669228, -9.790952, -8.569939, -7.6671114, ...   \n",
       "1  [-8.669228, -9.790952, -8.569939, -7.6671114, ...   \n",
       "\n",
       "    alphafold_core_features_protein_msa_first_row_wt  \\\n",
       "0  [4.0051045, 6.9503894, 0.70320404, 0.7040772, ...   \n",
       "1  [4.0051045, 6.9503894, 0.70320404, 0.7040772, ...   \n",
       "\n",
       "           alphafold_core_features_protein_single_wt  \\\n",
       "0  [17.930984, 18.186771, 6.970354, 3.3894393, 8....   \n",
       "1  [17.930984, 18.186771, 6.970354, 3.3894393, 8....   \n",
       "\n",
       "  alphafold_core_features_protein_structure_module_wt  \n",
       "0  [0.00042588258, 0.010626375, -0.0059233517, 0....   \n",
       "1  [0.00042588258, 0.010626375, -0.0059233517, 0....   "
      ]
     },
     "metadata": {},
     "output_type": "display_data"
    },
    {
     "name": "stdout",
     "output_type": "stream",
     "text": [
      "6239\n"
     ]
    }
   ],
   "source": [
    "display(alphafold_wt_results_df.head(2))\n",
    "print(len(alphafold_wt_results_df))"
   ]
  },
  {
   "cell_type": "markdown",
   "id": "3154f60b-9316-487e-b6fa-757ead2b2bab",
   "metadata": {},
   "source": [
    "## Run AlphaFold"
   ]
  },
  {
   "cell_type": "code",
   "execution_count": 18,
   "id": "10d169e3-dbc5-49bd-8767-e71e7b6cbdb3",
   "metadata": {},
   "outputs": [],
   "source": [
    "# def worker(mutation, data):\n",
    "#     try:\n",
    "#         results = AlphaFold.analyze_mutation(f\"A_{mutation}\", data)\n",
    "#     except Exception as error:\n",
    "#         print(f\"{error!r}\")\n",
    "#         return None\n",
    "#     else:\n",
    "#         results = {f\"alphafold_core_{key}\": value for key, value in results.items()}\n",
    "#         return results"
   ]
  },
  {
   "cell_type": "code",
   "execution_count": 19,
   "id": "0939906a-2e91-486c-ba66-e0cec6caf126",
   "metadata": {},
   "outputs": [],
   "source": [
    "# alphafold_results_file = NOTEBOOK_DIR.joinpath(\"alphafold-results.parquet\")\n",
    "\n",
    "# if alphafold_results_file.is_file():\n",
    "#     alphafold_results_df = pq.read_table(alphafold_results_file).to_pandas()\n",
    "# else:\n",
    "#     from elaspic2.plugins.alphafold import AlphaFold, AlphaFoldAnalyzeError, AlphaFoldBuildError\n",
    "#     from jax.lib import xla_bridge\n",
    "\n",
    "#     jax_device = xla_bridge.get_backend().platform\n",
    "#     print(f\"Device: {jax_device}\")\n",
    "\n",
    "#     AlphaFold.load_model(device=jax_device)\n",
    "#     data = AlphaFold.build(sequence, ligand_sequence=None, msa=alignment)\n",
    "\n",
    "#     result_list = []\n",
    "#     for mut in tqdm(results_to_fill_df[\"mut\"], leave=False):\n",
    "#         result = worker(mut, data)\n",
    "#         result_list.append({\"mut\": mut} | result)\n",
    "#     alphafold_results_df = pd.DataFrame(result_list)\n",
    "\n",
    "#     pq.write_table(\n",
    "#         pa.Table.from_pandas(alphafold_results_df, preserve_index=False), alphafold_results_file\n",
    "#     )"
   ]
  },
  {
   "cell_type": "code",
   "execution_count": 20,
   "id": "dc95c452-d493-4b9e-aa84-fb18584fd14c",
   "metadata": {},
   "outputs": [],
   "source": [
    "# display(alphafold_results_df.head(2))\n",
    "# print(len(alphafold_results_df))"
   ]
  },
  {
   "cell_type": "markdown",
   "id": "b87d787d-09fc-4550-9825-bd4d38cf2a29",
   "metadata": {},
   "source": [
    "## Run ProteinSolver"
   ]
  },
  {
   "cell_type": "code",
   "execution_count": 21,
   "id": "f4620417-414e-421a-ba49-396dc8299b76",
   "metadata": {},
   "outputs": [],
   "source": [
    "def worker(mutation, data):\n",
    "    try:\n",
    "        results = ProteinSolver.analyze_mutation(f\"A_{mutation}\", data)\n",
    "    except Exception as error:\n",
    "        print(f\"{error!r}\")\n",
    "        return None\n",
    "    else:\n",
    "        results = {f\"proteinsolver_core_{key}\": value for key, value in results.items()}\n",
    "        return results"
   ]
  },
  {
   "cell_type": "code",
   "execution_count": 22,
   "id": "16c0bb1e-3e5b-4559-83f8-e2e4a7a11d9d",
   "metadata": {},
   "outputs": [],
   "source": [
    "proteinsolver_results_file = NOTEBOOK_DIR.joinpath(\"proteinsolver-results.parquet\")\n",
    "\n",
    "if proteinsolver_results_file.is_file():\n",
    "    proteinsolver_results_df = pq.read_table(proteinsolver_results_file).to_pandas()\n",
    "else:\n",
    "    from elaspic2.plugins.proteinsolver import ProteinSolver\n",
    "\n",
    "    ProteinSolver.load_model(device=device)\n",
    "    \n",
    "    data = ProteinSolver.build(structure_file, sequence, None, remove_hetatms=False)\n",
    "\n",
    "    result_list = []\n",
    "    for mut in tqdm(results_to_fill_df[\"mut\"], leave=False):\n",
    "        result = worker(mut, data)\n",
    "        result_list.append({\"mut\": mut} | result)\n",
    "    proteinsolver_results_df = pd.DataFrame(result_list)\n",
    "\n",
    "    pq.write_table(\n",
    "        pa.Table.from_pandas(proteinsolver_results_df, preserve_index=False),\n",
    "        proteinsolver_results_file,\n",
    "    )"
   ]
  },
  {
   "cell_type": "code",
   "execution_count": 23,
   "id": "45b1022b-351c-443c-8831-5b76d34ed113",
   "metadata": {},
   "outputs": [
    {
     "data": {
      "text/html": [
       "<div>\n",
       "<style scoped>\n",
       "    .dataframe tbody tr th:only-of-type {\n",
       "        vertical-align: middle;\n",
       "    }\n",
       "\n",
       "    .dataframe tbody tr th {\n",
       "        vertical-align: top;\n",
       "    }\n",
       "\n",
       "    .dataframe thead th {\n",
       "        text-align: right;\n",
       "    }\n",
       "</style>\n",
       "<table border=\"1\" class=\"dataframe\">\n",
       "  <thead>\n",
       "    <tr style=\"text-align: right;\">\n",
       "      <th></th>\n",
       "      <th>mut</th>\n",
       "      <th>proteinsolver_core_score_wt</th>\n",
       "      <th>proteinsolver_core_score_mut</th>\n",
       "      <th>proteinsolver_core_features_residue_wt</th>\n",
       "      <th>proteinsolver_core_features_protein_wt</th>\n",
       "      <th>proteinsolver_core_features_residue_mut</th>\n",
       "      <th>proteinsolver_core_features_protein_mut</th>\n",
       "    </tr>\n",
       "  </thead>\n",
       "  <tbody>\n",
       "    <tr>\n",
       "      <th>0</th>\n",
       "      <td>A112R</td>\n",
       "      <td>0.810171</td>\n",
       "      <td>0.000203</td>\n",
       "      <td>[-4.356575965881348, 0.01211337000131607, -0.5...</td>\n",
       "      <td>[-1.539688229560852, 0.31123825907707214, 0.07...</td>\n",
       "      <td>[-0.23516525328159332, -0.1763198971748352, 0....</td>\n",
       "      <td>[-1.528090000152588, 0.3134782314300537, 0.076...</td>\n",
       "    </tr>\n",
       "    <tr>\n",
       "      <th>1</th>\n",
       "      <td>A112N</td>\n",
       "      <td>0.810172</td>\n",
       "      <td>0.000319</td>\n",
       "      <td>[-4.356573581695557, 0.01211315393447876, -0.5...</td>\n",
       "      <td>[-1.539688229560852, 0.31123828887939453, 0.07...</td>\n",
       "      <td>[2.0055434703826904, 0.43138548731803894, -0.7...</td>\n",
       "      <td>[-1.5259792804718018, 0.3278365731239319, 0.07...</td>\n",
       "    </tr>\n",
       "  </tbody>\n",
       "</table>\n",
       "</div>"
      ],
      "text/plain": [
       "     mut  proteinsolver_core_score_wt  proteinsolver_core_score_mut  \\\n",
       "0  A112R                     0.810171                      0.000203   \n",
       "1  A112N                     0.810172                      0.000319   \n",
       "\n",
       "              proteinsolver_core_features_residue_wt  \\\n",
       "0  [-4.356575965881348, 0.01211337000131607, -0.5...   \n",
       "1  [-4.356573581695557, 0.01211315393447876, -0.5...   \n",
       "\n",
       "              proteinsolver_core_features_protein_wt  \\\n",
       "0  [-1.539688229560852, 0.31123825907707214, 0.07...   \n",
       "1  [-1.539688229560852, 0.31123828887939453, 0.07...   \n",
       "\n",
       "             proteinsolver_core_features_residue_mut  \\\n",
       "0  [-0.23516525328159332, -0.1763198971748352, 0....   \n",
       "1  [2.0055434703826904, 0.43138548731803894, -0.7...   \n",
       "\n",
       "             proteinsolver_core_features_protein_mut  \n",
       "0  [-1.528090000152588, 0.3134782314300537, 0.076...  \n",
       "1  [-1.5259792804718018, 0.3278365731239319, 0.07...  "
      ]
     },
     "metadata": {},
     "output_type": "display_data"
    },
    {
     "name": "stdout",
     "output_type": "stream",
     "text": [
      "6239\n"
     ]
    }
   ],
   "source": [
    "display(proteinsolver_results_df.head(2))\n",
    "print(len(proteinsolver_results_df))"
   ]
  },
  {
   "cell_type": "markdown",
   "id": "937d3ed9-901d-428c-a7a5-4cf111384c34",
   "metadata": {},
   "source": [
    "## Run ProtBert"
   ]
  },
  {
   "cell_type": "code",
   "execution_count": 24,
   "id": "7c743976-844d-484f-bc37-be7d545990db",
   "metadata": {},
   "outputs": [],
   "source": [
    "def worker(mutation, data):\n",
    "    try:\n",
    "        results = ProtBert.analyze_mutation(f\"A_{mutation}\", data)\n",
    "    except Exception as error:\n",
    "        print(f\"{error!r}\")\n",
    "        return None\n",
    "    else:\n",
    "        results = {f\"protbert_core_{key}\": value for key, value in results.items()}\n",
    "        return results"
   ]
  },
  {
   "cell_type": "code",
   "execution_count": 25,
   "id": "55b2fc5f-e301-4e70-a9d5-e3d02b013d4a",
   "metadata": {},
   "outputs": [],
   "source": [
    "protbert_results_file = NOTEBOOK_DIR.joinpath(\"protbert-results.parquet\")\n",
    "\n",
    "if protbert_results_file.is_file():\n",
    "    protbert_results_df = pq.read_table(protbert_results_file).to_pandas()\n",
    "else:\n",
    "    from elaspic2.plugins.protbert import ProtBert\n",
    "\n",
    "    ProtBert.load_model(device=device)\n",
    "    data = ProtBert.build(sequence, ligand_sequence=None)\n",
    "\n",
    "    result_list = []\n",
    "    for mut in tqdm(results_to_fill_df[\"mut\"], leave=False):\n",
    "        result = worker(mut, data)\n",
    "        result_list.append({\"mut\": mut} | result)\n",
    "    protbert_results_df = pd.DataFrame(result_list)\n",
    "\n",
    "    pq.write_table(\n",
    "        pa.Table.from_pandas(protbert_results_df, preserve_index=False), protbert_results_file\n",
    "    )"
   ]
  },
  {
   "cell_type": "code",
   "execution_count": 26,
   "id": "454a1516-0ac8-49f6-ad11-02230a9e196e",
   "metadata": {},
   "outputs": [
    {
     "data": {
      "text/html": [
       "<div>\n",
       "<style scoped>\n",
       "    .dataframe tbody tr th:only-of-type {\n",
       "        vertical-align: middle;\n",
       "    }\n",
       "\n",
       "    .dataframe tbody tr th {\n",
       "        vertical-align: top;\n",
       "    }\n",
       "\n",
       "    .dataframe thead th {\n",
       "        text-align: right;\n",
       "    }\n",
       "</style>\n",
       "<table border=\"1\" class=\"dataframe\">\n",
       "  <thead>\n",
       "    <tr style=\"text-align: right;\">\n",
       "      <th></th>\n",
       "      <th>mut</th>\n",
       "      <th>protbert_core_score_wt</th>\n",
       "      <th>protbert_core_score_mut</th>\n",
       "      <th>protbert_core_features_residue_wt</th>\n",
       "      <th>protbert_core_features_protein_wt</th>\n",
       "      <th>protbert_core_features_residue_mut</th>\n",
       "      <th>protbert_core_features_protein_mut</th>\n",
       "    </tr>\n",
       "  </thead>\n",
       "  <tbody>\n",
       "    <tr>\n",
       "      <th>0</th>\n",
       "      <td>A112R</td>\n",
       "      <td>0.936817</td>\n",
       "      <td>0.000006</td>\n",
       "      <td>[0.0668850839138031, -0.07388728111982346, -0....</td>\n",
       "      <td>[-0.00546208256855607, -0.013093064539134502, ...</td>\n",
       "      <td>[0.08266019821166992, -0.07282465696334839, -0...</td>\n",
       "      <td>[-0.0036239889450371265, -0.013208648189902306...</td>\n",
       "    </tr>\n",
       "    <tr>\n",
       "      <th>1</th>\n",
       "      <td>A112N</td>\n",
       "      <td>0.936817</td>\n",
       "      <td>0.000026</td>\n",
       "      <td>[0.0668850839138031, -0.07388728111982346, -0....</td>\n",
       "      <td>[-0.00546208256855607, -0.013093064539134502, ...</td>\n",
       "      <td>[0.06758468598127365, -0.06582294404506683, -0...</td>\n",
       "      <td>[-0.003480394370853901, -0.013589110225439072,...</td>\n",
       "    </tr>\n",
       "  </tbody>\n",
       "</table>\n",
       "</div>"
      ],
      "text/plain": [
       "     mut  protbert_core_score_wt  protbert_core_score_mut  \\\n",
       "0  A112R                0.936817                 0.000006   \n",
       "1  A112N                0.936817                 0.000026   \n",
       "\n",
       "                   protbert_core_features_residue_wt  \\\n",
       "0  [0.0668850839138031, -0.07388728111982346, -0....   \n",
       "1  [0.0668850839138031, -0.07388728111982346, -0....   \n",
       "\n",
       "                   protbert_core_features_protein_wt  \\\n",
       "0  [-0.00546208256855607, -0.013093064539134502, ...   \n",
       "1  [-0.00546208256855607, -0.013093064539134502, ...   \n",
       "\n",
       "                  protbert_core_features_residue_mut  \\\n",
       "0  [0.08266019821166992, -0.07282465696334839, -0...   \n",
       "1  [0.06758468598127365, -0.06582294404506683, -0...   \n",
       "\n",
       "                  protbert_core_features_protein_mut  \n",
       "0  [-0.0036239889450371265, -0.013208648189902306...  \n",
       "1  [-0.003480394370853901, -0.013589110225439072,...  "
      ]
     },
     "metadata": {},
     "output_type": "display_data"
    },
    {
     "name": "stdout",
     "output_type": "stream",
     "text": [
      "6239\n"
     ]
    }
   ],
   "source": [
    "display(protbert_results_df.head(2))\n",
    "print(len(protbert_results_df))"
   ]
  },
  {
   "cell_type": "markdown",
   "id": "d992a9fa-f5ad-4216-9fb1-49a5074ee22a",
   "metadata": {},
   "source": [
    "## Run MSA"
   ]
  },
  {
   "cell_type": "code",
   "execution_count": null,
   "id": "ec8b01ff-66ab-4472-8eea-a84a1b7760a1",
   "metadata": {},
   "outputs": [],
   "source": []
  },
  {
   "cell_type": "code",
   "execution_count": null,
   "id": "660ba225-1fec-4eec-8216-2e8d88373ed8",
   "metadata": {},
   "outputs": [],
   "source": []
  },
  {
   "cell_type": "code",
   "execution_count": null,
   "id": "053f6adf-9a37-457b-9121-6e5baec77c52",
   "metadata": {},
   "outputs": [],
   "source": []
  }
 ],
 "metadata": {
  "kernelspec": {
   "display_name": "Python 3 (ipykernel)",
   "language": "python",
   "name": "python3"
  },
  "language_info": {
   "codemirror_mode": {
    "name": "ipython",
    "version": 3
   },
   "file_extension": ".py",
   "mimetype": "text/x-python",
   "name": "python",
   "nbconvert_exporter": "python",
   "pygments_lexer": "ipython3",
   "version": "3.9.6"
  }
 },
 "nbformat": 4,
 "nbformat_minor": 5
}
