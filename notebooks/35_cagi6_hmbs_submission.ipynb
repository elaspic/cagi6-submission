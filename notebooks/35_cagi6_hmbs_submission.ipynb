{
 "cells": [
  {
   "cell_type": "markdown",
   "id": "26c81e96-6b41-41fa-80a6-6360c482eb58",
   "metadata": {},
   "source": [
    "## Summary\n",
    "\n",
    "---"
   ]
  },
  {
   "cell_type": "markdown",
   "id": "ec276dec-6afa-4b57-bbfc-a11e04a8767e",
   "metadata": {},
   "source": [
    "## Imports"
   ]
  },
  {
   "cell_type": "code",
   "execution_count": null,
   "id": "539f4edf-ca04-4bef-b5c9-a6d402f7570b",
   "metadata": {},
   "outputs": [
    {
     "name": "stderr",
     "output_type": "stream",
     "text": [
      "Warning: importing 'simtk.openmm' is deprecated.  Import 'openmm' instead.\n"
     ]
    }
   ],
   "source": [
    "import os\n",
    "import tempfile\n",
    "import urllib.request\n",
    "from datetime import datetime\n",
    "from pathlib import Path\n",
    "\n",
    "import dotenv\n",
    "import elaspic2 as el2\n",
    "import matplotlib.pyplot as plt\n",
    "import numpy as np\n",
    "import pandas as pd\n",
    "import pyarrow as pa\n",
    "import pyarrow.parquet as pq\n",
    "import seaborn as sns\n",
    "import torch\n",
    "from kmbio import PDB\n",
    "from kmtools import structure_tools\n",
    "from tqdm.auto import tqdm"
   ]
  },
  {
   "cell_type": "markdown",
   "id": "5be0ca05-c038-414f-ba84-b2ae8013088b",
   "metadata": {},
   "source": [
    "## Parameters"
   ]
  },
  {
   "cell_type": "code",
   "execution_count": null,
   "id": "10e1faee-9f6a-40d8-8819-272b1c9837bb",
   "metadata": {},
   "outputs": [
    {
     "data": {
      "text/plain": [
       "PosixPath('/home/kimlab5/strokach/workspace/elaspic/elaspic2-cagi6/notebooks/30_cagi6_hmbs')"
      ]
     },
     "execution_count": 2,
     "metadata": {},
     "output_type": "execute_result"
    }
   ],
   "source": [
    "NOTEBOOK_DIR = Path(\"35_cagi6_hmbs_submission\").resolve()\n",
    "NOTEBOOK_DIR.mkdir(exist_ok=True)\n",
    "\n",
    "NOTEBOOK_DIR"
   ]
  },
  {
   "cell_type": "code",
   "execution_count": null,
   "id": "a0f4ceaf-034c-48cd-b502-276d3669e3c7",
   "metadata": {},
   "outputs": [
    {
     "data": {
      "text/plain": [
       "'P08397'"
      ]
     },
     "execution_count": 3,
     "metadata": {},
     "output_type": "execute_result"
    }
   ],
   "source": [
    "UNIPROT_ID = \"P08397\"\n",
    "\n",
    "UNIPROT_ID"
   ]
  },
  {
   "cell_type": "code",
   "execution_count": null,
   "id": "fb61793b-7826-48b9-9166-f40954f8ddb0",
   "metadata": {
    "colab": {
     "base_uri": "https://localhost:8080/"
    },
    "id": "HCyTzII-HD1t",
    "outputId": "92f63199-1727-48d3-cb4b-6ff798fa75b6"
   },
   "outputs": [
    {
     "data": {
      "text/plain": [
       "device(type='cpu')"
      ]
     },
     "execution_count": 4,
     "metadata": {},
     "output_type": "execute_result"
    }
   ],
   "source": [
    "device = torch.device(\"cuda\" if torch.cuda.is_available() else \"cpu\")\n",
    "\n",
    "device"
   ]
  },
  {
   "cell_type": "code",
   "execution_count": null,
   "id": "fb8521b3-3e92-4681-8ee6-a05dbd45c8ed",
   "metadata": {
    "colab": {
     "base_uri": "https://localhost:8080/",
     "height": 35
    },
    "id": "i3LyUBcjSUzb",
    "outputId": "054b8acc-0717-48cf-83d9-ca0b886f7b10"
   },
   "outputs": [
    {
     "data": {
      "text/plain": [
       "'2021-09-11T03'"
      ]
     },
     "execution_count": 5,
     "metadata": {},
     "output_type": "execute_result"
    }
   ],
   "source": [
    "version = datetime.now().isoformat(timespec=\"hours\")\n",
    "\n",
    "version"
   ]
  },
  {
   "cell_type": "markdown",
   "id": "7b880de8-3082-4311-8cea-b6f90c32b7c0",
   "metadata": {},
   "source": [
    "## Download data"
   ]
  },
  {
   "cell_type": "code",
   "execution_count": null,
   "id": "e6d8f38c-b1aa-49d6-a52d-72380fb91046",
   "metadata": {},
   "outputs": [],
   "source": [
    "def download(url, filename):\n",
    "    urllib.request.urlretrieve(url, filename)"
   ]
  },
  {
   "cell_type": "code",
   "execution_count": null,
   "id": "74d3438a-0e9f-4f18-b08a-20675c166098",
   "metadata": {},
   "outputs": [],
   "source": [
    "if not NOTEBOOK_DIR.joinpath(\"validation.py\").is_file():\n",
    "    import synapseclient\n",
    "    import synapseutils\n",
    "\n",
    "    dotenv.load_dotenv(\"../.env\")\n",
    "    syn = synapseclient.Synapse()\n",
    "    syn.login(os.environ[\"SYNAPSE_USERNAME\"], os.environ[\"SYNAPSE_PASSWORD\"])\n",
    "    _ = synapseutils.syncFromSynapse(syn, \"syn25823964\", path=NOTEBOOK_DIR)"
   ]
  },
  {
   "cell_type": "code",
   "execution_count": null,
   "id": "9c551016-b6c3-4835-b285-35acf4a6f720",
   "metadata": {},
   "outputs": [],
   "source": [
    "sequence_file = NOTEBOOK_DIR.joinpath(f\"{UNIPROT_ID}.fasta\")\n",
    "\n",
    "if not sequence_file.is_file():\n",
    "    download(f\"https://www.uniprot.org/uniprot/{UNIPROT_ID}.fasta\", sequence_file)"
   ]
  },
  {
   "cell_type": "code",
   "execution_count": null,
   "id": "7a890bed-11da-4175-9d5e-e472dcc38354",
   "metadata": {},
   "outputs": [],
   "source": [
    "structure_file = NOTEBOOK_DIR.joinpath(f\"{UNIPROT_ID}.pdb\")\n",
    "\n",
    "if not structure_file.is_file():\n",
    "    download(f\"https://alphafold.ebi.ac.uk/files/AF-{UNIPROT_ID}-F1-model_v1.pdb\", structure_file)"
   ]
  },
  {
   "cell_type": "markdown",
   "id": "105ad7e2-8d2d-4202-bcc6-75501fee5ae4",
   "metadata": {
    "tags": []
   },
   "source": [
    "## Load data"
   ]
  },
  {
   "cell_type": "code",
   "execution_count": null,
   "id": "cc6e2d72-3c7e-4dbb-8a7b-04ac4f62d736",
   "metadata": {},
   "outputs": [],
   "source": [
    "def load_sequence(sequence_file):\n",
    "    with sequence_file.open(\"rt\") as fin:\n",
    "        data = fin.read()\n",
    "    chunks = []\n",
    "    for line in data.split(\"\\n\"):\n",
    "        if line.startswith(\">\"):\n",
    "            continue\n",
    "        chunks.append(line.strip())\n",
    "    return \"\".join(chunks)"
   ]
  },
  {
   "cell_type": "code",
   "execution_count": null,
   "id": "b5ebf76b-550d-4df8-b085-c0da9e421c8f",
   "metadata": {},
   "outputs": [],
   "source": [
    "aaa_dict = {**structure_tools.constants.AAA_DICT, \"TER\": \"*\"}\n",
    "\n",
    "\n",
    "def format_mutation(mutation):\n",
    "    wt, pos, mut = mutation\n",
    "\n",
    "    wt = aaa_dict[wt.upper()]\n",
    "    mut = wt if mut == \"=\" else aaa_dict[mut.upper()]\n",
    "    pos = int(pos)\n",
    "\n",
    "    return f\"{wt}{pos}{mut}\""
   ]
  },
  {
   "cell_type": "code",
   "execution_count": null,
   "id": "c0d19a54-92b7-4e9c-88f9-4f0a3a9c119a",
   "metadata": {},
   "outputs": [],
   "source": [
    "def mutation_matches_sequence(mutation, sequence):\n",
    "    wt, pos, mut = mutation[0], mutation[1:-1], mutation[-1]\n",
    "    pos = int(pos)\n",
    "    return sequence[pos - 1] == wt"
   ]
  },
  {
   "cell_type": "code",
   "execution_count": null,
   "id": "c29f1ece-0edb-494c-a45d-ca2f0a9b7d91",
   "metadata": {
    "id": "gJG9gYqPHD15"
   },
   "outputs": [],
   "source": [
    "def sequence_matches_structure(sequence, structure_blob):\n",
    "    with tempfile.NamedTemporaryFile(suffix=\".pdb\") as tmp_file:\n",
    "        with open(tmp_file.name, \"wt\") as fout:\n",
    "            fout.write(structure_blob)\n",
    "        structure = PDB.load(tmp_file.name)\n",
    "\n",
    "    chain_sequence = structure_tools.get_chain_sequence(\n",
    "        structure[0][\"A\"], if_unknown=\"replace\", unknown_residue_marker=\"\"\n",
    "    )\n",
    "    return sequence == chain_sequence"
   ]
  },
  {
   "cell_type": "code",
   "execution_count": null,
   "id": "406c9375-4cb5-4ced-aebe-1c5d1078f516",
   "metadata": {},
   "outputs": [
    {
     "data": {
      "text/html": [
       "<div>\n",
       "<style scoped>\n",
       "    .dataframe tbody tr th:only-of-type {\n",
       "        vertical-align: middle;\n",
       "    }\n",
       "\n",
       "    .dataframe tbody tr th {\n",
       "        vertical-align: top;\n",
       "    }\n",
       "\n",
       "    .dataframe thead th {\n",
       "        text-align: right;\n",
       "    }\n",
       "</style>\n",
       "<table border=\"1\" class=\"dataframe\">\n",
       "  <thead>\n",
       "    <tr style=\"text-align: right;\">\n",
       "      <th></th>\n",
       "      <th>aa_substitution</th>\n",
       "      <th>score</th>\n",
       "      <th>sd</th>\n",
       "      <th>comments</th>\n",
       "    </tr>\n",
       "  </thead>\n",
       "  <tbody>\n",
       "    <tr>\n",
       "      <th>0</th>\n",
       "      <td>p.Ala112=</td>\n",
       "      <td>*</td>\n",
       "      <td>*</td>\n",
       "      <td>*</td>\n",
       "    </tr>\n",
       "    <tr>\n",
       "      <th>1</th>\n",
       "      <td>p.Ala112Arg</td>\n",
       "      <td>*</td>\n",
       "      <td>*</td>\n",
       "      <td>*</td>\n",
       "    </tr>\n",
       "  </tbody>\n",
       "</table>\n",
       "</div>"
      ],
      "text/plain": [
       "  aa_substitution score sd comments\n",
       "0       p.Ala112=     *  *        *\n",
       "1     p.Ala112Arg     *  *        *"
      ]
     },
     "metadata": {},
     "output_type": "display_data"
    },
    {
     "data": {
      "text/plain": [
       "6894"
      ]
     },
     "execution_count": 17,
     "metadata": {},
     "output_type": "execute_result"
    }
   ],
   "source": [
    "result_template_df = pd.read_csv(NOTEBOOK_DIR.joinpath(\"HMBS_variant_template.tsv\"), sep=\"\\t\")\n",
    "\n",
    "display(result_template_df.head(2))\n",
    "len(result_template_df)"
   ]
  },
  {
   "cell_type": "code",
   "execution_count": null,
   "id": "a3b02c6e-fdf9-4d16-89da-e4d0f3b9552a",
   "metadata": {},
   "outputs": [
    {
     "data": {
      "text/html": [
       "<div>\n",
       "<style scoped>\n",
       "    .dataframe tbody tr th:only-of-type {\n",
       "        vertical-align: middle;\n",
       "    }\n",
       "\n",
       "    .dataframe tbody tr th {\n",
       "        vertical-align: top;\n",
       "    }\n",
       "\n",
       "    .dataframe thead th {\n",
       "        text-align: right;\n",
       "    }\n",
       "</style>\n",
       "<table border=\"1\" class=\"dataframe\">\n",
       "  <thead>\n",
       "    <tr style=\"text-align: right;\">\n",
       "      <th></th>\n",
       "      <th>aa_substitution</th>\n",
       "      <th>score</th>\n",
       "      <th>sd</th>\n",
       "      <th>comments</th>\n",
       "      <th>mut</th>\n",
       "    </tr>\n",
       "  </thead>\n",
       "  <tbody>\n",
       "    <tr>\n",
       "      <th>1</th>\n",
       "      <td>p.Ala112Arg</td>\n",
       "      <td>*</td>\n",
       "      <td>*</td>\n",
       "      <td>*</td>\n",
       "      <td>A112R</td>\n",
       "    </tr>\n",
       "    <tr>\n",
       "      <th>2</th>\n",
       "      <td>p.Ala112Asn</td>\n",
       "      <td>*</td>\n",
       "      <td>*</td>\n",
       "      <td>*</td>\n",
       "      <td>A112N</td>\n",
       "    </tr>\n",
       "  </tbody>\n",
       "</table>\n",
       "</div>"
      ],
      "text/plain": [
       "  aa_substitution score sd comments    mut\n",
       "1     p.Ala112Arg     *  *        *  A112R\n",
       "2     p.Ala112Asn     *  *        *  A112N"
      ]
     },
     "metadata": {},
     "output_type": "display_data"
    },
    {
     "data": {
      "text/plain": [
       "6239"
      ]
     },
     "execution_count": 18,
     "metadata": {},
     "output_type": "execute_result"
    }
   ],
   "source": [
    "result_df = result_template_df.copy()\n",
    "result_df[\"mut\"] = [\n",
    "    format_mutation(mut)\n",
    "    for mut in (\n",
    "        result_df[\"aa_substitution\"].str.findall(\"p.([a-zA-Z]+)([1-9]+[0-9]*)([a-zA-Z=]+)\").str[0]\n",
    "    )\n",
    "]\n",
    "result_df = result_df[\n",
    "    ~result_df[\"mut\"].str.contains(\"*\", regex=False)\n",
    "    & ~(result_df[\"mut\"].str[0] == result_df[\"mut\"].str[-1])\n",
    "]\n",
    "\n",
    "display(result_df.head(2))\n",
    "len(result_df)"
   ]
  },
  {
   "cell_type": "code",
   "execution_count": null,
   "id": "10859753-2cfc-4946-a337-cf3cb5dbef55",
   "metadata": {},
   "outputs": [],
   "source": [
    "sequence = load_sequence(sequence_file)"
   ]
  },
  {
   "cell_type": "code",
   "execution_count": null,
   "id": "a236444a-5eb2-4260-93de-544fa7cce7b1",
   "metadata": {},
   "outputs": [],
   "source": [
    "assert all([mutation_matches_sequence(mut, sequence) for mut in result_df[\"mut\"]])"
   ]
  },
  {
   "cell_type": "code",
   "execution_count": null,
   "id": "e1f49b76-37d6-4678-9b07-4bb778ae9b36",
   "metadata": {},
   "outputs": [],
   "source": [
    "with structure_file.open(\"r\") as fin:\n",
    "    structure_blob = fin.read()\n",
    "\n",
    "assert sequence_matches_structure(sequence, structure_blob)"
   ]
  },
  {
   "cell_type": "markdown",
   "id": "3a7d0fc8-4ed4-4521-9f75-1032042baf93",
   "metadata": {
    "tags": []
   },
   "source": [
    "## Run `ELASPIC2`"
   ]
  },
  {
   "cell_type": "markdown",
   "id": "102f7a0f-4a68-4fbf-9bd5-1f80aa2a8a96",
   "metadata": {
    "id": "4jTx3zGeHD2e"
   },
   "source": [
    "### Initialize the `ELASPIC2` model\n",
    "\n"
   ]
  },
  {
   "cell_type": "code",
   "execution_count": 20,
   "id": "25381869-b3ad-4d35-a614-b508f3629e5c",
   "metadata": {},
   "outputs": [
    {
     "name": "stderr",
     "output_type": "stream",
     "text": [
      "Some weights of the model checkpoint at /home/kimlab5/strokach/workspace/elaspic/elaspic2/src/elaspic2/plugins/protbert/data/prot_bert_bfd were not used when initializing BertModel: ['cls.predictions.bias', 'cls.predictions.decoder.weight', 'cls.seq_relationship.bias', 'cls.predictions.transform.LayerNorm.bias', 'cls.predictions.transform.LayerNorm.weight', 'cls.predictions.decoder.bias', 'cls.predictions.transform.dense.bias', 'cls.predictions.transform.dense.weight', 'cls.seq_relationship.weight']\n",
      "- This IS expected if you are initializing BertModel from the checkpoint of a model trained on another task or with another architecture (e.g. initializing a BertForSequenceClassification model from a BertForPreTraining model).\n",
      "- This IS NOT expected if you are initializing BertModel from the checkpoint of a model that you expect to be exactly identical (initializing a BertForSequenceClassification model from a BertForSequenceClassification model).\n"
     ]
    }
   ],
   "source": [
    "model = el2.ELASPIC2(device=device)"
   ]
  },
  {
   "cell_type": "markdown",
   "id": "85276142-f7a5-4178-b18e-9c09579a8830",
   "metadata": {
    "id": "i8OkFJbj8sYO"
   },
   "source": [
    "### Make predictions"
   ]
  },
  {
   "cell_type": "code",
   "execution_count": 20,
   "id": "04739d5a-56b1-462b-a8d6-bc17f99a6960",
   "metadata": {
    "colab": {
     "base_uri": "https://localhost:8080/"
    },
    "id": "ac6mTuNYHD2i",
    "outputId": "b2427457-6fb6-4e2c-dac0-d037fafc8282"
   },
   "outputs": [
    {
     "data": {
      "text/plain": [
       "ELASPIC2Data(is_interface=False, protbert_data=ProtBertData(sequence='MSGNGNAAATAEENSPKMRVIRVGTRKSQLARIQTDSVVATLKASYPGLQFEIIAMSTTGDKILDTALSKIGEKSLFTKELEHALEKNEVDLVVHSLKDLPTVLPPGFTIGAICKRENPHDAVVFHPKFVGKTLETLPEKSVVGTSSLRRAAQLQRKFPHLEFRSIRGNLNTRLRKLDEQQEFSAIILATAGLQRMGWHNRVGQILHPEECMYAVGQGALGVEVRAKDQDILDLVGVLHDPETLLRCIAERAFLRHLEGGCSVPVAVHTAMKDGQLYLTGGVWSLDGSDSIQETMQATIHVPAQHEDGPEDDPQLVGITARNIPRGPQLAAQNLGISLANLLLSKGAKNILDVARQLNDAH'), proteinsolver_data=Data(edge_attr=[19086, 2], edge_index=[2, 19086], x=[361]))"
      ]
     },
     "execution_count": 20,
     "metadata": {},
     "output_type": "execute_result"
    }
   ],
   "source": [
    "protein_features = model.build(\n",
    "    structure_file=structure_file,\n",
    "    protein_sequence=sequence,\n",
    "    ligand_sequence=None,\n",
    "    remove_hetatms=True,\n",
    ")\n",
    "\n",
    "protein_features"
   ]
  },
  {
   "cell_type": "code",
   "execution_count": 30,
   "id": "706f72ba-6dec-413b-83eb-7f9d402dfb39",
   "metadata": {},
   "outputs": [
    {
     "data": {
      "application/vnd.jupyter.widget-view+json": {
       "model_id": "fe79e7b03a024d8caa514df504a223fc",
       "version_major": 2,
       "version_minor": 0
      },
      "text/plain": [
       "HBox(children=(HTML(value=''), FloatProgress(value=0.0, max=6239.0), HTML(value='')))"
      ]
     },
     "metadata": {},
     "output_type": "display_data"
    },
    {
     "name": "stdout",
     "output_type": "stream",
     "text": [
      "\n"
     ]
    }
   ],
   "source": [
    "mutation_features = list(\n",
    "    tqdm(\n",
    "        (model.analyze_mutation(mut, protein_features) for mut in result_df[\"mut\"]),\n",
    "        total=len(result_df),\n",
    "    )\n",
    ")"
   ]
  },
  {
   "cell_type": "code",
   "execution_count": 33,
   "id": "b0ec77c4-c4ba-4b45-ae2a-d2e3e2bff4a0",
   "metadata": {
    "id": "XJPiK7eVRBqi"
   },
   "outputs": [],
   "source": [
    "# In all cases, higher scores means less stable (same as ΔΔG)\n",
    "result_df[\"protbert_score\"] = [\n",
    "    f[\"protbert_core_score_wt\"] - f[\"protbert_core_score_mut\"] for f in mutation_features\n",
    "]\n",
    "result_df[\"proteinsolver_score\"] = [\n",
    "    f[\"proteinsolver_core_score_wt\"] - f[\"proteinsolver_core_score_mut\"] for f in mutation_features\n",
    "]\n",
    "result_df[\"el2_score\"] = model.predict_mutation_effect(mutation_features).tolist()"
   ]
  },
  {
   "cell_type": "code",
   "execution_count": 34,
   "id": "5cb03cb0-6c62-45c8-b23b-89e504151ccf",
   "metadata": {},
   "outputs": [],
   "source": [
    "pq.write_table(\n",
    "    pa.Table.from_pandas(result_df, preserve_index=False), NOTEBOOK_DIR.joinpath(\"results.parquet\")\n",
    ")"
   ]
  },
  {
   "cell_type": "markdown",
   "id": "60773130-8c72-4285-9859-9d8cd029798f",
   "metadata": {
    "tags": []
   },
   "source": [
    "### Visualize output"
   ]
  },
  {
   "cell_type": "code",
   "execution_count": 92,
   "id": "b71e5d17-5ddc-4e95-85f1-e93083a76e32",
   "metadata": {},
   "outputs": [],
   "source": [
    "result_df = pq.read_table(NOTEBOOK_DIR.joinpath(\"results.parquet\")).to_pandas()"
   ]
  },
  {
   "cell_type": "code",
   "execution_count": 93,
   "id": "301ccbe4-7106-44ca-bb2a-66096ccde36b",
   "metadata": {},
   "outputs": [
    {
     "data": {
      "text/html": [
       "<div>\n",
       "<style scoped>\n",
       "    .dataframe tbody tr th:only-of-type {\n",
       "        vertical-align: middle;\n",
       "    }\n",
       "\n",
       "    .dataframe tbody tr th {\n",
       "        vertical-align: top;\n",
       "    }\n",
       "\n",
       "    .dataframe thead th {\n",
       "        text-align: right;\n",
       "    }\n",
       "</style>\n",
       "<table border=\"1\" class=\"dataframe\">\n",
       "  <thead>\n",
       "    <tr style=\"text-align: right;\">\n",
       "      <th></th>\n",
       "      <th>aa_substitution</th>\n",
       "      <th>score</th>\n",
       "      <th>sd</th>\n",
       "      <th>comments</th>\n",
       "      <th>mut</th>\n",
       "      <th>protbert_score</th>\n",
       "      <th>proteinsolver_score</th>\n",
       "      <th>el2_score</th>\n",
       "    </tr>\n",
       "  </thead>\n",
       "  <tbody>\n",
       "    <tr>\n",
       "      <th>0</th>\n",
       "      <td>p.Ala112Arg</td>\n",
       "      <td>*</td>\n",
       "      <td>*</td>\n",
       "      <td>*</td>\n",
       "      <td>A112R</td>\n",
       "      <td>0.936811</td>\n",
       "      <td>0.809968</td>\n",
       "      <td>2.995820</td>\n",
       "    </tr>\n",
       "    <tr>\n",
       "      <th>1</th>\n",
       "      <td>p.Ala112Asn</td>\n",
       "      <td>*</td>\n",
       "      <td>*</td>\n",
       "      <td>*</td>\n",
       "      <td>A112N</td>\n",
       "      <td>0.936790</td>\n",
       "      <td>0.809852</td>\n",
       "      <td>3.083116</td>\n",
       "    </tr>\n",
       "    <tr>\n",
       "      <th>2</th>\n",
       "      <td>p.Ala112Asp</td>\n",
       "      <td>*</td>\n",
       "      <td>*</td>\n",
       "      <td>*</td>\n",
       "      <td>A112D</td>\n",
       "      <td>0.936767</td>\n",
       "      <td>0.810051</td>\n",
       "      <td>3.317553</td>\n",
       "    </tr>\n",
       "    <tr>\n",
       "      <th>3</th>\n",
       "      <td>p.Ala112Cys</td>\n",
       "      <td>*</td>\n",
       "      <td>*</td>\n",
       "      <td>*</td>\n",
       "      <td>A112C</td>\n",
       "      <td>0.911470</td>\n",
       "      <td>0.794887</td>\n",
       "      <td>1.254500</td>\n",
       "    </tr>\n",
       "    <tr>\n",
       "      <th>4</th>\n",
       "      <td>p.Ala112Gln</td>\n",
       "      <td>*</td>\n",
       "      <td>*</td>\n",
       "      <td>*</td>\n",
       "      <td>A112Q</td>\n",
       "      <td>0.936813</td>\n",
       "      <td>0.809917</td>\n",
       "      <td>3.161813</td>\n",
       "    </tr>\n",
       "  </tbody>\n",
       "</table>\n",
       "</div>"
      ],
      "text/plain": [
       "  aa_substitution score sd comments    mut  protbert_score  \\\n",
       "0     p.Ala112Arg     *  *        *  A112R        0.936811   \n",
       "1     p.Ala112Asn     *  *        *  A112N        0.936790   \n",
       "2     p.Ala112Asp     *  *        *  A112D        0.936767   \n",
       "3     p.Ala112Cys     *  *        *  A112C        0.911470   \n",
       "4     p.Ala112Gln     *  *        *  A112Q        0.936813   \n",
       "\n",
       "   proteinsolver_score  el2_score  \n",
       "0             0.809968   2.995820  \n",
       "1             0.809852   3.083116  \n",
       "2             0.810051   3.317553  \n",
       "3             0.794887   1.254500  \n",
       "4             0.809917   3.161813  "
      ]
     },
     "execution_count": 93,
     "metadata": {},
     "output_type": "execute_result"
    }
   ],
   "source": [
    "result_df.head()"
   ]
  },
  {
   "cell_type": "code",
   "execution_count": 94,
   "id": "d988c538-e7f4-4ecd-83ba-3a720f88e9b6",
   "metadata": {},
   "outputs": [
    {
     "data": {
      "image/png": "[encoded data removed]",
      "text/plain": [
       "<Figure size 540x540 with 12 Axes>"
      ]
     },
     "metadata": {},
     "output_type": "display_data"
    }
   ],
   "source": [
    "sns.set(style=\"ticks\", color_codes=True)\n",
    "g = sns.pairplot(result_df[[\"protbert_score\", \"proteinsolver_score\", \"el2_score\"]])"
   ]
  },
  {
   "cell_type": "markdown",
   "id": "d3aea633-a314-4426-97ce-afc74436b030",
   "metadata": {},
   "source": [
    "## Write results"
   ]
  },
  {
   "cell_type": "code",
   "execution_count": 95,
   "id": "55de152f-bc05-4c02-9888-56b7f48e7ee5",
   "metadata": {},
   "outputs": [
    {
     "data": {
      "text/plain": [
       "PosixPath('/home/kimlab5/strokach/workspace/elaspic/elaspic2-cagi6/notebooks/30_cagi6_hmbs/results')"
      ]
     },
     "execution_count": 95,
     "metadata": {},
     "output_type": "execute_result"
    }
   ],
   "source": [
    "output_dir = NOTEBOOK_DIR.joinpath(\"submission\")\n",
    "output_dir.mkdir(exist_ok=True)\n",
    "\n",
    "output_dir"
   ]
  },
  {
   "cell_type": "code",
   "execution_count": 96,
   "id": "b2087aa5-b456-492a-85bf-fa8f910b24c4",
   "metadata": {},
   "outputs": [
    {
     "name": "stdout",
     "output_type": "stream",
     "text": [
      "Overwriting /home/kimlab5/strokach/workspace/elaspic/elaspic2-cagi6/notebooks/30_cagi6_hmbs/results/strokach_desc.md\n"
     ]
    }
   ],
   "source": [
    "%%file {output_dir}/strokach_desc.md\n",
    "# Submission for CAGI6—HMBS challenge\n",
    "\n",
    "## Overview\n",
    "\n",
    "- `strokach_modelnumber_1.tsv` → Predictions made using ELASPIC2 [1].\n",
    "- `strokach_modelnumber_2.tsv` → Predictions made using ProteinSolver [2].\n",
    "- `strokach_modelnumber_3.tsv` → Predictions made using ProtBert [3].\n",
    "\n",
    "## References\n",
    "\n",
    "- [1] Strokach, A., Lu, T.Y., Kim, P.M., 2021. ELASPIC2 (EL2): Combining Contextualized Language Models and Graph Neural Networks to Predict Effects of Mutations. Journal of Molecular Biology, Computation Resources for Molecular Biology 433, 166810. https://doi.org/10.1016/j.jmb.2021.166810\n",
    "- [2] Strokach, A., Becerra, D., Corbi-Verge, C., Perez-Riba, A., Kim, P.M., 2020. Fast and Flexible Protein Design Using Deep Graph Neural Networks. Cell Systems. https://doi.org/10.1016/j.cels.2020.08.016\n",
    "- [3] Elnaggar, A., Heinzinger, M., Dallago, C., Rehawi, G., Wang, Y., Jones, L., Gibbs, T., Feher, T., Angerer, C., Steinegger, M., Bhowmik, D., Rost, B., 2020. ProtTrans: Towards Cracking the Language of Life’s Code Through Self-Supervised Deep Learning and High Performance Computing. bioRxiv 2020.07.12.199554. https://doi.org/10.1101/2020.07.12.199554"
   ]
  },
  {
   "cell_type": "code",
   "execution_count": 97,
   "id": "b5f20f42-87df-4b89-b487-bfbb6e6845d9",
   "metadata": {},
   "outputs": [
    {
     "data": {
      "text/html": [
       "<div>\n",
       "<style scoped>\n",
       "    .dataframe tbody tr th:only-of-type {\n",
       "        vertical-align: middle;\n",
       "    }\n",
       "\n",
       "    .dataframe tbody tr th {\n",
       "        vertical-align: top;\n",
       "    }\n",
       "\n",
       "    .dataframe thead th {\n",
       "        text-align: right;\n",
       "    }\n",
       "</style>\n",
       "<table border=\"1\" class=\"dataframe\">\n",
       "  <thead>\n",
       "    <tr style=\"text-align: right;\">\n",
       "      <th></th>\n",
       "      <th>aa_substitution</th>\n",
       "      <th>score</th>\n",
       "      <th>sd</th>\n",
       "      <th>comments</th>\n",
       "    </tr>\n",
       "  </thead>\n",
       "  <tbody>\n",
       "    <tr>\n",
       "      <th>0</th>\n",
       "      <td>p.Ala112=</td>\n",
       "      <td>*</td>\n",
       "      <td>*</td>\n",
       "      <td>*</td>\n",
       "    </tr>\n",
       "    <tr>\n",
       "      <th>1</th>\n",
       "      <td>p.Ala112Arg</td>\n",
       "      <td>*</td>\n",
       "      <td>*</td>\n",
       "      <td>*</td>\n",
       "    </tr>\n",
       "  </tbody>\n",
       "</table>\n",
       "</div>"
      ],
      "text/plain": [
       "  aa_substitution score sd comments\n",
       "0       p.Ala112=     *  *        *\n",
       "1     p.Ala112Arg     *  *        *"
      ]
     },
     "metadata": {},
     "output_type": "display_data"
    },
    {
     "data": {
      "text/plain": [
       "6894"
      ]
     },
     "execution_count": 97,
     "metadata": {},
     "output_type": "execute_result"
    }
   ],
   "source": [
    "display(result_template_df.head(2))\n",
    "len(result_template_df)"
   ]
  },
  {
   "cell_type": "code",
   "execution_count": 98,
   "id": "762c17a5-bd9b-4a7f-be8a-3221eb893c2c",
   "metadata": {},
   "outputs": [
    {
     "data": {
      "text/html": [
       "<div>\n",
       "<style scoped>\n",
       "    .dataframe tbody tr th:only-of-type {\n",
       "        vertical-align: middle;\n",
       "    }\n",
       "\n",
       "    .dataframe tbody tr th {\n",
       "        vertical-align: top;\n",
       "    }\n",
       "\n",
       "    .dataframe thead th {\n",
       "        text-align: right;\n",
       "    }\n",
       "</style>\n",
       "<table border=\"1\" class=\"dataframe\">\n",
       "  <thead>\n",
       "    <tr style=\"text-align: right;\">\n",
       "      <th></th>\n",
       "      <th>aa_substitution</th>\n",
       "      <th>score</th>\n",
       "      <th>sd</th>\n",
       "      <th>comments</th>\n",
       "      <th>mut</th>\n",
       "      <th>protbert_score</th>\n",
       "      <th>proteinsolver_score</th>\n",
       "      <th>el2_score</th>\n",
       "    </tr>\n",
       "  </thead>\n",
       "  <tbody>\n",
       "    <tr>\n",
       "      <th>0</th>\n",
       "      <td>p.Ala112Arg</td>\n",
       "      <td>*</td>\n",
       "      <td>*</td>\n",
       "      <td>*</td>\n",
       "      <td>A112R</td>\n",
       "      <td>0.936811</td>\n",
       "      <td>0.809968</td>\n",
       "      <td>2.995820</td>\n",
       "    </tr>\n",
       "    <tr>\n",
       "      <th>1</th>\n",
       "      <td>p.Ala112Asn</td>\n",
       "      <td>*</td>\n",
       "      <td>*</td>\n",
       "      <td>*</td>\n",
       "      <td>A112N</td>\n",
       "      <td>0.936790</td>\n",
       "      <td>0.809852</td>\n",
       "      <td>3.083116</td>\n",
       "    </tr>\n",
       "    <tr>\n",
       "      <th>2</th>\n",
       "      <td>p.Ala112Asp</td>\n",
       "      <td>*</td>\n",
       "      <td>*</td>\n",
       "      <td>*</td>\n",
       "      <td>A112D</td>\n",
       "      <td>0.936767</td>\n",
       "      <td>0.810051</td>\n",
       "      <td>3.317553</td>\n",
       "    </tr>\n",
       "    <tr>\n",
       "      <th>3</th>\n",
       "      <td>p.Ala112Cys</td>\n",
       "      <td>*</td>\n",
       "      <td>*</td>\n",
       "      <td>*</td>\n",
       "      <td>A112C</td>\n",
       "      <td>0.911470</td>\n",
       "      <td>0.794887</td>\n",
       "      <td>1.254500</td>\n",
       "    </tr>\n",
       "    <tr>\n",
       "      <th>4</th>\n",
       "      <td>p.Ala112Gln</td>\n",
       "      <td>*</td>\n",
       "      <td>*</td>\n",
       "      <td>*</td>\n",
       "      <td>A112Q</td>\n",
       "      <td>0.936813</td>\n",
       "      <td>0.809917</td>\n",
       "      <td>3.161813</td>\n",
       "    </tr>\n",
       "  </tbody>\n",
       "</table>\n",
       "</div>"
      ],
      "text/plain": [
       "  aa_substitution score sd comments    mut  protbert_score  \\\n",
       "0     p.Ala112Arg     *  *        *  A112R        0.936811   \n",
       "1     p.Ala112Asn     *  *        *  A112N        0.936790   \n",
       "2     p.Ala112Asp     *  *        *  A112D        0.936767   \n",
       "3     p.Ala112Cys     *  *        *  A112C        0.911470   \n",
       "4     p.Ala112Gln     *  *        *  A112Q        0.936813   \n",
       "\n",
       "   proteinsolver_score  el2_score  \n",
       "0             0.809968   2.995820  \n",
       "1             0.809852   3.083116  \n",
       "2             0.810051   3.317553  \n",
       "3             0.794887   1.254500  \n",
       "4             0.809917   3.161813  "
      ]
     },
     "execution_count": 98,
     "metadata": {},
     "output_type": "execute_result"
    }
   ],
   "source": [
    "result_df.head()"
   ]
  },
  {
   "cell_type": "code",
   "execution_count": 99,
   "id": "d2d9768a-a4d2-46e0-8744-989dfe8539ad",
   "metadata": {},
   "outputs": [
    {
     "name": "stdout",
     "output_type": "stream",
     "text": [
      "el2\n"
     ]
    },
    {
     "data": {
      "text/html": [
       "<div>\n",
       "<style scoped>\n",
       "    .dataframe tbody tr th:only-of-type {\n",
       "        vertical-align: middle;\n",
       "    }\n",
       "\n",
       "    .dataframe tbody tr th {\n",
       "        vertical-align: top;\n",
       "    }\n",
       "\n",
       "    .dataframe thead th {\n",
       "        text-align: right;\n",
       "    }\n",
       "</style>\n",
       "<table border=\"1\" class=\"dataframe\">\n",
       "  <thead>\n",
       "    <tr style=\"text-align: right;\">\n",
       "      <th></th>\n",
       "      <th>aa_substitution</th>\n",
       "      <th>score</th>\n",
       "      <th>sd</th>\n",
       "      <th>comments</th>\n",
       "      <th>mut</th>\n",
       "      <th>protbert_score</th>\n",
       "      <th>proteinsolver_score</th>\n",
       "      <th>el2_score</th>\n",
       "    </tr>\n",
       "  </thead>\n",
       "  <tbody>\n",
       "    <tr>\n",
       "      <th>0</th>\n",
       "      <td>p.Ala112=</td>\n",
       "      <td>0.000000</td>\n",
       "      <td>1.0</td>\n",
       "      <td>*</td>\n",
       "      <td>NaN</td>\n",
       "      <td>NaN</td>\n",
       "      <td>NaN</td>\n",
       "      <td>NaN</td>\n",
       "    </tr>\n",
       "    <tr>\n",
       "      <th>1</th>\n",
       "      <td>p.Ala112Arg</td>\n",
       "      <td>0.294013</td>\n",
       "      <td>1.0</td>\n",
       "      <td>*</td>\n",
       "      <td>A112R</td>\n",
       "      <td>0.936811</td>\n",
       "      <td>0.809968</td>\n",
       "      <td>2.995820</td>\n",
       "    </tr>\n",
       "    <tr>\n",
       "      <th>2</th>\n",
       "      <td>p.Ala112Asn</td>\n",
       "      <td>0.273442</td>\n",
       "      <td>1.0</td>\n",
       "      <td>*</td>\n",
       "      <td>A112N</td>\n",
       "      <td>0.936790</td>\n",
       "      <td>0.809852</td>\n",
       "      <td>3.083116</td>\n",
       "    </tr>\n",
       "    <tr>\n",
       "      <th>3</th>\n",
       "      <td>p.Ala112Asp</td>\n",
       "      <td>0.218195</td>\n",
       "      <td>1.0</td>\n",
       "      <td>*</td>\n",
       "      <td>A112D</td>\n",
       "      <td>0.936767</td>\n",
       "      <td>0.810051</td>\n",
       "      <td>3.317553</td>\n",
       "    </tr>\n",
       "    <tr>\n",
       "      <th>4</th>\n",
       "      <td>p.Ala112Cys</td>\n",
       "      <td>0.704368</td>\n",
       "      <td>1.0</td>\n",
       "      <td>*</td>\n",
       "      <td>A112C</td>\n",
       "      <td>0.911470</td>\n",
       "      <td>0.794887</td>\n",
       "      <td>1.254500</td>\n",
       "    </tr>\n",
       "  </tbody>\n",
       "</table>\n",
       "</div>"
      ],
      "text/plain": [
       "  aa_substitution     score   sd comments    mut  protbert_score  \\\n",
       "0       p.Ala112=  0.000000  1.0        *    NaN             NaN   \n",
       "1     p.Ala112Arg  0.294013  1.0        *  A112R        0.936811   \n",
       "2     p.Ala112Asn  0.273442  1.0        *  A112N        0.936790   \n",
       "3     p.Ala112Asp  0.218195  1.0        *  A112D        0.936767   \n",
       "4     p.Ala112Cys  0.704368  1.0        *  A112C        0.911470   \n",
       "\n",
       "   proteinsolver_score  el2_score  \n",
       "0                  NaN        NaN  \n",
       "1             0.809968   2.995820  \n",
       "2             0.809852   3.083116  \n",
       "3             0.810051   3.317553  \n",
       "4             0.794887   1.254500  "
      ]
     },
     "metadata": {},
     "output_type": "display_data"
    },
    {
     "name": "stdout",
     "output_type": "stream",
     "text": [
      "proteinsolver\n"
     ]
    },
    {
     "data": {
      "text/html": [
       "<div>\n",
       "<style scoped>\n",
       "    .dataframe tbody tr th:only-of-type {\n",
       "        vertical-align: middle;\n",
       "    }\n",
       "\n",
       "    .dataframe tbody tr th {\n",
       "        vertical-align: top;\n",
       "    }\n",
       "\n",
       "    .dataframe thead th {\n",
       "        text-align: right;\n",
       "    }\n",
       "</style>\n",
       "<table border=\"1\" class=\"dataframe\">\n",
       "  <thead>\n",
       "    <tr style=\"text-align: right;\">\n",
       "      <th></th>\n",
       "      <th>aa_substitution</th>\n",
       "      <th>score</th>\n",
       "      <th>sd</th>\n",
       "      <th>comments</th>\n",
       "      <th>mut</th>\n",
       "      <th>protbert_score</th>\n",
       "      <th>proteinsolver_score</th>\n",
       "      <th>el2_score</th>\n",
       "    </tr>\n",
       "  </thead>\n",
       "  <tbody>\n",
       "    <tr>\n",
       "      <th>0</th>\n",
       "      <td>p.Ala112=</td>\n",
       "      <td>0.000000</td>\n",
       "      <td>1.0</td>\n",
       "      <td>*</td>\n",
       "      <td>NaN</td>\n",
       "      <td>NaN</td>\n",
       "      <td>NaN</td>\n",
       "      <td>NaN</td>\n",
       "    </tr>\n",
       "    <tr>\n",
       "      <th>1</th>\n",
       "      <td>p.Ala112Arg</td>\n",
       "      <td>0.183368</td>\n",
       "      <td>1.0</td>\n",
       "      <td>*</td>\n",
       "      <td>A112R</td>\n",
       "      <td>0.936811</td>\n",
       "      <td>0.809968</td>\n",
       "      <td>2.995820</td>\n",
       "    </tr>\n",
       "    <tr>\n",
       "      <th>2</th>\n",
       "      <td>p.Ala112Asn</td>\n",
       "      <td>0.183485</td>\n",
       "      <td>1.0</td>\n",
       "      <td>*</td>\n",
       "      <td>A112N</td>\n",
       "      <td>0.936790</td>\n",
       "      <td>0.809852</td>\n",
       "      <td>3.083116</td>\n",
       "    </tr>\n",
       "    <tr>\n",
       "      <th>3</th>\n",
       "      <td>p.Ala112Asp</td>\n",
       "      <td>0.183284</td>\n",
       "      <td>1.0</td>\n",
       "      <td>*</td>\n",
       "      <td>A112D</td>\n",
       "      <td>0.936767</td>\n",
       "      <td>0.810051</td>\n",
       "      <td>3.317553</td>\n",
       "    </tr>\n",
       "    <tr>\n",
       "      <th>4</th>\n",
       "      <td>p.Ala112Cys</td>\n",
       "      <td>0.198573</td>\n",
       "      <td>1.0</td>\n",
       "      <td>*</td>\n",
       "      <td>A112C</td>\n",
       "      <td>0.911470</td>\n",
       "      <td>0.794887</td>\n",
       "      <td>1.254500</td>\n",
       "    </tr>\n",
       "  </tbody>\n",
       "</table>\n",
       "</div>"
      ],
      "text/plain": [
       "  aa_substitution     score   sd comments    mut  protbert_score  \\\n",
       "0       p.Ala112=  0.000000  1.0        *    NaN             NaN   \n",
       "1     p.Ala112Arg  0.183368  1.0        *  A112R        0.936811   \n",
       "2     p.Ala112Asn  0.183485  1.0        *  A112N        0.936790   \n",
       "3     p.Ala112Asp  0.183284  1.0        *  A112D        0.936767   \n",
       "4     p.Ala112Cys  0.198573  1.0        *  A112C        0.911470   \n",
       "\n",
       "   proteinsolver_score  el2_score  \n",
       "0                  NaN        NaN  \n",
       "1             0.809968   2.995820  \n",
       "2             0.809852   3.083116  \n",
       "3             0.810051   3.317553  \n",
       "4             0.794887   1.254500  "
      ]
     },
     "metadata": {},
     "output_type": "display_data"
    },
    {
     "name": "stdout",
     "output_type": "stream",
     "text": [
      "protbert\n"
     ]
    },
    {
     "data": {
      "text/html": [
       "<div>\n",
       "<style scoped>\n",
       "    .dataframe tbody tr th:only-of-type {\n",
       "        vertical-align: middle;\n",
       "    }\n",
       "\n",
       "    .dataframe tbody tr th {\n",
       "        vertical-align: top;\n",
       "    }\n",
       "\n",
       "    .dataframe thead th {\n",
       "        text-align: right;\n",
       "    }\n",
       "</style>\n",
       "<table border=\"1\" class=\"dataframe\">\n",
       "  <thead>\n",
       "    <tr style=\"text-align: right;\">\n",
       "      <th></th>\n",
       "      <th>aa_substitution</th>\n",
       "      <th>score</th>\n",
       "      <th>sd</th>\n",
       "      <th>comments</th>\n",
       "      <th>mut</th>\n",
       "      <th>protbert_score</th>\n",
       "      <th>proteinsolver_score</th>\n",
       "      <th>el2_score</th>\n",
       "    </tr>\n",
       "  </thead>\n",
       "  <tbody>\n",
       "    <tr>\n",
       "      <th>0</th>\n",
       "      <td>p.Ala112=</td>\n",
       "      <td>0.000000</td>\n",
       "      <td>1.0</td>\n",
       "      <td>*</td>\n",
       "      <td>NaN</td>\n",
       "      <td>NaN</td>\n",
       "      <td>NaN</td>\n",
       "      <td>NaN</td>\n",
       "    </tr>\n",
       "    <tr>\n",
       "      <th>1</th>\n",
       "      <td>p.Ala112Arg</td>\n",
       "      <td>0.062969</td>\n",
       "      <td>1.0</td>\n",
       "      <td>*</td>\n",
       "      <td>A112R</td>\n",
       "      <td>0.936811</td>\n",
       "      <td>0.809968</td>\n",
       "      <td>2.995820</td>\n",
       "    </tr>\n",
       "    <tr>\n",
       "      <th>2</th>\n",
       "      <td>p.Ala112Asn</td>\n",
       "      <td>0.062990</td>\n",
       "      <td>1.0</td>\n",
       "      <td>*</td>\n",
       "      <td>A112N</td>\n",
       "      <td>0.936790</td>\n",
       "      <td>0.809852</td>\n",
       "      <td>3.083116</td>\n",
       "    </tr>\n",
       "    <tr>\n",
       "      <th>3</th>\n",
       "      <td>p.Ala112Asp</td>\n",
       "      <td>0.063013</td>\n",
       "      <td>1.0</td>\n",
       "      <td>*</td>\n",
       "      <td>A112D</td>\n",
       "      <td>0.936767</td>\n",
       "      <td>0.810051</td>\n",
       "      <td>3.317553</td>\n",
       "    </tr>\n",
       "    <tr>\n",
       "      <th>4</th>\n",
       "      <td>p.Ala112Cys</td>\n",
       "      <td>0.088316</td>\n",
       "      <td>1.0</td>\n",
       "      <td>*</td>\n",
       "      <td>A112C</td>\n",
       "      <td>0.911470</td>\n",
       "      <td>0.794887</td>\n",
       "      <td>1.254500</td>\n",
       "    </tr>\n",
       "  </tbody>\n",
       "</table>\n",
       "</div>"
      ],
      "text/plain": [
       "  aa_substitution     score   sd comments    mut  protbert_score  \\\n",
       "0       p.Ala112=  0.000000  1.0        *    NaN             NaN   \n",
       "1     p.Ala112Arg  0.062969  1.0        *  A112R        0.936811   \n",
       "2     p.Ala112Asn  0.062990  1.0        *  A112N        0.936790   \n",
       "3     p.Ala112Asp  0.063013  1.0        *  A112D        0.936767   \n",
       "4     p.Ala112Cys  0.088316  1.0        *  A112C        0.911470   \n",
       "\n",
       "   proteinsolver_score  el2_score  \n",
       "0                  NaN        NaN  \n",
       "1             0.809968   2.995820  \n",
       "2             0.809852   3.083116  \n",
       "3             0.810051   3.317553  \n",
       "4             0.794887   1.254500  "
      ]
     },
     "metadata": {},
     "output_type": "display_data"
    }
   ],
   "source": [
    "result_dfs = {}\n",
    "for i, metric in enumerate([\"el2\", \"proteinsolver\", \"protbert\"]):\n",
    "    result_dfs[metric] = result_template_df.merge(\n",
    "        result_df, on=list(result_template_df.columns), how=\"left\"\n",
    "    )\n",
    "\n",
    "    result_dfs[metric][\"score\"] = (\n",
    "        1\n",
    "        - result_dfs[metric][f\"{metric}_score\"].values / result_dfs[metric][f\"{metric}_score\"].max()\n",
    "    )\n",
    "    result_dfs[metric][\"sd\"] = 1.0\n",
    "    result_dfs[metric][\"comments\"] = \"*\"\n",
    "\n",
    "    result_dfs[metric].loc[result_dfs[metric][\"aa_substitution\"].str.endswith(\"=\"), \"score\"] = 0.0\n",
    "\n",
    "    result_dfs[metric] = result_dfs[metric][\n",
    "        ~result_dfs[metric][\"aa_substitution\"].str.contains(\"Ter\", regex=False)\n",
    "    ]\n",
    "\n",
    "    print(metric)\n",
    "    display(result_dfs[metric].head())\n",
    "\n",
    "    output_file = output_dir.joinpath(f\"strokach_modelnumber_{i + 1}.tsv\")\n",
    "    result_dfs[metric][result_template_df.columns].to_csv(output_file, sep=\"\\t\", index=False)\n",
    "#     !python {NOTEBOOK_DIR}/validation.py {output_file}"
   ]
  },
  {
   "cell_type": "code",
   "execution_count": 100,
   "id": "912fd1e3-4261-43b3-b43c-6a5b1b3d56cc",
   "metadata": {},
   "outputs": [
    {
     "name": "stdout",
     "output_type": "stream",
     "text": [
      "el2 0.0\n",
      "proteinsolver 0.0\n",
      "protbert 0.0\n"
     ]
    },
    {
     "data": {
      "image/png": "[encoded data removed]",
      "text/plain": [
       "<Figure size 360x216 with 1 Axes>"
      ]
     },
     "metadata": {},
     "output_type": "display_data"
    },
    {
     "data": {
      "image/png": "[encoded data removed]",
      "text/plain": [
       "<Figure size 360x216 with 1 Axes>"
      ]
     },
     "metadata": {},
     "output_type": "display_data"
    },
    {
     "data": {
      "image/png": "[encoded data removed]",
      "text/plain": [
       "<Figure size 360x216 with 1 Axes>"
      ]
     },
     "metadata": {},
     "output_type": "display_data"
    }
   ],
   "source": [
    "for metric, df in result_dfs.items():\n",
    "    print(metric, df[\"score\"].min())\n",
    "    \n",
    "    fig, ax = plt.subplots(figsize=(5, 3))\n",
    "    ax.hist(df[\"score\"], bins=100)\n",
    "    ax.set_xlabel(\"score\")"
   ]
  },
  {
   "cell_type": "code",
   "execution_count": null,
   "id": "8bf6b482-2cbf-46bf-9f83-d1b8dceb9b27",
   "metadata": {},
   "outputs": [],
   "source": []
  }
 ],
 "metadata": {
  "kernelspec": {
   "display_name": "Python 3 (ipykernel)",
   "language": "python",
   "name": "python3"
  },
  "language_info": {
   "codemirror_mode": {
    "name": "ipython",
    "version": 3
   },
   "file_extension": ".py",
   "mimetype": "text/x-python",
   "name": "python",
   "nbconvert_exporter": "python",
   "pygments_lexer": "ipython3",
   "version": "3.9.6"
  }
 },
 "nbformat": 4,
 "nbformat_minor": 5
}
