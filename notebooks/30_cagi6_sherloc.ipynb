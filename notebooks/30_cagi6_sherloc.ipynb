{
 "cells": [
  {
   "cell_type": "markdown",
   "id": "26c81e96-6b41-41fa-80a6-6360c482eb58",
   "metadata": {},
   "source": [
    "## Summary\n",
    "\n",
    "### HGVS\n",
    "\n",
    "```bash\n",
    "docker run -d --name uta_20180821 -p 15032:5432 --rm biocommons/uta:uta_20180821\n",
    "```\n",
    "\n",
    "### Note\n",
    "\n",
    "In row `1098`, mutations do not match sequence?! This needs to be addressed.\n",
    "\n",
    "### Other resources\n",
    "\n",
    "- https://mutalyzer.nl/ — Used to map HGVS.g to HGVS.c.\n",
    "\n",
    "---"
   ]
  },
  {
   "cell_type": "markdown",
   "id": "ec276dec-6afa-4b57-bbfc-a11e04a8767e",
   "metadata": {},
   "source": [
    "## Imports"
   ]
  },
  {
   "cell_type": "code",
   "execution_count": 1,
   "id": "6f30b1ab-681d-44b1-a53e-34aebe5321f0",
   "metadata": {},
   "outputs": [
    {
     "name": "stdout",
     "output_type": "stream",
     "text": [
      "env: HGVS_SEQREPO_DIR=/home/kimlab5/strokach/data/seqrepo/2021-01-29/\n",
      "env: UTA_DB_URL=postgresql://anonymous@localhost:15032/uta/uta_20180821\n",
      "env: GOOGLE_APPLICATION_CREDENTIALS=/home/kimlab5/strokach/workspace/ostrokach-data-da3b89497213.json\n"
     ]
    }
   ],
   "source": [
    "%env HGVS_SEQREPO_DIR=/home/kimlab5/strokach/data/seqrepo/2021-01-29/\n",
    "%env UTA_DB_URL=postgresql://anonymous@localhost:15032/uta/uta_20180821\n",
    "%env GOOGLE_APPLICATION_CREDENTIALS=/home/kimlab5/strokach/workspace/ostrokach-data-da3b89497213.json"
   ]
  },
  {
   "cell_type": "code",
   "execution_count": 2,
   "id": "539f4edf-ca04-4bef-b5c9-a6d402f7570b",
   "metadata": {},
   "outputs": [
    {
     "name": "stderr",
     "output_type": "stream",
     "text": [
      "Warning: importing 'simtk.openmm' is deprecated.  Import 'openmm' instead.\n"
     ]
    }
   ],
   "source": [
    "import concurrent.futures\n",
    "import contextlib\n",
    "import gzip\n",
    "import itertools\n",
    "import logging\n",
    "import os\n",
    "import pickle\n",
    "import re\n",
    "import socket\n",
    "import subprocess\n",
    "import tempfile\n",
    "import time\n",
    "import urllib.request\n",
    "from pathlib import Path\n",
    "\n",
    "import dotenv\n",
    "import more_itertools\n",
    "import numpy as np\n",
    "import pandas as pd\n",
    "import pyarrow as pa\n",
    "import pyarrow.parquet as pq\n",
    "import synapseclient\n",
    "import synapseutils\n",
    "from kmbio import PDB\n",
    "from kmtools import structure_tools\n",
    "from tqdm.auto import tqdm"
   ]
  },
  {
   "cell_type": "markdown",
   "id": "5be0ca05-c038-414f-ba84-b2ae8013088b",
   "metadata": {},
   "source": [
    "## Parameters"
   ]
  },
  {
   "cell_type": "code",
   "execution_count": 3,
   "id": "10e1faee-9f6a-40d8-8819-272b1c9837bb",
   "metadata": {},
   "outputs": [
    {
     "data": {
      "text/plain": [
       "PosixPath('/home/kimlab5/strokach/workspace/elaspic/elaspic2-cagi6/notebooks/30_cagi6_sherloc')"
      ]
     },
     "execution_count": 3,
     "metadata": {},
     "output_type": "execute_result"
    }
   ],
   "source": [
    "NOTEBOOK_DIR = Path(\"30_cagi6_sherloc\").resolve()\n",
    "NOTEBOOK_DIR.mkdir(exist_ok=True)\n",
    "\n",
    "NOTEBOOK_DIR"
   ]
  },
  {
   "cell_type": "code",
   "execution_count": 4,
   "id": "58e2d58e-50a5-46cb-b9f2-64394d98d4c7",
   "metadata": {},
   "outputs": [
    {
     "data": {
      "text/plain": [
       "32"
      ]
     },
     "execution_count": 4,
     "metadata": {},
     "output_type": "execute_result"
    }
   ],
   "source": [
    "if \"scinet\" in socket.gethostname():\n",
    "    CPU_COUNT = 40\n",
    "else:\n",
    "    CPU_COUNT = max(1, len(os.sched_getaffinity(0)))\n",
    "\n",
    "CPU_COUNT"
   ]
  },
  {
   "cell_type": "markdown",
   "id": "f0467c00-009a-4ee6-b5db-0a5f22c25137",
   "metadata": {},
   "source": [
    "## Download data"
   ]
  },
  {
   "cell_type": "code",
   "execution_count": 5,
   "id": "bc15ad8e-cc4a-4874-a05b-e98ffb050f51",
   "metadata": {},
   "outputs": [],
   "source": [
    "if not NOTEBOOK_DIR.joinpath(\"submission_template.tsv\").is_file():\n",
    "    syn = synapseclient.Synapse()\n",
    "    syn.login(os.environ[\"SYNAPSE_USERNAME\"], os.environ[\"SYNAPSE_PASSWORD\"])\n",
    "    _ = synapseutils.syncFromSynapse(syn, \"syn25958776\", path=NOTEBOOK_DIR)\n",
    "    _ = subprocess.run(\n",
    "        [\"unzip\", \"-o\", \"CAGI6-Sherloc-clinical-classification.zip\"], cwd=NOTEBOOK_DIR, check=True\n",
    "    )"
   ]
  },
  {
   "cell_type": "markdown",
   "id": "4d36d995-7bea-48cc-971b-cf926cbb17f8",
   "metadata": {},
   "source": [
    "## Load data"
   ]
  },
  {
   "cell_type": "code",
   "execution_count": 6,
   "id": "192f7213-25f6-4eae-9fbe-e1316966821b",
   "metadata": {},
   "outputs": [],
   "source": [
    "submission_template_file = NOTEBOOK_DIR.joinpath(\"submission_template.tsv\")"
   ]
  },
  {
   "cell_type": "code",
   "execution_count": 7,
   "id": "4de96fa1-7815-48cb-a8ed-035d5ddd8a8c",
   "metadata": {},
   "outputs": [
    {
     "data": {
      "text/html": [
       "<div>\n",
       "<style scoped>\n",
       "    .dataframe tbody tr th:only-of-type {\n",
       "        vertical-align: middle;\n",
       "    }\n",
       "\n",
       "    .dataframe tbody tr th {\n",
       "        vertical-align: top;\n",
       "    }\n",
       "\n",
       "    .dataframe thead th {\n",
       "        text-align: right;\n",
       "    }\n",
       "</style>\n",
       "<table border=\"1\" class=\"dataframe\">\n",
       "  <thead>\n",
       "    <tr style=\"text-align: right;\">\n",
       "      <th></th>\n",
       "      <th>hgvs</th>\n",
       "      <th>score</th>\n",
       "      <th>class</th>\n",
       "      <th>comment</th>\n",
       "    </tr>\n",
       "  </thead>\n",
       "  <tbody>\n",
       "    <tr>\n",
       "      <th>0</th>\n",
       "      <td>NM_152486.2:c.39C&gt;T</td>\n",
       "      <td>*</td>\n",
       "      <td>*</td>\n",
       "      <td>*</td>\n",
       "    </tr>\n",
       "    <tr>\n",
       "      <th>1</th>\n",
       "      <td>NM_152486.2:c.62C&gt;T</td>\n",
       "      <td>*</td>\n",
       "      <td>*</td>\n",
       "      <td>*</td>\n",
       "    </tr>\n",
       "  </tbody>\n",
       "</table>\n",
       "</div>"
      ],
      "text/plain": [
       "                  hgvs score class comment\n",
       "0  NM_152486.2:c.39C>T     *     *       *\n",
       "1  NM_152486.2:c.62C>T     *     *       *"
      ]
     },
     "metadata": {},
     "output_type": "display_data"
    },
    {
     "data": {
      "text/plain": [
       "122124"
      ]
     },
     "execution_count": 7,
     "metadata": {},
     "output_type": "execute_result"
    }
   ],
   "source": [
    "submission_template_df = pd.read_csv(submission_template_file, sep=\"\\t\")\n",
    "\n",
    "display(submission_template_df.head(2))\n",
    "len(submission_template_df)"
   ]
  },
  {
   "cell_type": "markdown",
   "id": "8349f2e2-9d7d-43ab-a5e2-27935dd72dae",
   "metadata": {},
   "source": [
    "### `training_df`"
   ]
  },
  {
   "cell_type": "code",
   "execution_count": 8,
   "id": "fd60b9b3-b6c0-4c6a-8769-70414425df6e",
   "metadata": {},
   "outputs": [],
   "source": [
    "training_file = NOTEBOOK_DIR.joinpath(\n",
    "    \"CAGI6-Sherloc-clinical-classification\", \"final_train_070821.txt\"\n",
    ")"
   ]
  },
  {
   "cell_type": "code",
   "execution_count": 9,
   "id": "3857148e-32c7-4696-8ab7-2e4fd4717901",
   "metadata": {},
   "outputs": [
    {
     "data": {
      "text/html": [
       "<div>\n",
       "<style scoped>\n",
       "    .dataframe tbody tr th:only-of-type {\n",
       "        vertical-align: middle;\n",
       "    }\n",
       "\n",
       "    .dataframe tbody tr th {\n",
       "        vertical-align: top;\n",
       "    }\n",
       "\n",
       "    .dataframe thead th {\n",
       "        text-align: right;\n",
       "    }\n",
       "</style>\n",
       "<table border=\"1\" class=\"dataframe\">\n",
       "  <thead>\n",
       "    <tr style=\"text-align: right;\">\n",
       "      <th></th>\n",
       "      <th>chr</th>\n",
       "      <th>pos</th>\n",
       "      <th>ref</th>\n",
       "      <th>alt</th>\n",
       "      <th>hgvs</th>\n",
       "      <th>interpretation</th>\n",
       "      <th>Subcategory Missense</th>\n",
       "      <th>Subcategory Small intronic deletion or insertion</th>\n",
       "      <th>Subcategory Small exonic in-frame deletion or insertion</th>\n",
       "    </tr>\n",
       "  </thead>\n",
       "  <tbody>\n",
       "    <tr>\n",
       "      <th>0</th>\n",
       "      <td>1</td>\n",
       "      <td>861332</td>\n",
       "      <td>G</td>\n",
       "      <td>A</td>\n",
       "      <td>NM_152486.2:c.11G&gt;A</td>\n",
       "      <td>Uncertain significance</td>\n",
       "      <td>True</td>\n",
       "      <td>False</td>\n",
       "      <td>False</td>\n",
       "    </tr>\n",
       "    <tr>\n",
       "      <th>1</th>\n",
       "      <td>1</td>\n",
       "      <td>865568</td>\n",
       "      <td>G</td>\n",
       "      <td>A</td>\n",
       "      <td>NM_152486.2:c.106G&gt;A</td>\n",
       "      <td>Uncertain significance</td>\n",
       "      <td>True</td>\n",
       "      <td>False</td>\n",
       "      <td>False</td>\n",
       "    </tr>\n",
       "  </tbody>\n",
       "</table>\n",
       "</div>"
      ],
      "text/plain": [
       "  chr     pos ref alt                  hgvs          interpretation  \\\n",
       "0   1  861332   G   A   NM_152486.2:c.11G>A  Uncertain significance   \n",
       "1   1  865568   G   A  NM_152486.2:c.106G>A  Uncertain significance   \n",
       "\n",
       "   Subcategory Missense  Subcategory Small intronic deletion or insertion  \\\n",
       "0                  True                                             False   \n",
       "1                  True                                             False   \n",
       "\n",
       "   Subcategory Small exonic in-frame deletion or insertion  \n",
       "0                                              False        \n",
       "1                                              False        "
      ]
     },
     "metadata": {},
     "output_type": "display_data"
    },
    {
     "data": {
      "text/plain": [
       "418354"
      ]
     },
     "execution_count": 9,
     "metadata": {},
     "output_type": "execute_result"
    }
   ],
   "source": [
    "training_all_df = pd.read_csv(training_file, sep=\"\\t\")\n",
    "\n",
    "display(training_all_df.head(2))\n",
    "len(training_all_df)"
   ]
  },
  {
   "cell_type": "code",
   "execution_count": 10,
   "id": "19cd38c9-1569-4c3e-9920-492604dc0ddd",
   "metadata": {},
   "outputs": [],
   "source": [
    "assert not set(submission_template_df[\"hgvs\"]) & set(training_all_df[\"hgvs\"])"
   ]
  },
  {
   "cell_type": "code",
   "execution_count": 11,
   "id": "7d852835-27fc-4be4-a9a2-f011ee68f6e1",
   "metadata": {},
   "outputs": [
    {
     "data": {
      "text/html": [
       "<div>\n",
       "<style scoped>\n",
       "    .dataframe tbody tr th:only-of-type {\n",
       "        vertical-align: middle;\n",
       "    }\n",
       "\n",
       "    .dataframe tbody tr th {\n",
       "        vertical-align: top;\n",
       "    }\n",
       "\n",
       "    .dataframe thead th {\n",
       "        text-align: right;\n",
       "    }\n",
       "</style>\n",
       "<table border=\"1\" class=\"dataframe\">\n",
       "  <thead>\n",
       "    <tr style=\"text-align: right;\">\n",
       "      <th></th>\n",
       "      <th>chr</th>\n",
       "      <th>pos</th>\n",
       "      <th>ref</th>\n",
       "      <th>alt</th>\n",
       "      <th>hgvs</th>\n",
       "      <th>interpretation</th>\n",
       "      <th>Subcategory Missense</th>\n",
       "      <th>Subcategory Small intronic deletion or insertion</th>\n",
       "      <th>Subcategory Small exonic in-frame deletion or insertion</th>\n",
       "    </tr>\n",
       "  </thead>\n",
       "  <tbody>\n",
       "    <tr>\n",
       "      <th>0</th>\n",
       "      <td>1</td>\n",
       "      <td>861332</td>\n",
       "      <td>G</td>\n",
       "      <td>A</td>\n",
       "      <td>NM_152486.2:c.11G&gt;A</td>\n",
       "      <td>Uncertain significance</td>\n",
       "      <td>True</td>\n",
       "      <td>False</td>\n",
       "      <td>False</td>\n",
       "    </tr>\n",
       "    <tr>\n",
       "      <th>1</th>\n",
       "      <td>1</td>\n",
       "      <td>865568</td>\n",
       "      <td>G</td>\n",
       "      <td>A</td>\n",
       "      <td>NM_152486.2:c.106G&gt;A</td>\n",
       "      <td>Uncertain significance</td>\n",
       "      <td>True</td>\n",
       "      <td>False</td>\n",
       "      <td>False</td>\n",
       "    </tr>\n",
       "  </tbody>\n",
       "</table>\n",
       "</div>"
      ],
      "text/plain": [
       "  chr     pos ref alt                  hgvs          interpretation  \\\n",
       "0   1  861332   G   A   NM_152486.2:c.11G>A  Uncertain significance   \n",
       "1   1  865568   G   A  NM_152486.2:c.106G>A  Uncertain significance   \n",
       "\n",
       "   Subcategory Missense  Subcategory Small intronic deletion or insertion  \\\n",
       "0                  True                                             False   \n",
       "1                  True                                             False   \n",
       "\n",
       "   Subcategory Small exonic in-frame deletion or insertion  \n",
       "0                                              False        \n",
       "1                                              False        "
      ]
     },
     "metadata": {},
     "output_type": "display_data"
    },
    {
     "data": {
      "text/plain": [
       "217153"
      ]
     },
     "execution_count": 11,
     "metadata": {},
     "output_type": "execute_result"
    }
   ],
   "source": [
    "training_df = training_all_df[training_all_df[\"Subcategory Missense\"]]\n",
    "\n",
    "display(training_df.head(2))\n",
    "len(training_df)"
   ]
  },
  {
   "cell_type": "markdown",
   "id": "dc4d933d-a5de-48da-b2f5-8c1bfb2d4b0f",
   "metadata": {},
   "source": [
    "### `testing_df`"
   ]
  },
  {
   "cell_type": "code",
   "execution_count": 12,
   "id": "57d4ef71-ec3e-4152-8dfa-de4584e2aad4",
   "metadata": {},
   "outputs": [],
   "source": [
    "testing_file = NOTEBOOK_DIR.joinpath(\n",
    "    \"CAGI6-Sherloc-clinical-classification\", \"final_test_070821.txt\"\n",
    ")"
   ]
  },
  {
   "cell_type": "code",
   "execution_count": 13,
   "id": "55dc0f3e-34bf-415d-8c6a-67356700dc38",
   "metadata": {},
   "outputs": [
    {
     "data": {
      "text/html": [
       "<div>\n",
       "<style scoped>\n",
       "    .dataframe tbody tr th:only-of-type {\n",
       "        vertical-align: middle;\n",
       "    }\n",
       "\n",
       "    .dataframe tbody tr th {\n",
       "        vertical-align: top;\n",
       "    }\n",
       "\n",
       "    .dataframe thead th {\n",
       "        text-align: right;\n",
       "    }\n",
       "</style>\n",
       "<table border=\"1\" class=\"dataframe\">\n",
       "  <thead>\n",
       "    <tr style=\"text-align: right;\">\n",
       "      <th></th>\n",
       "      <th>chr</th>\n",
       "      <th>pos</th>\n",
       "      <th>ref</th>\n",
       "      <th>alt</th>\n",
       "      <th>hgvs</th>\n",
       "      <th>Subcategory Missense</th>\n",
       "      <th>Subcategory Small intronic deletion or insertion</th>\n",
       "      <th>Subcategory Small exonic in-frame deletion or insertion</th>\n",
       "    </tr>\n",
       "  </thead>\n",
       "  <tbody>\n",
       "    <tr>\n",
       "      <th>0</th>\n",
       "      <td>1</td>\n",
       "      <td>861360</td>\n",
       "      <td>C</td>\n",
       "      <td>T</td>\n",
       "      <td>NM_152486.2:c.39C&gt;T</td>\n",
       "      <td>False</td>\n",
       "      <td>False</td>\n",
       "      <td>False</td>\n",
       "    </tr>\n",
       "    <tr>\n",
       "      <th>1</th>\n",
       "      <td>1</td>\n",
       "      <td>861383</td>\n",
       "      <td>C</td>\n",
       "      <td>T</td>\n",
       "      <td>NM_152486.2:c.62C&gt;T</td>\n",
       "      <td>True</td>\n",
       "      <td>False</td>\n",
       "      <td>False</td>\n",
       "    </tr>\n",
       "  </tbody>\n",
       "</table>\n",
       "</div>"
      ],
      "text/plain": [
       "  chr     pos ref alt                 hgvs  Subcategory Missense  \\\n",
       "0   1  861360   C   T  NM_152486.2:c.39C>T                 False   \n",
       "1   1  861383   C   T  NM_152486.2:c.62C>T                  True   \n",
       "\n",
       "   Subcategory Small intronic deletion or insertion  \\\n",
       "0                                             False   \n",
       "1                                             False   \n",
       "\n",
       "   Subcategory Small exonic in-frame deletion or insertion  \n",
       "0                                              False        \n",
       "1                                              False        "
      ]
     },
     "metadata": {},
     "output_type": "display_data"
    },
    {
     "data": {
      "text/plain": [
       "122124"
      ]
     },
     "execution_count": 13,
     "metadata": {},
     "output_type": "execute_result"
    }
   ],
   "source": [
    "testing_all_df = pd.read_csv(testing_file, sep=\"\\t\")\n",
    "\n",
    "display(testing_all_df.head(2))\n",
    "len(testing_all_df)"
   ]
  },
  {
   "cell_type": "code",
   "execution_count": 14,
   "id": "52d4ed61-3ddd-4cac-a934-a2cc07349392",
   "metadata": {},
   "outputs": [],
   "source": [
    "assert not set(submission_template_df[\"hgvs\"]) ^ set(testing_all_df[\"hgvs\"])"
   ]
  },
  {
   "cell_type": "code",
   "execution_count": 15,
   "id": "f5b2db23-6aa7-4892-968b-1169b59057a4",
   "metadata": {},
   "outputs": [
    {
     "data": {
      "text/html": [
       "<div>\n",
       "<style scoped>\n",
       "    .dataframe tbody tr th:only-of-type {\n",
       "        vertical-align: middle;\n",
       "    }\n",
       "\n",
       "    .dataframe tbody tr th {\n",
       "        vertical-align: top;\n",
       "    }\n",
       "\n",
       "    .dataframe thead th {\n",
       "        text-align: right;\n",
       "    }\n",
       "</style>\n",
       "<table border=\"1\" class=\"dataframe\">\n",
       "  <thead>\n",
       "    <tr style=\"text-align: right;\">\n",
       "      <th></th>\n",
       "      <th>chr</th>\n",
       "      <th>pos</th>\n",
       "      <th>ref</th>\n",
       "      <th>alt</th>\n",
       "      <th>hgvs</th>\n",
       "      <th>Subcategory Missense</th>\n",
       "      <th>Subcategory Small intronic deletion or insertion</th>\n",
       "      <th>Subcategory Small exonic in-frame deletion or insertion</th>\n",
       "    </tr>\n",
       "  </thead>\n",
       "  <tbody>\n",
       "    <tr>\n",
       "      <th>1</th>\n",
       "      <td>1</td>\n",
       "      <td>861383</td>\n",
       "      <td>C</td>\n",
       "      <td>T</td>\n",
       "      <td>NM_152486.2:c.62C&gt;T</td>\n",
       "      <td>True</td>\n",
       "      <td>False</td>\n",
       "      <td>False</td>\n",
       "    </tr>\n",
       "    <tr>\n",
       "      <th>7</th>\n",
       "      <td>1</td>\n",
       "      <td>865640</td>\n",
       "      <td>G</td>\n",
       "      <td>A</td>\n",
       "      <td>NM_152486.2:c.178G&gt;A</td>\n",
       "      <td>True</td>\n",
       "      <td>False</td>\n",
       "      <td>False</td>\n",
       "    </tr>\n",
       "  </tbody>\n",
       "</table>\n",
       "</div>"
      ],
      "text/plain": [
       "  chr     pos ref alt                  hgvs  Subcategory Missense  \\\n",
       "1   1  861383   C   T   NM_152486.2:c.62C>T                  True   \n",
       "7   1  865640   G   A  NM_152486.2:c.178G>A                  True   \n",
       "\n",
       "   Subcategory Small intronic deletion or insertion  \\\n",
       "1                                             False   \n",
       "7                                             False   \n",
       "\n",
       "   Subcategory Small exonic in-frame deletion or insertion  \n",
       "1                                              False        \n",
       "7                                              False        "
      ]
     },
     "metadata": {},
     "output_type": "display_data"
    },
    {
     "data": {
      "text/plain": [
       "47103"
      ]
     },
     "execution_count": 15,
     "metadata": {},
     "output_type": "execute_result"
    }
   ],
   "source": [
    "testing_df = testing_all_df[testing_all_df[\"Subcategory Missense\"]]\n",
    "\n",
    "display(testing_df.head(2))\n",
    "len(testing_df)"
   ]
  },
  {
   "cell_type": "markdown",
   "id": "c76d3637-20f1-4ab1-8222-f857c4631325",
   "metadata": {},
   "source": [
    "### `validation_df`"
   ]
  },
  {
   "cell_type": "code",
   "execution_count": 16,
   "id": "72f5dfd8-d33f-4228-9632-194cb74b7424",
   "metadata": {},
   "outputs": [],
   "source": [
    "validation_file = NOTEBOOK_DIR.joinpath(\"validation_variants.tsv\")"
   ]
  },
  {
   "cell_type": "code",
   "execution_count": 17,
   "id": "7d7355ec-350b-4cd7-a836-505b9176502b",
   "metadata": {},
   "outputs": [
    {
     "data": {
      "text/html": [
       "<div>\n",
       "<style scoped>\n",
       "    .dataframe tbody tr th:only-of-type {\n",
       "        vertical-align: middle;\n",
       "    }\n",
       "\n",
       "    .dataframe tbody tr th {\n",
       "        vertical-align: top;\n",
       "    }\n",
       "\n",
       "    .dataframe thead th {\n",
       "        text-align: right;\n",
       "    }\n",
       "</style>\n",
       "<table border=\"1\" class=\"dataframe\">\n",
       "  <thead>\n",
       "    <tr style=\"text-align: right;\">\n",
       "      <th></th>\n",
       "      <th>hgvs_g</th>\n",
       "    </tr>\n",
       "  </thead>\n",
       "  <tbody>\n",
       "    <tr>\n",
       "      <th>17812</th>\n",
       "      <td>NC_000023.10:g.32519861C&gt;T</td>\n",
       "    </tr>\n",
       "    <tr>\n",
       "      <th>17813</th>\n",
       "      <td>NC_000015.9:g.85406864_85406865insT</td>\n",
       "    </tr>\n",
       "  </tbody>\n",
       "</table>\n",
       "</div>"
      ],
      "text/plain": [
       "                                    hgvs_g\n",
       "17812           NC_000023.10:g.32519861C>T\n",
       "17813  NC_000015.9:g.85406864_85406865insT"
      ]
     },
     "metadata": {},
     "output_type": "display_data"
    },
    {
     "data": {
      "text/plain": [
       "17814"
      ]
     },
     "execution_count": 17,
     "metadata": {},
     "output_type": "execute_result"
    }
   ],
   "source": [
    "validation_all_df = pd.read_csv(validation_file, sep=\"\\t\").rename(columns={\"HGVS.c\": \"hgvs_g\"})\n",
    "\n",
    "display(validation_all_df.tail(2))\n",
    "len(validation_all_df)"
   ]
  },
  {
   "cell_type": "code",
   "execution_count": 18,
   "id": "1b4246f2-f166-4735-a4ee-40345b607043",
   "metadata": {},
   "outputs": [],
   "source": [
    "def map_g_to_c(str_g, mapper):\n",
    "    from hgvs.exceptions import HGVSUsageError, HGVSInvalidIntervalError\n",
    "\n",
    "    var_g = hp.parse_hgvs_variant(str_g)\n",
    "    for tx_ac in mapper.relevant_transcripts(var_g):\n",
    "        try:\n",
    "            var_c = mapper.g_to_c(var_g, tx_ac)\n",
    "        except (HGVSUsageError, HGVSInvalidIntervalError):\n",
    "            continue\n",
    "        yield var_c"
   ]
  },
  {
   "cell_type": "code",
   "execution_count": 19,
   "id": "74e25dc7-f9c2-42de-a104-c8946d1233f1",
   "metadata": {},
   "outputs": [],
   "source": [
    "validation_mapping_file = NOTEBOOK_DIR.joinpath(\"validation-mapping-grch37.parquet\")\n",
    "\n",
    "if validation_mapping_file.is_file():\n",
    "    validation_mapping_df = pq.read_table(validation_mapping_file).to_pandas()\n",
    "else:\n",
    "    import hgvs.assemblymapper\n",
    "    import hgvs.dataproviders.uta\n",
    "    import hgvs.parser\n",
    "\n",
    "    hp = hgvs.parser.Parser()\n",
    "    hdp = hgvs.dataproviders.uta.connect()\n",
    "    mapper = hgvs.assemblymapper.AssemblyMapper(hdp, assembly_name=\"GRCh37\", normalize=False)\n",
    "\n",
    "    results = []\n",
    "    for tup in tqdm(validation_all_df.itertuples(), total=len(validation_all_df)):\n",
    "        for var_c in map_g_to_c(tup.hgvs_g, mapper):\n",
    "            results.append((tup.str_g, str(var_c)))\n",
    "    validation_mapping_df = pd.DataFrame(results, columns=[\"hgvs_g\", \"hgvs\"])\n",
    "    pq.write_table(\n",
    "        pa.Table.from_pandas(validation_mapping_df, preserve_index=False), validation_mapping_file\n",
    "    )"
   ]
  },
  {
   "cell_type": "code",
   "execution_count": 20,
   "id": "73e87f59-55e5-4d95-8c0d-1d70dfe58a32",
   "metadata": {},
   "outputs": [
    {
     "data": {
      "text/html": [
       "<div>\n",
       "<style scoped>\n",
       "    .dataframe tbody tr th:only-of-type {\n",
       "        vertical-align: middle;\n",
       "    }\n",
       "\n",
       "    .dataframe tbody tr th {\n",
       "        vertical-align: top;\n",
       "    }\n",
       "\n",
       "    .dataframe thead th {\n",
       "        text-align: right;\n",
       "    }\n",
       "</style>\n",
       "<table border=\"1\" class=\"dataframe\">\n",
       "  <thead>\n",
       "    <tr style=\"text-align: right;\">\n",
       "      <th></th>\n",
       "      <th>hgvs_g</th>\n",
       "      <th>hgvs</th>\n",
       "    </tr>\n",
       "  </thead>\n",
       "  <tbody>\n",
       "    <tr>\n",
       "      <th>0</th>\n",
       "      <td>NC_000002.11:g.152537358A&gt;G</td>\n",
       "      <td>NM_001164508.1:c.2944-16T&gt;C</td>\n",
       "    </tr>\n",
       "    <tr>\n",
       "      <th>1</th>\n",
       "      <td>NC_000002.11:g.152537358A&gt;G</td>\n",
       "      <td>NM_004543.4:c.2944-16T&gt;C</td>\n",
       "    </tr>\n",
       "  </tbody>\n",
       "</table>\n",
       "</div>"
      ],
      "text/plain": [
       "                        hgvs_g                         hgvs\n",
       "0  NC_000002.11:g.152537358A>G  NM_001164508.1:c.2944-16T>C\n",
       "1  NC_000002.11:g.152537358A>G     NM_004543.4:c.2944-16T>C"
      ]
     },
     "metadata": {},
     "output_type": "display_data"
    },
    {
     "name": "stdout",
     "output_type": "stream",
     "text": [
      "67819\n"
     ]
    }
   ],
   "source": [
    "display(validation_mapping_df.head(2))\n",
    "print(len(validation_mapping_df))"
   ]
  },
  {
   "cell_type": "code",
   "execution_count": 21,
   "id": "f5e1fba7-657e-40d2-bd17-25103d8ad28c",
   "metadata": {},
   "outputs": [],
   "source": [
    "validation_df = (\n",
    "    validation_all_df\n",
    "    #\n",
    "    .merge(validation_mapping_df, on=[\"hgvs_g\"])\n",
    ")"
   ]
  },
  {
   "cell_type": "code",
   "execution_count": 22,
   "id": "57fea139-d74e-41a5-bf70-0f6faa20123f",
   "metadata": {},
   "outputs": [
    {
     "data": {
      "text/html": [
       "<div>\n",
       "<style scoped>\n",
       "    .dataframe tbody tr th:only-of-type {\n",
       "        vertical-align: middle;\n",
       "    }\n",
       "\n",
       "    .dataframe tbody tr th {\n",
       "        vertical-align: top;\n",
       "    }\n",
       "\n",
       "    .dataframe thead th {\n",
       "        text-align: right;\n",
       "    }\n",
       "</style>\n",
       "<table border=\"1\" class=\"dataframe\">\n",
       "  <thead>\n",
       "    <tr style=\"text-align: right;\">\n",
       "      <th></th>\n",
       "      <th>hgvs_g</th>\n",
       "      <th>hgvs</th>\n",
       "    </tr>\n",
       "  </thead>\n",
       "  <tbody>\n",
       "    <tr>\n",
       "      <th>67817</th>\n",
       "      <td>NC_000023.10:g.32519861C&gt;T</td>\n",
       "      <td>NM_004010.3:c.2011+11G&gt;A</td>\n",
       "    </tr>\n",
       "    <tr>\n",
       "      <th>67818</th>\n",
       "      <td>NC_000015.9:g.85406864_85406865insT</td>\n",
       "      <td>NM_020778.4:c.5098_5099insT</td>\n",
       "    </tr>\n",
       "  </tbody>\n",
       "</table>\n",
       "</div>"
      ],
      "text/plain": [
       "                                    hgvs_g                         hgvs\n",
       "67817           NC_000023.10:g.32519861C>T     NM_004010.3:c.2011+11G>A\n",
       "67818  NC_000015.9:g.85406864_85406865insT  NM_020778.4:c.5098_5099insT"
      ]
     },
     "metadata": {},
     "output_type": "display_data"
    },
    {
     "name": "stdout",
     "output_type": "stream",
     "text": [
      "67819\n",
      "17801\n"
     ]
    }
   ],
   "source": [
    "display(validation_df.tail(2))\n",
    "print(len(validation_df))\n",
    "print(len(validation_df[\"hgvs_g\"].unique()))"
   ]
  },
  {
   "cell_type": "markdown",
   "id": "0e95e796-69ef-4fe4-ab6b-030479648955",
   "metadata": {},
   "source": [
    "## Map HGVS to proteins and mutations (`mutation_mapping_df`)"
   ]
  },
  {
   "cell_type": "code",
   "execution_count": 23,
   "id": "42991e5d-3a51-4b3f-a815-dceecb213234",
   "metadata": {},
   "outputs": [],
   "source": [
    "class DisableLogger:\n",
    "    def __enter__(self):\n",
    "        logging.disable(logging.CRITICAL)\n",
    "\n",
    "    def __exit__(self, exit_type, exit_value, exit_traceback):\n",
    "        logging.disable(logging.NOTSET)"
   ]
  },
  {
   "cell_type": "code",
   "execution_count": 24,
   "id": "17d51315-b7fd-477d-9226-f5c6afe45271",
   "metadata": {},
   "outputs": [],
   "source": [
    "def worker(str_c, hp, mapper):\n",
    "    var_c = hp.parse_hgvs_variant(str_c)\n",
    "    with DisableLogger():\n",
    "        var_p = mapper.c_to_p(var_c)\n",
    "    return (str_c, var_p.ac, var_p.posedit)"
   ]
  },
  {
   "cell_type": "code",
   "execution_count": 25,
   "id": "964e6d57-4554-48e7-a049-5f8f9acd7cc1",
   "metadata": {},
   "outputs": [],
   "source": [
    "def load_cache(cache_file):\n",
    "    if cache_file.is_file():\n",
    "        with cache_file.open(\"rb\") as fin:\n",
    "            results = pickle.load(fin)\n",
    "    else:\n",
    "        results = []\n",
    "    return results"
   ]
  },
  {
   "cell_type": "code",
   "execution_count": 26,
   "id": "51787c59-ce6d-4ead-b375-34d30c48de56",
   "metadata": {},
   "outputs": [],
   "source": [
    "def pe_to_df(pe):\n",
    "    return f\"{pe.pos.start.aa}{pe.pos.start.base}{pe.edit.alt}\" if pe is not None else None"
   ]
  },
  {
   "cell_type": "code",
   "execution_count": 27,
   "id": "8b06d05a-375a-4bae-a607-073457639e4a",
   "metadata": {},
   "outputs": [],
   "source": [
    "def map_transcript_to_protein(\n",
    "    hgvs_ids, cache_file=NOTEBOOK_DIR.joinpath(\"c-to-p-mapping-grch37.pickle\")\n",
    "):\n",
    "    import hgvs.assemblymapper\n",
    "    import hgvs.dataproviders.uta\n",
    "    import hgvs.parser\n",
    "    from hgvs.exceptions import HGVSDataNotAvailableError\n",
    "\n",
    "    hp = hgvs.parser.Parser()\n",
    "    hdp = hgvs.dataproviders.uta.connect()\n",
    "    mapper = hgvs.assemblymapper.AssemblyMapper(hdp, assembly_name=\"GRCh37\")\n",
    "\n",
    "    results = load_cache(cache_file)\n",
    "    stc_c_list = sorted((set(hgvs_ids) - set([r[0] for r in results])))\n",
    "    for str_c in tqdm(stc_c_list):\n",
    "        try:\n",
    "            results.append(worker(str_c, hp, mapper))\n",
    "        except Exception as e:\n",
    "            print(f\"An error occured: {e!r}.\")\n",
    "\n",
    "        if len(results) % 1000 == 0:\n",
    "            with cache_file.open(\"wb\") as fout:\n",
    "                pickle.dump(results, fout, pickle.HIGHEST_PROTOCOL)\n",
    "\n",
    "    with cache_file.open(\"wb\") as fout:\n",
    "        pickle.dump(results, fout, pickle.HIGHEST_PROTOCOL)\n",
    "\n",
    "    return results"
   ]
  },
  {
   "cell_type": "code",
   "execution_count": 28,
   "id": "728b6517-094a-48a9-a82f-199810689c4f",
   "metadata": {
    "tags": []
   },
   "outputs": [],
   "source": [
    "mutation_mapping_file = NOTEBOOK_DIR.joinpath(\"mutation-mapping-grch37.parquet\")\n",
    "\n",
    "if mutation_mapping_file.is_file():\n",
    "    mutation_mapping_df = pq.read_table(mutation_mapping_file).to_pandas()\n",
    "else:\n",
    "    hgvs_ids = list(set(training_df[\"hgvs\"]) | set(testing_df[\"hgvs\"]) | set(validation_df[\"hgvs\"]))\n",
    "    mutation_map = map_transcript_to_protein(hgvs_ids)\n",
    "    mutation_mapping_df = pd.DataFrame(\n",
    "        [(nm, np, pe_to_df(pe)) for nm, np, pe in mutation_map if hasattr(pe, \"pos\")],\n",
    "        columns=[\"hgvs\", \"protein_id\", \"mut\"],\n",
    "    )\n",
    "    pq.write_table(\n",
    "        pa.Table.from_pandas(mutation_mapping_df, preserve_index=False), mutation_mapping_file\n",
    "    )"
   ]
  },
  {
   "cell_type": "code",
   "execution_count": 29,
   "id": "081e1484-dadb-477d-87ad-7dd127fb6641",
   "metadata": {},
   "outputs": [],
   "source": [
    "mutation_mapping_df[\"refseq_id\"] = mutation_mapping_df[\"protein_id\"].str.split(\"\\.\").str[0].values"
   ]
  },
  {
   "cell_type": "code",
   "execution_count": 30,
   "id": "fe937247-e893-463e-a601-4dec8139bb43",
   "metadata": {},
   "outputs": [
    {
     "data": {
      "text/html": [
       "<div>\n",
       "<style scoped>\n",
       "    .dataframe tbody tr th:only-of-type {\n",
       "        vertical-align: middle;\n",
       "    }\n",
       "\n",
       "    .dataframe tbody tr th {\n",
       "        vertical-align: top;\n",
       "    }\n",
       "\n",
       "    .dataframe thead th {\n",
       "        text-align: right;\n",
       "    }\n",
       "</style>\n",
       "<table border=\"1\" class=\"dataframe\">\n",
       "  <thead>\n",
       "    <tr style=\"text-align: right;\">\n",
       "      <th></th>\n",
       "      <th>hgvs</th>\n",
       "      <th>protein_id</th>\n",
       "      <th>mut</th>\n",
       "      <th>refseq_id</th>\n",
       "    </tr>\n",
       "  </thead>\n",
       "  <tbody>\n",
       "    <tr>\n",
       "      <th>0</th>\n",
       "      <td>NM_213720.2:c.8G&gt;T</td>\n",
       "      <td>NP_998885.1</td>\n",
       "      <td>R3L</td>\n",
       "      <td>NP_998885</td>\n",
       "    </tr>\n",
       "    <tr>\n",
       "      <th>1</th>\n",
       "      <td>NM_213720.2:c.8G&gt;C</td>\n",
       "      <td>NP_998885.1</td>\n",
       "      <td>R3P</td>\n",
       "      <td>NP_998885</td>\n",
       "    </tr>\n",
       "  </tbody>\n",
       "</table>\n",
       "</div>"
      ],
      "text/plain": [
       "                 hgvs   protein_id  mut  refseq_id\n",
       "0  NM_213720.2:c.8G>T  NP_998885.1  R3L  NP_998885\n",
       "1  NM_213720.2:c.8G>C  NP_998885.1  R3P  NP_998885"
      ]
     },
     "metadata": {},
     "output_type": "display_data"
    },
    {
     "name": "stdout",
     "output_type": "stream",
     "text": [
      "297364\n"
     ]
    }
   ],
   "source": [
    "display(mutation_mapping_df.head(2))\n",
    "print(len(mutation_mapping_df))"
   ]
  },
  {
   "cell_type": "code",
   "execution_count": 31,
   "id": "dbbc138b-5dc4-4edf-be10-204d30c9c5f6",
   "metadata": {},
   "outputs": [
    {
     "data": {
      "text/html": [
       "<div>\n",
       "<style scoped>\n",
       "    .dataframe tbody tr th:only-of-type {\n",
       "        vertical-align: middle;\n",
       "    }\n",
       "\n",
       "    .dataframe tbody tr th {\n",
       "        vertical-align: top;\n",
       "    }\n",
       "\n",
       "    .dataframe thead th {\n",
       "        text-align: right;\n",
       "    }\n",
       "</style>\n",
       "<table border=\"1\" class=\"dataframe\">\n",
       "  <thead>\n",
       "    <tr style=\"text-align: right;\">\n",
       "      <th></th>\n",
       "      <th>hgvs</th>\n",
       "      <th>protein_id</th>\n",
       "      <th>mut</th>\n",
       "      <th>refseq_id</th>\n",
       "    </tr>\n",
       "  </thead>\n",
       "  <tbody>\n",
       "    <tr>\n",
       "      <th>0</th>\n",
       "      <td>NM_213720.2:c.8G&gt;T</td>\n",
       "      <td>NP_998885.1</td>\n",
       "      <td>R3L</td>\n",
       "      <td>NP_998885</td>\n",
       "    </tr>\n",
       "    <tr>\n",
       "      <th>1</th>\n",
       "      <td>NM_213720.2:c.8G&gt;C</td>\n",
       "      <td>NP_998885.1</td>\n",
       "      <td>R3P</td>\n",
       "      <td>NP_998885</td>\n",
       "    </tr>\n",
       "  </tbody>\n",
       "</table>\n",
       "</div>"
      ],
      "text/plain": [
       "                 hgvs   protein_id  mut  refseq_id\n",
       "0  NM_213720.2:c.8G>T  NP_998885.1  R3L  NP_998885\n",
       "1  NM_213720.2:c.8G>C  NP_998885.1  R3P  NP_998885"
      ]
     },
     "metadata": {},
     "output_type": "display_data"
    },
    {
     "name": "stdout",
     "output_type": "stream",
     "text": [
      "270201\n"
     ]
    }
   ],
   "source": [
    "mutation_mapping_df = mutation_mapping_df[mutation_mapping_df[\"mut\"].str.contains(\"^[A-Z][0-9]+[A-Z]$\")]\n",
    "\n",
    "display(mutation_mapping_df.head(2))\n",
    "print(len(mutation_mapping_df))"
   ]
  },
  {
   "cell_type": "markdown",
   "id": "8e9aff59-5c77-4947-9d1e-a3214bc8025d",
   "metadata": {
    "tags": []
   },
   "source": [
    "## Map ENSP to UniProt"
   ]
  },
  {
   "cell_type": "markdown",
   "id": "879e54da-8d69-4709-9a20-f12aede47ddc",
   "metadata": {},
   "source": [
    "### Canonical (`uniprot_mapping_df`)"
   ]
  },
  {
   "cell_type": "code",
   "execution_count": 32,
   "id": "a2701dcf-95a9-4d59-bcbc-6fe03fef4660",
   "metadata": {},
   "outputs": [],
   "source": [
    "def map_refseq_to_uniprot(refseq_protein_ids):\n",
    "    from google.cloud import bigquery\n",
    "\n",
    "    sql_query = \"\"\"\\\n",
    "SELECT\n",
    "  refseq.db_id refseq_id,\n",
    "  human_uniprot.db_id uniprot_id\n",
    "FROM (\n",
    "  SELECT\n",
    "    uniparc_id,\n",
    "    db_id\n",
    "  FROM\n",
    "    `ostrokach-data.uniparc.xref`\n",
    "  WHERE\n",
    "    db_type = 'RefSeq') refseq\n",
    "JOIN (\n",
    "  SELECT\n",
    "    uniparc_id,\n",
    "    db_id\n",
    "  FROM\n",
    "    `ostrokach-data.uniparc.xref` xref\n",
    "  JOIN\n",
    "    `ostrokach-data.uniparc.ncbi_taxonomy_id` ncbi_taxonomy_id\n",
    "  USING\n",
    "    (uniparc_id,\n",
    "      xref_id)\n",
    "  WHERE\n",
    "    xref.db_type = 'UniProtKB/Swiss-Prot'\n",
    "    AND ncbi_taxonomy_id.value = 9606) human_uniprot\n",
    "USING\n",
    "  (uniparc_id)\n",
    "WHERE\n",
    "  refseq.db_id IN UNNEST(@refseq_ids);\n",
    "\"\"\"\n",
    "    job_config = bigquery.QueryJobConfig(\n",
    "        query_parameters=[\n",
    "            bigquery.ArrayQueryParameter(\"refseq_ids\", \"STRING\", refseq_protein_ids),\n",
    "        ]\n",
    "    )\n",
    "\n",
    "    client = bigquery.Client()\n",
    "    query_job = client.query(sql_query, job_config=job_config)\n",
    "    results_df = query_job.to_dataframe()\n",
    "\n",
    "    return results_df"
   ]
  },
  {
   "cell_type": "code",
   "execution_count": 33,
   "id": "a8e80c7f-675e-48be-aff4-10e65e906412",
   "metadata": {},
   "outputs": [],
   "source": [
    "uniprot_mapping_file = NOTEBOOK_DIR.joinpath(\"uniprot-mapping.parquet\")\n",
    "\n",
    "if uniprot_mapping_file.is_file():\n",
    "    uniprot_mapping_df = pq.read_table(uniprot_mapping_file).to_pandas()\n",
    "else:\n",
    "    refseq_protein_ids = mutation_mapping_df[\"refseq_id\"].unique().tolist()\n",
    "    uniprot_mapping_df = map_refseq_to_uniprot(refseq_protein_ids)\n",
    "    pq.write_table(\n",
    "        pa.Table.from_pandas(uniprot_mapping_df, preserve_index=False), uniprot_mapping_file\n",
    "    )"
   ]
  },
  {
   "cell_type": "code",
   "execution_count": 34,
   "id": "d2e1336d-0343-45d9-b8de-d51bf76d6c19",
   "metadata": {},
   "outputs": [
    {
     "data": {
      "text/plain": [
       "1923"
      ]
     },
     "execution_count": 34,
     "metadata": {},
     "output_type": "execute_result"
    }
   ],
   "source": [
    "len(set(mutation_mapping_df[\"refseq_id\"]) - set(uniprot_mapping_df[\"refseq_id\"]))"
   ]
  },
  {
   "cell_type": "markdown",
   "id": "702bbea4-aeb2-44f4-95d3-2f4757a5a1b4",
   "metadata": {},
   "source": [
    "### Non-canonical (`uniprot_mapping_noncanon_df`)"
   ]
  },
  {
   "cell_type": "code",
   "execution_count": 35,
   "id": "f4739106-41da-4d47-8ad0-7ee7ae38bce9",
   "metadata": {},
   "outputs": [],
   "source": [
    "def map_refseq_to_uniprot_noncanon(refseq_protein_ids):\n",
    "    from google.cloud import bigquery\n",
    "\n",
    "    sql_query = \"\"\"\\\n",
    "SELECT\n",
    "  refseq.db_id refseq_id,\n",
    "  human_uniprot.db_id uniprot_id,\n",
    "  uniparc.uniparc_id uniparc_id,\n",
    "  uniparc.sequence uniparc_sequence\n",
    "FROM (\n",
    "  SELECT\n",
    "    uniparc_id,\n",
    "    xref_id,\n",
    "    db_id\n",
    "  FROM\n",
    "    `ostrokach-data.uniparc.xref`\n",
    "  WHERE\n",
    "    db_type = 'RefSeq') refseq\n",
    "JOIN\n",
    "  `ostrokach-data.uniparc.uniparc` uniparc\n",
    "USING\n",
    "  (uniparc_id)\n",
    "JOIN\n",
    "  `ostrokach-data.uniparc.gene_name` gene_name_refseq\n",
    "USING\n",
    "  (uniparc_id,\n",
    "    xref_id)\n",
    "JOIN\n",
    "  `ostrokach-data.uniparc.gene_name` gene_name_uniprot\n",
    "ON\n",
    "  (gene_name_refseq.value = gene_name_uniprot.value)\n",
    "JOIN (\n",
    "  SELECT\n",
    "    uniparc_id,\n",
    "    xref_id,\n",
    "    db_id\n",
    "  FROM\n",
    "    `ostrokach-data.uniparc.xref` xref\n",
    "  JOIN\n",
    "    `ostrokach-data.uniparc.ncbi_taxonomy_id` ncbi_taxonomy_id\n",
    "  USING\n",
    "    (uniparc_id,\n",
    "      xref_id)\n",
    "  WHERE\n",
    "    xref.db_type = 'UniProtKB/Swiss-Prot'\n",
    "    AND ncbi_taxonomy_id.value = 9606) human_uniprot\n",
    "ON\n",
    "  (gene_name_uniprot.uniparc_id = human_uniprot.uniparc_id\n",
    "    AND gene_name_uniprot.xref_id = human_uniprot.xref_id)\n",
    "WHERE\n",
    "  refseq.db_id IN UNNEST(@refseq_ids);\n",
    "\"\"\"\n",
    "    job_config = bigquery.QueryJobConfig(\n",
    "        query_parameters=[\n",
    "            bigquery.ArrayQueryParameter(\"refseq_ids\", \"STRING\", refseq_protein_ids),\n",
    "        ]\n",
    "    )\n",
    "\n",
    "    client = bigquery.Client()\n",
    "    query_job = client.query(sql_query, job_config=job_config)\n",
    "    results_df = query_job.to_dataframe()\n",
    "\n",
    "    return results_df"
   ]
  },
  {
   "cell_type": "code",
   "execution_count": 36,
   "id": "9a616b6a-f717-44df-aa71-c67c958fc495",
   "metadata": {},
   "outputs": [],
   "source": [
    "uniprot_mapping_noncanon_file = NOTEBOOK_DIR.joinpath(\"uniprot-mapping-noncanon.parquet\")\n",
    "\n",
    "if uniprot_mapping_noncanon_file.is_file():\n",
    "    uniprot_mapping_noncanon_df = pq.read_table(uniprot_mapping_noncanon_file).to_pandas()\n",
    "else:\n",
    "    refseq_protein_ids = list(\n",
    "        set(mutation_mapping_df[\"refseq_id\"]) - set(uniprot_mapping_df[\"refseq_id\"])\n",
    "    )\n",
    "    uniprot_mapping_noncanon_df = map_refseq_to_uniprot_noncanon(refseq_protein_ids)\n",
    "    pq.write_table(\n",
    "        pa.Table.from_pandas(uniprot_mapping_noncanon_df, preserve_index=False),\n",
    "        uniprot_mapping_noncanon_file,\n",
    "    )"
   ]
  },
  {
   "cell_type": "code",
   "execution_count": 37,
   "id": "23da0cb3-5bb0-4d3d-906c-9be400598855",
   "metadata": {},
   "outputs": [
    {
     "data": {
      "text/plain": [
       "36"
      ]
     },
     "execution_count": 37,
     "metadata": {},
     "output_type": "execute_result"
    }
   ],
   "source": [
    "len(\n",
    "    set(mutation_mapping_df[\"refseq_id\"])\n",
    "    - set(uniprot_mapping_df[\"refseq_id\"])\n",
    "    - set(uniprot_mapping_noncanon_df[\"refseq_id\"])\n",
    ")"
   ]
  },
  {
   "cell_type": "code",
   "execution_count": 38,
   "id": "9172a755-ca0e-4f4e-9516-dc36281a3e50",
   "metadata": {},
   "outputs": [
    {
     "data": {
      "text/html": [
       "<div>\n",
       "<style scoped>\n",
       "    .dataframe tbody tr th:only-of-type {\n",
       "        vertical-align: middle;\n",
       "    }\n",
       "\n",
       "    .dataframe tbody tr th {\n",
       "        vertical-align: top;\n",
       "    }\n",
       "\n",
       "    .dataframe thead th {\n",
       "        text-align: right;\n",
       "    }\n",
       "</style>\n",
       "<table border=\"1\" class=\"dataframe\">\n",
       "  <thead>\n",
       "    <tr style=\"text-align: right;\">\n",
       "      <th></th>\n",
       "      <th>refseq_id</th>\n",
       "      <th>uniprot_id</th>\n",
       "      <th>uniparc_id</th>\n",
       "      <th>uniparc_sequence</th>\n",
       "    </tr>\n",
       "  </thead>\n",
       "  <tbody>\n",
       "    <tr>\n",
       "      <th>0</th>\n",
       "      <td>NP_002867</td>\n",
       "      <td>O43502</td>\n",
       "      <td>UPI000006DB00</td>\n",
       "      <td>MRGKTFRFEMQRDLVSFPLSPAVRVKLVSAGFQTAEELLEVKPSEL...</td>\n",
       "    </tr>\n",
       "    <tr>\n",
       "      <th>1</th>\n",
       "      <td>NP_056512</td>\n",
       "      <td>Q96H96</td>\n",
       "      <td>UPI0000D6158E</td>\n",
       "      <td>MTPISQVRMRKGSAHTAAQPGRLGLHPAGATAHACRGMTSIRARPG...</td>\n",
       "    </tr>\n",
       "  </tbody>\n",
       "</table>\n",
       "</div>"
      ],
      "text/plain": [
       "   refseq_id uniprot_id     uniparc_id  \\\n",
       "0  NP_002867     O43502  UPI000006DB00   \n",
       "1  NP_056512     Q96H96  UPI0000D6158E   \n",
       "\n",
       "                                    uniparc_sequence  \n",
       "0  MRGKTFRFEMQRDLVSFPLSPAVRVKLVSAGFQTAEELLEVKPSEL...  \n",
       "1  MTPISQVRMRKGSAHTAAQPGRLGLHPAGATAHACRGMTSIRARPG...  "
      ]
     },
     "metadata": {},
     "output_type": "display_data"
    },
    {
     "data": {
      "text/plain": [
       "1892"
      ]
     },
     "execution_count": 38,
     "metadata": {},
     "output_type": "execute_result"
    }
   ],
   "source": [
    "display(uniprot_mapping_noncanon_df.head(2))\n",
    "len(uniprot_mapping_noncanon_df)"
   ]
  },
  {
   "cell_type": "code",
   "execution_count": 39,
   "id": "5a24734d-9c13-4065-abef-7e2a15f658aa",
   "metadata": {},
   "outputs": [
    {
     "data": {
      "text/plain": [
       "['UPI000006DB00', 'UPI0000D6158E', 'UPI000002A8AB']"
      ]
     },
     "execution_count": 39,
     "metadata": {},
     "output_type": "execute_result"
    }
   ],
   "source": [
    "uniparc_sequence_lookup = (\n",
    "    uniprot_mapping_noncanon_df[[\"uniparc_id\", \"uniparc_sequence\"]]\n",
    "    .drop_duplicates()\n",
    "    .set_index(\"uniparc_id\")[\"uniparc_sequence\"]\n",
    "    .to_dict()\n",
    ")\n",
    "\n",
    "list(uniparc_sequence_lookup)[:3]"
   ]
  },
  {
   "cell_type": "markdown",
   "id": "b1fb1172-ea3a-4f31-b985-ea1cdd66459e",
   "metadata": {},
   "source": [
    "## Combine datasets (`combined_mapped_df`)"
   ]
  },
  {
   "cell_type": "code",
   "execution_count": 40,
   "id": "a2d8ad25-b824-4794-be76-3f96fc83f375",
   "metadata": {},
   "outputs": [],
   "source": [
    "combined_mapped_df = (\n",
    "    #\n",
    "    pd.concat([training_df, testing_df, validation_df], ignore_index=True)\n",
    "    #\n",
    "    .merge(mutation_mapping_df, on=[\"hgvs\"])\n",
    "    #\n",
    "    .merge(\n",
    "        pd.concat(\n",
    "            [uniprot_mapping_df, uniprot_mapping_noncanon_df.drop(\"uniparc_sequence\", axis=1)],\n",
    "            ignore_index=True,\n",
    "        ),\n",
    "        on=[\"refseq_id\"],\n",
    "    )\n",
    "    #\n",
    "    .dropna(subset=[\"uniprot_id\", \"mut\"])\n",
    ")"
   ]
  },
  {
   "cell_type": "code",
   "execution_count": 41,
   "id": "b694b74f-8b8f-44f0-8b7a-d65513208589",
   "metadata": {},
   "outputs": [
    {
     "data": {
      "text/html": [
       "<div>\n",
       "<style scoped>\n",
       "    .dataframe tbody tr th:only-of-type {\n",
       "        vertical-align: middle;\n",
       "    }\n",
       "\n",
       "    .dataframe tbody tr th {\n",
       "        vertical-align: top;\n",
       "    }\n",
       "\n",
       "    .dataframe thead th {\n",
       "        text-align: right;\n",
       "    }\n",
       "</style>\n",
       "<table border=\"1\" class=\"dataframe\">\n",
       "  <thead>\n",
       "    <tr style=\"text-align: right;\">\n",
       "      <th></th>\n",
       "      <th>chr</th>\n",
       "      <th>pos</th>\n",
       "      <th>ref</th>\n",
       "      <th>alt</th>\n",
       "      <th>hgvs</th>\n",
       "      <th>interpretation</th>\n",
       "      <th>Subcategory Missense</th>\n",
       "      <th>Subcategory Small intronic deletion or insertion</th>\n",
       "      <th>Subcategory Small exonic in-frame deletion or insertion</th>\n",
       "      <th>hgvs_g</th>\n",
       "      <th>protein_id</th>\n",
       "      <th>mut</th>\n",
       "      <th>refseq_id</th>\n",
       "      <th>uniprot_id</th>\n",
       "      <th>uniparc_id</th>\n",
       "    </tr>\n",
       "  </thead>\n",
       "  <tbody>\n",
       "    <tr>\n",
       "      <th>0</th>\n",
       "      <td>1</td>\n",
       "      <td>861332.0</td>\n",
       "      <td>G</td>\n",
       "      <td>A</td>\n",
       "      <td>NM_152486.2:c.11G&gt;A</td>\n",
       "      <td>Uncertain significance</td>\n",
       "      <td>True</td>\n",
       "      <td>False</td>\n",
       "      <td>False</td>\n",
       "      <td>NaN</td>\n",
       "      <td>NP_689699.2</td>\n",
       "      <td>G4E</td>\n",
       "      <td>NP_689699</td>\n",
       "      <td>Q96NU1</td>\n",
       "      <td>NaN</td>\n",
       "    </tr>\n",
       "    <tr>\n",
       "      <th>1</th>\n",
       "      <td>1</td>\n",
       "      <td>865568.0</td>\n",
       "      <td>G</td>\n",
       "      <td>A</td>\n",
       "      <td>NM_152486.2:c.106G&gt;A</td>\n",
       "      <td>Uncertain significance</td>\n",
       "      <td>True</td>\n",
       "      <td>False</td>\n",
       "      <td>False</td>\n",
       "      <td>NaN</td>\n",
       "      <td>NP_689699.2</td>\n",
       "      <td>A36T</td>\n",
       "      <td>NP_689699</td>\n",
       "      <td>Q96NU1</td>\n",
       "      <td>NaN</td>\n",
       "    </tr>\n",
       "  </tbody>\n",
       "</table>\n",
       "</div>"
      ],
      "text/plain": [
       "  chr       pos ref alt                  hgvs          interpretation  \\\n",
       "0   1  861332.0   G   A   NM_152486.2:c.11G>A  Uncertain significance   \n",
       "1   1  865568.0   G   A  NM_152486.2:c.106G>A  Uncertain significance   \n",
       "\n",
       "  Subcategory Missense Subcategory Small intronic deletion or insertion  \\\n",
       "0                 True                                            False   \n",
       "1                 True                                            False   \n",
       "\n",
       "  Subcategory Small exonic in-frame deletion or insertion hgvs_g   protein_id  \\\n",
       "0                                              False         NaN  NP_689699.2   \n",
       "1                                              False         NaN  NP_689699.2   \n",
       "\n",
       "    mut  refseq_id uniprot_id uniparc_id  \n",
       "0   G4E  NP_689699     Q96NU1        NaN  \n",
       "1  A36T  NP_689699     Q96NU1        NaN  "
      ]
     },
     "metadata": {},
     "output_type": "display_data"
    },
    {
     "name": "stdout",
     "output_type": "stream",
     "text": [
      "279662\n"
     ]
    }
   ],
   "source": [
    "display(combined_mapped_df.head(2))\n",
    "print(len(combined_mapped_df))"
   ]
  },
  {
   "cell_type": "code",
   "execution_count": 42,
   "id": "9310dd33-1514-40b7-b320-586e030c6012",
   "metadata": {},
   "outputs": [
    {
     "data": {
      "text/plain": [
       "0.0017913636928801352"
      ]
     },
     "execution_count": 42,
     "metadata": {},
     "output_type": "execute_result"
    }
   ],
   "source": [
    "len(set(training_df[\"hgvs\"]) - set(combined_mapped_df[\"hgvs\"])) / len(set(training_df[\"hgvs\"]))"
   ]
  },
  {
   "cell_type": "code",
   "execution_count": 43,
   "id": "12b1ffea-b7cf-4878-89ea-f8be641ab2a9",
   "metadata": {},
   "outputs": [
    {
     "data": {
      "text/plain": [
       "0.003333121032630618"
      ]
     },
     "execution_count": 43,
     "metadata": {},
     "output_type": "execute_result"
    }
   ],
   "source": [
    "len(set(testing_df[\"hgvs\"]) - set(combined_mapped_df[\"hgvs\"])) / len(set(testing_df[\"hgvs\"]))"
   ]
  },
  {
   "cell_type": "markdown",
   "id": "d75fbe58-1c58-4842-9760-0e2125f3b3a2",
   "metadata": {},
   "source": [
    "## Download sequences (`uniprot_sequences_df`)"
   ]
  },
  {
   "cell_type": "code",
   "execution_count": 44,
   "id": "fd5639a7-de7c-4643-aa04-6cedbf922565",
   "metadata": {},
   "outputs": [
    {
     "data": {
      "text/plain": [
       "'MSKGILQVHPPICDCPGCRISSPVNRGRLADKRTVALPAARNLKKERTPSFSASDGDSDGSGPTCGRRPGLKQEDGPHIRIMKRRVHTHWDVNISFREASCSQDGNLPTLISSVHRSRHLVMPEHQSRCEFQRGSLEIGLRPAGDLLGKRLGRSPRISSDCFSEKRARSESPQEALLLPRELGPSMAPEDHYRRLVSALSEASTFEDPQRLYHLGLPSHGEDPPWHDPPHHLPSHDLLRVRQEVAAAALRGPSGLEAHLPSSTAGQRRKQGLAQHREGAAPAAAPSFSERELPQPPPLLSPQNAPHVALGPHLRPPFLGVPSALCQTPGYGFLPPAQAEMFAWQQELLRKQNLARLELPADLLRQKELESARPQLLAPETALRPNDGAEELQRRGALLVLNHGAAPLLALPPQGPPGSGPPTPSRDSARRAPRKGGPGPASARPSESKEMTGARLWAQDGSEDEPPKDSDGEDPETAAVGCRGPTPGQAPAGGAGAEGKGLFPGSTLPLGFPYAVSPYFHTGAVGGLSMDGEEAPAPEDVTKWTVDDVCSFVGGLSGCGEYTRVFREQGIDGETLPLLTEEHLLTNMGLKLGPALKIRAQVARRLGRVFYVASFPVALPLQPPTLRAPERELGTGEQPLSPTTATSPYGGGHALAGQTSPKQENGTLALLPGAPDPSQPLC'"
      ]
     },
     "execution_count": 44,
     "metadata": {},
     "output_type": "execute_result"
    }
   ],
   "source": [
    "def download_sequence(uniprot_id):\n",
    "    if uniprot_id in [\"Q9Y2G2\"]:\n",
    "        uniprot_id = f\"{uniprot_id}-1\"\n",
    "\n",
    "    with urllib.request.urlopen(f\"https://www.uniprot.org/uniprot/{uniprot_id}.fasta\") as f:\n",
    "        data = f.read().decode(\"utf-8\")\n",
    "    chunks = []\n",
    "    for line in data.split(\"\\n\"):\n",
    "        if line.startswith(\">\"):\n",
    "            continue\n",
    "        chunks.append(line.strip())\n",
    "    sequence = \"\".join(chunks)\n",
    "\n",
    "    if uniprot_id == \"P11586\":\n",
    "        sequence_lst = list(sequence)\n",
    "        assert sequence_lst[133] == \"K\"\n",
    "        sequence_lst[133] = \"R\"\n",
    "        sequence = \"\".join(sequence_lst)\n",
    "\n",
    "    return sequence\n",
    "\n",
    "\n",
    "download_sequence(\"Q96NU1\")"
   ]
  },
  {
   "cell_type": "code",
   "execution_count": 45,
   "id": "9ed47eaf-5319-4515-995c-ffc8b483595e",
   "metadata": {},
   "outputs": [],
   "source": [
    "uniprot_sequences_file = NOTEBOOK_DIR.joinpath(\"uniprot-sequences.parquet\")\n",
    "\n",
    "if uniprot_sequences_file.is_file():\n",
    "    uniprot_sequences_df = pq.read_table(uniprot_sequences_file).to_pandas()\n",
    "else:\n",
    "    with concurrent.futures.ThreadPoolExecutor(20) as pool:\n",
    "        uniprot_ids = combined_mapped_df[\"uniprot_id\"].unique()\n",
    "        sequences = list(tqdm(pool.map(download_sequence, uniprot_ids), total=len(uniprot_ids)))\n",
    "        uniprot_sequences_df = pd.DataFrame({\"uniprot_id\": uniprot_ids, \"sequence\": sequences})\n",
    "    pq.write_table(\n",
    "        pa.Table.from_pandas(uniprot_sequences_df, preserve_index=False), uniprot_sequences_file\n",
    "    )"
   ]
  },
  {
   "cell_type": "code",
   "execution_count": 46,
   "id": "f359cba7-424a-41c5-8640-9d8f7945d860",
   "metadata": {},
   "outputs": [],
   "source": [
    "assert uniprot_sequences_df[\"sequence\"].notnull().all()\n",
    "assert (uniprot_sequences_df[\"sequence\"] != \"\").all()"
   ]
  },
  {
   "cell_type": "code",
   "execution_count": 47,
   "id": "b3cc6aa7-49af-48cf-bb1f-508a022d7e4a",
   "metadata": {},
   "outputs": [
    {
     "data": {
      "text/plain": [
       "['Q96NU1', 'P05161', 'O00468']"
      ]
     },
     "execution_count": 47,
     "metadata": {},
     "output_type": "execute_result"
    }
   ],
   "source": [
    "uniprot_sequence_lookup = (\n",
    "    uniprot_sequences_df[[\"uniprot_id\", \"sequence\"]]\n",
    "    .drop_duplicates()\n",
    "    .set_index(\"uniprot_id\")[\"sequence\"]\n",
    "    .to_dict()\n",
    ")\n",
    "\n",
    "list(uniprot_sequence_lookup)[:3]"
   ]
  },
  {
   "cell_type": "markdown",
   "id": "33337996-997a-403b-9f15-bd472a3fee12",
   "metadata": {},
   "source": [
    "## Download structures (`uniprot_structures_df`)"
   ]
  },
  {
   "cell_type": "code",
   "execution_count": 48,
   "id": "d489e64d-e8d7-4005-9af1-5e018231f594",
   "metadata": {},
   "outputs": [
    {
     "data": {
      "text/plain": [
       "'HEADER              '"
      ]
     },
     "execution_count": 48,
     "metadata": {},
     "output_type": "execute_result"
    }
   ],
   "source": [
    "def download_structure(uniprot_id):\n",
    "    try:\n",
    "        with urllib.request.urlopen(\n",
    "            f\"https://alphafold.ebi.ac.uk/files/AF-{uniprot_id}-F1-model_v1.pdb\"\n",
    "        ) as f:\n",
    "            data = f.read().decode(\"utf-8\")\n",
    "    except urllib.error.HTTPError as error:\n",
    "        if error.code == 404:\n",
    "            return None\n",
    "        raise\n",
    "    return data\n",
    "\n",
    "\n",
    "download_structure(\"Q96NU1\")[:20]"
   ]
  },
  {
   "cell_type": "code",
   "execution_count": 49,
   "id": "d3eb3aad-ad90-4991-8c6b-ed5f6f3960d9",
   "metadata": {},
   "outputs": [],
   "source": [
    "download_structure(\"asdf\")"
   ]
  },
  {
   "cell_type": "code",
   "execution_count": 50,
   "id": "9caa18f0-0bab-49d4-b9d8-58b0fff5c42f",
   "metadata": {},
   "outputs": [],
   "source": [
    "uniprot_structures_file = NOTEBOOK_DIR.joinpath(\"uniprot-structures.parquet\")\n",
    "\n",
    "if uniprot_structures_file.is_file():\n",
    "    uniprot_structures_df = pq.read_table(uniprot_structures_file).to_pandas()\n",
    "else:\n",
    "    with concurrent.futures.ThreadPoolExecutor(20) as pool:\n",
    "        uniprot_ids = combined_mapped_df[\"uniprot_id\"].unique()\n",
    "        structures = list(tqdm(pool.map(download_structure, uniprot_ids), total=len(uniprot_ids)))\n",
    "        uniprot_structures_df = pd.DataFrame({\"uniprot_id\": uniprot_ids, \"structure\": structures})\n",
    "    pq.write_table(\n",
    "        pa.Table.from_pandas(uniprot_structures_df, preserve_index=False), uniprot_structures_file\n",
    "    )"
   ]
  },
  {
   "cell_type": "code",
   "execution_count": 51,
   "id": "09da9e22-3f9c-40fe-9476-b130e522fb9d",
   "metadata": {},
   "outputs": [
    {
     "data": {
      "text/plain": [
       "0.9014127764127764"
      ]
     },
     "execution_count": 51,
     "metadata": {},
     "output_type": "execute_result"
    }
   ],
   "source": [
    "uniprot_structures_df[\"structure\"].notnull().sum() / len(uniprot_structures_df)"
   ]
  },
  {
   "cell_type": "code",
   "execution_count": 52,
   "id": "942157f6-d6d7-4ec4-ba56-820f97ce5a63",
   "metadata": {},
   "outputs": [],
   "source": [
    "uniprot_structures_df = uniprot_structures_df[uniprot_structures_df[\"structure\"].notnull()]"
   ]
  },
  {
   "cell_type": "code",
   "execution_count": 53,
   "id": "26e4a7ed-a4bb-4c0a-81d9-c2da84b9b310",
   "metadata": {},
   "outputs": [
    {
     "data": {
      "text/plain": [
       "['Q96NU1', 'P05161', 'O00468']"
      ]
     },
     "execution_count": 53,
     "metadata": {},
     "output_type": "execute_result"
    }
   ],
   "source": [
    "uniprot_structure_lookup = (\n",
    "    uniprot_structures_df[[\"uniprot_id\", \"structure\"]]\n",
    "    .drop_duplicates()\n",
    "    .set_index(\"uniprot_id\")[\"structure\"]\n",
    "    .to_dict()\n",
    ")\n",
    "\n",
    "list(uniprot_structure_lookup)[:3]"
   ]
  },
  {
   "cell_type": "markdown",
   "id": "a300bff2-d55b-48c0-9f2b-93ddde61bc83",
   "metadata": {},
   "source": [
    "## Download alignments (`uniprot_alignments_df`)"
   ]
  },
  {
   "cell_type": "code",
   "execution_count": 54,
   "id": "444c8efe-8ce2-4374-a71a-c8cea4615e78",
   "metadata": {},
   "outputs": [
    {
     "data": {
      "text/plain": [
       "PosixPath('/home/kimlab5/strokach/workspace/elaspic/elaspic2-cagi6/notebooks/30_cagi6_sherloc/mmseqs2')"
      ]
     },
     "execution_count": 54,
     "metadata": {},
     "output_type": "execute_result"
    }
   ],
   "source": [
    "mmseqs2_output_path = NOTEBOOK_DIR.joinpath(\"mmseqs2\")\n",
    "\n",
    "mmseqs2_output_path"
   ]
  },
  {
   "cell_type": "code",
   "execution_count": 55,
   "id": "d78e0767-5db8-4540-ad51-5255c5552875",
   "metadata": {},
   "outputs": [],
   "source": [
    "def get_alignment(uniprot_id, sequence, gateway):\n",
    "    while True:\n",
    "        try:\n",
    "            alignment = mmseqs2.run_mmseqs2([sequence], gateway=gateway)[0]\n",
    "            break\n",
    "        except Exception as e:\n",
    "            print(e)\n",
    "            time.sleep(10)\n",
    "            continue\n",
    "    assert alignment[1] == f\"{sequence}\\n\"\n",
    "    result = {\"uniprot_id\": uniprot_id, \"alignment\": alignment}\n",
    "\n",
    "    with gzip.open(mmseqs2_output_path.joinpath(f\"{uniprot_id}.pickle.gz\"), \"wb\") as fout:\n",
    "        pickle.dump(result, fout, pickle.HIGHEST_PROTOCOL)\n",
    "\n",
    "    return result"
   ]
  },
  {
   "cell_type": "code",
   "execution_count": 56,
   "id": "d7df4d4b-2cac-43c9-b3c9-9b91907e2f3e",
   "metadata": {},
   "outputs": [],
   "source": [
    "def iter_alignments(mmseqs2_output_path):\n",
    "    for file in tqdm(os.listdir(mmseqs2_output_path)):\n",
    "        uniprot_id = file.split(\".\")[0]\n",
    "        with gzip.open(mmseqs2_output_path.joinpath(file)) as fin:\n",
    "            try:\n",
    "                data = pickle.load(fin)\n",
    "            except Exception as ie:\n",
    "                print(e)\n",
    "                continue\n",
    "        assert data[\"uniprot_id\"] == uniprot_id\n",
    "        assert len(data[\"alignment\"]) > 2\n",
    "        yield data"
   ]
  },
  {
   "cell_type": "code",
   "execution_count": 57,
   "id": "fe88e5a3-ceec-4129-91c6-19740032823f",
   "metadata": {},
   "outputs": [],
   "source": [
    "uniprot_alignments_file = NOTEBOOK_DIR.joinpath(\"uniprot-alignments.parquet\")\n",
    "\n",
    "if uniprot_alignments_file.is_file():\n",
    "    uniprot_alignments_df = pq.read_table(uniprot_alignments_file).to_pandas()\n",
    "else:\n",
    "    writer = None\n",
    "    batch_size = 100\n",
    "    for alignment_batch in more_itertools.chunked(iter_alignments(mmseqs2_output_path), batch_size):\n",
    "        alignment_batch_df = pd.DataFrame(alignment_batch)\n",
    "        table = pa.Table.from_pandas(alignment_batch_df, preserve_index=False)\n",
    "        if writer is None:\n",
    "            writer = pq.ParquetWriter(uniprot_alignments_file, table.schema, compression=\"zstd\")\n",
    "        writer.write_table(table)\n",
    "    writer.close()\n",
    "\n",
    "uniprot_alignments_df[\"have_alignment\"] = True"
   ]
  },
  {
   "cell_type": "code",
   "execution_count": 58,
   "id": "a2bfa534-33a7-46b3-b892-22613d2a7863",
   "metadata": {},
   "outputs": [
    {
     "data": {
      "text/html": [
       "<div>\n",
       "<style scoped>\n",
       "    .dataframe tbody tr th:only-of-type {\n",
       "        vertical-align: middle;\n",
       "    }\n",
       "\n",
       "    .dataframe tbody tr th {\n",
       "        vertical-align: top;\n",
       "    }\n",
       "\n",
       "    .dataframe thead th {\n",
       "        text-align: right;\n",
       "    }\n",
       "</style>\n",
       "<table border=\"1\" class=\"dataframe\">\n",
       "  <thead>\n",
       "    <tr style=\"text-align: right;\">\n",
       "      <th></th>\n",
       "      <th>uniprot_id</th>\n",
       "      <th>sequence</th>\n",
       "      <th>sequence_length</th>\n",
       "    </tr>\n",
       "  </thead>\n",
       "  <tbody>\n",
       "    <tr>\n",
       "      <th>436</th>\n",
       "      <td>P50461</td>\n",
       "      <td>MPNWGGGAKCGACEKTVYHAEEIQCNGRSFHKTCFHCMACRKALDS...</td>\n",
       "      <td>194</td>\n",
       "    </tr>\n",
       "    <tr>\n",
       "      <th>1556</th>\n",
       "      <td>Q8WZ42</td>\n",
       "      <td>MTTQAPTFTQPLQSVVVLEGSTATFEAHISGFPVPEVSWFRDGQVI...</td>\n",
       "      <td>34350</td>\n",
       "    </tr>\n",
       "  </tbody>\n",
       "</table>\n",
       "</div>"
      ],
      "text/plain": [
       "     uniprot_id                                           sequence  \\\n",
       "436      P50461  MPNWGGGAKCGACEKTVYHAEEIQCNGRSFHKTCFHCMACRKALDS...   \n",
       "1556     Q8WZ42  MTTQAPTFTQPLQSVVVLEGSTATFEAHISGFPVPEVSWFRDGQVI...   \n",
       "\n",
       "      sequence_length  \n",
       "436               194  \n",
       "1556            34350  "
      ]
     },
     "metadata": {},
     "output_type": "display_data"
    },
    {
     "name": "stdout",
     "output_type": "stream",
     "text": [
      "2\n"
     ]
    }
   ],
   "source": [
    "uniprot_sequences_for_aln_df = uniprot_sequences_df[\n",
    "    ~uniprot_sequences_df[\"uniprot_id\"].isin(uniprot_alignments_df[\"uniprot_id\"].values)\n",
    "]\n",
    "\n",
    "uniprot_sequences_for_aln_df[\"sequence_length\"] = uniprot_sequences_for_aln_df[\"sequence\"].str.len()\n",
    "uniprot_sequences_for_aln_df = uniprot_sequences_for_aln_df.sort_values(\n",
    "    \"sequence_length\", ascending=True\n",
    ")\n",
    "\n",
    "display(uniprot_sequences_for_aln_df)\n",
    "print(len(uniprot_sequences_for_aln_df))"
   ]
  },
  {
   "cell_type": "code",
   "execution_count": 59,
   "id": "fb0d142a-2897-4091-a993-ba8efbab83b0",
   "metadata": {},
   "outputs": [],
   "source": [
    "if len(uniprot_sequences_for_aln_df) > 2:\n",
    "    from elaspic2.plugins.alphafold import mmseqs2\n",
    "\n",
    "    dotenv.load_dotenv(\"../.env\")\n",
    "    with mmseqs2.api_gateway(mmseqs2.MMSEQS2_HOST_URL) as gateway:\n",
    "        concurrency = 64\n",
    "        with concurrent.futures.ThreadPoolExecutor(concurrency) as pool:\n",
    "            alignments = list(\n",
    "                tqdm(\n",
    "                    pool.map(\n",
    "                        get_alignment,\n",
    "                        uniprot_sequences_for_aln_df[\"uniprot_id\"],\n",
    "                        uniprot_sequences_for_aln_df[\"sequence\"],\n",
    "                        itertools.repeat(gateway),\n",
    "                    ),\n",
    "                    total=len(uniprot_sequences_for_aln_df),\n",
    "                )\n",
    "            )"
   ]
  },
  {
   "cell_type": "markdown",
   "id": "c4f1d8a4-556c-47f9-8c01-23d34d4a183a",
   "metadata": {},
   "source": [
    "## Map mutations to canonical uniprot (`combined_mapped_validated_df`)"
   ]
  },
  {
   "cell_type": "code",
   "execution_count": 60,
   "id": "a44ec747-b90e-474d-86d9-01fc1555b1da",
   "metadata": {},
   "outputs": [
    {
     "data": {
      "text/plain": [
       "True"
      ]
     },
     "execution_count": 60,
     "metadata": {},
     "output_type": "execute_result"
    }
   ],
   "source": [
    "def mutation_matches_sequence(mutation, sequence):\n",
    "    wt, pos, mut = mutation[0], mutation[1:-1], mutation[-1]\n",
    "    try:\n",
    "        pos = int(pos)\n",
    "    except Exception as e:\n",
    "        return False\n",
    "    if pos > len(sequence):\n",
    "        return False\n",
    "    return sequence[pos - 1] == wt\n",
    "\n",
    "\n",
    "mutation_matches_sequence(\"A5C\", \"XXXXA\")"
   ]
  },
  {
   "cell_type": "code",
   "execution_count": 61,
   "id": "544e11d7-0ab3-4782-9067-9f13d4d28f98",
   "metadata": {},
   "outputs": [],
   "source": [
    "combined_mapped_canonical_all_df = combined_mapped_df[combined_mapped_df[\"uniparc_id\"].isnull()]\n",
    "\n",
    "combined_mapped_noncanonical_all_df = combined_mapped_df[combined_mapped_df[\"uniparc_id\"].notnull()]\n",
    "\n",
    "assert len(combined_mapped_df) == len(combined_mapped_canonical_all_df) + len(\n",
    "    combined_mapped_noncanonical_all_df\n",
    ")"
   ]
  },
  {
   "cell_type": "code",
   "execution_count": 62,
   "id": "b578bc0a-64ff-4810-bb80-35deac1f04e6",
   "metadata": {},
   "outputs": [
    {
     "data": {
      "text/plain": [
       "0.9983728749185359"
      ]
     },
     "execution_count": 62,
     "metadata": {},
     "output_type": "execute_result"
    }
   ],
   "source": [
    "matches = np.array(\n",
    "    [\n",
    "        mutation_matches_sequence(mut, uniprot_sequence_lookup[uniprot_id])\n",
    "        for mut, uniprot_id in combined_mapped_canonical_all_df[[\"mut\", \"uniprot_id\"]].values\n",
    "    ]\n",
    ")\n",
    "\n",
    "combined_mapped_canonical_df = combined_mapped_canonical_all_df[matches]\n",
    "\n",
    "len(combined_mapped_canonical_df) / len(combined_mapped_canonical_all_df)"
   ]
  },
  {
   "cell_type": "code",
   "execution_count": 63,
   "id": "bee7e399-03c7-46ad-8d22-bf2a05ebe7a7",
   "metadata": {},
   "outputs": [
    {
     "data": {
      "text/plain": [
       "0.9610340873553633"
      ]
     },
     "execution_count": 63,
     "metadata": {},
     "output_type": "execute_result"
    }
   ],
   "source": [
    "matches = np.array(\n",
    "    [\n",
    "        mutation_matches_sequence(mut, uniparc_sequence_lookup[uniparc_id])\n",
    "        for mut, uniparc_id in combined_mapped_noncanonical_all_df[[\"mut\", \"uniparc_id\"]].values\n",
    "    ]\n",
    ")\n",
    "\n",
    "combined_mapped_noncanonical_df = combined_mapped_noncanonical_all_df[matches]\n",
    "\n",
    "len(combined_mapped_noncanonical_df) / len(combined_mapped_noncanonical_all_df)"
   ]
  },
  {
   "cell_type": "code",
   "execution_count": 64,
   "id": "d47721e1-2112-48a4-bc40-2a606feb957c",
   "metadata": {},
   "outputs": [],
   "source": [
    "uniparc_to_uniprot_alignment_file = NOTEBOOK_DIR.joinpath(\"uniparc-to_uniprot-alignment.parquet\")\n",
    "\n",
    "if uniparc_to_uniprot_alignment_file.is_file():\n",
    "    uniparc_to_uniprot_alignment_df = pq.read_table(uniparc_to_uniprot_alignment_file).to_pandas()\n",
    "else:\n",
    "    from kmtools import sequence_tools\n",
    "\n",
    "    uniparc_and_uniprot_pairs = combined_mapped_noncanonical_df[\n",
    "        [\"uniparc_id\", \"uniprot_id\"]\n",
    "    ].drop_duplicates()\n",
    "\n",
    "    with concurrent.futures.ThreadPoolExecutor(CPU_COUNT) as pool:\n",
    "        alignments = list(\n",
    "            tqdm(\n",
    "                pool.map(\n",
    "                    sequence_tools.align_pairwise,\n",
    "                    (\n",
    "                        uniparc_sequence_lookup[id_]\n",
    "                        for id_ in uniparc_and_uniprot_pairs[\"uniparc_id\"]\n",
    "                    ),\n",
    "                    (\n",
    "                        uniprot_sequence_lookup[id_]\n",
    "                        for id_ in uniparc_and_uniprot_pairs[\"uniprot_id\"]\n",
    "                    ),\n",
    "                ),\n",
    "                total=len(uniparc_and_uniprot_pairs),\n",
    "            )\n",
    "        )\n",
    "\n",
    "    uniparc_to_uniprot_alignment_df = pd.DataFrame(\n",
    "        [\n",
    "            (uniparc_id, uniprot_id, *alignment)\n",
    "            for (uniparc_id, uniprot_id), alignment in zip(\n",
    "                uniparc_and_uniprot_pairs.values, alignments\n",
    "            )\n",
    "        ],\n",
    "        columns=[\"uniparc_id\", \"uniprot_id\", \"uniparc_sequence_aln\", \"uniprot_sequence_aln\"],\n",
    "    )\n",
    "    pq.write_table(\n",
    "        pa.Table.from_pandas(uniparc_to_uniprot_alignment_df, preserve_index=False),\n",
    "        uniparc_to_uniprot_alignment_file,\n",
    "    )"
   ]
  },
  {
   "cell_type": "code",
   "execution_count": 65,
   "id": "e5ffdfea-2332-4c15-8395-435bef24c478",
   "metadata": {},
   "outputs": [
    {
     "data": {
      "text/plain": [
       "[('UPI00001D7C8B', 'O00468'),\n",
       " ('UPI000013D455', 'O14640'),\n",
       " ('UPI000002B0DD', 'O60683')]"
      ]
     },
     "execution_count": 65,
     "metadata": {},
     "output_type": "execute_result"
    }
   ],
   "source": [
    "uniparc_to_uniprot_alignment_lookup = (\n",
    "    uniparc_to_uniprot_alignment_df.set_index([\"uniparc_id\", \"uniprot_id\"])\n",
    "    .apply(tuple, axis=1)\n",
    "    .to_dict()\n",
    ")\n",
    "\n",
    "assert len(uniparc_to_uniprot_alignment_df) == len(uniparc_to_uniprot_alignment_lookup)\n",
    "\n",
    "list(uniparc_to_uniprot_alignment_lookup)[:3]"
   ]
  },
  {
   "cell_type": "code",
   "execution_count": 66,
   "id": "8c648be9-e1ae-47be-897e-b394c8e6d0fa",
   "metadata": {},
   "outputs": [],
   "source": [
    "def map_mutation(mutation, alignment):\n",
    "    seq1, seq2 = alignment\n",
    "    assert len(seq1) == len(seq2)\n",
    "\n",
    "    wt, pos, mut = mutation[0], mutation[1:-1], mutation[-1]\n",
    "    pos = int(pos)\n",
    "    assert len(seq1) >= pos\n",
    "\n",
    "    pos1 = 0\n",
    "    pos2 = 0\n",
    "    for aa1, aa2 in zip(seq1, seq2):\n",
    "        if aa1 != \"-\":\n",
    "            pos1 += 1\n",
    "        if aa2 != \"-\":\n",
    "            pos2 += 1\n",
    "        if pos1 == pos and wt == aa2:\n",
    "            return f\"{wt}{pos2}{mut}\""
   ]
  },
  {
   "cell_type": "code",
   "execution_count": 67,
   "id": "d9362794-2b08-4706-862b-9856bc753b48",
   "metadata": {},
   "outputs": [],
   "source": [
    "combined_mapped_noncanonical_df[\"mut_uniprot\"] = [\n",
    "    map_mutation(mutation, uniparc_to_uniprot_alignment_lookup[(uniparc_id, uniprot_id)])\n",
    "    for mutation, uniparc_id, uniprot_id in combined_mapped_noncanonical_df[\n",
    "        [\"mut\", \"uniparc_id\", \"uniprot_id\"]\n",
    "    ].values\n",
    "]"
   ]
  },
  {
   "cell_type": "code",
   "execution_count": 68,
   "id": "b7283ce9-d8c2-45c0-8cac-71b4860316bb",
   "metadata": {},
   "outputs": [
    {
     "data": {
      "text/plain": [
       "0.9699106213120444"
      ]
     },
     "execution_count": 68,
     "metadata": {},
     "output_type": "execute_result"
    }
   ],
   "source": [
    "combined_mapped_noncanonical_df[\"mut_uniprot\"].notnull().sum() / len(combined_mapped_noncanonical_df)"
   ]
  },
  {
   "cell_type": "code",
   "execution_count": 69,
   "id": "250fbf94-0c0b-4266-b15f-0a45e8b5641c",
   "metadata": {},
   "outputs": [],
   "source": [
    "combined_mapped_validated_df = pd.concat(\n",
    "    [\n",
    "        combined_mapped_canonical_df,\n",
    "        combined_mapped_noncanonical_df.rename(\n",
    "            columns={\"mut\": \"mut_uniparc\", \"mut_uniprot\": \"mut\"}\n",
    "        ).dropna(subset=[\"mut\"]),\n",
    "    ],\n",
    "    ignore_index=True,\n",
    ")"
   ]
  },
  {
   "cell_type": "code",
   "execution_count": 70,
   "id": "aaa336a9-216a-472a-ad9e-2b892403f32f",
   "metadata": {},
   "outputs": [
    {
     "name": "stdout",
     "output_type": "stream",
     "text": [
      "0.9870093183914869\n",
      "0.9876785224602933\n",
      "0.9723953695458593\n"
     ]
    }
   ],
   "source": [
    "print(len(combined_mapped_validated_df) / len(combined_mapped_df))\n",
    "print(len(combined_mapped_validated_df[\"hgvs\"].unique()) / len(combined_mapped_df[\"hgvs\"].unique()))\n",
    "print(\n",
    "    len(combined_mapped_validated_df[\"hgvs_g\"].unique())\n",
    "    / len(combined_mapped_df[\"hgvs_g\"].unique())\n",
    ")\n",
    "# 0.9870093183914869\n",
    "# 0.9876785224602933\n",
    "# 0.9723953695458593"
   ]
  },
  {
   "cell_type": "code",
   "execution_count": 71,
   "id": "8545c55f-599f-412d-8759-932edf276df0",
   "metadata": {},
   "outputs": [],
   "source": [
    "assert len(combined_mapped_validated_df) == len(\n",
    "    combined_mapped_validated_df.drop_duplicates(subset=[\"hgvs\", \"hgvs_g\", \"uniprot_id\"])\n",
    ")"
   ]
  },
  {
   "cell_type": "markdown",
   "id": "99f3c668-f1ed-46e4-9557-4cc613fc4ddf",
   "metadata": {},
   "source": [
    "## Finalize data"
   ]
  },
  {
   "cell_type": "code",
   "execution_count": 72,
   "id": "7c358c83-da55-4f09-b596-5a9a17695c80",
   "metadata": {},
   "outputs": [
    {
     "data": {
      "text/plain": [
       "False"
      ]
     },
     "execution_count": 72,
     "metadata": {},
     "output_type": "execute_result"
    }
   ],
   "source": [
    "def load_structure_blob(structure_blob):\n",
    "    with tempfile.NamedTemporaryFile(suffix=\".pdb\") as tmp_file:\n",
    "        with open(tmp_file.name, \"wt\") as fout:\n",
    "            fout.write(structure_blob)\n",
    "        structure = PDB.load(tmp_file.name)\n",
    "    return structure\n",
    "\n",
    "def sequence_matches_structure(sequence, structure_blob):\n",
    "    structure = load_structure_blob(structure_blob)\n",
    "    sequence_from_structure = structure_tools.get_chain_sequence(structure[0][\"A\"])\n",
    "    return sequence == sequence_from_structure\n",
    "        \n",
    "        \n",
    "sequence_matches_structure(\"\", uniprot_structure_lookup[\"Q96NU1\"])"
   ]
  },
  {
   "cell_type": "code",
   "execution_count": 73,
   "id": "53eec5fc-f477-418f-9756-8bada272472d",
   "metadata": {},
   "outputs": [
    {
     "data": {
      "text/html": [
       "<div>\n",
       "<style scoped>\n",
       "    .dataframe tbody tr th:only-of-type {\n",
       "        vertical-align: middle;\n",
       "    }\n",
       "\n",
       "    .dataframe tbody tr th {\n",
       "        vertical-align: top;\n",
       "    }\n",
       "\n",
       "    .dataframe thead th {\n",
       "        text-align: right;\n",
       "    }\n",
       "</style>\n",
       "<table border=\"1\" class=\"dataframe\">\n",
       "  <thead>\n",
       "    <tr style=\"text-align: right;\">\n",
       "      <th></th>\n",
       "      <th>chr</th>\n",
       "      <th>pos</th>\n",
       "      <th>ref</th>\n",
       "      <th>alt</th>\n",
       "      <th>hgvs</th>\n",
       "      <th>interpretation</th>\n",
       "      <th>Subcategory Missense</th>\n",
       "      <th>Subcategory Small intronic deletion or insertion</th>\n",
       "      <th>Subcategory Small exonic in-frame deletion or insertion</th>\n",
       "      <th>hgvs_g</th>\n",
       "      <th>protein_id</th>\n",
       "      <th>mut</th>\n",
       "      <th>refseq_id</th>\n",
       "      <th>uniprot_id</th>\n",
       "      <th>uniparc_id</th>\n",
       "      <th>mut_uniparc</th>\n",
       "    </tr>\n",
       "  </thead>\n",
       "  <tbody>\n",
       "    <tr>\n",
       "      <th>0</th>\n",
       "      <td>1</td>\n",
       "      <td>861332.0</td>\n",
       "      <td>G</td>\n",
       "      <td>A</td>\n",
       "      <td>NM_152486.2:c.11G&gt;A</td>\n",
       "      <td>Uncertain significance</td>\n",
       "      <td>True</td>\n",
       "      <td>False</td>\n",
       "      <td>False</td>\n",
       "      <td>NaN</td>\n",
       "      <td>NP_689699.2</td>\n",
       "      <td>G4E</td>\n",
       "      <td>NP_689699</td>\n",
       "      <td>Q96NU1</td>\n",
       "      <td>NaN</td>\n",
       "      <td>NaN</td>\n",
       "    </tr>\n",
       "    <tr>\n",
       "      <th>1</th>\n",
       "      <td>1</td>\n",
       "      <td>865568.0</td>\n",
       "      <td>G</td>\n",
       "      <td>A</td>\n",
       "      <td>NM_152486.2:c.106G&gt;A</td>\n",
       "      <td>Uncertain significance</td>\n",
       "      <td>True</td>\n",
       "      <td>False</td>\n",
       "      <td>False</td>\n",
       "      <td>NaN</td>\n",
       "      <td>NP_689699.2</td>\n",
       "      <td>A36T</td>\n",
       "      <td>NP_689699</td>\n",
       "      <td>Q96NU1</td>\n",
       "      <td>NaN</td>\n",
       "      <td>NaN</td>\n",
       "    </tr>\n",
       "  </tbody>\n",
       "</table>\n",
       "</div>"
      ],
      "text/plain": [
       "  chr       pos ref alt                  hgvs          interpretation  \\\n",
       "0   1  861332.0   G   A   NM_152486.2:c.11G>A  Uncertain significance   \n",
       "1   1  865568.0   G   A  NM_152486.2:c.106G>A  Uncertain significance   \n",
       "\n",
       "  Subcategory Missense Subcategory Small intronic deletion or insertion  \\\n",
       "0                 True                                            False   \n",
       "1                 True                                            False   \n",
       "\n",
       "  Subcategory Small exonic in-frame deletion or insertion hgvs_g   protein_id  \\\n",
       "0                                              False         NaN  NP_689699.2   \n",
       "1                                              False         NaN  NP_689699.2   \n",
       "\n",
       "    mut  refseq_id uniprot_id uniparc_id mut_uniparc  \n",
       "0   G4E  NP_689699     Q96NU1        NaN         NaN  \n",
       "1  A36T  NP_689699     Q96NU1        NaN         NaN  "
      ]
     },
     "execution_count": 73,
     "metadata": {},
     "output_type": "execute_result"
    }
   ],
   "source": [
    "combined_mapped_validated_df.head(2)"
   ]
  },
  {
   "cell_type": "code",
   "execution_count": 74,
   "id": "a1586261-2d11-41ad-8cb8-fc0a1eb6a398",
   "metadata": {},
   "outputs": [
    {
     "data": {
      "text/html": [
       "<div>\n",
       "<style scoped>\n",
       "    .dataframe tbody tr th:only-of-type {\n",
       "        vertical-align: middle;\n",
       "    }\n",
       "\n",
       "    .dataframe tbody tr th {\n",
       "        vertical-align: top;\n",
       "    }\n",
       "\n",
       "    .dataframe thead th {\n",
       "        text-align: right;\n",
       "    }\n",
       "</style>\n",
       "<table border=\"1\" class=\"dataframe\">\n",
       "  <thead>\n",
       "    <tr style=\"text-align: right;\">\n",
       "      <th></th>\n",
       "      <th>chr</th>\n",
       "      <th>pos</th>\n",
       "      <th>ref</th>\n",
       "      <th>alt</th>\n",
       "      <th>hgvs</th>\n",
       "      <th>interpretation</th>\n",
       "      <th>Subcategory Missense</th>\n",
       "      <th>Subcategory Small intronic deletion or insertion</th>\n",
       "      <th>Subcategory Small exonic in-frame deletion or insertion</th>\n",
       "      <th>hgvs_g</th>\n",
       "      <th>protein_id</th>\n",
       "      <th>mut</th>\n",
       "      <th>refseq_id</th>\n",
       "      <th>uniprot_id</th>\n",
       "      <th>uniparc_id</th>\n",
       "      <th>mut_uniparc</th>\n",
       "    </tr>\n",
       "  </thead>\n",
       "  <tbody>\n",
       "    <tr>\n",
       "      <th>58731</th>\n",
       "      <td>14</td>\n",
       "      <td>61115535.0</td>\n",
       "      <td>C</td>\n",
       "      <td>T</td>\n",
       "      <td>NM_005982.3:c.373G&gt;A</td>\n",
       "      <td>NaN</td>\n",
       "      <td>True</td>\n",
       "      <td>False</td>\n",
       "      <td>False</td>\n",
       "      <td>NaN</td>\n",
       "      <td>NP_005973.1</td>\n",
       "      <td>E125K</td>\n",
       "      <td>NP_005973</td>\n",
       "      <td>A1YER0</td>\n",
       "      <td>NaN</td>\n",
       "      <td>NaN</td>\n",
       "    </tr>\n",
       "    <tr>\n",
       "      <th>58733</th>\n",
       "      <td>NaN</td>\n",
       "      <td>NaN</td>\n",
       "      <td>NaN</td>\n",
       "      <td>NaN</td>\n",
       "      <td>NM_005982.3:c.373G&gt;A</td>\n",
       "      <td>NaN</td>\n",
       "      <td>NaN</td>\n",
       "      <td>NaN</td>\n",
       "      <td>NaN</td>\n",
       "      <td>NC_000014.8:g.61115535C&gt;T</td>\n",
       "      <td>NP_005973.1</td>\n",
       "      <td>E125K</td>\n",
       "      <td>NP_005973</td>\n",
       "      <td>A1YER0</td>\n",
       "      <td>NaN</td>\n",
       "      <td>NaN</td>\n",
       "    </tr>\n",
       "    <tr>\n",
       "      <th>101430</th>\n",
       "      <td>17</td>\n",
       "      <td>79478256.0</td>\n",
       "      <td>G</td>\n",
       "      <td>A</td>\n",
       "      <td>NM_001614.3:c.760C&gt;T</td>\n",
       "      <td>NaN</td>\n",
       "      <td>True</td>\n",
       "      <td>False</td>\n",
       "      <td>False</td>\n",
       "      <td>NaN</td>\n",
       "      <td>NP_001605.1</td>\n",
       "      <td>R254W</td>\n",
       "      <td>NP_001605</td>\n",
       "      <td>A2BDB0</td>\n",
       "      <td>NaN</td>\n",
       "      <td>NaN</td>\n",
       "    </tr>\n",
       "    <tr>\n",
       "      <th>101437</th>\n",
       "      <td>NaN</td>\n",
       "      <td>NaN</td>\n",
       "      <td>NaN</td>\n",
       "      <td>NaN</td>\n",
       "      <td>NM_001614.3:c.760C&gt;T</td>\n",
       "      <td>NaN</td>\n",
       "      <td>NaN</td>\n",
       "      <td>NaN</td>\n",
       "      <td>NaN</td>\n",
       "      <td>NC_000017.10:g.79478256G&gt;A</td>\n",
       "      <td>NP_001605.1</td>\n",
       "      <td>R254W</td>\n",
       "      <td>NP_001605</td>\n",
       "      <td>A2BDB0</td>\n",
       "      <td>NaN</td>\n",
       "      <td>NaN</td>\n",
       "    </tr>\n",
       "    <tr>\n",
       "      <th>115353</th>\n",
       "      <td>2</td>\n",
       "      <td>15679451.0</td>\n",
       "      <td>G</td>\n",
       "      <td>A</td>\n",
       "      <td>NM_015909.3:c.409C&gt;T</td>\n",
       "      <td>NaN</td>\n",
       "      <td>True</td>\n",
       "      <td>False</td>\n",
       "      <td>False</td>\n",
       "      <td>NaN</td>\n",
       "      <td>NP_056993.2</td>\n",
       "      <td>R137W</td>\n",
       "      <td>NP_056993</td>\n",
       "      <td>A2RRP1</td>\n",
       "      <td>NaN</td>\n",
       "      <td>NaN</td>\n",
       "    </tr>\n",
       "    <tr>\n",
       "      <th>...</th>\n",
       "      <td>...</td>\n",
       "      <td>...</td>\n",
       "      <td>...</td>\n",
       "      <td>...</td>\n",
       "      <td>...</td>\n",
       "      <td>...</td>\n",
       "      <td>...</td>\n",
       "      <td>...</td>\n",
       "      <td>...</td>\n",
       "      <td>...</td>\n",
       "      <td>...</td>\n",
       "      <td>...</td>\n",
       "      <td>...</td>\n",
       "      <td>...</td>\n",
       "      <td>...</td>\n",
       "      <td>...</td>\n",
       "    </tr>\n",
       "    <tr>\n",
       "      <th>103020</th>\n",
       "      <td>NaN</td>\n",
       "      <td>NaN</td>\n",
       "      <td>NaN</td>\n",
       "      <td>NaN</td>\n",
       "      <td>NM_000271.4:c.3160G&gt;A</td>\n",
       "      <td>NaN</td>\n",
       "      <td>NaN</td>\n",
       "      <td>NaN</td>\n",
       "      <td>NaN</td>\n",
       "      <td>NC_000018.9:g.21116722C&gt;T</td>\n",
       "      <td>NP_000262.2</td>\n",
       "      <td>A1054T</td>\n",
       "      <td>NP_000262</td>\n",
       "      <td>O15118</td>\n",
       "      <td>NaN</td>\n",
       "      <td>NaN</td>\n",
       "    </tr>\n",
       "    <tr>\n",
       "      <th>103058</th>\n",
       "      <td>18</td>\n",
       "      <td>21148900.0</td>\n",
       "      <td>T</td>\n",
       "      <td>C</td>\n",
       "      <td>NM_000271.4:c.350A&gt;G</td>\n",
       "      <td>NaN</td>\n",
       "      <td>True</td>\n",
       "      <td>False</td>\n",
       "      <td>False</td>\n",
       "      <td>NaN</td>\n",
       "      <td>NP_000262.2</td>\n",
       "      <td>Q117R</td>\n",
       "      <td>NP_000262</td>\n",
       "      <td>O15118</td>\n",
       "      <td>NaN</td>\n",
       "      <td>NaN</td>\n",
       "    </tr>\n",
       "    <tr>\n",
       "      <th>103059</th>\n",
       "      <td>NaN</td>\n",
       "      <td>NaN</td>\n",
       "      <td>NaN</td>\n",
       "      <td>NaN</td>\n",
       "      <td>NM_000271.4:c.350A&gt;G</td>\n",
       "      <td>NaN</td>\n",
       "      <td>NaN</td>\n",
       "      <td>NaN</td>\n",
       "      <td>NaN</td>\n",
       "      <td>NC_000018.9:g.21148900T&gt;C</td>\n",
       "      <td>NP_000262.2</td>\n",
       "      <td>Q117R</td>\n",
       "      <td>NP_000262</td>\n",
       "      <td>O15118</td>\n",
       "      <td>NaN</td>\n",
       "      <td>NaN</td>\n",
       "    </tr>\n",
       "    <tr>\n",
       "      <th>238475</th>\n",
       "      <td>12</td>\n",
       "      <td>115112299.0</td>\n",
       "      <td>G</td>\n",
       "      <td>A</td>\n",
       "      <td>NM_005996.3:c.1381C&gt;T</td>\n",
       "      <td>NaN</td>\n",
       "      <td>True</td>\n",
       "      <td>False</td>\n",
       "      <td>False</td>\n",
       "      <td>NaN</td>\n",
       "      <td>NP_005987.3</td>\n",
       "      <td>P481S</td>\n",
       "      <td>NP_005987</td>\n",
       "      <td>O15119</td>\n",
       "      <td>UPI000002B4EA</td>\n",
       "      <td>P461S</td>\n",
       "    </tr>\n",
       "    <tr>\n",
       "      <th>238476</th>\n",
       "      <td>NaN</td>\n",
       "      <td>NaN</td>\n",
       "      <td>NaN</td>\n",
       "      <td>NaN</td>\n",
       "      <td>NM_005996.3:c.1381C&gt;T</td>\n",
       "      <td>NaN</td>\n",
       "      <td>NaN</td>\n",
       "      <td>NaN</td>\n",
       "      <td>NaN</td>\n",
       "      <td>NC_000012.11:g.115112299G&gt;A</td>\n",
       "      <td>NP_005987.3</td>\n",
       "      <td>P481S</td>\n",
       "      <td>NP_005987</td>\n",
       "      <td>O15119</td>\n",
       "      <td>UPI000002B4EA</td>\n",
       "      <td>P461S</td>\n",
       "    </tr>\n",
       "  </tbody>\n",
       "</table>\n",
       "<p>100 rows × 16 columns</p>\n",
       "</div>"
      ],
      "text/plain": [
       "        chr          pos  ref  alt                   hgvs interpretation  \\\n",
       "58731    14   61115535.0    C    T   NM_005982.3:c.373G>A            NaN   \n",
       "58733   NaN          NaN  NaN  NaN   NM_005982.3:c.373G>A            NaN   \n",
       "101430   17   79478256.0    G    A   NM_001614.3:c.760C>T            NaN   \n",
       "101437  NaN          NaN  NaN  NaN   NM_001614.3:c.760C>T            NaN   \n",
       "115353    2   15679451.0    G    A   NM_015909.3:c.409C>T            NaN   \n",
       "...     ...          ...  ...  ...                    ...            ...   \n",
       "103020  NaN          NaN  NaN  NaN  NM_000271.4:c.3160G>A            NaN   \n",
       "103058   18   21148900.0    T    C   NM_000271.4:c.350A>G            NaN   \n",
       "103059  NaN          NaN  NaN  NaN   NM_000271.4:c.350A>G            NaN   \n",
       "238475   12  115112299.0    G    A  NM_005996.3:c.1381C>T            NaN   \n",
       "238476  NaN          NaN  NaN  NaN  NM_005996.3:c.1381C>T            NaN   \n",
       "\n",
       "       Subcategory Missense Subcategory Small intronic deletion or insertion  \\\n",
       "58731                  True                                            False   \n",
       "58733                   NaN                                              NaN   \n",
       "101430                 True                                            False   \n",
       "101437                  NaN                                              NaN   \n",
       "115353                 True                                            False   \n",
       "...                     ...                                              ...   \n",
       "103020                  NaN                                              NaN   \n",
       "103058                 True                                            False   \n",
       "103059                  NaN                                              NaN   \n",
       "238475                 True                                            False   \n",
       "238476                  NaN                                              NaN   \n",
       "\n",
       "       Subcategory Small exonic in-frame deletion or insertion  \\\n",
       "58731                                               False        \n",
       "58733                                                 NaN        \n",
       "101430                                              False        \n",
       "101437                                                NaN        \n",
       "115353                                              False        \n",
       "...                                                   ...        \n",
       "103020                                                NaN        \n",
       "103058                                              False        \n",
       "103059                                                NaN        \n",
       "238475                                              False        \n",
       "238476                                                NaN        \n",
       "\n",
       "                             hgvs_g   protein_id     mut  refseq_id  \\\n",
       "58731                           NaN  NP_005973.1   E125K  NP_005973   \n",
       "58733     NC_000014.8:g.61115535C>T  NP_005973.1   E125K  NP_005973   \n",
       "101430                          NaN  NP_001605.1   R254W  NP_001605   \n",
       "101437   NC_000017.10:g.79478256G>A  NP_001605.1   R254W  NP_001605   \n",
       "115353                          NaN  NP_056993.2   R137W  NP_056993   \n",
       "...                             ...          ...     ...        ...   \n",
       "103020    NC_000018.9:g.21116722C>T  NP_000262.2  A1054T  NP_000262   \n",
       "103058                          NaN  NP_000262.2   Q117R  NP_000262   \n",
       "103059    NC_000018.9:g.21148900T>C  NP_000262.2   Q117R  NP_000262   \n",
       "238475                          NaN  NP_005987.3   P481S  NP_005987   \n",
       "238476  NC_000012.11:g.115112299G>A  NP_005987.3   P481S  NP_005987   \n",
       "\n",
       "       uniprot_id     uniparc_id mut_uniparc  \n",
       "58731      A1YER0            NaN         NaN  \n",
       "58733      A1YER0            NaN         NaN  \n",
       "101430     A2BDB0            NaN         NaN  \n",
       "101437     A2BDB0            NaN         NaN  \n",
       "115353     A2RRP1            NaN         NaN  \n",
       "...           ...            ...         ...  \n",
       "103020     O15118            NaN         NaN  \n",
       "103058     O15118            NaN         NaN  \n",
       "103059     O15118            NaN         NaN  \n",
       "238475     O15119  UPI000002B4EA       P461S  \n",
       "238476     O15119  UPI000002B4EA       P461S  \n",
       "\n",
       "[100 rows x 16 columns]"
      ]
     },
     "execution_count": 74,
     "metadata": {},
     "output_type": "execute_result"
    }
   ],
   "source": [
    "combined_mapped_validated_df[\n",
    "    combined_mapped_validated_df.duplicated(subset=[\"hgvs\", \"uniprot_id\", \"mut\"], keep=False)\n",
    "].sort_values([\"uniprot_id\", \"hgvs\"]).head(100)"
   ]
  },
  {
   "cell_type": "code",
   "execution_count": 75,
   "id": "77759c91-99ff-41e0-8a5e-a72a787f5cdf",
   "metadata": {},
   "outputs": [
    {
     "data": {
      "text/plain": [
       "set()"
      ]
     },
     "execution_count": 75,
     "metadata": {},
     "output_type": "execute_result"
    }
   ],
   "source": [
    "set(uniprot_structure_lookup) - set(uniprot_sequence_lookup)"
   ]
  },
  {
   "cell_type": "code",
   "execution_count": 76,
   "id": "a5d63f12-1e66-423f-ac12-f2d238e3064d",
   "metadata": {},
   "outputs": [
    {
     "data": {
      "text/html": [
       "<div>\n",
       "<style scoped>\n",
       "    .dataframe tbody tr th:only-of-type {\n",
       "        vertical-align: middle;\n",
       "    }\n",
       "\n",
       "    .dataframe tbody tr th {\n",
       "        vertical-align: top;\n",
       "    }\n",
       "\n",
       "    .dataframe thead th {\n",
       "        text-align: right;\n",
       "    }\n",
       "</style>\n",
       "<table border=\"1\" class=\"dataframe\">\n",
       "  <thead>\n",
       "    <tr style=\"text-align: right;\">\n",
       "      <th></th>\n",
       "      <th>uniprot_id</th>\n",
       "      <th>hgvs</th>\n",
       "      <th>mut</th>\n",
       "      <th>interpretation</th>\n",
       "    </tr>\n",
       "  </thead>\n",
       "  <tbody>\n",
       "    <tr>\n",
       "      <th>0</th>\n",
       "      <td>A1X283</td>\n",
       "      <td>[NM_001017995.2:c.1475A&gt;C, NM_001017995.2:c.10...</td>\n",
       "      <td>[K492T, K341E, R356Q, E396K, A431T, T445A, A49...</td>\n",
       "      <td>[Uncertain significance, Uncertain significanc...</td>\n",
       "    </tr>\n",
       "    <tr>\n",
       "      <th>1</th>\n",
       "      <td>A2IDD5</td>\n",
       "      <td>[NM_001031737.2:c.902A&gt;G, NM_001031737.2:c.910...</td>\n",
       "      <td>[K301R, V304L, R308H, D333E, N322K, A325P, R29...</td>\n",
       "      <td>[Uncertain significance, Uncertain significanc...</td>\n",
       "    </tr>\n",
       "  </tbody>\n",
       "</table>\n",
       "</div>"
      ],
      "text/plain": [
       "  uniprot_id                                               hgvs  \\\n",
       "0     A1X283  [NM_001017995.2:c.1475A>C, NM_001017995.2:c.10...   \n",
       "1     A2IDD5  [NM_001031737.2:c.902A>G, NM_001031737.2:c.910...   \n",
       "\n",
       "                                                 mut  \\\n",
       "0  [K492T, K341E, R356Q, E396K, A431T, T445A, A49...   \n",
       "1  [K301R, V304L, R308H, D333E, N322K, A325P, R29...   \n",
       "\n",
       "                                      interpretation  \n",
       "0  [Uncertain significance, Uncertain significanc...  \n",
       "1  [Uncertain significance, Uncertain significanc...  "
      ]
     },
     "metadata": {},
     "output_type": "display_data"
    },
    {
     "name": "stdout",
     "output_type": "stream",
     "text": [
      "2926\n"
     ]
    }
   ],
   "source": [
    "final_df = (\n",
    "    combined_mapped_validated_df\n",
    "    # Caused by bad mapping from RefSeq to UniProt\n",
    "    .merge(uniprot_sequences_df, on=[\"uniprot_id\"])\n",
    "    .assign(\n",
    "        uniprot_id=lambda df: df[\"sequence\"].map(\n",
    "            {uniprot_sequence_lookup[k]: k for k in uniprot_sequence_lookup}\n",
    "            | {uniprot_sequence_lookup[k]: k for k in uniprot_structure_lookup}\n",
    "        )\n",
    "    )\n",
    "    #\n",
    "    .drop_duplicates(subset=[\"uniprot_id\", \"hgvs\", \"mut\", \"interpretation\"])\n",
    "    .sort_values(\"uniprot_id\")\n",
    "    .drop_duplicates([\"sequence\", \"hgvs\", \"mut\", \"interpretation\"])\n",
    "    .groupby([\"uniprot_id\"], dropna=False)\n",
    "    .agg({\"hgvs\": list, \"mut\": list, \"interpretation\": list})\n",
    "    .reset_index()\n",
    ")\n",
    "\n",
    "assert final_df[\"uniprot_id\"].notnull().all()\n",
    "\n",
    "display(final_df.head(2))\n",
    "print(len(final_df))  # 2901 | 3245 | 2926"
   ]
  },
  {
   "cell_type": "code",
   "execution_count": 77,
   "id": "be9ab296-3086-4b69-8172-449883d6b352",
   "metadata": {},
   "outputs": [
    {
     "data": {
      "text/html": [
       "<div>\n",
       "<style scoped>\n",
       "    .dataframe tbody tr th:only-of-type {\n",
       "        vertical-align: middle;\n",
       "    }\n",
       "\n",
       "    .dataframe tbody tr th {\n",
       "        vertical-align: top;\n",
       "    }\n",
       "\n",
       "    .dataframe thead th {\n",
       "        text-align: right;\n",
       "    }\n",
       "</style>\n",
       "<table border=\"1\" class=\"dataframe\">\n",
       "  <thead>\n",
       "    <tr style=\"text-align: right;\">\n",
       "      <th></th>\n",
       "      <th>uniprot_id</th>\n",
       "      <th>hgvs</th>\n",
       "      <th>mut</th>\n",
       "      <th>interpretation</th>\n",
       "      <th>sequence</th>\n",
       "      <th>structure</th>\n",
       "      <th>alignment</th>\n",
       "    </tr>\n",
       "  </thead>\n",
       "  <tbody>\n",
       "    <tr>\n",
       "      <th>0</th>\n",
       "      <td>A1X283</td>\n",
       "      <td>[NM_001017995.2:c.1475A&gt;C, NM_001017995.2:c.10...</td>\n",
       "      <td>[K492T, K341E, R356Q, E396K, A431T, T445A, A49...</td>\n",
       "      <td>[Uncertain significance, Uncertain significanc...</td>\n",
       "      <td>MPPRRSIVEVKVLDVQKRRVPNKHYVYIIRVTWSSGSTEAIYRRYS...</td>\n",
       "      <td>HEADER                                        ...</td>\n",
       "      <td>[&gt;101\\n, MPPRRSIVEVKVLDVQKRRVPNKHYVYIIRVTWSSGS...</td>\n",
       "    </tr>\n",
       "    <tr>\n",
       "      <th>1</th>\n",
       "      <td>A2IDD5</td>\n",
       "      <td>[NM_001031737.2:c.902A&gt;G, NM_001031737.2:c.910...</td>\n",
       "      <td>[K301R, V304L, R308H, D333E, N322K, A325P, R29...</td>\n",
       "      <td>[Uncertain significance, Uncertain significanc...</td>\n",
       "      <td>MEHAATTGPRPGPPSRRVENVVLRAKDWLPGAPGGTAVWATSLEAE...</td>\n",
       "      <td>HEADER                                        ...</td>\n",
       "      <td>[&gt;101\\n, MEHAATTGPRPGPPSRRVENVVLRAKDWLPGAPGGTA...</td>\n",
       "    </tr>\n",
       "  </tbody>\n",
       "</table>\n",
       "</div>"
      ],
      "text/plain": [
       "  uniprot_id                                               hgvs  \\\n",
       "0     A1X283  [NM_001017995.2:c.1475A>C, NM_001017995.2:c.10...   \n",
       "1     A2IDD5  [NM_001031737.2:c.902A>G, NM_001031737.2:c.910...   \n",
       "\n",
       "                                                 mut  \\\n",
       "0  [K492T, K341E, R356Q, E396K, A431T, T445A, A49...   \n",
       "1  [K301R, V304L, R308H, D333E, N322K, A325P, R29...   \n",
       "\n",
       "                                      interpretation  \\\n",
       "0  [Uncertain significance, Uncertain significanc...   \n",
       "1  [Uncertain significance, Uncertain significanc...   \n",
       "\n",
       "                                            sequence  \\\n",
       "0  MPPRRSIVEVKVLDVQKRRVPNKHYVYIIRVTWSSGSTEAIYRRYS...   \n",
       "1  MEHAATTGPRPGPPSRRVENVVLRAKDWLPGAPGGTAVWATSLEAE...   \n",
       "\n",
       "                                           structure  \\\n",
       "0  HEADER                                        ...   \n",
       "1  HEADER                                        ...   \n",
       "\n",
       "                                           alignment  \n",
       "0  [>101\\n, MPPRRSIVEVKVLDVQKRRVPNKHYVYIIRVTWSSGS...  \n",
       "1  [>101\\n, MEHAATTGPRPGPPSRRVENVVLRAKDWLPGAPGGTA...  "
      ]
     },
     "metadata": {},
     "output_type": "display_data"
    },
    {
     "name": "stdout",
     "output_type": "stream",
     "text": [
      "2833\n"
     ]
    }
   ],
   "source": [
    "final_df = (\n",
    "    final_df\n",
    "    #\n",
    "    .merge(uniprot_sequences_df, on=[\"uniprot_id\"])\n",
    "    #\n",
    "    .merge(uniprot_structures_df, on=[\"uniprot_id\"])\n",
    "    #\n",
    "    .merge(uniprot_alignments_df[[\"uniprot_id\", \"alignment\"]], on=[\"uniprot_id\"])\n",
    "    #\n",
    "    .dropna(subset=[\"sequence\", \"structure\", \"alignment\"])\n",
    ")\n",
    "\n",
    "display(final_df.head(2))\n",
    "print(len(final_df))  # 2610 | 2923 | 2833"
   ]
  },
  {
   "cell_type": "code",
   "execution_count": 78,
   "id": "3611a536-cbb2-43f6-8b51-e82133adcdcc",
   "metadata": {},
   "outputs": [
    {
     "data": {
      "application/vnd.jupyter.widget-view+json": {
       "model_id": "0408381e54304b518d6339e064bc65d2",
       "version_major": 2,
       "version_minor": 0
      },
      "text/plain": [
       "  0%|          | 0/2833 [00:00<?, ?it/s]"
      ]
     },
     "metadata": {},
     "output_type": "display_data"
    }
   ],
   "source": [
    "for uniprot_id, sequence, structure_blob in tqdm(\n",
    "    final_df[[\"uniprot_id\", \"sequence\", \"structure\"]].values\n",
    "):\n",
    "    assert sequence_matches_structure(sequence, structure_blob)"
   ]
  },
  {
   "cell_type": "code",
   "execution_count": 79,
   "id": "c2b0b600-3e82-412b-8bcb-c5d4a66bf2df",
   "metadata": {},
   "outputs": [
    {
     "data": {
      "application/vnd.jupyter.widget-view+json": {
       "model_id": "e7db85397ac240999a97844f98fd899b",
       "version_major": 2,
       "version_minor": 0
      },
      "text/plain": [
       "  0%|          | 0/2833 [00:00<?, ?it/s]"
      ]
     },
     "metadata": {},
     "output_type": "display_data"
    }
   ],
   "source": [
    "for uniprot_id, sequence, alignment in tqdm(\n",
    "    final_df[[\"uniprot_id\", \"sequence\", \"alignment\"]].values\n",
    "):\n",
    "    assert sequence == alignment[1].strip()"
   ]
  },
  {
   "cell_type": "markdown",
   "id": "ebe16dca-5b63-49ba-b87a-e07ecc7dda5f",
   "metadata": {},
   "source": [
    "## Write output"
   ]
  },
  {
   "cell_type": "code",
   "execution_count": 80,
   "id": "1fb79f27-2db3-46cc-9ad1-b4ed458be8f3",
   "metadata": {},
   "outputs": [],
   "source": [
    "if (combined_mapped_validated_df[\"chr\"].apply(type) == int).any():\n",
    "    mask = combined_mapped_validated_df[\"chr\"].isnull()\n",
    "    combined_mapped_validated_df[\"chr\"] = combined_mapped_validated_df[\"chr\"].astype(str)\n",
    "    combined_mapped_validated_df.loc[mask, \"chr\"] = None"
   ]
  },
  {
   "cell_type": "code",
   "execution_count": 81,
   "id": "fc633b22-9991-403e-b7b7-14b9332240a3",
   "metadata": {},
   "outputs": [],
   "source": [
    "final_output_file = NOTEBOOK_DIR.joinpath(\"processed-input-data.parquet\")\n",
    "\n",
    "pq.write_table(\n",
    "    pa.Table.from_pandas(combined_mapped_validated_df, preserve_index=False), final_output_file\n",
    ")"
   ]
  },
  {
   "cell_type": "code",
   "execution_count": 82,
   "id": "6aeda25b-a228-4b22-b5cb-827fa514facf",
   "metadata": {},
   "outputs": [],
   "source": [
    "def split_rows(df, fields_to_split=[\"hgvs\", \"mut\", \"interpretation\"], max_size=100):\n",
    "    results = []\n",
    "    for tup in tqdm(df.itertuples(index=False), total=len(df)):\n",
    "        if len(tup.hgvs) <= max_size:\n",
    "            results.append(tup)\n",
    "        else:\n",
    "            for start in range(0, len(tup.hgvs), max_size):\n",
    "                tup_ = tup._replace(\n",
    "                    **{\n",
    "                        field: getattr(tup, field)[start : start + max_size]\n",
    "                        for field in fields_to_split\n",
    "                    }\n",
    "                )\n",
    "                results.append(tup_)\n",
    "    return pd.DataFrame(results)"
   ]
  },
  {
   "cell_type": "code",
   "execution_count": 85,
   "id": "5e3fc3eb-bd49-4876-964f-7d66eddd5050",
   "metadata": {},
   "outputs": [
    {
     "data": {
      "application/vnd.jupyter.widget-view+json": {
       "model_id": "b9b28cfa50c949f482c9db3b0ff3793a",
       "version_major": 2,
       "version_minor": 0
      },
      "text/plain": [
       "  0%|          | 0/2833 [00:00<?, ?it/s]"
      ]
     },
     "metadata": {},
     "output_type": "display_data"
    }
   ],
   "source": [
    "final_df[\"seqlen\"] = final_df[\"sequence\"].str.len()\n",
    "final_df = final_df.sort_values(\"seqlen\", ascending=True)\n",
    "del final_df[\"seqlen\"]\n",
    "\n",
    "final_chunked_df = split_rows(final_df)"
   ]
  },
  {
   "cell_type": "code",
   "execution_count": 86,
   "id": "1e76758a-e2fc-4e11-9fab-1356354df730",
   "metadata": {},
   "outputs": [],
   "source": [
    "assert final_df[\"hgvs\"].str.len().sum() == final_chunked_df[\"hgvs\"].str.len().sum()\n",
    "assert (\n",
    "    np.array(list(more_itertools.flatten(final_df[\"hgvs\"])))\n",
    "    == np.array(list(more_itertools.flatten(final_chunked_df[\"hgvs\"])))\n",
    ").all()\n",
    "\n",
    "assert final_df[\"mut\"].str.len().sum() == final_chunked_df[\"mut\"].str.len().sum()\n",
    "assert (\n",
    "    np.array(list(more_itertools.flatten(final_df[\"mut\"])))\n",
    "    == np.array(list(more_itertools.flatten(final_chunked_df[\"mut\"])))\n",
    ").all()\n",
    "\n",
    "assert (final_df[\"uniprot_id\"].values == final_chunked_df[\"uniprot_id\"].unique()).all()\n",
    "assert (final_df[\"sequence\"].values == final_chunked_df[\"sequence\"].unique()).all()\n",
    "assert (final_df[\"structure\"].values == final_chunked_df[\"structure\"].unique()).all()\n",
    "assert (\n",
    "    final_df[\"alignment\"].apply(tuple).values == final_chunked_df[\"alignment\"].apply(tuple).unique()\n",
    ").all()"
   ]
  },
  {
   "cell_type": "code",
   "execution_count": 89,
   "id": "744d6e97-7971-49f6-9e23-a916485a6319",
   "metadata": {},
   "outputs": [],
   "source": [
    "final_output_file = NOTEBOOK_DIR.joinpath(\"input-data-gby-protein.parquet\")\n",
    "\n",
    "pq.write_table(\n",
    "    pa.Table.from_pandas(\n",
    "        final_chunked_df.rename(\n",
    "            columns={\n",
    "                \"uniprot_id\": \"protein_id\",\n",
    "                \"hgvs\": \"mutation_id\",\n",
    "                \"mut\": \"mutation\",\n",
    "                \"interpretation\": \"effect\",\n",
    "            }\n",
    "        ),\n",
    "        preserve_index=False,\n",
    "    ),\n",
    "    final_output_file,\n",
    "    row_group_size=1,\n",
    ")"
   ]
  },
  {
   "cell_type": "code",
   "execution_count": 90,
   "id": "6303b2cc-8d56-40ea-a53d-7ba095425d26",
   "metadata": {},
   "outputs": [
    {
     "data": {
      "text/plain": [
       "4182"
      ]
     },
     "execution_count": 90,
     "metadata": {},
     "output_type": "execute_result"
    }
   ],
   "source": [
    "pfile = pq.ParquetFile(final_output_file)\n",
    "\n",
    "pfile.num_row_groups"
   ]
  },
  {
   "cell_type": "code",
   "execution_count": null,
   "id": "8be948fd-9259-4cc2-b004-71d0477c64ee",
   "metadata": {},
   "outputs": [],
   "source": []
  }
 ],
 "metadata": {
  "kernelspec": {
   "display_name": "Python 3 (ipykernel)",
   "language": "python",
   "name": "python3"
  },
  "language_info": {
   "codemirror_mode": {
    "name": "ipython",
    "version": 3
   },
   "file_extension": ".py",
   "mimetype": "text/x-python",
   "name": "python",
   "nbconvert_exporter": "python",
   "pygments_lexer": "ipython3",
   "version": "3.9.6"
  }
 },
 "nbformat": 4,
 "nbformat_minor": 5
}
