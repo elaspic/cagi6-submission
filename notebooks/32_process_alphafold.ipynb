{
 "cells": [
  {
   "cell_type": "markdown",
   "id": "26c81e96-6b41-41fa-80a6-6360c482eb58",
   "metadata": {
    "tags": []
   },
   "source": [
    "## Summary\n",
    "\n",
    "### CAGI6-Sherloc\n",
    "\n",
    "```bash\n",
    "export NOTEBOOK_PATH=\"$(realpath 32_process_alphafold.ipynb)\"\n",
    "export DATASET_NAME=\"cagi6-sherloc\"\n",
    "export DATASET_PATH=\"30_cagi6_sherloc/input-data-gby-protein.parquet\"\n",
    "export ORIGINAL_ARRAY_TASK_COUNT=4182\n",
    "unset ARRAY_TASK_OFFSET\n",
    "\n",
    "sbatch --export NOTEBOOK_PATH,DATASET_NAME,DATASET_PATH,ORIGINAL_ARRAY_TASK_COUNT --array=1-500 --time 3:00:00 --ntasks-per-node 2 --mem=18G ../scripts/run_notebook_cpu.sh\n",
    "sbatch --export NOTEBOOK_PATH,DATASET_NAME,DATASET_PATH,ORIGINAL_ARRAY_TASK_COUNT --array=501-1000 --time 3:00:00 --ntasks-per-node 2 --mem=24G ../scripts/run_notebook_cpu.sh\n",
    "sbatch --export NOTEBOOK_PATH,DATASET_NAME,DATASET_PATH,ORIGINAL_ARRAY_TASK_COUNT --array=1001-1500 --time 3:00:00 --ntasks-per-node 2 --mem=24G ../scripts/run_notebook_cpu.sh\n",
    "sbatch --export NOTEBOOK_PATH,DATASET_NAME,DATASET_PATH,ORIGINAL_ARRAY_TASK_COUNT --array=1501-2000 --time 3:00:00 --ntasks-per-node 2 --mem=24G ../scripts/run_notebook_cpu.sh\n",
    "sbatch --export NOTEBOOK_PATH,DATASET_NAME,DATASET_PATH,ORIGINAL_ARRAY_TASK_COUNT --array=2001-2500 --time 3:00:00 --ntasks-per-node 2 --mem=32G ../scripts/run_notebook_cpu.sh\n",
    "sbatch --export NOTEBOOK_PATH,DATASET_NAME,DATASET_PATH,ORIGINAL_ARRAY_TASK_COUNT --array=2501-3000 --time 3:00:00 --ntasks-per-node 2 --mem=32G ../scripts/run_notebook_cpu.sh\n",
    "sbatch --export NOTEBOOK_PATH,DATASET_NAME,DATASET_PATH,ORIGINAL_ARRAY_TASK_COUNT --array=3001-3500 --time 3:00:00 --ntasks-per-node 2 --mem=40G ../scripts/run_notebook_cpu.sh\n",
    "sbatch --export NOTEBOOK_PATH,DATASET_NAME,DATASET_PATH,ORIGINAL_ARRAY_TASK_COUNT --array=3501-4000 --time 3:00:00 --ntasks-per-node 2 --mem=48G ../scripts/run_notebook_cpu.sh\n",
    "sbatch --export NOTEBOOK_PATH,DATASET_NAME,DATASET_PATH,ORIGINAL_ARRAY_TASK_COUNT --array=4001-4182 --time 3:00:00 --ntasks-per-node 2 --mem=62G ../scripts/run_notebook_cpu.sh\n",
    "```\n",
    "\n",
    "### Humsavar\n",
    "\n",
    "```bash\n",
    "export NOTEBOOK_PATH=\"$(realpath 32_process_alphafold.ipynb)\"\n",
    "export DATASET_NAME=\"humsavar\"\n",
    "export DATASET_PATH=\"30_humsavar/humsavar-gby-protein-waln.parquet\"\n",
    "export ORIGINAL_ARRAY_TASK_COUNT=12557\n",
    "unset ARRAY_TASK_OFFSET\n",
    "\n",
    "# !!! Modify the lines below !!!\n",
    "\n",
    "sbatch --export NOTEBOOK_PATH,DATASET_NAME,DATASET_PATH,ORIGINAL_ARRAY_TASK_COUNT --array=1-9999 --time 3:00:00 --gres=gpu:p100:1 --mem=18G ../scripts/run_notebook_gpu.sh\n",
    "\n",
    "export ARRAY_TASK_OFFSET=10000\n",
    "sbatch --export NOTEBOOK_PATH,DATASET_NAME,DATASET_PATH,ORIGINAL_ARRAY_TASK_COUNT,ARRAY_TASK_OFFSET --array=0-1000 --time 3:00:00 --gres=gpu:v100l:1 --mem=32G ../scripts/run_notebook_gpu.sh\n",
    "\n",
    "export ARRAY_TASK_OFFSET=10000\n",
    "sbatch --export NOTEBOOK_PATH,DATASET_NAME,DATASET_PATH,ORIGINAL_ARRAY_TASK_COUNT,ARRAY_TASK_OFFSET --array=1000-2557 --time 24:00:00 --gres=gpu:v100l:1 --mem=46G ../scripts/run_notebook_gpu.sh\n",
    "```\n",
    "\n",
    "---"
   ]
  },
  {
   "cell_type": "markdown",
   "id": "ec276dec-6afa-4b57-bbfc-a11e04a8767e",
   "metadata": {},
   "source": [
    "## Imports"
   ]
  },
  {
   "cell_type": "code",
   "execution_count": 1,
   "id": "539f4edf-ca04-4bef-b5c9-a6d402f7570b",
   "metadata": {},
   "outputs": [],
   "source": [
    "import concurrent.futures\n",
    "import itertools\n",
    "import os\n",
    "import pickle\n",
    "import string\n",
    "import tempfile\n",
    "from pathlib import Path\n",
    "\n",
    "import matplotlib.pyplot as plt\n",
    "import numpy as np\n",
    "import pandas as pd\n",
    "import pyarrow as pa\n",
    "import pyarrow.parquet as pq\n",
    "import scipy.special as sps\n",
    "from alphafold.common import residue_constants\n",
    "from scipy import stats\n",
    "from sklearn import metrics, model_selection\n",
    "from tqdm.auto import tqdm"
   ]
  },
  {
   "cell_type": "code",
   "execution_count": 2,
   "id": "d08b0792-00b7-44be-9257-a554f95bd602",
   "metadata": {},
   "outputs": [],
   "source": [
    "pd.set_option(\"max_columns\", 1000)\n",
    "pd.set_option(\"max_rows\", 1000)"
   ]
  },
  {
   "cell_type": "markdown",
   "id": "5be0ca05-c038-414f-ba84-b2ae8013088b",
   "metadata": {},
   "source": [
    "## Parameters"
   ]
  },
  {
   "cell_type": "code",
   "execution_count": 3,
   "id": "10e1faee-9f6a-40d8-8819-272b1c9837bb",
   "metadata": {},
   "outputs": [
    {
     "data": {
      "text/plain": [
       "PosixPath('/lustre07/scratch/strokach/workspace/elaspic2-cagi6/notebooks/32_process_alphafold')"
      ]
     },
     "execution_count": 3,
     "metadata": {},
     "output_type": "execute_result"
    }
   ],
   "source": [
    "NOTEBOOK_DIR = Path(\"32_process_alphafold\").resolve()\n",
    "NOTEBOOK_DIR.mkdir(exist_ok=True)\n",
    "\n",
    "NOTEBOOK_DIR"
   ]
  },
  {
   "cell_type": "code",
   "execution_count": 4,
   "id": "b1b9d6a4-0616-43ea-9c9b-1a902b94318b",
   "metadata": {},
   "outputs": [
    {
     "data": {
      "text/plain": [
       "PosixPath('/lustre07/scratch/strokach/workspace/elaspic2-cagi6/notebooks/31_run_alphafold_wt')"
      ]
     },
     "execution_count": 4,
     "metadata": {},
     "output_type": "execute_result"
    }
   ],
   "source": [
    "INPUT_DIR = Path(\"31_run_alphafold_wt\").resolve()\n",
    "\n",
    "INPUT_DIR"
   ]
  },
  {
   "cell_type": "code",
   "execution_count": 5,
   "id": "44baf9d5-5ab4-461e-90c3-334509f1d9a3",
   "metadata": {},
   "outputs": [
    {
     "data": {
      "text/plain": [
       "PosixPath('/lustre07/scratch/strokach/workspace/elaspic2-cagi6/notebooks/31_run_alphafold')"
      ]
     },
     "execution_count": 5,
     "metadata": {},
     "output_type": "execute_result"
    }
   ],
   "source": [
    "OUTPUT_DIR = NOTEBOOK_DIR.parent.joinpath(\"31_run_alphafold\").resolve()\n",
    "OUTPUT_DIR.mkdir(exist_ok=True)\n",
    "\n",
    "OUTPUT_DIR"
   ]
  },
  {
   "cell_type": "code",
   "execution_count": 20,
   "id": "4098cb4b-8cca-46cb-bd74-66b33da836cb",
   "metadata": {},
   "outputs": [
    {
     "data": {
      "text/plain": [
       "(None,\n",
       " 4182,\n",
       " 'cagi6-sherloc',\n",
       " '30_cagi6_sherloc/input-data-gby-protein.parquet',\n",
       " 0)"
      ]
     },
     "execution_count": 20,
     "metadata": {},
     "output_type": "execute_result"
    }
   ],
   "source": [
    "DATASET_NAME = os.getenv(\"DATASET_NAME\")\n",
    "DATASET_PATH = os.getenv(\"DATASET_PATH\")\n",
    "TASK_ID = os.getenv(\"SLURM_ARRAY_TASK_ID\")\n",
    "TASK_COUNT = (\n",
    "    #\n",
    "    os.getenv(\"ORIGINAL_ARRAY_TASK_COUNT\")\n",
    "    or os.getenv(\"SLURM_ARRAY_TASK_COUNT\")\n",
    ")\n",
    "ARRAY_TASK_OFFSET = int(os.getenv(\"ARRAY_TASK_OFFSET\", \"0\"))\n",
    "\n",
    "TASK_ID = (int(TASK_ID) + ARRAY_TASK_OFFSET) if TASK_ID is not None else None\n",
    "TASK_COUNT = int(TASK_COUNT) if TASK_COUNT is not None else None\n",
    "\n",
    "TASK_ID, TASK_COUNT, DATASET_NAME, DATASET_PATH, ARRAY_TASK_OFFSET"
   ]
  },
  {
   "cell_type": "code",
   "execution_count": 7,
   "id": "a9923a92-e18e-473f-871e-4f00f09ffe35",
   "metadata": {},
   "outputs": [
    {
     "data": {
      "text/plain": [
       "(1,\n",
       " 4182,\n",
       " 'cagi6-sherloc',\n",
       " '/lustre07/scratch/strokach/workspace/elaspic2-cagi6/notebooks/30_cagi6_sherloc/input-data-gby-protein.parquet')"
      ]
     },
     "execution_count": 7,
     "metadata": {},
     "output_type": "execute_result"
    }
   ],
   "source": [
    "DEBUG = TASK_ID is None\n",
    "\n",
    "if DEBUG:\n",
    "    DATASET_NAME = \"cagi6-sherloc\"\n",
    "    DATASET_PATH = str(\n",
    "        NOTEBOOK_DIR.parent.joinpath(\n",
    "            \"30_cagi6_sherloc\", \"input-data-gby-protein.parquet\"\n",
    "        )\n",
    "    )\n",
    "    TASK_ID = 1\n",
    "    TASK_COUNT = 4182\n",
    "\n",
    "    # DATASET_NAME = \"humsavar\"\n",
    "    # DATASET_PATH = str(\n",
    "    #     NOTEBOOK_DIR.parent.joinpath(\"30_humsavar\", \"humsavar-gby-protein-waln.parquet\")\n",
    "    # )\n",
    "    # TASK_ID = 10000\n",
    "    # TASK_COUNT = 12557\n",
    "\n",
    "else:\n",
    "    assert TASK_ID is not None\n",
    "    assert TASK_COUNT is not None\n",
    "    assert DATASET_NAME is not None\n",
    "    assert DATASET_PATH is not None\n",
    "\n",
    "TASK_ID, TASK_COUNT, DATASET_NAME, DATASET_PATH"
   ]
  },
  {
   "cell_type": "code",
   "execution_count": 8,
   "id": "bfdac7cd-df03-413e-ade0-fa8e59bf34c7",
   "metadata": {},
   "outputs": [],
   "source": [
    "output_file = OUTPUT_DIR.joinpath(\n",
    "    DATASET_NAME, f\"results-{TASK_ID}-of-{TASK_COUNT}.parquet\"\n",
    ")\n",
    "output_file.parent.mkdir(exist_ok=True)\n",
    "\n",
    "if output_file.is_file():\n",
    "    raise Exception(f\"Output file {output_file!r} already exists!\")"
   ]
  },
  {
   "cell_type": "markdown",
   "id": "fd00941b-a3df-48d4-864c-bef984a8cd3b",
   "metadata": {},
   "source": [
    "## Workspace"
   ]
  },
  {
   "cell_type": "markdown",
   "id": "c1e65293-8fba-4d27-8a75-8ae1c74ed290",
   "metadata": {},
   "source": [
    "### Load input data"
   ]
  },
  {
   "cell_type": "code",
   "execution_count": 9,
   "id": "8f403cad-2288-4b5e-930c-5982c4a1ded2",
   "metadata": {},
   "outputs": [
    {
     "data": {
      "text/plain": [
       "PosixPath('/lustre07/scratch/strokach/workspace/elaspic2-cagi6/notebooks/31_run_alphafold_wt/cagi6-sherloc/shard-1-of-4182.parquet')"
      ]
     },
     "execution_count": 9,
     "metadata": {},
     "output_type": "execute_result"
    }
   ],
   "source": [
    "input_file = INPUT_DIR.joinpath(\n",
    "    DATASET_NAME, f\"shard-{TASK_ID}-of-{TASK_COUNT}.parquet\"\n",
    ")\n",
    "assert input_file.is_file(), input_file\n",
    "\n",
    "input_file"
   ]
  },
  {
   "cell_type": "code",
   "execution_count": 10,
   "id": "66132e53-6f7c-4670-9770-536335affca9",
   "metadata": {},
   "outputs": [],
   "source": [
    "columns = [\n",
    "    \"protein_id\",\n",
    "    # Sequence\n",
    "    \"single\",\n",
    "    \"experimentally_resolved\",\n",
    "    \"predicted_lddt\",\n",
    "    \"msa_first_row\",\n",
    "    \"structure_module\",\n",
    "    \"max_predicted_aligned_error\",\n",
    "    \"plddt\",\n",
    "    \"ptm\",\n",
    "    # Pairwise\n",
    "    \"pair\",\n",
    "    \"distogram\",\n",
    "    # \"distogram_bin_edges\",\n",
    "    \"aligned_confidence_probs\",\n",
    "    \"predicted_aligned_error\",\n",
    "    # MSA\n",
    "    \"msa\",\n",
    "    \"masked_msa\",\n",
    "]"
   ]
  },
  {
   "cell_type": "code",
   "execution_count": 11,
   "id": "729938ca-b5de-4319-b31b-d32847154bf2",
   "metadata": {},
   "outputs": [],
   "source": [
    "input_df = pq.read_table(input_file, columns=columns).to_pandas(\n",
    "    integer_object_nulls=True\n",
    ")\n",
    "\n",
    "assert len(input_df) == 1\n",
    "input_row = input_df.iloc[0].to_dict()\n",
    "del input_df"
   ]
  },
  {
   "cell_type": "code",
   "execution_count": 12,
   "id": "f996b449-1770-41aa-b995-f463606f97c2",
   "metadata": {},
   "outputs": [],
   "source": [
    "for column in [\n",
    "    \"distogram\",\n",
    "    \"masked_msa\",\n",
    "    \"predicted_aligned_error\",\n",
    "    \"aligned_confidence_probs\",\n",
    "    \"msa\",\n",
    "    \"pair\",\n",
    "]:\n",
    "    input_row[column] = np.stack(\n",
    "        [np.stack(input_row[column][i]) for i in range(len(input_row[column]))]\n",
    "    )"
   ]
  },
  {
   "cell_type": "code",
   "execution_count": 13,
   "id": "e3505399-8f10-45d1-8bc2-e4c999bbae18",
   "metadata": {},
   "outputs": [
    {
     "data": {
      "text/plain": [
       "['protein_id',\n",
       " 'single',\n",
       " 'experimentally_resolved',\n",
       " 'predicted_lddt',\n",
       " 'msa_first_row',\n",
       " 'structure_module',\n",
       " 'max_predicted_aligned_error',\n",
       " 'plddt',\n",
       " 'ptm',\n",
       " 'pair',\n",
       " 'distogram',\n",
       " 'aligned_confidence_probs',\n",
       " 'predicted_aligned_error',\n",
       " 'msa',\n",
       " 'masked_msa']"
      ]
     },
     "execution_count": 13,
     "metadata": {},
     "output_type": "execute_result"
    }
   ],
   "source": [
    "list(input_row)"
   ]
  },
  {
   "cell_type": "markdown",
   "id": "39d4bfb5-25e5-4845-be61-c2427f0a5544",
   "metadata": {},
   "source": [
    "### Map protein ids to mutations"
   ]
  },
  {
   "cell_type": "code",
   "execution_count": 14,
   "id": "4f220904-0fe9-4f2b-bd26-bf421f501159",
   "metadata": {},
   "outputs": [
    {
     "data": {
      "text/plain": [
       "2833"
      ]
     },
     "execution_count": 14,
     "metadata": {},
     "output_type": "execute_result"
    }
   ],
   "source": [
    "protein_mutation_lookup = (\n",
    "    pq.read_table(DATASET_PATH, columns=[\"protein_id\", \"mutation\"])\n",
    "    .to_pandas()\n",
    "    .set_index(\"protein_id\")[\"mutation\"]\n",
    "    .to_dict()\n",
    ")\n",
    "\n",
    "len(protein_mutation_lookup)"
   ]
  },
  {
   "cell_type": "code",
   "execution_count": 15,
   "id": "7558ab87-ba92-47e5-b4fb-469b5f41bacf",
   "metadata": {},
   "outputs": [
    {
     "data": {
      "text/plain": [
       "array(['R9C', 'T8P', 'F32S', 'P21T', 'R25C', 'R25H', 'I38T', 'F32S',\n",
       "       'I12M', 'I12V', 'V49M', 'S10L', 'R9H', 'M50T', 'L51I', 'L52I',\n",
       "       'R25G', 'L42I', 'L44P', 'I18T', 'R14I'], dtype=object)"
      ]
     },
     "execution_count": 15,
     "metadata": {},
     "output_type": "execute_result"
    }
   ],
   "source": [
    "input_row[\"mutations\"] = protein_mutation_lookup[input_row[\"protein_id\"]]\n",
    "\n",
    "input_row[\"mutations\"]"
   ]
  },
  {
   "cell_type": "markdown",
   "id": "24b1b80e-c7f3-4bd7-8a09-9bfb18794df1",
   "metadata": {},
   "source": [
    "### Process AlphaFold embeddings"
   ]
  },
  {
   "cell_type": "code",
   "execution_count": 16,
   "id": "659de6ec-d53c-47ac-9bcd-1979b364f782",
   "metadata": {},
   "outputs": [],
   "source": [
    "def process_mutation_embeddings(mutation, predictions):\n",
    "    wt, pos, mut = mutation[0], mutation[1:-1], mutation[-1]\n",
    "    idx = int(pos) - 1\n",
    "    assert idx >= 0\n",
    "\n",
    "    af_wt_idx = residue_constants.restype_order_with_x[wt]\n",
    "    af_mut_idx = residue_constants.restype_order_with_x[mut]\n",
    "\n",
    "    # Sequence\n",
    "    def as_residue(x):\n",
    "        return x[idx].astype(np.float32)\n",
    "\n",
    "    def as_protein(x):\n",
    "        return x.mean(axis=0).astype(np.float32)\n",
    "\n",
    "    # Pairwise\n",
    "    def agg_rows(x, fn):\n",
    "        return fn(x[idx, :, :], axis=0)\n",
    "\n",
    "    def agg_columns(x, fn):\n",
    "        return fn(x[:, idx, :], axis=0)\n",
    "\n",
    "    def extract_diagonal(x):\n",
    "        return x[idx, idx, :]\n",
    "\n",
    "    # MSA\n",
    "    def extract_msa_logit(value, aa_idx):\n",
    "        return value[:, idx, aa_idx]\n",
    "\n",
    "    def extract_msa_logproba(value, aa_idx):\n",
    "        return sps.log_softmax(value, axis=-1)[:, idx, aa_idx]\n",
    "\n",
    "    sequence_embeddings = {\n",
    "        \"experimentally_resolved\": predictions[\"experimentally_resolved\"],\n",
    "        \"predicted_lddt\": predictions[\"predicted_lddt\"],\n",
    "        \"msa_first_row\": predictions[\"msa_first_row\"],\n",
    "        \"single\": predictions[\"single\"],\n",
    "        \"structure_module\": predictions[\"structure_module\"],\n",
    "    }\n",
    "\n",
    "    pairwise_embeddings = {\n",
    "        \"distogram\": predictions[\"distogram\"],\n",
    "        # \"aligned_confidence_probs\": predictions[\"aligned_confidence_probs\"],\n",
    "        \"pair\": predictions[\"pair\"],\n",
    "    }\n",
    "\n",
    "    msa_embeddings = {\n",
    "        \"msa\": predictions[\"msa\"],\n",
    "    }\n",
    "\n",
    "    output = {\n",
    "        # Sequence\n",
    "        \"score_plddt\": predictions[\"plddt\"][idx].item(),\n",
    "        # \"score_protein_plddt\": predictions[\"plddt\"].mean().item(),  # no good\n",
    "        # \"score_protein_max_predicted_aligned_error\": (\n",
    "        #     predictions[\"max_predicted_aligned_error\"]\n",
    "        # ),  # all same\n",
    "        # \"score_protein_ptm\": predictions[\"ptm\"],  # no good\n",
    "        # ...\n",
    "        **{\n",
    "            f\"features_{key}\": as_residue(value)\n",
    "            for key, value in sequence_embeddings.items()\n",
    "        },\n",
    "        # Pairwise 2D\n",
    "        \"score_predicted_aligned_error_row_mean\": (\n",
    "            predictions[\"predicted_aligned_error\"][idx, :].mean().item()\n",
    "        ),\n",
    "        # \"score_predicted_aligned_error_row_max\": (\n",
    "        #     predictions[\"predicted_aligned_error\"][idx, :].max().item()\n",
    "        # ),  # no good\n",
    "        \"score_predicted_aligned_error_col_mean\": (\n",
    "            predictions[\"predicted_aligned_error\"][:, idx].mean().item()\n",
    "        ),\n",
    "        # \"score_predicted_aligned_error_col_max\": (\n",
    "        #     predictions[\"predicted_aligned_error\"][:, idx].max().item()\n",
    "        # ),  # no good\n",
    "        \"score_predicted_aligned_error_diag\": (\n",
    "            predictions[\"predicted_aligned_error\"][idx, idx].item()\n",
    "        ),\n",
    "        # Pairwise 3D\n",
    "        **{\n",
    "            f\"features_{key}_row_mean\": agg_rows(value, np.mean)\n",
    "            for key, value in pairwise_embeddings.items()\n",
    "        },\n",
    "        **{\n",
    "            f\"features_{key}_row_max\": agg_rows(value, np.max)\n",
    "            for key, value in pairwise_embeddings.items()\n",
    "        },\n",
    "        **{\n",
    "            f\"features_{key}_col_mean\": agg_columns(value, np.mean)\n",
    "            for key, value in pairwise_embeddings.items()\n",
    "        },\n",
    "        **{\n",
    "            f\"features_{key}_col_max\": agg_columns(value, np.max)\n",
    "            for key, value in pairwise_embeddings.items()\n",
    "        },\n",
    "        **{\n",
    "            f\"features_{key}_diag\": extract_diagonal(value)\n",
    "            for key, value in pairwise_embeddings.items()\n",
    "        },\n",
    "        # MSA\n",
    "        **{\n",
    "            f\"score_msa_{process}_{agg}_{variant}\": (\n",
    "                agg_fn(process_fn(predictions[\"masked_msa\"], variant_idx))\n",
    "            )\n",
    "            for process, process_fn in [\n",
    "                # (\"logits\", extract_msa_logit),  # does not help\n",
    "                (\"logproba\", extract_msa_logproba),\n",
    "            ]\n",
    "            for agg, agg_fn in [\n",
    "                (\"first\", lambda x: x[0]),\n",
    "                (\"mean\", lambda x: np.mean(x, axis=0)),\n",
    "                (\"max\", lambda x: np.max(x, axis=0)),\n",
    "            ]\n",
    "            for variant, variant_idx in [\n",
    "                (\"wt\", af_wt_idx),\n",
    "                (\"mut\", af_mut_idx),\n",
    "            ]\n",
    "        },\n",
    "        **{\n",
    "            f\"features_{key}_first\": value[0, idx, :]\n",
    "            for key, value in msa_embeddings.items()\n",
    "        },\n",
    "        **{\n",
    "            f\"features_{key}_mean\": agg_columns(value, np.mean)\n",
    "            for key, value in msa_embeddings.items()\n",
    "        },\n",
    "        **{\n",
    "            f\"features_{key}_max\": agg_columns(value, np.max)\n",
    "            for key, value in msa_embeddings.items()\n",
    "        },\n",
    "    }\n",
    "\n",
    "    return output"
   ]
  },
  {
   "cell_type": "code",
   "execution_count": 17,
   "id": "7fd8dfa0-326e-44ee-8456-a478184b6258",
   "metadata": {},
   "outputs": [],
   "source": [
    "results = []\n",
    "for mutation in input_row[\"mutations\"]:\n",
    "    try:\n",
    "        features = {\n",
    "            f\"alphafold_core_{key}\": value\n",
    "            for key, value in process_mutation_embeddings(mutation, input_row).items()\n",
    "        }\n",
    "    except Exception as e:\n",
    "        if TASK_ID == 1098:\n",
    "            print(f\"Encountered an error: {e!r}!\")\n",
    "            continue\n",
    "        else:\n",
    "            raise\n",
    "\n",
    "    results.append(\n",
    "        {\n",
    "            \"protein_id\": input_row[\"protein_id\"],\n",
    "            \"mutation\": mutation,\n",
    "        }\n",
    "        | features\n",
    "    )\n",
    "\n",
    "results_df = pd.DataFrame(results)\n",
    "del results"
   ]
  },
  {
   "cell_type": "markdown",
   "id": "910d9cdf-bc05-403f-bcdd-db37e19869a2",
   "metadata": {},
   "source": [
    "### Write results"
   ]
  },
  {
   "cell_type": "code",
   "execution_count": 18,
   "id": "cab6ac3c-1a51-412b-a63b-5f498cf854c1",
   "metadata": {},
   "outputs": [
    {
     "name": "stdout",
     "output_type": "stream",
     "text": [
      "/tmp/tmptewi2_vp\n"
     ]
    }
   ],
   "source": [
    "if not DEBUG:\n",
    "    pq.write_table(pa.Table.from_pandas(results_df, preserve_index=False), output_file)\n",
    "else:\n",
    "    with tempfile.NamedTemporaryFile() as tmp_file:\n",
    "        print(tmp_file.name)\n",
    "        pq.write_table(\n",
    "            pa.Table.from_pandas(results_df, preserve_index=False), tmp_file.name\n",
    "        )"
   ]
  },
  {
   "cell_type": "code",
   "execution_count": 19,
   "id": "a1228b48-5250-4575-a6de-c10d79649223",
   "metadata": {},
   "outputs": [
    {
     "name": "stdout",
     "output_type": "stream",
     "text": [
      "Done!\n"
     ]
    }
   ],
   "source": [
    "print(\"Done!\")"
   ]
  },
  {
   "cell_type": "code",
   "execution_count": null,
   "id": "3cc6dd16-931c-412b-9b84-7699caae4371",
   "metadata": {},
   "outputs": [],
   "source": []
  }
 ],
 "metadata": {
  "kernelspec": {
   "display_name": "Python 3 (ipykernel)",
   "language": "python",
   "name": "python3"
  },
  "language_info": {
   "codemirror_mode": {
    "name": "ipython",
    "version": 3
   },
   "file_extension": ".py",
   "mimetype": "text/x-python",
   "name": "python",
   "nbconvert_exporter": "python",
   "pygments_lexer": "ipython3",
   "version": "3.9.7"
  }
 },
 "nbformat": 4,
 "nbformat_minor": 5
}
