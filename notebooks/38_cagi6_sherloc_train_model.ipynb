{
 "cells": [
  {
   "cell_type": "markdown",
   "id": "26c81e96-6b41-41fa-80a6-6360c482eb58",
   "metadata": {},
   "source": [
    "## Summary\n",
    "\n",
    "---"
   ]
  },
  {
   "cell_type": "markdown",
   "id": "ec276dec-6afa-4b57-bbfc-a11e04a8767e",
   "metadata": {},
   "source": [
    "## Imports"
   ]
  },
  {
   "cell_type": "code",
   "execution_count": null,
   "id": "539f4edf-ca04-4bef-b5c9-a6d402f7570b",
   "metadata": {},
   "outputs": [],
   "source": [
    "import functools\n",
    "from pathlib import Path\n",
    "\n",
    "import elaspic2 as el2\n",
    "import lightgbm as lgb\n",
    "import matplotlib.pyplot as plt\n",
    "import numpy as np\n",
    "import optuna\n",
    "import pandas as pd\n",
    "import pyarrow as pa\n",
    "import pyarrow.parquet as pq\n",
    "from scipy import stats\n",
    "from sklearn import metrics, model_selection\n",
    "from sklearn.decomposition import PCA\n",
    "from sklearn.model_selection import GroupKFold\n",
    "from sklearn.preprocessing import StandardScaler\n",
    "from tqdm.auto import tqdm"
   ]
  },
  {
   "cell_type": "code",
   "execution_count": null,
   "id": "d08b0792-00b7-44be-9257-a554f95bd602",
   "metadata": {},
   "outputs": [],
   "source": [
    "pd.set_option(\"max_columns\", 1000)\n",
    "pd.set_option(\"max_rows\", 1000)"
   ]
  },
  {
   "cell_type": "markdown",
   "id": "5be0ca05-c038-414f-ba84-b2ae8013088b",
   "metadata": {},
   "source": [
    "## Parameters"
   ]
  },
  {
   "cell_type": "code",
   "execution_count": null,
   "id": "10e1faee-9f6a-40d8-8819-272b1c9837bb",
   "metadata": {},
   "outputs": [],
   "source": [
    "NOTEBOOK_DIR = Path(\"38_cagi6_sherloc_train_model\").resolve()\n",
    "NOTEBOOK_DIR.mkdir(exist_ok=True)\n",
    "\n",
    "NOTEBOOK_DIR"
   ]
  },
  {
   "cell_type": "markdown",
   "id": "4d36d995-7bea-48cc-971b-cf926cbb17f8",
   "metadata": {},
   "source": [
    "## Load data"
   ]
  },
  {
   "cell_type": "code",
   "execution_count": null,
   "id": "4de96fa1-7815-48cb-a8ed-035d5ddd8a8c",
   "metadata": {},
   "outputs": [],
   "source": [
    "submission_template_file = NOTEBOOK_DIR.parent.joinpath(\n",
    "    \"30_cagi6_sherloc\", \"submission_template.tsv\"\n",
    ")\n",
    "\n",
    "submission_template_df = pd.read_csv(submission_template_file, sep=\"\\t\")\n",
    "\n",
    "display(submission_template_df.head(2))\n",
    "len(submission_template_df)"
   ]
  },
  {
   "cell_type": "markdown",
   "id": "8349f2e2-9d7d-43ab-a5e2-27935dd72dae",
   "metadata": {},
   "source": [
    "### `training_df`"
   ]
  },
  {
   "cell_type": "code",
   "execution_count": null,
   "id": "fd60b9b3-b6c0-4c6a-8769-70414425df6e",
   "metadata": {},
   "outputs": [],
   "source": [
    "training_file = NOTEBOOK_DIR.parent.joinpath(\n",
    "    \"30_cagi6_sherloc\",\n",
    "    \"CAGI6-Sherloc-clinical-classification\",\n",
    "    \"final_train_070821.txt\",\n",
    ")"
   ]
  },
  {
   "cell_type": "code",
   "execution_count": null,
   "id": "3c067902-63e5-425d-aa59-9183106a750b",
   "metadata": {},
   "outputs": [],
   "source": [
    "training_all_df = pd.read_csv(training_file, sep=\"\\t\")\n",
    "\n",
    "display(training_all_df.head(2))\n",
    "len(training_all_df)"
   ]
  },
  {
   "cell_type": "code",
   "execution_count": null,
   "id": "19cd38c9-1569-4c3e-9920-492604dc0ddd",
   "metadata": {},
   "outputs": [],
   "source": [
    "assert not set(submission_template_df[\"hgvs\"]) & set(training_all_df[\"hgvs\"])"
   ]
  },
  {
   "cell_type": "code",
   "execution_count": null,
   "id": "7d852835-27fc-4be4-a9a2-f011ee68f6e1",
   "metadata": {},
   "outputs": [],
   "source": [
    "training_df = training_all_df[training_all_df[\"Subcategory Missense\"]]\n",
    "\n",
    "display(training_df.head(2))\n",
    "len(training_df)"
   ]
  },
  {
   "cell_type": "markdown",
   "id": "dc4d933d-a5de-48da-b2f5-8c1bfb2d4b0f",
   "metadata": {},
   "source": [
    "### `testing_df`"
   ]
  },
  {
   "cell_type": "code",
   "execution_count": null,
   "id": "57d4ef71-ec3e-4152-8dfa-de4584e2aad4",
   "metadata": {},
   "outputs": [],
   "source": [
    "testing_file = NOTEBOOK_DIR.parent.joinpath(\n",
    "    \"30_cagi6_sherloc\", \"CAGI6-Sherloc-clinical-classification\", \"final_test_070821.txt\"\n",
    ")"
   ]
  },
  {
   "cell_type": "code",
   "execution_count": null,
   "id": "55dc0f3e-34bf-415d-8c6a-67356700dc38",
   "metadata": {},
   "outputs": [],
   "source": [
    "testing_all_df = pd.read_csv(testing_file, sep=\"\\t\")\n",
    "\n",
    "display(testing_all_df.head(2))\n",
    "len(testing_all_df)"
   ]
  },
  {
   "cell_type": "code",
   "execution_count": null,
   "id": "52d4ed61-3ddd-4cac-a934-a2cc07349392",
   "metadata": {},
   "outputs": [],
   "source": [
    "assert not set(submission_template_df[\"hgvs\"]) ^ set(testing_all_df[\"hgvs\"])"
   ]
  },
  {
   "cell_type": "code",
   "execution_count": null,
   "id": "f5b2db23-6aa7-4892-968b-1169b59057a4",
   "metadata": {},
   "outputs": [],
   "source": [
    "testing_df = testing_all_df[testing_all_df[\"Subcategory Missense\"]]\n",
    "\n",
    "display(testing_df.head(2))\n",
    "len(testing_df)"
   ]
  },
  {
   "cell_type": "markdown",
   "id": "c76d3637-20f1-4ab1-8222-f857c4631325",
   "metadata": {},
   "source": [
    "### `validation_df`"
   ]
  },
  {
   "cell_type": "code",
   "execution_count": null,
   "id": "72f5dfd8-d33f-4228-9632-194cb74b7424",
   "metadata": {},
   "outputs": [],
   "source": [
    "validation_file = NOTEBOOK_DIR.parent.joinpath(\n",
    "    \"30_cagi6_sherloc\", \"validation_variants.tsv\"\n",
    ")"
   ]
  },
  {
   "cell_type": "code",
   "execution_count": null,
   "id": "7d7355ec-350b-4cd7-a836-505b9176502b",
   "metadata": {},
   "outputs": [],
   "source": [
    "validation_all_df = pd.read_csv(validation_file, sep=\"\\t\").rename(\n",
    "    columns={\"HGVS.c\": \"hgvs_g\"}\n",
    ")\n",
    "\n",
    "display(validation_all_df.tail(2))\n",
    "len(validation_all_df)"
   ]
  },
  {
   "cell_type": "code",
   "execution_count": null,
   "id": "1b4246f2-f166-4735-a4ee-40345b607043",
   "metadata": {},
   "outputs": [],
   "source": [
    "def map_g_to_c(str_g, mapper):\n",
    "    from hgvs.exceptions import HGVSInvalidIntervalError, HGVSUsageError\n",
    "\n",
    "    var_g = hp.parse_hgvs_variant(str_g)\n",
    "    for tx_ac in mapper.relevant_transcripts(var_g):\n",
    "        try:\n",
    "            var_c = mapper.g_to_c(var_g, tx_ac)\n",
    "        except (HGVSUsageError, HGVSInvalidIntervalError):\n",
    "            continue\n",
    "        yield var_c"
   ]
  },
  {
   "cell_type": "code",
   "execution_count": null,
   "id": "74e25dc7-f9c2-42de-a104-c8946d1233f1",
   "metadata": {},
   "outputs": [],
   "source": [
    "validation_mapping_file = NOTEBOOK_DIR.parent.joinpath(\n",
    "    \"30_cagi6_sherloc\", \"validation-mapping-grch37.parquet\"\n",
    ")\n",
    "\n",
    "if validation_mapping_file.is_file():\n",
    "    validation_mapping_df = pq.read_table(validation_mapping_file).to_pandas()\n",
    "else:\n",
    "    import hgvs.assemblymapper\n",
    "    import hgvs.dataproviders.uta\n",
    "    import hgvs.parser\n",
    "\n",
    "    hp = hgvs.parser.Parser()\n",
    "    hdp = hgvs.dataproviders.uta.connect()\n",
    "    mapper = hgvs.assemblymapper.AssemblyMapper(\n",
    "        hdp, assembly_name=\"GRCh37\", normalize=False\n",
    "    )\n",
    "\n",
    "    results = []\n",
    "    for tup in tqdm(validation_all_df.itertuples(), total=len(validation_all_df)):\n",
    "        for var_c in map_g_to_c(tup.hgvs_g, mapper):\n",
    "            results.append((tup.str_g, str(var_c)))\n",
    "    validation_mapping_df = pd.DataFrame(results, columns=[\"hgvs_g\", \"hgvs\"])\n",
    "    pq.write_table(\n",
    "        pa.Table.from_pandas(validation_mapping_df, preserve_index=False),\n",
    "        validation_mapping_file,\n",
    "    )"
   ]
  },
  {
   "cell_type": "code",
   "execution_count": null,
   "id": "73e87f59-55e5-4d95-8c0d-1d70dfe58a32",
   "metadata": {},
   "outputs": [],
   "source": [
    "display(validation_mapping_df.head(2))\n",
    "print(len(validation_mapping_df))"
   ]
  },
  {
   "cell_type": "code",
   "execution_count": null,
   "id": "f5e1fba7-657e-40d2-bd17-25103d8ad28c",
   "metadata": {},
   "outputs": [],
   "source": [
    "validation_df = (\n",
    "    validation_all_df\n",
    "    #\n",
    "    .merge(validation_mapping_df, on=[\"hgvs_g\"], how=\"left\")\n",
    ")"
   ]
  },
  {
   "cell_type": "code",
   "execution_count": null,
   "id": "57fea139-d74e-41a5-bf70-0f6faa20123f",
   "metadata": {},
   "outputs": [],
   "source": [
    "display(validation_df.tail(2))\n",
    "print(len(validation_df))\n",
    "print(len(validation_df[\"hgvs_g\"].unique()))"
   ]
  },
  {
   "cell_type": "markdown",
   "id": "fd00941b-a3df-48d4-864c-bef984a8cd3b",
   "metadata": {},
   "source": [
    "## Load results"
   ]
  },
  {
   "cell_type": "code",
   "execution_count": null,
   "id": "0754bcaa-1b8d-49cd-9e98-a3d7c9b345b1",
   "metadata": {},
   "outputs": [],
   "source": [
    "DATASET_NAME = \"cagi6-sherloc\"\n",
    "\n",
    "DATASET_NAME"
   ]
  },
  {
   "cell_type": "code",
   "execution_count": null,
   "id": "74eef855-210a-46c5-b48a-6e25b8986b6b",
   "metadata": {},
   "outputs": [],
   "source": [
    "input_file = NOTEBOOK_DIR.parent.joinpath(\n",
    "    \"37_cagi6_sherloc_combine_results\", \"combined-results.parquet\"\n",
    ")\n",
    "\n",
    "input_file"
   ]
  },
  {
   "cell_type": "code",
   "execution_count": null,
   "id": "3c33ba1c-76ed-4d2f-9e9f-0f36376ff50a",
   "metadata": {},
   "outputs": [],
   "source": [
    "result_df = pq.read_table(input_file).to_pandas()\n",
    "\n",
    "display(result_df.head(2))\n",
    "print(len(result_df))"
   ]
  },
  {
   "cell_type": "markdown",
   "id": "ae87c286-d491-42d4-941d-606cde544d48",
   "metadata": {},
   "source": [
    "## Exploratory data analysis"
   ]
  },
  {
   "cell_type": "code",
   "execution_count": null,
   "id": "e1374e04-eae5-47bb-b1b0-9aafc45782a0",
   "metadata": {},
   "outputs": [],
   "source": [
    "proteinsolver_columnms = [c for c in result_df if c.startswith(\"proteinsolver_\")]\n",
    "protbert_columns = [c for c in result_df if c.startswith(\"protbert_\")]\n",
    "rosetta_columns = [c for c in result_df if c.startswith(\"rosetta_\")]\n",
    "alphafold_columns = [c for c in result_df if c.startswith(\"alphafold_\")]"
   ]
  },
  {
   "cell_type": "code",
   "execution_count": null,
   "id": "1448fdf8-4949-4e91-b6c2-0db0711b8ea4",
   "metadata": {},
   "outputs": [],
   "source": [
    "result_df[\"effect\"].value_counts()"
   ]
  },
  {
   "cell_type": "code",
   "execution_count": null,
   "id": "4ea8e99e-ccd9-4c28-8613-c3bde79aefbe",
   "metadata": {},
   "outputs": [],
   "source": [
    "effect_map = {\n",
    "    \"Uncertain significance\": 0,\n",
    "    \"Likely benign\": -1,\n",
    "    \"Benign\": -2,\n",
    "    \"Likely pathogenic\": 1,\n",
    "    \"Pathogenic\": 2,\n",
    "}\n",
    "\n",
    "result_df[\"effect_score\"] = result_df[\"effect\"].map(effect_map)"
   ]
  },
  {
   "cell_type": "code",
   "execution_count": null,
   "id": "eb146d6b-4dac-451b-8ed2-951a07d51a9c",
   "metadata": {},
   "outputs": [],
   "source": [
    "score_columns = [\n",
    "    \"el2_score\",\n",
    "    \"proteinsolver_core_score_change\",\n",
    "    \"protbert_core_score_change\",\n",
    "    \"rosetta_dg_change\",\n",
    "    #     \"alphafold_core_scores_residue_plddt_wt\",\n",
    "    #     \"alphafold_core_scores_protein_plddt_wt\",\n",
    "    #     \"alphafold_core_scores_protein_max_predicted_aligned_error_wt\",\n",
    "    #     \"alphafold_core_scores_proten_ptm_wt\",\n",
    "]\n",
    "\n",
    "df = result_df.dropna(subset=score_columns + [\"effect_score\"])\n",
    "df = df[df[\"effect_score\"] != 0].reset_index(drop=True)\n",
    "\n",
    "for col in score_columns:\n",
    "    corr = stats.spearmanr(df[\"effect_score\"], df[col])\n",
    "    auc = metrics.roc_auc_score(df[\"effect_score\"] > 0, df[col])\n",
    "    print(col, corr[0], auc)"
   ]
  },
  {
   "cell_type": "markdown",
   "id": "a5a022f7-5f44-4505-9d5b-7f2086b984aa",
   "metadata": {},
   "source": [
    "## Train ML model"
   ]
  },
  {
   "cell_type": "markdown",
   "id": "d477fa31-30ac-4db5-b7f3-f063ed962d47",
   "metadata": {},
   "source": [
    "### Prepare dataset"
   ]
  },
  {
   "cell_type": "code",
   "execution_count": null,
   "id": "7b8387b4-601c-42ec-8636-d626b1bdc806",
   "metadata": {},
   "outputs": [],
   "source": [
    "rosetta_columns = [c for c in result_df if \"rosetta\" in c]\n",
    "msa_columns = [c for c in result_df if c.startswith(\"msa\")]\n",
    "\n",
    "len(rosetta_columns), len(msa_columns)"
   ]
  },
  {
   "cell_type": "code",
   "execution_count": null,
   "id": "2d868655-c34e-4831-a85c-5a4e48dd463d",
   "metadata": {
    "tags": []
   },
   "outputs": [],
   "source": [
    "scalar_features = [\n",
    "    #     \"el2_score\",\n",
    "    \"proteinsolver_core_score_wt\",\n",
    "    \"proteinsolver_core_score_change\",\n",
    "    \"protbert_core_score_wt\",\n",
    "    \"protbert_core_score_change\",\n",
    "] + msa_columns\n",
    "vector_features = [\n",
    "    \"aa_wt_onehot\",\n",
    "    \"aa_mut_onehot\",\n",
    "    \"protbert_core_features_residue_wt\",\n",
    "    \"protbert_core_features_residue_change\",\n",
    "    \"proteinsolver_core_features_residue_wt\",\n",
    "    \"proteinsolver_core_features_residue_change\",\n",
    "    #     \"protbert_core_features_protein_wt\",\n",
    "    #     \"protbert_core_features_protein_change\",\n",
    "    #     \"proteinsolver_core_features_protein_wt\",\n",
    "    #     \"proteinsolver_core_features_protein_change\",\n",
    "    #\n",
    "    # AlphaFold\n",
    "    #     \"alphafold_core_features_residue_experimentally_resolved_wt\",  # 0.19 [37]\n",
    "    #     \"alphafold_core_features_residue_experimentally_resolved_change\",  # 0.11 [37]\n",
    "    #     \"alphafold_core_features_residue_predicted_lddt_wt\",  # 0.17 [50]\n",
    "    #     \"alphafold_core_features_residue_predicted_lddt_change\",  # 0.04 [50]\n",
    "    #     \"alphafold_core_features_residue_msa_first_row_wt\",  # 0.17 [256]\n",
    "    #     \"alphafold_core_features_residue_msa_first_row_change\",  # 0.21 [256]\n",
    "    #     \"alphafold_core_features_residue_single_wt\",  # 0.20 [384]\n",
    "    #     \"alphafold_core_features_residue_single_change\",  # 0.15 [384]\n",
    "    #     \"alphafold_core_features_residue_structure_module_wt\",  # 0.18 [384]\n",
    "    #     \"alphafold_core_features_residue_structure_module_change\",  # 0.05 [384]\n",
    "]\n",
    "\n",
    "#             \"rosetta_dg_change\",\n",
    "#             \"alphafold_core_features_residue_experimentally_resolved_wt\",\n",
    "\n",
    "df = (\n",
    "    result_df.dropna(\n",
    "        subset=scalar_features\n",
    "        + vector_features\n",
    "        + [\n",
    "            \"effect_score\",\n",
    "        ]\n",
    "    )\n",
    "    .sample(frac=1, random_state=0)\n",
    "    .reset_index(drop=True)\n",
    ")\n",
    "df = df[df[\"effect_score\"] != 0].reset_index(drop=True)\n",
    "\n",
    "\n",
    "X_ref = np.c_[\n",
    "    df[scalar_features].values,\n",
    "    np.hstack([np.vstack(df[col].values) for col in vector_features]),\n",
    "]\n",
    "X = X_ref\n",
    "# X = X[:, important_features]\n",
    "\n",
    "low_confidence_mask = df[\"effect_score\"] == 0\n",
    "\n",
    "y = (df[\"effect_score\"] > 0).values.astype(int)\n",
    "y[low_confidence_mask] = (df[low_confidence_mask][\"el2_score\"] > 2).values.astype(int)\n",
    "# y = df[\"effect_score\"].values\n",
    "\n",
    "weights = np.ones(len(df), dtype=np.float64)\n",
    "weights[df[\"effect_score\"] == 1] = 0.5\n",
    "weights[df[\"effect_score\"] == -1] = 0.5\n",
    "weights[low_confidence_mask] = 0.05"
   ]
  },
  {
   "cell_type": "code",
   "execution_count": null,
   "id": "f247c408-41f4-4f60-aff9-95a6149df55b",
   "metadata": {},
   "outputs": [],
   "source": [
    "df[\"effect_score\"].value_counts()"
   ]
  },
  {
   "cell_type": "code",
   "execution_count": null,
   "id": "3be2458b-420a-434d-b7fe-41842e9f4cc4",
   "metadata": {},
   "outputs": [],
   "source": [
    "from collections import Counter\n",
    "\n",
    "Counter(y)"
   ]
  },
  {
   "cell_type": "markdown",
   "id": "5268b00d-6f53-489a-a8aa-8141622fcec1",
   "metadata": {},
   "source": [
    "### Hyperparameter optimization"
   ]
  },
  {
   "cell_type": "code",
   "execution_count": null,
   "id": "628f2323-0afa-4eb4-937d-2e77e6a2b3a9",
   "metadata": {},
   "outputs": [],
   "source": [
    "def training_loop(X, y, weights, param, n_splits=6, progressbar=False):\n",
    "    models = []\n",
    "    preds = np.ones(len(y), dtype=np.float64) * np.nan\n",
    "    gkf = GroupKFold(n_splits=n_splits)\n",
    "    for train_index, test_index in tqdm(\n",
    "        gkf.split(X, y, groups=df[\"protein_id\"]),\n",
    "        total=n_splits,\n",
    "        disable=not progressbar,\n",
    "    ):\n",
    "        X_training, X_testing = X[train_index], X[test_index]\n",
    "        y_training, y_testing = y[train_index], y[test_index]\n",
    "        weights_training, weights_testing = weights[train_index], weights[test_index]\n",
    "\n",
    "        dtrain = lgb.Dataset(X_training, label=y_training, weight=weights_training)\n",
    "        model = lgb.train(param, dtrain)\n",
    "        preds[test_index] = model.predict(X_testing)\n",
    "        models.append(model)\n",
    "    return models, preds"
   ]
  },
  {
   "cell_type": "code",
   "execution_count": null,
   "id": "7dde5332-4896-4fd2-bdee-cf1b8f9f4aa8",
   "metadata": {},
   "outputs": [],
   "source": [
    "def objective(trial, X, y, weights, low_confidence_mask):\n",
    "    param = {\n",
    "        \"objective\": \"binary\",\n",
    "        \"metric\": \"auc\",  # 'binary_logloss',\n",
    "        \"lambda_l1\": trial.suggest_loguniform(\"lambda_l1\", 1e-8, 10.0),\n",
    "        \"lambda_l2\": trial.suggest_loguniform(\"lambda_l2\", 1e-8, 10.0),\n",
    "        \"num_leaves\": trial.suggest_int(\"num_leaves\", 2, 64),\n",
    "        \"feature_fraction\": trial.suggest_uniform(\"feature_fraction\", 0.4, 1.0),\n",
    "        \"bagging_fraction\": trial.suggest_uniform(\"bagging_fraction\", 0.4, 1.0),\n",
    "        \"bagging_freq\": trial.suggest_int(\"bagging_freq\", 1, 7),\n",
    "        \"min_data_in_leaf\": trial.suggest_int(\"min_data_in_leaf\", 5, 60),\n",
    "    }\n",
    "    models, preds = training_loop(X, y, weights, param)\n",
    "    pred_labels = np.rint(preds)\n",
    "    accuracy = metrics.accuracy_score(\n",
    "        y[~low_confidence_mask], pred_labels[~low_confidence_mask]\n",
    "    )\n",
    "    auc = metrics.roc_auc_score(y[~low_confidence_mask], preds[~low_confidence_mask])\n",
    "    return auc"
   ]
  },
  {
   "cell_type": "code",
   "execution_count": null,
   "id": "4feb9aaf-3f65-4fbc-9a7c-b023f9532e9a",
   "metadata": {
    "tags": []
   },
   "outputs": [],
   "source": [
    "# study = optuna.create_study(direction=\"maximize\")\n",
    "# study.optimize(lambda trial: objective(trial, X, y, weights, low_confidence_mask), n_trials=100)\n",
    "\n",
    "# print(\"Number of finished trials:\", len(study.trials))\n",
    "# print(\"Best trial:\", study.best_trial.params)"
   ]
  },
  {
   "cell_type": "code",
   "execution_count": null,
   "id": "c3c3ac2b-a41b-4e4a-ad66-2fbe56d0fbb7",
   "metadata": {},
   "outputs": [],
   "source": [
    "# print(\"Number of finished trials:\", len(study.trials))\n",
    "# print(\"Best trial:\", study.best_trial.params)"
   ]
  },
  {
   "cell_type": "markdown",
   "id": "2d9f199a-dcb4-4ff4-85e6-7f8dc22d77eb",
   "metadata": {},
   "source": [
    "```json\n",
    "Number of finished trials: 100\n",
    "Best trial: {'lambda_l1': 5.233219055743764, 'lambda_l2': 0.00037944276593632404, 'num_leaves': 64, 'feature_fraction': 0.5395906681722488, 'bagging_fraction': 0.9467711664385872, 'bagging_freq': 5, 'min_child_samples': 15}\n",
    "\n",
    "```"
   ]
  },
  {
   "cell_type": "markdown",
   "id": "0b8fc980-df82-43bb-851f-2fe69c6da72a",
   "metadata": {},
   "source": [
    "### Checkpoint model"
   ]
  },
  {
   "cell_type": "code",
   "execution_count": null,
   "id": "0fd34182-8a04-4498-b8eb-a5bbfbd931c2",
   "metadata": {
    "tags": []
   },
   "outputs": [],
   "source": [
    "param = {\n",
    "    \"objective\": \"binary\",\n",
    "    \"metric\": \"auc\",  # 'binary_logloss',\n",
    "    \"lambda_l1\": 5.233219055743764,\n",
    "    \"lambda_l2\": 0.00037944276593632404,\n",
    "    \"num_leaves\": 64,\n",
    "    \"feature_fraction\": 0.5395906681722488,\n",
    "    \"bagging_fraction\": 0.9467711664385872,\n",
    "    \"bagging_freq\": 5,\n",
    "    \"min_child_samples\": 15,\n",
    "}\n",
    "\n",
    "\n",
    "models, preds = training_loop(X, y, weights, param, progressbar=True)\n",
    "\n",
    "corr = stats.spearmanr(y[~low_confidence_mask], preds[~low_confidence_mask])\n",
    "auc = metrics.roc_auc_score(y[~low_confidence_mask], preds[~low_confidence_mask])\n",
    "print(corr[0], auc)"
   ]
  },
  {
   "cell_type": "code",
   "execution_count": null,
   "id": "1c01f724-4099-4caa-9417-4aafb56253ae",
   "metadata": {},
   "outputs": [],
   "source": [
    "# Compare effect of weighting when using EL2 to label uncertain mutations\n",
    "# (weights for: 1, -1, 0)\n",
    "# 0.634985235753114 0.9065879781245562 (0.5, 0.5, 0.5)\n",
    "# 0.6461637973791433 0.9137457331619272 (0.5, 0.5, 0.1)\n",
    "# 0.6499893944121155 0.9161953047033986 (0.5, 0.5, 0.05) ★\n",
    "# 0.6496451717121724 0.9159748951509965 (0.5, 0.5, 0.01)"
   ]
  },
  {
   "cell_type": "markdown",
   "id": "2523fa04-0c78-46cb-b7ef-b07c34bfdfe5",
   "metadata": {},
   "source": [
    "### Feature elimination"
   ]
  },
  {
   "cell_type": "code",
   "execution_count": null,
   "id": "69c43031-7571-4491-b959-562b11e7d5d2",
   "metadata": {},
   "outputs": [],
   "source": [
    "def get_feature_index(num_features, features_to_exclude):\n",
    "    idx = 0\n",
    "    seen = set(features_to_exclude)\n",
    "    indices = list(reversed(range(num_features)))\n",
    "    while indices:\n",
    "        idx = indices.pop()\n",
    "        while idx in seen:\n",
    "            idx += 1\n",
    "        seen.add(idx)\n",
    "        yield idx\n",
    "\n",
    "\n",
    "list(get_feature_index(10, {1, 2, 3, 9, 10}))"
   ]
  },
  {
   "cell_type": "code",
   "execution_count": null,
   "id": "e79500fd-94f4-4cee-a1cc-15b047d05634",
   "metadata": {},
   "outputs": [],
   "source": [
    "features_to_exclude = {}\n",
    "\n",
    "fe_round = -1\n",
    "fe_round_stats = []\n",
    "while len(features_to_exclude) < X_ref.shape[1]:\n",
    "    fe_round += 1\n",
    "\n",
    "    # Apply feature elimination mask\n",
    "    feature_mask = np.ones(X_ref.shape[1], dtype=bool)\n",
    "    feature_mask[np.array(list(features_to_exclude), dtype=int)] = False\n",
    "    X = X_ref[:, feature_mask]\n",
    "\n",
    "    # Re-train models\n",
    "    models, preds = training_loop(X, y, weights, param, progressbar=True)\n",
    "\n",
    "    # Calculate model statistics\n",
    "    mask = df[\"effect_score\"] != 0\n",
    "    corr = stats.spearmanr(y[mask], preds[mask])\n",
    "    auc = metrics.roc_auc_score(y[mask], preds[mask])\n",
    "\n",
    "    # Save stats\n",
    "    print(\n",
    "        f\"Performance at round {fe_round}:\",\n",
    "        corr[0],\n",
    "        auc,\n",
    "        len(features_to_exclude),\n",
    "        X_ref.shape[1] - X.shape[1],\n",
    "    )\n",
    "    fe_round_stats.append((fe_round, corr[0], auc, len(features_to_exclude)))\n",
    "\n",
    "    # Find new features to eliminate\n",
    "    feature_importance_split = np.vstack(\n",
    "        [model.feature_importance(\"split\") for model in models]\n",
    "    ).sum(axis=0)\n",
    "    feature_importance_gain = np.vstack(\n",
    "        [model.feature_importance(\"gain\") for model in models]\n",
    "    ).sum(axis=0)\n",
    "\n",
    "    feature_df = pd.DataFrame(\n",
    "        {\n",
    "            \"feature_idx\": list(\n",
    "                get_feature_index(len(feature_importance_split), features_to_exclude)\n",
    "            ),\n",
    "            \"feature_importance_split\": feature_importance_split,\n",
    "            \"feature_importance_gain\": feature_importance_gain,\n",
    "        }\n",
    "    )\n",
    "\n",
    "    min_split = feature_df[\"feature_importance_split\"].min()\n",
    "    feature_df = feature_df[feature_df[\"feature_importance_split\"] == min_split]\n",
    "    min_gain = feature_df[\"feature_importance_gain\"].min()\n",
    "    feature_df = feature_df[feature_df[\"feature_importance_gain\"] == min_gain]\n",
    "    new_features_to_exclude = feature_df[\"feature_idx\"].values.tolist()\n",
    "\n",
    "    for feature_idx in new_features_to_exclude:\n",
    "        assert feature_idx not in features_to_exclude\n",
    "        features_to_exclude[feature_idx] = fe_round\n",
    "\n",
    "    break\n",
    "#     if (feature_df[\"feature_importance_split\"] == 0"
   ]
  },
  {
   "cell_type": "code",
   "execution_count": null,
   "id": "8136daef-fbc6-4b99-a6f1-2489bc76d1a9",
   "metadata": {},
   "outputs": [],
   "source": [
    "(feature_importance_split == 0).sum()"
   ]
  },
  {
   "cell_type": "markdown",
   "id": "010efb9b-5b53-4822-b5ab-89fd3a37cc7c",
   "metadata": {},
   "source": [
    "### Checkpoint model"
   ]
  },
  {
   "cell_type": "code",
   "execution_count": null,
   "id": "737be218-ab9f-420a-9397-68dd80f5efcf",
   "metadata": {},
   "outputs": [],
   "source": []
  },
  {
   "cell_type": "code",
   "execution_count": null,
   "id": "1a4a5122-a09b-440f-a0bc-ed4bd5a1625a",
   "metadata": {},
   "outputs": [],
   "source": []
  },
  {
   "cell_type": "code",
   "execution_count": null,
   "id": "73b1433e-40c1-4c90-a5fc-2bf82b5e7dcc",
   "metadata": {},
   "outputs": [],
   "source": [
    "feature_df"
   ]
  },
  {
   "cell_type": "code",
   "execution_count": null,
   "id": "0e6bb4e7-12a2-4b31-892f-44afb4050f6f",
   "metadata": {},
   "outputs": [],
   "source": [
    "# Play with weights\n",
    "# # Remove 0 from training set\n",
    "# 0.6445921081338579 0.9127408076311398\n",
    "# 0.6449644074377229 0.9129791957737381 (weights: 0.5, 0.5) [0.6519079506754358 0.9174252378639102]\n",
    "# 0.6445443685870316 0.9127102393712581 (weights: 0.4, 0.4)\n",
    "# 0.6455538992488725 0.9133566551362649 (weights: 0.3, 0.3) [0.9171164733046693]\n",
    "# 0.6452602748674968 0.9131686435817019 (weights: 0.2, 0.2)\n",
    "# 0.6443443914762861 0.9125821913961814 (weights: 0.1, 0.1)\n",
    "\n",
    "\n",
    "# # Keep 0 in training set\n",
    "# 0.6279471936537289 0.9020828498944281\n",
    "# 0.6443655135154522 0.9125957161157062 (weights: 1.0, 1.0, 0.05)\n",
    "# 0.6472835979832177 0.9144642039931771 (weights: 1.0, 1.0, 0.01) ★\n",
    "# 0.6460811745050736 0.9136942764200848 (weights: 0.5, 0.5, 0.01)\n",
    "# 0.6440994599372241 0.9124253585091959 (weights: 0.5, 0.5, 0.05)"
   ]
  },
  {
   "cell_type": "code",
   "execution_count": null,
   "id": "8445deff-468b-4186-bc2f-0a833ae6d132",
   "metadata": {},
   "outputs": [],
   "source": [
    "# Rows with Rosetta features\n",
    "# 0.6511097888905689 0.9069517496895931  (no Rosetta)\n",
    "# 0.6660185149966301 0.9162698896991949  (all Rosetta columns)"
   ]
  },
  {
   "cell_type": "code",
   "execution_count": null,
   "id": "76fd5b3b-e774-4685-aebb-e6718c78c908",
   "metadata": {},
   "outputs": [],
   "source": [
    "# Rows with AF features\n",
    "# 0.6658121877163097 0.9006706783116625  (no AF)\n",
    "# 0.6996884055147549 0.9210566180922061  (without AF changes)\n",
    "# 0.7041584812816902 0.9237466083367306  (with AF changes)"
   ]
  },
  {
   "cell_type": "code",
   "execution_count": null,
   "id": "b21c1962-50c7-4567-a424-7b30cfb37834",
   "metadata": {},
   "outputs": [],
   "source": [
    "# Rows with both AF and Rosetta features\n",
    "# 0.6598501937428695 0.8865273801086971\n",
    "# 0.6724664771013962 0.8939177529532045  (with Rosetta)\n",
    "# 0.7044603810803847 0.9126591582020247  (with AF and Rostta)"
   ]
  },
  {
   "cell_type": "code",
   "execution_count": null,
   "id": "c32f1941-be41-42f2-8531-182cb177e79e",
   "metadata": {},
   "outputs": [],
   "source": [
    "prediction_df = result_df.dropna(subset=scalar_features + vector_features).copy()\n",
    "\n",
    "\n",
    "X = np.c_[\n",
    "    prediction_df[scalar_features].values,\n",
    "    np.hstack([np.vstack(prediction_df[col].values) for col in vector_features]),\n",
    "]\n",
    "\n",
    "\n",
    "for model_idx, model in enumerate(models):\n",
    "    prediction_df[f\"pred_{model_idx}\"] = model.predict(X)\n",
    "\n",
    "prediction_df[\"pred\"] = prediction_df[\n",
    "    [f\"pred_{model_idx}\" for model_idx in range(len(models))]\n",
    "].mean(axis=1)"
   ]
  },
  {
   "cell_type": "code",
   "execution_count": null,
   "id": "cb5da178-5c9f-4acb-a1f1-eceece321d0b",
   "metadata": {},
   "outputs": [],
   "source": [
    "validation_submission_df = validation_df.assign(\n",
    "    is_missense=lambda df: df[\"hgvs\"].notnull()\n",
    ").merge(prediction_df, left_on=[\"hgvs\"], right_on=[\"mutation_id\"], how=\"left\")\n",
    "\n",
    "assert len(validation_submission_df) == len(validation_df)\n",
    "\n",
    "out = (\n",
    "    validation_submission_df.groupby(\"hgvs_g\")\n",
    "    .agg({\"pred\": np.nanmean, \"is_missense\": \"max\"})\n",
    "    .fillna(0.0)\n",
    "    .reset_index()\n",
    ")\n",
    "\n",
    "out[\"pred\"] = out[\"pred\"] / out[\"pred\"].max()\n",
    "\n",
    "out.head()"
   ]
  },
  {
   "cell_type": "code",
   "execution_count": null,
   "id": "2b94f396-33f1-4b70-a45c-e4f78da57c55",
   "metadata": {},
   "outputs": [],
   "source": [
    "plt.hist(out[out[\"pred\"] > 0][\"pred\"], bins=100)\n",
    "None"
   ]
  },
  {
   "cell_type": "code",
   "execution_count": null,
   "id": "cde86d76-f1a9-4f0c-9f90-a6a47aa8712d",
   "metadata": {},
   "outputs": [],
   "source": [
    "out[[\"hgvs_g\", \"pred\"]].to_csv(\n",
    "    NOTEBOOK_DIR.joinpath(\"submission-valid-5.tsv\"), index=False, sep=\"\\t\"\n",
    ")"
   ]
  },
  {
   "cell_type": "code",
   "execution_count": null,
   "id": "13d41033-892f-46e5-ad0a-9935de0fa4d0",
   "metadata": {},
   "outputs": [],
   "source": [
    "# 0.6516511403259807 0.9172607988182891 (without protein features)\n",
    "# 0.6511556042045329 0.9169435005200913 (with protein features)"
   ]
  },
  {
   "cell_type": "code",
   "execution_count": null,
   "id": "ede12efb-e1d5-4972-bc43-65850eb8507c",
   "metadata": {},
   "outputs": [],
   "source": [
    "# 0.6253383274259249 0.9004123585248509\n",
    "\n",
    "# 0.21795514450655545 0.8581850558176667\n",
    "# regression all: 0.22461305628504954 0.8288936050495531"
   ]
  },
  {
   "cell_type": "code",
   "execution_count": null,
   "id": "e2457a05-49f1-40d7-8504-0e0997861533",
   "metadata": {},
   "outputs": [],
   "source": [
    "model"
   ]
  },
  {
   "cell_type": "code",
   "execution_count": null,
   "id": "09c801a7-9898-4fc7-a5a0-7e01ffef5150",
   "metadata": {},
   "outputs": [],
   "source": [
    "clf.importance_type"
   ]
  },
  {
   "cell_type": "code",
   "execution_count": null,
   "id": "8e1b1454-0d3f-43bb-bc8b-5011516368d1",
   "metadata": {},
   "outputs": [],
   "source": [
    "clf.feature_importances_"
   ]
  },
  {
   "cell_type": "code",
   "execution_count": null,
   "id": "49cbe92b-91c4-4ce6-8d2c-5b0216a76f1f",
   "metadata": {},
   "outputs": [],
   "source": [
    "clf.booster_.feature_importance()"
   ]
  },
  {
   "cell_type": "code",
   "execution_count": null,
   "id": "640d0778-be47-4c48-a45d-6eda84970417",
   "metadata": {},
   "outputs": [],
   "source": [
    "important_features = clf.booster_.feature_importance() > 0"
   ]
  },
  {
   "cell_type": "code",
   "execution_count": null,
   "id": "df238860-eeb6-40b5-8488-8822675f2236",
   "metadata": {},
   "outputs": [],
   "source": [
    "from collections import Counter\n",
    "\n",
    "import matplotlib.pyplot as plt\n",
    "\n",
    "importantces = np.array(clf.booster_.feature_importance(\"gain\"))\n",
    "importantces = np.clip(importantces, -1, 100)\n",
    "\n",
    "plt.hist(importantces, bins=100)\n",
    "None"
   ]
  },
  {
   "cell_type": "code",
   "execution_count": null,
   "id": "8d6f4d53-d8d4-445f-a501-f63bd33353d3",
   "metadata": {},
   "outputs": [],
   "source": [
    "plt.plot(clf.feature_importances_, importantces, \"r.\")"
   ]
  },
  {
   "cell_type": "code",
   "execution_count": null,
   "id": "daddd787-a2a8-416e-8f1c-629cbc713f09",
   "metadata": {},
   "outputs": [],
   "source": []
  },
  {
   "cell_type": "code",
   "execution_count": null,
   "id": "07e1cef4-302d-46c8-a0dc-8cd0b7bcac7c",
   "metadata": {},
   "outputs": [],
   "source": []
  },
  {
   "cell_type": "code",
   "execution_count": null,
   "id": "4ef1def2-02f3-4fe1-bb62-87ea9b04c409",
   "metadata": {},
   "outputs": [],
   "source": [
    "import sys\n",
    "\n",
    "paths = [\n",
    "    \"/gpfs/fs0/scratch/p/pmkim/strokach/workspace/shap-0.39.0\",\n",
    "    \"/gpfs/fs0/scratch/p/pmkim/strokach/workspace/shap-hypetune\",\n",
    "    \"/gpfs/fs0/scratch/p/pmkim/strokach/workspace/slicer-0.0.7\",\n",
    "]\n",
    "for p in paths:\n",
    "    if p not in sys.path:\n",
    "        sys.path.insert(0, p)\n",
    "\n",
    "from lightgbm import LGBMClassifier\n",
    "from scipy import stats\n",
    "from shaphypetune import BoostBoruta, BoostRFE, BoostSearch"
   ]
  },
  {
   "cell_type": "code",
   "execution_count": null,
   "id": "e743c4f0-c12a-4619-9456-67c2076aa9f6",
   "metadata": {},
   "outputs": [],
   "source": [
    "param_grid = {\n",
    "    \"n_estimators\": 150,\n",
    "    \"learning_rate\": [0.2, 0.1],\n",
    "    \"num_leaves\": [25, 30, 35],\n",
    "    \"max_depth\": [10, 12],\n",
    "}\n",
    "\n",
    "model = BoostBoruta(\n",
    "    LGBMClassifier(),\n",
    "    param_grid=param_grid,\n",
    "    max_iter=100,\n",
    "    perc=100,\n",
    "    importance_type=\"shap_importances\",\n",
    "    train_importance=False,\n",
    ")\n",
    "model.fit(\n",
    "    X_training,\n",
    "    y_training,\n",
    "    eval_set=[(X_testing, y_testing)],\n",
    "    early_stopping_rounds=6,\n",
    "    verbose=0,\n",
    ")"
   ]
  },
  {
   "cell_type": "code",
   "execution_count": null,
   "id": "be958d73-d46e-47b2-93db-c70e864e0bd3",
   "metadata": {},
   "outputs": [],
   "source": []
  },
  {
   "cell_type": "code",
   "execution_count": null,
   "id": "b00faa5e-dbb8-4325-99fc-9508afa67ea4",
   "metadata": {},
   "outputs": [],
   "source": [
    "import lightgbm as lgb\n",
    "from sklearn import model_selection\n",
    "from sklearn.decomposition import PCA\n",
    "from sklearn.model_selection import GroupKFold\n",
    "from sklearn.preprocessing import StandardScaler\n",
    "\n",
    "score_columns = [\n",
    "    \"el2_score\",\n",
    "    \"proteinsolver_core_score_change\",\n",
    "    \"protbert_core_score_change\",\n",
    "    #     \"rosetta_dg_change\",\n",
    "    \"alphafold_core_scores_residue_plddt_wt\",\n",
    "    #     \"alphafold_core_scores_protein_plddt_wt\",\n",
    "    #     \"alphafold_core_scores_protein_max_predicted_aligned_error_wt\",\n",
    "    #     \"alphafold_core_scores_proten_ptm_wt\",\n",
    "]\n",
    "\n",
    "col = \"protbert_core_features_residue_change\"\n",
    "\n",
    "df = result_df.dropna(subset=score_columns + [col, \"effect_score\"]).sample(\n",
    "    frac=1, random_state=0\n",
    ")\n",
    "df = df[df[\"effect_score\"].isin([-1, 1])].reset_index(drop=True)\n",
    "\n",
    "amino_acids = list(\"ARNDCEQGHILKMFPSTWYV\")\n",
    "\n",
    "df[\"aa_wt_onehot\"] = pd.get_dummies(df[\"mutation\"].str[0]).apply(list, axis=1)\n",
    "df[\"aa_mut_onehot\"] = pd.get_dummies(df[\"mutation\"].str[0]).apply(list, axis=1)\n",
    "\n",
    "df[\"preds\"] = np.nan\n",
    "df[\"pca_preds\"] = np.nan\n",
    "\n",
    "X = np.vstack(df[col].values)\n",
    "\n",
    "Z = None\n",
    "Z = np.c_[np.vstack(df[\"aa_wt_onehot\"].values), np.vstack(df[\"aa_mut_onehot\"].values)]\n",
    "Z = np.c_[\n",
    "    df[\n",
    "        [\"el2_score\", \"proteinsolver_core_score_change\", \"protbert_core_score_change\"]\n",
    "    ].values,\n",
    "    Z,\n",
    "]\n",
    "\n",
    "y = (df[\"effect_score\"] > 0).values.astype(int)\n",
    "\n",
    "\n",
    "def select_features(X_training, X_testing):\n",
    "    scaler = StandardScaler()\n",
    "    scaler.fit(X_training)\n",
    "    X_training = scaler.transform(X_training)\n",
    "    X_testing = scaler.transform(X_testing)\n",
    "\n",
    "    pca = PCA(0.9, svd_solver=\"full\")\n",
    "    pca.fit(X_training)\n",
    "    X_training = pca.transform(X_training)\n",
    "    X_testing = pca.transform(X_testing)\n",
    "    return X_training, X_testing\n",
    "\n",
    "\n",
    "params = dict()\n",
    "\n",
    "\n",
    "n_splits = 6\n",
    "gkf = GroupKFold(n_splits=n_splits)\n",
    "for train_index, test_index in tqdm(\n",
    "    gkf.split(X, y, groups=df[\"protein_id\"]), total=n_splits\n",
    "):\n",
    "    X_training, X_testing = X[train_index], X[test_index]\n",
    "    y_training, y_testing = y[train_index], y[test_index]\n",
    "    if Z is not None:\n",
    "        Z_training, Z_testing = Z[train_index], Z[test_index]\n",
    "        X_training = np.c_[X_training, Z_training]\n",
    "        X_testing = np.c_[X_testing, Z_testing]\n",
    "\n",
    "    clf = lgb.LGBMClassifier(**params)\n",
    "    clf.fit(X_training, y_training, eval_set=[(X_testing, y_testing)], verbose=False)\n",
    "    df.loc[test_index, \"preds\"] = clf.predict_proba(X_testing)[:, 1]\n",
    "\n",
    "    X_training, X_testing = select_features(X[train_index], X[test_index])\n",
    "    y_training, y_testing = y[train_index], y[test_index]\n",
    "    if Z is not None:\n",
    "        Z_training, Z_testing = Z[train_index], Z[test_index]\n",
    "        X_training = np.c_[X_training, Z_training]\n",
    "        X_testing = np.c_[X_testing, Z_testing]\n",
    "\n",
    "    clf = lgb.LGBMClassifier(**params)\n",
    "    clf.fit(X_training, y_training, eval_set=[(X_testing, y_testing)], verbose=False)\n",
    "    df.loc[test_index, \"pca_preds\"] = clf.predict_proba(X_testing)[:, 1]\n",
    "\n",
    "corr = stats.spearmanr(df[\"effect_score\"], df[\"preds\"])\n",
    "auc = metrics.roc_auc_score(df[\"effect_score\"] > 0, df[\"preds\"])\n",
    "print(corr[0], auc)\n",
    "\n",
    "corr = stats.spearmanr(df[\"effect_score\"], df[\"pca_preds\"])\n",
    "auc = metrics.roc_auc_score(df[\"effect_score\"] > 0, df[\"pca_preds\"])\n",
    "print(corr[0], auc)"
   ]
  },
  {
   "cell_type": "code",
   "execution_count": null,
   "id": "3ea7c956-df2c-43b8-a475-daafe13517eb",
   "metadata": {},
   "outputs": [],
   "source": [
    "# 0.6585175611306802 0.88576012420753\n",
    "# 0.6547985025461474 0.8835814968157445"
   ]
  },
  {
   "cell_type": "code",
   "execution_count": null,
   "id": "3e01478a-d6b4-42fa-afc5-8b29a3bd57d7",
   "metadata": {},
   "outputs": [],
   "source": [
    "evals = []\n",
    "for i in tqdm(range(X_training.shape[1])):\n",
    "    x1 = X_training[:, i]\n",
    "\n",
    "    corr = stats.spearmanr(df[\"effect_score\"], x1)\n",
    "    auc = metrics.roc_auc_score(df[\"effect_score\"] > 0, x1)\n",
    "    evals.append((i, *corr, auc))\n",
    "\n",
    "evals_df = pd.DataFrame(evals, columns=[\"i\", \"corr\", \"pvalue\", \"auc\"])\n",
    "evals_df[\"corr_abs\"] = evals_df[\"corr\"].abs()\n",
    "evals_df = evals_df.sort_values(\"corr_abs\", ascending=False)\n",
    "del evals_df[\"corr_abs\"]\n",
    "\n",
    "display(evals_df.head(10))"
   ]
  },
  {
   "cell_type": "code",
   "execution_count": null,
   "id": "5b197cb2-c6cf-422e-ab0a-1e8a5be84d9b",
   "metadata": {},
   "outputs": [],
   "source": [
    "clf = lgb.LGBMClassifier()\n",
    "clf.fit(X_train, y_train)\n",
    "X_train, X_test, y_train, y_test = model_selection.train_test_split(\n",
    "    X, y, test_size=0.3, random_state=0\n",
    ")"
   ]
  },
  {
   "cell_type": "code",
   "execution_count": null,
   "id": "cf943970-f036-4442-b407-72604c07c089",
   "metadata": {},
   "outputs": [],
   "source": [
    "train_result_df.head()"
   ]
  },
  {
   "cell_type": "code",
   "execution_count": null,
   "id": "b815a74a-a698-473b-b636-824eb59feff4",
   "metadata": {},
   "outputs": [],
   "source": []
  },
  {
   "cell_type": "code",
   "execution_count": null,
   "id": "0cfc9491-8ff1-4b40-8f6e-feffcd33d68a",
   "metadata": {},
   "outputs": [],
   "source": []
  },
  {
   "cell_type": "code",
   "execution_count": null,
   "id": "ef033ec5-5408-4427-a063-33365f0a0e89",
   "metadata": {},
   "outputs": [],
   "source": [
    "import matplotlib.pyplot as plt\n",
    "\n",
    "plt.hist(x1, bins=100)\n",
    "plt.hist(x2, bins=100)\n",
    "\n",
    "None"
   ]
  },
  {
   "cell_type": "code",
   "execution_count": null,
   "id": "0aa0064c-3f40-4127-89fe-7042a0f72e8b",
   "metadata": {},
   "outputs": [],
   "source": [
    "x = df[\"alphafold_core_features_residue_experimentally_resolved_wt\"].apply(np.mean)\n",
    "\n",
    "corr = stats.spearmanr(df[\"effect_score\"], x)\n",
    "auc = metrics.roc_auc_score(df[\"effect_score\"] > 0, x)\n",
    "\n",
    "corr, auc"
   ]
  },
  {
   "cell_type": "code",
   "execution_count": null,
   "id": "e7a2be1a-82b0-4064-b795-18e823a8d1b8",
   "metadata": {},
   "outputs": [],
   "source": [
    "import lightgbm as lgb"
   ]
  },
  {
   "cell_type": "code",
   "execution_count": null,
   "id": "8d39a77d-421f-4119-9296-d5defeb2fd5d",
   "metadata": {},
   "outputs": [],
   "source": [
    "from sklearn.decomposition import PCA\n",
    "from sklearn.preprocessing import StandardScaler\n",
    "\n",
    "col = \"alphafold_core_features_residue_msa_first_row_change\"\n",
    "\n",
    "x = np.vstack(df[col].values)\n",
    "x = StandardScaler().fit_transform(x)\n",
    "x = PCA(0.9, svd_solver=\"full\").fit_transform(x)\n",
    "\n",
    "evals = []\n",
    "for i in tqdm(range(x.shape[1])):\n",
    "    x1 = x[:, i]\n",
    "\n",
    "    corr = stats.spearmanr(df[\"effect_score\"], x1)\n",
    "    auc = metrics.roc_auc_score(df[\"effect_score\"] > 0, x1)\n",
    "    evals.append((i, *corr, auc))\n",
    "\n",
    "evals_df = pd.DataFrame(evals, columns=[\"i\", \"corr\", \"pvalue\", \"auc\"])\n",
    "evals_df[\"corr_abs\"] = evals_df[\"corr\"].abs()\n",
    "evals_df = evals_df.sort_values(\"corr_abs\", ascending=False)\n",
    "del evals_df[\"corr_abs\"]\n",
    "\n",
    "display(evals_df.head(10))"
   ]
  },
  {
   "cell_type": "code",
   "execution_count": null,
   "id": "78cd23de-4462-46d9-b563-efd6e7bc0d89",
   "metadata": {},
   "outputs": [],
   "source": [
    "x.shape"
   ]
  },
  {
   "cell_type": "code",
   "execution_count": null,
   "id": "9e4d40d7-5c93-4562-8eb5-3f4642f3f86b",
   "metadata": {},
   "outputs": [],
   "source": [
    "# col = \"alphafold_core_features_residue_experimentally_resolved_wt\"  # 0.19 [37]\n",
    "# col = \"alphafold_core_features_residue_experimentally_resolved_change\"  # 0.11 [37]\n",
    "# col = \"alphafold_core_features_residue_predicted_lddt_wt\"  # 0.17 [50]\n",
    "# col = \"alphafold_core_features_residue_predicted_lddt_change\"  # 0.04 [50]\n",
    "# col = \"alphafold_core_features_residue_msa_first_row_wt\"  # 0.17 [256]\n",
    "# col = \"alphafold_core_features_residue_msa_first_row_change\"  # 0.21 [256]\n",
    "# col = \"alphafold_core_features_residue_single_wt\"  # 0.20 [384]\n",
    "# col = \"alphafold_core_features_residue_single_change\"  # 0.15 [384]\n",
    "# col = \"alphafold_core_features_residue_structure_module_wt\"  # 0.18 [384]\n",
    "col = \"alphafold_core_features_residue_structure_module_change\"  # 0.05 [384]\n",
    "\n",
    "col = \"protbert_core_features_residue_change\"  # 0.13 [1024]\n",
    "\n",
    "# col = \"alphafold_core_features_protein_experimentally_resolved_wt\"  #\n",
    "# col = \"alphafold_core_features_protein_predicted_lddt_wt\"  #\n",
    "# col = \"alphafold_core_features_protein_msa_first_row_wt\"  #\n",
    "# col = \"alphafold_core_features_protein_single_wt\"  #\n",
    "# col = \"alphafold_core_features_protein_structure_module_wt\"  #\n",
    "\n",
    "num_features = len(result_df[col][0])\n",
    "\n",
    "evals = []\n",
    "for i in tqdm(range(num_features)):\n",
    "    x1 = df[col].str[i]\n",
    "\n",
    "    corr = stats.spearmanr(df[\"effect_score\"], x1)\n",
    "    auc = metrics.roc_auc_score(df[\"effect_score\"] > 0, x1)\n",
    "    evals.append((i, *corr, auc))\n",
    "\n",
    "evals_df = pd.DataFrame(evals, columns=[\"i\", \"corr\", \"pvalue\", \"auc\"])\n",
    "evals_df[\"corr_abs\"] = evals_df[\"corr\"].abs()\n",
    "evals_df = evals_df.sort_values(\"corr_abs\", ascending=False)\n",
    "del evals_df[\"corr_abs\"]\n",
    "\n",
    "display(evals_df.head(10))"
   ]
  },
  {
   "cell_type": "code",
   "execution_count": null,
   "id": "71c4dc24-5c95-4273-98f2-97cc35918916",
   "metadata": {},
   "outputs": [],
   "source": [
    "scores_proten_ptm"
   ]
  },
  {
   "cell_type": "code",
   "execution_count": null,
   "id": "29f4a401-8a56-41db-89be-eb652f0b8c6a",
   "metadata": {},
   "outputs": [],
   "source": [
    "validation_df.head()"
   ]
  },
  {
   "cell_type": "code",
   "execution_count": null,
   "id": "e937bf9c-bd56-4939-9f75-d5911a1e8353",
   "metadata": {},
   "outputs": [],
   "source": [
    "validation_submission_df = validation_df.assign(\n",
    "    is_missense=lambda df: df[\"hgvs\"].notnull()\n",
    ").merge(result_df, left_on=[\"hgvs\"], right_on=[\"mutation_id\"], how=\"left\")\n",
    "\n",
    "assert len(validation_submission_df) == len(validation_df)"
   ]
  },
  {
   "cell_type": "code",
   "execution_count": null,
   "id": "af02f712-20ae-4800-b154-a8d2e3269dcc",
   "metadata": {},
   "outputs": [],
   "source": [
    "out = (\n",
    "    validation_submission_df.groupby(\"hgvs_g\")\n",
    "    .agg({\"el2_score\": np.nanmean, \"is_missense\": \"max\"})\n",
    "    .fillna(0.0)\n",
    "    .reset_index()\n",
    ")\n",
    "\n",
    "out.head()"
   ]
  },
  {
   "cell_type": "code",
   "execution_count": null,
   "id": "c922d494-08fc-4fa6-b465-7346d6a1d29e",
   "metadata": {},
   "outputs": [],
   "source": [
    "out[[\"hgvs_g\", \"el2_score\"]].to_csv(\n",
    "    NOTEBOOK_DIR.joinpath(\"submission-valid.tsv\"), index=False, sep=\"\\t\"\n",
    ")"
   ]
  },
  {
   "cell_type": "code",
   "execution_count": null,
   "id": "9fad9d1a-013b-4d38-9ce4-4c8d89500b78",
   "metadata": {},
   "outputs": [],
   "source": [
    "validation_submission_df.head()"
   ]
  },
  {
   "cell_type": "code",
   "execution_count": null,
   "id": "db4062aa-1d66-4efe-9931-8c71cfca24ea",
   "metadata": {},
   "outputs": [],
   "source": []
  },
  {
   "cell_type": "code",
   "execution_count": null,
   "id": "f6f2b4d5-d510-4e11-b71f-0e18e81a80cf",
   "metadata": {},
   "outputs": [],
   "source": [
    "df.columns"
   ]
  }
 ],
 "metadata": {
  "kernelspec": {
   "display_name": "Python 3 (ipykernel)",
   "language": "python",
   "name": "python3"
  },
  "language_info": {
   "codemirror_mode": {
    "name": "ipython",
    "version": 3
   },
   "file_extension": ".py",
   "mimetype": "text/x-python",
   "name": "python",
   "nbconvert_exporter": "python",
   "pygments_lexer": "ipython3",
   "version": "3.9.6"
  }
 },
 "nbformat": 4,
 "nbformat_minor": 5
}
