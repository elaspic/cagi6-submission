{
 "cells": [
  {
   "cell_type": "markdown",
   "id": "26c81e96-6b41-41fa-80a6-6360c482eb58",
   "metadata": {},
   "source": [
    "## Summary\n",
    "\n",
    "---"
   ]
  },
  {
   "cell_type": "markdown",
   "id": "ec276dec-6afa-4b57-bbfc-a11e04a8767e",
   "metadata": {},
   "source": [
    "## Imports"
   ]
  },
  {
   "cell_type": "code",
   "execution_count": 1,
   "id": "539f4edf-ca04-4bef-b5c9-a6d402f7570b",
   "metadata": {},
   "outputs": [
    {
     "name": "stderr",
     "output_type": "stream",
     "text": [
      "Warning: importing 'simtk.openmm' is deprecated.  Import 'openmm' instead.\n"
     ]
    }
   ],
   "source": [
    "import functools\n",
    "from pathlib import Path\n",
    "\n",
    "import elaspic2 as el2\n",
    "import lightgbm as lgb\n",
    "import matplotlib.pyplot as plt\n",
    "import numpy as np\n",
    "import optuna\n",
    "import pandas as pd\n",
    "import pyarrow as pa\n",
    "import pyarrow.parquet as pq\n",
    "from scipy import stats\n",
    "from sklearn import metrics, model_selection\n",
    "from sklearn.decomposition import PCA\n",
    "from sklearn.model_selection import GroupKFold\n",
    "from sklearn.preprocessing import StandardScaler\n",
    "from tqdm.auto import tqdm"
   ]
  },
  {
   "cell_type": "code",
   "execution_count": 2,
   "id": "d08b0792-00b7-44be-9257-a554f95bd602",
   "metadata": {},
   "outputs": [],
   "source": [
    "pd.set_option(\"max_columns\", 1000)\n",
    "pd.set_option(\"max_rows\", 1000)"
   ]
  },
  {
   "cell_type": "markdown",
   "id": "5be0ca05-c038-414f-ba84-b2ae8013088b",
   "metadata": {},
   "source": [
    "## Parameters"
   ]
  },
  {
   "cell_type": "code",
   "execution_count": 3,
   "id": "10e1faee-9f6a-40d8-8819-272b1c9837bb",
   "metadata": {},
   "outputs": [
    {
     "data": {
      "text/plain": [
       "PosixPath('/home/kimlab5/strokach/workspace/elaspic/elaspic2-cagi6/notebooks/39_cagi6_sherloc_submission')"
      ]
     },
     "execution_count": 3,
     "metadata": {},
     "output_type": "execute_result"
    }
   ],
   "source": [
    "NOTEBOOK_DIR = Path(\"38_cagi6_sherloc_train_model\").resolve()\n",
    "NOTEBOOK_DIR.mkdir(exist_ok=True)\n",
    "\n",
    "NOTEBOOK_DIR"
   ]
  },
  {
   "cell_type": "markdown",
   "id": "4d36d995-7bea-48cc-971b-cf926cbb17f8",
   "metadata": {},
   "source": [
    "## Load data"
   ]
  },
  {
   "cell_type": "code",
   "execution_count": 4,
   "id": "4de96fa1-7815-48cb-a8ed-035d5ddd8a8c",
   "metadata": {},
   "outputs": [
    {
     "data": {
      "text/html": [
       "<div>\n",
       "<style scoped>\n",
       "    .dataframe tbody tr th:only-of-type {\n",
       "        vertical-align: middle;\n",
       "    }\n",
       "\n",
       "    .dataframe tbody tr th {\n",
       "        vertical-align: top;\n",
       "    }\n",
       "\n",
       "    .dataframe thead th {\n",
       "        text-align: right;\n",
       "    }\n",
       "</style>\n",
       "<table border=\"1\" class=\"dataframe\">\n",
       "  <thead>\n",
       "    <tr style=\"text-align: right;\">\n",
       "      <th></th>\n",
       "      <th>hgvs</th>\n",
       "      <th>score</th>\n",
       "      <th>class</th>\n",
       "      <th>comment</th>\n",
       "    </tr>\n",
       "  </thead>\n",
       "  <tbody>\n",
       "    <tr>\n",
       "      <th>0</th>\n",
       "      <td>NM_152486.2:c.39C&gt;T</td>\n",
       "      <td>*</td>\n",
       "      <td>*</td>\n",
       "      <td>*</td>\n",
       "    </tr>\n",
       "    <tr>\n",
       "      <th>1</th>\n",
       "      <td>NM_152486.2:c.62C&gt;T</td>\n",
       "      <td>*</td>\n",
       "      <td>*</td>\n",
       "      <td>*</td>\n",
       "    </tr>\n",
       "  </tbody>\n",
       "</table>\n",
       "</div>"
      ],
      "text/plain": [
       "                  hgvs score class comment\n",
       "0  NM_152486.2:c.39C>T     *     *       *\n",
       "1  NM_152486.2:c.62C>T     *     *       *"
      ]
     },
     "metadata": {},
     "output_type": "display_data"
    },
    {
     "data": {
      "text/plain": [
       "122124"
      ]
     },
     "execution_count": 4,
     "metadata": {},
     "output_type": "execute_result"
    }
   ],
   "source": [
    "submission_template_file = NOTEBOOK_DIR.parent.joinpath(\n",
    "    \"30_cagi6_sherloc\", \"submission_template.tsv\"\n",
    ")\n",
    "\n",
    "submission_template_df = pd.read_csv(submission_template_file, sep=\"\\t\")\n",
    "\n",
    "display(submission_template_df.head(2))\n",
    "len(submission_template_df)"
   ]
  },
  {
   "cell_type": "markdown",
   "id": "8349f2e2-9d7d-43ab-a5e2-27935dd72dae",
   "metadata": {},
   "source": [
    "### `training_df`"
   ]
  },
  {
   "cell_type": "code",
   "execution_count": 5,
   "id": "fd60b9b3-b6c0-4c6a-8769-70414425df6e",
   "metadata": {},
   "outputs": [],
   "source": [
    "training_file = NOTEBOOK_DIR.parent.joinpath(\n",
    "    \"30_cagi6_sherloc\",\n",
    "    \"CAGI6-Sherloc-clinical-classification\",\n",
    "    \"final_train_070821.txt\",\n",
    ")"
   ]
  },
  {
   "cell_type": "code",
   "execution_count": 6,
   "id": "3c067902-63e5-425d-aa59-9183106a750b",
   "metadata": {},
   "outputs": [
    {
     "name": "stderr",
     "output_type": "stream",
     "text": [
      "/home/strokach/envs/default-v46/lib/python3.9/site-packages/IPython/core/interactiveshell.py:3441: DtypeWarning: Columns (0) have mixed types.Specify dtype option on import or set low_memory=False.\n",
      "  exec(code_obj, self.user_global_ns, self.user_ns)\n"
     ]
    },
    {
     "data": {
      "text/html": [
       "<div>\n",
       "<style scoped>\n",
       "    .dataframe tbody tr th:only-of-type {\n",
       "        vertical-align: middle;\n",
       "    }\n",
       "\n",
       "    .dataframe tbody tr th {\n",
       "        vertical-align: top;\n",
       "    }\n",
       "\n",
       "    .dataframe thead th {\n",
       "        text-align: right;\n",
       "    }\n",
       "</style>\n",
       "<table border=\"1\" class=\"dataframe\">\n",
       "  <thead>\n",
       "    <tr style=\"text-align: right;\">\n",
       "      <th></th>\n",
       "      <th>chr</th>\n",
       "      <th>pos</th>\n",
       "      <th>ref</th>\n",
       "      <th>alt</th>\n",
       "      <th>hgvs</th>\n",
       "      <th>interpretation</th>\n",
       "      <th>Subcategory Missense</th>\n",
       "      <th>Subcategory Small intronic deletion or insertion</th>\n",
       "      <th>Subcategory Small exonic in-frame deletion or insertion</th>\n",
       "    </tr>\n",
       "  </thead>\n",
       "  <tbody>\n",
       "    <tr>\n",
       "      <th>0</th>\n",
       "      <td>1</td>\n",
       "      <td>861332</td>\n",
       "      <td>G</td>\n",
       "      <td>A</td>\n",
       "      <td>NM_152486.2:c.11G&gt;A</td>\n",
       "      <td>Uncertain significance</td>\n",
       "      <td>True</td>\n",
       "      <td>False</td>\n",
       "      <td>False</td>\n",
       "    </tr>\n",
       "    <tr>\n",
       "      <th>1</th>\n",
       "      <td>1</td>\n",
       "      <td>865568</td>\n",
       "      <td>G</td>\n",
       "      <td>A</td>\n",
       "      <td>NM_152486.2:c.106G&gt;A</td>\n",
       "      <td>Uncertain significance</td>\n",
       "      <td>True</td>\n",
       "      <td>False</td>\n",
       "      <td>False</td>\n",
       "    </tr>\n",
       "  </tbody>\n",
       "</table>\n",
       "</div>"
      ],
      "text/plain": [
       "  chr     pos ref alt                  hgvs          interpretation  \\\n",
       "0   1  861332   G   A   NM_152486.2:c.11G>A  Uncertain significance   \n",
       "1   1  865568   G   A  NM_152486.2:c.106G>A  Uncertain significance   \n",
       "\n",
       "   Subcategory Missense  Subcategory Small intronic deletion or insertion  \\\n",
       "0                  True                                             False   \n",
       "1                  True                                             False   \n",
       "\n",
       "   Subcategory Small exonic in-frame deletion or insertion  \n",
       "0                                              False        \n",
       "1                                              False        "
      ]
     },
     "metadata": {},
     "output_type": "display_data"
    },
    {
     "data": {
      "text/plain": [
       "418354"
      ]
     },
     "execution_count": 6,
     "metadata": {},
     "output_type": "execute_result"
    }
   ],
   "source": [
    "training_all_df = pd.read_csv(training_file, sep=\"\\t\")\n",
    "\n",
    "display(training_all_df.head(2))\n",
    "len(training_all_df)"
   ]
  },
  {
   "cell_type": "code",
   "execution_count": 7,
   "id": "19cd38c9-1569-4c3e-9920-492604dc0ddd",
   "metadata": {},
   "outputs": [],
   "source": [
    "assert not set(submission_template_df[\"hgvs\"]) & set(training_all_df[\"hgvs\"])"
   ]
  },
  {
   "cell_type": "code",
   "execution_count": 8,
   "id": "7d852835-27fc-4be4-a9a2-f011ee68f6e1",
   "metadata": {},
   "outputs": [
    {
     "data": {
      "text/html": [
       "<div>\n",
       "<style scoped>\n",
       "    .dataframe tbody tr th:only-of-type {\n",
       "        vertical-align: middle;\n",
       "    }\n",
       "\n",
       "    .dataframe tbody tr th {\n",
       "        vertical-align: top;\n",
       "    }\n",
       "\n",
       "    .dataframe thead th {\n",
       "        text-align: right;\n",
       "    }\n",
       "</style>\n",
       "<table border=\"1\" class=\"dataframe\">\n",
       "  <thead>\n",
       "    <tr style=\"text-align: right;\">\n",
       "      <th></th>\n",
       "      <th>chr</th>\n",
       "      <th>pos</th>\n",
       "      <th>ref</th>\n",
       "      <th>alt</th>\n",
       "      <th>hgvs</th>\n",
       "      <th>interpretation</th>\n",
       "      <th>Subcategory Missense</th>\n",
       "      <th>Subcategory Small intronic deletion or insertion</th>\n",
       "      <th>Subcategory Small exonic in-frame deletion or insertion</th>\n",
       "    </tr>\n",
       "  </thead>\n",
       "  <tbody>\n",
       "    <tr>\n",
       "      <th>0</th>\n",
       "      <td>1</td>\n",
       "      <td>861332</td>\n",
       "      <td>G</td>\n",
       "      <td>A</td>\n",
       "      <td>NM_152486.2:c.11G&gt;A</td>\n",
       "      <td>Uncertain significance</td>\n",
       "      <td>True</td>\n",
       "      <td>False</td>\n",
       "      <td>False</td>\n",
       "    </tr>\n",
       "    <tr>\n",
       "      <th>1</th>\n",
       "      <td>1</td>\n",
       "      <td>865568</td>\n",
       "      <td>G</td>\n",
       "      <td>A</td>\n",
       "      <td>NM_152486.2:c.106G&gt;A</td>\n",
       "      <td>Uncertain significance</td>\n",
       "      <td>True</td>\n",
       "      <td>False</td>\n",
       "      <td>False</td>\n",
       "    </tr>\n",
       "  </tbody>\n",
       "</table>\n",
       "</div>"
      ],
      "text/plain": [
       "  chr     pos ref alt                  hgvs          interpretation  \\\n",
       "0   1  861332   G   A   NM_152486.2:c.11G>A  Uncertain significance   \n",
       "1   1  865568   G   A  NM_152486.2:c.106G>A  Uncertain significance   \n",
       "\n",
       "   Subcategory Missense  Subcategory Small intronic deletion or insertion  \\\n",
       "0                  True                                             False   \n",
       "1                  True                                             False   \n",
       "\n",
       "   Subcategory Small exonic in-frame deletion or insertion  \n",
       "0                                              False        \n",
       "1                                              False        "
      ]
     },
     "metadata": {},
     "output_type": "display_data"
    },
    {
     "data": {
      "text/plain": [
       "217153"
      ]
     },
     "execution_count": 8,
     "metadata": {},
     "output_type": "execute_result"
    }
   ],
   "source": [
    "training_df = training_all_df[training_all_df[\"Subcategory Missense\"]]\n",
    "\n",
    "display(training_df.head(2))\n",
    "len(training_df)"
   ]
  },
  {
   "cell_type": "markdown",
   "id": "dc4d933d-a5de-48da-b2f5-8c1bfb2d4b0f",
   "metadata": {},
   "source": [
    "### `testing_df`"
   ]
  },
  {
   "cell_type": "code",
   "execution_count": 9,
   "id": "57d4ef71-ec3e-4152-8dfa-de4584e2aad4",
   "metadata": {},
   "outputs": [],
   "source": [
    "testing_file = NOTEBOOK_DIR.parent.joinpath(\n",
    "    \"30_cagi6_sherloc\", \"CAGI6-Sherloc-clinical-classification\", \"final_test_070821.txt\"\n",
    ")"
   ]
  },
  {
   "cell_type": "code",
   "execution_count": 10,
   "id": "55dc0f3e-34bf-415d-8c6a-67356700dc38",
   "metadata": {},
   "outputs": [
    {
     "name": "stderr",
     "output_type": "stream",
     "text": [
      "/home/strokach/envs/default-v46/lib/python3.9/site-packages/IPython/core/interactiveshell.py:3441: DtypeWarning: Columns (0) have mixed types.Specify dtype option on import or set low_memory=False.\n",
      "  exec(code_obj, self.user_global_ns, self.user_ns)\n"
     ]
    },
    {
     "data": {
      "text/html": [
       "<div>\n",
       "<style scoped>\n",
       "    .dataframe tbody tr th:only-of-type {\n",
       "        vertical-align: middle;\n",
       "    }\n",
       "\n",
       "    .dataframe tbody tr th {\n",
       "        vertical-align: top;\n",
       "    }\n",
       "\n",
       "    .dataframe thead th {\n",
       "        text-align: right;\n",
       "    }\n",
       "</style>\n",
       "<table border=\"1\" class=\"dataframe\">\n",
       "  <thead>\n",
       "    <tr style=\"text-align: right;\">\n",
       "      <th></th>\n",
       "      <th>chr</th>\n",
       "      <th>pos</th>\n",
       "      <th>ref</th>\n",
       "      <th>alt</th>\n",
       "      <th>hgvs</th>\n",
       "      <th>Subcategory Missense</th>\n",
       "      <th>Subcategory Small intronic deletion or insertion</th>\n",
       "      <th>Subcategory Small exonic in-frame deletion or insertion</th>\n",
       "    </tr>\n",
       "  </thead>\n",
       "  <tbody>\n",
       "    <tr>\n",
       "      <th>0</th>\n",
       "      <td>1</td>\n",
       "      <td>861360</td>\n",
       "      <td>C</td>\n",
       "      <td>T</td>\n",
       "      <td>NM_152486.2:c.39C&gt;T</td>\n",
       "      <td>False</td>\n",
       "      <td>False</td>\n",
       "      <td>False</td>\n",
       "    </tr>\n",
       "    <tr>\n",
       "      <th>1</th>\n",
       "      <td>1</td>\n",
       "      <td>861383</td>\n",
       "      <td>C</td>\n",
       "      <td>T</td>\n",
       "      <td>NM_152486.2:c.62C&gt;T</td>\n",
       "      <td>True</td>\n",
       "      <td>False</td>\n",
       "      <td>False</td>\n",
       "    </tr>\n",
       "  </tbody>\n",
       "</table>\n",
       "</div>"
      ],
      "text/plain": [
       "  chr     pos ref alt                 hgvs  Subcategory Missense  \\\n",
       "0   1  861360   C   T  NM_152486.2:c.39C>T                 False   \n",
       "1   1  861383   C   T  NM_152486.2:c.62C>T                  True   \n",
       "\n",
       "   Subcategory Small intronic deletion or insertion  \\\n",
       "0                                             False   \n",
       "1                                             False   \n",
       "\n",
       "   Subcategory Small exonic in-frame deletion or insertion  \n",
       "0                                              False        \n",
       "1                                              False        "
      ]
     },
     "metadata": {},
     "output_type": "display_data"
    },
    {
     "data": {
      "text/plain": [
       "122124"
      ]
     },
     "execution_count": 10,
     "metadata": {},
     "output_type": "execute_result"
    }
   ],
   "source": [
    "testing_all_df = pd.read_csv(testing_file, sep=\"\\t\")\n",
    "\n",
    "display(testing_all_df.head(2))\n",
    "len(testing_all_df)"
   ]
  },
  {
   "cell_type": "code",
   "execution_count": 11,
   "id": "52d4ed61-3ddd-4cac-a934-a2cc07349392",
   "metadata": {},
   "outputs": [],
   "source": [
    "assert not set(submission_template_df[\"hgvs\"]) ^ set(testing_all_df[\"hgvs\"])"
   ]
  },
  {
   "cell_type": "code",
   "execution_count": 12,
   "id": "f5b2db23-6aa7-4892-968b-1169b59057a4",
   "metadata": {},
   "outputs": [
    {
     "data": {
      "text/html": [
       "<div>\n",
       "<style scoped>\n",
       "    .dataframe tbody tr th:only-of-type {\n",
       "        vertical-align: middle;\n",
       "    }\n",
       "\n",
       "    .dataframe tbody tr th {\n",
       "        vertical-align: top;\n",
       "    }\n",
       "\n",
       "    .dataframe thead th {\n",
       "        text-align: right;\n",
       "    }\n",
       "</style>\n",
       "<table border=\"1\" class=\"dataframe\">\n",
       "  <thead>\n",
       "    <tr style=\"text-align: right;\">\n",
       "      <th></th>\n",
       "      <th>chr</th>\n",
       "      <th>pos</th>\n",
       "      <th>ref</th>\n",
       "      <th>alt</th>\n",
       "      <th>hgvs</th>\n",
       "      <th>Subcategory Missense</th>\n",
       "      <th>Subcategory Small intronic deletion or insertion</th>\n",
       "      <th>Subcategory Small exonic in-frame deletion or insertion</th>\n",
       "    </tr>\n",
       "  </thead>\n",
       "  <tbody>\n",
       "    <tr>\n",
       "      <th>1</th>\n",
       "      <td>1</td>\n",
       "      <td>861383</td>\n",
       "      <td>C</td>\n",
       "      <td>T</td>\n",
       "      <td>NM_152486.2:c.62C&gt;T</td>\n",
       "      <td>True</td>\n",
       "      <td>False</td>\n",
       "      <td>False</td>\n",
       "    </tr>\n",
       "    <tr>\n",
       "      <th>7</th>\n",
       "      <td>1</td>\n",
       "      <td>865640</td>\n",
       "      <td>G</td>\n",
       "      <td>A</td>\n",
       "      <td>NM_152486.2:c.178G&gt;A</td>\n",
       "      <td>True</td>\n",
       "      <td>False</td>\n",
       "      <td>False</td>\n",
       "    </tr>\n",
       "  </tbody>\n",
       "</table>\n",
       "</div>"
      ],
      "text/plain": [
       "  chr     pos ref alt                  hgvs  Subcategory Missense  \\\n",
       "1   1  861383   C   T   NM_152486.2:c.62C>T                  True   \n",
       "7   1  865640   G   A  NM_152486.2:c.178G>A                  True   \n",
       "\n",
       "   Subcategory Small intronic deletion or insertion  \\\n",
       "1                                             False   \n",
       "7                                             False   \n",
       "\n",
       "   Subcategory Small exonic in-frame deletion or insertion  \n",
       "1                                              False        \n",
       "7                                              False        "
      ]
     },
     "metadata": {},
     "output_type": "display_data"
    },
    {
     "data": {
      "text/plain": [
       "47103"
      ]
     },
     "execution_count": 12,
     "metadata": {},
     "output_type": "execute_result"
    }
   ],
   "source": [
    "testing_df = testing_all_df[testing_all_df[\"Subcategory Missense\"]]\n",
    "\n",
    "display(testing_df.head(2))\n",
    "len(testing_df)"
   ]
  },
  {
   "cell_type": "markdown",
   "id": "c76d3637-20f1-4ab1-8222-f857c4631325",
   "metadata": {},
   "source": [
    "### `validation_df`"
   ]
  },
  {
   "cell_type": "code",
   "execution_count": 13,
   "id": "72f5dfd8-d33f-4228-9632-194cb74b7424",
   "metadata": {},
   "outputs": [],
   "source": [
    "validation_file = NOTEBOOK_DIR.parent.joinpath(\"30_cagi6_sherloc\", \"validation_variants.tsv\")"
   ]
  },
  {
   "cell_type": "code",
   "execution_count": 14,
   "id": "7d7355ec-350b-4cd7-a836-505b9176502b",
   "metadata": {},
   "outputs": [
    {
     "data": {
      "text/html": [
       "<div>\n",
       "<style scoped>\n",
       "    .dataframe tbody tr th:only-of-type {\n",
       "        vertical-align: middle;\n",
       "    }\n",
       "\n",
       "    .dataframe tbody tr th {\n",
       "        vertical-align: top;\n",
       "    }\n",
       "\n",
       "    .dataframe thead th {\n",
       "        text-align: right;\n",
       "    }\n",
       "</style>\n",
       "<table border=\"1\" class=\"dataframe\">\n",
       "  <thead>\n",
       "    <tr style=\"text-align: right;\">\n",
       "      <th></th>\n",
       "      <th>hgvs_g</th>\n",
       "    </tr>\n",
       "  </thead>\n",
       "  <tbody>\n",
       "    <tr>\n",
       "      <th>17812</th>\n",
       "      <td>NC_000023.10:g.32519861C&gt;T</td>\n",
       "    </tr>\n",
       "    <tr>\n",
       "      <th>17813</th>\n",
       "      <td>NC_000015.9:g.85406864_85406865insT</td>\n",
       "    </tr>\n",
       "  </tbody>\n",
       "</table>\n",
       "</div>"
      ],
      "text/plain": [
       "                                    hgvs_g\n",
       "17812           NC_000023.10:g.32519861C>T\n",
       "17813  NC_000015.9:g.85406864_85406865insT"
      ]
     },
     "metadata": {},
     "output_type": "display_data"
    },
    {
     "data": {
      "text/plain": [
       "17814"
      ]
     },
     "execution_count": 14,
     "metadata": {},
     "output_type": "execute_result"
    }
   ],
   "source": [
    "validation_all_df = pd.read_csv(validation_file, sep=\"\\t\").rename(columns={\"HGVS.c\": \"hgvs_g\"})\n",
    "\n",
    "display(validation_all_df.tail(2))\n",
    "len(validation_all_df)"
   ]
  },
  {
   "cell_type": "code",
   "execution_count": 15,
   "id": "1b4246f2-f166-4735-a4ee-40345b607043",
   "metadata": {},
   "outputs": [],
   "source": [
    "def map_g_to_c(str_g, mapper):\n",
    "    from hgvs.exceptions import HGVSInvalidIntervalError, HGVSUsageError\n",
    "\n",
    "    var_g = hp.parse_hgvs_variant(str_g)\n",
    "    for tx_ac in mapper.relevant_transcripts(var_g):\n",
    "        try:\n",
    "            var_c = mapper.g_to_c(var_g, tx_ac)\n",
    "        except (HGVSUsageError, HGVSInvalidIntervalError):\n",
    "            continue\n",
    "        yield var_c"
   ]
  },
  {
   "cell_type": "code",
   "execution_count": 16,
   "id": "74e25dc7-f9c2-42de-a104-c8946d1233f1",
   "metadata": {},
   "outputs": [],
   "source": [
    "validation_mapping_file = NOTEBOOK_DIR.parent.joinpath(\n",
    "    \"30_cagi6_sherloc\", \"validation-mapping-grch37.parquet\"\n",
    ")\n",
    "\n",
    "if validation_mapping_file.is_file():\n",
    "    validation_mapping_df = pq.read_table(validation_mapping_file).to_pandas()\n",
    "else:\n",
    "    import hgvs.assemblymapper\n",
    "    import hgvs.dataproviders.uta\n",
    "    import hgvs.parser\n",
    "\n",
    "    hp = hgvs.parser.Parser()\n",
    "    hdp = hgvs.dataproviders.uta.connect()\n",
    "    mapper = hgvs.assemblymapper.AssemblyMapper(hdp, assembly_name=\"GRCh37\", normalize=False)\n",
    "\n",
    "    results = []\n",
    "    for tup in tqdm(validation_all_df.itertuples(), total=len(validation_all_df)):\n",
    "        for var_c in map_g_to_c(tup.hgvs_g, mapper):\n",
    "            results.append((tup.str_g, str(var_c)))\n",
    "    validation_mapping_df = pd.DataFrame(results, columns=[\"hgvs_g\", \"hgvs\"])\n",
    "    pq.write_table(\n",
    "        pa.Table.from_pandas(validation_mapping_df, preserve_index=False),\n",
    "        validation_mapping_file,\n",
    "    )"
   ]
  },
  {
   "cell_type": "code",
   "execution_count": 17,
   "id": "73e87f59-55e5-4d95-8c0d-1d70dfe58a32",
   "metadata": {},
   "outputs": [
    {
     "data": {
      "text/html": [
       "<div>\n",
       "<style scoped>\n",
       "    .dataframe tbody tr th:only-of-type {\n",
       "        vertical-align: middle;\n",
       "    }\n",
       "\n",
       "    .dataframe tbody tr th {\n",
       "        vertical-align: top;\n",
       "    }\n",
       "\n",
       "    .dataframe thead th {\n",
       "        text-align: right;\n",
       "    }\n",
       "</style>\n",
       "<table border=\"1\" class=\"dataframe\">\n",
       "  <thead>\n",
       "    <tr style=\"text-align: right;\">\n",
       "      <th></th>\n",
       "      <th>hgvs_g</th>\n",
       "      <th>hgvs</th>\n",
       "    </tr>\n",
       "  </thead>\n",
       "  <tbody>\n",
       "    <tr>\n",
       "      <th>0</th>\n",
       "      <td>NC_000002.11:g.152537358A&gt;G</td>\n",
       "      <td>NM_001164508.1:c.2944-16T&gt;C</td>\n",
       "    </tr>\n",
       "    <tr>\n",
       "      <th>1</th>\n",
       "      <td>NC_000002.11:g.152537358A&gt;G</td>\n",
       "      <td>NM_004543.4:c.2944-16T&gt;C</td>\n",
       "    </tr>\n",
       "  </tbody>\n",
       "</table>\n",
       "</div>"
      ],
      "text/plain": [
       "                        hgvs_g                         hgvs\n",
       "0  NC_000002.11:g.152537358A>G  NM_001164508.1:c.2944-16T>C\n",
       "1  NC_000002.11:g.152537358A>G     NM_004543.4:c.2944-16T>C"
      ]
     },
     "metadata": {},
     "output_type": "display_data"
    },
    {
     "name": "stdout",
     "output_type": "stream",
     "text": [
      "67819\n"
     ]
    }
   ],
   "source": [
    "display(validation_mapping_df.head(2))\n",
    "print(len(validation_mapping_df))"
   ]
  },
  {
   "cell_type": "code",
   "execution_count": 18,
   "id": "f5e1fba7-657e-40d2-bd17-25103d8ad28c",
   "metadata": {},
   "outputs": [],
   "source": [
    "validation_df = (\n",
    "    validation_all_df\n",
    "    #\n",
    "    .merge(validation_mapping_df, on=[\"hgvs_g\"], how=\"left\")\n",
    ")"
   ]
  },
  {
   "cell_type": "code",
   "execution_count": 19,
   "id": "57fea139-d74e-41a5-bf70-0f6faa20123f",
   "metadata": {},
   "outputs": [
    {
     "data": {
      "text/html": [
       "<div>\n",
       "<style scoped>\n",
       "    .dataframe tbody tr th:only-of-type {\n",
       "        vertical-align: middle;\n",
       "    }\n",
       "\n",
       "    .dataframe tbody tr th {\n",
       "        vertical-align: top;\n",
       "    }\n",
       "\n",
       "    .dataframe thead th {\n",
       "        text-align: right;\n",
       "    }\n",
       "</style>\n",
       "<table border=\"1\" class=\"dataframe\">\n",
       "  <thead>\n",
       "    <tr style=\"text-align: right;\">\n",
       "      <th></th>\n",
       "      <th>hgvs_g</th>\n",
       "      <th>hgvs</th>\n",
       "    </tr>\n",
       "  </thead>\n",
       "  <tbody>\n",
       "    <tr>\n",
       "      <th>67830</th>\n",
       "      <td>NC_000023.10:g.32519861C&gt;T</td>\n",
       "      <td>NM_004010.3:c.2011+11G&gt;A</td>\n",
       "    </tr>\n",
       "    <tr>\n",
       "      <th>67831</th>\n",
       "      <td>NC_000015.9:g.85406864_85406865insT</td>\n",
       "      <td>NM_020778.4:c.5098_5099insT</td>\n",
       "    </tr>\n",
       "  </tbody>\n",
       "</table>\n",
       "</div>"
      ],
      "text/plain": [
       "                                    hgvs_g                         hgvs\n",
       "67830           NC_000023.10:g.32519861C>T     NM_004010.3:c.2011+11G>A\n",
       "67831  NC_000015.9:g.85406864_85406865insT  NM_020778.4:c.5098_5099insT"
      ]
     },
     "metadata": {},
     "output_type": "display_data"
    },
    {
     "name": "stdout",
     "output_type": "stream",
     "text": [
      "67832\n",
      "17814\n"
     ]
    }
   ],
   "source": [
    "display(validation_df.tail(2))\n",
    "print(len(validation_df))\n",
    "print(len(validation_df[\"hgvs_g\"].unique()))"
   ]
  },
  {
   "cell_type": "markdown",
   "id": "fd00941b-a3df-48d4-864c-bef984a8cd3b",
   "metadata": {},
   "source": [
    "## Load results"
   ]
  },
  {
   "cell_type": "code",
   "execution_count": 20,
   "id": "0754bcaa-1b8d-49cd-9e98-a3d7c9b345b1",
   "metadata": {},
   "outputs": [
    {
     "data": {
      "text/plain": [
       "'cagi6-sherloc'"
      ]
     },
     "execution_count": 20,
     "metadata": {},
     "output_type": "execute_result"
    }
   ],
   "source": [
    "DATASET_NAME = \"cagi6-sherloc\"\n",
    "\n",
    "DATASET_NAME"
   ]
  },
  {
   "cell_type": "code",
   "execution_count": 21,
   "id": "74eef855-210a-46c5-b48a-6e25b8986b6b",
   "metadata": {},
   "outputs": [
    {
     "data": {
      "text/plain": [
       "PosixPath('/home/kimlab5/strokach/workspace/elaspic/elaspic2-cagi6/notebooks/37_cagi6_sherloc_combine_results/combined-results.parquet')"
      ]
     },
     "execution_count": 21,
     "metadata": {},
     "output_type": "execute_result"
    }
   ],
   "source": [
    "input_file = NOTEBOOK_DIR.parent.joinpath(\n",
    "    \"37_cagi6_sherloc_combine_results\", \"combined-results.parquet\"\n",
    ")\n",
    "\n",
    "input_file"
   ]
  },
  {
   "cell_type": "code",
   "execution_count": 23,
   "id": "3c33ba1c-76ed-4d2f-9e9f-0f36376ff50a",
   "metadata": {},
   "outputs": [
    {
     "data": {
      "text/html": [
       "<div>\n",
       "<style scoped>\n",
       "    .dataframe tbody tr th:only-of-type {\n",
       "        vertical-align: middle;\n",
       "    }\n",
       "\n",
       "    .dataframe tbody tr th {\n",
       "        vertical-align: top;\n",
       "    }\n",
       "\n",
       "    .dataframe thead th {\n",
       "        text-align: right;\n",
       "    }\n",
       "</style>\n",
       "<table border=\"1\" class=\"dataframe\">\n",
       "  <thead>\n",
       "    <tr style=\"text-align: right;\">\n",
       "      <th></th>\n",
       "      <th>protein_id</th>\n",
       "      <th>mutation</th>\n",
       "      <th>mutation_id</th>\n",
       "      <th>effect</th>\n",
       "      <th>proteinsolver_core_score_wt</th>\n",
       "      <th>proteinsolver_core_features_residue_wt</th>\n",
       "      <th>proteinsolver_core_features_protein_wt</th>\n",
       "      <th>protbert_core_score_wt</th>\n",
       "      <th>protbert_core_features_residue_wt</th>\n",
       "      <th>protbert_core_features_protein_wt</th>\n",
       "      <th>rosetta_cart_bonded_wt</th>\n",
       "      <th>rosetta_rama_prepro_wt</th>\n",
       "      <th>rosetta_ref_wt</th>\n",
       "      <th>rosetta_hxl_tors_wt</th>\n",
       "      <th>rosetta_p_aa_pp_wt</th>\n",
       "      <th>rosetta_fa_dun_semi_wt</th>\n",
       "      <th>rosetta_fa_dun_rot_wt</th>\n",
       "      <th>rosetta_fa_dun_dev_wt</th>\n",
       "      <th>rosetta_omega_wt</th>\n",
       "      <th>rosetta_dslf_fa13_wt</th>\n",
       "      <th>rosetta_hbond_sc_wt</th>\n",
       "      <th>rosetta_hbond_bb_sc_wt</th>\n",
       "      <th>rosetta_hbond_lr_bb_wt</th>\n",
       "      <th>rosetta_hbond_sr_bb_wt</th>\n",
       "      <th>rosetta_fa_intra_elec_wt</th>\n",
       "      <th>rosetta_fa_elec_wt</th>\n",
       "      <th>rosetta_lk_ball_bridge_uncpl_wt</th>\n",
       "      <th>rosetta_lk_ball_bridge_wt</th>\n",
       "      <th>rosetta_lk_ball_iso_wt</th>\n",
       "      <th>rosetta_lk_ball_wt</th>\n",
       "      <th>rosetta_fa_intra_sol_xover4_wt</th>\n",
       "      <th>rosetta_fa_intra_rep_xover4_wt</th>\n",
       "      <th>rosetta_fa_intra_atr_xover4_wt</th>\n",
       "      <th>rosetta_fa_sol_wt</th>\n",
       "      <th>rosetta_fa_rep_wt</th>\n",
       "      <th>rosetta_fa_atr_wt</th>\n",
       "      <th>rosetta_dg_wt</th>\n",
       "      <th>rosetta_cart_bonded_change</th>\n",
       "      <th>rosetta_rama_prepro_change</th>\n",
       "      <th>rosetta_ref_change</th>\n",
       "      <th>rosetta_hxl_tors_change</th>\n",
       "      <th>rosetta_p_aa_pp_change</th>\n",
       "      <th>rosetta_fa_dun_semi_change</th>\n",
       "      <th>rosetta_fa_dun_rot_change</th>\n",
       "      <th>rosetta_fa_dun_dev_change</th>\n",
       "      <th>rosetta_omega_change</th>\n",
       "      <th>rosetta_dslf_fa13_change</th>\n",
       "      <th>rosetta_hbond_sc_change</th>\n",
       "      <th>rosetta_hbond_bb_sc_change</th>\n",
       "      <th>rosetta_hbond_lr_bb_change</th>\n",
       "      <th>rosetta_hbond_sr_bb_change</th>\n",
       "      <th>rosetta_fa_intra_elec_change</th>\n",
       "      <th>rosetta_fa_elec_change</th>\n",
       "      <th>rosetta_lk_ball_bridge_uncpl_change</th>\n",
       "      <th>rosetta_lk_ball_bridge_change</th>\n",
       "      <th>rosetta_lk_ball_iso_change</th>\n",
       "      <th>rosetta_lk_ball_change</th>\n",
       "      <th>rosetta_fa_intra_sol_xover4_change</th>\n",
       "      <th>rosetta_fa_intra_rep_xover4_change</th>\n",
       "      <th>rosetta_fa_intra_atr_xover4_change</th>\n",
       "      <th>rosetta_fa_sol_change</th>\n",
       "      <th>rosetta_fa_rep_change</th>\n",
       "      <th>rosetta_fa_atr_change</th>\n",
       "      <th>rosetta_dg_change</th>\n",
       "      <th>alphafold_core_scores_residue_plddt_wt</th>\n",
       "      <th>alphafold_core_scores_protein_plddt_wt</th>\n",
       "      <th>alphafold_core_scores_protein_max_predicted_aligned_error_wt</th>\n",
       "      <th>alphafold_core_scores_proten_ptm_wt</th>\n",
       "      <th>alphafold_core_features_residue_experimentally_resolved_wt</th>\n",
       "      <th>alphafold_core_features_residue_predicted_lddt_wt</th>\n",
       "      <th>alphafold_core_features_residue_msa_first_row_wt</th>\n",
       "      <th>alphafold_core_features_residue_single_wt</th>\n",
       "      <th>alphafold_core_features_residue_structure_module_wt</th>\n",
       "      <th>alphafold_core_features_protein_experimentally_resolved_wt</th>\n",
       "      <th>alphafold_core_features_protein_predicted_lddt_wt</th>\n",
       "      <th>alphafold_core_features_protein_msa_first_row_wt</th>\n",
       "      <th>alphafold_core_features_protein_single_wt</th>\n",
       "      <th>alphafold_core_features_protein_structure_module_wt</th>\n",
       "      <th>el2_score</th>\n",
       "      <th>proteinsolver_core_score_change</th>\n",
       "      <th>proteinsolver_core_features_residue_change</th>\n",
       "      <th>proteinsolver_core_features_protein_change</th>\n",
       "      <th>protbert_core_score_change</th>\n",
       "      <th>protbert_core_features_residue_change</th>\n",
       "      <th>protbert_core_features_protein_change</th>\n",
       "      <th>alphafold_core_scores_residue_plddt_change</th>\n",
       "      <th>alphafold_core_scores_protein_plddt_change</th>\n",
       "      <th>alphafold_core_scores_protein_max_predicted_aligned_error_change</th>\n",
       "      <th>alphafold_core_scores_proten_ptm_change</th>\n",
       "      <th>alphafold_core_features_residue_experimentally_resolved_change</th>\n",
       "      <th>alphafold_core_features_residue_predicted_lddt_change</th>\n",
       "      <th>alphafold_core_features_residue_msa_first_row_change</th>\n",
       "      <th>alphafold_core_features_residue_single_change</th>\n",
       "      <th>alphafold_core_features_residue_structure_module_change</th>\n",
       "      <th>alphafold_core_features_protein_experimentally_resolved_change</th>\n",
       "      <th>alphafold_core_features_protein_predicted_lddt_change</th>\n",
       "      <th>alphafold_core_features_protein_msa_first_row_change</th>\n",
       "      <th>alphafold_core_features_protein_single_change</th>\n",
       "      <th>alphafold_core_features_protein_structure_module_change</th>\n",
       "      <th>aa_wt_onehot</th>\n",
       "      <th>aa_mut_onehot</th>\n",
       "    </tr>\n",
       "  </thead>\n",
       "  <tbody>\n",
       "    <tr>\n",
       "      <th>0</th>\n",
       "      <td>P26678</td>\n",
       "      <td>R9C</td>\n",
       "      <td>NM_002667.3:c.25C&gt;T</td>\n",
       "      <td>Pathogenic</td>\n",
       "      <td>0.091593</td>\n",
       "      <td>[0.48249053955078125, 0.24484702944755554, -0....</td>\n",
       "      <td>[-2.27313494682312, 0.6932704448699951, -0.195...</td>\n",
       "      <td>0.068529</td>\n",
       "      <td>[0.15305250883102417, -0.11011786758899689, 0....</td>\n",
       "      <td>[0.05504663661122322, -0.04564127326011658, 0....</td>\n",
       "      <td>34.796667</td>\n",
       "      <td>18.080333</td>\n",
       "      <td>13.08</td>\n",
       "      <td>5.875333</td>\n",
       "      <td>-4.878333</td>\n",
       "      <td>33.826333</td>\n",
       "      <td>30.420</td>\n",
       "      <td>37.201667</td>\n",
       "      <td>16.900333</td>\n",
       "      <td>0.0</td>\n",
       "      <td>0.0</td>\n",
       "      <td>-0.495</td>\n",
       "      <td>0.0</td>\n",
       "      <td>-46.239</td>\n",
       "      <td>-5.748</td>\n",
       "      <td>-96.294333</td>\n",
       "      <td>-1.515667</td>\n",
       "      <td>-0.220333</td>\n",
       "      <td>-145.437333</td>\n",
       "      <td>123.757667</td>\n",
       "      <td>12.501667</td>\n",
       "      <td>9.146667</td>\n",
       "      <td>-22.659333</td>\n",
       "      <td>279.312667</td>\n",
       "      <td>18.309</td>\n",
       "      <td>-311.028667</td>\n",
       "      <td>-1.308</td>\n",
       "      <td>-0.577667</td>\n",
       "      <td>0.614667</td>\n",
       "      <td>4.553</td>\n",
       "      <td>0.021333</td>\n",
       "      <td>0.376000</td>\n",
       "      <td>0.173000</td>\n",
       "      <td>-1.592000</td>\n",
       "      <td>-0.074667</td>\n",
       "      <td>-0.012667</td>\n",
       "      <td>0.0</td>\n",
       "      <td>0.000</td>\n",
       "      <td>0.495000</td>\n",
       "      <td>0.0</td>\n",
       "      <td>-0.011</td>\n",
       "      <td>-0.510333</td>\n",
       "      <td>0.204667</td>\n",
       "      <td>0.508667</td>\n",
       "      <td>0.040</td>\n",
       "      <td>1.679</td>\n",
       "      <td>-0.050333</td>\n",
       "      <td>-0.104333</td>\n",
       "      <td>-0.147</td>\n",
       "      <td>0.325000</td>\n",
       "      <td>-4.542667</td>\n",
       "      <td>0.084667</td>\n",
       "      <td>2.215667</td>\n",
       "      <td>3.669</td>\n",
       "      <td>60.585841</td>\n",
       "      <td>76.416854</td>\n",
       "      <td>31.75</td>\n",
       "      <td>0.427586</td>\n",
       "      <td>[1.1943495, 1.2143694, 1.4703865, 1.009636, 1....</td>\n",
       "      <td>[-6.1107526, -7.1425943, -6.2013907, -5.484081...</td>\n",
       "      <td>[-1.8559321, 4.2250576, -12.1879635, 5.93118, ...</td>\n",
       "      <td>[19.911064, -7.9082317, 24.44313, -24.324299, ...</td>\n",
       "      <td>[0.0069303215, 0.010208584, -0.0057431404, 0.0...</td>\n",
       "      <td>[0.47212097, 0.49641332, 0.6147766, 0.47432983...</td>\n",
       "      <td>[-6.029762, -7.716437, -6.686019, -5.9195952, ...</td>\n",
       "      <td>[1.6403109, 2.4395254, -3.7391555, 2.6988323, ...</td>\n",
       "      <td>[8.636584, 8.638843, 21.079756, -9.497276, -2....</td>\n",
       "      <td>[0.0024530103, 0.010949803, -0.00598975, 0.002...</td>\n",
       "      <td>1.484475</td>\n",
       "      <td>0.087628</td>\n",
       "      <td>[2.386656880378723, -0.8056838810443878, -0.32...</td>\n",
       "      <td>[0.046662330627441406, -0.10836398601531982, 0...</td>\n",
       "      <td>0.060680</td>\n",
       "      <td>[0.06232793629169464, 0.014490947127342224, 0....</td>\n",
       "      <td>[0.02708190120756626, 0.009473510086536407, 0....</td>\n",
       "      <td>0.003242</td>\n",
       "      <td>0.013131</td>\n",
       "      <td>0.0</td>\n",
       "      <td>-0.000281</td>\n",
       "      <td>[0.13021708, 0.13196647, 0.21231675, 0.0928846...</td>\n",
       "      <td>[-0.0067915916, 0.012249947, 0.006855011, 0.00...</td>\n",
       "      <td>[-0.24461997, 0.91860914, -1.4374704, 1.841849...</td>\n",
       "      <td>[7.351156, 8.393639, 3.1830235, 3.0640717, 4.0...</td>\n",
       "      <td>[9.148568e-05, -2.7619302e-05, 3.2782555e-07, ...</td>\n",
       "      <td>[0.0022777617, 0.0021982193, 0.0029729605, 0.0...</td>\n",
       "      <td>[-0.004014015, -0.0029330254, -0.003218174, -0...</td>\n",
       "      <td>[-0.019475102, -0.0052657127, -0.04385376, -0....</td>\n",
       "      <td>[0.09133339, 0.074448586, -0.10094261, 0.12374...</td>\n",
       "      <td>[2.8892653e-05, -2.5316142e-05, -7.459894e-07,...</td>\n",
       "      <td>[0, 0, 0, 0, 0, 0, 0, 0, 0, 0, 0, 0, 0, 0, 1, ...</td>\n",
       "      <td>[0, 1, 0, 0, 0, 0, 0, 0, 0, 0, 0, 0, 0, 0, 0, ...</td>\n",
       "    </tr>\n",
       "    <tr>\n",
       "      <th>1</th>\n",
       "      <td>P26678</td>\n",
       "      <td>T8P</td>\n",
       "      <td>NM_002667.3:c.22A&gt;C</td>\n",
       "      <td>Uncertain significance</td>\n",
       "      <td>0.041601</td>\n",
       "      <td>[2.043767213821411, 0.9361261129379272, -0.415...</td>\n",
       "      <td>[-2.27313494682312, 0.6932705044746399, -0.195...</td>\n",
       "      <td>0.062104</td>\n",
       "      <td>[0.056363195180892944, -0.020384633913636208, ...</td>\n",
       "      <td>[0.05504663661122322, -0.04564127326011658, 0....</td>\n",
       "      <td>35.531000</td>\n",
       "      <td>17.849000</td>\n",
       "      <td>13.08</td>\n",
       "      <td>9.764000</td>\n",
       "      <td>-5.052000</td>\n",
       "      <td>33.549000</td>\n",
       "      <td>30.357</td>\n",
       "      <td>43.524000</td>\n",
       "      <td>16.889000</td>\n",
       "      <td>0.0</td>\n",
       "      <td>0.0</td>\n",
       "      <td>-0.743</td>\n",
       "      <td>0.0</td>\n",
       "      <td>-45.885</td>\n",
       "      <td>-4.684</td>\n",
       "      <td>-97.176000</td>\n",
       "      <td>-1.163000</td>\n",
       "      <td>-0.196000</td>\n",
       "      <td>-144.679000</td>\n",
       "      <td>123.189000</td>\n",
       "      <td>12.223000</td>\n",
       "      <td>9.169000</td>\n",
       "      <td>-22.419000</td>\n",
       "      <td>278.164000</td>\n",
       "      <td>18.065</td>\n",
       "      <td>-310.411000</td>\n",
       "      <td>8.945</td>\n",
       "      <td>12.124333</td>\n",
       "      <td>2.623000</td>\n",
       "      <td>-3.697</td>\n",
       "      <td>-2.731667</td>\n",
       "      <td>0.545667</td>\n",
       "      <td>1.057667</td>\n",
       "      <td>0.810667</td>\n",
       "      <td>0.199333</td>\n",
       "      <td>1.852333</td>\n",
       "      <td>0.0</td>\n",
       "      <td>-1.577</td>\n",
       "      <td>0.007667</td>\n",
       "      <td>0.0</td>\n",
       "      <td>1.358</td>\n",
       "      <td>0.671000</td>\n",
       "      <td>1.583667</td>\n",
       "      <td>0.171667</td>\n",
       "      <td>0.014</td>\n",
       "      <td>0.872</td>\n",
       "      <td>0.017000</td>\n",
       "      <td>-0.134000</td>\n",
       "      <td>-0.100</td>\n",
       "      <td>0.435333</td>\n",
       "      <td>-1.319333</td>\n",
       "      <td>6.835000</td>\n",
       "      <td>-1.977333</td>\n",
       "      <td>19.644</td>\n",
       "      <td>60.939363</td>\n",
       "      <td>76.416854</td>\n",
       "      <td>31.75</td>\n",
       "      <td>0.427586</td>\n",
       "      <td>[-0.9143661, -0.9311734, -1.0163504, -1.110276...</td>\n",
       "      <td>[-5.8135767, -7.5865355, -6.377211, -5.5560055...</td>\n",
       "      <td>[5.013483, 6.58278, -4.2263947, 2.135174, -4.0...</td>\n",
       "      <td>[3.3193378, 13.778628, 40.745605, -40.561554, ...</td>\n",
       "      <td>[0.005573705, 0.0062753484, -0.005795421, 0.00...</td>\n",
       "      <td>[0.47212097, 0.49641332, 0.6147766, 0.47432983...</td>\n",
       "      <td>[-6.029762, -7.716437, -6.686019, -5.9195952, ...</td>\n",
       "      <td>[1.6403109, 2.4395254, -3.7391555, 2.6988323, ...</td>\n",
       "      <td>[8.636584, 8.638843, 21.079756, -9.497276, -2....</td>\n",
       "      <td>[0.0024530103, 0.010949803, -0.00598975, 0.002...</td>\n",
       "      <td>1.899883</td>\n",
       "      <td>0.041007</td>\n",
       "      <td>[1.9151165634393692, 0.24879562854766846, -2.6...</td>\n",
       "      <td>[0.010374307632446289, 0.014673292636871338, -...</td>\n",
       "      <td>0.034884</td>\n",
       "      <td>[0.023371338844299316, -0.012821524869650602, ...</td>\n",
       "      <td>[0.009958148002624512, 0.007057119160890579, 0...</td>\n",
       "      <td>0.061314</td>\n",
       "      <td>-0.060597</td>\n",
       "      <td>0.0</td>\n",
       "      <td>-0.000497</td>\n",
       "      <td>[-0.08734667, -0.0875411, -0.06534517, -0.0733...</td>\n",
       "      <td>[-0.0131139755, -0.033089638, -0.019153595, -0...</td>\n",
       "      <td>[-0.4901538, 1.5533419, -1.5304286, -0.1852448...</td>\n",
       "      <td>[1.8987266, -0.4226532, 0.6206093, 0.038326263...</td>\n",
       "      <td>[6.455183e-05, -0.00016468763, 7.186085e-06, 4...</td>\n",
       "      <td>[-0.006253898, -0.0062743723, -0.006733477, -0...</td>\n",
       "      <td>[-0.012162209, -0.018994808, -0.011818409, -0....</td>\n",
       "      <td>[-0.03768146, -0.016304016, -0.041838408, 0.01...</td>\n",
       "      <td>[0.08028793, -0.019423485, -0.1275692, -0.0226...</td>\n",
       "      <td>[-2.5912654e-05, 3.2503158e-05, 5.8985315e-06,...</td>\n",
       "      <td>[0, 0, 0, 0, 0, 0, 0, 0, 0, 0, 0, 0, 0, 0, 0, ...</td>\n",
       "      <td>[0, 0, 0, 0, 0, 0, 0, 0, 0, 0, 0, 0, 1, 0, 0, ...</td>\n",
       "    </tr>\n",
       "  </tbody>\n",
       "</table>\n",
       "</div>"
      ],
      "text/plain": [
       "  protein_id mutation          mutation_id                  effect  \\\n",
       "0     P26678      R9C  NM_002667.3:c.25C>T              Pathogenic   \n",
       "1     P26678      T8P  NM_002667.3:c.22A>C  Uncertain significance   \n",
       "\n",
       "   proteinsolver_core_score_wt  \\\n",
       "0                     0.091593   \n",
       "1                     0.041601   \n",
       "\n",
       "              proteinsolver_core_features_residue_wt  \\\n",
       "0  [0.48249053955078125, 0.24484702944755554, -0....   \n",
       "1  [2.043767213821411, 0.9361261129379272, -0.415...   \n",
       "\n",
       "              proteinsolver_core_features_protein_wt  protbert_core_score_wt  \\\n",
       "0  [-2.27313494682312, 0.6932704448699951, -0.195...                0.068529   \n",
       "1  [-2.27313494682312, 0.6932705044746399, -0.195...                0.062104   \n",
       "\n",
       "                   protbert_core_features_residue_wt  \\\n",
       "0  [0.15305250883102417, -0.11011786758899689, 0....   \n",
       "1  [0.056363195180892944, -0.020384633913636208, ...   \n",
       "\n",
       "                   protbert_core_features_protein_wt  rosetta_cart_bonded_wt  \\\n",
       "0  [0.05504663661122322, -0.04564127326011658, 0....               34.796667   \n",
       "1  [0.05504663661122322, -0.04564127326011658, 0....               35.531000   \n",
       "\n",
       "   rosetta_rama_prepro_wt  rosetta_ref_wt  rosetta_hxl_tors_wt  \\\n",
       "0               18.080333           13.08             5.875333   \n",
       "1               17.849000           13.08             9.764000   \n",
       "\n",
       "   rosetta_p_aa_pp_wt  rosetta_fa_dun_semi_wt  rosetta_fa_dun_rot_wt  \\\n",
       "0           -4.878333               33.826333                 30.420   \n",
       "1           -5.052000               33.549000                 30.357   \n",
       "\n",
       "   rosetta_fa_dun_dev_wt  rosetta_omega_wt  rosetta_dslf_fa13_wt  \\\n",
       "0              37.201667         16.900333                   0.0   \n",
       "1              43.524000         16.889000                   0.0   \n",
       "\n",
       "   rosetta_hbond_sc_wt  rosetta_hbond_bb_sc_wt  rosetta_hbond_lr_bb_wt  \\\n",
       "0                  0.0                  -0.495                     0.0   \n",
       "1                  0.0                  -0.743                     0.0   \n",
       "\n",
       "   rosetta_hbond_sr_bb_wt  rosetta_fa_intra_elec_wt  rosetta_fa_elec_wt  \\\n",
       "0                 -46.239                    -5.748          -96.294333   \n",
       "1                 -45.885                    -4.684          -97.176000   \n",
       "\n",
       "   rosetta_lk_ball_bridge_uncpl_wt  rosetta_lk_ball_bridge_wt  \\\n",
       "0                        -1.515667                  -0.220333   \n",
       "1                        -1.163000                  -0.196000   \n",
       "\n",
       "   rosetta_lk_ball_iso_wt  rosetta_lk_ball_wt  rosetta_fa_intra_sol_xover4_wt  \\\n",
       "0             -145.437333          123.757667                       12.501667   \n",
       "1             -144.679000          123.189000                       12.223000   \n",
       "\n",
       "   rosetta_fa_intra_rep_xover4_wt  rosetta_fa_intra_atr_xover4_wt  \\\n",
       "0                        9.146667                      -22.659333   \n",
       "1                        9.169000                      -22.419000   \n",
       "\n",
       "   rosetta_fa_sol_wt  rosetta_fa_rep_wt  rosetta_fa_atr_wt  rosetta_dg_wt  \\\n",
       "0         279.312667             18.309        -311.028667         -1.308   \n",
       "1         278.164000             18.065        -310.411000          8.945   \n",
       "\n",
       "   rosetta_cart_bonded_change  rosetta_rama_prepro_change  rosetta_ref_change  \\\n",
       "0                   -0.577667                    0.614667               4.553   \n",
       "1                   12.124333                    2.623000              -3.697   \n",
       "\n",
       "   rosetta_hxl_tors_change  rosetta_p_aa_pp_change  \\\n",
       "0                 0.021333                0.376000   \n",
       "1                -2.731667                0.545667   \n",
       "\n",
       "   rosetta_fa_dun_semi_change  rosetta_fa_dun_rot_change  \\\n",
       "0                    0.173000                  -1.592000   \n",
       "1                    1.057667                   0.810667   \n",
       "\n",
       "   rosetta_fa_dun_dev_change  rosetta_omega_change  rosetta_dslf_fa13_change  \\\n",
       "0                  -0.074667             -0.012667                       0.0   \n",
       "1                   0.199333              1.852333                       0.0   \n",
       "\n",
       "   rosetta_hbond_sc_change  rosetta_hbond_bb_sc_change  \\\n",
       "0                    0.000                    0.495000   \n",
       "1                   -1.577                    0.007667   \n",
       "\n",
       "   rosetta_hbond_lr_bb_change  rosetta_hbond_sr_bb_change  \\\n",
       "0                         0.0                      -0.011   \n",
       "1                         0.0                       1.358   \n",
       "\n",
       "   rosetta_fa_intra_elec_change  rosetta_fa_elec_change  \\\n",
       "0                     -0.510333                0.204667   \n",
       "1                      0.671000                1.583667   \n",
       "\n",
       "   rosetta_lk_ball_bridge_uncpl_change  rosetta_lk_ball_bridge_change  \\\n",
       "0                             0.508667                          0.040   \n",
       "1                             0.171667                          0.014   \n",
       "\n",
       "   rosetta_lk_ball_iso_change  rosetta_lk_ball_change  \\\n",
       "0                       1.679               -0.050333   \n",
       "1                       0.872                0.017000   \n",
       "\n",
       "   rosetta_fa_intra_sol_xover4_change  rosetta_fa_intra_rep_xover4_change  \\\n",
       "0                           -0.104333                              -0.147   \n",
       "1                           -0.134000                              -0.100   \n",
       "\n",
       "   rosetta_fa_intra_atr_xover4_change  rosetta_fa_sol_change  \\\n",
       "0                            0.325000              -4.542667   \n",
       "1                            0.435333              -1.319333   \n",
       "\n",
       "   rosetta_fa_rep_change  rosetta_fa_atr_change  rosetta_dg_change  \\\n",
       "0               0.084667               2.215667              3.669   \n",
       "1               6.835000              -1.977333             19.644   \n",
       "\n",
       "   alphafold_core_scores_residue_plddt_wt  \\\n",
       "0                               60.585841   \n",
       "1                               60.939363   \n",
       "\n",
       "   alphafold_core_scores_protein_plddt_wt  \\\n",
       "0                               76.416854   \n",
       "1                               76.416854   \n",
       "\n",
       "   alphafold_core_scores_protein_max_predicted_aligned_error_wt  \\\n",
       "0                                              31.75              \n",
       "1                                              31.75              \n",
       "\n",
       "   alphafold_core_scores_proten_ptm_wt  \\\n",
       "0                             0.427586   \n",
       "1                             0.427586   \n",
       "\n",
       "  alphafold_core_features_residue_experimentally_resolved_wt  \\\n",
       "0  [1.1943495, 1.2143694, 1.4703865, 1.009636, 1....           \n",
       "1  [-0.9143661, -0.9311734, -1.0163504, -1.110276...           \n",
       "\n",
       "   alphafold_core_features_residue_predicted_lddt_wt  \\\n",
       "0  [-6.1107526, -7.1425943, -6.2013907, -5.484081...   \n",
       "1  [-5.8135767, -7.5865355, -6.377211, -5.5560055...   \n",
       "\n",
       "    alphafold_core_features_residue_msa_first_row_wt  \\\n",
       "0  [-1.8559321, 4.2250576, -12.1879635, 5.93118, ...   \n",
       "1  [5.013483, 6.58278, -4.2263947, 2.135174, -4.0...   \n",
       "\n",
       "           alphafold_core_features_residue_single_wt  \\\n",
       "0  [19.911064, -7.9082317, 24.44313, -24.324299, ...   \n",
       "1  [3.3193378, 13.778628, 40.745605, -40.561554, ...   \n",
       "\n",
       "  alphafold_core_features_residue_structure_module_wt  \\\n",
       "0  [0.0069303215, 0.010208584, -0.0057431404, 0.0...    \n",
       "1  [0.005573705, 0.0062753484, -0.005795421, 0.00...    \n",
       "\n",
       "  alphafold_core_features_protein_experimentally_resolved_wt  \\\n",
       "0  [0.47212097, 0.49641332, 0.6147766, 0.47432983...           \n",
       "1  [0.47212097, 0.49641332, 0.6147766, 0.47432983...           \n",
       "\n",
       "   alphafold_core_features_protein_predicted_lddt_wt  \\\n",
       "0  [-6.029762, -7.716437, -6.686019, -5.9195952, ...   \n",
       "1  [-6.029762, -7.716437, -6.686019, -5.9195952, ...   \n",
       "\n",
       "    alphafold_core_features_protein_msa_first_row_wt  \\\n",
       "0  [1.6403109, 2.4395254, -3.7391555, 2.6988323, ...   \n",
       "1  [1.6403109, 2.4395254, -3.7391555, 2.6988323, ...   \n",
       "\n",
       "           alphafold_core_features_protein_single_wt  \\\n",
       "0  [8.636584, 8.638843, 21.079756, -9.497276, -2....   \n",
       "1  [8.636584, 8.638843, 21.079756, -9.497276, -2....   \n",
       "\n",
       "  alphafold_core_features_protein_structure_module_wt  el2_score  \\\n",
       "0  [0.0024530103, 0.010949803, -0.00598975, 0.002...    1.484475   \n",
       "1  [0.0024530103, 0.010949803, -0.00598975, 0.002...    1.899883   \n",
       "\n",
       "   proteinsolver_core_score_change  \\\n",
       "0                         0.087628   \n",
       "1                         0.041007   \n",
       "\n",
       "          proteinsolver_core_features_residue_change  \\\n",
       "0  [2.386656880378723, -0.8056838810443878, -0.32...   \n",
       "1  [1.9151165634393692, 0.24879562854766846, -2.6...   \n",
       "\n",
       "          proteinsolver_core_features_protein_change  \\\n",
       "0  [0.046662330627441406, -0.10836398601531982, 0...   \n",
       "1  [0.010374307632446289, 0.014673292636871338, -...   \n",
       "\n",
       "   protbert_core_score_change  \\\n",
       "0                    0.060680   \n",
       "1                    0.034884   \n",
       "\n",
       "               protbert_core_features_residue_change  \\\n",
       "0  [0.06232793629169464, 0.014490947127342224, 0....   \n",
       "1  [0.023371338844299316, -0.012821524869650602, ...   \n",
       "\n",
       "               protbert_core_features_protein_change  \\\n",
       "0  [0.02708190120756626, 0.009473510086536407, 0....   \n",
       "1  [0.009958148002624512, 0.007057119160890579, 0...   \n",
       "\n",
       "   alphafold_core_scores_residue_plddt_change  \\\n",
       "0                                    0.003242   \n",
       "1                                    0.061314   \n",
       "\n",
       "   alphafold_core_scores_protein_plddt_change  \\\n",
       "0                                    0.013131   \n",
       "1                                   -0.060597   \n",
       "\n",
       "   alphafold_core_scores_protein_max_predicted_aligned_error_change  \\\n",
       "0                                                0.0                  \n",
       "1                                                0.0                  \n",
       "\n",
       "   alphafold_core_scores_proten_ptm_change  \\\n",
       "0                                -0.000281   \n",
       "1                                -0.000497   \n",
       "\n",
       "  alphafold_core_features_residue_experimentally_resolved_change  \\\n",
       "0  [0.13021708, 0.13196647, 0.21231675, 0.0928846...               \n",
       "1  [-0.08734667, -0.0875411, -0.06534517, -0.0733...               \n",
       "\n",
       "  alphafold_core_features_residue_predicted_lddt_change  \\\n",
       "0  [-0.0067915916, 0.012249947, 0.006855011, 0.00...      \n",
       "1  [-0.0131139755, -0.033089638, -0.019153595, -0...      \n",
       "\n",
       "  alphafold_core_features_residue_msa_first_row_change  \\\n",
       "0  [-0.24461997, 0.91860914, -1.4374704, 1.841849...     \n",
       "1  [-0.4901538, 1.5533419, -1.5304286, -0.1852448...     \n",
       "\n",
       "       alphafold_core_features_residue_single_change  \\\n",
       "0  [7.351156, 8.393639, 3.1830235, 3.0640717, 4.0...   \n",
       "1  [1.8987266, -0.4226532, 0.6206093, 0.038326263...   \n",
       "\n",
       "  alphafold_core_features_residue_structure_module_change  \\\n",
       "0  [9.148568e-05, -2.7619302e-05, 3.2782555e-07, ...        \n",
       "1  [6.455183e-05, -0.00016468763, 7.186085e-06, 4...        \n",
       "\n",
       "  alphafold_core_features_protein_experimentally_resolved_change  \\\n",
       "0  [0.0022777617, 0.0021982193, 0.0029729605, 0.0...               \n",
       "1  [-0.006253898, -0.0062743723, -0.006733477, -0...               \n",
       "\n",
       "  alphafold_core_features_protein_predicted_lddt_change  \\\n",
       "0  [-0.004014015, -0.0029330254, -0.003218174, -0...      \n",
       "1  [-0.012162209, -0.018994808, -0.011818409, -0....      \n",
       "\n",
       "  alphafold_core_features_protein_msa_first_row_change  \\\n",
       "0  [-0.019475102, -0.0052657127, -0.04385376, -0....     \n",
       "1  [-0.03768146, -0.016304016, -0.041838408, 0.01...     \n",
       "\n",
       "       alphafold_core_features_protein_single_change  \\\n",
       "0  [0.09133339, 0.074448586, -0.10094261, 0.12374...   \n",
       "1  [0.08028793, -0.019423485, -0.1275692, -0.0226...   \n",
       "\n",
       "  alphafold_core_features_protein_structure_module_change  \\\n",
       "0  [2.8892653e-05, -2.5316142e-05, -7.459894e-07,...        \n",
       "1  [-2.5912654e-05, 3.2503158e-05, 5.8985315e-06,...        \n",
       "\n",
       "                                        aa_wt_onehot  \\\n",
       "0  [0, 0, 0, 0, 0, 0, 0, 0, 0, 0, 0, 0, 0, 0, 1, ...   \n",
       "1  [0, 0, 0, 0, 0, 0, 0, 0, 0, 0, 0, 0, 0, 0, 0, ...   \n",
       "\n",
       "                                       aa_mut_onehot  \n",
       "0  [0, 1, 0, 0, 0, 0, 0, 0, 0, 0, 0, 0, 0, 0, 0, ...  \n",
       "1  [0, 0, 0, 0, 0, 0, 0, 0, 0, 0, 0, 0, 1, 0, 0, ...  "
      ]
     },
     "metadata": {},
     "output_type": "display_data"
    },
    {
     "name": "stdout",
     "output_type": "stream",
     "text": [
      "221816\n"
     ]
    }
   ],
   "source": [
    "result_df = pq.read_table(input_file).to_pandas()\n",
    "\n",
    "display(result_df.head(2))\n",
    "print(len(result_df))"
   ]
  },
  {
   "cell_type": "markdown",
   "id": "ae87c286-d491-42d4-941d-606cde544d48",
   "metadata": {},
   "source": [
    "## Exploratory data analysis"
   ]
  },
  {
   "cell_type": "code",
   "execution_count": 28,
   "id": "e1374e04-eae5-47bb-b1b0-9aafc45782a0",
   "metadata": {},
   "outputs": [],
   "source": [
    "proteinsolver_columnms = [c for c in result_df if c.startswith(\"proteinsolver_\")]\n",
    "protbert_columns = [c for c in result_df if c.startswith(\"protbert_\")]\n",
    "rosetta_columns = [c for c in result_df if c.startswith(\"rosetta_\")]\n",
    "alphafold_columns = [c for c in result_df if c.startswith(\"alphafold_\")]"
   ]
  },
  {
   "cell_type": "code",
   "execution_count": 29,
   "id": "1448fdf8-4949-4e91-b6c2-0db0711b8ea4",
   "metadata": {},
   "outputs": [
    {
     "data": {
      "text/plain": [
       "Uncertain significance    147067\n",
       "Likely benign              11398\n",
       "Benign                      9730\n",
       "Pathogenic                  5834\n",
       "Likely pathogenic           2506\n",
       "Name: effect, dtype: int64"
      ]
     },
     "execution_count": 29,
     "metadata": {},
     "output_type": "execute_result"
    }
   ],
   "source": [
    "result_df[\"effect\"].value_counts()"
   ]
  },
  {
   "cell_type": "code",
   "execution_count": 30,
   "id": "4ea8e99e-ccd9-4c28-8613-c3bde79aefbe",
   "metadata": {},
   "outputs": [],
   "source": [
    "effect_map = {\n",
    "    \"Uncertain significance\": 0,\n",
    "    \"Likely benign\": -1,\n",
    "    \"Benign\": -2,\n",
    "    \"Likely pathogenic\": 1,\n",
    "    \"Pathogenic\": 2,\n",
    "}\n",
    "\n",
    "result_df[\"effect_score\"] = result_df[\"effect\"].map(effect_map)"
   ]
  },
  {
   "cell_type": "code",
   "execution_count": 31,
   "id": "eb146d6b-4dac-451b-8ed2-951a07d51a9c",
   "metadata": {},
   "outputs": [
    {
     "name": "stdout",
     "output_type": "stream",
     "text": [
      "el2_score 0.20904092413334513 0.8102172600274852\n",
      "proteinsolver_core_score_change 0.12333787494792897 0.6756977519399014\n",
      "protbert_core_score_change 0.17309841808091103 0.7703863336833652\n",
      "rosetta_dg_change 0.10878939601804864 0.6463044888240757\n"
     ]
    }
   ],
   "source": [
    "score_columns = [\n",
    "    \"el2_score\",\n",
    "    \"proteinsolver_core_score_change\",\n",
    "    \"protbert_core_score_change\",\n",
    "    \"rosetta_dg_change\",\n",
    "    #     \"alphafold_core_scores_residue_plddt_wt\",\n",
    "    #     \"alphafold_core_scores_protein_plddt_wt\",\n",
    "    #     \"alphafold_core_scores_protein_max_predicted_aligned_error_wt\",\n",
    "    #     \"alphafold_core_scores_proten_ptm_wt\",\n",
    "]\n",
    "\n",
    "df = result_df.dropna(subset=score_columns + [\"effect_score\"])\n",
    "# df = df[df[\"effect_score\"].isin([-1, 1])].reset_index(drop=True)\n",
    "\n",
    "for col in score_columns:\n",
    "    corr = stats.spearmanr(df[\"effect_score\"], df[col])\n",
    "    auc = metrics.roc_auc_score(df[\"effect_score\"] > 0, df[col])\n",
    "    print(col, corr[0], auc)"
   ]
  },
  {
   "cell_type": "markdown",
   "id": "a5a022f7-5f44-4505-9d5b-7f2086b984aa",
   "metadata": {},
   "source": [
    "## Train ML model"
   ]
  },
  {
   "cell_type": "markdown",
   "id": "d477fa31-30ac-4db5-b7f3-f063ed962d47",
   "metadata": {},
   "source": [
    "### Prepare dataset"
   ]
  },
  {
   "cell_type": "code",
   "execution_count": 36,
   "id": "2d868655-c34e-4831-a85c-5a4e48dd463d",
   "metadata": {
    "tags": []
   },
   "outputs": [],
   "source": [
    "rosetta_columns = [c for c in result_df if \"rosetta\" in c]\n",
    "\n",
    "scalar_features = [\n",
    "#     \"el2_score\",\n",
    "    \"proteinsolver_core_score_change\",\n",
    "    \"protbert_core_score_change\",\n",
    "]\n",
    "vector_features = [\n",
    "    \"aa_wt_onehot\",\n",
    "    \"aa_mut_onehot\",\n",
    "    \"protbert_core_features_residue_wt\",\n",
    "    \"protbert_core_features_residue_change\",\n",
    "    \"proteinsolver_core_features_residue_wt\",\n",
    "    \"proteinsolver_core_features_residue_change\",\n",
    "    #     \"protbert_core_features_protein_wt\",\n",
    "    #     \"protbert_core_features_protein_change\",\n",
    "    #     \"proteinsolver_core_features_protein_wt\",\n",
    "    #     \"proteinsolver_core_features_protein_change\",\n",
    "    #\n",
    "    # AlphaFold\n",
    "    #     \"alphafold_core_features_residue_experimentally_resolved_wt\",  # 0.19 [37]\n",
    "    #     \"alphafold_core_features_residue_experimentally_resolved_change\",  # 0.11 [37]\n",
    "    #     \"alphafold_core_features_residue_predicted_lddt_wt\",  # 0.17 [50]\n",
    "    #     \"alphafold_core_features_residue_predicted_lddt_change\",  # 0.04 [50]\n",
    "    #     \"alphafold_core_features_residue_msa_first_row_wt\",  # 0.17 [256]\n",
    "    #     \"alphafold_core_features_residue_msa_first_row_change\",  # 0.21 [256]\n",
    "    #     \"alphafold_core_features_residue_single_wt\",  # 0.20 [384]\n",
    "    #     \"alphafold_core_features_residue_single_change\",  # 0.15 [384]\n",
    "    #     \"alphafold_core_features_residue_structure_module_wt\",  # 0.18 [384]\n",
    "    #     \"alphafold_core_features_residue_structure_module_change\",  # 0.05 [384]\n",
    "]\n",
    "\n",
    "#             \"rosetta_dg_change\",\n",
    "#             \"alphafold_core_features_residue_experimentally_resolved_wt\",\n",
    "\n",
    "df = (\n",
    "    result_df.dropna(\n",
    "        subset=scalar_features\n",
    "        + vector_features\n",
    "        + [\n",
    "            \"effect_score\",\n",
    "        ]\n",
    "    )\n",
    "    .sample(frac=1, random_state=0)\n",
    "    .reset_index(drop=True)\n",
    ")\n",
    "# df = df[df[\"effect_score\"] != 0].reset_index(drop=True)\n",
    "\n",
    "\n",
    "X_ref = np.c_[\n",
    "    df[scalar_features].values,\n",
    "    np.hstack([np.vstack(df[col].values) for col in vector_features]),\n",
    "]\n",
    "X = X_ref\n",
    "# X = X[:, important_features]\n",
    "\n",
    "\n",
    "y = (df[\"effect_score\"] > 0).values.astype(int)\n",
    "y[df[\"effect_score\"] == 0] = (df[df[\"effect_score\"] == 0][\"el2_score\"] > 2).values.astype(int)\n",
    "# y = df[\"effect_score\"].values\n",
    "\n",
    "\n",
    "weights = np.ones(len(df), dtype=np.float64)\n",
    "weights[df[\"effect_score\"] == 1] = 0.5\n",
    "weights[df[\"effect_score\"] == -1] = 0.5\n",
    "weights[df[\"effect_score\"] == 0] = 0.01"
   ]
  },
  {
   "cell_type": "code",
   "execution_count": 43,
   "id": "f247c408-41f4-4f60-aff9-95a6149df55b",
   "metadata": {},
   "outputs": [
    {
     "data": {
      "text/plain": [
       " 0.0    142635\n",
       "-1.0     11090\n",
       "-2.0      9481\n",
       " 2.0      5714\n",
       " 1.0      2437\n",
       "Name: effect_score, dtype: int64"
      ]
     },
     "execution_count": 43,
     "metadata": {},
     "output_type": "execute_result"
    }
   ],
   "source": [
    "df[\"effect_score\"].value_counts()"
   ]
  },
  {
   "cell_type": "code",
   "execution_count": 44,
   "id": "3be2458b-420a-434d-b7fe-41842e9f4cc4",
   "metadata": {},
   "outputs": [
    {
     "data": {
      "text/plain": [
       "Counter({0: 137225, 1: 34132})"
      ]
     },
     "execution_count": 44,
     "metadata": {},
     "output_type": "execute_result"
    }
   ],
   "source": [
    "from collections import Counter\n",
    "\n",
    "Counter(y)"
   ]
  },
  {
   "cell_type": "markdown",
   "id": "5268b00d-6f53-489a-a8aa-8141622fcec1",
   "metadata": {},
   "source": [
    "### Hyperparameter optimization"
   ]
  },
  {
   "cell_type": "code",
   "execution_count": 46,
   "id": "628f2323-0afa-4eb4-937d-2e77e6a2b3a9",
   "metadata": {},
   "outputs": [],
   "source": [
    "def training_loop(X, y, weights, param, n_splits=6, progressbar=False):\n",
    "    models = []\n",
    "    preds = np.ones(len(y), dtype=np.float64) * np.nan\n",
    "    gkf = GroupKFold(n_splits=n_splits)\n",
    "    for train_index, test_index in tqdm(\n",
    "        gkf.split(X, y, groups=df[\"protein_id\"]),\n",
    "        total=n_splits,\n",
    "        disable=not progressbar,\n",
    "    ):\n",
    "        X_training, X_testing = X[train_index], X[test_index]\n",
    "        y_training, y_testing = y[train_index], y[test_index]\n",
    "        weights_training, weights_testing = weights[train_index], weights[test_index]\n",
    "\n",
    "        dtrain = lgb.Dataset(X_training, label=y_training, weight=weights_training)\n",
    "        model = lgb.train(param, dtrain)\n",
    "        preds[test_index] = model.predict(X_testing)\n",
    "        models.append(model)\n",
    "    return models, preds"
   ]
  },
  {
   "cell_type": "code",
   "execution_count": 47,
   "id": "7dde5332-4896-4fd2-bdee-cf1b8f9f4aa8",
   "metadata": {},
   "outputs": [],
   "source": [
    "def objective(trial, X, y, weights):\n",
    "    param = {\n",
    "        \"objective\": \"binary\",\n",
    "        \"metric\": \"auc\",  # 'binary_logloss',\n",
    "        \"lambda_l1\": trial.suggest_loguniform(\"lambda_l1\", 1e-8, 10.0),\n",
    "        \"lambda_l2\": trial.suggest_loguniform(\"lambda_l2\", 1e-8, 10.0),\n",
    "        \"num_leaves\": trial.suggest_int(\"num_leaves\", 2, 64),\n",
    "        \"feature_fraction\": trial.suggest_uniform(\"feature_fraction\", 0.4, 1.0),\n",
    "        \"bagging_fraction\": trial.suggest_uniform(\"bagging_fraction\", 0.4, 1.0),\n",
    "        \"bagging_freq\": trial.suggest_int(\"bagging_freq\", 1, 7),\n",
    "        \"min_data_in_leaf\": trial.suggest_int(\"min_data_in_leaf\", 5, 60),\n",
    "    }\n",
    "    models, preds = training_loop(X, y, weights, param)\n",
    "    pred_labels = np.rint(preds)\n",
    "    accuracy = metrics.accuracy_score(y, pred_labels)\n",
    "    auc = metrics.roc_auc_score(y, preds)\n",
    "    return auc"
   ]
  },
  {
   "cell_type": "code",
   "execution_count": 48,
   "id": "4feb9aaf-3f65-4fbc-9a7c-b023f9532e9a",
   "metadata": {
    "tags": []
   },
   "outputs": [],
   "source": [
    "# study = optuna.create_study(direction=\"maximize\")\n",
    "# study.optimize(lambda trial: objective(trial, X, y, weights), n_trials=100)\n",
    "\n",
    "# print(\"Number of finished trials:\", len(study.trials))\n",
    "# print(\"Best trial:\", study.best_trial.params)"
   ]
  },
  {
   "cell_type": "code",
   "execution_count": 49,
   "id": "c3c3ac2b-a41b-4e4a-ad66-2fbe56d0fbb7",
   "metadata": {},
   "outputs": [],
   "source": [
    "# print(\"Number of finished trials:\", len(study.trials))\n",
    "# print(\"Best trial:\", study.best_trial.params)"
   ]
  },
  {
   "cell_type": "markdown",
   "id": "2d9f199a-dcb4-4ff4-85e6-7f8dc22d77eb",
   "metadata": {},
   "source": [
    "```json\n",
    "Number of finished trials: 100\n",
    "Best trial: {'lambda_l1': 5.233219055743764, 'lambda_l2': 0.00037944276593632404, 'num_leaves': 64, 'feature_fraction': 0.5395906681722488, 'bagging_fraction': 0.9467711664385872, 'bagging_freq': 5, 'min_child_samples': 15}\n",
    "```"
   ]
  },
  {
   "cell_type": "markdown",
   "id": "0b8fc980-df82-43bb-851f-2fe69c6da72a",
   "metadata": {},
   "source": [
    "### Checkpoint model"
   ]
  },
  {
   "cell_type": "code",
   "execution_count": null,
   "id": "0fd34182-8a04-4498-b8eb-a5bbfbd931c2",
   "metadata": {
    "tags": []
   },
   "outputs": [
    {
     "data": {
      "application/vnd.jupyter.widget-view+json": {
       "model_id": "4292eccd5b584f8190450f7274081a1e",
       "version_major": 2,
       "version_minor": 0
      },
      "text/plain": [
       "  0%|          | 0/6 [00:00<?, ?it/s]"
      ]
     },
     "metadata": {},
     "output_type": "display_data"
    },
    {
     "name": "stdout",
     "output_type": "stream",
     "text": [
      "[LightGBM] [Info] Number of positive: 27882, number of negative: 114915\n",
      "[LightGBM] [Warning] Auto-choosing col-wise multi-threading, the overhead of testing was 2.555240 seconds.\n",
      "You can set `force_col_wise=true` to remove the overhead.\n",
      "[LightGBM] [Info] Total Bins 588110\n",
      "[LightGBM] [Info] Number of data points in the train set: 142797, number of used features: 2346\n",
      "[LightGBM] [Info] [binary:BoostFromScore]: pavg=0.307096 -> initscore=-0.813733\n",
      "[LightGBM] [Info] Start training from score -0.813733\n"
     ]
    }
   ],
   "source": [
    "param = {\n",
    "    \"objective\": \"binary\",\n",
    "    \"metric\": \"auc\",  # 'binary_logloss',\n",
    "    \"lambda_l1\": 5.233219055743764,\n",
    "    \"lambda_l2\": 0.00037944276593632404,\n",
    "    \"num_leaves\": 64,\n",
    "    \"feature_fraction\": 0.5395906681722488,\n",
    "    \"bagging_fraction\": 0.9467711664385872,\n",
    "    \"bagging_freq\": 5,\n",
    "    \"min_child_samples\": 15,\n",
    "}\n",
    "\n",
    "models, preds = training_loop(X, y, weights, param, progressbar=True)\n",
    "\n",
    "mask = df[\"effect_score\"] != 0\n",
    "corr = stats.spearmanr(y[mask], preds[mask])\n",
    "auc = metrics.roc_auc_score(y[mask], preds[mask])\n",
    "print(corr[0], auc)"
   ]
  },
  {
   "cell_type": "markdown",
   "id": "2523fa04-0c78-46cb-b7ef-b07c34bfdfe5",
   "metadata": {},
   "source": [
    "### Feature elimination"
   ]
  },
  {
   "cell_type": "code",
   "execution_count": 106,
   "id": "69c43031-7571-4491-b959-562b11e7d5d2",
   "metadata": {},
   "outputs": [
    {
     "data": {
      "text/plain": [
       "[0, 4, 5, 6, 7, 8, 11, 12, 13, 14]"
      ]
     },
     "execution_count": 106,
     "metadata": {},
     "output_type": "execute_result"
    }
   ],
   "source": [
    "def get_feature_index(num_features, features_to_exclude):\n",
    "    idx = 0\n",
    "    seen = set(features_to_exclude)\n",
    "    indices = list(reversed(range(num_features)))\n",
    "    while indices:\n",
    "        idx = indices.pop()\n",
    "        while idx in seen:\n",
    "            idx += 1\n",
    "        seen.add(idx)\n",
    "        yield idx\n",
    "\n",
    "\n",
    "list(get_feature_index(10, {1, 2, 3, 9, 10}))"
   ]
  },
  {
   "cell_type": "code",
   "execution_count": 126,
   "id": "e79500fd-94f4-4cee-a1cc-15b047d05634",
   "metadata": {},
   "outputs": [
    {
     "data": {
      "application/vnd.jupyter.widget-view+json": {
       "model_id": "924e8ce3ba1a44f9bd45664cb3905391",
       "version_major": 2,
       "version_minor": 0
      },
      "text/plain": [
       "  0%|          | 0/6 [00:00<?, ?it/s]"
      ]
     },
     "metadata": {},
     "output_type": "display_data"
    },
    {
     "name": "stdout",
     "output_type": "stream",
     "text": [
      "[LightGBM] [Info] Number of positive: 6929, number of negative: 16965\n",
      "[LightGBM] [Warning] Auto-choosing col-wise multi-threading, the overhead of testing was 0.393325 seconds.\n",
      "You can set `force_col_wise=true` to remove the overhead.\n",
      "[LightGBM] [Info] Total Bins 588365\n",
      "[LightGBM] [Info] Number of data points in the train set: 23894, number of used features: 2347\n",
      "[LightGBM] [Info] [binary:BoostFromScore]: pavg=0.322018 -> initscore=-0.744515\n",
      "[LightGBM] [Info] Start training from score -0.744515\n",
      "[LightGBM] [Info] Number of positive: 6808, number of negative: 17086\n",
      "[LightGBM] [Warning] Auto-choosing col-wise multi-threading, the overhead of testing was 0.431959 seconds.\n",
      "You can set `force_col_wise=true` to remove the overhead.\n",
      "[LightGBM] [Info] Total Bins 588365\n",
      "[LightGBM] [Info] Number of data points in the train set: 23894, number of used features: 2347\n",
      "[LightGBM] [Info] [binary:BoostFromScore]: pavg=0.316722 -> initscore=-0.768875\n",
      "[LightGBM] [Info] Start training from score -0.768875\n",
      "[LightGBM] [Info] Number of positive: 6749, number of negative: 17145\n",
      "[LightGBM] [Warning] Auto-choosing col-wise multi-threading, the overhead of testing was 0.384134 seconds.\n",
      "You can set `force_col_wise=true` to remove the overhead.\n",
      "[LightGBM] [Info] Total Bins 588365\n",
      "[LightGBM] [Info] Number of data points in the train set: 23894, number of used features: 2347\n",
      "[LightGBM] [Info] [binary:BoostFromScore]: pavg=0.314560 -> initscore=-0.778886\n",
      "[LightGBM] [Info] Start training from score -0.778886\n",
      "[LightGBM] [Info] Number of positive: 6886, number of negative: 17008\n",
      "[LightGBM] [Warning] Auto-choosing col-wise multi-threading, the overhead of testing was 0.431330 seconds.\n",
      "You can set `force_col_wise=true` to remove the overhead.\n",
      "[LightGBM] [Info] Total Bins 588365\n",
      "[LightGBM] [Info] Number of data points in the train set: 23894, number of used features: 2347\n",
      "[LightGBM] [Info] [binary:BoostFromScore]: pavg=0.321034 -> initscore=-0.749026\n",
      "[LightGBM] [Info] Start training from score -0.749026\n",
      "[LightGBM] [Info] Number of positive: 6602, number of negative: 17292\n",
      "[LightGBM] [Warning] Auto-choosing col-wise multi-threading, the overhead of testing was 0.420086 seconds.\n",
      "You can set `force_col_wise=true` to remove the overhead.\n",
      "[LightGBM] [Info] Total Bins 588365\n",
      "[LightGBM] [Info] Number of data points in the train set: 23894, number of used features: 2347\n",
      "[LightGBM] [Info] [binary:BoostFromScore]: pavg=0.307125 -> initscore=-0.813597\n",
      "[LightGBM] [Info] Start training from score -0.813597\n",
      "[LightGBM] [Info] Number of positive: 6711, number of negative: 17184\n",
      "[LightGBM] [Warning] Auto-choosing col-wise multi-threading, the overhead of testing was 0.383961 seconds.\n",
      "You can set `force_col_wise=true` to remove the overhead.\n",
      "[LightGBM] [Info] Total Bins 588365\n",
      "[LightGBM] [Info] Number of data points in the train set: 23895, number of used features: 2347\n",
      "[LightGBM] [Info] [binary:BoostFromScore]: pavg=0.312872 -> initscore=-0.786728\n",
      "[LightGBM] [Info] Start training from score -0.786728\n",
      "1 0.6519079506754358 0.9174252378639102 0 0\n"
     ]
    }
   ],
   "source": [
    "features_to_exclude = {}\n",
    "\n",
    "fe_round = -1\n",
    "fe_round_stats = []\n",
    "while len(features_to_exclude) < X_ref.shape[1]:\n",
    "    fe_round += 1\n",
    "\n",
    "    # Apply feature elimination mask\n",
    "    feature_mask = np.ones(X_ref.shape[1], dtype=bool)\n",
    "    feature_mask[np.array(list(features_to_exclude), dtype=int)] = False\n",
    "    X = X_ref[:, feature_mask]\n",
    "\n",
    "    # Re-train models\n",
    "    models, preds = training_loop(X, y, weights, param, progressbar=True)\n",
    "\n",
    "    # Calculate model statistics\n",
    "    mask = df[\"effect_score\"] != 0\n",
    "    corr = stats.spearmanr(y[mask], preds[mask])\n",
    "    auc = metrics.roc_auc_score(y[mask], preds[mask])\n",
    "\n",
    "    # Save stats\n",
    "    print(\n",
    "        f\"Performance at round {fe_round}:\",\n",
    "        corr[0],\n",
    "        auc,\n",
    "        len(features_to_exclude),\n",
    "        X_ref.shape[1] - X.shape[1],\n",
    "    )\n",
    "    fe_round_stats.append((fe_round, corr[0], auc, len(features_to_exclude)))\n",
    "\n",
    "    # Find new features to eliminate\n",
    "    feature_importance_split = np.vstack(\n",
    "        [model.feature_importance(\"split\") for model in models]\n",
    "    ).sum(axis=0)\n",
    "    feature_importance_gain = np.vstack([model.feature_importance(\"gain\") for model in models]).sum(\n",
    "        axis=0\n",
    "    )\n",
    "\n",
    "    feature_df = pd.DataFrame(\n",
    "        {\n",
    "            \"feature_idx\": list(\n",
    "                get_feature_index(len(feature_importance_split), features_to_exclude)\n",
    "            ),\n",
    "            \"feature_importance_split\": feature_importance_split,\n",
    "            \"feature_importance_gain\": feature_importance_gain,\n",
    "        }\n",
    "    )\n",
    "\n",
    "    min_split = feature_df[\"feature_importance_split\"].min()\n",
    "    feature_df = feature_df[feature_df[\"feature_importance_split\"] == min_split]\n",
    "    min_gain = feature_df[\"feature_importance_gain\"].min()\n",
    "    feature_df = feature_df[feature_df[\"feature_importance_gain\"] == min_gain]\n",
    "    new_features_to_exclude = feature_df[\"feature_idx\"].values.tolist()\n",
    "\n",
    "    for feature_idx in new_features_to_exclude:\n",
    "        assert feature_idx not in features_to_exclude\n",
    "        features_to_exclude[feature_idx] = fe_round\n",
    "\n",
    "    break\n",
    "#     if (feature_df[\"feature_importance_split\"] == 0"
   ]
  },
  {
   "cell_type": "code",
   "execution_count": 129,
   "id": "8136daef-fbc6-4b99-a6f1-2489bc76d1a9",
   "metadata": {},
   "outputs": [
    {
     "data": {
      "text/plain": [
       "33"
      ]
     },
     "execution_count": 129,
     "metadata": {},
     "output_type": "execute_result"
    }
   ],
   "source": [
    "(feature_importance_split == 0).sum()"
   ]
  },
  {
   "cell_type": "markdown",
   "id": "010efb9b-5b53-4822-b5ab-89fd3a37cc7c",
   "metadata": {},
   "source": [
    "### Checkpoint model"
   ]
  },
  {
   "cell_type": "code",
   "execution_count": null,
   "id": "737be218-ab9f-420a-9397-68dd80f5efcf",
   "metadata": {},
   "outputs": [],
   "source": []
  },
  {
   "cell_type": "code",
   "execution_count": null,
   "id": "1a4a5122-a09b-440f-a0bc-ed4bd5a1625a",
   "metadata": {},
   "outputs": [],
   "source": []
  },
  {
   "cell_type": "code",
   "execution_count": 111,
   "id": "73b1433e-40c1-4c90-a5fc-2bf82b5e7dcc",
   "metadata": {},
   "outputs": [
    {
     "data": {
      "text/html": [
       "<div>\n",
       "<style scoped>\n",
       "    .dataframe tbody tr th:only-of-type {\n",
       "        vertical-align: middle;\n",
       "    }\n",
       "\n",
       "    .dataframe tbody tr th {\n",
       "        vertical-align: top;\n",
       "    }\n",
       "\n",
       "    .dataframe thead th {\n",
       "        text-align: right;\n",
       "    }\n",
       "</style>\n",
       "<table border=\"1\" class=\"dataframe\">\n",
       "  <thead>\n",
       "    <tr style=\"text-align: right;\">\n",
       "      <th></th>\n",
       "      <th>feature_idx</th>\n",
       "      <th>feature_importance_split</th>\n",
       "      <th>feature_importance_gain</th>\n",
       "    </tr>\n",
       "  </thead>\n",
       "  <tbody>\n",
       "    <tr>\n",
       "      <th>0</th>\n",
       "      <td>0</td>\n",
       "      <td>464</td>\n",
       "      <td>139713.960939</td>\n",
       "    </tr>\n",
       "    <tr>\n",
       "      <th>1</th>\n",
       "      <td>1</td>\n",
       "      <td>125</td>\n",
       "      <td>9726.086694</td>\n",
       "    </tr>\n",
       "    <tr>\n",
       "      <th>2</th>\n",
       "      <td>2</td>\n",
       "      <td>278</td>\n",
       "      <td>49916.335397</td>\n",
       "    </tr>\n",
       "    <tr>\n",
       "      <th>3</th>\n",
       "      <td>3</td>\n",
       "      <td>0</td>\n",
       "      <td>0.000000</td>\n",
       "    </tr>\n",
       "    <tr>\n",
       "      <th>4</th>\n",
       "      <td>4</td>\n",
       "      <td>4</td>\n",
       "      <td>112.874104</td>\n",
       "    </tr>\n",
       "    <tr>\n",
       "      <th>...</th>\n",
       "      <td>...</td>\n",
       "      <td>...</td>\n",
       "      <td>...</td>\n",
       "    </tr>\n",
       "    <tr>\n",
       "      <th>2342</th>\n",
       "      <td>2342</td>\n",
       "      <td>13</td>\n",
       "      <td>68.780350</td>\n",
       "    </tr>\n",
       "    <tr>\n",
       "      <th>2343</th>\n",
       "      <td>2343</td>\n",
       "      <td>9</td>\n",
       "      <td>42.076520</td>\n",
       "    </tr>\n",
       "    <tr>\n",
       "      <th>2344</th>\n",
       "      <td>2344</td>\n",
       "      <td>8</td>\n",
       "      <td>38.558860</td>\n",
       "    </tr>\n",
       "    <tr>\n",
       "      <th>2345</th>\n",
       "      <td>2345</td>\n",
       "      <td>16</td>\n",
       "      <td>75.636600</td>\n",
       "    </tr>\n",
       "    <tr>\n",
       "      <th>2346</th>\n",
       "      <td>2346</td>\n",
       "      <td>17</td>\n",
       "      <td>119.633929</td>\n",
       "    </tr>\n",
       "  </tbody>\n",
       "</table>\n",
       "<p>2347 rows × 3 columns</p>\n",
       "</div>"
      ],
      "text/plain": [
       "      feature_idx  feature_importance_split  feature_importance_gain\n",
       "0               0                       464            139713.960939\n",
       "1               1                       125              9726.086694\n",
       "2               2                       278             49916.335397\n",
       "3               3                         0                 0.000000\n",
       "4               4                         4               112.874104\n",
       "...           ...                       ...                      ...\n",
       "2342         2342                        13                68.780350\n",
       "2343         2343                         9                42.076520\n",
       "2344         2344                         8                38.558860\n",
       "2345         2345                        16                75.636600\n",
       "2346         2346                        17               119.633929\n",
       "\n",
       "[2347 rows x 3 columns]"
      ]
     },
     "execution_count": 111,
     "metadata": {},
     "output_type": "execute_result"
    }
   ],
   "source": [
    "feature_df"
   ]
  },
  {
   "cell_type": "code",
   "execution_count": 56,
   "id": "0e6bb4e7-12a2-4b31-892f-44afb4050f6f",
   "metadata": {},
   "outputs": [],
   "source": [
    "# Play with weights\n",
    "# # Remove 0 from training set\n",
    "# 0.6445921081338579 0.9127408076311398\n",
    "# 0.6449644074377229 0.9129791957737381 (weights: 0.5, 0.5) [0.6519079506754358 0.9174252378639102]\n",
    "# 0.6445443685870316 0.9127102393712581 (weights: 0.4, 0.4)\n",
    "# 0.6455538992488725 0.9133566551362649 (weights: 0.3, 0.3) [0.9171164733046693]\n",
    "# 0.6452602748674968 0.9131686435817019 (weights: 0.2, 0.2)\n",
    "# 0.6443443914762861 0.9125821913961814 (weights: 0.1, 0.1)\n",
    "\n",
    "\n",
    "# # Keep 0 in training set\n",
    "# 0.6279471936537289 0.9020828498944281\n",
    "# 0.6443655135154522 0.9125957161157062 (weights: 1.0, 1.0, 0.05)\n",
    "# 0.6472835979832177 0.9144642039931771 (weights: 1.0, 1.0, 0.01) ★\n",
    "# 0.6460811745050736 0.9136942764200848 (weights: 0.5, 0.5, 0.01)\n",
    "# 0.6440994599372241 0.9124253585091959 (weights: 0.5, 0.5, 0.05)"
   ]
  },
  {
   "cell_type": "code",
   "execution_count": 57,
   "id": "8445deff-468b-4186-bc2f-0a833ae6d132",
   "metadata": {},
   "outputs": [],
   "source": [
    "# Rows with Rosetta features\n",
    "# 0.6511097888905689 0.9069517496895931  (no Rosetta)\n",
    "# 0.6660185149966301 0.9162698896991949  (all Rosetta columns)"
   ]
  },
  {
   "cell_type": "code",
   "execution_count": 58,
   "id": "76fd5b3b-e774-4685-aebb-e6718c78c908",
   "metadata": {},
   "outputs": [],
   "source": [
    "# Rows with AF features\n",
    "# 0.6658121877163097 0.9006706783116625  (no AF)\n",
    "# 0.6996884055147549 0.9210566180922061  (without AF changes)\n",
    "# 0.7041584812816902 0.9237466083367306  (with AF changes)"
   ]
  },
  {
   "cell_type": "code",
   "execution_count": 59,
   "id": "b21c1962-50c7-4567-a424-7b30cfb37834",
   "metadata": {},
   "outputs": [],
   "source": [
    "# Rows with both AF and Rosetta features\n",
    "# 0.6598501937428695 0.8865273801086971\n",
    "# 0.6724664771013962 0.8939177529532045  (with Rosetta)\n",
    "# 0.7044603810803847 0.9126591582020247  (with AF and Rostta)"
   ]
  },
  {
   "cell_type": "code",
   "execution_count": 60,
   "id": "c32f1941-be41-42f2-8531-182cb177e79e",
   "metadata": {},
   "outputs": [],
   "source": [
    "prediction_df = result_df.dropna(subset=scalar_features + vector_features).copy()\n",
    "\n",
    "\n",
    "X = np.c_[\n",
    "    prediction_df[scalar_features].values,\n",
    "    np.hstack([np.vstack(prediction_df[col].values) for col in vector_features]),\n",
    "]\n",
    "\n",
    "\n",
    "for model_idx, model in enumerate(models):\n",
    "    prediction_df[f\"pred_{model_idx}\"] = model.predict(X)\n",
    "\n",
    "prediction_df[\"pred\"] = prediction_df[\n",
    "    [f\"pred_{model_idx}\" for model_idx in range(len(models))]\n",
    "].mean(axis=1)"
   ]
  },
  {
   "cell_type": "code",
   "execution_count": 61,
   "id": "cb5da178-5c9f-4acb-a1f1-eceece321d0b",
   "metadata": {},
   "outputs": [
    {
     "data": {
      "text/html": [
       "<div>\n",
       "<style scoped>\n",
       "    .dataframe tbody tr th:only-of-type {\n",
       "        vertical-align: middle;\n",
       "    }\n",
       "\n",
       "    .dataframe tbody tr th {\n",
       "        vertical-align: top;\n",
       "    }\n",
       "\n",
       "    .dataframe thead th {\n",
       "        text-align: right;\n",
       "    }\n",
       "</style>\n",
       "<table border=\"1\" class=\"dataframe\">\n",
       "  <thead>\n",
       "    <tr style=\"text-align: right;\">\n",
       "      <th></th>\n",
       "      <th>hgvs_g</th>\n",
       "      <th>pred</th>\n",
       "      <th>is_missense</th>\n",
       "    </tr>\n",
       "  </thead>\n",
       "  <tbody>\n",
       "    <tr>\n",
       "      <th>0</th>\n",
       "      <td>NC_000001.10:g.10032239T&gt;C</td>\n",
       "      <td>0.0</td>\n",
       "      <td>True</td>\n",
       "    </tr>\n",
       "    <tr>\n",
       "      <th>1</th>\n",
       "      <td>NC_000001.10:g.100327066_100327067delinsAT</td>\n",
       "      <td>0.0</td>\n",
       "      <td>True</td>\n",
       "    </tr>\n",
       "    <tr>\n",
       "      <th>2</th>\n",
       "      <td>NC_000001.10:g.100329994A&gt;G</td>\n",
       "      <td>0.0</td>\n",
       "      <td>True</td>\n",
       "    </tr>\n",
       "    <tr>\n",
       "      <th>3</th>\n",
       "      <td>NC_000001.10:g.100340374A&gt;G</td>\n",
       "      <td>0.0</td>\n",
       "      <td>True</td>\n",
       "    </tr>\n",
       "    <tr>\n",
       "      <th>4</th>\n",
       "      <td>NC_000001.10:g.100340991A&gt;G</td>\n",
       "      <td>0.0</td>\n",
       "      <td>True</td>\n",
       "    </tr>\n",
       "  </tbody>\n",
       "</table>\n",
       "</div>"
      ],
      "text/plain": [
       "                                       hgvs_g  pred  is_missense\n",
       "0                  NC_000001.10:g.10032239T>C   0.0         True\n",
       "1  NC_000001.10:g.100327066_100327067delinsAT   0.0         True\n",
       "2                 NC_000001.10:g.100329994A>G   0.0         True\n",
       "3                 NC_000001.10:g.100340374A>G   0.0         True\n",
       "4                 NC_000001.10:g.100340991A>G   0.0         True"
      ]
     },
     "execution_count": 61,
     "metadata": {},
     "output_type": "execute_result"
    }
   ],
   "source": [
    "validation_submission_df = validation_df.assign(is_missense=lambda df: df[\"hgvs\"].notnull()).merge(\n",
    "    prediction_df, left_on=[\"hgvs\"], right_on=[\"mutation_id\"], how=\"left\"\n",
    ")\n",
    "\n",
    "assert len(validation_submission_df) == len(validation_df)\n",
    "\n",
    "out = (\n",
    "    validation_submission_df.groupby(\"hgvs_g\")\n",
    "    .agg({\"pred\": np.nanmean, \"is_missense\": \"max\"})\n",
    "    .fillna(0.0)\n",
    "    .reset_index()\n",
    ")\n",
    "\n",
    "out[\"pred\"] = out[\"pred\"] / out[\"pred\"].max()\n",
    "\n",
    "out.head()"
   ]
  },
  {
   "cell_type": "code",
   "execution_count": 62,
   "id": "2b94f396-33f1-4b70-a45c-e4f78da57c55",
   "metadata": {},
   "outputs": [
    {
     "data": {
      "image/png": "[encoded data removed]",
      "text/plain": [
       "<Figure size 432x288 with 1 Axes>"
      ]
     },
     "metadata": {
      "needs_background": "light"
     },
     "output_type": "display_data"
    }
   ],
   "source": [
    "plt.hist(out[out[\"pred\"] > 0][\"pred\"], bins=100)\n",
    "None"
   ]
  },
  {
   "cell_type": "code",
   "execution_count": 63,
   "id": "cde86d76-f1a9-4f0c-9f90-a6a47aa8712d",
   "metadata": {},
   "outputs": [],
   "source": [
    "out[[\"hgvs_g\", \"pred\"]].to_csv(\n",
    "    NOTEBOOK_DIR.joinpath(\"submission-valid-2.tsv\"), index=False, sep=\"\\t\"\n",
    ")"
   ]
  },
  {
   "cell_type": "code",
   "execution_count": 64,
   "id": "13d41033-892f-46e5-ad0a-9935de0fa4d0",
   "metadata": {},
   "outputs": [],
   "source": [
    "# 0.6516511403259807 0.9172607988182891 (without protein features)\n",
    "# 0.6511556042045329 0.9169435005200913 (with protein features)"
   ]
  },
  {
   "cell_type": "code",
   "execution_count": 65,
   "id": "ede12efb-e1d5-4972-bc43-65850eb8507c",
   "metadata": {},
   "outputs": [],
   "source": [
    "# 0.6253383274259249 0.9004123585248509\n",
    "\n",
    "# 0.21795514450655545 0.8581850558176667\n",
    "# regression all: 0.22461305628504954 0.8288936050495531"
   ]
  },
  {
   "cell_type": "code",
   "execution_count": 66,
   "id": "e2457a05-49f1-40d7-8504-0e0997861533",
   "metadata": {},
   "outputs": [
    {
     "data": {
      "text/plain": [
       "<lightgbm.basic.Booster at 0x7fcdc3e99460>"
      ]
     },
     "execution_count": 66,
     "metadata": {},
     "output_type": "execute_result"
    }
   ],
   "source": [
    "model"
   ]
  },
  {
   "cell_type": "code",
   "execution_count": 67,
   "id": "09c801a7-9898-4fc7-a5a0-7e01ffef5150",
   "metadata": {},
   "outputs": [
    {
     "ename": "NameError",
     "evalue": "name 'clf' is not defined",
     "output_type": "error",
     "traceback": [
      "\u001b[0;31m---------------------------------------------------------------------------\u001b[0m",
      "\u001b[0;31mNameError\u001b[0m                                 Traceback (most recent call last)",
      "\u001b[0;32m/tmp/strokach/ipykernel_593645/308657117.py\u001b[0m in \u001b[0;36m<module>\u001b[0;34m\u001b[0m\n\u001b[0;32m----> 1\u001b[0;31m \u001b[0mclf\u001b[0m\u001b[0;34m.\u001b[0m\u001b[0mimportance_type\u001b[0m\u001b[0;34m\u001b[0m\u001b[0;34m\u001b[0m\u001b[0m\n\u001b[0m",
      "\u001b[0;31mNameError\u001b[0m: name 'clf' is not defined"
     ]
    }
   ],
   "source": [
    "clf.importance_type"
   ]
  },
  {
   "cell_type": "code",
   "execution_count": null,
   "id": "8e1b1454-0d3f-43bb-bc8b-5011516368d1",
   "metadata": {},
   "outputs": [],
   "source": [
    "clf.feature_importances_"
   ]
  },
  {
   "cell_type": "code",
   "execution_count": null,
   "id": "49cbe92b-91c4-4ce6-8d2c-5b0216a76f1f",
   "metadata": {},
   "outputs": [],
   "source": [
    "clf.booster_.feature_importance()"
   ]
  },
  {
   "cell_type": "code",
   "execution_count": null,
   "id": "640d0778-be47-4c48-a45d-6eda84970417",
   "metadata": {},
   "outputs": [],
   "source": [
    "important_features = clf.booster_.feature_importance() > 0"
   ]
  },
  {
   "cell_type": "code",
   "execution_count": null,
   "id": "df238860-eeb6-40b5-8488-8822675f2236",
   "metadata": {},
   "outputs": [],
   "source": [
    "from collections import Counter\n",
    "\n",
    "import matplotlib.pyplot as plt\n",
    "\n",
    "importantces = np.array(clf.booster_.feature_importance(\"gain\"))\n",
    "importantces = np.clip(importantces, -1, 100)\n",
    "\n",
    "plt.hist(importantces, bins=100)\n",
    "None"
   ]
  },
  {
   "cell_type": "code",
   "execution_count": null,
   "id": "8d6f4d53-d8d4-445f-a501-f63bd33353d3",
   "metadata": {},
   "outputs": [],
   "source": [
    "plt.plot(clf.feature_importances_, importantces, \"r.\")"
   ]
  },
  {
   "cell_type": "code",
   "execution_count": null,
   "id": "daddd787-a2a8-416e-8f1c-629cbc713f09",
   "metadata": {},
   "outputs": [],
   "source": []
  },
  {
   "cell_type": "code",
   "execution_count": null,
   "id": "07e1cef4-302d-46c8-a0dc-8cd0b7bcac7c",
   "metadata": {},
   "outputs": [],
   "source": []
  },
  {
   "cell_type": "code",
   "execution_count": null,
   "id": "4ef1def2-02f3-4fe1-bb62-87ea9b04c409",
   "metadata": {},
   "outputs": [],
   "source": [
    "import sys\n",
    "\n",
    "paths = [\n",
    "    \"/gpfs/fs0/scratch/p/pmkim/strokach/workspace/shap-0.39.0\",\n",
    "    \"/gpfs/fs0/scratch/p/pmkim/strokach/workspace/shap-hypetune\",\n",
    "    \"/gpfs/fs0/scratch/p/pmkim/strokach/workspace/slicer-0.0.7\",\n",
    "]\n",
    "for p in paths:\n",
    "    if p not in sys.path:\n",
    "        sys.path.insert(0, p)\n",
    "\n",
    "from lightgbm import LGBMClassifier\n",
    "from scipy import stats\n",
    "from shaphypetune import BoostBoruta, BoostRFE, BoostSearch"
   ]
  },
  {
   "cell_type": "code",
   "execution_count": null,
   "id": "e743c4f0-c12a-4619-9456-67c2076aa9f6",
   "metadata": {},
   "outputs": [],
   "source": [
    "param_grid = {\n",
    "    \"n_estimators\": 150,\n",
    "    \"learning_rate\": [0.2, 0.1],\n",
    "    \"num_leaves\": [25, 30, 35],\n",
    "    \"max_depth\": [10, 12],\n",
    "}\n",
    "\n",
    "model = BoostBoruta(\n",
    "    LGBMClassifier(),\n",
    "    param_grid=param_grid,\n",
    "    max_iter=100,\n",
    "    perc=100,\n",
    "    importance_type=\"shap_importances\",\n",
    "    train_importance=False,\n",
    ")\n",
    "model.fit(\n",
    "    X_training,\n",
    "    y_training,\n",
    "    eval_set=[(X_testing, y_testing)],\n",
    "    early_stopping_rounds=6,\n",
    "    verbose=0,\n",
    ")"
   ]
  },
  {
   "cell_type": "code",
   "execution_count": null,
   "id": "be958d73-d46e-47b2-93db-c70e864e0bd3",
   "metadata": {},
   "outputs": [],
   "source": []
  },
  {
   "cell_type": "code",
   "execution_count": null,
   "id": "b00faa5e-dbb8-4325-99fc-9508afa67ea4",
   "metadata": {},
   "outputs": [],
   "source": [
    "import lightgbm as lgb\n",
    "from sklearn import model_selection\n",
    "from sklearn.decomposition import PCA\n",
    "from sklearn.model_selection import GroupKFold\n",
    "from sklearn.preprocessing import StandardScaler\n",
    "\n",
    "score_columns = [\n",
    "    \"el2_score\",\n",
    "    \"proteinsolver_core_score_change\",\n",
    "    \"protbert_core_score_change\",\n",
    "    #     \"rosetta_dg_change\",\n",
    "    \"alphafold_core_scores_residue_plddt_wt\",\n",
    "    #     \"alphafold_core_scores_protein_plddt_wt\",\n",
    "    #     \"alphafold_core_scores_protein_max_predicted_aligned_error_wt\",\n",
    "    #     \"alphafold_core_scores_proten_ptm_wt\",\n",
    "]\n",
    "\n",
    "col = \"protbert_core_features_residue_change\"\n",
    "\n",
    "df = result_df.dropna(subset=score_columns + [col, \"effect_score\"]).sample(frac=1, random_state=0)\n",
    "df = df[df[\"effect_score\"].isin([-1, 1])].reset_index(drop=True)\n",
    "\n",
    "amino_acids = list(\"ARNDCEQGHILKMFPSTWYV\")\n",
    "\n",
    "df[\"aa_wt_onehot\"] = pd.get_dummies(df[\"mutation\"].str[0]).apply(list, axis=1)\n",
    "df[\"aa_mut_onehot\"] = pd.get_dummies(df[\"mutation\"].str[0]).apply(list, axis=1)\n",
    "\n",
    "df[\"preds\"] = np.nan\n",
    "df[\"pca_preds\"] = np.nan\n",
    "\n",
    "X = np.vstack(df[col].values)\n",
    "\n",
    "Z = None\n",
    "Z = np.c_[np.vstack(df[\"aa_wt_onehot\"].values), np.vstack(df[\"aa_mut_onehot\"].values)]\n",
    "Z = np.c_[\n",
    "    df[[\"el2_score\", \"proteinsolver_core_score_change\", \"protbert_core_score_change\"]].values,\n",
    "    Z,\n",
    "]\n",
    "\n",
    "y = (df[\"effect_score\"] > 0).values.astype(int)\n",
    "\n",
    "\n",
    "def select_features(X_training, X_testing):\n",
    "    scaler = StandardScaler()\n",
    "    scaler.fit(X_training)\n",
    "    X_training = scaler.transform(X_training)\n",
    "    X_testing = scaler.transform(X_testing)\n",
    "\n",
    "    pca = PCA(0.9, svd_solver=\"full\")\n",
    "    pca.fit(X_training)\n",
    "    X_training = pca.transform(X_training)\n",
    "    X_testing = pca.transform(X_testing)\n",
    "    return X_training, X_testing\n",
    "\n",
    "\n",
    "params = dict()\n",
    "\n",
    "\n",
    "n_splits = 6\n",
    "gkf = GroupKFold(n_splits=n_splits)\n",
    "for train_index, test_index in tqdm(gkf.split(X, y, groups=df[\"protein_id\"]), total=n_splits):\n",
    "    X_training, X_testing = X[train_index], X[test_index]\n",
    "    y_training, y_testing = y[train_index], y[test_index]\n",
    "    if Z is not None:\n",
    "        Z_training, Z_testing = Z[train_index], Z[test_index]\n",
    "        X_training = np.c_[X_training, Z_training]\n",
    "        X_testing = np.c_[X_testing, Z_testing]\n",
    "\n",
    "    clf = lgb.LGBMClassifier(**params)\n",
    "    clf.fit(X_training, y_training, eval_set=[(X_testing, y_testing)], verbose=False)\n",
    "    df.loc[test_index, \"preds\"] = clf.predict_proba(X_testing)[:, 1]\n",
    "\n",
    "    X_training, X_testing = select_features(X[train_index], X[test_index])\n",
    "    y_training, y_testing = y[train_index], y[test_index]\n",
    "    if Z is not None:\n",
    "        Z_training, Z_testing = Z[train_index], Z[test_index]\n",
    "        X_training = np.c_[X_training, Z_training]\n",
    "        X_testing = np.c_[X_testing, Z_testing]\n",
    "\n",
    "    clf = lgb.LGBMClassifier(**params)\n",
    "    clf.fit(X_training, y_training, eval_set=[(X_testing, y_testing)], verbose=False)\n",
    "    df.loc[test_index, \"pca_preds\"] = clf.predict_proba(X_testing)[:, 1]\n",
    "\n",
    "corr = stats.spearmanr(df[\"effect_score\"], df[\"preds\"])\n",
    "auc = metrics.roc_auc_score(df[\"effect_score\"] > 0, df[\"preds\"])\n",
    "print(corr[0], auc)\n",
    "\n",
    "corr = stats.spearmanr(df[\"effect_score\"], df[\"pca_preds\"])\n",
    "auc = metrics.roc_auc_score(df[\"effect_score\"] > 0, df[\"pca_preds\"])\n",
    "print(corr[0], auc)"
   ]
  },
  {
   "cell_type": "code",
   "execution_count": null,
   "id": "3ea7c956-df2c-43b8-a475-daafe13517eb",
   "metadata": {},
   "outputs": [],
   "source": [
    "# 0.6585175611306802 0.88576012420753\n",
    "# 0.6547985025461474 0.8835814968157445"
   ]
  },
  {
   "cell_type": "code",
   "execution_count": null,
   "id": "3e01478a-d6b4-42fa-afc5-8b29a3bd57d7",
   "metadata": {},
   "outputs": [],
   "source": [
    "evals = []\n",
    "for i in tqdm(range(X_training.shape[1])):\n",
    "    x1 = X_training[:, i]\n",
    "\n",
    "    corr = stats.spearmanr(df[\"effect_score\"], x1)\n",
    "    auc = metrics.roc_auc_score(df[\"effect_score\"] > 0, x1)\n",
    "    evals.append((i, *corr, auc))\n",
    "\n",
    "evals_df = pd.DataFrame(evals, columns=[\"i\", \"corr\", \"pvalue\", \"auc\"])\n",
    "evals_df[\"corr_abs\"] = evals_df[\"corr\"].abs()\n",
    "evals_df = evals_df.sort_values(\"corr_abs\", ascending=False)\n",
    "del evals_df[\"corr_abs\"]\n",
    "\n",
    "display(evals_df.head(10))"
   ]
  },
  {
   "cell_type": "code",
   "execution_count": null,
   "id": "5b197cb2-c6cf-422e-ab0a-1e8a5be84d9b",
   "metadata": {},
   "outputs": [],
   "source": [
    "clf = lgb.LGBMClassifier()\n",
    "clf.fit(X_train, y_train)\n",
    "X_train, X_test, y_train, y_test = model_selection.train_test_split(\n",
    "    X, y, test_size=0.3, random_state=0\n",
    ")"
   ]
  },
  {
   "cell_type": "code",
   "execution_count": null,
   "id": "cf943970-f036-4442-b407-72604c07c089",
   "metadata": {},
   "outputs": [],
   "source": [
    "train_result_df.head()"
   ]
  },
  {
   "cell_type": "code",
   "execution_count": null,
   "id": "b815a74a-a698-473b-b636-824eb59feff4",
   "metadata": {},
   "outputs": [],
   "source": []
  },
  {
   "cell_type": "code",
   "execution_count": null,
   "id": "0cfc9491-8ff1-4b40-8f6e-feffcd33d68a",
   "metadata": {},
   "outputs": [],
   "source": []
  },
  {
   "cell_type": "code",
   "execution_count": null,
   "id": "ef033ec5-5408-4427-a063-33365f0a0e89",
   "metadata": {},
   "outputs": [],
   "source": [
    "import matplotlib.pyplot as plt\n",
    "\n",
    "plt.hist(x1, bins=100)\n",
    "plt.hist(x2, bins=100)\n",
    "\n",
    "None"
   ]
  },
  {
   "cell_type": "code",
   "execution_count": null,
   "id": "0aa0064c-3f40-4127-89fe-7042a0f72e8b",
   "metadata": {},
   "outputs": [],
   "source": [
    "x = df[\"alphafold_core_features_residue_experimentally_resolved_wt\"].apply(np.mean)\n",
    "\n",
    "corr = stats.spearmanr(df[\"effect_score\"], x)\n",
    "auc = metrics.roc_auc_score(df[\"effect_score\"] > 0, x)\n",
    "\n",
    "corr, auc"
   ]
  },
  {
   "cell_type": "code",
   "execution_count": null,
   "id": "e7a2be1a-82b0-4064-b795-18e823a8d1b8",
   "metadata": {},
   "outputs": [],
   "source": [
    "import lightgbm as lgb"
   ]
  },
  {
   "cell_type": "code",
   "execution_count": null,
   "id": "8d39a77d-421f-4119-9296-d5defeb2fd5d",
   "metadata": {},
   "outputs": [],
   "source": [
    "from sklearn.decomposition import PCA\n",
    "from sklearn.preprocessing import StandardScaler\n",
    "\n",
    "col = \"alphafold_core_features_residue_msa_first_row_change\"\n",
    "\n",
    "x = np.vstack(df[col].values)\n",
    "x = StandardScaler().fit_transform(x)\n",
    "x = PCA(0.9, svd_solver=\"full\").fit_transform(x)\n",
    "\n",
    "evals = []\n",
    "for i in tqdm(range(x.shape[1])):\n",
    "    x1 = x[:, i]\n",
    "\n",
    "    corr = stats.spearmanr(df[\"effect_score\"], x1)\n",
    "    auc = metrics.roc_auc_score(df[\"effect_score\"] > 0, x1)\n",
    "    evals.append((i, *corr, auc))\n",
    "\n",
    "evals_df = pd.DataFrame(evals, columns=[\"i\", \"corr\", \"pvalue\", \"auc\"])\n",
    "evals_df[\"corr_abs\"] = evals_df[\"corr\"].abs()\n",
    "evals_df = evals_df.sort_values(\"corr_abs\", ascending=False)\n",
    "del evals_df[\"corr_abs\"]\n",
    "\n",
    "display(evals_df.head(10))"
   ]
  },
  {
   "cell_type": "code",
   "execution_count": null,
   "id": "78cd23de-4462-46d9-b563-efd6e7bc0d89",
   "metadata": {},
   "outputs": [],
   "source": [
    "x.shape"
   ]
  },
  {
   "cell_type": "code",
   "execution_count": null,
   "id": "9e4d40d7-5c93-4562-8eb5-3f4642f3f86b",
   "metadata": {},
   "outputs": [],
   "source": [
    "# col = \"alphafold_core_features_residue_experimentally_resolved_wt\"  # 0.19 [37]\n",
    "# col = \"alphafold_core_features_residue_experimentally_resolved_change\"  # 0.11 [37]\n",
    "# col = \"alphafold_core_features_residue_predicted_lddt_wt\"  # 0.17 [50]\n",
    "# col = \"alphafold_core_features_residue_predicted_lddt_change\"  # 0.04 [50]\n",
    "# col = \"alphafold_core_features_residue_msa_first_row_wt\"  # 0.17 [256]\n",
    "# col = \"alphafold_core_features_residue_msa_first_row_change\"  # 0.21 [256]\n",
    "# col = \"alphafold_core_features_residue_single_wt\"  # 0.20 [384]\n",
    "# col = \"alphafold_core_features_residue_single_change\"  # 0.15 [384]\n",
    "# col = \"alphafold_core_features_residue_structure_module_wt\"  # 0.18 [384]\n",
    "col = \"alphafold_core_features_residue_structure_module_change\"  # 0.05 [384]\n",
    "\n",
    "col = \"protbert_core_features_residue_change\"  # 0.13 [1024]\n",
    "\n",
    "# col = \"alphafold_core_features_protein_experimentally_resolved_wt\"  #\n",
    "# col = \"alphafold_core_features_protein_predicted_lddt_wt\"  #\n",
    "# col = \"alphafold_core_features_protein_msa_first_row_wt\"  #\n",
    "# col = \"alphafold_core_features_protein_single_wt\"  #\n",
    "# col = \"alphafold_core_features_protein_structure_module_wt\"  #\n",
    "\n",
    "num_features = len(result_df[col][0])\n",
    "\n",
    "evals = []\n",
    "for i in tqdm(range(num_features)):\n",
    "    x1 = df[col].str[i]\n",
    "\n",
    "    corr = stats.spearmanr(df[\"effect_score\"], x1)\n",
    "    auc = metrics.roc_auc_score(df[\"effect_score\"] > 0, x1)\n",
    "    evals.append((i, *corr, auc))\n",
    "\n",
    "evals_df = pd.DataFrame(evals, columns=[\"i\", \"corr\", \"pvalue\", \"auc\"])\n",
    "evals_df[\"corr_abs\"] = evals_df[\"corr\"].abs()\n",
    "evals_df = evals_df.sort_values(\"corr_abs\", ascending=False)\n",
    "del evals_df[\"corr_abs\"]\n",
    "\n",
    "display(evals_df.head(10))"
   ]
  },
  {
   "cell_type": "code",
   "execution_count": null,
   "id": "71c4dc24-5c95-4273-98f2-97cc35918916",
   "metadata": {},
   "outputs": [],
   "source": [
    "scores_proten_ptm"
   ]
  },
  {
   "cell_type": "code",
   "execution_count": null,
   "id": "29f4a401-8a56-41db-89be-eb652f0b8c6a",
   "metadata": {},
   "outputs": [],
   "source": [
    "validation_df.head()"
   ]
  },
  {
   "cell_type": "code",
   "execution_count": null,
   "id": "e937bf9c-bd56-4939-9f75-d5911a1e8353",
   "metadata": {},
   "outputs": [],
   "source": [
    "validation_submission_df = validation_df.assign(is_missense=lambda df: df[\"hgvs\"].notnull()).merge(\n",
    "    result_df, left_on=[\"hgvs\"], right_on=[\"mutation_id\"], how=\"left\"\n",
    ")\n",
    "\n",
    "assert len(validation_submission_df) == len(validation_df)"
   ]
  },
  {
   "cell_type": "code",
   "execution_count": null,
   "id": "af02f712-20ae-4800-b154-a8d2e3269dcc",
   "metadata": {},
   "outputs": [],
   "source": [
    "out = (\n",
    "    validation_submission_df.groupby(\"hgvs_g\")\n",
    "    .agg({\"el2_score\": np.nanmean, \"is_missense\": \"max\"})\n",
    "    .fillna(0.0)\n",
    "    .reset_index()\n",
    ")\n",
    "\n",
    "out.head()"
   ]
  },
  {
   "cell_type": "code",
   "execution_count": null,
   "id": "c922d494-08fc-4fa6-b465-7346d6a1d29e",
   "metadata": {},
   "outputs": [],
   "source": [
    "out[[\"hgvs_g\", \"el2_score\"]].to_csv(\n",
    "    NOTEBOOK_DIR.joinpath(\"submission-valid.tsv\"), index=False, sep=\"\\t\"\n",
    ")"
   ]
  },
  {
   "cell_type": "code",
   "execution_count": null,
   "id": "9fad9d1a-013b-4d38-9ce4-4c8d89500b78",
   "metadata": {},
   "outputs": [],
   "source": [
    "validation_submission_df.head()"
   ]
  },
  {
   "cell_type": "code",
   "execution_count": null,
   "id": "db4062aa-1d66-4efe-9931-8c71cfca24ea",
   "metadata": {},
   "outputs": [],
   "source": []
  },
  {
   "cell_type": "code",
   "execution_count": null,
   "id": "f6f2b4d5-d510-4e11-b71f-0e18e81a80cf",
   "metadata": {},
   "outputs": [],
   "source": [
    "df.columns"
   ]
  }
 ],
 "metadata": {
  "kernelspec": {
   "display_name": "Python 3 (ipykernel)",
   "language": "python",
   "name": "python3"
  },
  "language_info": {
   "codemirror_mode": {
    "name": "ipython",
    "version": 3
   },
   "file_extension": ".py",
   "mimetype": "text/x-python",
   "name": "python",
   "nbconvert_exporter": "python",
   "pygments_lexer": "ipython3",
   "version": "3.9.6"
  }
 },
 "nbformat": 4,
 "nbformat_minor": 5
}
