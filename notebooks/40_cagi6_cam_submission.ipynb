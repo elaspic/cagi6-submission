{
 "cells": [
  {
   "cell_type": "markdown",
   "id": "26c81e96-6b41-41fa-80a6-6360c482eb58",
   "metadata": {},
   "source": [
    "## Summary\n",
    "\n",
    "---"
   ]
  },
  {
   "cell_type": "markdown",
   "id": "ec276dec-6afa-4b57-bbfc-a11e04a8767e",
   "metadata": {},
   "source": [
    "## Imports"
   ]
  },
  {
   "cell_type": "code",
   "execution_count": 1,
   "id": "6dd5ec16-076b-45d3-9d5a-eae178b34091",
   "metadata": {},
   "outputs": [
    {
     "name": "stdout",
     "output_type": "stream",
     "text": [
      "env: CUDA_VISIBLE_DEVICES=2\n",
      "env: TF_FORCE_UNIFIED_MEMORY=1\n",
      "env: XLA_PYTHON_CLIENT_MEM_FRACTION=4.0\n"
     ]
    }
   ],
   "source": [
    "%env CUDA_VISIBLE_DEVICES=2\n",
    "%env TF_FORCE_UNIFIED_MEMORY=1\n",
    "%env XLA_PYTHON_CLIENT_MEM_FRACTION=4.0"
   ]
  },
  {
   "cell_type": "code",
   "execution_count": 2,
   "id": "539f4edf-ca04-4bef-b5c9-a6d402f7570b",
   "metadata": {},
   "outputs": [
    {
     "name": "stderr",
     "output_type": "stream",
     "text": [
      "Warning: importing 'simtk.openmm' is deprecated.  Import 'openmm' instead.\n"
     ]
    }
   ],
   "source": [
    "import concurrent.futures\n",
    "import contextlib\n",
    "import itertools\n",
    "import os\n",
    "import tempfile\n",
    "import urllib.request\n",
    "from datetime import datetime\n",
    "from pathlib import Path\n",
    "\n",
    "import dotenv\n",
    "import elaspic2 as el2\n",
    "import matplotlib.pyplot as plt\n",
    "import numpy as np\n",
    "import pandas as pd\n",
    "import pyarrow as pa\n",
    "import pyarrow.parquet as pq\n",
    "import seaborn as sns\n",
    "import torch\n",
    "from elaspic2.plugins.rosetta_ddg import RosettaDDG\n",
    "from kmbio import PDB\n",
    "from kmtools import structure_tools\n",
    "from tqdm.auto import tqdm"
   ]
  },
  {
   "cell_type": "markdown",
   "id": "5be0ca05-c038-414f-ba84-b2ae8013088b",
   "metadata": {
    "tags": []
   },
   "source": [
    "## Parameters"
   ]
  },
  {
   "cell_type": "code",
   "execution_count": 3,
   "id": "10e1faee-9f6a-40d8-8819-272b1c9837bb",
   "metadata": {},
   "outputs": [
    {
     "data": {
      "text/plain": [
       "PosixPath('/scratch/strokach/workspace/elaspic2-cagi6/notebooks/30_cagi6_cam')"
      ]
     },
     "execution_count": 3,
     "metadata": {},
     "output_type": "execute_result"
    }
   ],
   "source": [
    "NOTEBOOK_DIR = Path(\"40_cagi6_cam_submission\").resolve()\n",
    "NOTEBOOK_DIR.mkdir(exist_ok=True)\n",
    "\n",
    "NOTEBOOK_DIR"
   ]
  },
  {
   "cell_type": "code",
   "execution_count": 4,
   "id": "af9e5e94-0d6f-44d8-b519-4cdf3bf57a22",
   "metadata": {},
   "outputs": [
    {
     "data": {
      "text/plain": [
       "'P0DP23'"
      ]
     },
     "execution_count": 4,
     "metadata": {},
     "output_type": "execute_result"
    }
   ],
   "source": [
    "UNIPROT_ID = \"P0DP23\"\n",
    "\n",
    "UNIPROT_ID"
   ]
  },
  {
   "cell_type": "code",
   "execution_count": 5,
   "id": "62f2d1f2-3bbb-41d6-998c-cbdeb3c60780",
   "metadata": {
    "colab": {
     "base_uri": "https://localhost:8080/"
    },
    "id": "HCyTzII-HD1t",
    "outputId": "92f63199-1727-48d3-cb4b-6ff798fa75b6"
   },
   "outputs": [
    {
     "data": {
      "text/plain": [
       "device(type='cuda')"
      ]
     },
     "execution_count": 5,
     "metadata": {},
     "output_type": "execute_result"
    }
   ],
   "source": [
    "device = torch.device(\"cuda\" if torch.cuda.is_available() else \"cpu\")\n",
    "\n",
    "device"
   ]
  },
  {
   "cell_type": "code",
   "execution_count": 6,
   "id": "d9abbe5b-4bd7-4c04-bb24-6f6adb8c5271",
   "metadata": {
    "colab": {
     "base_uri": "https://localhost:8080/",
     "height": 35
    },
    "id": "i3LyUBcjSUzb",
    "outputId": "054b8acc-0717-48cf-83d9-ca0b886f7b10"
   },
   "outputs": [
    {
     "data": {
      "text/plain": [
       "'2021-09-28T12'"
      ]
     },
     "execution_count": 6,
     "metadata": {},
     "output_type": "execute_result"
    }
   ],
   "source": [
    "version = datetime.now().isoformat(timespec=\"hours\")\n",
    "\n",
    "version"
   ]
  },
  {
   "cell_type": "markdown",
   "id": "982c4abb-8e39-4c9b-8c0c-ca577ab38038",
   "metadata": {},
   "source": [
    "## Download data"
   ]
  },
  {
   "cell_type": "code",
   "execution_count": 7,
   "id": "3ef580f6-ef0d-42a8-8012-bbc1fdccf655",
   "metadata": {},
   "outputs": [],
   "source": [
    "def download(url, filename):\n",
    "    urllib.request.urlretrieve(url, filename)"
   ]
  },
  {
   "cell_type": "code",
   "execution_count": 8,
   "id": "7bfef287-5d56-4684-b2c2-b93549dfae06",
   "metadata": {},
   "outputs": [],
   "source": [
    "def load_sequence(sequence_file):\n",
    "    with sequence_file.open(\"rt\") as fin:\n",
    "        data = fin.read()\n",
    "    chunks = []\n",
    "    for line in data.split(\"\\n\"):\n",
    "        if line.startswith(\">\"):\n",
    "            continue\n",
    "        chunks.append(line.strip())\n",
    "    return \"\".join(chunks)"
   ]
  },
  {
   "cell_type": "code",
   "execution_count": 9,
   "id": "18e9adaa-f8d8-4827-967c-a375ab281859",
   "metadata": {},
   "outputs": [],
   "source": [
    "if not NOTEBOOK_DIR.joinpath(\"cam_predictions.tsv\").is_file():\n",
    "    import synapseclient\n",
    "    import synapseutils\n",
    "\n",
    "    dotenv.load_dotenv(\"../.env\")\n",
    "    syn = synapseclient.Synapse()\n",
    "    syn.login(os.environ[\"SYNAPSE_USERNAME\"], os.environ[\"SYNAPSE_PASSWORD\"])\n",
    "    _ = synapseutils.syncFromSynapse(syn, \"syn25835637\", path=NOTEBOOK_DIR)\n",
    "    _ = subprocess.run(\n",
    "        [\"unzip\", \"-o\", \"CAGI6_CaM_challenge_Training_Set.zip\"], cwd=NOTEBOOK_DIR, check=True\n",
    "    )"
   ]
  },
  {
   "cell_type": "code",
   "execution_count": 10,
   "id": "7cf6fb00-d7ef-411b-aae7-d7e90be5818c",
   "metadata": {},
   "outputs": [],
   "source": [
    "sequence_file = NOTEBOOK_DIR.joinpath(f\"{UNIPROT_ID}.fasta\")\n",
    "\n",
    "if not sequence_file.is_file():\n",
    "    download(f\"https://www.uniprot.org/uniprot/{UNIPROT_ID}.fasta\", sequence_file)\n",
    "\n",
    "sequence = load_sequence(sequence_file)"
   ]
  },
  {
   "cell_type": "code",
   "execution_count": 11,
   "id": "edaf7f48-5fd8-482d-9705-5cc6d57fa4f3",
   "metadata": {},
   "outputs": [],
   "source": [
    "structure_file = NOTEBOOK_DIR.joinpath(f\"{UNIPROT_ID}.pdb\")\n",
    "\n",
    "if not structure_file.is_file():\n",
    "    download(f\"https://alphafold.ebi.ac.uk/files/AF-{UNIPROT_ID}-F1-model_v1.pdb\", structure_file)\n",
    "\n",
    "with structure_file.open(\"r\") as fin:\n",
    "    structure_blob = fin.read()"
   ]
  },
  {
   "cell_type": "code",
   "execution_count": 12,
   "id": "86b42dde-08bf-4b58-a19e-b717f94740cb",
   "metadata": {},
   "outputs": [],
   "source": [
    "alignment_file = NOTEBOOK_DIR.joinpath(f\"{UNIPROT_ID}.a3m.gz\")\n",
    "\n",
    "if not alignment_file.is_file():\n",
    "    from elaspic2.plugins.alphafold import mmseqs2\n",
    "\n",
    "    dotenv.load_dotenv(\"../.env\")\n",
    "    with mmseqs2.api_gateway(mmseqs2.MMSEQS2_HOST_URL) as gateway:\n",
    "        alignment = mmseqs2.run_mmseqs2(sequence, gateway=gateway)\n",
    "        assert alignment[1] == f\"{sequence}\\n\"\n",
    "        alignment_df = pd.DataFrame({\"alignment\": alignment})\n",
    "        pq.write_table(pa.Table.from_pandas(alignment_df, preserve_index=False), alignment_file)\n",
    "\n",
    "alignment = pq.read_table(alignment_file).to_pandas()[\"alignment\"].values.tolist()"
   ]
  },
  {
   "cell_type": "markdown",
   "id": "48b36059-945b-490a-898e-3d06065e53bb",
   "metadata": {},
   "source": [
    "## Load data"
   ]
  },
  {
   "cell_type": "code",
   "execution_count": 13,
   "id": "076903e3-e651-4278-a314-870a729b0bcb",
   "metadata": {},
   "outputs": [],
   "source": [
    "def mutation_matches_sequence(mutation, sequence):\n",
    "    wt, pos, mut = mutation[0], mutation[1:-1], mutation[-1]\n",
    "    pos = int(pos)\n",
    "    return sequence[pos - 1] == wt"
   ]
  },
  {
   "cell_type": "code",
   "execution_count": 14,
   "id": "244c3bdc-b03d-48a5-81aa-c902a1e823f6",
   "metadata": {
    "id": "gJG9gYqPHD15"
   },
   "outputs": [],
   "source": [
    "def sequence_matches_structure(sequence, structure_blob):\n",
    "    with tempfile.NamedTemporaryFile(suffix=\".pdb\") as tmp_file:\n",
    "        with open(tmp_file.name, \"wt\") as fout:\n",
    "            fout.write(structure_blob)\n",
    "        structure = PDB.load(tmp_file.name)\n",
    "\n",
    "    chain_sequence = structure_tools.get_chain_sequence(\n",
    "        structure[0][\"A\"], if_unknown=\"replace\", unknown_residue_marker=\"\"\n",
    "    )\n",
    "    return sequence == chain_sequence"
   ]
  },
  {
   "cell_type": "code",
   "execution_count": 15,
   "id": "60db050b-41a7-4b0f-b668-6d61a7aeba30",
   "metadata": {},
   "outputs": [
    {
     "data": {
      "text/html": [
       "<div>\n",
       "<style scoped>\n",
       "    .dataframe tbody tr th:only-of-type {\n",
       "        vertical-align: middle;\n",
       "    }\n",
       "\n",
       "    .dataframe tbody tr th {\n",
       "        vertical-align: top;\n",
       "    }\n",
       "\n",
       "    .dataframe thead th {\n",
       "        text-align: right;\n",
       "    }\n",
       "</style>\n",
       "<table border=\"1\" class=\"dataframe\">\n",
       "  <thead>\n",
       "    <tr style=\"text-align: right;\">\n",
       "      <th></th>\n",
       "      <th>CaM-variant</th>\n",
       "      <th>Tm</th>\n",
       "      <th>Standard-Deviation-Tm</th>\n",
       "      <th>%Unfold</th>\n",
       "      <th>Standard-Deviation-%Unfold</th>\n",
       "      <th>Stabilizing-vs-Destabilizing</th>\n",
       "      <th>Comments</th>\n",
       "    </tr>\n",
       "  </thead>\n",
       "  <tbody>\n",
       "    <tr>\n",
       "      <th>0</th>\n",
       "      <td>p.N54I</td>\n",
       "      <td>*</td>\n",
       "      <td>*</td>\n",
       "      <td>*</td>\n",
       "      <td>*</td>\n",
       "      <td>*</td>\n",
       "      <td>*</td>\n",
       "    </tr>\n",
       "    <tr>\n",
       "      <th>1</th>\n",
       "      <td>p.F90L</td>\n",
       "      <td>*</td>\n",
       "      <td>*</td>\n",
       "      <td>*</td>\n",
       "      <td>*</td>\n",
       "      <td>*</td>\n",
       "      <td>*</td>\n",
       "    </tr>\n",
       "  </tbody>\n",
       "</table>\n",
       "</div>"
      ],
      "text/plain": [
       "  CaM-variant Tm Standard-Deviation-Tm %Unfold Standard-Deviation-%Unfold  \\\n",
       "0      p.N54I  *                     *       *                          *   \n",
       "1      p.F90L  *                     *       *                          *   \n",
       "\n",
       "  Stabilizing-vs-Destabilizing Comments  \n",
       "0                            *        *  \n",
       "1                            *        *  "
      ]
     },
     "execution_count": 15,
     "metadata": {},
     "output_type": "execute_result"
    }
   ],
   "source": [
    "result_template_df = pd.read_csv(NOTEBOOK_DIR.joinpath(\"cam_predictions.tsv\"), sep=\"\\t\")\n",
    "\n",
    "result_template_df.head(2)"
   ]
  },
  {
   "cell_type": "code",
   "execution_count": 16,
   "id": "975d16bf-c370-4b4e-be2f-44a85aa9b504",
   "metadata": {},
   "outputs": [],
   "source": [
    "result_df = result_template_df.copy()\n",
    "result_df[\"mut\"] = result_df[\"CaM-variant\"].str[2:]"
   ]
  },
  {
   "cell_type": "code",
   "execution_count": 17,
   "id": "2d36b3ad-478e-4392-9e93-0e0fef8cfe86",
   "metadata": {},
   "outputs": [],
   "source": [
    "assert all([mutation_matches_sequence(mut, sequence) for mut in result_df[\"mut\"]])"
   ]
  },
  {
   "cell_type": "code",
   "execution_count": 18,
   "id": "8cc9e54c-7013-4315-bff0-ffa13fa53f84",
   "metadata": {},
   "outputs": [],
   "source": [
    "assert sequence_matches_structure(sequence, structure_blob)"
   ]
  },
  {
   "cell_type": "code",
   "execution_count": 19,
   "id": "20df9912-d697-42b9-9b78-05c84eb29c9f",
   "metadata": {},
   "outputs": [],
   "source": [
    "assert alignment[1] == f\"{sequence}\\n\""
   ]
  },
  {
   "cell_type": "markdown",
   "id": "fcd4da8a-0b70-4706-bc41-5dbdb10270d7",
   "metadata": {},
   "source": [
    "## Run Rosetta"
   ]
  },
  {
   "cell_type": "code",
   "execution_count": 20,
   "id": "a2611224-1461-4681-b4fb-12a275bd72ea",
   "metadata": {},
   "outputs": [],
   "source": [
    "rosetta_ddg_data = RosettaDDG.build(\n",
    "    structure_file,\n",
    "    protocol=\"cartesian_ddg\",\n",
    "    energy_function=\"beta_nov16_cart\",\n",
    "    interface=0,\n",
    ")"
   ]
  },
  {
   "cell_type": "code",
   "execution_count": 21,
   "id": "8413822e-34d7-48a9-8239-ca4d6f7d7139",
   "metadata": {},
   "outputs": [],
   "source": [
    "def rosetta_ddg_worker(mut, data):\n",
    "    results = RosettaDDG.analyze_mutation(f\"A_{mut}\", data)\n",
    "    results = {\"mut\": mut} | {f\"rosetta_{key}\": value for key, value in results.items()}\n",
    "    return results"
   ]
  },
  {
   "cell_type": "code",
   "execution_count": 22,
   "id": "8e55ef60-9a29-4dc4-a9dd-f00ad9ba761e",
   "metadata": {},
   "outputs": [],
   "source": [
    "rosetta_results_file = NOTEBOOK_DIR.joinpath(\"rosetta-results.parquet\")\n",
    "\n",
    "if rosetta_results_file.is_file():\n",
    "    rosetta_results_df = pq.read_table(rosetta_results_file).to_pandas()\n",
    "else:\n",
    "    with concurrent.futures.ThreadPoolExecutor(len(result_df)) as pool:\n",
    "        rosetta_results = list(\n",
    "            tqdm(\n",
    "                pool.map(\n",
    "                    rosetta_ddg_worker,\n",
    "                    result_df[\"mut\"].values.tolist(),\n",
    "                    itertools.repeat(rosetta_ddg_data),\n",
    "                ),\n",
    "                total=len(result_df),\n",
    "            )\n",
    "        )\n",
    "    rosetta_results_df = pd.DataFrame(rosetta_results)\n",
    "    pq.write_table(\n",
    "        pa.Table.from_pandas(rosetta_results_df, preserve_index=False), rosetta_results_file\n",
    "    )"
   ]
  },
  {
   "cell_type": "markdown",
   "id": "2023cee6-0652-475b-b988-f4882bf3526e",
   "metadata": {},
   "source": [
    "## Run AlphaFold"
   ]
  },
  {
   "cell_type": "code",
   "execution_count": 23,
   "id": "21138b24-c286-4dd3-b42c-c670ca70ae95",
   "metadata": {},
   "outputs": [],
   "source": [
    "def worker(mutation, data):\n",
    "    try:\n",
    "        results = AlphaFold.analyze_mutation(f\"A_{mutation}\", data)\n",
    "    except Exception as error:\n",
    "        print(f\"{error!r}\")\n",
    "        return None\n",
    "    else:\n",
    "        results = {f\"alphafold_core_{key}\": value for key, value in results.items()}\n",
    "        return results"
   ]
  },
  {
   "cell_type": "code",
   "execution_count": 24,
   "id": "41ee775b-b352-4aff-9f5c-cf8e68139c1d",
   "metadata": {},
   "outputs": [],
   "source": [
    "alphafold_results_file = NOTEBOOK_DIR.joinpath(\"alphafold-results.parquet\")\n",
    "\n",
    "if alphafold_results_file.is_file():\n",
    "    alphafold_results_df = pq.read_table(alphafold_results_file).to_pandas()\n",
    "else:\n",
    "    from elaspic2.plugins.alphafold import AlphaFold, AlphaFoldAnalyzeError, AlphaFoldBuildError\n",
    "    from jax.lib import xla_bridge\n",
    "\n",
    "    jax_device = xla_bridge.get_backend().platform\n",
    "    print(f\"Device: {jax_device}\")\n",
    "\n",
    "    AlphaFold.load_model(device=jax_device)\n",
    "    data = AlphaFold.build(sequence, ligand_sequence=None, msa=alignment)\n",
    "\n",
    "    result_list = []\n",
    "    for mut in tqdm(result_df[\"mut\"], leave=False):\n",
    "        result = worker(mut, data)\n",
    "        result_list.append({\"mut\": mut} | result)\n",
    "    alphafold_results_df = pd.DataFrame(result_list)\n",
    "\n",
    "    pq.write_table(\n",
    "        pa.Table.from_pandas(alphafold_results_df, preserve_index=False), alphafold_results_file\n",
    "    )"
   ]
  },
  {
   "cell_type": "code",
   "execution_count": 25,
   "id": "6e547296-6ab5-48fd-bb7d-ff4d81872623",
   "metadata": {},
   "outputs": [
    {
     "data": {
      "text/html": [
       "<div>\n",
       "<style scoped>\n",
       "    .dataframe tbody tr th:only-of-type {\n",
       "        vertical-align: middle;\n",
       "    }\n",
       "\n",
       "    .dataframe tbody tr th {\n",
       "        vertical-align: top;\n",
       "    }\n",
       "\n",
       "    .dataframe thead th {\n",
       "        text-align: right;\n",
       "    }\n",
       "</style>\n",
       "<table border=\"1\" class=\"dataframe\">\n",
       "  <thead>\n",
       "    <tr style=\"text-align: right;\">\n",
       "      <th></th>\n",
       "      <th>mut</th>\n",
       "      <th>alphafold_core_scores_residue_plddt_wt</th>\n",
       "      <th>alphafold_core_scores_protein_plddt_wt</th>\n",
       "      <th>alphafold_core_scores_protein_max_predicted_aligned_error_wt</th>\n",
       "      <th>alphafold_core_scores_proten_ptm_wt</th>\n",
       "      <th>alphafold_core_features_residue_experimentally_resolved_wt</th>\n",
       "      <th>alphafold_core_features_residue_predicted_lddt_wt</th>\n",
       "      <th>alphafold_core_features_residue_msa_first_row_wt</th>\n",
       "      <th>alphafold_core_features_residue_single_wt</th>\n",
       "      <th>alphafold_core_features_residue_structure_module_wt</th>\n",
       "      <th>...</th>\n",
       "      <th>alphafold_core_features_residue_experimentally_resolved_mut</th>\n",
       "      <th>alphafold_core_features_residue_predicted_lddt_mut</th>\n",
       "      <th>alphafold_core_features_residue_msa_first_row_mut</th>\n",
       "      <th>alphafold_core_features_residue_single_mut</th>\n",
       "      <th>alphafold_core_features_residue_structure_module_mut</th>\n",
       "      <th>alphafold_core_features_protein_experimentally_resolved_mut</th>\n",
       "      <th>alphafold_core_features_protein_predicted_lddt_mut</th>\n",
       "      <th>alphafold_core_features_protein_msa_first_row_mut</th>\n",
       "      <th>alphafold_core_features_protein_single_mut</th>\n",
       "      <th>alphafold_core_features_protein_structure_module_mut</th>\n",
       "    </tr>\n",
       "  </thead>\n",
       "  <tbody>\n",
       "    <tr>\n",
       "      <th>0</th>\n",
       "      <td>N54I</td>\n",
       "      <td>72.424267</td>\n",
       "      <td>64.687376</td>\n",
       "      <td>31.75</td>\n",
       "      <td>0.416441</td>\n",
       "      <td>[3.6272318, 3.6706228, 4.516265, 3.5398533, 4....</td>\n",
       "      <td>[-7.5897775, -8.689957, -7.7136374, -7.0810175...</td>\n",
       "      <td>[1.8796259, 10.791776, 0.033692777, 12.273933,...</td>\n",
       "      <td>[-8.44626, 15.287777, -11.845451, 1.3104451, -...</td>\n",
       "      <td>[-0.004927762, 0.00014060736, -0.0058904495, 0...</td>\n",
       "      <td>...</td>\n",
       "      <td>[3.2068305, 3.2458231, 3.9859018, 3.062663, 3....</td>\n",
       "      <td>[-7.8205338, -8.494905, -7.730364, -7.1157904,...</td>\n",
       "      <td>[1.0629023, 9.450185, -1.1117198, 10.445597, -...</td>\n",
       "      <td>[1.0913221, 9.465578, -11.463981, -8.050004, -...</td>\n",
       "      <td>[-0.011385553, 0.013329156, -0.006098194, 0.00...</td>\n",
       "      <td>[1.4339311, 1.4835172, 1.6852022, 1.3888673, 1...</td>\n",
       "      <td>[-7.1293554, -8.000177, -7.0753617, -6.3793783...</td>\n",
       "      <td>[-0.6908954, 3.7915826, 2.4891148, 5.101147, -...</td>\n",
       "      <td>[14.626985, 8.639777, -2.4109125, 2.0749578, 0...</td>\n",
       "      <td>[0.0022276677, 0.0090920245, -0.0059451843, 0....</td>\n",
       "    </tr>\n",
       "    <tr>\n",
       "      <th>1</th>\n",
       "      <td>F90L</td>\n",
       "      <td>63.138818</td>\n",
       "      <td>64.687376</td>\n",
       "      <td>31.75</td>\n",
       "      <td>0.416441</td>\n",
       "      <td>[2.1501245, 2.2867854, 2.5959187, 2.258326, 2....</td>\n",
       "      <td>[-6.581604, -7.862013, -6.984727, -6.309676, -...</td>\n",
       "      <td>[5.532667, -6.649637, 14.638169, 5.3919473, -2...</td>\n",
       "      <td>[39.239716, -30.105417, 6.92773, -16.221613, 4...</td>\n",
       "      <td>[-0.0072678104, 0.026987039, -0.006245898, -0....</td>\n",
       "      <td>...</td>\n",
       "      <td>[2.0710125, 2.218312, 2.5010533, 2.141931, 2.4...</td>\n",
       "      <td>[-7.2874045, -8.337455, -7.369378, -6.665057, ...</td>\n",
       "      <td>[4.8071737, -5.465674, 14.286465, 4.7100663, -...</td>\n",
       "      <td>[34.874672, -27.71313, 5.065748, -20.697674, 3...</td>\n",
       "      <td>[-0.0033393428, 0.023972645, -0.0062532555, -0...</td>\n",
       "      <td>[1.4434994, 1.4932677, 1.6971351, 1.3984808, 1...</td>\n",
       "      <td>[-7.170294, -8.036215, -7.0772285, -6.3579907,...</td>\n",
       "      <td>[-0.70935285, 3.8102627, 2.4673674, 5.082006, ...</td>\n",
       "      <td>[14.407975, 8.669145, -2.267529, 2.1149678, 0....</td>\n",
       "      <td>[0.0020835502, 0.008595544, -0.005956497, 0.00...</td>\n",
       "    </tr>\n",
       "  </tbody>\n",
       "</table>\n",
       "<p>2 rows × 29 columns</p>\n",
       "</div>"
      ],
      "text/plain": [
       "    mut  alphafold_core_scores_residue_plddt_wt  \\\n",
       "0  N54I                               72.424267   \n",
       "1  F90L                               63.138818   \n",
       "\n",
       "   alphafold_core_scores_protein_plddt_wt  \\\n",
       "0                               64.687376   \n",
       "1                               64.687376   \n",
       "\n",
       "   alphafold_core_scores_protein_max_predicted_aligned_error_wt  \\\n",
       "0                                              31.75              \n",
       "1                                              31.75              \n",
       "\n",
       "   alphafold_core_scores_proten_ptm_wt  \\\n",
       "0                             0.416441   \n",
       "1                             0.416441   \n",
       "\n",
       "  alphafold_core_features_residue_experimentally_resolved_wt  \\\n",
       "0  [3.6272318, 3.6706228, 4.516265, 3.5398533, 4....           \n",
       "1  [2.1501245, 2.2867854, 2.5959187, 2.258326, 2....           \n",
       "\n",
       "   alphafold_core_features_residue_predicted_lddt_wt  \\\n",
       "0  [-7.5897775, -8.689957, -7.7136374, -7.0810175...   \n",
       "1  [-6.581604, -7.862013, -6.984727, -6.309676, -...   \n",
       "\n",
       "    alphafold_core_features_residue_msa_first_row_wt  \\\n",
       "0  [1.8796259, 10.791776, 0.033692777, 12.273933,...   \n",
       "1  [5.532667, -6.649637, 14.638169, 5.3919473, -2...   \n",
       "\n",
       "           alphafold_core_features_residue_single_wt  \\\n",
       "0  [-8.44626, 15.287777, -11.845451, 1.3104451, -...   \n",
       "1  [39.239716, -30.105417, 6.92773, -16.221613, 4...   \n",
       "\n",
       "  alphafold_core_features_residue_structure_module_wt  ...  \\\n",
       "0  [-0.004927762, 0.00014060736, -0.0058904495, 0...   ...   \n",
       "1  [-0.0072678104, 0.026987039, -0.006245898, -0....   ...   \n",
       "\n",
       "  alphafold_core_features_residue_experimentally_resolved_mut  \\\n",
       "0  [3.2068305, 3.2458231, 3.9859018, 3.062663, 3....            \n",
       "1  [2.0710125, 2.218312, 2.5010533, 2.141931, 2.4...            \n",
       "\n",
       "  alphafold_core_features_residue_predicted_lddt_mut  \\\n",
       "0  [-7.8205338, -8.494905, -7.730364, -7.1157904,...   \n",
       "1  [-7.2874045, -8.337455, -7.369378, -6.665057, ...   \n",
       "\n",
       "   alphafold_core_features_residue_msa_first_row_mut  \\\n",
       "0  [1.0629023, 9.450185, -1.1117198, 10.445597, -...   \n",
       "1  [4.8071737, -5.465674, 14.286465, 4.7100663, -...   \n",
       "\n",
       "          alphafold_core_features_residue_single_mut  \\\n",
       "0  [1.0913221, 9.465578, -11.463981, -8.050004, -...   \n",
       "1  [34.874672, -27.71313, 5.065748, -20.697674, 3...   \n",
       "\n",
       "  alphafold_core_features_residue_structure_module_mut  \\\n",
       "0  [-0.011385553, 0.013329156, -0.006098194, 0.00...     \n",
       "1  [-0.0033393428, 0.023972645, -0.0062532555, -0...     \n",
       "\n",
       "   alphafold_core_features_protein_experimentally_resolved_mut  \\\n",
       "0  [1.4339311, 1.4835172, 1.6852022, 1.3888673, 1...             \n",
       "1  [1.4434994, 1.4932677, 1.6971351, 1.3984808, 1...             \n",
       "\n",
       "   alphafold_core_features_protein_predicted_lddt_mut  \\\n",
       "0  [-7.1293554, -8.000177, -7.0753617, -6.3793783...    \n",
       "1  [-7.170294, -8.036215, -7.0772285, -6.3579907,...    \n",
       "\n",
       "   alphafold_core_features_protein_msa_first_row_mut  \\\n",
       "0  [-0.6908954, 3.7915826, 2.4891148, 5.101147, -...   \n",
       "1  [-0.70935285, 3.8102627, 2.4673674, 5.082006, ...   \n",
       "\n",
       "          alphafold_core_features_protein_single_mut  \\\n",
       "0  [14.626985, 8.639777, -2.4109125, 2.0749578, 0...   \n",
       "1  [14.407975, 8.669145, -2.267529, 2.1149678, 0....   \n",
       "\n",
       "  alphafold_core_features_protein_structure_module_mut  \n",
       "0  [0.0022276677, 0.0090920245, -0.0059451843, 0....    \n",
       "1  [0.0020835502, 0.008595544, -0.005956497, 0.00...    \n",
       "\n",
       "[2 rows x 29 columns]"
      ]
     },
     "metadata": {},
     "output_type": "display_data"
    },
    {
     "name": "stdout",
     "output_type": "stream",
     "text": [
      "16\n"
     ]
    }
   ],
   "source": [
    "display(alphafold_results_df.head(2))\n",
    "print(len(alphafold_results_df))"
   ]
  },
  {
   "cell_type": "markdown",
   "id": "fc796b0b-a3f3-43a0-b1dc-d6ccd0e24516",
   "metadata": {},
   "source": [
    "## Run ProteinSolver"
   ]
  },
  {
   "cell_type": "code",
   "execution_count": 26,
   "id": "2323f4ea-2e41-4e8d-8816-c0d27c80de6a",
   "metadata": {},
   "outputs": [],
   "source": [
    "def worker(mutation, data):\n",
    "    try:\n",
    "        results = ProteinSolver.analyze_mutation(f\"A_{mutation}\", data)\n",
    "    except Exception as error:\n",
    "        print(f\"{error!r}\")\n",
    "        return None\n",
    "    else:\n",
    "        results = {f\"proteinsolver_core_{key}\": value for key, value in results.items()}\n",
    "        return results"
   ]
  },
  {
   "cell_type": "code",
   "execution_count": 27,
   "id": "47bf14e9-5e4f-4eeb-b941-48e47f034889",
   "metadata": {},
   "outputs": [],
   "source": [
    "proteinsolver_results_file = NOTEBOOK_DIR.joinpath(\"proteinsolver-results.parquet\")\n",
    "\n",
    "if proteinsolver_results_file.is_file():\n",
    "    proteinsolver_results_df = pq.read_table(proteinsolver_results_file).to_pandas()\n",
    "else:\n",
    "    from elaspic2.plugins.proteinsolver import ProteinSolver\n",
    "\n",
    "    ProteinSolver.load_model(device=device)\n",
    "    \n",
    "    data = ProteinSolver.build(structure_file, sequence, None, remove_hetatms=False)\n",
    "\n",
    "    result_list = []\n",
    "    for mut in tqdm(result_df[\"mut\"], leave=False):\n",
    "        result = worker(mut, data)\n",
    "        result_list.append({\"mut\": mut} | result)\n",
    "    proteinsolver_results_df = pd.DataFrame(result_list)\n",
    "\n",
    "    pq.write_table(\n",
    "        pa.Table.from_pandas(proteinsolver_results_df, preserve_index=False),\n",
    "        proteinsolver_results_file,\n",
    "    )"
   ]
  },
  {
   "cell_type": "code",
   "execution_count": 28,
   "id": "94bd683a-50b5-4f7f-b344-508aaa4d84eb",
   "metadata": {},
   "outputs": [
    {
     "data": {
      "text/html": [
       "<div>\n",
       "<style scoped>\n",
       "    .dataframe tbody tr th:only-of-type {\n",
       "        vertical-align: middle;\n",
       "    }\n",
       "\n",
       "    .dataframe tbody tr th {\n",
       "        vertical-align: top;\n",
       "    }\n",
       "\n",
       "    .dataframe thead th {\n",
       "        text-align: right;\n",
       "    }\n",
       "</style>\n",
       "<table border=\"1\" class=\"dataframe\">\n",
       "  <thead>\n",
       "    <tr style=\"text-align: right;\">\n",
       "      <th></th>\n",
       "      <th>mut</th>\n",
       "      <th>proteinsolver_core_score_wt</th>\n",
       "      <th>proteinsolver_core_score_mut</th>\n",
       "      <th>proteinsolver_core_features_residue_wt</th>\n",
       "      <th>proteinsolver_core_features_protein_wt</th>\n",
       "      <th>proteinsolver_core_features_residue_mut</th>\n",
       "      <th>proteinsolver_core_features_protein_mut</th>\n",
       "    </tr>\n",
       "  </thead>\n",
       "  <tbody>\n",
       "    <tr>\n",
       "      <th>0</th>\n",
       "      <td>N54I</td>\n",
       "      <td>0.210572</td>\n",
       "      <td>0.009616</td>\n",
       "      <td>[1.6711971759796143, 0.8220645189285278, -0.53...</td>\n",
       "      <td>[-1.2827523946762085, 0.29683440923690796, -0....</td>\n",
       "      <td>[-3.301334857940674, 0.29959312081336975, 0.00...</td>\n",
       "      <td>[-1.314837098121643, 0.28501763939857483, -0.0...</td>\n",
       "    </tr>\n",
       "    <tr>\n",
       "      <th>1</th>\n",
       "      <td>F90L</td>\n",
       "      <td>0.553403</td>\n",
       "      <td>0.001049</td>\n",
       "      <td>[-0.9363932609558105, 0.4986618161201477, -0.4...</td>\n",
       "      <td>[-1.282752275466919, 0.2968343496322632, -0.05...</td>\n",
       "      <td>[-3.6483242511749268, 0.03767576813697815, -0....</td>\n",
       "      <td>[-1.3031216859817505, 0.2846250534057617, -0.0...</td>\n",
       "    </tr>\n",
       "  </tbody>\n",
       "</table>\n",
       "</div>"
      ],
      "text/plain": [
       "    mut  proteinsolver_core_score_wt  proteinsolver_core_score_mut  \\\n",
       "0  N54I                     0.210572                      0.009616   \n",
       "1  F90L                     0.553403                      0.001049   \n",
       "\n",
       "              proteinsolver_core_features_residue_wt  \\\n",
       "0  [1.6711971759796143, 0.8220645189285278, -0.53...   \n",
       "1  [-0.9363932609558105, 0.4986618161201477, -0.4...   \n",
       "\n",
       "              proteinsolver_core_features_protein_wt  \\\n",
       "0  [-1.2827523946762085, 0.29683440923690796, -0....   \n",
       "1  [-1.282752275466919, 0.2968343496322632, -0.05...   \n",
       "\n",
       "             proteinsolver_core_features_residue_mut  \\\n",
       "0  [-3.301334857940674, 0.29959312081336975, 0.00...   \n",
       "1  [-3.6483242511749268, 0.03767576813697815, -0....   \n",
       "\n",
       "             proteinsolver_core_features_protein_mut  \n",
       "0  [-1.314837098121643, 0.28501763939857483, -0.0...  \n",
       "1  [-1.3031216859817505, 0.2846250534057617, -0.0...  "
      ]
     },
     "metadata": {},
     "output_type": "display_data"
    },
    {
     "name": "stdout",
     "output_type": "stream",
     "text": [
      "16\n"
     ]
    }
   ],
   "source": [
    "display(proteinsolver_results_df.head(2))\n",
    "print(len(proteinsolver_results_df))"
   ]
  },
  {
   "cell_type": "markdown",
   "id": "c50bbac4-68fc-4829-8adb-d8730dded504",
   "metadata": {},
   "source": [
    "## Run ProtBert"
   ]
  },
  {
   "cell_type": "code",
   "execution_count": 29,
   "id": "c3db23b9-071d-4257-b2ca-710981ddca98",
   "metadata": {},
   "outputs": [],
   "source": [
    "def worker(mutation, data):\n",
    "    try:\n",
    "        results = ProtBert.analyze_mutation(f\"A_{mutation}\", data)\n",
    "    except Exception as error:\n",
    "        print(f\"{error!r}\")\n",
    "        return None\n",
    "    else:\n",
    "        results = {f\"protbert_core_{key}\": value for key, value in results.items()}\n",
    "        return results"
   ]
  },
  {
   "cell_type": "code",
   "execution_count": 30,
   "id": "5fa2d24c-2ccc-4b9b-b185-bf9f958733e5",
   "metadata": {},
   "outputs": [],
   "source": [
    "protbert_results_file = NOTEBOOK_DIR.joinpath(\"protbert-results.parquet\")\n",
    "\n",
    "if protbert_results_file.is_file():\n",
    "    protbert_results_df = pq.read_table(protbert_results_file).to_pandas()\n",
    "else:\n",
    "    from elaspic2.plugins.protbert import ProtBert\n",
    "\n",
    "    ProtBert.load_model(device=device)\n",
    "    data = ProtBert.build(sequence, ligand_sequence=None)\n",
    "\n",
    "    result_list = []\n",
    "    for mut in tqdm(result_df[\"mut\"], leave=False):\n",
    "        result = worker(mut, data)\n",
    "        result_list.append({\"mut\": mut} | result)\n",
    "    protbert_results_df = pd.DataFrame(result_list)\n",
    "\n",
    "    pq.write_table(\n",
    "        pa.Table.from_pandas(protbert_results_df, preserve_index=False), protbert_results_file\n",
    "    )"
   ]
  },
  {
   "cell_type": "code",
   "execution_count": 31,
   "id": "deaeb3d8-403f-43f7-8b01-609dce840c19",
   "metadata": {},
   "outputs": [
    {
     "data": {
      "text/html": [
       "<div>\n",
       "<style scoped>\n",
       "    .dataframe tbody tr th:only-of-type {\n",
       "        vertical-align: middle;\n",
       "    }\n",
       "\n",
       "    .dataframe tbody tr th {\n",
       "        vertical-align: top;\n",
       "    }\n",
       "\n",
       "    .dataframe thead th {\n",
       "        text-align: right;\n",
       "    }\n",
       "</style>\n",
       "<table border=\"1\" class=\"dataframe\">\n",
       "  <thead>\n",
       "    <tr style=\"text-align: right;\">\n",
       "      <th></th>\n",
       "      <th>mut</th>\n",
       "      <th>protbert_core_score_wt</th>\n",
       "      <th>protbert_core_score_mut</th>\n",
       "      <th>protbert_core_features_residue_wt</th>\n",
       "      <th>protbert_core_features_protein_wt</th>\n",
       "      <th>protbert_core_features_residue_mut</th>\n",
       "      <th>protbert_core_features_protein_mut</th>\n",
       "    </tr>\n",
       "  </thead>\n",
       "  <tbody>\n",
       "    <tr>\n",
       "      <th>0</th>\n",
       "      <td>N54I</td>\n",
       "      <td>0.995928</td>\n",
       "      <td>0.000116</td>\n",
       "      <td>[0.004911681637167931, -0.10091305524110794, 0...</td>\n",
       "      <td>[0.014456912875175476, -0.07412253320217133, 0...</td>\n",
       "      <td>[0.014029847458004951, -0.10067387670278549, 0...</td>\n",
       "      <td>[0.01633981615304947, -0.07155150175094604, 0....</td>\n",
       "    </tr>\n",
       "    <tr>\n",
       "      <th>1</th>\n",
       "      <td>F90L</td>\n",
       "      <td>0.998659</td>\n",
       "      <td>0.000687</td>\n",
       "      <td>[0.12213721126317978, -0.16561347246170044, 0....</td>\n",
       "      <td>[0.014456912875175476, -0.07412253320217133, 0...</td>\n",
       "      <td>[0.12696442008018494, -0.16875752806663513, 0....</td>\n",
       "      <td>[0.015587416477501392, -0.0756407380104065, 0....</td>\n",
       "    </tr>\n",
       "  </tbody>\n",
       "</table>\n",
       "</div>"
      ],
      "text/plain": [
       "    mut  protbert_core_score_wt  protbert_core_score_mut  \\\n",
       "0  N54I                0.995928                 0.000116   \n",
       "1  F90L                0.998659                 0.000687   \n",
       "\n",
       "                   protbert_core_features_residue_wt  \\\n",
       "0  [0.004911681637167931, -0.10091305524110794, 0...   \n",
       "1  [0.12213721126317978, -0.16561347246170044, 0....   \n",
       "\n",
       "                   protbert_core_features_protein_wt  \\\n",
       "0  [0.014456912875175476, -0.07412253320217133, 0...   \n",
       "1  [0.014456912875175476, -0.07412253320217133, 0...   \n",
       "\n",
       "                  protbert_core_features_residue_mut  \\\n",
       "0  [0.014029847458004951, -0.10067387670278549, 0...   \n",
       "1  [0.12696442008018494, -0.16875752806663513, 0....   \n",
       "\n",
       "                  protbert_core_features_protein_mut  \n",
       "0  [0.01633981615304947, -0.07155150175094604, 0....  \n",
       "1  [0.015587416477501392, -0.0756407380104065, 0....  "
      ]
     },
     "metadata": {},
     "output_type": "display_data"
    },
    {
     "name": "stdout",
     "output_type": "stream",
     "text": [
      "16\n"
     ]
    }
   ],
   "source": [
    "display(protbert_results_df.head(2))\n",
    "print(len(protbert_results_df))"
   ]
  },
  {
   "cell_type": "markdown",
   "id": "547447e4-88e0-48d5-9a50-7cd4df8e3754",
   "metadata": {},
   "source": [
    "## Run MSA"
   ]
  },
  {
   "cell_type": "code",
   "execution_count": null,
   "id": "9fd2c60e-7fe4-4f1e-baa8-a29f8cc8754e",
   "metadata": {},
   "outputs": [],
   "source": []
  },
  {
   "cell_type": "code",
   "execution_count": null,
   "id": "d9c28125-6d8e-43b2-af62-1db7ff88597c",
   "metadata": {},
   "outputs": [],
   "source": []
  },
  {
   "cell_type": "markdown",
   "id": "f39f80d4-76b8-4a5d-b5c9-ce1db820bd7b",
   "metadata": {
    "tags": []
   },
   "source": [
    "## Run `ELASPIC2`"
   ]
  },
  {
   "cell_type": "markdown",
   "id": "e67caa74-8382-4c66-867e-1803b75e2d63",
   "metadata": {
    "id": "4jTx3zGeHD2e"
   },
   "source": [
    "### Initialize the `ELASPIC2` model\n",
    "\n"
   ]
  },
  {
   "cell_type": "code",
   "execution_count": 32,
   "id": "ff229a81-07f0-4c77-a27f-cbab825fd06b",
   "metadata": {},
   "outputs": [
    {
     "name": "stderr",
     "output_type": "stream",
     "text": [
      "/opt/conda/lib/python3.9/site-packages/sklearn/base.py:310: UserWarning: Trying to unpickle estimator PCA from version 0.23.2 when using version 0.24.2. This might lead to breaking code or invalid results. Use at your own risk.\n",
      "  warnings.warn(\n",
      "Some weights of the model checkpoint at /scratch/strokach/workspace/elaspic2/src/elaspic2/plugins/protbert/data/prot_bert_bfd were not used when initializing BertModel: ['cls.predictions.decoder.bias', 'cls.predictions.bias', 'cls.seq_relationship.weight', 'cls.seq_relationship.bias', 'cls.predictions.transform.LayerNorm.weight', 'cls.predictions.transform.dense.bias', 'cls.predictions.decoder.weight', 'cls.predictions.transform.dense.weight', 'cls.predictions.transform.LayerNorm.bias']\n",
      "- This IS expected if you are initializing BertModel from the checkpoint of a model trained on another task or with another architecture (e.g. initializing a BertForSequenceClassification model from a BertForPreTraining model).\n",
      "- This IS NOT expected if you are initializing BertModel from the checkpoint of a model that you expect to be exactly identical (initializing a BertForSequenceClassification model from a BertForSequenceClassification model).\n"
     ]
    }
   ],
   "source": [
    "model = el2.ELASPIC2(device=device)"
   ]
  },
  {
   "cell_type": "markdown",
   "id": "1b763761-f006-43c7-8388-5c0dd730613a",
   "metadata": {
    "id": "i8OkFJbj8sYO"
   },
   "source": [
    "### Make predictions"
   ]
  },
  {
   "cell_type": "code",
   "execution_count": 33,
   "id": "bae9e849-97b2-4299-aedf-492dd8ba159c",
   "metadata": {
    "colab": {
     "base_uri": "https://localhost:8080/"
    },
    "id": "ac6mTuNYHD2i",
    "outputId": "b2427457-6fb6-4e2c-dac0-d037fafc8282"
   },
   "outputs": [
    {
     "data": {
      "text/plain": [
       "ELASPIC2Data(is_interface=False, protbert_data=ProtBertData(sequence='MADQLTEEQIAEFKEAFSLFDKDGDGTITTKELGTVMRSLGQNPTEAELQDMINEVDADGNGTIDFPEFLTMMARKMKDTDSEEEIREAFRVFDKDGNGYISAAELRHVMTNLGEKLTDEEVDEMIREADIDGDGQVNYEEFVQMMTAK'), proteinsolver_data=Data(edge_attr=[5330, 2], edge_index=[2, 5330], x=[149]))"
      ]
     },
     "execution_count": 33,
     "metadata": {},
     "output_type": "execute_result"
    }
   ],
   "source": [
    "protein_features = model.build(\n",
    "    structure_file=structure_file,\n",
    "    protein_sequence=sequence,\n",
    "    ligand_sequence=None,\n",
    "    remove_hetatms=True,\n",
    ")\n",
    "\n",
    "protein_features"
   ]
  },
  {
   "cell_type": "code",
   "execution_count": 34,
   "id": "3c7edd06-5e16-410a-a62b-070cf06d9b75",
   "metadata": {},
   "outputs": [
    {
     "data": {
      "application/vnd.jupyter.widget-view+json": {
       "model_id": "3d15d70144cd4414a40baca9c5af1b52",
       "version_major": 2,
       "version_minor": 0
      },
      "text/plain": [
       "HBox(children=(HTML(value=''), FloatProgress(value=0.0, max=16.0), HTML(value='')))"
      ]
     },
     "metadata": {},
     "output_type": "display_data"
    },
    {
     "name": "stdout",
     "output_type": "stream",
     "text": [
      "\n"
     ]
    }
   ],
   "source": [
    "mutation_features = list(\n",
    "    tqdm(\n",
    "        (model.analyze_mutation(mut, protein_features) for mut in result_df[\"mut\"]),\n",
    "        total=len(result_df),\n",
    "    )\n",
    ")"
   ]
  },
  {
   "cell_type": "code",
   "execution_count": 35,
   "id": "0f2e6b98-91e5-4aaf-b143-a852f6dd52ff",
   "metadata": {
    "id": "XJPiK7eVRBqi"
   },
   "outputs": [
    {
     "ename": "KeyError",
     "evalue": "'pca-proteinsolver_core_features_protein_wt-core'",
     "output_type": "error",
     "traceback": [
      "\u001b[0;31m---------------------------------------------------------------------------\u001b[0m",
      "\u001b[0;31mKeyError\u001b[0m                                  Traceback (most recent call last)",
      "\u001b[0;32m/tmp/ipykernel_27181/2820847045.py\u001b[0m in \u001b[0;36m<module>\u001b[0;34m\u001b[0m\n\u001b[1;32m      6\u001b[0m     \u001b[0mf\u001b[0m\u001b[0;34m[\u001b[0m\u001b[0;34m\"proteinsolver_core_score_wt\"\u001b[0m\u001b[0;34m]\u001b[0m \u001b[0;34m-\u001b[0m \u001b[0mf\u001b[0m\u001b[0;34m[\u001b[0m\u001b[0;34m\"proteinsolver_core_score_mut\"\u001b[0m\u001b[0;34m]\u001b[0m \u001b[0;32mfor\u001b[0m \u001b[0mf\u001b[0m \u001b[0;32min\u001b[0m \u001b[0mmutation_features\u001b[0m\u001b[0;34m\u001b[0m\u001b[0;34m\u001b[0m\u001b[0m\n\u001b[1;32m      7\u001b[0m ]\n\u001b[0;32m----> 8\u001b[0;31m \u001b[0mresult_df\u001b[0m\u001b[0;34m[\u001b[0m\u001b[0;34m\"el2_score\"\u001b[0m\u001b[0;34m]\u001b[0m \u001b[0;34m=\u001b[0m \u001b[0mmodel\u001b[0m\u001b[0;34m.\u001b[0m\u001b[0mpredict_mutation_effect\u001b[0m\u001b[0;34m(\u001b[0m\u001b[0mmutation_features\u001b[0m\u001b[0;34m)\u001b[0m\u001b[0;34m.\u001b[0m\u001b[0mtolist\u001b[0m\u001b[0;34m(\u001b[0m\u001b[0;34m)\u001b[0m\u001b[0;34m\u001b[0m\u001b[0;34m\u001b[0m\u001b[0m\n\u001b[0m",
      "\u001b[0;32m/scratch/strokach/workspace/elaspic2/src/elaspic2/elaspic2.py\u001b[0m in \u001b[0;36mpredict_mutation_effect\u001b[0;34m(self, mutation_stability_features, mutation_affinity_features)\u001b[0m\n\u001b[1;32m    150\u001b[0m         \u001b[0;32mfor\u001b[0m \u001b[0msplit_idx\u001b[0m\u001b[0;34m,\u001b[0m \u001b[0mlgb_model\u001b[0m \u001b[0;32min\u001b[0m \u001b[0menumerate\u001b[0m\u001b[0;34m(\u001b[0m\u001b[0mlgb_models\u001b[0m\u001b[0;34m)\u001b[0m\u001b[0;34m:\u001b[0m\u001b[0;34m\u001b[0m\u001b[0;34m\u001b[0m\u001b[0m\n\u001b[1;32m    151\u001b[0m             \u001b[0;32mfor\u001b[0m \u001b[0mcolumn\u001b[0m \u001b[0;32min\u001b[0m \u001b[0mpca_columns\u001b[0m\u001b[0;34m:\u001b[0m\u001b[0;34m\u001b[0m\u001b[0;34m\u001b[0m\u001b[0m\n\u001b[0;32m--> 152\u001b[0;31m                 \u001b[0mpca_model\u001b[0m \u001b[0;34m=\u001b[0m \u001b[0mpca_models\u001b[0m\u001b[0;34m[\u001b[0m\u001b[0;34mf\"pca-{column}-{coi.value}\"\u001b[0m\u001b[0;34m]\u001b[0m\u001b[0;34m\u001b[0m\u001b[0;34m\u001b[0m\u001b[0m\n\u001b[0m\u001b[1;32m    153\u001b[0m                 \u001b[0mvalues\u001b[0m \u001b[0;34m=\u001b[0m \u001b[0mnp\u001b[0m\u001b[0;34m.\u001b[0m\u001b[0mvstack\u001b[0m\u001b[0;34m(\u001b[0m\u001b[0mmutation_features_df\u001b[0m\u001b[0;34m[\u001b[0m\u001b[0mcolumn\u001b[0m\u001b[0;34m]\u001b[0m\u001b[0;34m.\u001b[0m\u001b[0mvalues\u001b[0m\u001b[0;34m)\u001b[0m\u001b[0;34m\u001b[0m\u001b[0;34m\u001b[0m\u001b[0m\n\u001b[1;32m    154\u001b[0m                 \u001b[0mvalues_out\u001b[0m \u001b[0;34m=\u001b[0m \u001b[0mpca_model\u001b[0m\u001b[0;34m.\u001b[0m\u001b[0mtransform\u001b[0m\u001b[0;34m(\u001b[0m\u001b[0mvalues\u001b[0m\u001b[0;34m)\u001b[0m\u001b[0;34m\u001b[0m\u001b[0;34m\u001b[0m\u001b[0m\n",
      "\u001b[0;31mKeyError\u001b[0m: 'pca-proteinsolver_core_features_protein_wt-core'"
     ]
    }
   ],
   "source": [
    "# In all cases, higher scores means less stable (same as ΔΔG)\n",
    "result_df[\"protbert_score\"] = [\n",
    "    f[\"protbert_core_score_wt\"] - f[\"protbert_core_score_mut\"] for f in mutation_features\n",
    "]\n",
    "result_df[\"proteinsolver_score\"] = [\n",
    "    f[\"proteinsolver_core_score_wt\"] - f[\"proteinsolver_core_score_mut\"] for f in mutation_features\n",
    "]\n",
    "result_df[\"el2_score\"] = model.predict_mutation_effect(mutation_features).tolist()"
   ]
  },
  {
   "cell_type": "markdown",
   "id": "fa361785-f49c-4406-b092-6eb1b4c7aa5d",
   "metadata": {},
   "source": [
    "## Combine"
   ]
  },
  {
   "cell_type": "code",
   "execution_count": null,
   "id": "736aebec-5030-4b35-a068-f7f46cc25329",
   "metadata": {},
   "outputs": [],
   "source": [
    "rosetta_results_df[\"rosetta_dg_score\"] = rosetta_results_df[\"rosetta_dg_change\"]"
   ]
  },
  {
   "cell_type": "code",
   "execution_count": null,
   "id": "a48796e5-4259-4b01-9a92-b7d63175d47b",
   "metadata": {},
   "outputs": [],
   "source": [
    "try:\n",
    "    del result_df[\"rosetta_dg_score\"]\n",
    "except KeyError:\n",
    "    pass\n",
    "\n",
    "result_df = result_df.merge(rosetta_results_df[[\"mut\", \"rosetta_dg_score\"]], on=\"mut\", how=\"left\")"
   ]
  },
  {
   "cell_type": "markdown",
   "id": "22b5a2ee-a147-4726-9768-736833a422f9",
   "metadata": {
    "tags": []
   },
   "source": [
    "## Visualize"
   ]
  },
  {
   "cell_type": "code",
   "execution_count": null,
   "id": "563c7c12-81fb-4098-804b-f20d2053d88e",
   "metadata": {},
   "outputs": [],
   "source": [
    "sns.set(style=\"ticks\", color_codes=True)\n",
    "g = sns.pairplot(\n",
    "    result_df[[\"protbert_score\", \"proteinsolver_score\", \"el2_score\", \"rosetta_dg_score\"]]\n",
    ")"
   ]
  },
  {
   "cell_type": "markdown",
   "id": "6a1b222f-10f5-4017-b38c-c0192c6f9333",
   "metadata": {},
   "source": [
    "## Write results"
   ]
  },
  {
   "cell_type": "code",
   "execution_count": null,
   "id": "bfefd067-5ff9-455e-a7a9-e8825665de5a",
   "metadata": {},
   "outputs": [],
   "source": [
    "output_dir = NOTEBOOK_DIR.joinpath(\"submission\")\n",
    "output_dir.mkdir(exist_ok=True)\n",
    "\n",
    "output_dir"
   ]
  },
  {
   "cell_type": "code",
   "execution_count": null,
   "id": "06fc7c76-f93f-4f4a-9ef9-34968c1758e7",
   "metadata": {},
   "outputs": [],
   "source": [
    "%%file {output_dir}/strokach_desc.md\n",
    "# Submission for CAGI6—CAM challenge\n",
    "\n",
    "## Overview\n",
    "\n",
    "- `strokach_modelnumber_1.tsv` → Predictions made using ELASPIC2 [1].\n",
    "- `strokach_modelnumber_2.tsv` → Predictions made using ProteinSolver [2].\n",
    "- `strokach_modelnumber_3.tsv` → Predictions made using ProtBert [3].\n",
    "- `strokach_modelnumber_4.tsv` → Predictions made using Rosetta's cartesian_ddg protocol.\n",
    "\n",
    "## References\n",
    "\n",
    "- [1] Strokach, A., Lu, T.Y., Kim, P.M., 2021. ELASPIC2 (EL2): Combining Contextualized Language Models and Graph Neural Networks to Predict Effects of Mutations. Journal of Molecular Biology, Computation Resources for Molecular Biology 433, 166810. https://doi.org/10.1016/j.jmb.2021.166810\n",
    "- [2] Strokach, A., Becerra, D., Corbi-Verge, C., Perez-Riba, A., Kim, P.M., 2020. Fast and Flexible Protein Design Using Deep Graph Neural Networks. Cell Systems. https://doi.org/10.1016/j.cels.2020.08.016\n",
    "- [3] Elnaggar, A., Heinzinger, M., Dallago, C., Rehawi, G., Wang, Y., Jones, L., Gibbs, T., Feher, T., Angerer, C., Steinegger, M., Bhowmik, D., Rost, B., 2020. ProtTrans: Towards Cracking the Language of Life’s Code Through Self-Supervised Deep Learning and High Performance Computing. bioRxiv 2020.07.12.199554. https://doi.org/10.1101/2020.07.12.199554"
   ]
  },
  {
   "cell_type": "code",
   "execution_count": null,
   "id": "1bf4dce6-2948-4cd9-9141-c70d1bbbb127",
   "metadata": {
    "tags": []
   },
   "outputs": [],
   "source": [
    "result_dfs = {}\n",
    "for i, metric in enumerate([\"el2\", \"proteinsolver\", \"protbert\", \"rosetta_dg\"]):\n",
    "    result_dfs[metric] = result_df.copy()\n",
    "\n",
    "    starting_tm = 59.2\n",
    "    starting_unfold = 71.8\n",
    "\n",
    "    max_ddg = result_dfs[metric][f\"{metric}_score\"].max()\n",
    "    min_ddg = max(0, result_dfs[metric][f\"{metric}_score\"].min())\n",
    "    #     assert min_ddg > 0\n",
    "\n",
    "    tm_scale = (starting_tm - 20) / (max_ddg - min_ddg)\n",
    "    unfold_scale = (98 - starting_unfold) / (max_ddg - min_ddg)\n",
    "\n",
    "    result_dfs[metric][\"Tm\"] = starting_tm - tm_scale * (\n",
    "        result_dfs[metric][f\"{metric}_score\"].values - min_ddg\n",
    "    )\n",
    "    result_dfs[metric][\"Standard-Deviation-Tm\"] = 10.0\n",
    "    result_dfs[metric][\"%Unfold\"] = starting_unfold + unfold_scale * (\n",
    "        result_dfs[metric][f\"{metric}_score\"].values - min_ddg\n",
    "    )\n",
    "    result_dfs[metric][\"Standard-Deviation-%Unfold\"] = 10.0\n",
    "    result_dfs[metric][\"Stabilizing-vs-Destabilizing\"] = [\n",
    "        (\"Destabilizing\" if ddg > 0 else \"Stabilizing\")\n",
    "        for ddg in result_dfs[metric][f\"{metric}_score\"].values\n",
    "    ]\n",
    "    result_dfs[metric][\"Comment\"] = \"*\"\n",
    "\n",
    "    print(metric, min_ddg)\n",
    "    display(result_dfs[metric].head())\n",
    "\n",
    "    output_file = output_dir.joinpath(f\"strokach_modelnumber_{i + 1}.tsv\")\n",
    "    result_dfs[metric][result_template_df.columns].to_csv(output_file, sep=\"\\t\", index=False)\n",
    "#     !python {NOTEBOOK_DIR}/validation.py {output_file}"
   ]
  },
  {
   "cell_type": "code",
   "execution_count": null,
   "id": "30534135-96c0-4bae-a66c-6b369c76a2e3",
   "metadata": {},
   "outputs": [],
   "source": [
    "for metric, df in result_dfs.items():\n",
    "    print(metric)\n",
    "\n",
    "    fig, axs = plt.subplots(1, 2, figsize=(10, 3))\n",
    "\n",
    "    ax = axs[0]\n",
    "    ax.hist(df[\"Tm\"])\n",
    "    ax.set_xlabel(\"Tm\")\n",
    "\n",
    "    ax = axs[1]\n",
    "    ax.hist(df[\"%Unfold\"])\n",
    "    ax.set_xlabel(\"%unfold\")"
   ]
  },
  {
   "cell_type": "code",
   "execution_count": null,
   "id": "91a73779-31f1-429a-9f0a-3a0f127b7bda",
   "metadata": {},
   "outputs": [],
   "source": []
  }
 ],
 "metadata": {
  "kernelspec": {
   "display_name": "Python 3 (ipykernel)",
   "language": "python",
   "name": "python3"
  },
  "language_info": {
   "codemirror_mode": {
    "name": "ipython",
    "version": 3
   },
   "file_extension": ".py",
   "mimetype": "text/x-python",
   "name": "python",
   "nbconvert_exporter": "python",
   "pygments_lexer": "ipython3",
   "version": "3.9.6"
  }
 },
 "nbformat": 4,
 "nbformat_minor": 5
}
