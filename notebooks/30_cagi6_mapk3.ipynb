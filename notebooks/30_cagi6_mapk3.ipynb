{
 "cells": [
  {
   "cell_type": "markdown",
   "id": "26c81e96-6b41-41fa-80a6-6360c482eb58",
   "metadata": {},
   "source": [
    "## Summary\n",
    "\n",
    "---"
   ]
  },
  {
   "cell_type": "markdown",
   "id": "ec276dec-6afa-4b57-bbfc-a11e04a8767e",
   "metadata": {},
   "source": [
    "## Imports"
   ]
  },
  {
   "cell_type": "code",
   "execution_count": 1,
   "id": "91afc1b4-34d1-4034-b089-d4d6c3c6a8fc",
   "metadata": {},
   "outputs": [
    {
     "name": "stdout",
     "output_type": "stream",
     "text": [
      "env: CUDA_VISIBLE_DEVICES=1\n",
      "env: TF_FORCE_UNIFIED_MEMORY=1\n",
      "env: XLA_PYTHON_CLIENT_MEM_FRACTION=4.0\n"
     ]
    }
   ],
   "source": [
    "%env CUDA_VISIBLE_DEVICES=1\n",
    "%env TF_FORCE_UNIFIED_MEMORY=1\n",
    "%env XLA_PYTHON_CLIENT_MEM_FRACTION=4.0"
   ]
  },
  {
   "cell_type": "code",
   "execution_count": 2,
   "id": "539f4edf-ca04-4bef-b5c9-a6d402f7570b",
   "metadata": {},
   "outputs": [
    {
     "name": "stderr",
     "output_type": "stream",
     "text": [
      "Warning: importing 'simtk.openmm' is deprecated.  Import 'openmm' instead.\n"
     ]
    }
   ],
   "source": [
    "import concurrent.futures\n",
    "import contextlib\n",
    "import itertools\n",
    "import os\n",
    "import tempfile\n",
    "import urllib.request\n",
    "from datetime import datetime\n",
    "from pathlib import Path\n",
    "\n",
    "import dotenv\n",
    "import elaspic2 as el2\n",
    "import matplotlib.pyplot as plt\n",
    "import numpy as np\n",
    "import pandas as pd\n",
    "import pyarrow as pa\n",
    "import pyarrow.parquet as pq\n",
    "import seaborn as sns\n",
    "import torch\n",
    "from elaspic2.plugins.rosetta_ddg import RosettaDDG\n",
    "from kmbio import PDB\n",
    "from kmtools import structure_tools\n",
    "from tqdm.auto import tqdm"
   ]
  },
  {
   "cell_type": "markdown",
   "id": "5be0ca05-c038-414f-ba84-b2ae8013088b",
   "metadata": {},
   "source": [
    "## Parameters"
   ]
  },
  {
   "cell_type": "code",
   "execution_count": 3,
   "id": "10e1faee-9f6a-40d8-8819-272b1c9837bb",
   "metadata": {},
   "outputs": [
    {
     "data": {
      "text/plain": [
       "PosixPath('/scratch/strokach/workspace/elaspic2-cagi6/notebooks/30_cagi6_mapk3')"
      ]
     },
     "execution_count": 3,
     "metadata": {},
     "output_type": "execute_result"
    }
   ],
   "source": [
    "NOTEBOOK_DIR = Path(\"30_cagi6_mapk3\").resolve()\n",
    "NOTEBOOK_DIR.mkdir(exist_ok=True)\n",
    "\n",
    "NOTEBOOK_DIR"
   ]
  },
  {
   "cell_type": "code",
   "execution_count": 4,
   "id": "157bc64f-7d78-4ca1-a4c0-0f2e81a4e9cb",
   "metadata": {},
   "outputs": [
    {
     "data": {
      "text/plain": [
       "'P27361'"
      ]
     },
     "execution_count": 4,
     "metadata": {},
     "output_type": "execute_result"
    }
   ],
   "source": [
    "UNIPROT_ID = \"P27361\"\n",
    "\n",
    "UNIPROT_ID"
   ]
  },
  {
   "cell_type": "code",
   "execution_count": 5,
   "id": "02a4b6a8-f628-47cc-a197-21f3e7c2c49e",
   "metadata": {
    "colab": {
     "base_uri": "https://localhost:8080/"
    },
    "id": "HCyTzII-HD1t",
    "outputId": "92f63199-1727-48d3-cb4b-6ff798fa75b6"
   },
   "outputs": [
    {
     "data": {
      "text/plain": [
       "device(type='cuda')"
      ]
     },
     "execution_count": 5,
     "metadata": {},
     "output_type": "execute_result"
    }
   ],
   "source": [
    "device = torch.device(\"cuda\" if torch.cuda.is_available() else \"cpu\")\n",
    "\n",
    "device"
   ]
  },
  {
   "cell_type": "code",
   "execution_count": 6,
   "id": "c3061441-d23b-4fc1-9324-be5a432b6b83",
   "metadata": {
    "colab": {
     "base_uri": "https://localhost:8080/",
     "height": 35
    },
    "id": "i3LyUBcjSUzb",
    "outputId": "054b8acc-0717-48cf-83d9-ca0b886f7b10"
   },
   "outputs": [
    {
     "data": {
      "text/plain": [
       "'2021-09-28T12'"
      ]
     },
     "execution_count": 6,
     "metadata": {},
     "output_type": "execute_result"
    }
   ],
   "source": [
    "version = datetime.now().isoformat(timespec=\"hours\")\n",
    "\n",
    "version"
   ]
  },
  {
   "cell_type": "markdown",
   "id": "3b502e4b-10df-4c08-a809-57f8b44132e9",
   "metadata": {},
   "source": [
    "## Download data"
   ]
  },
  {
   "cell_type": "code",
   "execution_count": 7,
   "id": "d548c34d-b2c1-4a02-8489-11bf03f6915f",
   "metadata": {},
   "outputs": [],
   "source": [
    "def download(url, filename):\n",
    "    urllib.request.urlretrieve(url, filename)"
   ]
  },
  {
   "cell_type": "code",
   "execution_count": 8,
   "id": "8a3c5586-fa78-4e5f-8dda-68c7fe324a70",
   "metadata": {},
   "outputs": [],
   "source": [
    "def load_sequence(sequence_file):\n",
    "    with sequence_file.open(\"rt\") as fin:\n",
    "        data = fin.read()\n",
    "    chunks = []\n",
    "    for line in data.split(\"\\n\"):\n",
    "        if line.startswith(\">\"):\n",
    "            continue\n",
    "        chunks.append(line.strip())\n",
    "    return \"\".join(chunks)"
   ]
  },
  {
   "cell_type": "code",
   "execution_count": 9,
   "id": "d08190c2-c438-4513-9804-ea5fee34b305",
   "metadata": {},
   "outputs": [],
   "source": [
    "if not NOTEBOOK_DIR.joinpath(\"validation.py\").is_file():\n",
    "    import synapseclient\n",
    "    import synapseutils\n",
    "\n",
    "    dotenv.load_dotenv(\"../.env\")\n",
    "    syn = synapseclient.Synapse()\n",
    "    syn.login(os.environ[\"SYNAPSE_USERNAME\"], os.environ[\"SYNAPSE_PASSWORD\"])\n",
    "    _ = synapseutils.syncFromSynapse(syn, \"syn26019572\", path=NOTEBOOK_DIR)"
   ]
  },
  {
   "cell_type": "code",
   "execution_count": 10,
   "id": "10c9dc73-5ff4-4641-acf4-1af79c25c362",
   "metadata": {},
   "outputs": [],
   "source": [
    "sequence_file = NOTEBOOK_DIR.joinpath(f\"{UNIPROT_ID}.fasta\")\n",
    "\n",
    "if not sequence_file.is_file():\n",
    "    download(f\"https://www.uniprot.org/uniprot/{UNIPROT_ID}.fasta\", sequence_file)\n",
    "\n",
    "sequence = load_sequence(sequence_file)"
   ]
  },
  {
   "cell_type": "code",
   "execution_count": 11,
   "id": "3a89b953-f177-44f8-940d-9c954102b693",
   "metadata": {},
   "outputs": [],
   "source": [
    "structure_file = NOTEBOOK_DIR.joinpath(f\"{UNIPROT_ID}.pdb\")\n",
    "\n",
    "if not structure_file.is_file():\n",
    "    download(f\"https://alphafold.ebi.ac.uk/files/AF-{UNIPROT_ID}-F1-model_v1.pdb\", structure_file)\n",
    "\n",
    "with structure_file.open(\"r\") as fin:\n",
    "    structure_blob = fin.read()"
   ]
  },
  {
   "cell_type": "code",
   "execution_count": 12,
   "id": "1ede17b5-ff43-480e-8f1a-3a85bb2494a3",
   "metadata": {},
   "outputs": [],
   "source": [
    "alignment_file = NOTEBOOK_DIR.joinpath(f\"{UNIPROT_ID}.a3m.gz\")\n",
    "\n",
    "if not alignment_file.is_file():\n",
    "    from elaspic2.plugins.alphafold import mmseqs2\n",
    "\n",
    "    dotenv.load_dotenv(\"../.env\")\n",
    "    with mmseqs2.api_gateway(mmseqs2.MMSEQS2_HOST_URL) as gateway:\n",
    "        alignment = mmseqs2.run_mmseqs2(sequence, gateway=gateway)\n",
    "        assert alignment[1] == f\"{sequence}\\n\"\n",
    "        alignment_df = pd.DataFrame({\"alignment\": alignment})\n",
    "        pq.write_table(pa.Table.from_pandas(alignment_df, preserve_index=False), alignment_file)\n",
    "\n",
    "alignment = pq.read_table(alignment_file).to_pandas()[\"alignment\"].values.tolist()"
   ]
  },
  {
   "cell_type": "markdown",
   "id": "81b414a9-cd98-4c0e-992d-fa7c99a12cb2",
   "metadata": {},
   "source": [
    "## Load data"
   ]
  },
  {
   "cell_type": "code",
   "execution_count": 13,
   "id": "d11f7a93-f88f-4c54-b9cb-53a9a3ee5c22",
   "metadata": {},
   "outputs": [],
   "source": [
    "def mutation_matches_sequence(mutation, sequence):\n",
    "    wt, pos, mut = mutation[0], mutation[1:-1], mutation[-1]\n",
    "    pos = int(pos)\n",
    "    return sequence[pos - 1] == wt"
   ]
  },
  {
   "cell_type": "code",
   "execution_count": 14,
   "id": "956ba4c3-2b82-4a93-981b-ddd67434deda",
   "metadata": {
    "id": "gJG9gYqPHD15"
   },
   "outputs": [],
   "source": [
    "def sequence_matches_structure(sequence, structure_blob):\n",
    "    with tempfile.NamedTemporaryFile(suffix=\".pdb\") as tmp_file:\n",
    "        with open(tmp_file.name, \"wt\") as fout:\n",
    "            fout.write(structure_blob)\n",
    "        structure = PDB.load(tmp_file.name)\n",
    "\n",
    "    chain_sequence = structure_tools.get_chain_sequence(\n",
    "        structure[0][\"A\"], if_unknown=\"replace\", unknown_residue_marker=\"\"\n",
    "    )\n",
    "    return sequence == chain_sequence"
   ]
  },
  {
   "cell_type": "code",
   "execution_count": 15,
   "id": "e9d2d21f-85b1-4034-8c10-7283d1d3ad0f",
   "metadata": {},
   "outputs": [
    {
     "data": {
      "text/html": [
       "<div>\n",
       "<style scoped>\n",
       "    .dataframe tbody tr th:only-of-type {\n",
       "        vertical-align: middle;\n",
       "    }\n",
       "\n",
       "    .dataframe tbody tr th {\n",
       "        vertical-align: top;\n",
       "    }\n",
       "\n",
       "    .dataframe thead th {\n",
       "        text-align: right;\n",
       "    }\n",
       "</style>\n",
       "<table border=\"1\" class=\"dataframe\">\n",
       "  <thead>\n",
       "    <tr style=\"text-align: right;\">\n",
       "      <th></th>\n",
       "      <th>MAPK3-variant</th>\n",
       "      <th>DDG-NotPO4</th>\n",
       "      <th>Standard-Deviation-DDG-NotPO4</th>\n",
       "      <th>DDG-PO4</th>\n",
       "      <th>Standard-Deviation-DDG-PO4</th>\n",
       "      <th>Ratio-kcat/Km</th>\n",
       "      <th>Standard-Deviation-Ratio-kcat/Km</th>\n",
       "      <th>Comment</th>\n",
       "    </tr>\n",
       "  </thead>\n",
       "  <tbody>\n",
       "    <tr>\n",
       "      <th>0</th>\n",
       "      <td>p.I73M</td>\n",
       "      <td>*</td>\n",
       "      <td>*</td>\n",
       "      <td>*</td>\n",
       "      <td>*</td>\n",
       "      <td>*</td>\n",
       "      <td>*</td>\n",
       "      <td>*</td>\n",
       "    </tr>\n",
       "    <tr>\n",
       "      <th>1</th>\n",
       "      <td>p.Q79H</td>\n",
       "      <td>*</td>\n",
       "      <td>*</td>\n",
       "      <td>*</td>\n",
       "      <td>*</td>\n",
       "      <td>*</td>\n",
       "      <td>*</td>\n",
       "      <td>*</td>\n",
       "    </tr>\n",
       "  </tbody>\n",
       "</table>\n",
       "</div>"
      ],
      "text/plain": [
       "  MAPK3-variant DDG-NotPO4 Standard-Deviation-DDG-NotPO4 DDG-PO4  \\\n",
       "0        p.I73M          *                             *       *   \n",
       "1        p.Q79H          *                             *       *   \n",
       "\n",
       "   Standard-Deviation-DDG-PO4 Ratio-kcat/Km Standard-Deviation-Ratio-kcat/Km  \\\n",
       "0                           *             *                                *   \n",
       "1                           *             *                                *   \n",
       "\n",
       "  Comment  \n",
       "0       *  \n",
       "1       *  "
      ]
     },
     "execution_count": 15,
     "metadata": {},
     "output_type": "execute_result"
    }
   ],
   "source": [
    "result_template_df = pd.read_csv(NOTEBOOK_DIR.joinpath(\"mapk3_predictions.tsv\"), sep=\"\\t\")\n",
    "\n",
    "result_template_df.head(2)"
   ]
  },
  {
   "cell_type": "code",
   "execution_count": 16,
   "id": "f2b7c217-8998-496a-b0c3-814ac7565066",
   "metadata": {},
   "outputs": [],
   "source": [
    "result_df = result_template_df.copy()\n",
    "result_df[\"mut\"] = result_df[\"MAPK3-variant\"].str[2:]"
   ]
  },
  {
   "cell_type": "code",
   "execution_count": 17,
   "id": "d6e3b604-f491-4f99-a1b8-bec0eb5528c5",
   "metadata": {},
   "outputs": [],
   "source": [
    "assert all([mutation_matches_sequence(mut, sequence) for mut in result_df[\"mut\"]])"
   ]
  },
  {
   "cell_type": "code",
   "execution_count": 18,
   "id": "98344dbc-368c-4c32-889a-d08fbe44075e",
   "metadata": {},
   "outputs": [],
   "source": [
    "assert sequence_matches_structure(sequence, structure_blob)"
   ]
  },
  {
   "cell_type": "code",
   "execution_count": 19,
   "id": "a90a91d5-0a76-4399-bc5e-1921cc5364c4",
   "metadata": {},
   "outputs": [],
   "source": [
    "assert alignment[1] == f\"{sequence}\\n\""
   ]
  },
  {
   "cell_type": "markdown",
   "id": "a488ac2b-091c-4f9b-9ba2-6bdf8c771ce6",
   "metadata": {},
   "source": [
    "## Run Rosetta"
   ]
  },
  {
   "cell_type": "code",
   "execution_count": 20,
   "id": "9d66c51d-657e-4259-a6a8-637eeb56d137",
   "metadata": {},
   "outputs": [],
   "source": [
    "rosetta_ddg_data = RosettaDDG.build(\n",
    "    structure_file,\n",
    "    protocol=\"cartesian_ddg\",\n",
    "    energy_function=\"beta_nov16_cart\",\n",
    "    interface=0,\n",
    ")"
   ]
  },
  {
   "cell_type": "code",
   "execution_count": 21,
   "id": "1fd4bd8b-272c-432d-b92f-c722fad5a75b",
   "metadata": {},
   "outputs": [],
   "source": [
    "def rosetta_ddg_worker(mut, data):\n",
    "    results = RosettaDDG.analyze_mutation(f\"A_{mut}\", data)\n",
    "    results = {\"mut\": mut} | {f\"rosetta_{key}\": value for key, value in results.items()}\n",
    "    return results"
   ]
  },
  {
   "cell_type": "code",
   "execution_count": 22,
   "id": "146ef0d3-b0cd-4f89-8ced-ca6d0f8667dd",
   "metadata": {},
   "outputs": [],
   "source": [
    "rosetta_results_file = NOTEBOOK_DIR.joinpath(\"rosetta-results.parquet\")\n",
    "\n",
    "if rosetta_results_file.is_file():\n",
    "    rosetta_results_df = pq.read_table(rosetta_results_file).to_pandas()\n",
    "else:\n",
    "    with concurrent.futures.ThreadPoolExecutor(len(result_df)) as pool:\n",
    "        rosetta_results = list(\n",
    "            tqdm(\n",
    "                pool.map(\n",
    "                    rosetta_ddg_worker,\n",
    "                    result_df[\"mut\"].values.tolist(),\n",
    "                    itertools.repeat(rosetta_ddg_data),\n",
    "                ),\n",
    "                total=len(result_df),\n",
    "            )\n",
    "        )\n",
    "    rosetta_results_df = pd.DataFrame(rosetta_results)\n",
    "    pq.write_table(\n",
    "        pa.Table.from_pandas(rosetta_results_df, preserve_index=False), rosetta_results_file\n",
    "    )"
   ]
  },
  {
   "cell_type": "markdown",
   "id": "8d4d6e52-803d-4ebf-9382-5a9054ff6289",
   "metadata": {},
   "source": [
    "## Run AlphaFold"
   ]
  },
  {
   "cell_type": "code",
   "execution_count": 23,
   "id": "43498d2d-c8ed-49e9-b44f-62cb8a20385c",
   "metadata": {},
   "outputs": [],
   "source": [
    "def worker(mutation, data):\n",
    "    try:\n",
    "        results = AlphaFold.analyze_mutation(f\"A_{mutation}\", data)\n",
    "    except Exception as error:\n",
    "        print(f\"{error!r}\")\n",
    "        return None\n",
    "    else:\n",
    "        results = {f\"alphafold_core_{key}\": value for key, value in results.items()}\n",
    "        return results"
   ]
  },
  {
   "cell_type": "code",
   "execution_count": 24,
   "id": "ed107f68-eec0-4c58-bb6e-affc2cc47fec",
   "metadata": {},
   "outputs": [],
   "source": [
    "alphafold_results_file = NOTEBOOK_DIR.joinpath(\"alphafold-results.parquet\")\n",
    "\n",
    "if alphafold_results_file.is_file():\n",
    "    alphafold_results_df = pq.read_table(alphafold_results_file).to_pandas()\n",
    "else:\n",
    "    from elaspic2.plugins.alphafold import AlphaFold, AlphaFoldAnalyzeError, AlphaFoldBuildError\n",
    "    from jax.lib import xla_bridge\n",
    "\n",
    "    jax_device = xla_bridge.get_backend().platform\n",
    "    print(f\"Device: {jax_device}\")\n",
    "\n",
    "    AlphaFold.load_model(device=jax_device)\n",
    "    data = AlphaFold.build(sequence, ligand_sequence=None, msa=alignment)\n",
    "\n",
    "    result_list = []\n",
    "    for mut in tqdm(result_df[\"mut\"], leave=False):\n",
    "        result = worker(mut, data)\n",
    "        result_list.append({\"mut\": mut} | result)\n",
    "    alphafold_results_df = pd.DataFrame(result_list)\n",
    "\n",
    "    pq.write_table(\n",
    "        pa.Table.from_pandas(alphafold_results_df, preserve_index=False), alphafold_results_file\n",
    "    )"
   ]
  },
  {
   "cell_type": "code",
   "execution_count": 25,
   "id": "d9784564-9bf4-4345-b468-e37a378ff50b",
   "metadata": {},
   "outputs": [
    {
     "data": {
      "text/html": [
       "<div>\n",
       "<style scoped>\n",
       "    .dataframe tbody tr th:only-of-type {\n",
       "        vertical-align: middle;\n",
       "    }\n",
       "\n",
       "    .dataframe tbody tr th {\n",
       "        vertical-align: top;\n",
       "    }\n",
       "\n",
       "    .dataframe thead th {\n",
       "        text-align: right;\n",
       "    }\n",
       "</style>\n",
       "<table border=\"1\" class=\"dataframe\">\n",
       "  <thead>\n",
       "    <tr style=\"text-align: right;\">\n",
       "      <th></th>\n",
       "      <th>mut</th>\n",
       "      <th>alphafold_core_scores_residue_plddt_wt</th>\n",
       "      <th>alphafold_core_scores_protein_plddt_wt</th>\n",
       "      <th>alphafold_core_scores_protein_max_predicted_aligned_error_wt</th>\n",
       "      <th>alphafold_core_scores_proten_ptm_wt</th>\n",
       "      <th>alphafold_core_features_residue_experimentally_resolved_wt</th>\n",
       "      <th>alphafold_core_features_residue_predicted_lddt_wt</th>\n",
       "      <th>alphafold_core_features_residue_msa_first_row_wt</th>\n",
       "      <th>alphafold_core_features_residue_single_wt</th>\n",
       "      <th>alphafold_core_features_residue_structure_module_wt</th>\n",
       "      <th>...</th>\n",
       "      <th>alphafold_core_features_residue_experimentally_resolved_mut</th>\n",
       "      <th>alphafold_core_features_residue_predicted_lddt_mut</th>\n",
       "      <th>alphafold_core_features_residue_msa_first_row_mut</th>\n",
       "      <th>alphafold_core_features_residue_single_mut</th>\n",
       "      <th>alphafold_core_features_residue_structure_module_mut</th>\n",
       "      <th>alphafold_core_features_protein_experimentally_resolved_mut</th>\n",
       "      <th>alphafold_core_features_protein_predicted_lddt_mut</th>\n",
       "      <th>alphafold_core_features_protein_msa_first_row_mut</th>\n",
       "      <th>alphafold_core_features_protein_single_mut</th>\n",
       "      <th>alphafold_core_features_protein_structure_module_mut</th>\n",
       "    </tr>\n",
       "  </thead>\n",
       "  <tbody>\n",
       "    <tr>\n",
       "      <th>0</th>\n",
       "      <td>I73M</td>\n",
       "      <td>89.605976</td>\n",
       "      <td>84.518212</td>\n",
       "      <td>31.75</td>\n",
       "      <td>0.849999</td>\n",
       "      <td>[3.6290748, 3.7973425, 4.2734876, 3.559348, 4....</td>\n",
       "      <td>[-10.512778, -11.93231, -9.935118, -9.103899, ...</td>\n",
       "      <td>[-2.8592641, 3.4308205, 14.783053, 5.0693607, ...</td>\n",
       "      <td>[60.97126, 55.834232, 1.5938658, -7.575698, -1...</td>\n",
       "      <td>[0.0015794635, 0.011161171, -0.0056965444, 0.0...</td>\n",
       "      <td>...</td>\n",
       "      <td>[3.5453632, 3.7268736, 4.1792274, 3.458398, 4....</td>\n",
       "      <td>[-10.369872, -11.793799, -9.807745, -8.991145,...</td>\n",
       "      <td>[-1.1854149, 2.4412565, 13.099518, 5.5893917, ...</td>\n",
       "      <td>[54.19502, 53.576317, 6.718537, -12.898656, -1...</td>\n",
       "      <td>[0.0015215352, 0.010927603, -0.005702028, 0.00...</td>\n",
       "      <td>[2.784755, 2.9134758, 3.2904088, 2.779093, 3.3...</td>\n",
       "      <td>[-8.535637, -9.482369, -8.275576, -7.4080825, ...</td>\n",
       "      <td>[4.2533255, 4.472761, -0.6898077, 1.5236061, -...</td>\n",
       "      <td>[26.811329, 10.481789, 7.400012, 4.595044, 5.8...</td>\n",
       "      <td>[0.0011052352, 0.010742479, -0.005919944, 0.00...</td>\n",
       "    </tr>\n",
       "    <tr>\n",
       "      <th>1</th>\n",
       "      <td>Q79H</td>\n",
       "      <td>84.960966</td>\n",
       "      <td>84.518212</td>\n",
       "      <td>31.75</td>\n",
       "      <td>0.849999</td>\n",
       "      <td>[3.940667, 4.0633817, 4.4250245, 4.0075483, 4....</td>\n",
       "      <td>[-7.2024946, -8.241891, -7.25713, -6.562296, -...</td>\n",
       "      <td>[12.790734, 16.888803, -6.8924904, 4.88217, -2...</td>\n",
       "      <td>[56.02134, -35.143005, -67.70256, 20.18287, 19...</td>\n",
       "      <td>[0.0031776056, 0.010669984, -0.0059339087, 0.0...</td>\n",
       "      <td>...</td>\n",
       "      <td>[4.253464, 4.3940325, 4.7798467, 4.2907968, 4....</td>\n",
       "      <td>[-7.1870084, -8.175636, -7.200021, -6.506134, ...</td>\n",
       "      <td>[13.19207, 14.478604, -7.066455, 6.3435163, -2...</td>\n",
       "      <td>[51.011642, -34.14663, -64.46977, 16.284336, 6...</td>\n",
       "      <td>[0.0030293465, 0.010777913, -0.005934259, 0.00...</td>\n",
       "      <td>[2.7799199, 2.9081771, 3.2842107, 2.7743576, 3...</td>\n",
       "      <td>[-8.5375595, -9.483548, -8.2759495, -7.408301,...</td>\n",
       "      <td>[4.228886, 4.4589715, -0.700582, 1.5512381, -6...</td>\n",
       "      <td>[26.7827, 10.457484, 7.4125285, 4.6370673, 5.8...</td>\n",
       "      <td>[0.0011114243, 0.010763805, -0.005919809, 0.00...</td>\n",
       "    </tr>\n",
       "  </tbody>\n",
       "</table>\n",
       "<p>2 rows × 29 columns</p>\n",
       "</div>"
      ],
      "text/plain": [
       "    mut  alphafold_core_scores_residue_plddt_wt  \\\n",
       "0  I73M                               89.605976   \n",
       "1  Q79H                               84.960966   \n",
       "\n",
       "   alphafold_core_scores_protein_plddt_wt  \\\n",
       "0                               84.518212   \n",
       "1                               84.518212   \n",
       "\n",
       "   alphafold_core_scores_protein_max_predicted_aligned_error_wt  \\\n",
       "0                                              31.75              \n",
       "1                                              31.75              \n",
       "\n",
       "   alphafold_core_scores_proten_ptm_wt  \\\n",
       "0                             0.849999   \n",
       "1                             0.849999   \n",
       "\n",
       "  alphafold_core_features_residue_experimentally_resolved_wt  \\\n",
       "0  [3.6290748, 3.7973425, 4.2734876, 3.559348, 4....           \n",
       "1  [3.940667, 4.0633817, 4.4250245, 4.0075483, 4....           \n",
       "\n",
       "   alphafold_core_features_residue_predicted_lddt_wt  \\\n",
       "0  [-10.512778, -11.93231, -9.935118, -9.103899, ...   \n",
       "1  [-7.2024946, -8.241891, -7.25713, -6.562296, -...   \n",
       "\n",
       "    alphafold_core_features_residue_msa_first_row_wt  \\\n",
       "0  [-2.8592641, 3.4308205, 14.783053, 5.0693607, ...   \n",
       "1  [12.790734, 16.888803, -6.8924904, 4.88217, -2...   \n",
       "\n",
       "           alphafold_core_features_residue_single_wt  \\\n",
       "0  [60.97126, 55.834232, 1.5938658, -7.575698, -1...   \n",
       "1  [56.02134, -35.143005, -67.70256, 20.18287, 19...   \n",
       "\n",
       "  alphafold_core_features_residue_structure_module_wt  ...  \\\n",
       "0  [0.0015794635, 0.011161171, -0.0056965444, 0.0...   ...   \n",
       "1  [0.0031776056, 0.010669984, -0.0059339087, 0.0...   ...   \n",
       "\n",
       "  alphafold_core_features_residue_experimentally_resolved_mut  \\\n",
       "0  [3.5453632, 3.7268736, 4.1792274, 3.458398, 4....            \n",
       "1  [4.253464, 4.3940325, 4.7798467, 4.2907968, 4....            \n",
       "\n",
       "  alphafold_core_features_residue_predicted_lddt_mut  \\\n",
       "0  [-10.369872, -11.793799, -9.807745, -8.991145,...   \n",
       "1  [-7.1870084, -8.175636, -7.200021, -6.506134, ...   \n",
       "\n",
       "   alphafold_core_features_residue_msa_first_row_mut  \\\n",
       "0  [-1.1854149, 2.4412565, 13.099518, 5.5893917, ...   \n",
       "1  [13.19207, 14.478604, -7.066455, 6.3435163, -2...   \n",
       "\n",
       "          alphafold_core_features_residue_single_mut  \\\n",
       "0  [54.19502, 53.576317, 6.718537, -12.898656, -1...   \n",
       "1  [51.011642, -34.14663, -64.46977, 16.284336, 6...   \n",
       "\n",
       "  alphafold_core_features_residue_structure_module_mut  \\\n",
       "0  [0.0015215352, 0.010927603, -0.005702028, 0.00...     \n",
       "1  [0.0030293465, 0.010777913, -0.005934259, 0.00...     \n",
       "\n",
       "   alphafold_core_features_protein_experimentally_resolved_mut  \\\n",
       "0  [2.784755, 2.9134758, 3.2904088, 2.779093, 3.3...             \n",
       "1  [2.7799199, 2.9081771, 3.2842107, 2.7743576, 3...             \n",
       "\n",
       "   alphafold_core_features_protein_predicted_lddt_mut  \\\n",
       "0  [-8.535637, -9.482369, -8.275576, -7.4080825, ...    \n",
       "1  [-8.5375595, -9.483548, -8.2759495, -7.408301,...    \n",
       "\n",
       "   alphafold_core_features_protein_msa_first_row_mut  \\\n",
       "0  [4.2533255, 4.472761, -0.6898077, 1.5236061, -...   \n",
       "1  [4.228886, 4.4589715, -0.700582, 1.5512381, -6...   \n",
       "\n",
       "          alphafold_core_features_protein_single_mut  \\\n",
       "0  [26.811329, 10.481789, 7.400012, 4.595044, 5.8...   \n",
       "1  [26.7827, 10.457484, 7.4125285, 4.6370673, 5.8...   \n",
       "\n",
       "  alphafold_core_features_protein_structure_module_mut  \n",
       "0  [0.0011052352, 0.010742479, -0.005919944, 0.00...    \n",
       "1  [0.0011114243, 0.010763805, -0.005919809, 0.00...    \n",
       "\n",
       "[2 rows x 29 columns]"
      ]
     },
     "metadata": {},
     "output_type": "display_data"
    },
    {
     "name": "stdout",
     "output_type": "stream",
     "text": [
      "12\n"
     ]
    }
   ],
   "source": [
    "display(alphafold_results_df.head(2))\n",
    "print(len(alphafold_results_df))"
   ]
  },
  {
   "cell_type": "markdown",
   "id": "c0252f9a-da06-4a6b-88e1-2fc825a88bab",
   "metadata": {},
   "source": [
    "## Run ProteinSolver"
   ]
  },
  {
   "cell_type": "code",
   "execution_count": 26,
   "id": "1eb00290-9f16-4a22-aed4-97fb21106089",
   "metadata": {},
   "outputs": [],
   "source": [
    "def worker(mutation, data):\n",
    "    try:\n",
    "        results = ProteinSolver.analyze_mutation(f\"A_{mutation}\", data)\n",
    "    except Exception as error:\n",
    "        print(f\"{error!r}\")\n",
    "        return None\n",
    "    else:\n",
    "        results = {f\"proteinsolver_core_{key}\": value for key, value in results.items()}\n",
    "        return results"
   ]
  },
  {
   "cell_type": "code",
   "execution_count": 27,
   "id": "413df25d-e4e1-4ec6-906e-bc82554bb2c5",
   "metadata": {},
   "outputs": [],
   "source": [
    "proteinsolver_results_file = NOTEBOOK_DIR.joinpath(\"proteinsolver-results.parquet\")\n",
    "\n",
    "if proteinsolver_results_file.is_file():\n",
    "    proteinsolver_results_df = pq.read_table(proteinsolver_results_file).to_pandas()\n",
    "else:\n",
    "    from elaspic2.plugins.proteinsolver import ProteinSolver\n",
    "\n",
    "    ProteinSolver.load_model(device=device)\n",
    "    \n",
    "    data = ProteinSolver.build(structure_file, sequence, None, remove_hetatms=False)\n",
    "\n",
    "    result_list = []\n",
    "    for mut in tqdm(result_df[\"mut\"], leave=False):\n",
    "        result = worker(mut, data)\n",
    "        result_list.append({\"mut\": mut} | result)\n",
    "    proteinsolver_results_df = pd.DataFrame(result_list)\n",
    "\n",
    "    pq.write_table(\n",
    "        pa.Table.from_pandas(proteinsolver_results_df, preserve_index=False),\n",
    "        proteinsolver_results_file,\n",
    "    )"
   ]
  },
  {
   "cell_type": "code",
   "execution_count": 28,
   "id": "b4f88969-4665-4cb5-8274-9c95ffec50ec",
   "metadata": {},
   "outputs": [
    {
     "data": {
      "text/html": [
       "<div>\n",
       "<style scoped>\n",
       "    .dataframe tbody tr th:only-of-type {\n",
       "        vertical-align: middle;\n",
       "    }\n",
       "\n",
       "    .dataframe tbody tr th {\n",
       "        vertical-align: top;\n",
       "    }\n",
       "\n",
       "    .dataframe thead th {\n",
       "        text-align: right;\n",
       "    }\n",
       "</style>\n",
       "<table border=\"1\" class=\"dataframe\">\n",
       "  <thead>\n",
       "    <tr style=\"text-align: right;\">\n",
       "      <th></th>\n",
       "      <th>mut</th>\n",
       "      <th>proteinsolver_core_score_wt</th>\n",
       "      <th>proteinsolver_core_score_mut</th>\n",
       "      <th>proteinsolver_core_features_residue_wt</th>\n",
       "      <th>proteinsolver_core_features_protein_wt</th>\n",
       "      <th>proteinsolver_core_features_residue_mut</th>\n",
       "      <th>proteinsolver_core_features_protein_mut</th>\n",
       "    </tr>\n",
       "  </thead>\n",
       "  <tbody>\n",
       "    <tr>\n",
       "      <th>0</th>\n",
       "      <td>I73M</td>\n",
       "      <td>0.416913</td>\n",
       "      <td>0.011631</td>\n",
       "      <td>[-3.84128999710083, 0.8013101816177368, 0.0243...</td>\n",
       "      <td>[-1.3879121541976929, 0.6547006964683533, 0.12...</td>\n",
       "      <td>[-3.6069047451019287, 0.22248061001300812, -0....</td>\n",
       "      <td>[-1.3863307237625122, 0.647650420665741, 0.120...</td>\n",
       "    </tr>\n",
       "    <tr>\n",
       "      <th>1</th>\n",
       "      <td>Q79H</td>\n",
       "      <td>0.044277</td>\n",
       "      <td>0.028519</td>\n",
       "      <td>[-0.13290949165821075, 0.675199568271637, -0.7...</td>\n",
       "      <td>[-1.3879121541976929, 0.6547006964683533, 0.12...</td>\n",
       "      <td>[-4.47153377532959, 0.4991134703159332, -0.200...</td>\n",
       "      <td>[-1.3995500802993774, 0.6538957357406616, 0.12...</td>\n",
       "    </tr>\n",
       "  </tbody>\n",
       "</table>\n",
       "</div>"
      ],
      "text/plain": [
       "    mut  proteinsolver_core_score_wt  proteinsolver_core_score_mut  \\\n",
       "0  I73M                     0.416913                      0.011631   \n",
       "1  Q79H                     0.044277                      0.028519   \n",
       "\n",
       "              proteinsolver_core_features_residue_wt  \\\n",
       "0  [-3.84128999710083, 0.8013101816177368, 0.0243...   \n",
       "1  [-0.13290949165821075, 0.675199568271637, -0.7...   \n",
       "\n",
       "              proteinsolver_core_features_protein_wt  \\\n",
       "0  [-1.3879121541976929, 0.6547006964683533, 0.12...   \n",
       "1  [-1.3879121541976929, 0.6547006964683533, 0.12...   \n",
       "\n",
       "             proteinsolver_core_features_residue_mut  \\\n",
       "0  [-3.6069047451019287, 0.22248061001300812, -0....   \n",
       "1  [-4.47153377532959, 0.4991134703159332, -0.200...   \n",
       "\n",
       "             proteinsolver_core_features_protein_mut  \n",
       "0  [-1.3863307237625122, 0.647650420665741, 0.120...  \n",
       "1  [-1.3995500802993774, 0.6538957357406616, 0.12...  "
      ]
     },
     "metadata": {},
     "output_type": "display_data"
    },
    {
     "name": "stdout",
     "output_type": "stream",
     "text": [
      "12\n"
     ]
    }
   ],
   "source": [
    "display(proteinsolver_results_df.head(2))\n",
    "print(len(proteinsolver_results_df))"
   ]
  },
  {
   "cell_type": "markdown",
   "id": "33bf3d45-fe13-43b3-800c-d9c8c0a6c3f0",
   "metadata": {},
   "source": [
    "## Run ProtBert"
   ]
  },
  {
   "cell_type": "code",
   "execution_count": 29,
   "id": "a7ce8fce-b214-4700-ade8-0a04c1314c57",
   "metadata": {},
   "outputs": [],
   "source": [
    "def worker(mutation, data):\n",
    "    try:\n",
    "        results = ProtBert.analyze_mutation(f\"A_{mutation}\", data)\n",
    "    except Exception as error:\n",
    "        print(f\"{error!r}\")\n",
    "        return None\n",
    "    else:\n",
    "        results = {f\"protbert_core_{key}\": value for key, value in results.items()}\n",
    "        return results"
   ]
  },
  {
   "cell_type": "code",
   "execution_count": 30,
   "id": "bb256a3f-a3ed-40bf-9c3e-f17c3cb5cfa2",
   "metadata": {},
   "outputs": [],
   "source": [
    "protbert_results_file = NOTEBOOK_DIR.joinpath(\"protbert-results.parquet\")\n",
    "\n",
    "if protbert_results_file.is_file():\n",
    "    protbert_results_df = pq.read_table(protbert_results_file).to_pandas()\n",
    "else:\n",
    "    from elaspic2.plugins.protbert import ProtBert\n",
    "\n",
    "    ProtBert.load_model(device=device)\n",
    "    data = ProtBert.build(sequence, ligand_sequence=None)\n",
    "\n",
    "    result_list = []\n",
    "    for mut in tqdm(result_df[\"mut\"], leave=False):\n",
    "        result = worker(mut, data)\n",
    "        result_list.append({\"mut\": mut} | result)\n",
    "    protbert_results_df = pd.DataFrame(result_list)\n",
    "\n",
    "    pq.write_table(\n",
    "        pa.Table.from_pandas(protbert_results_df, preserve_index=False), protbert_results_file\n",
    "    )"
   ]
  },
  {
   "cell_type": "code",
   "execution_count": 31,
   "id": "0c8f5d8d-8cd3-40f2-8b6b-b312114db86e",
   "metadata": {},
   "outputs": [
    {
     "data": {
      "text/html": [
       "<div>\n",
       "<style scoped>\n",
       "    .dataframe tbody tr th:only-of-type {\n",
       "        vertical-align: middle;\n",
       "    }\n",
       "\n",
       "    .dataframe tbody tr th {\n",
       "        vertical-align: top;\n",
       "    }\n",
       "\n",
       "    .dataframe thead th {\n",
       "        text-align: right;\n",
       "    }\n",
       "</style>\n",
       "<table border=\"1\" class=\"dataframe\">\n",
       "  <thead>\n",
       "    <tr style=\"text-align: right;\">\n",
       "      <th></th>\n",
       "      <th>mut</th>\n",
       "      <th>protbert_core_score_wt</th>\n",
       "      <th>protbert_core_score_mut</th>\n",
       "      <th>protbert_core_features_residue_wt</th>\n",
       "      <th>protbert_core_features_protein_wt</th>\n",
       "      <th>protbert_core_features_residue_mut</th>\n",
       "      <th>protbert_core_features_protein_mut</th>\n",
       "    </tr>\n",
       "  </thead>\n",
       "  <tbody>\n",
       "    <tr>\n",
       "      <th>0</th>\n",
       "      <td>I73M</td>\n",
       "      <td>0.978126</td>\n",
       "      <td>0.000716</td>\n",
       "      <td>[0.13129837810993195, -0.03898658975958824, -0...</td>\n",
       "      <td>[0.07031252980232239, -0.013878961093723774, -...</td>\n",
       "      <td>[0.10953198373317719, -0.06380636990070343, -0...</td>\n",
       "      <td>[0.0704592913389206, -0.012903289869427681, -0...</td>\n",
       "    </tr>\n",
       "    <tr>\n",
       "      <th>1</th>\n",
       "      <td>Q79H</td>\n",
       "      <td>0.991156</td>\n",
       "      <td>0.001122</td>\n",
       "      <td>[0.1967078298330307, 0.04909868910908699, -0.0...</td>\n",
       "      <td>[0.07031252980232239, -0.013878961093723774, -...</td>\n",
       "      <td>[0.19389745593070984, 0.05682474002242088, -0....</td>\n",
       "      <td>[0.06953047960996628, -0.013008753769099712, -...</td>\n",
       "    </tr>\n",
       "  </tbody>\n",
       "</table>\n",
       "</div>"
      ],
      "text/plain": [
       "    mut  protbert_core_score_wt  protbert_core_score_mut  \\\n",
       "0  I73M                0.978126                 0.000716   \n",
       "1  Q79H                0.991156                 0.001122   \n",
       "\n",
       "                   protbert_core_features_residue_wt  \\\n",
       "0  [0.13129837810993195, -0.03898658975958824, -0...   \n",
       "1  [0.1967078298330307, 0.04909868910908699, -0.0...   \n",
       "\n",
       "                   protbert_core_features_protein_wt  \\\n",
       "0  [0.07031252980232239, -0.013878961093723774, -...   \n",
       "1  [0.07031252980232239, -0.013878961093723774, -...   \n",
       "\n",
       "                  protbert_core_features_residue_mut  \\\n",
       "0  [0.10953198373317719, -0.06380636990070343, -0...   \n",
       "1  [0.19389745593070984, 0.05682474002242088, -0....   \n",
       "\n",
       "                  protbert_core_features_protein_mut  \n",
       "0  [0.0704592913389206, -0.012903289869427681, -0...  \n",
       "1  [0.06953047960996628, -0.013008753769099712, -...  "
      ]
     },
     "metadata": {},
     "output_type": "display_data"
    },
    {
     "name": "stdout",
     "output_type": "stream",
     "text": [
      "12\n"
     ]
    }
   ],
   "source": [
    "display(protbert_results_df.head(2))\n",
    "print(len(protbert_results_df))"
   ]
  },
  {
   "cell_type": "markdown",
   "id": "457a247d-8858-4353-8519-f462b09e0c80",
   "metadata": {},
   "source": [
    "## MSA"
   ]
  },
  {
   "cell_type": "code",
   "execution_count": null,
   "id": "8ca4f0d5-527a-4a79-b7f4-6155822c997d",
   "metadata": {},
   "outputs": [],
   "source": []
  },
  {
   "cell_type": "code",
   "execution_count": null,
   "id": "f24f0075-0238-4158-b443-a90870d19d7b",
   "metadata": {},
   "outputs": [],
   "source": []
  },
  {
   "cell_type": "markdown",
   "id": "4a95d26d-502e-4be5-ac68-475b45a83bc6",
   "metadata": {
    "tags": []
   },
   "source": [
    "## Run `ELASPIC2`"
   ]
  },
  {
   "cell_type": "markdown",
   "id": "9ecb0d64-4831-4e0c-bc21-03e6d18445e2",
   "metadata": {
    "id": "4jTx3zGeHD2e"
   },
   "source": [
    "### Initialize the `ELASPIC2` model\n",
    "\n"
   ]
  },
  {
   "cell_type": "code",
   "execution_count": 32,
   "id": "c1ff7c0c-783e-49c2-88af-069ff5292cae",
   "metadata": {},
   "outputs": [
    {
     "name": "stderr",
     "output_type": "stream",
     "text": [
      "/opt/conda/lib/python3.9/site-packages/sklearn/base.py:310: UserWarning: Trying to unpickle estimator PCA from version 0.23.2 when using version 0.24.2. This might lead to breaking code or invalid results. Use at your own risk.\n",
      "  warnings.warn(\n",
      "Some weights of the model checkpoint at /scratch/strokach/workspace/elaspic2/src/elaspic2/plugins/protbert/data/prot_bert_bfd were not used when initializing BertModel: ['cls.predictions.decoder.bias', 'cls.predictions.transform.LayerNorm.weight', 'cls.predictions.transform.dense.bias', 'cls.predictions.transform.LayerNorm.bias', 'cls.seq_relationship.bias', 'cls.predictions.bias', 'cls.predictions.decoder.weight', 'cls.seq_relationship.weight', 'cls.predictions.transform.dense.weight']\n",
      "- This IS expected if you are initializing BertModel from the checkpoint of a model trained on another task or with another architecture (e.g. initializing a BertForSequenceClassification model from a BertForPreTraining model).\n",
      "- This IS NOT expected if you are initializing BertModel from the checkpoint of a model that you expect to be exactly identical (initializing a BertForSequenceClassification model from a BertForSequenceClassification model).\n"
     ]
    }
   ],
   "source": [
    "model = el2.ELASPIC2(device=device)"
   ]
  },
  {
   "cell_type": "markdown",
   "id": "8c55b8ef-7c8c-4380-8744-deac33fe17ef",
   "metadata": {
    "id": "i8OkFJbj8sYO"
   },
   "source": [
    "### Make predictions"
   ]
  },
  {
   "cell_type": "code",
   "execution_count": 33,
   "id": "99d235c7-c36f-4d84-aec3-690b7be57aff",
   "metadata": {
    "colab": {
     "base_uri": "https://localhost:8080/"
    },
    "id": "ac6mTuNYHD2i",
    "outputId": "b2427457-6fb6-4e2c-dac0-d037fafc8282"
   },
   "outputs": [
    {
     "data": {
      "text/plain": [
       "ELASPIC2Data(is_interface=False, protbert_data=ProtBertData(sequence='MAAAAAQGGGGGEPRRTEGVGPGVPGEVEMVKGQPFDVGPRYTQLQYIGEGAYGMVSSAYDHVRKTRVAIKKISPFEHQTYCQRTLREIQILLRFRHENVIGIRDILRASTLEAMRDVYIVQDLMETDLYKLLKSQQLSNDHICYFLYQILRGLKYIHSANVLHRDLKPSNLLINTTCDLKICDFGLARIADPEHDHTGFLTEYVATRWYRAPEIMLNSKGYTKSIDIWSVGCILAEMLSNRPIFPGKHYLDQLNHILGILGSPSQEDLNCIINMKARNYLQSLPSKTKVAWAKLFPKSDSKALDLLDRMLTFNPNKRITVEEALAHPYLEQYYDPTDEPVAEEPFTFAMELDDLPKERLKELIFQETARFQPGVLEAP'), proteinsolver_data=Data(edge_attr=[19140, 2], edge_index=[2, 19140], x=[379]))"
      ]
     },
     "execution_count": 33,
     "metadata": {},
     "output_type": "execute_result"
    }
   ],
   "source": [
    "protein_features = model.build(\n",
    "    structure_file=structure_file,\n",
    "    protein_sequence=sequence,\n",
    "    ligand_sequence=None,\n",
    "    remove_hetatms=True,\n",
    ")\n",
    "\n",
    "protein_features"
   ]
  },
  {
   "cell_type": "code",
   "execution_count": 34,
   "id": "c2a560a2-0682-404a-a5d2-cd6989f4466c",
   "metadata": {},
   "outputs": [
    {
     "data": {
      "application/vnd.jupyter.widget-view+json": {
       "model_id": "26fa6b87c99648599fc9b5ca3996561e",
       "version_major": 2,
       "version_minor": 0
      },
      "text/plain": [
       "HBox(children=(HTML(value=''), FloatProgress(value=0.0, max=12.0), HTML(value='')))"
      ]
     },
     "metadata": {},
     "output_type": "display_data"
    },
    {
     "name": "stdout",
     "output_type": "stream",
     "text": [
      "\n"
     ]
    }
   ],
   "source": [
    "mutation_features = list(\n",
    "    tqdm(\n",
    "        (model.analyze_mutation(mut, protein_features) for mut in result_df[\"mut\"]),\n",
    "        total=len(result_df),\n",
    "    )\n",
    ")"
   ]
  },
  {
   "cell_type": "code",
   "execution_count": 35,
   "id": "9d06a7b5-3fa2-4ab4-bdf1-8746673477ce",
   "metadata": {
    "id": "XJPiK7eVRBqi"
   },
   "outputs": [
    {
     "ename": "KeyError",
     "evalue": "'pca-proteinsolver_core_features_protein_wt-core'",
     "output_type": "error",
     "traceback": [
      "\u001b[0;31m---------------------------------------------------------------------------\u001b[0m",
      "\u001b[0;31mKeyError\u001b[0m                                  Traceback (most recent call last)",
      "\u001b[0;32m/tmp/ipykernel_27237/2820847045.py\u001b[0m in \u001b[0;36m<module>\u001b[0;34m\u001b[0m\n\u001b[1;32m      6\u001b[0m     \u001b[0mf\u001b[0m\u001b[0;34m[\u001b[0m\u001b[0;34m\"proteinsolver_core_score_wt\"\u001b[0m\u001b[0;34m]\u001b[0m \u001b[0;34m-\u001b[0m \u001b[0mf\u001b[0m\u001b[0;34m[\u001b[0m\u001b[0;34m\"proteinsolver_core_score_mut\"\u001b[0m\u001b[0;34m]\u001b[0m \u001b[0;32mfor\u001b[0m \u001b[0mf\u001b[0m \u001b[0;32min\u001b[0m \u001b[0mmutation_features\u001b[0m\u001b[0;34m\u001b[0m\u001b[0;34m\u001b[0m\u001b[0m\n\u001b[1;32m      7\u001b[0m ]\n\u001b[0;32m----> 8\u001b[0;31m \u001b[0mresult_df\u001b[0m\u001b[0;34m[\u001b[0m\u001b[0;34m\"el2_score\"\u001b[0m\u001b[0;34m]\u001b[0m \u001b[0;34m=\u001b[0m \u001b[0mmodel\u001b[0m\u001b[0;34m.\u001b[0m\u001b[0mpredict_mutation_effect\u001b[0m\u001b[0;34m(\u001b[0m\u001b[0mmutation_features\u001b[0m\u001b[0;34m)\u001b[0m\u001b[0;34m.\u001b[0m\u001b[0mtolist\u001b[0m\u001b[0;34m(\u001b[0m\u001b[0;34m)\u001b[0m\u001b[0;34m\u001b[0m\u001b[0;34m\u001b[0m\u001b[0m\n\u001b[0m",
      "\u001b[0;32m/scratch/strokach/workspace/elaspic2/src/elaspic2/elaspic2.py\u001b[0m in \u001b[0;36mpredict_mutation_effect\u001b[0;34m(self, mutation_stability_features, mutation_affinity_features)\u001b[0m\n\u001b[1;32m    150\u001b[0m         \u001b[0;32mfor\u001b[0m \u001b[0msplit_idx\u001b[0m\u001b[0;34m,\u001b[0m \u001b[0mlgb_model\u001b[0m \u001b[0;32min\u001b[0m \u001b[0menumerate\u001b[0m\u001b[0;34m(\u001b[0m\u001b[0mlgb_models\u001b[0m\u001b[0;34m)\u001b[0m\u001b[0;34m:\u001b[0m\u001b[0;34m\u001b[0m\u001b[0;34m\u001b[0m\u001b[0m\n\u001b[1;32m    151\u001b[0m             \u001b[0;32mfor\u001b[0m \u001b[0mcolumn\u001b[0m \u001b[0;32min\u001b[0m \u001b[0mpca_columns\u001b[0m\u001b[0;34m:\u001b[0m\u001b[0;34m\u001b[0m\u001b[0;34m\u001b[0m\u001b[0m\n\u001b[0;32m--> 152\u001b[0;31m                 \u001b[0mpca_model\u001b[0m \u001b[0;34m=\u001b[0m \u001b[0mpca_models\u001b[0m\u001b[0;34m[\u001b[0m\u001b[0;34mf\"pca-{column}-{coi.value}\"\u001b[0m\u001b[0;34m]\u001b[0m\u001b[0;34m\u001b[0m\u001b[0;34m\u001b[0m\u001b[0m\n\u001b[0m\u001b[1;32m    153\u001b[0m                 \u001b[0mvalues\u001b[0m \u001b[0;34m=\u001b[0m \u001b[0mnp\u001b[0m\u001b[0;34m.\u001b[0m\u001b[0mvstack\u001b[0m\u001b[0;34m(\u001b[0m\u001b[0mmutation_features_df\u001b[0m\u001b[0;34m[\u001b[0m\u001b[0mcolumn\u001b[0m\u001b[0;34m]\u001b[0m\u001b[0;34m.\u001b[0m\u001b[0mvalues\u001b[0m\u001b[0;34m)\u001b[0m\u001b[0;34m\u001b[0m\u001b[0;34m\u001b[0m\u001b[0m\n\u001b[1;32m    154\u001b[0m                 \u001b[0mvalues_out\u001b[0m \u001b[0;34m=\u001b[0m \u001b[0mpca_model\u001b[0m\u001b[0;34m.\u001b[0m\u001b[0mtransform\u001b[0m\u001b[0;34m(\u001b[0m\u001b[0mvalues\u001b[0m\u001b[0;34m)\u001b[0m\u001b[0;34m\u001b[0m\u001b[0;34m\u001b[0m\u001b[0m\n",
      "\u001b[0;31mKeyError\u001b[0m: 'pca-proteinsolver_core_features_protein_wt-core'"
     ]
    }
   ],
   "source": [
    "# In all cases, higher scores means less stable (same as ΔΔG)\n",
    "result_df[\"protbert_score\"] = [\n",
    "    f[\"protbert_core_score_wt\"] - f[\"protbert_core_score_mut\"] for f in mutation_features\n",
    "]\n",
    "result_df[\"proteinsolver_score\"] = [\n",
    "    f[\"proteinsolver_core_score_wt\"] - f[\"proteinsolver_core_score_mut\"] for f in mutation_features\n",
    "]\n",
    "result_df[\"el2_score\"] = model.predict_mutation_effect(mutation_features).tolist()"
   ]
  },
  {
   "cell_type": "code",
   "execution_count": null,
   "id": "8d3a9fe8-72d7-49bd-8213-2dcde22769a3",
   "metadata": {},
   "outputs": [],
   "source": [
    "# In all cases, higher scores means less stable (same as ΔΔG)\n",
    "result_df[\"protbert_ratio\"] = [\n",
    "    f[\"protbert_core_score_mut\"] / f[\"protbert_core_score_wt\"] for f in mutation_features\n",
    "]\n",
    "result_df[\"proteinsolver_ratio\"] = [\n",
    "    f[\"proteinsolver_core_score_mut\"] / f[\"proteinsolver_core_score_wt\"] for f in mutation_features\n",
    "]\n",
    "result_df[\"el2_ratio\"] = (0.5 / model.predict_mutation_effect(mutation_features)).tolist()"
   ]
  },
  {
   "cell_type": "markdown",
   "id": "20a1e8cd-3bd8-4561-bc13-c6de658ef9b1",
   "metadata": {},
   "source": [
    "## Combine"
   ]
  },
  {
   "cell_type": "code",
   "execution_count": null,
   "id": "b8fd572d-5777-43fd-bbc2-6317ac9b64c3",
   "metadata": {},
   "outputs": [],
   "source": [
    "rosetta_results_df[\"rosetta_dg_mut\"] = (\n",
    "    rosetta_results_df[\"rosetta_dg_change\"] + rosetta_results_df[\"rosetta_dg_wt\"]\n",
    ")\n",
    "assert np.allclose(\n",
    "    rosetta_results_df[\"rosetta_dg_change\"],\n",
    "    rosetta_results_df[\"rosetta_dg_mut\"] - rosetta_results_df[\"rosetta_dg_wt\"],\n",
    ")\n",
    "\n",
    "rosetta_results_df[\"rosetta_dg_score\"] = rosetta_results_df[\"rosetta_dg_change\"]\n",
    "rosetta_results_df[\"rosetta_dg_ratio\"] = (\n",
    "    rosetta_results_df[\"rosetta_dg_wt\"] / rosetta_results_df[\"rosetta_dg_mut\"]\n",
    ")"
   ]
  },
  {
   "cell_type": "code",
   "execution_count": null,
   "id": "4e14ed59-38db-41eb-9d2c-8c3064dfb5cc",
   "metadata": {},
   "outputs": [],
   "source": [
    "try:\n",
    "    del result_df[\"rosetta_dg_score\"], result_df[\"rosetta_dg_ratio\"]\n",
    "except KeyError:\n",
    "    pass\n",
    "\n",
    "result_df = result_df.merge(\n",
    "    rosetta_results_df[[\"mut\", \"rosetta_dg_score\", \"rosetta_dg_ratio\"]], on=\"mut\", how=\"left\"\n",
    ")"
   ]
  },
  {
   "cell_type": "markdown",
   "id": "35868ec3-f127-49fa-b61f-52146fb49cd2",
   "metadata": {
    "tags": []
   },
   "source": [
    "## Visualize"
   ]
  },
  {
   "cell_type": "code",
   "execution_count": null,
   "id": "99cb8cfb-a286-4ccb-af6b-c8d3aff59b62",
   "metadata": {},
   "outputs": [],
   "source": [
    "sns.set(style=\"ticks\", color_codes=True)\n",
    "g = sns.pairplot(\n",
    "    result_df[[\"protbert_score\", \"proteinsolver_score\", \"el2_score\", \"rosetta_dg_score\"]]\n",
    ")"
   ]
  },
  {
   "cell_type": "code",
   "execution_count": null,
   "id": "f0805f67-4a49-4e5a-9405-aa9baeca80cb",
   "metadata": {},
   "outputs": [],
   "source": [
    "sns.set(style=\"ticks\", color_codes=True)\n",
    "g = sns.pairplot(\n",
    "    result_df[[\"protbert_ratio\", \"proteinsolver_ratio\", \"el2_ratio\", \"rosetta_dg_ratio\"]]\n",
    ")"
   ]
  },
  {
   "cell_type": "markdown",
   "id": "24e675b6-2ca6-4efc-95de-f7bc026e5cf5",
   "metadata": {},
   "source": [
    "## Write results"
   ]
  },
  {
   "cell_type": "code",
   "execution_count": null,
   "id": "8e08a9b8-5225-41fb-81fa-cf9548e9d79c",
   "metadata": {},
   "outputs": [],
   "source": [
    "output_dir = NOTEBOOK_DIR.joinpath(\"submission\")\n",
    "output_dir.mkdir(exist_ok=True)\n",
    "\n",
    "output_dir"
   ]
  },
  {
   "cell_type": "code",
   "execution_count": null,
   "id": "e49a4854-44a7-4d6e-909d-e07a4af0d947",
   "metadata": {},
   "outputs": [],
   "source": [
    "%%file {output_dir}/strokach_desc.md\n",
    "# Submission for CAGI6—MAPK3 challenge\n",
    "\n",
    "## Overview\n",
    "\n",
    "- `strokach_modelnumber_1.tsv` → Predictions made using ELASPIC2 [1].\n",
    "- `strokach_modelnumber_2.tsv` → Predictions made using ProteinSolver [2].\n",
    "- `strokach_modelnumber_3.tsv` → Predictions made using ProtBert [3].\n",
    "- `strokach_modelnumber_4.tsv` → Predictions made using Rosetta's cartesian_ddg protocol.\n",
    "\n",
    "## References\n",
    "\n",
    "- [1] Strokach, A., Lu, T.Y., Kim, P.M., 2021. ELASPIC2 (EL2): Combining Contextualized Language Models and Graph Neural Networks to Predict Effects of Mutations. Journal of Molecular Biology, Computation Resources for Molecular Biology 433, 166810. https://doi.org/10.1016/j.jmb.2021.166810\n",
    "- [2] Strokach, A., Becerra, D., Corbi-Verge, C., Perez-Riba, A., Kim, P.M., 2020. Fast and Flexible Protein Design Using Deep Graph Neural Networks. Cell Systems. https://doi.org/10.1016/j.cels.2020.08.016\n",
    "- [3] Elnaggar, A., Heinzinger, M., Dallago, C., Rehawi, G., Wang, Y., Jones, L., Gibbs, T., Feher, T., Angerer, C., Steinegger, M., Bhowmik, D., Rost, B., 2020. ProtTrans: Towards Cracking the Language of Life’s Code Through Self-Supervised Deep Learning and High Performance Computing. bioRxiv 2020.07.12.199554. https://doi.org/10.1101/2020.07.12.199554"
   ]
  },
  {
   "cell_type": "code",
   "execution_count": null,
   "id": "9390ebbf-08e3-4c02-8582-a2b11becef18",
   "metadata": {},
   "outputs": [],
   "source": [
    "result_dfs = {}\n",
    "for i, metric in enumerate([\"el2\", \"proteinsolver\", \"protbert\", \"rosetta_dg\"]):\n",
    "    result_dfs[metric] = result_df.copy()\n",
    "    result_dfs[metric][\"DDG-NotPO4\"] = -result_dfs[metric][f\"{metric}_score\"].values\n",
    "    result_dfs[metric][\"Standard-Deviation-DDG-NotPO4\"] = 1.0\n",
    "    result_dfs[metric][\"DDG-PO4\"] = -result_dfs[metric][f\"{metric}_score\"].values\n",
    "    result_dfs[metric][\" Standard-Deviation-DDG-PO4\"] = 1.0\n",
    "    result_dfs[metric][\"Ratio-kcat/Km\"] = result_dfs[metric][f\"{metric}_ratio\"].values\n",
    "    result_dfs[metric][\"Standard-Deviation-Ratio-kcat/Km\"] = 1.0\n",
    "    result_dfs[metric][\"Comment\"] = \"*\"\n",
    "\n",
    "    print(metric)\n",
    "    display(result_dfs[metric].head())\n",
    "\n",
    "    output_file = output_dir.joinpath(f\"strokach_modelnumber_{i + 1}.tsv\")\n",
    "    result_dfs[metric][result_template_df.columns].to_csv(output_file, sep=\"\\t\", index=False)\n",
    "    !python {NOTEBOOK_DIR}/validation.py {output_file}"
   ]
  },
  {
   "cell_type": "code",
   "execution_count": null,
   "id": "344dbba4-818c-46cc-ba2f-e59dcbfde85e",
   "metadata": {},
   "outputs": [],
   "source": []
  }
 ],
 "metadata": {
  "kernelspec": {
   "display_name": "Python 3 (ipykernel)",
   "language": "python",
   "name": "python3"
  },
  "language_info": {
   "codemirror_mode": {
    "name": "ipython",
    "version": 3
   },
   "file_extension": ".py",
   "mimetype": "text/x-python",
   "name": "python",
   "nbconvert_exporter": "python",
   "pygments_lexer": "ipython3",
   "version": "3.9.6"
  }
 },
 "nbformat": 4,
 "nbformat_minor": 5
}
