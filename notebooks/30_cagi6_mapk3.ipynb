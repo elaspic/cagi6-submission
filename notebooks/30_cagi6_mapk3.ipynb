{
 "cells": [
  {
   "cell_type": "markdown",
   "id": "26c81e96-6b41-41fa-80a6-6360c482eb58",
   "metadata": {},
   "source": [
    "## Summary\n",
    "\n",
    "---"
   ]
  },
  {
   "cell_type": "markdown",
   "id": "ec276dec-6afa-4b57-bbfc-a11e04a8767e",
   "metadata": {},
   "source": [
    "## Imports"
   ]
  },
  {
   "cell_type": "code",
   "execution_count": 1,
   "id": "539f4edf-ca04-4bef-b5c9-a6d402f7570b",
   "metadata": {},
   "outputs": [
    {
     "name": "stderr",
     "output_type": "stream",
     "text": [
      "Warning: importing 'simtk.openmm' is deprecated.  Import 'openmm' instead.\n"
     ]
    }
   ],
   "source": [
    "import concurrent.futures\n",
    "import contextlib\n",
    "import itertools\n",
    "import os\n",
    "import tempfile\n",
    "import urllib.request\n",
    "from datetime import datetime\n",
    "from pathlib import Path\n",
    "\n",
    "import dotenv\n",
    "import elaspic2 as el2\n",
    "import matplotlib.pyplot as plt\n",
    "import numpy as np\n",
    "import pandas as pd\n",
    "import pyarrow as pa\n",
    "import pyarrow.parquet as pq\n",
    "import seaborn as sns\n",
    "import synapseclient\n",
    "import synapseutils\n",
    "import torch\n",
    "from elaspic2.plugins.rosetta_ddg import RosettaDDG\n",
    "from kmbio import PDB\n",
    "from kmtools import structure_tools\n",
    "from tqdm.auto import tqdm"
   ]
  },
  {
   "cell_type": "markdown",
   "id": "5be0ca05-c038-414f-ba84-b2ae8013088b",
   "metadata": {},
   "source": [
    "## Parameters"
   ]
  },
  {
   "cell_type": "code",
   "execution_count": 2,
   "id": "10e1faee-9f6a-40d8-8819-272b1c9837bb",
   "metadata": {},
   "outputs": [
    {
     "data": {
      "text/plain": [
       "PosixPath('/home/kimlab5/strokach/workspace/elaspic/elaspic2-cagi6/notebooks/30_cagi6_mapk3')"
      ]
     },
     "execution_count": 2,
     "metadata": {},
     "output_type": "execute_result"
    }
   ],
   "source": [
    "NOTEBOOK_DIR = Path(\"30_cagi6_mapk3\").resolve()\n",
    "NOTEBOOK_DIR.mkdir(exist_ok=True)\n",
    "\n",
    "NOTEBOOK_DIR"
   ]
  },
  {
   "cell_type": "code",
   "execution_count": 3,
   "id": "157bc64f-7d78-4ca1-a4c0-0f2e81a4e9cb",
   "metadata": {},
   "outputs": [
    {
     "data": {
      "text/plain": [
       "'P27361'"
      ]
     },
     "execution_count": 3,
     "metadata": {},
     "output_type": "execute_result"
    }
   ],
   "source": [
    "UNIPROT_ID = \"P27361\"\n",
    "\n",
    "UNIPROT_ID"
   ]
  },
  {
   "cell_type": "code",
   "execution_count": 4,
   "id": "02a4b6a8-f628-47cc-a197-21f3e7c2c49e",
   "metadata": {
    "colab": {
     "base_uri": "https://localhost:8080/"
    },
    "id": "HCyTzII-HD1t",
    "outputId": "92f63199-1727-48d3-cb4b-6ff798fa75b6"
   },
   "outputs": [
    {
     "data": {
      "text/plain": [
       "device(type='cpu')"
      ]
     },
     "execution_count": 4,
     "metadata": {},
     "output_type": "execute_result"
    }
   ],
   "source": [
    "device = torch.device(\"cuda\" if torch.cuda.is_available() else \"cpu\")\n",
    "\n",
    "device"
   ]
  },
  {
   "cell_type": "code",
   "execution_count": 5,
   "id": "c3061441-d23b-4fc1-9324-be5a432b6b83",
   "metadata": {
    "colab": {
     "base_uri": "https://localhost:8080/",
     "height": 35
    },
    "id": "i3LyUBcjSUzb",
    "outputId": "054b8acc-0717-48cf-83d9-ca0b886f7b10"
   },
   "outputs": [
    {
     "data": {
      "text/plain": [
       "'2021-09-13T18'"
      ]
     },
     "execution_count": 5,
     "metadata": {},
     "output_type": "execute_result"
    }
   ],
   "source": [
    "version = datetime.now().isoformat(timespec=\"hours\")\n",
    "\n",
    "version"
   ]
  },
  {
   "cell_type": "markdown",
   "id": "3b502e4b-10df-4c08-a809-57f8b44132e9",
   "metadata": {},
   "source": [
    "## Download data"
   ]
  },
  {
   "cell_type": "code",
   "execution_count": 6,
   "id": "d548c34d-b2c1-4a02-8489-11bf03f6915f",
   "metadata": {},
   "outputs": [],
   "source": [
    "def download(url, filename):\n",
    "    urllib.request.urlretrieve(url, filename)"
   ]
  },
  {
   "cell_type": "code",
   "execution_count": 7,
   "id": "8a3c5586-fa78-4e5f-8dda-68c7fe324a70",
   "metadata": {},
   "outputs": [],
   "source": [
    "def load_sequence(sequence_file):\n",
    "    with sequence_file.open(\"rt\") as fin:\n",
    "        data = fin.read()\n",
    "    chunks = []\n",
    "    for line in data.split(\"\\n\"):\n",
    "        if line.startswith(\">\"):\n",
    "            continue\n",
    "        chunks.append(line.strip())\n",
    "    return \"\".join(chunks)"
   ]
  },
  {
   "cell_type": "code",
   "execution_count": 8,
   "id": "d08190c2-c438-4513-9804-ea5fee34b305",
   "metadata": {},
   "outputs": [],
   "source": [
    "if not NOTEBOOK_DIR.joinpath(\"validation.py\").is_file():\n",
    "    dotenv.load_dotenv(\"../.env\")\n",
    "    syn = synapseclient.Synapse()\n",
    "    syn.login(os.environ[\"SYNAPSE_USERNAME\"], os.environ[\"SYNAPSE_PASSWORD\"])\n",
    "    _ = synapseutils.syncFromSynapse(syn, \"syn26019572\", path=NOTEBOOK_DIR)"
   ]
  },
  {
   "cell_type": "code",
   "execution_count": 9,
   "id": "10c9dc73-5ff4-4641-acf4-1af79c25c362",
   "metadata": {},
   "outputs": [],
   "source": [
    "sequence_file = NOTEBOOK_DIR.joinpath(f\"{UNIPROT_ID}.fasta\")\n",
    "\n",
    "if not sequence_file.is_file():\n",
    "    download(f\"https://www.uniprot.org/uniprot/{UNIPROT_ID}.fasta\", sequence_file)\n",
    "\n",
    "sequence = load_sequence(sequence_file)"
   ]
  },
  {
   "cell_type": "code",
   "execution_count": 10,
   "id": "3a89b953-f177-44f8-940d-9c954102b693",
   "metadata": {},
   "outputs": [],
   "source": [
    "structure_file = NOTEBOOK_DIR.joinpath(f\"{UNIPROT_ID}.pdb\")\n",
    "\n",
    "if not structure_file.is_file():\n",
    "    download(f\"https://alphafold.ebi.ac.uk/files/AF-{UNIPROT_ID}-F1-model_v1.pdb\", structure_file)\n",
    "\n",
    "with structure_file.open(\"r\") as fin:\n",
    "    structure_blob = fin.read()"
   ]
  },
  {
   "cell_type": "code",
   "execution_count": 11,
   "id": "1ede17b5-ff43-480e-8f1a-3a85bb2494a3",
   "metadata": {},
   "outputs": [],
   "source": [
    "alignment_file = NOTEBOOK_DIR.joinpath(f\"{UNIPROT_ID}.a3m.gz\")\n",
    "\n",
    "if not alignment_file.is_file():\n",
    "    from elaspic2.plugins.alphafold import mmseqs2\n",
    "\n",
    "    dotenv.load_dotenv(\"../.env\")\n",
    "    with mmseqs2.api_gateway(mmseqs2.MMSEQS2_HOST_URL) as gateway:\n",
    "        alignment = mmseqs2.run_mmseqs2(sequence, gateway=gateway)\n",
    "        assert alignment[1] == f\"{sequence}\\n\"\n",
    "        alignment_df = pd.DataFrame({\"alignment\": alignment})\n",
    "        pq.write_table(pa.Table.from_pandas(alignment_df, preserve_index=False), alignment_file)\n",
    "\n",
    "alignment = pq.read_table(alignment_file).to_pandas()[\"alignment\"].values.tolist()"
   ]
  },
  {
   "cell_type": "markdown",
   "id": "81b414a9-cd98-4c0e-992d-fa7c99a12cb2",
   "metadata": {},
   "source": [
    "## Load data"
   ]
  },
  {
   "cell_type": "code",
   "execution_count": 12,
   "id": "d11f7a93-f88f-4c54-b9cb-53a9a3ee5c22",
   "metadata": {},
   "outputs": [],
   "source": [
    "def mutation_matches_sequence(mutation, sequence):\n",
    "    wt, pos, mut = mutation[0], mutation[1:-1], mutation[-1]\n",
    "    pos = int(pos)\n",
    "    return sequence[pos - 1] == wt"
   ]
  },
  {
   "cell_type": "code",
   "execution_count": 13,
   "id": "956ba4c3-2b82-4a93-981b-ddd67434deda",
   "metadata": {
    "id": "gJG9gYqPHD15"
   },
   "outputs": [],
   "source": [
    "def sequence_matches_structure(sequence, structure_blob):\n",
    "    with tempfile.NamedTemporaryFile(suffix=\".pdb\") as tmp_file:\n",
    "        with open(tmp_file.name, \"wt\") as fout:\n",
    "            fout.write(structure_blob)\n",
    "        structure = PDB.load(tmp_file.name)\n",
    "\n",
    "    chain_sequence = structure_tools.get_chain_sequence(\n",
    "        structure[0][\"A\"], if_unknown=\"replace\", unknown_residue_marker=\"\"\n",
    "    )\n",
    "    return sequence == chain_sequence"
   ]
  },
  {
   "cell_type": "code",
   "execution_count": 14,
   "id": "e9d2d21f-85b1-4034-8c10-7283d1d3ad0f",
   "metadata": {},
   "outputs": [
    {
     "data": {
      "text/html": [
       "<div>\n",
       "<style scoped>\n",
       "    .dataframe tbody tr th:only-of-type {\n",
       "        vertical-align: middle;\n",
       "    }\n",
       "\n",
       "    .dataframe tbody tr th {\n",
       "        vertical-align: top;\n",
       "    }\n",
       "\n",
       "    .dataframe thead th {\n",
       "        text-align: right;\n",
       "    }\n",
       "</style>\n",
       "<table border=\"1\" class=\"dataframe\">\n",
       "  <thead>\n",
       "    <tr style=\"text-align: right;\">\n",
       "      <th></th>\n",
       "      <th>MAPK3-variant</th>\n",
       "      <th>DDG-NotPO4</th>\n",
       "      <th>Standard-Deviation-DDG-NotPO4</th>\n",
       "      <th>DDG-PO4</th>\n",
       "      <th>Standard-Deviation-DDG-PO4</th>\n",
       "      <th>Ratio-kcat/Km</th>\n",
       "      <th>Standard-Deviation-Ratio-kcat/Km</th>\n",
       "      <th>Comment</th>\n",
       "    </tr>\n",
       "  </thead>\n",
       "  <tbody>\n",
       "    <tr>\n",
       "      <th>0</th>\n",
       "      <td>p.I73M</td>\n",
       "      <td>*</td>\n",
       "      <td>*</td>\n",
       "      <td>*</td>\n",
       "      <td>*</td>\n",
       "      <td>*</td>\n",
       "      <td>*</td>\n",
       "      <td>*</td>\n",
       "    </tr>\n",
       "    <tr>\n",
       "      <th>1</th>\n",
       "      <td>p.Q79H</td>\n",
       "      <td>*</td>\n",
       "      <td>*</td>\n",
       "      <td>*</td>\n",
       "      <td>*</td>\n",
       "      <td>*</td>\n",
       "      <td>*</td>\n",
       "      <td>*</td>\n",
       "    </tr>\n",
       "  </tbody>\n",
       "</table>\n",
       "</div>"
      ],
      "text/plain": [
       "  MAPK3-variant DDG-NotPO4 Standard-Deviation-DDG-NotPO4 DDG-PO4  \\\n",
       "0        p.I73M          *                             *       *   \n",
       "1        p.Q79H          *                             *       *   \n",
       "\n",
       "   Standard-Deviation-DDG-PO4 Ratio-kcat/Km Standard-Deviation-Ratio-kcat/Km  \\\n",
       "0                           *             *                                *   \n",
       "1                           *             *                                *   \n",
       "\n",
       "  Comment  \n",
       "0       *  \n",
       "1       *  "
      ]
     },
     "execution_count": 14,
     "metadata": {},
     "output_type": "execute_result"
    }
   ],
   "source": [
    "result_template_df = pd.read_csv(NOTEBOOK_DIR.joinpath(\"mapk3_predictions.tsv\"), sep=\"\\t\")\n",
    "\n",
    "result_template_df.head(2)"
   ]
  },
  {
   "cell_type": "code",
   "execution_count": 15,
   "id": "f2b7c217-8998-496a-b0c3-814ac7565066",
   "metadata": {},
   "outputs": [],
   "source": [
    "result_df = result_template_df.copy()\n",
    "result_df[\"mut\"] = result_df[\"MAPK3-variant\"].str[2:]"
   ]
  },
  {
   "cell_type": "code",
   "execution_count": 16,
   "id": "d6e3b604-f491-4f99-a1b8-bec0eb5528c5",
   "metadata": {},
   "outputs": [],
   "source": [
    "assert all([mutation_matches_sequence(mut, sequence) for mut in result_df[\"mut\"]])"
   ]
  },
  {
   "cell_type": "code",
   "execution_count": 17,
   "id": "98344dbc-368c-4c32-889a-d08fbe44075e",
   "metadata": {},
   "outputs": [],
   "source": [
    "assert sequence_matches_structure(sequence, structure_blob)"
   ]
  },
  {
   "cell_type": "code",
   "execution_count": 18,
   "id": "a90a91d5-0a76-4399-bc5e-1921cc5364c4",
   "metadata": {},
   "outputs": [],
   "source": [
    "assert alignment[1] == f\"{sequence}\\n\""
   ]
  },
  {
   "cell_type": "markdown",
   "id": "a488ac2b-091c-4f9b-9ba2-6bdf8c771ce6",
   "metadata": {},
   "source": [
    "## Run Rosetta"
   ]
  },
  {
   "cell_type": "code",
   "execution_count": 19,
   "id": "9d66c51d-657e-4259-a6a8-637eeb56d137",
   "metadata": {},
   "outputs": [],
   "source": [
    "rosetta_ddg_data = RosettaDDG.build(\n",
    "    structure_file,\n",
    "    protocol=\"cartesian_ddg\",\n",
    "    energy_function=\"beta_nov16_cart\",\n",
    "    interface=0,\n",
    ")"
   ]
  },
  {
   "cell_type": "code",
   "execution_count": 20,
   "id": "1fd4bd8b-272c-432d-b92f-c722fad5a75b",
   "metadata": {},
   "outputs": [],
   "source": [
    "def rosetta_ddg_worker(mut, data):\n",
    "    results = RosettaDDG.analyze_mutation(f\"A_{mut}\", data)\n",
    "    results = {\"mut\": mut} | {f\"rosetta_{key}\": value for key, value in results.items()}\n",
    "    return results"
   ]
  },
  {
   "cell_type": "code",
   "execution_count": 21,
   "id": "146ef0d3-b0cd-4f89-8ced-ca6d0f8667dd",
   "metadata": {},
   "outputs": [],
   "source": [
    "rosetta_results_file = NOTEBOOK_DIR.joinpath(\"rosetta-results.parquet\")\n",
    "\n",
    "if rosetta_results_file.is_file():\n",
    "    rosetta_results_df = pq.read_table(rosetta_results_file).to_pandas()\n",
    "else:\n",
    "    with concurrent.futures.ThreadPoolExecutor(len(result_df)) as pool:\n",
    "        rosetta_results = list(\n",
    "            tqdm(\n",
    "                pool.map(\n",
    "                    rosetta_ddg_worker,\n",
    "                    result_df[\"mut\"].values.tolist(),\n",
    "                    itertools.repeat(rosetta_ddg_data),\n",
    "                ),\n",
    "                total=len(result_df),\n",
    "            )\n",
    "        )\n",
    "    rosetta_results_df = pd.DataFrame(rosetta_results)\n",
    "    pq.write_table(pa.Table.from_pandas(rosetta_results_df, preserve_index=False), rosetta_results_file)"
   ]
  },
  {
   "cell_type": "markdown",
   "id": "4a95d26d-502e-4be5-ac68-475b45a83bc6",
   "metadata": {
    "tags": []
   },
   "source": [
    "## Run `ELASPIC2`"
   ]
  },
  {
   "cell_type": "markdown",
   "id": "9ecb0d64-4831-4e0c-bc21-03e6d18445e2",
   "metadata": {
    "id": "4jTx3zGeHD2e"
   },
   "source": [
    "### Initialize the `ELASPIC2` model\n",
    "\n"
   ]
  },
  {
   "cell_type": "code",
   "execution_count": 22,
   "id": "c1ff7c0c-783e-49c2-88af-069ff5292cae",
   "metadata": {},
   "outputs": [
    {
     "name": "stderr",
     "output_type": "stream",
     "text": [
      "Some weights of the model checkpoint at /home/kimlab5/strokach/workspace/elaspic/elaspic2/src/elaspic2/plugins/protbert/data/prot_bert_bfd were not used when initializing BertModel: ['cls.predictions.transform.dense.bias', 'cls.predictions.bias', 'cls.seq_relationship.bias', 'cls.seq_relationship.weight', 'cls.predictions.transform.LayerNorm.bias', 'cls.predictions.transform.dense.weight', 'cls.predictions.transform.LayerNorm.weight', 'cls.predictions.decoder.bias', 'cls.predictions.decoder.weight']\n",
      "- This IS expected if you are initializing BertModel from the checkpoint of a model trained on another task or with another architecture (e.g. initializing a BertForSequenceClassification model from a BertForPreTraining model).\n",
      "- This IS NOT expected if you are initializing BertModel from the checkpoint of a model that you expect to be exactly identical (initializing a BertForSequenceClassification model from a BertForSequenceClassification model).\n"
     ]
    }
   ],
   "source": [
    "model = el2.ELASPIC2(device=device)"
   ]
  },
  {
   "cell_type": "markdown",
   "id": "8c55b8ef-7c8c-4380-8744-deac33fe17ef",
   "metadata": {
    "id": "i8OkFJbj8sYO"
   },
   "source": [
    "### Make predictions"
   ]
  },
  {
   "cell_type": "code",
   "execution_count": 23,
   "id": "99d235c7-c36f-4d84-aec3-690b7be57aff",
   "metadata": {
    "colab": {
     "base_uri": "https://localhost:8080/"
    },
    "id": "ac6mTuNYHD2i",
    "outputId": "b2427457-6fb6-4e2c-dac0-d037fafc8282"
   },
   "outputs": [
    {
     "data": {
      "text/plain": [
       "ELASPIC2Data(is_interface=False, protbert_data=ProtBertData(sequence='MAAAAAQGGGGGEPRRTEGVGPGVPGEVEMVKGQPFDVGPRYTQLQYIGEGAYGMVSSAYDHVRKTRVAIKKISPFEHQTYCQRTLREIQILLRFRHENVIGIRDILRASTLEAMRDVYIVQDLMETDLYKLLKSQQLSNDHICYFLYQILRGLKYIHSANVLHRDLKPSNLLINTTCDLKICDFGLARIADPEHDHTGFLTEYVATRWYRAPEIMLNSKGYTKSIDIWSVGCILAEMLSNRPIFPGKHYLDQLNHILGILGSPSQEDLNCIINMKARNYLQSLPSKTKVAWAKLFPKSDSKALDLLDRMLTFNPNKRITVEEALAHPYLEQYYDPTDEPVAEEPFTFAMELDDLPKERLKELIFQETARFQPGVLEAP'), proteinsolver_data=Data(edge_attr=[19140, 2], edge_index=[2, 19140], x=[379]))"
      ]
     },
     "execution_count": 23,
     "metadata": {},
     "output_type": "execute_result"
    }
   ],
   "source": [
    "protein_features = model.build(\n",
    "    structure_file=structure_file,\n",
    "    protein_sequence=sequence,\n",
    "    ligand_sequence=None,\n",
    "    remove_hetatms=True,\n",
    ")\n",
    "\n",
    "protein_features"
   ]
  },
  {
   "cell_type": "code",
   "execution_count": 24,
   "id": "c2a560a2-0682-404a-a5d2-cd6989f4466c",
   "metadata": {},
   "outputs": [
    {
     "data": {
      "application/vnd.jupyter.widget-view+json": {
       "model_id": "79994e53bdc34c8e95d959eaffdcf76d",
       "version_major": 2,
       "version_minor": 0
      },
      "text/plain": [
       "  0%|          | 0/12 [00:00<?, ?it/s]"
      ]
     },
     "metadata": {},
     "output_type": "display_data"
    }
   ],
   "source": [
    "mutation_features = list(\n",
    "    tqdm(\n",
    "        (model.analyze_mutation(mut, protein_features) for mut in result_df[\"mut\"]),\n",
    "        total=len(result_df),\n",
    "    )\n",
    ")"
   ]
  },
  {
   "cell_type": "code",
   "execution_count": 25,
   "id": "9d06a7b5-3fa2-4ab4-bdf1-8746673477ce",
   "metadata": {
    "id": "XJPiK7eVRBqi"
   },
   "outputs": [],
   "source": [
    "# In all cases, higher scores means less stable (same as ΔΔG) \n",
    "result_df[\"protbert_score\"] = [\n",
    "    f[\"protbert_core_score_wt\"] - f[\"protbert_core_score_mut\"] for f in mutation_features\n",
    "]\n",
    "result_df[\"proteinsolver_score\"] = [\n",
    "    f[\"proteinsolver_core_score_wt\"] - f[\"proteinsolver_core_score_mut\"] for f in mutation_features\n",
    "]\n",
    "result_df[\"el2_score\"] = model.predict_mutation_effect(mutation_features).tolist()"
   ]
  },
  {
   "cell_type": "code",
   "execution_count": 26,
   "id": "8d3a9fe8-72d7-49bd-8213-2dcde22769a3",
   "metadata": {},
   "outputs": [],
   "source": [
    "# In all cases, higher scores means less stable (same as ΔΔG)\n",
    "result_df[\"protbert_ratio\"] = [\n",
    "    f[\"protbert_core_score_mut\"] / f[\"protbert_core_score_wt\"] for f in mutation_features\n",
    "]\n",
    "result_df[\"proteinsolver_ratio\"] = [\n",
    "    f[\"proteinsolver_core_score_mut\"] / f[\"proteinsolver_core_score_wt\"] for f in mutation_features\n",
    "]\n",
    "result_df[\"el2_ratio\"] = (0.5 / model.predict_mutation_effect(mutation_features)).tolist()"
   ]
  },
  {
   "cell_type": "markdown",
   "id": "20a1e8cd-3bd8-4561-bc13-c6de658ef9b1",
   "metadata": {},
   "source": [
    "## Combine"
   ]
  },
  {
   "cell_type": "code",
   "execution_count": 27,
   "id": "b8fd572d-5777-43fd-bbc2-6317ac9b64c3",
   "metadata": {},
   "outputs": [],
   "source": [
    "rosetta_results_df[\"rosetta_dg_mut\"] = (\n",
    "    rosetta_results_df[\"rosetta_dg_change\"] + rosetta_results_df[\"rosetta_dg_wt\"]\n",
    ")\n",
    "assert np.allclose(\n",
    "    rosetta_results_df[\"rosetta_dg_change\"],\n",
    "    rosetta_results_df[\"rosetta_dg_mut\"] - rosetta_results_df[\"rosetta_dg_wt\"],\n",
    ")\n",
    "\n",
    "rosetta_results_df[\"rosetta_dg_score\"] = rosetta_results_df[\"rosetta_dg_change\"]\n",
    "rosetta_results_df[\"rosetta_dg_ratio\"] = (\n",
    "    rosetta_results_df[\"rosetta_dg_wt\"] / rosetta_results_df[\"rosetta_dg_mut\"]\n",
    ")"
   ]
  },
  {
   "cell_type": "code",
   "execution_count": 28,
   "id": "4e14ed59-38db-41eb-9d2c-8c3064dfb5cc",
   "metadata": {},
   "outputs": [],
   "source": [
    "try:\n",
    "    del result_df[\"rosetta_dg_score\"], result_df[\"rosetta_dg_ratio\"]\n",
    "except KeyError:\n",
    "    pass\n",
    "\n",
    "result_df = result_df.merge(\n",
    "    rosetta_results_df[[\"mut\", \"rosetta_dg_score\", \"rosetta_dg_ratio\"]], on=\"mut\", how=\"left\"\n",
    ")"
   ]
  },
  {
   "cell_type": "markdown",
   "id": "35868ec3-f127-49fa-b61f-52146fb49cd2",
   "metadata": {
    "tags": []
   },
   "source": [
    "## Visualize"
   ]
  },
  {
   "cell_type": "code",
   "execution_count": 29,
   "id": "99cb8cfb-a286-4ccb-af6b-c8d3aff59b62",
   "metadata": {},
   "outputs": [
    {
     "data": {
      "image/png": "[encoded data removed]",
      "text/plain": [
       "<Figure size 720x720 with 20 Axes>"
      ]
     },
     "metadata": {},
     "output_type": "display_data"
    }
   ],
   "source": [
    "sns.set(style=\"ticks\", color_codes=True)\n",
    "g = sns.pairplot(\n",
    "    result_df[[\"protbert_score\", \"proteinsolver_score\", \"el2_score\", \"rosetta_dg_score\"]]\n",
    ")"
   ]
  },
  {
   "cell_type": "code",
   "execution_count": 30,
   "id": "f0805f67-4a49-4e5a-9405-aa9baeca80cb",
   "metadata": {},
   "outputs": [
    {
     "data": {
      "image/png": "[encoded data removed]",
      "text/plain": [
       "<Figure size 720x720 with 20 Axes>"
      ]
     },
     "metadata": {},
     "output_type": "display_data"
    }
   ],
   "source": [
    "sns.set(style=\"ticks\", color_codes=True)\n",
    "g = sns.pairplot(\n",
    "    result_df[[\"protbert_ratio\", \"proteinsolver_ratio\", \"el2_ratio\", \"rosetta_dg_ratio\"]]\n",
    ")"
   ]
  },
  {
   "cell_type": "markdown",
   "id": "24e675b6-2ca6-4efc-95de-f7bc026e5cf5",
   "metadata": {},
   "source": [
    "## Write results"
   ]
  },
  {
   "cell_type": "code",
   "execution_count": 31,
   "id": "8e08a9b8-5225-41fb-81fa-cf9548e9d79c",
   "metadata": {},
   "outputs": [
    {
     "data": {
      "text/plain": [
       "PosixPath('/home/kimlab5/strokach/workspace/elaspic/elaspic2-cagi6/notebooks/30_cagi6_mapk3/results')"
      ]
     },
     "execution_count": 31,
     "metadata": {},
     "output_type": "execute_result"
    }
   ],
   "source": [
    "output_dir = NOTEBOOK_DIR.joinpath(\"submission\")\n",
    "output_dir.mkdir(exist_ok=True)\n",
    "\n",
    "output_dir"
   ]
  },
  {
   "cell_type": "code",
   "execution_count": 32,
   "id": "e49a4854-44a7-4d6e-909d-e07a4af0d947",
   "metadata": {},
   "outputs": [
    {
     "name": "stdout",
     "output_type": "stream",
     "text": [
      "Overwriting /home/kimlab5/strokach/workspace/elaspic/elaspic2-cagi6/notebooks/30_cagi6_mapk3/results/strokach_desc.md\n"
     ]
    }
   ],
   "source": [
    "%%file {output_dir}/strokach_desc.md\n",
    "# Submission for CAGI6—MAPK3 challenge\n",
    "\n",
    "## Overview\n",
    "\n",
    "- `strokach_modelnumber_1.tsv` → Predictions made using ELASPIC2 [1].\n",
    "- `strokach_modelnumber_2.tsv` → Predictions made using ProteinSolver [2].\n",
    "- `strokach_modelnumber_3.tsv` → Predictions made using ProtBert [3].\n",
    "- `strokach_modelnumber_4.tsv` → Predictions made using Rosetta's cartesian_ddg protocol.\n",
    "\n",
    "## References\n",
    "\n",
    "- [1] Strokach, A., Lu, T.Y., Kim, P.M., 2021. ELASPIC2 (EL2): Combining Contextualized Language Models and Graph Neural Networks to Predict Effects of Mutations. Journal of Molecular Biology, Computation Resources for Molecular Biology 433, 166810. https://doi.org/10.1016/j.jmb.2021.166810\n",
    "- [2] Strokach, A., Becerra, D., Corbi-Verge, C., Perez-Riba, A., Kim, P.M., 2020. Fast and Flexible Protein Design Using Deep Graph Neural Networks. Cell Systems. https://doi.org/10.1016/j.cels.2020.08.016\n",
    "- [3] Elnaggar, A., Heinzinger, M., Dallago, C., Rehawi, G., Wang, Y., Jones, L., Gibbs, T., Feher, T., Angerer, C., Steinegger, M., Bhowmik, D., Rost, B., 2020. ProtTrans: Towards Cracking the Language of Life’s Code Through Self-Supervised Deep Learning and High Performance Computing. bioRxiv 2020.07.12.199554. https://doi.org/10.1101/2020.07.12.199554\n"
   ]
  },
  {
   "cell_type": "code",
   "execution_count": 33,
   "id": "9390ebbf-08e3-4c02-8582-a2b11becef18",
   "metadata": {},
   "outputs": [
    {
     "name": "stdout",
     "output_type": "stream",
     "text": [
      "el2\n"
     ]
    },
    {
     "data": {
      "text/html": [
       "<div>\n",
       "<style scoped>\n",
       "    .dataframe tbody tr th:only-of-type {\n",
       "        vertical-align: middle;\n",
       "    }\n",
       "\n",
       "    .dataframe tbody tr th {\n",
       "        vertical-align: top;\n",
       "    }\n",
       "\n",
       "    .dataframe thead th {\n",
       "        text-align: right;\n",
       "    }\n",
       "</style>\n",
       "<table border=\"1\" class=\"dataframe\">\n",
       "  <thead>\n",
       "    <tr style=\"text-align: right;\">\n",
       "      <th></th>\n",
       "      <th>MAPK3-variant</th>\n",
       "      <th>DDG-NotPO4</th>\n",
       "      <th>Standard-Deviation-DDG-NotPO4</th>\n",
       "      <th>DDG-PO4</th>\n",
       "      <th>Standard-Deviation-DDG-PO4</th>\n",
       "      <th>Ratio-kcat/Km</th>\n",
       "      <th>Standard-Deviation-Ratio-kcat/Km</th>\n",
       "      <th>Comment</th>\n",
       "      <th>mut</th>\n",
       "      <th>protbert_score</th>\n",
       "      <th>proteinsolver_score</th>\n",
       "      <th>el2_score</th>\n",
       "      <th>protbert_ratio</th>\n",
       "      <th>proteinsolver_ratio</th>\n",
       "      <th>el2_ratio</th>\n",
       "      <th>rosetta_dg_score</th>\n",
       "      <th>rosetta_dg_ratio</th>\n",
       "    </tr>\n",
       "  </thead>\n",
       "  <tbody>\n",
       "    <tr>\n",
       "      <th>0</th>\n",
       "      <td>p.I73M</td>\n",
       "      <td>-1.363010</td>\n",
       "      <td>1.0</td>\n",
       "      <td>-1.363010</td>\n",
       "      <td>1.0</td>\n",
       "      <td>0.366835</td>\n",
       "      <td>1.0</td>\n",
       "      <td>*</td>\n",
       "      <td>I73M</td>\n",
       "      <td>0.977409</td>\n",
       "      <td>0.405283</td>\n",
       "      <td>1.363010</td>\n",
       "      <td>0.000732</td>\n",
       "      <td>0.027899</td>\n",
       "      <td>0.366835</td>\n",
       "      <td>1.366667</td>\n",
       "      <td>1.003706</td>\n",
       "    </tr>\n",
       "    <tr>\n",
       "      <th>1</th>\n",
       "      <td>p.Q79H</td>\n",
       "      <td>-1.607800</td>\n",
       "      <td>1.0</td>\n",
       "      <td>-1.607800</td>\n",
       "      <td>1.0</td>\n",
       "      <td>0.310984</td>\n",
       "      <td>1.0</td>\n",
       "      <td>*</td>\n",
       "      <td>Q79H</td>\n",
       "      <td>0.990033</td>\n",
       "      <td>0.015758</td>\n",
       "      <td>1.607800</td>\n",
       "      <td>0.001132</td>\n",
       "      <td>0.644113</td>\n",
       "      <td>0.310984</td>\n",
       "      <td>1.452667</td>\n",
       "      <td>1.004529</td>\n",
       "    </tr>\n",
       "    <tr>\n",
       "      <th>2</th>\n",
       "      <td>p.E98K</td>\n",
       "      <td>-2.022470</td>\n",
       "      <td>1.0</td>\n",
       "      <td>-2.022470</td>\n",
       "      <td>1.0</td>\n",
       "      <td>0.247222</td>\n",
       "      <td>1.0</td>\n",
       "      <td>*</td>\n",
       "      <td>E98K</td>\n",
       "      <td>0.990650</td>\n",
       "      <td>0.130106</td>\n",
       "      <td>2.022470</td>\n",
       "      <td>0.000120</td>\n",
       "      <td>0.079353</td>\n",
       "      <td>0.247222</td>\n",
       "      <td>0.404000</td>\n",
       "      <td>1.001235</td>\n",
       "    </tr>\n",
       "    <tr>\n",
       "      <th>3</th>\n",
       "      <td>p.A160T</td>\n",
       "      <td>-1.819285</td>\n",
       "      <td>1.0</td>\n",
       "      <td>-1.819285</td>\n",
       "      <td>1.0</td>\n",
       "      <td>0.274833</td>\n",
       "      <td>1.0</td>\n",
       "      <td>*</td>\n",
       "      <td>A160T</td>\n",
       "      <td>0.992665</td>\n",
       "      <td>0.263915</td>\n",
       "      <td>1.819285</td>\n",
       "      <td>0.000308</td>\n",
       "      <td>0.106175</td>\n",
       "      <td>0.274833</td>\n",
       "      <td>8.508000</td>\n",
       "      <td>1.024971</td>\n",
       "    </tr>\n",
       "    <tr>\n",
       "      <th>4</th>\n",
       "      <td>p.T198I</td>\n",
       "      <td>-1.847224</td>\n",
       "      <td>1.0</td>\n",
       "      <td>-1.847224</td>\n",
       "      <td>1.0</td>\n",
       "      <td>0.270676</td>\n",
       "      <td>1.0</td>\n",
       "      <td>*</td>\n",
       "      <td>T198I</td>\n",
       "      <td>0.985794</td>\n",
       "      <td>0.243023</td>\n",
       "      <td>1.847224</td>\n",
       "      <td>0.000812</td>\n",
       "      <td>0.007174</td>\n",
       "      <td>0.270676</td>\n",
       "      <td>7.264333</td>\n",
       "      <td>1.018908</td>\n",
       "    </tr>\n",
       "  </tbody>\n",
       "</table>\n",
       "</div>"
      ],
      "text/plain": [
       "  MAPK3-variant  DDG-NotPO4  Standard-Deviation-DDG-NotPO4   DDG-PO4  \\\n",
       "0        p.I73M   -1.363010                            1.0 -1.363010   \n",
       "1        p.Q79H   -1.607800                            1.0 -1.607800   \n",
       "2        p.E98K   -2.022470                            1.0 -2.022470   \n",
       "3       p.A160T   -1.819285                            1.0 -1.819285   \n",
       "4       p.T198I   -1.847224                            1.0 -1.847224   \n",
       "\n",
       "    Standard-Deviation-DDG-PO4  Ratio-kcat/Km  \\\n",
       "0                          1.0       0.366835   \n",
       "1                          1.0       0.310984   \n",
       "2                          1.0       0.247222   \n",
       "3                          1.0       0.274833   \n",
       "4                          1.0       0.270676   \n",
       "\n",
       "   Standard-Deviation-Ratio-kcat/Km Comment    mut  protbert_score  \\\n",
       "0                               1.0       *   I73M        0.977409   \n",
       "1                               1.0       *   Q79H        0.990033   \n",
       "2                               1.0       *   E98K        0.990650   \n",
       "3                               1.0       *  A160T        0.992665   \n",
       "4                               1.0       *  T198I        0.985794   \n",
       "\n",
       "   proteinsolver_score  el2_score  protbert_ratio  proteinsolver_ratio  \\\n",
       "0             0.405283   1.363010        0.000732             0.027899   \n",
       "1             0.015758   1.607800        0.001132             0.644113   \n",
       "2             0.130106   2.022470        0.000120             0.079353   \n",
       "3             0.263915   1.819285        0.000308             0.106175   \n",
       "4             0.243023   1.847224        0.000812             0.007174   \n",
       "\n",
       "   el2_ratio  rosetta_dg_score  rosetta_dg_ratio  \n",
       "0   0.366835          1.366667          1.003706  \n",
       "1   0.310984          1.452667          1.004529  \n",
       "2   0.247222          0.404000          1.001235  \n",
       "3   0.274833          8.508000          1.024971  \n",
       "4   0.270676          7.264333          1.018908  "
      ]
     },
     "metadata": {},
     "output_type": "display_data"
    },
    {
     "name": "stdout",
     "output_type": "stream",
     "text": [
      "The file's format is valid! You are good to submit now!\n",
      "proteinsolver\n"
     ]
    },
    {
     "data": {
      "text/html": [
       "<div>\n",
       "<style scoped>\n",
       "    .dataframe tbody tr th:only-of-type {\n",
       "        vertical-align: middle;\n",
       "    }\n",
       "\n",
       "    .dataframe tbody tr th {\n",
       "        vertical-align: top;\n",
       "    }\n",
       "\n",
       "    .dataframe thead th {\n",
       "        text-align: right;\n",
       "    }\n",
       "</style>\n",
       "<table border=\"1\" class=\"dataframe\">\n",
       "  <thead>\n",
       "    <tr style=\"text-align: right;\">\n",
       "      <th></th>\n",
       "      <th>MAPK3-variant</th>\n",
       "      <th>DDG-NotPO4</th>\n",
       "      <th>Standard-Deviation-DDG-NotPO4</th>\n",
       "      <th>DDG-PO4</th>\n",
       "      <th>Standard-Deviation-DDG-PO4</th>\n",
       "      <th>Ratio-kcat/Km</th>\n",
       "      <th>Standard-Deviation-Ratio-kcat/Km</th>\n",
       "      <th>Comment</th>\n",
       "      <th>mut</th>\n",
       "      <th>protbert_score</th>\n",
       "      <th>proteinsolver_score</th>\n",
       "      <th>el2_score</th>\n",
       "      <th>protbert_ratio</th>\n",
       "      <th>proteinsolver_ratio</th>\n",
       "      <th>el2_ratio</th>\n",
       "      <th>rosetta_dg_score</th>\n",
       "      <th>rosetta_dg_ratio</th>\n",
       "    </tr>\n",
       "  </thead>\n",
       "  <tbody>\n",
       "    <tr>\n",
       "      <th>0</th>\n",
       "      <td>p.I73M</td>\n",
       "      <td>-0.405283</td>\n",
       "      <td>1.0</td>\n",
       "      <td>-0.405283</td>\n",
       "      <td>1.0</td>\n",
       "      <td>0.027899</td>\n",
       "      <td>1.0</td>\n",
       "      <td>*</td>\n",
       "      <td>I73M</td>\n",
       "      <td>0.977409</td>\n",
       "      <td>0.405283</td>\n",
       "      <td>1.363010</td>\n",
       "      <td>0.000732</td>\n",
       "      <td>0.027899</td>\n",
       "      <td>0.366835</td>\n",
       "      <td>1.366667</td>\n",
       "      <td>1.003706</td>\n",
       "    </tr>\n",
       "    <tr>\n",
       "      <th>1</th>\n",
       "      <td>p.Q79H</td>\n",
       "      <td>-0.015758</td>\n",
       "      <td>1.0</td>\n",
       "      <td>-0.015758</td>\n",
       "      <td>1.0</td>\n",
       "      <td>0.644113</td>\n",
       "      <td>1.0</td>\n",
       "      <td>*</td>\n",
       "      <td>Q79H</td>\n",
       "      <td>0.990033</td>\n",
       "      <td>0.015758</td>\n",
       "      <td>1.607800</td>\n",
       "      <td>0.001132</td>\n",
       "      <td>0.644113</td>\n",
       "      <td>0.310984</td>\n",
       "      <td>1.452667</td>\n",
       "      <td>1.004529</td>\n",
       "    </tr>\n",
       "    <tr>\n",
       "      <th>2</th>\n",
       "      <td>p.E98K</td>\n",
       "      <td>-0.130106</td>\n",
       "      <td>1.0</td>\n",
       "      <td>-0.130106</td>\n",
       "      <td>1.0</td>\n",
       "      <td>0.079353</td>\n",
       "      <td>1.0</td>\n",
       "      <td>*</td>\n",
       "      <td>E98K</td>\n",
       "      <td>0.990650</td>\n",
       "      <td>0.130106</td>\n",
       "      <td>2.022470</td>\n",
       "      <td>0.000120</td>\n",
       "      <td>0.079353</td>\n",
       "      <td>0.247222</td>\n",
       "      <td>0.404000</td>\n",
       "      <td>1.001235</td>\n",
       "    </tr>\n",
       "    <tr>\n",
       "      <th>3</th>\n",
       "      <td>p.A160T</td>\n",
       "      <td>-0.263915</td>\n",
       "      <td>1.0</td>\n",
       "      <td>-0.263915</td>\n",
       "      <td>1.0</td>\n",
       "      <td>0.106175</td>\n",
       "      <td>1.0</td>\n",
       "      <td>*</td>\n",
       "      <td>A160T</td>\n",
       "      <td>0.992665</td>\n",
       "      <td>0.263915</td>\n",
       "      <td>1.819285</td>\n",
       "      <td>0.000308</td>\n",
       "      <td>0.106175</td>\n",
       "      <td>0.274833</td>\n",
       "      <td>8.508000</td>\n",
       "      <td>1.024971</td>\n",
       "    </tr>\n",
       "    <tr>\n",
       "      <th>4</th>\n",
       "      <td>p.T198I</td>\n",
       "      <td>-0.243023</td>\n",
       "      <td>1.0</td>\n",
       "      <td>-0.243023</td>\n",
       "      <td>1.0</td>\n",
       "      <td>0.007174</td>\n",
       "      <td>1.0</td>\n",
       "      <td>*</td>\n",
       "      <td>T198I</td>\n",
       "      <td>0.985794</td>\n",
       "      <td>0.243023</td>\n",
       "      <td>1.847224</td>\n",
       "      <td>0.000812</td>\n",
       "      <td>0.007174</td>\n",
       "      <td>0.270676</td>\n",
       "      <td>7.264333</td>\n",
       "      <td>1.018908</td>\n",
       "    </tr>\n",
       "  </tbody>\n",
       "</table>\n",
       "</div>"
      ],
      "text/plain": [
       "  MAPK3-variant  DDG-NotPO4  Standard-Deviation-DDG-NotPO4   DDG-PO4  \\\n",
       "0        p.I73M   -0.405283                            1.0 -0.405283   \n",
       "1        p.Q79H   -0.015758                            1.0 -0.015758   \n",
       "2        p.E98K   -0.130106                            1.0 -0.130106   \n",
       "3       p.A160T   -0.263915                            1.0 -0.263915   \n",
       "4       p.T198I   -0.243023                            1.0 -0.243023   \n",
       "\n",
       "    Standard-Deviation-DDG-PO4  Ratio-kcat/Km  \\\n",
       "0                          1.0       0.027899   \n",
       "1                          1.0       0.644113   \n",
       "2                          1.0       0.079353   \n",
       "3                          1.0       0.106175   \n",
       "4                          1.0       0.007174   \n",
       "\n",
       "   Standard-Deviation-Ratio-kcat/Km Comment    mut  protbert_score  \\\n",
       "0                               1.0       *   I73M        0.977409   \n",
       "1                               1.0       *   Q79H        0.990033   \n",
       "2                               1.0       *   E98K        0.990650   \n",
       "3                               1.0       *  A160T        0.992665   \n",
       "4                               1.0       *  T198I        0.985794   \n",
       "\n",
       "   proteinsolver_score  el2_score  protbert_ratio  proteinsolver_ratio  \\\n",
       "0             0.405283   1.363010        0.000732             0.027899   \n",
       "1             0.015758   1.607800        0.001132             0.644113   \n",
       "2             0.130106   2.022470        0.000120             0.079353   \n",
       "3             0.263915   1.819285        0.000308             0.106175   \n",
       "4             0.243023   1.847224        0.000812             0.007174   \n",
       "\n",
       "   el2_ratio  rosetta_dg_score  rosetta_dg_ratio  \n",
       "0   0.366835          1.366667          1.003706  \n",
       "1   0.310984          1.452667          1.004529  \n",
       "2   0.247222          0.404000          1.001235  \n",
       "3   0.274833          8.508000          1.024971  \n",
       "4   0.270676          7.264333          1.018908  "
      ]
     },
     "metadata": {},
     "output_type": "display_data"
    },
    {
     "name": "stdout",
     "output_type": "stream",
     "text": [
      "The file's format is valid! You are good to submit now!\n",
      "protbert\n"
     ]
    },
    {
     "data": {
      "text/html": [
       "<div>\n",
       "<style scoped>\n",
       "    .dataframe tbody tr th:only-of-type {\n",
       "        vertical-align: middle;\n",
       "    }\n",
       "\n",
       "    .dataframe tbody tr th {\n",
       "        vertical-align: top;\n",
       "    }\n",
       "\n",
       "    .dataframe thead th {\n",
       "        text-align: right;\n",
       "    }\n",
       "</style>\n",
       "<table border=\"1\" class=\"dataframe\">\n",
       "  <thead>\n",
       "    <tr style=\"text-align: right;\">\n",
       "      <th></th>\n",
       "      <th>MAPK3-variant</th>\n",
       "      <th>DDG-NotPO4</th>\n",
       "      <th>Standard-Deviation-DDG-NotPO4</th>\n",
       "      <th>DDG-PO4</th>\n",
       "      <th>Standard-Deviation-DDG-PO4</th>\n",
       "      <th>Ratio-kcat/Km</th>\n",
       "      <th>Standard-Deviation-Ratio-kcat/Km</th>\n",
       "      <th>Comment</th>\n",
       "      <th>mut</th>\n",
       "      <th>protbert_score</th>\n",
       "      <th>proteinsolver_score</th>\n",
       "      <th>el2_score</th>\n",
       "      <th>protbert_ratio</th>\n",
       "      <th>proteinsolver_ratio</th>\n",
       "      <th>el2_ratio</th>\n",
       "      <th>rosetta_dg_score</th>\n",
       "      <th>rosetta_dg_ratio</th>\n",
       "    </tr>\n",
       "  </thead>\n",
       "  <tbody>\n",
       "    <tr>\n",
       "      <th>0</th>\n",
       "      <td>p.I73M</td>\n",
       "      <td>-0.977409</td>\n",
       "      <td>1.0</td>\n",
       "      <td>-0.977409</td>\n",
       "      <td>1.0</td>\n",
       "      <td>0.000732</td>\n",
       "      <td>1.0</td>\n",
       "      <td>*</td>\n",
       "      <td>I73M</td>\n",
       "      <td>0.977409</td>\n",
       "      <td>0.405283</td>\n",
       "      <td>1.363010</td>\n",
       "      <td>0.000732</td>\n",
       "      <td>0.027899</td>\n",
       "      <td>0.366835</td>\n",
       "      <td>1.366667</td>\n",
       "      <td>1.003706</td>\n",
       "    </tr>\n",
       "    <tr>\n",
       "      <th>1</th>\n",
       "      <td>p.Q79H</td>\n",
       "      <td>-0.990033</td>\n",
       "      <td>1.0</td>\n",
       "      <td>-0.990033</td>\n",
       "      <td>1.0</td>\n",
       "      <td>0.001132</td>\n",
       "      <td>1.0</td>\n",
       "      <td>*</td>\n",
       "      <td>Q79H</td>\n",
       "      <td>0.990033</td>\n",
       "      <td>0.015758</td>\n",
       "      <td>1.607800</td>\n",
       "      <td>0.001132</td>\n",
       "      <td>0.644113</td>\n",
       "      <td>0.310984</td>\n",
       "      <td>1.452667</td>\n",
       "      <td>1.004529</td>\n",
       "    </tr>\n",
       "    <tr>\n",
       "      <th>2</th>\n",
       "      <td>p.E98K</td>\n",
       "      <td>-0.990650</td>\n",
       "      <td>1.0</td>\n",
       "      <td>-0.990650</td>\n",
       "      <td>1.0</td>\n",
       "      <td>0.000120</td>\n",
       "      <td>1.0</td>\n",
       "      <td>*</td>\n",
       "      <td>E98K</td>\n",
       "      <td>0.990650</td>\n",
       "      <td>0.130106</td>\n",
       "      <td>2.022470</td>\n",
       "      <td>0.000120</td>\n",
       "      <td>0.079353</td>\n",
       "      <td>0.247222</td>\n",
       "      <td>0.404000</td>\n",
       "      <td>1.001235</td>\n",
       "    </tr>\n",
       "    <tr>\n",
       "      <th>3</th>\n",
       "      <td>p.A160T</td>\n",
       "      <td>-0.992665</td>\n",
       "      <td>1.0</td>\n",
       "      <td>-0.992665</td>\n",
       "      <td>1.0</td>\n",
       "      <td>0.000308</td>\n",
       "      <td>1.0</td>\n",
       "      <td>*</td>\n",
       "      <td>A160T</td>\n",
       "      <td>0.992665</td>\n",
       "      <td>0.263915</td>\n",
       "      <td>1.819285</td>\n",
       "      <td>0.000308</td>\n",
       "      <td>0.106175</td>\n",
       "      <td>0.274833</td>\n",
       "      <td>8.508000</td>\n",
       "      <td>1.024971</td>\n",
       "    </tr>\n",
       "    <tr>\n",
       "      <th>4</th>\n",
       "      <td>p.T198I</td>\n",
       "      <td>-0.985794</td>\n",
       "      <td>1.0</td>\n",
       "      <td>-0.985794</td>\n",
       "      <td>1.0</td>\n",
       "      <td>0.000812</td>\n",
       "      <td>1.0</td>\n",
       "      <td>*</td>\n",
       "      <td>T198I</td>\n",
       "      <td>0.985794</td>\n",
       "      <td>0.243023</td>\n",
       "      <td>1.847224</td>\n",
       "      <td>0.000812</td>\n",
       "      <td>0.007174</td>\n",
       "      <td>0.270676</td>\n",
       "      <td>7.264333</td>\n",
       "      <td>1.018908</td>\n",
       "    </tr>\n",
       "  </tbody>\n",
       "</table>\n",
       "</div>"
      ],
      "text/plain": [
       "  MAPK3-variant  DDG-NotPO4  Standard-Deviation-DDG-NotPO4   DDG-PO4  \\\n",
       "0        p.I73M   -0.977409                            1.0 -0.977409   \n",
       "1        p.Q79H   -0.990033                            1.0 -0.990033   \n",
       "2        p.E98K   -0.990650                            1.0 -0.990650   \n",
       "3       p.A160T   -0.992665                            1.0 -0.992665   \n",
       "4       p.T198I   -0.985794                            1.0 -0.985794   \n",
       "\n",
       "    Standard-Deviation-DDG-PO4  Ratio-kcat/Km  \\\n",
       "0                          1.0       0.000732   \n",
       "1                          1.0       0.001132   \n",
       "2                          1.0       0.000120   \n",
       "3                          1.0       0.000308   \n",
       "4                          1.0       0.000812   \n",
       "\n",
       "   Standard-Deviation-Ratio-kcat/Km Comment    mut  protbert_score  \\\n",
       "0                               1.0       *   I73M        0.977409   \n",
       "1                               1.0       *   Q79H        0.990033   \n",
       "2                               1.0       *   E98K        0.990650   \n",
       "3                               1.0       *  A160T        0.992665   \n",
       "4                               1.0       *  T198I        0.985794   \n",
       "\n",
       "   proteinsolver_score  el2_score  protbert_ratio  proteinsolver_ratio  \\\n",
       "0             0.405283   1.363010        0.000732             0.027899   \n",
       "1             0.015758   1.607800        0.001132             0.644113   \n",
       "2             0.130106   2.022470        0.000120             0.079353   \n",
       "3             0.263915   1.819285        0.000308             0.106175   \n",
       "4             0.243023   1.847224        0.000812             0.007174   \n",
       "\n",
       "   el2_ratio  rosetta_dg_score  rosetta_dg_ratio  \n",
       "0   0.366835          1.366667          1.003706  \n",
       "1   0.310984          1.452667          1.004529  \n",
       "2   0.247222          0.404000          1.001235  \n",
       "3   0.274833          8.508000          1.024971  \n",
       "4   0.270676          7.264333          1.018908  "
      ]
     },
     "metadata": {},
     "output_type": "display_data"
    },
    {
     "name": "stdout",
     "output_type": "stream",
     "text": [
      "The file's format is valid! You are good to submit now!\n",
      "rosetta_dg\n"
     ]
    },
    {
     "data": {
      "text/html": [
       "<div>\n",
       "<style scoped>\n",
       "    .dataframe tbody tr th:only-of-type {\n",
       "        vertical-align: middle;\n",
       "    }\n",
       "\n",
       "    .dataframe tbody tr th {\n",
       "        vertical-align: top;\n",
       "    }\n",
       "\n",
       "    .dataframe thead th {\n",
       "        text-align: right;\n",
       "    }\n",
       "</style>\n",
       "<table border=\"1\" class=\"dataframe\">\n",
       "  <thead>\n",
       "    <tr style=\"text-align: right;\">\n",
       "      <th></th>\n",
       "      <th>MAPK3-variant</th>\n",
       "      <th>DDG-NotPO4</th>\n",
       "      <th>Standard-Deviation-DDG-NotPO4</th>\n",
       "      <th>DDG-PO4</th>\n",
       "      <th>Standard-Deviation-DDG-PO4</th>\n",
       "      <th>Ratio-kcat/Km</th>\n",
       "      <th>Standard-Deviation-Ratio-kcat/Km</th>\n",
       "      <th>Comment</th>\n",
       "      <th>mut</th>\n",
       "      <th>protbert_score</th>\n",
       "      <th>proteinsolver_score</th>\n",
       "      <th>el2_score</th>\n",
       "      <th>protbert_ratio</th>\n",
       "      <th>proteinsolver_ratio</th>\n",
       "      <th>el2_ratio</th>\n",
       "      <th>rosetta_dg_score</th>\n",
       "      <th>rosetta_dg_ratio</th>\n",
       "    </tr>\n",
       "  </thead>\n",
       "  <tbody>\n",
       "    <tr>\n",
       "      <th>0</th>\n",
       "      <td>p.I73M</td>\n",
       "      <td>-1.366667</td>\n",
       "      <td>1.0</td>\n",
       "      <td>-1.366667</td>\n",
       "      <td>1.0</td>\n",
       "      <td>1.003706</td>\n",
       "      <td>1.0</td>\n",
       "      <td>*</td>\n",
       "      <td>I73M</td>\n",
       "      <td>0.977409</td>\n",
       "      <td>0.405283</td>\n",
       "      <td>1.363010</td>\n",
       "      <td>0.000732</td>\n",
       "      <td>0.027899</td>\n",
       "      <td>0.366835</td>\n",
       "      <td>1.366667</td>\n",
       "      <td>1.003706</td>\n",
       "    </tr>\n",
       "    <tr>\n",
       "      <th>1</th>\n",
       "      <td>p.Q79H</td>\n",
       "      <td>-1.452667</td>\n",
       "      <td>1.0</td>\n",
       "      <td>-1.452667</td>\n",
       "      <td>1.0</td>\n",
       "      <td>1.004529</td>\n",
       "      <td>1.0</td>\n",
       "      <td>*</td>\n",
       "      <td>Q79H</td>\n",
       "      <td>0.990033</td>\n",
       "      <td>0.015758</td>\n",
       "      <td>1.607800</td>\n",
       "      <td>0.001132</td>\n",
       "      <td>0.644113</td>\n",
       "      <td>0.310984</td>\n",
       "      <td>1.452667</td>\n",
       "      <td>1.004529</td>\n",
       "    </tr>\n",
       "    <tr>\n",
       "      <th>2</th>\n",
       "      <td>p.E98K</td>\n",
       "      <td>-0.404000</td>\n",
       "      <td>1.0</td>\n",
       "      <td>-0.404000</td>\n",
       "      <td>1.0</td>\n",
       "      <td>1.001235</td>\n",
       "      <td>1.0</td>\n",
       "      <td>*</td>\n",
       "      <td>E98K</td>\n",
       "      <td>0.990650</td>\n",
       "      <td>0.130106</td>\n",
       "      <td>2.022470</td>\n",
       "      <td>0.000120</td>\n",
       "      <td>0.079353</td>\n",
       "      <td>0.247222</td>\n",
       "      <td>0.404000</td>\n",
       "      <td>1.001235</td>\n",
       "    </tr>\n",
       "    <tr>\n",
       "      <th>3</th>\n",
       "      <td>p.A160T</td>\n",
       "      <td>-8.508000</td>\n",
       "      <td>1.0</td>\n",
       "      <td>-8.508000</td>\n",
       "      <td>1.0</td>\n",
       "      <td>1.024971</td>\n",
       "      <td>1.0</td>\n",
       "      <td>*</td>\n",
       "      <td>A160T</td>\n",
       "      <td>0.992665</td>\n",
       "      <td>0.263915</td>\n",
       "      <td>1.819285</td>\n",
       "      <td>0.000308</td>\n",
       "      <td>0.106175</td>\n",
       "      <td>0.274833</td>\n",
       "      <td>8.508000</td>\n",
       "      <td>1.024971</td>\n",
       "    </tr>\n",
       "    <tr>\n",
       "      <th>4</th>\n",
       "      <td>p.T198I</td>\n",
       "      <td>-7.264333</td>\n",
       "      <td>1.0</td>\n",
       "      <td>-7.264333</td>\n",
       "      <td>1.0</td>\n",
       "      <td>1.018908</td>\n",
       "      <td>1.0</td>\n",
       "      <td>*</td>\n",
       "      <td>T198I</td>\n",
       "      <td>0.985794</td>\n",
       "      <td>0.243023</td>\n",
       "      <td>1.847224</td>\n",
       "      <td>0.000812</td>\n",
       "      <td>0.007174</td>\n",
       "      <td>0.270676</td>\n",
       "      <td>7.264333</td>\n",
       "      <td>1.018908</td>\n",
       "    </tr>\n",
       "  </tbody>\n",
       "</table>\n",
       "</div>"
      ],
      "text/plain": [
       "  MAPK3-variant  DDG-NotPO4  Standard-Deviation-DDG-NotPO4   DDG-PO4  \\\n",
       "0        p.I73M   -1.366667                            1.0 -1.366667   \n",
       "1        p.Q79H   -1.452667                            1.0 -1.452667   \n",
       "2        p.E98K   -0.404000                            1.0 -0.404000   \n",
       "3       p.A160T   -8.508000                            1.0 -8.508000   \n",
       "4       p.T198I   -7.264333                            1.0 -7.264333   \n",
       "\n",
       "    Standard-Deviation-DDG-PO4  Ratio-kcat/Km  \\\n",
       "0                          1.0       1.003706   \n",
       "1                          1.0       1.004529   \n",
       "2                          1.0       1.001235   \n",
       "3                          1.0       1.024971   \n",
       "4                          1.0       1.018908   \n",
       "\n",
       "   Standard-Deviation-Ratio-kcat/Km Comment    mut  protbert_score  \\\n",
       "0                               1.0       *   I73M        0.977409   \n",
       "1                               1.0       *   Q79H        0.990033   \n",
       "2                               1.0       *   E98K        0.990650   \n",
       "3                               1.0       *  A160T        0.992665   \n",
       "4                               1.0       *  T198I        0.985794   \n",
       "\n",
       "   proteinsolver_score  el2_score  protbert_ratio  proteinsolver_ratio  \\\n",
       "0             0.405283   1.363010        0.000732             0.027899   \n",
       "1             0.015758   1.607800        0.001132             0.644113   \n",
       "2             0.130106   2.022470        0.000120             0.079353   \n",
       "3             0.263915   1.819285        0.000308             0.106175   \n",
       "4             0.243023   1.847224        0.000812             0.007174   \n",
       "\n",
       "   el2_ratio  rosetta_dg_score  rosetta_dg_ratio  \n",
       "0   0.366835          1.366667          1.003706  \n",
       "1   0.310984          1.452667          1.004529  \n",
       "2   0.247222          0.404000          1.001235  \n",
       "3   0.274833          8.508000          1.024971  \n",
       "4   0.270676          7.264333          1.018908  "
      ]
     },
     "metadata": {},
     "output_type": "display_data"
    },
    {
     "name": "stdout",
     "output_type": "stream",
     "text": [
      "The file's format is valid! You are good to submit now!\n"
     ]
    }
   ],
   "source": [
    "result_dfs = {}\n",
    "for i, metric in enumerate([\"el2\", \"proteinsolver\", \"protbert\", \"rosetta_dg\"]):\n",
    "    result_dfs[metric] = result_df.copy()\n",
    "    result_dfs[metric][\"DDG-NotPO4\"] = -result_dfs[metric][f\"{metric}_score\"].values\n",
    "    result_dfs[metric][\"Standard-Deviation-DDG-NotPO4\"] = 1.0\n",
    "    result_dfs[metric][\"DDG-PO4\"] = -result_dfs[metric][f\"{metric}_score\"].values\n",
    "    result_dfs[metric][\" Standard-Deviation-DDG-PO4\"] = 1.0\n",
    "    result_dfs[metric][\"Ratio-kcat/Km\"] = result_dfs[metric][f\"{metric}_ratio\"].values\n",
    "    result_dfs[metric][\"Standard-Deviation-Ratio-kcat/Km\"] = 1.0\n",
    "    result_dfs[metric][\"Comment\"] = \"*\"\n",
    "\n",
    "    print(metric)\n",
    "    display(result_dfs[metric].head())\n",
    "\n",
    "    output_file = output_dir.joinpath(f\"strokach_modelnumber_{i + 1}.tsv\")\n",
    "    result_dfs[metric][result_template_df.columns].to_csv(output_file, sep=\"\\t\", index=False)\n",
    "    !python {NOTEBOOK_DIR}/validation.py {output_file}"
   ]
  },
  {
   "cell_type": "code",
   "execution_count": null,
   "id": "344dbba4-818c-46cc-ba2f-e59dcbfde85e",
   "metadata": {},
   "outputs": [],
   "source": []
  }
 ],
 "metadata": {
  "kernelspec": {
   "display_name": "Python 3 (ipykernel)",
   "language": "python",
   "name": "python3"
  },
  "language_info": {
   "codemirror_mode": {
    "name": "ipython",
    "version": 3
   },
   "file_extension": ".py",
   "mimetype": "text/x-python",
   "name": "python",
   "nbconvert_exporter": "python",
   "pygments_lexer": "ipython3",
   "version": "3.9.6"
  }
 },
 "nbformat": 4,
 "nbformat_minor": 5
}
