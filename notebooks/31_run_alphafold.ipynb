{
 "cells": [
  {
   "cell_type": "markdown",
   "metadata": {},
   "source": [
    "## Summary\n",
    "\n",
    "Calculate features using [ProtBert](https://github.com/agemagician/ProtTrans).\n",
    "\n",
    "---"
   ]
  },
  {
   "cell_type": "markdown",
   "metadata": {},
   "source": [
    "## Imports"
   ]
  },
  {
   "cell_type": "code",
   "execution_count": 1,
   "metadata": {},
   "outputs": [
    {
     "name": "stderr",
     "output_type": "stream",
     "text": [
      "Warning: importing 'simtk.openmm' is deprecated.  Import 'openmm' instead.\n"
     ]
    }
   ],
   "source": [
    "import concurrent.futures\n",
    "import os\n",
    "import re\n",
    "import subprocess\n",
    "import sys\n",
    "import tempfile\n",
    "from pathlib import Path\n",
    "\n",
    "import jax\n",
    "import kmbio\n",
    "import numpy as np\n",
    "import pandas as pd\n",
    "import pyarrow as pa\n",
    "import pyarrow.parquet as pq\n",
    "from elaspic2.plugins.alphafold import AlphaFold, AlphaFoldAnalyzeError, AlphaFoldBuildError\n",
    "from jax.lib import xla_bridge\n",
    "from kmbio import PDB\n",
    "from tqdm.notebook import tqdm"
   ]
  },
  {
   "cell_type": "markdown",
   "metadata": {},
   "source": [
    "## Parameters"
   ]
  },
  {
   "cell_type": "code",
   "execution_count": 2,
   "metadata": {},
   "outputs": [
    {
     "data": {
      "text/plain": [
       "PosixPath('/home/kimlab5/strokach/workspace/elaspic/elaspic2-cagi6/notebooks/31_run_alphafold')"
      ]
     },
     "execution_count": 2,
     "metadata": {},
     "output_type": "execute_result"
    }
   ],
   "source": [
    "NOTEBOOK_DIR = Path(\"31_run_alphafold\").resolve()\n",
    "NOTEBOOK_DIR.mkdir(exist_ok=True)\n",
    "\n",
    "NOTEBOOK_DIR"
   ]
  },
  {
   "cell_type": "code",
   "execution_count": 3,
   "metadata": {},
   "outputs": [
    {
     "name": "stdout",
     "output_type": "stream",
     "text": [
      "/tmp/strokach\n"
     ]
    }
   ],
   "source": [
    "if (slurm_tmpdir := os.getenv(\"SLURM_TMPDIR\")) is not None:\n",
    "    os.environ[\"TMPDIR\"] = slurm_tmpdir\n",
    "    \n",
    "print(tempfile.gettempdir())"
   ]
  },
  {
   "cell_type": "code",
   "execution_count": 4,
   "metadata": {},
   "outputs": [
    {
     "data": {
      "text/plain": [
       "(None, None, None)"
      ]
     },
     "execution_count": 4,
     "metadata": {},
     "output_type": "execute_result"
    }
   ],
   "source": [
    "DATASET_NAME = os.getenv(\"DATASET_NAME\")\n",
    "DATASET_NAME = os.getenv(\"DATASET_PATH\")\n",
    "TASK_ID = os.getenv(\"SLURM_ARRAY_TASK_ID\")\n",
    "TASK_COUNT = os.getenv(\"ORIGINAL_ARRAY_TASK_COUNT\") or os.getenv(\"SLURM_ARRAY_TASK_COUNT\")\n",
    "\n",
    "TASK_ID = int(TASK_ID) if TASK_ID is not None else None\n",
    "TASK_COUNT = int(TASK_COUNT) if TASK_COUNT is not None else None\n",
    "\n",
    "DATASET_NAME, TASK_ID, TASK_COUNT"
   ]
  },
  {
   "cell_type": "code",
   "execution_count": 5,
   "metadata": {},
   "outputs": [
    {
     "data": {
      "text/plain": [
       "('cagi6-sherloc', 1, 4182)"
      ]
     },
     "execution_count": 5,
     "metadata": {},
     "output_type": "execute_result"
    }
   ],
   "source": [
    "DEBUG = TASK_ID is None\n",
    "\n",
    "if DEBUG:\n",
    "    DATASET_NAME = \"cagi6-sherloc\"\n",
    "    DATASET_PATH = str(\n",
    "        NOTEBOOK_DIR.parent.joinpath(\"30_cagi6_sherloc\", \"input-data-gby-protein.parquet\")\n",
    "    )\n",
    "    TASK_ID = 1\n",
    "    TASK_COUNT = 4182\n",
    "else:\n",
    "    assert DATASET_NAME is not None\n",
    "    assert DATASET_PATH is not None\n",
    "    assert TASK_ID is not None\n",
    "    assert TASK_COUNT is not None\n",
    "\n",
    "DATASET_NAME, TASK_ID, TASK_COUNT"
   ]
  },
  {
   "cell_type": "code",
   "execution_count": 6,
   "metadata": {
    "colab": {
     "base_uri": "https://localhost:8080/"
    },
    "id": "HCyTzII-HD1t",
    "outputId": "92f63199-1727-48d3-cb4b-6ff798fa75b6"
   },
   "outputs": [
    {
     "name": "stderr",
     "output_type": "stream",
     "text": [
      "WARNING:absl:No GPU/TPU found, falling back to CPU. (Set TF_CPP_MIN_LOG_LEVEL=0 and rerun for more info.)\n"
     ]
    },
    {
     "data": {
      "text/plain": [
       "'cpu'"
      ]
     },
     "execution_count": 6,
     "metadata": {},
     "output_type": "execute_result"
    }
   ],
   "source": [
    "device = xla_bridge.get_backend().platform\n",
    "\n",
    "device"
   ]
  },
  {
   "cell_type": "markdown",
   "metadata": {},
   "source": [
    "## Workspace"
   ]
  },
  {
   "cell_type": "markdown",
   "metadata": {},
   "source": [
    "### Initialize model"
   ]
  },
  {
   "cell_type": "code",
   "execution_count": 7,
   "metadata": {},
   "outputs": [
    {
     "name": "stdout",
     "output_type": "stream",
     "text": [
      "__init__.py  params  __pycache__\n"
     ]
    }
   ],
   "source": [
    "!ls /home/kimlab5/strokach/workspace/elaspic/elaspic2/src/elaspic2/plugins/alphafold/data/"
   ]
  },
  {
   "cell_type": "code",
   "execution_count": 8,
   "metadata": {},
   "outputs": [],
   "source": [
    "AlphaFold.load_model(device=device)"
   ]
  },
  {
   "cell_type": "markdown",
   "metadata": {},
   "source": [
    "### Load data"
   ]
  },
  {
   "cell_type": "code",
   "execution_count": 9,
   "metadata": {},
   "outputs": [
    {
     "data": {
      "text/plain": [
       "4182"
      ]
     },
     "execution_count": 9,
     "metadata": {},
     "output_type": "execute_result"
    }
   ],
   "source": [
    "pfile = pq.ParquetFile(DATASET_PATH)\n",
    "\n",
    "pfile.num_row_groups"
   ]
  },
  {
   "cell_type": "code",
   "execution_count": 10,
   "metadata": {},
   "outputs": [],
   "source": [
    "assert TASK_COUNT == pfile.num_row_groups"
   ]
  },
  {
   "cell_type": "code",
   "execution_count": 11,
   "metadata": {},
   "outputs": [],
   "source": [
    "input_df = pfile.read_row_group(TASK_ID - 1).to_pandas(integer_object_nulls=True)"
   ]
  },
  {
   "cell_type": "code",
   "execution_count": 12,
   "metadata": {},
   "outputs": [
    {
     "data": {
      "text/html": [
       "<div>\n",
       "<style scoped>\n",
       "    .dataframe tbody tr th:only-of-type {\n",
       "        vertical-align: middle;\n",
       "    }\n",
       "\n",
       "    .dataframe tbody tr th {\n",
       "        vertical-align: top;\n",
       "    }\n",
       "\n",
       "    .dataframe thead th {\n",
       "        text-align: right;\n",
       "    }\n",
       "</style>\n",
       "<table border=\"1\" class=\"dataframe\">\n",
       "  <thead>\n",
       "    <tr style=\"text-align: right;\">\n",
       "      <th></th>\n",
       "      <th>protein_id</th>\n",
       "      <th>mutation_id</th>\n",
       "      <th>mutation</th>\n",
       "      <th>effect</th>\n",
       "      <th>sequence</th>\n",
       "      <th>structure</th>\n",
       "      <th>alignment</th>\n",
       "    </tr>\n",
       "  </thead>\n",
       "  <tbody>\n",
       "    <tr>\n",
       "      <th>0</th>\n",
       "      <td>P26678</td>\n",
       "      <td>[NM_002667.3:c.25C&gt;T, NM_002667.3:c.22A&gt;C, NM_...</td>\n",
       "      <td>[R9C, T8P, F32S, P21T, R25C, R25H, I38T, F32S,...</td>\n",
       "      <td>[Pathogenic, Uncertain significance, None, Unc...</td>\n",
       "      <td>MEKVQYLTRSAIRRASTIEMPQQARQKLQNLFINFCLILICLLLIC...</td>\n",
       "      <td>HEADER                                        ...</td>\n",
       "      <td>[&gt;101\\n, MEKVQYLTRSAIRRASTIEMPQQARQKLQNLFINFCL...</td>\n",
       "    </tr>\n",
       "  </tbody>\n",
       "</table>\n",
       "</div>"
      ],
      "text/plain": [
       "  protein_id                                        mutation_id  \\\n",
       "0     P26678  [NM_002667.3:c.25C>T, NM_002667.3:c.22A>C, NM_...   \n",
       "\n",
       "                                            mutation  \\\n",
       "0  [R9C, T8P, F32S, P21T, R25C, R25H, I38T, F32S,...   \n",
       "\n",
       "                                              effect  \\\n",
       "0  [Pathogenic, Uncertain significance, None, Unc...   \n",
       "\n",
       "                                            sequence  \\\n",
       "0  MEKVQYLTRSAIRRASTIEMPQQARQKLQNLFINFCLILICLLLIC...   \n",
       "\n",
       "                                           structure  \\\n",
       "0  HEADER                                        ...   \n",
       "\n",
       "                                           alignment  \n",
       "0  [>101\\n, MEKVQYLTRSAIRRASTIEMPQQARQKLQNLFINFCL...  "
      ]
     },
     "metadata": {},
     "output_type": "display_data"
    },
    {
     "name": "stdout",
     "output_type": "stream",
     "text": [
      "1\n"
     ]
    }
   ],
   "source": [
    "display(input_df.head(2))\n",
    "print(len(input_df))"
   ]
  },
  {
   "cell_type": "code",
   "execution_count": 13,
   "metadata": {},
   "outputs": [
    {
     "data": {
      "text/plain": [
       "['mutation_id', 'mutation', 'effect']"
      ]
     },
     "execution_count": 13,
     "metadata": {},
     "output_type": "execute_result"
    }
   ],
   "source": [
    "tup = next(input_df.itertuples(index=False))\n",
    "\n",
    "iterable_fields = []\n",
    "for field in tup._fields:\n",
    "    try:\n",
    "        if len(getattr(tup, field)) == len(tup.mutation):\n",
    "            iterable_fields.append(field)\n",
    "    except TypeError:\n",
    "        pass\n",
    "\n",
    "iterable_fields"
   ]
  },
  {
   "cell_type": "code",
   "execution_count": 14,
   "metadata": {},
   "outputs": [],
   "source": [
    "if DEBUG:\n",
    "    for field in iterable_fields:\n",
    "        input_df[field] = input_df[field].str[:3]"
   ]
  },
  {
   "cell_type": "markdown",
   "metadata": {},
   "source": [
    "### Score mutations"
   ]
  },
  {
   "cell_type": "code",
   "execution_count": 15,
   "metadata": {},
   "outputs": [],
   "source": [
    "def validate_mutation(mutation):\n",
    "    aa = \"GVALICMFWPDESTYQNKRH\"\n",
    "    if re.search(f\"^[{aa}][1-9]+[0-9]*[{aa}]$\", mutation) is None:\n",
    "        print(f\"Skipping mutation {mutation} because it appears to be malformed.\")\n",
    "        return False\n",
    "\n",
    "    if mutation[0] == mutation[-1]:\n",
    "        print(\n",
    "            f\"Skipping mutation {mutation} because the wildtype and mutant residues are the same.\"\n",
    "        )\n",
    "        return False\n",
    "\n",
    "    return True"
   ]
  },
  {
   "cell_type": "code",
   "execution_count": 16,
   "metadata": {},
   "outputs": [],
   "source": [
    "def worker(mutation, data):\n",
    "    try:\n",
    "        results = AlphaFold.analyze_mutation(f\"A_{mutation}\", data)\n",
    "    except AlphaFoldAnalyzeError as error:\n",
    "        print(f\"{error!r}\")\n",
    "        return None\n",
    "    else:\n",
    "        results = {f\"alphafold_core_{key}\": value for key, value in results.items()}\n",
    "        return results"
   ]
  },
  {
   "cell_type": "code",
   "execution_count": 17,
   "metadata": {},
   "outputs": [
    {
     "data": {
      "application/vnd.jupyter.widget-view+json": {
       "model_id": "d19cb89bc4a84b6b9a86b03b9cc4cd28",
       "version_major": 2,
       "version_minor": 0
      },
      "text/plain": [
       "  0%|          | 0/1 [00:00<?, ?it/s]"
      ]
     },
     "metadata": {},
     "output_type": "display_data"
    },
    {
     "name": "stdout",
     "output_type": "stream",
     "text": [
      "WARNING:tensorflow:AutoGraph could not transform <function nearest_neighbor_clusters at 0x7f0fdc64bb80> and will run it as-is.\n",
      "Please report this to the TensorFlow team. When filing the bug, set the verbosity to 10 (on Linux, `export AUTOGRAPH_VERBOSITY=10`) and attach the full output.\n",
      "Cause: invalid syntax (tmpfk7cxx3n.py, line 12)\n",
      "To silence this warning, decorate the function with @tf.autograph.experimental.do_not_convert\n"
     ]
    },
    {
     "name": "stderr",
     "output_type": "stream",
     "text": [
      "WARNING:tensorflow:AutoGraph could not transform <function nearest_neighbor_clusters at 0x7f0fdc64bb80> and will run it as-is.\n",
      "Please report this to the TensorFlow team. When filing the bug, set the verbosity to 10 (on Linux, `export AUTOGRAPH_VERBOSITY=10`) and attach the full output.\n",
      "Cause: invalid syntax (tmpfk7cxx3n.py, line 12)\n",
      "To silence this warning, decorate the function with @tf.autograph.experimental.do_not_convert\n"
     ]
    },
    {
     "name": "stdout",
     "output_type": "stream",
     "text": [
      "WARNING: AutoGraph could not transform <function nearest_neighbor_clusters at 0x7f0fdc64bb80> and will run it as-is.\n",
      "Please report this to the TensorFlow team. When filing the bug, set the verbosity to 10 (on Linux, `export AUTOGRAPH_VERBOSITY=10`) and attach the full output.\n",
      "Cause: invalid syntax (tmpfk7cxx3n.py, line 12)\n",
      "To silence this warning, decorate the function with @tf.autograph.experimental.do_not_convert\n",
      "WARNING:tensorflow:AutoGraph could not transform <function summarize_clusters at 0x7f0fdc64bca0> and will run it as-is.\n",
      "Please report this to the TensorFlow team. When filing the bug, set the verbosity to 10 (on Linux, `export AUTOGRAPH_VERBOSITY=10`) and attach the full output.\n",
      "Cause: invalid syntax (tmp6zy4w5lt.py, line 27)\n",
      "To silence this warning, decorate the function with @tf.autograph.experimental.do_not_convert\n"
     ]
    },
    {
     "name": "stderr",
     "output_type": "stream",
     "text": [
      "WARNING:tensorflow:AutoGraph could not transform <function summarize_clusters at 0x7f0fdc64bca0> and will run it as-is.\n",
      "Please report this to the TensorFlow team. When filing the bug, set the verbosity to 10 (on Linux, `export AUTOGRAPH_VERBOSITY=10`) and attach the full output.\n",
      "Cause: invalid syntax (tmp6zy4w5lt.py, line 27)\n",
      "To silence this warning, decorate the function with @tf.autograph.experimental.do_not_convert\n"
     ]
    },
    {
     "name": "stdout",
     "output_type": "stream",
     "text": [
      "WARNING: AutoGraph could not transform <function summarize_clusters at 0x7f0fdc64bca0> and will run it as-is.\n",
      "Please report this to the TensorFlow team. When filing the bug, set the verbosity to 10 (on Linux, `export AUTOGRAPH_VERBOSITY=10`) and attach the full output.\n",
      "Cause: invalid syntax (tmp6zy4w5lt.py, line 27)\n",
      "To silence this warning, decorate the function with @tf.autograph.experimental.do_not_convert\n"
     ]
    },
    {
     "name": "stderr",
     "output_type": "stream",
     "text": [
      "2021-09-17 20:49:07.102788: E external/org_tensorflow/tensorflow/compiler/xla/service/slow_operation_alarm.cc:55] \n",
      "********************************\n",
      "Very slow compile?  If you want to file a bug, run with envvar XLA_FLAGS=--xla_dump_to=/tmp/foo and attach the results.\n",
      "Compiling module jit_apply_fn.66745\n",
      "********************************\n"
     ]
    },
    {
     "data": {
      "application/vnd.jupyter.widget-view+json": {
       "model_id": "",
       "version_major": 2,
       "version_minor": 0
      },
      "text/plain": [
       "  0%|          | 0/3 [00:00<?, ?it/s]"
      ]
     },
     "metadata": {},
     "output_type": "display_data"
    }
   ],
   "source": [
    "results = []\n",
    "for tup in tqdm(input_df.itertuples(index=False), total=len(input_df)):\n",
    "    assert all([(len(getattr(tup, field)) == len(tup.mutation)) for field in iterable_fields])\n",
    "\n",
    "    data = AlphaFold.build(tup.sequence, ligand_sequence=None, msa=tup.alignment)\n",
    "\n",
    "    for mutation_idx, mutation in enumerate(tqdm(tup.mutation, leave=False)):\n",
    "        if not validate_mutation(mutation):\n",
    "            continue\n",
    "\n",
    "        result = worker(mutation, data)\n",
    "        if result is None:\n",
    "            continue\n",
    "\n",
    "        results.append(\n",
    "            {\n",
    "                \"protein_id\": tup.protein_id,\n",
    "                \"mutation\": mutation,\n",
    "            }\n",
    "            | {field: getattr(tup, field)[mutation_idx] for field in iterable_fields}\n",
    "            | result\n",
    "        )\n",
    "\n",
    "results_df = pd.DataFrame(results)"
   ]
  },
  {
   "cell_type": "code",
   "execution_count": 18,
   "metadata": {},
   "outputs": [
    {
     "data": {
      "text/html": [
       "<div>\n",
       "<style scoped>\n",
       "    .dataframe tbody tr th:only-of-type {\n",
       "        vertical-align: middle;\n",
       "    }\n",
       "\n",
       "    .dataframe tbody tr th {\n",
       "        vertical-align: top;\n",
       "    }\n",
       "\n",
       "    .dataframe thead th {\n",
       "        text-align: right;\n",
       "    }\n",
       "</style>\n",
       "<table border=\"1\" class=\"dataframe\">\n",
       "  <thead>\n",
       "    <tr style=\"text-align: right;\">\n",
       "      <th></th>\n",
       "      <th>protein_id</th>\n",
       "      <th>mutation</th>\n",
       "      <th>mutation_id</th>\n",
       "      <th>effect</th>\n",
       "      <th>alphafold_core_scores_residue_plddt_wt</th>\n",
       "      <th>alphafold_core_scores_protein_plddt_wt</th>\n",
       "      <th>alphafold_core_scores_protein_max_predicted_aligned_error_wt</th>\n",
       "      <th>alphafold_core_scores_proten_ptm_wt</th>\n",
       "      <th>alphafold_core_features_residue_experimentally_resolved_wt</th>\n",
       "      <th>alphafold_core_features_residue_predicted_lddt_wt</th>\n",
       "      <th>...</th>\n",
       "      <th>alphafold_core_features_residue_experimentally_resolved_mut</th>\n",
       "      <th>alphafold_core_features_residue_predicted_lddt_mut</th>\n",
       "      <th>alphafold_core_features_residue_msa_first_row_mut</th>\n",
       "      <th>alphafold_core_features_residue_single_mut</th>\n",
       "      <th>alphafold_core_features_residue_structure_module_mut</th>\n",
       "      <th>alphafold_core_features_protein_experimentally_resolved_mut</th>\n",
       "      <th>alphafold_core_features_protein_predicted_lddt_mut</th>\n",
       "      <th>alphafold_core_features_protein_msa_first_row_mut</th>\n",
       "      <th>alphafold_core_features_protein_single_mut</th>\n",
       "      <th>alphafold_core_features_protein_structure_module_mut</th>\n",
       "    </tr>\n",
       "  </thead>\n",
       "  <tbody>\n",
       "    <tr>\n",
       "      <th>0</th>\n",
       "      <td>P26678</td>\n",
       "      <td>R9C</td>\n",
       "      <td>NM_002667.3:c.25C&gt;T</td>\n",
       "      <td>Pathogenic</td>\n",
       "      <td>60.143024</td>\n",
       "      <td>76.669229</td>\n",
       "      <td>31.75</td>\n",
       "      <td>0.428104</td>\n",
       "      <td>[0.91980046, 0.93805194, 1.1262269, 0.71249473...</td>\n",
       "      <td>[-6.096446, -7.130394, -6.2001715, -5.482113, ...</td>\n",
       "      <td>...</td>\n",
       "      <td>[0.86495286, 0.8837349, 0.99142677, 0.69788605...</td>\n",
       "      <td>[-5.995908, -7.0391264, -6.134736, -5.429315, ...</td>\n",
       "      <td>[0.25319177, 2.9904017, -10.597328, 4.9771013,...</td>\n",
       "      <td>[13.532112, -14.943062, 22.028437, -28.517002,...</td>\n",
       "      <td>[0.004844746, 0.010447413, -0.005723976, 0.001...</td>\n",
       "      <td>[0.5032713, 0.5308786, 0.6542605, 0.49861935, ...</td>\n",
       "      <td>[-6.077047, -7.7973776, -6.7493367, -5.9762626...</td>\n",
       "      <td>[1.7017388, 2.4887137, -3.5103338, 2.986837, -...</td>\n",
       "      <td>[8.305865, 9.063175, 22.442371, -10.052725, -5...</td>\n",
       "      <td>[0.0020534596, 0.011630214, -0.005989557, 0.00...</td>\n",
       "    </tr>\n",
       "    <tr>\n",
       "      <th>1</th>\n",
       "      <td>P26678</td>\n",
       "      <td>T8P</td>\n",
       "      <td>NM_002667.3:c.22A&gt;C</td>\n",
       "      <td>Uncertain significance</td>\n",
       "      <td>60.421725</td>\n",
       "      <td>76.669229</td>\n",
       "      <td>31.75</td>\n",
       "      <td>0.428104</td>\n",
       "      <td>[-0.9088592, -0.91381735, -1.0385773, -1.09823...</td>\n",
       "      <td>[-5.636691, -7.329773, -6.1853166, -5.387794, ...</td>\n",
       "      <td>...</td>\n",
       "      <td>[-0.68684113, -0.6815068, -0.8155767, -0.88297...</td>\n",
       "      <td>[-5.5785475, -7.255927, -6.1465797, -5.368289,...</td>\n",
       "      <td>[4.0005136, 2.2147536, -8.588517, 3.2489474, -...</td>\n",
       "      <td>[0.6381166, 15.6405945, 40.020134, -30.35323, ...</td>\n",
       "      <td>[0.005779301, 0.007556449, -0.0058354866, 0.00...</td>\n",
       "      <td>[0.5103155, 0.5385052, 0.66315275, 0.50580376,...</td>\n",
       "      <td>[-6.0924473, -7.7991695, -6.75408, -5.981562, ...</td>\n",
       "      <td>[1.7752985, 2.522232, -3.5305977, 3.0123546, -...</td>\n",
       "      <td>[8.289321, 9.056566, 22.490763, -10.121397, -5...</td>\n",
       "      <td>[0.0021891003, 0.0117158955, -0.0059981886, 0....</td>\n",
       "    </tr>\n",
       "  </tbody>\n",
       "</table>\n",
       "<p>2 rows × 32 columns</p>\n",
       "</div>"
      ],
      "text/plain": [
       "  protein_id mutation          mutation_id                  effect  \\\n",
       "0     P26678      R9C  NM_002667.3:c.25C>T              Pathogenic   \n",
       "1     P26678      T8P  NM_002667.3:c.22A>C  Uncertain significance   \n",
       "\n",
       "   alphafold_core_scores_residue_plddt_wt  \\\n",
       "0                               60.143024   \n",
       "1                               60.421725   \n",
       "\n",
       "   alphafold_core_scores_protein_plddt_wt  \\\n",
       "0                               76.669229   \n",
       "1                               76.669229   \n",
       "\n",
       "   alphafold_core_scores_protein_max_predicted_aligned_error_wt  \\\n",
       "0                                              31.75              \n",
       "1                                              31.75              \n",
       "\n",
       "   alphafold_core_scores_proten_ptm_wt  \\\n",
       "0                             0.428104   \n",
       "1                             0.428104   \n",
       "\n",
       "  alphafold_core_features_residue_experimentally_resolved_wt  \\\n",
       "0  [0.91980046, 0.93805194, 1.1262269, 0.71249473...           \n",
       "1  [-0.9088592, -0.91381735, -1.0385773, -1.09823...           \n",
       "\n",
       "   alphafold_core_features_residue_predicted_lddt_wt  ...  \\\n",
       "0  [-6.096446, -7.130394, -6.2001715, -5.482113, ...  ...   \n",
       "1  [-5.636691, -7.329773, -6.1853166, -5.387794, ...  ...   \n",
       "\n",
       "  alphafold_core_features_residue_experimentally_resolved_mut  \\\n",
       "0  [0.86495286, 0.8837349, 0.99142677, 0.69788605...            \n",
       "1  [-0.68684113, -0.6815068, -0.8155767, -0.88297...            \n",
       "\n",
       "  alphafold_core_features_residue_predicted_lddt_mut  \\\n",
       "0  [-5.995908, -7.0391264, -6.134736, -5.429315, ...   \n",
       "1  [-5.5785475, -7.255927, -6.1465797, -5.368289,...   \n",
       "\n",
       "   alphafold_core_features_residue_msa_first_row_mut  \\\n",
       "0  [0.25319177, 2.9904017, -10.597328, 4.9771013,...   \n",
       "1  [4.0005136, 2.2147536, -8.588517, 3.2489474, -...   \n",
       "\n",
       "          alphafold_core_features_residue_single_mut  \\\n",
       "0  [13.532112, -14.943062, 22.028437, -28.517002,...   \n",
       "1  [0.6381166, 15.6405945, 40.020134, -30.35323, ...   \n",
       "\n",
       "  alphafold_core_features_residue_structure_module_mut  \\\n",
       "0  [0.004844746, 0.010447413, -0.005723976, 0.001...     \n",
       "1  [0.005779301, 0.007556449, -0.0058354866, 0.00...     \n",
       "\n",
       "  alphafold_core_features_protein_experimentally_resolved_mut  \\\n",
       "0  [0.5032713, 0.5308786, 0.6542605, 0.49861935, ...            \n",
       "1  [0.5103155, 0.5385052, 0.66315275, 0.50580376,...            \n",
       "\n",
       "  alphafold_core_features_protein_predicted_lddt_mut  \\\n",
       "0  [-6.077047, -7.7973776, -6.7493367, -5.9762626...   \n",
       "1  [-6.0924473, -7.7991695, -6.75408, -5.981562, ...   \n",
       "\n",
       "   alphafold_core_features_protein_msa_first_row_mut  \\\n",
       "0  [1.7017388, 2.4887137, -3.5103338, 2.986837, -...   \n",
       "1  [1.7752985, 2.522232, -3.5305977, 3.0123546, -...   \n",
       "\n",
       "          alphafold_core_features_protein_single_mut  \\\n",
       "0  [8.305865, 9.063175, 22.442371, -10.052725, -5...   \n",
       "1  [8.289321, 9.056566, 22.490763, -10.121397, -5...   \n",
       "\n",
       "   alphafold_core_features_protein_structure_module_mut  \n",
       "0  [0.0020534596, 0.011630214, -0.005989557, 0.00...     \n",
       "1  [0.0021891003, 0.0117158955, -0.0059981886, 0....     \n",
       "\n",
       "[2 rows x 32 columns]"
      ]
     },
     "metadata": {},
     "output_type": "display_data"
    },
    {
     "name": "stdout",
     "output_type": "stream",
     "text": [
      "3\n"
     ]
    }
   ],
   "source": [
    "display(results_df.head(2))\n",
    "print(len(results_df))"
   ]
  },
  {
   "cell_type": "markdown",
   "metadata": {},
   "source": [
    "### Save results"
   ]
  },
  {
   "cell_type": "code",
   "execution_count": 19,
   "metadata": {},
   "outputs": [
    {
     "data": {
      "text/plain": [
       "PosixPath('/home/kimlab5/strokach/workspace/elaspic/elaspic2-cagi6/notebooks/31_run_alphafold/cagi6-sherloc/shard-1-of-4182.parquet')"
      ]
     },
     "execution_count": 19,
     "metadata": {},
     "output_type": "execute_result"
    }
   ],
   "source": [
    "output_file = NOTEBOOK_DIR.joinpath(DATASET_NAME, f\"shard-{TASK_ID}-of-{TASK_COUNT}.parquet\")\n",
    "output_file.parent.mkdir(exist_ok=True)\n",
    "\n",
    "output_file"
   ]
  },
  {
   "cell_type": "code",
   "execution_count": 20,
   "metadata": {},
   "outputs": [],
   "source": [
    "pq.write_table(pa.Table.from_pandas(results_df, preserve_index=False), output_file)"
   ]
  },
  {
   "cell_type": "code",
   "execution_count": null,
   "metadata": {},
   "outputs": [],
   "source": []
  }
 ],
 "metadata": {
  "kernelspec": {
   "display_name": "Python 3 (ipykernel)",
   "language": "python",
   "name": "python3"
  },
  "language_info": {
   "codemirror_mode": {
    "name": "ipython",
    "version": 3
   },
   "file_extension": ".py",
   "mimetype": "text/x-python",
   "name": "python",
   "nbconvert_exporter": "python",
   "pygments_lexer": "ipython3",
   "version": "3.9.6"
  }
 },
 "nbformat": 4,
 "nbformat_minor": 4
}
