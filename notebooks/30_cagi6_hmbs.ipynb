{
 "cells": [
  {
   "cell_type": "markdown",
   "id": "26c81e96-6b41-41fa-80a6-6360c482eb58",
   "metadata": {},
   "source": [
    "## Summary\n",
    "\n",
    "---"
   ]
  },
  {
   "cell_type": "markdown",
   "id": "ec276dec-6afa-4b57-bbfc-a11e04a8767e",
   "metadata": {},
   "source": [
    "## Imports"
   ]
  },
  {
   "cell_type": "code",
   "execution_count": 1,
   "id": "539f4edf-ca04-4bef-b5c9-a6d402f7570b",
   "metadata": {},
   "outputs": [
    {
     "name": "stderr",
     "output_type": "stream",
     "text": [
      "Warning: importing 'simtk.openmm' is deprecated.  Import 'openmm' instead.\n"
     ]
    }
   ],
   "source": [
    "import contextlib\n",
    "import os\n",
    "import tempfile\n",
    "import urllib.request\n",
    "from datetime import datetime\n",
    "from pathlib import Path\n",
    "\n",
    "import dotenv\n",
    "import matplotlib.pyplot as plt\n",
    "import numpy as np\n",
    "import pandas as pd\n",
    "import pyarrow as pa\n",
    "import pyarrow.parquet as pq\n",
    "import seaborn as sns\n",
    "from kmbio import PDB\n",
    "from kmtools import structure_tools\n",
    "from tqdm.auto import tqdm"
   ]
  },
  {
   "cell_type": "markdown",
   "id": "5be0ca05-c038-414f-ba84-b2ae8013088b",
   "metadata": {},
   "source": [
    "## Parameters"
   ]
  },
  {
   "cell_type": "code",
   "execution_count": 2,
   "id": "10e1faee-9f6a-40d8-8819-272b1c9837bb",
   "metadata": {},
   "outputs": [
    {
     "data": {
      "text/plain": [
       "PosixPath('/home/kimlab5/strokach/workspace/elaspic/elaspic2-cagi6/notebooks/30_cagi6_hmbs')"
      ]
     },
     "execution_count": 2,
     "metadata": {},
     "output_type": "execute_result"
    }
   ],
   "source": [
    "NOTEBOOK_DIR = Path(\"30_cagi6_hmbs\").resolve()\n",
    "NOTEBOOK_DIR.mkdir(exist_ok=True)\n",
    "\n",
    "NOTEBOOK_DIR"
   ]
  },
  {
   "cell_type": "code",
   "execution_count": 3,
   "id": "7be7cf0d-6a09-4d3d-9742-06ab6b3734fe",
   "metadata": {},
   "outputs": [
    {
     "data": {
      "text/plain": [
       "'P08397'"
      ]
     },
     "execution_count": 3,
     "metadata": {},
     "output_type": "execute_result"
    }
   ],
   "source": [
    "UNIPROT_ID = \"P08397\"\n",
    "\n",
    "UNIPROT_ID"
   ]
  },
  {
   "cell_type": "markdown",
   "id": "7b880de8-3082-4311-8cea-b6f90c32b7c0",
   "metadata": {},
   "source": [
    "## Download data"
   ]
  },
  {
   "cell_type": "code",
   "execution_count": null,
   "id": "e6d8f38c-b1aa-49d6-a52d-72380fb91046",
   "metadata": {},
   "outputs": [],
   "source": [
    "def download(url, filename):\n",
    "    urllib.request.urlretrieve(url, filename)"
   ]
  },
  {
   "cell_type": "code",
   "execution_count": null,
   "id": "ee765d16-e464-445e-8389-942395f187b5",
   "metadata": {},
   "outputs": [],
   "source": [
    "def load_sequence(sequence_file):\n",
    "    with sequence_file.open(\"rt\") as fin:\n",
    "        data = fin.read()\n",
    "    chunks = []\n",
    "    for line in data.split(\"\\n\"):\n",
    "        if line.startswith(\">\"):\n",
    "            continue\n",
    "        chunks.append(line.strip())\n",
    "    return \"\".join(chunks)"
   ]
  },
  {
   "cell_type": "code",
   "execution_count": null,
   "id": "74d3438a-0e9f-4f18-b08a-20675c166098",
   "metadata": {},
   "outputs": [],
   "source": [
    "if not NOTEBOOK_DIR.joinpath(\"validation.py\").is_file():\n",
    "    import synapseclient\n",
    "    import synapseutils\n",
    "\n",
    "    dotenv.load_dotenv(\"../.env\")\n",
    "    syn = synapseclient.Synapse()\n",
    "    syn.login(os.environ[\"SYNAPSE_USERNAME\"], os.environ[\"SYNAPSE_PASSWORD\"])\n",
    "    _ = synapseutils.syncFromSynapse(syn, \"syn25823964\", path=NOTEBOOK_DIR)"
   ]
  },
  {
   "cell_type": "code",
   "execution_count": null,
   "id": "9c551016-b6c3-4835-b285-35acf4a6f720",
   "metadata": {},
   "outputs": [],
   "source": [
    "sequence_file = NOTEBOOK_DIR.joinpath(f\"{UNIPROT_ID}.fasta\")\n",
    "\n",
    "if not sequence_file.is_file():\n",
    "    download(f\"https://www.uniprot.org/uniprot/{UNIPROT_ID}.fasta\", sequence_file)\n",
    "\n",
    "sequence = load_sequence(sequence_file)"
   ]
  },
  {
   "cell_type": "code",
   "execution_count": null,
   "id": "7a890bed-11da-4175-9d5e-e472dcc38354",
   "metadata": {},
   "outputs": [],
   "source": [
    "structure_file = NOTEBOOK_DIR.joinpath(f\"{UNIPROT_ID}.pdb\")\n",
    "\n",
    "if not structure_file.is_file():\n",
    "    download(f\"https://alphafold.ebi.ac.uk/files/AF-{UNIPROT_ID}-F1-model_v1.pdb\", structure_file)\n",
    "\n",
    "with structure_file.open(\"r\") as fin:\n",
    "    structure_blob = fin.read()"
   ]
  },
  {
   "cell_type": "code",
   "execution_count": null,
   "id": "7f0de317-4b17-45fd-97b1-803eb4e52c3e",
   "metadata": {},
   "outputs": [],
   "source": [
    "alignment_file = NOTEBOOK_DIR.joinpath(f\"{UNIPROT_ID}.a3m.gz\")\n",
    "\n",
    "if not alignment_file.is_file():\n",
    "    from elaspic2.plugins.alphafold2 import mmseqs2\n",
    "\n",
    "    dotenv.load_dotenv(\"../.env\")\n",
    "    with mmseqs2.api_gateway(mmseqs2.MMSEQS2_HOST_URL) as gateway:\n",
    "        alignment = mmseqs2.run_mmseqs2(sequence, gateway=gateway)\n",
    "        assert alignment[1] == f\"{sequence}\\n\"\n",
    "        alignment_df = pd.DataFrame({\"alignment\": alignment})\n",
    "        pq.write_table(pa.Table.from_pandas(alignment_df, preserve_index=False), alignment_file)\n",
    "\n",
    "alignment = pq.read_table(alignment_file).to_pandas()[\"alignment\"].values.tolist()"
   ]
  },
  {
   "cell_type": "markdown",
   "id": "105ad7e2-8d2d-4202-bcc6-75501fee5ae4",
   "metadata": {
    "tags": []
   },
   "source": [
    "## Load data"
   ]
  },
  {
   "cell_type": "code",
   "execution_count": null,
   "id": "b5ebf76b-550d-4df8-b085-c0da9e421c8f",
   "metadata": {},
   "outputs": [],
   "source": [
    "aaa_dict = {**structure_tools.constants.AAA_DICT, \"TER\": \"*\"}\n",
    "\n",
    "\n",
    "def format_mutation(mutation):\n",
    "    wt, pos, mut = mutation\n",
    "\n",
    "    wt = aaa_dict[wt.upper()]\n",
    "    mut = wt if mut == \"=\" else aaa_dict[mut.upper()]\n",
    "    pos = int(pos)\n",
    "\n",
    "    return f\"{wt}{pos}{mut}\""
   ]
  },
  {
   "cell_type": "code",
   "execution_count": null,
   "id": "4e4175ef-a2e0-4b98-ac65-08455f1e2e02",
   "metadata": {},
   "outputs": [],
   "source": [
    "def mutation_matches_sequence(mutation, sequence):\n",
    "    wt, pos, mut = mutation[0], mutation[1:-1], mutation[-1]\n",
    "    pos = int(pos)\n",
    "    return sequence[pos - 1] == wt"
   ]
  },
  {
   "cell_type": "code",
   "execution_count": null,
   "id": "eac764f5-11e2-4a85-9e08-9b3ab717f38e",
   "metadata": {},
   "outputs": [],
   "source": [
    "def sequence_matches_structure(sequence, structure_blob):\n",
    "    with tempfile.NamedTemporaryFile(suffix=\".pdb\") as tmp_file:\n",
    "        with open(tmp_file.name, \"wt\") as fout:\n",
    "            fout.write(structure_blob)\n",
    "        structure = PDB.load(tmp_file.name)\n",
    "\n",
    "    chain_sequence = structure_tools.get_chain_sequence(\n",
    "        structure[0][\"A\"], if_unknown=\"replace\", unknown_residue_marker=\"\"\n",
    "    )\n",
    "    return sequence == chain_sequence"
   ]
  },
  {
   "cell_type": "code",
   "execution_count": null,
   "id": "406c9375-4cb5-4ced-aebe-1c5d1078f516",
   "metadata": {},
   "outputs": [],
   "source": [
    "result_template_df = pd.read_csv(NOTEBOOK_DIR.joinpath(\"HMBS_variant_template.tsv\"), sep=\"\\t\")\n",
    "\n",
    "display(result_template_df.head(2))\n",
    "len(result_template_df)"
   ]
  },
  {
   "cell_type": "code",
   "execution_count": null,
   "id": "a3b02c6e-fdf9-4d16-89da-e4d0f3b9552a",
   "metadata": {},
   "outputs": [],
   "source": [
    "result_df = result_template_df.copy()\n",
    "result_df[\"mut\"] = [\n",
    "    format_mutation(mut)\n",
    "    for mut in (\n",
    "        result_df[\"aa_substitution\"].str.findall(\"p.([a-zA-Z]+)([1-9]+[0-9]*)([a-zA-Z=]+)\").str[0]\n",
    "    )\n",
    "]\n",
    "result_df = result_df[\n",
    "    ~result_df[\"mut\"].str.contains(\"*\", regex=False)\n",
    "    & ~(result_df[\"mut\"].str[0] == result_df[\"mut\"].str[-1])\n",
    "]\n",
    "\n",
    "display(result_df.head(2))\n",
    "len(result_df)"
   ]
  },
  {
   "cell_type": "code",
   "execution_count": null,
   "id": "a236444a-5eb2-4260-93de-544fa7cce7b1",
   "metadata": {},
   "outputs": [],
   "source": [
    "assert all([mutation_matches_sequence(mut, sequence) for mut in result_df[\"mut\"]])"
   ]
  },
  {
   "cell_type": "code",
   "execution_count": null,
   "id": "e1f49b76-37d6-4678-9b07-4bb778ae9b36",
   "metadata": {},
   "outputs": [],
   "source": [
    "assert sequence_matches_structure(sequence, structure_blob)"
   ]
  },
  {
   "cell_type": "code",
   "execution_count": null,
   "id": "519124d6-ea19-4819-8525-b19d3018bd8a",
   "metadata": {},
   "outputs": [],
   "source": [
    "assert alignment[1] == f\"{sequence}\\n\""
   ]
  },
  {
   "cell_type": "markdown",
   "id": "f39194c1-c39b-4872-9955-0e2212de57d0",
   "metadata": {},
   "source": [
    "## Write results template"
   ]
  },
  {
   "cell_type": "code",
   "execution_count": null,
   "id": "a31a0959-f72b-459a-93c9-7a7e7557af2e",
   "metadata": {},
   "outputs": [],
   "source": [
    "results_to_fill_file = NOTEBOOK_DIR.joinpath(\"results-to-fill.parquet\")\n",
    "\n",
    "pq.write_table(pa.Table.from_pandas(result_df, preserve_index=False), results_to_fill_file)"
   ]
  },
  {
   "cell_type": "code",
   "execution_count": null,
   "id": "8f3555d5-fe92-419b-86af-5c44718649b3",
   "metadata": {},
   "outputs": [],
   "source": []
  }
 ],
 "metadata": {
  "kernelspec": {
   "display_name": "Python 3 (ipykernel)",
   "language": "python",
   "name": "python3"
  },
  "language_info": {
   "codemirror_mode": {
    "name": "ipython",
    "version": 3
   },
   "file_extension": ".py",
   "mimetype": "text/x-python",
   "name": "python",
   "nbconvert_exporter": "python",
   "pygments_lexer": "ipython3",
   "version": "3.9.6"
  }
 },
 "nbformat": 4,
 "nbformat_minor": 5
}
