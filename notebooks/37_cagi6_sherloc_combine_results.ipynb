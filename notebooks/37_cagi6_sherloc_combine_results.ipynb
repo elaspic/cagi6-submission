{
 "cells": [
  {
   "cell_type": "markdown",
   "id": "26c81e96-6b41-41fa-80a6-6360c482eb58",
   "metadata": {},
   "source": [
    "## Summary\n",
    "\n",
    "---"
   ]
  },
  {
   "cell_type": "markdown",
   "id": "ec276dec-6afa-4b57-bbfc-a11e04a8767e",
   "metadata": {},
   "source": [
    "## Imports"
   ]
  },
  {
   "cell_type": "code",
   "execution_count": null,
   "id": "539f4edf-ca04-4bef-b5c9-a6d402f7570b",
   "metadata": {},
   "outputs": [],
   "source": [
    "import functools\n",
    "from pathlib import Path\n",
    "\n",
    "import elaspic2 as el2\n",
    "import matplotlib.pyplot as plt\n",
    "import numpy as np\n",
    "import pandas as pd\n",
    "import pyarrow as pa\n",
    "import pyarrow.parquet as pq\n",
    "from scipy import stats\n",
    "from sklearn import metrics, model_selection\n",
    "from tqdm.auto import tqdm"
   ]
  },
  {
   "cell_type": "code",
   "execution_count": null,
   "id": "d08b0792-00b7-44be-9257-a554f95bd602",
   "metadata": {},
   "outputs": [],
   "source": [
    "pd.set_option(\"max_columns\", 1000)\n",
    "pd.set_option(\"max_rows\", 1000)"
   ]
  },
  {
   "cell_type": "markdown",
   "id": "5be0ca05-c038-414f-ba84-b2ae8013088b",
   "metadata": {},
   "source": [
    "## Parameters"
   ]
  },
  {
   "cell_type": "code",
   "execution_count": null,
   "id": "10e1faee-9f6a-40d8-8819-272b1c9837bb",
   "metadata": {},
   "outputs": [],
   "source": [
    "NOTEBOOK_DIR = Path(\"37_cagi6_sherloc_combine_results\").resolve()\n",
    "NOTEBOOK_DIR.mkdir(exist_ok=True)\n",
    "\n",
    "NOTEBOOK_DIR"
   ]
  },
  {
   "cell_type": "markdown",
   "id": "fd00941b-a3df-48d4-864c-bef984a8cd3b",
   "metadata": {},
   "source": [
    "## Load results"
   ]
  },
  {
   "cell_type": "code",
   "execution_count": null,
   "id": "0754bcaa-1b8d-49cd-9e98-a3d7c9b345b1",
   "metadata": {},
   "outputs": [],
   "source": [
    "DATASET_NAME = \"cagi6-sherloc\"\n",
    "TASK_COUNT = 4182\n",
    "\n",
    "DATASET_NAME, TASK_COUNT"
   ]
  },
  {
   "cell_type": "code",
   "execution_count": null,
   "id": "545bb337-c239-4cfd-8449-5bd25f817ed2",
   "metadata": {},
   "outputs": [],
   "source": [
    "def get_result_files(result_dir):\n",
    "    if \"msa_analysis\" in str(result_dir):\n",
    "        prefix = \"result\"\n",
    "    else:\n",
    "        prefix = \"shard\"\n",
    "\n",
    "    present_files = []\n",
    "    missing_files = []\n",
    "    for i in tqdm(range(1, TASK_COUNT + 1)):\n",
    "        path = result_dir.joinpath(f\"{prefix}-{i}-of-{TASK_COUNT}.parquet\")\n",
    "        if path.is_file():\n",
    "            present_files.append(path)\n",
    "        else:\n",
    "            missing_files.append(path)\n",
    "    return present_files, missing_files"
   ]
  },
  {
   "cell_type": "code",
   "execution_count": null,
   "id": "d0dd8cea-7960-451e-8d48-7317169a0927",
   "metadata": {},
   "outputs": [],
   "source": [
    "def read_files(files):\n",
    "    dfs = []\n",
    "    for file in tqdm(files):\n",
    "        df = pq.read_table(file).to_pandas(integer_object_nulls=True)\n",
    "        dfs.append(df)\n",
    "    return pd.concat(dfs, ignore_index=True)"
   ]
  },
  {
   "cell_type": "markdown",
   "id": "f1da2f21-5ac6-4625-b105-f7c8c18e972d",
   "metadata": {},
   "source": [
    "### ProteinSolver"
   ]
  },
  {
   "cell_type": "code",
   "execution_count": null,
   "id": "a9e0b109-1a03-41e7-ae1c-180b0e4a8519",
   "metadata": {},
   "outputs": [],
   "source": [
    "ps_result_dir = NOTEBOOK_DIR.parent.joinpath(\"31_run_proteinsolver\", DATASET_NAME)"
   ]
  },
  {
   "cell_type": "code",
   "execution_count": null,
   "id": "d7df3505-9e49-44d4-87fc-96389528bf28",
   "metadata": {},
   "outputs": [],
   "source": [
    "present_files, missing_files = get_result_files(ps_result_dir)\n",
    "\n",
    "assert len(missing_files) == 0\n",
    "len(present_files), len(missing_files)"
   ]
  },
  {
   "cell_type": "code",
   "execution_count": null,
   "id": "517c88ae-9dbf-41b5-8d34-7c5c55193370",
   "metadata": {},
   "outputs": [],
   "source": [
    "result_ps_df = read_files(present_files)"
   ]
  },
  {
   "cell_type": "code",
   "execution_count": null,
   "id": "5a4cc566-dfaf-4ca9-a810-339d0736cf2c",
   "metadata": {},
   "outputs": [],
   "source": [
    "display(result_ps_df.head(2))\n",
    "print(len(result_ps_df))  # 221816"
   ]
  },
  {
   "cell_type": "markdown",
   "id": "1f8e85e3-ffaf-4b61-be5a-9c800d3bbe24",
   "metadata": {},
   "source": [
    "### ProtBert"
   ]
  },
  {
   "cell_type": "code",
   "execution_count": null,
   "id": "3a8363be-9bb2-4918-8682-2101b54e590d",
   "metadata": {},
   "outputs": [],
   "source": [
    "pb_result_dir = NOTEBOOK_DIR.parent.joinpath(\"31_run_protbert\", DATASET_NAME)"
   ]
  },
  {
   "cell_type": "code",
   "execution_count": null,
   "id": "1bda80f9-16e6-4957-87ce-6ec33a83479e",
   "metadata": {},
   "outputs": [],
   "source": [
    "present_files, missing_files = get_result_files(pb_result_dir)\n",
    "\n",
    "assert len(missing_files) == 0\n",
    "len(present_files), len(missing_files)"
   ]
  },
  {
   "cell_type": "code",
   "execution_count": null,
   "id": "9b7ce3d1-68da-4dfb-a3ca-1422f81de4c8",
   "metadata": {},
   "outputs": [],
   "source": [
    "result_pb_df = read_files(present_files)"
   ]
  },
  {
   "cell_type": "code",
   "execution_count": null,
   "id": "adf074f9-a8c0-4b60-b045-1b7563178898",
   "metadata": {},
   "outputs": [],
   "source": [
    "display(result_pb_df.head(2))\n",
    "print(len(result_pb_df))  # 221793"
   ]
  },
  {
   "cell_type": "markdown",
   "id": "d2ed0cdf-3587-4a99-be53-a1a812d82267",
   "metadata": {},
   "source": [
    "### MSA"
   ]
  },
  {
   "cell_type": "code",
   "execution_count": null,
   "id": "740e9f7a-6fed-45d1-8bc0-a4b21c33f03d",
   "metadata": {},
   "outputs": [],
   "source": [
    "msa_result_dir = NOTEBOOK_DIR.parent.joinpath(\"31_run_msa_analysis\", DATASET_NAME)"
   ]
  },
  {
   "cell_type": "code",
   "execution_count": null,
   "id": "8eb4e4fc-2fe0-4d67-9411-c6e75b90ace6",
   "metadata": {},
   "outputs": [],
   "source": [
    "present_files, missing_files = get_result_files(msa_result_dir)\n",
    "\n",
    "assert len(missing_files) == 0\n",
    "len(present_files), len(missing_files)"
   ]
  },
  {
   "cell_type": "code",
   "execution_count": null,
   "id": "9b1424e5-ca18-4002-9886-75dd8513bba0",
   "metadata": {},
   "outputs": [],
   "source": [
    "result_msa_df = read_files(present_files)"
   ]
  },
  {
   "cell_type": "code",
   "execution_count": null,
   "id": "064e6af7-24e4-4f95-9711-388c47b5a9d0",
   "metadata": {},
   "outputs": [],
   "source": [
    "display(result_msa_df.head(2))\n",
    "print(len(result_msa_df))  # 221793"
   ]
  },
  {
   "cell_type": "markdown",
   "id": "74bef26e-131c-4c3d-9306-1c4c42a38f99",
   "metadata": {},
   "source": [
    "### Rosetta"
   ]
  },
  {
   "cell_type": "code",
   "execution_count": null,
   "id": "f2926c32-e199-4725-9264-5ed45d8960cc",
   "metadata": {},
   "outputs": [],
   "source": [
    "ra_result_dir = NOTEBOOK_DIR.parent.joinpath(\"31_run_rosetta_ddg\", DATASET_NAME)"
   ]
  },
  {
   "cell_type": "code",
   "execution_count": null,
   "id": "a0f9e809-6043-4ac6-b6d9-9a3ecc90f059",
   "metadata": {},
   "outputs": [],
   "source": [
    "present_files, missing_files = get_result_files(ra_result_dir)\n",
    "\n",
    "assert len(missing_files) == 0\n",
    "len(present_files), len(missing_files)"
   ]
  },
  {
   "cell_type": "code",
   "execution_count": null,
   "id": "6e6fc5fa-8b48-4c54-b182-6aba2ee5a39e",
   "metadata": {},
   "outputs": [],
   "source": [
    "result_ra_df = read_files(present_files)"
   ]
  },
  {
   "cell_type": "code",
   "execution_count": null,
   "id": "676fa55f-c244-408b-82dc-7ebb3a0161ef",
   "metadata": {},
   "outputs": [],
   "source": [
    "display(result_ra_df.head(2))\n",
    "print(len(result_ra_df))  # 216899"
   ]
  },
  {
   "cell_type": "markdown",
   "id": "deb93d6e-709e-4626-94c2-0682761dc9ad",
   "metadata": {},
   "source": [
    "### AlphaFold"
   ]
  },
  {
   "cell_type": "code",
   "execution_count": null,
   "id": "9cc3de71-10ee-4d03-9b33-651bf61dceb1",
   "metadata": {},
   "outputs": [],
   "source": [
    "af_result_dir = NOTEBOOK_DIR.parent.joinpath(\"31_run_alphafold\", DATASET_NAME)"
   ]
  },
  {
   "cell_type": "code",
   "execution_count": null,
   "id": "09bbe191-115b-49cc-a385-6dac64415ebf",
   "metadata": {},
   "outputs": [],
   "source": [
    "present_files, missing_files = get_result_files(af_result_dir)\n",
    "\n",
    "len(present_files), len(missing_files)"
   ]
  },
  {
   "cell_type": "code",
   "execution_count": null,
   "id": "a8a9b964-b13c-4c52-b063-c26c8ac70efe",
   "metadata": {},
   "outputs": [],
   "source": [
    "result_af_df = read_files(present_files)"
   ]
  },
  {
   "cell_type": "code",
   "execution_count": null,
   "id": "d18e5dc8-5513-4aea-8346-0d8782289e32",
   "metadata": {},
   "outputs": [],
   "source": [
    "display(result_af_df.head(2))\n",
    "print(len(result_af_df))  # 110554"
   ]
  },
  {
   "cell_type": "markdown",
   "id": "4778fbf7-217c-4262-8d82-e0f20d4c8c4c",
   "metadata": {},
   "source": [
    "### AlphaFold WT"
   ]
  },
  {
   "cell_type": "code",
   "execution_count": null,
   "id": "a8637695-6750-4622-a660-b282e6d2266f",
   "metadata": {},
   "outputs": [],
   "source": [
    "afwt_result_dir = NOTEBOOK_DIR.parent.joinpath(\"31_run_alphafold_wt\", DATASET_NAME)"
   ]
  },
  {
   "cell_type": "code",
   "execution_count": null,
   "id": "ea35a7ef-3fb7-495b-8247-4926193ec846",
   "metadata": {},
   "outputs": [],
   "source": [
    "present_files, missing_files = get_result_files(afwt_result_dir)\n",
    "\n",
    "len(present_files), len(missing_files)"
   ]
  },
  {
   "cell_type": "code",
   "execution_count": null,
   "id": "90f1e809-03a3-47b1-a943-89f23a178d74",
   "metadata": {},
   "outputs": [],
   "source": [
    "result_afwt_df = read_files(present_files).set_index(\"protein_id\")"
   ]
  },
  {
   "cell_type": "code",
   "execution_count": null,
   "id": "d5e740ca-6533-44aa-98ef-a67903d87f3c",
   "metadata": {},
   "outputs": [],
   "source": [
    "display(result_afwt_df.head(2))\n",
    "print(len(result_afwt_df))"
   ]
  },
  {
   "cell_type": "code",
   "execution_count": null,
   "id": "2df7b20c-dd45-4661-8ad4-2e17321e28a9",
   "metadata": {},
   "outputs": [],
   "source": [
    "af_finished_protein_ids = set(\n",
    "    result_af_df[[\"protein_id\", \"mutation\", \"mutation_id\", \"effect\"]].apply(tuple, axis=1)\n",
    ")\n",
    "\n",
    "af_missing_protein_ids = (\n",
    "    set(result_pb_df[[\"protein_id\", \"mutation\", \"mutation_id\", \"effect\"]].apply(tuple, axis=1))\n",
    "    - af_finished_protein_ids\n",
    ")\n",
    "\n",
    "len(af_missing_protein_ids)"
   ]
  },
  {
   "cell_type": "code",
   "execution_count": null,
   "id": "659de6ec-d53c-47ac-9bcd-1979b364f782",
   "metadata": {},
   "outputs": [],
   "source": [
    "def get_mutation_embeddings(idx, predictions):\n",
    "    assert idx >= 0\n",
    "\n",
    "    def as_residue(x):\n",
    "        return x[idx].astype(np.float32)\n",
    "\n",
    "    def as_protein(x):\n",
    "        return x.mean(axis=0).astype(np.float32)\n",
    "\n",
    "    embeddings = {\n",
    "        \"experimentally_resolved\": predictions[\"experimentally_resolved\"],\n",
    "        \"predicted_lddt\": predictions[\"predicted_lddt\"],\n",
    "        \"msa_first_row\": predictions[\"msa_first_row\"],\n",
    "        \"single\": predictions[\"single\"],\n",
    "        \"structure_module\": predictions[\"structure_module\"],\n",
    "    }\n",
    "\n",
    "    output = {\n",
    "        \"scores_residue_plddt\": predictions[\"plddt\"][idx],\n",
    "        \"scores_protein_plddt\": np.mean(predictions[\"plddt\"]),\n",
    "        \"scores_protein_max_predicted_aligned_error\": predictions[\"max_predicted_aligned_error\"],\n",
    "        \"scores_proten_ptm\": predictions[\"ptm\"],\n",
    "        **{f\"features_residue_{key}\": as_residue(value) for key, value in embeddings.items()},\n",
    "        **{f\"features_protein_{key}\": as_protein(value) for key, value in embeddings.items()},\n",
    "    }\n",
    "\n",
    "    return output\n",
    "\n",
    "\n",
    "# get_mutation_embeddings(0, result_afwt_df.loc[\"Q8N5M1\"])"
   ]
  },
  {
   "cell_type": "code",
   "execution_count": null,
   "id": "d18b546f-eff6-497b-a390-043f387d09db",
   "metadata": {},
   "outputs": [],
   "source": [
    "results = []\n",
    "missing = 0\n",
    "proteins_with_multiple_rows = set()\n",
    "for protein_id, mutation, mutation_id, effect in tqdm(af_missing_protein_ids):\n",
    "    try:\n",
    "        predictions = result_afwt_df.loc[protein_id]\n",
    "    except KeyError:\n",
    "        missing += 1\n",
    "        continue\n",
    "\n",
    "    if isinstance(predictions, pd.DataFrame):\n",
    "        #         print(f\"Multiple rows encountered for {protein_id=} ({len(predictions)=}).\")\n",
    "        proteins_with_multiple_rows.add(protein_id)\n",
    "        predictions = predictions.iloc[0]\n",
    "\n",
    "    features = {\n",
    "        f\"alphafold_core_{key}_wt\": value\n",
    "        for key, value in get_mutation_embeddings(int(mutation[1:-1]) - 1, predictions).items()\n",
    "    }\n",
    "\n",
    "    results.append(\n",
    "        {\n",
    "            \"protein_id\": protein_id,\n",
    "            \"mutation\": mutation,\n",
    "            \"mutation_id\": mutation_id,\n",
    "            \"effect\": effect,\n",
    "        }\n",
    "        | features\n",
    "    )\n",
    "\n",
    "result_af2_df = pd.DataFrame(results)\n",
    "len(result_af2_df), missing"
   ]
  },
  {
   "cell_type": "markdown",
   "id": "0465229e-f586-4efd-bb19-f2d07ca10906",
   "metadata": {},
   "source": [
    "## Combine results"
   ]
  },
  {
   "cell_type": "code",
   "execution_count": null,
   "id": "59bac9ef-c7e0-4fff-b599-61dbb8362de5",
   "metadata": {},
   "outputs": [],
   "source": [
    "len(result_ps_df) == len(result_ps_df[\"mutation_id\"].unique())"
   ]
  },
  {
   "cell_type": "code",
   "execution_count": null,
   "id": "7cbdb513-664c-4221-8d2d-b606a2d76975",
   "metadata": {},
   "outputs": [],
   "source": [
    "result_df = (\n",
    "    result_ps_df.merge(\n",
    "        result_pb_df, on=[\"protein_id\", \"mutation\", \"mutation_id\", \"effect\"], how=\"left\"\n",
    "    )\n",
    "    .merge(result_msa_df, on=[\"protein_id\", \"mutation\", \"mutation_id\"], how=\"left\")\n",
    "    .merge(result_ra_df, on=[\"protein_id\", \"mutation\", \"mutation_id\", \"effect\"], how=\"left\")\n",
    "    .merge(\n",
    "        pd.concat([result_af_df, result_af2_df], ignore_index=True),\n",
    "        on=[\"protein_id\", \"mutation\", \"mutation_id\", \"effect\"],\n",
    "        how=\"left\",\n",
    "    )\n",
    ")\n",
    "\n",
    "assert len(result_df) == len(result_df[\"mutation_id\"].unique())\n",
    "assert not (\n",
    "    set(result_pb_df[\"mutation_id\"])\n",
    "    | set(result_ra_df[\"mutation_id\"])\n",
    "    | set(result_af_df[\"mutation_id\"])\n",
    ") - set(result_df[\"mutation_id\"])"
   ]
  },
  {
   "cell_type": "code",
   "execution_count": null,
   "id": "dea8c722-b788-4c4e-a6b6-765a292c2b54",
   "metadata": {},
   "outputs": [],
   "source": [
    "display(result_df.head(2))\n",
    "print(len(result_df))"
   ]
  },
  {
   "cell_type": "markdown",
   "id": "cddb7066-98b9-43a5-a0a1-892e634114bd",
   "metadata": {},
   "source": [
    "## Calculate EL2 score"
   ]
  },
  {
   "cell_type": "code",
   "execution_count": null,
   "id": "cd369701-3d1f-4b28-9f15-4b27cd07f1a0",
   "metadata": {},
   "outputs": [],
   "source": [
    "model = el2.ELASPIC2()"
   ]
  },
  {
   "cell_type": "code",
   "execution_count": null,
   "id": "d90324e8-5fbe-43ca-8d78-275ff3b7dee3",
   "metadata": {},
   "outputs": [],
   "source": [
    "proteinsolver_columnms = [c for c in result_df if c.startswith(\"proteinsolver_core_score\")]\n",
    "protbert_columns = [c for c in result_df if c.startswith(\"protbert_core_\")]\n",
    "\n",
    "el2_missing = result_df[proteinsolver_columnms + protbert_columns].isnull().any(axis=1)\n",
    "result_df[\"el2_score\"] = np.nan\n",
    "result_df.loc[~el2_missing, \"el2_score\"] = model.predict_mutation_effect(\n",
    "    [\n",
    "        t._asdict()\n",
    "        for t in result_df.loc[~el2_missing, proteinsolver_columnms + protbert_columns].itertuples(\n",
    "            index=False\n",
    "        )\n",
    "    ]\n",
    ")"
   ]
  },
  {
   "cell_type": "markdown",
   "id": "f316f627-d657-430a-a432-ddd93fb2bc11",
   "metadata": {},
   "source": [
    "## Calculate deltas"
   ]
  },
  {
   "cell_type": "code",
   "execution_count": null,
   "id": "5c95c4d7-caf7-476e-81ed-f15b8a9f54a8",
   "metadata": {},
   "outputs": [],
   "source": [
    "for column in list(result_df):\n",
    "    if not column.endswith(\"_mut\"):\n",
    "        continue\n",
    "\n",
    "    column_wt = column.removesuffix(\"_mut\") + \"_wt\"\n",
    "    if column_wt not in result_df:\n",
    "        print(column_wt)\n",
    "        continue\n",
    "\n",
    "    column_change = column.removesuffix(\"_mut\") + \"_change\"\n",
    "    result_df[column_change] = result_df[column_wt] - result_df[column]\n",
    "    del result_df[column]"
   ]
  },
  {
   "cell_type": "markdown",
   "id": "f88c45b8-5e0c-42fe-a95d-64d6e5095770",
   "metadata": {},
   "source": [
    "## Encode mutation"
   ]
  },
  {
   "cell_type": "code",
   "execution_count": null,
   "id": "0e6101e8-39bb-4ed0-93af-597a2c2c3943",
   "metadata": {
    "tags": []
   },
   "outputs": [],
   "source": [
    "amino_acids = list(\"ARNDCEQGHILKMFPSTWYV\")\n",
    "result_df[\"aa_wt_onehot\"] = pd.get_dummies(result_df[\"mutation\"].str[0]).apply(list, axis=1)\n",
    "result_df[\"aa_mut_onehot\"] = pd.get_dummies(result_df[\"mutation\"].str[-1]).apply(list, axis=1)"
   ]
  },
  {
   "cell_type": "markdown",
   "id": "c29a7d21-5741-4760-b479-fee62b605739",
   "metadata": {},
   "source": [
    "## Save results"
   ]
  },
  {
   "cell_type": "code",
   "execution_count": null,
   "id": "7d60ef97-b7b4-4552-a430-47323cc0c5bf",
   "metadata": {},
   "outputs": [],
   "source": [
    "output_file = NOTEBOOK_DIR.joinpath(\"combined-results.parquet\")\n",
    "\n",
    "output_file"
   ]
  },
  {
   "cell_type": "code",
   "execution_count": null,
   "id": "1ec482cf-d23b-4678-ab92-cdd5093c2c06",
   "metadata": {},
   "outputs": [],
   "source": [
    "pq.write_table(\n",
    "    pa.Table.from_pandas(result_df, preserve_index=False),\n",
    "    output_file,\n",
    "    row_group_size=10_000,\n",
    ")"
   ]
  },
  {
   "cell_type": "markdown",
   "id": "ae87c286-d491-42d4-941d-606cde544d48",
   "metadata": {},
   "source": [
    "## Exploratory data analysis"
   ]
  },
  {
   "cell_type": "code",
   "execution_count": null,
   "id": "e1374e04-eae5-47bb-b1b0-9aafc45782a0",
   "metadata": {},
   "outputs": [],
   "source": [
    "proteinsolver_columnms = [c for c in result_df if c.startswith(\"proteinsolver_\")]\n",
    "protbert_columns = [c for c in result_df if c.startswith(\"protbert_\")]\n",
    "rosetta_columns = [c for c in result_df if c.startswith(\"rosetta_\")]\n",
    "alphafold_columns = [c for c in result_df if c.startswith(\"alphafold_\")]"
   ]
  },
  {
   "cell_type": "code",
   "execution_count": null,
   "id": "1448fdf8-4949-4e91-b6c2-0db0711b8ea4",
   "metadata": {},
   "outputs": [],
   "source": [
    "result_df[\"effect\"].value_counts()"
   ]
  },
  {
   "cell_type": "code",
   "execution_count": null,
   "id": "4ea8e99e-ccd9-4c28-8613-c3bde79aefbe",
   "metadata": {},
   "outputs": [],
   "source": [
    "effect_map = {\n",
    "    \"Uncertain significance\": 0,\n",
    "    \"Likely benign\": -1,\n",
    "    \"Benign\": -2,\n",
    "    \"Likely pathogenic\": 1,\n",
    "    \"Pathogenic\": 2,\n",
    "}\n",
    "\n",
    "result_df[\"effect_score\"] = result_df[\"effect\"].map(effect_map)"
   ]
  },
  {
   "cell_type": "code",
   "execution_count": null,
   "id": "eb146d6b-4dac-451b-8ed2-951a07d51a9c",
   "metadata": {},
   "outputs": [],
   "source": [
    "score_columns = [\n",
    "    \"el2_score\",\n",
    "    \"proteinsolver_core_score_change\",\n",
    "    \"protbert_core_score_change\",\n",
    "    \"rosetta_dg_change\",\n",
    "        \"alphafold_core_scores_residue_plddt_wt\",\n",
    "#         \"alphafold_core_scores_protein_plddt_wt\",\n",
    "#         \"alphafold_core_scores_protein_max_predicted_aligned_error_wt\",\n",
    "#         \"alphafold_core_scores_proten_ptm_wt\",\n",
    "]\n",
    "\n",
    "df = result_df.dropna(subset=score_columns + [\"effect_score\"])\n",
    "df = df[df[\"effect_score\"] != 0].reset_index(drop=True)\n",
    "\n",
    "for col in score_columns:\n",
    "    corr = stats.spearmanr(df[\"effect_score\"], df[col])\n",
    "    auc = metrics.roc_auc_score(df[\"effect_score\"] > 0, df[col])\n",
    "    print(col, corr[0], auc)"
   ]
  },
  {
   "cell_type": "code",
   "execution_count": null,
   "id": "7b3bc404-de6d-4f81-ae21-01481e3e7897",
   "metadata": {},
   "outputs": [],
   "source": []
  },
  {
   "cell_type": "code",
   "execution_count": null,
   "id": "3ea22035-6b3e-41f7-be20-c4ddaad83094",
   "metadata": {},
   "outputs": [],
   "source": [
    "score_columns = [\n",
    "    \"el2_score\",\n",
    "    \"proteinsolver_core_score_change\",\n",
    "    \"protbert_core_score_change\",\n",
    "    \"rosetta_dg_change\",\n",
    "        \"alphafold_core_scores_residue_plddt_wt\",\n",
    "    \"alphafold_core_scores_residue_plddt_change\",\n",
    "#         \"alphafold_core_scores_protein_plddt_wt\",\n",
    "#         \"alphafold_core_scores_protein_max_predicted_aligned_error_wt\",\n",
    "#         \"alphafold_core_scores_proten_ptm_wt\",\n",
    "]\n",
    "\n",
    "for column in score_columns:\n",
    "    print(f\"{column} {result_df[column].isnull().sum()}\")"
   ]
  },
  {
   "cell_type": "code",
   "execution_count": null,
   "id": "de8f5ba3-9546-41c7-8b41-83e4f79c21d5",
   "metadata": {},
   "outputs": [],
   "source": []
  },
  {
   "cell_type": "code",
   "execution_count": null,
   "id": "a6b28364-87ae-4563-b70a-e75875f34e30",
   "metadata": {},
   "outputs": [],
   "source": [
    "rosetta_"
   ]
  },
  {
   "cell_type": "code",
   "execution_count": null,
   "id": "286f5623-77f8-4df3-99a6-2815644cab2a",
   "metadata": {},
   "outputs": [],
   "source": []
  }
 ],
 "metadata": {
  "kernelspec": {
   "display_name": "Python 3 (ipykernel)",
   "language": "python",
   "name": "python3"
  },
  "language_info": {
   "codemirror_mode": {
    "name": "ipython",
    "version": 3
   },
   "file_extension": ".py",
   "mimetype": "text/x-python",
   "name": "python",
   "nbconvert_exporter": "python",
   "pygments_lexer": "ipython3",
   "version": "3.9.6"
  }
 },
 "nbformat": 4,
 "nbformat_minor": 5
}
