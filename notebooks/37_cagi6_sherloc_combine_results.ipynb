{
 "cells": [
  {
   "cell_type": "markdown",
   "id": "26c81e96-6b41-41fa-80a6-6360c482eb58",
   "metadata": {},
   "source": [
    "## Summary\n",
    "\n",
    "---"
   ]
  },
  {
   "cell_type": "markdown",
   "id": "ec276dec-6afa-4b57-bbfc-a11e04a8767e",
   "metadata": {},
   "source": [
    "## Imports"
   ]
  },
  {
   "cell_type": "code",
   "execution_count": 1,
   "id": "539f4edf-ca04-4bef-b5c9-a6d402f7570b",
   "metadata": {},
   "outputs": [
    {
     "name": "stderr",
     "output_type": "stream",
     "text": [
      "Warning: importing 'simtk.openmm' is deprecated.  Import 'openmm' instead.\n",
      "Matplotlib created a temporary config/cache directory at /tmp/matplotlib-s3vkqzsn because the default path (/home/p/pmkim/strokach/.config/matplotlib) is not a writable directory; it is highly recommended to set the MPLCONFIGDIR environment variable to a writable directory, in particular to speed up the import of Matplotlib and to better support multiprocessing.\n"
     ]
    }
   ],
   "source": [
    "import functools\n",
    "from pathlib import Path\n",
    "\n",
    "import elaspic2 as el2\n",
    "import matplotlib.pyplot as plt\n",
    "import numpy as np\n",
    "import pandas as pd\n",
    "import pyarrow as pa\n",
    "import pyarrow.parquet as pq\n",
    "from scipy import stats\n",
    "from sklearn import metrics, model_selection\n",
    "from tqdm.auto import tqdm"
   ]
  },
  {
   "cell_type": "code",
   "execution_count": 2,
   "id": "d08b0792-00b7-44be-9257-a554f95bd602",
   "metadata": {},
   "outputs": [],
   "source": [
    "pd.set_option(\"max_columns\", 1000)\n",
    "pd.set_option(\"max_rows\", 1000)"
   ]
  },
  {
   "cell_type": "markdown",
   "id": "5be0ca05-c038-414f-ba84-b2ae8013088b",
   "metadata": {},
   "source": [
    "## Parameters"
   ]
  },
  {
   "cell_type": "code",
   "execution_count": 3,
   "id": "10e1faee-9f6a-40d8-8819-272b1c9837bb",
   "metadata": {},
   "outputs": [
    {
     "data": {
      "text/plain": [
       "PosixPath('/gpfs/fs0/scratch/p/pmkim/strokach/workspace/elaspic2-cagi6/notebooks/37_cagi6_sherloc_combine_results')"
      ]
     },
     "execution_count": 3,
     "metadata": {},
     "output_type": "execute_result"
    }
   ],
   "source": [
    "NOTEBOOK_DIR = Path(\"37_cagi6_sherloc_combine_results\").resolve()\n",
    "NOTEBOOK_DIR.mkdir(exist_ok=True)\n",
    "\n",
    "NOTEBOOK_DIR"
   ]
  },
  {
   "cell_type": "markdown",
   "id": "fd00941b-a3df-48d4-864c-bef984a8cd3b",
   "metadata": {},
   "source": [
    "## Load results"
   ]
  },
  {
   "cell_type": "code",
   "execution_count": 4,
   "id": "0754bcaa-1b8d-49cd-9e98-a3d7c9b345b1",
   "metadata": {},
   "outputs": [
    {
     "data": {
      "text/plain": [
       "('cagi6-sherloc',\n",
       " '/gpfs/fs0/scratch/p/pmkim/strokach/workspace/elaspic2-cagi6/notebooks/30_cagi6_sherloc/input-data-gby-protein.parquet',\n",
       " 4182)"
      ]
     },
     "execution_count": 4,
     "metadata": {},
     "output_type": "execute_result"
    }
   ],
   "source": [
    "DATASET_NAME = \"cagi6-sherloc\"\n",
    "DATASET_PATH = str(\n",
    "    NOTEBOOK_DIR.parent.joinpath(\"30_cagi6_sherloc\", \"input-data-gby-protein.parquet\")\n",
    ")\n",
    "TASK_COUNT = 4182\n",
    "\n",
    "DATASET_NAME, DATASET_PATH, TASK_COUNT"
   ]
  },
  {
   "cell_type": "code",
   "execution_count": 5,
   "id": "00093ed2-1b5b-4208-be94-9639b71a0346",
   "metadata": {},
   "outputs": [],
   "source": [
    "pfile = pq.ParquetFile(DATASET_PATH)\n",
    "\n",
    "assert TASK_COUNT == pfile.num_row_groups"
   ]
  },
  {
   "cell_type": "code",
   "execution_count": 6,
   "id": "545bb337-c239-4cfd-8449-5bd25f817ed2",
   "metadata": {},
   "outputs": [],
   "source": [
    "def get_result_files(result_dir):\n",
    "    if \"msa_analysis\" in str(result_dir):\n",
    "        prefix = \"result\"\n",
    "    else:\n",
    "        prefix = \"shard\"\n",
    "\n",
    "    present_files = []\n",
    "    missing_files = []\n",
    "    for i in tqdm(range(1, TASK_COUNT + 1)):\n",
    "        path = result_dir.joinpath(f\"{prefix}-{i}-of-{TASK_COUNT}.parquet\")\n",
    "        if path.is_file():\n",
    "            present_files.append(path)\n",
    "        else:\n",
    "            missing_files.append(path)\n",
    "    return present_files, missing_files"
   ]
  },
  {
   "cell_type": "code",
   "execution_count": 7,
   "id": "d0dd8cea-7960-451e-8d48-7317169a0927",
   "metadata": {},
   "outputs": [],
   "source": [
    "def read_files(files):\n",
    "    dfs = []\n",
    "    for file in tqdm(files):\n",
    "        df = pq.read_table(file).to_pandas(integer_object_nulls=True)\n",
    "        dfs.append(df)\n",
    "    return pd.concat(dfs, ignore_index=True)"
   ]
  },
  {
   "cell_type": "code",
   "execution_count": 8,
   "id": "e0bc75e7-0d94-427f-baad-ac4930cde413",
   "metadata": {},
   "outputs": [],
   "source": [
    "def read_rosetta_files(pfile):\n",
    "    result_dfs = []\n",
    "    for task_id in tqdm(range(1, pfile.num_row_groups + 1)):\n",
    "        row = (\n",
    "            pfile.read_row_group(\n",
    "                task_id - 1, columns=[\"protein_id\", \"mutation_id\", \"mutation\"]\n",
    "            )\n",
    "            .to_pandas()\n",
    "            .iloc[0]\n",
    "        )\n",
    "\n",
    "        input_df = pd.DataFrame(\n",
    "            {\n",
    "                \"protein_id\": [row[\"protein_id\"]] * len(row[\"mutation_id\"]),\n",
    "                \"mutation_id\": row[\"mutation_id\"],\n",
    "                \"mutation\": row[\"mutation\"],\n",
    "            }\n",
    "        )\n",
    "\n",
    "        path = NOTEBOOK_DIR.parent.joinpath(\n",
    "            \"31_run_rosetta_ddg\",\n",
    "            DATASET_NAME,\n",
    "            f\"shard-{task_id}-of-{TASK_COUNT}.parquet\",\n",
    "        )\n",
    "        try:\n",
    "            rosetta_df = pq.read_table(path).to_pandas()\n",
    "        except pa.ArrowInvalid:\n",
    "            print(f\"Unreadable file for {path}\")\n",
    "            continue\n",
    "\n",
    "        if rosetta_df.empty:\n",
    "            print(f\"Empty file for {path}\")\n",
    "            continue\n",
    "\n",
    "        del rosetta_df[\"protein_id\"]\n",
    "        del rosetta_df[\"mutation_id\"]\n",
    "\n",
    "        result_df = input_df.merge(rosetta_df, on=[\"mutation\"])\n",
    "        result_dfs.append(result_df)\n",
    "    return pd.concat(result_dfs, ignore_index=True)"
   ]
  },
  {
   "cell_type": "markdown",
   "id": "f1da2f21-5ac6-4625-b105-f7c8c18e972d",
   "metadata": {},
   "source": [
    "### ProteinSolver"
   ]
  },
  {
   "cell_type": "code",
   "execution_count": 9,
   "id": "a9e0b109-1a03-41e7-ae1c-180b0e4a8519",
   "metadata": {},
   "outputs": [],
   "source": [
    "ps_result_dir = NOTEBOOK_DIR.parent.joinpath(\"31_run_proteinsolver\", DATASET_NAME)"
   ]
  },
  {
   "cell_type": "code",
   "execution_count": 10,
   "id": "d7df3505-9e49-44d4-87fc-96389528bf28",
   "metadata": {},
   "outputs": [
    {
     "data": {
      "application/vnd.jupyter.widget-view+json": {
       "model_id": "2659a896725c4bcb8a1cf2f93c5eecbe",
       "version_major": 2,
       "version_minor": 0
      },
      "text/plain": [
       "HBox(children=(HTML(value=''), FloatProgress(value=0.0, max=4182.0), HTML(value='')))"
      ]
     },
     "metadata": {},
     "output_type": "display_data"
    },
    {
     "name": "stdout",
     "output_type": "stream",
     "text": [
      "\n"
     ]
    },
    {
     "data": {
      "text/plain": [
       "(4182, 0)"
      ]
     },
     "execution_count": 10,
     "metadata": {},
     "output_type": "execute_result"
    }
   ],
   "source": [
    "present_files, missing_files = get_result_files(ps_result_dir)\n",
    "\n",
    "assert len(missing_files) == 0\n",
    "len(present_files), len(missing_files)"
   ]
  },
  {
   "cell_type": "code",
   "execution_count": 11,
   "id": "517c88ae-9dbf-41b5-8d34-7c5c55193370",
   "metadata": {},
   "outputs": [
    {
     "data": {
      "application/vnd.jupyter.widget-view+json": {
       "model_id": "66bd7d9a118944b4be5688d16db45d7d",
       "version_major": 2,
       "version_minor": 0
      },
      "text/plain": [
       "HBox(children=(HTML(value=''), FloatProgress(value=0.0, max=4182.0), HTML(value='')))"
      ]
     },
     "metadata": {},
     "output_type": "display_data"
    },
    {
     "name": "stdout",
     "output_type": "stream",
     "text": [
      "\n"
     ]
    }
   ],
   "source": [
    "result_ps_df = read_files(present_files)"
   ]
  },
  {
   "cell_type": "code",
   "execution_count": 12,
   "id": "5a4cc566-dfaf-4ca9-a810-339d0736cf2c",
   "metadata": {},
   "outputs": [
    {
     "data": {
      "text/html": [
       "<div>\n",
       "<style scoped>\n",
       "    .dataframe tbody tr th:only-of-type {\n",
       "        vertical-align: middle;\n",
       "    }\n",
       "\n",
       "    .dataframe tbody tr th {\n",
       "        vertical-align: top;\n",
       "    }\n",
       "\n",
       "    .dataframe thead th {\n",
       "        text-align: right;\n",
       "    }\n",
       "</style>\n",
       "<table border=\"1\" class=\"dataframe\">\n",
       "  <thead>\n",
       "    <tr style=\"text-align: right;\">\n",
       "      <th></th>\n",
       "      <th>protein_id</th>\n",
       "      <th>mutation</th>\n",
       "      <th>mutation_id</th>\n",
       "      <th>effect</th>\n",
       "      <th>proteinsolver_core_score_wt</th>\n",
       "      <th>proteinsolver_core_score_mut</th>\n",
       "      <th>proteinsolver_core_features_residue_wt</th>\n",
       "      <th>proteinsolver_core_features_protein_wt</th>\n",
       "      <th>proteinsolver_core_features_residue_mut</th>\n",
       "      <th>proteinsolver_core_features_protein_mut</th>\n",
       "    </tr>\n",
       "  </thead>\n",
       "  <tbody>\n",
       "    <tr>\n",
       "      <th>0</th>\n",
       "      <td>P26678</td>\n",
       "      <td>R9C</td>\n",
       "      <td>NM_002667.3:c.25C&gt;T</td>\n",
       "      <td>Pathogenic</td>\n",
       "      <td>0.091593</td>\n",
       "      <td>0.003965</td>\n",
       "      <td>[0.48249053955078125, 0.24484702944755554, -0....</td>\n",
       "      <td>[-2.27313494682312, 0.6932704448699951, -0.195...</td>\n",
       "      <td>[-1.904166340827942, 1.0505309104919434, 0.088...</td>\n",
       "      <td>[-2.3197972774505615, 0.8016344308853149, -0.1...</td>\n",
       "    </tr>\n",
       "    <tr>\n",
       "      <th>1</th>\n",
       "      <td>P26678</td>\n",
       "      <td>T8P</td>\n",
       "      <td>NM_002667.3:c.22A&gt;C</td>\n",
       "      <td>Uncertain significance</td>\n",
       "      <td>0.041601</td>\n",
       "      <td>0.000594</td>\n",
       "      <td>[2.043767213821411, 0.9361261129379272, -0.415...</td>\n",
       "      <td>[-2.27313494682312, 0.6932705044746399, -0.195...</td>\n",
       "      <td>[0.12865065038204193, 0.6873304843902588, 2.20...</td>\n",
       "      <td>[-2.2835092544555664, 0.6785972118377686, -0.1...</td>\n",
       "    </tr>\n",
       "  </tbody>\n",
       "</table>\n",
       "</div>"
      ],
      "text/plain": [
       "  protein_id mutation          mutation_id                  effect  \\\n",
       "0     P26678      R9C  NM_002667.3:c.25C>T              Pathogenic   \n",
       "1     P26678      T8P  NM_002667.3:c.22A>C  Uncertain significance   \n",
       "\n",
       "   proteinsolver_core_score_wt  proteinsolver_core_score_mut  \\\n",
       "0                     0.091593                      0.003965   \n",
       "1                     0.041601                      0.000594   \n",
       "\n",
       "              proteinsolver_core_features_residue_wt  \\\n",
       "0  [0.48249053955078125, 0.24484702944755554, -0....   \n",
       "1  [2.043767213821411, 0.9361261129379272, -0.415...   \n",
       "\n",
       "              proteinsolver_core_features_protein_wt  \\\n",
       "0  [-2.27313494682312, 0.6932704448699951, -0.195...   \n",
       "1  [-2.27313494682312, 0.6932705044746399, -0.195...   \n",
       "\n",
       "             proteinsolver_core_features_residue_mut  \\\n",
       "0  [-1.904166340827942, 1.0505309104919434, 0.088...   \n",
       "1  [0.12865065038204193, 0.6873304843902588, 2.20...   \n",
       "\n",
       "             proteinsolver_core_features_protein_mut  \n",
       "0  [-2.3197972774505615, 0.8016344308853149, -0.1...  \n",
       "1  [-2.2835092544555664, 0.6785972118377686, -0.1...  "
      ]
     },
     "metadata": {},
     "output_type": "display_data"
    },
    {
     "name": "stdout",
     "output_type": "stream",
     "text": [
      "221816\n"
     ]
    }
   ],
   "source": [
    "display(result_ps_df.head(2))\n",
    "print(len(result_ps_df))  # 221816"
   ]
  },
  {
   "cell_type": "markdown",
   "id": "1f8e85e3-ffaf-4b61-be5a-9c800d3bbe24",
   "metadata": {},
   "source": [
    "### ProtBert"
   ]
  },
  {
   "cell_type": "code",
   "execution_count": 13,
   "id": "3a8363be-9bb2-4918-8682-2101b54e590d",
   "metadata": {},
   "outputs": [],
   "source": [
    "pb_result_dir = NOTEBOOK_DIR.parent.joinpath(\"31_run_protbert\", DATASET_NAME)"
   ]
  },
  {
   "cell_type": "code",
   "execution_count": 14,
   "id": "1bda80f9-16e6-4957-87ce-6ec33a83479e",
   "metadata": {},
   "outputs": [
    {
     "data": {
      "application/vnd.jupyter.widget-view+json": {
       "model_id": "34d04deda1db4f9c9b608a6349384d05",
       "version_major": 2,
       "version_minor": 0
      },
      "text/plain": [
       "HBox(children=(HTML(value=''), FloatProgress(value=0.0, max=4182.0), HTML(value='')))"
      ]
     },
     "metadata": {},
     "output_type": "display_data"
    },
    {
     "name": "stdout",
     "output_type": "stream",
     "text": [
      "\n"
     ]
    },
    {
     "data": {
      "text/plain": [
       "(4182, 0)"
      ]
     },
     "execution_count": 14,
     "metadata": {},
     "output_type": "execute_result"
    }
   ],
   "source": [
    "present_files, missing_files = get_result_files(pb_result_dir)\n",
    "\n",
    "assert len(missing_files) == 0\n",
    "len(present_files), len(missing_files)"
   ]
  },
  {
   "cell_type": "code",
   "execution_count": 15,
   "id": "9b7ce3d1-68da-4dfb-a3ca-1422f81de4c8",
   "metadata": {},
   "outputs": [
    {
     "data": {
      "application/vnd.jupyter.widget-view+json": {
       "model_id": "319d347255e3433698485f07c9465ec2",
       "version_major": 2,
       "version_minor": 0
      },
      "text/plain": [
       "HBox(children=(HTML(value=''), FloatProgress(value=0.0, max=4182.0), HTML(value='')))"
      ]
     },
     "metadata": {},
     "output_type": "display_data"
    },
    {
     "name": "stdout",
     "output_type": "stream",
     "text": [
      "\n"
     ]
    }
   ],
   "source": [
    "result_pb_df = read_files(present_files)"
   ]
  },
  {
   "cell_type": "code",
   "execution_count": 16,
   "id": "adf074f9-a8c0-4b60-b045-1b7563178898",
   "metadata": {},
   "outputs": [
    {
     "data": {
      "text/html": [
       "<div>\n",
       "<style scoped>\n",
       "    .dataframe tbody tr th:only-of-type {\n",
       "        vertical-align: middle;\n",
       "    }\n",
       "\n",
       "    .dataframe tbody tr th {\n",
       "        vertical-align: top;\n",
       "    }\n",
       "\n",
       "    .dataframe thead th {\n",
       "        text-align: right;\n",
       "    }\n",
       "</style>\n",
       "<table border=\"1\" class=\"dataframe\">\n",
       "  <thead>\n",
       "    <tr style=\"text-align: right;\">\n",
       "      <th></th>\n",
       "      <th>protein_id</th>\n",
       "      <th>mutation</th>\n",
       "      <th>mutation_id</th>\n",
       "      <th>effect</th>\n",
       "      <th>protbert_core_score_wt</th>\n",
       "      <th>protbert_core_score_mut</th>\n",
       "      <th>protbert_core_features_residue_wt</th>\n",
       "      <th>protbert_core_features_protein_wt</th>\n",
       "      <th>protbert_core_features_residue_mut</th>\n",
       "      <th>protbert_core_features_protein_mut</th>\n",
       "    </tr>\n",
       "  </thead>\n",
       "  <tbody>\n",
       "    <tr>\n",
       "      <th>0</th>\n",
       "      <td>P26678</td>\n",
       "      <td>R9C</td>\n",
       "      <td>NM_002667.3:c.25C&gt;T</td>\n",
       "      <td>Pathogenic</td>\n",
       "      <td>0.068529</td>\n",
       "      <td>0.007849</td>\n",
       "      <td>[0.15305250883102417, -0.11011786758899689, 0....</td>\n",
       "      <td>[0.05504663661122322, -0.04564127326011658, 0....</td>\n",
       "      <td>[0.09072457253932953, -0.12460881471633911, 0....</td>\n",
       "      <td>[0.02796473540365696, -0.055114783346652985, 0...</td>\n",
       "    </tr>\n",
       "    <tr>\n",
       "      <th>1</th>\n",
       "      <td>P26678</td>\n",
       "      <td>T8P</td>\n",
       "      <td>NM_002667.3:c.22A&gt;C</td>\n",
       "      <td>Uncertain significance</td>\n",
       "      <td>0.062104</td>\n",
       "      <td>0.027220</td>\n",
       "      <td>[0.056363195180892944, -0.020384633913636208, ...</td>\n",
       "      <td>[0.05504663661122322, -0.04564127326011658, 0....</td>\n",
       "      <td>[0.03299185633659363, -0.007563109043985605, 0...</td>\n",
       "      <td>[0.04508848860859871, -0.052698392421007156, 0...</td>\n",
       "    </tr>\n",
       "  </tbody>\n",
       "</table>\n",
       "</div>"
      ],
      "text/plain": [
       "  protein_id mutation          mutation_id                  effect  \\\n",
       "0     P26678      R9C  NM_002667.3:c.25C>T              Pathogenic   \n",
       "1     P26678      T8P  NM_002667.3:c.22A>C  Uncertain significance   \n",
       "\n",
       "   protbert_core_score_wt  protbert_core_score_mut  \\\n",
       "0                0.068529                 0.007849   \n",
       "1                0.062104                 0.027220   \n",
       "\n",
       "                   protbert_core_features_residue_wt  \\\n",
       "0  [0.15305250883102417, -0.11011786758899689, 0....   \n",
       "1  [0.056363195180892944, -0.020384633913636208, ...   \n",
       "\n",
       "                   protbert_core_features_protein_wt  \\\n",
       "0  [0.05504663661122322, -0.04564127326011658, 0....   \n",
       "1  [0.05504663661122322, -0.04564127326011658, 0....   \n",
       "\n",
       "                  protbert_core_features_residue_mut  \\\n",
       "0  [0.09072457253932953, -0.12460881471633911, 0....   \n",
       "1  [0.03299185633659363, -0.007563109043985605, 0...   \n",
       "\n",
       "                  protbert_core_features_protein_mut  \n",
       "0  [0.02796473540365696, -0.055114783346652985, 0...  \n",
       "1  [0.04508848860859871, -0.052698392421007156, 0...  "
      ]
     },
     "metadata": {},
     "output_type": "display_data"
    },
    {
     "name": "stdout",
     "output_type": "stream",
     "text": [
      "221793\n"
     ]
    }
   ],
   "source": [
    "display(result_pb_df.head(2))\n",
    "print(len(result_pb_df))  # 221793"
   ]
  },
  {
   "cell_type": "markdown",
   "id": "d2ed0cdf-3587-4a99-be53-a1a812d82267",
   "metadata": {},
   "source": [
    "### MSA"
   ]
  },
  {
   "cell_type": "code",
   "execution_count": 17,
   "id": "740e9f7a-6fed-45d1-8bc0-a4b21c33f03d",
   "metadata": {},
   "outputs": [],
   "source": [
    "msa_result_dir = NOTEBOOK_DIR.parent.joinpath(\"31_run_msa_analysis\", DATASET_NAME)"
   ]
  },
  {
   "cell_type": "code",
   "execution_count": 18,
   "id": "8eb4e4fc-2fe0-4d67-9411-c6e75b90ace6",
   "metadata": {},
   "outputs": [
    {
     "data": {
      "application/vnd.jupyter.widget-view+json": {
       "model_id": "fc1853b321d44e02bd9a88e2ad53cc62",
       "version_major": 2,
       "version_minor": 0
      },
      "text/plain": [
       "HBox(children=(HTML(value=''), FloatProgress(value=0.0, max=4182.0), HTML(value='')))"
      ]
     },
     "metadata": {},
     "output_type": "display_data"
    },
    {
     "name": "stdout",
     "output_type": "stream",
     "text": [
      "\n"
     ]
    },
    {
     "data": {
      "text/plain": [
       "(4182, 0)"
      ]
     },
     "execution_count": 18,
     "metadata": {},
     "output_type": "execute_result"
    }
   ],
   "source": [
    "present_files, missing_files = get_result_files(msa_result_dir)\n",
    "\n",
    "assert len(missing_files) == 0\n",
    "len(present_files), len(missing_files)"
   ]
  },
  {
   "cell_type": "code",
   "execution_count": 19,
   "id": "9b1424e5-ca18-4002-9886-75dd8513bba0",
   "metadata": {},
   "outputs": [
    {
     "data": {
      "application/vnd.jupyter.widget-view+json": {
       "model_id": "c41dfc28a2e1458a8fb8ed04ca05a3ee",
       "version_major": 2,
       "version_minor": 0
      },
      "text/plain": [
       "HBox(children=(HTML(value=''), FloatProgress(value=0.0, max=4182.0), HTML(value='')))"
      ]
     },
     "metadata": {},
     "output_type": "display_data"
    },
    {
     "name": "stdout",
     "output_type": "stream",
     "text": [
      "\n"
     ]
    }
   ],
   "source": [
    "result_msa_df = read_files(present_files)"
   ]
  },
  {
   "cell_type": "code",
   "execution_count": 20,
   "id": "064e6af7-24e4-4f95-9711-388c47b5a9d0",
   "metadata": {},
   "outputs": [
    {
     "data": {
      "text/html": [
       "<div>\n",
       "<style scoped>\n",
       "    .dataframe tbody tr th:only-of-type {\n",
       "        vertical-align: middle;\n",
       "    }\n",
       "\n",
       "    .dataframe tbody tr th {\n",
       "        vertical-align: top;\n",
       "    }\n",
       "\n",
       "    .dataframe thead th {\n",
       "        text-align: right;\n",
       "    }\n",
       "</style>\n",
       "<table border=\"1\" class=\"dataframe\">\n",
       "  <thead>\n",
       "    <tr style=\"text-align: right;\">\n",
       "      <th></th>\n",
       "      <th>protein_id</th>\n",
       "      <th>mutation_id</th>\n",
       "      <th>mutation</th>\n",
       "      <th>msa_count_wt</th>\n",
       "      <th>msa_count_mut</th>\n",
       "      <th>msa_count_total</th>\n",
       "      <th>msa_proba_wt</th>\n",
       "      <th>msa_proba_mut</th>\n",
       "      <th>msa_proba_total</th>\n",
       "      <th>msa_length</th>\n",
       "      <th>msa_proba</th>\n",
       "      <th>msa_H</th>\n",
       "      <th>msa_KL</th>\n",
       "    </tr>\n",
       "  </thead>\n",
       "  <tbody>\n",
       "    <tr>\n",
       "      <th>0</th>\n",
       "      <td>P26678</td>\n",
       "      <td>NM_002667.3:c.25C&gt;T</td>\n",
       "      <td>R9C</td>\n",
       "      <td>87.0</td>\n",
       "      <td>0.0</td>\n",
       "      <td>100.0</td>\n",
       "      <td>-0.310155</td>\n",
       "      <td>-4.787492</td>\n",
       "      <td>-88.633441</td>\n",
       "      <td>101</td>\n",
       "      <td>-0.536553</td>\n",
       "      <td>0.326639</td>\n",
       "      <td>2.625994</td>\n",
       "    </tr>\n",
       "    <tr>\n",
       "      <th>1</th>\n",
       "      <td>P26678</td>\n",
       "      <td>NM_002667.3:c.22A&gt;C</td>\n",
       "      <td>T8P</td>\n",
       "      <td>95.0</td>\n",
       "      <td>0.0</td>\n",
       "      <td>100.0</td>\n",
       "      <td>-0.223144</td>\n",
       "      <td>-4.787492</td>\n",
       "      <td>-89.393727</td>\n",
       "      <td>101</td>\n",
       "      <td>-0.536553</td>\n",
       "      <td>0.074447</td>\n",
       "      <td>2.917469</td>\n",
       "    </tr>\n",
       "  </tbody>\n",
       "</table>\n",
       "</div>"
      ],
      "text/plain": [
       "  protein_id          mutation_id mutation  msa_count_wt  msa_count_mut  \\\n",
       "0     P26678  NM_002667.3:c.25C>T      R9C          87.0            0.0   \n",
       "1     P26678  NM_002667.3:c.22A>C      T8P          95.0            0.0   \n",
       "\n",
       "   msa_count_total  msa_proba_wt  msa_proba_mut  msa_proba_total  msa_length  \\\n",
       "0            100.0     -0.310155      -4.787492       -88.633441         101   \n",
       "1            100.0     -0.223144      -4.787492       -89.393727         101   \n",
       "\n",
       "   msa_proba     msa_H    msa_KL  \n",
       "0  -0.536553  0.326639  2.625994  \n",
       "1  -0.536553  0.074447  2.917469  "
      ]
     },
     "metadata": {},
     "output_type": "display_data"
    },
    {
     "name": "stdout",
     "output_type": "stream",
     "text": [
      "221793\n"
     ]
    }
   ],
   "source": [
    "display(result_msa_df.head(2))\n",
    "print(len(result_msa_df))  # 221793"
   ]
  },
  {
   "cell_type": "markdown",
   "id": "74bef26e-131c-4c3d-9306-1c4c42a38f99",
   "metadata": {},
   "source": [
    "### Rosetta"
   ]
  },
  {
   "cell_type": "code",
   "execution_count": 21,
   "id": "f2926c32-e199-4725-9264-5ed45d8960cc",
   "metadata": {},
   "outputs": [],
   "source": [
    "ra_result_dir = NOTEBOOK_DIR.parent.joinpath(\"31_run_rosetta_ddg\", DATASET_NAME)"
   ]
  },
  {
   "cell_type": "code",
   "execution_count": 22,
   "id": "a0f9e809-6043-4ac6-b6d9-9a3ecc90f059",
   "metadata": {},
   "outputs": [
    {
     "data": {
      "application/vnd.jupyter.widget-view+json": {
       "model_id": "f903be0952c849fa9cc00812c8f1b794",
       "version_major": 2,
       "version_minor": 0
      },
      "text/plain": [
       "HBox(children=(HTML(value=''), FloatProgress(value=0.0, max=4182.0), HTML(value='')))"
      ]
     },
     "metadata": {},
     "output_type": "display_data"
    },
    {
     "name": "stdout",
     "output_type": "stream",
     "text": [
      "\n"
     ]
    },
    {
     "data": {
      "text/plain": [
       "(4182, 0)"
      ]
     },
     "execution_count": 22,
     "metadata": {},
     "output_type": "execute_result"
    }
   ],
   "source": [
    "present_files, missing_files = get_result_files(ra_result_dir)\n",
    "\n",
    "assert len(missing_files) == 0\n",
    "len(present_files), len(missing_files)"
   ]
  },
  {
   "cell_type": "code",
   "execution_count": 23,
   "id": "6e6fc5fa-8b48-4c54-b182-6aba2ee5a39e",
   "metadata": {},
   "outputs": [
    {
     "data": {
      "application/vnd.jupyter.widget-view+json": {
       "model_id": "cf93d5d3dcf5490d8f5e6af8a17ca54c",
       "version_major": 2,
       "version_minor": 0
      },
      "text/plain": [
       "HBox(children=(HTML(value=''), FloatProgress(value=0.0, max=4182.0), HTML(value='')))"
      ]
     },
     "metadata": {},
     "output_type": "display_data"
    },
    {
     "name": "stdout",
     "output_type": "stream",
     "text": [
      "Empty file for /gpfs/fs0/scratch/p/pmkim/strokach/workspace/elaspic2-cagi6/notebooks/31_run_rosetta_ddg/cagi6-sherloc/shard-1098-of-4182.parquet\n",
      "\n"
     ]
    }
   ],
   "source": [
    "result_ra_df = read_rosetta_files(pfile)"
   ]
  },
  {
   "cell_type": "code",
   "execution_count": 24,
   "id": "676fa55f-c244-408b-82dc-7ebb3a0161ef",
   "metadata": {},
   "outputs": [
    {
     "data": {
      "text/html": [
       "<div>\n",
       "<style scoped>\n",
       "    .dataframe tbody tr th:only-of-type {\n",
       "        vertical-align: middle;\n",
       "    }\n",
       "\n",
       "    .dataframe tbody tr th {\n",
       "        vertical-align: top;\n",
       "    }\n",
       "\n",
       "    .dataframe thead th {\n",
       "        text-align: right;\n",
       "    }\n",
       "</style>\n",
       "<table border=\"1\" class=\"dataframe\">\n",
       "  <thead>\n",
       "    <tr style=\"text-align: right;\">\n",
       "      <th></th>\n",
       "      <th>protein_id</th>\n",
       "      <th>mutation_id</th>\n",
       "      <th>mutation</th>\n",
       "      <th>effect</th>\n",
       "      <th>rosetta_cart_bonded_wt</th>\n",
       "      <th>rosetta_rama_prepro_wt</th>\n",
       "      <th>rosetta_ref_wt</th>\n",
       "      <th>rosetta_hxl_tors_wt</th>\n",
       "      <th>rosetta_p_aa_pp_wt</th>\n",
       "      <th>rosetta_fa_dun_semi_wt</th>\n",
       "      <th>rosetta_fa_dun_rot_wt</th>\n",
       "      <th>rosetta_fa_dun_dev_wt</th>\n",
       "      <th>rosetta_omega_wt</th>\n",
       "      <th>rosetta_dslf_fa13_wt</th>\n",
       "      <th>rosetta_hbond_sc_wt</th>\n",
       "      <th>rosetta_hbond_bb_sc_wt</th>\n",
       "      <th>rosetta_hbond_lr_bb_wt</th>\n",
       "      <th>rosetta_hbond_sr_bb_wt</th>\n",
       "      <th>rosetta_fa_intra_elec_wt</th>\n",
       "      <th>rosetta_fa_elec_wt</th>\n",
       "      <th>rosetta_lk_ball_bridge_uncpl_wt</th>\n",
       "      <th>rosetta_lk_ball_bridge_wt</th>\n",
       "      <th>rosetta_lk_ball_iso_wt</th>\n",
       "      <th>rosetta_lk_ball_wt</th>\n",
       "      <th>rosetta_fa_intra_sol_xover4_wt</th>\n",
       "      <th>rosetta_fa_intra_rep_xover4_wt</th>\n",
       "      <th>rosetta_fa_intra_atr_xover4_wt</th>\n",
       "      <th>rosetta_fa_sol_wt</th>\n",
       "      <th>rosetta_fa_rep_wt</th>\n",
       "      <th>rosetta_fa_atr_wt</th>\n",
       "      <th>rosetta_dg_wt</th>\n",
       "      <th>rosetta_cart_bonded_change</th>\n",
       "      <th>rosetta_rama_prepro_change</th>\n",
       "      <th>rosetta_ref_change</th>\n",
       "      <th>rosetta_hxl_tors_change</th>\n",
       "      <th>rosetta_p_aa_pp_change</th>\n",
       "      <th>rosetta_fa_dun_semi_change</th>\n",
       "      <th>rosetta_fa_dun_rot_change</th>\n",
       "      <th>rosetta_fa_dun_dev_change</th>\n",
       "      <th>rosetta_omega_change</th>\n",
       "      <th>rosetta_dslf_fa13_change</th>\n",
       "      <th>rosetta_hbond_sc_change</th>\n",
       "      <th>rosetta_hbond_bb_sc_change</th>\n",
       "      <th>rosetta_hbond_lr_bb_change</th>\n",
       "      <th>rosetta_hbond_sr_bb_change</th>\n",
       "      <th>rosetta_fa_intra_elec_change</th>\n",
       "      <th>rosetta_fa_elec_change</th>\n",
       "      <th>rosetta_lk_ball_bridge_uncpl_change</th>\n",
       "      <th>rosetta_lk_ball_bridge_change</th>\n",
       "      <th>rosetta_lk_ball_iso_change</th>\n",
       "      <th>rosetta_lk_ball_change</th>\n",
       "      <th>rosetta_fa_intra_sol_xover4_change</th>\n",
       "      <th>rosetta_fa_intra_rep_xover4_change</th>\n",
       "      <th>rosetta_fa_intra_atr_xover4_change</th>\n",
       "      <th>rosetta_fa_sol_change</th>\n",
       "      <th>rosetta_fa_rep_change</th>\n",
       "      <th>rosetta_fa_atr_change</th>\n",
       "      <th>rosetta_dg_change</th>\n",
       "    </tr>\n",
       "  </thead>\n",
       "  <tbody>\n",
       "    <tr>\n",
       "      <th>0</th>\n",
       "      <td>P26678</td>\n",
       "      <td>NM_002667.3:c.25C&gt;T</td>\n",
       "      <td>R9C</td>\n",
       "      <td>Pathogenic</td>\n",
       "      <td>34.796667</td>\n",
       "      <td>18.080333</td>\n",
       "      <td>13.08</td>\n",
       "      <td>5.875333</td>\n",
       "      <td>-4.878333</td>\n",
       "      <td>33.826333</td>\n",
       "      <td>30.420</td>\n",
       "      <td>37.201667</td>\n",
       "      <td>16.900333</td>\n",
       "      <td>0.0</td>\n",
       "      <td>0.0</td>\n",
       "      <td>-0.495</td>\n",
       "      <td>0.0</td>\n",
       "      <td>-46.239</td>\n",
       "      <td>-5.748</td>\n",
       "      <td>-96.294333</td>\n",
       "      <td>-1.515667</td>\n",
       "      <td>-0.220333</td>\n",
       "      <td>-145.437333</td>\n",
       "      <td>123.757667</td>\n",
       "      <td>12.501667</td>\n",
       "      <td>9.146667</td>\n",
       "      <td>-22.659333</td>\n",
       "      <td>279.312667</td>\n",
       "      <td>18.309</td>\n",
       "      <td>-311.028667</td>\n",
       "      <td>-1.308</td>\n",
       "      <td>-0.577667</td>\n",
       "      <td>0.614667</td>\n",
       "      <td>4.553</td>\n",
       "      <td>0.021333</td>\n",
       "      <td>0.376000</td>\n",
       "      <td>0.173000</td>\n",
       "      <td>-1.592000</td>\n",
       "      <td>-0.074667</td>\n",
       "      <td>-0.012667</td>\n",
       "      <td>0.0</td>\n",
       "      <td>0.000</td>\n",
       "      <td>0.495000</td>\n",
       "      <td>0.0</td>\n",
       "      <td>-0.011</td>\n",
       "      <td>-0.510333</td>\n",
       "      <td>0.204667</td>\n",
       "      <td>0.508667</td>\n",
       "      <td>0.040</td>\n",
       "      <td>1.679</td>\n",
       "      <td>-0.050333</td>\n",
       "      <td>-0.104333</td>\n",
       "      <td>-0.147</td>\n",
       "      <td>0.325000</td>\n",
       "      <td>-4.542667</td>\n",
       "      <td>0.084667</td>\n",
       "      <td>2.215667</td>\n",
       "      <td>3.669</td>\n",
       "    </tr>\n",
       "    <tr>\n",
       "      <th>1</th>\n",
       "      <td>P26678</td>\n",
       "      <td>NM_002667.3:c.22A&gt;C</td>\n",
       "      <td>T8P</td>\n",
       "      <td>Uncertain significance</td>\n",
       "      <td>35.531000</td>\n",
       "      <td>17.849000</td>\n",
       "      <td>13.08</td>\n",
       "      <td>9.764000</td>\n",
       "      <td>-5.052000</td>\n",
       "      <td>33.549000</td>\n",
       "      <td>30.357</td>\n",
       "      <td>43.524000</td>\n",
       "      <td>16.889000</td>\n",
       "      <td>0.0</td>\n",
       "      <td>0.0</td>\n",
       "      <td>-0.743</td>\n",
       "      <td>0.0</td>\n",
       "      <td>-45.885</td>\n",
       "      <td>-4.684</td>\n",
       "      <td>-97.176000</td>\n",
       "      <td>-1.163000</td>\n",
       "      <td>-0.196000</td>\n",
       "      <td>-144.679000</td>\n",
       "      <td>123.189000</td>\n",
       "      <td>12.223000</td>\n",
       "      <td>9.169000</td>\n",
       "      <td>-22.419000</td>\n",
       "      <td>278.164000</td>\n",
       "      <td>18.065</td>\n",
       "      <td>-310.411000</td>\n",
       "      <td>8.945</td>\n",
       "      <td>12.124333</td>\n",
       "      <td>2.623000</td>\n",
       "      <td>-3.697</td>\n",
       "      <td>-2.731667</td>\n",
       "      <td>0.545667</td>\n",
       "      <td>1.057667</td>\n",
       "      <td>0.810667</td>\n",
       "      <td>0.199333</td>\n",
       "      <td>1.852333</td>\n",
       "      <td>0.0</td>\n",
       "      <td>-1.577</td>\n",
       "      <td>0.007667</td>\n",
       "      <td>0.0</td>\n",
       "      <td>1.358</td>\n",
       "      <td>0.671000</td>\n",
       "      <td>1.583667</td>\n",
       "      <td>0.171667</td>\n",
       "      <td>0.014</td>\n",
       "      <td>0.872</td>\n",
       "      <td>0.017000</td>\n",
       "      <td>-0.134000</td>\n",
       "      <td>-0.100</td>\n",
       "      <td>0.435333</td>\n",
       "      <td>-1.319333</td>\n",
       "      <td>6.835000</td>\n",
       "      <td>-1.977333</td>\n",
       "      <td>19.644</td>\n",
       "    </tr>\n",
       "  </tbody>\n",
       "</table>\n",
       "</div>"
      ],
      "text/plain": [
       "  protein_id          mutation_id mutation                  effect  \\\n",
       "0     P26678  NM_002667.3:c.25C>T      R9C              Pathogenic   \n",
       "1     P26678  NM_002667.3:c.22A>C      T8P  Uncertain significance   \n",
       "\n",
       "   rosetta_cart_bonded_wt  rosetta_rama_prepro_wt  rosetta_ref_wt  \\\n",
       "0               34.796667               18.080333           13.08   \n",
       "1               35.531000               17.849000           13.08   \n",
       "\n",
       "   rosetta_hxl_tors_wt  rosetta_p_aa_pp_wt  rosetta_fa_dun_semi_wt  \\\n",
       "0             5.875333           -4.878333               33.826333   \n",
       "1             9.764000           -5.052000               33.549000   \n",
       "\n",
       "   rosetta_fa_dun_rot_wt  rosetta_fa_dun_dev_wt  rosetta_omega_wt  \\\n",
       "0                 30.420              37.201667         16.900333   \n",
       "1                 30.357              43.524000         16.889000   \n",
       "\n",
       "   rosetta_dslf_fa13_wt  rosetta_hbond_sc_wt  rosetta_hbond_bb_sc_wt  \\\n",
       "0                   0.0                  0.0                  -0.495   \n",
       "1                   0.0                  0.0                  -0.743   \n",
       "\n",
       "   rosetta_hbond_lr_bb_wt  rosetta_hbond_sr_bb_wt  rosetta_fa_intra_elec_wt  \\\n",
       "0                     0.0                 -46.239                    -5.748   \n",
       "1                     0.0                 -45.885                    -4.684   \n",
       "\n",
       "   rosetta_fa_elec_wt  rosetta_lk_ball_bridge_uncpl_wt  \\\n",
       "0          -96.294333                        -1.515667   \n",
       "1          -97.176000                        -1.163000   \n",
       "\n",
       "   rosetta_lk_ball_bridge_wt  rosetta_lk_ball_iso_wt  rosetta_lk_ball_wt  \\\n",
       "0                  -0.220333             -145.437333          123.757667   \n",
       "1                  -0.196000             -144.679000          123.189000   \n",
       "\n",
       "   rosetta_fa_intra_sol_xover4_wt  rosetta_fa_intra_rep_xover4_wt  \\\n",
       "0                       12.501667                        9.146667   \n",
       "1                       12.223000                        9.169000   \n",
       "\n",
       "   rosetta_fa_intra_atr_xover4_wt  rosetta_fa_sol_wt  rosetta_fa_rep_wt  \\\n",
       "0                      -22.659333         279.312667             18.309   \n",
       "1                      -22.419000         278.164000             18.065   \n",
       "\n",
       "   rosetta_fa_atr_wt  rosetta_dg_wt  rosetta_cart_bonded_change  \\\n",
       "0        -311.028667         -1.308                   -0.577667   \n",
       "1        -310.411000          8.945                   12.124333   \n",
       "\n",
       "   rosetta_rama_prepro_change  rosetta_ref_change  rosetta_hxl_tors_change  \\\n",
       "0                    0.614667               4.553                 0.021333   \n",
       "1                    2.623000              -3.697                -2.731667   \n",
       "\n",
       "   rosetta_p_aa_pp_change  rosetta_fa_dun_semi_change  \\\n",
       "0                0.376000                    0.173000   \n",
       "1                0.545667                    1.057667   \n",
       "\n",
       "   rosetta_fa_dun_rot_change  rosetta_fa_dun_dev_change  rosetta_omega_change  \\\n",
       "0                  -1.592000                  -0.074667             -0.012667   \n",
       "1                   0.810667                   0.199333              1.852333   \n",
       "\n",
       "   rosetta_dslf_fa13_change  rosetta_hbond_sc_change  \\\n",
       "0                       0.0                    0.000   \n",
       "1                       0.0                   -1.577   \n",
       "\n",
       "   rosetta_hbond_bb_sc_change  rosetta_hbond_lr_bb_change  \\\n",
       "0                    0.495000                         0.0   \n",
       "1                    0.007667                         0.0   \n",
       "\n",
       "   rosetta_hbond_sr_bb_change  rosetta_fa_intra_elec_change  \\\n",
       "0                      -0.011                     -0.510333   \n",
       "1                       1.358                      0.671000   \n",
       "\n",
       "   rosetta_fa_elec_change  rosetta_lk_ball_bridge_uncpl_change  \\\n",
       "0                0.204667                             0.508667   \n",
       "1                1.583667                             0.171667   \n",
       "\n",
       "   rosetta_lk_ball_bridge_change  rosetta_lk_ball_iso_change  \\\n",
       "0                          0.040                       1.679   \n",
       "1                          0.014                       0.872   \n",
       "\n",
       "   rosetta_lk_ball_change  rosetta_fa_intra_sol_xover4_change  \\\n",
       "0               -0.050333                           -0.104333   \n",
       "1                0.017000                           -0.134000   \n",
       "\n",
       "   rosetta_fa_intra_rep_xover4_change  rosetta_fa_intra_atr_xover4_change  \\\n",
       "0                              -0.147                            0.325000   \n",
       "1                              -0.100                            0.435333   \n",
       "\n",
       "   rosetta_fa_sol_change  rosetta_fa_rep_change  rosetta_fa_atr_change  \\\n",
       "0              -4.542667               0.084667               2.215667   \n",
       "1              -1.319333               6.835000              -1.977333   \n",
       "\n",
       "   rosetta_dg_change  \n",
       "0              3.669  \n",
       "1             19.644  "
      ]
     },
     "metadata": {},
     "output_type": "display_data"
    },
    {
     "name": "stdout",
     "output_type": "stream",
     "text": [
      "221793\n"
     ]
    }
   ],
   "source": [
    "display(result_ra_df.head(2))\n",
    "print(len(result_ra_df))  # 221793"
   ]
  },
  {
   "cell_type": "markdown",
   "id": "deb93d6e-709e-4626-94c2-0682761dc9ad",
   "metadata": {},
   "source": [
    "### AlphaFold"
   ]
  },
  {
   "cell_type": "code",
   "execution_count": 25,
   "id": "9cc3de71-10ee-4d03-9b33-651bf61dceb1",
   "metadata": {},
   "outputs": [],
   "source": [
    "af_result_dir = NOTEBOOK_DIR.parent.joinpath(\"31_run_alphafold\", DATASET_NAME)"
   ]
  },
  {
   "cell_type": "code",
   "execution_count": 26,
   "id": "09bbe191-115b-49cc-a385-6dac64415ebf",
   "metadata": {},
   "outputs": [
    {
     "data": {
      "application/vnd.jupyter.widget-view+json": {
       "model_id": "b93418836301470497b26387c9e47e47",
       "version_major": 2,
       "version_minor": 0
      },
      "text/plain": [
       "HBox(children=(HTML(value=''), FloatProgress(value=0.0, max=4182.0), HTML(value='')))"
      ]
     },
     "metadata": {},
     "output_type": "display_data"
    },
    {
     "name": "stdout",
     "output_type": "stream",
     "text": [
      "\n"
     ]
    },
    {
     "data": {
      "text/plain": [
       "(2959, 1223)"
      ]
     },
     "execution_count": 26,
     "metadata": {},
     "output_type": "execute_result"
    }
   ],
   "source": [
    "present_files, missing_files = get_result_files(af_result_dir)\n",
    "\n",
    "len(present_files), len(missing_files)"
   ]
  },
  {
   "cell_type": "code",
   "execution_count": 27,
   "id": "a8a9b964-b13c-4c52-b063-c26c8ac70efe",
   "metadata": {},
   "outputs": [
    {
     "data": {
      "application/vnd.jupyter.widget-view+json": {
       "model_id": "0a1b3a7ccd554e679bbb329c2a37cebe",
       "version_major": 2,
       "version_minor": 0
      },
      "text/plain": [
       "HBox(children=(HTML(value=''), FloatProgress(value=0.0, max=2959.0), HTML(value='')))"
      ]
     },
     "metadata": {},
     "output_type": "display_data"
    },
    {
     "name": "stdout",
     "output_type": "stream",
     "text": [
      "\n"
     ]
    }
   ],
   "source": [
    "result_af_df = read_files(present_files)"
   ]
  },
  {
   "cell_type": "code",
   "execution_count": 28,
   "id": "d18e5dc8-5513-4aea-8346-0d8782289e32",
   "metadata": {},
   "outputs": [
    {
     "data": {
      "text/html": [
       "<div>\n",
       "<style scoped>\n",
       "    .dataframe tbody tr th:only-of-type {\n",
       "        vertical-align: middle;\n",
       "    }\n",
       "\n",
       "    .dataframe tbody tr th {\n",
       "        vertical-align: top;\n",
       "    }\n",
       "\n",
       "    .dataframe thead th {\n",
       "        text-align: right;\n",
       "    }\n",
       "</style>\n",
       "<table border=\"1\" class=\"dataframe\">\n",
       "  <thead>\n",
       "    <tr style=\"text-align: right;\">\n",
       "      <th></th>\n",
       "      <th>protein_id</th>\n",
       "      <th>mutation</th>\n",
       "      <th>mutation_id</th>\n",
       "      <th>effect</th>\n",
       "      <th>alphafold_core_scores_residue_plddt_wt</th>\n",
       "      <th>alphafold_core_scores_protein_plddt_wt</th>\n",
       "      <th>alphafold_core_scores_protein_max_predicted_aligned_error_wt</th>\n",
       "      <th>alphafold_core_scores_proten_ptm_wt</th>\n",
       "      <th>alphafold_core_features_residue_experimentally_resolved_wt</th>\n",
       "      <th>alphafold_core_features_residue_predicted_lddt_wt</th>\n",
       "      <th>alphafold_core_features_residue_msa_first_row_wt</th>\n",
       "      <th>alphafold_core_features_residue_single_wt</th>\n",
       "      <th>alphafold_core_features_residue_structure_module_wt</th>\n",
       "      <th>alphafold_core_features_protein_experimentally_resolved_wt</th>\n",
       "      <th>alphafold_core_features_protein_predicted_lddt_wt</th>\n",
       "      <th>alphafold_core_features_protein_msa_first_row_wt</th>\n",
       "      <th>alphafold_core_features_protein_single_wt</th>\n",
       "      <th>alphafold_core_features_protein_structure_module_wt</th>\n",
       "      <th>alphafold_core_scores_residue_plddt_mut</th>\n",
       "      <th>alphafold_core_scores_protein_plddt_mut</th>\n",
       "      <th>alphafold_core_scores_protein_max_predicted_aligned_error_mut</th>\n",
       "      <th>alphafold_core_scores_proten_ptm_mut</th>\n",
       "      <th>alphafold_core_features_residue_experimentally_resolved_mut</th>\n",
       "      <th>alphafold_core_features_residue_predicted_lddt_mut</th>\n",
       "      <th>alphafold_core_features_residue_msa_first_row_mut</th>\n",
       "      <th>alphafold_core_features_residue_single_mut</th>\n",
       "      <th>alphafold_core_features_residue_structure_module_mut</th>\n",
       "      <th>alphafold_core_features_protein_experimentally_resolved_mut</th>\n",
       "      <th>alphafold_core_features_protein_predicted_lddt_mut</th>\n",
       "      <th>alphafold_core_features_protein_msa_first_row_mut</th>\n",
       "      <th>alphafold_core_features_protein_single_mut</th>\n",
       "      <th>alphafold_core_features_protein_structure_module_mut</th>\n",
       "    </tr>\n",
       "  </thead>\n",
       "  <tbody>\n",
       "    <tr>\n",
       "      <th>0</th>\n",
       "      <td>P26678</td>\n",
       "      <td>R9C</td>\n",
       "      <td>NM_002667.3:c.25C&gt;T</td>\n",
       "      <td>Pathogenic</td>\n",
       "      <td>60.585841</td>\n",
       "      <td>76.416854</td>\n",
       "      <td>31.75</td>\n",
       "      <td>0.427586</td>\n",
       "      <td>[1.1943495, 1.2143694, 1.4703865, 1.009636, 1....</td>\n",
       "      <td>[-6.1107526, -7.1425943, -6.2013907, -5.484081...</td>\n",
       "      <td>[-1.8559321, 4.2250576, -12.1879635, 5.93118, ...</td>\n",
       "      <td>[19.911064, -7.9082317, 24.44313, -24.324299, ...</td>\n",
       "      <td>[0.0069303215, 0.010208584, -0.0057431404, 0.0...</td>\n",
       "      <td>[0.47212097, 0.49641332, 0.6147766, 0.47432983...</td>\n",
       "      <td>[-6.029762, -7.716437, -6.686019, -5.9195952, ...</td>\n",
       "      <td>[1.6403109, 2.4395254, -3.7391555, 2.6988323, ...</td>\n",
       "      <td>[8.636584, 8.638843, 21.079756, -9.497276, -2....</td>\n",
       "      <td>[0.0024530103, 0.010949803, -0.00598975, 0.002...</td>\n",
       "      <td>60.582598</td>\n",
       "      <td>76.403723</td>\n",
       "      <td>31.75</td>\n",
       "      <td>0.427867</td>\n",
       "      <td>[1.0641325, 1.082403, 1.2580698, 0.9167514, 1....</td>\n",
       "      <td>[-6.103961, -7.1548443, -6.2082458, -5.489683,...</td>\n",
       "      <td>[-1.6113122, 3.3064485, -10.750493, 4.08933, -...</td>\n",
       "      <td>[12.559908, -16.30187, 21.260107, -27.38837, 8...</td>\n",
       "      <td>[0.006838836, 0.010236204, -0.005743468, 0.001...</td>\n",
       "      <td>[0.4698432, 0.4942151, 0.61180365, 0.47257632,...</td>\n",
       "      <td>[-6.025748, -7.713504, -6.682801, -5.9158244, ...</td>\n",
       "      <td>[1.659786, 2.444791, -3.6953018, 2.7094986, -4...</td>\n",
       "      <td>[8.545251, 8.564394, 21.180698, -9.621022, -2....</td>\n",
       "      <td>[0.0024241176, 0.010975119, -0.005989004, 0.00...</td>\n",
       "    </tr>\n",
       "    <tr>\n",
       "      <th>1</th>\n",
       "      <td>P26678</td>\n",
       "      <td>T8P</td>\n",
       "      <td>NM_002667.3:c.22A&gt;C</td>\n",
       "      <td>Uncertain significance</td>\n",
       "      <td>60.939363</td>\n",
       "      <td>76.416854</td>\n",
       "      <td>31.75</td>\n",
       "      <td>0.427586</td>\n",
       "      <td>[-0.9143661, -0.9311734, -1.0163504, -1.110276...</td>\n",
       "      <td>[-5.8135767, -7.5865355, -6.377211, -5.5560055...</td>\n",
       "      <td>[5.013483, 6.58278, -4.2263947, 2.135174, -4.0...</td>\n",
       "      <td>[3.3193378, 13.778628, 40.745605, -40.561554, ...</td>\n",
       "      <td>[0.005573705, 0.0062753484, -0.005795421, 0.00...</td>\n",
       "      <td>[0.47212097, 0.49641332, 0.6147766, 0.47432983...</td>\n",
       "      <td>[-6.029762, -7.716437, -6.686019, -5.9195952, ...</td>\n",
       "      <td>[1.6403109, 2.4395254, -3.7391555, 2.6988323, ...</td>\n",
       "      <td>[8.636584, 8.638843, 21.079756, -9.497276, -2....</td>\n",
       "      <td>[0.0024530103, 0.010949803, -0.00598975, 0.002...</td>\n",
       "      <td>60.878050</td>\n",
       "      <td>76.477451</td>\n",
       "      <td>31.75</td>\n",
       "      <td>0.428083</td>\n",
       "      <td>[-0.82701945, -0.8436323, -0.9510052, -1.03694...</td>\n",
       "      <td>[-5.8004627, -7.553446, -6.3580575, -5.5442915...</td>\n",
       "      <td>[5.503637, 5.029438, -2.695966, 2.3204188, -4....</td>\n",
       "      <td>[1.4206113, 14.201282, 40.124996, -40.59988, -...</td>\n",
       "      <td>[0.005509153, 0.006440036, -0.005802607, 0.002...</td>\n",
       "      <td>[0.47837487, 0.5026877, 0.6215101, 0.4798556, ...</td>\n",
       "      <td>[-6.0175996, -7.697442, -6.6742005, -5.9090075...</td>\n",
       "      <td>[1.6779923, 2.4558294, -3.6973171, 2.6875021, ...</td>\n",
       "      <td>[8.556296, 8.658266, 21.207325, -9.4746275, -2...</td>\n",
       "      <td>[0.002478923, 0.010917299, -0.0059956484, 0.00...</td>\n",
       "    </tr>\n",
       "  </tbody>\n",
       "</table>\n",
       "</div>"
      ],
      "text/plain": [
       "  protein_id mutation          mutation_id                  effect  \\\n",
       "0     P26678      R9C  NM_002667.3:c.25C>T              Pathogenic   \n",
       "1     P26678      T8P  NM_002667.3:c.22A>C  Uncertain significance   \n",
       "\n",
       "   alphafold_core_scores_residue_plddt_wt  \\\n",
       "0                               60.585841   \n",
       "1                               60.939363   \n",
       "\n",
       "   alphafold_core_scores_protein_plddt_wt  \\\n",
       "0                               76.416854   \n",
       "1                               76.416854   \n",
       "\n",
       "   alphafold_core_scores_protein_max_predicted_aligned_error_wt  \\\n",
       "0                                              31.75              \n",
       "1                                              31.75              \n",
       "\n",
       "   alphafold_core_scores_proten_ptm_wt  \\\n",
       "0                             0.427586   \n",
       "1                             0.427586   \n",
       "\n",
       "  alphafold_core_features_residue_experimentally_resolved_wt  \\\n",
       "0  [1.1943495, 1.2143694, 1.4703865, 1.009636, 1....           \n",
       "1  [-0.9143661, -0.9311734, -1.0163504, -1.110276...           \n",
       "\n",
       "   alphafold_core_features_residue_predicted_lddt_wt  \\\n",
       "0  [-6.1107526, -7.1425943, -6.2013907, -5.484081...   \n",
       "1  [-5.8135767, -7.5865355, -6.377211, -5.5560055...   \n",
       "\n",
       "    alphafold_core_features_residue_msa_first_row_wt  \\\n",
       "0  [-1.8559321, 4.2250576, -12.1879635, 5.93118, ...   \n",
       "1  [5.013483, 6.58278, -4.2263947, 2.135174, -4.0...   \n",
       "\n",
       "           alphafold_core_features_residue_single_wt  \\\n",
       "0  [19.911064, -7.9082317, 24.44313, -24.324299, ...   \n",
       "1  [3.3193378, 13.778628, 40.745605, -40.561554, ...   \n",
       "\n",
       "  alphafold_core_features_residue_structure_module_wt  \\\n",
       "0  [0.0069303215, 0.010208584, -0.0057431404, 0.0...    \n",
       "1  [0.005573705, 0.0062753484, -0.005795421, 0.00...    \n",
       "\n",
       "  alphafold_core_features_protein_experimentally_resolved_wt  \\\n",
       "0  [0.47212097, 0.49641332, 0.6147766, 0.47432983...           \n",
       "1  [0.47212097, 0.49641332, 0.6147766, 0.47432983...           \n",
       "\n",
       "   alphafold_core_features_protein_predicted_lddt_wt  \\\n",
       "0  [-6.029762, -7.716437, -6.686019, -5.9195952, ...   \n",
       "1  [-6.029762, -7.716437, -6.686019, -5.9195952, ...   \n",
       "\n",
       "    alphafold_core_features_protein_msa_first_row_wt  \\\n",
       "0  [1.6403109, 2.4395254, -3.7391555, 2.6988323, ...   \n",
       "1  [1.6403109, 2.4395254, -3.7391555, 2.6988323, ...   \n",
       "\n",
       "           alphafold_core_features_protein_single_wt  \\\n",
       "0  [8.636584, 8.638843, 21.079756, -9.497276, -2....   \n",
       "1  [8.636584, 8.638843, 21.079756, -9.497276, -2....   \n",
       "\n",
       "  alphafold_core_features_protein_structure_module_wt  \\\n",
       "0  [0.0024530103, 0.010949803, -0.00598975, 0.002...    \n",
       "1  [0.0024530103, 0.010949803, -0.00598975, 0.002...    \n",
       "\n",
       "   alphafold_core_scores_residue_plddt_mut  \\\n",
       "0                                60.582598   \n",
       "1                                60.878050   \n",
       "\n",
       "   alphafold_core_scores_protein_plddt_mut  \\\n",
       "0                                76.403723   \n",
       "1                                76.477451   \n",
       "\n",
       "   alphafold_core_scores_protein_max_predicted_aligned_error_mut  \\\n",
       "0                                              31.75               \n",
       "1                                              31.75               \n",
       "\n",
       "   alphafold_core_scores_proten_ptm_mut  \\\n",
       "0                              0.427867   \n",
       "1                              0.428083   \n",
       "\n",
       "  alphafold_core_features_residue_experimentally_resolved_mut  \\\n",
       "0  [1.0641325, 1.082403, 1.2580698, 0.9167514, 1....            \n",
       "1  [-0.82701945, -0.8436323, -0.9510052, -1.03694...            \n",
       "\n",
       "  alphafold_core_features_residue_predicted_lddt_mut  \\\n",
       "0  [-6.103961, -7.1548443, -6.2082458, -5.489683,...   \n",
       "1  [-5.8004627, -7.553446, -6.3580575, -5.5442915...   \n",
       "\n",
       "   alphafold_core_features_residue_msa_first_row_mut  \\\n",
       "0  [-1.6113122, 3.3064485, -10.750493, 4.08933, -...   \n",
       "1  [5.503637, 5.029438, -2.695966, 2.3204188, -4....   \n",
       "\n",
       "          alphafold_core_features_residue_single_mut  \\\n",
       "0  [12.559908, -16.30187, 21.260107, -27.38837, 8...   \n",
       "1  [1.4206113, 14.201282, 40.124996, -40.59988, -...   \n",
       "\n",
       "  alphafold_core_features_residue_structure_module_mut  \\\n",
       "0  [0.006838836, 0.010236204, -0.005743468, 0.001...     \n",
       "1  [0.005509153, 0.006440036, -0.005802607, 0.002...     \n",
       "\n",
       "  alphafold_core_features_protein_experimentally_resolved_mut  \\\n",
       "0  [0.4698432, 0.4942151, 0.61180365, 0.47257632,...            \n",
       "1  [0.47837487, 0.5026877, 0.6215101, 0.4798556, ...            \n",
       "\n",
       "  alphafold_core_features_protein_predicted_lddt_mut  \\\n",
       "0  [-6.025748, -7.713504, -6.682801, -5.9158244, ...   \n",
       "1  [-6.0175996, -7.697442, -6.6742005, -5.9090075...   \n",
       "\n",
       "   alphafold_core_features_protein_msa_first_row_mut  \\\n",
       "0  [1.659786, 2.444791, -3.6953018, 2.7094986, -4...   \n",
       "1  [1.6779923, 2.4558294, -3.6973171, 2.6875021, ...   \n",
       "\n",
       "          alphafold_core_features_protein_single_mut  \\\n",
       "0  [8.545251, 8.564394, 21.180698, -9.621022, -2....   \n",
       "1  [8.556296, 8.658266, 21.207325, -9.4746275, -2...   \n",
       "\n",
       "  alphafold_core_features_protein_structure_module_mut  \n",
       "0  [0.0024241176, 0.010975119, -0.005989004, 0.00...    \n",
       "1  [0.002478923, 0.010917299, -0.0059956484, 0.00...    "
      ]
     },
     "metadata": {},
     "output_type": "display_data"
    },
    {
     "name": "stdout",
     "output_type": "stream",
     "text": [
      "127992\n"
     ]
    }
   ],
   "source": [
    "display(result_af_df.head(2))\n",
    "print(len(result_af_df))  # 127992"
   ]
  },
  {
   "cell_type": "markdown",
   "id": "4778fbf7-217c-4262-8d82-e0f20d4c8c4c",
   "metadata": {},
   "source": [
    "### AlphaFold WT"
   ]
  },
  {
   "cell_type": "code",
   "execution_count": 29,
   "id": "a8637695-6750-4622-a660-b282e6d2266f",
   "metadata": {},
   "outputs": [],
   "source": [
    "afwt_result_dir = NOTEBOOK_DIR.parent.joinpath(\"31_run_alphafold_wt\", DATASET_NAME)"
   ]
  },
  {
   "cell_type": "code",
   "execution_count": 30,
   "id": "ea35a7ef-3fb7-495b-8247-4926193ec846",
   "metadata": {},
   "outputs": [
    {
     "data": {
      "application/vnd.jupyter.widget-view+json": {
       "model_id": "9bad68aed00d4f2d8e5c3fe464743f96",
       "version_major": 2,
       "version_minor": 0
      },
      "text/plain": [
       "HBox(children=(HTML(value=''), FloatProgress(value=0.0, max=4182.0), HTML(value='')))"
      ]
     },
     "metadata": {},
     "output_type": "display_data"
    },
    {
     "name": "stdout",
     "output_type": "stream",
     "text": [
      "\n"
     ]
    },
    {
     "data": {
      "text/plain": [
       "(1261, 2921)"
      ]
     },
     "execution_count": 30,
     "metadata": {},
     "output_type": "execute_result"
    }
   ],
   "source": [
    "present_files, missing_files = get_result_files(afwt_result_dir)\n",
    "\n",
    "len(present_files), len(missing_files)"
   ]
  },
  {
   "cell_type": "code",
   "execution_count": 31,
   "id": "90f1e809-03a3-47b1-a943-89f23a178d74",
   "metadata": {},
   "outputs": [
    {
     "data": {
      "application/vnd.jupyter.widget-view+json": {
       "model_id": "cf1957845c76457186c065640abb9d14",
       "version_major": 2,
       "version_minor": 0
      },
      "text/plain": [
       "HBox(children=(HTML(value=''), FloatProgress(value=0.0, max=1261.0), HTML(value='')))"
      ]
     },
     "metadata": {},
     "output_type": "display_data"
    },
    {
     "name": "stdout",
     "output_type": "stream",
     "text": [
      "\n"
     ]
    }
   ],
   "source": [
    "result_afwt_df = read_files(present_files).set_index(\"protein_id\")"
   ]
  },
  {
   "cell_type": "code",
   "execution_count": 32,
   "id": "d5e740ca-6533-44aa-98ef-a67903d87f3c",
   "metadata": {},
   "outputs": [
    {
     "data": {
      "text/html": [
       "<div>\n",
       "<style scoped>\n",
       "    .dataframe tbody tr th:only-of-type {\n",
       "        vertical-align: middle;\n",
       "    }\n",
       "\n",
       "    .dataframe tbody tr th {\n",
       "        vertical-align: top;\n",
       "    }\n",
       "\n",
       "    .dataframe thead th {\n",
       "        text-align: right;\n",
       "    }\n",
       "</style>\n",
       "<table border=\"1\" class=\"dataframe\">\n",
       "  <thead>\n",
       "    <tr style=\"text-align: right;\">\n",
       "      <th></th>\n",
       "      <th>plddt</th>\n",
       "      <th>max_predicted_aligned_error</th>\n",
       "      <th>ptm</th>\n",
       "      <th>experimentally_resolved</th>\n",
       "      <th>predicted_lddt</th>\n",
       "      <th>msa_first_row</th>\n",
       "      <th>single</th>\n",
       "      <th>structure_module</th>\n",
       "    </tr>\n",
       "    <tr>\n",
       "      <th>protein_id</th>\n",
       "      <th></th>\n",
       "      <th></th>\n",
       "      <th></th>\n",
       "      <th></th>\n",
       "      <th></th>\n",
       "      <th></th>\n",
       "      <th></th>\n",
       "      <th></th>\n",
       "    </tr>\n",
       "  </thead>\n",
       "  <tbody>\n",
       "    <tr>\n",
       "      <th>Q8N5M1</th>\n",
       "      <td>[35.972237013727856, 26.117611200477302, 25.28...</td>\n",
       "      <td>31.75</td>\n",
       "      <td>0.757356</td>\n",
       "      <td>[[-1.6529428958892822, -1.745883822441101, -2....</td>\n",
       "      <td>[[-3.664194107055664, -4.06497859954834, -2.82...</td>\n",
       "      <td>[[-2.9925522804260254, 7.615219593048096, -5.5...</td>\n",
       "      <td>[[-65.88994598388672, -1.3906073570251465, -8....</td>\n",
       "      <td>[[0.012274660170078278, 0.004892393946647644, ...</td>\n",
       "    </tr>\n",
       "    <tr>\n",
       "      <th>Q13216</th>\n",
       "      <td>[70.15048890426986, 77.02306691216653, 78.4936...</td>\n",
       "      <td>31.75</td>\n",
       "      <td>0.855871</td>\n",
       "      <td>[[-0.2973601818084717, -0.24902477860450745, -...</td>\n",
       "      <td>[[-5.376760005950928, -5.810971260070801, -5.3...</td>\n",
       "      <td>[[-6.265456676483154, -0.4766066074371338, -5....</td>\n",
       "      <td>[[-3.569941520690918, 51.02355194091797, -2.75...</td>\n",
       "      <td>[[4.6797096729278564e-05, 0.011432409286499023...</td>\n",
       "    </tr>\n",
       "  </tbody>\n",
       "</table>\n",
       "</div>"
      ],
      "text/plain": [
       "                                                        plddt  \\\n",
       "protein_id                                                      \n",
       "Q8N5M1      [35.972237013727856, 26.117611200477302, 25.28...   \n",
       "Q13216      [70.15048890426986, 77.02306691216653, 78.4936...   \n",
       "\n",
       "            max_predicted_aligned_error       ptm  \\\n",
       "protein_id                                          \n",
       "Q8N5M1                            31.75  0.757356   \n",
       "Q13216                            31.75  0.855871   \n",
       "\n",
       "                                      experimentally_resolved  \\\n",
       "protein_id                                                      \n",
       "Q8N5M1      [[-1.6529428958892822, -1.745883822441101, -2....   \n",
       "Q13216      [[-0.2973601818084717, -0.24902477860450745, -...   \n",
       "\n",
       "                                               predicted_lddt  \\\n",
       "protein_id                                                      \n",
       "Q8N5M1      [[-3.664194107055664, -4.06497859954834, -2.82...   \n",
       "Q13216      [[-5.376760005950928, -5.810971260070801, -5.3...   \n",
       "\n",
       "                                                msa_first_row  \\\n",
       "protein_id                                                      \n",
       "Q8N5M1      [[-2.9925522804260254, 7.615219593048096, -5.5...   \n",
       "Q13216      [[-6.265456676483154, -0.4766066074371338, -5....   \n",
       "\n",
       "                                                       single  \\\n",
       "protein_id                                                      \n",
       "Q8N5M1      [[-65.88994598388672, -1.3906073570251465, -8....   \n",
       "Q13216      [[-3.569941520690918, 51.02355194091797, -2.75...   \n",
       "\n",
       "                                             structure_module  \n",
       "protein_id                                                     \n",
       "Q8N5M1      [[0.012274660170078278, 0.004892393946647644, ...  \n",
       "Q13216      [[4.6797096729278564e-05, 0.011432409286499023...  "
      ]
     },
     "metadata": {},
     "output_type": "display_data"
    },
    {
     "name": "stdout",
     "output_type": "stream",
     "text": [
      "1261\n"
     ]
    }
   ],
   "source": [
    "display(result_afwt_df.head(2))\n",
    "print(len(result_afwt_df))"
   ]
  },
  {
   "cell_type": "code",
   "execution_count": 33,
   "id": "2df7b20c-dd45-4661-8ad4-2e17321e28a9",
   "metadata": {},
   "outputs": [
    {
     "data": {
      "text/plain": [
       "93801"
      ]
     },
     "execution_count": 33,
     "metadata": {},
     "output_type": "execute_result"
    }
   ],
   "source": [
    "af_finished_protein_ids = set(\n",
    "    result_af_df[[\"protein_id\", \"mutation\", \"mutation_id\", \"effect\"]].apply(tuple, axis=1)\n",
    ")\n",
    "\n",
    "af_missing_protein_ids = (\n",
    "    set(result_pb_df[[\"protein_id\", \"mutation\", \"mutation_id\", \"effect\"]].apply(tuple, axis=1))\n",
    "    - af_finished_protein_ids\n",
    ")\n",
    "\n",
    "len(af_missing_protein_ids)"
   ]
  },
  {
   "cell_type": "code",
   "execution_count": 34,
   "id": "659de6ec-d53c-47ac-9bcd-1979b364f782",
   "metadata": {},
   "outputs": [],
   "source": [
    "def get_mutation_embeddings(idx, predictions):\n",
    "    assert idx >= 0\n",
    "\n",
    "    def as_residue(x):\n",
    "        return x[idx].astype(np.float32)\n",
    "\n",
    "    def as_protein(x):\n",
    "        return x.mean(axis=0).astype(np.float32)\n",
    "\n",
    "    embeddings = {\n",
    "        \"experimentally_resolved\": predictions[\"experimentally_resolved\"],\n",
    "        \"predicted_lddt\": predictions[\"predicted_lddt\"],\n",
    "        \"msa_first_row\": predictions[\"msa_first_row\"],\n",
    "        \"single\": predictions[\"single\"],\n",
    "        \"structure_module\": predictions[\"structure_module\"],\n",
    "    }\n",
    "\n",
    "    output = {\n",
    "        \"scores_residue_plddt\": predictions[\"plddt\"][idx],\n",
    "        \"scores_protein_plddt\": np.mean(predictions[\"plddt\"]),\n",
    "        \"scores_protein_max_predicted_aligned_error\": predictions[\"max_predicted_aligned_error\"],\n",
    "        \"scores_proten_ptm\": predictions[\"ptm\"],\n",
    "        **{f\"features_residue_{key}\": as_residue(value) for key, value in embeddings.items()},\n",
    "        **{f\"features_protein_{key}\": as_protein(value) for key, value in embeddings.items()},\n",
    "    }\n",
    "\n",
    "    return output\n",
    "\n",
    "\n",
    "# get_mutation_embeddings(0, result_afwt_df.loc[\"Q8N5M1\"])"
   ]
  },
  {
   "cell_type": "code",
   "execution_count": 35,
   "id": "d18b546f-eff6-497b-a390-043f387d09db",
   "metadata": {},
   "outputs": [
    {
     "data": {
      "application/vnd.jupyter.widget-view+json": {
       "model_id": "df4db04df9ae436d992740c9741480c4",
       "version_major": 2,
       "version_minor": 0
      },
      "text/plain": [
       "HBox(children=(HTML(value=''), FloatProgress(value=0.0, max=93801.0), HTML(value='')))"
      ]
     },
     "metadata": {},
     "output_type": "display_data"
    },
    {
     "name": "stdout",
     "output_type": "stream",
     "text": [
      "\n"
     ]
    },
    {
     "data": {
      "text/plain": [
       "(93729, 72)"
      ]
     },
     "execution_count": 35,
     "metadata": {},
     "output_type": "execute_result"
    }
   ],
   "source": [
    "results = []\n",
    "missing = 0\n",
    "proteins_with_multiple_rows = set()\n",
    "for protein_id, mutation, mutation_id, effect in tqdm(af_missing_protein_ids):\n",
    "    try:\n",
    "        predictions = result_afwt_df.loc[protein_id]\n",
    "    except KeyError:\n",
    "        missing += 1\n",
    "        continue\n",
    "\n",
    "    if isinstance(predictions, pd.DataFrame):\n",
    "        #         print(f\"Multiple rows encountered for {protein_id=} ({len(predictions)=}).\")\n",
    "        proteins_with_multiple_rows.add(protein_id)\n",
    "        predictions = predictions.iloc[0]\n",
    "\n",
    "    features = {\n",
    "        f\"alphafold_core_{key}_wt\": value\n",
    "        for key, value in get_mutation_embeddings(int(mutation[1:-1]) - 1, predictions).items()\n",
    "    }\n",
    "\n",
    "    results.append(\n",
    "        {\n",
    "            \"protein_id\": protein_id,\n",
    "            \"mutation\": mutation,\n",
    "            \"mutation_id\": mutation_id,\n",
    "            \"effect\": effect,\n",
    "        }\n",
    "        | features\n",
    "    )\n",
    "\n",
    "result_af2_df = pd.DataFrame(results)\n",
    "len(result_af2_df), missing"
   ]
  },
  {
   "cell_type": "markdown",
   "id": "0465229e-f586-4efd-bb19-f2d07ca10906",
   "metadata": {},
   "source": [
    "## Combine results"
   ]
  },
  {
   "cell_type": "code",
   "execution_count": 36,
   "id": "59bac9ef-c7e0-4fff-b599-61dbb8362de5",
   "metadata": {},
   "outputs": [
    {
     "data": {
      "text/plain": [
       "True"
      ]
     },
     "execution_count": 36,
     "metadata": {},
     "output_type": "execute_result"
    }
   ],
   "source": [
    "len(result_ps_df) == len(result_ps_df[\"mutation_id\"].unique())"
   ]
  },
  {
   "cell_type": "code",
   "execution_count": 37,
   "id": "7cbdb513-664c-4221-8d2d-b606a2d76975",
   "metadata": {},
   "outputs": [],
   "source": [
    "result_df = (\n",
    "    result_ps_df.merge(\n",
    "        result_pb_df, on=[\"protein_id\", \"mutation\", \"mutation_id\", \"effect\"], how=\"left\"\n",
    "    )\n",
    "    .merge(result_msa_df, on=[\"protein_id\", \"mutation\", \"mutation_id\"], how=\"left\")\n",
    "    .merge(result_ra_df, on=[\"protein_id\", \"mutation\", \"mutation_id\", \"effect\"], how=\"left\")\n",
    "    .merge(\n",
    "        pd.concat([result_af_df, result_af2_df], ignore_index=True),\n",
    "        on=[\"protein_id\", \"mutation\", \"mutation_id\", \"effect\"],\n",
    "        how=\"left\",\n",
    "    )\n",
    ")\n",
    "\n",
    "assert len(result_df) == len(result_df[\"mutation_id\"].unique())\n",
    "assert not (\n",
    "    set(result_pb_df[\"mutation_id\"])\n",
    "    | set(result_ra_df[\"mutation_id\"])\n",
    "    | set(result_af_df[\"mutation_id\"])\n",
    ") - set(result_df[\"mutation_id\"])"
   ]
  },
  {
   "cell_type": "code",
   "execution_count": 38,
   "id": "dea8c722-b788-4c4e-a6b6-765a292c2b54",
   "metadata": {},
   "outputs": [
    {
     "data": {
      "text/html": [
       "<div>\n",
       "<style scoped>\n",
       "    .dataframe tbody tr th:only-of-type {\n",
       "        vertical-align: middle;\n",
       "    }\n",
       "\n",
       "    .dataframe tbody tr th {\n",
       "        vertical-align: top;\n",
       "    }\n",
       "\n",
       "    .dataframe thead th {\n",
       "        text-align: right;\n",
       "    }\n",
       "</style>\n",
       "<table border=\"1\" class=\"dataframe\">\n",
       "  <thead>\n",
       "    <tr style=\"text-align: right;\">\n",
       "      <th></th>\n",
       "      <th>protein_id</th>\n",
       "      <th>mutation</th>\n",
       "      <th>mutation_id</th>\n",
       "      <th>effect</th>\n",
       "      <th>proteinsolver_core_score_wt</th>\n",
       "      <th>proteinsolver_core_score_mut</th>\n",
       "      <th>proteinsolver_core_features_residue_wt</th>\n",
       "      <th>proteinsolver_core_features_protein_wt</th>\n",
       "      <th>proteinsolver_core_features_residue_mut</th>\n",
       "      <th>proteinsolver_core_features_protein_mut</th>\n",
       "      <th>protbert_core_score_wt</th>\n",
       "      <th>protbert_core_score_mut</th>\n",
       "      <th>protbert_core_features_residue_wt</th>\n",
       "      <th>protbert_core_features_protein_wt</th>\n",
       "      <th>protbert_core_features_residue_mut</th>\n",
       "      <th>protbert_core_features_protein_mut</th>\n",
       "      <th>msa_count_wt</th>\n",
       "      <th>msa_count_mut</th>\n",
       "      <th>msa_count_total</th>\n",
       "      <th>msa_proba_wt</th>\n",
       "      <th>msa_proba_mut</th>\n",
       "      <th>msa_proba_total</th>\n",
       "      <th>msa_length</th>\n",
       "      <th>msa_proba</th>\n",
       "      <th>msa_H</th>\n",
       "      <th>msa_KL</th>\n",
       "      <th>rosetta_cart_bonded_wt</th>\n",
       "      <th>rosetta_rama_prepro_wt</th>\n",
       "      <th>rosetta_ref_wt</th>\n",
       "      <th>rosetta_hxl_tors_wt</th>\n",
       "      <th>rosetta_p_aa_pp_wt</th>\n",
       "      <th>rosetta_fa_dun_semi_wt</th>\n",
       "      <th>rosetta_fa_dun_rot_wt</th>\n",
       "      <th>rosetta_fa_dun_dev_wt</th>\n",
       "      <th>rosetta_omega_wt</th>\n",
       "      <th>rosetta_dslf_fa13_wt</th>\n",
       "      <th>rosetta_hbond_sc_wt</th>\n",
       "      <th>rosetta_hbond_bb_sc_wt</th>\n",
       "      <th>rosetta_hbond_lr_bb_wt</th>\n",
       "      <th>rosetta_hbond_sr_bb_wt</th>\n",
       "      <th>rosetta_fa_intra_elec_wt</th>\n",
       "      <th>rosetta_fa_elec_wt</th>\n",
       "      <th>rosetta_lk_ball_bridge_uncpl_wt</th>\n",
       "      <th>rosetta_lk_ball_bridge_wt</th>\n",
       "      <th>rosetta_lk_ball_iso_wt</th>\n",
       "      <th>rosetta_lk_ball_wt</th>\n",
       "      <th>rosetta_fa_intra_sol_xover4_wt</th>\n",
       "      <th>rosetta_fa_intra_rep_xover4_wt</th>\n",
       "      <th>rosetta_fa_intra_atr_xover4_wt</th>\n",
       "      <th>rosetta_fa_sol_wt</th>\n",
       "      <th>rosetta_fa_rep_wt</th>\n",
       "      <th>rosetta_fa_atr_wt</th>\n",
       "      <th>rosetta_dg_wt</th>\n",
       "      <th>rosetta_cart_bonded_change</th>\n",
       "      <th>rosetta_rama_prepro_change</th>\n",
       "      <th>rosetta_ref_change</th>\n",
       "      <th>rosetta_hxl_tors_change</th>\n",
       "      <th>rosetta_p_aa_pp_change</th>\n",
       "      <th>rosetta_fa_dun_semi_change</th>\n",
       "      <th>rosetta_fa_dun_rot_change</th>\n",
       "      <th>rosetta_fa_dun_dev_change</th>\n",
       "      <th>rosetta_omega_change</th>\n",
       "      <th>rosetta_dslf_fa13_change</th>\n",
       "      <th>rosetta_hbond_sc_change</th>\n",
       "      <th>rosetta_hbond_bb_sc_change</th>\n",
       "      <th>rosetta_hbond_lr_bb_change</th>\n",
       "      <th>rosetta_hbond_sr_bb_change</th>\n",
       "      <th>rosetta_fa_intra_elec_change</th>\n",
       "      <th>rosetta_fa_elec_change</th>\n",
       "      <th>rosetta_lk_ball_bridge_uncpl_change</th>\n",
       "      <th>rosetta_lk_ball_bridge_change</th>\n",
       "      <th>rosetta_lk_ball_iso_change</th>\n",
       "      <th>rosetta_lk_ball_change</th>\n",
       "      <th>rosetta_fa_intra_sol_xover4_change</th>\n",
       "      <th>rosetta_fa_intra_rep_xover4_change</th>\n",
       "      <th>rosetta_fa_intra_atr_xover4_change</th>\n",
       "      <th>rosetta_fa_sol_change</th>\n",
       "      <th>rosetta_fa_rep_change</th>\n",
       "      <th>rosetta_fa_atr_change</th>\n",
       "      <th>rosetta_dg_change</th>\n",
       "      <th>alphafold_core_scores_residue_plddt_wt</th>\n",
       "      <th>alphafold_core_scores_protein_plddt_wt</th>\n",
       "      <th>alphafold_core_scores_protein_max_predicted_aligned_error_wt</th>\n",
       "      <th>alphafold_core_scores_proten_ptm_wt</th>\n",
       "      <th>alphafold_core_features_residue_experimentally_resolved_wt</th>\n",
       "      <th>alphafold_core_features_residue_predicted_lddt_wt</th>\n",
       "      <th>alphafold_core_features_residue_msa_first_row_wt</th>\n",
       "      <th>alphafold_core_features_residue_single_wt</th>\n",
       "      <th>alphafold_core_features_residue_structure_module_wt</th>\n",
       "      <th>alphafold_core_features_protein_experimentally_resolved_wt</th>\n",
       "      <th>alphafold_core_features_protein_predicted_lddt_wt</th>\n",
       "      <th>alphafold_core_features_protein_msa_first_row_wt</th>\n",
       "      <th>alphafold_core_features_protein_single_wt</th>\n",
       "      <th>alphafold_core_features_protein_structure_module_wt</th>\n",
       "      <th>alphafold_core_scores_residue_plddt_mut</th>\n",
       "      <th>alphafold_core_scores_protein_plddt_mut</th>\n",
       "      <th>alphafold_core_scores_protein_max_predicted_aligned_error_mut</th>\n",
       "      <th>alphafold_core_scores_proten_ptm_mut</th>\n",
       "      <th>alphafold_core_features_residue_experimentally_resolved_mut</th>\n",
       "      <th>alphafold_core_features_residue_predicted_lddt_mut</th>\n",
       "      <th>alphafold_core_features_residue_msa_first_row_mut</th>\n",
       "      <th>alphafold_core_features_residue_single_mut</th>\n",
       "      <th>alphafold_core_features_residue_structure_module_mut</th>\n",
       "      <th>alphafold_core_features_protein_experimentally_resolved_mut</th>\n",
       "      <th>alphafold_core_features_protein_predicted_lddt_mut</th>\n",
       "      <th>alphafold_core_features_protein_msa_first_row_mut</th>\n",
       "      <th>alphafold_core_features_protein_single_mut</th>\n",
       "      <th>alphafold_core_features_protein_structure_module_mut</th>\n",
       "    </tr>\n",
       "  </thead>\n",
       "  <tbody>\n",
       "    <tr>\n",
       "      <th>0</th>\n",
       "      <td>P26678</td>\n",
       "      <td>R9C</td>\n",
       "      <td>NM_002667.3:c.25C&gt;T</td>\n",
       "      <td>Pathogenic</td>\n",
       "      <td>0.091593</td>\n",
       "      <td>0.003965</td>\n",
       "      <td>[0.48249053955078125, 0.24484702944755554, -0....</td>\n",
       "      <td>[-2.27313494682312, 0.6932704448699951, -0.195...</td>\n",
       "      <td>[-1.904166340827942, 1.0505309104919434, 0.088...</td>\n",
       "      <td>[-2.3197972774505615, 0.8016344308853149, -0.1...</td>\n",
       "      <td>0.068529</td>\n",
       "      <td>0.007849</td>\n",
       "      <td>[0.15305250883102417, -0.11011786758899689, 0....</td>\n",
       "      <td>[0.05504663661122322, -0.04564127326011658, 0....</td>\n",
       "      <td>[0.09072457253932953, -0.12460881471633911, 0....</td>\n",
       "      <td>[0.02796473540365696, -0.055114783346652985, 0...</td>\n",
       "      <td>87.0</td>\n",
       "      <td>0.0</td>\n",
       "      <td>100.0</td>\n",
       "      <td>-0.310155</td>\n",
       "      <td>-4.787492</td>\n",
       "      <td>-88.633441</td>\n",
       "      <td>101.0</td>\n",
       "      <td>-0.536553</td>\n",
       "      <td>0.326639</td>\n",
       "      <td>2.625994</td>\n",
       "      <td>34.796667</td>\n",
       "      <td>18.080333</td>\n",
       "      <td>13.08</td>\n",
       "      <td>5.875333</td>\n",
       "      <td>-4.878333</td>\n",
       "      <td>33.826333</td>\n",
       "      <td>30.420</td>\n",
       "      <td>37.201667</td>\n",
       "      <td>16.900333</td>\n",
       "      <td>0.0</td>\n",
       "      <td>0.0</td>\n",
       "      <td>-0.495</td>\n",
       "      <td>0.0</td>\n",
       "      <td>-46.239</td>\n",
       "      <td>-5.748</td>\n",
       "      <td>-96.294333</td>\n",
       "      <td>-1.515667</td>\n",
       "      <td>-0.220333</td>\n",
       "      <td>-145.437333</td>\n",
       "      <td>123.757667</td>\n",
       "      <td>12.501667</td>\n",
       "      <td>9.146667</td>\n",
       "      <td>-22.659333</td>\n",
       "      <td>279.312667</td>\n",
       "      <td>18.309</td>\n",
       "      <td>-311.028667</td>\n",
       "      <td>-1.308</td>\n",
       "      <td>-0.577667</td>\n",
       "      <td>0.614667</td>\n",
       "      <td>4.553</td>\n",
       "      <td>0.021333</td>\n",
       "      <td>0.376000</td>\n",
       "      <td>0.173000</td>\n",
       "      <td>-1.592000</td>\n",
       "      <td>-0.074667</td>\n",
       "      <td>-0.012667</td>\n",
       "      <td>0.0</td>\n",
       "      <td>0.000</td>\n",
       "      <td>0.495000</td>\n",
       "      <td>0.0</td>\n",
       "      <td>-0.011</td>\n",
       "      <td>-0.510333</td>\n",
       "      <td>0.204667</td>\n",
       "      <td>0.508667</td>\n",
       "      <td>0.040</td>\n",
       "      <td>1.679</td>\n",
       "      <td>-0.050333</td>\n",
       "      <td>-0.104333</td>\n",
       "      <td>-0.147</td>\n",
       "      <td>0.325000</td>\n",
       "      <td>-4.542667</td>\n",
       "      <td>0.084667</td>\n",
       "      <td>2.215667</td>\n",
       "      <td>3.669</td>\n",
       "      <td>60.585841</td>\n",
       "      <td>76.416854</td>\n",
       "      <td>31.75</td>\n",
       "      <td>0.427586</td>\n",
       "      <td>[1.1943495, 1.2143694, 1.4703865, 1.009636, 1....</td>\n",
       "      <td>[-6.1107526, -7.1425943, -6.2013907, -5.484081...</td>\n",
       "      <td>[-1.8559321, 4.2250576, -12.1879635, 5.93118, ...</td>\n",
       "      <td>[19.911064, -7.9082317, 24.44313, -24.324299, ...</td>\n",
       "      <td>[0.0069303215, 0.010208584, -0.0057431404, 0.0...</td>\n",
       "      <td>[0.47212097, 0.49641332, 0.6147766, 0.47432983...</td>\n",
       "      <td>[-6.029762, -7.716437, -6.686019, -5.9195952, ...</td>\n",
       "      <td>[1.6403109, 2.4395254, -3.7391555, 2.6988323, ...</td>\n",
       "      <td>[8.636584, 8.638843, 21.079756, -9.497276, -2....</td>\n",
       "      <td>[0.0024530103, 0.010949803, -0.00598975, 0.002...</td>\n",
       "      <td>60.582598</td>\n",
       "      <td>76.403723</td>\n",
       "      <td>31.75</td>\n",
       "      <td>0.427867</td>\n",
       "      <td>[1.0641325, 1.082403, 1.2580698, 0.9167514, 1....</td>\n",
       "      <td>[-6.103961, -7.1548443, -6.2082458, -5.489683,...</td>\n",
       "      <td>[-1.6113122, 3.3064485, -10.750493, 4.08933, -...</td>\n",
       "      <td>[12.559908, -16.30187, 21.260107, -27.38837, 8...</td>\n",
       "      <td>[0.006838836, 0.010236204, -0.005743468, 0.001...</td>\n",
       "      <td>[0.4698432, 0.4942151, 0.61180365, 0.47257632,...</td>\n",
       "      <td>[-6.025748, -7.713504, -6.682801, -5.9158244, ...</td>\n",
       "      <td>[1.659786, 2.444791, -3.6953018, 2.7094986, -4...</td>\n",
       "      <td>[8.545251, 8.564394, 21.180698, -9.621022, -2....</td>\n",
       "      <td>[0.0024241176, 0.010975119, -0.005989004, 0.00...</td>\n",
       "    </tr>\n",
       "    <tr>\n",
       "      <th>1</th>\n",
       "      <td>P26678</td>\n",
       "      <td>T8P</td>\n",
       "      <td>NM_002667.3:c.22A&gt;C</td>\n",
       "      <td>Uncertain significance</td>\n",
       "      <td>0.041601</td>\n",
       "      <td>0.000594</td>\n",
       "      <td>[2.043767213821411, 0.9361261129379272, -0.415...</td>\n",
       "      <td>[-2.27313494682312, 0.6932705044746399, -0.195...</td>\n",
       "      <td>[0.12865065038204193, 0.6873304843902588, 2.20...</td>\n",
       "      <td>[-2.2835092544555664, 0.6785972118377686, -0.1...</td>\n",
       "      <td>0.062104</td>\n",
       "      <td>0.027220</td>\n",
       "      <td>[0.056363195180892944, -0.020384633913636208, ...</td>\n",
       "      <td>[0.05504663661122322, -0.04564127326011658, 0....</td>\n",
       "      <td>[0.03299185633659363, -0.007563109043985605, 0...</td>\n",
       "      <td>[0.04508848860859871, -0.052698392421007156, 0...</td>\n",
       "      <td>95.0</td>\n",
       "      <td>0.0</td>\n",
       "      <td>100.0</td>\n",
       "      <td>-0.223144</td>\n",
       "      <td>-4.787492</td>\n",
       "      <td>-89.393727</td>\n",
       "      <td>101.0</td>\n",
       "      <td>-0.536553</td>\n",
       "      <td>0.074447</td>\n",
       "      <td>2.917469</td>\n",
       "      <td>35.531000</td>\n",
       "      <td>17.849000</td>\n",
       "      <td>13.08</td>\n",
       "      <td>9.764000</td>\n",
       "      <td>-5.052000</td>\n",
       "      <td>33.549000</td>\n",
       "      <td>30.357</td>\n",
       "      <td>43.524000</td>\n",
       "      <td>16.889000</td>\n",
       "      <td>0.0</td>\n",
       "      <td>0.0</td>\n",
       "      <td>-0.743</td>\n",
       "      <td>0.0</td>\n",
       "      <td>-45.885</td>\n",
       "      <td>-4.684</td>\n",
       "      <td>-97.176000</td>\n",
       "      <td>-1.163000</td>\n",
       "      <td>-0.196000</td>\n",
       "      <td>-144.679000</td>\n",
       "      <td>123.189000</td>\n",
       "      <td>12.223000</td>\n",
       "      <td>9.169000</td>\n",
       "      <td>-22.419000</td>\n",
       "      <td>278.164000</td>\n",
       "      <td>18.065</td>\n",
       "      <td>-310.411000</td>\n",
       "      <td>8.945</td>\n",
       "      <td>12.124333</td>\n",
       "      <td>2.623000</td>\n",
       "      <td>-3.697</td>\n",
       "      <td>-2.731667</td>\n",
       "      <td>0.545667</td>\n",
       "      <td>1.057667</td>\n",
       "      <td>0.810667</td>\n",
       "      <td>0.199333</td>\n",
       "      <td>1.852333</td>\n",
       "      <td>0.0</td>\n",
       "      <td>-1.577</td>\n",
       "      <td>0.007667</td>\n",
       "      <td>0.0</td>\n",
       "      <td>1.358</td>\n",
       "      <td>0.671000</td>\n",
       "      <td>1.583667</td>\n",
       "      <td>0.171667</td>\n",
       "      <td>0.014</td>\n",
       "      <td>0.872</td>\n",
       "      <td>0.017000</td>\n",
       "      <td>-0.134000</td>\n",
       "      <td>-0.100</td>\n",
       "      <td>0.435333</td>\n",
       "      <td>-1.319333</td>\n",
       "      <td>6.835000</td>\n",
       "      <td>-1.977333</td>\n",
       "      <td>19.644</td>\n",
       "      <td>60.939363</td>\n",
       "      <td>76.416854</td>\n",
       "      <td>31.75</td>\n",
       "      <td>0.427586</td>\n",
       "      <td>[-0.9143661, -0.9311734, -1.0163504, -1.110276...</td>\n",
       "      <td>[-5.8135767, -7.5865355, -6.377211, -5.5560055...</td>\n",
       "      <td>[5.013483, 6.58278, -4.2263947, 2.135174, -4.0...</td>\n",
       "      <td>[3.3193378, 13.778628, 40.745605, -40.561554, ...</td>\n",
       "      <td>[0.005573705, 0.0062753484, -0.005795421, 0.00...</td>\n",
       "      <td>[0.47212097, 0.49641332, 0.6147766, 0.47432983...</td>\n",
       "      <td>[-6.029762, -7.716437, -6.686019, -5.9195952, ...</td>\n",
       "      <td>[1.6403109, 2.4395254, -3.7391555, 2.6988323, ...</td>\n",
       "      <td>[8.636584, 8.638843, 21.079756, -9.497276, -2....</td>\n",
       "      <td>[0.0024530103, 0.010949803, -0.00598975, 0.002...</td>\n",
       "      <td>60.878050</td>\n",
       "      <td>76.477451</td>\n",
       "      <td>31.75</td>\n",
       "      <td>0.428083</td>\n",
       "      <td>[-0.82701945, -0.8436323, -0.9510052, -1.03694...</td>\n",
       "      <td>[-5.8004627, -7.553446, -6.3580575, -5.5442915...</td>\n",
       "      <td>[5.503637, 5.029438, -2.695966, 2.3204188, -4....</td>\n",
       "      <td>[1.4206113, 14.201282, 40.124996, -40.59988, -...</td>\n",
       "      <td>[0.005509153, 0.006440036, -0.005802607, 0.002...</td>\n",
       "      <td>[0.47837487, 0.5026877, 0.6215101, 0.4798556, ...</td>\n",
       "      <td>[-6.0175996, -7.697442, -6.6742005, -5.9090075...</td>\n",
       "      <td>[1.6779923, 2.4558294, -3.6973171, 2.6875021, ...</td>\n",
       "      <td>[8.556296, 8.658266, 21.207325, -9.4746275, -2...</td>\n",
       "      <td>[0.002478923, 0.010917299, -0.0059956484, 0.00...</td>\n",
       "    </tr>\n",
       "  </tbody>\n",
       "</table>\n",
       "</div>"
      ],
      "text/plain": [
       "  protein_id mutation          mutation_id                  effect  \\\n",
       "0     P26678      R9C  NM_002667.3:c.25C>T              Pathogenic   \n",
       "1     P26678      T8P  NM_002667.3:c.22A>C  Uncertain significance   \n",
       "\n",
       "   proteinsolver_core_score_wt  proteinsolver_core_score_mut  \\\n",
       "0                     0.091593                      0.003965   \n",
       "1                     0.041601                      0.000594   \n",
       "\n",
       "              proteinsolver_core_features_residue_wt  \\\n",
       "0  [0.48249053955078125, 0.24484702944755554, -0....   \n",
       "1  [2.043767213821411, 0.9361261129379272, -0.415...   \n",
       "\n",
       "              proteinsolver_core_features_protein_wt  \\\n",
       "0  [-2.27313494682312, 0.6932704448699951, -0.195...   \n",
       "1  [-2.27313494682312, 0.6932705044746399, -0.195...   \n",
       "\n",
       "             proteinsolver_core_features_residue_mut  \\\n",
       "0  [-1.904166340827942, 1.0505309104919434, 0.088...   \n",
       "1  [0.12865065038204193, 0.6873304843902588, 2.20...   \n",
       "\n",
       "             proteinsolver_core_features_protein_mut  protbert_core_score_wt  \\\n",
       "0  [-2.3197972774505615, 0.8016344308853149, -0.1...                0.068529   \n",
       "1  [-2.2835092544555664, 0.6785972118377686, -0.1...                0.062104   \n",
       "\n",
       "   protbert_core_score_mut                  protbert_core_features_residue_wt  \\\n",
       "0                 0.007849  [0.15305250883102417, -0.11011786758899689, 0....   \n",
       "1                 0.027220  [0.056363195180892944, -0.020384633913636208, ...   \n",
       "\n",
       "                   protbert_core_features_protein_wt  \\\n",
       "0  [0.05504663661122322, -0.04564127326011658, 0....   \n",
       "1  [0.05504663661122322, -0.04564127326011658, 0....   \n",
       "\n",
       "                  protbert_core_features_residue_mut  \\\n",
       "0  [0.09072457253932953, -0.12460881471633911, 0....   \n",
       "1  [0.03299185633659363, -0.007563109043985605, 0...   \n",
       "\n",
       "                  protbert_core_features_protein_mut  msa_count_wt  \\\n",
       "0  [0.02796473540365696, -0.055114783346652985, 0...          87.0   \n",
       "1  [0.04508848860859871, -0.052698392421007156, 0...          95.0   \n",
       "\n",
       "   msa_count_mut  msa_count_total  msa_proba_wt  msa_proba_mut  \\\n",
       "0            0.0            100.0     -0.310155      -4.787492   \n",
       "1            0.0            100.0     -0.223144      -4.787492   \n",
       "\n",
       "   msa_proba_total  msa_length  msa_proba     msa_H    msa_KL  \\\n",
       "0       -88.633441       101.0  -0.536553  0.326639  2.625994   \n",
       "1       -89.393727       101.0  -0.536553  0.074447  2.917469   \n",
       "\n",
       "   rosetta_cart_bonded_wt  rosetta_rama_prepro_wt  rosetta_ref_wt  \\\n",
       "0               34.796667               18.080333           13.08   \n",
       "1               35.531000               17.849000           13.08   \n",
       "\n",
       "   rosetta_hxl_tors_wt  rosetta_p_aa_pp_wt  rosetta_fa_dun_semi_wt  \\\n",
       "0             5.875333           -4.878333               33.826333   \n",
       "1             9.764000           -5.052000               33.549000   \n",
       "\n",
       "   rosetta_fa_dun_rot_wt  rosetta_fa_dun_dev_wt  rosetta_omega_wt  \\\n",
       "0                 30.420              37.201667         16.900333   \n",
       "1                 30.357              43.524000         16.889000   \n",
       "\n",
       "   rosetta_dslf_fa13_wt  rosetta_hbond_sc_wt  rosetta_hbond_bb_sc_wt  \\\n",
       "0                   0.0                  0.0                  -0.495   \n",
       "1                   0.0                  0.0                  -0.743   \n",
       "\n",
       "   rosetta_hbond_lr_bb_wt  rosetta_hbond_sr_bb_wt  rosetta_fa_intra_elec_wt  \\\n",
       "0                     0.0                 -46.239                    -5.748   \n",
       "1                     0.0                 -45.885                    -4.684   \n",
       "\n",
       "   rosetta_fa_elec_wt  rosetta_lk_ball_bridge_uncpl_wt  \\\n",
       "0          -96.294333                        -1.515667   \n",
       "1          -97.176000                        -1.163000   \n",
       "\n",
       "   rosetta_lk_ball_bridge_wt  rosetta_lk_ball_iso_wt  rosetta_lk_ball_wt  \\\n",
       "0                  -0.220333             -145.437333          123.757667   \n",
       "1                  -0.196000             -144.679000          123.189000   \n",
       "\n",
       "   rosetta_fa_intra_sol_xover4_wt  rosetta_fa_intra_rep_xover4_wt  \\\n",
       "0                       12.501667                        9.146667   \n",
       "1                       12.223000                        9.169000   \n",
       "\n",
       "   rosetta_fa_intra_atr_xover4_wt  rosetta_fa_sol_wt  rosetta_fa_rep_wt  \\\n",
       "0                      -22.659333         279.312667             18.309   \n",
       "1                      -22.419000         278.164000             18.065   \n",
       "\n",
       "   rosetta_fa_atr_wt  rosetta_dg_wt  rosetta_cart_bonded_change  \\\n",
       "0        -311.028667         -1.308                   -0.577667   \n",
       "1        -310.411000          8.945                   12.124333   \n",
       "\n",
       "   rosetta_rama_prepro_change  rosetta_ref_change  rosetta_hxl_tors_change  \\\n",
       "0                    0.614667               4.553                 0.021333   \n",
       "1                    2.623000              -3.697                -2.731667   \n",
       "\n",
       "   rosetta_p_aa_pp_change  rosetta_fa_dun_semi_change  \\\n",
       "0                0.376000                    0.173000   \n",
       "1                0.545667                    1.057667   \n",
       "\n",
       "   rosetta_fa_dun_rot_change  rosetta_fa_dun_dev_change  rosetta_omega_change  \\\n",
       "0                  -1.592000                  -0.074667             -0.012667   \n",
       "1                   0.810667                   0.199333              1.852333   \n",
       "\n",
       "   rosetta_dslf_fa13_change  rosetta_hbond_sc_change  \\\n",
       "0                       0.0                    0.000   \n",
       "1                       0.0                   -1.577   \n",
       "\n",
       "   rosetta_hbond_bb_sc_change  rosetta_hbond_lr_bb_change  \\\n",
       "0                    0.495000                         0.0   \n",
       "1                    0.007667                         0.0   \n",
       "\n",
       "   rosetta_hbond_sr_bb_change  rosetta_fa_intra_elec_change  \\\n",
       "0                      -0.011                     -0.510333   \n",
       "1                       1.358                      0.671000   \n",
       "\n",
       "   rosetta_fa_elec_change  rosetta_lk_ball_bridge_uncpl_change  \\\n",
       "0                0.204667                             0.508667   \n",
       "1                1.583667                             0.171667   \n",
       "\n",
       "   rosetta_lk_ball_bridge_change  rosetta_lk_ball_iso_change  \\\n",
       "0                          0.040                       1.679   \n",
       "1                          0.014                       0.872   \n",
       "\n",
       "   rosetta_lk_ball_change  rosetta_fa_intra_sol_xover4_change  \\\n",
       "0               -0.050333                           -0.104333   \n",
       "1                0.017000                           -0.134000   \n",
       "\n",
       "   rosetta_fa_intra_rep_xover4_change  rosetta_fa_intra_atr_xover4_change  \\\n",
       "0                              -0.147                            0.325000   \n",
       "1                              -0.100                            0.435333   \n",
       "\n",
       "   rosetta_fa_sol_change  rosetta_fa_rep_change  rosetta_fa_atr_change  \\\n",
       "0              -4.542667               0.084667               2.215667   \n",
       "1              -1.319333               6.835000              -1.977333   \n",
       "\n",
       "   rosetta_dg_change  alphafold_core_scores_residue_plddt_wt  \\\n",
       "0              3.669                               60.585841   \n",
       "1             19.644                               60.939363   \n",
       "\n",
       "   alphafold_core_scores_protein_plddt_wt  \\\n",
       "0                               76.416854   \n",
       "1                               76.416854   \n",
       "\n",
       "   alphafold_core_scores_protein_max_predicted_aligned_error_wt  \\\n",
       "0                                              31.75              \n",
       "1                                              31.75              \n",
       "\n",
       "   alphafold_core_scores_proten_ptm_wt  \\\n",
       "0                             0.427586   \n",
       "1                             0.427586   \n",
       "\n",
       "  alphafold_core_features_residue_experimentally_resolved_wt  \\\n",
       "0  [1.1943495, 1.2143694, 1.4703865, 1.009636, 1....           \n",
       "1  [-0.9143661, -0.9311734, -1.0163504, -1.110276...           \n",
       "\n",
       "   alphafold_core_features_residue_predicted_lddt_wt  \\\n",
       "0  [-6.1107526, -7.1425943, -6.2013907, -5.484081...   \n",
       "1  [-5.8135767, -7.5865355, -6.377211, -5.5560055...   \n",
       "\n",
       "    alphafold_core_features_residue_msa_first_row_wt  \\\n",
       "0  [-1.8559321, 4.2250576, -12.1879635, 5.93118, ...   \n",
       "1  [5.013483, 6.58278, -4.2263947, 2.135174, -4.0...   \n",
       "\n",
       "           alphafold_core_features_residue_single_wt  \\\n",
       "0  [19.911064, -7.9082317, 24.44313, -24.324299, ...   \n",
       "1  [3.3193378, 13.778628, 40.745605, -40.561554, ...   \n",
       "\n",
       "  alphafold_core_features_residue_structure_module_wt  \\\n",
       "0  [0.0069303215, 0.010208584, -0.0057431404, 0.0...    \n",
       "1  [0.005573705, 0.0062753484, -0.005795421, 0.00...    \n",
       "\n",
       "  alphafold_core_features_protein_experimentally_resolved_wt  \\\n",
       "0  [0.47212097, 0.49641332, 0.6147766, 0.47432983...           \n",
       "1  [0.47212097, 0.49641332, 0.6147766, 0.47432983...           \n",
       "\n",
       "   alphafold_core_features_protein_predicted_lddt_wt  \\\n",
       "0  [-6.029762, -7.716437, -6.686019, -5.9195952, ...   \n",
       "1  [-6.029762, -7.716437, -6.686019, -5.9195952, ...   \n",
       "\n",
       "    alphafold_core_features_protein_msa_first_row_wt  \\\n",
       "0  [1.6403109, 2.4395254, -3.7391555, 2.6988323, ...   \n",
       "1  [1.6403109, 2.4395254, -3.7391555, 2.6988323, ...   \n",
       "\n",
       "           alphafold_core_features_protein_single_wt  \\\n",
       "0  [8.636584, 8.638843, 21.079756, -9.497276, -2....   \n",
       "1  [8.636584, 8.638843, 21.079756, -9.497276, -2....   \n",
       "\n",
       "  alphafold_core_features_protein_structure_module_wt  \\\n",
       "0  [0.0024530103, 0.010949803, -0.00598975, 0.002...    \n",
       "1  [0.0024530103, 0.010949803, -0.00598975, 0.002...    \n",
       "\n",
       "   alphafold_core_scores_residue_plddt_mut  \\\n",
       "0                                60.582598   \n",
       "1                                60.878050   \n",
       "\n",
       "   alphafold_core_scores_protein_plddt_mut  \\\n",
       "0                                76.403723   \n",
       "1                                76.477451   \n",
       "\n",
       "   alphafold_core_scores_protein_max_predicted_aligned_error_mut  \\\n",
       "0                                              31.75               \n",
       "1                                              31.75               \n",
       "\n",
       "   alphafold_core_scores_proten_ptm_mut  \\\n",
       "0                              0.427867   \n",
       "1                              0.428083   \n",
       "\n",
       "  alphafold_core_features_residue_experimentally_resolved_mut  \\\n",
       "0  [1.0641325, 1.082403, 1.2580698, 0.9167514, 1....            \n",
       "1  [-0.82701945, -0.8436323, -0.9510052, -1.03694...            \n",
       "\n",
       "  alphafold_core_features_residue_predicted_lddt_mut  \\\n",
       "0  [-6.103961, -7.1548443, -6.2082458, -5.489683,...   \n",
       "1  [-5.8004627, -7.553446, -6.3580575, -5.5442915...   \n",
       "\n",
       "   alphafold_core_features_residue_msa_first_row_mut  \\\n",
       "0  [-1.6113122, 3.3064485, -10.750493, 4.08933, -...   \n",
       "1  [5.503637, 5.029438, -2.695966, 2.3204188, -4....   \n",
       "\n",
       "          alphafold_core_features_residue_single_mut  \\\n",
       "0  [12.559908, -16.30187, 21.260107, -27.38837, 8...   \n",
       "1  [1.4206113, 14.201282, 40.124996, -40.59988, -...   \n",
       "\n",
       "  alphafold_core_features_residue_structure_module_mut  \\\n",
       "0  [0.006838836, 0.010236204, -0.005743468, 0.001...     \n",
       "1  [0.005509153, 0.006440036, -0.005802607, 0.002...     \n",
       "\n",
       "  alphafold_core_features_protein_experimentally_resolved_mut  \\\n",
       "0  [0.4698432, 0.4942151, 0.61180365, 0.47257632,...            \n",
       "1  [0.47837487, 0.5026877, 0.6215101, 0.4798556, ...            \n",
       "\n",
       "  alphafold_core_features_protein_predicted_lddt_mut  \\\n",
       "0  [-6.025748, -7.713504, -6.682801, -5.9158244, ...   \n",
       "1  [-6.0175996, -7.697442, -6.6742005, -5.9090075...   \n",
       "\n",
       "   alphafold_core_features_protein_msa_first_row_mut  \\\n",
       "0  [1.659786, 2.444791, -3.6953018, 2.7094986, -4...   \n",
       "1  [1.6779923, 2.4558294, -3.6973171, 2.6875021, ...   \n",
       "\n",
       "          alphafold_core_features_protein_single_mut  \\\n",
       "0  [8.545251, 8.564394, 21.180698, -9.621022, -2....   \n",
       "1  [8.556296, 8.658266, 21.207325, -9.4746275, -2...   \n",
       "\n",
       "  alphafold_core_features_protein_structure_module_mut  \n",
       "0  [0.0024241176, 0.010975119, -0.005989004, 0.00...    \n",
       "1  [0.002478923, 0.010917299, -0.0059956484, 0.00...    "
      ]
     },
     "metadata": {},
     "output_type": "display_data"
    },
    {
     "name": "stdout",
     "output_type": "stream",
     "text": [
      "221816\n"
     ]
    }
   ],
   "source": [
    "display(result_df.head(2))\n",
    "print(len(result_df))"
   ]
  },
  {
   "cell_type": "markdown",
   "id": "cddb7066-98b9-43a5-a0a1-892e634114bd",
   "metadata": {},
   "source": [
    "## Calculate EL2 score"
   ]
  },
  {
   "cell_type": "code",
   "execution_count": 39,
   "id": "cd369701-3d1f-4b28-9f15-4b27cd07f1a0",
   "metadata": {},
   "outputs": [
    {
     "name": "stderr",
     "output_type": "stream",
     "text": [
      "/opt/conda/lib/python3.9/site-packages/sklearn/base.py:310: UserWarning: Trying to unpickle estimator PCA from version 0.23.2 when using version 0.24.2. This might lead to breaking code or invalid results. Use at your own risk.\n",
      "  warnings.warn(\n",
      "Some weights of the model checkpoint at /gpfs/fs0/scratch/p/pmkim/strokach/workspace/elaspic2/src/elaspic2/plugins/protbert/data/prot_bert_bfd were not used when initializing BertModel: ['cls.predictions.transform.LayerNorm.weight', 'cls.seq_relationship.bias', 'cls.predictions.decoder.weight', 'cls.predictions.transform.dense.weight', 'cls.predictions.decoder.bias', 'cls.predictions.bias', 'cls.seq_relationship.weight', 'cls.predictions.transform.LayerNorm.bias', 'cls.predictions.transform.dense.bias']\n",
      "- This IS expected if you are initializing BertModel from the checkpoint of a model trained on another task or with another architecture (e.g. initializing a BertForSequenceClassification model from a BertForPreTraining model).\n",
      "- This IS NOT expected if you are initializing BertModel from the checkpoint of a model that you expect to be exactly identical (initializing a BertForSequenceClassification model from a BertForSequenceClassification model).\n"
     ]
    }
   ],
   "source": [
    "model = el2.ELASPIC2()"
   ]
  },
  {
   "cell_type": "code",
   "execution_count": 40,
   "id": "d90324e8-5fbe-43ca-8d78-275ff3b7dee3",
   "metadata": {},
   "outputs": [],
   "source": [
    "proteinsolver_columnms = [c for c in result_df if c.startswith(\"proteinsolver_core_score\")]\n",
    "protbert_columns = [c for c in result_df if c.startswith(\"protbert_core_\")]\n",
    "\n",
    "el2_missing = result_df[proteinsolver_columnms + protbert_columns].isnull().any(axis=1)\n",
    "result_df[\"el2_score\"] = np.nan\n",
    "result_df.loc[~el2_missing, \"el2_score\"] = model.predict_mutation_effect(\n",
    "    [\n",
    "        t._asdict()\n",
    "        for t in result_df.loc[~el2_missing, proteinsolver_columnms + protbert_columns].itertuples(\n",
    "            index=False\n",
    "        )\n",
    "    ]\n",
    ")"
   ]
  },
  {
   "cell_type": "markdown",
   "id": "f316f627-d657-430a-a432-ddd93fb2bc11",
   "metadata": {},
   "source": [
    "## Calculate deltas"
   ]
  },
  {
   "cell_type": "code",
   "execution_count": 41,
   "id": "5c95c4d7-caf7-476e-81ed-f15b8a9f54a8",
   "metadata": {},
   "outputs": [],
   "source": [
    "for column in list(result_df):\n",
    "    if not column.endswith(\"_mut\"):\n",
    "        continue\n",
    "\n",
    "    column_wt = column.removesuffix(\"_mut\") + \"_wt\"\n",
    "    if column_wt not in result_df:\n",
    "        print(column_wt)\n",
    "        continue\n",
    "\n",
    "    column_change = column.removesuffix(\"_mut\") + \"_change\"\n",
    "    result_df[column_change] = result_df[column_wt] - result_df[column]\n",
    "    del result_df[column]"
   ]
  },
  {
   "cell_type": "markdown",
   "id": "f88c45b8-5e0c-42fe-a95d-64d6e5095770",
   "metadata": {},
   "source": [
    "## Encode mutation"
   ]
  },
  {
   "cell_type": "code",
   "execution_count": 42,
   "id": "0e6101e8-39bb-4ed0-93af-597a2c2c3943",
   "metadata": {
    "tags": []
   },
   "outputs": [],
   "source": [
    "amino_acids = list(\"ARNDCEQGHILKMFPSTWYV\")\n",
    "\n",
    "# TODO: AGGGH, this is stupid and dangerous! Refactor!!!\n",
    "result_df[\"aa_wt_onehot\"] = pd.get_dummies(result_df[\"mutation\"].str[0]).apply(list, axis=1)\n",
    "result_df[\"aa_mut_onehot\"] = pd.get_dummies(result_df[\"mutation\"].str[-1]).apply(list, axis=1)"
   ]
  },
  {
   "cell_type": "markdown",
   "id": "c29a7d21-5741-4760-b479-fee62b605739",
   "metadata": {},
   "source": [
    "## Save results"
   ]
  },
  {
   "cell_type": "code",
   "execution_count": 43,
   "id": "7d60ef97-b7b4-4552-a430-47323cc0c5bf",
   "metadata": {},
   "outputs": [
    {
     "data": {
      "text/plain": [
       "PosixPath('/gpfs/fs0/scratch/p/pmkim/strokach/workspace/elaspic2-cagi6/notebooks/37_cagi6_sherloc_combine_results/combined-results.parquet')"
      ]
     },
     "execution_count": 43,
     "metadata": {},
     "output_type": "execute_result"
    }
   ],
   "source": [
    "output_file = NOTEBOOK_DIR.joinpath(\"combined-results.parquet\")\n",
    "\n",
    "output_file"
   ]
  },
  {
   "cell_type": "code",
   "execution_count": 44,
   "id": "1ec482cf-d23b-4678-ab92-cdd5093c2c06",
   "metadata": {},
   "outputs": [],
   "source": [
    "pq.write_table(\n",
    "    pa.Table.from_pandas(result_df, preserve_index=False),\n",
    "    output_file,\n",
    "    row_group_size=10_000,\n",
    ")"
   ]
  },
  {
   "cell_type": "markdown",
   "id": "ae87c286-d491-42d4-941d-606cde544d48",
   "metadata": {},
   "source": [
    "## Exploratory data analysis"
   ]
  },
  {
   "cell_type": "code",
   "execution_count": 45,
   "id": "e1374e04-eae5-47bb-b1b0-9aafc45782a0",
   "metadata": {},
   "outputs": [],
   "source": [
    "proteinsolver_columnms = [c for c in result_df if c.startswith(\"proteinsolver_\")]\n",
    "protbert_columns = [c for c in result_df if c.startswith(\"protbert_\")]\n",
    "rosetta_columns = [c for c in result_df if c.startswith(\"rosetta_\")]\n",
    "alphafold_columns = [c for c in result_df if c.startswith(\"alphafold_\")]"
   ]
  },
  {
   "cell_type": "code",
   "execution_count": 46,
   "id": "1448fdf8-4949-4e91-b6c2-0db0711b8ea4",
   "metadata": {},
   "outputs": [
    {
     "data": {
      "text/plain": [
       "Uncertain significance    147067\n",
       "Likely benign              11398\n",
       "Benign                      9730\n",
       "Pathogenic                  5834\n",
       "Likely pathogenic           2506\n",
       "Name: effect, dtype: int64"
      ]
     },
     "execution_count": 46,
     "metadata": {},
     "output_type": "execute_result"
    }
   ],
   "source": [
    "result_df[\"effect\"].value_counts()"
   ]
  },
  {
   "cell_type": "code",
   "execution_count": 47,
   "id": "4ea8e99e-ccd9-4c28-8613-c3bde79aefbe",
   "metadata": {},
   "outputs": [],
   "source": [
    "effect_map = {\n",
    "    \"Uncertain significance\": 0,\n",
    "    \"Likely benign\": -1,\n",
    "    \"Benign\": -2,\n",
    "    \"Likely pathogenic\": 1,\n",
    "    \"Pathogenic\": 2,\n",
    "}\n",
    "\n",
    "result_df[\"effect_score\"] = result_df[\"effect\"].map(effect_map)"
   ]
  },
  {
   "cell_type": "code",
   "execution_count": 50,
   "id": "eb146d6b-4dac-451b-8ed2-951a07d51a9c",
   "metadata": {},
   "outputs": [
    {
     "name": "stdout",
     "output_type": "stream",
     "text": [
      "el2_score 0.5009009313320716 0.8733030112155488\n",
      "proteinsolver_core_score_change 0.29156189775258534 0.712874183165052\n",
      "protbert_core_score_change 0.42966405016149745 0.8192752936611206\n",
      "msa_KL 0.35563523056628843 0.7697417905539332\n",
      "rosetta_dg_change 0.24768921716995493 0.6824360622464656\n",
      "alphafold_core_scores_residue_plddt_wt 0.3201612581463264 0.7395894013695242\n"
     ]
    }
   ],
   "source": [
    "score_columns = [\n",
    "    \"el2_score\",\n",
    "    \"proteinsolver_core_score_change\",\n",
    "    \"protbert_core_score_change\",\n",
    "    \"msa_KL\",\n",
    "    \"rosetta_dg_change\",\n",
    "        \"alphafold_core_scores_residue_plddt_wt\",\n",
    "#         \"alphafold_core_scores_protein_plddt_wt\",\n",
    "#         \"alphafold_core_scores_protein_max_predicted_aligned_error_wt\",\n",
    "#         \"alphafold_core_scores_proten_ptm_wt\",\n",
    "]\n",
    "\n",
    "df = result_df.dropna(subset=score_columns + [\"effect_score\"])\n",
    "df = df[df[\"effect_score\"] != 0].reset_index(drop=True)\n",
    "\n",
    "for col in score_columns:\n",
    "    corr = stats.spearmanr(df[\"effect_score\"], df[col])\n",
    "    auc = metrics.roc_auc_score(df[\"effect_score\"] > 0, df[col])\n",
    "    print(col, corr[0], auc)"
   ]
  },
  {
   "cell_type": "code",
   "execution_count": 51,
   "id": "3ea22035-6b3e-41f7-be20-c4ddaad83094",
   "metadata": {},
   "outputs": [
    {
     "name": "stdout",
     "output_type": "stream",
     "text": [
      "el2_score 23\n",
      "proteinsolver_core_score_change 0\n",
      "protbert_core_score_change 23\n",
      "msa_KL 569\n",
      "rosetta_dg_change 714\n",
      "alphafold_core_scores_residue_plddt_wt 95\n",
      "alphafold_core_scores_residue_plddt_change 93824\n"
     ]
    }
   ],
   "source": [
    "score_columns = [\n",
    "    \"el2_score\",\n",
    "    \"proteinsolver_core_score_change\",\n",
    "    \"protbert_core_score_change\",\n",
    "    \"msa_KL\",\n",
    "    \"rosetta_dg_change\",\n",
    "    \"alphafold_core_scores_residue_plddt_wt\",\n",
    "    \"alphafold_core_scores_residue_plddt_change\",\n",
    "#         \"alphafold_core_scores_protein_plddt_wt\",\n",
    "#         \"alphafold_core_scores_protein_max_predicted_aligned_error_wt\",\n",
    "#         \"alphafold_core_scores_proten_ptm_wt\",\n",
    "]\n",
    "\n",
    "for column in score_columns:\n",
    "    print(f\"{column} {result_df[column].isnull().sum()}\")"
   ]
  },
  {
   "cell_type": "code",
   "execution_count": null,
   "id": "de8f5ba3-9546-41c7-8b41-83e4f79c21d5",
   "metadata": {},
   "outputs": [],
   "source": []
  }
 ],
 "metadata": {
  "kernelspec": {
   "display_name": "Python 3 (ipykernel)",
   "language": "python",
   "name": "python3"
  },
  "language_info": {
   "codemirror_mode": {
    "name": "ipython",
    "version": 3
   },
   "file_extension": ".py",
   "mimetype": "text/x-python",
   "name": "python",
   "nbconvert_exporter": "python",
   "pygments_lexer": "ipython3",
   "version": "3.9.6"
  }
 },
 "nbformat": 4,
 "nbformat_minor": 5
}
