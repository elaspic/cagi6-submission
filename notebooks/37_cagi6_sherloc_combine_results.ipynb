{
 "cells": [
  {
   "cell_type": "markdown",
   "id": "26c81e96-6b41-41fa-80a6-6360c482eb58",
   "metadata": {},
   "source": [
    "## Summary\n",
    "\n",
    "---"
   ]
  },
  {
   "cell_type": "markdown",
   "id": "ec276dec-6afa-4b57-bbfc-a11e04a8767e",
   "metadata": {},
   "source": [
    "## Imports"
   ]
  },
  {
   "cell_type": "code",
   "execution_count": 38,
   "id": "539f4edf-ca04-4bef-b5c9-a6d402f7570b",
   "metadata": {},
   "outputs": [],
   "source": [
    "import functools\n",
    "from pathlib import Path\n",
    "\n",
    "import elaspic2 as el2\n",
    "import matplotlib.pyplot as plt\n",
    "import numpy as np\n",
    "import pandas as pd\n",
    "import pyarrow as pa\n",
    "import pyarrow.parquet as pq\n",
    "from elaspic2.plugins.msa_analysis import analyze_msa\n",
    "from scipy import stats\n",
    "from sklearn import metrics, model_selection\n",
    "from tqdm.auto import tqdm"
   ]
  },
  {
   "cell_type": "code",
   "execution_count": 2,
   "id": "d08b0792-00b7-44be-9257-a554f95bd602",
   "metadata": {},
   "outputs": [],
   "source": [
    "pd.set_option(\"max_columns\", 1000)\n",
    "pd.set_option(\"max_rows\", 1000)"
   ]
  },
  {
   "cell_type": "markdown",
   "id": "5be0ca05-c038-414f-ba84-b2ae8013088b",
   "metadata": {},
   "source": [
    "## Parameters"
   ]
  },
  {
   "cell_type": "code",
   "execution_count": 3,
   "id": "10e1faee-9f6a-40d8-8819-272b1c9837bb",
   "metadata": {},
   "outputs": [
    {
     "data": {
      "text/plain": [
       "PosixPath('/gpfs/fs0/scratch/p/pmkim/strokach/workspace/elaspic2-cagi6/notebooks/37_cagi6_sherloc_combine_results')"
      ]
     },
     "execution_count": 3,
     "metadata": {},
     "output_type": "execute_result"
    }
   ],
   "source": [
    "NOTEBOOK_DIR = Path(\"37_cagi6_sherloc_combine_results\").resolve()\n",
    "NOTEBOOK_DIR.mkdir(exist_ok=True)\n",
    "\n",
    "NOTEBOOK_DIR"
   ]
  },
  {
   "cell_type": "markdown",
   "id": "fd00941b-a3df-48d4-864c-bef984a8cd3b",
   "metadata": {},
   "source": [
    "## Load results"
   ]
  },
  {
   "cell_type": "code",
   "execution_count": 4,
   "id": "0754bcaa-1b8d-49cd-9e98-a3d7c9b345b1",
   "metadata": {},
   "outputs": [
    {
     "data": {
      "text/plain": [
       "('cagi6-sherloc',\n",
       " '/gpfs/fs0/scratch/p/pmkim/strokach/workspace/elaspic2-cagi6/notebooks/30_cagi6_sherloc/input-data-gby-protein.parquet',\n",
       " 4182)"
      ]
     },
     "execution_count": 4,
     "metadata": {},
     "output_type": "execute_result"
    }
   ],
   "source": [
    "DATASET_NAME = \"cagi6-sherloc\"\n",
    "DATASET_PATH = str(\n",
    "    NOTEBOOK_DIR.parent.joinpath(\"30_cagi6_sherloc\", \"input-data-gby-protein.parquet\")\n",
    ")\n",
    "TASK_COUNT = 4182\n",
    "\n",
    "DATASET_NAME, DATASET_PATH, TASK_COUNT"
   ]
  },
  {
   "cell_type": "code",
   "execution_count": 5,
   "id": "00093ed2-1b5b-4208-be94-9639b71a0346",
   "metadata": {},
   "outputs": [],
   "source": [
    "pfile = pq.ParquetFile(DATASET_PATH)\n",
    "\n",
    "assert TASK_COUNT == pfile.num_row_groups"
   ]
  },
  {
   "cell_type": "code",
   "execution_count": 6,
   "id": "077a8bf5-63c6-4bb3-bc9d-d20d2608804c",
   "metadata": {},
   "outputs": [
    {
     "data": {
      "application/vnd.jupyter.widget-view+json": {
       "model_id": "614bda1aef2342bab7742abb97e54b25",
       "version_major": 2,
       "version_minor": 0
      },
      "text/plain": [
       "HBox(children=(HTML(value=''), FloatProgress(value=0.0, max=4182.0), HTML(value='')))"
      ]
     },
     "metadata": {},
     "output_type": "display_data"
    },
    {
     "name": "stdout",
     "output_type": "stream",
     "text": [
      "\n"
     ]
    },
    {
     "data": {
      "text/plain": [
       "221820"
      ]
     },
     "execution_count": 6,
     "metadata": {},
     "output_type": "execute_result"
    }
   ],
   "source": [
    "total_num_mutations = 0\n",
    "for row_group in tqdm(range(pfile.num_row_groups)):\n",
    "    num_mutations = (\n",
    "        pfile.read_row_group(row_group, columns=[\"mutation\"])\n",
    "        .to_pandas()[\"mutation\"]\n",
    "        .str.len()\n",
    "        .sum()\n",
    "    )\n",
    "\n",
    "    total_num_mutations += num_mutations\n",
    "\n",
    "total_num_mutations"
   ]
  },
  {
   "cell_type": "code",
   "execution_count": 7,
   "id": "545bb337-c239-4cfd-8449-5bd25f817ed2",
   "metadata": {},
   "outputs": [],
   "source": [
    "def get_result_files(result_dir, task_count=TASK_COUNT):\n",
    "    if \"msa_analysis\" in str(result_dir):\n",
    "        prefix = \"result\"\n",
    "    elif \"31_run_alphafold/\" in str(result_dir):\n",
    "        prefix = \"results\"\n",
    "    else:\n",
    "        prefix = \"shard\"\n",
    "\n",
    "    present_files = []\n",
    "    missing_files = []\n",
    "    for i in tqdm(range(1, task_count + 1)):\n",
    "        path = result_dir.joinpath(f\"{prefix}-{i}-of-{task_count}.parquet\")\n",
    "        if path.is_file():\n",
    "            present_files.append(path)\n",
    "        else:\n",
    "            missing_files.append(path)\n",
    "    return present_files, missing_files"
   ]
  },
  {
   "cell_type": "code",
   "execution_count": 8,
   "id": "d0dd8cea-7960-451e-8d48-7317169a0927",
   "metadata": {},
   "outputs": [],
   "source": [
    "def read_files(files):\n",
    "    dfs = []\n",
    "    for file in tqdm(files):\n",
    "        df = pq.read_table(file).to_pandas(integer_object_nulls=True)\n",
    "        dfs.append(df)\n",
    "    return pd.concat(dfs, ignore_index=True)"
   ]
  },
  {
   "cell_type": "code",
   "execution_count": 9,
   "id": "e0bc75e7-0d94-427f-baad-ac4930cde413",
   "metadata": {},
   "outputs": [],
   "source": [
    "def read_rosetta_files(pfile):\n",
    "    result_dfs = []\n",
    "    for task_id in tqdm(range(1, pfile.num_row_groups + 1)):\n",
    "        row = (\n",
    "            pfile.read_row_group(\n",
    "                task_id - 1, columns=[\"protein_id\", \"mutation_id\", \"mutation\"]\n",
    "            )\n",
    "            .to_pandas()\n",
    "            .iloc[0]\n",
    "        )\n",
    "\n",
    "        input_df = pd.DataFrame(\n",
    "            {\n",
    "                \"protein_id\": [row[\"protein_id\"]] * len(row[\"mutation_id\"]),\n",
    "                \"mutation_id\": row[\"mutation_id\"],\n",
    "                \"mutation\": row[\"mutation\"],\n",
    "            }\n",
    "        )\n",
    "\n",
    "        path = NOTEBOOK_DIR.parent.joinpath(\n",
    "            \"31_run_rosetta_ddg\",\n",
    "            DATASET_NAME,\n",
    "            f\"shard-{task_id}-of-{TASK_COUNT}.parquet\",\n",
    "        )\n",
    "        try:\n",
    "            rosetta_df = pq.read_table(path).to_pandas()\n",
    "        except pa.ArrowInvalid:\n",
    "            print(f\"Unreadable file for {path}\")\n",
    "            continue\n",
    "\n",
    "        if rosetta_df.empty:\n",
    "            print(f\"Empty file for {path}\")\n",
    "            continue\n",
    "\n",
    "        del rosetta_df[\"protein_id\"]\n",
    "        del rosetta_df[\"mutation_id\"]\n",
    "\n",
    "        result_df = input_df.merge(rosetta_df, on=[\"mutation\"])\n",
    "        result_dfs.append(result_df)\n",
    "    return pd.concat(result_dfs, ignore_index=True)"
   ]
  },
  {
   "cell_type": "markdown",
   "id": "f1da2f21-5ac6-4625-b105-f7c8c18e972d",
   "metadata": {},
   "source": [
    "### ProteinSolver"
   ]
  },
  {
   "cell_type": "code",
   "execution_count": 10,
   "id": "a9e0b109-1a03-41e7-ae1c-180b0e4a8519",
   "metadata": {},
   "outputs": [],
   "source": [
    "ps_result_dir = NOTEBOOK_DIR.parent.joinpath(\"31_run_proteinsolver\", DATASET_NAME)"
   ]
  },
  {
   "cell_type": "code",
   "execution_count": 11,
   "id": "d7df3505-9e49-44d4-87fc-96389528bf28",
   "metadata": {},
   "outputs": [
    {
     "data": {
      "application/vnd.jupyter.widget-view+json": {
       "model_id": "077f3cbe4852487899b301d2d4e22955",
       "version_major": 2,
       "version_minor": 0
      },
      "text/plain": [
       "HBox(children=(HTML(value=''), FloatProgress(value=0.0, max=4182.0), HTML(value='')))"
      ]
     },
     "metadata": {},
     "output_type": "display_data"
    },
    {
     "name": "stdout",
     "output_type": "stream",
     "text": [
      "\n"
     ]
    },
    {
     "data": {
      "text/plain": [
       "(4182, 0)"
      ]
     },
     "execution_count": 11,
     "metadata": {},
     "output_type": "execute_result"
    }
   ],
   "source": [
    "present_files, missing_files = get_result_files(ps_result_dir)\n",
    "\n",
    "assert len(missing_files) == 0\n",
    "len(present_files), len(missing_files)"
   ]
  },
  {
   "cell_type": "code",
   "execution_count": 12,
   "id": "517c88ae-9dbf-41b5-8d34-7c5c55193370",
   "metadata": {},
   "outputs": [
    {
     "data": {
      "application/vnd.jupyter.widget-view+json": {
       "model_id": "41164b7b5d9f4493801fa611642c5e43",
       "version_major": 2,
       "version_minor": 0
      },
      "text/plain": [
       "HBox(children=(HTML(value=''), FloatProgress(value=0.0, max=4182.0), HTML(value='')))"
      ]
     },
     "metadata": {},
     "output_type": "display_data"
    },
    {
     "name": "stdout",
     "output_type": "stream",
     "text": [
      "\n"
     ]
    }
   ],
   "source": [
    "result_ps_df = read_files(present_files)"
   ]
  },
  {
   "cell_type": "code",
   "execution_count": 13,
   "id": "5a4cc566-dfaf-4ca9-a810-339d0736cf2c",
   "metadata": {},
   "outputs": [
    {
     "data": {
      "text/html": [
       "<div>\n",
       "<style scoped>\n",
       "    .dataframe tbody tr th:only-of-type {\n",
       "        vertical-align: middle;\n",
       "    }\n",
       "\n",
       "    .dataframe tbody tr th {\n",
       "        vertical-align: top;\n",
       "    }\n",
       "\n",
       "    .dataframe thead th {\n",
       "        text-align: right;\n",
       "    }\n",
       "</style>\n",
       "<table border=\"1\" class=\"dataframe\">\n",
       "  <thead>\n",
       "    <tr style=\"text-align: right;\">\n",
       "      <th></th>\n",
       "      <th>protein_id</th>\n",
       "      <th>mutation</th>\n",
       "      <th>mutation_id</th>\n",
       "      <th>effect</th>\n",
       "      <th>proteinsolver_core_score_wt</th>\n",
       "      <th>proteinsolver_core_score_mut</th>\n",
       "      <th>proteinsolver_core_features_residue_wt</th>\n",
       "      <th>proteinsolver_core_features_protein_wt</th>\n",
       "      <th>proteinsolver_core_features_residue_mut</th>\n",
       "      <th>proteinsolver_core_features_protein_mut</th>\n",
       "    </tr>\n",
       "  </thead>\n",
       "  <tbody>\n",
       "    <tr>\n",
       "      <th>0</th>\n",
       "      <td>P26678</td>\n",
       "      <td>R9C</td>\n",
       "      <td>NM_002667.3:c.25C&gt;T</td>\n",
       "      <td>Pathogenic</td>\n",
       "      <td>0.091593</td>\n",
       "      <td>0.003965</td>\n",
       "      <td>[0.48249053955078125, 0.24484702944755554, -0....</td>\n",
       "      <td>[-2.27313494682312, 0.6932704448699951, -0.195...</td>\n",
       "      <td>[-1.904166340827942, 1.0505309104919434, 0.088...</td>\n",
       "      <td>[-2.3197972774505615, 0.8016344308853149, -0.1...</td>\n",
       "    </tr>\n",
       "    <tr>\n",
       "      <th>1</th>\n",
       "      <td>P26678</td>\n",
       "      <td>T8P</td>\n",
       "      <td>NM_002667.3:c.22A&gt;C</td>\n",
       "      <td>Uncertain significance</td>\n",
       "      <td>0.041601</td>\n",
       "      <td>0.000594</td>\n",
       "      <td>[2.043767213821411, 0.9361261129379272, -0.415...</td>\n",
       "      <td>[-2.27313494682312, 0.6932705044746399, -0.195...</td>\n",
       "      <td>[0.12865065038204193, 0.6873304843902588, 2.20...</td>\n",
       "      <td>[-2.2835092544555664, 0.6785972118377686, -0.1...</td>\n",
       "    </tr>\n",
       "  </tbody>\n",
       "</table>\n",
       "</div>"
      ],
      "text/plain": [
       "  protein_id mutation          mutation_id                  effect  \\\n",
       "0     P26678      R9C  NM_002667.3:c.25C>T              Pathogenic   \n",
       "1     P26678      T8P  NM_002667.3:c.22A>C  Uncertain significance   \n",
       "\n",
       "   proteinsolver_core_score_wt  proteinsolver_core_score_mut  \\\n",
       "0                     0.091593                      0.003965   \n",
       "1                     0.041601                      0.000594   \n",
       "\n",
       "              proteinsolver_core_features_residue_wt  \\\n",
       "0  [0.48249053955078125, 0.24484702944755554, -0....   \n",
       "1  [2.043767213821411, 0.9361261129379272, -0.415...   \n",
       "\n",
       "              proteinsolver_core_features_protein_wt  \\\n",
       "0  [-2.27313494682312, 0.6932704448699951, -0.195...   \n",
       "1  [-2.27313494682312, 0.6932705044746399, -0.195...   \n",
       "\n",
       "             proteinsolver_core_features_residue_mut  \\\n",
       "0  [-1.904166340827942, 1.0505309104919434, 0.088...   \n",
       "1  [0.12865065038204193, 0.6873304843902588, 2.20...   \n",
       "\n",
       "             proteinsolver_core_features_protein_mut  \n",
       "0  [-2.3197972774505615, 0.8016344308853149, -0.1...  \n",
       "1  [-2.2835092544555664, 0.6785972118377686, -0.1...  "
      ]
     },
     "metadata": {},
     "output_type": "display_data"
    },
    {
     "name": "stdout",
     "output_type": "stream",
     "text": [
      "221816\n"
     ]
    }
   ],
   "source": [
    "display(result_ps_df.head(2))\n",
    "print(len(result_ps_df))  # 221816"
   ]
  },
  {
   "cell_type": "markdown",
   "id": "1f8e85e3-ffaf-4b61-be5a-9c800d3bbe24",
   "metadata": {},
   "source": [
    "### ProtBert"
   ]
  },
  {
   "cell_type": "code",
   "execution_count": 14,
   "id": "3a8363be-9bb2-4918-8682-2101b54e590d",
   "metadata": {},
   "outputs": [],
   "source": [
    "pb_result_dir = NOTEBOOK_DIR.parent.joinpath(\"31_run_protbert\", DATASET_NAME)"
   ]
  },
  {
   "cell_type": "code",
   "execution_count": 15,
   "id": "1bda80f9-16e6-4957-87ce-6ec33a83479e",
   "metadata": {},
   "outputs": [
    {
     "data": {
      "application/vnd.jupyter.widget-view+json": {
       "model_id": "7800d64734be45e19e32af4c9c082e2f",
       "version_major": 2,
       "version_minor": 0
      },
      "text/plain": [
       "HBox(children=(HTML(value=''), FloatProgress(value=0.0, max=4182.0), HTML(value='')))"
      ]
     },
     "metadata": {},
     "output_type": "display_data"
    },
    {
     "name": "stdout",
     "output_type": "stream",
     "text": [
      "\n"
     ]
    },
    {
     "data": {
      "text/plain": [
       "(4182, 0)"
      ]
     },
     "execution_count": 15,
     "metadata": {},
     "output_type": "execute_result"
    }
   ],
   "source": [
    "present_files, missing_files = get_result_files(pb_result_dir)\n",
    "\n",
    "assert len(missing_files) == 0\n",
    "len(present_files), len(missing_files)"
   ]
  },
  {
   "cell_type": "code",
   "execution_count": 16,
   "id": "9b7ce3d1-68da-4dfb-a3ca-1422f81de4c8",
   "metadata": {},
   "outputs": [
    {
     "data": {
      "application/vnd.jupyter.widget-view+json": {
       "model_id": "cff05f713a9f4b8894d87220c9839609",
       "version_major": 2,
       "version_minor": 0
      },
      "text/plain": [
       "HBox(children=(HTML(value=''), FloatProgress(value=0.0, max=4182.0), HTML(value='')))"
      ]
     },
     "metadata": {},
     "output_type": "display_data"
    },
    {
     "name": "stdout",
     "output_type": "stream",
     "text": [
      "\n"
     ]
    }
   ],
   "source": [
    "result_pb_df = read_files(present_files)"
   ]
  },
  {
   "cell_type": "code",
   "execution_count": 17,
   "id": "adf074f9-a8c0-4b60-b045-1b7563178898",
   "metadata": {},
   "outputs": [
    {
     "data": {
      "text/html": [
       "<div>\n",
       "<style scoped>\n",
       "    .dataframe tbody tr th:only-of-type {\n",
       "        vertical-align: middle;\n",
       "    }\n",
       "\n",
       "    .dataframe tbody tr th {\n",
       "        vertical-align: top;\n",
       "    }\n",
       "\n",
       "    .dataframe thead th {\n",
       "        text-align: right;\n",
       "    }\n",
       "</style>\n",
       "<table border=\"1\" class=\"dataframe\">\n",
       "  <thead>\n",
       "    <tr style=\"text-align: right;\">\n",
       "      <th></th>\n",
       "      <th>protein_id</th>\n",
       "      <th>mutation</th>\n",
       "      <th>mutation_id</th>\n",
       "      <th>effect</th>\n",
       "      <th>protbert_core_score_wt</th>\n",
       "      <th>protbert_core_score_mut</th>\n",
       "      <th>protbert_core_features_residue_wt</th>\n",
       "      <th>protbert_core_features_protein_wt</th>\n",
       "      <th>protbert_core_features_residue_mut</th>\n",
       "      <th>protbert_core_features_protein_mut</th>\n",
       "    </tr>\n",
       "  </thead>\n",
       "  <tbody>\n",
       "    <tr>\n",
       "      <th>0</th>\n",
       "      <td>P26678</td>\n",
       "      <td>R9C</td>\n",
       "      <td>NM_002667.3:c.25C&gt;T</td>\n",
       "      <td>Pathogenic</td>\n",
       "      <td>0.068529</td>\n",
       "      <td>0.007849</td>\n",
       "      <td>[0.15305250883102417, -0.11011786758899689, 0....</td>\n",
       "      <td>[0.05504663661122322, -0.04564127326011658, 0....</td>\n",
       "      <td>[0.09072457253932953, -0.12460881471633911, 0....</td>\n",
       "      <td>[0.02796473540365696, -0.055114783346652985, 0...</td>\n",
       "    </tr>\n",
       "    <tr>\n",
       "      <th>1</th>\n",
       "      <td>P26678</td>\n",
       "      <td>T8P</td>\n",
       "      <td>NM_002667.3:c.22A&gt;C</td>\n",
       "      <td>Uncertain significance</td>\n",
       "      <td>0.062104</td>\n",
       "      <td>0.027220</td>\n",
       "      <td>[0.056363195180892944, -0.020384633913636208, ...</td>\n",
       "      <td>[0.05504663661122322, -0.04564127326011658, 0....</td>\n",
       "      <td>[0.03299185633659363, -0.007563109043985605, 0...</td>\n",
       "      <td>[0.04508848860859871, -0.052698392421007156, 0...</td>\n",
       "    </tr>\n",
       "  </tbody>\n",
       "</table>\n",
       "</div>"
      ],
      "text/plain": [
       "  protein_id mutation          mutation_id                  effect  \\\n",
       "0     P26678      R9C  NM_002667.3:c.25C>T              Pathogenic   \n",
       "1     P26678      T8P  NM_002667.3:c.22A>C  Uncertain significance   \n",
       "\n",
       "   protbert_core_score_wt  protbert_core_score_mut  \\\n",
       "0                0.068529                 0.007849   \n",
       "1                0.062104                 0.027220   \n",
       "\n",
       "                   protbert_core_features_residue_wt  \\\n",
       "0  [0.15305250883102417, -0.11011786758899689, 0....   \n",
       "1  [0.056363195180892944, -0.020384633913636208, ...   \n",
       "\n",
       "                   protbert_core_features_protein_wt  \\\n",
       "0  [0.05504663661122322, -0.04564127326011658, 0....   \n",
       "1  [0.05504663661122322, -0.04564127326011658, 0....   \n",
       "\n",
       "                  protbert_core_features_residue_mut  \\\n",
       "0  [0.09072457253932953, -0.12460881471633911, 0....   \n",
       "1  [0.03299185633659363, -0.007563109043985605, 0...   \n",
       "\n",
       "                  protbert_core_features_protein_mut  \n",
       "0  [0.02796473540365696, -0.055114783346652985, 0...  \n",
       "1  [0.04508848860859871, -0.052698392421007156, 0...  "
      ]
     },
     "metadata": {},
     "output_type": "display_data"
    },
    {
     "name": "stdout",
     "output_type": "stream",
     "text": [
      "221793\n"
     ]
    }
   ],
   "source": [
    "display(result_pb_df.head(2))\n",
    "print(len(result_pb_df))  # 221793"
   ]
  },
  {
   "cell_type": "markdown",
   "id": "e3eb7bd0-b974-4955-aaf3-281fd3cd935f",
   "metadata": {},
   "source": [
    "### Rosetta"
   ]
  },
  {
   "cell_type": "code",
   "execution_count": 18,
   "id": "f2926c32-e199-4725-9264-5ed45d8960cc",
   "metadata": {},
   "outputs": [],
   "source": [
    "ra_result_dir = NOTEBOOK_DIR.parent.joinpath(\"31_run_rosetta_ddg\", DATASET_NAME)"
   ]
  },
  {
   "cell_type": "code",
   "execution_count": 19,
   "id": "a0f9e809-6043-4ac6-b6d9-9a3ecc90f059",
   "metadata": {},
   "outputs": [
    {
     "data": {
      "application/vnd.jupyter.widget-view+json": {
       "model_id": "c5102d47d21f46b6aafdf9bbbaef92e8",
       "version_major": 2,
       "version_minor": 0
      },
      "text/plain": [
       "HBox(children=(HTML(value=''), FloatProgress(value=0.0, max=4182.0), HTML(value='')))"
      ]
     },
     "metadata": {},
     "output_type": "display_data"
    },
    {
     "name": "stdout",
     "output_type": "stream",
     "text": [
      "\n"
     ]
    },
    {
     "data": {
      "text/plain": [
       "(4182, 0)"
      ]
     },
     "execution_count": 19,
     "metadata": {},
     "output_type": "execute_result"
    }
   ],
   "source": [
    "present_files, missing_files = get_result_files(ra_result_dir)\n",
    "\n",
    "assert len(missing_files) == 0\n",
    "len(present_files), len(missing_files)"
   ]
  },
  {
   "cell_type": "code",
   "execution_count": 20,
   "id": "6e6fc5fa-8b48-4c54-b182-6aba2ee5a39e",
   "metadata": {},
   "outputs": [
    {
     "data": {
      "application/vnd.jupyter.widget-view+json": {
       "model_id": "962e017d087e4e7d84f55d7ce9354004",
       "version_major": 2,
       "version_minor": 0
      },
      "text/plain": [
       "HBox(children=(HTML(value=''), FloatProgress(value=0.0, max=4182.0), HTML(value='')))"
      ]
     },
     "metadata": {},
     "output_type": "display_data"
    },
    {
     "name": "stdout",
     "output_type": "stream",
     "text": [
      "Empty file for /gpfs/fs0/scratch/p/pmkim/strokach/workspace/elaspic2-cagi6/notebooks/31_run_rosetta_ddg/cagi6-sherloc/shard-1098-of-4182.parquet\n",
      "\n"
     ]
    }
   ],
   "source": [
    "result_ra_df = read_rosetta_files(pfile)"
   ]
  },
  {
   "cell_type": "code",
   "execution_count": 21,
   "id": "676fa55f-c244-408b-82dc-7ebb3a0161ef",
   "metadata": {},
   "outputs": [
    {
     "data": {
      "text/html": [
       "<div>\n",
       "<style scoped>\n",
       "    .dataframe tbody tr th:only-of-type {\n",
       "        vertical-align: middle;\n",
       "    }\n",
       "\n",
       "    .dataframe tbody tr th {\n",
       "        vertical-align: top;\n",
       "    }\n",
       "\n",
       "    .dataframe thead th {\n",
       "        text-align: right;\n",
       "    }\n",
       "</style>\n",
       "<table border=\"1\" class=\"dataframe\">\n",
       "  <thead>\n",
       "    <tr style=\"text-align: right;\">\n",
       "      <th></th>\n",
       "      <th>protein_id</th>\n",
       "      <th>mutation_id</th>\n",
       "      <th>mutation</th>\n",
       "      <th>effect</th>\n",
       "      <th>rosetta_cart_bonded_wt</th>\n",
       "      <th>rosetta_rama_prepro_wt</th>\n",
       "      <th>rosetta_ref_wt</th>\n",
       "      <th>rosetta_hxl_tors_wt</th>\n",
       "      <th>rosetta_p_aa_pp_wt</th>\n",
       "      <th>rosetta_fa_dun_semi_wt</th>\n",
       "      <th>rosetta_fa_dun_rot_wt</th>\n",
       "      <th>rosetta_fa_dun_dev_wt</th>\n",
       "      <th>rosetta_omega_wt</th>\n",
       "      <th>rosetta_dslf_fa13_wt</th>\n",
       "      <th>rosetta_hbond_sc_wt</th>\n",
       "      <th>rosetta_hbond_bb_sc_wt</th>\n",
       "      <th>rosetta_hbond_lr_bb_wt</th>\n",
       "      <th>rosetta_hbond_sr_bb_wt</th>\n",
       "      <th>rosetta_fa_intra_elec_wt</th>\n",
       "      <th>rosetta_fa_elec_wt</th>\n",
       "      <th>rosetta_lk_ball_bridge_uncpl_wt</th>\n",
       "      <th>rosetta_lk_ball_bridge_wt</th>\n",
       "      <th>rosetta_lk_ball_iso_wt</th>\n",
       "      <th>rosetta_lk_ball_wt</th>\n",
       "      <th>rosetta_fa_intra_sol_xover4_wt</th>\n",
       "      <th>rosetta_fa_intra_rep_xover4_wt</th>\n",
       "      <th>rosetta_fa_intra_atr_xover4_wt</th>\n",
       "      <th>rosetta_fa_sol_wt</th>\n",
       "      <th>rosetta_fa_rep_wt</th>\n",
       "      <th>rosetta_fa_atr_wt</th>\n",
       "      <th>rosetta_dg_wt</th>\n",
       "      <th>rosetta_cart_bonded_change</th>\n",
       "      <th>rosetta_rama_prepro_change</th>\n",
       "      <th>rosetta_ref_change</th>\n",
       "      <th>rosetta_hxl_tors_change</th>\n",
       "      <th>rosetta_p_aa_pp_change</th>\n",
       "      <th>rosetta_fa_dun_semi_change</th>\n",
       "      <th>rosetta_fa_dun_rot_change</th>\n",
       "      <th>rosetta_fa_dun_dev_change</th>\n",
       "      <th>rosetta_omega_change</th>\n",
       "      <th>rosetta_dslf_fa13_change</th>\n",
       "      <th>rosetta_hbond_sc_change</th>\n",
       "      <th>rosetta_hbond_bb_sc_change</th>\n",
       "      <th>rosetta_hbond_lr_bb_change</th>\n",
       "      <th>rosetta_hbond_sr_bb_change</th>\n",
       "      <th>rosetta_fa_intra_elec_change</th>\n",
       "      <th>rosetta_fa_elec_change</th>\n",
       "      <th>rosetta_lk_ball_bridge_uncpl_change</th>\n",
       "      <th>rosetta_lk_ball_bridge_change</th>\n",
       "      <th>rosetta_lk_ball_iso_change</th>\n",
       "      <th>rosetta_lk_ball_change</th>\n",
       "      <th>rosetta_fa_intra_sol_xover4_change</th>\n",
       "      <th>rosetta_fa_intra_rep_xover4_change</th>\n",
       "      <th>rosetta_fa_intra_atr_xover4_change</th>\n",
       "      <th>rosetta_fa_sol_change</th>\n",
       "      <th>rosetta_fa_rep_change</th>\n",
       "      <th>rosetta_fa_atr_change</th>\n",
       "      <th>rosetta_dg_change</th>\n",
       "    </tr>\n",
       "  </thead>\n",
       "  <tbody>\n",
       "    <tr>\n",
       "      <th>0</th>\n",
       "      <td>P26678</td>\n",
       "      <td>NM_002667.3:c.25C&gt;T</td>\n",
       "      <td>R9C</td>\n",
       "      <td>Pathogenic</td>\n",
       "      <td>34.796667</td>\n",
       "      <td>18.080333</td>\n",
       "      <td>13.08</td>\n",
       "      <td>5.875333</td>\n",
       "      <td>-4.878333</td>\n",
       "      <td>33.826333</td>\n",
       "      <td>30.420</td>\n",
       "      <td>37.201667</td>\n",
       "      <td>16.900333</td>\n",
       "      <td>0.0</td>\n",
       "      <td>0.0</td>\n",
       "      <td>-0.495</td>\n",
       "      <td>0.0</td>\n",
       "      <td>-46.239</td>\n",
       "      <td>-5.748</td>\n",
       "      <td>-96.294333</td>\n",
       "      <td>-1.515667</td>\n",
       "      <td>-0.220333</td>\n",
       "      <td>-145.437333</td>\n",
       "      <td>123.757667</td>\n",
       "      <td>12.501667</td>\n",
       "      <td>9.146667</td>\n",
       "      <td>-22.659333</td>\n",
       "      <td>279.312667</td>\n",
       "      <td>18.309</td>\n",
       "      <td>-311.028667</td>\n",
       "      <td>-1.308</td>\n",
       "      <td>-0.577667</td>\n",
       "      <td>0.614667</td>\n",
       "      <td>4.553</td>\n",
       "      <td>0.021333</td>\n",
       "      <td>0.376000</td>\n",
       "      <td>0.173000</td>\n",
       "      <td>-1.592000</td>\n",
       "      <td>-0.074667</td>\n",
       "      <td>-0.012667</td>\n",
       "      <td>0.0</td>\n",
       "      <td>0.000</td>\n",
       "      <td>0.495000</td>\n",
       "      <td>0.0</td>\n",
       "      <td>-0.011</td>\n",
       "      <td>-0.510333</td>\n",
       "      <td>0.204667</td>\n",
       "      <td>0.508667</td>\n",
       "      <td>0.040</td>\n",
       "      <td>1.679</td>\n",
       "      <td>-0.050333</td>\n",
       "      <td>-0.104333</td>\n",
       "      <td>-0.147</td>\n",
       "      <td>0.325000</td>\n",
       "      <td>-4.542667</td>\n",
       "      <td>0.084667</td>\n",
       "      <td>2.215667</td>\n",
       "      <td>3.669</td>\n",
       "    </tr>\n",
       "    <tr>\n",
       "      <th>1</th>\n",
       "      <td>P26678</td>\n",
       "      <td>NM_002667.3:c.22A&gt;C</td>\n",
       "      <td>T8P</td>\n",
       "      <td>Uncertain significance</td>\n",
       "      <td>35.531000</td>\n",
       "      <td>17.849000</td>\n",
       "      <td>13.08</td>\n",
       "      <td>9.764000</td>\n",
       "      <td>-5.052000</td>\n",
       "      <td>33.549000</td>\n",
       "      <td>30.357</td>\n",
       "      <td>43.524000</td>\n",
       "      <td>16.889000</td>\n",
       "      <td>0.0</td>\n",
       "      <td>0.0</td>\n",
       "      <td>-0.743</td>\n",
       "      <td>0.0</td>\n",
       "      <td>-45.885</td>\n",
       "      <td>-4.684</td>\n",
       "      <td>-97.176000</td>\n",
       "      <td>-1.163000</td>\n",
       "      <td>-0.196000</td>\n",
       "      <td>-144.679000</td>\n",
       "      <td>123.189000</td>\n",
       "      <td>12.223000</td>\n",
       "      <td>9.169000</td>\n",
       "      <td>-22.419000</td>\n",
       "      <td>278.164000</td>\n",
       "      <td>18.065</td>\n",
       "      <td>-310.411000</td>\n",
       "      <td>8.945</td>\n",
       "      <td>12.124333</td>\n",
       "      <td>2.623000</td>\n",
       "      <td>-3.697</td>\n",
       "      <td>-2.731667</td>\n",
       "      <td>0.545667</td>\n",
       "      <td>1.057667</td>\n",
       "      <td>0.810667</td>\n",
       "      <td>0.199333</td>\n",
       "      <td>1.852333</td>\n",
       "      <td>0.0</td>\n",
       "      <td>-1.577</td>\n",
       "      <td>0.007667</td>\n",
       "      <td>0.0</td>\n",
       "      <td>1.358</td>\n",
       "      <td>0.671000</td>\n",
       "      <td>1.583667</td>\n",
       "      <td>0.171667</td>\n",
       "      <td>0.014</td>\n",
       "      <td>0.872</td>\n",
       "      <td>0.017000</td>\n",
       "      <td>-0.134000</td>\n",
       "      <td>-0.100</td>\n",
       "      <td>0.435333</td>\n",
       "      <td>-1.319333</td>\n",
       "      <td>6.835000</td>\n",
       "      <td>-1.977333</td>\n",
       "      <td>19.644</td>\n",
       "    </tr>\n",
       "  </tbody>\n",
       "</table>\n",
       "</div>"
      ],
      "text/plain": [
       "  protein_id          mutation_id mutation                  effect  \\\n",
       "0     P26678  NM_002667.3:c.25C>T      R9C              Pathogenic   \n",
       "1     P26678  NM_002667.3:c.22A>C      T8P  Uncertain significance   \n",
       "\n",
       "   rosetta_cart_bonded_wt  rosetta_rama_prepro_wt  rosetta_ref_wt  \\\n",
       "0               34.796667               18.080333           13.08   \n",
       "1               35.531000               17.849000           13.08   \n",
       "\n",
       "   rosetta_hxl_tors_wt  rosetta_p_aa_pp_wt  rosetta_fa_dun_semi_wt  \\\n",
       "0             5.875333           -4.878333               33.826333   \n",
       "1             9.764000           -5.052000               33.549000   \n",
       "\n",
       "   rosetta_fa_dun_rot_wt  rosetta_fa_dun_dev_wt  rosetta_omega_wt  \\\n",
       "0                 30.420              37.201667         16.900333   \n",
       "1                 30.357              43.524000         16.889000   \n",
       "\n",
       "   rosetta_dslf_fa13_wt  rosetta_hbond_sc_wt  rosetta_hbond_bb_sc_wt  \\\n",
       "0                   0.0                  0.0                  -0.495   \n",
       "1                   0.0                  0.0                  -0.743   \n",
       "\n",
       "   rosetta_hbond_lr_bb_wt  rosetta_hbond_sr_bb_wt  rosetta_fa_intra_elec_wt  \\\n",
       "0                     0.0                 -46.239                    -5.748   \n",
       "1                     0.0                 -45.885                    -4.684   \n",
       "\n",
       "   rosetta_fa_elec_wt  rosetta_lk_ball_bridge_uncpl_wt  \\\n",
       "0          -96.294333                        -1.515667   \n",
       "1          -97.176000                        -1.163000   \n",
       "\n",
       "   rosetta_lk_ball_bridge_wt  rosetta_lk_ball_iso_wt  rosetta_lk_ball_wt  \\\n",
       "0                  -0.220333             -145.437333          123.757667   \n",
       "1                  -0.196000             -144.679000          123.189000   \n",
       "\n",
       "   rosetta_fa_intra_sol_xover4_wt  rosetta_fa_intra_rep_xover4_wt  \\\n",
       "0                       12.501667                        9.146667   \n",
       "1                       12.223000                        9.169000   \n",
       "\n",
       "   rosetta_fa_intra_atr_xover4_wt  rosetta_fa_sol_wt  rosetta_fa_rep_wt  \\\n",
       "0                      -22.659333         279.312667             18.309   \n",
       "1                      -22.419000         278.164000             18.065   \n",
       "\n",
       "   rosetta_fa_atr_wt  rosetta_dg_wt  rosetta_cart_bonded_change  \\\n",
       "0        -311.028667         -1.308                   -0.577667   \n",
       "1        -310.411000          8.945                   12.124333   \n",
       "\n",
       "   rosetta_rama_prepro_change  rosetta_ref_change  rosetta_hxl_tors_change  \\\n",
       "0                    0.614667               4.553                 0.021333   \n",
       "1                    2.623000              -3.697                -2.731667   \n",
       "\n",
       "   rosetta_p_aa_pp_change  rosetta_fa_dun_semi_change  \\\n",
       "0                0.376000                    0.173000   \n",
       "1                0.545667                    1.057667   \n",
       "\n",
       "   rosetta_fa_dun_rot_change  rosetta_fa_dun_dev_change  rosetta_omega_change  \\\n",
       "0                  -1.592000                  -0.074667             -0.012667   \n",
       "1                   0.810667                   0.199333              1.852333   \n",
       "\n",
       "   rosetta_dslf_fa13_change  rosetta_hbond_sc_change  \\\n",
       "0                       0.0                    0.000   \n",
       "1                       0.0                   -1.577   \n",
       "\n",
       "   rosetta_hbond_bb_sc_change  rosetta_hbond_lr_bb_change  \\\n",
       "0                    0.495000                         0.0   \n",
       "1                    0.007667                         0.0   \n",
       "\n",
       "   rosetta_hbond_sr_bb_change  rosetta_fa_intra_elec_change  \\\n",
       "0                      -0.011                     -0.510333   \n",
       "1                       1.358                      0.671000   \n",
       "\n",
       "   rosetta_fa_elec_change  rosetta_lk_ball_bridge_uncpl_change  \\\n",
       "0                0.204667                             0.508667   \n",
       "1                1.583667                             0.171667   \n",
       "\n",
       "   rosetta_lk_ball_bridge_change  rosetta_lk_ball_iso_change  \\\n",
       "0                          0.040                       1.679   \n",
       "1                          0.014                       0.872   \n",
       "\n",
       "   rosetta_lk_ball_change  rosetta_fa_intra_sol_xover4_change  \\\n",
       "0               -0.050333                           -0.104333   \n",
       "1                0.017000                           -0.134000   \n",
       "\n",
       "   rosetta_fa_intra_rep_xover4_change  rosetta_fa_intra_atr_xover4_change  \\\n",
       "0                              -0.147                            0.325000   \n",
       "1                              -0.100                            0.435333   \n",
       "\n",
       "   rosetta_fa_sol_change  rosetta_fa_rep_change  rosetta_fa_atr_change  \\\n",
       "0              -4.542667               0.084667               2.215667   \n",
       "1              -1.319333               6.835000              -1.977333   \n",
       "\n",
       "   rosetta_dg_change  \n",
       "0              3.669  \n",
       "1             19.644  "
      ]
     },
     "metadata": {},
     "output_type": "display_data"
    },
    {
     "name": "stdout",
     "output_type": "stream",
     "text": [
      "221793\n"
     ]
    }
   ],
   "source": [
    "display(result_ra_df.head(2))\n",
    "print(len(result_ra_df))  # 221793"
   ]
  },
  {
   "cell_type": "markdown",
   "id": "d2ed0cdf-3587-4a99-be53-a1a812d82267",
   "metadata": {},
   "source": [
    "### MSA"
   ]
  },
  {
   "cell_type": "code",
   "execution_count": 22,
   "id": "740e9f7a-6fed-45d1-8bc0-a4b21c33f03d",
   "metadata": {},
   "outputs": [],
   "source": [
    "msa_result_dir = NOTEBOOK_DIR.parent.joinpath(\"31_run_msa_analysis\", DATASET_NAME)"
   ]
  },
  {
   "cell_type": "code",
   "execution_count": 23,
   "id": "8eb4e4fc-2fe0-4d67-9411-c6e75b90ace6",
   "metadata": {},
   "outputs": [
    {
     "data": {
      "application/vnd.jupyter.widget-view+json": {
       "model_id": "ceb7c601f1974ba0ad47673b52810fab",
       "version_major": 2,
       "version_minor": 0
      },
      "text/plain": [
       "HBox(children=(HTML(value=''), FloatProgress(value=0.0, max=4182.0), HTML(value='')))"
      ]
     },
     "metadata": {},
     "output_type": "display_data"
    },
    {
     "name": "stdout",
     "output_type": "stream",
     "text": [
      "\n"
     ]
    },
    {
     "data": {
      "text/plain": [
       "(4182, 0)"
      ]
     },
     "execution_count": 23,
     "metadata": {},
     "output_type": "execute_result"
    }
   ],
   "source": [
    "present_files, missing_files = get_result_files(msa_result_dir)\n",
    "\n",
    "assert len(missing_files) == 0\n",
    "len(present_files), len(missing_files)"
   ]
  },
  {
   "cell_type": "code",
   "execution_count": 24,
   "id": "9b1424e5-ca18-4002-9886-75dd8513bba0",
   "metadata": {},
   "outputs": [
    {
     "data": {
      "application/vnd.jupyter.widget-view+json": {
       "model_id": "de6a1e5e22054d3a857a21c05c418ef9",
       "version_major": 2,
       "version_minor": 0
      },
      "text/plain": [
       "HBox(children=(HTML(value=''), FloatProgress(value=0.0, max=4182.0), HTML(value='')))"
      ]
     },
     "metadata": {},
     "output_type": "display_data"
    },
    {
     "name": "stdout",
     "output_type": "stream",
     "text": [
      "\n"
     ]
    }
   ],
   "source": [
    "result_msa_df = read_files(present_files)"
   ]
  },
  {
   "cell_type": "code",
   "execution_count": 25,
   "id": "064e6af7-24e4-4f95-9711-388c47b5a9d0",
   "metadata": {},
   "outputs": [
    {
     "data": {
      "text/html": [
       "<div>\n",
       "<style scoped>\n",
       "    .dataframe tbody tr th:only-of-type {\n",
       "        vertical-align: middle;\n",
       "    }\n",
       "\n",
       "    .dataframe tbody tr th {\n",
       "        vertical-align: top;\n",
       "    }\n",
       "\n",
       "    .dataframe thead th {\n",
       "        text-align: right;\n",
       "    }\n",
       "</style>\n",
       "<table border=\"1\" class=\"dataframe\">\n",
       "  <thead>\n",
       "    <tr style=\"text-align: right;\">\n",
       "      <th></th>\n",
       "      <th>protein_id</th>\n",
       "      <th>mutation_id</th>\n",
       "      <th>mutation</th>\n",
       "      <th>msa_count_wt</th>\n",
       "      <th>msa_count_mut</th>\n",
       "      <th>msa_count_total</th>\n",
       "      <th>msa_proba_wt</th>\n",
       "      <th>msa_proba_mut</th>\n",
       "      <th>msa_proba_total</th>\n",
       "      <th>msa_length</th>\n",
       "      <th>msa_proba</th>\n",
       "      <th>msa_H</th>\n",
       "      <th>msa_KL</th>\n",
       "    </tr>\n",
       "  </thead>\n",
       "  <tbody>\n",
       "    <tr>\n",
       "      <th>0</th>\n",
       "      <td>P26678</td>\n",
       "      <td>NM_002667.3:c.25C&gt;T</td>\n",
       "      <td>R9C</td>\n",
       "      <td>87.0</td>\n",
       "      <td>0.0</td>\n",
       "      <td>100.0</td>\n",
       "      <td>-0.310155</td>\n",
       "      <td>-4.787492</td>\n",
       "      <td>-88.633441</td>\n",
       "      <td>101</td>\n",
       "      <td>-0.536553</td>\n",
       "      <td>0.326639</td>\n",
       "      <td>2.625994</td>\n",
       "    </tr>\n",
       "    <tr>\n",
       "      <th>1</th>\n",
       "      <td>P26678</td>\n",
       "      <td>NM_002667.3:c.22A&gt;C</td>\n",
       "      <td>T8P</td>\n",
       "      <td>95.0</td>\n",
       "      <td>0.0</td>\n",
       "      <td>100.0</td>\n",
       "      <td>-0.223144</td>\n",
       "      <td>-4.787492</td>\n",
       "      <td>-89.393727</td>\n",
       "      <td>101</td>\n",
       "      <td>-0.536553</td>\n",
       "      <td>0.074447</td>\n",
       "      <td>2.917469</td>\n",
       "    </tr>\n",
       "  </tbody>\n",
       "</table>\n",
       "</div>"
      ],
      "text/plain": [
       "  protein_id          mutation_id mutation  msa_count_wt  msa_count_mut  \\\n",
       "0     P26678  NM_002667.3:c.25C>T      R9C          87.0            0.0   \n",
       "1     P26678  NM_002667.3:c.22A>C      T8P          95.0            0.0   \n",
       "\n",
       "   msa_count_total  msa_proba_wt  msa_proba_mut  msa_proba_total  msa_length  \\\n",
       "0            100.0     -0.310155      -4.787492       -88.633441         101   \n",
       "1            100.0     -0.223144      -4.787492       -89.393727         101   \n",
       "\n",
       "   msa_proba     msa_H    msa_KL  \n",
       "0  -0.536553  0.326639  2.625994  \n",
       "1  -0.536553  0.074447  2.917469  "
      ]
     },
     "metadata": {},
     "output_type": "display_data"
    },
    {
     "name": "stdout",
     "output_type": "stream",
     "text": [
      "221793\n"
     ]
    }
   ],
   "source": [
    "display(result_msa_df.head(2))\n",
    "print(len(result_msa_df))  # 221793"
   ]
  },
  {
   "cell_type": "markdown",
   "id": "deb93d6e-709e-4626-94c2-0682761dc9ad",
   "metadata": {},
   "source": [
    "### AlphaFold"
   ]
  },
  {
   "cell_type": "code",
   "execution_count": 26,
   "id": "9cc3de71-10ee-4d03-9b33-651bf61dceb1",
   "metadata": {},
   "outputs": [],
   "source": [
    "af_result_dir = NOTEBOOK_DIR.parent.joinpath(\"31_run_alphafold\", DATASET_NAME)"
   ]
  },
  {
   "cell_type": "code",
   "execution_count": 27,
   "id": "09bbe191-115b-49cc-a385-6dac64415ebf",
   "metadata": {},
   "outputs": [
    {
     "data": {
      "application/vnd.jupyter.widget-view+json": {
       "model_id": "333416f953d4465081016c2b22950a10",
       "version_major": 2,
       "version_minor": 0
      },
      "text/plain": [
       "HBox(children=(HTML(value=''), FloatProgress(value=0.0, max=4182.0), HTML(value='')))"
      ]
     },
     "metadata": {},
     "output_type": "display_data"
    },
    {
     "name": "stdout",
     "output_type": "stream",
     "text": [
      "\n"
     ]
    },
    {
     "data": {
      "text/plain": [
       "(4182, 0)"
      ]
     },
     "execution_count": 27,
     "metadata": {},
     "output_type": "execute_result"
    }
   ],
   "source": [
    "present_files, missing_files = get_result_files(af_result_dir)\n",
    "\n",
    "len(present_files), len(missing_files)"
   ]
  },
  {
   "cell_type": "code",
   "execution_count": 28,
   "id": "a8a9b964-b13c-4c52-b063-c26c8ac70efe",
   "metadata": {},
   "outputs": [
    {
     "data": {
      "application/vnd.jupyter.widget-view+json": {
       "model_id": "39e12e0cc9aa4d01ba80c86e2942e22e",
       "version_major": 2,
       "version_minor": 0
      },
      "text/plain": [
       "HBox(children=(HTML(value=''), FloatProgress(value=0.0, max=4182.0), HTML(value='')))"
      ]
     },
     "metadata": {},
     "output_type": "display_data"
    },
    {
     "name": "stdout",
     "output_type": "stream",
     "text": [
      "\n"
     ]
    }
   ],
   "source": [
    "result_af_df = read_files(present_files)"
   ]
  },
  {
   "cell_type": "code",
   "execution_count": 29,
   "id": "cc4d0bad-ada8-4f46-aeb6-560cd9e135d7",
   "metadata": {},
   "outputs": [
    {
     "data": {
      "text/html": [
       "<div>\n",
       "<style scoped>\n",
       "    .dataframe tbody tr th:only-of-type {\n",
       "        vertical-align: middle;\n",
       "    }\n",
       "\n",
       "    .dataframe tbody tr th {\n",
       "        vertical-align: top;\n",
       "    }\n",
       "\n",
       "    .dataframe thead th {\n",
       "        text-align: right;\n",
       "    }\n",
       "</style>\n",
       "<table border=\"1\" class=\"dataframe\">\n",
       "  <thead>\n",
       "    <tr style=\"text-align: right;\">\n",
       "      <th></th>\n",
       "      <th>protein_id</th>\n",
       "      <th>mutation</th>\n",
       "      <th>alphafold_core_score_plddt</th>\n",
       "      <th>alphafold_core_features_experimentally_resolved</th>\n",
       "      <th>alphafold_core_features_predicted_lddt</th>\n",
       "      <th>alphafold_core_features_msa_first_row</th>\n",
       "      <th>alphafold_core_features_single</th>\n",
       "      <th>alphafold_core_features_structure_module</th>\n",
       "      <th>alphafold_core_score_predicted_aligned_error_row_mean</th>\n",
       "      <th>alphafold_core_score_predicted_aligned_error_col_mean</th>\n",
       "      <th>alphafold_core_score_predicted_aligned_error_diag</th>\n",
       "      <th>alphafold_core_features_distogram_row_mean</th>\n",
       "      <th>alphafold_core_features_pair_row_mean</th>\n",
       "      <th>alphafold_core_features_distogram_row_max</th>\n",
       "      <th>alphafold_core_features_pair_row_max</th>\n",
       "      <th>alphafold_core_features_distogram_col_mean</th>\n",
       "      <th>alphafold_core_features_pair_col_mean</th>\n",
       "      <th>alphafold_core_features_distogram_col_max</th>\n",
       "      <th>alphafold_core_features_pair_col_max</th>\n",
       "      <th>alphafold_core_features_distogram_diag</th>\n",
       "      <th>alphafold_core_features_pair_diag</th>\n",
       "      <th>alphafold_core_score_msa_logproba_first_wt</th>\n",
       "      <th>alphafold_core_score_msa_logproba_first_mut</th>\n",
       "      <th>alphafold_core_score_msa_logproba_mean_wt</th>\n",
       "      <th>alphafold_core_score_msa_logproba_mean_mut</th>\n",
       "      <th>alphafold_core_score_msa_logproba_max_wt</th>\n",
       "      <th>alphafold_core_score_msa_logproba_max_mut</th>\n",
       "      <th>alphafold_core_features_msa_first</th>\n",
       "      <th>alphafold_core_features_msa_mean</th>\n",
       "      <th>alphafold_core_features_msa_max</th>\n",
       "    </tr>\n",
       "  </thead>\n",
       "  <tbody>\n",
       "    <tr>\n",
       "      <th>0</th>\n",
       "      <td>P26678</td>\n",
       "      <td>R9C</td>\n",
       "      <td>60.591231</td>\n",
       "      <td>[1.1957175, 1.2158396, 1.4719502, 1.0110891, 1...</td>\n",
       "      <td>[-6.112609, -7.1444016, -6.2029376, -5.485528,...</td>\n",
       "      <td>[-1.8621206, 4.2266498, -12.190193, 5.9252286,...</td>\n",
       "      <td>[19.881775, -7.916237, 24.432047, -24.314926, ...</td>\n",
       "      <td>[0.0069257915, 0.010214679, -0.0057431664, 0.0...</td>\n",
       "      <td>17.316183</td>\n",
       "      <td>15.080112</td>\n",
       "      <td>0.260079</td>\n",
       "      <td>[-4.09479360626294, -8.069414707330557, -8.000...</td>\n",
       "      <td>[2.7896990598394322, 10.789292047230097, -2.49...</td>\n",
       "      <td>[155.1204071044922, 2.5760769844055176, 3.8069...</td>\n",
       "      <td>[34.4866943359375, 747.40869140625, 18.8361473...</td>\n",
       "      <td>[-4.09479360626294, -8.069414707330557, -8.000...</td>\n",
       "      <td>[1.7381559366790147, 11.034781367159807, -4.02...</td>\n",
       "      <td>[155.1204071044922, 2.5760769844055176, 3.8069...</td>\n",
       "      <td>[34.4866943359375, 747.40869140625, 18.8361473...</td>\n",
       "      <td>[155.1204071044922, -9.181709289550781, -33.72...</td>\n",
       "      <td>[34.4866943359375, 747.40869140625, 18.8361473...</td>\n",
       "      <td>-0.002302</td>\n",
       "      <td>-9.826518</td>\n",
       "      <td>-1.083345</td>\n",
       "      <td>-4.675444</td>\n",
       "      <td>-0.000687</td>\n",
       "      <td>-3.604242</td>\n",
       "      <td>[0.6741787195205688, 3.8331971168518066, -18.1...</td>\n",
       "      <td>[-0.5440018840838136, -1.4893573264437399, -2....</td>\n",
       "      <td>[4.5283708572387695, 11.694952964782715, 5.611...</td>\n",
       "    </tr>\n",
       "    <tr>\n",
       "      <th>1</th>\n",
       "      <td>P26678</td>\n",
       "      <td>T8P</td>\n",
       "      <td>60.938517</td>\n",
       "      <td>[-0.9147486, -0.931573, -1.0168346, -1.1108581...</td>\n",
       "      <td>[-5.815353, -7.58807, -6.37847, -5.5572815, -4...</td>\n",
       "      <td>[5.016503, 6.580977, -4.220338, 2.137466, -4.0...</td>\n",
       "      <td>[3.3123631, 13.751325, 40.752693, -40.537956, ...</td>\n",
       "      <td>[0.0055783167, 0.006282449, -0.0057957303, 0.0...</td>\n",
       "      <td>18.275015</td>\n",
       "      <td>16.204138</td>\n",
       "      <td>0.250928</td>\n",
       "      <td>[-4.033567515703348, -7.808617578102992, -7.83...</td>\n",
       "      <td>[3.765430871110696, 9.19120905491022, -2.54373...</td>\n",
       "      <td>[156.63250732421875, 2.5760769844055176, 3.806...</td>\n",
       "      <td>[51.281803131103516, 737.6687622070312, 13.462...</td>\n",
       "      <td>[-4.033567515703348, -7.808617578102992, -7.83...</td>\n",
       "      <td>[1.717591334420901, 9.950064335304956, -2.4488...</td>\n",
       "      <td>[156.63250732421875, 2.5760769844055176, 3.806...</td>\n",
       "      <td>[51.281803131103516, 737.6687622070312, 13.462...</td>\n",
       "      <td>[156.63250732421875, -7.953685283660889, -38.0...</td>\n",
       "      <td>[51.281803131103516, 737.6687622070312, 13.462...</td>\n",
       "      <td>-0.001565</td>\n",
       "      <td>-8.594054</td>\n",
       "      <td>-1.364722</td>\n",
       "      <td>-4.070019</td>\n",
       "      <td>-0.000725</td>\n",
       "      <td>-3.079609</td>\n",
       "      <td>[7.693594932556152, 13.351690292358398, -8.099...</td>\n",
       "      <td>[-0.5604841870175102, -0.5929731388730327, -1....</td>\n",
       "      <td>[7.693594932556152, 13.933950424194336, 2.5906...</td>\n",
       "    </tr>\n",
       "  </tbody>\n",
       "</table>\n",
       "</div>"
      ],
      "text/plain": [
       "  protein_id mutation  alphafold_core_score_plddt  \\\n",
       "0     P26678      R9C                   60.591231   \n",
       "1     P26678      T8P                   60.938517   \n",
       "\n",
       "     alphafold_core_features_experimentally_resolved  \\\n",
       "0  [1.1957175, 1.2158396, 1.4719502, 1.0110891, 1...   \n",
       "1  [-0.9147486, -0.931573, -1.0168346, -1.1108581...   \n",
       "\n",
       "              alphafold_core_features_predicted_lddt  \\\n",
       "0  [-6.112609, -7.1444016, -6.2029376, -5.485528,...   \n",
       "1  [-5.815353, -7.58807, -6.37847, -5.5572815, -4...   \n",
       "\n",
       "               alphafold_core_features_msa_first_row  \\\n",
       "0  [-1.8621206, 4.2266498, -12.190193, 5.9252286,...   \n",
       "1  [5.016503, 6.580977, -4.220338, 2.137466, -4.0...   \n",
       "\n",
       "                      alphafold_core_features_single  \\\n",
       "0  [19.881775, -7.916237, 24.432047, -24.314926, ...   \n",
       "1  [3.3123631, 13.751325, 40.752693, -40.537956, ...   \n",
       "\n",
       "            alphafold_core_features_structure_module  \\\n",
       "0  [0.0069257915, 0.010214679, -0.0057431664, 0.0...   \n",
       "1  [0.0055783167, 0.006282449, -0.0057957303, 0.0...   \n",
       "\n",
       "   alphafold_core_score_predicted_aligned_error_row_mean  \\\n",
       "0                                          17.316183       \n",
       "1                                          18.275015       \n",
       "\n",
       "   alphafold_core_score_predicted_aligned_error_col_mean  \\\n",
       "0                                          15.080112       \n",
       "1                                          16.204138       \n",
       "\n",
       "   alphafold_core_score_predicted_aligned_error_diag  \\\n",
       "0                                           0.260079   \n",
       "1                                           0.250928   \n",
       "\n",
       "          alphafold_core_features_distogram_row_mean  \\\n",
       "0  [-4.09479360626294, -8.069414707330557, -8.000...   \n",
       "1  [-4.033567515703348, -7.808617578102992, -7.83...   \n",
       "\n",
       "               alphafold_core_features_pair_row_mean  \\\n",
       "0  [2.7896990598394322, 10.789292047230097, -2.49...   \n",
       "1  [3.765430871110696, 9.19120905491022, -2.54373...   \n",
       "\n",
       "           alphafold_core_features_distogram_row_max  \\\n",
       "0  [155.1204071044922, 2.5760769844055176, 3.8069...   \n",
       "1  [156.63250732421875, 2.5760769844055176, 3.806...   \n",
       "\n",
       "                alphafold_core_features_pair_row_max  \\\n",
       "0  [34.4866943359375, 747.40869140625, 18.8361473...   \n",
       "1  [51.281803131103516, 737.6687622070312, 13.462...   \n",
       "\n",
       "          alphafold_core_features_distogram_col_mean  \\\n",
       "0  [-4.09479360626294, -8.069414707330557, -8.000...   \n",
       "1  [-4.033567515703348, -7.808617578102992, -7.83...   \n",
       "\n",
       "               alphafold_core_features_pair_col_mean  \\\n",
       "0  [1.7381559366790147, 11.034781367159807, -4.02...   \n",
       "1  [1.717591334420901, 9.950064335304956, -2.4488...   \n",
       "\n",
       "           alphafold_core_features_distogram_col_max  \\\n",
       "0  [155.1204071044922, 2.5760769844055176, 3.8069...   \n",
       "1  [156.63250732421875, 2.5760769844055176, 3.806...   \n",
       "\n",
       "                alphafold_core_features_pair_col_max  \\\n",
       "0  [34.4866943359375, 747.40869140625, 18.8361473...   \n",
       "1  [51.281803131103516, 737.6687622070312, 13.462...   \n",
       "\n",
       "              alphafold_core_features_distogram_diag  \\\n",
       "0  [155.1204071044922, -9.181709289550781, -33.72...   \n",
       "1  [156.63250732421875, -7.953685283660889, -38.0...   \n",
       "\n",
       "                   alphafold_core_features_pair_diag  \\\n",
       "0  [34.4866943359375, 747.40869140625, 18.8361473...   \n",
       "1  [51.281803131103516, 737.6687622070312, 13.462...   \n",
       "\n",
       "   alphafold_core_score_msa_logproba_first_wt  \\\n",
       "0                                   -0.002302   \n",
       "1                                   -0.001565   \n",
       "\n",
       "   alphafold_core_score_msa_logproba_first_mut  \\\n",
       "0                                    -9.826518   \n",
       "1                                    -8.594054   \n",
       "\n",
       "   alphafold_core_score_msa_logproba_mean_wt  \\\n",
       "0                                  -1.083345   \n",
       "1                                  -1.364722   \n",
       "\n",
       "   alphafold_core_score_msa_logproba_mean_mut  \\\n",
       "0                                   -4.675444   \n",
       "1                                   -4.070019   \n",
       "\n",
       "   alphafold_core_score_msa_logproba_max_wt  \\\n",
       "0                                 -0.000687   \n",
       "1                                 -0.000725   \n",
       "\n",
       "   alphafold_core_score_msa_logproba_max_mut  \\\n",
       "0                                  -3.604242   \n",
       "1                                  -3.079609   \n",
       "\n",
       "                   alphafold_core_features_msa_first  \\\n",
       "0  [0.6741787195205688, 3.8331971168518066, -18.1...   \n",
       "1  [7.693594932556152, 13.351690292358398, -8.099...   \n",
       "\n",
       "                    alphafold_core_features_msa_mean  \\\n",
       "0  [-0.5440018840838136, -1.4893573264437399, -2....   \n",
       "1  [-0.5604841870175102, -0.5929731388730327, -1....   \n",
       "\n",
       "                     alphafold_core_features_msa_max  \n",
       "0  [4.5283708572387695, 11.694952964782715, 5.611...  \n",
       "1  [7.693594932556152, 13.933950424194336, 2.5906...  "
      ]
     },
     "metadata": {},
     "output_type": "display_data"
    },
    {
     "name": "stdout",
     "output_type": "stream",
     "text": [
      "149652\n"
     ]
    }
   ],
   "source": [
    "display(result_af_df.head(2))\n",
    "print(len(result_af_df))  # 149652"
   ]
  },
  {
   "cell_type": "markdown",
   "id": "0465229e-f586-4efd-bb19-f2d07ca10906",
   "metadata": {},
   "source": [
    "## Combine results"
   ]
  },
  {
   "cell_type": "code",
   "execution_count": 30,
   "id": "59bac9ef-c7e0-4fff-b599-61dbb8362de5",
   "metadata": {},
   "outputs": [
    {
     "data": {
      "text/plain": [
       "True"
      ]
     },
     "execution_count": 30,
     "metadata": {},
     "output_type": "execute_result"
    }
   ],
   "source": [
    "len(result_ps_df) == len(result_ps_df[\"mutation_id\"].unique())"
   ]
  },
  {
   "cell_type": "code",
   "execution_count": 31,
   "id": "7cbdb513-664c-4221-8d2d-b606a2d76975",
   "metadata": {},
   "outputs": [],
   "source": [
    "result_df = (\n",
    "    result_ps_df.merge(\n",
    "        result_pb_df, on=[\"protein_id\", \"mutation\", \"mutation_id\", \"effect\"], how=\"left\"\n",
    "    )\n",
    "    .merge(\n",
    "        result_ra_df, on=[\"protein_id\", \"mutation\", \"mutation_id\", \"effect\"], how=\"left\"\n",
    "    )\n",
    "    .merge(result_msa_df, on=[\"protein_id\", \"mutation\", \"mutation_id\"], how=\"left\")\n",
    "    .merge(\n",
    "        result_af_df.drop_duplicates(subset=[\"protein_id\", \"mutation\"]),\n",
    "        on=[\"protein_id\", \"mutation\"],\n",
    "        how=\"left\",\n",
    "    )\n",
    ")\n",
    "\n",
    "# assert len(result_df) == len(result_df[\"mutation_id\"].unique())\n",
    "assert not (\n",
    "    set(result_ps_df[\"mutation_id\"])\n",
    "    | set(result_pb_df[\"mutation_id\"])\n",
    "    | set(result_ra_df[\"mutation_id\"])\n",
    "    | set(result_msa_df[\"mutation_id\"])\n",
    "    # | set(result_af_df[\"mutation_id\"])\n",
    ") - set(result_df[\"mutation_id\"])"
   ]
  },
  {
   "cell_type": "code",
   "execution_count": 32,
   "id": "dea8c722-b788-4c4e-a6b6-765a292c2b54",
   "metadata": {},
   "outputs": [
    {
     "data": {
      "text/html": [
       "<div>\n",
       "<style scoped>\n",
       "    .dataframe tbody tr th:only-of-type {\n",
       "        vertical-align: middle;\n",
       "    }\n",
       "\n",
       "    .dataframe tbody tr th {\n",
       "        vertical-align: top;\n",
       "    }\n",
       "\n",
       "    .dataframe thead th {\n",
       "        text-align: right;\n",
       "    }\n",
       "</style>\n",
       "<table border=\"1\" class=\"dataframe\">\n",
       "  <thead>\n",
       "    <tr style=\"text-align: right;\">\n",
       "      <th></th>\n",
       "      <th>protein_id</th>\n",
       "      <th>mutation</th>\n",
       "      <th>mutation_id</th>\n",
       "      <th>effect</th>\n",
       "      <th>proteinsolver_core_score_wt</th>\n",
       "      <th>proteinsolver_core_score_mut</th>\n",
       "      <th>proteinsolver_core_features_residue_wt</th>\n",
       "      <th>proteinsolver_core_features_protein_wt</th>\n",
       "      <th>proteinsolver_core_features_residue_mut</th>\n",
       "      <th>proteinsolver_core_features_protein_mut</th>\n",
       "      <th>protbert_core_score_wt</th>\n",
       "      <th>protbert_core_score_mut</th>\n",
       "      <th>protbert_core_features_residue_wt</th>\n",
       "      <th>protbert_core_features_protein_wt</th>\n",
       "      <th>protbert_core_features_residue_mut</th>\n",
       "      <th>protbert_core_features_protein_mut</th>\n",
       "      <th>rosetta_cart_bonded_wt</th>\n",
       "      <th>rosetta_rama_prepro_wt</th>\n",
       "      <th>rosetta_ref_wt</th>\n",
       "      <th>rosetta_hxl_tors_wt</th>\n",
       "      <th>rosetta_p_aa_pp_wt</th>\n",
       "      <th>rosetta_fa_dun_semi_wt</th>\n",
       "      <th>rosetta_fa_dun_rot_wt</th>\n",
       "      <th>rosetta_fa_dun_dev_wt</th>\n",
       "      <th>rosetta_omega_wt</th>\n",
       "      <th>rosetta_dslf_fa13_wt</th>\n",
       "      <th>rosetta_hbond_sc_wt</th>\n",
       "      <th>rosetta_hbond_bb_sc_wt</th>\n",
       "      <th>rosetta_hbond_lr_bb_wt</th>\n",
       "      <th>rosetta_hbond_sr_bb_wt</th>\n",
       "      <th>rosetta_fa_intra_elec_wt</th>\n",
       "      <th>rosetta_fa_elec_wt</th>\n",
       "      <th>rosetta_lk_ball_bridge_uncpl_wt</th>\n",
       "      <th>rosetta_lk_ball_bridge_wt</th>\n",
       "      <th>rosetta_lk_ball_iso_wt</th>\n",
       "      <th>rosetta_lk_ball_wt</th>\n",
       "      <th>rosetta_fa_intra_sol_xover4_wt</th>\n",
       "      <th>rosetta_fa_intra_rep_xover4_wt</th>\n",
       "      <th>rosetta_fa_intra_atr_xover4_wt</th>\n",
       "      <th>rosetta_fa_sol_wt</th>\n",
       "      <th>rosetta_fa_rep_wt</th>\n",
       "      <th>rosetta_fa_atr_wt</th>\n",
       "      <th>rosetta_dg_wt</th>\n",
       "      <th>rosetta_cart_bonded_change</th>\n",
       "      <th>rosetta_rama_prepro_change</th>\n",
       "      <th>rosetta_ref_change</th>\n",
       "      <th>rosetta_hxl_tors_change</th>\n",
       "      <th>rosetta_p_aa_pp_change</th>\n",
       "      <th>rosetta_fa_dun_semi_change</th>\n",
       "      <th>rosetta_fa_dun_rot_change</th>\n",
       "      <th>rosetta_fa_dun_dev_change</th>\n",
       "      <th>rosetta_omega_change</th>\n",
       "      <th>rosetta_dslf_fa13_change</th>\n",
       "      <th>rosetta_hbond_sc_change</th>\n",
       "      <th>rosetta_hbond_bb_sc_change</th>\n",
       "      <th>rosetta_hbond_lr_bb_change</th>\n",
       "      <th>rosetta_hbond_sr_bb_change</th>\n",
       "      <th>rosetta_fa_intra_elec_change</th>\n",
       "      <th>rosetta_fa_elec_change</th>\n",
       "      <th>rosetta_lk_ball_bridge_uncpl_change</th>\n",
       "      <th>rosetta_lk_ball_bridge_change</th>\n",
       "      <th>rosetta_lk_ball_iso_change</th>\n",
       "      <th>rosetta_lk_ball_change</th>\n",
       "      <th>rosetta_fa_intra_sol_xover4_change</th>\n",
       "      <th>rosetta_fa_intra_rep_xover4_change</th>\n",
       "      <th>rosetta_fa_intra_atr_xover4_change</th>\n",
       "      <th>rosetta_fa_sol_change</th>\n",
       "      <th>rosetta_fa_rep_change</th>\n",
       "      <th>rosetta_fa_atr_change</th>\n",
       "      <th>rosetta_dg_change</th>\n",
       "      <th>msa_count_wt</th>\n",
       "      <th>msa_count_mut</th>\n",
       "      <th>msa_count_total</th>\n",
       "      <th>msa_proba_wt</th>\n",
       "      <th>msa_proba_mut</th>\n",
       "      <th>msa_proba_total</th>\n",
       "      <th>msa_length</th>\n",
       "      <th>msa_proba</th>\n",
       "      <th>msa_H</th>\n",
       "      <th>msa_KL</th>\n",
       "      <th>alphafold_core_score_plddt</th>\n",
       "      <th>alphafold_core_features_experimentally_resolved</th>\n",
       "      <th>alphafold_core_features_predicted_lddt</th>\n",
       "      <th>alphafold_core_features_msa_first_row</th>\n",
       "      <th>alphafold_core_features_single</th>\n",
       "      <th>alphafold_core_features_structure_module</th>\n",
       "      <th>alphafold_core_score_predicted_aligned_error_row_mean</th>\n",
       "      <th>alphafold_core_score_predicted_aligned_error_col_mean</th>\n",
       "      <th>alphafold_core_score_predicted_aligned_error_diag</th>\n",
       "      <th>alphafold_core_features_distogram_row_mean</th>\n",
       "      <th>alphafold_core_features_pair_row_mean</th>\n",
       "      <th>alphafold_core_features_distogram_row_max</th>\n",
       "      <th>alphafold_core_features_pair_row_max</th>\n",
       "      <th>alphafold_core_features_distogram_col_mean</th>\n",
       "      <th>alphafold_core_features_pair_col_mean</th>\n",
       "      <th>alphafold_core_features_distogram_col_max</th>\n",
       "      <th>alphafold_core_features_pair_col_max</th>\n",
       "      <th>alphafold_core_features_distogram_diag</th>\n",
       "      <th>alphafold_core_features_pair_diag</th>\n",
       "      <th>alphafold_core_score_msa_logproba_first_wt</th>\n",
       "      <th>alphafold_core_score_msa_logproba_first_mut</th>\n",
       "      <th>alphafold_core_score_msa_logproba_mean_wt</th>\n",
       "      <th>alphafold_core_score_msa_logproba_mean_mut</th>\n",
       "      <th>alphafold_core_score_msa_logproba_max_wt</th>\n",
       "      <th>alphafold_core_score_msa_logproba_max_mut</th>\n",
       "      <th>alphafold_core_features_msa_first</th>\n",
       "      <th>alphafold_core_features_msa_mean</th>\n",
       "      <th>alphafold_core_features_msa_max</th>\n",
       "    </tr>\n",
       "  </thead>\n",
       "  <tbody>\n",
       "    <tr>\n",
       "      <th>0</th>\n",
       "      <td>P26678</td>\n",
       "      <td>R9C</td>\n",
       "      <td>NM_002667.3:c.25C&gt;T</td>\n",
       "      <td>Pathogenic</td>\n",
       "      <td>0.091593</td>\n",
       "      <td>0.003965</td>\n",
       "      <td>[0.48249053955078125, 0.24484702944755554, -0....</td>\n",
       "      <td>[-2.27313494682312, 0.6932704448699951, -0.195...</td>\n",
       "      <td>[-1.904166340827942, 1.0505309104919434, 0.088...</td>\n",
       "      <td>[-2.3197972774505615, 0.8016344308853149, -0.1...</td>\n",
       "      <td>0.068529</td>\n",
       "      <td>0.007849</td>\n",
       "      <td>[0.15305250883102417, -0.11011786758899689, 0....</td>\n",
       "      <td>[0.05504663661122322, -0.04564127326011658, 0....</td>\n",
       "      <td>[0.09072457253932953, -0.12460881471633911, 0....</td>\n",
       "      <td>[0.02796473540365696, -0.055114783346652985, 0...</td>\n",
       "      <td>34.796667</td>\n",
       "      <td>18.080333</td>\n",
       "      <td>13.08</td>\n",
       "      <td>5.875333</td>\n",
       "      <td>-4.878333</td>\n",
       "      <td>33.826333</td>\n",
       "      <td>30.420</td>\n",
       "      <td>37.201667</td>\n",
       "      <td>16.900333</td>\n",
       "      <td>0.0</td>\n",
       "      <td>0.0</td>\n",
       "      <td>-0.495</td>\n",
       "      <td>0.0</td>\n",
       "      <td>-46.239</td>\n",
       "      <td>-5.748</td>\n",
       "      <td>-96.294333</td>\n",
       "      <td>-1.515667</td>\n",
       "      <td>-0.220333</td>\n",
       "      <td>-145.437333</td>\n",
       "      <td>123.757667</td>\n",
       "      <td>12.501667</td>\n",
       "      <td>9.146667</td>\n",
       "      <td>-22.659333</td>\n",
       "      <td>279.312667</td>\n",
       "      <td>18.309</td>\n",
       "      <td>-311.028667</td>\n",
       "      <td>-1.308</td>\n",
       "      <td>-0.577667</td>\n",
       "      <td>0.614667</td>\n",
       "      <td>4.553</td>\n",
       "      <td>0.021333</td>\n",
       "      <td>0.376000</td>\n",
       "      <td>0.173000</td>\n",
       "      <td>-1.592000</td>\n",
       "      <td>-0.074667</td>\n",
       "      <td>-0.012667</td>\n",
       "      <td>0.0</td>\n",
       "      <td>0.000</td>\n",
       "      <td>0.495000</td>\n",
       "      <td>0.0</td>\n",
       "      <td>-0.011</td>\n",
       "      <td>-0.510333</td>\n",
       "      <td>0.204667</td>\n",
       "      <td>0.508667</td>\n",
       "      <td>0.040</td>\n",
       "      <td>1.679</td>\n",
       "      <td>-0.050333</td>\n",
       "      <td>-0.104333</td>\n",
       "      <td>-0.147</td>\n",
       "      <td>0.325000</td>\n",
       "      <td>-4.542667</td>\n",
       "      <td>0.084667</td>\n",
       "      <td>2.215667</td>\n",
       "      <td>3.669</td>\n",
       "      <td>87.0</td>\n",
       "      <td>0.0</td>\n",
       "      <td>100.0</td>\n",
       "      <td>-0.310155</td>\n",
       "      <td>-4.787492</td>\n",
       "      <td>-88.633441</td>\n",
       "      <td>101.0</td>\n",
       "      <td>-0.536553</td>\n",
       "      <td>0.326639</td>\n",
       "      <td>2.625994</td>\n",
       "      <td>60.591231</td>\n",
       "      <td>[1.1957175, 1.2158396, 1.4719502, 1.0110891, 1...</td>\n",
       "      <td>[-6.112609, -7.1444016, -6.2029376, -5.485528,...</td>\n",
       "      <td>[-1.8621206, 4.2266498, -12.190193, 5.9252286,...</td>\n",
       "      <td>[19.881775, -7.916237, 24.432047, -24.314926, ...</td>\n",
       "      <td>[0.0069257915, 0.010214679, -0.0057431664, 0.0...</td>\n",
       "      <td>17.316183</td>\n",
       "      <td>15.080112</td>\n",
       "      <td>0.260079</td>\n",
       "      <td>[-4.09479360626294, -8.069414707330557, -8.000...</td>\n",
       "      <td>[2.7896990598394322, 10.789292047230097, -2.49...</td>\n",
       "      <td>[155.1204071044922, 2.5760769844055176, 3.8069...</td>\n",
       "      <td>[34.4866943359375, 747.40869140625, 18.8361473...</td>\n",
       "      <td>[-4.09479360626294, -8.069414707330557, -8.000...</td>\n",
       "      <td>[1.7381559366790147, 11.034781367159807, -4.02...</td>\n",
       "      <td>[155.1204071044922, 2.5760769844055176, 3.8069...</td>\n",
       "      <td>[34.4866943359375, 747.40869140625, 18.8361473...</td>\n",
       "      <td>[155.1204071044922, -9.181709289550781, -33.72...</td>\n",
       "      <td>[34.4866943359375, 747.40869140625, 18.8361473...</td>\n",
       "      <td>-0.002302</td>\n",
       "      <td>-9.826518</td>\n",
       "      <td>-1.083345</td>\n",
       "      <td>-4.675444</td>\n",
       "      <td>-0.000687</td>\n",
       "      <td>-3.604242</td>\n",
       "      <td>[0.6741787195205688, 3.8331971168518066, -18.1...</td>\n",
       "      <td>[-0.5440018840838136, -1.4893573264437399, -2....</td>\n",
       "      <td>[4.5283708572387695, 11.694952964782715, 5.611...</td>\n",
       "    </tr>\n",
       "    <tr>\n",
       "      <th>1</th>\n",
       "      <td>P26678</td>\n",
       "      <td>T8P</td>\n",
       "      <td>NM_002667.3:c.22A&gt;C</td>\n",
       "      <td>Uncertain significance</td>\n",
       "      <td>0.041601</td>\n",
       "      <td>0.000594</td>\n",
       "      <td>[2.043767213821411, 0.9361261129379272, -0.415...</td>\n",
       "      <td>[-2.27313494682312, 0.6932705044746399, -0.195...</td>\n",
       "      <td>[0.12865065038204193, 0.6873304843902588, 2.20...</td>\n",
       "      <td>[-2.2835092544555664, 0.6785972118377686, -0.1...</td>\n",
       "      <td>0.062104</td>\n",
       "      <td>0.027220</td>\n",
       "      <td>[0.056363195180892944, -0.020384633913636208, ...</td>\n",
       "      <td>[0.05504663661122322, -0.04564127326011658, 0....</td>\n",
       "      <td>[0.03299185633659363, -0.007563109043985605, 0...</td>\n",
       "      <td>[0.04508848860859871, -0.052698392421007156, 0...</td>\n",
       "      <td>35.531000</td>\n",
       "      <td>17.849000</td>\n",
       "      <td>13.08</td>\n",
       "      <td>9.764000</td>\n",
       "      <td>-5.052000</td>\n",
       "      <td>33.549000</td>\n",
       "      <td>30.357</td>\n",
       "      <td>43.524000</td>\n",
       "      <td>16.889000</td>\n",
       "      <td>0.0</td>\n",
       "      <td>0.0</td>\n",
       "      <td>-0.743</td>\n",
       "      <td>0.0</td>\n",
       "      <td>-45.885</td>\n",
       "      <td>-4.684</td>\n",
       "      <td>-97.176000</td>\n",
       "      <td>-1.163000</td>\n",
       "      <td>-0.196000</td>\n",
       "      <td>-144.679000</td>\n",
       "      <td>123.189000</td>\n",
       "      <td>12.223000</td>\n",
       "      <td>9.169000</td>\n",
       "      <td>-22.419000</td>\n",
       "      <td>278.164000</td>\n",
       "      <td>18.065</td>\n",
       "      <td>-310.411000</td>\n",
       "      <td>8.945</td>\n",
       "      <td>12.124333</td>\n",
       "      <td>2.623000</td>\n",
       "      <td>-3.697</td>\n",
       "      <td>-2.731667</td>\n",
       "      <td>0.545667</td>\n",
       "      <td>1.057667</td>\n",
       "      <td>0.810667</td>\n",
       "      <td>0.199333</td>\n",
       "      <td>1.852333</td>\n",
       "      <td>0.0</td>\n",
       "      <td>-1.577</td>\n",
       "      <td>0.007667</td>\n",
       "      <td>0.0</td>\n",
       "      <td>1.358</td>\n",
       "      <td>0.671000</td>\n",
       "      <td>1.583667</td>\n",
       "      <td>0.171667</td>\n",
       "      <td>0.014</td>\n",
       "      <td>0.872</td>\n",
       "      <td>0.017000</td>\n",
       "      <td>-0.134000</td>\n",
       "      <td>-0.100</td>\n",
       "      <td>0.435333</td>\n",
       "      <td>-1.319333</td>\n",
       "      <td>6.835000</td>\n",
       "      <td>-1.977333</td>\n",
       "      <td>19.644</td>\n",
       "      <td>95.0</td>\n",
       "      <td>0.0</td>\n",
       "      <td>100.0</td>\n",
       "      <td>-0.223144</td>\n",
       "      <td>-4.787492</td>\n",
       "      <td>-89.393727</td>\n",
       "      <td>101.0</td>\n",
       "      <td>-0.536553</td>\n",
       "      <td>0.074447</td>\n",
       "      <td>2.917469</td>\n",
       "      <td>60.938517</td>\n",
       "      <td>[-0.9147486, -0.931573, -1.0168346, -1.1108581...</td>\n",
       "      <td>[-5.815353, -7.58807, -6.37847, -5.5572815, -4...</td>\n",
       "      <td>[5.016503, 6.580977, -4.220338, 2.137466, -4.0...</td>\n",
       "      <td>[3.3123631, 13.751325, 40.752693, -40.537956, ...</td>\n",
       "      <td>[0.0055783167, 0.006282449, -0.0057957303, 0.0...</td>\n",
       "      <td>18.275015</td>\n",
       "      <td>16.204138</td>\n",
       "      <td>0.250928</td>\n",
       "      <td>[-4.033567515703348, -7.808617578102992, -7.83...</td>\n",
       "      <td>[3.765430871110696, 9.19120905491022, -2.54373...</td>\n",
       "      <td>[156.63250732421875, 2.5760769844055176, 3.806...</td>\n",
       "      <td>[51.281803131103516, 737.6687622070312, 13.462...</td>\n",
       "      <td>[-4.033567515703348, -7.808617578102992, -7.83...</td>\n",
       "      <td>[1.717591334420901, 9.950064335304956, -2.4488...</td>\n",
       "      <td>[156.63250732421875, 2.5760769844055176, 3.806...</td>\n",
       "      <td>[51.281803131103516, 737.6687622070312, 13.462...</td>\n",
       "      <td>[156.63250732421875, -7.953685283660889, -38.0...</td>\n",
       "      <td>[51.281803131103516, 737.6687622070312, 13.462...</td>\n",
       "      <td>-0.001565</td>\n",
       "      <td>-8.594054</td>\n",
       "      <td>-1.364722</td>\n",
       "      <td>-4.070019</td>\n",
       "      <td>-0.000725</td>\n",
       "      <td>-3.079609</td>\n",
       "      <td>[7.693594932556152, 13.351690292358398, -8.099...</td>\n",
       "      <td>[-0.5604841870175102, -0.5929731388730327, -1....</td>\n",
       "      <td>[7.693594932556152, 13.933950424194336, 2.5906...</td>\n",
       "    </tr>\n",
       "  </tbody>\n",
       "</table>\n",
       "</div>"
      ],
      "text/plain": [
       "  protein_id mutation          mutation_id                  effect  \\\n",
       "0     P26678      R9C  NM_002667.3:c.25C>T              Pathogenic   \n",
       "1     P26678      T8P  NM_002667.3:c.22A>C  Uncertain significance   \n",
       "\n",
       "   proteinsolver_core_score_wt  proteinsolver_core_score_mut  \\\n",
       "0                     0.091593                      0.003965   \n",
       "1                     0.041601                      0.000594   \n",
       "\n",
       "              proteinsolver_core_features_residue_wt  \\\n",
       "0  [0.48249053955078125, 0.24484702944755554, -0....   \n",
       "1  [2.043767213821411, 0.9361261129379272, -0.415...   \n",
       "\n",
       "              proteinsolver_core_features_protein_wt  \\\n",
       "0  [-2.27313494682312, 0.6932704448699951, -0.195...   \n",
       "1  [-2.27313494682312, 0.6932705044746399, -0.195...   \n",
       "\n",
       "             proteinsolver_core_features_residue_mut  \\\n",
       "0  [-1.904166340827942, 1.0505309104919434, 0.088...   \n",
       "1  [0.12865065038204193, 0.6873304843902588, 2.20...   \n",
       "\n",
       "             proteinsolver_core_features_protein_mut  protbert_core_score_wt  \\\n",
       "0  [-2.3197972774505615, 0.8016344308853149, -0.1...                0.068529   \n",
       "1  [-2.2835092544555664, 0.6785972118377686, -0.1...                0.062104   \n",
       "\n",
       "   protbert_core_score_mut                  protbert_core_features_residue_wt  \\\n",
       "0                 0.007849  [0.15305250883102417, -0.11011786758899689, 0....   \n",
       "1                 0.027220  [0.056363195180892944, -0.020384633913636208, ...   \n",
       "\n",
       "                   protbert_core_features_protein_wt  \\\n",
       "0  [0.05504663661122322, -0.04564127326011658, 0....   \n",
       "1  [0.05504663661122322, -0.04564127326011658, 0....   \n",
       "\n",
       "                  protbert_core_features_residue_mut  \\\n",
       "0  [0.09072457253932953, -0.12460881471633911, 0....   \n",
       "1  [0.03299185633659363, -0.007563109043985605, 0...   \n",
       "\n",
       "                  protbert_core_features_protein_mut  rosetta_cart_bonded_wt  \\\n",
       "0  [0.02796473540365696, -0.055114783346652985, 0...               34.796667   \n",
       "1  [0.04508848860859871, -0.052698392421007156, 0...               35.531000   \n",
       "\n",
       "   rosetta_rama_prepro_wt  rosetta_ref_wt  rosetta_hxl_tors_wt  \\\n",
       "0               18.080333           13.08             5.875333   \n",
       "1               17.849000           13.08             9.764000   \n",
       "\n",
       "   rosetta_p_aa_pp_wt  rosetta_fa_dun_semi_wt  rosetta_fa_dun_rot_wt  \\\n",
       "0           -4.878333               33.826333                 30.420   \n",
       "1           -5.052000               33.549000                 30.357   \n",
       "\n",
       "   rosetta_fa_dun_dev_wt  rosetta_omega_wt  rosetta_dslf_fa13_wt  \\\n",
       "0              37.201667         16.900333                   0.0   \n",
       "1              43.524000         16.889000                   0.0   \n",
       "\n",
       "   rosetta_hbond_sc_wt  rosetta_hbond_bb_sc_wt  rosetta_hbond_lr_bb_wt  \\\n",
       "0                  0.0                  -0.495                     0.0   \n",
       "1                  0.0                  -0.743                     0.0   \n",
       "\n",
       "   rosetta_hbond_sr_bb_wt  rosetta_fa_intra_elec_wt  rosetta_fa_elec_wt  \\\n",
       "0                 -46.239                    -5.748          -96.294333   \n",
       "1                 -45.885                    -4.684          -97.176000   \n",
       "\n",
       "   rosetta_lk_ball_bridge_uncpl_wt  rosetta_lk_ball_bridge_wt  \\\n",
       "0                        -1.515667                  -0.220333   \n",
       "1                        -1.163000                  -0.196000   \n",
       "\n",
       "   rosetta_lk_ball_iso_wt  rosetta_lk_ball_wt  rosetta_fa_intra_sol_xover4_wt  \\\n",
       "0             -145.437333          123.757667                       12.501667   \n",
       "1             -144.679000          123.189000                       12.223000   \n",
       "\n",
       "   rosetta_fa_intra_rep_xover4_wt  rosetta_fa_intra_atr_xover4_wt  \\\n",
       "0                        9.146667                      -22.659333   \n",
       "1                        9.169000                      -22.419000   \n",
       "\n",
       "   rosetta_fa_sol_wt  rosetta_fa_rep_wt  rosetta_fa_atr_wt  rosetta_dg_wt  \\\n",
       "0         279.312667             18.309        -311.028667         -1.308   \n",
       "1         278.164000             18.065        -310.411000          8.945   \n",
       "\n",
       "   rosetta_cart_bonded_change  rosetta_rama_prepro_change  rosetta_ref_change  \\\n",
       "0                   -0.577667                    0.614667               4.553   \n",
       "1                   12.124333                    2.623000              -3.697   \n",
       "\n",
       "   rosetta_hxl_tors_change  rosetta_p_aa_pp_change  \\\n",
       "0                 0.021333                0.376000   \n",
       "1                -2.731667                0.545667   \n",
       "\n",
       "   rosetta_fa_dun_semi_change  rosetta_fa_dun_rot_change  \\\n",
       "0                    0.173000                  -1.592000   \n",
       "1                    1.057667                   0.810667   \n",
       "\n",
       "   rosetta_fa_dun_dev_change  rosetta_omega_change  rosetta_dslf_fa13_change  \\\n",
       "0                  -0.074667             -0.012667                       0.0   \n",
       "1                   0.199333              1.852333                       0.0   \n",
       "\n",
       "   rosetta_hbond_sc_change  rosetta_hbond_bb_sc_change  \\\n",
       "0                    0.000                    0.495000   \n",
       "1                   -1.577                    0.007667   \n",
       "\n",
       "   rosetta_hbond_lr_bb_change  rosetta_hbond_sr_bb_change  \\\n",
       "0                         0.0                      -0.011   \n",
       "1                         0.0                       1.358   \n",
       "\n",
       "   rosetta_fa_intra_elec_change  rosetta_fa_elec_change  \\\n",
       "0                     -0.510333                0.204667   \n",
       "1                      0.671000                1.583667   \n",
       "\n",
       "   rosetta_lk_ball_bridge_uncpl_change  rosetta_lk_ball_bridge_change  \\\n",
       "0                             0.508667                          0.040   \n",
       "1                             0.171667                          0.014   \n",
       "\n",
       "   rosetta_lk_ball_iso_change  rosetta_lk_ball_change  \\\n",
       "0                       1.679               -0.050333   \n",
       "1                       0.872                0.017000   \n",
       "\n",
       "   rosetta_fa_intra_sol_xover4_change  rosetta_fa_intra_rep_xover4_change  \\\n",
       "0                           -0.104333                              -0.147   \n",
       "1                           -0.134000                              -0.100   \n",
       "\n",
       "   rosetta_fa_intra_atr_xover4_change  rosetta_fa_sol_change  \\\n",
       "0                            0.325000              -4.542667   \n",
       "1                            0.435333              -1.319333   \n",
       "\n",
       "   rosetta_fa_rep_change  rosetta_fa_atr_change  rosetta_dg_change  \\\n",
       "0               0.084667               2.215667              3.669   \n",
       "1               6.835000              -1.977333             19.644   \n",
       "\n",
       "   msa_count_wt  msa_count_mut  msa_count_total  msa_proba_wt  msa_proba_mut  \\\n",
       "0          87.0            0.0            100.0     -0.310155      -4.787492   \n",
       "1          95.0            0.0            100.0     -0.223144      -4.787492   \n",
       "\n",
       "   msa_proba_total  msa_length  msa_proba     msa_H    msa_KL  \\\n",
       "0       -88.633441       101.0  -0.536553  0.326639  2.625994   \n",
       "1       -89.393727       101.0  -0.536553  0.074447  2.917469   \n",
       "\n",
       "   alphafold_core_score_plddt  \\\n",
       "0                   60.591231   \n",
       "1                   60.938517   \n",
       "\n",
       "     alphafold_core_features_experimentally_resolved  \\\n",
       "0  [1.1957175, 1.2158396, 1.4719502, 1.0110891, 1...   \n",
       "1  [-0.9147486, -0.931573, -1.0168346, -1.1108581...   \n",
       "\n",
       "              alphafold_core_features_predicted_lddt  \\\n",
       "0  [-6.112609, -7.1444016, -6.2029376, -5.485528,...   \n",
       "1  [-5.815353, -7.58807, -6.37847, -5.5572815, -4...   \n",
       "\n",
       "               alphafold_core_features_msa_first_row  \\\n",
       "0  [-1.8621206, 4.2266498, -12.190193, 5.9252286,...   \n",
       "1  [5.016503, 6.580977, -4.220338, 2.137466, -4.0...   \n",
       "\n",
       "                      alphafold_core_features_single  \\\n",
       "0  [19.881775, -7.916237, 24.432047, -24.314926, ...   \n",
       "1  [3.3123631, 13.751325, 40.752693, -40.537956, ...   \n",
       "\n",
       "            alphafold_core_features_structure_module  \\\n",
       "0  [0.0069257915, 0.010214679, -0.0057431664, 0.0...   \n",
       "1  [0.0055783167, 0.006282449, -0.0057957303, 0.0...   \n",
       "\n",
       "   alphafold_core_score_predicted_aligned_error_row_mean  \\\n",
       "0                                          17.316183       \n",
       "1                                          18.275015       \n",
       "\n",
       "   alphafold_core_score_predicted_aligned_error_col_mean  \\\n",
       "0                                          15.080112       \n",
       "1                                          16.204138       \n",
       "\n",
       "   alphafold_core_score_predicted_aligned_error_diag  \\\n",
       "0                                           0.260079   \n",
       "1                                           0.250928   \n",
       "\n",
       "          alphafold_core_features_distogram_row_mean  \\\n",
       "0  [-4.09479360626294, -8.069414707330557, -8.000...   \n",
       "1  [-4.033567515703348, -7.808617578102992, -7.83...   \n",
       "\n",
       "               alphafold_core_features_pair_row_mean  \\\n",
       "0  [2.7896990598394322, 10.789292047230097, -2.49...   \n",
       "1  [3.765430871110696, 9.19120905491022, -2.54373...   \n",
       "\n",
       "           alphafold_core_features_distogram_row_max  \\\n",
       "0  [155.1204071044922, 2.5760769844055176, 3.8069...   \n",
       "1  [156.63250732421875, 2.5760769844055176, 3.806...   \n",
       "\n",
       "                alphafold_core_features_pair_row_max  \\\n",
       "0  [34.4866943359375, 747.40869140625, 18.8361473...   \n",
       "1  [51.281803131103516, 737.6687622070312, 13.462...   \n",
       "\n",
       "          alphafold_core_features_distogram_col_mean  \\\n",
       "0  [-4.09479360626294, -8.069414707330557, -8.000...   \n",
       "1  [-4.033567515703348, -7.808617578102992, -7.83...   \n",
       "\n",
       "               alphafold_core_features_pair_col_mean  \\\n",
       "0  [1.7381559366790147, 11.034781367159807, -4.02...   \n",
       "1  [1.717591334420901, 9.950064335304956, -2.4488...   \n",
       "\n",
       "           alphafold_core_features_distogram_col_max  \\\n",
       "0  [155.1204071044922, 2.5760769844055176, 3.8069...   \n",
       "1  [156.63250732421875, 2.5760769844055176, 3.806...   \n",
       "\n",
       "                alphafold_core_features_pair_col_max  \\\n",
       "0  [34.4866943359375, 747.40869140625, 18.8361473...   \n",
       "1  [51.281803131103516, 737.6687622070312, 13.462...   \n",
       "\n",
       "              alphafold_core_features_distogram_diag  \\\n",
       "0  [155.1204071044922, -9.181709289550781, -33.72...   \n",
       "1  [156.63250732421875, -7.953685283660889, -38.0...   \n",
       "\n",
       "                   alphafold_core_features_pair_diag  \\\n",
       "0  [34.4866943359375, 747.40869140625, 18.8361473...   \n",
       "1  [51.281803131103516, 737.6687622070312, 13.462...   \n",
       "\n",
       "   alphafold_core_score_msa_logproba_first_wt  \\\n",
       "0                                   -0.002302   \n",
       "1                                   -0.001565   \n",
       "\n",
       "   alphafold_core_score_msa_logproba_first_mut  \\\n",
       "0                                    -9.826518   \n",
       "1                                    -8.594054   \n",
       "\n",
       "   alphafold_core_score_msa_logproba_mean_wt  \\\n",
       "0                                  -1.083345   \n",
       "1                                  -1.364722   \n",
       "\n",
       "   alphafold_core_score_msa_logproba_mean_mut  \\\n",
       "0                                   -4.675444   \n",
       "1                                   -4.070019   \n",
       "\n",
       "   alphafold_core_score_msa_logproba_max_wt  \\\n",
       "0                                 -0.000687   \n",
       "1                                 -0.000725   \n",
       "\n",
       "   alphafold_core_score_msa_logproba_max_mut  \\\n",
       "0                                  -3.604242   \n",
       "1                                  -3.079609   \n",
       "\n",
       "                   alphafold_core_features_msa_first  \\\n",
       "0  [0.6741787195205688, 3.8331971168518066, -18.1...   \n",
       "1  [7.693594932556152, 13.351690292358398, -8.099...   \n",
       "\n",
       "                    alphafold_core_features_msa_mean  \\\n",
       "0  [-0.5440018840838136, -1.4893573264437399, -2....   \n",
       "1  [-0.5604841870175102, -0.5929731388730327, -1....   \n",
       "\n",
       "                     alphafold_core_features_msa_max  \n",
       "0  [4.5283708572387695, 11.694952964782715, 5.611...  \n",
       "1  [7.693594932556152, 13.933950424194336, 2.5906...  "
      ]
     },
     "metadata": {},
     "output_type": "display_data"
    },
    {
     "name": "stdout",
     "output_type": "stream",
     "text": [
      "221816\n"
     ]
    }
   ],
   "source": [
    "display(result_df.head(2))\n",
    "print(len(result_df))"
   ]
  },
  {
   "cell_type": "markdown",
   "id": "cddb7066-98b9-43a5-a0a1-892e634114bd",
   "metadata": {},
   "source": [
    "## Calculate EL2 score"
   ]
  },
  {
   "cell_type": "code",
   "execution_count": 33,
   "id": "cd369701-3d1f-4b28-9f15-4b27cd07f1a0",
   "metadata": {},
   "outputs": [
    {
     "name": "stderr",
     "output_type": "stream",
     "text": [
      "/opt/conda/lib/python3.9/site-packages/sklearn/base.py:324: UserWarning: Trying to unpickle estimator PCA from version 0.23.2 when using version 1.0.1. This might lead to breaking code or invalid results. Use at your own risk. For more info please refer to:\n",
      "https://scikit-learn.org/stable/modules/model_persistence.html#security-maintainability-limitations\n",
      "  warnings.warn(\n",
      "Some weights of the model checkpoint at /gpfs/fs0/scratch/p/pmkim/strokach/workspace/elaspic2/src/elaspic2/plugins/protbert/data/prot_bert_bfd were not used when initializing BertModel: ['cls.predictions.transform.dense.weight', 'cls.predictions.decoder.weight', 'cls.predictions.transform.LayerNorm.weight', 'cls.seq_relationship.bias', 'cls.predictions.decoder.bias', 'cls.predictions.transform.dense.bias', 'cls.seq_relationship.weight', 'cls.predictions.bias', 'cls.predictions.transform.LayerNorm.bias']\n",
      "- This IS expected if you are initializing BertModel from the checkpoint of a model trained on another task or with another architecture (e.g. initializing a BertForSequenceClassification model from a BertForPreTraining model).\n",
      "- This IS NOT expected if you are initializing BertModel from the checkpoint of a model that you expect to be exactly identical (initializing a BertForSequenceClassification model from a BertForSequenceClassification model).\n"
     ]
    }
   ],
   "source": [
    "model = el2.ELASPIC2()"
   ]
  },
  {
   "cell_type": "code",
   "execution_count": 34,
   "id": "d90324e8-5fbe-43ca-8d78-275ff3b7dee3",
   "metadata": {},
   "outputs": [],
   "source": [
    "proteinsolver_columnms = [c for c in result_df if c.startswith(\"proteinsolver_core_score\")]\n",
    "protbert_columns = [c for c in result_df if c.startswith(\"protbert_core_\")]\n",
    "\n",
    "el2_missing = result_df[proteinsolver_columnms + protbert_columns].isnull().any(axis=1)\n",
    "result_df[\"el2_score\"] = np.nan\n",
    "result_df.loc[~el2_missing, \"el2_score\"] = model.predict_mutation_effect(\n",
    "    [\n",
    "        t._asdict()\n",
    "        for t in result_df.loc[~el2_missing, proteinsolver_columnms + protbert_columns].itertuples(\n",
    "            index=False\n",
    "        )\n",
    "    ]\n",
    ")"
   ]
  },
  {
   "cell_type": "markdown",
   "id": "f316f627-d657-430a-a432-ddd93fb2bc11",
   "metadata": {},
   "source": [
    "## Calculate deltas"
   ]
  },
  {
   "cell_type": "code",
   "execution_count": 35,
   "id": "5c95c4d7-caf7-476e-81ed-f15b8a9f54a8",
   "metadata": {},
   "outputs": [],
   "source": [
    "for column in list(result_df):\n",
    "    if not column.endswith(\"_mut\"):\n",
    "        continue\n",
    "\n",
    "    column_wt = column.removesuffix(\"_mut\") + \"_wt\"\n",
    "    if column_wt not in result_df:\n",
    "        print(column_wt)\n",
    "        continue\n",
    "\n",
    "    column_change = column.removesuffix(\"_mut\") + \"_change\"\n",
    "    result_df[column_change] = result_df[column_wt] - result_df[column]\n",
    "    del result_df[column]"
   ]
  },
  {
   "cell_type": "markdown",
   "id": "f88c45b8-5e0c-42fe-a95d-64d6e5095770",
   "metadata": {},
   "source": [
    "## Encode mutation"
   ]
  },
  {
   "cell_type": "code",
   "execution_count": 39,
   "id": "0e6101e8-39bb-4ed0-93af-597a2c2c3943",
   "metadata": {
    "tags": []
   },
   "outputs": [],
   "source": [
    "# For historic reasons, have to use analyze_msa.RESIDUE_ENCODING_WT/MUT\n",
    "result_df[\"aa_wt_onehot\"] = (\n",
    "    result_df[\"mutation\"].str[0].map(analyze_msa.RESIDUE_ENCODING_WT).apply(list)\n",
    ")\n",
    "result_df[\"aa_mut_onehot\"] = (\n",
    "    result_df[\"mutation\"].str[-1].map(analyze_msa.RESIDUE_ENCODING_MUT).apply(list)\n",
    ")"
   ]
  },
  {
   "cell_type": "markdown",
   "id": "c29a7d21-5741-4760-b479-fee62b605739",
   "metadata": {},
   "source": [
    "## Save results"
   ]
  },
  {
   "cell_type": "code",
   "execution_count": 40,
   "id": "7d60ef97-b7b4-4552-a430-47323cc0c5bf",
   "metadata": {},
   "outputs": [
    {
     "data": {
      "text/plain": [
       "PosixPath('/gpfs/fs0/scratch/p/pmkim/strokach/workspace/elaspic2-cagi6/notebooks/37_cagi6_sherloc_combine_results/combined-results.parquet')"
      ]
     },
     "execution_count": 40,
     "metadata": {},
     "output_type": "execute_result"
    }
   ],
   "source": [
    "output_file = NOTEBOOK_DIR.joinpath(\"combined-results.parquet\")\n",
    "\n",
    "output_file"
   ]
  },
  {
   "cell_type": "code",
   "execution_count": 44,
   "id": "1ec482cf-d23b-4678-ab92-cdd5093c2c06",
   "metadata": {},
   "outputs": [],
   "source": [
    "pq.write_table(\n",
    "    pa.Table.from_pandas(result_df, preserve_index=False),\n",
    "    output_file,\n",
    "    row_group_size=10_000,\n",
    ")"
   ]
  },
  {
   "cell_type": "markdown",
   "id": "ae87c286-d491-42d4-941d-606cde544d48",
   "metadata": {},
   "source": [
    "## Exploratory data analysis"
   ]
  },
  {
   "cell_type": "code",
   "execution_count": 45,
   "id": "e1374e04-eae5-47bb-b1b0-9aafc45782a0",
   "metadata": {},
   "outputs": [],
   "source": [
    "proteinsolver_columnms = [c for c in result_df if c.startswith(\"proteinsolver_\")]\n",
    "protbert_columns = [c for c in result_df if c.startswith(\"protbert_\")]\n",
    "rosetta_columns = [c for c in result_df if c.startswith(\"rosetta_\")]\n",
    "alphafold_columns = [c for c in result_df if c.startswith(\"alphafold_\")]"
   ]
  },
  {
   "cell_type": "code",
   "execution_count": 46,
   "id": "1448fdf8-4949-4e91-b6c2-0db0711b8ea4",
   "metadata": {},
   "outputs": [
    {
     "data": {
      "text/plain": [
       "Uncertain significance    147067\n",
       "Likely benign              11398\n",
       "Benign                      9730\n",
       "Pathogenic                  5834\n",
       "Likely pathogenic           2506\n",
       "Name: effect, dtype: int64"
      ]
     },
     "execution_count": 46,
     "metadata": {},
     "output_type": "execute_result"
    }
   ],
   "source": [
    "result_df[\"effect\"].value_counts()"
   ]
  },
  {
   "cell_type": "code",
   "execution_count": 47,
   "id": "4ea8e99e-ccd9-4c28-8613-c3bde79aefbe",
   "metadata": {},
   "outputs": [],
   "source": [
    "effect_map = {\n",
    "    \"Uncertain significance\": 0,\n",
    "    \"Likely benign\": -1,\n",
    "    \"Benign\": -2,\n",
    "    \"Likely pathogenic\": 1,\n",
    "    \"Pathogenic\": 2,\n",
    "}\n",
    "\n",
    "result_df[\"effect_score\"] = result_df[\"effect\"].map(effect_map)"
   ]
  },
  {
   "cell_type": "code",
   "execution_count": 48,
   "id": "eb146d6b-4dac-451b-8ed2-951a07d51a9c",
   "metadata": {},
   "outputs": [
    {
     "name": "stdout",
     "output_type": "stream",
     "text": [
      "el2_score 0.49557892905914896 0.8814311876677734\n",
      "alphafold_core_score_msa_logproba_mean_change 0.4922943323451078 0.8708063328930714\n",
      "protbert_core_score_change 0.4390844595318172 0.8371361580800298\n",
      "proteinsolver_core_score_change 0.29025871229091715 0.7209251071227658\n",
      "msa_KL 0.3591377596226278 0.7791974625509815\n",
      "rosetta_dg_change 0.2556056218845687 0.6961002397555018\n"
     ]
    }
   ],
   "source": [
    "score_columns = [\n",
    "    \"el2_score\",\n",
    "    \"alphafold_core_score_msa_logproba_mean_change\",\n",
    "    \"protbert_core_score_change\",\n",
    "    \"proteinsolver_core_score_change\",\n",
    "    \"msa_KL\",\n",
    "    \"rosetta_dg_change\",\n",
    "]\n",
    "\n",
    "df = result_df.dropna(subset=score_columns + [\"effect_score\"])\n",
    "df = df[df[\"effect_score\"] != 0].reset_index(drop=True)\n",
    "\n",
    "for col in score_columns:\n",
    "    corr = stats.spearmanr(df[\"effect_score\"], df[col])\n",
    "    auc = metrics.roc_auc_score(df[\"effect_score\"] > 0, df[col])\n",
    "    print(col, corr[0], auc)"
   ]
  },
  {
   "cell_type": "code",
   "execution_count": 49,
   "id": "3ea22035-6b3e-41f7-be20-c4ddaad83094",
   "metadata": {},
   "outputs": [
    {
     "name": "stdout",
     "output_type": "stream",
     "text": [
      "el2_score 23\n",
      "alphafold_core_score_msa_logproba_mean_change 134643\n",
      "protbert_core_score_change 23\n",
      "proteinsolver_core_score_change 0\n",
      "msa_KL 569\n",
      "rosetta_dg_change 714\n"
     ]
    }
   ],
   "source": [
    "score_columns = [\n",
    "    \"el2_score\",\n",
    "    \"alphafold_core_score_msa_logproba_mean_change\",\n",
    "    \"protbert_core_score_change\",\n",
    "    \"proteinsolver_core_score_change\",\n",
    "    \"msa_KL\",\n",
    "    \"rosetta_dg_change\",\n",
    "]\n",
    "\n",
    "for column in score_columns:\n",
    "    print(f\"{column} {result_df[column].isnull().sum()}\")"
   ]
  },
  {
   "cell_type": "code",
   "execution_count": null,
   "id": "de8f5ba3-9546-41c7-8b41-83e4f79c21d5",
   "metadata": {},
   "outputs": [],
   "source": []
  }
 ],
 "metadata": {
  "kernelspec": {
   "display_name": "Python 3 (ipykernel)",
   "language": "python",
   "name": "python3"
  },
  "language_info": {
   "codemirror_mode": {
    "name": "ipython",
    "version": 3
   },
   "file_extension": ".py",
   "mimetype": "text/x-python",
   "name": "python",
   "nbconvert_exporter": "python",
   "pygments_lexer": "ipython3",
   "version": "3.9.7"
  }
 },
 "nbformat": 4,
 "nbformat_minor": 5
}
