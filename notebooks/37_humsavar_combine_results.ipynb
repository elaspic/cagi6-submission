{
 "cells": [
  {
   "cell_type": "markdown",
   "id": "26c81e96-6b41-41fa-80a6-6360c482eb58",
   "metadata": {},
   "source": [
    "## Summary\n",
    "\n",
    "---"
   ]
  },
  {
   "cell_type": "markdown",
   "id": "ec276dec-6afa-4b57-bbfc-a11e04a8767e",
   "metadata": {},
   "source": [
    "## Imports"
   ]
  },
  {
   "cell_type": "code",
   "execution_count": 1,
   "id": "539f4edf-ca04-4bef-b5c9-a6d402f7570b",
   "metadata": {},
   "outputs": [
    {
     "name": "stderr",
     "output_type": "stream",
     "text": [
      "Warning: importing 'simtk.openmm' is deprecated.  Import 'openmm' instead.\n",
      "Matplotlib created a temporary config/cache directory at /tmp/matplotlib-1922apv4 because the default path (/home/p/pmkim/strokach/.config/matplotlib) is not a writable directory; it is highly recommended to set the MPLCONFIGDIR environment variable to a writable directory, in particular to speed up the import of Matplotlib and to better support multiprocessing.\n"
     ]
    }
   ],
   "source": [
    "import functools\n",
    "from pathlib import Path\n",
    "\n",
    "import elaspic2 as el2\n",
    "import matplotlib.pyplot as plt\n",
    "import numpy as np\n",
    "import pandas as pd\n",
    "import pyarrow as pa\n",
    "import pyarrow.parquet as pq\n",
    "from scipy import stats\n",
    "from sklearn import metrics, model_selection\n",
    "from tqdm.auto import tqdm"
   ]
  },
  {
   "cell_type": "code",
   "execution_count": 2,
   "id": "d08b0792-00b7-44be-9257-a554f95bd602",
   "metadata": {},
   "outputs": [],
   "source": [
    "pd.set_option(\"max_columns\", 1000)\n",
    "pd.set_option(\"max_rows\", 1000)"
   ]
  },
  {
   "cell_type": "markdown",
   "id": "5be0ca05-c038-414f-ba84-b2ae8013088b",
   "metadata": {},
   "source": [
    "## Parameters"
   ]
  },
  {
   "cell_type": "code",
   "execution_count": 3,
   "id": "10e1faee-9f6a-40d8-8819-272b1c9837bb",
   "metadata": {},
   "outputs": [
    {
     "data": {
      "text/plain": [
       "PosixPath('/gpfs/fs0/scratch/p/pmkim/strokach/workspace/elaspic2-cagi6/notebooks/37_humsavar_combine_results')"
      ]
     },
     "execution_count": 3,
     "metadata": {},
     "output_type": "execute_result"
    }
   ],
   "source": [
    "NOTEBOOK_DIR = Path(\"37_humsavar_combine_results\").resolve()\n",
    "NOTEBOOK_DIR.mkdir(exist_ok=True)\n",
    "\n",
    "NOTEBOOK_DIR"
   ]
  },
  {
   "cell_type": "markdown",
   "id": "fd00941b-a3df-48d4-864c-bef984a8cd3b",
   "metadata": {},
   "source": [
    "## Load results"
   ]
  },
  {
   "cell_type": "code",
   "execution_count": 4,
   "id": "0754bcaa-1b8d-49cd-9e98-a3d7c9b345b1",
   "metadata": {},
   "outputs": [
    {
     "data": {
      "text/plain": [
       "('humsavar',\n",
       " '/gpfs/fs0/scratch/p/pmkim/strokach/workspace/elaspic2-cagi6/notebooks/30_humsavar/humsavar-gby-protein.parquet',\n",
       " 612,\n",
       " 12557)"
      ]
     },
     "execution_count": 4,
     "metadata": {},
     "output_type": "execute_result"
    }
   ],
   "source": [
    "DATASET_NAME = \"humsavar\"\n",
    "DATASET_PATH = str(\n",
    "    NOTEBOOK_DIR.parent.joinpath(\"30_humsavar\", \"humsavar-gby-protein.parquet\")\n",
    ")\n",
    "DATASET_ALN_PATH = str(\n",
    "    NOTEBOOK_DIR.parent.joinpath(\"30_humsavar\", \"humsavar-gby-protein-waln.parquet\")\n",
    ")\n",
    "TASK_COUNT = 612\n",
    "TASK_COUNT_ALN = 12557\n",
    "\n",
    "DATASET_NAME, DATASET_PATH, TASK_COUNT, TASK_COUNT_ALN"
   ]
  },
  {
   "cell_type": "code",
   "execution_count": 5,
   "id": "fb72cdfd-ed3d-4831-a72c-10d5689037b7",
   "metadata": {},
   "outputs": [],
   "source": [
    "pfile = pq.ParquetFile(DATASET_PATH)\n",
    "\n",
    "assert TASK_COUNT == pfile.num_row_groups"
   ]
  },
  {
   "cell_type": "code",
   "execution_count": 6,
   "id": "e4ac4086-6cb1-43ea-ac59-2265adce065f",
   "metadata": {},
   "outputs": [
    {
     "data": {
      "application/vnd.jupyter.widget-view+json": {
       "model_id": "5d6d46f7d2a74de4816181f56d77ba65",
       "version_major": 2,
       "version_minor": 0
      },
      "text/plain": [
       "HBox(children=(HTML(value=''), FloatProgress(value=0.0, max=612.0), HTML(value='')))"
      ]
     },
     "metadata": {},
     "output_type": "display_data"
    },
    {
     "name": "stdout",
     "output_type": "stream",
     "text": [
      "\n"
     ]
    },
    {
     "data": {
      "text/plain": [
       "61179"
      ]
     },
     "execution_count": 6,
     "metadata": {},
     "output_type": "execute_result"
    }
   ],
   "source": [
    "total_num_mutations = 0\n",
    "for row_group in tqdm(range(pfile.num_row_groups)):\n",
    "    num_mutations = (\n",
    "        pfile.read_row_group(row_group, columns=[\"mutation\"])\n",
    "        .to_pandas()[\"mutation\"]\n",
    "        .str.len()\n",
    "        .sum()\n",
    "    )\n",
    "\n",
    "    total_num_mutations += num_mutations\n",
    "\n",
    "total_num_mutations"
   ]
  },
  {
   "cell_type": "code",
   "execution_count": 7,
   "id": "cceac8e2-bb94-4bc5-b560-4e05a78137e3",
   "metadata": {},
   "outputs": [],
   "source": [
    "pfile_aln = pq.ParquetFile(DATASET_ALN_PATH)\n",
    "\n",
    "assert TASK_COUNT_ALN == pfile_aln.num_row_groups"
   ]
  },
  {
   "cell_type": "code",
   "execution_count": 8,
   "id": "cfa86aeb-e6e9-48f7-88a0-55125155e27d",
   "metadata": {},
   "outputs": [
    {
     "data": {
      "application/vnd.jupyter.widget-view+json": {
       "model_id": "6728466c60a5454ba2579a29848d81ed",
       "version_major": 2,
       "version_minor": 0
      },
      "text/plain": [
       "HBox(children=(HTML(value=''), FloatProgress(value=0.0, max=12557.0), HTML(value='')))"
      ]
     },
     "metadata": {},
     "output_type": "display_data"
    },
    {
     "name": "stdout",
     "output_type": "stream",
     "text": [
      "\n"
     ]
    },
    {
     "data": {
      "text/plain": [
       "61174"
      ]
     },
     "execution_count": 8,
     "metadata": {},
     "output_type": "execute_result"
    }
   ],
   "source": [
    "total_num_aln_mutations = 0\n",
    "for row_group in tqdm(range(pfile_aln.num_row_groups)):\n",
    "    num_mutations = (\n",
    "        pfile_aln.read_row_group(row_group, columns=[\"mutation\"])\n",
    "        .to_pandas()[\"mutation\"]\n",
    "        .str.len()\n",
    "        .sum()\n",
    "    )\n",
    "\n",
    "    total_num_aln_mutations += num_mutations\n",
    "\n",
    "total_num_aln_mutations"
   ]
  },
  {
   "cell_type": "code",
   "execution_count": 9,
   "id": "545bb337-c239-4cfd-8449-5bd25f817ed2",
   "metadata": {},
   "outputs": [],
   "source": [
    "def get_result_files(result_dir, task_count=TASK_COUNT):\n",
    "    if \"msa_analysis\" in str(result_dir):\n",
    "        prefix = \"result\"\n",
    "    else:\n",
    "        prefix = \"shard\"\n",
    "\n",
    "    present_files = []\n",
    "    missing_files = []\n",
    "    for i in tqdm(range(1, task_count + 1)):\n",
    "        path = result_dir.joinpath(f\"{prefix}-{i}-of-{task_count}.parquet\")\n",
    "        if path.is_file():\n",
    "            present_files.append(path)\n",
    "        else:\n",
    "            missing_files.append(path)\n",
    "    return present_files, missing_files"
   ]
  },
  {
   "cell_type": "code",
   "execution_count": 28,
   "id": "d0dd8cea-7960-451e-8d48-7317169a0927",
   "metadata": {},
   "outputs": [],
   "source": [
    "def read_files(files, columns=None):\n",
    "    dfs = []\n",
    "    for file in tqdm(files):\n",
    "        try:\n",
    "            df = pq.read_table(file, columns=columns).to_pandas(integer_object_nulls=True)\n",
    "        except pa.ArrowInvalid as error:\n",
    "            print(error)\n",
    "            continue\n",
    "        dfs.append(df)\n",
    "    return pd.concat(dfs, ignore_index=True)"
   ]
  },
  {
   "cell_type": "code",
   "execution_count": 11,
   "id": "e0bc75e7-0d94-427f-baad-ac4930cde413",
   "metadata": {},
   "outputs": [],
   "source": [
    "def read_rosetta_files(pfile):\n",
    "    result_dfs = []\n",
    "    for task_id in tqdm(range(1, pfile.num_row_groups + 1)):\n",
    "        row = (\n",
    "            pfile.read_row_group(task_id - 1, columns=[\"protein_id\", \"mutation\"])\n",
    "            .to_pandas()\n",
    "            .iloc[0]\n",
    "        )\n",
    "\n",
    "        input_df = pd.DataFrame(\n",
    "            {\n",
    "                \"protein_id\": [row[\"protein_id\"]] * len(row[\"mutation\"]),\n",
    "                \"mutation\": row[\"mutation\"],\n",
    "            }\n",
    "        )\n",
    "\n",
    "        path = NOTEBOOK_DIR.parent.joinpath(\n",
    "            \"31_run_rosetta_ddg\",\n",
    "            DATASET_NAME,\n",
    "            f\"shard-{task_id}-of-{TASK_COUNT}.parquet\",\n",
    "        )\n",
    "        try:\n",
    "            rosetta_df = pq.read_table(path).to_pandas()\n",
    "        except pa.ArrowInvalid:\n",
    "            print(f\"Unreadable file for {path}\")\n",
    "            continue\n",
    "\n",
    "        if rosetta_df.empty:\n",
    "            print(f\"Empty file for {path}\")\n",
    "            continue\n",
    "\n",
    "        del rosetta_df[\"protein_id\"]\n",
    "\n",
    "        result_df = input_df.merge(rosetta_df, on=[\"mutation\"])\n",
    "        result_dfs.append(result_df)\n",
    "    return pd.concat(result_dfs, ignore_index=True)"
   ]
  },
  {
   "cell_type": "markdown",
   "id": "f1da2f21-5ac6-4625-b105-f7c8c18e972d",
   "metadata": {},
   "source": [
    "### ProteinSolver"
   ]
  },
  {
   "cell_type": "code",
   "execution_count": null,
   "id": "a9e0b109-1a03-41e7-ae1c-180b0e4a8519",
   "metadata": {},
   "outputs": [],
   "source": [
    "ps_result_dir = NOTEBOOK_DIR.parent.joinpath(\"31_run_proteinsolver\", DATASET_NAME)"
   ]
  },
  {
   "cell_type": "code",
   "execution_count": null,
   "id": "d7df3505-9e49-44d4-87fc-96389528bf28",
   "metadata": {},
   "outputs": [],
   "source": [
    "present_files, missing_files = get_result_files(ps_result_dir)\n",
    "\n",
    "assert len(missing_files) == 0\n",
    "len(present_files), len(missing_files)"
   ]
  },
  {
   "cell_type": "code",
   "execution_count": null,
   "id": "517c88ae-9dbf-41b5-8d34-7c5c55193370",
   "metadata": {},
   "outputs": [],
   "source": [
    "result_ps_df = read_files(present_files)"
   ]
  },
  {
   "cell_type": "code",
   "execution_count": null,
   "id": "5a4cc566-dfaf-4ca9-a810-339d0736cf2c",
   "metadata": {},
   "outputs": [],
   "source": [
    "display(result_ps_df.head(2))\n",
    "print(len(result_ps_df))\n",
    "\n",
    "assert len(result_ps_df) == total_num_mutations, len(result_ps_df)"
   ]
  },
  {
   "cell_type": "markdown",
   "id": "1f8e85e3-ffaf-4b61-be5a-9c800d3bbe24",
   "metadata": {},
   "source": [
    "### ProtBert"
   ]
  },
  {
   "cell_type": "code",
   "execution_count": null,
   "id": "3a8363be-9bb2-4918-8682-2101b54e590d",
   "metadata": {},
   "outputs": [],
   "source": [
    "pb_result_dir = NOTEBOOK_DIR.parent.joinpath(\"31_run_protbert\", DATASET_NAME)"
   ]
  },
  {
   "cell_type": "code",
   "execution_count": null,
   "id": "1bda80f9-16e6-4957-87ce-6ec33a83479e",
   "metadata": {},
   "outputs": [],
   "source": [
    "present_files, missing_files = get_result_files(pb_result_dir)\n",
    "\n",
    "assert len(missing_files) == 0\n",
    "len(present_files), len(missing_files)"
   ]
  },
  {
   "cell_type": "code",
   "execution_count": null,
   "id": "9b7ce3d1-68da-4dfb-a3ca-1422f81de4c8",
   "metadata": {},
   "outputs": [],
   "source": [
    "result_pb_df = read_files(present_files)"
   ]
  },
  {
   "cell_type": "code",
   "execution_count": null,
   "id": "adf074f9-a8c0-4b60-b045-1b7563178898",
   "metadata": {},
   "outputs": [],
   "source": [
    "display(result_pb_df.head(2))\n",
    "print(len(result_pb_df))\n",
    "\n",
    "assert len(result_pb_df) == total_num_mutations"
   ]
  },
  {
   "cell_type": "code",
   "execution_count": null,
   "id": "f7a24ec3-671a-43b5-bd67-0969422d52f8",
   "metadata": {},
   "outputs": [],
   "source": [
    "# proteinsolver_keys = set(result_ps_df[[\"protein_id\", \"mutation\"]].apply(tuple, axis=1))\n",
    "# protbert_keys = set(result_pb_df[[\"protein_id\", \"mutation\"]].apply(tuple, axis=1))\n",
    "# protbert_missing_keys = proteinsolver_keys - protbert_keys"
   ]
  },
  {
   "cell_type": "code",
   "execution_count": null,
   "id": "d26dc50d-a787-48cf-8008-3de529e5e7b5",
   "metadata": {},
   "outputs": [],
   "source": [
    "# missing_task_ids = []\n",
    "# for row_group in tqdm(range(pfile.num_row_groups)):\n",
    "#     df = pfile.read_row_group(\n",
    "#         row_group, columns=[\"uniprot_id\", \"mutation\"]\n",
    "#     ).to_pandas()[[\"uniprot_id\", \"mutation\"]]\n",
    "\n",
    "#     row_keys = set()\n",
    "#     for tup in df.itertuples():\n",
    "#         for mutation in tup.mutation:\n",
    "#             row_keys.add((tup.uniprot_id, mutation))\n",
    "\n",
    "#     if protbert_missing_keys & row_keys:\n",
    "#         missing_task_ids.append(row_group + 1)\n",
    "\n",
    "# missing_task_ids"
   ]
  },
  {
   "cell_type": "markdown",
   "id": "3ed2b62c-2085-45fa-b865-e22121fe726e",
   "metadata": {},
   "source": [
    "### Rosetta"
   ]
  },
  {
   "cell_type": "code",
   "execution_count": null,
   "id": "3a10c303-c1f4-4279-b508-f843a320c132",
   "metadata": {},
   "outputs": [],
   "source": [
    "ra_result_dir = NOTEBOOK_DIR.parent.joinpath(\"31_run_rosetta_ddg\", DATASET_NAME)"
   ]
  },
  {
   "cell_type": "code",
   "execution_count": null,
   "id": "c981bb3f-b208-4f16-98df-60849055b88b",
   "metadata": {},
   "outputs": [],
   "source": [
    "present_files, missing_files = get_result_files(ra_result_dir)\n",
    "\n",
    "assert len(missing_files) == 0\n",
    "len(present_files), len(missing_files)"
   ]
  },
  {
   "cell_type": "code",
   "execution_count": null,
   "id": "b9fc547f-18e1-49f4-b855-5d6122829e40",
   "metadata": {},
   "outputs": [],
   "source": [
    "result_ra_df = read_files(present_files)"
   ]
  },
  {
   "cell_type": "code",
   "execution_count": null,
   "id": "cfc2d0b2-07f9-44fb-a17d-f933b0d2ee8e",
   "metadata": {},
   "outputs": [],
   "source": [
    "display(result_ra_df.head(2))\n",
    "print(len(result_ra_df))\n",
    "\n",
    "assert len(result_ra_df) == total_num_mutations"
   ]
  },
  {
   "cell_type": "code",
   "execution_count": null,
   "id": "a2525b4a-f7de-4e74-b6fa-caeb214f1715",
   "metadata": {},
   "outputs": [],
   "source": [
    "# proteinsolver_keys = set(result_ps_df[[\"protein_id\", \"mutation\"]].apply(tuple, axis=1))\n",
    "# rosetta_keys = set(result_ra_df[[\"protein_id\", \"mutation\"]].apply(tuple, axis=1))\n",
    "# rosetta_missing_keys = proteinsolver_keys - rosetta_keys\n",
    "\n",
    "# assert not rosetta_missing_keys"
   ]
  },
  {
   "cell_type": "markdown",
   "id": "d2ed0cdf-3587-4a99-be53-a1a812d82267",
   "metadata": {},
   "source": [
    "### MSA"
   ]
  },
  {
   "cell_type": "code",
   "execution_count": null,
   "id": "740e9f7a-6fed-45d1-8bc0-a4b21c33f03d",
   "metadata": {},
   "outputs": [],
   "source": [
    "msa_result_dir = NOTEBOOK_DIR.parent.joinpath(\"31_run_msa_analysis\", DATASET_NAME)"
   ]
  },
  {
   "cell_type": "code",
   "execution_count": null,
   "id": "8eb4e4fc-2fe0-4d67-9411-c6e75b90ace6",
   "metadata": {},
   "outputs": [],
   "source": [
    "present_files, missing_files = get_result_files(msa_result_dir, TASK_COUNT_ALN)\n",
    "\n",
    "assert len(missing_files) == 0\n",
    "len(present_files), len(missing_files)"
   ]
  },
  {
   "cell_type": "code",
   "execution_count": null,
   "id": "9b1424e5-ca18-4002-9886-75dd8513bba0",
   "metadata": {},
   "outputs": [],
   "source": [
    "result_msa_df = read_files(present_files)"
   ]
  },
  {
   "cell_type": "code",
   "execution_count": null,
   "id": "064e6af7-24e4-4f95-9711-388c47b5a9d0",
   "metadata": {},
   "outputs": [],
   "source": [
    "display(result_msa_df.head(2))\n",
    "print(len(result_msa_df))\n",
    "\n",
    "assert len(result_msa_df) == total_num_aln_mutations"
   ]
  },
  {
   "cell_type": "code",
   "execution_count": null,
   "id": "4836bbb9-6777-4a25-9ce4-38132aebcce1",
   "metadata": {},
   "outputs": [],
   "source": [
    "# proteinsolver_keys = set(result_ps_df[[\"protein_id\", \"mutation\"]].apply(tuple, axis=1))\n",
    "# msa_keys = set(result_pb_df[[\"protein_id\", \"mutation\"]].apply(tuple, axis=1))\n",
    "# msa_missing_keys = proteinsolver_keys - msa_keys"
   ]
  },
  {
   "cell_type": "code",
   "execution_count": null,
   "id": "97c1dc0e-8270-4d6c-bde9-09041964c895",
   "metadata": {},
   "outputs": [],
   "source": [
    "# missing_task_ids = []\n",
    "# for row_group in tqdm(range(pfile_aln.num_row_groups)):\n",
    "#     df = pfile_aln.read_row_group(row_group, columns=[\"protein_id\", \"mutation\"]).to_pandas()[\n",
    "#         [\"protein_id\", \"mutation\"]\n",
    "#     ]\n",
    "\n",
    "#     row_keys = set()\n",
    "#     for tup in df.itertuples():\n",
    "#         for mutation in tup.mutation:\n",
    "#             row_keys.add((tup.protein_id, mutation))\n",
    "\n",
    "#     if protbert_missing_keys & row_keys:\n",
    "#         missing_task_ids.append(row_group + 1)\n",
    "\n",
    "# missing_task_ids"
   ]
  },
  {
   "cell_type": "markdown",
   "id": "4778fbf7-217c-4262-8d82-e0f20d4c8c4c",
   "metadata": {},
   "source": [
    "### AlphaFold WT"
   ]
  },
  {
   "cell_type": "code",
   "execution_count": 21,
   "id": "a8637695-6750-4622-a660-b282e6d2266f",
   "metadata": {},
   "outputs": [],
   "source": [
    "afwt_result_dir = NOTEBOOK_DIR.parent.joinpath(\"31_run_alphafold_wt\", DATASET_NAME)"
   ]
  },
  {
   "cell_type": "code",
   "execution_count": 22,
   "id": "ea35a7ef-3fb7-495b-8247-4926193ec846",
   "metadata": {},
   "outputs": [
    {
     "data": {
      "application/vnd.jupyter.widget-view+json": {
       "model_id": "31b0ff09ecb341808ee9eba855a72751",
       "version_major": 2,
       "version_minor": 0
      },
      "text/plain": [
       "HBox(children=(HTML(value=''), FloatProgress(value=0.0, max=12557.0), HTML(value='')))"
      ]
     },
     "metadata": {},
     "output_type": "display_data"
    },
    {
     "name": "stdout",
     "output_type": "stream",
     "text": [
      "\n"
     ]
    },
    {
     "data": {
      "text/plain": [
       "(12002, 555)"
      ]
     },
     "execution_count": 22,
     "metadata": {},
     "output_type": "execute_result"
    }
   ],
   "source": [
    "present_files, missing_files = get_result_files(afwt_result_dir, TASK_COUNT_ALN)\n",
    "\n",
    "len(present_files), len(missing_files)"
   ]
  },
  {
   "cell_type": "code",
   "execution_count": 25,
   "id": "4f220904-0fe9-4f2b-bd26-bf421f501159",
   "metadata": {},
   "outputs": [],
   "source": [
    "protein_mutations_df = pq.read_table(DATASET_ALN_PATH, columns=[\"protein_id\", \"mutation\"])"
   ]
  },
  {
   "cell_type": "code",
   "execution_count": 29,
   "id": "90f1e809-03a3-47b1-a943-89f23a178d74",
   "metadata": {},
   "outputs": [
    {
     "data": {
      "application/vnd.jupyter.widget-view+json": {
       "model_id": "60688226341a4bbf8c819f9169779894",
       "version_major": 2,
       "version_minor": 0
      },
      "text/plain": [
       "HBox(children=(HTML(value=''), FloatProgress(value=0.0, max=12002.0), HTML(value='')))"
      ]
     },
     "metadata": {},
     "output_type": "display_data"
    },
    {
     "name": "stdout",
     "output_type": "stream",
     "text": [
      "Could not open Parquet input source '/gpfs/fs0/scratch/p/pmkim/strokach/workspace/elaspic2-cagi6/notebooks/31_run_alphafold_wt/humsavar/shard-10366-of-12557.parquet': Parquet magic bytes not found in footer. Either the file is corrupted or this is not a parquet file.\n",
      "Could not open Parquet input source '/gpfs/fs0/scratch/p/pmkim/strokach/workspace/elaspic2-cagi6/notebooks/31_run_alphafold_wt/humsavar/shard-10408-of-12557.parquet': Parquet magic bytes not found in footer. Either the file is corrupted or this is not a parquet file.\n",
      "Could not open Parquet input source '/gpfs/fs0/scratch/p/pmkim/strokach/workspace/elaspic2-cagi6/notebooks/31_run_alphafold_wt/humsavar/shard-10452-of-12557.parquet': Parquet magic bytes not found in footer. Either the file is corrupted or this is not a parquet file.\n",
      "Could not open Parquet input source '/gpfs/fs0/scratch/p/pmkim/strokach/workspace/elaspic2-cagi6/notebooks/31_run_alphafold_wt/humsavar/shard-10486-of-12557.parquet': Parquet magic bytes not found in footer. Either the file is corrupted or this is not a parquet file.\n",
      "Could not open Parquet input source '/gpfs/fs0/scratch/p/pmkim/strokach/workspace/elaspic2-cagi6/notebooks/31_run_alphafold_wt/humsavar/shard-10653-of-12557.parquet': Parquet magic bytes not found in footer. Either the file is corrupted or this is not a parquet file.\n",
      "Could not open Parquet input source '/gpfs/fs0/scratch/p/pmkim/strokach/workspace/elaspic2-cagi6/notebooks/31_run_alphafold_wt/humsavar/shard-10690-of-12557.parquet': Parquet magic bytes not found in footer. Either the file is corrupted or this is not a parquet file.\n",
      "Could not open Parquet input source '/gpfs/fs0/scratch/p/pmkim/strokach/workspace/elaspic2-cagi6/notebooks/31_run_alphafold_wt/humsavar/shard-10733-of-12557.parquet': Parquet magic bytes not found in footer. Either the file is corrupted or this is not a parquet file.\n",
      "Could not open Parquet input source '/gpfs/fs0/scratch/p/pmkim/strokach/workspace/elaspic2-cagi6/notebooks/31_run_alphafold_wt/humsavar/shard-10755-of-12557.parquet': Parquet magic bytes not found in footer. Either the file is corrupted or this is not a parquet file.\n",
      "Could not open Parquet input source '/gpfs/fs0/scratch/p/pmkim/strokach/workspace/elaspic2-cagi6/notebooks/31_run_alphafold_wt/humsavar/shard-10783-of-12557.parquet': Parquet magic bytes not found in footer. Either the file is corrupted or this is not a parquet file.\n",
      "Could not open Parquet input source '/gpfs/fs0/scratch/p/pmkim/strokach/workspace/elaspic2-cagi6/notebooks/31_run_alphafold_wt/humsavar/shard-10784-of-12557.parquet': Parquet magic bytes not found in footer. Either the file is corrupted or this is not a parquet file.\n",
      "Could not open Parquet input source '/gpfs/fs0/scratch/p/pmkim/strokach/workspace/elaspic2-cagi6/notebooks/31_run_alphafold_wt/humsavar/shard-10913-of-12557.parquet': Parquet magic bytes not found in footer. Either the file is corrupted or this is not a parquet file.\n",
      "Could not open Parquet input source '/gpfs/fs0/scratch/p/pmkim/strokach/workspace/elaspic2-cagi6/notebooks/31_run_alphafold_wt/humsavar/shard-11885-of-12557.parquet': Parquet magic bytes not found in footer. Either the file is corrupted or this is not a parquet file.\n",
      "Could not open Parquet input source '/gpfs/fs0/scratch/p/pmkim/strokach/workspace/elaspic2-cagi6/notebooks/31_run_alphafold_wt/humsavar/shard-11957-of-12557.parquet': Parquet magic bytes not found in footer. Either the file is corrupted or this is not a parquet file.\n",
      "Could not open Parquet input source '/gpfs/fs0/scratch/p/pmkim/strokach/workspace/elaspic2-cagi6/notebooks/31_run_alphafold_wt/humsavar/shard-11990-of-12557.parquet': Parquet magic bytes not found in footer. Either the file is corrupted or this is not a parquet file.\n",
      "Could not open Parquet input source '/gpfs/fs0/scratch/p/pmkim/strokach/workspace/elaspic2-cagi6/notebooks/31_run_alphafold_wt/humsavar/shard-11995-of-12557.parquet': Parquet magic bytes not found in footer. Either the file is corrupted or this is not a parquet file.\n",
      "Could not open Parquet input source '/gpfs/fs0/scratch/p/pmkim/strokach/workspace/elaspic2-cagi6/notebooks/31_run_alphafold_wt/humsavar/shard-12002-of-12557.parquet': Parquet magic bytes not found in footer. Either the file is corrupted or this is not a parquet file.\n",
      "Could not open Parquet input source '/gpfs/fs0/scratch/p/pmkim/strokach/workspace/elaspic2-cagi6/notebooks/31_run_alphafold_wt/humsavar/shard-12027-of-12557.parquet': Parquet magic bytes not found in footer. Either the file is corrupted or this is not a parquet file.\n",
      "Could not open Parquet input source '/gpfs/fs0/scratch/p/pmkim/strokach/workspace/elaspic2-cagi6/notebooks/31_run_alphafold_wt/humsavar/shard-12035-of-12557.parquet': Parquet magic bytes not found in footer. Either the file is corrupted or this is not a parquet file.\n",
      "Could not open Parquet input source '/gpfs/fs0/scratch/p/pmkim/strokach/workspace/elaspic2-cagi6/notebooks/31_run_alphafold_wt/humsavar/shard-12036-of-12557.parquet': Parquet magic bytes not found in footer. Either the file is corrupted or this is not a parquet file.\n",
      "\n"
     ]
    }
   ],
   "source": [
    "columns = [\n",
    "    \"protein_id\",\n",
    "    \"experimentally_resolved\",\n",
    "    \"predicted_lddt\",\n",
    "    \"msa_first_row\",\n",
    "    \"single\",\n",
    "    \"structure_module\",\n",
    "    \"plddt\",\n",
    "    \"max_predicted_aligned_error\",\n",
    "    \"ptm\",\n",
    "]\n",
    "result_afwt_df = read_files(present_files, columns=columns).set_index(\"protein_id\")"
   ]
  },
  {
   "cell_type": "code",
   "execution_count": 30,
   "id": "d5e740ca-6533-44aa-98ef-a67903d87f3c",
   "metadata": {},
   "outputs": [
    {
     "data": {
      "text/html": [
       "<div>\n",
       "<style scoped>\n",
       "    .dataframe tbody tr th:only-of-type {\n",
       "        vertical-align: middle;\n",
       "    }\n",
       "\n",
       "    .dataframe tbody tr th {\n",
       "        vertical-align: top;\n",
       "    }\n",
       "\n",
       "    .dataframe thead th {\n",
       "        text-align: right;\n",
       "    }\n",
       "</style>\n",
       "<table border=\"1\" class=\"dataframe\">\n",
       "  <thead>\n",
       "    <tr style=\"text-align: right;\">\n",
       "      <th></th>\n",
       "      <th>experimentally_resolved</th>\n",
       "      <th>predicted_lddt</th>\n",
       "      <th>msa_first_row</th>\n",
       "      <th>single</th>\n",
       "      <th>structure_module</th>\n",
       "      <th>plddt</th>\n",
       "      <th>max_predicted_aligned_error</th>\n",
       "      <th>ptm</th>\n",
       "    </tr>\n",
       "    <tr>\n",
       "      <th>protein_id</th>\n",
       "      <th></th>\n",
       "      <th></th>\n",
       "      <th></th>\n",
       "      <th></th>\n",
       "      <th></th>\n",
       "      <th></th>\n",
       "      <th></th>\n",
       "      <th></th>\n",
       "    </tr>\n",
       "  </thead>\n",
       "  <tbody>\n",
       "    <tr>\n",
       "      <th>A0A0C5B5G6</th>\n",
       "      <td>[[0.23085688054561615, 0.2812912166118622, 0.4...</td>\n",
       "      <td>[[-4.428761959075928, -4.958076477050781, -4.2...</td>\n",
       "      <td>[[-9.192195892333984, -7.8160529136657715, -3....</td>\n",
       "      <td>[[1.0471205711364746, 50.2182731628418, 9.5015...</td>\n",
       "      <td>[[0.006925947964191437, 0.015513338148593903, ...</td>\n",
       "      <td>[57.36422541091451, 58.55118690727977, 63.5633...</td>\n",
       "      <td>31.75</td>\n",
       "      <td>0.027069</td>\n",
       "    </tr>\n",
       "    <tr>\n",
       "      <th>P0CJ72</th>\n",
       "      <td>[[0.44773733615875244, 0.44976410269737244, 0....</td>\n",
       "      <td>[[-4.362471580505371, -4.686018943786621, -3.9...</td>\n",
       "      <td>[[-5.28439474105835, -4.713302135467529, -8.87...</td>\n",
       "      <td>[[-20.71187400817871, 50.35539245605469, 9.119...</td>\n",
       "      <td>[[0.005178235471248627, 0.02119813859462738, -...</td>\n",
       "      <td>[50.6758737960481, 53.870554884328136, 57.2565...</td>\n",
       "      <td>31.75</td>\n",
       "      <td>0.114342</td>\n",
       "    </tr>\n",
       "  </tbody>\n",
       "</table>\n",
       "</div>"
      ],
      "text/plain": [
       "                                      experimentally_resolved  \\\n",
       "protein_id                                                      \n",
       "A0A0C5B5G6  [[0.23085688054561615, 0.2812912166118622, 0.4...   \n",
       "P0CJ72      [[0.44773733615875244, 0.44976410269737244, 0....   \n",
       "\n",
       "                                               predicted_lddt  \\\n",
       "protein_id                                                      \n",
       "A0A0C5B5G6  [[-4.428761959075928, -4.958076477050781, -4.2...   \n",
       "P0CJ72      [[-4.362471580505371, -4.686018943786621, -3.9...   \n",
       "\n",
       "                                                msa_first_row  \\\n",
       "protein_id                                                      \n",
       "A0A0C5B5G6  [[-9.192195892333984, -7.8160529136657715, -3....   \n",
       "P0CJ72      [[-5.28439474105835, -4.713302135467529, -8.87...   \n",
       "\n",
       "                                                       single  \\\n",
       "protein_id                                                      \n",
       "A0A0C5B5G6  [[1.0471205711364746, 50.2182731628418, 9.5015...   \n",
       "P0CJ72      [[-20.71187400817871, 50.35539245605469, 9.119...   \n",
       "\n",
       "                                             structure_module  \\\n",
       "protein_id                                                      \n",
       "A0A0C5B5G6  [[0.006925947964191437, 0.015513338148593903, ...   \n",
       "P0CJ72      [[0.005178235471248627, 0.02119813859462738, -...   \n",
       "\n",
       "                                                        plddt  \\\n",
       "protein_id                                                      \n",
       "A0A0C5B5G6  [57.36422541091451, 58.55118690727977, 63.5633...   \n",
       "P0CJ72      [50.6758737960481, 53.870554884328136, 57.2565...   \n",
       "\n",
       "            max_predicted_aligned_error       ptm  \n",
       "protein_id                                         \n",
       "A0A0C5B5G6                        31.75  0.027069  \n",
       "P0CJ72                            31.75  0.114342  "
      ]
     },
     "metadata": {},
     "output_type": "display_data"
    },
    {
     "name": "stdout",
     "output_type": "stream",
     "text": [
      "11983\n"
     ]
    }
   ],
   "source": [
    "display(result_afwt_df.head(2))\n",
    "print(len(result_afwt_df))"
   ]
  },
  {
   "cell_type": "code",
   "execution_count": 31,
   "id": "659de6ec-d53c-47ac-9bcd-1979b364f782",
   "metadata": {},
   "outputs": [],
   "source": [
    "def get_mutation_embeddings(idx, predictions):\n",
    "    assert idx >= 0\n",
    "\n",
    "    def as_residue(x):\n",
    "        return x[idx].astype(np.float32)\n",
    "\n",
    "    def as_protein(x):\n",
    "        return x.mean(axis=0).astype(np.float32)\n",
    "\n",
    "    embeddings = {\n",
    "        \"experimentally_resolved\": predictions[\"experimentally_resolved\"],\n",
    "        \"predicted_lddt\": predictions[\"predicted_lddt\"],\n",
    "        \"msa_first_row\": predictions[\"msa_first_row\"],\n",
    "        \"single\": predictions[\"single\"],\n",
    "        \"structure_module\": predictions[\"structure_module\"],\n",
    "    }\n",
    "\n",
    "    output = {\n",
    "        \"scores_residue_plddt\": predictions[\"plddt\"][idx],\n",
    "        \"scores_protein_plddt\": np.mean(predictions[\"plddt\"]),\n",
    "        \"scores_protein_max_predicted_aligned_error\": predictions[\"max_predicted_aligned_error\"],\n",
    "        \"scores_proten_ptm\": predictions[\"ptm\"],\n",
    "        **{f\"features_residue_{key}\": as_residue(value) for key, value in embeddings.items()},\n",
    "        **{f\"features_protein_{key}\": as_protein(value) for key, value in embeddings.items()},\n",
    "    }\n",
    "\n",
    "    return output\n",
    "\n",
    "\n",
    "# get_mutation_embeddings(0, result_afwt_df.loc[\"Q8N5M1\"])"
   ]
  },
  {
   "cell_type": "code",
   "execution_count": 32,
   "id": "efa48514-9732-4959-9431-027523d64605",
   "metadata": {},
   "outputs": [
    {
     "ename": "AttributeError",
     "evalue": "'pyarrow.lib.Table' object has no attribute 'set_index'",
     "output_type": "error",
     "traceback": [
      "\u001b[0;31m---------------------------------------------------------------------------\u001b[0m",
      "\u001b[0;31mAttributeError\u001b[0m                            Traceback (most recent call last)",
      "\u001b[0;32m/tmp/ipykernel_371333/573336785.py\u001b[0m in \u001b[0;36m<module>\u001b[0;34m\u001b[0m\n\u001b[0;32m----> 1\u001b[0;31m \u001b[0mprotein_mutation_lookup\u001b[0m \u001b[0;34m=\u001b[0m \u001b[0mprotein_mutations_df\u001b[0m\u001b[0;34m.\u001b[0m\u001b[0mset_index\u001b[0m\u001b[0;34m(\u001b[0m\u001b[0;34m\"protein_id\"\u001b[0m\u001b[0;34m)\u001b[0m\u001b[0;34m[\u001b[0m\u001b[0;34m\"mutation\"\u001b[0m\u001b[0;34m]\u001b[0m\u001b[0;34m.\u001b[0m\u001b[0masdict\u001b[0m\u001b[0;34m(\u001b[0m\u001b[0;34m)\u001b[0m\u001b[0;34m\u001b[0m\u001b[0;34m\u001b[0m\u001b[0m\n\u001b[0m",
      "\u001b[0;31mAttributeError\u001b[0m: 'pyarrow.lib.Table' object has no attribute 'set_index'"
     ]
    }
   ],
   "source": [
    "protein_mutation_lookup = protein_mutations_df.set_index(\"protein_id\")[\"mutation\"].asdict()"
   ]
  },
  {
   "cell_type": "code",
   "execution_count": null,
   "id": "d18b546f-eff6-497b-a390-043f387d09db",
   "metadata": {},
   "outputs": [],
   "source": [
    "results = []\n",
    "for tup in tqdm(result_afwt_df.itertuples(), total=len(result_afwt_df)):\n",
    "    mutations = protein_mutation_lookup[tup.protein_id]\n",
    "    for mutation in mutations:\n",
    "        features = {\n",
    "            f\"alphafold_core_{key}_wt\": value\n",
    "            for key, value in get_mutation_embeddings(\n",
    "                int(mutation[1:-1]) - 1, predictions\n",
    "            ).items()\n",
    "        }\n",
    "        results.append(\n",
    "            {\n",
    "                \"protein_id\": protein_id,\n",
    "                \"mutation\": mutation,\n",
    "            }\n",
    "            | features\n",
    "        )\n",
    "\n",
    "result_af_df = pd.DataFrame(results)\n",
    "len(result_af_df)"
   ]
  },
  {
   "cell_type": "markdown",
   "id": "0465229e-f586-4efd-bb19-f2d07ca10906",
   "metadata": {},
   "source": [
    "## Combine results"
   ]
  },
  {
   "cell_type": "code",
   "execution_count": null,
   "id": "59bac9ef-c7e0-4fff-b599-61dbb8362de5",
   "metadata": {},
   "outputs": [],
   "source": [
    "len(result_ps_df) == len(result_ps_df[\"mutation_id\"].unique())"
   ]
  },
  {
   "cell_type": "code",
   "execution_count": null,
   "id": "7cbdb513-664c-4221-8d2d-b606a2d76975",
   "metadata": {},
   "outputs": [],
   "source": [
    "result_df = (\n",
    "    result_ps_df.merge(\n",
    "        result_pb_df, on=[\"protein_id\", \"mutation\", \"mutation_id\", \"effect\"], how=\"left\"\n",
    "    )\n",
    "    .merge(result_msa_df, on=[\"protein_id\", \"mutation\", \"mutation_id\"], how=\"left\")\n",
    "    .merge(result_ra_df, on=[\"protein_id\", \"mutation\", \"mutation_id\", \"effect\"], how=\"left\")\n",
    "    .merge(\n",
    "        pd.concat([result_af_df, result_af2_df], ignore_index=True),\n",
    "        on=[\"protein_id\", \"mutation\", \"mutation_id\", \"effect\"],\n",
    "        how=\"left\",\n",
    "    )\n",
    ")\n",
    "\n",
    "assert len(result_df) == len(result_df[\"mutation_id\"].unique())\n",
    "assert not (\n",
    "    set(result_pb_df[\"mutation_id\"])\n",
    "    | set(result_ra_df[\"mutation_id\"])\n",
    "    | set(result_af_df[\"mutation_id\"])\n",
    ") - set(result_df[\"mutation_id\"])"
   ]
  },
  {
   "cell_type": "code",
   "execution_count": null,
   "id": "dea8c722-b788-4c4e-a6b6-765a292c2b54",
   "metadata": {},
   "outputs": [],
   "source": [
    "display(result_df.head(2))\n",
    "print(len(result_df))"
   ]
  },
  {
   "cell_type": "markdown",
   "id": "cddb7066-98b9-43a5-a0a1-892e634114bd",
   "metadata": {},
   "source": [
    "## Calculate EL2 score"
   ]
  },
  {
   "cell_type": "code",
   "execution_count": null,
   "id": "cd369701-3d1f-4b28-9f15-4b27cd07f1a0",
   "metadata": {},
   "outputs": [],
   "source": [
    "model = el2.ELASPIC2()"
   ]
  },
  {
   "cell_type": "code",
   "execution_count": null,
   "id": "d90324e8-5fbe-43ca-8d78-275ff3b7dee3",
   "metadata": {},
   "outputs": [],
   "source": [
    "proteinsolver_columnms = [c for c in result_df if c.startswith(\"proteinsolver_core_score\")]\n",
    "protbert_columns = [c for c in result_df if c.startswith(\"protbert_core_\")]\n",
    "\n",
    "el2_missing = result_df[proteinsolver_columnms + protbert_columns].isnull().any(axis=1)\n",
    "result_df[\"el2_score\"] = np.nan\n",
    "result_df.loc[~el2_missing, \"el2_score\"] = model.predict_mutation_effect(\n",
    "    [\n",
    "        t._asdict()\n",
    "        for t in result_df.loc[~el2_missing, proteinsolver_columnms + protbert_columns].itertuples(\n",
    "            index=False\n",
    "        )\n",
    "    ]\n",
    ")"
   ]
  },
  {
   "cell_type": "markdown",
   "id": "f316f627-d657-430a-a432-ddd93fb2bc11",
   "metadata": {},
   "source": [
    "## Calculate deltas"
   ]
  },
  {
   "cell_type": "code",
   "execution_count": null,
   "id": "5c95c4d7-caf7-476e-81ed-f15b8a9f54a8",
   "metadata": {},
   "outputs": [],
   "source": [
    "for column in list(result_df):\n",
    "    if not column.endswith(\"_mut\"):\n",
    "        continue\n",
    "\n",
    "    column_wt = column.removesuffix(\"_mut\") + \"_wt\"\n",
    "    if column_wt not in result_df:\n",
    "        print(column_wt)\n",
    "        continue\n",
    "\n",
    "    column_change = column.removesuffix(\"_mut\") + \"_change\"\n",
    "    result_df[column_change] = result_df[column_wt] - result_df[column]\n",
    "    del result_df[column]"
   ]
  },
  {
   "cell_type": "markdown",
   "id": "f88c45b8-5e0c-42fe-a95d-64d6e5095770",
   "metadata": {},
   "source": [
    "## Encode mutation"
   ]
  },
  {
   "cell_type": "code",
   "execution_count": null,
   "id": "0e6101e8-39bb-4ed0-93af-597a2c2c3943",
   "metadata": {
    "tags": []
   },
   "outputs": [],
   "source": [
    "amino_acids = list(\"ARNDCEQGHILKMFPSTWYV\")\n",
    "\n",
    "# TODO: AGGGH, this is stupid and dangerous! Refactor!!!\n",
    "result_df[\"aa_wt_onehot\"] = pd.get_dummies(result_df[\"mutation\"].str[0]).apply(list, axis=1)\n",
    "result_df[\"aa_mut_onehot\"] = pd.get_dummies(result_df[\"mutation\"].str[-1]).apply(list, axis=1)"
   ]
  },
  {
   "cell_type": "markdown",
   "id": "c29a7d21-5741-4760-b479-fee62b605739",
   "metadata": {},
   "source": [
    "## Save results"
   ]
  },
  {
   "cell_type": "code",
   "execution_count": null,
   "id": "7d60ef97-b7b4-4552-a430-47323cc0c5bf",
   "metadata": {},
   "outputs": [],
   "source": [
    "output_file = NOTEBOOK_DIR.joinpath(\"combined-results.parquet\")\n",
    "\n",
    "output_file"
   ]
  },
  {
   "cell_type": "code",
   "execution_count": null,
   "id": "1ec482cf-d23b-4678-ab92-cdd5093c2c06",
   "metadata": {},
   "outputs": [],
   "source": [
    "pq.write_table(\n",
    "    pa.Table.from_pandas(result_df, preserve_index=False),\n",
    "    output_file,\n",
    "    row_group_size=10_000,\n",
    ")"
   ]
  },
  {
   "cell_type": "markdown",
   "id": "ae87c286-d491-42d4-941d-606cde544d48",
   "metadata": {},
   "source": [
    "## Exploratory data analysis"
   ]
  },
  {
   "cell_type": "code",
   "execution_count": null,
   "id": "e1374e04-eae5-47bb-b1b0-9aafc45782a0",
   "metadata": {},
   "outputs": [],
   "source": [
    "proteinsolver_columnms = [c for c in result_df if c.startswith(\"proteinsolver_\")]\n",
    "protbert_columns = [c for c in result_df if c.startswith(\"protbert_\")]\n",
    "rosetta_columns = [c for c in result_df if c.startswith(\"rosetta_\")]\n",
    "alphafold_columns = [c for c in result_df if c.startswith(\"alphafold_\")]"
   ]
  },
  {
   "cell_type": "code",
   "execution_count": null,
   "id": "1448fdf8-4949-4e91-b6c2-0db0711b8ea4",
   "metadata": {},
   "outputs": [],
   "source": [
    "result_df[\"effect\"].value_counts()"
   ]
  },
  {
   "cell_type": "code",
   "execution_count": null,
   "id": "4ea8e99e-ccd9-4c28-8613-c3bde79aefbe",
   "metadata": {},
   "outputs": [],
   "source": [
    "effect_map = {\n",
    "    \"Uncertain significance\": 0,\n",
    "    \"Likely benign\": -1,\n",
    "    \"Benign\": -2,\n",
    "    \"Likely pathogenic\": 1,\n",
    "    \"Pathogenic\": 2,\n",
    "}\n",
    "\n",
    "result_df[\"effect_score\"] = result_df[\"effect\"].map(effect_map)"
   ]
  },
  {
   "cell_type": "code",
   "execution_count": null,
   "id": "eb146d6b-4dac-451b-8ed2-951a07d51a9c",
   "metadata": {},
   "outputs": [],
   "source": [
    "score_columns = [\n",
    "    \"el2_score\",\n",
    "    \"proteinsolver_core_score_change\",\n",
    "    \"protbert_core_score_change\",\n",
    "    \"msa_KL\",\n",
    "    \"rosetta_dg_change\",\n",
    "        \"alphafold_core_scores_residue_plddt_wt\",\n",
    "#         \"alphafold_core_scores_protein_plddt_wt\",\n",
    "#         \"alphafold_core_scores_protein_max_predicted_aligned_error_wt\",\n",
    "#         \"alphafold_core_scores_proten_ptm_wt\",\n",
    "]\n",
    "\n",
    "df = result_df.dropna(subset=score_columns + [\"effect_score\"])\n",
    "df = df[df[\"effect_score\"] != 0].reset_index(drop=True)\n",
    "\n",
    "for col in score_columns:\n",
    "    corr = stats.spearmanr(df[\"effect_score\"], df[col])\n",
    "    auc = metrics.roc_auc_score(df[\"effect_score\"] > 0, df[col])\n",
    "    print(col, corr[0], auc)"
   ]
  },
  {
   "cell_type": "code",
   "execution_count": null,
   "id": "3ea22035-6b3e-41f7-be20-c4ddaad83094",
   "metadata": {},
   "outputs": [],
   "source": [
    "score_columns = [\n",
    "    \"el2_score\",\n",
    "    \"proteinsolver_core_score_change\",\n",
    "    \"protbert_core_score_change\",\n",
    "    \"msa_KL\",\n",
    "    \"rosetta_dg_change\",\n",
    "    \"alphafold_core_scores_residue_plddt_wt\",\n",
    "    \"alphafold_core_scores_residue_plddt_change\",\n",
    "#         \"alphafold_core_scores_protein_plddt_wt\",\n",
    "#         \"alphafold_core_scores_protein_max_predicted_aligned_error_wt\",\n",
    "#         \"alphafold_core_scores_proten_ptm_wt\",\n",
    "]\n",
    "\n",
    "for column in score_columns:\n",
    "    print(f\"{column} {result_df[column].isnull().sum()}\")"
   ]
  },
  {
   "cell_type": "code",
   "execution_count": null,
   "id": "de8f5ba3-9546-41c7-8b41-83e4f79c21d5",
   "metadata": {},
   "outputs": [],
   "source": []
  }
 ],
 "metadata": {
  "kernelspec": {
   "display_name": "Python 3 (ipykernel)",
   "language": "python",
   "name": "python3"
  },
  "language_info": {
   "codemirror_mode": {
    "name": "ipython",
    "version": 3
   },
   "file_extension": ".py",
   "mimetype": "text/x-python",
   "name": "python",
   "nbconvert_exporter": "python",
   "pygments_lexer": "ipython3",
   "version": "3.9.6"
  }
 },
 "nbformat": 4,
 "nbformat_minor": 5
}
