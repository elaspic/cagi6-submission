{
 "cells": [
  {
   "cell_type": "markdown",
   "id": "26c81e96-6b41-41fa-80a6-6360c482eb58",
   "metadata": {},
   "source": [
    "## Summary\n",
    "\n",
    "---"
   ]
  },
  {
   "cell_type": "markdown",
   "id": "ec276dec-6afa-4b57-bbfc-a11e04a8767e",
   "metadata": {},
   "source": [
    "## Imports"
   ]
  },
  {
   "cell_type": "code",
   "execution_count": 1,
   "id": "539f4edf-ca04-4bef-b5c9-a6d402f7570b",
   "metadata": {},
   "outputs": [
    {
     "name": "stderr",
     "output_type": "stream",
     "text": [
      "Warning: importing 'simtk.openmm' is deprecated.  Import 'openmm' instead.\n",
      "Matplotlib created a temporary config/cache directory at /tmp/matplotlib-05krxtv0 because the default path (/home/p/pmkim/strokach/.config/matplotlib) is not a writable directory; it is highly recommended to set the MPLCONFIGDIR environment variable to a writable directory, in particular to speed up the import of Matplotlib and to better support multiprocessing.\n"
     ]
    }
   ],
   "source": [
    "import functools\n",
    "from pathlib import Path\n",
    "\n",
    "import elaspic2 as el2\n",
    "import matplotlib.pyplot as plt\n",
    "import numpy as np\n",
    "import pandas as pd\n",
    "import pyarrow as pa\n",
    "import pyarrow.parquet as pq\n",
    "from elaspic2.plugins.msa_analysis import analyze_msa\n",
    "from scipy import stats\n",
    "from sklearn import metrics, model_selection\n",
    "from tqdm.auto import tqdm"
   ]
  },
  {
   "cell_type": "code",
   "execution_count": 2,
   "id": "d08b0792-00b7-44be-9257-a554f95bd602",
   "metadata": {},
   "outputs": [],
   "source": [
    "pd.set_option(\"max_columns\", 1000)\n",
    "pd.set_option(\"max_rows\", 1000)"
   ]
  },
  {
   "cell_type": "markdown",
   "id": "5be0ca05-c038-414f-ba84-b2ae8013088b",
   "metadata": {},
   "source": [
    "## Parameters"
   ]
  },
  {
   "cell_type": "code",
   "execution_count": 3,
   "id": "10e1faee-9f6a-40d8-8819-272b1c9837bb",
   "metadata": {},
   "outputs": [
    {
     "data": {
      "text/plain": [
       "PosixPath('/gpfs/fs0/scratch/p/pmkim/strokach/workspace/elaspic2-cagi6/notebooks/37_humsavar_combine_results')"
      ]
     },
     "execution_count": 3,
     "metadata": {},
     "output_type": "execute_result"
    }
   ],
   "source": [
    "NOTEBOOK_DIR = Path(\"37_humsavar_combine_results\").resolve()\n",
    "NOTEBOOK_DIR.mkdir(exist_ok=True)\n",
    "\n",
    "NOTEBOOK_DIR"
   ]
  },
  {
   "cell_type": "markdown",
   "id": "fd00941b-a3df-48d4-864c-bef984a8cd3b",
   "metadata": {},
   "source": [
    "## Load results"
   ]
  },
  {
   "cell_type": "code",
   "execution_count": 4,
   "id": "0754bcaa-1b8d-49cd-9e98-a3d7c9b345b1",
   "metadata": {},
   "outputs": [
    {
     "data": {
      "text/plain": [
       "('humsavar',\n",
       " '/gpfs/fs0/scratch/p/pmkim/strokach/workspace/elaspic2-cagi6/notebooks/30_humsavar/humsavar-gby-protein.parquet',\n",
       " 612,\n",
       " 12557)"
      ]
     },
     "execution_count": 4,
     "metadata": {},
     "output_type": "execute_result"
    }
   ],
   "source": [
    "DATASET_NAME = \"humsavar\"\n",
    "DATASET_PATH = str(\n",
    "    NOTEBOOK_DIR.parent.joinpath(\"30_humsavar\", \"humsavar-gby-protein.parquet\")\n",
    ")\n",
    "DATASET_ALN_PATH = str(\n",
    "    NOTEBOOK_DIR.parent.joinpath(\"30_humsavar\", \"humsavar-gby-protein-waln.parquet\")\n",
    ")\n",
    "TASK_COUNT = 612\n",
    "TASK_COUNT_ALN = 12557\n",
    "\n",
    "DATASET_NAME, DATASET_PATH, TASK_COUNT, TASK_COUNT_ALN"
   ]
  },
  {
   "cell_type": "code",
   "execution_count": 5,
   "id": "fb72cdfd-ed3d-4831-a72c-10d5689037b7",
   "metadata": {},
   "outputs": [],
   "source": [
    "pfile = pq.ParquetFile(DATASET_PATH)\n",
    "\n",
    "assert TASK_COUNT == pfile.num_row_groups"
   ]
  },
  {
   "cell_type": "code",
   "execution_count": 6,
   "id": "e4ac4086-6cb1-43ea-ac59-2265adce065f",
   "metadata": {},
   "outputs": [
    {
     "data": {
      "application/vnd.jupyter.widget-view+json": {
       "model_id": "bf3066faa4cf4abead3bbaa29a9e4f53",
       "version_major": 2,
       "version_minor": 0
      },
      "text/plain": [
       "HBox(children=(HTML(value=''), FloatProgress(value=0.0, max=612.0), HTML(value='')))"
      ]
     },
     "metadata": {},
     "output_type": "display_data"
    },
    {
     "name": "stdout",
     "output_type": "stream",
     "text": [
      "\n"
     ]
    },
    {
     "data": {
      "text/plain": [
       "61179"
      ]
     },
     "execution_count": 6,
     "metadata": {},
     "output_type": "execute_result"
    }
   ],
   "source": [
    "total_num_mutations = 0\n",
    "for row_group in tqdm(range(pfile.num_row_groups)):\n",
    "    num_mutations = (\n",
    "        pfile.read_row_group(row_group, columns=[\"mutation\"])\n",
    "        .to_pandas()[\"mutation\"]\n",
    "        .str.len()\n",
    "        .sum()\n",
    "    )\n",
    "\n",
    "    total_num_mutations += num_mutations\n",
    "\n",
    "total_num_mutations"
   ]
  },
  {
   "cell_type": "code",
   "execution_count": 7,
   "id": "cceac8e2-bb94-4bc5-b560-4e05a78137e3",
   "metadata": {},
   "outputs": [],
   "source": [
    "pfile_aln = pq.ParquetFile(DATASET_ALN_PATH)\n",
    "\n",
    "assert TASK_COUNT_ALN == pfile_aln.num_row_groups"
   ]
  },
  {
   "cell_type": "code",
   "execution_count": 8,
   "id": "cfa86aeb-e6e9-48f7-88a0-55125155e27d",
   "metadata": {},
   "outputs": [
    {
     "data": {
      "application/vnd.jupyter.widget-view+json": {
       "model_id": "4fe03748a2e64223962f8f2198463a0c",
       "version_major": 2,
       "version_minor": 0
      },
      "text/plain": [
       "HBox(children=(HTML(value=''), FloatProgress(value=0.0, max=12557.0), HTML(value='')))"
      ]
     },
     "metadata": {},
     "output_type": "display_data"
    },
    {
     "name": "stdout",
     "output_type": "stream",
     "text": [
      "\n"
     ]
    },
    {
     "data": {
      "text/plain": [
       "61174"
      ]
     },
     "execution_count": 8,
     "metadata": {},
     "output_type": "execute_result"
    }
   ],
   "source": [
    "total_num_aln_mutations = 0\n",
    "for row_group in tqdm(range(pfile_aln.num_row_groups)):\n",
    "    num_mutations = (\n",
    "        pfile_aln.read_row_group(row_group, columns=[\"mutation\"])\n",
    "        .to_pandas()[\"mutation\"]\n",
    "        .str.len()\n",
    "        .sum()\n",
    "    )\n",
    "\n",
    "    total_num_aln_mutations += num_mutations\n",
    "\n",
    "total_num_aln_mutations"
   ]
  },
  {
   "cell_type": "code",
   "execution_count": 9,
   "id": "545bb337-c239-4cfd-8449-5bd25f817ed2",
   "metadata": {},
   "outputs": [],
   "source": [
    "def get_result_files(result_dir, task_count=TASK_COUNT):\n",
    "    if any([f in str(result_dir) for f in [\"msa_analysis\",\"ccmpred\"]]):\n",
    "        prefix = \"result\"\n",
    "    elif \"31_run_alphafold/\" in str(result_dir):\n",
    "        prefix = \"results\"\n",
    "    else:\n",
    "        prefix = \"shard\"\n",
    "\n",
    "    present_files = []\n",
    "    missing_files = []\n",
    "    for i in tqdm(range(1, task_count + 1)):\n",
    "        path = result_dir.joinpath(f\"{prefix}-{i}-of-{task_count}.parquet\")\n",
    "        if path.is_file():\n",
    "            present_files.append(path)\n",
    "        else:\n",
    "            missing_files.append(path)\n",
    "    return present_files, missing_files"
   ]
  },
  {
   "cell_type": "code",
   "execution_count": 10,
   "id": "d0dd8cea-7960-451e-8d48-7317169a0927",
   "metadata": {},
   "outputs": [],
   "source": [
    "def read_files(files, columns=None):\n",
    "    dfs = []\n",
    "    for file in tqdm(files):\n",
    "        try:\n",
    "            df = pq.read_table(file, columns=columns).to_pandas(integer_object_nulls=True)\n",
    "        except pa.ArrowInvalid as error:\n",
    "            print(error)\n",
    "            continue\n",
    "        dfs.append(df)\n",
    "    return pd.concat(dfs, ignore_index=True)"
   ]
  },
  {
   "cell_type": "code",
   "execution_count": 11,
   "id": "e0bc75e7-0d94-427f-baad-ac4930cde413",
   "metadata": {},
   "outputs": [],
   "source": [
    "def read_rosetta_files(pfile):\n",
    "    result_dfs = []\n",
    "    for task_id in tqdm(range(1, pfile.num_row_groups + 1)):\n",
    "        row = (\n",
    "            pfile.read_row_group(task_id - 1, columns=[\"protein_id\", \"mutation\"])\n",
    "            .to_pandas()\n",
    "            .iloc[0]\n",
    "        )\n",
    "\n",
    "        input_df = pd.DataFrame(\n",
    "            {\n",
    "                \"protein_id\": [row[\"protein_id\"]] * len(row[\"mutation\"]),\n",
    "                \"mutation\": row[\"mutation\"],\n",
    "            }\n",
    "        )\n",
    "\n",
    "        path = NOTEBOOK_DIR.parent.joinpath(\n",
    "            \"31_run_rosetta_ddg\",\n",
    "            DATASET_NAME,\n",
    "            f\"shard-{task_id}-of-{TASK_COUNT}.parquet\",\n",
    "        )\n",
    "        try:\n",
    "            rosetta_df = pq.read_table(path).to_pandas()\n",
    "        except pa.ArrowInvalid:\n",
    "            print(f\"Unreadable file for {path}\")\n",
    "            continue\n",
    "\n",
    "        if rosetta_df.empty:\n",
    "            print(f\"Empty file for {path}\")\n",
    "            continue\n",
    "\n",
    "        del rosetta_df[\"protein_id\"]\n",
    "\n",
    "        result_df = input_df.merge(rosetta_df, on=[\"mutation\"])\n",
    "        result_dfs.append(result_df)\n",
    "    return pd.concat(result_dfs, ignore_index=True)"
   ]
  },
  {
   "cell_type": "markdown",
   "id": "f1da2f21-5ac6-4625-b105-f7c8c18e972d",
   "metadata": {},
   "source": [
    "### ProteinSolver"
   ]
  },
  {
   "cell_type": "code",
   "execution_count": 12,
   "id": "a9e0b109-1a03-41e7-ae1c-180b0e4a8519",
   "metadata": {},
   "outputs": [
    {
     "data": {
      "text/plain": [
       "PosixPath('/gpfs/fs0/scratch/p/pmkim/strokach/workspace/elaspic2-cagi6/notebooks/31_run_proteinsolver/humsavar')"
      ]
     },
     "execution_count": 12,
     "metadata": {},
     "output_type": "execute_result"
    }
   ],
   "source": [
    "ps_result_dir = NOTEBOOK_DIR.parent.joinpath(\"31_run_proteinsolver\", DATASET_NAME)\n",
    "\n",
    "ps_result_dir"
   ]
  },
  {
   "cell_type": "code",
   "execution_count": 13,
   "id": "d7df3505-9e49-44d4-87fc-96389528bf28",
   "metadata": {},
   "outputs": [
    {
     "data": {
      "application/vnd.jupyter.widget-view+json": {
       "model_id": "1923836e635c44a2ac303bba81755ce0",
       "version_major": 2,
       "version_minor": 0
      },
      "text/plain": [
       "HBox(children=(HTML(value=''), FloatProgress(value=0.0, max=612.0), HTML(value='')))"
      ]
     },
     "metadata": {},
     "output_type": "display_data"
    },
    {
     "name": "stdout",
     "output_type": "stream",
     "text": [
      "\n"
     ]
    },
    {
     "data": {
      "text/plain": [
       "(612, 0)"
      ]
     },
     "execution_count": 13,
     "metadata": {},
     "output_type": "execute_result"
    }
   ],
   "source": [
    "present_files, missing_files = get_result_files(ps_result_dir)\n",
    "\n",
    "assert len(missing_files) == 0\n",
    "len(present_files), len(missing_files)"
   ]
  },
  {
   "cell_type": "code",
   "execution_count": 14,
   "id": "517c88ae-9dbf-41b5-8d34-7c5c55193370",
   "metadata": {},
   "outputs": [
    {
     "data": {
      "application/vnd.jupyter.widget-view+json": {
       "model_id": "a06320a0c71947faa327afc82f8d0396",
       "version_major": 2,
       "version_minor": 0
      },
      "text/plain": [
       "HBox(children=(HTML(value=''), FloatProgress(value=0.0, max=612.0), HTML(value='')))"
      ]
     },
     "metadata": {},
     "output_type": "display_data"
    },
    {
     "name": "stdout",
     "output_type": "stream",
     "text": [
      "\n"
     ]
    }
   ],
   "source": [
    "result_ps_df = read_files(present_files)"
   ]
  },
  {
   "cell_type": "code",
   "execution_count": 15,
   "id": "5a4cc566-dfaf-4ca9-a810-339d0736cf2c",
   "metadata": {},
   "outputs": [
    {
     "data": {
      "text/html": [
       "<div>\n",
       "<style scoped>\n",
       "    .dataframe tbody tr th:only-of-type {\n",
       "        vertical-align: middle;\n",
       "    }\n",
       "\n",
       "    .dataframe tbody tr th {\n",
       "        vertical-align: top;\n",
       "    }\n",
       "\n",
       "    .dataframe thead th {\n",
       "        text-align: right;\n",
       "    }\n",
       "</style>\n",
       "<table border=\"1\" class=\"dataframe\">\n",
       "  <thead>\n",
       "    <tr style=\"text-align: right;\">\n",
       "      <th></th>\n",
       "      <th>protein_id</th>\n",
       "      <th>mutation</th>\n",
       "      <th>effect</th>\n",
       "      <th>proteinsolver_core_score_wt</th>\n",
       "      <th>proteinsolver_core_score_mut</th>\n",
       "      <th>proteinsolver_core_features_residue_wt</th>\n",
       "      <th>proteinsolver_core_features_protein_wt</th>\n",
       "      <th>proteinsolver_core_features_residue_mut</th>\n",
       "      <th>proteinsolver_core_features_protein_mut</th>\n",
       "    </tr>\n",
       "  </thead>\n",
       "  <tbody>\n",
       "    <tr>\n",
       "      <th>0</th>\n",
       "      <td>A0A0C5B5G6</td>\n",
       "      <td>K14Q</td>\n",
       "      <td>US</td>\n",
       "      <td>0.070044</td>\n",
       "      <td>0.040160</td>\n",
       "      <td>[-0.74697345495224, 1.316953420639038, 0.01530...</td>\n",
       "      <td>[-1.1096992492675781, 0.785698652267456, 0.256...</td>\n",
       "      <td>[0.05442849546670914, 0.7043757438659668, -0.2...</td>\n",
       "      <td>[-1.0095055103302002, 0.7263880372047424, 0.24...</td>\n",
       "    </tr>\n",
       "    <tr>\n",
       "      <th>1</th>\n",
       "      <td>A1L188</td>\n",
       "      <td>F55L</td>\n",
       "      <td>US</td>\n",
       "      <td>0.030520</td>\n",
       "      <td>0.088642</td>\n",
       "      <td>[-2.3987135887145996, 0.10982956737279892, -0....</td>\n",
       "      <td>[-1.777479648590088, -0.03869394585490227, 0.0...</td>\n",
       "      <td>[-4.062615871429443, -0.34137260913848877, -0....</td>\n",
       "      <td>[-1.7952650785446167, -0.047699496150016785, 0...</td>\n",
       "    </tr>\n",
       "  </tbody>\n",
       "</table>\n",
       "</div>"
      ],
      "text/plain": [
       "   protein_id mutation effect  proteinsolver_core_score_wt  \\\n",
       "0  A0A0C5B5G6     K14Q     US                     0.070044   \n",
       "1      A1L188     F55L     US                     0.030520   \n",
       "\n",
       "   proteinsolver_core_score_mut  \\\n",
       "0                      0.040160   \n",
       "1                      0.088642   \n",
       "\n",
       "              proteinsolver_core_features_residue_wt  \\\n",
       "0  [-0.74697345495224, 1.316953420639038, 0.01530...   \n",
       "1  [-2.3987135887145996, 0.10982956737279892, -0....   \n",
       "\n",
       "              proteinsolver_core_features_protein_wt  \\\n",
       "0  [-1.1096992492675781, 0.785698652267456, 0.256...   \n",
       "1  [-1.777479648590088, -0.03869394585490227, 0.0...   \n",
       "\n",
       "             proteinsolver_core_features_residue_mut  \\\n",
       "0  [0.05442849546670914, 0.7043757438659668, -0.2...   \n",
       "1  [-4.062615871429443, -0.34137260913848877, -0....   \n",
       "\n",
       "             proteinsolver_core_features_protein_mut  \n",
       "0  [-1.0095055103302002, 0.7263880372047424, 0.24...  \n",
       "1  [-1.7952650785446167, -0.047699496150016785, 0...  "
      ]
     },
     "metadata": {},
     "output_type": "display_data"
    },
    {
     "name": "stdout",
     "output_type": "stream",
     "text": [
      "61179\n"
     ]
    }
   ],
   "source": [
    "display(result_ps_df.head(2))\n",
    "print(len(result_ps_df))\n",
    "\n",
    "assert len(result_ps_df) == total_num_mutations, len(result_ps_df)"
   ]
  },
  {
   "cell_type": "markdown",
   "id": "1f8e85e3-ffaf-4b61-be5a-9c800d3bbe24",
   "metadata": {},
   "source": [
    "### ProtBert"
   ]
  },
  {
   "cell_type": "code",
   "execution_count": 16,
   "id": "3a8363be-9bb2-4918-8682-2101b54e590d",
   "metadata": {},
   "outputs": [
    {
     "data": {
      "text/plain": [
       "PosixPath('/gpfs/fs0/scratch/p/pmkim/strokach/workspace/elaspic2-cagi6/notebooks/31_run_protbert/humsavar')"
      ]
     },
     "execution_count": 16,
     "metadata": {},
     "output_type": "execute_result"
    }
   ],
   "source": [
    "pb_result_dir = NOTEBOOK_DIR.parent.joinpath(\"31_run_protbert\", DATASET_NAME)\n",
    "\n",
    "pb_result_dir"
   ]
  },
  {
   "cell_type": "code",
   "execution_count": 17,
   "id": "1bda80f9-16e6-4957-87ce-6ec33a83479e",
   "metadata": {},
   "outputs": [
    {
     "data": {
      "application/vnd.jupyter.widget-view+json": {
       "model_id": "4115aa3b85e64bb48c668b8bc7bd07c7",
       "version_major": 2,
       "version_minor": 0
      },
      "text/plain": [
       "HBox(children=(HTML(value=''), FloatProgress(value=0.0, max=612.0), HTML(value='')))"
      ]
     },
     "metadata": {},
     "output_type": "display_data"
    },
    {
     "name": "stdout",
     "output_type": "stream",
     "text": [
      "\n"
     ]
    },
    {
     "data": {
      "text/plain": [
       "(612, 0)"
      ]
     },
     "execution_count": 17,
     "metadata": {},
     "output_type": "execute_result"
    }
   ],
   "source": [
    "present_files, missing_files = get_result_files(pb_result_dir)\n",
    "\n",
    "assert len(missing_files) == 0\n",
    "len(present_files), len(missing_files)"
   ]
  },
  {
   "cell_type": "code",
   "execution_count": 18,
   "id": "9b7ce3d1-68da-4dfb-a3ca-1422f81de4c8",
   "metadata": {},
   "outputs": [
    {
     "data": {
      "application/vnd.jupyter.widget-view+json": {
       "model_id": "74752b9e705e49b988038ac44e1b16d2",
       "version_major": 2,
       "version_minor": 0
      },
      "text/plain": [
       "HBox(children=(HTML(value=''), FloatProgress(value=0.0, max=612.0), HTML(value='')))"
      ]
     },
     "metadata": {},
     "output_type": "display_data"
    },
    {
     "name": "stdout",
     "output_type": "stream",
     "text": [
      "\n"
     ]
    }
   ],
   "source": [
    "result_pb_df = read_files(present_files)"
   ]
  },
  {
   "cell_type": "code",
   "execution_count": 19,
   "id": "adf074f9-a8c0-4b60-b045-1b7563178898",
   "metadata": {},
   "outputs": [
    {
     "data": {
      "text/html": [
       "<div>\n",
       "<style scoped>\n",
       "    .dataframe tbody tr th:only-of-type {\n",
       "        vertical-align: middle;\n",
       "    }\n",
       "\n",
       "    .dataframe tbody tr th {\n",
       "        vertical-align: top;\n",
       "    }\n",
       "\n",
       "    .dataframe thead th {\n",
       "        text-align: right;\n",
       "    }\n",
       "</style>\n",
       "<table border=\"1\" class=\"dataframe\">\n",
       "  <thead>\n",
       "    <tr style=\"text-align: right;\">\n",
       "      <th></th>\n",
       "      <th>protein_id</th>\n",
       "      <th>mutation</th>\n",
       "      <th>effect</th>\n",
       "      <th>protbert_core_score_wt</th>\n",
       "      <th>protbert_core_score_mut</th>\n",
       "      <th>protbert_core_features_residue_wt</th>\n",
       "      <th>protbert_core_features_protein_wt</th>\n",
       "      <th>protbert_core_features_residue_mut</th>\n",
       "      <th>protbert_core_features_protein_mut</th>\n",
       "    </tr>\n",
       "  </thead>\n",
       "  <tbody>\n",
       "    <tr>\n",
       "      <th>0</th>\n",
       "      <td>A0A0C5B5G6</td>\n",
       "      <td>K14Q</td>\n",
       "      <td>US</td>\n",
       "      <td>0.058932</td>\n",
       "      <td>0.033909</td>\n",
       "      <td>[-0.005357364658266306, 0.032247915863990784, ...</td>\n",
       "      <td>[0.03903713822364807, -0.016466135159134865, 0...</td>\n",
       "      <td>[-0.0028596159536391497, 0.004915683530271053,...</td>\n",
       "      <td>[0.03650001436471939, -0.025432726368308067, 0...</td>\n",
       "    </tr>\n",
       "    <tr>\n",
       "      <th>1</th>\n",
       "      <td>A1L188</td>\n",
       "      <td>F55L</td>\n",
       "      <td>US</td>\n",
       "      <td>0.093019</td>\n",
       "      <td>0.143134</td>\n",
       "      <td>[0.1373966485261917, 0.06155325844883919, 0.02...</td>\n",
       "      <td>[0.05456249415874481, 0.024172015488147736, 0....</td>\n",
       "      <td>[0.14880749583244324, 0.08820129185914993, 0.0...</td>\n",
       "      <td>[0.056186407804489136, 0.03005887381732464, 0....</td>\n",
       "    </tr>\n",
       "  </tbody>\n",
       "</table>\n",
       "</div>"
      ],
      "text/plain": [
       "   protein_id mutation effect  protbert_core_score_wt  \\\n",
       "0  A0A0C5B5G6     K14Q     US                0.058932   \n",
       "1      A1L188     F55L     US                0.093019   \n",
       "\n",
       "   protbert_core_score_mut                  protbert_core_features_residue_wt  \\\n",
       "0                 0.033909  [-0.005357364658266306, 0.032247915863990784, ...   \n",
       "1                 0.143134  [0.1373966485261917, 0.06155325844883919, 0.02...   \n",
       "\n",
       "                   protbert_core_features_protein_wt  \\\n",
       "0  [0.03903713822364807, -0.016466135159134865, 0...   \n",
       "1  [0.05456249415874481, 0.024172015488147736, 0....   \n",
       "\n",
       "                  protbert_core_features_residue_mut  \\\n",
       "0  [-0.0028596159536391497, 0.004915683530271053,...   \n",
       "1  [0.14880749583244324, 0.08820129185914993, 0.0...   \n",
       "\n",
       "                  protbert_core_features_protein_mut  \n",
       "0  [0.03650001436471939, -0.025432726368308067, 0...  \n",
       "1  [0.056186407804489136, 0.03005887381732464, 0....  "
      ]
     },
     "metadata": {},
     "output_type": "display_data"
    },
    {
     "name": "stdout",
     "output_type": "stream",
     "text": [
      "61179\n"
     ]
    }
   ],
   "source": [
    "display(result_pb_df.head(2))\n",
    "print(len(result_pb_df))\n",
    "\n",
    "assert len(result_pb_df) == total_num_mutations"
   ]
  },
  {
   "cell_type": "code",
   "execution_count": 20,
   "id": "f7a24ec3-671a-43b5-bd67-0969422d52f8",
   "metadata": {},
   "outputs": [],
   "source": [
    "# proteinsolver_keys = set(result_ps_df[[\"protein_id\", \"mutation\"]].apply(tuple, axis=1))\n",
    "# protbert_keys = set(result_pb_df[[\"protein_id\", \"mutation\"]].apply(tuple, axis=1))\n",
    "# protbert_missing_keys = proteinsolver_keys - protbert_keys"
   ]
  },
  {
   "cell_type": "code",
   "execution_count": 21,
   "id": "d26dc50d-a787-48cf-8008-3de529e5e7b5",
   "metadata": {},
   "outputs": [],
   "source": [
    "# missing_task_ids = []\n",
    "# for row_group in tqdm(range(pfile.num_row_groups)):\n",
    "#     df = pfile.read_row_group(\n",
    "#         row_group, columns=[\"uniprot_id\", \"mutation\"]\n",
    "#     ).to_pandas()[[\"uniprot_id\", \"mutation\"]]\n",
    "\n",
    "#     row_keys = set()\n",
    "#     for tup in df.itertuples():\n",
    "#         for mutation in tup.mutation:\n",
    "#             row_keys.add((tup.uniprot_id, mutation))\n",
    "\n",
    "#     if protbert_missing_keys & row_keys:\n",
    "#         missing_task_ids.append(row_group + 1)\n",
    "\n",
    "# missing_task_ids"
   ]
  },
  {
   "cell_type": "markdown",
   "id": "3ed2b62c-2085-45fa-b865-e22121fe726e",
   "metadata": {},
   "source": [
    "### Rosetta"
   ]
  },
  {
   "cell_type": "code",
   "execution_count": 22,
   "id": "3a10c303-c1f4-4279-b508-f843a320c132",
   "metadata": {},
   "outputs": [
    {
     "data": {
      "text/plain": [
       "PosixPath('/gpfs/fs0/scratch/p/pmkim/strokach/workspace/elaspic2-cagi6/notebooks/31_run_rosetta_ddg/humsavar')"
      ]
     },
     "execution_count": 22,
     "metadata": {},
     "output_type": "execute_result"
    }
   ],
   "source": [
    "ra_result_dir = NOTEBOOK_DIR.parent.joinpath(\"31_run_rosetta_ddg\", DATASET_NAME)\n",
    "\n",
    "ra_result_dir"
   ]
  },
  {
   "cell_type": "code",
   "execution_count": 23,
   "id": "c981bb3f-b208-4f16-98df-60849055b88b",
   "metadata": {},
   "outputs": [
    {
     "data": {
      "application/vnd.jupyter.widget-view+json": {
       "model_id": "8221a5592723433b8a406b9e1aa17ea9",
       "version_major": 2,
       "version_minor": 0
      },
      "text/plain": [
       "HBox(children=(HTML(value=''), FloatProgress(value=0.0, max=612.0), HTML(value='')))"
      ]
     },
     "metadata": {},
     "output_type": "display_data"
    },
    {
     "name": "stdout",
     "output_type": "stream",
     "text": [
      "\n"
     ]
    },
    {
     "data": {
      "text/plain": [
       "(612, 0)"
      ]
     },
     "execution_count": 23,
     "metadata": {},
     "output_type": "execute_result"
    }
   ],
   "source": [
    "present_files, missing_files = get_result_files(ra_result_dir)\n",
    "\n",
    "assert len(missing_files) == 0\n",
    "len(present_files), len(missing_files)"
   ]
  },
  {
   "cell_type": "code",
   "execution_count": 24,
   "id": "b9fc547f-18e1-49f4-b855-5d6122829e40",
   "metadata": {},
   "outputs": [
    {
     "data": {
      "application/vnd.jupyter.widget-view+json": {
       "model_id": "91a35ce74a6d44fc8cc72c73848448c0",
       "version_major": 2,
       "version_minor": 0
      },
      "text/plain": [
       "HBox(children=(HTML(value=''), FloatProgress(value=0.0, max=612.0), HTML(value='')))"
      ]
     },
     "metadata": {},
     "output_type": "display_data"
    },
    {
     "name": "stdout",
     "output_type": "stream",
     "text": [
      "\n"
     ]
    }
   ],
   "source": [
    "result_ra_df = read_files(present_files)"
   ]
  },
  {
   "cell_type": "code",
   "execution_count": 25,
   "id": "cfc2d0b2-07f9-44fb-a17d-f933b0d2ee8e",
   "metadata": {},
   "outputs": [
    {
     "data": {
      "text/html": [
       "<div>\n",
       "<style scoped>\n",
       "    .dataframe tbody tr th:only-of-type {\n",
       "        vertical-align: middle;\n",
       "    }\n",
       "\n",
       "    .dataframe tbody tr th {\n",
       "        vertical-align: top;\n",
       "    }\n",
       "\n",
       "    .dataframe thead th {\n",
       "        text-align: right;\n",
       "    }\n",
       "</style>\n",
       "<table border=\"1\" class=\"dataframe\">\n",
       "  <thead>\n",
       "    <tr style=\"text-align: right;\">\n",
       "      <th></th>\n",
       "      <th>protein_id</th>\n",
       "      <th>mutation</th>\n",
       "      <th>effect</th>\n",
       "      <th>rosetta_cart_bonded_wt</th>\n",
       "      <th>rosetta_rama_prepro_wt</th>\n",
       "      <th>rosetta_ref_wt</th>\n",
       "      <th>rosetta_hxl_tors_wt</th>\n",
       "      <th>rosetta_p_aa_pp_wt</th>\n",
       "      <th>rosetta_fa_dun_semi_wt</th>\n",
       "      <th>rosetta_fa_dun_rot_wt</th>\n",
       "      <th>rosetta_fa_dun_dev_wt</th>\n",
       "      <th>rosetta_omega_wt</th>\n",
       "      <th>rosetta_dslf_fa13_wt</th>\n",
       "      <th>rosetta_hbond_sc_wt</th>\n",
       "      <th>rosetta_hbond_bb_sc_wt</th>\n",
       "      <th>rosetta_hbond_lr_bb_wt</th>\n",
       "      <th>rosetta_hbond_sr_bb_wt</th>\n",
       "      <th>rosetta_fa_intra_elec_wt</th>\n",
       "      <th>rosetta_fa_elec_wt</th>\n",
       "      <th>rosetta_lk_ball_bridge_uncpl_wt</th>\n",
       "      <th>rosetta_lk_ball_bridge_wt</th>\n",
       "      <th>rosetta_lk_ball_iso_wt</th>\n",
       "      <th>rosetta_lk_ball_wt</th>\n",
       "      <th>rosetta_fa_intra_sol_xover4_wt</th>\n",
       "      <th>rosetta_fa_intra_rep_xover4_wt</th>\n",
       "      <th>rosetta_fa_intra_atr_xover4_wt</th>\n",
       "      <th>rosetta_fa_sol_wt</th>\n",
       "      <th>rosetta_fa_rep_wt</th>\n",
       "      <th>rosetta_fa_atr_wt</th>\n",
       "      <th>rosetta_dg_wt</th>\n",
       "      <th>rosetta_cart_bonded_change</th>\n",
       "      <th>rosetta_rama_prepro_change</th>\n",
       "      <th>rosetta_ref_change</th>\n",
       "      <th>rosetta_hxl_tors_change</th>\n",
       "      <th>rosetta_p_aa_pp_change</th>\n",
       "      <th>rosetta_fa_dun_semi_change</th>\n",
       "      <th>rosetta_fa_dun_rot_change</th>\n",
       "      <th>rosetta_fa_dun_dev_change</th>\n",
       "      <th>rosetta_omega_change</th>\n",
       "      <th>rosetta_dslf_fa13_change</th>\n",
       "      <th>rosetta_hbond_sc_change</th>\n",
       "      <th>rosetta_hbond_bb_sc_change</th>\n",
       "      <th>rosetta_hbond_lr_bb_change</th>\n",
       "      <th>rosetta_hbond_sr_bb_change</th>\n",
       "      <th>rosetta_fa_intra_elec_change</th>\n",
       "      <th>rosetta_fa_elec_change</th>\n",
       "      <th>rosetta_lk_ball_bridge_uncpl_change</th>\n",
       "      <th>rosetta_lk_ball_bridge_change</th>\n",
       "      <th>rosetta_lk_ball_iso_change</th>\n",
       "      <th>rosetta_lk_ball_change</th>\n",
       "      <th>rosetta_fa_intra_sol_xover4_change</th>\n",
       "      <th>rosetta_fa_intra_rep_xover4_change</th>\n",
       "      <th>rosetta_fa_intra_atr_xover4_change</th>\n",
       "      <th>rosetta_fa_sol_change</th>\n",
       "      <th>rosetta_fa_rep_change</th>\n",
       "      <th>rosetta_fa_atr_change</th>\n",
       "      <th>rosetta_dg_change</th>\n",
       "    </tr>\n",
       "  </thead>\n",
       "  <tbody>\n",
       "    <tr>\n",
       "      <th>0</th>\n",
       "      <td>O97980</td>\n",
       "      <td>H16Y</td>\n",
       "      <td>LB/B</td>\n",
       "      <td>71.898</td>\n",
       "      <td>41.522333</td>\n",
       "      <td>-23.888</td>\n",
       "      <td>21.799667</td>\n",
       "      <td>2.173333</td>\n",
       "      <td>53.990667</td>\n",
       "      <td>33.745333</td>\n",
       "      <td>43.407667</td>\n",
       "      <td>103.566667</td>\n",
       "      <td>0.0</td>\n",
       "      <td>-1.52</td>\n",
       "      <td>0.0</td>\n",
       "      <td>0.0</td>\n",
       "      <td>-5.942</td>\n",
       "      <td>-8.984333</td>\n",
       "      <td>-15.621333</td>\n",
       "      <td>-0.212</td>\n",
       "      <td>-0.040333</td>\n",
       "      <td>-45.462</td>\n",
       "      <td>20.883667</td>\n",
       "      <td>11.069667</td>\n",
       "      <td>3.200</td>\n",
       "      <td>-14.431333</td>\n",
       "      <td>91.535333</td>\n",
       "      <td>4.537333</td>\n",
       "      <td>-99.084667</td>\n",
       "      <td>288.143333</td>\n",
       "      <td>0.427</td>\n",
       "      <td>-0.115333</td>\n",
       "      <td>0.83</td>\n",
       "      <td>0.029333</td>\n",
       "      <td>0.168667</td>\n",
       "      <td>0.097333</td>\n",
       "      <td>0.160667</td>\n",
       "      <td>0.111333</td>\n",
       "      <td>-0.000667</td>\n",
       "      <td>0.0</td>\n",
       "      <td>0.0</td>\n",
       "      <td>0.000</td>\n",
       "      <td>0.0</td>\n",
       "      <td>0.0</td>\n",
       "      <td>-0.063667</td>\n",
       "      <td>-0.588667</td>\n",
       "      <td>-0.174</td>\n",
       "      <td>-0.020667</td>\n",
       "      <td>0.016</td>\n",
       "      <td>0.512333</td>\n",
       "      <td>-0.241667</td>\n",
       "      <td>0.011</td>\n",
       "      <td>-0.411667</td>\n",
       "      <td>-1.572333</td>\n",
       "      <td>0.332667</td>\n",
       "      <td>-1.902333</td>\n",
       "      <td>-2.392333</td>\n",
       "    </tr>\n",
       "    <tr>\n",
       "      <th>1</th>\n",
       "      <td>A0A0C5B5G6</td>\n",
       "      <td>K14Q</td>\n",
       "      <td>US</td>\n",
       "      <td>28.964</td>\n",
       "      <td>23.071000</td>\n",
       "      <td>-2.435</td>\n",
       "      <td>0.003000</td>\n",
       "      <td>2.241000</td>\n",
       "      <td>17.628000</td>\n",
       "      <td>15.728000</td>\n",
       "      <td>14.727000</td>\n",
       "      <td>26.549000</td>\n",
       "      <td>0.0</td>\n",
       "      <td>0.00</td>\n",
       "      <td>0.0</td>\n",
       "      <td>0.0</td>\n",
       "      <td>-1.824</td>\n",
       "      <td>-1.160000</td>\n",
       "      <td>-1.069000</td>\n",
       "      <td>-0.295</td>\n",
       "      <td>-0.028000</td>\n",
       "      <td>-16.627</td>\n",
       "      <td>7.977000</td>\n",
       "      <td>4.731000</td>\n",
       "      <td>1.432</td>\n",
       "      <td>-8.683000</td>\n",
       "      <td>32.060000</td>\n",
       "      <td>1.931000</td>\n",
       "      <td>-42.063000</td>\n",
       "      <td>102.859000</td>\n",
       "      <td>1.250</td>\n",
       "      <td>-0.065000</td>\n",
       "      <td>0.61</td>\n",
       "      <td>0.001000</td>\n",
       "      <td>0.002000</td>\n",
       "      <td>2.678000</td>\n",
       "      <td>-1.646000</td>\n",
       "      <td>0.083000</td>\n",
       "      <td>0.149000</td>\n",
       "      <td>0.0</td>\n",
       "      <td>0.0</td>\n",
       "      <td>-1.137</td>\n",
       "      <td>0.0</td>\n",
       "      <td>0.0</td>\n",
       "      <td>-0.253000</td>\n",
       "      <td>-1.836000</td>\n",
       "      <td>0.039</td>\n",
       "      <td>0.001000</td>\n",
       "      <td>-0.808</td>\n",
       "      <td>0.576000</td>\n",
       "      <td>0.172000</td>\n",
       "      <td>0.066</td>\n",
       "      <td>-0.205000</td>\n",
       "      <td>1.423000</td>\n",
       "      <td>0.070000</td>\n",
       "      <td>-1.354000</td>\n",
       "      <td>-0.186000</td>\n",
       "    </tr>\n",
       "  </tbody>\n",
       "</table>\n",
       "</div>"
      ],
      "text/plain": [
       "   protein_id mutation effect  rosetta_cart_bonded_wt  rosetta_rama_prepro_wt  \\\n",
       "0      O97980     H16Y   LB/B                  71.898               41.522333   \n",
       "1  A0A0C5B5G6     K14Q     US                  28.964               23.071000   \n",
       "\n",
       "   rosetta_ref_wt  rosetta_hxl_tors_wt  rosetta_p_aa_pp_wt  \\\n",
       "0         -23.888            21.799667            2.173333   \n",
       "1          -2.435             0.003000            2.241000   \n",
       "\n",
       "   rosetta_fa_dun_semi_wt  rosetta_fa_dun_rot_wt  rosetta_fa_dun_dev_wt  \\\n",
       "0               53.990667              33.745333              43.407667   \n",
       "1               17.628000              15.728000              14.727000   \n",
       "\n",
       "   rosetta_omega_wt  rosetta_dslf_fa13_wt  rosetta_hbond_sc_wt  \\\n",
       "0        103.566667                   0.0                -1.52   \n",
       "1         26.549000                   0.0                 0.00   \n",
       "\n",
       "   rosetta_hbond_bb_sc_wt  rosetta_hbond_lr_bb_wt  rosetta_hbond_sr_bb_wt  \\\n",
       "0                     0.0                     0.0                  -5.942   \n",
       "1                     0.0                     0.0                  -1.824   \n",
       "\n",
       "   rosetta_fa_intra_elec_wt  rosetta_fa_elec_wt  \\\n",
       "0                 -8.984333          -15.621333   \n",
       "1                 -1.160000           -1.069000   \n",
       "\n",
       "   rosetta_lk_ball_bridge_uncpl_wt  rosetta_lk_ball_bridge_wt  \\\n",
       "0                           -0.212                  -0.040333   \n",
       "1                           -0.295                  -0.028000   \n",
       "\n",
       "   rosetta_lk_ball_iso_wt  rosetta_lk_ball_wt  rosetta_fa_intra_sol_xover4_wt  \\\n",
       "0                 -45.462           20.883667                       11.069667   \n",
       "1                 -16.627            7.977000                        4.731000   \n",
       "\n",
       "   rosetta_fa_intra_rep_xover4_wt  rosetta_fa_intra_atr_xover4_wt  \\\n",
       "0                           3.200                      -14.431333   \n",
       "1                           1.432                       -8.683000   \n",
       "\n",
       "   rosetta_fa_sol_wt  rosetta_fa_rep_wt  rosetta_fa_atr_wt  rosetta_dg_wt  \\\n",
       "0          91.535333           4.537333         -99.084667     288.143333   \n",
       "1          32.060000           1.931000         -42.063000     102.859000   \n",
       "\n",
       "   rosetta_cart_bonded_change  rosetta_rama_prepro_change  rosetta_ref_change  \\\n",
       "0                       0.427                   -0.115333                0.83   \n",
       "1                       1.250                   -0.065000                0.61   \n",
       "\n",
       "   rosetta_hxl_tors_change  rosetta_p_aa_pp_change  \\\n",
       "0                 0.029333                0.168667   \n",
       "1                 0.001000                0.002000   \n",
       "\n",
       "   rosetta_fa_dun_semi_change  rosetta_fa_dun_rot_change  \\\n",
       "0                    0.097333                   0.160667   \n",
       "1                    2.678000                  -1.646000   \n",
       "\n",
       "   rosetta_fa_dun_dev_change  rosetta_omega_change  rosetta_dslf_fa13_change  \\\n",
       "0                   0.111333             -0.000667                       0.0   \n",
       "1                   0.083000              0.149000                       0.0   \n",
       "\n",
       "   rosetta_hbond_sc_change  rosetta_hbond_bb_sc_change  \\\n",
       "0                      0.0                       0.000   \n",
       "1                      0.0                      -1.137   \n",
       "\n",
       "   rosetta_hbond_lr_bb_change  rosetta_hbond_sr_bb_change  \\\n",
       "0                         0.0                         0.0   \n",
       "1                         0.0                         0.0   \n",
       "\n",
       "   rosetta_fa_intra_elec_change  rosetta_fa_elec_change  \\\n",
       "0                     -0.063667               -0.588667   \n",
       "1                     -0.253000               -1.836000   \n",
       "\n",
       "   rosetta_lk_ball_bridge_uncpl_change  rosetta_lk_ball_bridge_change  \\\n",
       "0                               -0.174                      -0.020667   \n",
       "1                                0.039                       0.001000   \n",
       "\n",
       "   rosetta_lk_ball_iso_change  rosetta_lk_ball_change  \\\n",
       "0                       0.016                0.512333   \n",
       "1                      -0.808                0.576000   \n",
       "\n",
       "   rosetta_fa_intra_sol_xover4_change  rosetta_fa_intra_rep_xover4_change  \\\n",
       "0                           -0.241667                               0.011   \n",
       "1                            0.172000                               0.066   \n",
       "\n",
       "   rosetta_fa_intra_atr_xover4_change  rosetta_fa_sol_change  \\\n",
       "0                           -0.411667              -1.572333   \n",
       "1                           -0.205000               1.423000   \n",
       "\n",
       "   rosetta_fa_rep_change  rosetta_fa_atr_change  rosetta_dg_change  \n",
       "0               0.332667              -1.902333          -2.392333  \n",
       "1               0.070000              -1.354000          -0.186000  "
      ]
     },
     "metadata": {},
     "output_type": "display_data"
    },
    {
     "name": "stdout",
     "output_type": "stream",
     "text": [
      "61179\n"
     ]
    }
   ],
   "source": [
    "display(result_ra_df.head(2))\n",
    "print(len(result_ra_df))\n",
    "\n",
    "assert len(result_ra_df) == total_num_mutations"
   ]
  },
  {
   "cell_type": "code",
   "execution_count": 26,
   "id": "a2525b4a-f7de-4e74-b6fa-caeb214f1715",
   "metadata": {},
   "outputs": [],
   "source": [
    "# proteinsolver_keys = set(result_ps_df[[\"protein_id\", \"mutation\"]].apply(tuple, axis=1))\n",
    "# rosetta_keys = set(result_ra_df[[\"protein_id\", \"mutation\"]].apply(tuple, axis=1))\n",
    "# rosetta_missing_keys = proteinsolver_keys - rosetta_keys\n",
    "\n",
    "# assert not rosetta_missing_keys"
   ]
  },
  {
   "cell_type": "markdown",
   "id": "d2ed0cdf-3587-4a99-be53-a1a812d82267",
   "metadata": {},
   "source": [
    "### MSA"
   ]
  },
  {
   "cell_type": "code",
   "execution_count": 27,
   "id": "740e9f7a-6fed-45d1-8bc0-a4b21c33f03d",
   "metadata": {},
   "outputs": [
    {
     "data": {
      "text/plain": [
       "PosixPath('/gpfs/fs0/scratch/p/pmkim/strokach/workspace/elaspic2-cagi6/notebooks/31_run_msa_analysis/humsavar')"
      ]
     },
     "execution_count": 27,
     "metadata": {},
     "output_type": "execute_result"
    }
   ],
   "source": [
    "msa_result_dir = NOTEBOOK_DIR.parent.joinpath(\"31_run_msa_analysis\", DATASET_NAME)\n",
    "\n",
    "msa_result_dir"
   ]
  },
  {
   "cell_type": "code",
   "execution_count": 28,
   "id": "8eb4e4fc-2fe0-4d67-9411-c6e75b90ace6",
   "metadata": {},
   "outputs": [
    {
     "data": {
      "application/vnd.jupyter.widget-view+json": {
       "model_id": "03f3969a741f456f842a58b7e594a5c8",
       "version_major": 2,
       "version_minor": 0
      },
      "text/plain": [
       "HBox(children=(HTML(value=''), FloatProgress(value=0.0, max=12557.0), HTML(value='')))"
      ]
     },
     "metadata": {},
     "output_type": "display_data"
    },
    {
     "name": "stdout",
     "output_type": "stream",
     "text": [
      "\n"
     ]
    },
    {
     "data": {
      "text/plain": [
       "(12557, 0)"
      ]
     },
     "execution_count": 28,
     "metadata": {},
     "output_type": "execute_result"
    }
   ],
   "source": [
    "present_files, missing_files = get_result_files(msa_result_dir, TASK_COUNT_ALN)\n",
    "\n",
    "assert len(missing_files) == 0\n",
    "len(present_files), len(missing_files)"
   ]
  },
  {
   "cell_type": "code",
   "execution_count": 29,
   "id": "9b1424e5-ca18-4002-9886-75dd8513bba0",
   "metadata": {},
   "outputs": [
    {
     "data": {
      "application/vnd.jupyter.widget-view+json": {
       "model_id": "a089e97da1db4bb5811174a63d8998d8",
       "version_major": 2,
       "version_minor": 0
      },
      "text/plain": [
       "HBox(children=(HTML(value=''), FloatProgress(value=0.0, max=12557.0), HTML(value='')))"
      ]
     },
     "metadata": {},
     "output_type": "display_data"
    },
    {
     "name": "stdout",
     "output_type": "stream",
     "text": [
      "\n"
     ]
    }
   ],
   "source": [
    "result_msa_df = read_files(present_files)"
   ]
  },
  {
   "cell_type": "code",
   "execution_count": 30,
   "id": "064e6af7-24e4-4f95-9711-388c47b5a9d0",
   "metadata": {},
   "outputs": [
    {
     "data": {
      "text/html": [
       "<div>\n",
       "<style scoped>\n",
       "    .dataframe tbody tr th:only-of-type {\n",
       "        vertical-align: middle;\n",
       "    }\n",
       "\n",
       "    .dataframe tbody tr th {\n",
       "        vertical-align: top;\n",
       "    }\n",
       "\n",
       "    .dataframe thead th {\n",
       "        text-align: right;\n",
       "    }\n",
       "</style>\n",
       "<table border=\"1\" class=\"dataframe\">\n",
       "  <thead>\n",
       "    <tr style=\"text-align: right;\">\n",
       "      <th></th>\n",
       "      <th>protein_id</th>\n",
       "      <th>mutation</th>\n",
       "      <th>effect</th>\n",
       "      <th>msa_count_wt</th>\n",
       "      <th>msa_count_mut</th>\n",
       "      <th>msa_count_total</th>\n",
       "      <th>msa_proba_wt</th>\n",
       "      <th>msa_proba_mut</th>\n",
       "      <th>msa_proba_total</th>\n",
       "      <th>msa_length</th>\n",
       "      <th>msa_proba</th>\n",
       "      <th>msa_H</th>\n",
       "      <th>msa_KL</th>\n",
       "    </tr>\n",
       "  </thead>\n",
       "  <tbody>\n",
       "    <tr>\n",
       "      <th>0</th>\n",
       "      <td>A0A0C5B5G6</td>\n",
       "      <td>K14Q</td>\n",
       "      <td>US</td>\n",
       "      <td>3.0</td>\n",
       "      <td>0.0</td>\n",
       "      <td>3.0</td>\n",
       "      <td>-1.749200</td>\n",
       "      <td>-3.135494</td>\n",
       "      <td>-61.323590</td>\n",
       "      <td>3</td>\n",
       "      <td>-1.749200</td>\n",
       "      <td>-0.000000</td>\n",
       "      <td>2.849038</td>\n",
       "    </tr>\n",
       "    <tr>\n",
       "      <th>1</th>\n",
       "      <td>P0CJ72</td>\n",
       "      <td>T13I</td>\n",
       "      <td>LB/B</td>\n",
       "      <td>5.0</td>\n",
       "      <td>9.0</td>\n",
       "      <td>16.0</td>\n",
       "      <td>-1.791759</td>\n",
       "      <td>-1.280934</td>\n",
       "      <td>-66.477422</td>\n",
       "      <td>16</td>\n",
       "      <td>-1.160392</td>\n",
       "      <td>0.862912</td>\n",
       "      <td>1.853562</td>\n",
       "    </tr>\n",
       "  </tbody>\n",
       "</table>\n",
       "</div>"
      ],
      "text/plain": [
       "   protein_id mutation effect  msa_count_wt  msa_count_mut  msa_count_total  \\\n",
       "0  A0A0C5B5G6     K14Q     US           3.0            0.0              3.0   \n",
       "1      P0CJ72     T13I   LB/B           5.0            9.0             16.0   \n",
       "\n",
       "   msa_proba_wt  msa_proba_mut  msa_proba_total  msa_length  msa_proba  \\\n",
       "0     -1.749200      -3.135494       -61.323590           3  -1.749200   \n",
       "1     -1.791759      -1.280934       -66.477422          16  -1.160392   \n",
       "\n",
       "      msa_H    msa_KL  \n",
       "0 -0.000000  2.849038  \n",
       "1  0.862912  1.853562  "
      ]
     },
     "metadata": {},
     "output_type": "display_data"
    },
    {
     "name": "stdout",
     "output_type": "stream",
     "text": [
      "61174\n"
     ]
    }
   ],
   "source": [
    "display(result_msa_df.head(2))\n",
    "print(len(result_msa_df))\n",
    "\n",
    "assert len(result_msa_df) == total_num_aln_mutations"
   ]
  },
  {
   "cell_type": "code",
   "execution_count": 31,
   "id": "4836bbb9-6777-4a25-9ce4-38132aebcce1",
   "metadata": {},
   "outputs": [],
   "source": [
    "# proteinsolver_keys = set(result_ps_df[[\"protein_id\", \"mutation\"]].apply(tuple, axis=1))\n",
    "# msa_keys = set(result_pb_df[[\"protein_id\", \"mutation\"]].apply(tuple, axis=1))\n",
    "# msa_missing_keys = proteinsolver_keys - msa_keys"
   ]
  },
  {
   "cell_type": "code",
   "execution_count": 32,
   "id": "97c1dc0e-8270-4d6c-bde9-09041964c895",
   "metadata": {},
   "outputs": [],
   "source": [
    "# missing_task_ids = []\n",
    "# for row_group in tqdm(range(pfile_aln.num_row_groups)):\n",
    "#     df = pfile_aln.read_row_group(row_group, columns=[\"protein_id\", \"mutation\"]).to_pandas()[\n",
    "#         [\"protein_id\", \"mutation\"]\n",
    "#     ]\n",
    "\n",
    "#     row_keys = set()\n",
    "#     for tup in df.itertuples():\n",
    "#         for mutation in tup.mutation:\n",
    "#             row_keys.add((tup.protein_id, mutation))\n",
    "\n",
    "#     if protbert_missing_keys & row_keys:\n",
    "#         missing_task_ids.append(row_group + 1)\n",
    "\n",
    "# missing_task_ids"
   ]
  },
  {
   "cell_type": "markdown",
   "id": "4778fbf7-217c-4262-8d82-e0f20d4c8c4c",
   "metadata": {},
   "source": [
    "### AlphaFold"
   ]
  },
  {
   "cell_type": "code",
   "execution_count": 33,
   "id": "a8637695-6750-4622-a660-b282e6d2266f",
   "metadata": {},
   "outputs": [
    {
     "data": {
      "text/plain": [
       "PosixPath('/gpfs/fs0/scratch/p/pmkim/strokach/workspace/elaspic2-cagi6/notebooks/31_run_alphafold/humsavar')"
      ]
     },
     "execution_count": 33,
     "metadata": {},
     "output_type": "execute_result"
    }
   ],
   "source": [
    "af_result_dir = NOTEBOOK_DIR.parent.joinpath(\"31_run_alphafold\", DATASET_NAME)\n",
    "\n",
    "af_result_dir"
   ]
  },
  {
   "cell_type": "code",
   "execution_count": 34,
   "id": "ea35a7ef-3fb7-495b-8247-4926193ec846",
   "metadata": {},
   "outputs": [
    {
     "data": {
      "application/vnd.jupyter.widget-view+json": {
       "model_id": "56f9a959eb30482ea4559ab2656ccc11",
       "version_major": 2,
       "version_minor": 0
      },
      "text/plain": [
       "HBox(children=(HTML(value=''), FloatProgress(value=0.0, max=12557.0), HTML(value='')))"
      ]
     },
     "metadata": {},
     "output_type": "display_data"
    },
    {
     "name": "stdout",
     "output_type": "stream",
     "text": [
      "\n"
     ]
    },
    {
     "data": {
      "text/plain": [
       "(12557, 0)"
      ]
     },
     "execution_count": 34,
     "metadata": {},
     "output_type": "execute_result"
    }
   ],
   "source": [
    "present_files, missing_files = get_result_files(af_result_dir, TASK_COUNT_ALN)\n",
    "\n",
    "len(present_files), len(missing_files)"
   ]
  },
  {
   "cell_type": "code",
   "execution_count": 35,
   "id": "90f1e809-03a3-47b1-a943-89f23a178d74",
   "metadata": {},
   "outputs": [
    {
     "data": {
      "application/vnd.jupyter.widget-view+json": {
       "model_id": "f8a8cd32333646a991eff6f0e9d08779",
       "version_major": 2,
       "version_minor": 0
      },
      "text/plain": [
       "HBox(children=(HTML(value=''), FloatProgress(value=0.0, max=12557.0), HTML(value='')))"
      ]
     },
     "metadata": {},
     "output_type": "display_data"
    },
    {
     "name": "stdout",
     "output_type": "stream",
     "text": [
      "\n"
     ]
    }
   ],
   "source": [
    "result_af_df = read_files(present_files)"
   ]
  },
  {
   "cell_type": "code",
   "execution_count": 36,
   "id": "056fa290-29e4-4cd4-b3b9-db7a01f89080",
   "metadata": {},
   "outputs": [
    {
     "data": {
      "text/html": [
       "<div>\n",
       "<style scoped>\n",
       "    .dataframe tbody tr th:only-of-type {\n",
       "        vertical-align: middle;\n",
       "    }\n",
       "\n",
       "    .dataframe tbody tr th {\n",
       "        vertical-align: top;\n",
       "    }\n",
       "\n",
       "    .dataframe thead th {\n",
       "        text-align: right;\n",
       "    }\n",
       "</style>\n",
       "<table border=\"1\" class=\"dataframe\">\n",
       "  <thead>\n",
       "    <tr style=\"text-align: right;\">\n",
       "      <th></th>\n",
       "      <th>protein_id</th>\n",
       "      <th>mutation</th>\n",
       "      <th>alphafold_core_score_plddt</th>\n",
       "      <th>alphafold_core_score_protein_plddt</th>\n",
       "      <th>alphafold_core_score_protein_max_predicted_aligned_error</th>\n",
       "      <th>alphafold_core_score_protein_ptm</th>\n",
       "      <th>alphafold_core_features_experimentally_resolved</th>\n",
       "      <th>alphafold_core_features_predicted_lddt</th>\n",
       "      <th>alphafold_core_features_msa_first_row</th>\n",
       "      <th>alphafold_core_features_single</th>\n",
       "      <th>alphafold_core_features_structure_module</th>\n",
       "      <th>alphafold_core_score_predicted_aligned_error_row_mean</th>\n",
       "      <th>alphafold_core_score_predicted_aligned_error_row_max</th>\n",
       "      <th>alphafold_core_score_predicted_aligned_error_col_mean</th>\n",
       "      <th>alphafold_core_score_predicted_aligned_error_col_max</th>\n",
       "      <th>alphafold_core_score_predicted_aligned_error_diag</th>\n",
       "      <th>alphafold_core_features_distogram_row_mean</th>\n",
       "      <th>alphafold_core_features_aligned_confidence_probs_row_mean</th>\n",
       "      <th>alphafold_core_features_pair_row_mean</th>\n",
       "      <th>alphafold_core_features_distogram_row_max</th>\n",
       "      <th>alphafold_core_features_aligned_confidence_probs_row_max</th>\n",
       "      <th>alphafold_core_features_pair_row_max</th>\n",
       "      <th>alphafold_core_features_distogram_col_mean</th>\n",
       "      <th>alphafold_core_features_aligned_confidence_probs_col_mean</th>\n",
       "      <th>alphafold_core_features_pair_col_mean</th>\n",
       "      <th>alphafold_core_features_distogram_col_max</th>\n",
       "      <th>alphafold_core_features_aligned_confidence_probs_col_max</th>\n",
       "      <th>alphafold_core_features_pair_col_max</th>\n",
       "      <th>alphafold_core_features_distogram_diag</th>\n",
       "      <th>alphafold_core_features_aligned_confidence_probs_diag</th>\n",
       "      <th>alphafold_core_features_pair_diag</th>\n",
       "      <th>alphafold_core_score_msa_logits_first_wt</th>\n",
       "      <th>alphafold_core_score_msa_logits_first_mut</th>\n",
       "      <th>alphafold_core_score_msa_logits_mean_wt</th>\n",
       "      <th>alphafold_core_score_msa_logits_mean_mut</th>\n",
       "      <th>alphafold_core_score_msa_logits_max_wt</th>\n",
       "      <th>alphafold_core_score_msa_logits_max_mut</th>\n",
       "      <th>alphafold_core_score_msa_logproba_first_wt</th>\n",
       "      <th>alphafold_core_score_msa_logproba_first_mut</th>\n",
       "      <th>alphafold_core_score_msa_logproba_mean_wt</th>\n",
       "      <th>alphafold_core_score_msa_logproba_mean_mut</th>\n",
       "      <th>alphafold_core_score_msa_logproba_max_wt</th>\n",
       "      <th>alphafold_core_score_msa_logproba_max_mut</th>\n",
       "      <th>alphafold_core_features_msa_first</th>\n",
       "      <th>alphafold_core_features_msa_mean</th>\n",
       "      <th>alphafold_core_features_msa_max</th>\n",
       "    </tr>\n",
       "  </thead>\n",
       "  <tbody>\n",
       "    <tr>\n",
       "      <th>0</th>\n",
       "      <td>A0A0C5B5G6</td>\n",
       "      <td>K14Q</td>\n",
       "      <td>56.406708</td>\n",
       "      <td>62.003188</td>\n",
       "      <td>31.75</td>\n",
       "      <td>0.027069</td>\n",
       "      <td>[0.0023722572, 0.018356942, 0.10303657, 0.1508...</td>\n",
       "      <td>[-5.2305098, -5.6203985, -4.857919, -3.7483947...</td>\n",
       "      <td>[-3.567015, -5.2736416, -9.009683, -3.05795, 5...</td>\n",
       "      <td>[24.392054, 3.2788322, 21.41848, 21.365389, 6....</td>\n",
       "      <td>[0.005355336, 0.010748506, -0.0057989154, 0.00...</td>\n",
       "      <td>8.574256</td>\n",
       "      <td>17.349895</td>\n",
       "      <td>9.382161</td>\n",
       "      <td>21.666225</td>\n",
       "      <td>0.25235</td>\n",
       "      <td>[2.496045768260956, -4.968722492456436, -5.866...</td>\n",
       "      <td>[0.06330700959642854, 0.06389473706803983, 0.0...</td>\n",
       "      <td>[3.3381232991814613, 29.497473165392876, -2.04...</td>\n",
       "      <td>[114.23722839355469, 3.4389352798461914, 3.910...</td>\n",
       "      <td>[0.9999160766601562, 0.3767480254173279, 0.279...</td>\n",
       "      <td>[23.421672821044922, 601.749267578125, 35.1634...</td>\n",
       "      <td>[2.496045768260956, -4.968722492456436, -5.866...</td>\n",
       "      <td>[0.0632605097234773, 0.062133513205480995, 0.0...</td>\n",
       "      <td>[5.810895625501871, 36.592444146052, 0.6604679...</td>\n",
       "      <td>[114.23722839355469, 3.4389352798461914, 3.910...</td>\n",
       "      <td>[0.9999160766601562, 0.37512755393981934, 0.28...</td>\n",
       "      <td>[23.421672821044922, 601.749267578125, 35.1634...</td>\n",
       "      <td>[114.23722839355469, -3.2029566764831543, -26....</td>\n",
       "      <td>[0.9999160766601562, 0.0, 0.0, 0.0, 0.0, 0.0, ...</td>\n",
       "      <td>[23.421672821044922, 601.749267578125, 35.1634...</td>\n",
       "      <td>10.019153</td>\n",
       "      <td>1.129459</td>\n",
       "      <td>0.734094</td>\n",
       "      <td>-2.090972</td>\n",
       "      <td>10.019153</td>\n",
       "      <td>1.129459</td>\n",
       "      <td>-0.001928</td>\n",
       "      <td>-8.891622</td>\n",
       "      <td>-3.104038</td>\n",
       "      <td>-5.929103</td>\n",
       "      <td>-0.001928</td>\n",
       "      <td>-5.923260</td>\n",
       "      <td>[-4.41256046295166, -5.1106367111206055, -9.10...</td>\n",
       "      <td>[-4.500693058404397, -0.7133069470172791, 5.53...</td>\n",
       "      <td>[-4.41256046295166, -0.7046337127685547, 5.566...</td>\n",
       "    </tr>\n",
       "    <tr>\n",
       "      <th>1</th>\n",
       "      <td>P0CJ72</td>\n",
       "      <td>T13I</td>\n",
       "      <td>64.431250</td>\n",
       "      <td>61.304924</td>\n",
       "      <td>31.75</td>\n",
       "      <td>0.114342</td>\n",
       "      <td>[0.08796918, 0.03081914, -0.044761796, 0.01308...</td>\n",
       "      <td>[-5.798191, -7.272913, -6.322961, -5.6527224, ...</td>\n",
       "      <td>[1.0994258, -0.6997881, -10.329717, -0.7453602...</td>\n",
       "      <td>[-18.75544, 4.724907, -9.10808, -33.123413, -3...</td>\n",
       "      <td>[0.004412666, 0.0069596395, -0.0060222056, 0.0...</td>\n",
       "      <td>10.042964</td>\n",
       "      <td>18.048836</td>\n",
       "      <td>9.345033</td>\n",
       "      <td>20.223888</td>\n",
       "      <td>0.25028</td>\n",
       "      <td>[0.8779546022415161, -5.235870281855266, -5.63...</td>\n",
       "      <td>[0.04259219509306907, 0.052577671876254804, 0....</td>\n",
       "      <td>[1.9545368279019992, 28.045276482899983, -2.61...</td>\n",
       "      <td>[129.9250030517578, 3.802384376525879, 4.86940...</td>\n",
       "      <td>[0.999992311000824, 0.4319790005683899, 0.2649...</td>\n",
       "      <td>[12.280369758605957, 692.3701171875, 22.935337...</td>\n",
       "      <td>[0.8779546022415161, -5.235870281855266, -5.63...</td>\n",
       "      <td>[0.04238582096998774, 0.05880330579505729, 0.0...</td>\n",
       "      <td>[2.3460903018712997, 26.394239125152428, -2.37...</td>\n",
       "      <td>[129.9250030517578, 3.802384376525879, 4.86940...</td>\n",
       "      <td>[0.999992311000824, 0.46187347173690796, 0.241...</td>\n",
       "      <td>[10.505098342895508, 692.3701171875, 22.935337...</td>\n",
       "      <td>[129.9250030517578, -8.64072036743164, -35.039...</td>\n",
       "      <td>[0.999992311000824, 0.0, 0.0, 0.0, 0.0, 0.0, 0...</td>\n",
       "      <td>[7.677867412567139, 692.3701171875, 22.9353370...</td>\n",
       "      <td>7.333201</td>\n",
       "      <td>2.725174</td>\n",
       "      <td>1.394253</td>\n",
       "      <td>1.605194</td>\n",
       "      <td>7.946972</td>\n",
       "      <td>11.149406</td>\n",
       "      <td>-0.022161</td>\n",
       "      <td>-4.630187</td>\n",
       "      <td>-1.908599</td>\n",
       "      <td>-1.697658</td>\n",
       "      <td>-0.014630</td>\n",
       "      <td>-0.001242</td>\n",
       "      <td>[3.5523734092712402, -2.357158660888672, -16.4...</td>\n",
       "      <td>[1.1172368567231603, -0.863215982913971, -2.52...</td>\n",
       "      <td>[3.5523734092712402, 1.110595703125, 2.2950477...</td>\n",
       "    </tr>\n",
       "  </tbody>\n",
       "</table>\n",
       "</div>"
      ],
      "text/plain": [
       "   protein_id mutation  alphafold_core_score_plddt  \\\n",
       "0  A0A0C5B5G6     K14Q                   56.406708   \n",
       "1      P0CJ72     T13I                   64.431250   \n",
       "\n",
       "   alphafold_core_score_protein_plddt  \\\n",
       "0                           62.003188   \n",
       "1                           61.304924   \n",
       "\n",
       "   alphafold_core_score_protein_max_predicted_aligned_error  \\\n",
       "0                                              31.75          \n",
       "1                                              31.75          \n",
       "\n",
       "   alphafold_core_score_protein_ptm  \\\n",
       "0                          0.027069   \n",
       "1                          0.114342   \n",
       "\n",
       "     alphafold_core_features_experimentally_resolved  \\\n",
       "0  [0.0023722572, 0.018356942, 0.10303657, 0.1508...   \n",
       "1  [0.08796918, 0.03081914, -0.044761796, 0.01308...   \n",
       "\n",
       "              alphafold_core_features_predicted_lddt  \\\n",
       "0  [-5.2305098, -5.6203985, -4.857919, -3.7483947...   \n",
       "1  [-5.798191, -7.272913, -6.322961, -5.6527224, ...   \n",
       "\n",
       "               alphafold_core_features_msa_first_row  \\\n",
       "0  [-3.567015, -5.2736416, -9.009683, -3.05795, 5...   \n",
       "1  [1.0994258, -0.6997881, -10.329717, -0.7453602...   \n",
       "\n",
       "                      alphafold_core_features_single  \\\n",
       "0  [24.392054, 3.2788322, 21.41848, 21.365389, 6....   \n",
       "1  [-18.75544, 4.724907, -9.10808, -33.123413, -3...   \n",
       "\n",
       "            alphafold_core_features_structure_module  \\\n",
       "0  [0.005355336, 0.010748506, -0.0057989154, 0.00...   \n",
       "1  [0.004412666, 0.0069596395, -0.0060222056, 0.0...   \n",
       "\n",
       "   alphafold_core_score_predicted_aligned_error_row_mean  \\\n",
       "0                                           8.574256       \n",
       "1                                          10.042964       \n",
       "\n",
       "   alphafold_core_score_predicted_aligned_error_row_max  \\\n",
       "0                                          17.349895      \n",
       "1                                          18.048836      \n",
       "\n",
       "   alphafold_core_score_predicted_aligned_error_col_mean  \\\n",
       "0                                           9.382161       \n",
       "1                                           9.345033       \n",
       "\n",
       "   alphafold_core_score_predicted_aligned_error_col_max  \\\n",
       "0                                          21.666225      \n",
       "1                                          20.223888      \n",
       "\n",
       "   alphafold_core_score_predicted_aligned_error_diag  \\\n",
       "0                                            0.25235   \n",
       "1                                            0.25028   \n",
       "\n",
       "          alphafold_core_features_distogram_row_mean  \\\n",
       "0  [2.496045768260956, -4.968722492456436, -5.866...   \n",
       "1  [0.8779546022415161, -5.235870281855266, -5.63...   \n",
       "\n",
       "  alphafold_core_features_aligned_confidence_probs_row_mean  \\\n",
       "0  [0.06330700959642854, 0.06389473706803983, 0.0...          \n",
       "1  [0.04259219509306907, 0.052577671876254804, 0....          \n",
       "\n",
       "               alphafold_core_features_pair_row_mean  \\\n",
       "0  [3.3381232991814613, 29.497473165392876, -2.04...   \n",
       "1  [1.9545368279019992, 28.045276482899983, -2.61...   \n",
       "\n",
       "           alphafold_core_features_distogram_row_max  \\\n",
       "0  [114.23722839355469, 3.4389352798461914, 3.910...   \n",
       "1  [129.9250030517578, 3.802384376525879, 4.86940...   \n",
       "\n",
       "  alphafold_core_features_aligned_confidence_probs_row_max  \\\n",
       "0  [0.9999160766601562, 0.3767480254173279, 0.279...         \n",
       "1  [0.999992311000824, 0.4319790005683899, 0.2649...         \n",
       "\n",
       "                alphafold_core_features_pair_row_max  \\\n",
       "0  [23.421672821044922, 601.749267578125, 35.1634...   \n",
       "1  [12.280369758605957, 692.3701171875, 22.935337...   \n",
       "\n",
       "          alphafold_core_features_distogram_col_mean  \\\n",
       "0  [2.496045768260956, -4.968722492456436, -5.866...   \n",
       "1  [0.8779546022415161, -5.235870281855266, -5.63...   \n",
       "\n",
       "  alphafold_core_features_aligned_confidence_probs_col_mean  \\\n",
       "0  [0.0632605097234773, 0.062133513205480995, 0.0...          \n",
       "1  [0.04238582096998774, 0.05880330579505729, 0.0...          \n",
       "\n",
       "               alphafold_core_features_pair_col_mean  \\\n",
       "0  [5.810895625501871, 36.592444146052, 0.6604679...   \n",
       "1  [2.3460903018712997, 26.394239125152428, -2.37...   \n",
       "\n",
       "           alphafold_core_features_distogram_col_max  \\\n",
       "0  [114.23722839355469, 3.4389352798461914, 3.910...   \n",
       "1  [129.9250030517578, 3.802384376525879, 4.86940...   \n",
       "\n",
       "  alphafold_core_features_aligned_confidence_probs_col_max  \\\n",
       "0  [0.9999160766601562, 0.37512755393981934, 0.28...         \n",
       "1  [0.999992311000824, 0.46187347173690796, 0.241...         \n",
       "\n",
       "                alphafold_core_features_pair_col_max  \\\n",
       "0  [23.421672821044922, 601.749267578125, 35.1634...   \n",
       "1  [10.505098342895508, 692.3701171875, 22.935337...   \n",
       "\n",
       "              alphafold_core_features_distogram_diag  \\\n",
       "0  [114.23722839355469, -3.2029566764831543, -26....   \n",
       "1  [129.9250030517578, -8.64072036743164, -35.039...   \n",
       "\n",
       "  alphafold_core_features_aligned_confidence_probs_diag  \\\n",
       "0  [0.9999160766601562, 0.0, 0.0, 0.0, 0.0, 0.0, ...      \n",
       "1  [0.999992311000824, 0.0, 0.0, 0.0, 0.0, 0.0, 0...      \n",
       "\n",
       "                   alphafold_core_features_pair_diag  \\\n",
       "0  [23.421672821044922, 601.749267578125, 35.1634...   \n",
       "1  [7.677867412567139, 692.3701171875, 22.9353370...   \n",
       "\n",
       "   alphafold_core_score_msa_logits_first_wt  \\\n",
       "0                                 10.019153   \n",
       "1                                  7.333201   \n",
       "\n",
       "   alphafold_core_score_msa_logits_first_mut  \\\n",
       "0                                   1.129459   \n",
       "1                                   2.725174   \n",
       "\n",
       "   alphafold_core_score_msa_logits_mean_wt  \\\n",
       "0                                 0.734094   \n",
       "1                                 1.394253   \n",
       "\n",
       "   alphafold_core_score_msa_logits_mean_mut  \\\n",
       "0                                 -2.090972   \n",
       "1                                  1.605194   \n",
       "\n",
       "   alphafold_core_score_msa_logits_max_wt  \\\n",
       "0                               10.019153   \n",
       "1                                7.946972   \n",
       "\n",
       "   alphafold_core_score_msa_logits_max_mut  \\\n",
       "0                                 1.129459   \n",
       "1                                11.149406   \n",
       "\n",
       "   alphafold_core_score_msa_logproba_first_wt  \\\n",
       "0                                   -0.001928   \n",
       "1                                   -0.022161   \n",
       "\n",
       "   alphafold_core_score_msa_logproba_first_mut  \\\n",
       "0                                    -8.891622   \n",
       "1                                    -4.630187   \n",
       "\n",
       "   alphafold_core_score_msa_logproba_mean_wt  \\\n",
       "0                                  -3.104038   \n",
       "1                                  -1.908599   \n",
       "\n",
       "   alphafold_core_score_msa_logproba_mean_mut  \\\n",
       "0                                   -5.929103   \n",
       "1                                   -1.697658   \n",
       "\n",
       "   alphafold_core_score_msa_logproba_max_wt  \\\n",
       "0                                 -0.001928   \n",
       "1                                 -0.014630   \n",
       "\n",
       "   alphafold_core_score_msa_logproba_max_mut  \\\n",
       "0                                  -5.923260   \n",
       "1                                  -0.001242   \n",
       "\n",
       "                   alphafold_core_features_msa_first  \\\n",
       "0  [-4.41256046295166, -5.1106367111206055, -9.10...   \n",
       "1  [3.5523734092712402, -2.357158660888672, -16.4...   \n",
       "\n",
       "                    alphafold_core_features_msa_mean  \\\n",
       "0  [-4.500693058404397, -0.7133069470172791, 5.53...   \n",
       "1  [1.1172368567231603, -0.863215982913971, -2.52...   \n",
       "\n",
       "                     alphafold_core_features_msa_max  \n",
       "0  [-4.41256046295166, -0.7046337127685547, 5.566...  \n",
       "1  [3.5523734092712402, 1.110595703125, 2.2950477...  "
      ]
     },
     "metadata": {},
     "output_type": "display_data"
    },
    {
     "name": "stdout",
     "output_type": "stream",
     "text": [
      "61174\n"
     ]
    }
   ],
   "source": [
    "display(result_af_df.head(2))\n",
    "print(len(result_af_df))\n",
    "\n",
    "assert len(result_af_df) == total_num_aln_mutations"
   ]
  },
  {
   "cell_type": "markdown",
   "id": "13b0f435-a68e-4eb9-bd41-b0f09b105393",
   "metadata": {},
   "source": [
    "### CCMpred"
   ]
  },
  {
   "cell_type": "code",
   "execution_count": null,
   "id": "48c358e5-a633-4a5f-ace1-55d867682abc",
   "metadata": {},
   "outputs": [],
   "source": [
    "ccmpred_result_dir = NOTEBOOK_DIR.parent.joinpath(\"31_run_ccmpred\", DATASET_NAME)"
   ]
  },
  {
   "cell_type": "code",
   "execution_count": null,
   "id": "e69575c9-6ba6-45ed-8bee-e964eae8d891",
   "metadata": {},
   "outputs": [],
   "source": [
    "present_files, missing_files = get_result_files(ccmpred_result_dir)\n",
    "\n",
    "len(present_files), len(missing_files)"
   ]
  },
  {
   "cell_type": "code",
   "execution_count": null,
   "id": "5778af83-a01b-40bb-b337-9fac37fb571d",
   "metadata": {},
   "outputs": [],
   "source": [
    "result_ccmpred_df = read_files(present_files)"
   ]
  },
  {
   "cell_type": "code",
   "execution_count": null,
   "id": "a89e0609-acf6-4cb0-9f1f-5d1d6fd4ff38",
   "metadata": {},
   "outputs": [],
   "source": [
    "display(result_ccmpred_df.head(2))\n",
    "print(len(result_ccmpred_df))"
   ]
  },
  {
   "cell_type": "markdown",
   "id": "0465229e-f586-4efd-bb19-f2d07ca10906",
   "metadata": {},
   "source": [
    "## Combine results"
   ]
  },
  {
   "cell_type": "code",
   "execution_count": 37,
   "id": "59bac9ef-c7e0-4fff-b599-61dbb8362de5",
   "metadata": {},
   "outputs": [
    {
     "data": {
      "text/plain": [
       "True"
      ]
     },
     "execution_count": 37,
     "metadata": {},
     "output_type": "execute_result"
    }
   ],
   "source": [
    "len(result_ps_df) == len(result_ps_df[[\"protein_id\", \"mutation\"]].drop_duplicates())"
   ]
  },
  {
   "cell_type": "code",
   "execution_count": 38,
   "id": "7cbdb513-664c-4221-8d2d-b606a2d76975",
   "metadata": {},
   "outputs": [],
   "source": [
    "result_df = (\n",
    "    result_ps_df.merge(\n",
    "        result_pb_df, on=[\"protein_id\", \"mutation\", \"effect\"], how=\"left\"\n",
    "    )\n",
    "    .merge(result_ra_df, on=[\"protein_id\", \"mutation\", \"effect\"], how=\"left\")\n",
    "    .merge(result_msa_df, on=[\"protein_id\", \"mutation\", \"effect\"], how=\"left\")\n",
    "    .merge(result_af_df, on=[\"protein_id\", \"mutation\"], how=\"left\")\n",
    "    .merge(result_ccmpred_df, on=[\"protein_id\", \"mutation\"], how=\"left\")\n",
    ")\n",
    "\n",
    "assert len(result_df) == len(result_df[[\"protein_id\", \"mutation\"]].drop_duplicates())\n",
    "assert not (\n",
    "    set(result_ps_df[[\"protein_id\", \"mutation\"]].apply(tuple, axis=1))\n",
    "    | set(result_pb_df[[\"protein_id\", \"mutation\"]].apply(tuple, axis=1))\n",
    "    | set(result_ra_df[[\"protein_id\", \"mutation\"]].apply(tuple, axis=1))\n",
    "    | set(result_msa_df[[\"protein_id\", \"mutation\"]].apply(tuple, axis=1))\n",
    "    | set(result_af_df[[\"protein_id\", \"mutation\"]].apply(tuple, axis=1))\n",
    ") - set(result_df[[\"protein_id\", \"mutation\"]].apply(tuple, axis=1))"
   ]
  },
  {
   "cell_type": "code",
   "execution_count": 39,
   "id": "dea8c722-b788-4c4e-a6b6-765a292c2b54",
   "metadata": {},
   "outputs": [
    {
     "data": {
      "text/html": [
       "<div>\n",
       "<style scoped>\n",
       "    .dataframe tbody tr th:only-of-type {\n",
       "        vertical-align: middle;\n",
       "    }\n",
       "\n",
       "    .dataframe tbody tr th {\n",
       "        vertical-align: top;\n",
       "    }\n",
       "\n",
       "    .dataframe thead th {\n",
       "        text-align: right;\n",
       "    }\n",
       "</style>\n",
       "<table border=\"1\" class=\"dataframe\">\n",
       "  <thead>\n",
       "    <tr style=\"text-align: right;\">\n",
       "      <th></th>\n",
       "      <th>protein_id</th>\n",
       "      <th>mutation</th>\n",
       "      <th>effect</th>\n",
       "      <th>proteinsolver_core_score_wt</th>\n",
       "      <th>proteinsolver_core_score_mut</th>\n",
       "      <th>proteinsolver_core_features_residue_wt</th>\n",
       "      <th>proteinsolver_core_features_protein_wt</th>\n",
       "      <th>proteinsolver_core_features_residue_mut</th>\n",
       "      <th>proteinsolver_core_features_protein_mut</th>\n",
       "      <th>protbert_core_score_wt</th>\n",
       "      <th>protbert_core_score_mut</th>\n",
       "      <th>protbert_core_features_residue_wt</th>\n",
       "      <th>protbert_core_features_protein_wt</th>\n",
       "      <th>protbert_core_features_residue_mut</th>\n",
       "      <th>protbert_core_features_protein_mut</th>\n",
       "      <th>rosetta_cart_bonded_wt</th>\n",
       "      <th>rosetta_rama_prepro_wt</th>\n",
       "      <th>rosetta_ref_wt</th>\n",
       "      <th>rosetta_hxl_tors_wt</th>\n",
       "      <th>rosetta_p_aa_pp_wt</th>\n",
       "      <th>rosetta_fa_dun_semi_wt</th>\n",
       "      <th>rosetta_fa_dun_rot_wt</th>\n",
       "      <th>rosetta_fa_dun_dev_wt</th>\n",
       "      <th>rosetta_omega_wt</th>\n",
       "      <th>rosetta_dslf_fa13_wt</th>\n",
       "      <th>rosetta_hbond_sc_wt</th>\n",
       "      <th>rosetta_hbond_bb_sc_wt</th>\n",
       "      <th>rosetta_hbond_lr_bb_wt</th>\n",
       "      <th>rosetta_hbond_sr_bb_wt</th>\n",
       "      <th>rosetta_fa_intra_elec_wt</th>\n",
       "      <th>rosetta_fa_elec_wt</th>\n",
       "      <th>rosetta_lk_ball_bridge_uncpl_wt</th>\n",
       "      <th>rosetta_lk_ball_bridge_wt</th>\n",
       "      <th>rosetta_lk_ball_iso_wt</th>\n",
       "      <th>rosetta_lk_ball_wt</th>\n",
       "      <th>rosetta_fa_intra_sol_xover4_wt</th>\n",
       "      <th>rosetta_fa_intra_rep_xover4_wt</th>\n",
       "      <th>rosetta_fa_intra_atr_xover4_wt</th>\n",
       "      <th>rosetta_fa_sol_wt</th>\n",
       "      <th>rosetta_fa_rep_wt</th>\n",
       "      <th>rosetta_fa_atr_wt</th>\n",
       "      <th>rosetta_dg_wt</th>\n",
       "      <th>rosetta_cart_bonded_change</th>\n",
       "      <th>rosetta_rama_prepro_change</th>\n",
       "      <th>rosetta_ref_change</th>\n",
       "      <th>rosetta_hxl_tors_change</th>\n",
       "      <th>rosetta_p_aa_pp_change</th>\n",
       "      <th>rosetta_fa_dun_semi_change</th>\n",
       "      <th>rosetta_fa_dun_rot_change</th>\n",
       "      <th>rosetta_fa_dun_dev_change</th>\n",
       "      <th>rosetta_omega_change</th>\n",
       "      <th>rosetta_dslf_fa13_change</th>\n",
       "      <th>rosetta_hbond_sc_change</th>\n",
       "      <th>rosetta_hbond_bb_sc_change</th>\n",
       "      <th>rosetta_hbond_lr_bb_change</th>\n",
       "      <th>rosetta_hbond_sr_bb_change</th>\n",
       "      <th>rosetta_fa_intra_elec_change</th>\n",
       "      <th>rosetta_fa_elec_change</th>\n",
       "      <th>rosetta_lk_ball_bridge_uncpl_change</th>\n",
       "      <th>rosetta_lk_ball_bridge_change</th>\n",
       "      <th>rosetta_lk_ball_iso_change</th>\n",
       "      <th>rosetta_lk_ball_change</th>\n",
       "      <th>rosetta_fa_intra_sol_xover4_change</th>\n",
       "      <th>rosetta_fa_intra_rep_xover4_change</th>\n",
       "      <th>rosetta_fa_intra_atr_xover4_change</th>\n",
       "      <th>rosetta_fa_sol_change</th>\n",
       "      <th>rosetta_fa_rep_change</th>\n",
       "      <th>rosetta_fa_atr_change</th>\n",
       "      <th>rosetta_dg_change</th>\n",
       "      <th>msa_count_wt</th>\n",
       "      <th>msa_count_mut</th>\n",
       "      <th>msa_count_total</th>\n",
       "      <th>msa_proba_wt</th>\n",
       "      <th>msa_proba_mut</th>\n",
       "      <th>msa_proba_total</th>\n",
       "      <th>msa_length</th>\n",
       "      <th>msa_proba</th>\n",
       "      <th>msa_H</th>\n",
       "      <th>msa_KL</th>\n",
       "      <th>alphafold_core_score_plddt</th>\n",
       "      <th>alphafold_core_score_protein_plddt</th>\n",
       "      <th>alphafold_core_score_protein_max_predicted_aligned_error</th>\n",
       "      <th>alphafold_core_score_protein_ptm</th>\n",
       "      <th>alphafold_core_features_experimentally_resolved</th>\n",
       "      <th>alphafold_core_features_predicted_lddt</th>\n",
       "      <th>alphafold_core_features_msa_first_row</th>\n",
       "      <th>alphafold_core_features_single</th>\n",
       "      <th>alphafold_core_features_structure_module</th>\n",
       "      <th>alphafold_core_score_predicted_aligned_error_row_mean</th>\n",
       "      <th>alphafold_core_score_predicted_aligned_error_row_max</th>\n",
       "      <th>alphafold_core_score_predicted_aligned_error_col_mean</th>\n",
       "      <th>alphafold_core_score_predicted_aligned_error_col_max</th>\n",
       "      <th>alphafold_core_score_predicted_aligned_error_diag</th>\n",
       "      <th>alphafold_core_features_distogram_row_mean</th>\n",
       "      <th>alphafold_core_features_aligned_confidence_probs_row_mean</th>\n",
       "      <th>alphafold_core_features_pair_row_mean</th>\n",
       "      <th>alphafold_core_features_distogram_row_max</th>\n",
       "      <th>alphafold_core_features_aligned_confidence_probs_row_max</th>\n",
       "      <th>alphafold_core_features_pair_row_max</th>\n",
       "      <th>alphafold_core_features_distogram_col_mean</th>\n",
       "      <th>alphafold_core_features_aligned_confidence_probs_col_mean</th>\n",
       "      <th>alphafold_core_features_pair_col_mean</th>\n",
       "      <th>alphafold_core_features_distogram_col_max</th>\n",
       "      <th>alphafold_core_features_aligned_confidence_probs_col_max</th>\n",
       "      <th>alphafold_core_features_pair_col_max</th>\n",
       "      <th>alphafold_core_features_distogram_diag</th>\n",
       "      <th>alphafold_core_features_aligned_confidence_probs_diag</th>\n",
       "      <th>alphafold_core_features_pair_diag</th>\n",
       "      <th>alphafold_core_score_msa_logits_first_wt</th>\n",
       "      <th>alphafold_core_score_msa_logits_first_mut</th>\n",
       "      <th>alphafold_core_score_msa_logits_mean_wt</th>\n",
       "      <th>alphafold_core_score_msa_logits_mean_mut</th>\n",
       "      <th>alphafold_core_score_msa_logits_max_wt</th>\n",
       "      <th>alphafold_core_score_msa_logits_max_mut</th>\n",
       "      <th>alphafold_core_score_msa_logproba_first_wt</th>\n",
       "      <th>alphafold_core_score_msa_logproba_first_mut</th>\n",
       "      <th>alphafold_core_score_msa_logproba_mean_wt</th>\n",
       "      <th>alphafold_core_score_msa_logproba_mean_mut</th>\n",
       "      <th>alphafold_core_score_msa_logproba_max_wt</th>\n",
       "      <th>alphafold_core_score_msa_logproba_max_mut</th>\n",
       "      <th>alphafold_core_features_msa_first</th>\n",
       "      <th>alphafold_core_features_msa_mean</th>\n",
       "      <th>alphafold_core_features_msa_max</th>\n",
       "    </tr>\n",
       "  </thead>\n",
       "  <tbody>\n",
       "    <tr>\n",
       "      <th>0</th>\n",
       "      <td>A0A0C5B5G6</td>\n",
       "      <td>K14Q</td>\n",
       "      <td>US</td>\n",
       "      <td>0.070044</td>\n",
       "      <td>0.040160</td>\n",
       "      <td>[-0.74697345495224, 1.316953420639038, 0.01530...</td>\n",
       "      <td>[-1.1096992492675781, 0.785698652267456, 0.256...</td>\n",
       "      <td>[0.05442849546670914, 0.7043757438659668, -0.2...</td>\n",
       "      <td>[-1.0095055103302002, 0.7263880372047424, 0.24...</td>\n",
       "      <td>0.058932</td>\n",
       "      <td>0.033909</td>\n",
       "      <td>[-0.005357364658266306, 0.032247915863990784, ...</td>\n",
       "      <td>[0.03903713822364807, -0.016466135159134865, 0...</td>\n",
       "      <td>[-0.0028596159536391497, 0.004915683530271053,...</td>\n",
       "      <td>[0.03650001436471939, -0.025432726368308067, 0...</td>\n",
       "      <td>28.964000</td>\n",
       "      <td>23.071000</td>\n",
       "      <td>-2.435</td>\n",
       "      <td>0.003000</td>\n",
       "      <td>2.241000</td>\n",
       "      <td>17.628000</td>\n",
       "      <td>15.728000</td>\n",
       "      <td>14.727</td>\n",
       "      <td>26.549000</td>\n",
       "      <td>0.000000</td>\n",
       "      <td>0.000000</td>\n",
       "      <td>0.000</td>\n",
       "      <td>0.0</td>\n",
       "      <td>-1.824</td>\n",
       "      <td>-1.160000</td>\n",
       "      <td>-1.069000</td>\n",
       "      <td>-0.295000</td>\n",
       "      <td>-0.028000</td>\n",
       "      <td>-16.627000</td>\n",
       "      <td>7.977000</td>\n",
       "      <td>4.731000</td>\n",
       "      <td>1.432</td>\n",
       "      <td>-8.683</td>\n",
       "      <td>32.060000</td>\n",
       "      <td>1.931</td>\n",
       "      <td>-42.063000</td>\n",
       "      <td>102.859000</td>\n",
       "      <td>1.250000</td>\n",
       "      <td>-0.065000</td>\n",
       "      <td>0.610</td>\n",
       "      <td>0.001000</td>\n",
       "      <td>0.002000</td>\n",
       "      <td>2.678</td>\n",
       "      <td>-1.646000</td>\n",
       "      <td>0.083000</td>\n",
       "      <td>0.149000</td>\n",
       "      <td>0.000000</td>\n",
       "      <td>0.000000</td>\n",
       "      <td>-1.137</td>\n",
       "      <td>0.0</td>\n",
       "      <td>0.000000</td>\n",
       "      <td>-0.253000</td>\n",
       "      <td>-1.836000</td>\n",
       "      <td>0.039</td>\n",
       "      <td>0.001000</td>\n",
       "      <td>-0.808000</td>\n",
       "      <td>0.576</td>\n",
       "      <td>0.172</td>\n",
       "      <td>0.066</td>\n",
       "      <td>-0.205000</td>\n",
       "      <td>1.423000</td>\n",
       "      <td>0.070000</td>\n",
       "      <td>-1.354000</td>\n",
       "      <td>-0.186000</td>\n",
       "      <td>3.0</td>\n",
       "      <td>0.0</td>\n",
       "      <td>3.0</td>\n",
       "      <td>-1.749200</td>\n",
       "      <td>-3.135494</td>\n",
       "      <td>-61.323590</td>\n",
       "      <td>3.0</td>\n",
       "      <td>-1.749200</td>\n",
       "      <td>-0.000000</td>\n",
       "      <td>2.849038</td>\n",
       "      <td>56.406708</td>\n",
       "      <td>62.003188</td>\n",
       "      <td>31.75</td>\n",
       "      <td>0.027069</td>\n",
       "      <td>[0.0023722572, 0.018356942, 0.10303657, 0.1508...</td>\n",
       "      <td>[-5.2305098, -5.6203985, -4.857919, -3.7483947...</td>\n",
       "      <td>[-3.567015, -5.2736416, -9.009683, -3.05795, 5...</td>\n",
       "      <td>[24.392054, 3.2788322, 21.41848, 21.365389, 6....</td>\n",
       "      <td>[0.005355336, 0.010748506, -0.0057989154, 0.00...</td>\n",
       "      <td>8.574256</td>\n",
       "      <td>17.349895</td>\n",
       "      <td>9.382161</td>\n",
       "      <td>21.666225</td>\n",
       "      <td>0.252350</td>\n",
       "      <td>[2.496045768260956, -4.968722492456436, -5.866...</td>\n",
       "      <td>[0.06330700959642854, 0.06389473706803983, 0.0...</td>\n",
       "      <td>[3.3381232991814613, 29.497473165392876, -2.04...</td>\n",
       "      <td>[114.23722839355469, 3.4389352798461914, 3.910...</td>\n",
       "      <td>[0.9999160766601562, 0.3767480254173279, 0.279...</td>\n",
       "      <td>[23.421672821044922, 601.749267578125, 35.1634...</td>\n",
       "      <td>[2.496045768260956, -4.968722492456436, -5.866...</td>\n",
       "      <td>[0.0632605097234773, 0.062133513205480995, 0.0...</td>\n",
       "      <td>[5.810895625501871, 36.592444146052, 0.6604679...</td>\n",
       "      <td>[114.23722839355469, 3.4389352798461914, 3.910...</td>\n",
       "      <td>[0.9999160766601562, 0.37512755393981934, 0.28...</td>\n",
       "      <td>[23.421672821044922, 601.749267578125, 35.1634...</td>\n",
       "      <td>[114.23722839355469, -3.2029566764831543, -26....</td>\n",
       "      <td>[0.9999160766601562, 0.0, 0.0, 0.0, 0.0, 0.0, ...</td>\n",
       "      <td>[23.421672821044922, 601.749267578125, 35.1634...</td>\n",
       "      <td>10.019153</td>\n",
       "      <td>1.129459</td>\n",
       "      <td>0.734094</td>\n",
       "      <td>-2.090972</td>\n",
       "      <td>10.019153</td>\n",
       "      <td>1.129459</td>\n",
       "      <td>-0.001928</td>\n",
       "      <td>-8.891622</td>\n",
       "      <td>-3.104038</td>\n",
       "      <td>-5.929103</td>\n",
       "      <td>-0.001928</td>\n",
       "      <td>-5.923260</td>\n",
       "      <td>[-4.41256046295166, -5.1106367111206055, -9.10...</td>\n",
       "      <td>[-4.500693058404397, -0.7133069470172791, 5.53...</td>\n",
       "      <td>[-4.41256046295166, -0.7046337127685547, 5.566...</td>\n",
       "    </tr>\n",
       "    <tr>\n",
       "      <th>1</th>\n",
       "      <td>A1L188</td>\n",
       "      <td>F55L</td>\n",
       "      <td>US</td>\n",
       "      <td>0.030520</td>\n",
       "      <td>0.088642</td>\n",
       "      <td>[-2.3987135887145996, 0.10982956737279892, -0....</td>\n",
       "      <td>[-1.777479648590088, -0.03869394585490227, 0.0...</td>\n",
       "      <td>[-4.062615871429443, -0.34137260913848877, -0....</td>\n",
       "      <td>[-1.7952650785446167, -0.047699496150016785, 0...</td>\n",
       "      <td>0.093019</td>\n",
       "      <td>0.143134</td>\n",
       "      <td>[0.1373966485261917, 0.06155325844883919, 0.02...</td>\n",
       "      <td>[0.05456249415874481, 0.024172015488147736, 0....</td>\n",
       "      <td>[0.14880749583244324, 0.08820129185914993, 0.0...</td>\n",
       "      <td>[0.056186407804489136, 0.03005887381732464, 0....</td>\n",
       "      <td>54.083333</td>\n",
       "      <td>24.254333</td>\n",
       "      <td>34.115</td>\n",
       "      <td>21.232667</td>\n",
       "      <td>-2.565333</td>\n",
       "      <td>39.302667</td>\n",
       "      <td>36.441667</td>\n",
       "      <td>13.280</td>\n",
       "      <td>22.048667</td>\n",
       "      <td>-3.074333</td>\n",
       "      <td>-3.703667</td>\n",
       "      <td>-0.276</td>\n",
       "      <td>0.0</td>\n",
       "      <td>-52.195</td>\n",
       "      <td>-15.823333</td>\n",
       "      <td>-122.253667</td>\n",
       "      <td>-2.345333</td>\n",
       "      <td>-0.287333</td>\n",
       "      <td>-194.744333</td>\n",
       "      <td>157.881667</td>\n",
       "      <td>16.053667</td>\n",
       "      <td>5.317</td>\n",
       "      <td>-21.941</td>\n",
       "      <td>350.360667</td>\n",
       "      <td>22.526</td>\n",
       "      <td>-417.818333</td>\n",
       "      <td>-40.130333</td>\n",
       "      <td>-0.055667</td>\n",
       "      <td>-0.192667</td>\n",
       "      <td>-0.673</td>\n",
       "      <td>0.007333</td>\n",
       "      <td>0.071333</td>\n",
       "      <td>-2.044</td>\n",
       "      <td>0.503333</td>\n",
       "      <td>0.156333</td>\n",
       "      <td>-0.074333</td>\n",
       "      <td>0.001667</td>\n",
       "      <td>1.006333</td>\n",
       "      <td>0.000</td>\n",
       "      <td>0.0</td>\n",
       "      <td>0.036667</td>\n",
       "      <td>0.147667</td>\n",
       "      <td>1.918667</td>\n",
       "      <td>0.022</td>\n",
       "      <td>-0.004333</td>\n",
       "      <td>0.424333</td>\n",
       "      <td>-0.918</td>\n",
       "      <td>-0.722</td>\n",
       "      <td>0.006</td>\n",
       "      <td>0.876667</td>\n",
       "      <td>-1.299667</td>\n",
       "      <td>0.392333</td>\n",
       "      <td>-0.329333</td>\n",
       "      <td>-0.742667</td>\n",
       "      <td>1014.0</td>\n",
       "      <td>0.0</td>\n",
       "      <td>1055.0</td>\n",
       "      <td>-0.057432</td>\n",
       "      <td>-6.980076</td>\n",
       "      <td>-121.417492</td>\n",
       "      <td>1064.0</td>\n",
       "      <td>-1.155528</td>\n",
       "      <td>0.332007</td>\n",
       "      <td>2.727859</td>\n",
       "      <td>94.872637</td>\n",
       "      <td>83.732183</td>\n",
       "      <td>31.75</td>\n",
       "      <td>0.629771</td>\n",
       "      <td>[5.2269716, 5.4108214, 6.3251753, 5.2315235, 6...</td>\n",
       "      <td>[-8.547121, -9.857347, -8.743816, -7.98783, -7...</td>\n",
       "      <td>[7.24591, 7.257983, 18.1454, 11.383427, 5.4409...</td>\n",
       "      <td>[-4.8151565, -41.834213, 24.696276, -54.30642,...</td>\n",
       "      <td>[0.00025387853, 0.0075306967, -0.0058459025, 0...</td>\n",
       "      <td>3.380208</td>\n",
       "      <td>14.113509</td>\n",
       "      <td>6.847809</td>\n",
       "      <td>29.382320</td>\n",
       "      <td>0.250023</td>\n",
       "      <td>[-4.792972142631943, -7.898219147244015, -7.77...</td>\n",
       "      <td>[0.0136974966045523, 0.16878037154989167, 0.20...</td>\n",
       "      <td>[-0.21200577491844022, 7.626773377930796, -2.0...</td>\n",
       "      <td>[204.79286193847656, 10.81344985961914, 5.6720...</td>\n",
       "      <td>[1.0, 0.9096415638923645, 0.4646220803260803, ...</td>\n",
       "      <td>[42.985782623291016, 762.8607788085938, 12.057...</td>\n",
       "      <td>[-4.792972142631943, -7.898219147244015, -7.77...</td>\n",
       "      <td>[0.013732861407453816, 0.1381827002696502, 0.1...</td>\n",
       "      <td>[-1.6025930771956574, 4.840899893560925, -0.51...</td>\n",
       "      <td>[204.79286193847656, 10.81344985961914, 5.6720...</td>\n",
       "      <td>[1.0, 0.9122956991195679, 0.4612761437892914, ...</td>\n",
       "      <td>[42.985782623291016, 762.8607788085938, 11.074...</td>\n",
       "      <td>[204.79286193847656, 10.81344985961914, -24.74...</td>\n",
       "      <td>[1.0, 0.0, 0.0, 0.0, 0.0, 0.0, 0.0, 0.0, 0.0, ...</td>\n",
       "      <td>[42.985782623291016, 762.8607788085938, -38.83...</td>\n",
       "      <td>10.447226</td>\n",
       "      <td>2.202247</td>\n",
       "      <td>10.131200</td>\n",
       "      <td>1.594486</td>\n",
       "      <td>12.859581</td>\n",
       "      <td>3.317224</td>\n",
       "      <td>-0.000880</td>\n",
       "      <td>-8.245859</td>\n",
       "      <td>-0.423115</td>\n",
       "      <td>-8.959829</td>\n",
       "      <td>-0.000068</td>\n",
       "      <td>-3.660997</td>\n",
       "      <td>[8.289717674255371, 6.322072982788086, 20.9344...</td>\n",
       "      <td>[2.772727955499385, 1.964366348944311, 14.6376...</td>\n",
       "      <td>[33.750972747802734, 11.12519645690918, 27.888...</td>\n",
       "    </tr>\n",
       "  </tbody>\n",
       "</table>\n",
       "</div>"
      ],
      "text/plain": [
       "   protein_id mutation effect  proteinsolver_core_score_wt  \\\n",
       "0  A0A0C5B5G6     K14Q     US                     0.070044   \n",
       "1      A1L188     F55L     US                     0.030520   \n",
       "\n",
       "   proteinsolver_core_score_mut  \\\n",
       "0                      0.040160   \n",
       "1                      0.088642   \n",
       "\n",
       "              proteinsolver_core_features_residue_wt  \\\n",
       "0  [-0.74697345495224, 1.316953420639038, 0.01530...   \n",
       "1  [-2.3987135887145996, 0.10982956737279892, -0....   \n",
       "\n",
       "              proteinsolver_core_features_protein_wt  \\\n",
       "0  [-1.1096992492675781, 0.785698652267456, 0.256...   \n",
       "1  [-1.777479648590088, -0.03869394585490227, 0.0...   \n",
       "\n",
       "             proteinsolver_core_features_residue_mut  \\\n",
       "0  [0.05442849546670914, 0.7043757438659668, -0.2...   \n",
       "1  [-4.062615871429443, -0.34137260913848877, -0....   \n",
       "\n",
       "             proteinsolver_core_features_protein_mut  protbert_core_score_wt  \\\n",
       "0  [-1.0095055103302002, 0.7263880372047424, 0.24...                0.058932   \n",
       "1  [-1.7952650785446167, -0.047699496150016785, 0...                0.093019   \n",
       "\n",
       "   protbert_core_score_mut                  protbert_core_features_residue_wt  \\\n",
       "0                 0.033909  [-0.005357364658266306, 0.032247915863990784, ...   \n",
       "1                 0.143134  [0.1373966485261917, 0.06155325844883919, 0.02...   \n",
       "\n",
       "                   protbert_core_features_protein_wt  \\\n",
       "0  [0.03903713822364807, -0.016466135159134865, 0...   \n",
       "1  [0.05456249415874481, 0.024172015488147736, 0....   \n",
       "\n",
       "                  protbert_core_features_residue_mut  \\\n",
       "0  [-0.0028596159536391497, 0.004915683530271053,...   \n",
       "1  [0.14880749583244324, 0.08820129185914993, 0.0...   \n",
       "\n",
       "                  protbert_core_features_protein_mut  rosetta_cart_bonded_wt  \\\n",
       "0  [0.03650001436471939, -0.025432726368308067, 0...               28.964000   \n",
       "1  [0.056186407804489136, 0.03005887381732464, 0....               54.083333   \n",
       "\n",
       "   rosetta_rama_prepro_wt  rosetta_ref_wt  rosetta_hxl_tors_wt  \\\n",
       "0               23.071000          -2.435             0.003000   \n",
       "1               24.254333          34.115            21.232667   \n",
       "\n",
       "   rosetta_p_aa_pp_wt  rosetta_fa_dun_semi_wt  rosetta_fa_dun_rot_wt  \\\n",
       "0            2.241000               17.628000              15.728000   \n",
       "1           -2.565333               39.302667              36.441667   \n",
       "\n",
       "   rosetta_fa_dun_dev_wt  rosetta_omega_wt  rosetta_dslf_fa13_wt  \\\n",
       "0                 14.727         26.549000              0.000000   \n",
       "1                 13.280         22.048667             -3.074333   \n",
       "\n",
       "   rosetta_hbond_sc_wt  rosetta_hbond_bb_sc_wt  rosetta_hbond_lr_bb_wt  \\\n",
       "0             0.000000                   0.000                     0.0   \n",
       "1            -3.703667                  -0.276                     0.0   \n",
       "\n",
       "   rosetta_hbond_sr_bb_wt  rosetta_fa_intra_elec_wt  rosetta_fa_elec_wt  \\\n",
       "0                  -1.824                 -1.160000           -1.069000   \n",
       "1                 -52.195                -15.823333         -122.253667   \n",
       "\n",
       "   rosetta_lk_ball_bridge_uncpl_wt  rosetta_lk_ball_bridge_wt  \\\n",
       "0                        -0.295000                  -0.028000   \n",
       "1                        -2.345333                  -0.287333   \n",
       "\n",
       "   rosetta_lk_ball_iso_wt  rosetta_lk_ball_wt  rosetta_fa_intra_sol_xover4_wt  \\\n",
       "0              -16.627000            7.977000                        4.731000   \n",
       "1             -194.744333          157.881667                       16.053667   \n",
       "\n",
       "   rosetta_fa_intra_rep_xover4_wt  rosetta_fa_intra_atr_xover4_wt  \\\n",
       "0                           1.432                          -8.683   \n",
       "1                           5.317                         -21.941   \n",
       "\n",
       "   rosetta_fa_sol_wt  rosetta_fa_rep_wt  rosetta_fa_atr_wt  rosetta_dg_wt  \\\n",
       "0          32.060000              1.931         -42.063000     102.859000   \n",
       "1         350.360667             22.526        -417.818333     -40.130333   \n",
       "\n",
       "   rosetta_cart_bonded_change  rosetta_rama_prepro_change  rosetta_ref_change  \\\n",
       "0                    1.250000                   -0.065000               0.610   \n",
       "1                   -0.055667                   -0.192667              -0.673   \n",
       "\n",
       "   rosetta_hxl_tors_change  rosetta_p_aa_pp_change  \\\n",
       "0                 0.001000                0.002000   \n",
       "1                 0.007333                0.071333   \n",
       "\n",
       "   rosetta_fa_dun_semi_change  rosetta_fa_dun_rot_change  \\\n",
       "0                       2.678                  -1.646000   \n",
       "1                      -2.044                   0.503333   \n",
       "\n",
       "   rosetta_fa_dun_dev_change  rosetta_omega_change  rosetta_dslf_fa13_change  \\\n",
       "0                   0.083000              0.149000                  0.000000   \n",
       "1                   0.156333             -0.074333                  0.001667   \n",
       "\n",
       "   rosetta_hbond_sc_change  rosetta_hbond_bb_sc_change  \\\n",
       "0                 0.000000                      -1.137   \n",
       "1                 1.006333                       0.000   \n",
       "\n",
       "   rosetta_hbond_lr_bb_change  rosetta_hbond_sr_bb_change  \\\n",
       "0                         0.0                    0.000000   \n",
       "1                         0.0                    0.036667   \n",
       "\n",
       "   rosetta_fa_intra_elec_change  rosetta_fa_elec_change  \\\n",
       "0                     -0.253000               -1.836000   \n",
       "1                      0.147667                1.918667   \n",
       "\n",
       "   rosetta_lk_ball_bridge_uncpl_change  rosetta_lk_ball_bridge_change  \\\n",
       "0                                0.039                       0.001000   \n",
       "1                                0.022                      -0.004333   \n",
       "\n",
       "   rosetta_lk_ball_iso_change  rosetta_lk_ball_change  \\\n",
       "0                   -0.808000                   0.576   \n",
       "1                    0.424333                  -0.918   \n",
       "\n",
       "   rosetta_fa_intra_sol_xover4_change  rosetta_fa_intra_rep_xover4_change  \\\n",
       "0                               0.172                               0.066   \n",
       "1                              -0.722                               0.006   \n",
       "\n",
       "   rosetta_fa_intra_atr_xover4_change  rosetta_fa_sol_change  \\\n",
       "0                           -0.205000               1.423000   \n",
       "1                            0.876667              -1.299667   \n",
       "\n",
       "   rosetta_fa_rep_change  rosetta_fa_atr_change  rosetta_dg_change  \\\n",
       "0               0.070000              -1.354000          -0.186000   \n",
       "1               0.392333              -0.329333          -0.742667   \n",
       "\n",
       "   msa_count_wt  msa_count_mut  msa_count_total  msa_proba_wt  msa_proba_mut  \\\n",
       "0           3.0            0.0              3.0     -1.749200      -3.135494   \n",
       "1        1014.0            0.0           1055.0     -0.057432      -6.980076   \n",
       "\n",
       "   msa_proba_total  msa_length  msa_proba     msa_H    msa_KL  \\\n",
       "0       -61.323590         3.0  -1.749200 -0.000000  2.849038   \n",
       "1      -121.417492      1064.0  -1.155528  0.332007  2.727859   \n",
       "\n",
       "   alphafold_core_score_plddt  alphafold_core_score_protein_plddt  \\\n",
       "0                   56.406708                           62.003188   \n",
       "1                   94.872637                           83.732183   \n",
       "\n",
       "   alphafold_core_score_protein_max_predicted_aligned_error  \\\n",
       "0                                              31.75          \n",
       "1                                              31.75          \n",
       "\n",
       "   alphafold_core_score_protein_ptm  \\\n",
       "0                          0.027069   \n",
       "1                          0.629771   \n",
       "\n",
       "     alphafold_core_features_experimentally_resolved  \\\n",
       "0  [0.0023722572, 0.018356942, 0.10303657, 0.1508...   \n",
       "1  [5.2269716, 5.4108214, 6.3251753, 5.2315235, 6...   \n",
       "\n",
       "              alphafold_core_features_predicted_lddt  \\\n",
       "0  [-5.2305098, -5.6203985, -4.857919, -3.7483947...   \n",
       "1  [-8.547121, -9.857347, -8.743816, -7.98783, -7...   \n",
       "\n",
       "               alphafold_core_features_msa_first_row  \\\n",
       "0  [-3.567015, -5.2736416, -9.009683, -3.05795, 5...   \n",
       "1  [7.24591, 7.257983, 18.1454, 11.383427, 5.4409...   \n",
       "\n",
       "                      alphafold_core_features_single  \\\n",
       "0  [24.392054, 3.2788322, 21.41848, 21.365389, 6....   \n",
       "1  [-4.8151565, -41.834213, 24.696276, -54.30642,...   \n",
       "\n",
       "            alphafold_core_features_structure_module  \\\n",
       "0  [0.005355336, 0.010748506, -0.0057989154, 0.00...   \n",
       "1  [0.00025387853, 0.0075306967, -0.0058459025, 0...   \n",
       "\n",
       "   alphafold_core_score_predicted_aligned_error_row_mean  \\\n",
       "0                                           8.574256       \n",
       "1                                           3.380208       \n",
       "\n",
       "   alphafold_core_score_predicted_aligned_error_row_max  \\\n",
       "0                                          17.349895      \n",
       "1                                          14.113509      \n",
       "\n",
       "   alphafold_core_score_predicted_aligned_error_col_mean  \\\n",
       "0                                           9.382161       \n",
       "1                                           6.847809       \n",
       "\n",
       "   alphafold_core_score_predicted_aligned_error_col_max  \\\n",
       "0                                          21.666225      \n",
       "1                                          29.382320      \n",
       "\n",
       "   alphafold_core_score_predicted_aligned_error_diag  \\\n",
       "0                                           0.252350   \n",
       "1                                           0.250023   \n",
       "\n",
       "          alphafold_core_features_distogram_row_mean  \\\n",
       "0  [2.496045768260956, -4.968722492456436, -5.866...   \n",
       "1  [-4.792972142631943, -7.898219147244015, -7.77...   \n",
       "\n",
       "  alphafold_core_features_aligned_confidence_probs_row_mean  \\\n",
       "0  [0.06330700959642854, 0.06389473706803983, 0.0...          \n",
       "1  [0.0136974966045523, 0.16878037154989167, 0.20...          \n",
       "\n",
       "               alphafold_core_features_pair_row_mean  \\\n",
       "0  [3.3381232991814613, 29.497473165392876, -2.04...   \n",
       "1  [-0.21200577491844022, 7.626773377930796, -2.0...   \n",
       "\n",
       "           alphafold_core_features_distogram_row_max  \\\n",
       "0  [114.23722839355469, 3.4389352798461914, 3.910...   \n",
       "1  [204.79286193847656, 10.81344985961914, 5.6720...   \n",
       "\n",
       "  alphafold_core_features_aligned_confidence_probs_row_max  \\\n",
       "0  [0.9999160766601562, 0.3767480254173279, 0.279...         \n",
       "1  [1.0, 0.9096415638923645, 0.4646220803260803, ...         \n",
       "\n",
       "                alphafold_core_features_pair_row_max  \\\n",
       "0  [23.421672821044922, 601.749267578125, 35.1634...   \n",
       "1  [42.985782623291016, 762.8607788085938, 12.057...   \n",
       "\n",
       "          alphafold_core_features_distogram_col_mean  \\\n",
       "0  [2.496045768260956, -4.968722492456436, -5.866...   \n",
       "1  [-4.792972142631943, -7.898219147244015, -7.77...   \n",
       "\n",
       "  alphafold_core_features_aligned_confidence_probs_col_mean  \\\n",
       "0  [0.0632605097234773, 0.062133513205480995, 0.0...          \n",
       "1  [0.013732861407453816, 0.1381827002696502, 0.1...          \n",
       "\n",
       "               alphafold_core_features_pair_col_mean  \\\n",
       "0  [5.810895625501871, 36.592444146052, 0.6604679...   \n",
       "1  [-1.6025930771956574, 4.840899893560925, -0.51...   \n",
       "\n",
       "           alphafold_core_features_distogram_col_max  \\\n",
       "0  [114.23722839355469, 3.4389352798461914, 3.910...   \n",
       "1  [204.79286193847656, 10.81344985961914, 5.6720...   \n",
       "\n",
       "  alphafold_core_features_aligned_confidence_probs_col_max  \\\n",
       "0  [0.9999160766601562, 0.37512755393981934, 0.28...         \n",
       "1  [1.0, 0.9122956991195679, 0.4612761437892914, ...         \n",
       "\n",
       "                alphafold_core_features_pair_col_max  \\\n",
       "0  [23.421672821044922, 601.749267578125, 35.1634...   \n",
       "1  [42.985782623291016, 762.8607788085938, 11.074...   \n",
       "\n",
       "              alphafold_core_features_distogram_diag  \\\n",
       "0  [114.23722839355469, -3.2029566764831543, -26....   \n",
       "1  [204.79286193847656, 10.81344985961914, -24.74...   \n",
       "\n",
       "  alphafold_core_features_aligned_confidence_probs_diag  \\\n",
       "0  [0.9999160766601562, 0.0, 0.0, 0.0, 0.0, 0.0, ...      \n",
       "1  [1.0, 0.0, 0.0, 0.0, 0.0, 0.0, 0.0, 0.0, 0.0, ...      \n",
       "\n",
       "                   alphafold_core_features_pair_diag  \\\n",
       "0  [23.421672821044922, 601.749267578125, 35.1634...   \n",
       "1  [42.985782623291016, 762.8607788085938, -38.83...   \n",
       "\n",
       "   alphafold_core_score_msa_logits_first_wt  \\\n",
       "0                                 10.019153   \n",
       "1                                 10.447226   \n",
       "\n",
       "   alphafold_core_score_msa_logits_first_mut  \\\n",
       "0                                   1.129459   \n",
       "1                                   2.202247   \n",
       "\n",
       "   alphafold_core_score_msa_logits_mean_wt  \\\n",
       "0                                 0.734094   \n",
       "1                                10.131200   \n",
       "\n",
       "   alphafold_core_score_msa_logits_mean_mut  \\\n",
       "0                                 -2.090972   \n",
       "1                                  1.594486   \n",
       "\n",
       "   alphafold_core_score_msa_logits_max_wt  \\\n",
       "0                               10.019153   \n",
       "1                               12.859581   \n",
       "\n",
       "   alphafold_core_score_msa_logits_max_mut  \\\n",
       "0                                 1.129459   \n",
       "1                                 3.317224   \n",
       "\n",
       "   alphafold_core_score_msa_logproba_first_wt  \\\n",
       "0                                   -0.001928   \n",
       "1                                   -0.000880   \n",
       "\n",
       "   alphafold_core_score_msa_logproba_first_mut  \\\n",
       "0                                    -8.891622   \n",
       "1                                    -8.245859   \n",
       "\n",
       "   alphafold_core_score_msa_logproba_mean_wt  \\\n",
       "0                                  -3.104038   \n",
       "1                                  -0.423115   \n",
       "\n",
       "   alphafold_core_score_msa_logproba_mean_mut  \\\n",
       "0                                   -5.929103   \n",
       "1                                   -8.959829   \n",
       "\n",
       "   alphafold_core_score_msa_logproba_max_wt  \\\n",
       "0                                 -0.001928   \n",
       "1                                 -0.000068   \n",
       "\n",
       "   alphafold_core_score_msa_logproba_max_mut  \\\n",
       "0                                  -5.923260   \n",
       "1                                  -3.660997   \n",
       "\n",
       "                   alphafold_core_features_msa_first  \\\n",
       "0  [-4.41256046295166, -5.1106367111206055, -9.10...   \n",
       "1  [8.289717674255371, 6.322072982788086, 20.9344...   \n",
       "\n",
       "                    alphafold_core_features_msa_mean  \\\n",
       "0  [-4.500693058404397, -0.7133069470172791, 5.53...   \n",
       "1  [2.772727955499385, 1.964366348944311, 14.6376...   \n",
       "\n",
       "                     alphafold_core_features_msa_max  \n",
       "0  [-4.41256046295166, -0.7046337127685547, 5.566...  \n",
       "1  [33.750972747802734, 11.12519645690918, 27.888...  "
      ]
     },
     "metadata": {},
     "output_type": "display_data"
    },
    {
     "name": "stdout",
     "output_type": "stream",
     "text": [
      "61179\n"
     ]
    }
   ],
   "source": [
    "display(result_df.head(2))\n",
    "print(len(result_df))"
   ]
  },
  {
   "cell_type": "markdown",
   "id": "cddb7066-98b9-43a5-a0a1-892e634114bd",
   "metadata": {},
   "source": [
    "## Calculate EL2 score"
   ]
  },
  {
   "cell_type": "code",
   "execution_count": 40,
   "id": "cd369701-3d1f-4b28-9f15-4b27cd07f1a0",
   "metadata": {},
   "outputs": [
    {
     "name": "stderr",
     "output_type": "stream",
     "text": [
      "/opt/conda/lib/python3.9/site-packages/sklearn/base.py:324: UserWarning: Trying to unpickle estimator PCA from version 0.23.2 when using version 1.0.1. This might lead to breaking code or invalid results. Use at your own risk. For more info please refer to:\n",
      "https://scikit-learn.org/stable/modules/model_persistence.html#security-maintainability-limitations\n",
      "  warnings.warn(\n",
      "Some weights of the model checkpoint at /gpfs/fs0/scratch/p/pmkim/strokach/workspace/elaspic2/src/elaspic2/plugins/protbert/data/prot_bert_bfd were not used when initializing BertModel: ['cls.predictions.decoder.weight', 'cls.predictions.decoder.bias', 'cls.predictions.transform.dense.weight', 'cls.predictions.transform.dense.bias', 'cls.seq_relationship.bias', 'cls.predictions.bias', 'cls.predictions.transform.LayerNorm.bias', 'cls.seq_relationship.weight', 'cls.predictions.transform.LayerNorm.weight']\n",
      "- This IS expected if you are initializing BertModel from the checkpoint of a model trained on another task or with another architecture (e.g. initializing a BertForSequenceClassification model from a BertForPreTraining model).\n",
      "- This IS NOT expected if you are initializing BertModel from the checkpoint of a model that you expect to be exactly identical (initializing a BertForSequenceClassification model from a BertForSequenceClassification model).\n"
     ]
    }
   ],
   "source": [
    "model = el2.ELASPIC2()"
   ]
  },
  {
   "cell_type": "code",
   "execution_count": 41,
   "id": "d90324e8-5fbe-43ca-8d78-275ff3b7dee3",
   "metadata": {},
   "outputs": [],
   "source": [
    "proteinsolver_columnms = [c for c in result_df if c.startswith(\"proteinsolver_core_score\")]\n",
    "protbert_columns = [c for c in result_df if c.startswith(\"protbert_core_\")]\n",
    "\n",
    "el2_missing = result_df[proteinsolver_columnms + protbert_columns].isnull().any(axis=1)\n",
    "result_df[\"el2_score\"] = np.nan\n",
    "result_df.loc[~el2_missing, \"el2_score\"] = model.predict_mutation_effect(\n",
    "    [\n",
    "        t._asdict()\n",
    "        for t in result_df.loc[~el2_missing, proteinsolver_columnms + protbert_columns].itertuples(\n",
    "            index=False\n",
    "        )\n",
    "    ]\n",
    ")"
   ]
  },
  {
   "cell_type": "markdown",
   "id": "f316f627-d657-430a-a432-ddd93fb2bc11",
   "metadata": {},
   "source": [
    "## Calculate deltas"
   ]
  },
  {
   "cell_type": "code",
   "execution_count": 42,
   "id": "5c95c4d7-caf7-476e-81ed-f15b8a9f54a8",
   "metadata": {},
   "outputs": [],
   "source": [
    "for column in list(result_df):\n",
    "    if not column.endswith(\"_mut\"):\n",
    "        continue\n",
    "\n",
    "    column_wt = column.removesuffix(\"_mut\") + \"_wt\"\n",
    "    if column_wt not in result_df:\n",
    "        print(column_wt)\n",
    "        continue\n",
    "\n",
    "    column_change = column.removesuffix(\"_mut\") + \"_change\"\n",
    "    result_df[column_change] = result_df[column_wt] - result_df[column]\n",
    "    del result_df[column]"
   ]
  },
  {
   "cell_type": "markdown",
   "id": "f88c45b8-5e0c-42fe-a95d-64d6e5095770",
   "metadata": {},
   "source": [
    "## Encode mutation"
   ]
  },
  {
   "cell_type": "code",
   "execution_count": 43,
   "id": "0e6101e8-39bb-4ed0-93af-597a2c2c3943",
   "metadata": {
    "tags": []
   },
   "outputs": [],
   "source": [
    "# For historic reasons, have to use analyze_msa.RESIDUE_ENCODING_WT/MUT\n",
    "result_df[\"aa_wt_onehot\"] = (\n",
    "    result_df[\"mutation\"].str[0].map(analyze_msa.RESIDUE_ENCODING_WT).apply(list)\n",
    ")\n",
    "result_df[\"aa_mut_onehot\"] = (\n",
    "    result_df[\"mutation\"].str[-1].map(analyze_msa.RESIDUE_ENCODING_MUT).apply(list)\n",
    ")"
   ]
  },
  {
   "cell_type": "markdown",
   "id": "c29a7d21-5741-4760-b479-fee62b605739",
   "metadata": {},
   "source": [
    "## Save results"
   ]
  },
  {
   "cell_type": "code",
   "execution_count": 44,
   "id": "7d60ef97-b7b4-4552-a430-47323cc0c5bf",
   "metadata": {},
   "outputs": [
    {
     "data": {
      "text/plain": [
       "PosixPath('/gpfs/fs0/scratch/p/pmkim/strokach/workspace/elaspic2-cagi6/notebooks/37_humsavar_combine_results/combined-results.parquet')"
      ]
     },
     "execution_count": 44,
     "metadata": {},
     "output_type": "execute_result"
    }
   ],
   "source": [
    "output_file = NOTEBOOK_DIR.joinpath(\"combined-results.parquet\")\n",
    "\n",
    "output_file"
   ]
  },
  {
   "cell_type": "code",
   "execution_count": 45,
   "id": "1ec482cf-d23b-4678-ab92-cdd5093c2c06",
   "metadata": {},
   "outputs": [],
   "source": [
    "pq.write_table(\n",
    "    pa.Table.from_pandas(result_df, preserve_index=False),\n",
    "    output_file,\n",
    "    row_group_size=10_000,\n",
    ")"
   ]
  },
  {
   "cell_type": "markdown",
   "id": "ae87c286-d491-42d4-941d-606cde544d48",
   "metadata": {},
   "source": [
    "## Exploratory data analysis"
   ]
  },
  {
   "cell_type": "code",
   "execution_count": 46,
   "id": "e1374e04-eae5-47bb-b1b0-9aafc45782a0",
   "metadata": {},
   "outputs": [],
   "source": [
    "proteinsolver_columnms = [c for c in result_df if c.startswith(\"proteinsolver_\")]\n",
    "protbert_columns = [c for c in result_df if c.startswith(\"protbert_\")]\n",
    "rosetta_columns = [c for c in result_df if c.startswith(\"rosetta_\")]\n",
    "alphafold_columns = [c for c in result_df if c.startswith(\"alphafold_\")]"
   ]
  },
  {
   "cell_type": "code",
   "execution_count": 47,
   "id": "1448fdf8-4949-4e91-b6c2-0db0711b8ea4",
   "metadata": {},
   "outputs": [
    {
     "data": {
      "text/plain": [
       "LB/B    33125\n",
       "LP/P    21789\n",
       "US       6265\n",
       "Name: effect, dtype: int64"
      ]
     },
     "execution_count": 47,
     "metadata": {},
     "output_type": "execute_result"
    }
   ],
   "source": [
    "result_df[\"effect\"].value_counts()"
   ]
  },
  {
   "cell_type": "code",
   "execution_count": 48,
   "id": "4ea8e99e-ccd9-4c28-8613-c3bde79aefbe",
   "metadata": {},
   "outputs": [
    {
     "name": "stderr",
     "output_type": "stream",
     "text": [
      "/tmp/ipykernel_359389/2371576971.py:7: PerformanceWarning: DataFrame is highly fragmented.  This is usually the result of calling `frame.insert` many times, which has poor performance.  Consider joining all columns at once using pd.concat(axis=1) instead.  To get a de-fragmented frame, use `newframe = frame.copy()`\n",
      "  result_df[\"effect_score\"] = result_df[\"effect\"].map(effect_map)\n"
     ]
    }
   ],
   "source": [
    "effect_map = {\n",
    "    \"LB/B\": -1,\n",
    "    \"US\": 0,\n",
    "    \"LP/P\": 1,\n",
    "}\n",
    "\n",
    "result_df[\"effect_score\"] = result_df[\"effect\"].map(effect_map)"
   ]
  },
  {
   "cell_type": "code",
   "execution_count": 49,
   "id": "eb146d6b-4dac-451b-8ed2-951a07d51a9c",
   "metadata": {},
   "outputs": [
    {
     "name": "stdout",
     "output_type": "stream",
     "text": [
      "el2_score 0.5814940493221467 0.8431183144786428\n",
      "alphafold_core_score_msa_logproba_mean_change 0.5792880576832575 0.841816639708643\n",
      "protbert_core_score_change 0.46884514239330644 0.77664832545919\n",
      "proteinsolver_core_score_change 0.3529838117888982 0.7082828030320032\n",
      "msa_KL 0.3764762573459568 0.722144833634723\n",
      "rosetta_dg_change 0.32965074966152685 0.6945148178470095\n"
     ]
    }
   ],
   "source": [
    "score_columns = [\n",
    "    \"el2_score\",\n",
    "    \"alphafold_core_score_msa_logproba_mean_change\",\n",
    "    \"protbert_core_score_change\",\n",
    "    \"proteinsolver_core_score_change\",\n",
    "    \"msa_KL\",\n",
    "    \"rosetta_dg_change\",\n",
    "]\n",
    "\n",
    "df = result_df.dropna(subset=score_columns + [\"effect_score\"])\n",
    "df = df[df[\"effect_score\"] != 0].reset_index(drop=True)\n",
    "\n",
    "for col in score_columns:\n",
    "    corr = stats.spearmanr(df[\"effect_score\"], df[col])\n",
    "    auc = metrics.roc_auc_score(df[\"effect_score\"] > 0, df[col])\n",
    "    print(col, corr[0], auc)"
   ]
  },
  {
   "cell_type": "code",
   "execution_count": 50,
   "id": "3ea22035-6b3e-41f7-be20-c4ddaad83094",
   "metadata": {},
   "outputs": [
    {
     "name": "stdout",
     "output_type": "stream",
     "text": [
      "el2_score 0\n",
      "alphafold_core_score_msa_logproba_mean_change 5\n",
      "protbert_core_score_change 0\n",
      "proteinsolver_core_score_change 0\n",
      "msa_KL 5\n",
      "rosetta_dg_change 0\n"
     ]
    }
   ],
   "source": [
    "score_columns = [\n",
    "    \"el2_score\",\n",
    "    \"alphafold_core_score_msa_logproba_mean_change\",\n",
    "    \"protbert_core_score_change\",\n",
    "    \"proteinsolver_core_score_change\",\n",
    "    \"msa_KL\",\n",
    "    \"rosetta_dg_change\",\n",
    "]\n",
    "\n",
    "for column in score_columns:\n",
    "    print(f\"{column} {result_df[column].isnull().sum()}\")"
   ]
  },
  {
   "cell_type": "code",
   "execution_count": null,
   "id": "de8f5ba3-9546-41c7-8b41-83e4f79c21d5",
   "metadata": {},
   "outputs": [],
   "source": []
  }
 ],
 "metadata": {
  "kernelspec": {
   "display_name": "Python 3 (ipykernel)",
   "language": "python",
   "name": "python3"
  },
  "language_info": {
   "codemirror_mode": {
    "name": "ipython",
    "version": 3
   },
   "file_extension": ".py",
   "mimetype": "text/x-python",
   "name": "python",
   "nbconvert_exporter": "python",
   "pygments_lexer": "ipython3",
   "version": "3.9.7"
  }
 },
 "nbformat": 4,
 "nbformat_minor": 5
}
