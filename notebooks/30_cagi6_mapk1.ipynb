{
 "cells": [
  {
   "cell_type": "markdown",
   "id": "26c81e96-6b41-41fa-80a6-6360c482eb58",
   "metadata": {},
   "source": [
    "## Summary\n",
    "\n",
    "---"
   ]
  },
  {
   "cell_type": "markdown",
   "id": "ec276dec-6afa-4b57-bbfc-a11e04a8767e",
   "metadata": {},
   "source": [
    "## Imports"
   ]
  },
  {
   "cell_type": "code",
   "execution_count": 1,
   "id": "58a8599f-8b1e-4448-9c07-754ea7c57c0e",
   "metadata": {},
   "outputs": [
    {
     "name": "stdout",
     "output_type": "stream",
     "text": [
      "env: CUDA_VISIBLE_DEVICES=0\n",
      "env: TF_FORCE_UNIFIED_MEMORY=1\n",
      "env: XLA_PYTHON_CLIENT_MEM_FRACTION=4.0\n"
     ]
    }
   ],
   "source": [
    "%env CUDA_VISIBLE_DEVICES=0\n",
    "%env TF_FORCE_UNIFIED_MEMORY=1\n",
    "%env XLA_PYTHON_CLIENT_MEM_FRACTION=4.0"
   ]
  },
  {
   "cell_type": "code",
   "execution_count": 2,
   "id": "539f4edf-ca04-4bef-b5c9-a6d402f7570b",
   "metadata": {},
   "outputs": [
    {
     "name": "stderr",
     "output_type": "stream",
     "text": [
      "Warning: importing 'simtk.openmm' is deprecated.  Import 'openmm' instead.\n"
     ]
    }
   ],
   "source": [
    "import concurrent.futures\n",
    "import contextlib\n",
    "import itertools\n",
    "import os\n",
    "import tempfile\n",
    "import urllib.request\n",
    "from datetime import datetime\n",
    "from pathlib import Path\n",
    "\n",
    "import dotenv\n",
    "import elaspic2 as el2\n",
    "import matplotlib.pyplot as plt\n",
    "import numpy as np\n",
    "import pandas as pd\n",
    "import pyarrow as pa\n",
    "import pyarrow.parquet as pq\n",
    "import seaborn as sns\n",
    "import torch\n",
    "from elaspic2.plugins.rosetta_ddg import RosettaDDG\n",
    "from kmbio import PDB\n",
    "from kmtools import structure_tools\n",
    "from tqdm.auto import tqdm"
   ]
  },
  {
   "cell_type": "markdown",
   "id": "5be0ca05-c038-414f-ba84-b2ae8013088b",
   "metadata": {},
   "source": [
    "## Parameters"
   ]
  },
  {
   "cell_type": "code",
   "execution_count": 3,
   "id": "10e1faee-9f6a-40d8-8819-272b1c9837bb",
   "metadata": {},
   "outputs": [
    {
     "data": {
      "text/plain": [
       "PosixPath('/scratch/strokach/workspace/elaspic2-cagi6/notebooks/30_cagi6_mapk1')"
      ]
     },
     "execution_count": 3,
     "metadata": {},
     "output_type": "execute_result"
    }
   ],
   "source": [
    "NOTEBOOK_DIR = Path(\"30_cagi6_mapk1\").resolve()\n",
    "NOTEBOOK_DIR.mkdir(exist_ok=True)\n",
    "\n",
    "NOTEBOOK_DIR"
   ]
  },
  {
   "cell_type": "code",
   "execution_count": 4,
   "id": "4ffc9d11-d255-47dc-85dd-550d53787ba4",
   "metadata": {},
   "outputs": [
    {
     "data": {
      "text/plain": [
       "'P28482'"
      ]
     },
     "execution_count": 4,
     "metadata": {},
     "output_type": "execute_result"
    }
   ],
   "source": [
    "UNIPROT_ID = \"P28482\"\n",
    "\n",
    "UNIPROT_ID"
   ]
  },
  {
   "cell_type": "code",
   "execution_count": 5,
   "id": "1a161a46-46da-410c-833f-cc487c097541",
   "metadata": {
    "colab": {
     "base_uri": "https://localhost:8080/"
    },
    "id": "HCyTzII-HD1t",
    "outputId": "92f63199-1727-48d3-cb4b-6ff798fa75b6"
   },
   "outputs": [
    {
     "data": {
      "text/plain": [
       "device(type='cuda')"
      ]
     },
     "execution_count": 5,
     "metadata": {},
     "output_type": "execute_result"
    }
   ],
   "source": [
    "device = torch.device(\"cuda\" if torch.cuda.is_available() else \"cpu\")\n",
    "\n",
    "device"
   ]
  },
  {
   "cell_type": "code",
   "execution_count": 6,
   "id": "92bd5cc7-d64c-4f0d-bdfc-3d44ede20480",
   "metadata": {
    "colab": {
     "base_uri": "https://localhost:8080/",
     "height": 35
    },
    "id": "i3LyUBcjSUzb",
    "outputId": "054b8acc-0717-48cf-83d9-ca0b886f7b10"
   },
   "outputs": [
    {
     "data": {
      "text/plain": [
       "'2021-09-28T12'"
      ]
     },
     "execution_count": 6,
     "metadata": {},
     "output_type": "execute_result"
    }
   ],
   "source": [
    "version = datetime.now().isoformat(timespec=\"hours\")\n",
    "\n",
    "version"
   ]
  },
  {
   "cell_type": "markdown",
   "id": "ba95e079-5284-4944-a22e-32c22becc8dd",
   "metadata": {},
   "source": [
    "## Download data"
   ]
  },
  {
   "cell_type": "code",
   "execution_count": 7,
   "id": "9688e150-c466-4320-b201-3ebe4b32edb0",
   "metadata": {},
   "outputs": [],
   "source": [
    "def download(url, filename):\n",
    "    urllib.request.urlretrieve(url, filename)"
   ]
  },
  {
   "cell_type": "code",
   "execution_count": 8,
   "id": "de7bafde-0507-4f52-9fb1-12c2f6f47b1b",
   "metadata": {},
   "outputs": [],
   "source": [
    "def load_sequence(sequence_file):\n",
    "    with sequence_file.open(\"rt\") as fin:\n",
    "        data = fin.read()\n",
    "    chunks = []\n",
    "    for line in data.split(\"\\n\"):\n",
    "        if line.startswith(\">\"):\n",
    "            continue\n",
    "        chunks.append(line.strip())\n",
    "    return \"\".join(chunks)"
   ]
  },
  {
   "cell_type": "code",
   "execution_count": 9,
   "id": "ce54f842-cfd5-467c-960e-e4706d6fc8f2",
   "metadata": {},
   "outputs": [],
   "source": [
    "if not NOTEBOOK_DIR.joinpath(\"validation.py\").is_file():\n",
    "    import synapseclient\n",
    "    import synapseutils\n",
    "    dotenv.load_dotenv(\"../.env\")\n",
    "    syn = synapseclient.Synapse()\n",
    "    syn.login(os.environ[\"SYNAPSE_USERNAME\"], os.environ[\"SYNAPSE_PASSWORD\"])\n",
    "    _ = synapseutils.syncFromSynapse(syn, \"syn25955327\", path=NOTEBOOK_DIR)"
   ]
  },
  {
   "cell_type": "code",
   "execution_count": 10,
   "id": "e62c0d9c-f89a-427e-9200-e00939cdf402",
   "metadata": {},
   "outputs": [],
   "source": [
    "sequence_file = NOTEBOOK_DIR.joinpath(f\"{UNIPROT_ID}.fasta\")\n",
    "\n",
    "if not sequence_file.is_file():\n",
    "    download(f\"https://www.uniprot.org/uniprot/{UNIPROT_ID}.fasta\", sequence_file)\n",
    "\n",
    "sequence = load_sequence(sequence_file)"
   ]
  },
  {
   "cell_type": "code",
   "execution_count": 11,
   "id": "bc4e24de-1b1a-4fe0-92eb-4dd5910d5289",
   "metadata": {},
   "outputs": [],
   "source": [
    "structure_file = NOTEBOOK_DIR.joinpath(f\"{UNIPROT_ID}.pdb\")\n",
    "\n",
    "if not structure_file.is_file():\n",
    "    download(f\"https://alphafold.ebi.ac.uk/files/AF-{UNIPROT_ID}-F1-model_v1.pdb\", structure_file)\n",
    "\n",
    "with structure_file.open(\"r\") as fin:\n",
    "    structure_blob = fin.read()"
   ]
  },
  {
   "cell_type": "code",
   "execution_count": 12,
   "id": "6a937350-73cb-4515-8205-870357bcc175",
   "metadata": {},
   "outputs": [],
   "source": [
    "alignment_file = NOTEBOOK_DIR.joinpath(f\"{UNIPROT_ID}.a3m.gz\")\n",
    "\n",
    "if not alignment_file.is_file():\n",
    "    from elaspic2.plugins.alphafold import mmseqs2\n",
    "\n",
    "    dotenv.load_dotenv(\"../.env\")\n",
    "    with mmseqs2.api_gateway(mmseqs2.MMSEQS2_HOST_URL) as gateway:\n",
    "        alignment = mmseqs2.run_mmseqs2(sequence, gateway=gateway)\n",
    "        assert alignment[1] == f\"{sequence}\\n\"\n",
    "        alignment_df = pd.DataFrame({\"alignment\": alignment})\n",
    "        pq.write_table(pa.Table.from_pandas(alignment_df, preserve_index=False), alignment_file)\n",
    "\n",
    "alignment = pq.read_table(alignment_file).to_pandas()[\"alignment\"].values.tolist()"
   ]
  },
  {
   "cell_type": "markdown",
   "id": "af4fdd39-dd7b-49f3-b37a-6747aef9c571",
   "metadata": {},
   "source": [
    "## Load data"
   ]
  },
  {
   "cell_type": "code",
   "execution_count": 13,
   "id": "d8c86eef-3016-4305-b977-1037dd6d97c6",
   "metadata": {},
   "outputs": [],
   "source": [
    "def mutation_matches_sequence(mutation, sequence):\n",
    "    wt, pos, mut = mutation[0], mutation[1:-1], mutation[-1]\n",
    "    pos = int(pos)\n",
    "    return sequence[pos - 1] == wt"
   ]
  },
  {
   "cell_type": "code",
   "execution_count": 14,
   "id": "9b3b0ba8-47d5-447c-b309-646698238fb2",
   "metadata": {
    "id": "gJG9gYqPHD15"
   },
   "outputs": [],
   "source": [
    "def sequence_matches_structure(sequence, structure_blob):\n",
    "    with tempfile.NamedTemporaryFile(suffix=\".pdb\") as tmp_file:\n",
    "        with open(tmp_file.name, \"wt\") as fout:\n",
    "            fout.write(structure_blob)\n",
    "        structure = PDB.load(tmp_file.name)\n",
    "\n",
    "    chain_sequence = structure_tools.get_chain_sequence(\n",
    "        structure[0][\"A\"], if_unknown=\"replace\", unknown_residue_marker=\"\"\n",
    "    )\n",
    "    return sequence == chain_sequence"
   ]
  },
  {
   "cell_type": "code",
   "execution_count": 15,
   "id": "8e273fa4-c6d1-4b41-9edc-74a5d86d9eab",
   "metadata": {},
   "outputs": [
    {
     "data": {
      "text/html": [
       "<div>\n",
       "<style scoped>\n",
       "    .dataframe tbody tr th:only-of-type {\n",
       "        vertical-align: middle;\n",
       "    }\n",
       "\n",
       "    .dataframe tbody tr th {\n",
       "        vertical-align: top;\n",
       "    }\n",
       "\n",
       "    .dataframe thead th {\n",
       "        text-align: right;\n",
       "    }\n",
       "</style>\n",
       "<table border=\"1\" class=\"dataframe\">\n",
       "  <thead>\n",
       "    <tr style=\"text-align: right;\">\n",
       "      <th></th>\n",
       "      <th>MAPK1-variant</th>\n",
       "      <th>DDG-NotPO4</th>\n",
       "      <th>Standard-Deviation-DDG-NotPO4</th>\n",
       "      <th>DDG-PO4</th>\n",
       "      <th>Standard-Deviation-DDG-PO4</th>\n",
       "      <th>Ratio-kcat/Km</th>\n",
       "      <th>Standard-Deviation-Ratio-kcat/Km</th>\n",
       "      <th>Comment</th>\n",
       "    </tr>\n",
       "  </thead>\n",
       "  <tbody>\n",
       "    <tr>\n",
       "      <th>0</th>\n",
       "      <td>p.E33Q</td>\n",
       "      <td>*</td>\n",
       "      <td>*</td>\n",
       "      <td>*</td>\n",
       "      <td>*</td>\n",
       "      <td>*</td>\n",
       "      <td>*</td>\n",
       "      <td>*</td>\n",
       "    </tr>\n",
       "    <tr>\n",
       "      <th>1</th>\n",
       "      <td>p.E81K</td>\n",
       "      <td>*</td>\n",
       "      <td>*</td>\n",
       "      <td>*</td>\n",
       "      <td>*</td>\n",
       "      <td>*</td>\n",
       "      <td>*</td>\n",
       "      <td>*</td>\n",
       "    </tr>\n",
       "  </tbody>\n",
       "</table>\n",
       "</div>"
      ],
      "text/plain": [
       "  MAPK1-variant DDG-NotPO4 Standard-Deviation-DDG-NotPO4 DDG-PO4  \\\n",
       "0        p.E33Q          *                             *       *   \n",
       "1        p.E81K          *                             *       *   \n",
       "\n",
       "   Standard-Deviation-DDG-PO4 Ratio-kcat/Km Standard-Deviation-Ratio-kcat/Km  \\\n",
       "0                           *             *                                *   \n",
       "1                           *             *                                *   \n",
       "\n",
       "  Comment  \n",
       "0       *  \n",
       "1       *  "
      ]
     },
     "execution_count": 15,
     "metadata": {},
     "output_type": "execute_result"
    }
   ],
   "source": [
    "result_template_df = pd.read_csv(NOTEBOOK_DIR.joinpath(\"mapk1_predictions.tsv\"), sep=\"\\t\")\n",
    "\n",
    "result_template_df.head(2)"
   ]
  },
  {
   "cell_type": "code",
   "execution_count": 16,
   "id": "5bfc1d8d-c316-4b98-9de4-4e7282d632b7",
   "metadata": {},
   "outputs": [],
   "source": [
    "result_df = result_template_df.copy()\n",
    "result_df[\"mut\"] = result_df[\"MAPK1-variant\"].str[2:]"
   ]
  },
  {
   "cell_type": "code",
   "execution_count": 17,
   "id": "0a500b9f-bd8b-47c9-be38-2182a73b2632",
   "metadata": {},
   "outputs": [],
   "source": [
    "assert all([mutation_matches_sequence(mut, sequence) for mut in result_df[\"mut\"]])"
   ]
  },
  {
   "cell_type": "code",
   "execution_count": 18,
   "id": "7251f319-8562-4309-aa9c-ade5de2d1288",
   "metadata": {},
   "outputs": [],
   "source": [
    "assert sequence_matches_structure(sequence, structure_blob)"
   ]
  },
  {
   "cell_type": "code",
   "execution_count": 19,
   "id": "e85e5625-2b0b-429d-9b43-80d3566415c0",
   "metadata": {},
   "outputs": [],
   "source": [
    "assert alignment[1] == f\"{sequence}\\n\""
   ]
  },
  {
   "cell_type": "markdown",
   "id": "4fa0b6a3-2e3a-4155-bb87-538568d08ca0",
   "metadata": {},
   "source": [
    "## Run Rosetta"
   ]
  },
  {
   "cell_type": "code",
   "execution_count": 20,
   "id": "2073be3f-3e84-4851-a738-b904cab52e7e",
   "metadata": {},
   "outputs": [],
   "source": [
    "rosetta_ddg_data = RosettaDDG.build(\n",
    "    structure_file,\n",
    "    protocol=\"cartesian_ddg\",\n",
    "    energy_function=\"beta_nov16_cart\",\n",
    "    interface=0,\n",
    ")"
   ]
  },
  {
   "cell_type": "code",
   "execution_count": 21,
   "id": "38e42bcb-6ce2-4440-8c91-1bf8a6880fd2",
   "metadata": {},
   "outputs": [],
   "source": [
    "def rosetta_ddg_worker(mut, data):\n",
    "    results = RosettaDDG.analyze_mutation(f\"A_{mut}\", data)\n",
    "    results = {\"mut\": mut} | {f\"rosetta_{key}\": value for key, value in results.items()}\n",
    "    return results"
   ]
  },
  {
   "cell_type": "code",
   "execution_count": 22,
   "id": "192db9b4-9f12-4362-bc92-b5f3787e5b39",
   "metadata": {},
   "outputs": [],
   "source": [
    "rosetta_results_file = NOTEBOOK_DIR.joinpath(\"rosetta-results.parquet\")\n",
    "\n",
    "if rosetta_results_file.is_file():\n",
    "    rosetta_results_df = pq.read_table(rosetta_results_file).to_pandas()\n",
    "else:\n",
    "    with concurrent.futures.ThreadPoolExecutor(len(result_df)) as pool:\n",
    "        rosetta_results = list(\n",
    "            tqdm(\n",
    "                pool.map(\n",
    "                    rosetta_ddg_worker,\n",
    "                    result_df[\"mut\"].values.tolist(),\n",
    "                    itertools.repeat(rosetta_ddg_data),\n",
    "                ),\n",
    "                total=len(result_df),\n",
    "            )\n",
    "        )\n",
    "    rosetta_results_df = pd.DataFrame(rosetta_results)\n",
    "    pq.write_table(pa.Table.from_pandas(rosetta_results_df, preserve_index=False), rosetta_results_file)"
   ]
  },
  {
   "cell_type": "markdown",
   "id": "3aa40f55-6795-4a8a-a00e-22116cdc6d74",
   "metadata": {},
   "source": [
    "## Run AlphaFold"
   ]
  },
  {
   "cell_type": "code",
   "execution_count": 23,
   "id": "9117368f-887a-4156-890b-449ca33dc775",
   "metadata": {},
   "outputs": [],
   "source": [
    "def worker(mutation, data):\n",
    "    try:\n",
    "        results = AlphaFold.analyze_mutation(f\"A_{mutation}\", data)\n",
    "    except Exception as error:\n",
    "        print(f\"{error!r}\")\n",
    "        return None\n",
    "    else:\n",
    "        results = {f\"alphafold_core_{key}\": value for key, value in results.items()}\n",
    "        return results"
   ]
  },
  {
   "cell_type": "code",
   "execution_count": 24,
   "id": "f36721a1-d8e9-4b3e-aaea-3a7f711ee11c",
   "metadata": {},
   "outputs": [],
   "source": [
    "alphafold_results_file = NOTEBOOK_DIR.joinpath(\"alphafold-results.parquet\")\n",
    "\n",
    "if alphafold_results_file.is_file():\n",
    "    alphafold_results_df = pq.read_table(alphafold_results_file).to_pandas()\n",
    "else:\n",
    "    from elaspic2.plugins.alphafold import AlphaFold, AlphaFoldAnalyzeError, AlphaFoldBuildError\n",
    "    from jax.lib import xla_bridge\n",
    "\n",
    "    jax_device = xla_bridge.get_backend().platform\n",
    "    print(f\"Device: {jax_device}\")\n",
    "\n",
    "    AlphaFold.load_model(device=jax_device)\n",
    "    data = AlphaFold.build(sequence, ligand_sequence=None, msa=alignment)\n",
    "\n",
    "    result_list = []\n",
    "    for mut in tqdm(result_df[\"mut\"], leave=False):\n",
    "        result = worker(mut, data)\n",
    "        result_list.append({\"mut\": mut} | result)\n",
    "    alphafold_results_df = pd.DataFrame(result_list)\n",
    "\n",
    "    pq.write_table(\n",
    "        pa.Table.from_pandas(alphafold_results_df, preserve_index=False), alphafold_results_file\n",
    "    )"
   ]
  },
  {
   "cell_type": "code",
   "execution_count": 25,
   "id": "010f06f4-f320-491e-bc9a-ca066db6a5d1",
   "metadata": {},
   "outputs": [
    {
     "data": {
      "text/html": [
       "<div>\n",
       "<style scoped>\n",
       "    .dataframe tbody tr th:only-of-type {\n",
       "        vertical-align: middle;\n",
       "    }\n",
       "\n",
       "    .dataframe tbody tr th {\n",
       "        vertical-align: top;\n",
       "    }\n",
       "\n",
       "    .dataframe thead th {\n",
       "        text-align: right;\n",
       "    }\n",
       "</style>\n",
       "<table border=\"1\" class=\"dataframe\">\n",
       "  <thead>\n",
       "    <tr style=\"text-align: right;\">\n",
       "      <th></th>\n",
       "      <th>mut</th>\n",
       "      <th>alphafold_core_scores_residue_plddt_wt</th>\n",
       "      <th>alphafold_core_scores_protein_plddt_wt</th>\n",
       "      <th>alphafold_core_scores_protein_max_predicted_aligned_error_wt</th>\n",
       "      <th>alphafold_core_scores_proten_ptm_wt</th>\n",
       "      <th>alphafold_core_features_residue_experimentally_resolved_wt</th>\n",
       "      <th>alphafold_core_features_residue_predicted_lddt_wt</th>\n",
       "      <th>alphafold_core_features_residue_msa_first_row_wt</th>\n",
       "      <th>alphafold_core_features_residue_single_wt</th>\n",
       "      <th>alphafold_core_features_residue_structure_module_wt</th>\n",
       "      <th>...</th>\n",
       "      <th>alphafold_core_features_residue_experimentally_resolved_mut</th>\n",
       "      <th>alphafold_core_features_residue_predicted_lddt_mut</th>\n",
       "      <th>alphafold_core_features_residue_msa_first_row_mut</th>\n",
       "      <th>alphafold_core_features_residue_single_mut</th>\n",
       "      <th>alphafold_core_features_residue_structure_module_mut</th>\n",
       "      <th>alphafold_core_features_protein_experimentally_resolved_mut</th>\n",
       "      <th>alphafold_core_features_protein_predicted_lddt_mut</th>\n",
       "      <th>alphafold_core_features_protein_msa_first_row_mut</th>\n",
       "      <th>alphafold_core_features_protein_single_mut</th>\n",
       "      <th>alphafold_core_features_protein_structure_module_mut</th>\n",
       "    </tr>\n",
       "  </thead>\n",
       "  <tbody>\n",
       "    <tr>\n",
       "      <th>0</th>\n",
       "      <td>E33Q</td>\n",
       "      <td>84.271057</td>\n",
       "      <td>87.747954</td>\n",
       "      <td>31.75</td>\n",
       "      <td>0.887063</td>\n",
       "      <td>[2.8770702, 2.9461424, 3.2922769, 2.7614207, 3...</td>\n",
       "      <td>[-8.669692, -9.221002, -8.246704, -7.5423164, ...</td>\n",
       "      <td>[18.622025, 11.388911, 4.587965, 14.636523, -1...</td>\n",
       "      <td>[9.641211, 44.703594, 14.128213, 2.6826615, 3....</td>\n",
       "      <td>[0.0021715537, 0.011204451, -0.006013179, 0.00...</td>\n",
       "      <td>...</td>\n",
       "      <td>[2.6185238, 2.6907444, 3.006825, 2.516821, 3.1...</td>\n",
       "      <td>[-8.608849, -9.146437, -8.178978, -7.4733496, ...</td>\n",
       "      <td>[18.210424, 10.107504, 3.882144, 15.387014, -1...</td>\n",
       "      <td>[9.321604, 51.92668, 20.040691, 2.2599945, 5.8...</td>\n",
       "      <td>[0.0020749941, 0.0112785995, -0.006013153, 0.0...</td>\n",
       "      <td>[2.9144516, 3.056479, 3.4794421, 2.8902307, 3....</td>\n",
       "      <td>[-8.733058, -9.778259, -8.551963, -7.715663, -...</td>\n",
       "      <td>[2.2348666, 5.301391, 0.3843421, 1.4361696, -5...</td>\n",
       "      <td>[27.884449, 9.957067, 9.515727, 4.9400554, 4.9...</td>\n",
       "      <td>[0.0006174341, 0.010583821, -0.0059063067, 0.0...</td>\n",
       "    </tr>\n",
       "    <tr>\n",
       "      <th>1</th>\n",
       "      <td>E81K</td>\n",
       "      <td>95.295345</td>\n",
       "      <td>87.747954</td>\n",
       "      <td>31.75</td>\n",
       "      <td>0.887063</td>\n",
       "      <td>[3.2879066, 3.3683913, 3.9344985, 3.2070408, 4...</td>\n",
       "      <td>[-11.546194, -12.453913, -10.83298, -9.735328,...</td>\n",
       "      <td>[13.546079, 6.353491, -4.5482187, 1.0821763, -...</td>\n",
       "      <td>[46.411034, 37.813553, 2.90744, 16.750113, 3.5...</td>\n",
       "      <td>[6.083399e-05, 0.006591566, -0.005965011, 0.00...</td>\n",
       "      <td>...</td>\n",
       "      <td>[2.9272072, 3.0048463, 3.4825618, 2.8184836, 3...</td>\n",
       "      <td>[-11.615765, -12.529614, -10.889041, -9.788271...</td>\n",
       "      <td>[13.030119, 5.61815, -3.9496727, 1.913593, -7....</td>\n",
       "      <td>[37.746056, 44.183926, 5.7669396, 7.617279, 0....</td>\n",
       "      <td>[0.00011404604, 0.0066877753, -0.005954543, 0....</td>\n",
       "      <td>[2.92088, 3.0634732, 3.4871912, 2.8968136, 3.4...</td>\n",
       "      <td>[-8.746692, -9.791034, -8.560947, -7.7228723, ...</td>\n",
       "      <td>[2.2382922, 5.3104186, 0.37440258, 1.425295, -...</td>\n",
       "      <td>[27.87276, 10.037536, 9.543559, 4.8875713, 4.9...</td>\n",
       "      <td>[0.0006678155, 0.01063951, -0.005907728, 0.003...</td>\n",
       "    </tr>\n",
       "  </tbody>\n",
       "</table>\n",
       "<p>2 rows × 29 columns</p>\n",
       "</div>"
      ],
      "text/plain": [
       "    mut  alphafold_core_scores_residue_plddt_wt  \\\n",
       "0  E33Q                               84.271057   \n",
       "1  E81K                               95.295345   \n",
       "\n",
       "   alphafold_core_scores_protein_plddt_wt  \\\n",
       "0                               87.747954   \n",
       "1                               87.747954   \n",
       "\n",
       "   alphafold_core_scores_protein_max_predicted_aligned_error_wt  \\\n",
       "0                                              31.75              \n",
       "1                                              31.75              \n",
       "\n",
       "   alphafold_core_scores_proten_ptm_wt  \\\n",
       "0                             0.887063   \n",
       "1                             0.887063   \n",
       "\n",
       "  alphafold_core_features_residue_experimentally_resolved_wt  \\\n",
       "0  [2.8770702, 2.9461424, 3.2922769, 2.7614207, 3...           \n",
       "1  [3.2879066, 3.3683913, 3.9344985, 3.2070408, 4...           \n",
       "\n",
       "   alphafold_core_features_residue_predicted_lddt_wt  \\\n",
       "0  [-8.669692, -9.221002, -8.246704, -7.5423164, ...   \n",
       "1  [-11.546194, -12.453913, -10.83298, -9.735328,...   \n",
       "\n",
       "    alphafold_core_features_residue_msa_first_row_wt  \\\n",
       "0  [18.622025, 11.388911, 4.587965, 14.636523, -1...   \n",
       "1  [13.546079, 6.353491, -4.5482187, 1.0821763, -...   \n",
       "\n",
       "           alphafold_core_features_residue_single_wt  \\\n",
       "0  [9.641211, 44.703594, 14.128213, 2.6826615, 3....   \n",
       "1  [46.411034, 37.813553, 2.90744, 16.750113, 3.5...   \n",
       "\n",
       "  alphafold_core_features_residue_structure_module_wt  ...  \\\n",
       "0  [0.0021715537, 0.011204451, -0.006013179, 0.00...   ...   \n",
       "1  [6.083399e-05, 0.006591566, -0.005965011, 0.00...   ...   \n",
       "\n",
       "  alphafold_core_features_residue_experimentally_resolved_mut  \\\n",
       "0  [2.6185238, 2.6907444, 3.006825, 2.516821, 3.1...            \n",
       "1  [2.9272072, 3.0048463, 3.4825618, 2.8184836, 3...            \n",
       "\n",
       "  alphafold_core_features_residue_predicted_lddt_mut  \\\n",
       "0  [-8.608849, -9.146437, -8.178978, -7.4733496, ...   \n",
       "1  [-11.615765, -12.529614, -10.889041, -9.788271...   \n",
       "\n",
       "   alphafold_core_features_residue_msa_first_row_mut  \\\n",
       "0  [18.210424, 10.107504, 3.882144, 15.387014, -1...   \n",
       "1  [13.030119, 5.61815, -3.9496727, 1.913593, -7....   \n",
       "\n",
       "          alphafold_core_features_residue_single_mut  \\\n",
       "0  [9.321604, 51.92668, 20.040691, 2.2599945, 5.8...   \n",
       "1  [37.746056, 44.183926, 5.7669396, 7.617279, 0....   \n",
       "\n",
       "  alphafold_core_features_residue_structure_module_mut  \\\n",
       "0  [0.0020749941, 0.0112785995, -0.006013153, 0.0...     \n",
       "1  [0.00011404604, 0.0066877753, -0.005954543, 0....     \n",
       "\n",
       "   alphafold_core_features_protein_experimentally_resolved_mut  \\\n",
       "0  [2.9144516, 3.056479, 3.4794421, 2.8902307, 3....             \n",
       "1  [2.92088, 3.0634732, 3.4871912, 2.8968136, 3.4...             \n",
       "\n",
       "   alphafold_core_features_protein_predicted_lddt_mut  \\\n",
       "0  [-8.733058, -9.778259, -8.551963, -7.715663, -...    \n",
       "1  [-8.746692, -9.791034, -8.560947, -7.7228723, ...    \n",
       "\n",
       "   alphafold_core_features_protein_msa_first_row_mut  \\\n",
       "0  [2.2348666, 5.301391, 0.3843421, 1.4361696, -5...   \n",
       "1  [2.2382922, 5.3104186, 0.37440258, 1.425295, -...   \n",
       "\n",
       "          alphafold_core_features_protein_single_mut  \\\n",
       "0  [27.884449, 9.957067, 9.515727, 4.9400554, 4.9...   \n",
       "1  [27.87276, 10.037536, 9.543559, 4.8875713, 4.9...   \n",
       "\n",
       "  alphafold_core_features_protein_structure_module_mut  \n",
       "0  [0.0006174341, 0.010583821, -0.0059063067, 0.0...    \n",
       "1  [0.0006678155, 0.01063951, -0.005907728, 0.003...    \n",
       "\n",
       "[2 rows x 29 columns]"
      ]
     },
     "metadata": {},
     "output_type": "display_data"
    },
    {
     "name": "stdout",
     "output_type": "stream",
     "text": [
      "11\n"
     ]
    }
   ],
   "source": [
    "display(alphafold_results_df.head(2))\n",
    "print(len(alphafold_results_df))"
   ]
  },
  {
   "cell_type": "markdown",
   "id": "e1bbd9f2-f7f1-4ef3-b110-bc924c1b08df",
   "metadata": {},
   "source": [
    "## Run ProteinSolver"
   ]
  },
  {
   "cell_type": "code",
   "execution_count": 26,
   "id": "7444eab9-13dd-4609-9937-97e874204e5b",
   "metadata": {},
   "outputs": [],
   "source": [
    "def worker(mutation, data):\n",
    "    try:\n",
    "        results = ProteinSolver.analyze_mutation(f\"A_{mutation}\", data)\n",
    "    except Exception as error:\n",
    "        print(f\"{error!r}\")\n",
    "        return None\n",
    "    else:\n",
    "        results = {f\"proteinsolver_core_{key}\": value for key, value in results.items()}\n",
    "        return results"
   ]
  },
  {
   "cell_type": "code",
   "execution_count": 27,
   "id": "585b17c1-e812-49e3-945b-c0b6d76f7579",
   "metadata": {},
   "outputs": [],
   "source": [
    "proteinsolver_results_file = NOTEBOOK_DIR.joinpath(\"proteinsolver-results.parquet\")\n",
    "\n",
    "if proteinsolver_results_file.is_file():\n",
    "    proteinsolver_results_df = pq.read_table(proteinsolver_results_file).to_pandas()\n",
    "else:\n",
    "    from elaspic2.plugins.proteinsolver import ProteinSolver\n",
    "\n",
    "    ProteinSolver.load_model(device=device)\n",
    "    \n",
    "    data = ProteinSolver.build(structure_file, sequence, None, remove_hetatms=False)\n",
    "\n",
    "    result_list = []\n",
    "    for mut in tqdm(result_df[\"mut\"], leave=False):\n",
    "        result = worker(mut, data)\n",
    "        result_list.append({\"mut\": mut} | result)\n",
    "    proteinsolver_results_df = pd.DataFrame(result_list)\n",
    "\n",
    "    pq.write_table(\n",
    "        pa.Table.from_pandas(proteinsolver_results_df, preserve_index=False),\n",
    "        proteinsolver_results_file,\n",
    "    )"
   ]
  },
  {
   "cell_type": "code",
   "execution_count": 28,
   "id": "64bb9f9e-47c9-452f-b2cc-17b1a3e2d3f5",
   "metadata": {},
   "outputs": [
    {
     "data": {
      "text/html": [
       "<div>\n",
       "<style scoped>\n",
       "    .dataframe tbody tr th:only-of-type {\n",
       "        vertical-align: middle;\n",
       "    }\n",
       "\n",
       "    .dataframe tbody tr th {\n",
       "        vertical-align: top;\n",
       "    }\n",
       "\n",
       "    .dataframe thead th {\n",
       "        text-align: right;\n",
       "    }\n",
       "</style>\n",
       "<table border=\"1\" class=\"dataframe\">\n",
       "  <thead>\n",
       "    <tr style=\"text-align: right;\">\n",
       "      <th></th>\n",
       "      <th>mut</th>\n",
       "      <th>proteinsolver_core_score_wt</th>\n",
       "      <th>proteinsolver_core_score_mut</th>\n",
       "      <th>proteinsolver_core_features_residue_wt</th>\n",
       "      <th>proteinsolver_core_features_protein_wt</th>\n",
       "      <th>proteinsolver_core_features_residue_mut</th>\n",
       "      <th>proteinsolver_core_features_protein_mut</th>\n",
       "    </tr>\n",
       "  </thead>\n",
       "  <tbody>\n",
       "    <tr>\n",
       "      <th>0</th>\n",
       "      <td>E33Q</td>\n",
       "      <td>0.138828</td>\n",
       "      <td>0.072097</td>\n",
       "      <td>[2.932053804397583, 1.4533919095993042, -0.066...</td>\n",
       "      <td>[-1.43948233127594, 0.8285224437713623, 0.0743...</td>\n",
       "      <td>[-0.5347995162010193, 0.6960828304290771, -0.5...</td>\n",
       "      <td>[-1.4501885175704956, 0.8256354928016663, 0.07...</td>\n",
       "    </tr>\n",
       "    <tr>\n",
       "      <th>1</th>\n",
       "      <td>E81K</td>\n",
       "      <td>0.175108</td>\n",
       "      <td>0.015804</td>\n",
       "      <td>[3.316300630569458, 1.5210775136947632, -0.088...</td>\n",
       "      <td>[-1.43948233127594, 0.8285225033760071, 0.0743...</td>\n",
       "      <td>[-1.2187674045562744, 2.1976358890533447, 0.00...</td>\n",
       "      <td>[-1.455361008644104, 0.8385410904884338, 0.074...</td>\n",
       "    </tr>\n",
       "  </tbody>\n",
       "</table>\n",
       "</div>"
      ],
      "text/plain": [
       "    mut  proteinsolver_core_score_wt  proteinsolver_core_score_mut  \\\n",
       "0  E33Q                     0.138828                      0.072097   \n",
       "1  E81K                     0.175108                      0.015804   \n",
       "\n",
       "              proteinsolver_core_features_residue_wt  \\\n",
       "0  [2.932053804397583, 1.4533919095993042, -0.066...   \n",
       "1  [3.316300630569458, 1.5210775136947632, -0.088...   \n",
       "\n",
       "              proteinsolver_core_features_protein_wt  \\\n",
       "0  [-1.43948233127594, 0.8285224437713623, 0.0743...   \n",
       "1  [-1.43948233127594, 0.8285225033760071, 0.0743...   \n",
       "\n",
       "             proteinsolver_core_features_residue_mut  \\\n",
       "0  [-0.5347995162010193, 0.6960828304290771, -0.5...   \n",
       "1  [-1.2187674045562744, 2.1976358890533447, 0.00...   \n",
       "\n",
       "             proteinsolver_core_features_protein_mut  \n",
       "0  [-1.4501885175704956, 0.8256354928016663, 0.07...  \n",
       "1  [-1.455361008644104, 0.8385410904884338, 0.074...  "
      ]
     },
     "metadata": {},
     "output_type": "display_data"
    },
    {
     "name": "stdout",
     "output_type": "stream",
     "text": [
      "11\n"
     ]
    }
   ],
   "source": [
    "display(proteinsolver_results_df.head(2))\n",
    "print(len(proteinsolver_results_df))"
   ]
  },
  {
   "cell_type": "markdown",
   "id": "03d5b438-42fb-4a7e-9fa6-574a071b57c1",
   "metadata": {},
   "source": [
    "## Run ProtBert"
   ]
  },
  {
   "cell_type": "code",
   "execution_count": 29,
   "id": "a8e263f3-8f66-420b-b746-06c1a6b11c58",
   "metadata": {},
   "outputs": [],
   "source": [
    "def worker(mutation, data):\n",
    "    try:\n",
    "        results = ProtBert.analyze_mutation(f\"A_{mutation}\", data)\n",
    "    except Exception as error:\n",
    "        print(f\"{error!r}\")\n",
    "        return None\n",
    "    else:\n",
    "        results = {f\"protbert_core_{key}\": value for key, value in results.items()}\n",
    "        return results"
   ]
  },
  {
   "cell_type": "code",
   "execution_count": 30,
   "id": "060e37b8-379a-404f-9464-4631a91a7e92",
   "metadata": {},
   "outputs": [],
   "source": [
    "protbert_results_file = NOTEBOOK_DIR.joinpath(\"protbert-results.parquet\")\n",
    "\n",
    "if protbert_results_file.is_file():\n",
    "    protbert_results_df = pq.read_table(protbert_results_file).to_pandas()\n",
    "else:\n",
    "    from elaspic2.plugins.protbert import ProtBert\n",
    "\n",
    "    ProtBert.load_model(device=device)\n",
    "    data = ProtBert.build(sequence, ligand_sequence=None)\n",
    "\n",
    "    result_list = []\n",
    "    for mut in tqdm(result_df[\"mut\"], leave=False):\n",
    "        result = worker(mut, data)\n",
    "        result_list.append({\"mut\": mut} | result)\n",
    "    protbert_results_df = pd.DataFrame(result_list)\n",
    "\n",
    "    pq.write_table(\n",
    "        pa.Table.from_pandas(protbert_results_df, preserve_index=False), protbert_results_file\n",
    "    )"
   ]
  },
  {
   "cell_type": "code",
   "execution_count": 31,
   "id": "065e2410-bf71-48c4-bff0-4c1a5f75099d",
   "metadata": {},
   "outputs": [
    {
     "data": {
      "text/html": [
       "<div>\n",
       "<style scoped>\n",
       "    .dataframe tbody tr th:only-of-type {\n",
       "        vertical-align: middle;\n",
       "    }\n",
       "\n",
       "    .dataframe tbody tr th {\n",
       "        vertical-align: top;\n",
       "    }\n",
       "\n",
       "    .dataframe thead th {\n",
       "        text-align: right;\n",
       "    }\n",
       "</style>\n",
       "<table border=\"1\" class=\"dataframe\">\n",
       "  <thead>\n",
       "    <tr style=\"text-align: right;\">\n",
       "      <th></th>\n",
       "      <th>mut</th>\n",
       "      <th>protbert_core_score_wt</th>\n",
       "      <th>protbert_core_score_mut</th>\n",
       "      <th>protbert_core_features_residue_wt</th>\n",
       "      <th>protbert_core_features_protein_wt</th>\n",
       "      <th>protbert_core_features_residue_mut</th>\n",
       "      <th>protbert_core_features_protein_mut</th>\n",
       "    </tr>\n",
       "  </thead>\n",
       "  <tbody>\n",
       "    <tr>\n",
       "      <th>0</th>\n",
       "      <td>E33Q</td>\n",
       "      <td>0.998497</td>\n",
       "      <td>0.000154</td>\n",
       "      <td>[-0.09428805112838745, -0.06660676002502441, 0...</td>\n",
       "      <td>[0.07330284267663956, -0.02223372645676136, -0...</td>\n",
       "      <td>[-0.08288051187992096, -0.06935720145702362, 0...</td>\n",
       "      <td>[0.07342074066400528, -0.020175088196992874, -...</td>\n",
       "    </tr>\n",
       "    <tr>\n",
       "      <th>1</th>\n",
       "      <td>E81K</td>\n",
       "      <td>0.994313</td>\n",
       "      <td>0.000130</td>\n",
       "      <td>[0.09070268273353577, -0.028208790346980095, -...</td>\n",
       "      <td>[0.07330284267663956, -0.02223372645676136, -0...</td>\n",
       "      <td>[0.11418430507183075, -0.009324148297309875, -...</td>\n",
       "      <td>[0.07354287058115005, -0.021542491391301155, -...</td>\n",
       "    </tr>\n",
       "  </tbody>\n",
       "</table>\n",
       "</div>"
      ],
      "text/plain": [
       "    mut  protbert_core_score_wt  protbert_core_score_mut  \\\n",
       "0  E33Q                0.998497                 0.000154   \n",
       "1  E81K                0.994313                 0.000130   \n",
       "\n",
       "                   protbert_core_features_residue_wt  \\\n",
       "0  [-0.09428805112838745, -0.06660676002502441, 0...   \n",
       "1  [0.09070268273353577, -0.028208790346980095, -...   \n",
       "\n",
       "                   protbert_core_features_protein_wt  \\\n",
       "0  [0.07330284267663956, -0.02223372645676136, -0...   \n",
       "1  [0.07330284267663956, -0.02223372645676136, -0...   \n",
       "\n",
       "                  protbert_core_features_residue_mut  \\\n",
       "0  [-0.08288051187992096, -0.06935720145702362, 0...   \n",
       "1  [0.11418430507183075, -0.009324148297309875, -...   \n",
       "\n",
       "                  protbert_core_features_protein_mut  \n",
       "0  [0.07342074066400528, -0.020175088196992874, -...  \n",
       "1  [0.07354287058115005, -0.021542491391301155, -...  "
      ]
     },
     "metadata": {},
     "output_type": "display_data"
    },
    {
     "name": "stdout",
     "output_type": "stream",
     "text": [
      "11\n"
     ]
    }
   ],
   "source": [
    "display(protbert_results_df.head(2))\n",
    "print(len(protbert_results_df))"
   ]
  },
  {
   "cell_type": "markdown",
   "id": "839aa79a-fbe0-43dd-9f2d-d99be03b28c5",
   "metadata": {},
   "source": [
    "## Run MSA"
   ]
  },
  {
   "cell_type": "code",
   "execution_count": null,
   "id": "14556dbc-d2de-4be7-b7a8-847356900ceb",
   "metadata": {},
   "outputs": [],
   "source": []
  },
  {
   "cell_type": "code",
   "execution_count": null,
   "id": "85ba4a57-a57d-48f6-b898-1d9d8cdef6d3",
   "metadata": {},
   "outputs": [],
   "source": []
  },
  {
   "cell_type": "markdown",
   "id": "116596ce-a27a-43da-8497-3cda1bef8653",
   "metadata": {
    "tags": []
   },
   "source": [
    "## Run `ELASPIC2`"
   ]
  },
  {
   "cell_type": "markdown",
   "id": "bb43e36d-46de-4989-ab9c-6d4216afeeda",
   "metadata": {
    "id": "4jTx3zGeHD2e"
   },
   "source": [
    "### Initialize the `ELASPIC2` model\n",
    "\n"
   ]
  },
  {
   "cell_type": "code",
   "execution_count": 32,
   "id": "39bf1842-3592-4c78-a2fe-c779fb0b9061",
   "metadata": {},
   "outputs": [
    {
     "name": "stderr",
     "output_type": "stream",
     "text": [
      "/opt/conda/lib/python3.9/site-packages/sklearn/base.py:310: UserWarning: Trying to unpickle estimator PCA from version 0.23.2 when using version 0.24.2. This might lead to breaking code or invalid results. Use at your own risk.\n",
      "  warnings.warn(\n",
      "Some weights of the model checkpoint at /scratch/strokach/workspace/elaspic2/src/elaspic2/plugins/protbert/data/prot_bert_bfd were not used when initializing BertModel: ['cls.predictions.transform.LayerNorm.bias', 'cls.seq_relationship.bias', 'cls.predictions.decoder.bias', 'cls.predictions.transform.dense.bias', 'cls.seq_relationship.weight', 'cls.predictions.decoder.weight', 'cls.predictions.transform.dense.weight', 'cls.predictions.bias', 'cls.predictions.transform.LayerNorm.weight']\n",
      "- This IS expected if you are initializing BertModel from the checkpoint of a model trained on another task or with another architecture (e.g. initializing a BertForSequenceClassification model from a BertForPreTraining model).\n",
      "- This IS NOT expected if you are initializing BertModel from the checkpoint of a model that you expect to be exactly identical (initializing a BertForSequenceClassification model from a BertForSequenceClassification model).\n"
     ]
    }
   ],
   "source": [
    "model = el2.ELASPIC2(device=device)"
   ]
  },
  {
   "cell_type": "markdown",
   "id": "b7a8816c-def8-4c35-8071-681af15d82e4",
   "metadata": {
    "id": "i8OkFJbj8sYO"
   },
   "source": [
    "### Make predictions"
   ]
  },
  {
   "cell_type": "code",
   "execution_count": 33,
   "id": "54b21cac-0df6-4d73-b525-5644e4aadf03",
   "metadata": {
    "colab": {
     "base_uri": "https://localhost:8080/"
    },
    "id": "ac6mTuNYHD2i",
    "outputId": "b2427457-6fb6-4e2c-dac0-d037fafc8282"
   },
   "outputs": [
    {
     "data": {
      "text/plain": [
       "ELASPIC2Data(is_interface=False, protbert_data=ProtBertData(sequence='MAAAAAAGAGPEMVRGQVFDVGPRYTNLSYIGEGAYGMVCSAYDNVNKVRVAIKKISPFEHQTYCQRTLREIKILLRFRHENIIGINDIIRAPTIEQMKDVYIVQDLMETDLYKLLKTQHLSNDHICYFLYQILRGLKYIHSANVLHRDLKPSNLLLNTTCDLKICDFGLARVADPDHDHTGFLTEYVATRWYRAPEIMLNSKGYTKSIDIWSVGCILAEMLSNRPIFPGKHYLDQLNHILGILGSPSQEDLNCIINLKARNYLLSLPHKNKVPWNRLFPNADSKALDLLDKMLTFNPHKRIEVEQALAHPYLEQYYDPSDEPIAEAPFKFDMELDDLPKEKLKELIFEETARFQPGYRS'), proteinsolver_data=Data(edge_attr=[18572, 2], edge_index=[2, 18572], x=[360]))"
      ]
     },
     "execution_count": 33,
     "metadata": {},
     "output_type": "execute_result"
    }
   ],
   "source": [
    "protein_features = model.build(\n",
    "    structure_file=structure_file,\n",
    "    protein_sequence=sequence,\n",
    "    ligand_sequence=None,\n",
    "    remove_hetatms=True,\n",
    ")\n",
    "\n",
    "protein_features"
   ]
  },
  {
   "cell_type": "code",
   "execution_count": 34,
   "id": "3e360633-ea88-43e3-9963-5c34380085de",
   "metadata": {},
   "outputs": [
    {
     "data": {
      "application/vnd.jupyter.widget-view+json": {
       "model_id": "a1316e4b744743b48fe1bbcbd3552eaa",
       "version_major": 2,
       "version_minor": 0
      },
      "text/plain": [
       "HBox(children=(HTML(value=''), FloatProgress(value=0.0, max=11.0), HTML(value='')))"
      ]
     },
     "metadata": {},
     "output_type": "display_data"
    },
    {
     "name": "stdout",
     "output_type": "stream",
     "text": [
      "\n"
     ]
    }
   ],
   "source": [
    "mutation_features = list(\n",
    "    tqdm(\n",
    "        (model.analyze_mutation(mut, protein_features) for mut in result_df[\"mut\"]),\n",
    "        total=len(result_df),\n",
    "    )\n",
    ")"
   ]
  },
  {
   "cell_type": "code",
   "execution_count": 35,
   "id": "5af30b7a-4101-48f6-aace-5ee124a889b3",
   "metadata": {
    "id": "XJPiK7eVRBqi"
   },
   "outputs": [
    {
     "ename": "KeyError",
     "evalue": "'pca-proteinsolver_core_features_protein_wt-core'",
     "output_type": "error",
     "traceback": [
      "\u001b[0;31m---------------------------------------------------------------------------\u001b[0m",
      "\u001b[0;31mKeyError\u001b[0m                                  Traceback (most recent call last)",
      "\u001b[0;32m/tmp/ipykernel_27321/2269331029.py\u001b[0m in \u001b[0;36m<module>\u001b[0;34m\u001b[0m\n\u001b[1;32m      6\u001b[0m     \u001b[0mf\u001b[0m\u001b[0;34m[\u001b[0m\u001b[0;34m\"proteinsolver_core_score_wt\"\u001b[0m\u001b[0;34m]\u001b[0m \u001b[0;34m-\u001b[0m \u001b[0mf\u001b[0m\u001b[0;34m[\u001b[0m\u001b[0;34m\"proteinsolver_core_score_mut\"\u001b[0m\u001b[0;34m]\u001b[0m \u001b[0;32mfor\u001b[0m \u001b[0mf\u001b[0m \u001b[0;32min\u001b[0m \u001b[0mmutation_features\u001b[0m\u001b[0;34m\u001b[0m\u001b[0;34m\u001b[0m\u001b[0m\n\u001b[1;32m      7\u001b[0m ]\n\u001b[0;32m----> 8\u001b[0;31m \u001b[0mresult_df\u001b[0m\u001b[0;34m[\u001b[0m\u001b[0;34m\"el2_score\"\u001b[0m\u001b[0;34m]\u001b[0m \u001b[0;34m=\u001b[0m \u001b[0mmodel\u001b[0m\u001b[0;34m.\u001b[0m\u001b[0mpredict_mutation_effect\u001b[0m\u001b[0;34m(\u001b[0m\u001b[0mmutation_features\u001b[0m\u001b[0;34m)\u001b[0m\u001b[0;34m.\u001b[0m\u001b[0mtolist\u001b[0m\u001b[0;34m(\u001b[0m\u001b[0;34m)\u001b[0m\u001b[0;34m\u001b[0m\u001b[0;34m\u001b[0m\u001b[0m\n\u001b[0m",
      "\u001b[0;32m/scratch/strokach/workspace/elaspic2/src/elaspic2/elaspic2.py\u001b[0m in \u001b[0;36mpredict_mutation_effect\u001b[0;34m(self, mutation_stability_features, mutation_affinity_features)\u001b[0m\n\u001b[1;32m    150\u001b[0m         \u001b[0;32mfor\u001b[0m \u001b[0msplit_idx\u001b[0m\u001b[0;34m,\u001b[0m \u001b[0mlgb_model\u001b[0m \u001b[0;32min\u001b[0m \u001b[0menumerate\u001b[0m\u001b[0;34m(\u001b[0m\u001b[0mlgb_models\u001b[0m\u001b[0;34m)\u001b[0m\u001b[0;34m:\u001b[0m\u001b[0;34m\u001b[0m\u001b[0;34m\u001b[0m\u001b[0m\n\u001b[1;32m    151\u001b[0m             \u001b[0;32mfor\u001b[0m \u001b[0mcolumn\u001b[0m \u001b[0;32min\u001b[0m \u001b[0mpca_columns\u001b[0m\u001b[0;34m:\u001b[0m\u001b[0;34m\u001b[0m\u001b[0;34m\u001b[0m\u001b[0m\n\u001b[0;32m--> 152\u001b[0;31m                 \u001b[0mpca_model\u001b[0m \u001b[0;34m=\u001b[0m \u001b[0mpca_models\u001b[0m\u001b[0;34m[\u001b[0m\u001b[0;34mf\"pca-{column}-{coi.value}\"\u001b[0m\u001b[0;34m]\u001b[0m\u001b[0;34m\u001b[0m\u001b[0;34m\u001b[0m\u001b[0m\n\u001b[0m\u001b[1;32m    153\u001b[0m                 \u001b[0mvalues\u001b[0m \u001b[0;34m=\u001b[0m \u001b[0mnp\u001b[0m\u001b[0;34m.\u001b[0m\u001b[0mvstack\u001b[0m\u001b[0;34m(\u001b[0m\u001b[0mmutation_features_df\u001b[0m\u001b[0;34m[\u001b[0m\u001b[0mcolumn\u001b[0m\u001b[0;34m]\u001b[0m\u001b[0;34m.\u001b[0m\u001b[0mvalues\u001b[0m\u001b[0;34m)\u001b[0m\u001b[0;34m\u001b[0m\u001b[0;34m\u001b[0m\u001b[0m\n\u001b[1;32m    154\u001b[0m                 \u001b[0mvalues_out\u001b[0m \u001b[0;34m=\u001b[0m \u001b[0mpca_model\u001b[0m\u001b[0;34m.\u001b[0m\u001b[0mtransform\u001b[0m\u001b[0;34m(\u001b[0m\u001b[0mvalues\u001b[0m\u001b[0;34m)\u001b[0m\u001b[0;34m\u001b[0m\u001b[0;34m\u001b[0m\u001b[0m\n",
      "\u001b[0;31mKeyError\u001b[0m: 'pca-proteinsolver_core_features_protein_wt-core'"
     ]
    }
   ],
   "source": [
    "# In all cases, higher scores means less stable (same as ΔΔG) \n",
    "result_df[\"protbert_score\"] = [\n",
    "    f[\"protbert_core_score_wt\"] - f[\"protbert_core_score_mut\"] for f in mutation_features\n",
    "]\n",
    "result_df[\"proteinsolver_score\"] = [\n",
    "    f[\"proteinsolver_core_score_wt\"] - f[\"proteinsolver_core_score_mut\"] for f in mutation_features\n",
    "]\n",
    "result_df[\"el2_score\"] = model.predict_mutation_effect(mutation_features).tolist()"
   ]
  },
  {
   "cell_type": "code",
   "execution_count": null,
   "id": "c1714a6e-2152-4c26-92db-db009acb59a5",
   "metadata": {},
   "outputs": [],
   "source": [
    "# In all cases, higher scores means less stable (same as ΔΔG)\n",
    "result_df[\"protbert_ratio\"] = [\n",
    "    f[\"protbert_core_score_mut\"] / f[\"protbert_core_score_wt\"] for f in mutation_features\n",
    "]\n",
    "result_df[\"proteinsolver_ratio\"] = [\n",
    "    f[\"proteinsolver_core_score_mut\"] / f[\"proteinsolver_core_score_wt\"] for f in mutation_features\n",
    "]\n",
    "result_df[\"el2_ratio\"] = (0.5 / model.predict_mutation_effect(mutation_features)).tolist()"
   ]
  },
  {
   "cell_type": "markdown",
   "id": "81c29bc9-e114-4bcb-af22-9587a969b48f",
   "metadata": {},
   "source": [
    "### Add Rosetta score"
   ]
  },
  {
   "cell_type": "code",
   "execution_count": null,
   "id": "74757401-a202-4435-ac7b-858f6e65ea65",
   "metadata": {},
   "outputs": [],
   "source": [
    "rosetta_results_df[\"rosetta_dg_mut\"] = (\n",
    "    rosetta_results_df[\"rosetta_dg_change\"] + rosetta_results_df[\"rosetta_dg_wt\"]\n",
    ")\n",
    "assert np.allclose(\n",
    "    rosetta_results_df[\"rosetta_dg_change\"],\n",
    "    rosetta_results_df[\"rosetta_dg_mut\"] - rosetta_results_df[\"rosetta_dg_wt\"],\n",
    ")\n",
    "\n",
    "rosetta_results_df[\"rosetta_dg_score\"] = rosetta_results_df[\"rosetta_dg_change\"]\n",
    "rosetta_results_df[\"rosetta_dg_ratio\"] = (\n",
    "    rosetta_results_df[\"rosetta_dg_wt\"] / rosetta_results_df[\"rosetta_dg_mut\"]\n",
    ")"
   ]
  },
  {
   "cell_type": "code",
   "execution_count": null,
   "id": "b23fea27-6c4e-4394-ac27-628695b814d4",
   "metadata": {},
   "outputs": [],
   "source": [
    "try:\n",
    "    del result_df[\"rosetta_dg_score\"], result_df[\"rosetta_dg_ratio\"]\n",
    "except KeyError:\n",
    "    pass\n",
    "\n",
    "result_df = result_df.merge(\n",
    "    rosetta_results_df[[\"mut\", \"rosetta_dg_score\", \"rosetta_dg_ratio\"]], on=\"mut\", how=\"left\"\n",
    ")"
   ]
  },
  {
   "cell_type": "markdown",
   "id": "b4ce2d7f-12f9-45f6-9625-e2e30406bd3e",
   "metadata": {
    "tags": []
   },
   "source": [
    "### Visualize output"
   ]
  },
  {
   "cell_type": "code",
   "execution_count": null,
   "id": "d8365929-af43-4d33-9dc7-2518aa77ce95",
   "metadata": {},
   "outputs": [],
   "source": [
    "sns.set(style=\"ticks\", color_codes=True)\n",
    "g = sns.pairplot(\n",
    "    result_df[[\"protbert_score\", \"proteinsolver_score\", \"el2_score\", \"rosetta_dg_score\"]]\n",
    ")"
   ]
  },
  {
   "cell_type": "code",
   "execution_count": null,
   "id": "5e483f61-0149-43d1-bbcc-c836d7609de2",
   "metadata": {},
   "outputs": [],
   "source": [
    "sns.set(style=\"ticks\", color_codes=True)\n",
    "g = sns.pairplot(\n",
    "    result_df[[\"protbert_ratio\", \"proteinsolver_ratio\", \"el2_ratio\", \"rosetta_dg_ratio\"]]\n",
    ")"
   ]
  },
  {
   "cell_type": "markdown",
   "id": "fc28cbfa-441b-4755-92b9-15237c94a4ba",
   "metadata": {},
   "source": [
    "## Write results"
   ]
  },
  {
   "cell_type": "code",
   "execution_count": null,
   "id": "031f73ce-59c4-4d8b-931f-758a7569822f",
   "metadata": {},
   "outputs": [],
   "source": [
    "output_dir = NOTEBOOK_DIR.joinpath(\"submission\")\n",
    "output_dir.mkdir(exist_ok=True)\n",
    "\n",
    "output_dir"
   ]
  },
  {
   "cell_type": "code",
   "execution_count": null,
   "id": "0a143cac-53e1-4cac-a9a0-6a6eca5fab13",
   "metadata": {},
   "outputs": [],
   "source": [
    "%%file {output_dir}/strokach_desc.md\n",
    "# Submission for CAGI6—MAPK1 challenge\n",
    "\n",
    "## Overview\n",
    "\n",
    "- `strokach_modelnumber_1.tsv` → Predictions made using ELASPIC2 [1].\n",
    "- `strokach_modelnumber_2.tsv` → Predictions made using ProteinSolver [2].\n",
    "- `strokach_modelnumber_3.tsv` → Predictions made using ProtBert [3].\n",
    "- `strokach_modelnumber_4.tsv` → Predictions made using Rosetta's cartesian_ddg protocol.\n",
    "\n",
    "## References\n",
    "\n",
    "- [1] Strokach, A., Lu, T.Y., Kim, P.M., 2021. ELASPIC2 (EL2): Combining Contextualized Language Models and Graph Neural Networks to Predict Effects of Mutations. Journal of Molecular Biology, Computation Resources for Molecular Biology 433, 166810. https://doi.org/10.1016/j.jmb.2021.166810\n",
    "- [2] Strokach, A., Becerra, D., Corbi-Verge, C., Perez-Riba, A., Kim, P.M., 2020. Fast and Flexible Protein Design Using Deep Graph Neural Networks. Cell Systems. https://doi.org/10.1016/j.cels.2020.08.016\n",
    "- [3] Elnaggar, A., Heinzinger, M., Dallago, C., Rehawi, G., Wang, Y., Jones, L., Gibbs, T., Feher, T., Angerer, C., Steinegger, M., Bhowmik, D., Rost, B., 2020. ProtTrans: Towards Cracking the Language of Life’s Code Through Self-Supervised Deep Learning and High Performance Computing. bioRxiv 2020.07.12.199554. https://doi.org/10.1101/2020.07.12.199554\n"
   ]
  },
  {
   "cell_type": "code",
   "execution_count": null,
   "id": "30ef90b3-aefa-4cf1-951c-378075ef4553",
   "metadata": {},
   "outputs": [],
   "source": [
    "result_dfs = {}\n",
    "for i, metric in enumerate([\"el2\", \"proteinsolver\", \"protbert\", \"rosetta_dg\"]):\n",
    "    result_dfs[metric] = result_df.copy()\n",
    "    result_dfs[metric][\"DDG-NotPO4\"] = -result_dfs[metric][f\"{metric}_score\"].values\n",
    "    result_dfs[metric][\"Standard-Deviation-DDG-NotPO4\"] = 1.0\n",
    "    result_dfs[metric][\"DDG-PO4\"] = -result_dfs[metric][f\"{metric}_score\"].values\n",
    "    result_dfs[metric][\" Standard-Deviation-DDG-PO4\"] = 1.0\n",
    "    result_dfs[metric][\"Ratio-kcat/Km\"] = result_dfs[metric][f\"{metric}_ratio\"].values\n",
    "    result_dfs[metric][\"Standard-Deviation-Ratio-kcat/Km\"] = 1.0\n",
    "    result_dfs[metric][\"Comment\"] = \"*\"\n",
    "\n",
    "    print(metric)\n",
    "    display(result_dfs[metric].head())\n",
    "\n",
    "    output_file = output_dir.joinpath(f\"strokach_modelnumber_{i + 1}.tsv\")\n",
    "    result_dfs[metric][result_template_df.columns].to_csv(output_file, sep=\"\\t\", index=False)\n",
    "    !python {NOTEBOOK_DIR}/validation.py {output_file}"
   ]
  },
  {
   "cell_type": "code",
   "execution_count": null,
   "id": "75c1fbe0-299d-4f43-bb04-7e22f1adb1b9",
   "metadata": {},
   "outputs": [],
   "source": []
  }
 ],
 "metadata": {
  "kernelspec": {
   "display_name": "Python 3 (ipykernel)",
   "language": "python",
   "name": "python3"
  },
  "language_info": {
   "codemirror_mode": {
    "name": "ipython",
    "version": 3
   },
   "file_extension": ".py",
   "mimetype": "text/x-python",
   "name": "python",
   "nbconvert_exporter": "python",
   "pygments_lexer": "ipython3",
   "version": "3.9.6"
  }
 },
 "nbformat": 4,
 "nbformat_minor": 5
}
