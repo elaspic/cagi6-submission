{
 "cells": [
  {
   "cell_type": "markdown",
   "id": "26c81e96-6b41-41fa-80a6-6360c482eb58",
   "metadata": {},
   "source": [
    "## Summary\n",
    "\n",
    "---"
   ]
  },
  {
   "cell_type": "markdown",
   "id": "ec276dec-6afa-4b57-bbfc-a11e04a8767e",
   "metadata": {},
   "source": [
    "## Imports"
   ]
  },
  {
   "cell_type": "code",
   "execution_count": 1,
   "id": "539f4edf-ca04-4bef-b5c9-a6d402f7570b",
   "metadata": {},
   "outputs": [
    {
     "name": "stderr",
     "output_type": "stream",
     "text": [
      "Warning: importing 'simtk.openmm' is deprecated.  Import 'openmm' instead.\n"
     ]
    }
   ],
   "source": [
    "import concurrent.futures\n",
    "import contextlib\n",
    "import itertools\n",
    "import os\n",
    "import tempfile\n",
    "import urllib.request\n",
    "from datetime import datetime\n",
    "from pathlib import Path\n",
    "\n",
    "import dotenv\n",
    "import elaspic2 as el2\n",
    "import matplotlib.pyplot as plt\n",
    "import numpy as np\n",
    "import pandas as pd\n",
    "import pyarrow as pa\n",
    "import pyarrow.parquet as pq\n",
    "import seaborn as sns\n",
    "import synapseclient\n",
    "import synapseutils\n",
    "import torch\n",
    "from elaspic2.plugins.rosetta_ddg import RosettaDDG\n",
    "from kmbio import PDB\n",
    "from kmtools import structure_tools\n",
    "from tqdm.auto import tqdm"
   ]
  },
  {
   "cell_type": "markdown",
   "id": "5be0ca05-c038-414f-ba84-b2ae8013088b",
   "metadata": {},
   "source": [
    "## Parameters"
   ]
  },
  {
   "cell_type": "code",
   "execution_count": 2,
   "id": "10e1faee-9f6a-40d8-8819-272b1c9837bb",
   "metadata": {},
   "outputs": [
    {
     "data": {
      "text/plain": [
       "PosixPath('/home/kimlab5/strokach/workspace/elaspic/elaspic2-cagi6/notebooks/30_cagi6_mapk1')"
      ]
     },
     "execution_count": 2,
     "metadata": {},
     "output_type": "execute_result"
    }
   ],
   "source": [
    "NOTEBOOK_DIR = Path(\"30_cagi6_mapk1\").resolve()\n",
    "NOTEBOOK_DIR.mkdir(exist_ok=True)\n",
    "\n",
    "NOTEBOOK_DIR"
   ]
  },
  {
   "cell_type": "code",
   "execution_count": 3,
   "id": "4ffc9d11-d255-47dc-85dd-550d53787ba4",
   "metadata": {},
   "outputs": [
    {
     "data": {
      "text/plain": [
       "'P28482'"
      ]
     },
     "execution_count": 3,
     "metadata": {},
     "output_type": "execute_result"
    }
   ],
   "source": [
    "UNIPROT_ID = \"P28482\"\n",
    "\n",
    "UNIPROT_ID"
   ]
  },
  {
   "cell_type": "code",
   "execution_count": 4,
   "id": "1a161a46-46da-410c-833f-cc487c097541",
   "metadata": {
    "colab": {
     "base_uri": "https://localhost:8080/"
    },
    "id": "HCyTzII-HD1t",
    "outputId": "92f63199-1727-48d3-cb4b-6ff798fa75b6"
   },
   "outputs": [
    {
     "data": {
      "text/plain": [
       "device(type='cpu')"
      ]
     },
     "execution_count": 4,
     "metadata": {},
     "output_type": "execute_result"
    }
   ],
   "source": [
    "device = torch.device(\"cuda\" if torch.cuda.is_available() else \"cpu\")\n",
    "\n",
    "device"
   ]
  },
  {
   "cell_type": "code",
   "execution_count": 5,
   "id": "92bd5cc7-d64c-4f0d-bdfc-3d44ede20480",
   "metadata": {
    "colab": {
     "base_uri": "https://localhost:8080/",
     "height": 35
    },
    "id": "i3LyUBcjSUzb",
    "outputId": "054b8acc-0717-48cf-83d9-ca0b886f7b10"
   },
   "outputs": [
    {
     "data": {
      "text/plain": [
       "'2021-09-13T18'"
      ]
     },
     "execution_count": 5,
     "metadata": {},
     "output_type": "execute_result"
    }
   ],
   "source": [
    "version = datetime.now().isoformat(timespec=\"hours\")\n",
    "\n",
    "version"
   ]
  },
  {
   "cell_type": "markdown",
   "id": "ba95e079-5284-4944-a22e-32c22becc8dd",
   "metadata": {},
   "source": [
    "## Download data"
   ]
  },
  {
   "cell_type": "code",
   "execution_count": 6,
   "id": "9688e150-c466-4320-b201-3ebe4b32edb0",
   "metadata": {},
   "outputs": [],
   "source": [
    "def download(url, filename):\n",
    "    urllib.request.urlretrieve(url, filename)"
   ]
  },
  {
   "cell_type": "code",
   "execution_count": 7,
   "id": "de7bafde-0507-4f52-9fb1-12c2f6f47b1b",
   "metadata": {},
   "outputs": [],
   "source": [
    "def load_sequence(sequence_file):\n",
    "    with sequence_file.open(\"rt\") as fin:\n",
    "        data = fin.read()\n",
    "    chunks = []\n",
    "    for line in data.split(\"\\n\"):\n",
    "        if line.startswith(\">\"):\n",
    "            continue\n",
    "        chunks.append(line.strip())\n",
    "    return \"\".join(chunks)"
   ]
  },
  {
   "cell_type": "code",
   "execution_count": 8,
   "id": "ce54f842-cfd5-467c-960e-e4706d6fc8f2",
   "metadata": {},
   "outputs": [],
   "source": [
    "if not NOTEBOOK_DIR.joinpath(\"validation.py\").is_file():\n",
    "    dotenv.load_dotenv(\"../.env\")\n",
    "    syn = synapseclient.Synapse()\n",
    "    syn.login(os.environ[\"SYNAPSE_USERNAME\"], os.environ[\"SYNAPSE_PASSWORD\"])\n",
    "    _ = synapseutils.syncFromSynapse(syn, \"syn25955327\", path=NOTEBOOK_DIR)"
   ]
  },
  {
   "cell_type": "code",
   "execution_count": 9,
   "id": "e62c0d9c-f89a-427e-9200-e00939cdf402",
   "metadata": {},
   "outputs": [],
   "source": [
    "sequence_file = NOTEBOOK_DIR.joinpath(f\"{UNIPROT_ID}.fasta\")\n",
    "\n",
    "if not sequence_file.is_file():\n",
    "    download(f\"https://www.uniprot.org/uniprot/{UNIPROT_ID}.fasta\", sequence_file)\n",
    "\n",
    "sequence = load_sequence(sequence_file)"
   ]
  },
  {
   "cell_type": "code",
   "execution_count": 10,
   "id": "bc4e24de-1b1a-4fe0-92eb-4dd5910d5289",
   "metadata": {},
   "outputs": [],
   "source": [
    "structure_file = NOTEBOOK_DIR.joinpath(f\"{UNIPROT_ID}.pdb\")\n",
    "\n",
    "if not structure_file.is_file():\n",
    "    download(f\"https://alphafold.ebi.ac.uk/files/AF-{UNIPROT_ID}-F1-model_v1.pdb\", structure_file)\n",
    "\n",
    "with structure_file.open(\"r\") as fin:\n",
    "    structure_blob = fin.read()"
   ]
  },
  {
   "cell_type": "code",
   "execution_count": 11,
   "id": "6a937350-73cb-4515-8205-870357bcc175",
   "metadata": {},
   "outputs": [],
   "source": [
    "alignment_file = NOTEBOOK_DIR.joinpath(f\"{UNIPROT_ID}.a3m.gz\")\n",
    "\n",
    "\n",
    "@contextlib.contextmanager\n",
    "def api_gateway(*args, **kwargs):\n",
    "    from requests_ip_rotator import ApiGateway\n",
    "\n",
    "    gateway = ApiGateway(*args, **kwargs)\n",
    "    try:\n",
    "        gateway.start()\n",
    "        yield gateway\n",
    "    finally:\n",
    "        gateway.shutdown()\n",
    "\n",
    "\n",
    "def get_alignment(sequence, gateway):\n",
    "    from elaspic2.plugins.alphafold2 import mmseqs2\n",
    "\n",
    "    while True:\n",
    "        try:\n",
    "            alignment = mmseqs2.run_mmseqs2([sequence], gateway=gateway)[0]\n",
    "            break\n",
    "        except Exception as e:\n",
    "            print(e)\n",
    "            time.sleep(10)\n",
    "            continue\n",
    "    assert alignment[1] == f\"{sequence}\\n\"\n",
    "    return alignment\n",
    "\n",
    "\n",
    "if not alignment_file.is_file():\n",
    "    from elaspic2.plugins.alphafold2 import mmseqs2\n",
    "\n",
    "    dotenv.load_dotenv(\"../.env\")\n",
    "\n",
    "    with api_gateway(mmseqs2.MMSEQS2_HOST_URL) as gateway:\n",
    "        alignment = get_alignment(sequence, gateway)\n",
    "        alignment_df = pd.DataFrame({\"alignment\": alignment})\n",
    "        pq.write_table(pa.Table.from_pandas(alignment_df, preserve_index=False), alignment_file)\n",
    "\n",
    "alignment = pq.read_table(alignment_file).to_pandas()[\"alignment\"].values.tolist()"
   ]
  },
  {
   "cell_type": "markdown",
   "id": "af4fdd39-dd7b-49f3-b37a-6747aef9c571",
   "metadata": {},
   "source": [
    "## Load data"
   ]
  },
  {
   "cell_type": "code",
   "execution_count": 12,
   "id": "d8c86eef-3016-4305-b977-1037dd6d97c6",
   "metadata": {},
   "outputs": [],
   "source": [
    "def mutation_matches_sequence(mutation, sequence):\n",
    "    wt, pos, mut = mutation[0], mutation[1:-1], mutation[-1]\n",
    "    pos = int(pos)\n",
    "    return sequence[pos - 1] == wt"
   ]
  },
  {
   "cell_type": "code",
   "execution_count": 13,
   "id": "9b3b0ba8-47d5-447c-b309-646698238fb2",
   "metadata": {
    "id": "gJG9gYqPHD15"
   },
   "outputs": [],
   "source": [
    "def sequence_matches_structure(sequence, structure_blob):\n",
    "    with tempfile.NamedTemporaryFile(suffix=\".pdb\") as tmp_file:\n",
    "        with open(tmp_file.name, \"wt\") as fout:\n",
    "            fout.write(structure_blob)\n",
    "        structure = PDB.load(tmp_file.name)\n",
    "\n",
    "    chain_sequence = structure_tools.get_chain_sequence(\n",
    "        structure[0][\"A\"], if_unknown=\"replace\", unknown_residue_marker=\"\"\n",
    "    )\n",
    "    return sequence == chain_sequence"
   ]
  },
  {
   "cell_type": "code",
   "execution_count": 14,
   "id": "8e273fa4-c6d1-4b41-9edc-74a5d86d9eab",
   "metadata": {},
   "outputs": [
    {
     "data": {
      "text/html": [
       "<div>\n",
       "<style scoped>\n",
       "    .dataframe tbody tr th:only-of-type {\n",
       "        vertical-align: middle;\n",
       "    }\n",
       "\n",
       "    .dataframe tbody tr th {\n",
       "        vertical-align: top;\n",
       "    }\n",
       "\n",
       "    .dataframe thead th {\n",
       "        text-align: right;\n",
       "    }\n",
       "</style>\n",
       "<table border=\"1\" class=\"dataframe\">\n",
       "  <thead>\n",
       "    <tr style=\"text-align: right;\">\n",
       "      <th></th>\n",
       "      <th>MAPK1-variant</th>\n",
       "      <th>DDG-NotPO4</th>\n",
       "      <th>Standard-Deviation-DDG-NotPO4</th>\n",
       "      <th>DDG-PO4</th>\n",
       "      <th>Standard-Deviation-DDG-PO4</th>\n",
       "      <th>Ratio-kcat/Km</th>\n",
       "      <th>Standard-Deviation-Ratio-kcat/Km</th>\n",
       "      <th>Comment</th>\n",
       "    </tr>\n",
       "  </thead>\n",
       "  <tbody>\n",
       "    <tr>\n",
       "      <th>0</th>\n",
       "      <td>p.E33Q</td>\n",
       "      <td>*</td>\n",
       "      <td>*</td>\n",
       "      <td>*</td>\n",
       "      <td>*</td>\n",
       "      <td>*</td>\n",
       "      <td>*</td>\n",
       "      <td>*</td>\n",
       "    </tr>\n",
       "    <tr>\n",
       "      <th>1</th>\n",
       "      <td>p.E81K</td>\n",
       "      <td>*</td>\n",
       "      <td>*</td>\n",
       "      <td>*</td>\n",
       "      <td>*</td>\n",
       "      <td>*</td>\n",
       "      <td>*</td>\n",
       "      <td>*</td>\n",
       "    </tr>\n",
       "  </tbody>\n",
       "</table>\n",
       "</div>"
      ],
      "text/plain": [
       "  MAPK1-variant DDG-NotPO4 Standard-Deviation-DDG-NotPO4 DDG-PO4  \\\n",
       "0        p.E33Q          *                             *       *   \n",
       "1        p.E81K          *                             *       *   \n",
       "\n",
       "   Standard-Deviation-DDG-PO4 Ratio-kcat/Km Standard-Deviation-Ratio-kcat/Km  \\\n",
       "0                           *             *                                *   \n",
       "1                           *             *                                *   \n",
       "\n",
       "  Comment  \n",
       "0       *  \n",
       "1       *  "
      ]
     },
     "execution_count": 14,
     "metadata": {},
     "output_type": "execute_result"
    }
   ],
   "source": [
    "result_template_df = pd.read_csv(NOTEBOOK_DIR.joinpath(\"mapk1_predictions.tsv\"), sep=\"\\t\")\n",
    "\n",
    "result_template_df.head(2)"
   ]
  },
  {
   "cell_type": "code",
   "execution_count": 15,
   "id": "5bfc1d8d-c316-4b98-9de4-4e7282d632b7",
   "metadata": {},
   "outputs": [],
   "source": [
    "result_df = result_template_df.copy()\n",
    "result_df[\"mut\"] = result_df[\"MAPK1-variant\"].str[2:]"
   ]
  },
  {
   "cell_type": "code",
   "execution_count": 16,
   "id": "0a500b9f-bd8b-47c9-be38-2182a73b2632",
   "metadata": {},
   "outputs": [],
   "source": [
    "assert all([mutation_matches_sequence(mut, sequence) for mut in result_df[\"mut\"]])"
   ]
  },
  {
   "cell_type": "code",
   "execution_count": 17,
   "id": "7251f319-8562-4309-aa9c-ade5de2d1288",
   "metadata": {},
   "outputs": [],
   "source": [
    "assert sequence_matches_structure(sequence, structure_blob)"
   ]
  },
  {
   "cell_type": "code",
   "execution_count": 18,
   "id": "e85e5625-2b0b-429d-9b43-80d3566415c0",
   "metadata": {},
   "outputs": [],
   "source": [
    "assert alignment[1] == f\"{sequence}\\n\""
   ]
  },
  {
   "cell_type": "markdown",
   "id": "4fa0b6a3-2e3a-4155-bb87-538568d08ca0",
   "metadata": {},
   "source": [
    "## Run Rosetta"
   ]
  },
  {
   "cell_type": "code",
   "execution_count": 19,
   "id": "2073be3f-3e84-4851-a738-b904cab52e7e",
   "metadata": {},
   "outputs": [],
   "source": [
    "rosetta_ddg_data = RosettaDDG.build(\n",
    "    structure_file,\n",
    "    protocol=\"cartesian_ddg\",\n",
    "    energy_function=\"beta_nov16_cart\",\n",
    "    interface=0,\n",
    ")"
   ]
  },
  {
   "cell_type": "code",
   "execution_count": 20,
   "id": "38e42bcb-6ce2-4440-8c91-1bf8a6880fd2",
   "metadata": {},
   "outputs": [],
   "source": [
    "def rosetta_ddg_worker(mut, data):\n",
    "    results = RosettaDDG.analyze_mutation(f\"A_{mut}\", data)\n",
    "    results = {\"mut\": mut} | {f\"rosetta_{key}\": value for key, value in results.items()}\n",
    "    return results"
   ]
  },
  {
   "cell_type": "code",
   "execution_count": 21,
   "id": "192db9b4-9f12-4362-bc92-b5f3787e5b39",
   "metadata": {},
   "outputs": [],
   "source": [
    "rosetta_results_file = NOTEBOOK_DIR.joinpath(\"rosetta-results.parquet\")\n",
    "\n",
    "if rosetta_results_file.is_file():\n",
    "    rosetta_results_df = pq.read_table(rosetta_results_file).to_pandas()\n",
    "else:\n",
    "    with concurrent.futures.ThreadPoolExecutor(len(result_df)) as pool:\n",
    "        rosetta_results = list(\n",
    "            tqdm(\n",
    "                pool.map(\n",
    "                    rosetta_ddg_worker,\n",
    "                    result_df[\"mut\"].values.tolist(),\n",
    "                    itertools.repeat(rosetta_ddg_data),\n",
    "                ),\n",
    "                total=len(result_df),\n",
    "            )\n",
    "        )\n",
    "    rosetta_results_df = pd.DataFrame(rosetta_results)\n",
    "    pq.write_table(pa.Table.from_pandas(rosetta_results_df, preserve_index=False), rosetta_results_file)"
   ]
  },
  {
   "cell_type": "markdown",
   "id": "116596ce-a27a-43da-8497-3cda1bef8653",
   "metadata": {
    "tags": []
   },
   "source": [
    "## Run `ELASPIC2`"
   ]
  },
  {
   "cell_type": "markdown",
   "id": "bb43e36d-46de-4989-ab9c-6d4216afeeda",
   "metadata": {
    "id": "4jTx3zGeHD2e"
   },
   "source": [
    "### Initialize the `ELASPIC2` model\n",
    "\n"
   ]
  },
  {
   "cell_type": "code",
   "execution_count": 22,
   "id": "39bf1842-3592-4c78-a2fe-c779fb0b9061",
   "metadata": {},
   "outputs": [
    {
     "name": "stderr",
     "output_type": "stream",
     "text": [
      "Some weights of the model checkpoint at /home/kimlab5/strokach/workspace/elaspic/elaspic2/src/elaspic2/plugins/protbert/data/prot_bert_bfd were not used when initializing BertModel: ['cls.predictions.transform.dense.weight', 'cls.predictions.transform.dense.bias', 'cls.predictions.decoder.bias', 'cls.predictions.decoder.weight', 'cls.seq_relationship.weight', 'cls.predictions.transform.LayerNorm.bias', 'cls.predictions.transform.LayerNorm.weight', 'cls.predictions.bias', 'cls.seq_relationship.bias']\n",
      "- This IS expected if you are initializing BertModel from the checkpoint of a model trained on another task or with another architecture (e.g. initializing a BertForSequenceClassification model from a BertForPreTraining model).\n",
      "- This IS NOT expected if you are initializing BertModel from the checkpoint of a model that you expect to be exactly identical (initializing a BertForSequenceClassification model from a BertForSequenceClassification model).\n"
     ]
    }
   ],
   "source": [
    "model = el2.ELASPIC2(device=device)"
   ]
  },
  {
   "cell_type": "markdown",
   "id": "b7a8816c-def8-4c35-8071-681af15d82e4",
   "metadata": {
    "id": "i8OkFJbj8sYO"
   },
   "source": [
    "### Make predictions"
   ]
  },
  {
   "cell_type": "code",
   "execution_count": 23,
   "id": "54b21cac-0df6-4d73-b525-5644e4aadf03",
   "metadata": {
    "colab": {
     "base_uri": "https://localhost:8080/"
    },
    "id": "ac6mTuNYHD2i",
    "outputId": "b2427457-6fb6-4e2c-dac0-d037fafc8282"
   },
   "outputs": [
    {
     "data": {
      "text/plain": [
       "ELASPIC2Data(is_interface=False, protbert_data=ProtBertData(sequence='MAAAAAAGAGPEMVRGQVFDVGPRYTNLSYIGEGAYGMVCSAYDNVNKVRVAIKKISPFEHQTYCQRTLREIKILLRFRHENIIGINDIIRAPTIEQMKDVYIVQDLMETDLYKLLKTQHLSNDHICYFLYQILRGLKYIHSANVLHRDLKPSNLLLNTTCDLKICDFGLARVADPDHDHTGFLTEYVATRWYRAPEIMLNSKGYTKSIDIWSVGCILAEMLSNRPIFPGKHYLDQLNHILGILGSPSQEDLNCIINLKARNYLLSLPHKNKVPWNRLFPNADSKALDLLDKMLTFNPHKRIEVEQALAHPYLEQYYDPSDEPIAEAPFKFDMELDDLPKEKLKELIFEETARFQPGYRS'), proteinsolver_data=Data(edge_attr=[18572, 2], edge_index=[2, 18572], x=[360]))"
      ]
     },
     "execution_count": 23,
     "metadata": {},
     "output_type": "execute_result"
    }
   ],
   "source": [
    "protein_features = model.build(\n",
    "    structure_file=structure_file,\n",
    "    protein_sequence=sequence,\n",
    "    ligand_sequence=None,\n",
    "    remove_hetatms=True,\n",
    ")\n",
    "\n",
    "protein_features"
   ]
  },
  {
   "cell_type": "code",
   "execution_count": 24,
   "id": "3e360633-ea88-43e3-9963-5c34380085de",
   "metadata": {},
   "outputs": [
    {
     "data": {
      "application/vnd.jupyter.widget-view+json": {
       "model_id": "d5dd9c4abcdf42b3a203928f0de33c95",
       "version_major": 2,
       "version_minor": 0
      },
      "text/plain": [
       "  0%|          | 0/11 [00:00<?, ?it/s]"
      ]
     },
     "metadata": {},
     "output_type": "display_data"
    }
   ],
   "source": [
    "mutation_features = list(\n",
    "    tqdm(\n",
    "        (model.analyze_mutation(mut, protein_features) for mut in result_df[\"mut\"]),\n",
    "        total=len(result_df),\n",
    "    )\n",
    ")"
   ]
  },
  {
   "cell_type": "code",
   "execution_count": 25,
   "id": "5af30b7a-4101-48f6-aace-5ee124a889b3",
   "metadata": {
    "id": "XJPiK7eVRBqi"
   },
   "outputs": [],
   "source": [
    "# In all cases, higher scores means less stable (same as ΔΔG) \n",
    "result_df[\"protbert_score\"] = [\n",
    "    f[\"protbert_core_score_wt\"] - f[\"protbert_core_score_mut\"] for f in mutation_features\n",
    "]\n",
    "result_df[\"proteinsolver_score\"] = [\n",
    "    f[\"proteinsolver_core_score_wt\"] - f[\"proteinsolver_core_score_mut\"] for f in mutation_features\n",
    "]\n",
    "result_df[\"el2_score\"] = model.predict_mutation_effect(mutation_features).tolist()"
   ]
  },
  {
   "cell_type": "code",
   "execution_count": 26,
   "id": "c1714a6e-2152-4c26-92db-db009acb59a5",
   "metadata": {},
   "outputs": [],
   "source": [
    "# In all cases, higher scores means less stable (same as ΔΔG)\n",
    "result_df[\"protbert_ratio\"] = [\n",
    "    f[\"protbert_core_score_mut\"] / f[\"protbert_core_score_wt\"] for f in mutation_features\n",
    "]\n",
    "result_df[\"proteinsolver_ratio\"] = [\n",
    "    f[\"proteinsolver_core_score_mut\"] / f[\"proteinsolver_core_score_wt\"] for f in mutation_features\n",
    "]\n",
    "result_df[\"el2_ratio\"] = (0.5 / model.predict_mutation_effect(mutation_features)).tolist()"
   ]
  },
  {
   "cell_type": "markdown",
   "id": "81c29bc9-e114-4bcb-af22-9587a969b48f",
   "metadata": {},
   "source": [
    "### Add Rosetta score"
   ]
  },
  {
   "cell_type": "code",
   "execution_count": 27,
   "id": "74757401-a202-4435-ac7b-858f6e65ea65",
   "metadata": {},
   "outputs": [],
   "source": [
    "rosetta_results_df[\"rosetta_dg_mut\"] = (\n",
    "    rosetta_results_df[\"rosetta_dg_change\"] + rosetta_results_df[\"rosetta_dg_wt\"]\n",
    ")\n",
    "assert np.allclose(\n",
    "    rosetta_results_df[\"rosetta_dg_change\"],\n",
    "    rosetta_results_df[\"rosetta_dg_mut\"] - rosetta_results_df[\"rosetta_dg_wt\"],\n",
    ")\n",
    "\n",
    "rosetta_results_df[\"rosetta_dg_score\"] = rosetta_results_df[\"rosetta_dg_change\"]\n",
    "rosetta_results_df[\"rosetta_dg_ratio\"] = (\n",
    "    rosetta_results_df[\"rosetta_dg_wt\"] / rosetta_results_df[\"rosetta_dg_mut\"]\n",
    ")"
   ]
  },
  {
   "cell_type": "code",
   "execution_count": 28,
   "id": "b23fea27-6c4e-4394-ac27-628695b814d4",
   "metadata": {},
   "outputs": [],
   "source": [
    "try:\n",
    "    del result_df[\"rosetta_dg_score\"], result_df[\"rosetta_dg_ratio\"]\n",
    "except KeyError:\n",
    "    pass\n",
    "\n",
    "result_df = result_df.merge(\n",
    "    rosetta_results_df[[\"mut\", \"rosetta_dg_score\", \"rosetta_dg_ratio\"]], on=\"mut\", how=\"left\"\n",
    ")"
   ]
  },
  {
   "cell_type": "markdown",
   "id": "b4ce2d7f-12f9-45f6-9625-e2e30406bd3e",
   "metadata": {
    "tags": []
   },
   "source": [
    "### Visualize output"
   ]
  },
  {
   "cell_type": "code",
   "execution_count": 29,
   "id": "d8365929-af43-4d33-9dc7-2518aa77ce95",
   "metadata": {},
   "outputs": [
    {
     "data": {
      "image/png": "[encoded data removed]",
      "text/plain": [
       "<Figure size 720x720 with 20 Axes>"
      ]
     },
     "metadata": {},
     "output_type": "display_data"
    }
   ],
   "source": [
    "sns.set(style=\"ticks\", color_codes=True)\n",
    "g = sns.pairplot(\n",
    "    result_df[[\"protbert_score\", \"proteinsolver_score\", \"el2_score\", \"rosetta_dg_score\"]]\n",
    ")"
   ]
  },
  {
   "cell_type": "code",
   "execution_count": 30,
   "id": "5e483f61-0149-43d1-bbcc-c836d7609de2",
   "metadata": {},
   "outputs": [
    {
     "data": {
      "image/png": "[encoded data removed]",
      "text/plain": [
       "<Figure size 720x720 with 20 Axes>"
      ]
     },
     "metadata": {},
     "output_type": "display_data"
    }
   ],
   "source": [
    "sns.set(style=\"ticks\", color_codes=True)\n",
    "g = sns.pairplot(\n",
    "    result_df[[\"protbert_ratio\", \"proteinsolver_ratio\", \"el2_ratio\", \"rosetta_dg_ratio\"]]\n",
    ")"
   ]
  },
  {
   "cell_type": "markdown",
   "id": "fc28cbfa-441b-4755-92b9-15237c94a4ba",
   "metadata": {},
   "source": [
    "## Write results"
   ]
  },
  {
   "cell_type": "code",
   "execution_count": 31,
   "id": "031f73ce-59c4-4d8b-931f-758a7569822f",
   "metadata": {},
   "outputs": [
    {
     "data": {
      "text/plain": [
       "PosixPath('/home/kimlab5/strokach/workspace/elaspic/elaspic2-cagi6/notebooks/30_cagi6_mapk1/results')"
      ]
     },
     "execution_count": 31,
     "metadata": {},
     "output_type": "execute_result"
    }
   ],
   "source": [
    "output_dir = NOTEBOOK_DIR.joinpath(\"results\")\n",
    "output_dir.mkdir(exist_ok=True)\n",
    "\n",
    "output_dir"
   ]
  },
  {
   "cell_type": "code",
   "execution_count": 32,
   "id": "0a143cac-53e1-4cac-a9a0-6a6eca5fab13",
   "metadata": {},
   "outputs": [
    {
     "name": "stdout",
     "output_type": "stream",
     "text": [
      "Overwriting /home/kimlab5/strokach/workspace/elaspic/elaspic2-cagi6/notebooks/30_cagi6_mapk1/results/strokach_desc.md\n"
     ]
    }
   ],
   "source": [
    "%%file {output_dir}/strokach_desc.md\n",
    "# Submission for CAGI6—MAPK1 challenge\n",
    "\n",
    "## Overview\n",
    "\n",
    "- `strokach_modelnumber_1.tsv` → Predictions made using ELASPIC2 [1].\n",
    "- `strokach_modelnumber_2.tsv` → Predictions made using ProteinSolver [2].\n",
    "- `strokach_modelnumber_3.tsv` → Predictions made using ProtBert [3].\n",
    "- `strokach_modelnumber_4.tsv` → Predictions made using Rosetta's cartesian_ddg protocol.\n",
    "\n",
    "## References\n",
    "\n",
    "- [1] Strokach, A., Lu, T.Y., Kim, P.M., 2021. ELASPIC2 (EL2): Combining Contextualized Language Models and Graph Neural Networks to Predict Effects of Mutations. Journal of Molecular Biology, Computation Resources for Molecular Biology 433, 166810. https://doi.org/10.1016/j.jmb.2021.166810\n",
    "- [2] Strokach, A., Becerra, D., Corbi-Verge, C., Perez-Riba, A., Kim, P.M., 2020. Fast and Flexible Protein Design Using Deep Graph Neural Networks. Cell Systems. https://doi.org/10.1016/j.cels.2020.08.016\n",
    "- [3] Elnaggar, A., Heinzinger, M., Dallago, C., Rehawi, G., Wang, Y., Jones, L., Gibbs, T., Feher, T., Angerer, C., Steinegger, M., Bhowmik, D., Rost, B., 2020. ProtTrans: Towards Cracking the Language of Life’s Code Through Self-Supervised Deep Learning and High Performance Computing. bioRxiv 2020.07.12.199554. https://doi.org/10.1101/2020.07.12.199554\n"
   ]
  },
  {
   "cell_type": "code",
   "execution_count": 33,
   "id": "30ef90b3-aefa-4cf1-951c-378075ef4553",
   "metadata": {},
   "outputs": [
    {
     "name": "stdout",
     "output_type": "stream",
     "text": [
      "el2\n"
     ]
    },
    {
     "data": {
      "text/html": [
       "<div>\n",
       "<style scoped>\n",
       "    .dataframe tbody tr th:only-of-type {\n",
       "        vertical-align: middle;\n",
       "    }\n",
       "\n",
       "    .dataframe tbody tr th {\n",
       "        vertical-align: top;\n",
       "    }\n",
       "\n",
       "    .dataframe thead th {\n",
       "        text-align: right;\n",
       "    }\n",
       "</style>\n",
       "<table border=\"1\" class=\"dataframe\">\n",
       "  <thead>\n",
       "    <tr style=\"text-align: right;\">\n",
       "      <th></th>\n",
       "      <th>MAPK1-variant</th>\n",
       "      <th>DDG-NotPO4</th>\n",
       "      <th>Standard-Deviation-DDG-NotPO4</th>\n",
       "      <th>DDG-PO4</th>\n",
       "      <th>Standard-Deviation-DDG-PO4</th>\n",
       "      <th>Ratio-kcat/Km</th>\n",
       "      <th>Standard-Deviation-Ratio-kcat/Km</th>\n",
       "      <th>Comment</th>\n",
       "      <th>mut</th>\n",
       "      <th>protbert_score</th>\n",
       "      <th>proteinsolver_score</th>\n",
       "      <th>el2_score</th>\n",
       "      <th>protbert_ratio</th>\n",
       "      <th>proteinsolver_ratio</th>\n",
       "      <th>el2_ratio</th>\n",
       "      <th>rosetta_dg_score</th>\n",
       "      <th>rosetta_dg_ratio</th>\n",
       "    </tr>\n",
       "  </thead>\n",
       "  <tbody>\n",
       "    <tr>\n",
       "      <th>0</th>\n",
       "      <td>p.E33Q</td>\n",
       "      <td>-1.582201</td>\n",
       "      <td>1.0</td>\n",
       "      <td>-1.582201</td>\n",
       "      <td>1.0</td>\n",
       "      <td>0.316016</td>\n",
       "      <td>1.0</td>\n",
       "      <td>*</td>\n",
       "      <td>E33Q</td>\n",
       "      <td>0.998343</td>\n",
       "      <td>0.066731</td>\n",
       "      <td>1.582201</td>\n",
       "      <td>0.000155</td>\n",
       "      <td>0.519324</td>\n",
       "      <td>0.316016</td>\n",
       "      <td>-2.457000</td>\n",
       "      <td>0.996143</td>\n",
       "    </tr>\n",
       "    <tr>\n",
       "      <th>1</th>\n",
       "      <td>p.E81K</td>\n",
       "      <td>-1.630727</td>\n",
       "      <td>1.0</td>\n",
       "      <td>-1.630727</td>\n",
       "      <td>1.0</td>\n",
       "      <td>0.306612</td>\n",
       "      <td>1.0</td>\n",
       "      <td>*</td>\n",
       "      <td>E81K</td>\n",
       "      <td>0.994183</td>\n",
       "      <td>0.159303</td>\n",
       "      <td>1.630727</td>\n",
       "      <td>0.000131</td>\n",
       "      <td>0.090255</td>\n",
       "      <td>0.306612</td>\n",
       "      <td>2.456000</td>\n",
       "      <td>1.003807</td>\n",
       "    </tr>\n",
       "    <tr>\n",
       "      <th>2</th>\n",
       "      <td>p.L121I</td>\n",
       "      <td>-1.390088</td>\n",
       "      <td>1.0</td>\n",
       "      <td>-1.390088</td>\n",
       "      <td>1.0</td>\n",
       "      <td>0.359689</td>\n",
       "      <td>1.0</td>\n",
       "      <td>*</td>\n",
       "      <td>L121I</td>\n",
       "      <td>0.999190</td>\n",
       "      <td>0.692270</td>\n",
       "      <td>1.390088</td>\n",
       "      <td>0.000108</td>\n",
       "      <td>0.157240</td>\n",
       "      <td>0.359689</td>\n",
       "      <td>2.965667</td>\n",
       "      <td>1.004512</td>\n",
       "    </tr>\n",
       "    <tr>\n",
       "      <th>3</th>\n",
       "      <td>p.R135K</td>\n",
       "      <td>-1.664755</td>\n",
       "      <td>1.0</td>\n",
       "      <td>-1.664755</td>\n",
       "      <td>1.0</td>\n",
       "      <td>0.300345</td>\n",
       "      <td>1.0</td>\n",
       "      <td>*</td>\n",
       "      <td>R135K</td>\n",
       "      <td>0.997200</td>\n",
       "      <td>0.481067</td>\n",
       "      <td>1.664755</td>\n",
       "      <td>0.000537</td>\n",
       "      <td>0.310411</td>\n",
       "      <td>0.300345</td>\n",
       "      <td>2.395333</td>\n",
       "      <td>1.003528</td>\n",
       "    </tr>\n",
       "    <tr>\n",
       "      <th>4</th>\n",
       "      <td>p.D162G</td>\n",
       "      <td>-2.243989</td>\n",
       "      <td>1.0</td>\n",
       "      <td>-2.243989</td>\n",
       "      <td>1.0</td>\n",
       "      <td>0.222818</td>\n",
       "      <td>1.0</td>\n",
       "      <td>*</td>\n",
       "      <td>D162G</td>\n",
       "      <td>0.998402</td>\n",
       "      <td>0.140639</td>\n",
       "      <td>2.243989</td>\n",
       "      <td>0.000142</td>\n",
       "      <td>0.053119</td>\n",
       "      <td>0.222818</td>\n",
       "      <td>3.375667</td>\n",
       "      <td>1.005196</td>\n",
       "    </tr>\n",
       "  </tbody>\n",
       "</table>\n",
       "</div>"
      ],
      "text/plain": [
       "  MAPK1-variant  DDG-NotPO4  Standard-Deviation-DDG-NotPO4   DDG-PO4  \\\n",
       "0        p.E33Q   -1.582201                            1.0 -1.582201   \n",
       "1        p.E81K   -1.630727                            1.0 -1.630727   \n",
       "2       p.L121I   -1.390088                            1.0 -1.390088   \n",
       "3       p.R135K   -1.664755                            1.0 -1.664755   \n",
       "4       p.D162G   -2.243989                            1.0 -2.243989   \n",
       "\n",
       "    Standard-Deviation-DDG-PO4  Ratio-kcat/Km  \\\n",
       "0                          1.0       0.316016   \n",
       "1                          1.0       0.306612   \n",
       "2                          1.0       0.359689   \n",
       "3                          1.0       0.300345   \n",
       "4                          1.0       0.222818   \n",
       "\n",
       "   Standard-Deviation-Ratio-kcat/Km Comment    mut  protbert_score  \\\n",
       "0                               1.0       *   E33Q        0.998343   \n",
       "1                               1.0       *   E81K        0.994183   \n",
       "2                               1.0       *  L121I        0.999190   \n",
       "3                               1.0       *  R135K        0.997200   \n",
       "4                               1.0       *  D162G        0.998402   \n",
       "\n",
       "   proteinsolver_score  el2_score  protbert_ratio  proteinsolver_ratio  \\\n",
       "0             0.066731   1.582201        0.000155             0.519324   \n",
       "1             0.159303   1.630727        0.000131             0.090255   \n",
       "2             0.692270   1.390088        0.000108             0.157240   \n",
       "3             0.481067   1.664755        0.000537             0.310411   \n",
       "4             0.140639   2.243989        0.000142             0.053119   \n",
       "\n",
       "   el2_ratio  rosetta_dg_score  rosetta_dg_ratio  \n",
       "0   0.316016         -2.457000          0.996143  \n",
       "1   0.306612          2.456000          1.003807  \n",
       "2   0.359689          2.965667          1.004512  \n",
       "3   0.300345          2.395333          1.003528  \n",
       "4   0.222818          3.375667          1.005196  "
      ]
     },
     "metadata": {},
     "output_type": "display_data"
    },
    {
     "name": "stdout",
     "output_type": "stream",
     "text": [
      "The file's format is valid! You are good to submit now!\n",
      "proteinsolver\n"
     ]
    },
    {
     "data": {
      "text/html": [
       "<div>\n",
       "<style scoped>\n",
       "    .dataframe tbody tr th:only-of-type {\n",
       "        vertical-align: middle;\n",
       "    }\n",
       "\n",
       "    .dataframe tbody tr th {\n",
       "        vertical-align: top;\n",
       "    }\n",
       "\n",
       "    .dataframe thead th {\n",
       "        text-align: right;\n",
       "    }\n",
       "</style>\n",
       "<table border=\"1\" class=\"dataframe\">\n",
       "  <thead>\n",
       "    <tr style=\"text-align: right;\">\n",
       "      <th></th>\n",
       "      <th>MAPK1-variant</th>\n",
       "      <th>DDG-NotPO4</th>\n",
       "      <th>Standard-Deviation-DDG-NotPO4</th>\n",
       "      <th>DDG-PO4</th>\n",
       "      <th>Standard-Deviation-DDG-PO4</th>\n",
       "      <th>Ratio-kcat/Km</th>\n",
       "      <th>Standard-Deviation-Ratio-kcat/Km</th>\n",
       "      <th>Comment</th>\n",
       "      <th>mut</th>\n",
       "      <th>protbert_score</th>\n",
       "      <th>proteinsolver_score</th>\n",
       "      <th>el2_score</th>\n",
       "      <th>protbert_ratio</th>\n",
       "      <th>proteinsolver_ratio</th>\n",
       "      <th>el2_ratio</th>\n",
       "      <th>rosetta_dg_score</th>\n",
       "      <th>rosetta_dg_ratio</th>\n",
       "    </tr>\n",
       "  </thead>\n",
       "  <tbody>\n",
       "    <tr>\n",
       "      <th>0</th>\n",
       "      <td>p.E33Q</td>\n",
       "      <td>-0.066731</td>\n",
       "      <td>1.0</td>\n",
       "      <td>-0.066731</td>\n",
       "      <td>1.0</td>\n",
       "      <td>0.519324</td>\n",
       "      <td>1.0</td>\n",
       "      <td>*</td>\n",
       "      <td>E33Q</td>\n",
       "      <td>0.998343</td>\n",
       "      <td>0.066731</td>\n",
       "      <td>1.582201</td>\n",
       "      <td>0.000155</td>\n",
       "      <td>0.519324</td>\n",
       "      <td>0.316016</td>\n",
       "      <td>-2.457000</td>\n",
       "      <td>0.996143</td>\n",
       "    </tr>\n",
       "    <tr>\n",
       "      <th>1</th>\n",
       "      <td>p.E81K</td>\n",
       "      <td>-0.159303</td>\n",
       "      <td>1.0</td>\n",
       "      <td>-0.159303</td>\n",
       "      <td>1.0</td>\n",
       "      <td>0.090255</td>\n",
       "      <td>1.0</td>\n",
       "      <td>*</td>\n",
       "      <td>E81K</td>\n",
       "      <td>0.994183</td>\n",
       "      <td>0.159303</td>\n",
       "      <td>1.630727</td>\n",
       "      <td>0.000131</td>\n",
       "      <td>0.090255</td>\n",
       "      <td>0.306612</td>\n",
       "      <td>2.456000</td>\n",
       "      <td>1.003807</td>\n",
       "    </tr>\n",
       "    <tr>\n",
       "      <th>2</th>\n",
       "      <td>p.L121I</td>\n",
       "      <td>-0.692270</td>\n",
       "      <td>1.0</td>\n",
       "      <td>-0.692270</td>\n",
       "      <td>1.0</td>\n",
       "      <td>0.157240</td>\n",
       "      <td>1.0</td>\n",
       "      <td>*</td>\n",
       "      <td>L121I</td>\n",
       "      <td>0.999190</td>\n",
       "      <td>0.692270</td>\n",
       "      <td>1.390088</td>\n",
       "      <td>0.000108</td>\n",
       "      <td>0.157240</td>\n",
       "      <td>0.359689</td>\n",
       "      <td>2.965667</td>\n",
       "      <td>1.004512</td>\n",
       "    </tr>\n",
       "    <tr>\n",
       "      <th>3</th>\n",
       "      <td>p.R135K</td>\n",
       "      <td>-0.481067</td>\n",
       "      <td>1.0</td>\n",
       "      <td>-0.481067</td>\n",
       "      <td>1.0</td>\n",
       "      <td>0.310411</td>\n",
       "      <td>1.0</td>\n",
       "      <td>*</td>\n",
       "      <td>R135K</td>\n",
       "      <td>0.997200</td>\n",
       "      <td>0.481067</td>\n",
       "      <td>1.664755</td>\n",
       "      <td>0.000537</td>\n",
       "      <td>0.310411</td>\n",
       "      <td>0.300345</td>\n",
       "      <td>2.395333</td>\n",
       "      <td>1.003528</td>\n",
       "    </tr>\n",
       "    <tr>\n",
       "      <th>4</th>\n",
       "      <td>p.D162G</td>\n",
       "      <td>-0.140639</td>\n",
       "      <td>1.0</td>\n",
       "      <td>-0.140639</td>\n",
       "      <td>1.0</td>\n",
       "      <td>0.053119</td>\n",
       "      <td>1.0</td>\n",
       "      <td>*</td>\n",
       "      <td>D162G</td>\n",
       "      <td>0.998402</td>\n",
       "      <td>0.140639</td>\n",
       "      <td>2.243989</td>\n",
       "      <td>0.000142</td>\n",
       "      <td>0.053119</td>\n",
       "      <td>0.222818</td>\n",
       "      <td>3.375667</td>\n",
       "      <td>1.005196</td>\n",
       "    </tr>\n",
       "  </tbody>\n",
       "</table>\n",
       "</div>"
      ],
      "text/plain": [
       "  MAPK1-variant  DDG-NotPO4  Standard-Deviation-DDG-NotPO4   DDG-PO4  \\\n",
       "0        p.E33Q   -0.066731                            1.0 -0.066731   \n",
       "1        p.E81K   -0.159303                            1.0 -0.159303   \n",
       "2       p.L121I   -0.692270                            1.0 -0.692270   \n",
       "3       p.R135K   -0.481067                            1.0 -0.481067   \n",
       "4       p.D162G   -0.140639                            1.0 -0.140639   \n",
       "\n",
       "    Standard-Deviation-DDG-PO4  Ratio-kcat/Km  \\\n",
       "0                          1.0       0.519324   \n",
       "1                          1.0       0.090255   \n",
       "2                          1.0       0.157240   \n",
       "3                          1.0       0.310411   \n",
       "4                          1.0       0.053119   \n",
       "\n",
       "   Standard-Deviation-Ratio-kcat/Km Comment    mut  protbert_score  \\\n",
       "0                               1.0       *   E33Q        0.998343   \n",
       "1                               1.0       *   E81K        0.994183   \n",
       "2                               1.0       *  L121I        0.999190   \n",
       "3                               1.0       *  R135K        0.997200   \n",
       "4                               1.0       *  D162G        0.998402   \n",
       "\n",
       "   proteinsolver_score  el2_score  protbert_ratio  proteinsolver_ratio  \\\n",
       "0             0.066731   1.582201        0.000155             0.519324   \n",
       "1             0.159303   1.630727        0.000131             0.090255   \n",
       "2             0.692270   1.390088        0.000108             0.157240   \n",
       "3             0.481067   1.664755        0.000537             0.310411   \n",
       "4             0.140639   2.243989        0.000142             0.053119   \n",
       "\n",
       "   el2_ratio  rosetta_dg_score  rosetta_dg_ratio  \n",
       "0   0.316016         -2.457000          0.996143  \n",
       "1   0.306612          2.456000          1.003807  \n",
       "2   0.359689          2.965667          1.004512  \n",
       "3   0.300345          2.395333          1.003528  \n",
       "4   0.222818          3.375667          1.005196  "
      ]
     },
     "metadata": {},
     "output_type": "display_data"
    },
    {
     "name": "stdout",
     "output_type": "stream",
     "text": [
      "The file's format is valid! You are good to submit now!\n",
      "protbert\n"
     ]
    },
    {
     "data": {
      "text/html": [
       "<div>\n",
       "<style scoped>\n",
       "    .dataframe tbody tr th:only-of-type {\n",
       "        vertical-align: middle;\n",
       "    }\n",
       "\n",
       "    .dataframe tbody tr th {\n",
       "        vertical-align: top;\n",
       "    }\n",
       "\n",
       "    .dataframe thead th {\n",
       "        text-align: right;\n",
       "    }\n",
       "</style>\n",
       "<table border=\"1\" class=\"dataframe\">\n",
       "  <thead>\n",
       "    <tr style=\"text-align: right;\">\n",
       "      <th></th>\n",
       "      <th>MAPK1-variant</th>\n",
       "      <th>DDG-NotPO4</th>\n",
       "      <th>Standard-Deviation-DDG-NotPO4</th>\n",
       "      <th>DDG-PO4</th>\n",
       "      <th>Standard-Deviation-DDG-PO4</th>\n",
       "      <th>Ratio-kcat/Km</th>\n",
       "      <th>Standard-Deviation-Ratio-kcat/Km</th>\n",
       "      <th>Comment</th>\n",
       "      <th>mut</th>\n",
       "      <th>protbert_score</th>\n",
       "      <th>proteinsolver_score</th>\n",
       "      <th>el2_score</th>\n",
       "      <th>protbert_ratio</th>\n",
       "      <th>proteinsolver_ratio</th>\n",
       "      <th>el2_ratio</th>\n",
       "      <th>rosetta_dg_score</th>\n",
       "      <th>rosetta_dg_ratio</th>\n",
       "    </tr>\n",
       "  </thead>\n",
       "  <tbody>\n",
       "    <tr>\n",
       "      <th>0</th>\n",
       "      <td>p.E33Q</td>\n",
       "      <td>-0.998343</td>\n",
       "      <td>1.0</td>\n",
       "      <td>-0.998343</td>\n",
       "      <td>1.0</td>\n",
       "      <td>0.000155</td>\n",
       "      <td>1.0</td>\n",
       "      <td>*</td>\n",
       "      <td>E33Q</td>\n",
       "      <td>0.998343</td>\n",
       "      <td>0.066731</td>\n",
       "      <td>1.582201</td>\n",
       "      <td>0.000155</td>\n",
       "      <td>0.519324</td>\n",
       "      <td>0.316016</td>\n",
       "      <td>-2.457000</td>\n",
       "      <td>0.996143</td>\n",
       "    </tr>\n",
       "    <tr>\n",
       "      <th>1</th>\n",
       "      <td>p.E81K</td>\n",
       "      <td>-0.994183</td>\n",
       "      <td>1.0</td>\n",
       "      <td>-0.994183</td>\n",
       "      <td>1.0</td>\n",
       "      <td>0.000131</td>\n",
       "      <td>1.0</td>\n",
       "      <td>*</td>\n",
       "      <td>E81K</td>\n",
       "      <td>0.994183</td>\n",
       "      <td>0.159303</td>\n",
       "      <td>1.630727</td>\n",
       "      <td>0.000131</td>\n",
       "      <td>0.090255</td>\n",
       "      <td>0.306612</td>\n",
       "      <td>2.456000</td>\n",
       "      <td>1.003807</td>\n",
       "    </tr>\n",
       "    <tr>\n",
       "      <th>2</th>\n",
       "      <td>p.L121I</td>\n",
       "      <td>-0.999190</td>\n",
       "      <td>1.0</td>\n",
       "      <td>-0.999190</td>\n",
       "      <td>1.0</td>\n",
       "      <td>0.000108</td>\n",
       "      <td>1.0</td>\n",
       "      <td>*</td>\n",
       "      <td>L121I</td>\n",
       "      <td>0.999190</td>\n",
       "      <td>0.692270</td>\n",
       "      <td>1.390088</td>\n",
       "      <td>0.000108</td>\n",
       "      <td>0.157240</td>\n",
       "      <td>0.359689</td>\n",
       "      <td>2.965667</td>\n",
       "      <td>1.004512</td>\n",
       "    </tr>\n",
       "    <tr>\n",
       "      <th>3</th>\n",
       "      <td>p.R135K</td>\n",
       "      <td>-0.997200</td>\n",
       "      <td>1.0</td>\n",
       "      <td>-0.997200</td>\n",
       "      <td>1.0</td>\n",
       "      <td>0.000537</td>\n",
       "      <td>1.0</td>\n",
       "      <td>*</td>\n",
       "      <td>R135K</td>\n",
       "      <td>0.997200</td>\n",
       "      <td>0.481067</td>\n",
       "      <td>1.664755</td>\n",
       "      <td>0.000537</td>\n",
       "      <td>0.310411</td>\n",
       "      <td>0.300345</td>\n",
       "      <td>2.395333</td>\n",
       "      <td>1.003528</td>\n",
       "    </tr>\n",
       "    <tr>\n",
       "      <th>4</th>\n",
       "      <td>p.D162G</td>\n",
       "      <td>-0.998402</td>\n",
       "      <td>1.0</td>\n",
       "      <td>-0.998402</td>\n",
       "      <td>1.0</td>\n",
       "      <td>0.000142</td>\n",
       "      <td>1.0</td>\n",
       "      <td>*</td>\n",
       "      <td>D162G</td>\n",
       "      <td>0.998402</td>\n",
       "      <td>0.140639</td>\n",
       "      <td>2.243989</td>\n",
       "      <td>0.000142</td>\n",
       "      <td>0.053119</td>\n",
       "      <td>0.222818</td>\n",
       "      <td>3.375667</td>\n",
       "      <td>1.005196</td>\n",
       "    </tr>\n",
       "  </tbody>\n",
       "</table>\n",
       "</div>"
      ],
      "text/plain": [
       "  MAPK1-variant  DDG-NotPO4  Standard-Deviation-DDG-NotPO4   DDG-PO4  \\\n",
       "0        p.E33Q   -0.998343                            1.0 -0.998343   \n",
       "1        p.E81K   -0.994183                            1.0 -0.994183   \n",
       "2       p.L121I   -0.999190                            1.0 -0.999190   \n",
       "3       p.R135K   -0.997200                            1.0 -0.997200   \n",
       "4       p.D162G   -0.998402                            1.0 -0.998402   \n",
       "\n",
       "    Standard-Deviation-DDG-PO4  Ratio-kcat/Km  \\\n",
       "0                          1.0       0.000155   \n",
       "1                          1.0       0.000131   \n",
       "2                          1.0       0.000108   \n",
       "3                          1.0       0.000537   \n",
       "4                          1.0       0.000142   \n",
       "\n",
       "   Standard-Deviation-Ratio-kcat/Km Comment    mut  protbert_score  \\\n",
       "0                               1.0       *   E33Q        0.998343   \n",
       "1                               1.0       *   E81K        0.994183   \n",
       "2                               1.0       *  L121I        0.999190   \n",
       "3                               1.0       *  R135K        0.997200   \n",
       "4                               1.0       *  D162G        0.998402   \n",
       "\n",
       "   proteinsolver_score  el2_score  protbert_ratio  proteinsolver_ratio  \\\n",
       "0             0.066731   1.582201        0.000155             0.519324   \n",
       "1             0.159303   1.630727        0.000131             0.090255   \n",
       "2             0.692270   1.390088        0.000108             0.157240   \n",
       "3             0.481067   1.664755        0.000537             0.310411   \n",
       "4             0.140639   2.243989        0.000142             0.053119   \n",
       "\n",
       "   el2_ratio  rosetta_dg_score  rosetta_dg_ratio  \n",
       "0   0.316016         -2.457000          0.996143  \n",
       "1   0.306612          2.456000          1.003807  \n",
       "2   0.359689          2.965667          1.004512  \n",
       "3   0.300345          2.395333          1.003528  \n",
       "4   0.222818          3.375667          1.005196  "
      ]
     },
     "metadata": {},
     "output_type": "display_data"
    },
    {
     "name": "stdout",
     "output_type": "stream",
     "text": [
      "The file's format is valid! You are good to submit now!\n",
      "rosetta_dg\n"
     ]
    },
    {
     "data": {
      "text/html": [
       "<div>\n",
       "<style scoped>\n",
       "    .dataframe tbody tr th:only-of-type {\n",
       "        vertical-align: middle;\n",
       "    }\n",
       "\n",
       "    .dataframe tbody tr th {\n",
       "        vertical-align: top;\n",
       "    }\n",
       "\n",
       "    .dataframe thead th {\n",
       "        text-align: right;\n",
       "    }\n",
       "</style>\n",
       "<table border=\"1\" class=\"dataframe\">\n",
       "  <thead>\n",
       "    <tr style=\"text-align: right;\">\n",
       "      <th></th>\n",
       "      <th>MAPK1-variant</th>\n",
       "      <th>DDG-NotPO4</th>\n",
       "      <th>Standard-Deviation-DDG-NotPO4</th>\n",
       "      <th>DDG-PO4</th>\n",
       "      <th>Standard-Deviation-DDG-PO4</th>\n",
       "      <th>Ratio-kcat/Km</th>\n",
       "      <th>Standard-Deviation-Ratio-kcat/Km</th>\n",
       "      <th>Comment</th>\n",
       "      <th>mut</th>\n",
       "      <th>protbert_score</th>\n",
       "      <th>proteinsolver_score</th>\n",
       "      <th>el2_score</th>\n",
       "      <th>protbert_ratio</th>\n",
       "      <th>proteinsolver_ratio</th>\n",
       "      <th>el2_ratio</th>\n",
       "      <th>rosetta_dg_score</th>\n",
       "      <th>rosetta_dg_ratio</th>\n",
       "    </tr>\n",
       "  </thead>\n",
       "  <tbody>\n",
       "    <tr>\n",
       "      <th>0</th>\n",
       "      <td>p.E33Q</td>\n",
       "      <td>2.457000</td>\n",
       "      <td>1.0</td>\n",
       "      <td>2.457000</td>\n",
       "      <td>1.0</td>\n",
       "      <td>0.996143</td>\n",
       "      <td>1.0</td>\n",
       "      <td>*</td>\n",
       "      <td>E33Q</td>\n",
       "      <td>0.998343</td>\n",
       "      <td>0.066731</td>\n",
       "      <td>1.582201</td>\n",
       "      <td>0.000155</td>\n",
       "      <td>0.519324</td>\n",
       "      <td>0.316016</td>\n",
       "      <td>-2.457000</td>\n",
       "      <td>0.996143</td>\n",
       "    </tr>\n",
       "    <tr>\n",
       "      <th>1</th>\n",
       "      <td>p.E81K</td>\n",
       "      <td>-2.456000</td>\n",
       "      <td>1.0</td>\n",
       "      <td>-2.456000</td>\n",
       "      <td>1.0</td>\n",
       "      <td>1.003807</td>\n",
       "      <td>1.0</td>\n",
       "      <td>*</td>\n",
       "      <td>E81K</td>\n",
       "      <td>0.994183</td>\n",
       "      <td>0.159303</td>\n",
       "      <td>1.630727</td>\n",
       "      <td>0.000131</td>\n",
       "      <td>0.090255</td>\n",
       "      <td>0.306612</td>\n",
       "      <td>2.456000</td>\n",
       "      <td>1.003807</td>\n",
       "    </tr>\n",
       "    <tr>\n",
       "      <th>2</th>\n",
       "      <td>p.L121I</td>\n",
       "      <td>-2.965667</td>\n",
       "      <td>1.0</td>\n",
       "      <td>-2.965667</td>\n",
       "      <td>1.0</td>\n",
       "      <td>1.004512</td>\n",
       "      <td>1.0</td>\n",
       "      <td>*</td>\n",
       "      <td>L121I</td>\n",
       "      <td>0.999190</td>\n",
       "      <td>0.692270</td>\n",
       "      <td>1.390088</td>\n",
       "      <td>0.000108</td>\n",
       "      <td>0.157240</td>\n",
       "      <td>0.359689</td>\n",
       "      <td>2.965667</td>\n",
       "      <td>1.004512</td>\n",
       "    </tr>\n",
       "    <tr>\n",
       "      <th>3</th>\n",
       "      <td>p.R135K</td>\n",
       "      <td>-2.395333</td>\n",
       "      <td>1.0</td>\n",
       "      <td>-2.395333</td>\n",
       "      <td>1.0</td>\n",
       "      <td>1.003528</td>\n",
       "      <td>1.0</td>\n",
       "      <td>*</td>\n",
       "      <td>R135K</td>\n",
       "      <td>0.997200</td>\n",
       "      <td>0.481067</td>\n",
       "      <td>1.664755</td>\n",
       "      <td>0.000537</td>\n",
       "      <td>0.310411</td>\n",
       "      <td>0.300345</td>\n",
       "      <td>2.395333</td>\n",
       "      <td>1.003528</td>\n",
       "    </tr>\n",
       "    <tr>\n",
       "      <th>4</th>\n",
       "      <td>p.D162G</td>\n",
       "      <td>-3.375667</td>\n",
       "      <td>1.0</td>\n",
       "      <td>-3.375667</td>\n",
       "      <td>1.0</td>\n",
       "      <td>1.005196</td>\n",
       "      <td>1.0</td>\n",
       "      <td>*</td>\n",
       "      <td>D162G</td>\n",
       "      <td>0.998402</td>\n",
       "      <td>0.140639</td>\n",
       "      <td>2.243989</td>\n",
       "      <td>0.000142</td>\n",
       "      <td>0.053119</td>\n",
       "      <td>0.222818</td>\n",
       "      <td>3.375667</td>\n",
       "      <td>1.005196</td>\n",
       "    </tr>\n",
       "  </tbody>\n",
       "</table>\n",
       "</div>"
      ],
      "text/plain": [
       "  MAPK1-variant  DDG-NotPO4  Standard-Deviation-DDG-NotPO4   DDG-PO4  \\\n",
       "0        p.E33Q    2.457000                            1.0  2.457000   \n",
       "1        p.E81K   -2.456000                            1.0 -2.456000   \n",
       "2       p.L121I   -2.965667                            1.0 -2.965667   \n",
       "3       p.R135K   -2.395333                            1.0 -2.395333   \n",
       "4       p.D162G   -3.375667                            1.0 -3.375667   \n",
       "\n",
       "    Standard-Deviation-DDG-PO4  Ratio-kcat/Km  \\\n",
       "0                          1.0       0.996143   \n",
       "1                          1.0       1.003807   \n",
       "2                          1.0       1.004512   \n",
       "3                          1.0       1.003528   \n",
       "4                          1.0       1.005196   \n",
       "\n",
       "   Standard-Deviation-Ratio-kcat/Km Comment    mut  protbert_score  \\\n",
       "0                               1.0       *   E33Q        0.998343   \n",
       "1                               1.0       *   E81K        0.994183   \n",
       "2                               1.0       *  L121I        0.999190   \n",
       "3                               1.0       *  R135K        0.997200   \n",
       "4                               1.0       *  D162G        0.998402   \n",
       "\n",
       "   proteinsolver_score  el2_score  protbert_ratio  proteinsolver_ratio  \\\n",
       "0             0.066731   1.582201        0.000155             0.519324   \n",
       "1             0.159303   1.630727        0.000131             0.090255   \n",
       "2             0.692270   1.390088        0.000108             0.157240   \n",
       "3             0.481067   1.664755        0.000537             0.310411   \n",
       "4             0.140639   2.243989        0.000142             0.053119   \n",
       "\n",
       "   el2_ratio  rosetta_dg_score  rosetta_dg_ratio  \n",
       "0   0.316016         -2.457000          0.996143  \n",
       "1   0.306612          2.456000          1.003807  \n",
       "2   0.359689          2.965667          1.004512  \n",
       "3   0.300345          2.395333          1.003528  \n",
       "4   0.222818          3.375667          1.005196  "
      ]
     },
     "metadata": {},
     "output_type": "display_data"
    },
    {
     "name": "stdout",
     "output_type": "stream",
     "text": [
      "The file's format is valid! You are good to submit now!\n"
     ]
    }
   ],
   "source": [
    "result_dfs = {}\n",
    "for i, metric in enumerate([\"el2\", \"proteinsolver\", \"protbert\", \"rosetta_dg\"]):\n",
    "    result_dfs[metric] = result_df.copy()\n",
    "    result_dfs[metric][\"DDG-NotPO4\"] = -result_dfs[metric][f\"{metric}_score\"].values\n",
    "    result_dfs[metric][\"Standard-Deviation-DDG-NotPO4\"] = 1.0\n",
    "    result_dfs[metric][\"DDG-PO4\"] = -result_dfs[metric][f\"{metric}_score\"].values\n",
    "    result_dfs[metric][\" Standard-Deviation-DDG-PO4\"] = 1.0\n",
    "    result_dfs[metric][\"Ratio-kcat/Km\"] = result_dfs[metric][f\"{metric}_ratio\"].values\n",
    "    result_dfs[metric][\"Standard-Deviation-Ratio-kcat/Km\"] = 1.0\n",
    "    result_dfs[metric][\"Comment\"] = \"*\"\n",
    "\n",
    "    print(metric)\n",
    "    display(result_dfs[metric].head())\n",
    "\n",
    "    output_file = output_dir.joinpath(f\"strokach_modelnumber_{i + 1}.tsv\")\n",
    "    result_dfs[metric][result_template_df.columns].to_csv(output_file, sep=\"\\t\", index=False)\n",
    "    !python {NOTEBOOK_DIR}/validation.py {output_file}"
   ]
  },
  {
   "cell_type": "code",
   "execution_count": null,
   "id": "75c1fbe0-299d-4f43-bb04-7e22f1adb1b9",
   "metadata": {},
   "outputs": [],
   "source": []
  }
 ],
 "metadata": {
  "kernelspec": {
   "display_name": "Python 3 (ipykernel)",
   "language": "python",
   "name": "python3"
  },
  "language_info": {
   "codemirror_mode": {
    "name": "ipython",
    "version": 3
   },
   "file_extension": ".py",
   "mimetype": "text/x-python",
   "name": "python",
   "nbconvert_exporter": "python",
   "pygments_lexer": "ipython3",
   "version": "3.9.6"
  }
 },
 "nbformat": 4,
 "nbformat_minor": 5
}
