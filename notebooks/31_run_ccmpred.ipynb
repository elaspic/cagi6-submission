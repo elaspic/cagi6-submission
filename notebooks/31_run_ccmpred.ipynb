{
 "cells": [
  {
   "cell_type": "markdown",
   "id": "39ee0cc6-12e0-4166-ae96-54e6e3800910",
   "metadata": {
    "tags": []
   },
   "source": [
    "### Summary"
   ]
  },
  {
   "cell_type": "markdown",
   "id": "daf7093b-a8a9-40f8-ae76-09d1750fb9fd",
   "metadata": {},
   "source": [
    "Calculate CCMpred mutation scores"
   ]
  },
  {
   "cell_type": "raw",
   "id": "13687bba-5d1d-4243-a0bc-dba3ed7d479c",
   "metadata": {},
   "source": [
    "export NOTEBOOK_PATH=\"$(realpath 31_run_ccmpred.ipynb)\"\n",
    "export DATASET_NAME=\"humsavar\"\n",
    "export DATASET_PATH=\"31_run_ccmpred/humsavar-gby-protein-waln.parquet\"\n",
    "export ORIGINAL_ARRAY_TASK_COUNT=12557\n",
    "\n",
    "export NOTEBOOK_PATH=\"$(realpath 31_run_ccmpred.ipynb)\"\n",
    "export DATASET_NAME=\"cagi6-sherloc\"\n",
    "export DATASET_PATH=\"31_run_ccmpred/input-data-gby-protein.parquet\"\n",
    "export ORIGINAL_ARRAY_TASK_COUNT=4182\n",
    "\n",
    "# === Graham ===\n",
    "sbatch --export DATASET_NAME,DATASET_PATH,NOTEBOOK_PATH,ORIGINAL_ARRAY_TASK_COUNT --array=1-3500 --time 24:00:00 --gres=gpu:t4:1 ../scripts/run_notebook_gpu.sh\n",
    "sbatch --export DATASET_NAME,DATASET_PATH,NOTEBOOK_PATH,ORIGINAL_ARRAY_TASK_COUNT --array=181-200 --time 24:00:00 --gres=gpu:v100:1 ../scripts/run_notebook_gpu.sh\n",
    "sbatch --export DATASET_NAME,DATASET_PATH,NOTEBOOK_PATH,ORIGINAL_ARRAY_TASK_COUNT --array=1-1000 ../scripts/run_notebook_cpu.sh"
   ]
  },
  {
   "cell_type": "code",
   "execution_count": 47,
   "id": "7ea883ec-1e2f-4aa3-b722-6777cca81654",
   "metadata": {},
   "outputs": [],
   "source": [
    "import concurrent.futures\n",
    "import itertools\n",
    "import os\n",
    "import re\n",
    "import socket\n",
    "import subprocess\n",
    "import sys\n",
    "import tempfile\n",
    "from pathlib import Path\n",
    "import math\n",
    "\n",
    "import numpy as np\n",
    "import pandas as pd\n",
    "import pyarrow as pa\n",
    "import pyarrow.parquet as pq\n",
    "from tqdm.notebook import tqdm"
   ]
  },
  {
   "cell_type": "markdown",
   "id": "8427fe9e-8894-4d02-881c-a564ae508061",
   "metadata": {},
   "source": [
    "#### Parameters"
   ]
  },
  {
   "cell_type": "code",
   "execution_count": 2,
   "id": "97c4ab71-c77d-48da-951d-85569cdf48c4",
   "metadata": {},
   "outputs": [
    {
     "data": {
      "text/plain": [
       "PosixPath('/scratch/mjslee/notebooks/run_ccmpred')"
      ]
     },
     "execution_count": 2,
     "metadata": {},
     "output_type": "execute_result"
    }
   ],
   "source": [
    "NOTEBOOK_DIR = Path(\"31_run_ccmpred\").resolve()\n",
    "NOTEBOOK_DIR.mkdir(exist_ok=True)\n",
    "\n",
    "NOTEBOOK_DIR"
   ]
  },
  {
   "cell_type": "code",
   "execution_count": 3,
   "id": "ceaa909c-ff6e-491d-a275-707bcf4e2993",
   "metadata": {},
   "outputs": [
    {
     "name": "stdout",
     "output_type": "stream",
     "text": [
      "/localscratch/mjslee.932477.0\n"
     ]
    }
   ],
   "source": [
    "if (slurm_tmpdir := os.getenv(\"SLURM_TMPDIR\")) is not None:\n",
    "    os.environ[\"TMPDIR\"] = slurm_tmpdir\n",
    "\n",
    "print(tempfile.gettempdir())"
   ]
  },
  {
   "cell_type": "code",
   "execution_count": 4,
   "id": "bbdc1f78-ca92-40ae-89ba-5db4952de6dc",
   "metadata": {},
   "outputs": [
    {
     "data": {
      "text/plain": [
       "4"
      ]
     },
     "execution_count": 4,
     "metadata": {},
     "output_type": "execute_result"
    }
   ],
   "source": [
    "if \"scinet\" in socket.gethostname():\n",
    "    CPU_COUNT = 40\n",
    "else:\n",
    "    CPU_COUNT = max(1, len(os.sched_getaffinity(0)))\n",
    "\n",
    "CPU_COUNT = max(1, CPU_COUNT // 2)\n",
    "\n",
    "CPU_COUNT"
   ]
  },
  {
   "cell_type": "code",
   "execution_count": 10,
   "id": "871c27a4-d01a-4ea5-b07f-7540fabecfba",
   "metadata": {},
   "outputs": [
    {
     "data": {
      "text/plain": [
       "(None, None, None, None)"
      ]
     },
     "execution_count": 10,
     "metadata": {},
     "output_type": "execute_result"
    }
   ],
   "source": [
    "DATASET_NAME = os.getenv(\"DATASET_NAME\")\n",
    "DATASET_PATH = os.getenv(\"DATASET_PATH\")\n",
    "TASK_ID = os.getenv(\"SLURM_ARRAY_TASK_ID\")\n",
    "TASK_COUNT = os.getenv(\"ORIGINAL_ARRAY_TASK_COUNT\") or os.getenv(\"SLURM_ARRAY_TASK_COUNT\")\n",
    "\n",
    "TASK_ID = int(TASK_ID) if TASK_ID is not None else None\n",
    "TASK_COUNT = int(TASK_COUNT) if TASK_COUNT is not None else None\n",
    "\n",
    "DATASET_NAME, DATASET_PATH, TASK_ID, TASK_COUNT"
   ]
  },
  {
   "cell_type": "code",
   "execution_count": 11,
   "id": "1c388acc-5b94-4ff9-b8f1-385188fad1ed",
   "metadata": {},
   "outputs": [
    {
     "data": {
      "text/plain": [
       "('cagi6-sherloc',\n",
       " '/scratch/mjslee/notebooks/run_ccmpred/input-data-gby-protein.parquet',\n",
       " 500,\n",
       " 4182)"
      ]
     },
     "execution_count": 11,
     "metadata": {},
     "output_type": "execute_result"
    }
   ],
   "source": [
    "DEBUG = TASK_ID is None\n",
    "\n",
    "if DEBUG:\n",
    "    DATASET_NAME = \"cagi6-sherloc\"\n",
    "    DATASET_PATH = str(\n",
    "        NOTEBOOK_DIR.parent.joinpath(\"31_run_ccmpred\", \"input-data-gby-protein.parquet\")\n",
    "    )\n",
    "    TASK_ID = 500\n",
    "    TASK_COUNT = 4182 # 4182\n",
    "else:\n",
    "    assert DATASET_NAME is not None\n",
    "    assert DATASET_PATH is not None\n",
    "    DATASET_PATH = Path(DATASET_PATH).expanduser().resolve()\n",
    "    assert TASK_COUNT is not None\n",
    "\n",
    "DATASET_NAME, DATASET_PATH, TASK_ID, TASK_COUNT"
   ]
  },
  {
   "cell_type": "code",
   "execution_count": 12,
   "id": "e494cf4d-7a10-454c-b60a-2dadf9036255",
   "metadata": {},
   "outputs": [
    {
     "data": {
      "text/plain": [
       "PosixPath('/scratch/mjslee/notebooks/run_ccmpred/cagi6-sherloc/result-500-of-4182.parquet')"
      ]
     },
     "execution_count": 12,
     "metadata": {},
     "output_type": "execute_result"
    }
   ],
   "source": [
    "output_file = NOTEBOOK_DIR.joinpath(DATASET_NAME, f\"result-{TASK_ID}-of-{TASK_COUNT}.parquet\")\n",
    "output_file.parent.mkdir(exist_ok=True)\n",
    "\n",
    "output_file"
   ]
  },
  {
   "cell_type": "code",
   "execution_count": null,
   "id": "47489105-c3c9-4e14-b4a4-3b76c66869fa",
   "metadata": {},
   "outputs": [],
   "source": [
    "if output_file.is_file():\n",
    "    raise Exception(\"Already finished!\")"
   ]
  },
  {
   "cell_type": "markdown",
   "id": "b4a27c69-c386-4604-9ac0-93e613f3d5fd",
   "metadata": {},
   "source": [
    "#### Load Data"
   ]
  },
  {
   "cell_type": "code",
   "execution_count": 14,
   "id": "023fb5ad-3956-487b-b08a-6035c092dbbc",
   "metadata": {},
   "outputs": [
    {
     "data": {
      "text/plain": [
       "4182"
      ]
     },
     "execution_count": 14,
     "metadata": {},
     "output_type": "execute_result"
    }
   ],
   "source": [
    "pfile = pq.ParquetFile(DATASET_PATH)\n",
    "\n",
    "pfile.num_row_groups"
   ]
  },
  {
   "cell_type": "code",
   "execution_count": 15,
   "id": "1d2364d2-ccb4-415f-b0a5-6a605dadbaae",
   "metadata": {},
   "outputs": [
    {
     "data": {
      "text/plain": [
       "1"
      ]
     },
     "execution_count": 15,
     "metadata": {},
     "output_type": "execute_result"
    }
   ],
   "source": [
    "rows_per_chunk = np.ceil(pfile.num_row_groups / TASK_COUNT).astype(int)\n",
    "\n",
    "rows_per_chunk"
   ]
  },
  {
   "cell_type": "code",
   "execution_count": 16,
   "id": "2e6fc23c-6e85-4e8c-b043-83b1bc2f69cc",
   "metadata": {},
   "outputs": [
    {
     "data": {
      "text/plain": [
       "(499, 500)"
      ]
     },
     "execution_count": 16,
     "metadata": {},
     "output_type": "execute_result"
    }
   ],
   "source": [
    "start = (TASK_ID - 1) * rows_per_chunk\n",
    "stop = min([pfile.num_row_groups + 1, TASK_ID * rows_per_chunk])\n",
    "\n",
    "start, stop"
   ]
  },
  {
   "cell_type": "code",
   "execution_count": 17,
   "id": "07ce0616-ef16-49e8-aa84-2ec65bff4fb0",
   "metadata": {},
   "outputs": [],
   "source": [
    "input_df = pfile.read_row_group(start).to_pandas()"
   ]
  },
  {
   "cell_type": "code",
   "execution_count": 18,
   "id": "2bb17249-95a8-475e-a65a-c0d7c1bf142a",
   "metadata": {},
   "outputs": [
    {
     "data": {
      "text/html": [
       "<div>\n",
       "<style scoped>\n",
       "    .dataframe tbody tr th:only-of-type {\n",
       "        vertical-align: middle;\n",
       "    }\n",
       "\n",
       "    .dataframe tbody tr th {\n",
       "        vertical-align: top;\n",
       "    }\n",
       "\n",
       "    .dataframe thead th {\n",
       "        text-align: right;\n",
       "    }\n",
       "</style>\n",
       "<table border=\"1\" class=\"dataframe\">\n",
       "  <thead>\n",
       "    <tr style=\"text-align: right;\">\n",
       "      <th></th>\n",
       "      <th>protein_id</th>\n",
       "      <th>mutation_id</th>\n",
       "      <th>mutation</th>\n",
       "      <th>effect</th>\n",
       "      <th>sequence</th>\n",
       "      <th>structure</th>\n",
       "      <th>alignment</th>\n",
       "    </tr>\n",
       "  </thead>\n",
       "  <tbody>\n",
       "    <tr>\n",
       "      <th>0</th>\n",
       "      <td>Q9NVV0</td>\n",
       "      <td>[NM_018112.2:c.748C&gt;T, NM_018112.2:c.799G&gt;A, N...</td>\n",
       "      <td>[P250S, V267I, G268E, K138E, H197D, I221T, A27...</td>\n",
       "      <td>[Likely benign, Benign, Likely benign, None, N...</td>\n",
       "      <td>MDSPWDELALAFSRTSMFPFFDIAHYLVSVMAVKRQPGAAALAWKN...</td>\n",
       "      <td>HEADER                                        ...</td>\n",
       "      <td>[&gt;101\\n, MDSPWDELALAFSRTSMFPFFDIAHYLVSVMAVKRQP...</td>\n",
       "    </tr>\n",
       "  </tbody>\n",
       "</table>\n",
       "</div>"
      ],
      "text/plain": [
       "  protein_id                                        mutation_id  \\\n",
       "0     Q9NVV0  [NM_018112.2:c.748C>T, NM_018112.2:c.799G>A, N...   \n",
       "\n",
       "                                            mutation  \\\n",
       "0  [P250S, V267I, G268E, K138E, H197D, I221T, A27...   \n",
       "\n",
       "                                              effect  \\\n",
       "0  [Likely benign, Benign, Likely benign, None, N...   \n",
       "\n",
       "                                            sequence  \\\n",
       "0  MDSPWDELALAFSRTSMFPFFDIAHYLVSVMAVKRQPGAAALAWKN...   \n",
       "\n",
       "                                           structure  \\\n",
       "0  HEADER                                        ...   \n",
       "\n",
       "                                           alignment  \n",
       "0  [>101\\n, MDSPWDELALAFSRTSMFPFFDIAHYLVSVMAVKRQP...  "
      ]
     },
     "execution_count": 18,
     "metadata": {},
     "output_type": "execute_result"
    }
   ],
   "source": [
    "input_df"
   ]
  },
  {
   "cell_type": "markdown",
   "id": "02ec4c2a-b0fe-4f18-9fec-a9de8843d058",
   "metadata": {
    "tags": []
   },
   "source": [
    "#### Calculate CCMpred scores"
   ]
  },
  {
   "cell_type": "markdown",
   "id": "553c2979-5c38-4c5b-934c-cb474d60e717",
   "metadata": {},
   "source": [
    "Raw probability matrix from ccmpred outputs one 20xL matrix followed by comb(LxL)x21x21 matrix, corresponding to amino acid probabilities per pairwise residue contacts in the alignment"
   ]
  },
  {
   "cell_type": "markdown",
   "id": "748c68f4-d9ac-41e3-a5d4-4a51426fa61c",
   "metadata": {},
   "source": [
    "CCMpred learns a generative Markov Random Field model using vertices with single-residue emission potentials $\\varepsilon_i(a)$ and edges with pairwise emission potentials $\\varepsilon_{i,j}(a,b)$"
   ]
  },
  {
   "cell_type": "markdown",
   "id": "5f77ab00-4376-4698-9265-5b4fcb750888",
   "metadata": {},
   "source": [
    "arr1 = $\\varepsilon_i(a)$ where $i$ = MSA column index and $a$ = amino acid index <br>\n",
    "arr2 = $\\varepsilon_{i,j}(a,b)$ where $i,j$ = MSA column indices and $a,b$ = amino acid indices "
   ]
  },
  {
   "cell_type": "markdown",
   "id": "dfe23510-de41-4f05-b50d-a6433c775110",
   "metadata": {},
   "source": [
    "##### Find amino acid index positions of CCMpred"
   ]
  },
  {
   "cell_type": "code",
   "execution_count": 19,
   "id": "77c88306-5d39-49b5-9607-38f9f2aeaaa6",
   "metadata": {
    "tags": []
   },
   "outputs": [],
   "source": [
    "# # CCMpred run to see which indices correspond to which amino acid\n",
    "# testFile = str(Path(aln_path).parent.joinpath('AAtest.aln'))\n",
    "# outFile = str(Path(aln_path).parent.joinpath('AAtest.mat'))\n",
    "# rawFile = str(Path(aln_path).parent.joinpath('AAtest.raw'))\n",
    "\n",
    "# aa_list = 'ARNDCEQGHILKMFPSTWYV'\n",
    "\n",
    "# with open(testFile,'w') as f:\n",
    "#     f.write(aa_list)\n",
    "\n",
    "# bashCommand = [ccmpred_path,'-r',rawFile,testFile,outFile]\n",
    "# process = subprocess.run(bashCommand,capture_output=True)\n",
    "\n",
    "# arr1, _, _ = parse_raw_prob(rawFile)\n",
    "\n",
    "# aa_true_idx = [np.argmax(i) for i in arr1]\n",
    "# aa_true_list = ''.join([aa_list[i] for i in aa_true_idx])\n",
    "\n",
    "# # add gap character to front\n",
    "# aa_true_list = '-' + aa_true_list\n",
    "\n",
    "# aa_true_list"
   ]
  },
  {
   "cell_type": "markdown",
   "id": "49f52cf8-7ab5-40ce-b7a8-d84e8b634b1a",
   "metadata": {},
   "source": [
    "##### Average log probabilities of all pair-wise mutations"
   ]
  },
  {
   "cell_type": "code",
   "execution_count": 20,
   "id": "39e05a52-8c41-453f-9c47-ad289d9d9faa",
   "metadata": {},
   "outputs": [
    {
     "data": {
      "text/plain": [
       "'protein_id'"
      ]
     },
     "execution_count": 20,
     "metadata": {},
     "output_type": "execute_result"
    }
   ],
   "source": [
    "protein_id_column = None\n",
    "\n",
    "for col in [\"protein_id\", \"uniprot_id\"]:\n",
    "    if col in input_df:\n",
    "        protein_id_column = col\n",
    "        \n",
    "assert protein_id_column is not None\n",
    "protein_id_column"
   ]
  },
  {
   "cell_type": "code",
   "execution_count": 21,
   "id": "67b78197-c17e-4f4a-a7a6-2ac70aa302eb",
   "metadata": {},
   "outputs": [
    {
     "data": {
      "text/plain": [
       "['mutation_id', 'mutation', 'effect']"
      ]
     },
     "execution_count": 21,
     "metadata": {},
     "output_type": "execute_result"
    }
   ],
   "source": [
    "tup = next(input_df.itertuples(index=False))\n",
    "\n",
    "iterable_fields = []\n",
    "for field in tup._fields:\n",
    "    if field in [protein_id_column]:\n",
    "        continue\n",
    "    try:\n",
    "        if len(getattr(tup, field)) == len(tup.mutation):\n",
    "            iterable_fields.append(field)\n",
    "    except TypeError:\n",
    "        pass\n",
    "\n",
    "iterable_fields"
   ]
  },
  {
   "cell_type": "code",
   "execution_count": 22,
   "id": "45284b80-fc92-49d2-9875-0454e03b7cf1",
   "metadata": {},
   "outputs": [],
   "source": [
    "# Run CCMpred on alignment\n",
    "# writes alignment, output, and raw probability files to temp folder (/tmp)\n",
    "# Potential issue/warning: if more than one alignment in row group, the alignment/output/raw files are overwritten\n",
    "# since they are written to the same filename '{}/{}_ccmpred_task_{}_of_{}.aln'.format(outDir,outFile,TASK_ID,TASK_COUNT)'\n",
    "\n",
    "def run_ccmpred(alignment, NOTEBOOK_DIR, DATASET_NAME, TASK_ID, TASK_COUNT):\n",
    "    \n",
    "    def write_to_aln(alignment, outPath, outFile, TASK_ID, TASK_COUNT):\n",
    "        outDir = Path(outPath).resolve()\n",
    "        outDir.mkdir(exist_ok=True)\n",
    "        outFile = '{}/{}_ccmpred_task_{}_of_{}.aln'.format(outDir,outFile,TASK_ID,TASK_COUNT)\n",
    "        with open(outFile, 'w') as fout:\n",
    "            for line in alignment:\n",
    "                if line == '' or line[0] == '>':\n",
    "                    continue\n",
    "                else:\n",
    "                    # remove insertions (lower-case letters in .a3m format)\n",
    "                    seq = ''.join(x for x in line if not x.islower())\n",
    "                    fout.write(seq)\n",
    "        return outFile\n",
    "    \n",
    "    ccmpred_path = str(NOTEBOOK_DIR.joinpath('ccmpred/bin/ccmpred'))\n",
    "    aln_path = write_to_aln(alignment, tempfile.gettempdir(), DATASET_NAME, TASK_ID, TASK_COUNT)\n",
    "    outFile = str(Path(aln_path).parent.joinpath(Path(aln_path).stem + '.mat'))\n",
    "    rawFile = str(Path(aln_path).parent.joinpath(Path(aln_path).stem + '.raw'))\n",
    "    \n",
    "    # With raw probability matrix\n",
    "    bashCommand = [ccmpred_path,'-r',rawFile,aln_path,outFile]\n",
    "    process = subprocess.run(bashCommand,capture_output=True)\n",
    "    \n",
    "    return rawFile"
   ]
  },
  {
   "cell_type": "code",
   "execution_count": 23,
   "id": "16860786-02ed-4d2f-ad2c-09c3c330500b",
   "metadata": {},
   "outputs": [],
   "source": [
    "# Create a probability matrix of pairwise amino acid probabilities\n",
    "# Output: Pandas DataFrame of LxL where df[i,j] = 21x21 aa probability matrix of MSA positions i,j in L\n",
    "\n",
    "def get_aa_prob_matrix(rawFile):\n",
    "    \n",
    "    def parse_raw_prob(rawFile):\n",
    "\n",
    "        # Read raw probability matrix\n",
    "        with open(rawFile,'r') as fin:\n",
    "            raw_mat = fin.readlines()\n",
    "\n",
    "        # Parse raw prob matrix\n",
    "        arr1 = []\n",
    "        arr2 = []\n",
    "        arr3 = []\n",
    "        tmp_arr = []\n",
    "        for line in raw_mat:\n",
    "            line_split = line.strip().split('\\t')\n",
    "            length = len(line_split)\n",
    "            if length == 1:\n",
    "                if tmp_arr:\n",
    "                    arr2.append(tmp_arr)\n",
    "                arr3.append(line_split)\n",
    "                tmp_arr = []\n",
    "            elif length == 20:\n",
    "                arr1.append(line_split)\n",
    "            elif length == 21:\n",
    "                tmp_arr.append(line_split)\n",
    "\n",
    "        #add last arr\n",
    "        arr2.append(tmp_arr)\n",
    "\n",
    "        return np.float_(arr1), np.float_(arr2), arr3\n",
    "    \n",
    "    # TODO: very inefficient way to do this\n",
    "    # probably doesn't scale well with increased L due to filling an empty Pandas DF\n",
    "    \n",
    "    single_prob_matrix, pairwise_prob_matrix, aa_pair_id = parse_raw_prob(rawFile)\n",
    "\n",
    "    aa_pair = [l[0].split(' ')[1:] for l in aa_pair_id]\n",
    "    \n",
    "    d = {}\n",
    "    for i in range(len(np.unique(aa_pair))):\n",
    "        d[str(i)] = {}\n",
    "\n",
    "    for idx in range(len(aa_pair)):\n",
    "        aa_idx = aa_pair[idx]\n",
    "        d[aa_idx[0]][aa_idx[1]] = pairwise_prob_matrix[idx]\n",
    "        d[aa_idx[1]][aa_idx[0]] = pairwise_prob_matrix[idx]\n",
    "    \n",
    "    return d, single_prob_matrix"
   ]
  },
  {
   "cell_type": "code",
   "execution_count": 24,
   "id": "82cbc353-6b7b-46b3-b216-a4007358effc",
   "metadata": {},
   "outputs": [],
   "source": [
    "# Get score of specific mutation using ccmpred's amino acid probabilities\n",
    "\n",
    "def get_mean_mut_score(mutation, d, log=False):\n",
    "    \n",
    "    # Obtained by running CCMpred on sample sequence of all amino acids + gap and observing arr1 in get_aa_prob_matrix\n",
    "    alphabet = '-ARNDCQEGHILKMFPSTWYV'\n",
    "    \n",
    "    wt = mutation[0]\n",
    "    mut = mutation[-1]\n",
    "    pos = str(int(mutation[1:-1])-1)\n",
    "\n",
    "    wt_idx = alphabet.index(wt)\n",
    "    mut_idx = alphabet.index(mut)\n",
    "\n",
    "    pmat = list(d[pos].values())\n",
    "    \n",
    "    # log doesn't really work due to negative and zero values\n",
    "    # should investigate what the ccmpred raw matrix values actually are\n",
    "    if log:\n",
    "        pmat = [np.log10(m) for m in pmat]\n",
    "\n",
    "    pmat = np.mean(pmat,axis=0)\n",
    "    \n",
    "    mut_score = pmat[wt_idx][mut_idx]\n",
    "    \n",
    "    return mut_score"
   ]
  },
  {
   "cell_type": "code",
   "execution_count": 50,
   "id": "bf30af1f-4735-4689-a88d-e8a247a1bda2",
   "metadata": {},
   "outputs": [],
   "source": [
    "def get_mean_mut_score(mutation, d, s):\n",
    "    \n",
    "    # Obtained by running CCMpred on sample sequence of all amino acids + gap and observing arr1 in get_aa_prob_matrix\n",
    "    alphabet = '-ARNDCQEGHILKMFPSTWYV'\n",
    "    \n",
    "    wt = mutation[0]\n",
    "    mut = mutation[-1]\n",
    "    pos = str(int(mutation[1:-1])-1)\n",
    "\n",
    "    wt_idx = alphabet.index(wt)\n",
    "    mut_idx = alphabet.index(mut)\n",
    "\n",
    "    def calculate_score(idx, pos, d ,s):\n",
    "        # Note: gap character missing in single prob matrix\n",
    "        eps_i = s[int(pos)][idx-1]\n",
    "        eps_ij = 0\n",
    "        # d[pos] contains 21x21 matrices for i in L where i != pos \n",
    "        # \\sum_{j=1,i \\neq j}^L \\epsilon_{i,j} (x_i^n,x_j^n)\n",
    "        for p in d[pos].values():\n",
    "            eps_ij += p[idx][idx]\n",
    "        \n",
    "        return math.exp(eps_i+eps_ij)\n",
    "    \n",
    "    wt_score = calculate_score(wt_idx, pos, d, s)\n",
    "    mut_score = calculate_score(mut_idx, pos, d, s)\n",
    "\n",
    "    return wt_score, mut_score"
   ]
  },
  {
   "cell_type": "code",
   "execution_count": 40,
   "id": "62a5f1b2-b9c1-4568-8e15-a40b332c8909",
   "metadata": {},
   "outputs": [],
   "source": [
    "def get_single_aa_score(mutation, s):\n",
    "    \n",
    "    # Note: gap character missing in single prob matrix\n",
    "    alphabet = 'ARNDCQEGHILKMFPSTWYV'\n",
    "    \n",
    "    wt = mutation[0]\n",
    "    mut = mutation[-1]\n",
    "    pos = int(mutation[1:-1])-1\n",
    "    \n",
    "    wt_idx = alphabet.index(wt)\n",
    "    mut_idx = alphabet.index(mut)\n",
    "    \n",
    "    wt_score = s[pos][wt_idx]\n",
    "    mut_score = s[pos][mut_idx]\n",
    "    \n",
    "    return wt_score, mut_score"
   ]
  },
  {
   "cell_type": "code",
   "execution_count": 41,
   "id": "df6695ac-142f-454f-8eb9-80b1947eccbf",
   "metadata": {},
   "outputs": [],
   "source": [
    "def validate_mutation(mutation):\n",
    "    aa = \"GVALICMFWPDESTYQNKRH\"\n",
    "    if re.search(f\"^[{aa}][1-9]+[0-9]*[{aa}]$\", mutation) is None:\n",
    "        print(f\"Skipping mutation {mutation} because it appears to be malformed.\")\n",
    "        return False\n",
    "\n",
    "    if mutation[0] == mutation[-1]:\n",
    "        print(\n",
    "            f\"Skipping mutation {mutation} because the wildtype and mutant residues are the same.\"\n",
    "        )\n",
    "        return False\n",
    "\n",
    "    return True"
   ]
  },
  {
   "cell_type": "code",
   "execution_count": 51,
   "id": "6c6e4a07-84ce-419b-9fc5-f43c0bd1f459",
   "metadata": {
    "tags": []
   },
   "outputs": [],
   "source": [
    "alphabet = '-ARNDCQEGHILKMFPSTWYV'\n",
    "results = []\n",
    "for tup in input_df.itertuples(index=False):\n",
    "    \n",
    "    assert all([(len(getattr(tup, field)) == len(tup.mutation)) for field in iterable_fields])\n",
    "    \n",
    "    rawFile = run_ccmpred(tup.alignment, NOTEBOOK_DIR, DATASET_NAME, TASK_ID, TASK_COUNT)\n",
    "    \n",
    "    if not Path(rawFile).exists():\n",
    "        print(\"ccmpred file not found - check memory issues\")\n",
    "        break\n",
    "\n",
    "    d, s = get_aa_prob_matrix(rawFile)\n",
    "    \n",
    "    for mutation_idx, mutation in enumerate(tup.mutation):\n",
    "        if not validate_mutation(mutation):\n",
    "            continue\n",
    "        \n",
    "        wt_p_score, mut_p_score = get_mean_mut_score(mutation, d, s)\n",
    "        wt_s_score, mut_s_score = get_single_aa_score(mutation, s)\n",
    "        \n",
    "        results.append(\n",
    "            {\n",
    "                \"protein_id\": tup.protein_id,\n",
    "                \"mutation\": mutation,\n",
    "                \"single_prob_wt\": wt_s_score,\n",
    "                \"single_prob_mut\": mut_s_score,\n",
    "                \"pairwise_prob_wt\": wt_p_score,\n",
    "                \"pairwise_prob_mut\": mut_p_score\n",
    "            }\n",
    "            # | {field: getattr(tup, field)[mutation_idx] for field in iterable_fields}\n",
    "            # | result\n",
    "        )\n",
    "\n",
    "results_df = pd.DataFrame(results)"
   ]
  },
  {
   "cell_type": "code",
   "execution_count": 52,
   "id": "496503cc-e982-4882-8de9-d401c4e8d52b",
   "metadata": {},
   "outputs": [
    {
     "data": {
      "text/html": [
       "<div>\n",
       "<style scoped>\n",
       "    .dataframe tbody tr th:only-of-type {\n",
       "        vertical-align: middle;\n",
       "    }\n",
       "\n",
       "    .dataframe tbody tr th {\n",
       "        vertical-align: top;\n",
       "    }\n",
       "\n",
       "    .dataframe thead th {\n",
       "        text-align: right;\n",
       "    }\n",
       "</style>\n",
       "<table border=\"1\" class=\"dataframe\">\n",
       "  <thead>\n",
       "    <tr style=\"text-align: right;\">\n",
       "      <th></th>\n",
       "      <th>protein_id</th>\n",
       "      <th>mutation</th>\n",
       "      <th>single_prob_wt</th>\n",
       "      <th>single_prob_mut</th>\n",
       "      <th>pairwise_prob_wt</th>\n",
       "      <th>pairwise_prob_mut</th>\n",
       "    </tr>\n",
       "  </thead>\n",
       "  <tbody>\n",
       "    <tr>\n",
       "      <th>0</th>\n",
       "      <td>Q9NVV0</td>\n",
       "      <td>P250S</td>\n",
       "      <td>-1.79462</td>\n",
       "      <td>-4.63096</td>\n",
       "      <td>0.164664</td>\n",
       "      <td>0.008814</td>\n",
       "    </tr>\n",
       "    <tr>\n",
       "      <th>1</th>\n",
       "      <td>Q9NVV0</td>\n",
       "      <td>V267I</td>\n",
       "      <td>-3.44336</td>\n",
       "      <td>-4.48053</td>\n",
       "      <td>0.419924</td>\n",
       "      <td>0.012767</td>\n",
       "    </tr>\n",
       "  </tbody>\n",
       "</table>\n",
       "</div>"
      ],
      "text/plain": [
       "  protein_id mutation  single_prob_wt  single_prob_mut  pairwise_prob_wt  \\\n",
       "0     Q9NVV0    P250S        -1.79462         -4.63096          0.164664   \n",
       "1     Q9NVV0    V267I        -3.44336         -4.48053          0.419924   \n",
       "\n",
       "   pairwise_prob_mut  \n",
       "0           0.008814  \n",
       "1           0.012767  "
      ]
     },
     "metadata": {},
     "output_type": "display_data"
    },
    {
     "name": "stdout",
     "output_type": "stream",
     "text": [
      "8\n"
     ]
    }
   ],
   "source": [
    "display(results_df.head(2))\n",
    "print(len(results_df))"
   ]
  },
  {
   "cell_type": "code",
   "execution_count": 104,
   "id": "1ee7a39a-7d4e-4b4b-b9a0-575c89cb52b6",
   "metadata": {},
   "outputs": [],
   "source": [
    "if not DEBUG and if not results_df.empty:\n",
    "    pq.write_table(pa.Table.from_pandas(results_df, preserve_index=False), output_file)"
   ]
  }
 ],
 "metadata": {
  "kernelspec": {
   "display_name": "Python 3",
   "language": "python",
   "name": "python3"
  },
  "language_info": {
   "codemirror_mode": {
    "name": "ipython",
    "version": 3
   },
   "file_extension": ".py",
   "mimetype": "text/x-python",
   "name": "python",
   "nbconvert_exporter": "python",
   "pygments_lexer": "ipython3",
   "version": "3.8.12"
  }
 },
 "nbformat": 4,
 "nbformat_minor": 5
}
