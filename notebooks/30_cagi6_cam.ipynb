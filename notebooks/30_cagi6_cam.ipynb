{
 "cells": [
  {
   "cell_type": "markdown",
   "id": "26c81e96-6b41-41fa-80a6-6360c482eb58",
   "metadata": {},
   "source": [
    "## Summary\n",
    "\n",
    "---"
   ]
  },
  {
   "cell_type": "markdown",
   "id": "ec276dec-6afa-4b57-bbfc-a11e04a8767e",
   "metadata": {},
   "source": [
    "## Imports"
   ]
  },
  {
   "cell_type": "code",
   "execution_count": 1,
   "id": "539f4edf-ca04-4bef-b5c9-a6d402f7570b",
   "metadata": {},
   "outputs": [
    {
     "name": "stderr",
     "output_type": "stream",
     "text": [
      "Warning: importing 'simtk.openmm' is deprecated.  Import 'openmm' instead.\n"
     ]
    }
   ],
   "source": [
    "import concurrent.futures\n",
    "import contextlib\n",
    "import itertools\n",
    "import os\n",
    "import tempfile\n",
    "import urllib.request\n",
    "from datetime import datetime\n",
    "from pathlib import Path\n",
    "\n",
    "import dotenv\n",
    "import elaspic2 as el2\n",
    "import matplotlib.pyplot as plt\n",
    "import numpy as np\n",
    "import pandas as pd\n",
    "import pyarrow as pa\n",
    "import pyarrow.parquet as pq\n",
    "import seaborn as sns\n",
    "import synapseclient\n",
    "import synapseutils\n",
    "import torch\n",
    "from elaspic2.plugins.rosetta_ddg import RosettaDDG\n",
    "from kmbio import PDB\n",
    "from kmtools import structure_tools\n",
    "from tqdm.auto import tqdm"
   ]
  },
  {
   "cell_type": "markdown",
   "id": "5be0ca05-c038-414f-ba84-b2ae8013088b",
   "metadata": {
    "tags": []
   },
   "source": [
    "## Parameters"
   ]
  },
  {
   "cell_type": "code",
   "execution_count": 2,
   "id": "10e1faee-9f6a-40d8-8819-272b1c9837bb",
   "metadata": {},
   "outputs": [
    {
     "data": {
      "text/plain": [
       "PosixPath('/home/kimlab5/strokach/workspace/elaspic/elaspic2-cagi6/notebooks/30_cagi6_cam')"
      ]
     },
     "execution_count": 2,
     "metadata": {},
     "output_type": "execute_result"
    }
   ],
   "source": [
    "NOTEBOOK_DIR = Path(\"30_cagi6_cam\").resolve()\n",
    "NOTEBOOK_DIR.mkdir(exist_ok=True)\n",
    "\n",
    "NOTEBOOK_DIR"
   ]
  },
  {
   "cell_type": "code",
   "execution_count": 3,
   "id": "af9e5e94-0d6f-44d8-b519-4cdf3bf57a22",
   "metadata": {},
   "outputs": [
    {
     "data": {
      "text/plain": [
       "'P0DP23'"
      ]
     },
     "execution_count": 3,
     "metadata": {},
     "output_type": "execute_result"
    }
   ],
   "source": [
    "UNIPROT_ID = \"P0DP23\"\n",
    "\n",
    "UNIPROT_ID"
   ]
  },
  {
   "cell_type": "code",
   "execution_count": 4,
   "id": "62f2d1f2-3bbb-41d6-998c-cbdeb3c60780",
   "metadata": {
    "colab": {
     "base_uri": "https://localhost:8080/"
    },
    "id": "HCyTzII-HD1t",
    "outputId": "92f63199-1727-48d3-cb4b-6ff798fa75b6"
   },
   "outputs": [
    {
     "data": {
      "text/plain": [
       "device(type='cpu')"
      ]
     },
     "execution_count": 4,
     "metadata": {},
     "output_type": "execute_result"
    }
   ],
   "source": [
    "device = torch.device(\"cuda\" if torch.cuda.is_available() else \"cpu\")\n",
    "\n",
    "device"
   ]
  },
  {
   "cell_type": "code",
   "execution_count": 5,
   "id": "d9abbe5b-4bd7-4c04-bb24-6f6adb8c5271",
   "metadata": {
    "colab": {
     "base_uri": "https://localhost:8080/",
     "height": 35
    },
    "id": "i3LyUBcjSUzb",
    "outputId": "054b8acc-0717-48cf-83d9-ca0b886f7b10"
   },
   "outputs": [
    {
     "data": {
      "text/plain": [
       "'2021-09-16T15'"
      ]
     },
     "execution_count": 5,
     "metadata": {},
     "output_type": "execute_result"
    }
   ],
   "source": [
    "version = datetime.now().isoformat(timespec=\"hours\")\n",
    "\n",
    "version"
   ]
  },
  {
   "cell_type": "markdown",
   "id": "982c4abb-8e39-4c9b-8c0c-ca577ab38038",
   "metadata": {},
   "source": [
    "## Download data"
   ]
  },
  {
   "cell_type": "code",
   "execution_count": 6,
   "id": "3ef580f6-ef0d-42a8-8012-bbc1fdccf655",
   "metadata": {},
   "outputs": [],
   "source": [
    "def download(url, filename):\n",
    "    urllib.request.urlretrieve(url, filename)"
   ]
  },
  {
   "cell_type": "code",
   "execution_count": 7,
   "id": "7bfef287-5d56-4684-b2c2-b93549dfae06",
   "metadata": {},
   "outputs": [],
   "source": [
    "def load_sequence(sequence_file):\n",
    "    with sequence_file.open(\"rt\") as fin:\n",
    "        data = fin.read()\n",
    "    chunks = []\n",
    "    for line in data.split(\"\\n\"):\n",
    "        if line.startswith(\">\"):\n",
    "            continue\n",
    "        chunks.append(line.strip())\n",
    "    return \"\".join(chunks)"
   ]
  },
  {
   "cell_type": "code",
   "execution_count": 8,
   "id": "18e9adaa-f8d8-4827-967c-a375ab281859",
   "metadata": {},
   "outputs": [],
   "source": [
    "if not NOTEBOOK_DIR.joinpath(\"cam_predictions.tsv\").is_file():\n",
    "    dotenv.load_dotenv(\"../.env\")\n",
    "    syn = synapseclient.Synapse()\n",
    "    syn.login(os.environ[\"SYNAPSE_USERNAME\"], os.environ[\"SYNAPSE_PASSWORD\"])\n",
    "    _ = synapseutils.syncFromSynapse(syn, \"syn25835637\", path=NOTEBOOK_DIR)\n",
    "    _ = subprocess.run(\n",
    "        [\"unzip\", \"-o\", \"CAGI6_CaM_challenge_Training_Set.zip\"], cwd=NOTEBOOK_DIR, check=True\n",
    "    )"
   ]
  },
  {
   "cell_type": "code",
   "execution_count": 9,
   "id": "7cf6fb00-d7ef-411b-aae7-d7e90be5818c",
   "metadata": {},
   "outputs": [],
   "source": [
    "sequence_file = NOTEBOOK_DIR.joinpath(f\"{UNIPROT_ID}.fasta\")\n",
    "\n",
    "if not sequence_file.is_file():\n",
    "    download(f\"https://www.uniprot.org/uniprot/{UNIPROT_ID}.fasta\", sequence_file)\n",
    "\n",
    "sequence = load_sequence(sequence_file)"
   ]
  },
  {
   "cell_type": "code",
   "execution_count": 10,
   "id": "edaf7f48-5fd8-482d-9705-5cc6d57fa4f3",
   "metadata": {},
   "outputs": [],
   "source": [
    "structure_file = NOTEBOOK_DIR.joinpath(f\"{UNIPROT_ID}.pdb\")\n",
    "\n",
    "if not structure_file.is_file():\n",
    "    download(f\"https://alphafold.ebi.ac.uk/files/AF-{UNIPROT_ID}-F1-model_v1.pdb\", structure_file)\n",
    "\n",
    "with structure_file.open(\"r\") as fin:\n",
    "    structure_blob = fin.read()"
   ]
  },
  {
   "cell_type": "code",
   "execution_count": 21,
   "id": "86b42dde-08bf-4b58-a19e-b717f94740cb",
   "metadata": {},
   "outputs": [],
   "source": [
    "alignment_file = NOTEBOOK_DIR.joinpath(f\"{UNIPROT_ID}.a3m.gz\")\n",
    "\n",
    "if not alignment_file.is_file():\n",
    "    from elaspic2.plugins.alphafold import mmseqs2\n",
    "\n",
    "    dotenv.load_dotenv(\"../.env\")\n",
    "    with mmseqs2.api_gateway(mmseqs2.MMSEQS2_HOST_URL) as gateway:\n",
    "        alignment = mmseqs2.run_mmseqs2(sequence, gateway=gateway)\n",
    "        assert alignment[1] == f\"{sequence}\\n\"\n",
    "        alignment_df = pd.DataFrame({\"alignment\": alignment})\n",
    "        pq.write_table(pa.Table.from_pandas(alignment_df, preserve_index=False), alignment_file)\n",
    "\n",
    "alignment = pq.read_table(alignment_file).to_pandas()[\"alignment\"].values.tolist()"
   ]
  },
  {
   "cell_type": "markdown",
   "id": "48b36059-945b-490a-898e-3d06065e53bb",
   "metadata": {},
   "source": [
    "## Load data"
   ]
  },
  {
   "cell_type": "code",
   "execution_count": 12,
   "id": "076903e3-e651-4278-a314-870a729b0bcb",
   "metadata": {},
   "outputs": [],
   "source": [
    "def mutation_matches_sequence(mutation, sequence):\n",
    "    wt, pos, mut = mutation[0], mutation[1:-1], mutation[-1]\n",
    "    pos = int(pos)\n",
    "    return sequence[pos - 1] == wt"
   ]
  },
  {
   "cell_type": "code",
   "execution_count": 13,
   "id": "244c3bdc-b03d-48a5-81aa-c902a1e823f6",
   "metadata": {
    "id": "gJG9gYqPHD15"
   },
   "outputs": [],
   "source": [
    "def sequence_matches_structure(sequence, structure_blob):\n",
    "    with tempfile.NamedTemporaryFile(suffix=\".pdb\") as tmp_file:\n",
    "        with open(tmp_file.name, \"wt\") as fout:\n",
    "            fout.write(structure_blob)\n",
    "        structure = PDB.load(tmp_file.name)\n",
    "\n",
    "    chain_sequence = structure_tools.get_chain_sequence(\n",
    "        structure[0][\"A\"], if_unknown=\"replace\", unknown_residue_marker=\"\"\n",
    "    )\n",
    "    return sequence == chain_sequence"
   ]
  },
  {
   "cell_type": "code",
   "execution_count": 14,
   "id": "60db050b-41a7-4b0f-b668-6d61a7aeba30",
   "metadata": {},
   "outputs": [
    {
     "data": {
      "text/html": [
       "<div>\n",
       "<style scoped>\n",
       "    .dataframe tbody tr th:only-of-type {\n",
       "        vertical-align: middle;\n",
       "    }\n",
       "\n",
       "    .dataframe tbody tr th {\n",
       "        vertical-align: top;\n",
       "    }\n",
       "\n",
       "    .dataframe thead th {\n",
       "        text-align: right;\n",
       "    }\n",
       "</style>\n",
       "<table border=\"1\" class=\"dataframe\">\n",
       "  <thead>\n",
       "    <tr style=\"text-align: right;\">\n",
       "      <th></th>\n",
       "      <th>CaM-variant</th>\n",
       "      <th>Tm</th>\n",
       "      <th>Standard-Deviation-Tm</th>\n",
       "      <th>%Unfold</th>\n",
       "      <th>Standard-Deviation-%Unfold</th>\n",
       "      <th>Stabilizing-vs-Destabilizing</th>\n",
       "      <th>Comments</th>\n",
       "    </tr>\n",
       "  </thead>\n",
       "  <tbody>\n",
       "    <tr>\n",
       "      <th>0</th>\n",
       "      <td>p.N54I</td>\n",
       "      <td>*</td>\n",
       "      <td>*</td>\n",
       "      <td>*</td>\n",
       "      <td>*</td>\n",
       "      <td>*</td>\n",
       "      <td>*</td>\n",
       "    </tr>\n",
       "    <tr>\n",
       "      <th>1</th>\n",
       "      <td>p.F90L</td>\n",
       "      <td>*</td>\n",
       "      <td>*</td>\n",
       "      <td>*</td>\n",
       "      <td>*</td>\n",
       "      <td>*</td>\n",
       "      <td>*</td>\n",
       "    </tr>\n",
       "  </tbody>\n",
       "</table>\n",
       "</div>"
      ],
      "text/plain": [
       "  CaM-variant Tm Standard-Deviation-Tm %Unfold Standard-Deviation-%Unfold  \\\n",
       "0      p.N54I  *                     *       *                          *   \n",
       "1      p.F90L  *                     *       *                          *   \n",
       "\n",
       "  Stabilizing-vs-Destabilizing Comments  \n",
       "0                            *        *  \n",
       "1                            *        *  "
      ]
     },
     "execution_count": 14,
     "metadata": {},
     "output_type": "execute_result"
    }
   ],
   "source": [
    "result_template_df = pd.read_csv(NOTEBOOK_DIR.joinpath(\"cam_predictions.tsv\"), sep=\"\\t\")\n",
    "\n",
    "result_template_df.head(2)"
   ]
  },
  {
   "cell_type": "code",
   "execution_count": 15,
   "id": "975d16bf-c370-4b4e-be2f-44a85aa9b504",
   "metadata": {},
   "outputs": [],
   "source": [
    "result_df = result_template_df.copy()\n",
    "result_df[\"mut\"] = result_df[\"CaM-variant\"].str[2:]"
   ]
  },
  {
   "cell_type": "code",
   "execution_count": 16,
   "id": "2d36b3ad-478e-4392-9e93-0e0fef8cfe86",
   "metadata": {},
   "outputs": [],
   "source": [
    "assert all([mutation_matches_sequence(mut, sequence) for mut in result_df[\"mut\"]])"
   ]
  },
  {
   "cell_type": "code",
   "execution_count": 17,
   "id": "8cc9e54c-7013-4315-bff0-ffa13fa53f84",
   "metadata": {},
   "outputs": [],
   "source": [
    "assert sequence_matches_structure(sequence, structure_blob)"
   ]
  },
  {
   "cell_type": "code",
   "execution_count": 18,
   "id": "20df9912-d697-42b9-9b78-05c84eb29c9f",
   "metadata": {},
   "outputs": [],
   "source": [
    "assert alignment[1] == f\"{sequence}\\n\""
   ]
  },
  {
   "cell_type": "markdown",
   "id": "fcd4da8a-0b70-4706-bc41-5dbdb10270d7",
   "metadata": {},
   "source": [
    "## Run Rosetta"
   ]
  },
  {
   "cell_type": "code",
   "execution_count": 19,
   "id": "a2611224-1461-4681-b4fb-12a275bd72ea",
   "metadata": {},
   "outputs": [],
   "source": [
    "rosetta_ddg_data = RosettaDDG.build(\n",
    "    structure_file,\n",
    "    protocol=\"cartesian_ddg\",\n",
    "    energy_function=\"beta_nov16_cart\",\n",
    "    interface=0,\n",
    ")"
   ]
  },
  {
   "cell_type": "code",
   "execution_count": 20,
   "id": "8413822e-34d7-48a9-8239-ca4d6f7d7139",
   "metadata": {},
   "outputs": [],
   "source": [
    "def rosetta_ddg_worker(mut, data):\n",
    "    results = RosettaDDG.analyze_mutation(f\"A_{mut}\", data)\n",
    "    results = {\"mut\": mut} | {f\"rosetta_{key}\": value for key, value in results.items()}\n",
    "    return results"
   ]
  },
  {
   "cell_type": "code",
   "execution_count": 21,
   "id": "8e55ef60-9a29-4dc4-a9dd-f00ad9ba761e",
   "metadata": {},
   "outputs": [],
   "source": [
    "rosetta_results_file = NOTEBOOK_DIR.joinpath(\"rosetta-results.parquet\")\n",
    "\n",
    "if rosetta_results_file.is_file():\n",
    "    rosetta_results_df = pq.read_table(rosetta_results_file).to_pandas()\n",
    "else:\n",
    "    with concurrent.futures.ThreadPoolExecutor(len(result_df)) as pool:\n",
    "        rosetta_results = list(\n",
    "            tqdm(\n",
    "                pool.map(\n",
    "                    rosetta_ddg_worker,\n",
    "                    result_df[\"mut\"].values.tolist(),\n",
    "                    itertools.repeat(rosetta_ddg_data),\n",
    "                ),\n",
    "                total=len(result_df),\n",
    "            )\n",
    "        )\n",
    "    rosetta_results_df = pd.DataFrame(rosetta_results)\n",
    "    pq.write_table(pa.Table.from_pandas(rosetta_results_df, preserve_index=False), rosetta_results_file)"
   ]
  },
  {
   "cell_type": "markdown",
   "id": "f39f80d4-76b8-4a5d-b5c9-ce1db820bd7b",
   "metadata": {
    "tags": []
   },
   "source": [
    "## Run `ELASPIC2`"
   ]
  },
  {
   "cell_type": "markdown",
   "id": "e67caa74-8382-4c66-867e-1803b75e2d63",
   "metadata": {
    "id": "4jTx3zGeHD2e"
   },
   "source": [
    "### Initialize the `ELASPIC2` model\n",
    "\n"
   ]
  },
  {
   "cell_type": "code",
   "execution_count": 22,
   "id": "ff229a81-07f0-4c77-a27f-cbab825fd06b",
   "metadata": {},
   "outputs": [
    {
     "name": "stderr",
     "output_type": "stream",
     "text": [
      "Some weights of the model checkpoint at /home/kimlab5/strokach/workspace/elaspic/elaspic2/src/elaspic2/plugins/protbert/data/prot_bert_bfd were not used when initializing BertModel: ['cls.seq_relationship.weight', 'cls.predictions.bias', 'cls.predictions.transform.dense.bias', 'cls.seq_relationship.bias', 'cls.predictions.decoder.bias', 'cls.predictions.transform.LayerNorm.weight', 'cls.predictions.transform.dense.weight', 'cls.predictions.transform.LayerNorm.bias', 'cls.predictions.decoder.weight']\n",
      "- This IS expected if you are initializing BertModel from the checkpoint of a model trained on another task or with another architecture (e.g. initializing a BertForSequenceClassification model from a BertForPreTraining model).\n",
      "- This IS NOT expected if you are initializing BertModel from the checkpoint of a model that you expect to be exactly identical (initializing a BertForSequenceClassification model from a BertForSequenceClassification model).\n"
     ]
    }
   ],
   "source": [
    "model = el2.ELASPIC2(device=device)"
   ]
  },
  {
   "cell_type": "markdown",
   "id": "1b763761-f006-43c7-8388-5c0dd730613a",
   "metadata": {
    "id": "i8OkFJbj8sYO"
   },
   "source": [
    "### Make predictions"
   ]
  },
  {
   "cell_type": "code",
   "execution_count": 23,
   "id": "bae9e849-97b2-4299-aedf-492dd8ba159c",
   "metadata": {
    "colab": {
     "base_uri": "https://localhost:8080/"
    },
    "id": "ac6mTuNYHD2i",
    "outputId": "b2427457-6fb6-4e2c-dac0-d037fafc8282"
   },
   "outputs": [
    {
     "data": {
      "text/plain": [
       "ELASPIC2Data(is_interface=False, protbert_data=ProtBertData(sequence='MADQLTEEQIAEFKEAFSLFDKDGDGTITTKELGTVMRSLGQNPTEAELQDMINEVDADGNGTIDFPEFLTMMARKMKDTDSEEEIREAFRVFDKDGNGYISAAELRHVMTNLGEKLTDEEVDEMIREADIDGDGQVNYEEFVQMMTAK'), proteinsolver_data=Data(edge_attr=[5330, 2], edge_index=[2, 5330], x=[149]))"
      ]
     },
     "execution_count": 23,
     "metadata": {},
     "output_type": "execute_result"
    }
   ],
   "source": [
    "protein_features = model.build(\n",
    "    structure_file=structure_file,\n",
    "    protein_sequence=sequence,\n",
    "    ligand_sequence=None,\n",
    "    remove_hetatms=True,\n",
    ")\n",
    "\n",
    "protein_features"
   ]
  },
  {
   "cell_type": "code",
   "execution_count": 24,
   "id": "3c7edd06-5e16-410a-a62b-070cf06d9b75",
   "metadata": {},
   "outputs": [
    {
     "data": {
      "application/vnd.jupyter.widget-view+json": {
       "model_id": "38e1ff0b7af646aea1ed5242fb834c6b",
       "version_major": 2,
       "version_minor": 0
      },
      "text/plain": [
       "  0%|          | 0/16 [00:00<?, ?it/s]"
      ]
     },
     "metadata": {},
     "output_type": "display_data"
    }
   ],
   "source": [
    "mutation_features = list(\n",
    "    tqdm(\n",
    "        (model.analyze_mutation(mut, protein_features) for mut in result_df[\"mut\"]),\n",
    "        total=len(result_df),\n",
    "    )\n",
    ")"
   ]
  },
  {
   "cell_type": "code",
   "execution_count": 25,
   "id": "0f2e6b98-91e5-4aaf-b143-a852f6dd52ff",
   "metadata": {
    "id": "XJPiK7eVRBqi"
   },
   "outputs": [],
   "source": [
    "# In all cases, higher scores means less stable (same as ΔΔG) \n",
    "result_df[\"protbert_score\"] = [\n",
    "    f[\"protbert_core_score_wt\"] - f[\"protbert_core_score_mut\"] for f in mutation_features\n",
    "]\n",
    "result_df[\"proteinsolver_score\"] = [\n",
    "    f[\"proteinsolver_core_score_wt\"] - f[\"proteinsolver_core_score_mut\"] for f in mutation_features\n",
    "]\n",
    "result_df[\"el2_score\"] = model.predict_mutation_effect(mutation_features).tolist()"
   ]
  },
  {
   "cell_type": "markdown",
   "id": "fa361785-f49c-4406-b092-6eb1b4c7aa5d",
   "metadata": {},
   "source": [
    "## Combine"
   ]
  },
  {
   "cell_type": "code",
   "execution_count": 26,
   "id": "736aebec-5030-4b35-a068-f7f46cc25329",
   "metadata": {},
   "outputs": [],
   "source": [
    "rosetta_results_df[\"rosetta_dg_score\"] = rosetta_results_df[\"rosetta_dg_change\"]"
   ]
  },
  {
   "cell_type": "code",
   "execution_count": 27,
   "id": "a48796e5-4259-4b01-9a92-b7d63175d47b",
   "metadata": {},
   "outputs": [],
   "source": [
    "try:\n",
    "    del result_df[\"rosetta_dg_score\"]\n",
    "except KeyError:\n",
    "    pass\n",
    "\n",
    "result_df = result_df.merge(\n",
    "    rosetta_results_df[[\"mut\", \"rosetta_dg_score\"]], on=\"mut\", how=\"left\"\n",
    ")"
   ]
  },
  {
   "cell_type": "markdown",
   "id": "22b5a2ee-a147-4726-9768-736833a422f9",
   "metadata": {
    "tags": []
   },
   "source": [
    "## Visualize"
   ]
  },
  {
   "cell_type": "code",
   "execution_count": 28,
   "id": "563c7c12-81fb-4098-804b-f20d2053d88e",
   "metadata": {},
   "outputs": [
    {
     "data": {
      "image/png": "[encoded data removed]",
      "text/plain": [
       "<Figure size 720x720 with 20 Axes>"
      ]
     },
     "metadata": {},
     "output_type": "display_data"
    }
   ],
   "source": [
    "sns.set(style=\"ticks\", color_codes=True)\n",
    "g = sns.pairplot(result_df[[\"protbert_score\", \"proteinsolver_score\", \"el2_score\", \"rosetta_dg_score\"]])"
   ]
  },
  {
   "cell_type": "markdown",
   "id": "6a1b222f-10f5-4017-b38c-c0192c6f9333",
   "metadata": {},
   "source": [
    "## Write results"
   ]
  },
  {
   "cell_type": "code",
   "execution_count": 29,
   "id": "bfefd067-5ff9-455e-a7a9-e8825665de5a",
   "metadata": {},
   "outputs": [
    {
     "data": {
      "text/plain": [
       "PosixPath('/home/kimlab5/strokach/workspace/elaspic/elaspic2-cagi6/notebooks/30_cagi6_cam/results')"
      ]
     },
     "execution_count": 29,
     "metadata": {},
     "output_type": "execute_result"
    }
   ],
   "source": [
    "output_dir = NOTEBOOK_DIR.joinpath(\"submission\")\n",
    "output_dir.mkdir(exist_ok=True)\n",
    "\n",
    "output_dir"
   ]
  },
  {
   "cell_type": "code",
   "execution_count": 30,
   "id": "06fc7c76-f93f-4f4a-9ef9-34968c1758e7",
   "metadata": {},
   "outputs": [
    {
     "name": "stdout",
     "output_type": "stream",
     "text": [
      "Overwriting /home/kimlab5/strokach/workspace/elaspic/elaspic2-cagi6/notebooks/30_cagi6_cam/results/strokach_desc.md\n"
     ]
    }
   ],
   "source": [
    "%%file {output_dir}/strokach_desc.md\n",
    "# Submission for CAGI6—CAM challenge\n",
    "\n",
    "## Overview\n",
    "\n",
    "- `strokach_modelnumber_1.tsv` → Predictions made using ELASPIC2 [1].\n",
    "- `strokach_modelnumber_2.tsv` → Predictions made using ProteinSolver [2].\n",
    "- `strokach_modelnumber_3.tsv` → Predictions made using ProtBert [3].\n",
    "- `strokach_modelnumber_4.tsv` → Predictions made using Rosetta's cartesian_ddg protocol.\n",
    "\n",
    "## References\n",
    "\n",
    "- [1] Strokach, A., Lu, T.Y., Kim, P.M., 2021. ELASPIC2 (EL2): Combining Contextualized Language Models and Graph Neural Networks to Predict Effects of Mutations. Journal of Molecular Biology, Computation Resources for Molecular Biology 433, 166810. https://doi.org/10.1016/j.jmb.2021.166810\n",
    "- [2] Strokach, A., Becerra, D., Corbi-Verge, C., Perez-Riba, A., Kim, P.M., 2020. Fast and Flexible Protein Design Using Deep Graph Neural Networks. Cell Systems. https://doi.org/10.1016/j.cels.2020.08.016\n",
    "- [3] Elnaggar, A., Heinzinger, M., Dallago, C., Rehawi, G., Wang, Y., Jones, L., Gibbs, T., Feher, T., Angerer, C., Steinegger, M., Bhowmik, D., Rost, B., 2020. ProtTrans: Towards Cracking the Language of Life’s Code Through Self-Supervised Deep Learning and High Performance Computing. bioRxiv 2020.07.12.199554. https://doi.org/10.1101/2020.07.12.199554\n"
   ]
  },
  {
   "cell_type": "code",
   "execution_count": 31,
   "id": "1bf4dce6-2948-4cd9-9141-c70d1bbbb127",
   "metadata": {
    "tags": []
   },
   "outputs": [
    {
     "name": "stdout",
     "output_type": "stream",
     "text": [
      "el2 0.4781911689350995\n"
     ]
    },
    {
     "data": {
      "text/html": [
       "<div>\n",
       "<style scoped>\n",
       "    .dataframe tbody tr th:only-of-type {\n",
       "        vertical-align: middle;\n",
       "    }\n",
       "\n",
       "    .dataframe tbody tr th {\n",
       "        vertical-align: top;\n",
       "    }\n",
       "\n",
       "    .dataframe thead th {\n",
       "        text-align: right;\n",
       "    }\n",
       "</style>\n",
       "<table border=\"1\" class=\"dataframe\">\n",
       "  <thead>\n",
       "    <tr style=\"text-align: right;\">\n",
       "      <th></th>\n",
       "      <th>CaM-variant</th>\n",
       "      <th>Tm</th>\n",
       "      <th>Standard-Deviation-Tm</th>\n",
       "      <th>%Unfold</th>\n",
       "      <th>Standard-Deviation-%Unfold</th>\n",
       "      <th>Stabilizing-vs-Destabilizing</th>\n",
       "      <th>Comments</th>\n",
       "      <th>mut</th>\n",
       "      <th>protbert_score</th>\n",
       "      <th>proteinsolver_score</th>\n",
       "      <th>el2_score</th>\n",
       "      <th>rosetta_dg_score</th>\n",
       "      <th>Comment</th>\n",
       "    </tr>\n",
       "  </thead>\n",
       "  <tbody>\n",
       "    <tr>\n",
       "      <th>0</th>\n",
       "      <td>p.N54I</td>\n",
       "      <td>35.517313</td>\n",
       "      <td>10.0</td>\n",
       "      <td>87.628734</td>\n",
       "      <td>10.0</td>\n",
       "      <td>Destabilizing</td>\n",
       "      <td>*</td>\n",
       "      <td>N54I</td>\n",
       "      <td>0.995812</td>\n",
       "      <td>0.200956</td>\n",
       "      <td>1.488632</td>\n",
       "      <td>1.718333</td>\n",
       "      <td>*</td>\n",
       "    </tr>\n",
       "    <tr>\n",
       "      <th>1</th>\n",
       "      <td>p.F90L</td>\n",
       "      <td>34.728177</td>\n",
       "      <td>10.0</td>\n",
       "      <td>88.156167</td>\n",
       "      <td>10.0</td>\n",
       "      <td>Destabilizing</td>\n",
       "      <td>*</td>\n",
       "      <td>F90L</td>\n",
       "      <td>0.997973</td>\n",
       "      <td>0.552354</td>\n",
       "      <td>1.522301</td>\n",
       "      <td>7.288333</td>\n",
       "      <td>*</td>\n",
       "    </tr>\n",
       "    <tr>\n",
       "      <th>2</th>\n",
       "      <td>p.D96H</td>\n",
       "      <td>36.102601</td>\n",
       "      <td>10.0</td>\n",
       "      <td>87.237547</td>\n",
       "      <td>10.0</td>\n",
       "      <td>Destabilizing</td>\n",
       "      <td>*</td>\n",
       "      <td>D96H</td>\n",
       "      <td>0.989954</td>\n",
       "      <td>0.660278</td>\n",
       "      <td>1.463660</td>\n",
       "      <td>-0.264333</td>\n",
       "      <td>*</td>\n",
       "    </tr>\n",
       "    <tr>\n",
       "      <th>3</th>\n",
       "      <td>p.D96V</td>\n",
       "      <td>37.210569</td>\n",
       "      <td>10.0</td>\n",
       "      <td>86.497018</td>\n",
       "      <td>10.0</td>\n",
       "      <td>Destabilizing</td>\n",
       "      <td>*</td>\n",
       "      <td>D96V</td>\n",
       "      <td>0.989882</td>\n",
       "      <td>0.666239</td>\n",
       "      <td>1.416388</td>\n",
       "      <td>-1.057000</td>\n",
       "      <td>*</td>\n",
       "    </tr>\n",
       "    <tr>\n",
       "      <th>4</th>\n",
       "      <td>p.N98I</td>\n",
       "      <td>52.227321</td>\n",
       "      <td>10.0</td>\n",
       "      <td>76.460311</td>\n",
       "      <td>10.0</td>\n",
       "      <td>Destabilizing</td>\n",
       "      <td>*</td>\n",
       "      <td>N98I</td>\n",
       "      <td>0.986357</td>\n",
       "      <td>0.174486</td>\n",
       "      <td>0.775686</td>\n",
       "      <td>-1.900667</td>\n",
       "      <td>*</td>\n",
       "    </tr>\n",
       "  </tbody>\n",
       "</table>\n",
       "</div>"
      ],
      "text/plain": [
       "  CaM-variant         Tm  Standard-Deviation-Tm    %Unfold  \\\n",
       "0      p.N54I  35.517313                   10.0  87.628734   \n",
       "1      p.F90L  34.728177                   10.0  88.156167   \n",
       "2      p.D96H  36.102601                   10.0  87.237547   \n",
       "3      p.D96V  37.210569                   10.0  86.497018   \n",
       "4      p.N98I  52.227321                   10.0  76.460311   \n",
       "\n",
       "   Standard-Deviation-%Unfold Stabilizing-vs-Destabilizing Comments   mut  \\\n",
       "0                        10.0                Destabilizing        *  N54I   \n",
       "1                        10.0                Destabilizing        *  F90L   \n",
       "2                        10.0                Destabilizing        *  D96H   \n",
       "3                        10.0                Destabilizing        *  D96V   \n",
       "4                        10.0                Destabilizing        *  N98I   \n",
       "\n",
       "   protbert_score  proteinsolver_score  el2_score  rosetta_dg_score Comment  \n",
       "0        0.995812             0.200956   1.488632          1.718333       *  \n",
       "1        0.997973             0.552354   1.522301          7.288333       *  \n",
       "2        0.989954             0.660278   1.463660         -0.264333       *  \n",
       "3        0.989882             0.666239   1.416388         -1.057000       *  \n",
       "4        0.986357             0.174486   0.775686         -1.900667       *  "
      ]
     },
     "metadata": {},
     "output_type": "display_data"
    },
    {
     "name": "stdout",
     "output_type": "stream",
     "text": [
      "proteinsolver 0.003198798600351438\n"
     ]
    },
    {
     "data": {
      "text/html": [
       "<div>\n",
       "<style scoped>\n",
       "    .dataframe tbody tr th:only-of-type {\n",
       "        vertical-align: middle;\n",
       "    }\n",
       "\n",
       "    .dataframe tbody tr th {\n",
       "        vertical-align: top;\n",
       "    }\n",
       "\n",
       "    .dataframe thead th {\n",
       "        text-align: right;\n",
       "    }\n",
       "</style>\n",
       "<table border=\"1\" class=\"dataframe\">\n",
       "  <thead>\n",
       "    <tr style=\"text-align: right;\">\n",
       "      <th></th>\n",
       "      <th>CaM-variant</th>\n",
       "      <th>Tm</th>\n",
       "      <th>Standard-Deviation-Tm</th>\n",
       "      <th>%Unfold</th>\n",
       "      <th>Standard-Deviation-%Unfold</th>\n",
       "      <th>Stabilizing-vs-Destabilizing</th>\n",
       "      <th>Comments</th>\n",
       "      <th>mut</th>\n",
       "      <th>protbert_score</th>\n",
       "      <th>proteinsolver_score</th>\n",
       "      <th>el2_score</th>\n",
       "      <th>rosetta_dg_score</th>\n",
       "      <th>Comment</th>\n",
       "    </tr>\n",
       "  </thead>\n",
       "  <tbody>\n",
       "    <tr>\n",
       "      <th>0</th>\n",
       "      <td>p.N54I</td>\n",
       "      <td>47.508275</td>\n",
       "      <td>10.0</td>\n",
       "      <td>79.614367</td>\n",
       "      <td>10.0</td>\n",
       "      <td>Destabilizing</td>\n",
       "      <td>*</td>\n",
       "      <td>N54I</td>\n",
       "      <td>0.995812</td>\n",
       "      <td>0.200956</td>\n",
       "      <td>1.488632</td>\n",
       "      <td>1.718333</td>\n",
       "      <td>*</td>\n",
       "    </tr>\n",
       "    <tr>\n",
       "      <th>1</th>\n",
       "      <td>p.F90L</td>\n",
       "      <td>26.733085</td>\n",
       "      <td>10.0</td>\n",
       "      <td>93.499826</td>\n",
       "      <td>10.0</td>\n",
       "      <td>Destabilizing</td>\n",
       "      <td>*</td>\n",
       "      <td>F90L</td>\n",
       "      <td>0.997973</td>\n",
       "      <td>0.552354</td>\n",
       "      <td>1.522301</td>\n",
       "      <td>7.288333</td>\n",
       "      <td>*</td>\n",
       "    </tr>\n",
       "    <tr>\n",
       "      <th>2</th>\n",
       "      <td>p.D96H</td>\n",
       "      <td>20.352450</td>\n",
       "      <td>10.0</td>\n",
       "      <td>97.764434</td>\n",
       "      <td>10.0</td>\n",
       "      <td>Destabilizing</td>\n",
       "      <td>*</td>\n",
       "      <td>D96H</td>\n",
       "      <td>0.989954</td>\n",
       "      <td>0.660278</td>\n",
       "      <td>1.463660</td>\n",
       "      <td>-0.264333</td>\n",
       "      <td>*</td>\n",
       "    </tr>\n",
       "    <tr>\n",
       "      <th>3</th>\n",
       "      <td>p.D96V</td>\n",
       "      <td>20.000000</td>\n",
       "      <td>10.0</td>\n",
       "      <td>98.000000</td>\n",
       "      <td>10.0</td>\n",
       "      <td>Destabilizing</td>\n",
       "      <td>*</td>\n",
       "      <td>D96V</td>\n",
       "      <td>0.989882</td>\n",
       "      <td>0.666239</td>\n",
       "      <td>1.416388</td>\n",
       "      <td>-1.057000</td>\n",
       "      <td>*</td>\n",
       "    </tr>\n",
       "    <tr>\n",
       "      <th>4</th>\n",
       "      <td>p.N98I</td>\n",
       "      <td>49.073241</td>\n",
       "      <td>10.0</td>\n",
       "      <td>78.568395</td>\n",
       "      <td>10.0</td>\n",
       "      <td>Destabilizing</td>\n",
       "      <td>*</td>\n",
       "      <td>N98I</td>\n",
       "      <td>0.986357</td>\n",
       "      <td>0.174486</td>\n",
       "      <td>0.775686</td>\n",
       "      <td>-1.900667</td>\n",
       "      <td>*</td>\n",
       "    </tr>\n",
       "  </tbody>\n",
       "</table>\n",
       "</div>"
      ],
      "text/plain": [
       "  CaM-variant         Tm  Standard-Deviation-Tm    %Unfold  \\\n",
       "0      p.N54I  47.508275                   10.0  79.614367   \n",
       "1      p.F90L  26.733085                   10.0  93.499826   \n",
       "2      p.D96H  20.352450                   10.0  97.764434   \n",
       "3      p.D96V  20.000000                   10.0  98.000000   \n",
       "4      p.N98I  49.073241                   10.0  78.568395   \n",
       "\n",
       "   Standard-Deviation-%Unfold Stabilizing-vs-Destabilizing Comments   mut  \\\n",
       "0                        10.0                Destabilizing        *  N54I   \n",
       "1                        10.0                Destabilizing        *  F90L   \n",
       "2                        10.0                Destabilizing        *  D96H   \n",
       "3                        10.0                Destabilizing        *  D96V   \n",
       "4                        10.0                Destabilizing        *  N98I   \n",
       "\n",
       "   protbert_score  proteinsolver_score  el2_score  rosetta_dg_score Comment  \n",
       "0        0.995812             0.200956   1.488632          1.718333       *  \n",
       "1        0.997973             0.552354   1.522301          7.288333       *  \n",
       "2        0.989954             0.660278   1.463660         -0.264333       *  \n",
       "3        0.989882             0.666239   1.416388         -1.057000       *  \n",
       "4        0.986357             0.174486   0.775686         -1.900667       *  "
      ]
     },
     "metadata": {},
     "output_type": "display_data"
    },
    {
     "name": "stdout",
     "output_type": "stream",
     "text": [
      "protbert 0.9582104266519309\n"
     ]
    },
    {
     "data": {
      "text/html": [
       "<div>\n",
       "<style scoped>\n",
       "    .dataframe tbody tr th:only-of-type {\n",
       "        vertical-align: middle;\n",
       "    }\n",
       "\n",
       "    .dataframe tbody tr th {\n",
       "        vertical-align: top;\n",
       "    }\n",
       "\n",
       "    .dataframe thead th {\n",
       "        text-align: right;\n",
       "    }\n",
       "</style>\n",
       "<table border=\"1\" class=\"dataframe\">\n",
       "  <thead>\n",
       "    <tr style=\"text-align: right;\">\n",
       "      <th></th>\n",
       "      <th>CaM-variant</th>\n",
       "      <th>Tm</th>\n",
       "      <th>Standard-Deviation-Tm</th>\n",
       "      <th>%Unfold</th>\n",
       "      <th>Standard-Deviation-%Unfold</th>\n",
       "      <th>Stabilizing-vs-Destabilizing</th>\n",
       "      <th>Comments</th>\n",
       "      <th>mut</th>\n",
       "      <th>protbert_score</th>\n",
       "      <th>proteinsolver_score</th>\n",
       "      <th>el2_score</th>\n",
       "      <th>rosetta_dg_score</th>\n",
       "      <th>Comment</th>\n",
       "    </tr>\n",
       "  </thead>\n",
       "  <tbody>\n",
       "    <tr>\n",
       "      <th>0</th>\n",
       "      <td>p.N54I</td>\n",
       "      <td>22.471959</td>\n",
       "      <td>10.0</td>\n",
       "      <td>96.347823</td>\n",
       "      <td>10.0</td>\n",
       "      <td>Destabilizing</td>\n",
       "      <td>*</td>\n",
       "      <td>N54I</td>\n",
       "      <td>0.995812</td>\n",
       "      <td>0.200956</td>\n",
       "      <td>1.488632</td>\n",
       "      <td>1.718333</td>\n",
       "      <td>*</td>\n",
       "    </tr>\n",
       "    <tr>\n",
       "      <th>1</th>\n",
       "      <td>p.F90L</td>\n",
       "      <td>20.362040</td>\n",
       "      <td>10.0</td>\n",
       "      <td>97.758024</td>\n",
       "      <td>10.0</td>\n",
       "      <td>Destabilizing</td>\n",
       "      <td>*</td>\n",
       "      <td>F90L</td>\n",
       "      <td>0.997973</td>\n",
       "      <td>0.552354</td>\n",
       "      <td>1.522301</td>\n",
       "      <td>7.288333</td>\n",
       "      <td>*</td>\n",
       "    </tr>\n",
       "    <tr>\n",
       "      <th>2</th>\n",
       "      <td>p.D96H</td>\n",
       "      <td>28.193893</td>\n",
       "      <td>10.0</td>\n",
       "      <td>92.523469</td>\n",
       "      <td>10.0</td>\n",
       "      <td>Destabilizing</td>\n",
       "      <td>*</td>\n",
       "      <td>D96H</td>\n",
       "      <td>0.989954</td>\n",
       "      <td>0.660278</td>\n",
       "      <td>1.463660</td>\n",
       "      <td>-0.264333</td>\n",
       "      <td>*</td>\n",
       "    </tr>\n",
       "    <tr>\n",
       "      <th>3</th>\n",
       "      <td>p.D96V</td>\n",
       "      <td>28.264212</td>\n",
       "      <td>10.0</td>\n",
       "      <td>92.476471</td>\n",
       "      <td>10.0</td>\n",
       "      <td>Destabilizing</td>\n",
       "      <td>*</td>\n",
       "      <td>D96V</td>\n",
       "      <td>0.989882</td>\n",
       "      <td>0.666239</td>\n",
       "      <td>1.416388</td>\n",
       "      <td>-1.057000</td>\n",
       "      <td>*</td>\n",
       "    </tr>\n",
       "    <tr>\n",
       "      <th>4</th>\n",
       "      <td>p.N98I</td>\n",
       "      <td>31.707601</td>\n",
       "      <td>10.0</td>\n",
       "      <td>90.175022</td>\n",
       "      <td>10.0</td>\n",
       "      <td>Destabilizing</td>\n",
       "      <td>*</td>\n",
       "      <td>N98I</td>\n",
       "      <td>0.986357</td>\n",
       "      <td>0.174486</td>\n",
       "      <td>0.775686</td>\n",
       "      <td>-1.900667</td>\n",
       "      <td>*</td>\n",
       "    </tr>\n",
       "  </tbody>\n",
       "</table>\n",
       "</div>"
      ],
      "text/plain": [
       "  CaM-variant         Tm  Standard-Deviation-Tm    %Unfold  \\\n",
       "0      p.N54I  22.471959                   10.0  96.347823   \n",
       "1      p.F90L  20.362040                   10.0  97.758024   \n",
       "2      p.D96H  28.193893                   10.0  92.523469   \n",
       "3      p.D96V  28.264212                   10.0  92.476471   \n",
       "4      p.N98I  31.707601                   10.0  90.175022   \n",
       "\n",
       "   Standard-Deviation-%Unfold Stabilizing-vs-Destabilizing Comments   mut  \\\n",
       "0                        10.0                Destabilizing        *  N54I   \n",
       "1                        10.0                Destabilizing        *  F90L   \n",
       "2                        10.0                Destabilizing        *  D96H   \n",
       "3                        10.0                Destabilizing        *  D96V   \n",
       "4                        10.0                Destabilizing        *  N98I   \n",
       "\n",
       "   protbert_score  proteinsolver_score  el2_score  rosetta_dg_score Comment  \n",
       "0        0.995812             0.200956   1.488632          1.718333       *  \n",
       "1        0.997973             0.552354   1.522301          7.288333       *  \n",
       "2        0.989954             0.660278   1.463660         -0.264333       *  \n",
       "3        0.989882             0.666239   1.416388         -1.057000       *  \n",
       "4        0.986357             0.174486   0.775686         -1.900667       *  "
      ]
     },
     "metadata": {},
     "output_type": "display_data"
    },
    {
     "name": "stdout",
     "output_type": "stream",
     "text": [
      "rosetta_dg 0\n"
     ]
    },
    {
     "data": {
      "text/html": [
       "<div>\n",
       "<style scoped>\n",
       "    .dataframe tbody tr th:only-of-type {\n",
       "        vertical-align: middle;\n",
       "    }\n",
       "\n",
       "    .dataframe tbody tr th {\n",
       "        vertical-align: top;\n",
       "    }\n",
       "\n",
       "    .dataframe thead th {\n",
       "        text-align: right;\n",
       "    }\n",
       "</style>\n",
       "<table border=\"1\" class=\"dataframe\">\n",
       "  <thead>\n",
       "    <tr style=\"text-align: right;\">\n",
       "      <th></th>\n",
       "      <th>CaM-variant</th>\n",
       "      <th>Tm</th>\n",
       "      <th>Standard-Deviation-Tm</th>\n",
       "      <th>%Unfold</th>\n",
       "      <th>Standard-Deviation-%Unfold</th>\n",
       "      <th>Stabilizing-vs-Destabilizing</th>\n",
       "      <th>Comments</th>\n",
       "      <th>mut</th>\n",
       "      <th>protbert_score</th>\n",
       "      <th>proteinsolver_score</th>\n",
       "      <th>el2_score</th>\n",
       "      <th>rosetta_dg_score</th>\n",
       "      <th>Comment</th>\n",
       "    </tr>\n",
       "  </thead>\n",
       "  <tbody>\n",
       "    <tr>\n",
       "      <th>0</th>\n",
       "      <td>p.N54I</td>\n",
       "      <td>49.958015</td>\n",
       "      <td>10.0</td>\n",
       "      <td>77.977041</td>\n",
       "      <td>10.0</td>\n",
       "      <td>Destabilizing</td>\n",
       "      <td>*</td>\n",
       "      <td>N54I</td>\n",
       "      <td>0.995812</td>\n",
       "      <td>0.200956</td>\n",
       "      <td>1.488632</td>\n",
       "      <td>1.718333</td>\n",
       "      <td>*</td>\n",
       "    </tr>\n",
       "    <tr>\n",
       "      <th>1</th>\n",
       "      <td>p.F90L</td>\n",
       "      <td>20.000000</td>\n",
       "      <td>10.0</td>\n",
       "      <td>98.000000</td>\n",
       "      <td>10.0</td>\n",
       "      <td>Destabilizing</td>\n",
       "      <td>*</td>\n",
       "      <td>F90L</td>\n",
       "      <td>0.997973</td>\n",
       "      <td>0.552354</td>\n",
       "      <td>1.522301</td>\n",
       "      <td>7.288333</td>\n",
       "      <td>*</td>\n",
       "    </tr>\n",
       "    <tr>\n",
       "      <th>2</th>\n",
       "      <td>p.D96H</td>\n",
       "      <td>60.621706</td>\n",
       "      <td>10.0</td>\n",
       "      <td>70.849778</td>\n",
       "      <td>10.0</td>\n",
       "      <td>Stabilizing</td>\n",
       "      <td>*</td>\n",
       "      <td>D96H</td>\n",
       "      <td>0.989954</td>\n",
       "      <td>0.660278</td>\n",
       "      <td>1.463660</td>\n",
       "      <td>-0.264333</td>\n",
       "      <td>*</td>\n",
       "    </tr>\n",
       "    <tr>\n",
       "      <th>3</th>\n",
       "      <td>p.D96V</td>\n",
       "      <td>64.885031</td>\n",
       "      <td>10.0</td>\n",
       "      <td>68.000311</td>\n",
       "      <td>10.0</td>\n",
       "      <td>Stabilizing</td>\n",
       "      <td>*</td>\n",
       "      <td>D96V</td>\n",
       "      <td>0.989882</td>\n",
       "      <td>0.666239</td>\n",
       "      <td>1.416388</td>\n",
       "      <td>-1.057000</td>\n",
       "      <td>*</td>\n",
       "    </tr>\n",
       "    <tr>\n",
       "      <th>4</th>\n",
       "      <td>p.N98I</td>\n",
       "      <td>69.422657</td>\n",
       "      <td>10.0</td>\n",
       "      <td>64.967510</td>\n",
       "      <td>10.0</td>\n",
       "      <td>Stabilizing</td>\n",
       "      <td>*</td>\n",
       "      <td>N98I</td>\n",
       "      <td>0.986357</td>\n",
       "      <td>0.174486</td>\n",
       "      <td>0.775686</td>\n",
       "      <td>-1.900667</td>\n",
       "      <td>*</td>\n",
       "    </tr>\n",
       "  </tbody>\n",
       "</table>\n",
       "</div>"
      ],
      "text/plain": [
       "  CaM-variant         Tm  Standard-Deviation-Tm    %Unfold  \\\n",
       "0      p.N54I  49.958015                   10.0  77.977041   \n",
       "1      p.F90L  20.000000                   10.0  98.000000   \n",
       "2      p.D96H  60.621706                   10.0  70.849778   \n",
       "3      p.D96V  64.885031                   10.0  68.000311   \n",
       "4      p.N98I  69.422657                   10.0  64.967510   \n",
       "\n",
       "   Standard-Deviation-%Unfold Stabilizing-vs-Destabilizing Comments   mut  \\\n",
       "0                        10.0                Destabilizing        *  N54I   \n",
       "1                        10.0                Destabilizing        *  F90L   \n",
       "2                        10.0                  Stabilizing        *  D96H   \n",
       "3                        10.0                  Stabilizing        *  D96V   \n",
       "4                        10.0                  Stabilizing        *  N98I   \n",
       "\n",
       "   protbert_score  proteinsolver_score  el2_score  rosetta_dg_score Comment  \n",
       "0        0.995812             0.200956   1.488632          1.718333       *  \n",
       "1        0.997973             0.552354   1.522301          7.288333       *  \n",
       "2        0.989954             0.660278   1.463660         -0.264333       *  \n",
       "3        0.989882             0.666239   1.416388         -1.057000       *  \n",
       "4        0.986357             0.174486   0.775686         -1.900667       *  "
      ]
     },
     "metadata": {},
     "output_type": "display_data"
    }
   ],
   "source": [
    "result_dfs = {}\n",
    "for i, metric in enumerate([\"el2\", \"proteinsolver\", \"protbert\", \"rosetta_dg\"]):\n",
    "    result_dfs[metric] = result_df.copy()\n",
    "\n",
    "    starting_tm = 59.2\n",
    "    starting_unfold = 71.8\n",
    "\n",
    "    max_ddg = result_dfs[metric][f\"{metric}_score\"].max()\n",
    "    min_ddg = max(0, result_dfs[metric][f\"{metric}_score\"].min())\n",
    "#     assert min_ddg > 0\n",
    "\n",
    "    tm_scale = (starting_tm - 20) / (max_ddg - min_ddg)\n",
    "    unfold_scale = (98 - starting_unfold) / (max_ddg - min_ddg)\n",
    "\n",
    "    result_dfs[metric][\"Tm\"] = starting_tm - tm_scale * (\n",
    "        result_dfs[metric][f\"{metric}_score\"].values - min_ddg\n",
    "    )\n",
    "    result_dfs[metric][\"Standard-Deviation-Tm\"] = 10.0\n",
    "    result_dfs[metric][\"%Unfold\"] = starting_unfold + unfold_scale * (\n",
    "        result_dfs[metric][f\"{metric}_score\"].values - min_ddg\n",
    "    )\n",
    "    result_dfs[metric][\"Standard-Deviation-%Unfold\"] = 10.0\n",
    "    result_dfs[metric][\"Stabilizing-vs-Destabilizing\"] = [\n",
    "        (\"Destabilizing\" if ddg > 0 else \"Stabilizing\")\n",
    "        for ddg in result_dfs[metric][f\"{metric}_score\"].values\n",
    "    ]\n",
    "    result_dfs[metric][\"Comment\"] = \"*\"\n",
    "\n",
    "    print(metric, min_ddg)\n",
    "    display(result_dfs[metric].head())\n",
    "\n",
    "    output_file = output_dir.joinpath(f\"strokach_modelnumber_{i + 1}.tsv\")\n",
    "    result_dfs[metric][result_template_df.columns].to_csv(output_file, sep=\"\\t\", index=False)\n",
    "#     !python {NOTEBOOK_DIR}/validation.py {output_file}"
   ]
  },
  {
   "cell_type": "code",
   "execution_count": 32,
   "id": "30534135-96c0-4bae-a66c-6b369c76a2e3",
   "metadata": {},
   "outputs": [
    {
     "name": "stdout",
     "output_type": "stream",
     "text": [
      "el2\n",
      "proteinsolver\n",
      "protbert\n",
      "rosetta_dg\n"
     ]
    },
    {
     "data": {
      "image/png": "[encoded data removed]",
      "text/plain": [
       "<Figure size 720x216 with 2 Axes>"
      ]
     },
     "metadata": {},
     "output_type": "display_data"
    },
    {
     "data": {
      "image/png": "[encoded data removed]",
      "text/plain": [
       "<Figure size 720x216 with 2 Axes>"
      ]
     },
     "metadata": {},
     "output_type": "display_data"
    },
    {
     "data": {
      "image/png": "[encoded data removed]",
      "text/plain": [
       "<Figure size 720x216 with 2 Axes>"
      ]
     },
     "metadata": {},
     "output_type": "display_data"
    },
    {
     "data": {
      "image/png": "[encoded data removed]",
      "text/plain": [
       "<Figure size 720x216 with 2 Axes>"
      ]
     },
     "metadata": {},
     "output_type": "display_data"
    }
   ],
   "source": [
    "for metric, df in result_dfs.items():\n",
    "    print(metric)\n",
    "    \n",
    "    fig, axs = plt.subplots(1, 2, figsize=(10, 3))\n",
    "    \n",
    "    ax = axs[0]\n",
    "    ax.hist(df[\"Tm\"])\n",
    "    ax.set_xlabel(\"Tm\")\n",
    "    \n",
    "    ax = axs[1]\n",
    "    ax.hist(df[\"%Unfold\"])\n",
    "    ax.set_xlabel(\"%unfold\")"
   ]
  },
  {
   "cell_type": "code",
   "execution_count": null,
   "id": "91a73779-31f1-429a-9f0a-3a0f127b7bda",
   "metadata": {},
   "outputs": [],
   "source": []
  }
 ],
 "metadata": {
  "kernelspec": {
   "display_name": "Python 3 (ipykernel)",
   "language": "python",
   "name": "python3"
  },
  "language_info": {
   "codemirror_mode": {
    "name": "ipython",
    "version": 3
   },
   "file_extension": ".py",
   "mimetype": "text/x-python",
   "name": "python",
   "nbconvert_exporter": "python",
   "pygments_lexer": "ipython3",
   "version": "3.9.6"
  }
 },
 "nbformat": 4,
 "nbformat_minor": 5
}
