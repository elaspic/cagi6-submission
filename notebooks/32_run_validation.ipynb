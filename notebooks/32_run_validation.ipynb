{
 "cells": [
  {
   "cell_type": "markdown",
   "id": "66b1f8b0-6e6d-407e-bc61-9a8320cfb8f3",
   "metadata": {},
   "source": [
    "## Summary\n",
    "\n",
    "---"
   ]
  },
  {
   "cell_type": "markdown",
   "id": "18592f30-068c-4280-8ebd-030fd77b4e00",
   "metadata": {},
   "source": [
    "## Imports"
   ]
  },
  {
   "cell_type": "code",
   "execution_count": null,
   "id": "9c5543e4-f6ba-46d6-b1bd-fcaba96c2654",
   "metadata": {},
   "outputs": [],
   "source": [
    "from pathlib import Path\n",
    "\n",
    "import pandas as pd\n",
    "import pyarrow as pa\n",
    "import pyarrow.parquet as pq\n",
    "from tqdm.auto import tqdm"
   ]
  },
  {
   "cell_type": "code",
   "execution_count": null,
   "id": "54361ffc-160f-4f2b-8344-0d7b6b788b37",
   "metadata": {},
   "outputs": [],
   "source": [
    "pd.set_option(\"max_columns\", 1000)\n",
    "pd.set_option(\"max_rows\", 2000)"
   ]
  },
  {
   "cell_type": "markdown",
   "id": "0b411830-a521-403d-9529-5e9847c41a09",
   "metadata": {},
   "source": [
    "## Parameters"
   ]
  },
  {
   "cell_type": "code",
   "execution_count": null,
   "id": "d6d4bf20-3b53-45f7-b355-ea7c27606ca1",
   "metadata": {},
   "outputs": [],
   "source": [
    "NOTEBOOK_DIR = Path(\"32_run_validation\").resolve()\n",
    "# NOTEBOOK_DIR.mkdir(exist_ok=True)\n",
    "\n",
    "NOTEBOOK_DIR"
   ]
  },
  {
   "cell_type": "code",
   "execution_count": null,
   "id": "639841a0-415e-4397-99c9-6f25b437e882",
   "metadata": {},
   "outputs": [],
   "source": [
    "DATA_DIR = NOTEBOOK_DIR.parent\n",
    "# DATA_DIR = Path(\"/lustre07/scratch/sunyun/workspace/elaspic2-cagi6/notebooks\")"
   ]
  },
  {
   "cell_type": "code",
   "execution_count": null,
   "id": "94fdf2bc-3a7c-4630-8894-37ebb0119a89",
   "metadata": {},
   "outputs": [],
   "source": [
    "# MODEL_NOTEBOOK_NAME = \"31_run_proteinsolver\"\n",
    "# MODEL_NOTEBOOK_NAME = \"31_run_protbert\"\n",
    "# MODEL_NOTEBOOK_NAME = \"31_run_msa_analysis\"\n",
    "MODEL_NOTEBOOK_NAME = \"31_run_alphafold\"\n",
    "# MODEL_NOTEBOOK_NAME = \"31_run_alphafold_wt\"\n",
    "# MODEL_NOTEBOOK_NAME = \"31_run_alphafold_wt_template\"\n",
    "# MODEL_NOTEBOOK_NAME = \"31_run_rosetta_ddg\"\n",
    "\n",
    "MODEL_NOTEBOOK_NAME"
   ]
  },
  {
   "cell_type": "code",
   "execution_count": null,
   "id": "ea03aa09-8567-4c1c-81a7-113fea87a06c",
   "metadata": {},
   "outputs": [],
   "source": [
    "DATASET_NAME = \"cagi6-sherloc\"\n",
    "DATASET_PATH = str(\n",
    "    NOTEBOOK_DIR.parent.joinpath(\"30_cagi6_sherloc\", \"input-data-gby-protein.parquet\")\n",
    ")\n",
    "TASK_COUNT = 4182\n",
    "\n",
    "DATASET_NAME, DATASET_PATH, TASK_COUNT"
   ]
  },
  {
   "cell_type": "code",
   "execution_count": null,
   "id": "1527e31e-5fca-49f6-b3ab-12ff5aa325f3",
   "metadata": {},
   "outputs": [],
   "source": [
    "# DATASET_NAME = \"humsavar\"\n",
    "# DATASET_PATH = str(\n",
    "#     NOTEBOOK_DIR.parent.joinpath(\"30_humsavar\", \"humsavar-gby-protein.parquet\")\n",
    "# )\n",
    "\n",
    "# if \"msa\" in MODEL_NOTEBOOK_NAME or \"alphafold\" in MODEL_NOTEBOOK_NAME:\n",
    "#     TASK_COUNT = 12557\n",
    "# else:\n",
    "#     TASK_COUNT = 612\n",
    "\n",
    "\n",
    "# DATASET_NAME, DATASET_PATH, TASK_COUNT"
   ]
  },
  {
   "cell_type": "code",
   "execution_count": null,
   "id": "c233511c-c34c-4d28-b1c8-9df726022a38",
   "metadata": {},
   "outputs": [],
   "source": [
    "if \"msa\" in MODEL_NOTEBOOK_NAME:\n",
    "    prefix = \"result\"\n",
    "elif \"31_run_alphafold\":\n",
    "    prefix = \"results\"\n",
    "else:\n",
    "    prefix = \"shard\""
   ]
  },
  {
   "cell_type": "markdown",
   "id": "3862ae82-bfe5-4082-840f-daf7e947f4dd",
   "metadata": {},
   "source": [
    "## Workspace"
   ]
  },
  {
   "cell_type": "code",
   "execution_count": null,
   "id": "f30b2090-8afc-463d-8891-81646b23aa86",
   "metadata": {},
   "outputs": [],
   "source": [
    "present_files = []\n",
    "missing_files = []\n",
    "for i in tqdm(range(1, TASK_COUNT + 1)):\n",
    "    path = DATA_DIR.joinpath(\n",
    "        MODEL_NOTEBOOK_NAME, DATASET_NAME, f\"{prefix}-{i}-of-{TASK_COUNT}.parquet\"\n",
    "    )\n",
    "    if path.is_file():\n",
    "        present_files.append((i, path))\n",
    "    else:\n",
    "        missing_files.append((i, path))"
   ]
  },
  {
   "cell_type": "code",
   "execution_count": null,
   "id": "57b7f731-f1fb-45af-bfcd-4b96c44c7b4f",
   "metadata": {},
   "outputs": [],
   "source": [
    "len(present_files), len(missing_files)"
   ]
  },
  {
   "cell_type": "markdown",
   "id": "d82f63db-5476-4cdc-9627-d802b117c2fd",
   "metadata": {},
   "source": [
    "**cagi6-sherloc**\n",
    "\n",
    "| model | finished | running |\n",
    "| - | - | - |\n",
    "| proteinsolver | 4182 | 0 |\n",
    "| protbert | 4182 | 0 |\n",
    "| rosetta | 4182 | 0 |\n",
    "| msa | 4182 | 0 |\n",
    "| alphafold | 2833 | 1349 |\n",
    "| alphafold_wt | 4182 | 0 |\n",
    "| alphafold_wt_template | 3405 | 777 |\n",
    "\n",
    "**humsavar**\n",
    "\n",
    "| model | finished | running |\n",
    "| - | - | - |\n",
    "| proteinsolver | 612 | 0 |\n",
    "| protbert | 612 | 0 |\n",
    "| rosetta | 612 | 0 |\n",
    "| msa | 12557 | 0 |\n",
    "| alphafold_wt | 12557 | 0 |\n",
    "| alphafold_wt_template | 12557 | 0 |"
   ]
  },
  {
   "cell_type": "code",
   "execution_count": null,
   "id": "da876953-a24f-4bac-80bc-e1cc18011273",
   "metadata": {},
   "outputs": [],
   "source": [
    "\",\".join([str(m[0]) for m in missing_files])"
   ]
  },
  {
   "cell_type": "code",
   "execution_count": null,
   "id": "5af60d76-9856-4e99-a158-959ac66da16b",
   "metadata": {},
   "outputs": [],
   "source": []
  },
  {
   "cell_type": "code",
   "execution_count": null,
   "id": "223f7df9-3958-4ce8-bc4e-34a802b3bbda",
   "metadata": {},
   "outputs": [],
   "source": []
  },
  {
   "cell_type": "code",
   "execution_count": null,
   "id": "1a00b5f6-dd99-4b21-b289-56a6179069ef",
   "metadata": {},
   "outputs": [],
   "source": []
  },
  {
   "cell_type": "code",
   "execution_count": null,
   "id": "c733b233-6494-448e-90da-38154ccf6934",
   "metadata": {},
   "outputs": [],
   "source": [
    "nums = [m[0] - 10_000 for m in missing_files]\n",
    "\n",
    "\",\".join([str(i) for i in nums])"
   ]
  },
  {
   "cell_type": "markdown",
   "id": "9432c224-b40f-48a0-b8c9-b97763623d52",
   "metadata": {},
   "source": [
    "```bash\n",
    "export NOTEBOOK_PATH=\"$(realpath 31_run_alphafold_wt.ipynb)\"\n",
    "export DATASET_NAME=\"humsavar\"\n",
    "export DATASET_PATH=\"30_humsavar/humsavar-gby-protein-waln.parquet\"\n",
    "export ORIGINAL_ARRAY_TASK_COUNT=12557\n",
    "\n",
    "sbatch --export NOTEBOOK_PATH,DATASET_NAME,DATASET_PATH,ORIGINAL_ARRAY_TASK_COUNT --array=206,640,663,1335,1732,1900,1932,2083,2541,2624,2970,3553,3959,4686,4731,5204,5212,5214,5215,5216,5217,5218,5219,5226,5227,5230,5237,5238,5244,5248,5276,5455,5496,6135 --time 3:00:00 --gres=gpu:v100l:1 --mem=24G ../scripts/run_notebook_gpu.sh\n",
    "\n",
    "sbatch --export NOTEBOOK_PATH,DATASET_NAME,DATASET_PATH,ORIGINAL_ARRAY_TASK_COUNT --array=8896,9056,9295 --time 3:00:00 --gres=gpu:v100l:1 --mem=32G ../scripts/run_notebook_gpu.sh\n",
    "\n",
    "export ARRAY_TASK_OFFSET=10000\n",
    "sbatch --export NOTEBOOK_PATH,DATASET_NAME,DATASET_PATH,ORIGINAL_ARRAY_TASK_COUNT,ARRAY_TASK_OFFSET --array=506,652,721,742,796,809,829,833,858,859,864,891,904,917,923,952,967,972,973,976,998 --time 12:00:00 --gres=gpu:v100l:1 --mem=42G ../scripts/run_notebook_gpu.sh\n",
    "\n",
    "export ARRAY_TASK_OFFSET=10000\n",
    "sbatch --export NOTEBOOK_PATH,DATASET_NAME,DATASET_PATH,ORIGINAL_ARRAY_TASK_COUNT,ARRAY_TASK_OFFSET --array=2126,2159,2170,2197,2212,2217,2264,2278,2279,2282,2284,2288,2289,2302,2323,2326,2329,2340,2347,2354,2360,2362,2365,2371,2373,2378,2380,2382,2390,2392,2393,2396,2398,2399,2400,2404,2405,2406,2407,2408,2409,2410,2411,2412,2413,2414,2415,2416,2417,2418,2419,2420,2421,2422,2423,2424,2425,2426,2427,2428,2429,2430,2431,2432,2433,2434,2435,2436,2437,2438,2439,2440,2441,2442,2443,2444,2445,2446,2447,2448,2449,2450,2451,2452,2453,2454,2455,2456,2457,2458,2459,2460,2461,2462,2463,2464,2465,2466,2467,2468,2469,2470,2471,2472,2473,2474,2475,2476,2477,2478,2479,2480,2481,2482,2483,2484,2485,2486,2487,2488,2489,2490,2491,2492,2493,2494,2495,2496,2497,2498,2499,2500,2501,2502,2503,2504,2505,2506,2507,2508,2509,2510,2511,2512,2513,2514,2515,2516,2517,2518,2519,2520,2521,2522,2523,2524,2525,2526,2527,2528,2529,2530,2531,2532,2533,2534,2535,2536,2537,2538,2539,2540,2541,2542,2543,2544,2545,2546,2547,2548,2549,2550,2551,2552,2553,2554,2555,2556,2557 --time 72:00:00 --gres=gpu:v100l:1 --mem=92G ../scripts/run_notebook_gpu.sh\n",
    "\n",
    "\n",
    "export NOTEBOOK_PATH=\"$(realpath 31_run_protbert.ipynb)\"\n",
    "export DATASET_NAME=\"humsavar\"\n",
    "export DATASET_PATH=\"30_humsavar/humsavar-gby-protein.parquet\"\n",
    "export ORIGINAL_ARRAY_TASK_COUNT=612\n",
    "\n",
    "sbatch --export DATASET_NAME,DATASET_PATH,NOTEBOOK_PATH,ORIGINAL_ARRAY_TASK_COUNT --job-name=protbert --array=409,425,465,486,495,509 --ntasks-per-node=32 --mem=110G --time=24:00:00 ../scripts/run_notebook_cpu.sh\n",
    "\n",
    "\n",
    "export NOTEBOOK_PATH=\"$(realpath 31_run_rosetta_ddg.ipynb)\"\n",
    "export DATASET_NAME=\"humsavar\"\n",
    "export DATASET_PATH=\"30_humsavar/humsavar-gby-protein.parquet\"\n",
    "export ORIGINAL_ARRAY_TASK_COUNT=612\n",
    "\n",
    "sbatch --export DATASET_NAME,DATASET_PATH,NOTEBOOK_PATH,ORIGINAL_ARRAY_TASK_COUNT --job-name=protbert --array=13,36,45,46,50,57,61,62,65,69,186,363,364 --ntasks-per-node=10 --mem=20G --time=24:00:00 ../scripts/run_notebook_cpu.sh\n",
    "```"
   ]
  },
  {
   "cell_type": "code",
   "execution_count": null,
   "id": "97e4ed27-87d0-4589-9fc0-9d8a7680fe2c",
   "metadata": {},
   "outputs": [],
   "source": []
  },
  {
   "cell_type": "code",
   "execution_count": null,
   "id": "5cbe9624-ec6c-4d58-b43d-d4c2c975ac37",
   "metadata": {},
   "outputs": [],
   "source": []
  },
  {
   "cell_type": "markdown",
   "id": "79db4f3d-8e3b-43d7-a8e3-9a7bdb854c76",
   "metadata": {
    "tags": []
   },
   "source": [
    "## AlphaFold\n",
    "\n",
    "p100 / 56G\n",
    "t4 / 46G\n",
    "v100 / 44G\n",
    "\n",
    "### Round 1\n",
    "\n",
    "```bash\n",
    "# ✓ graham\n",
    "export NOTEBOOK_PATH=\"$(realpath 31_run_alphafold.ipynb)\"\n",
    "export DATASET_NAME=\"cagi6-sherloc\"\n",
    "export DATASET_PATH=\"30_cagi6_sherloc/input-data-gby-protein.parquet\"\n",
    "export ORIGINAL_ARRAY_TASK_COUNT=4182\n",
    "\n",
    "sbatch --export DATASET_NAME,DATASET_PATH,NOTEBOOK_PATH,ORIGINAL_ARRAY_TASK_COUNT --time 24:00:00 --mem=56G --gres=gpu:p100:1 --array=493,940,1098,1900,1901,1902,1903,1905,1908,1909,1910,1911,1913,1914,1915,1919,1920,1922,1923,1924,1926,1927,1928,1933,1934,1935,1937,1939,1941,1942,1945,1946,1947,1949,1950,1951,1952,1956,1957,1958,1959,1961,1964,1966,1967,1970,1972,1982,1991,1999,2004,2012,2013,2014,2015,2017,2021,2022,2026,2027,2034,2042,2046,2047,2051,2054,2058,2059,2064,2068,2071,2072,2073,2074,2078,2079,2081,2083,2084,2085,2087,2089,2090,2091,2095,2100,2101,2102,2103,2105,2114,2118,2119,2123,2127,2128,2129,2130,2132,2133,2134,2135,2137,2138,2139,2143,2148,2150,2155,2160,2161,2162,2166,2181,2186,2188,2189,2191,2195,2205,2207,2215,2281,2283,2286,2297,2376,2386,2395,2405,2412,2414,2416,2418,2422,2423,2427,2428,2438,2439,2444,2445,2450,2451,2453,2454,2459,2460,2464,2465,2471,2472,2473,2474,2475,2476,2484,2485,2486,2493,2495,2496,2500,2502,2506,2507,2510,2511,2512,2515,2516,2523,2524,2526,2527,2532,2533,2543,2544,2548,2550,2556,2557,2570,2572,2575,2576,2588,2591,2602,2604,2605,2606,2607,2608,2609,2615,2616,2617,2625,2628,2630,2635,2636,2637,2642,2643,2644,2645,2654,2655,2659,2660,2661,2662,2663,2664,2665,2666,2667,2668,2669,2670,2671,2672,2673,2674,2675,2676,2677,2678,2679,2680,2681,2682,2683,2684,2685,2686,2687,2688,2689,2690,2691,2692,2693,2694,2695,2696,2697,2698,2699,2700 ../scripts/run_notebook_gpu.sh\n",
    "\n",
    "\n",
    "# cedar\n",
    "export NOTEBOOK_PATH=\"$(realpath 31_run_alphafold.ipynb)\"\n",
    "export DATASET_NAME=\"cagi6-sherloc\"\n",
    "export DATASET_PATH=\"30_cagi6_sherloc/input-data-gby-protein.parquet\"\n",
    "export ORIGINAL_ARRAY_TASK_COUNT=4182\n",
    "\n",
    "sbatch --export DATASET_NAME,DATASET_PATH,NOTEBOOK_PATH,ORIGINAL_ARRAY_TASK_COUNT --time 24:00:00 --mem=28G --gres=gpu:p100:1 --array=2701,2702,2703,2704,2705,2706,2707,2708,2709,2710,2711,2712,2713,2714,2715,2716,2717,2718,2719,2720,2721,2722,2723,2724,2725,2726,2727,2728,2729,2730,2731,2732,2733,2734,2735,2736,2737,2738,2739,2740,2741,2742,2743,2744,2745,2746,2747,2748,2749,2750,2751,2752,2753,2754,2755,2756,2757,2758,2759,2760,2761,2762,2763,2764,2765,2766,2767,2768,2769,2770,2771,2772,2773,2774,2775,2776,2777,2778,2779,2780,2781,2782,2783,2784,2785,2786,2787,2788,2789,2790,2791,2792,2793,2794,2795,2796,2797,2798,2799,2800,2801,2802,2803,2804,2805,2806,2807,2808,2809,2810,2811,2812,2813,2814,2815,2816,2817,2818,2819,2820,2821,2822,2823,2824,2825,2826,2827,2828,2829,2830,2831,2832,2833,2834,2835,2836,2837,2838,2839,2840,2841,2842,2843,2844,2845,2846,2847,2848,2849,2850,2851,2852,2853,2854,2855,2856,2857,2858,2859,2860,2861,2862,2863,2864,2865,2866,2867,2868,2869,2870,2871,2872,2873,2874,2875,2876,2877,2878,2879,2880,2881,2882,2883,2884,2885,2886,2887,2888,2889,2890,2891,2892,2893,2894,2895,2896,2897,2898,2899,2900,2901,2902,2903,2904,2905,2906,2907,2908,2909,2910,2911,2912,2913,2914,2915,2916,2917,2918,2919,2920,2921,2922,2923,2924,2925,2926,2927,2928,2929,2930,2931,2932,2933,2934,2935,2936,2937,2938,2939,2940,2941,2942,2943,2944,2945,2946,2947,2948,2949,2950,2951,2952,2953,2954,2955,2956,2957,2958,2959,2960,2961,2962,2963,2964,2965,2966,2967,2968,2969,2970,2971,2972,2973,2974,2975,2976,2977,2978,2979,2980,2981,2982,2983,2984,2985,2986,2987,2988,2989,2990,2991,2992,2993,2994,2995,2996,2997,2998,2999,3000 ../scripts/run_notebook_gpu.sh\n",
    "\n",
    "\n",
    "# ✓ graham\n",
    "export NOTEBOOK_PATH=\"$(realpath 31_run_alphafold.ipynb)\"\n",
    "export DATASET_NAME=\"cagi6-sherloc\"\n",
    "export DATASET_PATH=\"30_cagi6_sherloc/input-data-gby-protein.parquet\"\n",
    "export ORIGINAL_ARRAY_TASK_COUNT=4182\n",
    "\n",
    "sbatch --export DATASET_NAME,DATASET_PATH,NOTEBOOK_PATH,ORIGINAL_ARRAY_TASK_COUNT --time 72:00:00 --mem=46G --gres=gpu:t4:1 --array=3014,3017,3020,3021,3023,3024,3033,3036,3039,3044,3045,3047,3051,3052,3054,3058,3064,3065,3066,3068,3071,3072,3075,3078,3081,3082,3085,3088,3090,3091,3096,3097,3099,3100,3105,3112,3118,3120,3123,3126,3143,3147,3152,3160,3178,3183,3195,3198,3205,3209,3217,3220,3221,3222,3223,3224,3225,3226,3227,3228,3229,3230,3231,3232,3233,3234,3235,3236,3237,3238,3239,3240,3241,3242,3243,3244,3245,3246,3247,3248,3249,3250,3251,3252,3253,3254,3255,3256,3257,3258,3259,3260,3261,3262,3263,3264,3265,3266,3267,3268,3269,3270,3271,3272,3273,3274,3275,3276,3277,3278,3279,3280,3281,3282,3283,3284,3285,3286,3287,3288,3289,3290,3291,3292,3293,3294,3295,3296,3297,3298,3299,3300,3301,3302,3303,3304,3305,3306,3307,3308,3309,3310,3311,3312,3313,3314,3315,3316,3317,3318,3319,3320,3321,3322,3323,3324,3325,3326,3327,3328,3329,3330,3331,3332,3333,3334,3335,3336,3337,3338,3339,3340,3341,3342,3343,3344,3345,3346,3347,3348,3349,3350,3351,3352,3353,3354,3355,3356,3357,3358,3359,3360,3361,3362,3363,3364,3365,3366,3367,3368,3369,3370,3371,3372,3373,3374,3375,3376,3377,3378,3379,3380,3381,3382,3383,3384,3385,3386,3387,3388,3389,3390,3391,3392,3393,3394,3395,3396,3397,3398,3399,3400 ../scripts/run_notebook_gpu.sh\n",
    "\n",
    "\n",
    "# ✓ cedar ✓\n",
    "export NOTEBOOK_PATH=\"$(realpath 31_run_alphafold.ipynb)\"\n",
    "export DATASET_NAME=\"cagi6-sherloc\"\n",
    "export DATASET_PATH=\"30_cagi6_sherloc/input-data-gby-protein.parquet\"\n",
    "export ORIGINAL_ARRAY_TASK_COUNT=4182\n",
    "\n",
    "sbatch --export DATASET_NAME,DATASET_PATH,NOTEBOOK_PATH,ORIGINAL_ARRAY_TASK_COUNT --time 24:00:00 --mem=44G --gres=gpu:v100:1 --array=3401,3402,3403,3404,3405,3406,3407,3408,3409,3410,3411,3412,3413,3414,3415,3416,3417,3418,3419,3420,3421,3422,3423,3424,3425,3426,3427,3428,3429,3430,3431,3432,3433,3434,3435,3436,3437,3438,3439,3440,3441,3442,3443,3444,3445,3446 ../scripts/run_notebook_gpu.sh\n",
    "\n",
    "\n",
    "# ✓ beluga ✓\n",
    "export NOTEBOOK_PATH=\"$(realpath 31_run_alphafold.ipynb)\"\n",
    "export DATASET_NAME=\"cagi6-sherloc\"\n",
    "export DATASET_PATH=\"30_cagi6_sherloc/input-data-gby-protein.parquet\"\n",
    "export ORIGINAL_ARRAY_TASK_COUNT=4182\n",
    "\n",
    "sbatch --export DATASET_NAME,DATASET_PATH,NOTEBOOK_PATH,ORIGINAL_ARRAY_TASK_COUNT --time 24:00:00 --mem=44G --gres=gpu:v100:1 --array=3701,3702,3703,3704,3705,3706,3707,3708,3709,3710,3711,3712,3713,3714,3715,3716,3717,3718,3719,3720,3721,3722,3723,3724,3725,3726,3727,3728,3729,3730,3731,3732,3733,3734,3735,3736,3737,3738,3739,3740,3741,3742,3743,3744,3745,3746,3747,3748,3749,3750,3751,3752,3753,3754,3755,3756,3757,3758,3759,3760,3761,3762,3763,3764,3765,3766,3767,3768,3769,3770,3771,3772,3773,3774,3775,3776,3777,3778,3779,3780,3781,3782,3783,3784,3785,3786,3787,3788,3789,3790,3791,3792,3793,3794,3795,3796,3797,3798,3799,3800,3801,3802,3803,3804,3805,3806,3807,3808,3809,3810,3811,3812,3813,3814,3815,3816,3817,3818,3819,3820,3821,3822,3823,3824,3825,3826,3827,3828,3829,3830,3831,3832,3833,3834,3835,3836,3837,3838,3839,3840,3841,3842,3843,3844,3845,3846,3847,3848,3849,3850,3851,3852,3853,3854,3855,3856,3857,3858,3859,3860,3861,3862,3863,3864,3865,3866,3867,3868,3869,3870,3871,3872,3873,3874,3875,3876,3877,3878,3879,3880,3881,3882,3883,3884,3885,3886,3887,3888,3889,3890,3891,3892,3893,3894,3895,3896,3897,3898,3899,3900,3901,3902,3903,3904,3905,3906,3907,3908,3909,3910,3911,3912,3913,3914,3915,3916,3917,3918,3919,3920,3921,3922,3923,3924,3925,3926,3927,3928,3929,3930,3931,3932,3933,3934,3935,3936,3937,3938,3939,3940,3941,3942,3943,3944,3945,3946,3947,3948,3949,3950,3951,3952,3953,3954 ../scripts/run_notebook_gpu.sh\n",
    "\n",
    "\n",
    "# ✓ cedar ✓\n",
    "export NOTEBOOK_PATH=\"$(realpath 31_run_alphafold.ipynb)\"\n",
    "export DATASET_NAME=\"cagi6-sherloc\"\n",
    "export DATASET_PATH=\"30_cagi6_sherloc/input-data-gby-protein.parquet\"\n",
    "export ORIGINAL_ARRAY_TASK_COUNT=4182\n",
    "\n",
    "sbatch --export DATASET_NAME,DATASET_PATH,NOTEBOOK_PATH,ORIGINAL_ARRAY_TASK_COUNT --time 24:00:00 --mem=44G --gres=gpu:v100l:1 --array=4001,4002,4003,4004,4005,4006,4007,4008,4009,4010,4011,4012,4013,4014,4015,4016,4017,4018,4019,4020,4021,4022,4023,4024,4025,4026,4027,4028,4029,4030,4031,4032,4033,4034,4035,4036,4037,4038,4039,4040,4041,4042,4043,4044,4045,4046,4047,4048,4049,4050,4051,4052,4053,4054,4055,4056,4057,4058,4059,4060,4061,4062,4063,4064,4065,4066,4067,4068,4069,4070,4071,4072,4073,4074,4075,4076,4077,4078,4079,4080,4081,4082,4083,4084,4085,4086,4087,4088,4089,4090,4091,4092,4093,4094,4095,4096,4097,4098,4099,4100,4101,4102,4103,4104,4105,4106,4107,4108,4109,4110,4111,4112,4113,4114,4115,4116,4117,4118,4119,4120,4121,4122,4123,4124,4125,4126,4127,4128,4129,4130,4131,4132,4133,4134,4135,4136,4137,4138,4139,4140,4141,4142,4143,4144,4145,4146,4147,4148,4149,4150,4151,4152,4153,4154,4155,4156,4157,4158,4159,4160,4161,4162,4163,4164,4165,4166,4167,4168,4169,4170,4171,4172,4173,4174,4175,4176,4177,4178,4179,4180,4181,4182 ../scripts/run_notebook_gpu.sh\n",
    "```\n",
    "\n",
    "\n",
    "### Round 2\n",
    "\n",
    "```bash\n",
    "# ✓ graham\n",
    "export NOTEBOOK_PATH=\"$(realpath 31_run_alphafold.ipynb)\"\n",
    "export DATASET_NAME=\"cagi6-sherloc\"\n",
    "export DATASET_PATH=\"30_cagi6_sherloc/input-data-gby-protein.parquet\"\n",
    "export ORIGINAL_ARRAY_TASK_COUNT=4182\n",
    "\n",
    "sbatch --export DATASET_NAME,DATASET_PATH,NOTEBOOK_PATH,ORIGINAL_ARRAY_TASK_COUNT --time 72:00:00 --mem=56G --gres=gpu:p100:1 --array=2047,2051,2054,2058,2059,2064,2068,2071,2072,2073,2074,2078,2079,2081,2083,2084,2085,2087,2089,2090,2091,2095,2100,2101,2102,2103,2105,2114,2118,2119,2123,2127,2128,2129,2130,2132,2133,2134,2135,2137,2138,2139,2143,2148,2150,2155,2160,2161,2162,2166,2181,2186,2188,2189,2191,2195,2205,2207,2215,2281,2283,2286,2297,2376,2386,2395,2405,2412,2414,2416,2418,2422,2423,2427,2428,2438,2439,2444,2445,2450,2451,2453,2454,2459,2460,2464,2465,2471,2472,2473,2474,2475,2476,2484,2485,2486,2493,2495,2496,2500,2502,2506,2507,2510,2511,2512,2515,2516,2523,2524,2526,2527,2532,2533,2543,2544,2548,2550,2556,2557,2570,2572,2575,2576,2588,2591,2602,2604,2605,2606,2607,2608,2609,2615,2616,2617,2625,2628,2630,2635,2636,2637,2642,2643,2644,2645,2654,2655,2659,2660,2661,2662,2663,2664,2665,2666,2667,2668,2669,2670,2671,2672,2673,2674,2675,2676,2677,2678,2679,2680,2681,2682,2683,2684,2685,2686,2687,2688,2689,2690,2691,2692,2693,2694,2695,2696,2697,2698,2699,2700 ../scripts/run_notebook_gpu.sh\n",
    "\n",
    "\n",
    "# ✓ cedar\n",
    "export NOTEBOOK_PATH=\"$(realpath 31_run_alphafold.ipynb)\"\n",
    "export DATASET_NAME=\"cagi6-sherloc\"\n",
    "export DATASET_PATH=\"30_cagi6_sherloc/input-data-gby-protein.parquet\"\n",
    "export ORIGINAL_ARRAY_TASK_COUNT=4182\n",
    "\n",
    "sbatch --job-name=alphafold-mut --export DATASET_NAME,DATASET_PATH,NOTEBOOK_PATH,ORIGINAL_ARRAY_TASK_COUNT --time 72:00:00 --mem=44G --gres=gpu:v100l:1 --array=3447,3448,3449,3450,3451,3452,3453,3454,3455,3456,3457,3458,3459,3460,3461,3462,3463,3464,3465,3466,3467,3468,3469,3470,3471,3472,3473,3474,3475,3476,3477,3478,3479,3480,3481,3482,3483,3484,3485,3486,3487,3488,3489,3490,3491,3492,3493,3494,3495,3496,3497,3498,3499,3500,3501,3502,3503,3504,3505,3506,3507,3508,3509,3510,3511,3512,3513,3514,3515,3516,3517,3518,3519,3520,3521,3522,3523,3524,3525,3526,3527,3528,3529,3530,3531,3532,3533,3534,3535,3536,3537,3538,3539,3540,3541,3542,3543,3544,3545,3546,3547,3548,3549,3550,3551,3552,3553,3554,3555,3556,3557,3558,3559,3560,3561,3562,3563,3564,3565,3566,3567,3568,3569,3570,3571,3572,3573,3574,3575,3576,3577,3578,3579,3580,3581,3582,3583,3584,3585,3586,3587,3588,3589,3590,3591,3592,3593,3594,3595,3596,3597,3598,3599,3600,3601,3602,3603,3604,3605,3606,3607,3608,3609,3610,3611,3612,3613,3614,3615,3616,3617,3618,3619,3620,3621,3622,3623,3624,3625,3626,3627,3628,3629,3630,3631,3632,3633,3634,3635,3636,3637,3638,3639,3640,3641,3642,3643,3644,3645,3646,3647,3648,3649,3650,3651,3652,3653,3654,3655,3656,3657,3658,3659,3660,3661,3662,3663,3664,3665,3666,3667,3668,3669,3670,3671,3672,3673,3674,3675,3676,3677,3678,3679,3680,3681,3682,3683,3684,3685,3686,3687,3688,3689,3690,3691,3692,3693,3694,3695,3696,3697,3698,3699,3700  ../scripts/run_notebook_gpu.sh\n",
    "\n",
    "\n",
    "# ✓ beluga\n",
    "export NOTEBOOK_PATH=\"$(realpath 31_run_alphafold.ipynb)\"\n",
    "export DATASET_NAME=\"cagi6-sherloc\"\n",
    "export DATASET_PATH=\"30_cagi6_sherloc/input-data-gby-protein.parquet\"\n",
    "export ORIGINAL_ARRAY_TASK_COUNT=4182\n",
    "\n",
    "sbatch --export DATASET_NAME,DATASET_PATH,NOTEBOOK_PATH,ORIGINAL_ARRAY_TASK_COUNT --time 72:00:00 --mem=44G --gres=gpu:v100:1 --array=3955,3956,3957,3958,3959,3960,3961,3962,3963,3964,3965,3966,3967,3968,3969,3970,3971,3972,3973,3974,3975,3976,3977,3978,3979,3980,3981,3982,3983,3984,3985,3986,3987,3988,3989,3990,3991,3992,3993,3994,3995,3996,3997,3998,3999,4000 ../scripts/run_notebook_gpu.sh\n",
    "```\n"
   ]
  },
  {
   "cell_type": "markdown",
   "id": "368a11e9-9f25-4fd0-99d7-25e23014e27e",
   "metadata": {},
   "source": [
    "## AlphaFold WT"
   ]
  },
  {
   "cell_type": "code",
   "execution_count": null,
   "id": "a4630e31-5614-4ef0-8789-9e90f5240c02",
   "metadata": {},
   "outputs": [],
   "source": [
    "pfile = pq.ParquetFile(DATASET_PATH)\n",
    "\n",
    "assert TASK_COUNT == pfile.num_row_groups"
   ]
  },
  {
   "cell_type": "code",
   "execution_count": null,
   "id": "fa48b6ed-7b18-4093-a5cd-5822aa82035f",
   "metadata": {},
   "outputs": [],
   "source": [
    "all_protein_ids = []\n",
    "available_protein_ids = []\n",
    "missing_protein_ids = []\n",
    "\n",
    "for task_id in tqdm(range(1, pfile.num_row_groups + 1)):\n",
    "    protein_id = (\n",
    "        pfile.read_row_group(task_id - 1, columns=[\"protein_id\"])\n",
    "        .to_pandas()[\"protein_id\"]\n",
    "        .item()\n",
    "    )\n",
    "    all_protein_ids.append(protein_id)\n",
    "\n",
    "    path1 = NOTEBOOK_DIR.parent.joinpath(\n",
    "        \"31_run_alphafold_wt\", DATASET_NAME, f\"{prefix}-{task_id}-of-{TASK_COUNT}.parquet\"\n",
    "    )\n",
    "    if path1.is_file():\n",
    "        available_protein_ids.append(protein_id)\n",
    "        continue\n",
    "        \n",
    "    path2 = NOTEBOOK_DIR.parent.joinpath(\n",
    "        \"31_run_alphafold\", DATASET_NAME, f\"{prefix}-{task_id}-of-{TASK_COUNT}.parquet\"\n",
    "    )\n",
    "    if path2.is_file():\n",
    "        continue\n",
    "    if protein_id in available_protein_ids:\n",
    "        continue\n",
    "    missing_protein_ids.append((task_id, protein_id))"
   ]
  },
  {
   "cell_type": "code",
   "execution_count": null,
   "id": "93d3e99e-ba20-4037-9617-c5a40eca6ca8",
   "metadata": {},
   "outputs": [],
   "source": [
    "len(all_protein_ids), len(available_protein_ids), len(missing_protein_ids)  # (4182, 973, 69)"
   ]
  },
  {
   "cell_type": "code",
   "execution_count": null,
   "id": "cf20cbd0-91fe-4806-9f3e-e0f9c1e42d37",
   "metadata": {},
   "outputs": [],
   "source": [
    "\",\".join([f\"{t[0]}\" for t in missing_protein_ids])"
   ]
  },
  {
   "cell_type": "markdown",
   "id": "ece08996-82cc-4c64-a69e-4c671502009e",
   "metadata": {},
   "source": [
    "#### Round 1\n",
    "\n",
    "```bash\n",
    "export NOTEBOOK_PATH=\"$(realpath 31_run_alphafold_wt.ipynb)\"\n",
    "export DATASET_NAME=\"cagi6-sherloc\"\n",
    "export DATASET_PATH=\"30_cagi6_sherloc/input-data-gby-protein.parquet\"\n",
    "export ORIGINAL_ARRAY_TASK_COUNT=4182\n",
    "\n",
    "sbatch --export DATASET_NAME,DATASET_PATH,NOTEBOOK_PATH,ORIGINAL_ARRAY_TASK_COUNT --time 3:00:00 --mem=44G --gres=gpu:t4:1 --array=3711,3712,3713,3714,3722,3740,3741,3742,3743,3775,3776,3786,3787,3788,3789,3790,3791,3801,3802,3803,3804,3805,3811,3812,3817,3844,3845,3846,3847,3852,3853,3857,3858,3859,3860,3861,3878,3879,3880,3881,3882,3883,3884,3885,3886,3887,3888,3889,3890,3891,3892,3893,3894,3895,3896,3897,3898,3903,3904,3905,3906,3907,3908,3909,3910,3911,3912,3913,3914,3915,3916,3917,3918,3919,3920,3921,3922,3923,3924,3925,3926,3927,3928,3929,3930,3931,3932,3933,3934,3935,3936,3937,3938,3939,3940,3941,3942,3943,3944,3945,3946,3947,3948,3949,3950,3951,3952,3953,3954,3955,3956,3957,3958,3959,3960,3961,3962,3963,3964,3965,3966,3967,3968,3969,3970,3971,3972,3973,3974,3975,3976,3977,3978,3979,3980,3981,3982,3983,3984,3985,3986,3987,3988,3989,3990,3991,3992,3993,3994,3995,3996,3997,3998,3999 ../scripts/run_notebook_gpu.sh\n",
    "\n",
    "\n",
    "export NOTEBOOK_PATH=\"$(realpath 31_run_alphafold_wt.ipynb)\"\n",
    "export DATASET_NAME=\"cagi6-sherloc\"\n",
    "export DATASET_PATH=\"30_cagi6_sherloc/input-data-gby-protein.parquet\"\n",
    "export ORIGINAL_ARRAY_TASK_COUNT=4182\n",
    "\n",
    "sbatch --export DATASET_NAME,DATASET_PATH,NOTEBOOK_PATH,ORIGINAL_ARRAY_TASK_COUNT --time 3:00:00 --mem=44G --gres=gpu:v100l:1 --array=4004,4005,4006,4009,4010,4011,4012,4013,4014,4015,4017,4018,4019,4020,4021,4022,4023,4024,4025,4026,4027,4028,4029,4030,4031,4032,4033,4034,4035,4036,4037,4038,4039,4042,4043,4044,4045,4046,4047,4048,4049,4050,4051,4052,4053,4054,4055,4056,4057,4058,4059,4060,4061,4062,4063,4064,4065,4066,4067,4068,4069,4070,4071,4072,4073,4074,4075,4076,4077,4078,4079,4080,4081,4082,4083,4084,4085,4086,4087,4088,4089,4090,4091,4092,4093,4094,4095,4096,4097,4098,4099,4100,4101,4102,4103,4104,4105,4106,4107,4108,4109,4110,4111,4112,4113,4114,4115,4116,4117,4118,4119,4120,4121,4122,4123,4124,4125,4126,4127,4128,4129,4130,4131,4132,4133,4134,4135,4136,4137,4138,4139,4140,4141,4142,4143,4144,4145,4146,4147,4148,4149,4150,4151,4152,4153,4154,4155,4156,4157,4158,4159,4160,4161,4162,4163,4164,4165,4166,4167,4168,4169,4170,4171,4172,4173,4174,4175,4176,4177,4178,4179,4180,4181,4182 ../scripts/run_notebook_gpu.sh\n",
    "```\n",
    "\n",
    "#### Round 2\n",
    "\n",
    "```bash\n",
    "# cedar\n",
    "export NOTEBOOK_PATH=\"$(realpath 31_run_alphafold_wt.ipynb)\"\n",
    "export DATASET_NAME=\"cagi6-sherloc\"\n",
    "export DATASET_PATH=\"30_cagi6_sherloc/input-data-gby-protein.parquet\"\n",
    "export ORIGINAL_ARRAY_TASK_COUNT=4182\n",
    "\n",
    "sbatch --job-name=alphafold-wt --export DATASET_NAME,DATASET_PATH,NOTEBOOK_PATH,ORIGINAL_ARRAY_TASK_COUNT --time 24:00:00 --mem=56G --gres=gpu:p100:1 --array=3740,3788,3789,3790,3791,3801,3802,3803,3804,3811,3844,3845,3846,3847,3852,3896,3903,3912,3913,3914,3915,3916,3917,3925,3935,3936,3937,3938,3939,3945,3949,3950,3951,3952,3954,3955,3956,3957,3958,3959,3960,3961,3962,3971,3972,3973,3981,3982,3983,3991,3992,3993,3994,3995,3996,3997,3998,3999,4073,4159,4160,4169,4170,4177,4181,4182 ../scripts/run_notebook_gpu.sh\n",
    "\n",
    "# beluga\n",
    "export NOTEBOOK_PATH=\"$(realpath 31_run_alphafold_wt.ipynb)\"\n",
    "export DATASET_NAME=\"cagi6-sherloc\"\n",
    "export DATASET_PATH=\"30_cagi6_sherloc/input-data-gby-protein.parquet\"\n",
    "export ORIGINAL_ARRAY_TASK_COUNT=4182\n",
    "\n",
    "sbatch --job-name=alphafold-wt --export DATASET_NAME,DATASET_PATH,NOTEBOOK_PATH,ORIGINAL_ARRAY_TASK_COUNT --time 24:00:00 --mem=44G --gres=gpu:v100:1 --array=3740,3788,3789,3790,3791,3801,3802,3803,3804,3811,3844,3845,3846,3847,3852,3896,3903,3912,3913,3914,3915,3916,3917,3925,3935,3936,3937,3938,3939 ../scripts/run_notebook_gpu.sh\n",
    "\n",
    "\n",
    "# graham\n",
    "export NOTEBOOK_PATH=\"$(realpath 31_run_alphafold_wt.ipynb)\"\n",
    "export DATASET_NAME=\"cagi6-sherloc\"\n",
    "export DATASET_PATH=\"30_cagi6_sherloc/input-data-gby-protein.parquet\"\n",
    "export ORIGINAL_ARRAY_TASK_COUNT=4182\n",
    "\n",
    "sbatch --job-name=alphafold-wt --export DATASET_NAME,DATASET_PATH,NOTEBOOK_PATH,ORIGINAL_ARRAY_TASK_COUNT --time 24:00:00 --mem=44G --gres=gpu:v100:1 --array=3945,3949,3950,3951,3952,3954,3955,3956,3957,3958,3959,3960,3961,3962,3971,3972,3973,3981,3982,3983,3991,3992,3993,3994,3995,3996,3997,3998,3999,4073,4159,4160,4169,4170,4177,4181,4182 ../scripts/run_notebook_gpu.sh\n",
    "\n",
    "\n",
    "# graham & eluga\n",
    "export NOTEBOOK_PATH=\"$(realpath 31_run_alphafold_wt.ipynb)\"\n",
    "export DATASET_NAME=\"cagi6-sherloc\"\n",
    "export DATASET_PATH=\"30_cagi6_sherloc/input-data-gby-protein.parquet\"\n",
    "export ORIGINAL_ARRAY_TASK_COUNT=4182\n",
    "\n",
    "sbatch --job-name=alphafold-wt --export DATASET_NAME,DATASET_PATH,NOTEBOOK_PATH,ORIGINAL_ARRAY_TASK_COUNT --time 24:00:00 --mem=44G --gres=gpu:v100:1 --array=3991,3992,3993,3994,3995,3996,3997,3998,3999,4073,4159,4160,4169,4170,4177,4181,4182 ../scripts/run_notebook_gpu.sh\n",
    "\n",
    "\n",
    "```"
   ]
  },
  {
   "cell_type": "markdown",
   "id": "79e24393-8248-4198-af0c-cf8eafcc967d",
   "metadata": {},
   "source": [
    "## Rosetta"
   ]
  },
  {
   "cell_type": "code",
   "execution_count": null,
   "id": "3d4d9af4-37ea-4894-ac4a-2e6c6579a3ab",
   "metadata": {},
   "outputs": [],
   "source": [
    "def read_rosetta_files(pfile):\n",
    "    result_dfs = []\n",
    "    for task_id in tqdm(range(1, pfile.num_row_groups + 1)):\n",
    "        row = (\n",
    "            pfile.read_row_group(\n",
    "                task_id - 1, columns=[\"protein_id\", \"mutation_id\", \"mutation\"]\n",
    "            )\n",
    "            .to_pandas()\n",
    "            .iloc[0]\n",
    "        )\n",
    "\n",
    "        input_df = pd.DataFrame(\n",
    "            {\n",
    "                \"protein_id\": [row[\"protein_id\"]] * len(row[\"mutation_id\"]),\n",
    "                \"mutation_id\": row[\"mutation_id\"],\n",
    "                \"mutation\": row[\"mutation\"],\n",
    "            }\n",
    "        )\n",
    "\n",
    "        path = NOTEBOOK_DIR.parent.joinpath(\n",
    "            \"31_run_rosetta_ddg\",\n",
    "            DATASET_NAME,\n",
    "            f\"shard-{task_id}-of-{TASK_COUNT}.parquet\",\n",
    "        )\n",
    "        try:\n",
    "            rosetta_df = pq.read_table(path).to_pandas()\n",
    "        except pa.ArrowInvalid:\n",
    "            print(f\"Unreadable file for {path}\")\n",
    "            continue\n",
    "\n",
    "        if rosetta_df.empty:\n",
    "            print(f\"Empty file for {path}\")\n",
    "            continue\n",
    "\n",
    "        del rosetta_df[\"protein_id\"]\n",
    "        del rosetta_df[\"mutation_id\"]\n",
    "\n",
    "        result_df = input_df.merge(rosetta_df, on=[\"mutation\"])\n",
    "        result_dfs.append(result_df)\n",
    "        \n",
    "        if len(result_df) < len(input_df):\n",
    "            print(task_id, len(input_df), len(result_df))\n",
    "\n",
    "    return pd.concat(result_dfs, ignore_index=True)"
   ]
  },
  {
   "cell_type": "code",
   "execution_count": null,
   "id": "9c0170f2-0231-4456-b2be-077b2fd4a91d",
   "metadata": {},
   "outputs": [],
   "source": [
    "result_ra_df = read_rosetta_files(pfile)"
   ]
  },
  {
   "cell_type": "code",
   "execution_count": null,
   "id": "b4514ecd-c030-4d71-a37b-dfddad18b659",
   "metadata": {},
   "outputs": [],
   "source": [
    "result_ra_df[\"rosetta_dg_change\"].isnull().sum()"
   ]
  },
  {
   "cell_type": "code",
   "execution_count": null,
   "id": "60be8171-9df4-493c-bdff-46d14d96b4ce",
   "metadata": {},
   "outputs": [],
   "source": [
    "len(result_ra_df)"
   ]
  },
  {
   "cell_type": "code",
   "execution_count": null,
   "id": "ff42719a-4942-471c-8072-a82a652b39af",
   "metadata": {},
   "outputs": [],
   "source": [
    "keys_1"
   ]
  },
  {
   "cell_type": "code",
   "execution_count": null,
   "id": "6f80bbdf-fe50-48bd-8e79-703c08692567",
   "metadata": {},
   "outputs": [],
   "source": [
    "df2"
   ]
  },
  {
   "cell_type": "code",
   "execution_count": null,
   "id": "f615110c-6639-4cf6-98df-41c129fdeaf4",
   "metadata": {},
   "outputs": [],
   "source": [
    "display(input_df.head(2))\n",
    "print(len(input_df))"
   ]
  }
 ],
 "metadata": {
  "kernelspec": {
   "display_name": "Python 3 (ipykernel)",
   "language": "python",
   "name": "python3"
  },
  "language_info": {
   "codemirror_mode": {
    "name": "ipython",
    "version": 3
   },
   "file_extension": ".py",
   "mimetype": "text/x-python",
   "name": "python",
   "nbconvert_exporter": "python",
   "pygments_lexer": "ipython3",
   "version": "3.9.7"
  }
 },
 "nbformat": 4,
 "nbformat_minor": 5
}
