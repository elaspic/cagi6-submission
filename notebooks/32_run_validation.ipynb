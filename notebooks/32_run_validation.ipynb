{
 "cells": [
  {
   "cell_type": "markdown",
   "id": "66b1f8b0-6e6d-407e-bc61-9a8320cfb8f3",
   "metadata": {},
   "source": [
    "## Summary\n",
    "\n",
    "---"
   ]
  },
  {
   "cell_type": "markdown",
   "id": "18592f30-068c-4280-8ebd-030fd77b4e00",
   "metadata": {},
   "source": [
    "## Imports"
   ]
  },
  {
   "cell_type": "code",
   "execution_count": null,
   "id": "9c5543e4-f6ba-46d6-b1bd-fcaba96c2654",
   "metadata": {},
   "outputs": [],
   "source": [
    "from pathlib import Path\n",
    "\n",
    "import pyarrow as pa\n",
    "import pyarrow.parquet as pq\n",
    "from tqdm.auto import tqdm"
   ]
  },
  {
   "cell_type": "markdown",
   "id": "0b411830-a521-403d-9529-5e9847c41a09",
   "metadata": {},
   "source": [
    "## Parameters"
   ]
  },
  {
   "cell_type": "code",
   "execution_count": null,
   "id": "d6d4bf20-3b53-45f7-b355-ea7c27606ca1",
   "metadata": {},
   "outputs": [],
   "source": [
    "NOTEBOOK_DIR = Path(\"31_run_protbert\").resolve()\n",
    "# NOTEBOOK_DIR.mkdir(exist_ok=True)\n",
    "\n",
    "NOTEBOOK_DIR"
   ]
  },
  {
   "cell_type": "code",
   "execution_count": null,
   "id": "de688342-5349-4fef-86a5-228ade2f0bff",
   "metadata": {},
   "outputs": [],
   "source": [
    "DATASET_NAME = \"cagi6-sherloc\"\n",
    "DATASET_PATH = str(\n",
    "    NOTEBOOK_DIR.parent.joinpath(\"30_cagi6_sherloc\", \"input-data-gby-protein.parquet\")\n",
    ")\n",
    "\n",
    "# MODEL_NOTEBOOK_NAME = \"31_run_proteinsolver\"\n",
    "# MODEL_NOTEBOOK_NAME = \"31_run_protbert\"\n",
    "MODEL_NOTEBOOK_NAME = \"31_run_alphafold\"\n",
    "# MODEL_NOTEBOOK_NAME = \"31_run_rosetta_ddg\"\n",
    "\n",
    "DATASET_NAME, DATASET_PATH, MODEL_NOTEBOOK_NAME"
   ]
  },
  {
   "cell_type": "code",
   "execution_count": null,
   "id": "1209f818-059d-4433-a5d9-507b7cebdab9",
   "metadata": {},
   "outputs": [],
   "source": [
    "TASK_COUNT = 4182\n",
    "\n",
    "TASK_COUNT"
   ]
  },
  {
   "cell_type": "markdown",
   "id": "3862ae82-bfe5-4082-840f-daf7e947f4dd",
   "metadata": {},
   "source": [
    "## Workspace"
   ]
  },
  {
   "cell_type": "code",
   "execution_count": null,
   "id": "f30b2090-8afc-463d-8891-81646b23aa86",
   "metadata": {},
   "outputs": [],
   "source": [
    "present_files = []\n",
    "missing_files = []\n",
    "for i in tqdm(range(1, TASK_COUNT + 1)):\n",
    "    path = NOTEBOOK_DIR.parent.joinpath(\n",
    "        MODEL_NOTEBOOK_NAME, DATASET_NAME, f\"shard-{i}-of-{TASK_COUNT}.parquet\"\n",
    "    )\n",
    "    if i == 1098:\n",
    "        print(path, path.is_file())\n",
    "    if path.is_file():\n",
    "        present_files.append((i, path))\n",
    "    else:\n",
    "        missing_files.append((i, path))"
   ]
  },
  {
   "cell_type": "code",
   "execution_count": null,
   "id": "57b7f731-f1fb-45af-bfcd-4b96c44c7b4f",
   "metadata": {},
   "outputs": [],
   "source": [
    "len(present_files), len(missing_files)"
   ]
  },
  {
   "cell_type": "markdown",
   "id": "d82f63db-5476-4cdc-9627-d802b117c2fd",
   "metadata": {},
   "source": [
    "| model | finished | running |\n",
    "| - | - | - |\n",
    "| proteinsolver | 4166 | 1 |\n",
    "| protbert | 3474 | 708 |\n",
    "| alphafold | 1346 | 2836 |\n",
    "| rosetta | 1608 | 2574 |"
   ]
  },
  {
   "cell_type": "code",
   "execution_count": null,
   "id": "bff7614e-e31a-41f5-8eca-1272f5370378",
   "metadata": {},
   "outputs": [],
   "source": []
  },
  {
   "cell_type": "code",
   "execution_count": null,
   "id": "da876953-a24f-4bac-80bc-e1cc18011273",
   "metadata": {},
   "outputs": [],
   "source": [
    "# \",\".join([str(m[0]) for m in missing_files])"
   ]
  },
  {
   "cell_type": "code",
   "execution_count": null,
   "id": "a4630e31-5614-4ef0-8789-9e90f5240c02",
   "metadata": {},
   "outputs": [],
   "source": [
    "pfile = pq.ParquetFile(DATASET_PATH)\n",
    "\n",
    "assert TASK_COUNT == pfile.num_row_groups"
   ]
  },
  {
   "cell_type": "code",
   "execution_count": null,
   "id": "ecccc11c-2f15-4665-b644-7f3aaaed8b82",
   "metadata": {},
   "outputs": [],
   "source": [
    "missing_uniprots = set()\n",
    "missing_files_for_wt = []\n",
    "\n",
    "for task_id, path in tqdm(missing_files):\n",
    "    uniprot_id = (\n",
    "        pfile.read_row_group(task_id - 1, columns=[\"protein_id\"])\n",
    "        .to_pandas()[\"protein_id\"]\n",
    "        .item()\n",
    "    )\n",
    "    if uniprot_id in missing_uniprots:\n",
    "        continue\n",
    "    missing_files_for_wt.append((task_id, path))\n",
    "    missing_uniprots.add(uniprot_id)"
   ]
  },
  {
   "cell_type": "code",
   "execution_count": null,
   "id": "e6bfa88a-3cfe-40fd-af02-f26f526e9dae",
   "metadata": {},
   "outputs": [],
   "source": [
    "len(missing_files_for_wt)"
   ]
  },
  {
   "cell_type": "code",
   "execution_count": null,
   "id": "299dc9d0-0ac4-46ca-94c8-ee8ee21e4f14",
   "metadata": {},
   "outputs": [],
   "source": []
  },
  {
   "cell_type": "code",
   "execution_count": null,
   "id": "cee244b9-578f-4675-83a2-65c629b594a0",
   "metadata": {},
   "outputs": [],
   "source": []
  },
  {
   "cell_type": "code",
   "execution_count": null,
   "id": "3d4d9af4-37ea-4894-ac4a-2e6c6579a3ab",
   "metadata": {},
   "outputs": [],
   "source": []
  },
  {
   "cell_type": "code",
   "execution_count": null,
   "id": "f615110c-6639-4cf6-98df-41c129fdeaf4",
   "metadata": {},
   "outputs": [],
   "source": [
    "display(input_df.head(2))\n",
    "print(len(input_df))"
   ]
  }
 ],
 "metadata": {
  "kernelspec": {
   "display_name": "Python 3 (ipykernel)",
   "language": "python",
   "name": "python3"
  },
  "language_info": {
   "codemirror_mode": {
    "name": "ipython",
    "version": 3
   },
   "file_extension": ".py",
   "mimetype": "text/x-python",
   "name": "python",
   "nbconvert_exporter": "python",
   "pygments_lexer": "ipython3",
   "version": "3.9.6"
  }
 },
 "nbformat": 4,
 "nbformat_minor": 5
}
